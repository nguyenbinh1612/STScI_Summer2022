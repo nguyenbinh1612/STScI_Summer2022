{
 "cells": [
  {
   "cell_type": "code",
   "execution_count": 3,
   "id": "9333201f",
   "metadata": {},
   "outputs": [],
   "source": [
    "import numpy as np\n",
    "import random"
   ]
  },
  {
   "cell_type": "code",
   "execution_count": 6,
   "id": "b51ba5db",
   "metadata": {},
   "outputs": [
    {
     "name": "stdout",
     "output_type": "stream",
     "text": [
      "[42, 46, 32, 46, 42, 44, 32, 49, 39, 43] [20, 17, 19, 18, 11, 19, 16, 14, 14, 16]\n",
      "[[42, 46, 32, 46, 42, 44, 32, 49, 39, 43], [20, 17, 19, 18, 11, 19, 16, 14, 14, 16]]\n"
     ]
    }
   ],
   "source": [
    "dog = []\n",
    "cat = []\n",
    "\n",
    "i = 0\n",
    "while i < 10:\n",
    "    dog.append(random.randint(30, 50))\n",
    "    cat.append(random.randint(10, 20))\n",
    "    i += 1\n",
    "    \n",
    "print(dog, cat)\n",
    "\n",
    "cow = []\n",
    "cow.append(dog)\n",
    "cow.append(cat)\n",
    "\n",
    "print(cow)"
   ]
  },
  {
   "cell_type": "code",
   "execution_count": 25,
   "id": "7c988c24",
   "metadata": {},
   "outputs": [],
   "source": [
    "elem = 42\n",
    "\n",
    "if elem in (item for sublist in cow for item in sublist) is False:\n",
    "    print(item)"
   ]
  },
  {
   "cell_type": "code",
   "execution_count": null,
   "id": "da7f011c",
   "metadata": {},
   "outputs": [],
   "source": []
  }
 ],
 "metadata": {
  "kernelspec": {
   "display_name": "Python 3 (ipykernel)",
   "language": "python",
   "name": "python3"
  },
  "language_info": {
   "codemirror_mode": {
    "name": "ipython",
    "version": 3
   },
   "file_extension": ".py",
   "mimetype": "text/x-python",
   "name": "python",
   "nbconvert_exporter": "python",
   "pygments_lexer": "ipython3",
   "version": "3.9.13"
  }
 },
 "nbformat": 4,
 "nbformat_minor": 5
}
