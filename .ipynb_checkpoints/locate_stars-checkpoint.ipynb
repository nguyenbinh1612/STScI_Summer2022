{
 "cells": [
  {
   "cell_type": "code",
   "execution_count": 1,
   "id": "19157e67",
   "metadata": {},
   "outputs": [],
   "source": [
    "import foggie.utils.foggie_load as fog\n",
    "import yt\n",
    "from yt.data_objects.particle_filters import add_particle_filter"
   ]
  },
  {
   "cell_type": "code",
   "execution_count": 9,
   "id": "8577ca8f",
   "metadata": {},
   "outputs": [
    {
     "name": "stdout",
     "output_type": "stream",
     "text": [
      "Opening snapshot /Users/bnguyen/Downloads/DD2427/DD2427.cpu*\n"
     ]
    },
    {
     "ename": "AttributeError",
     "evalue": "'DatasetSeries' object has no attribute 'get_parameter'",
     "output_type": "error",
     "traceback": [
      "\u001b[0;31m---------------------------------------------------------------------------\u001b[0m",
      "\u001b[0;31mAttributeError\u001b[0m                            Traceback (most recent call last)",
      "Input \u001b[0;32mIn [9]\u001b[0m, in \u001b[0;36m<cell line: 15>\u001b[0;34m()\u001b[0m\n\u001b[1;32m     11\u001b[0m     \u001b[38;5;28;01mreturn\u001b[39;00m data[(\u001b[38;5;124m\"\u001b[39m\u001b[38;5;124mall\u001b[39m\u001b[38;5;124m\"\u001b[39m, \u001b[38;5;124m\"\u001b[39m\u001b[38;5;124mparticle_type\u001b[39m\u001b[38;5;124m\"\u001b[39m)] \u001b[38;5;241m==\u001b[39m \u001b[38;5;241m2\u001b[39m \u001b[38;5;66;03m# only grab star particles\u001b[39;00m\n\u001b[1;32m     13\u001b[0m add_particle_filter(\u001b[38;5;124m\"\u001b[39m\u001b[38;5;124mstars\u001b[39m\u001b[38;5;124m\"\u001b[39m, function\u001b[38;5;241m=\u001b[39mStarParts, filtered_type\u001b[38;5;241m=\u001b[39m\u001b[38;5;124m'\u001b[39m\u001b[38;5;124mall\u001b[39m\u001b[38;5;124m'\u001b[39m, requires\u001b[38;5;241m=\u001b[39m[\u001b[38;5;124m\"\u001b[39m\u001b[38;5;124mparticle_type\u001b[39m\u001b[38;5;124m\"\u001b[39m])\n\u001b[0;32m---> 15\u001b[0m ds, region \u001b[38;5;241m=\u001b[39m \u001b[43mfog\u001b[49m\u001b[38;5;241;43m.\u001b[39;49m\u001b[43mfoggie_load\u001b[49m\u001b[43m(\u001b[49m\u001b[43msnap_name\u001b[49m\u001b[43m,\u001b[49m\u001b[43m \u001b[49m\u001b[43mtrackname\u001b[49m\u001b[43m,\u001b[49m\u001b[43m \u001b[49m\u001b[43mfind_halo_center\u001b[49m\u001b[38;5;241;43m=\u001b[39;49m\u001b[38;5;28;43;01mTrue\u001b[39;49;00m\u001b[43m,\u001b[49m\u001b[43m \u001b[49m\u001b[43mhalo_c_v_name\u001b[49m\u001b[38;5;241;43m=\u001b[39;49m\u001b[43mhalo_c_v_name\u001b[49m\u001b[43m,\u001b[49m\u001b[43m \u001b[49m\u001b[43mdisk_relative\u001b[49m\u001b[38;5;241;43m=\u001b[39;49m\u001b[38;5;28;43;01mFalse\u001b[39;49;00m\u001b[43m,\u001b[49m\u001b[43m \u001b[49m\u001b[43m\\\u001b[49m\n\u001b[1;32m     16\u001b[0m \u001b[43m                            \u001b[49m\u001b[43mparticle_type_for_angmom\u001b[49m\u001b[38;5;241;43m=\u001b[39;49m\u001b[38;5;124;43m'\u001b[39;49m\u001b[38;5;124;43myoung_stars\u001b[39;49m\u001b[38;5;124;43m'\u001b[39;49m\u001b[43m,\u001b[49m\u001b[43m \u001b[49m\u001b[43mdo_filter_particles\u001b[49m\u001b[38;5;241;43m=\u001b[39;49m\u001b[38;5;28;43;01mFalse\u001b[39;49;00m\u001b[43m,\u001b[49m\u001b[43m \u001b[49m\u001b[43mgravity\u001b[49m\u001b[38;5;241;43m=\u001b[39;49m\u001b[38;5;28;43;01mFalse\u001b[39;49;00m\u001b[43m,\u001b[49m\u001b[43m\\\u001b[49m\n\u001b[1;32m     17\u001b[0m \u001b[43m                            \u001b[49m\u001b[43mregion\u001b[49m\u001b[38;5;241;43m=\u001b[39;49m\u001b[38;5;124;43m'\u001b[39;49m\u001b[38;5;124;43mrefine_box\u001b[39;49m\u001b[38;5;124;43m'\u001b[39;49m\u001b[43m,\u001b[49m\u001b[43mmasses_dir\u001b[49m\u001b[38;5;241;43m=\u001b[39;49m\u001b[43mmasses_dir\u001b[49m\u001b[43m)\u001b[49m\n\u001b[1;32m     19\u001b[0m ds\u001b[38;5;241m.\u001b[39madd_particle_filter(\u001b[38;5;124m'\u001b[39m\u001b[38;5;124mstars\u001b[39m\u001b[38;5;124m'\u001b[39m)\n\u001b[1;32m     20\u001b[0m ads \u001b[38;5;241m=\u001b[39m ds\u001b[38;5;241m.\u001b[39mall_data()\n",
      "File \u001b[0;32m~/FOGGIE/foggie/utils/foggie_load.py:68\u001b[0m, in \u001b[0;36mfoggie_load\u001b[0;34m(snap, trackfile, **kwargs)\u001b[0m\n\u001b[1;32m     65\u001b[0m track\u001b[38;5;241m.\u001b[39msort(\u001b[38;5;124m'\u001b[39m\u001b[38;5;124mcol1\u001b[39m\u001b[38;5;124m'\u001b[39m)\n\u001b[1;32m     67\u001b[0m \u001b[38;5;66;03m# Get the refined box in physical units\u001b[39;00m\n\u001b[0;32m---> 68\u001b[0m zsnap \u001b[38;5;241m=\u001b[39m \u001b[43mds\u001b[49m\u001b[38;5;241;43m.\u001b[39;49m\u001b[43mget_parameter\u001b[49m(\u001b[38;5;124m'\u001b[39m\u001b[38;5;124mCosmologyCurrentRedshift\u001b[39m\u001b[38;5;124m'\u001b[39m)\n\u001b[1;32m     69\u001b[0m proper_box_size \u001b[38;5;241m=\u001b[39m get_proper_box_size(ds)\n\u001b[1;32m     70\u001b[0m refine_box, refine_box_center, refine_width_code \u001b[38;5;241m=\u001b[39m grb\u001b[38;5;241m.\u001b[39mget_refine_box(ds, zsnap, track)\n",
      "\u001b[0;31mAttributeError\u001b[0m: 'DatasetSeries' object has no attribute 'get_parameter'"
     ]
    }
   ],
   "source": [
    "halo = 'Tempest'\n",
    "hnum = '008508'\n",
    "\n",
    "# Mogget\n",
    "snap_name = '/Users/bnguyen/Downloads/DD2427/DD2427.cpu*'\n",
    "halo_c_v_name = '/Users/bnguyen/FOGGIE/foggie/halo_infos/'+hnum+'/nref11c_nref9f/halo_c_v'\n",
    "trackname = '/Users/bnguyen/FOGGIE/foggie/halo_tracks/'+hnum+'/nref11n_selfshield_15/halo_track_200kpc_nref9'\n",
    "masses_dir = '/Users/bnguyen/FOGGIE/foggie/halo_infos/'+hnum+'/nref11c_nref9f/'\n",
    "\n",
    "def StarParts(pfilter, data):\n",
    "    return data[(\"all\", \"particle_type\")] == 2 # only grab star particles\n",
    "\n",
    "add_particle_filter(\"stars\", function=StarParts, filtered_type='all', requires=[\"particle_type\"])\n",
    "    \n",
    "ds, region = fog.foggie_load(snap_name, trackname, find_halo_center=True, halo_c_v_name=halo_c_v_name, disk_relative=False, \\\n",
    "                            particle_type_for_angmom='young_stars', do_filter_particles=False, gravity=False,\\\n",
    "                            region='refine_box',masses_dir=masses_dir)\n",
    "                            \n",
    "ds.add_particle_filter('stars')\n",
    "ads = ds.all_data()\n",
    "\n",
    "print ('Star 1 is located at: ',ads['stars','particle_position'][0].in_units('kpc'))"
   ]
  },
  {
   "cell_type": "code",
   "execution_count": null,
   "id": "f8e0cc93",
   "metadata": {},
   "outputs": [],
   "source": []
  }
 ],
 "metadata": {
  "kernelspec": {
   "display_name": "Python 3 (ipykernel)",
   "language": "python",
   "name": "python3"
  },
  "language_info": {
   "codemirror_mode": {
    "name": "ipython",
    "version": 3
   },
   "file_extension": ".py",
   "mimetype": "text/x-python",
   "name": "python",
   "nbconvert_exporter": "python",
   "pygments_lexer": "ipython3",
   "version": "3.9.13"
  }
 },
 "nbformat": 4,
 "nbformat_minor": 5
}
