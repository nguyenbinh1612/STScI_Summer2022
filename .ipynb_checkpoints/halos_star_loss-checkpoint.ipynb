{
 "cells": [
  {
   "cell_type": "code",
   "execution_count": 1,
   "id": "21144156",
   "metadata": {},
   "outputs": [],
   "source": [
    "import h5py\n",
    "import tangos as db\n",
    "import numpy as np\n",
    "import matplotlib.pyplot as plt\n",
    "from mpl_toolkits.axes_grid1 import AxesGrid\n",
    "import random\n",
    "\n",
    "import foggie.utils.foggie_load as fog\n",
    "import yt\n",
    "from yt.units.yt_array import YTQuantity, YTArray\n",
    "from yt.data_objects.particle_filters import add_particle_filter\n",
    "\n",
    "import glob\n",
    "from tangos.examples.misc import timestep_index"
   ]
  },
  {
   "cell_type": "code",
   "execution_count": 2,
   "id": "64989f60",
   "metadata": {},
   "outputs": [
    {
     "data": {
      "text/plain": [
       "[<Simulation(\"Tempest.9f11c.all.DD\")>]"
      ]
     },
     "execution_count": 2,
     "metadata": {},
     "output_type": "execute_result"
    }
   ],
   "source": [
    "db.all_simulations()"
   ]
  },
  {
   "cell_type": "code",
   "execution_count": 3,
   "id": "ec9c64c7",
   "metadata": {},
   "outputs": [],
   "source": [
    "sim = db.get_simulation('Tempest.9f11c.all.DD')"
   ]
  },
  {
   "cell_type": "code",
   "execution_count": 4,
   "id": "55ec788b",
   "metadata": {},
   "outputs": [
    {
     "name": "stdout",
     "output_type": "stream",
     "text": [
      "[<Halo 'Tempest.9f11c.all.DD/DD2427/DD2427/halo_51' | NDM=182 Nstar=0 Ngas=0>]\n"
     ]
    }
   ],
   "source": [
    "all_sats = sim[-1][1].calculate('Satellites()')\n",
    "\n",
    "sats = np.array([], dtype='object')\n",
    "#starry_idx = np.array([51, 109], dtype='object')\n",
    "starry_idx = np.array([51], dtype='object')\n",
    "\n",
    "for i in range(np.size(all_sats)):\n",
    "    if all_sats[i].halo_number in starry_idx:\n",
    "        sats = np.append(sats, all_sats[i]) # this ensures we're only checking for the verified starry halos\n",
    "        \n",
    "print(sats)"
   ]
  },
  {
   "cell_type": "code",
   "execution_count": 224,
   "id": "f0ab36b2",
   "metadata": {},
   "outputs": [
    {
     "name": "stdout",
     "output_type": "stream",
     "text": [
      "[13.75931383 13.75655364 13.75117425 ...  0.95896446  0.95358506\n",
      "  0.9482052 ]\n",
      "Success!\n"
     ]
    }
   ],
   "source": [
    "\"\"\"\n",
    "First, we find all the properties of the progenitors \n",
    "for the star-forming surviving satellites.\n",
    "\"\"\"\n",
    "\n",
    "all_sat_cen = []\n",
    "all_sat_mvir = []\n",
    "all_sat_rvir = []\n",
    "all_sat_t = []\n",
    "\n",
    "for sat_idx in starry_idx:\n",
    "    if isinstance(sim[-1][sat_idx], type(None)) is False:\n",
    "        mvir, cen, rvir, t = sim[-1][sat_idx].calculate_for_progenitors('Mvir', 'Center', 'Rvir', 't()')\n",
    "\n",
    "        all_sat_cen.append(cen) # this compiles an array of all the progenitors' centers\n",
    "        all_sat_mvir.append(mvir) # this compiles an array of all the progenitors' virial masses\n",
    "        all_sat_rvir.append(rvir) # this compiles an array of all the progenitors' virial radii\n",
    "        all_sat_t.append(t)\n",
    "        print(t)\n",
    "\n",
    "all_sat_cen = np.array(all_sat_cen[0], dtype='object')\n",
    "all_sat_mvir = np.array(all_sat_mvir[0], dtype='object')\n",
    "all_sat_rvir = np.array(all_sat_rvir[0], dtype='object')\n",
    "all_sat_t = np.array(all_sat_t[0], dtype='object')\n",
    "\n",
    "print('Success!')"
   ]
  },
  {
   "cell_type": "code",
   "execution_count": 6,
   "id": "e6b744b3",
   "metadata": {},
   "outputs": [],
   "source": [
    "tslist = glob.glob('/Volumes/TempestTimeSteps/DD????/DD????') \n",
    "tslist.sort()"
   ]
  },
  {
   "cell_type": "code",
   "execution_count": 107,
   "id": "7e38ff90",
   "metadata": {},
   "outputs": [
    {
     "name": "stdout",
     "output_type": "stream",
     "text": [
      "[3 23 43 63 83 103 123 143 163 183 203 223 243 263 283 303 323 343 363 383\n",
      " 403 423 443 463 483 503 523 543 563 583 603 623 643 663 683 703 723 743\n",
      " 763 783 803 823 843 863 883 903 923 943 963 983 1003 1023 1043 1063 1083\n",
      " 1103 1123 1143 1163 1183 1203 1223 1243 1263 1266 1267 1268 1269 1270\n",
      " 1271 1272 1274 1275 1276 1283 1303 1323 1343 1363 1383 1403 1423 1443\n",
      " 1463 1483 1503 1523 1543 1563 1583 1603 1623 1643 1663 1683 1703 1723\n",
      " 1743 1763 1783 1803 1823 1843 1863 1883 1903 1923 1943 1963 1983 2003\n",
      " 2023 2043 2063 2083 2103 2123 2143 2163 2183 2203 2223 2243 2263 2283\n",
      " 2303 2323 2343 2363 2383]\n"
     ]
    }
   ],
   "source": [
    "all_time_idx = np.array([], dtype='object')\n",
    "\n",
    "for snap_name in tslist:\n",
    "    snapend = snap_name[-6:]\n",
    "    time_idx = timestep_index(sim, snapend)\n",
    "    all_time_idx = np.append(all_time_idx, time_idx)"
   ]
  },
  {
   "cell_type": "code",
   "execution_count": 8,
   "id": "b4ac9b8d",
   "metadata": {
    "scrolled": false
   },
   "outputs": [
    {
     "name": "stdout",
     "output_type": "stream",
     "text": [
      "There are 130 timesteps available in the star hard drive.\n"
     ]
    }
   ],
   "source": [
    "\"\"\"\n",
    "Now, we have to ensure that all the progenitors line up with the available \n",
    "timesteps in the star hard drive. To do that, we first have to convert \n",
    "all the time indices from the star hard drive to actual time in Gyr.\n",
    "\"\"\"\n",
    "\n",
    "available_timesteps = np.zeros(np.size(all_time_idx))\n",
    "i = 0\n",
    "while i < np.size(all_time_idx):\n",
    "    available_timesteps[i] = sim[all_time_idx[i]].time_gyr\n",
    "    i += 1\n",
    "    \n",
    "print('There are', np.size(available_timesteps), 'timesteps available in the star hard drive.')"
   ]
  },
  {
   "cell_type": "code",
   "execution_count": 9,
   "id": "9f5cb951",
   "metadata": {},
   "outputs": [
    {
     "name": "stdout",
     "output_type": "stream",
     "text": [
      "success!\n"
     ]
    }
   ],
   "source": [
    "all_centers = []\n",
    "all_rvirs = []\n",
    "all_available_snaps = []\n",
    "\n",
    "#for halo in range(np.size(starry_idx)):\n",
    "\n",
    "each_halo_available_centers = []\n",
    "each_halo_available_rvirs = []\n",
    "each_halo_available_snaps = []\n",
    "    \n",
    "# Now, we compare the times in the snapshots to the available timesteps \n",
    "# in order to see how many snapshots are available in the star hard drive.\n",
    "\n",
    "for time in available_timesteps:\n",
    "    center = all_sat_cen[all_sat_t == time]\n",
    "    rvir = all_sat_rvir[all_sat_t == time]\n",
    "        \n",
    "    if np.size(center) != 0 and np.size(rvir) != 0:\n",
    "        center = YTArray(center[0] * 1000, 'kpc')\n",
    "        rvir = YTQuantity(rvir[0], 'kpc')\n",
    "            \n",
    "        each_halo_available_centers.append(center)\n",
    "        each_halo_available_rvirs.append(rvir)\n",
    "        each_halo_available_snaps.append(all_snaps[available_timesteps == time][0])\n",
    "            \n",
    "each_halo_available_centers = np.array(each_halo_available_centers, dtype='object')\n",
    "each_halo_available_rvirs = np.array(each_halo_available_rvirs, dtype='object')\n",
    "each_halo_available_snaps = np.array(each_halo_available_snaps, dtype='object')\n",
    "        \n",
    "all_centers.append(each_halo_available_centers)\n",
    "all_rvirs.append(each_halo_available_rvirs)\n",
    "all_available_snaps.append(each_halo_available_snaps)\n",
    "    \n",
    "all_centers = np.array(all_centers[0], dtype='object')\n",
    "all_rvirs = np.array(all_rvirs[0], dtype='object')\n",
    "all_available_snaps = np.array(all_available_snaps[0], dtype='object')\n",
    "\n",
    "print('success!')"
   ]
  },
  {
   "cell_type": "code",
   "execution_count": 7,
   "id": "c66e2776",
   "metadata": {
    "scrolled": true
   },
   "outputs": [
    {
     "name": "stdout",
     "output_type": "stream",
     "text": [
      "Opening snapshot /Volumes/TempestTimeSteps/DD0047/DD0047\n"
     ]
    },
    {
     "name": "stderr",
     "output_type": "stream",
     "text": [
      "yt : [INFO     ] 2022-07-20 08:53:25,352 Parameters: current_time              = 44.816527818285\n",
      "yt : [INFO     ] 2022-07-20 08:53:25,356 Parameters: domain_dimensions         = [256 256 256]\n",
      "yt : [INFO     ] 2022-07-20 08:53:25,358 Parameters: domain_left_edge          = [0. 0. 0.]\n",
      "yt : [INFO     ] 2022-07-20 08:53:25,360 Parameters: domain_right_edge         = [1. 1. 1.]\n",
      "yt : [INFO     ] 2022-07-20 08:53:25,361 Parameters: cosmological_simulation   = 1\n",
      "yt : [INFO     ] 2022-07-20 08:53:25,362 Parameters: current_redshift          = 5.9180766004715\n",
      "yt : [INFO     ] 2022-07-20 08:53:25,363 Parameters: omega_lambda              = 0.715\n",
      "yt : [INFO     ] 2022-07-20 08:53:25,363 Parameters: omega_matter              = 0.285\n",
      "yt : [INFO     ] 2022-07-20 08:53:25,364 Parameters: omega_radiation           = 0.0\n",
      "yt : [INFO     ] 2022-07-20 08:53:25,364 Parameters: hubble_constant           = 0.695\n"
     ]
    },
    {
     "name": "stdout",
     "output_type": "stream",
     "text": [
      "get_refine_box: using this location:      col1       col2     col3     col4     col5     col6     col7   col8\n",
      "------------- -------- -------- -------- -------- -------- -------- ----\n",
      "5.91807660047 0.495372 0.494815 0.499965 0.497372 0.496815 0.501965    9\n"
     ]
    },
    {
     "name": "stderr",
     "output_type": "stream",
     "text": [
      "Parsing Hierarchy : 100%|█████████████████| 2486/2486 [00:00<00:00, 5994.96it/s]\n",
      "yt : [INFO     ] 2022-07-20 08:53:25,993 Gathering a field list (this may take a moment.)\n",
      "yt : [INFO     ] 2022-07-20 08:53:29,076 Parameters: current_time              = 49.816527818285\n",
      "yt : [INFO     ] 2022-07-20 08:53:29,079 Parameters: domain_dimensions         = [256 256 256]\n",
      "yt : [INFO     ] 2022-07-20 08:53:29,081 Parameters: domain_left_edge          = [0. 0. 0.]\n",
      "yt : [INFO     ] 2022-07-20 08:53:29,084 Parameters: domain_right_edge         = [1. 1. 1.]\n",
      "yt : [INFO     ] 2022-07-20 08:53:29,085 Parameters: cosmological_simulation   = 1\n",
      "yt : [INFO     ] 2022-07-20 08:53:29,085 Parameters: current_redshift          = 5.4457876966805\n",
      "yt : [INFO     ] 2022-07-20 08:53:29,086 Parameters: omega_lambda              = 0.715\n",
      "yt : [INFO     ] 2022-07-20 08:53:29,087 Parameters: omega_matter              = 0.285\n",
      "yt : [INFO     ] 2022-07-20 08:53:29,088 Parameters: omega_radiation           = 0.0\n",
      "yt : [INFO     ] 2022-07-20 08:53:29,088 Parameters: hubble_constant           = 0.695\n"
     ]
    },
    {
     "name": "stdout",
     "output_type": "stream",
     "text": [
      "Pulling halo center from catalog file\n",
      "Opening snapshot /Volumes/TempestTimeSteps/DD0067/DD0067\n",
      "get_refine_box: using this location:      col1       col2     col3     col4     col5     col6     col7   col8\n",
      "------------- -------- -------- -------- -------- -------- -------- ----\n",
      "5.44578769668 0.495286 0.494378 0.499998 0.497286 0.496378 0.501998    9\n"
     ]
    },
    {
     "name": "stderr",
     "output_type": "stream",
     "text": [
      "Parsing Hierarchy : 100%|█████████████████| 2552/2552 [00:00<00:00, 6348.21it/s]\n",
      "yt : [INFO     ] 2022-07-20 08:53:29,739 Gathering a field list (this may take a moment.)\n",
      "yt : [INFO     ] 2022-07-20 08:53:33,304 Parameters: current_time              = 54.816527818285\n"
     ]
    },
    {
     "name": "stdout",
     "output_type": "stream",
     "text": [
      "Pulling halo center from catalog file\n",
      "Opening snapshot /Volumes/TempestTimeSteps/DD0087/DD0087\n"
     ]
    },
    {
     "name": "stderr",
     "output_type": "stream",
     "text": [
      "yt : [INFO     ] 2022-07-20 08:53:33,308 Parameters: domain_dimensions         = [256 256 256]\n",
      "yt : [INFO     ] 2022-07-20 08:53:33,313 Parameters: domain_left_edge          = [0. 0. 0.]\n",
      "yt : [INFO     ] 2022-07-20 08:53:33,316 Parameters: domain_right_edge         = [1. 1. 1.]\n",
      "yt : [INFO     ] 2022-07-20 08:53:33,317 Parameters: cosmological_simulation   = 1\n",
      "yt : [INFO     ] 2022-07-20 08:53:33,318 Parameters: current_redshift          = 5.0462906237837\n",
      "yt : [INFO     ] 2022-07-20 08:53:33,319 Parameters: omega_lambda              = 0.715\n",
      "yt : [INFO     ] 2022-07-20 08:53:33,320 Parameters: omega_matter              = 0.285\n",
      "yt : [INFO     ] 2022-07-20 08:53:33,321 Parameters: omega_radiation           = 0.0\n",
      "yt : [INFO     ] 2022-07-20 08:53:33,322 Parameters: hubble_constant           = 0.695\n"
     ]
    },
    {
     "name": "stdout",
     "output_type": "stream",
     "text": [
      "get_refine_box: using this location:      col1       col2     col3     col4     col5     col6     col7   col8\n",
      "------------- -------- -------- -------- -------- -------- -------- ----\n",
      "5.04629062378 0.495184 0.493952 0.500023 0.497184 0.495952 0.502023    9\n"
     ]
    },
    {
     "name": "stderr",
     "output_type": "stream",
     "text": [
      "Parsing Hierarchy : 100%|█████████████████| 3377/3377 [00:00<00:00, 7188.15it/s]\n",
      "yt : [INFO     ] 2022-07-20 08:53:34,114 Gathering a field list (this may take a moment.)\n"
     ]
    },
    {
     "name": "stdout",
     "output_type": "stream",
     "text": [
      "Pulling halo center from catalog file\n",
      "Opening snapshot /Volumes/TempestTimeSteps/DD0107/DD0107\n"
     ]
    },
    {
     "name": "stderr",
     "output_type": "stream",
     "text": [
      "yt : [INFO     ] 2022-07-20 08:53:36,946 Parameters: current_time              = 59.816527818285\n",
      "yt : [INFO     ] 2022-07-20 08:53:36,948 Parameters: domain_dimensions         = [256 256 256]\n",
      "yt : [INFO     ] 2022-07-20 08:53:36,951 Parameters: domain_left_edge          = [0. 0. 0.]\n",
      "yt : [INFO     ] 2022-07-20 08:53:36,955 Parameters: domain_right_edge         = [1. 1. 1.]\n",
      "yt : [INFO     ] 2022-07-20 08:53:36,956 Parameters: cosmological_simulation   = 1\n",
      "yt : [INFO     ] 2022-07-20 08:53:36,957 Parameters: current_redshift          = 4.7031121100648\n",
      "yt : [INFO     ] 2022-07-20 08:53:36,958 Parameters: omega_lambda              = 0.715\n",
      "yt : [INFO     ] 2022-07-20 08:53:36,959 Parameters: omega_matter              = 0.285\n",
      "yt : [INFO     ] 2022-07-20 08:53:36,960 Parameters: omega_radiation           = 0.0\n",
      "yt : [INFO     ] 2022-07-20 08:53:36,961 Parameters: hubble_constant           = 0.695\n"
     ]
    },
    {
     "name": "stdout",
     "output_type": "stream",
     "text": [
      "get_refine_box: using this location:      col1       col2     col3     col4     col5     col6     col7   col8\n",
      "------------- -------- -------- -------- -------- -------- -------- ----\n",
      "4.70311211006 0.495072 0.493546 0.500035 0.497072 0.495546 0.502035    9\n"
     ]
    },
    {
     "name": "stderr",
     "output_type": "stream",
     "text": [
      "Parsing Hierarchy : 100%|█████████████████| 2935/2935 [00:00<00:00, 6295.46it/s]\n",
      "yt : [INFO     ] 2022-07-20 08:53:37,630 Gathering a field list (this may take a moment.)\n"
     ]
    },
    {
     "name": "stdout",
     "output_type": "stream",
     "text": [
      "Pulling halo center from catalog file\n",
      "Opening snapshot /Volumes/TempestTimeSteps/DD0127/DD0127\n"
     ]
    },
    {
     "name": "stderr",
     "output_type": "stream",
     "text": [
      "yt : [INFO     ] 2022-07-20 08:53:40,758 Parameters: current_time              = 64.816527818285\n",
      "yt : [INFO     ] 2022-07-20 08:53:40,762 Parameters: domain_dimensions         = [256 256 256]\n",
      "yt : [INFO     ] 2022-07-20 08:53:40,765 Parameters: domain_left_edge          = [0. 0. 0.]\n",
      "yt : [INFO     ] 2022-07-20 08:53:40,769 Parameters: domain_right_edge         = [1. 1. 1.]\n",
      "yt : [INFO     ] 2022-07-20 08:53:40,770 Parameters: cosmological_simulation   = 1\n",
      "yt : [INFO     ] 2022-07-20 08:53:40,770 Parameters: current_redshift          = 4.4045037292232\n",
      "yt : [INFO     ] 2022-07-20 08:53:40,771 Parameters: omega_lambda              = 0.715\n",
      "yt : [INFO     ] 2022-07-20 08:53:40,771 Parameters: omega_matter              = 0.285\n",
      "yt : [INFO     ] 2022-07-20 08:53:40,772 Parameters: omega_radiation           = 0.0\n",
      "yt : [INFO     ] 2022-07-20 08:53:40,772 Parameters: hubble_constant           = 0.695\n"
     ]
    },
    {
     "name": "stdout",
     "output_type": "stream",
     "text": [
      "get_refine_box: using this location:      col1       col2     col3     col4     col5     col6     col7   col8\n",
      "------------- -------- -------- -------- -------- -------- -------- ----\n",
      "4.40450372922 0.494955 0.493147 0.500046 0.496955 0.495147 0.502046    9\n"
     ]
    },
    {
     "name": "stderr",
     "output_type": "stream",
     "text": [
      "Parsing Hierarchy : 100%|█████████████████| 3485/3485 [00:00<00:00, 5138.49it/s]\n",
      "yt : [INFO     ] 2022-07-20 08:53:41,678 Gathering a field list (this may take a moment.)\n",
      "yt : [INFO     ] 2022-07-20 08:53:44,670 Parameters: current_time              = 69.816527818285\n",
      "yt : [INFO     ] 2022-07-20 08:53:44,672 Parameters: domain_dimensions         = [256 256 256]\n",
      "yt : [INFO     ] 2022-07-20 08:53:44,674 Parameters: domain_left_edge          = [0. 0. 0.]\n",
      "yt : [INFO     ] 2022-07-20 08:53:44,677 Parameters: domain_right_edge         = [1. 1. 1.]\n",
      "yt : [INFO     ] 2022-07-20 08:53:44,678 Parameters: cosmological_simulation   = 1\n",
      "yt : [INFO     ] 2022-07-20 08:53:44,678 Parameters: current_redshift          = 4.1418420875174\n",
      "yt : [INFO     ] 2022-07-20 08:53:44,679 Parameters: omega_lambda              = 0.715\n",
      "yt : [INFO     ] 2022-07-20 08:53:44,680 Parameters: omega_matter              = 0.285\n",
      "yt : [INFO     ] 2022-07-20 08:53:44,680 Parameters: omega_radiation           = 0.0\n",
      "yt : [INFO     ] 2022-07-20 08:53:44,681 Parameters: hubble_constant           = 0.695\n"
     ]
    },
    {
     "name": "stdout",
     "output_type": "stream",
     "text": [
      "Pulling halo center from catalog file\n",
      "Opening snapshot /Volumes/TempestTimeSteps/DD0147/DD0147\n",
      "get_refine_box: using this location:      col1       col2     col3     col4    col5     col6     col7  col8\n",
      "------------- -------- -------- ------- -------- -------- ------- ----\n",
      "4.14184208752 0.494868 0.492768 0.50004 0.496868 0.494768 0.50204    9\n"
     ]
    },
    {
     "name": "stderr",
     "output_type": "stream",
     "text": [
      "Parsing Hierarchy : 100%|█████████████████| 6292/6292 [00:00<00:00, 8754.28it/s]\n",
      "yt : [INFO     ] 2022-07-20 08:53:45,737 Gathering a field list (this may take a moment.)\n",
      "yt : [INFO     ] 2022-07-20 08:53:48,721 Parameters: current_time              = 74.816527818285\n",
      "yt : [INFO     ] 2022-07-20 08:53:48,723 Parameters: domain_dimensions         = [256 256 256]\n",
      "yt : [INFO     ] 2022-07-20 08:53:48,726 Parameters: domain_left_edge          = [0. 0. 0.]\n",
      "yt : [INFO     ] 2022-07-20 08:53:48,728 Parameters: domain_right_edge         = [1. 1. 1.]\n",
      "yt : [INFO     ] 2022-07-20 08:53:48,729 Parameters: cosmological_simulation   = 1\n",
      "yt : [INFO     ] 2022-07-20 08:53:48,730 Parameters: current_redshift          = 3.9086423517129\n",
      "yt : [INFO     ] 2022-07-20 08:53:48,730 Parameters: omega_lambda              = 0.715\n",
      "yt : [INFO     ] 2022-07-20 08:53:48,731 Parameters: omega_matter              = 0.285\n",
      "yt : [INFO     ] 2022-07-20 08:53:48,732 Parameters: omega_radiation           = 0.0\n",
      "yt : [INFO     ] 2022-07-20 08:53:48,732 Parameters: hubble_constant           = 0.695\n"
     ]
    },
    {
     "name": "stdout",
     "output_type": "stream",
     "text": [
      "Pulling halo center from catalog file\n",
      "Opening snapshot /Volumes/TempestTimeSteps/DD0167/DD0167\n",
      "get_refine_box: using this location:      col1       col2     col3     col4     col5     col6     col7   col8\n",
      "------------- -------- -------- -------- -------- -------- -------- ----\n",
      "3.90864235171 0.494765 0.492417 0.500025 0.496765 0.494417 0.502025    9\n"
     ]
    },
    {
     "name": "stderr",
     "output_type": "stream",
     "text": [
      "Parsing Hierarchy : 100%|█████████████████| 6349/6349 [00:00<00:00, 7244.58it/s]\n",
      "yt : [INFO     ] 2022-07-20 08:53:49,938 Gathering a field list (this may take a moment.)\n",
      "yt : [INFO     ] 2022-07-20 08:53:52,903 Parameters: current_time              = 79.816527818285\n",
      "yt : [INFO     ] 2022-07-20 08:53:52,905 Parameters: domain_dimensions         = [256 256 256]\n",
      "yt : [INFO     ] 2022-07-20 08:53:52,907 Parameters: domain_left_edge          = [0. 0. 0.]\n",
      "yt : [INFO     ] 2022-07-20 08:53:52,910 Parameters: domain_right_edge         = [1. 1. 1.]\n",
      "yt : [INFO     ] 2022-07-20 08:53:52,911 Parameters: cosmological_simulation   = 1\n",
      "yt : [INFO     ] 2022-07-20 08:53:52,911 Parameters: current_redshift          = 3.6999259804031\n",
      "yt : [INFO     ] 2022-07-20 08:53:52,911 Parameters: omega_lambda              = 0.715\n",
      "yt : [INFO     ] 2022-07-20 08:53:52,912 Parameters: omega_matter              = 0.285\n",
      "yt : [INFO     ] 2022-07-20 08:53:52,912 Parameters: omega_radiation           = 0.0\n",
      "yt : [INFO     ] 2022-07-20 08:53:52,913 Parameters: hubble_constant           = 0.695\n"
     ]
    },
    {
     "name": "stdout",
     "output_type": "stream",
     "text": [
      "Pulling halo center from catalog file\n",
      "Opening snapshot /Volumes/TempestTimeSteps/DD0187/DD0187\n",
      "get_refine_box: using this location:     col1       col2     col3     col4     col5     col6     col7   col8\n",
      "------------ -------- -------- -------- -------- -------- -------- ----\n",
      "3.6999259804 0.494633 0.492127 0.500014 0.496633 0.494127 0.502014    9\n"
     ]
    },
    {
     "name": "stderr",
     "output_type": "stream",
     "text": [
      "Parsing Hierarchy : 100%|████████████████| 6152/6152 [00:00<00:00, 16230.19it/s]\n",
      "yt : [INFO     ] 2022-07-20 08:53:53,627 Gathering a field list (this may take a moment.)\n",
      "yt : [INFO     ] 2022-07-20 08:53:57,157 Parameters: current_time              = 84.816527818285\n",
      "yt : [INFO     ] 2022-07-20 08:53:57,160 Parameters: domain_dimensions         = [256 256 256]\n",
      "yt : [INFO     ] 2022-07-20 08:53:57,162 Parameters: domain_left_edge          = [0. 0. 0.]\n",
      "yt : [INFO     ] 2022-07-20 08:53:57,165 Parameters: domain_right_edge         = [1. 1. 1.]\n",
      "yt : [INFO     ] 2022-07-20 08:53:57,166 Parameters: cosmological_simulation   = 1\n",
      "yt : [INFO     ] 2022-07-20 08:53:57,167 Parameters: current_redshift          = 3.5118019373691\n",
      "yt : [INFO     ] 2022-07-20 08:53:57,167 Parameters: omega_lambda              = 0.715\n",
      "yt : [INFO     ] 2022-07-20 08:53:57,168 Parameters: omega_matter              = 0.285\n",
      "yt : [INFO     ] 2022-07-20 08:53:57,168 Parameters: omega_radiation           = 0.0\n",
      "yt : [INFO     ] 2022-07-20 08:53:57,169 Parameters: hubble_constant           = 0.695\n"
     ]
    },
    {
     "name": "stdout",
     "output_type": "stream",
     "text": [
      "Pulling halo center from catalog file\n",
      "Opening snapshot /Volumes/TempestTimeSteps/DD0207/DD0207\n",
      "get_refine_box: using this location:      col1       col2     col3     col4     col5     col6     col7   col8\n",
      "------------- -------- -------- -------- -------- -------- -------- ----\n",
      "3.51180193737 0.494517 0.491822 0.500016 0.496517 0.493822 0.502016    9\n"
     ]
    },
    {
     "name": "stderr",
     "output_type": "stream",
     "text": [
      "Parsing Hierarchy : 100%|████████████████| 7873/7873 [00:00<00:00, 16257.93it/s]\n",
      "yt : [INFO     ] 2022-07-20 08:53:58,033 Gathering a field list (this may take a moment.)\n"
     ]
    },
    {
     "name": "stdout",
     "output_type": "stream",
     "text": [
      "Pulling halo center from catalog file\n",
      "Opening snapshot /Volumes/TempestTimeSteps/DD0227/DD0227\n"
     ]
    },
    {
     "name": "stderr",
     "output_type": "stream",
     "text": [
      "yt : [INFO     ] 2022-07-20 08:54:01,301 Parameters: current_time              = 89.816527818285\n",
      "yt : [INFO     ] 2022-07-20 08:54:01,304 Parameters: domain_dimensions         = [256 256 256]\n",
      "yt : [INFO     ] 2022-07-20 08:54:01,306 Parameters: domain_left_edge          = [0. 0. 0.]\n",
      "yt : [INFO     ] 2022-07-20 08:54:01,309 Parameters: domain_right_edge         = [1. 1. 1.]\n",
      "yt : [INFO     ] 2022-07-20 08:54:01,310 Parameters: cosmological_simulation   = 1\n",
      "yt : [INFO     ] 2022-07-20 08:54:01,311 Parameters: current_redshift          = 3.3411813479609\n",
      "yt : [INFO     ] 2022-07-20 08:54:01,312 Parameters: omega_lambda              = 0.715\n",
      "yt : [INFO     ] 2022-07-20 08:54:01,312 Parameters: omega_matter              = 0.285\n",
      "yt : [INFO     ] 2022-07-20 08:54:01,313 Parameters: omega_radiation           = 0.0\n",
      "yt : [INFO     ] 2022-07-20 08:54:01,314 Parameters: hubble_constant           = 0.695\n"
     ]
    },
    {
     "name": "stdout",
     "output_type": "stream",
     "text": [
      "get_refine_box: using this location:      col1       col2     col3     col4     col5     col6     col7   col8\n",
      "------------- -------- -------- -------- -------- -------- -------- ----\n",
      "3.34118134796 0.494362 0.491438 0.500094 0.496362 0.493438 0.502094    9\n"
     ]
    },
    {
     "name": "stderr",
     "output_type": "stream",
     "text": [
      "Parsing Hierarchy : 100%|███████████████| 10646/10646 [00:01<00:00, 8347.18it/s]\n",
      "yt : [INFO     ] 2022-07-20 08:54:02,969 Gathering a field list (this may take a moment.)\n",
      "yt : [INFO     ] 2022-07-20 08:54:06,041 Parameters: current_time              = 94.816527818285\n",
      "yt : [INFO     ] 2022-07-20 08:54:06,043 Parameters: domain_dimensions         = [256 256 256]\n",
      "yt : [INFO     ] 2022-07-20 08:54:06,046 Parameters: domain_left_edge          = [0. 0. 0.]\n",
      "yt : [INFO     ] 2022-07-20 08:54:06,048 Parameters: domain_right_edge         = [1. 1. 1.]\n",
      "yt : [INFO     ] 2022-07-20 08:54:06,049 Parameters: cosmological_simulation   = 1\n",
      "yt : [INFO     ] 2022-07-20 08:54:06,049 Parameters: current_redshift          = 3.1855782341013\n",
      "yt : [INFO     ] 2022-07-20 08:54:06,050 Parameters: omega_lambda              = 0.715\n",
      "yt : [INFO     ] 2022-07-20 08:54:06,050 Parameters: omega_matter              = 0.285\n",
      "yt : [INFO     ] 2022-07-20 08:54:06,051 Parameters: omega_radiation           = 0.0\n",
      "yt : [INFO     ] 2022-07-20 08:54:06,052 Parameters: hubble_constant           = 0.695\n"
     ]
    },
    {
     "name": "stdout",
     "output_type": "stream",
     "text": [
      "Pulling halo center from catalog file\n",
      "Opening snapshot /Volumes/TempestTimeSteps/DD0247/DD0247\n",
      "get_refine_box: using this location:     col1       col2     col3     col4     col5     col6     col7   col8\n",
      "------------ -------- -------- -------- -------- -------- -------- ----\n",
      "3.1855782341 0.494234 0.491145 0.500166 0.496234 0.493145 0.502166    9\n"
     ]
    },
    {
     "name": "stderr",
     "output_type": "stream",
     "text": [
      "Parsing Hierarchy : 100%|███████████████| 10738/10738 [00:01<00:00, 8068.99it/s]\n",
      "yt : [INFO     ] 2022-07-20 08:54:07,867 Gathering a field list (this may take a moment.)\n",
      "yt : [INFO     ] 2022-07-20 08:54:11,005 Parameters: current_time              = 99.816527818285\n",
      "yt : [INFO     ] 2022-07-20 08:54:11,008 Parameters: domain_dimensions         = [256 256 256]\n",
      "yt : [INFO     ] 2022-07-20 08:54:11,012 Parameters: domain_left_edge          = [0. 0. 0.]\n",
      "yt : [INFO     ] 2022-07-20 08:54:11,014 Parameters: domain_right_edge         = [1. 1. 1.]\n",
      "yt : [INFO     ] 2022-07-20 08:54:11,015 Parameters: cosmological_simulation   = 1\n",
      "yt : [INFO     ] 2022-07-20 08:54:11,016 Parameters: current_redshift          = 3.0429673207448\n",
      "yt : [INFO     ] 2022-07-20 08:54:11,016 Parameters: omega_lambda              = 0.715\n",
      "yt : [INFO     ] 2022-07-20 08:54:11,017 Parameters: omega_matter              = 0.285\n",
      "yt : [INFO     ] 2022-07-20 08:54:11,017 Parameters: omega_radiation           = 0.0\n",
      "yt : [INFO     ] 2022-07-20 08:54:11,018 Parameters: hubble_constant           = 0.695\n"
     ]
    },
    {
     "name": "stdout",
     "output_type": "stream",
     "text": [
      "Pulling halo center from catalog file\n",
      "Opening snapshot /Volumes/TempestTimeSteps/DD0267/DD0267\n",
      "get_refine_box: using this location:      col1       col2     col3     col4     col5     col6     col7   col8\n",
      "------------- -------- -------- -------- -------- -------- -------- ----\n",
      "3.04296732074 0.494074 0.490895 0.500235 0.496074 0.492895 0.502235    9\n"
     ]
    },
    {
     "name": "stderr",
     "output_type": "stream",
     "text": [
      "Parsing Hierarchy : 100%|████████████████| 8498/8498 [00:00<00:00, 17725.21it/s]\n",
      "yt : [INFO     ] 2022-07-20 08:54:11,894 Gathering a field list (this may take a moment.)\n"
     ]
    },
    {
     "name": "stdout",
     "output_type": "stream",
     "text": [
      "Pulling halo center from catalog file\n",
      "Opening snapshot /Volumes/TempestTimeSteps/DD0287/DD0287\n"
     ]
    },
    {
     "name": "stderr",
     "output_type": "stream",
     "text": [
      "yt : [INFO     ] 2022-07-20 08:54:15,301 Parameters: current_time              = 104.81652781829\n",
      "yt : [INFO     ] 2022-07-20 08:54:15,304 Parameters: domain_dimensions         = [256 256 256]\n",
      "yt : [INFO     ] 2022-07-20 08:54:15,306 Parameters: domain_left_edge          = [0. 0. 0.]\n",
      "yt : [INFO     ] 2022-07-20 08:54:15,309 Parameters: domain_right_edge         = [1. 1. 1.]\n",
      "yt : [INFO     ] 2022-07-20 08:54:15,310 Parameters: cosmological_simulation   = 1\n",
      "yt : [INFO     ] 2022-07-20 08:54:15,311 Parameters: current_redshift          = 2.9116806075987\n",
      "yt : [INFO     ] 2022-07-20 08:54:15,311 Parameters: omega_lambda              = 0.715\n",
      "yt : [INFO     ] 2022-07-20 08:54:15,312 Parameters: omega_matter              = 0.285\n",
      "yt : [INFO     ] 2022-07-20 08:54:15,313 Parameters: omega_radiation           = 0.0\n",
      "yt : [INFO     ] 2022-07-20 08:54:15,313 Parameters: hubble_constant           = 0.695\n"
     ]
    },
    {
     "name": "stdout",
     "output_type": "stream",
     "text": [
      "get_refine_box: using this location:     col1       col2     col3     col4     col5     col6     col7   col8\n",
      "------------ -------- -------- -------- -------- -------- -------- ----\n",
      "2.9116806076 0.493954 0.490721 0.500203 0.495954 0.492721 0.502203    9\n"
     ]
    },
    {
     "name": "stderr",
     "output_type": "stream",
     "text": [
      "Parsing Hierarchy : 100%|█████████████████| 7384/7384 [00:01<00:00, 5722.42it/s]\n",
      "yt : [INFO     ] 2022-07-20 08:54:16,925 Gathering a field list (this may take a moment.)\n"
     ]
    },
    {
     "name": "stdout",
     "output_type": "stream",
     "text": [
      "Pulling halo center from catalog file\n",
      "Opening snapshot /Volumes/TempestTimeSteps/DD0307/DD0307\n"
     ]
    },
    {
     "name": "stderr",
     "output_type": "stream",
     "text": [
      "yt : [INFO     ] 2022-07-20 08:54:20,021 Parameters: current_time              = 109.81652781829\n",
      "yt : [INFO     ] 2022-07-20 08:54:20,025 Parameters: domain_dimensions         = [256 256 256]\n",
      "yt : [INFO     ] 2022-07-20 08:54:20,028 Parameters: domain_left_edge          = [0. 0. 0.]\n",
      "yt : [INFO     ] 2022-07-20 08:54:20,031 Parameters: domain_right_edge         = [1. 1. 1.]\n",
      "yt : [INFO     ] 2022-07-20 08:54:20,032 Parameters: cosmological_simulation   = 1\n",
      "yt : [INFO     ] 2022-07-20 08:54:20,032 Parameters: current_redshift          = 2.790330842939\n",
      "yt : [INFO     ] 2022-07-20 08:54:20,033 Parameters: omega_lambda              = 0.715\n",
      "yt : [INFO     ] 2022-07-20 08:54:20,034 Parameters: omega_matter              = 0.285\n",
      "yt : [INFO     ] 2022-07-20 08:54:20,034 Parameters: omega_radiation           = 0.0\n",
      "yt : [INFO     ] 2022-07-20 08:54:20,035 Parameters: hubble_constant           = 0.695\n"
     ]
    },
    {
     "name": "stdout",
     "output_type": "stream",
     "text": [
      "get_refine_box: using this location:      col1       col2     col3     col4     col5     col6     col7   col8\n",
      "------------- -------- -------- -------- -------- -------- -------- ----\n",
      "2.79033084294 0.494017 0.490515 0.500182 0.496017 0.492515 0.502182    9\n"
     ]
    },
    {
     "name": "stderr",
     "output_type": "stream",
     "text": [
      "Parsing Hierarchy : 100%|████████████████| 7885/7885 [00:00<00:00, 17164.93it/s]\n",
      "yt : [INFO     ] 2022-07-20 08:54:20,808 Gathering a field list (this may take a moment.)\n"
     ]
    },
    {
     "name": "stdout",
     "output_type": "stream",
     "text": [
      "Pulling halo center from catalog file\n",
      "Opening snapshot /Volumes/TempestTimeSteps/DD0327/DD0327\n"
     ]
    },
    {
     "name": "stderr",
     "output_type": "stream",
     "text": [
      "yt : [INFO     ] 2022-07-20 08:54:24,187 Parameters: current_time              = 114.81652781829\n",
      "yt : [INFO     ] 2022-07-20 08:54:24,189 Parameters: domain_dimensions         = [256 256 256]\n",
      "yt : [INFO     ] 2022-07-20 08:54:24,192 Parameters: domain_left_edge          = [0. 0. 0.]\n",
      "yt : [INFO     ] 2022-07-20 08:54:24,195 Parameters: domain_right_edge         = [1. 1. 1.]\n",
      "yt : [INFO     ] 2022-07-20 08:54:24,195 Parameters: cosmological_simulation   = 1\n",
      "yt : [INFO     ] 2022-07-20 08:54:24,196 Parameters: current_redshift          = 2.6777540283045\n",
      "yt : [INFO     ] 2022-07-20 08:54:24,199 Parameters: omega_lambda              = 0.715\n",
      "yt : [INFO     ] 2022-07-20 08:54:24,200 Parameters: omega_matter              = 0.285\n",
      "yt : [INFO     ] 2022-07-20 08:54:24,200 Parameters: omega_radiation           = 0.0\n",
      "yt : [INFO     ] 2022-07-20 08:54:24,201 Parameters: hubble_constant           = 0.695\n"
     ]
    },
    {
     "name": "stdout",
     "output_type": "stream",
     "text": [
      "get_refine_box: using this location:     col1       col2     col3    col4     col5     col6    col7   col8\n",
      "------------ -------- ------- -------- -------- ------- -------- ----\n",
      "2.6777540283 0.493817 0.49021 0.500325 0.495817 0.49221 0.502325    9\n"
     ]
    },
    {
     "name": "stderr",
     "output_type": "stream",
     "text": [
      "Parsing Hierarchy : 100%|█████████████████| 8723/8723 [00:01<00:00, 6066.91it/s]\n",
      "yt : [INFO     ] 2022-07-20 08:54:25,994 Gathering a field list (this may take a moment.)\n",
      "yt : [INFO     ] 2022-07-20 08:54:29,047 Parameters: current_time              = 119.81652781829\n",
      "yt : [INFO     ] 2022-07-20 08:54:29,050 Parameters: domain_dimensions         = [256 256 256]\n",
      "yt : [INFO     ] 2022-07-20 08:54:29,053 Parameters: domain_left_edge          = [0. 0. 0.]\n",
      "yt : [INFO     ] 2022-07-20 08:54:29,056 Parameters: domain_right_edge         = [1. 1. 1.]\n",
      "yt : [INFO     ] 2022-07-20 08:54:29,057 Parameters: cosmological_simulation   = 1\n",
      "yt : [INFO     ] 2022-07-20 08:54:29,057 Parameters: current_redshift          = 2.5729656200897\n",
      "yt : [INFO     ] 2022-07-20 08:54:29,058 Parameters: omega_lambda              = 0.715\n",
      "yt : [INFO     ] 2022-07-20 08:54:29,058 Parameters: omega_matter              = 0.285\n",
      "yt : [INFO     ] 2022-07-20 08:54:29,058 Parameters: omega_radiation           = 0.0\n",
      "yt : [INFO     ] 2022-07-20 08:54:29,059 Parameters: hubble_constant           = 0.695\n"
     ]
    },
    {
     "name": "stdout",
     "output_type": "stream",
     "text": [
      "Pulling halo center from catalog file\n",
      "Opening snapshot /Volumes/TempestTimeSteps/DD0347/DD0347\n",
      "get_refine_box: using this location:      col1       col2    col3     col4    col5    col6     col7  col8\n",
      "------------- ------- -------- ------- ------- -------- ------- ----\n",
      "2.57296562009 0.49375 0.489943 0.50041 0.49575 0.491943 0.50241    9\n"
     ]
    },
    {
     "name": "stderr",
     "output_type": "stream",
     "text": [
      "Parsing Hierarchy : 100%|████████████████| 8372/8372 [00:00<00:00, 16982.47it/s]\n",
      "yt : [INFO     ] 2022-07-20 08:54:29,938 Gathering a field list (this may take a moment.)\n",
      "yt : [INFO     ] 2022-07-20 08:54:33,092 Parameters: current_time              = 124.81652781829\n",
      "yt : [INFO     ] 2022-07-20 08:54:33,095 Parameters: domain_dimensions         = [256 256 256]\n",
      "yt : [INFO     ] 2022-07-20 08:54:33,097 Parameters: domain_left_edge          = [0. 0. 0.]\n",
      "yt : [INFO     ] 2022-07-20 08:54:33,099 Parameters: domain_right_edge         = [1. 1. 1.]\n",
      "yt : [INFO     ] 2022-07-20 08:54:33,101 Parameters: cosmological_simulation   = 1\n",
      "yt : [INFO     ] 2022-07-20 08:54:33,101 Parameters: current_redshift          = 2.4751267440123\n",
      "yt : [INFO     ] 2022-07-20 08:54:33,102 Parameters: omega_lambda              = 0.715\n",
      "yt : [INFO     ] 2022-07-20 08:54:33,103 Parameters: omega_matter              = 0.285\n",
      "yt : [INFO     ] 2022-07-20 08:54:33,104 Parameters: omega_radiation           = 0.0\n",
      "yt : [INFO     ] 2022-07-20 08:54:33,104 Parameters: hubble_constant           = 0.695\n"
     ]
    },
    {
     "name": "stdout",
     "output_type": "stream",
     "text": [
      "Pulling halo center from catalog file\n",
      "Opening snapshot /Volumes/TempestTimeSteps/DD0367/DD0367\n",
      "get_refine_box: using this location:      col1       col2     col3     col4     col5     col6     col7   col8\n",
      "------------- -------- -------- -------- -------- -------- -------- ----\n",
      "2.47512674401 0.493607 0.489649 0.500506 0.495607 0.491649 0.502506    9\n"
     ]
    },
    {
     "name": "stderr",
     "output_type": "stream",
     "text": [
      "Parsing Hierarchy : 100%|████████████████| 8124/8124 [00:00<00:00, 16388.28it/s]\n",
      "yt : [INFO     ] 2022-07-20 08:54:33,987 Gathering a field list (this may take a moment.)\n",
      "yt : [INFO     ] 2022-07-20 08:54:37,107 Parameters: current_time              = 129.81652781829\n",
      "yt : [INFO     ] 2022-07-20 08:54:37,109 Parameters: domain_dimensions         = [256 256 256]\n",
      "yt : [INFO     ] 2022-07-20 08:54:37,112 Parameters: domain_left_edge          = [0. 0. 0.]\n",
      "yt : [INFO     ] 2022-07-20 08:54:37,115 Parameters: domain_right_edge         = [1. 1. 1.]\n",
      "yt : [INFO     ] 2022-07-20 08:54:37,116 Parameters: cosmological_simulation   = 1\n",
      "yt : [INFO     ] 2022-07-20 08:54:37,116 Parameters: current_redshift          = 2.3835178337957\n",
      "yt : [INFO     ] 2022-07-20 08:54:37,117 Parameters: omega_lambda              = 0.715\n",
      "yt : [INFO     ] 2022-07-20 08:54:37,118 Parameters: omega_matter              = 0.285\n",
      "yt : [INFO     ] 2022-07-20 08:54:37,118 Parameters: omega_radiation           = 0.0\n",
      "yt : [INFO     ] 2022-07-20 08:54:37,119 Parameters: hubble_constant           = 0.695\n"
     ]
    },
    {
     "name": "stdout",
     "output_type": "stream",
     "text": [
      "Pulling halo center from catalog file\n",
      "Opening snapshot /Volumes/TempestTimeSteps/DD0387/DD0387\n",
      "get_refine_box: using this location:     col1       col2     col3     col4     col5     col6     col7   col8\n",
      "------------ -------- -------- -------- -------- -------- -------- ----\n",
      "2.3835178338 0.493475 0.489323 0.500649 0.495475 0.491323 0.502649    9\n"
     ]
    },
    {
     "name": "stderr",
     "output_type": "stream",
     "text": [
      "Parsing Hierarchy : 100%|█████████████████| 9680/9680 [00:02<00:00, 4760.83it/s]\n",
      "yt : [INFO     ] 2022-07-20 08:54:39,583 Gathering a field list (this may take a moment.)\n",
      "yt : [INFO     ] 2022-07-20 08:54:42,441 Parameters: current_time              = 134.81652781829\n",
      "yt : [INFO     ] 2022-07-20 08:54:42,443 Parameters: domain_dimensions         = [256 256 256]\n",
      "yt : [INFO     ] 2022-07-20 08:54:42,446 Parameters: domain_left_edge          = [0. 0. 0.]\n",
      "yt : [INFO     ] 2022-07-20 08:54:42,449 Parameters: domain_right_edge         = [1. 1. 1.]\n",
      "yt : [INFO     ] 2022-07-20 08:54:42,449 Parameters: cosmological_simulation   = 1\n",
      "yt : [INFO     ] 2022-07-20 08:54:42,450 Parameters: current_redshift          = 2.2975178463403\n",
      "yt : [INFO     ] 2022-07-20 08:54:42,451 Parameters: omega_lambda              = 0.715\n",
      "yt : [INFO     ] 2022-07-20 08:54:42,452 Parameters: omega_matter              = 0.285\n",
      "yt : [INFO     ] 2022-07-20 08:54:42,452 Parameters: omega_radiation           = 0.0\n",
      "yt : [INFO     ] 2022-07-20 08:54:42,453 Parameters: hubble_constant           = 0.695\n"
     ]
    },
    {
     "name": "stdout",
     "output_type": "stream",
     "text": [
      "Pulling halo center from catalog file\n",
      "Opening snapshot /Volumes/TempestTimeSteps/DD0407/DD0407\n",
      "get_refine_box: using this location:      col1       col2     col3     col4     col5     col6     col7   col8\n",
      "------------- -------- -------- -------- -------- -------- -------- ----\n",
      "2.29751784634 0.493403 0.489031 0.500769 0.495403 0.491031 0.502769    9\n"
     ]
    },
    {
     "name": "stderr",
     "output_type": "stream",
     "text": [
      "Parsing Hierarchy : 100%|████████████████| 8668/8668 [00:00<00:00, 18752.00it/s]\n",
      "yt : [INFO     ] 2022-07-20 08:54:43,309 Gathering a field list (this may take a moment.)\n"
     ]
    },
    {
     "name": "stdout",
     "output_type": "stream",
     "text": [
      "Pulling halo center from catalog file\n",
      "Opening snapshot /Volumes/TempestTimeSteps/DD0427/DD0427\n"
     ]
    },
    {
     "name": "stderr",
     "output_type": "stream",
     "text": [
      "yt : [INFO     ] 2022-07-20 08:54:46,472 Parameters: current_time              = 139.81652781829\n",
      "yt : [INFO     ] 2022-07-20 08:54:46,475 Parameters: domain_dimensions         = [256 256 256]\n",
      "yt : [INFO     ] 2022-07-20 08:54:46,478 Parameters: domain_left_edge          = [0. 0. 0.]\n",
      "yt : [INFO     ] 2022-07-20 08:54:46,481 Parameters: domain_right_edge         = [1. 1. 1.]\n",
      "yt : [INFO     ] 2022-07-20 08:54:46,481 Parameters: cosmological_simulation   = 1\n",
      "yt : [INFO     ] 2022-07-20 08:54:46,482 Parameters: current_redshift          = 2.2165877154761\n",
      "yt : [INFO     ] 2022-07-20 08:54:46,482 Parameters: omega_lambda              = 0.715\n",
      "yt : [INFO     ] 2022-07-20 08:54:46,483 Parameters: omega_matter              = 0.285\n",
      "yt : [INFO     ] 2022-07-20 08:54:46,484 Parameters: omega_radiation           = 0.0\n",
      "yt : [INFO     ] 2022-07-20 08:54:46,484 Parameters: hubble_constant           = 0.695\n"
     ]
    },
    {
     "name": "stdout",
     "output_type": "stream",
     "text": [
      "get_refine_box: using this location:      col1       col2     col3     col4     col5     col6     col7   col8\n",
      "------------- -------- -------- -------- -------- -------- -------- ----\n",
      "2.21658771548 0.493304 0.488734 0.500885 0.495304 0.490734 0.502885    9\n"
     ]
    },
    {
     "name": "stderr",
     "output_type": "stream",
     "text": [
      "Parsing Hierarchy : 100%|████████████████| 8504/8504 [00:00<00:00, 18460.26it/s]\n",
      "yt : [INFO     ] 2022-07-20 08:54:47,262 Gathering a field list (this may take a moment.)\n",
      "yt : [INFO     ] 2022-07-20 08:54:50,020 Parameters: current_time              = 144.81652781829\n",
      "yt : [INFO     ] 2022-07-20 08:54:50,023 Parameters: domain_dimensions         = [256 256 256]\n",
      "yt : [INFO     ] 2022-07-20 08:54:50,026 Parameters: domain_left_edge          = [0. 0. 0.]\n",
      "yt : [INFO     ] 2022-07-20 08:54:50,035 Parameters: domain_right_edge         = [1. 1. 1.]\n",
      "yt : [INFO     ] 2022-07-20 08:54:50,036 Parameters: cosmological_simulation   = 1\n",
      "yt : [INFO     ] 2022-07-20 08:54:50,037 Parameters: current_redshift          = 2.1402570627129\n",
      "yt : [INFO     ] 2022-07-20 08:54:50,038 Parameters: omega_lambda              = 0.715\n",
      "yt : [INFO     ] 2022-07-20 08:54:50,039 Parameters: omega_matter              = 0.285\n",
      "yt : [INFO     ] 2022-07-20 08:54:50,040 Parameters: omega_radiation           = 0.0\n",
      "yt : [INFO     ] 2022-07-20 08:54:50,040 Parameters: hubble_constant           = 0.695\n"
     ]
    },
    {
     "name": "stdout",
     "output_type": "stream",
     "text": [
      "Pulling halo center from catalog file\n",
      "Opening snapshot /Volumes/TempestTimeSteps/DD0447/DD0447\n",
      "get_refine_box: using this location:      col1       col2     col3     col4     col5     col6     col7   col8\n",
      "------------- -------- -------- -------- -------- -------- -------- ----\n",
      "2.14025706271 0.493216 0.488457 0.500981 0.495216 0.490457 0.502981    9\n"
     ]
    },
    {
     "name": "stderr",
     "output_type": "stream",
     "text": [
      "Parsing Hierarchy : 100%|█████████████████| 8981/8981 [00:01<00:00, 4897.44it/s]\n",
      "yt : [INFO     ] 2022-07-20 08:54:52,286 Gathering a field list (this may take a moment.)\n",
      "yt : [INFO     ] 2022-07-20 08:54:55,256 Parameters: current_time              = 149.81652781829\n",
      "yt : [INFO     ] 2022-07-20 08:54:55,258 Parameters: domain_dimensions         = [256 256 256]\n",
      "yt : [INFO     ] 2022-07-20 08:54:55,261 Parameters: domain_left_edge          = [0. 0. 0.]\n",
      "yt : [INFO     ] 2022-07-20 08:54:55,263 Parameters: domain_right_edge         = [1. 1. 1.]\n",
      "yt : [INFO     ] 2022-07-20 08:54:55,264 Parameters: cosmological_simulation   = 1\n",
      "yt : [INFO     ] 2022-07-20 08:54:55,265 Parameters: current_redshift          = 2.0681134360516\n",
      "yt : [INFO     ] 2022-07-20 08:54:55,265 Parameters: omega_lambda              = 0.715\n",
      "yt : [INFO     ] 2022-07-20 08:54:55,266 Parameters: omega_matter              = 0.285\n",
      "yt : [INFO     ] 2022-07-20 08:54:55,267 Parameters: omega_radiation           = 0.0\n",
      "yt : [INFO     ] 2022-07-20 08:54:55,267 Parameters: hubble_constant           = 0.695\n"
     ]
    },
    {
     "name": "stdout",
     "output_type": "stream",
     "text": [
      "Pulling halo center from catalog file\n",
      "Opening snapshot /Volumes/TempestTimeSteps/DD0467/DD0467\n",
      "get_refine_box: using this location:      col1       col2     col3     col4    col5     col6     col7  col8\n",
      "------------- -------- -------- ------- -------- -------- ------- ----\n",
      "2.06811343605 0.493124 0.488177 0.50108 0.495124 0.490177 0.50308    9\n"
     ]
    },
    {
     "name": "stderr",
     "output_type": "stream",
     "text": [
      "Parsing Hierarchy : 100%|████████████████| 8955/8955 [00:00<00:00, 18307.27it/s]\n",
      "yt : [INFO     ] 2022-07-20 08:54:56,160 Gathering a field list (this may take a moment.)\n",
      "yt : [INFO     ] 2022-07-20 08:54:59,054 Parameters: current_time              = 154.8165043678\n",
      "yt : [INFO     ] 2022-07-20 08:54:59,056 Parameters: domain_dimensions         = [256 256 256]\n",
      "yt : [INFO     ] 2022-07-20 08:54:59,060 Parameters: domain_left_edge          = [0. 0. 0.]\n",
      "yt : [INFO     ] 2022-07-20 08:54:59,062 Parameters: domain_right_edge         = [1. 1. 1.]\n",
      "yt : [INFO     ] 2022-07-20 08:54:59,063 Parameters: cosmological_simulation   = 1\n",
      "yt : [INFO     ] 2022-07-20 08:54:59,064 Parameters: current_redshift          = 1.9997938414155\n",
      "yt : [INFO     ] 2022-07-20 08:54:59,065 Parameters: omega_lambda              = 0.715\n",
      "yt : [INFO     ] 2022-07-20 08:54:59,066 Parameters: omega_matter              = 0.285\n",
      "yt : [INFO     ] 2022-07-20 08:54:59,068 Parameters: omega_radiation           = 0.0\n",
      "yt : [INFO     ] 2022-07-20 08:54:59,069 Parameters: hubble_constant           = 0.695\n"
     ]
    },
    {
     "name": "stdout",
     "output_type": "stream",
     "text": [
      "Pulling halo center from catalog file\n",
      "Opening snapshot /Volumes/TempestTimeSteps/DD0487/DD0487\n",
      "get_refine_box: using this location:      col1       col2     col3     col4     col5     col6     col7   col8\n",
      "------------- -------- -------- -------- -------- -------- -------- ----\n",
      "1.99979384142 0.493035 0.487894 0.501194 0.495035 0.489894 0.503194    9\n"
     ]
    },
    {
     "name": "stderr",
     "output_type": "stream",
     "text": [
      "Parsing Hierarchy : 100%|████████████████| 7623/7623 [00:00<00:00, 18646.13it/s]\n",
      "yt : [INFO     ] 2022-07-20 08:54:59,832 Gathering a field list (this may take a moment.)\n",
      "yt : [INFO     ] 2022-07-20 08:55:02,861 Parameters: current_time              = 159.81652781829\n",
      "yt : [INFO     ] 2022-07-20 08:55:02,863 Parameters: domain_dimensions         = [256 256 256]\n",
      "yt : [INFO     ] 2022-07-20 08:55:02,865 Parameters: domain_left_edge          = [0. 0. 0.]\n",
      "yt : [INFO     ] 2022-07-20 08:55:02,868 Parameters: domain_right_edge         = [1. 1. 1.]\n",
      "yt : [INFO     ] 2022-07-20 08:55:02,868 Parameters: cosmological_simulation   = 1\n",
      "yt : [INFO     ] 2022-07-20 08:55:02,869 Parameters: current_redshift          = 1.9349759674732\n",
      "yt : [INFO     ] 2022-07-20 08:55:02,870 Parameters: omega_lambda              = 0.715\n",
      "yt : [INFO     ] 2022-07-20 08:55:02,871 Parameters: omega_matter              = 0.285\n",
      "yt : [INFO     ] 2022-07-20 08:55:02,871 Parameters: omega_radiation           = 0.0\n",
      "yt : [INFO     ] 2022-07-20 08:55:02,872 Parameters: hubble_constant           = 0.695\n"
     ]
    },
    {
     "name": "stdout",
     "output_type": "stream",
     "text": [
      "Pulling halo center from catalog file\n",
      "Opening snapshot /Volumes/TempestTimeSteps/DD0507/DD0507\n",
      "get_refine_box: using this location:      col1       col2     col3     col4     col5     col6     col7   col8\n",
      "------------- -------- -------- -------- -------- -------- -------- ----\n",
      "1.93497596747 0.492941 0.487618 0.501303 0.494941 0.489618 0.503303    9\n"
     ]
    },
    {
     "name": "stderr",
     "output_type": "stream",
     "text": [
      "Parsing Hierarchy : 100%|████████████████| 6466/6466 [00:00<00:00, 18277.25it/s]\n",
      "yt : [INFO     ] 2022-07-20 08:55:03,551 Gathering a field list (this may take a moment.)\n",
      "yt : [INFO     ] 2022-07-20 08:55:06,612 Parameters: current_time              = 164.81652781829\n",
      "yt : [INFO     ] 2022-07-20 08:55:06,614 Parameters: domain_dimensions         = [256 256 256]\n",
      "yt : [INFO     ] 2022-07-20 08:55:06,616 Parameters: domain_left_edge          = [0. 0. 0.]\n",
      "yt : [INFO     ] 2022-07-20 08:55:06,619 Parameters: domain_right_edge         = [1. 1. 1.]\n",
      "yt : [INFO     ] 2022-07-20 08:55:06,620 Parameters: cosmological_simulation   = 1\n",
      "yt : [INFO     ] 2022-07-20 08:55:06,620 Parameters: current_redshift          = 1.8733753371252\n",
      "yt : [INFO     ] 2022-07-20 08:55:06,621 Parameters: omega_lambda              = 0.715\n",
      "yt : [INFO     ] 2022-07-20 08:55:06,622 Parameters: omega_matter              = 0.285\n",
      "yt : [INFO     ] 2022-07-20 08:55:06,623 Parameters: omega_radiation           = 0.0\n",
      "yt : [INFO     ] 2022-07-20 08:55:06,624 Parameters: hubble_constant           = 0.695\n"
     ]
    },
    {
     "name": "stdout",
     "output_type": "stream",
     "text": [
      "Pulling halo center from catalog file\n",
      "Opening snapshot /Volumes/TempestTimeSteps/DD0527/DD0527\n",
      "get_refine_box: using this location:      col1       col2     col3     col4     col5     col6     col7   col8\n",
      "------------- -------- -------- -------- -------- -------- -------- ----\n",
      "1.87337533713 0.492848 0.487347 0.501397 0.494848 0.489347 0.503397    9\n"
     ]
    },
    {
     "name": "stderr",
     "output_type": "stream",
     "text": [
      "Parsing Hierarchy : 100%|█████████████████| 6005/6005 [00:01<00:00, 3084.68it/s]\n",
      "yt : [INFO     ] 2022-07-20 08:55:08,825 Gathering a field list (this may take a moment.)\n",
      "yt : [INFO     ] 2022-07-20 08:55:11,865 Parameters: current_time              = 169.81652781829\n",
      "yt : [INFO     ] 2022-07-20 08:55:11,869 Parameters: domain_dimensions         = [256 256 256]\n",
      "yt : [INFO     ] 2022-07-20 08:55:11,872 Parameters: domain_left_edge          = [0. 0. 0.]\n",
      "yt : [INFO     ] 2022-07-20 08:55:11,874 Parameters: domain_right_edge         = [1. 1. 1.]\n",
      "yt : [INFO     ] 2022-07-20 08:55:11,875 Parameters: cosmological_simulation   = 1\n",
      "yt : [INFO     ] 2022-07-20 08:55:11,876 Parameters: current_redshift          = 1.8147372203944\n",
      "yt : [INFO     ] 2022-07-20 08:55:11,877 Parameters: omega_lambda              = 0.715\n",
      "yt : [INFO     ] 2022-07-20 08:55:11,877 Parameters: omega_matter              = 0.285\n",
      "yt : [INFO     ] 2022-07-20 08:55:11,878 Parameters: omega_radiation           = 0.0\n",
      "yt : [INFO     ] 2022-07-20 08:55:11,879 Parameters: hubble_constant           = 0.695\n"
     ]
    },
    {
     "name": "stdout",
     "output_type": "stream",
     "text": [
      "Pulling halo center from catalog file\n",
      "Opening snapshot /Volumes/TempestTimeSteps/DD0547/DD0547\n",
      "get_refine_box: using this location:      col1       col2     col3    col4     col5     col6    col7   col8\n",
      "------------- -------- ------- -------- -------- ------- -------- ----\n",
      "1.81473722039 0.492754 0.48709 0.501477 0.494754 0.48909 0.503477    9\n"
     ]
    },
    {
     "name": "stderr",
     "output_type": "stream",
     "text": [
      "Parsing Hierarchy : 100%|████████████████| 6241/6241 [00:00<00:00, 17882.21it/s]\n",
      "yt : [INFO     ] 2022-07-20 08:55:12,538 Gathering a field list (this may take a moment.)\n",
      "yt : [INFO     ] 2022-07-20 08:55:15,590 Parameters: current_time              = 174.81652781829\n",
      "yt : [INFO     ] 2022-07-20 08:55:15,592 Parameters: domain_dimensions         = [256 256 256]\n",
      "yt : [INFO     ] 2022-07-20 08:55:15,594 Parameters: domain_left_edge          = [0. 0. 0.]\n",
      "yt : [INFO     ] 2022-07-20 08:55:15,597 Parameters: domain_right_edge         = [1. 1. 1.]\n",
      "yt : [INFO     ] 2022-07-20 08:55:15,597 Parameters: cosmological_simulation   = 1\n",
      "yt : [INFO     ] 2022-07-20 08:55:15,598 Parameters: current_redshift          = 1.7588340361195\n",
      "yt : [INFO     ] 2022-07-20 08:55:15,598 Parameters: omega_lambda              = 0.715\n",
      "yt : [INFO     ] 2022-07-20 08:55:15,599 Parameters: omega_matter              = 0.285\n",
      "yt : [INFO     ] 2022-07-20 08:55:15,600 Parameters: omega_radiation           = 0.0\n",
      "yt : [INFO     ] 2022-07-20 08:55:15,600 Parameters: hubble_constant           = 0.695\n"
     ]
    },
    {
     "name": "stdout",
     "output_type": "stream",
     "text": [
      "Pulling halo center from catalog file\n",
      "Opening snapshot /Volumes/TempestTimeSteps/DD0567/DD0567\n",
      "get_refine_box: using this location:      col1       col2     col3     col4     col5     col6     col7   col8\n",
      "------------- -------- -------- -------- -------- -------- -------- ----\n",
      "1.75883403612 0.492716 0.486828 0.501538 0.494716 0.488828 0.503538    9\n"
     ]
    },
    {
     "name": "stderr",
     "output_type": "stream",
     "text": [
      "Parsing Hierarchy : 100%|████████████████| 6668/6668 [00:00<00:00, 18047.91it/s]\n",
      "yt : [INFO     ] 2022-07-20 08:55:16,311 Gathering a field list (this may take a moment.)\n",
      "yt : [INFO     ] 2022-07-20 08:55:19,357 Parameters: current_time              = 179.81652781829\n",
      "yt : [INFO     ] 2022-07-20 08:55:19,360 Parameters: domain_dimensions         = [256 256 256]\n",
      "yt : [INFO     ] 2022-07-20 08:55:19,363 Parameters: domain_left_edge          = [0. 0. 0.]\n",
      "yt : [INFO     ] 2022-07-20 08:55:19,366 Parameters: domain_right_edge         = [1. 1. 1.]\n",
      "yt : [INFO     ] 2022-07-20 08:55:19,367 Parameters: cosmological_simulation   = 1\n",
      "yt : [INFO     ] 2022-07-20 08:55:19,368 Parameters: current_redshift          = 1.7054615401925\n",
      "yt : [INFO     ] 2022-07-20 08:55:19,368 Parameters: omega_lambda              = 0.715\n",
      "yt : [INFO     ] 2022-07-20 08:55:19,368 Parameters: omega_matter              = 0.285\n",
      "yt : [INFO     ] 2022-07-20 08:55:19,369 Parameters: omega_radiation           = 0.0\n",
      "yt : [INFO     ] 2022-07-20 08:55:19,369 Parameters: hubble_constant           = 0.695\n"
     ]
    },
    {
     "name": "stdout",
     "output_type": "stream",
     "text": [
      "Pulling halo center from catalog file\n",
      "Opening snapshot /Volumes/TempestTimeSteps/DD0587/DD0587\n",
      "get_refine_box: using this location:      col1       col2     col3    col4     col5     col6    col7   col8\n",
      "------------- -------- ------- -------- -------- ------- -------- ----\n",
      "1.70546154019 0.492663 0.48654 0.501635 0.494663 0.48854 0.503635    9\n"
     ]
    },
    {
     "name": "stderr",
     "output_type": "stream",
     "text": [
      "Parsing Hierarchy : 100%|████████████████| 7018/7018 [00:00<00:00, 17953.94it/s]\n",
      "yt : [INFO     ] 2022-07-20 08:55:20,088 Gathering a field list (this may take a moment.)\n"
     ]
    },
    {
     "name": "stdout",
     "output_type": "stream",
     "text": [
      "Pulling halo center from catalog file\n",
      "Opening snapshot /Volumes/TempestTimeSteps/DD0607/DD0607\n"
     ]
    },
    {
     "name": "stderr",
     "output_type": "stream",
     "text": [
      "yt : [INFO     ] 2022-07-20 08:55:23,066 Parameters: current_time              = 184.81652781829\n",
      "yt : [INFO     ] 2022-07-20 08:55:23,069 Parameters: domain_dimensions         = [256 256 256]\n",
      "yt : [INFO     ] 2022-07-20 08:55:23,072 Parameters: domain_left_edge          = [0. 0. 0.]\n",
      "yt : [INFO     ] 2022-07-20 08:55:23,075 Parameters: domain_right_edge         = [1. 1. 1.]\n",
      "yt : [INFO     ] 2022-07-20 08:55:23,076 Parameters: cosmological_simulation   = 1\n",
      "yt : [INFO     ] 2022-07-20 08:55:23,076 Parameters: current_redshift          = 1.654435864871\n",
      "yt : [INFO     ] 2022-07-20 08:55:23,077 Parameters: omega_lambda              = 0.715\n",
      "yt : [INFO     ] 2022-07-20 08:55:23,078 Parameters: omega_matter              = 0.285\n",
      "yt : [INFO     ] 2022-07-20 08:55:23,078 Parameters: omega_radiation           = 0.0\n",
      "yt : [INFO     ] 2022-07-20 08:55:23,079 Parameters: hubble_constant           = 0.695\n"
     ]
    },
    {
     "name": "stdout",
     "output_type": "stream",
     "text": [
      "get_refine_box: using this location:      col1       col2     col3     col4     col5     col6     col7   col8\n",
      "------------- -------- -------- -------- -------- -------- -------- ----\n",
      "1.65443586487 0.492592 0.486264 0.501763 0.494592 0.488264 0.503763    9\n"
     ]
    },
    {
     "name": "stderr",
     "output_type": "stream",
     "text": [
      "Parsing Hierarchy : 100%|████████████████| 6646/6646 [00:00<00:00, 18810.04it/s]\n",
      "yt : [INFO     ] 2022-07-20 08:55:23,676 Gathering a field list (this may take a moment.)\n"
     ]
    },
    {
     "name": "stdout",
     "output_type": "stream",
     "text": [
      "Pulling halo center from catalog file\n",
      "Opening snapshot /Volumes/TempestTimeSteps/DD0627/DD0627\n"
     ]
    },
    {
     "name": "stderr",
     "output_type": "stream",
     "text": [
      "yt : [INFO     ] 2022-07-20 08:55:26,683 Parameters: current_time              = 189.81652781829\n",
      "yt : [INFO     ] 2022-07-20 08:55:26,687 Parameters: domain_dimensions         = [256 256 256]\n",
      "yt : [INFO     ] 2022-07-20 08:55:26,689 Parameters: domain_left_edge          = [0. 0. 0.]\n",
      "yt : [INFO     ] 2022-07-20 08:55:26,692 Parameters: domain_right_edge         = [1. 1. 1.]\n",
      "yt : [INFO     ] 2022-07-20 08:55:26,693 Parameters: cosmological_simulation   = 1\n",
      "yt : [INFO     ] 2022-07-20 08:55:26,693 Parameters: current_redshift          = 1.6055910020775\n",
      "yt : [INFO     ] 2022-07-20 08:55:26,694 Parameters: omega_lambda              = 0.715\n",
      "yt : [INFO     ] 2022-07-20 08:55:26,695 Parameters: omega_matter              = 0.285\n",
      "yt : [INFO     ] 2022-07-20 08:55:26,696 Parameters: omega_radiation           = 0.0\n",
      "yt : [INFO     ] 2022-07-20 08:55:26,696 Parameters: hubble_constant           = 0.695\n"
     ]
    },
    {
     "name": "stdout",
     "output_type": "stream",
     "text": [
      "get_refine_box: using this location:      col1       col2     col3     col4     col5     col6     col7   col8\n",
      "------------- -------- -------- -------- -------- -------- -------- ----\n",
      "1.60559100208 0.492518 0.485987 0.501896 0.494518 0.487987 0.503896    9\n"
     ]
    },
    {
     "name": "stderr",
     "output_type": "stream",
     "text": [
      "Parsing Hierarchy : 100%|████████████████| 7439/7439 [00:00<00:00, 17941.51it/s]\n",
      "yt : [INFO     ] 2022-07-20 08:55:27,379 Gathering a field list (this may take a moment.)\n"
     ]
    },
    {
     "name": "stdout",
     "output_type": "stream",
     "text": [
      "Pulling halo center from catalog file\n",
      "Opening snapshot /Volumes/TempestTimeSteps/DD0647/DD0647\n"
     ]
    },
    {
     "name": "stderr",
     "output_type": "stream",
     "text": [
      "yt : [INFO     ] 2022-07-20 08:55:30,394 Parameters: current_time              = 194.81652781829\n",
      "yt : [INFO     ] 2022-07-20 08:55:30,398 Parameters: domain_dimensions         = [256 256 256]\n",
      "yt : [INFO     ] 2022-07-20 08:55:30,401 Parameters: domain_left_edge          = [0. 0. 0.]\n",
      "yt : [INFO     ] 2022-07-20 08:55:30,403 Parameters: domain_right_edge         = [1. 1. 1.]\n",
      "yt : [INFO     ] 2022-07-20 08:55:30,404 Parameters: cosmological_simulation   = 1\n",
      "yt : [INFO     ] 2022-07-20 08:55:30,405 Parameters: current_redshift          = 1.5587766543771\n",
      "yt : [INFO     ] 2022-07-20 08:55:30,405 Parameters: omega_lambda              = 0.715\n",
      "yt : [INFO     ] 2022-07-20 08:55:30,406 Parameters: omega_matter              = 0.285\n",
      "yt : [INFO     ] 2022-07-20 08:55:30,407 Parameters: omega_radiation           = 0.0\n",
      "yt : [INFO     ] 2022-07-20 08:55:30,408 Parameters: hubble_constant           = 0.695\n"
     ]
    },
    {
     "name": "stdout",
     "output_type": "stream",
     "text": [
      "get_refine_box: using this location:      col1       col2     col3     col4     col5     col6     col7   col8\n",
      "------------- -------- -------- -------- -------- -------- -------- ----\n",
      "1.55877665438 0.492451 0.485703 0.502037 0.494451 0.487703 0.504037    9\n"
     ]
    },
    {
     "name": "stderr",
     "output_type": "stream",
     "text": [
      "Parsing Hierarchy : 100%|█████████████████| 7437/7437 [00:02<00:00, 3204.50it/s]\n",
      "yt : [INFO     ] 2022-07-20 08:55:32,996 Gathering a field list (this may take a moment.)\n",
      "yt : [INFO     ] 2022-07-20 08:55:36,573 Parameters: current_time              = 199.81652781829\n",
      "yt : [INFO     ] 2022-07-20 08:55:36,576 Parameters: domain_dimensions         = [256 256 256]\n"
     ]
    },
    {
     "name": "stdout",
     "output_type": "stream",
     "text": [
      "Pulling halo center from catalog file\n",
      "Opening snapshot /Volumes/TempestTimeSteps/DD0667/DD0667\n"
     ]
    },
    {
     "name": "stderr",
     "output_type": "stream",
     "text": [
      "yt : [INFO     ] 2022-07-20 08:55:36,580 Parameters: domain_left_edge          = [0. 0. 0.]\n",
      "yt : [INFO     ] 2022-07-20 08:55:36,583 Parameters: domain_right_edge         = [1. 1. 1.]\n",
      "yt : [INFO     ] 2022-07-20 08:55:36,584 Parameters: cosmological_simulation   = 1\n",
      "yt : [INFO     ] 2022-07-20 08:55:36,585 Parameters: current_redshift          = 1.5138563920287\n",
      "yt : [INFO     ] 2022-07-20 08:55:36,586 Parameters: omega_lambda              = 0.715\n",
      "yt : [INFO     ] 2022-07-20 08:55:36,587 Parameters: omega_matter              = 0.285\n",
      "yt : [INFO     ] 2022-07-20 08:55:36,587 Parameters: omega_radiation           = 0.0\n",
      "yt : [INFO     ] 2022-07-20 08:55:36,588 Parameters: hubble_constant           = 0.695\n"
     ]
    },
    {
     "name": "stdout",
     "output_type": "stream",
     "text": [
      "get_refine_box: using this location:      col1       col2     col3     col4     col5     col6     col7   col8\n",
      "------------- -------- -------- -------- -------- -------- -------- ----\n",
      "1.51385639203 0.492384 0.485436 0.502152 0.494384 0.487436 0.504152    9\n"
     ]
    },
    {
     "name": "stderr",
     "output_type": "stream",
     "text": [
      "Parsing Hierarchy : 100%|████████████████| 8266/8266 [00:00<00:00, 13653.71it/s]\n",
      "yt : [INFO     ] 2022-07-20 08:55:37,559 Gathering a field list (this may take a moment.)\n"
     ]
    },
    {
     "name": "stdout",
     "output_type": "stream",
     "text": [
      "Pulling halo center from catalog file\n",
      "Opening snapshot /Volumes/TempestTimeSteps/DD0687/DD0687\n"
     ]
    },
    {
     "name": "stderr",
     "output_type": "stream",
     "text": [
      "yt : [INFO     ] 2022-07-20 08:55:41,021 Parameters: current_time              = 204.81652781829\n",
      "yt : [INFO     ] 2022-07-20 08:55:41,024 Parameters: domain_dimensions         = [256 256 256]\n",
      "yt : [INFO     ] 2022-07-20 08:55:41,027 Parameters: domain_left_edge          = [0. 0. 0.]\n",
      "yt : [INFO     ] 2022-07-20 08:55:41,030 Parameters: domain_right_edge         = [1. 1. 1.]\n",
      "yt : [INFO     ] 2022-07-20 08:55:41,030 Parameters: cosmological_simulation   = 1\n",
      "yt : [INFO     ] 2022-07-20 08:55:41,031 Parameters: current_redshift          = 1.4707060660811\n",
      "yt : [INFO     ] 2022-07-20 08:55:41,031 Parameters: omega_lambda              = 0.715\n",
      "yt : [INFO     ] 2022-07-20 08:55:41,032 Parameters: omega_matter              = 0.285\n",
      "yt : [INFO     ] 2022-07-20 08:55:41,033 Parameters: omega_radiation           = 0.0\n",
      "yt : [INFO     ] 2022-07-20 08:55:41,033 Parameters: hubble_constant           = 0.695\n"
     ]
    },
    {
     "name": "stdout",
     "output_type": "stream",
     "text": [
      "get_refine_box: using this location:      col1       col2     col3     col4    col5     col6     col7  col8\n",
      "------------- -------- -------- ------- -------- -------- ------- ----\n",
      "1.47070606608 0.492346 0.485169 0.50227 0.494346 0.487169 0.50427    9\n"
     ]
    },
    {
     "name": "stderr",
     "output_type": "stream",
     "text": [
      "Parsing Hierarchy : 100%|████████████████| 8638/8638 [00:00<00:00, 15778.04it/s]\n",
      "yt : [INFO     ] 2022-07-20 08:55:41,947 Gathering a field list (this may take a moment.)\n",
      "yt : [INFO     ] 2022-07-20 08:55:44,935 Parameters: current_time              = 209.81652781829\n",
      "yt : [INFO     ] 2022-07-20 08:55:44,937 Parameters: domain_dimensions         = [256 256 256]\n",
      "yt : [INFO     ] 2022-07-20 08:55:44,940 Parameters: domain_left_edge          = [0. 0. 0.]\n",
      "yt : [INFO     ] 2022-07-20 08:55:44,942 Parameters: domain_right_edge         = [1. 1. 1.]\n",
      "yt : [INFO     ] 2022-07-20 08:55:44,943 Parameters: cosmological_simulation   = 1\n",
      "yt : [INFO     ] 2022-07-20 08:55:44,943 Parameters: current_redshift          = 1.4292124366682\n",
      "yt : [INFO     ] 2022-07-20 08:55:44,944 Parameters: omega_lambda              = 0.715\n",
      "yt : [INFO     ] 2022-07-20 08:55:44,945 Parameters: omega_matter              = 0.285\n",
      "yt : [INFO     ] 2022-07-20 08:55:44,945 Parameters: omega_radiation           = 0.0\n",
      "yt : [INFO     ] 2022-07-20 08:55:44,946 Parameters: hubble_constant           = 0.695\n"
     ]
    },
    {
     "name": "stdout",
     "output_type": "stream",
     "text": [
      "Pulling halo center from catalog file\n",
      "Opening snapshot /Volumes/TempestTimeSteps/DD0707/DD0707\n",
      "get_refine_box: using this location:      col1       col2     col3     col4     col5     col6     col7   col8\n",
      "------------- -------- -------- -------- -------- -------- -------- ----\n",
      "1.42921243667 0.492291 0.484911 0.502394 0.494291 0.486911 0.504394    9\n"
     ]
    },
    {
     "name": "stderr",
     "output_type": "stream",
     "text": [
      "Parsing Hierarchy : 100%|████████████████| 8418/8418 [00:00<00:00, 15196.86it/s]\n",
      "yt : [INFO     ] 2022-07-20 08:55:45,874 Gathering a field list (this may take a moment.)\n"
     ]
    },
    {
     "name": "stdout",
     "output_type": "stream",
     "text": [
      "Pulling halo center from catalog file\n",
      "Opening snapshot /Volumes/TempestTimeSteps/DD0727/DD0727\n"
     ]
    },
    {
     "name": "stderr",
     "output_type": "stream",
     "text": [
      "yt : [INFO     ] 2022-07-20 08:55:48,907 Parameters: current_time              = 214.81652781829\n",
      "yt : [INFO     ] 2022-07-20 08:55:48,910 Parameters: domain_dimensions         = [256 256 256]\n",
      "yt : [INFO     ] 2022-07-20 08:55:48,913 Parameters: domain_left_edge          = [0. 0. 0.]\n",
      "yt : [INFO     ] 2022-07-20 08:55:48,917 Parameters: domain_right_edge         = [1. 1. 1.]\n",
      "yt : [INFO     ] 2022-07-20 08:55:48,918 Parameters: cosmological_simulation   = 1\n",
      "yt : [INFO     ] 2022-07-20 08:55:48,919 Parameters: current_redshift          = 1.3892719829729\n",
      "yt : [INFO     ] 2022-07-20 08:55:48,920 Parameters: omega_lambda              = 0.715\n",
      "yt : [INFO     ] 2022-07-20 08:55:48,921 Parameters: omega_matter              = 0.285\n",
      "yt : [INFO     ] 2022-07-20 08:55:48,921 Parameters: omega_radiation           = 0.0\n",
      "yt : [INFO     ] 2022-07-20 08:55:48,922 Parameters: hubble_constant           = 0.695\n"
     ]
    },
    {
     "name": "stdout",
     "output_type": "stream",
     "text": [
      "get_refine_box: using this location:      col1       col2     col3     col4     col5     col6     col7   col8\n",
      "------------- -------- -------- -------- -------- -------- -------- ----\n",
      "1.38927198297 0.492228 0.484667 0.502503 0.494228 0.486667 0.504503    9\n"
     ]
    },
    {
     "name": "stderr",
     "output_type": "stream",
     "text": [
      "Parsing Hierarchy : 100%|████████████████| 8146/8146 [00:00<00:00, 12972.18it/s]\n",
      "yt : [INFO     ] 2022-07-20 08:55:49,885 Gathering a field list (this may take a moment.)\n"
     ]
    },
    {
     "name": "stdout",
     "output_type": "stream",
     "text": [
      "Pulling halo center from catalog file\n",
      "Opening snapshot /Volumes/TempestTimeSteps/DD0747/DD0747\n"
     ]
    },
    {
     "name": "stderr",
     "output_type": "stream",
     "text": [
      "yt : [INFO     ] 2022-07-20 08:55:53,126 Parameters: current_time              = 219.81652781829\n",
      "yt : [INFO     ] 2022-07-20 08:55:53,131 Parameters: domain_dimensions         = [256 256 256]\n",
      "yt : [INFO     ] 2022-07-20 08:55:53,137 Parameters: domain_left_edge          = [0. 0. 0.]\n",
      "yt : [INFO     ] 2022-07-20 08:55:53,141 Parameters: domain_right_edge         = [1. 1. 1.]\n",
      "yt : [INFO     ] 2022-07-20 08:55:53,142 Parameters: cosmological_simulation   = 1\n",
      "yt : [INFO     ] 2022-07-20 08:55:53,143 Parameters: current_redshift          = 1.3507898672001\n",
      "yt : [INFO     ] 2022-07-20 08:55:53,144 Parameters: omega_lambda              = 0.715\n",
      "yt : [INFO     ] 2022-07-20 08:55:53,146 Parameters: omega_matter              = 0.285\n",
      "yt : [INFO     ] 2022-07-20 08:55:53,147 Parameters: omega_radiation           = 0.0\n",
      "yt : [INFO     ] 2022-07-20 08:55:53,149 Parameters: hubble_constant           = 0.695\n"
     ]
    },
    {
     "name": "stdout",
     "output_type": "stream",
     "text": [
      "get_refine_box: using this location:     col1       col2     col3     col4     col5     col6     col7   col8\n",
      "------------ -------- -------- -------- -------- -------- -------- ----\n",
      "1.3507898672 0.492157 0.484423 0.502606 0.494157 0.486423 0.504606    9\n"
     ]
    },
    {
     "name": "stderr",
     "output_type": "stream",
     "text": [
      "Parsing Hierarchy : 100%|████████████████| 8058/8058 [00:00<00:00, 15470.30it/s]\n",
      "yt : [INFO     ] 2022-07-20 08:55:54,070 Gathering a field list (this may take a moment.)\n"
     ]
    },
    {
     "name": "stdout",
     "output_type": "stream",
     "text": [
      "Pulling halo center from catalog file\n",
      "Opening snapshot /Volumes/TempestTimeSteps/DD0767/DD0767\n"
     ]
    },
    {
     "name": "stderr",
     "output_type": "stream",
     "text": [
      "yt : [INFO     ] 2022-07-20 08:55:57,327 Parameters: current_time              = 224.81652781829\n",
      "yt : [INFO     ] 2022-07-20 08:55:57,330 Parameters: domain_dimensions         = [256 256 256]\n",
      "yt : [INFO     ] 2022-07-20 08:55:57,332 Parameters: domain_left_edge          = [0. 0. 0.]\n",
      "yt : [INFO     ] 2022-07-20 08:55:57,334 Parameters: domain_right_edge         = [1. 1. 1.]\n",
      "yt : [INFO     ] 2022-07-20 08:55:57,335 Parameters: cosmological_simulation   = 1\n",
      "yt : [INFO     ] 2022-07-20 08:55:57,336 Parameters: current_redshift          = 1.3136790296363\n",
      "yt : [INFO     ] 2022-07-20 08:55:57,337 Parameters: omega_lambda              = 0.715\n",
      "yt : [INFO     ] 2022-07-20 08:55:57,337 Parameters: omega_matter              = 0.285\n",
      "yt : [INFO     ] 2022-07-20 08:55:57,338 Parameters: omega_radiation           = 0.0\n",
      "yt : [INFO     ] 2022-07-20 08:55:57,338 Parameters: hubble_constant           = 0.695\n"
     ]
    },
    {
     "name": "stdout",
     "output_type": "stream",
     "text": [
      "get_refine_box: using this location:      col1       col2     col3     col4     col5     col6     col7   col8\n",
      "------------- -------- -------- -------- -------- -------- -------- ----\n",
      "1.31367902964 0.492089 0.484183 0.502695 0.494089 0.486183 0.504695    9\n"
     ]
    },
    {
     "name": "stderr",
     "output_type": "stream",
     "text": [
      "Parsing Hierarchy : 100%|████████████████| 7829/7829 [00:00<00:00, 18068.36it/s]\n",
      "yt : [INFO     ] 2022-07-20 08:56:00,368 Gathering a field list (this may take a moment.)\n"
     ]
    },
    {
     "name": "stdout",
     "output_type": "stream",
     "text": [
      "Pulling halo center from catalog file\n",
      "Opening snapshot /Volumes/TempestTimeSteps/DD0787/DD0787\n"
     ]
    },
    {
     "name": "stderr",
     "output_type": "stream",
     "text": [
      "yt : [INFO     ] 2022-07-20 08:56:03,930 Parameters: current_time              = 229.81652781829\n",
      "yt : [INFO     ] 2022-07-20 08:56:03,933 Parameters: domain_dimensions         = [256 256 256]\n",
      "yt : [INFO     ] 2022-07-20 08:56:03,936 Parameters: domain_left_edge          = [0. 0. 0.]\n",
      "yt : [INFO     ] 2022-07-20 08:56:03,939 Parameters: domain_right_edge         = [1. 1. 1.]\n",
      "yt : [INFO     ] 2022-07-20 08:56:03,940 Parameters: cosmological_simulation   = 1\n",
      "yt : [INFO     ] 2022-07-20 08:56:03,941 Parameters: current_redshift          = 1.2778593957079\n",
      "yt : [INFO     ] 2022-07-20 08:56:03,942 Parameters: omega_lambda              = 0.715\n",
      "yt : [INFO     ] 2022-07-20 08:56:03,942 Parameters: omega_matter              = 0.285\n",
      "yt : [INFO     ] 2022-07-20 08:56:03,943 Parameters: omega_radiation           = 0.0\n",
      "yt : [INFO     ] 2022-07-20 08:56:03,944 Parameters: hubble_constant           = 0.695\n"
     ]
    },
    {
     "name": "stdout",
     "output_type": "stream",
     "text": [
      "get_refine_box: using this location:      col1       col2     col3     col4     col5     col6     col7   col8\n",
      "------------- -------- -------- -------- -------- -------- -------- ----\n",
      "1.27785939571 0.492022 0.483956 0.502785 0.494022 0.485956 0.504785    9\n"
     ]
    },
    {
     "name": "stderr",
     "output_type": "stream",
     "text": [
      "Parsing Hierarchy : 100%|████████████████| 8132/8132 [00:00<00:00, 12498.14it/s]\n",
      "yt : [INFO     ] 2022-07-20 08:56:04,953 Gathering a field list (this may take a moment.)\n"
     ]
    },
    {
     "name": "stdout",
     "output_type": "stream",
     "text": [
      "Pulling halo center from catalog file\n",
      "Opening snapshot /Volumes/TempestTimeSteps/DD0807/DD0807\n"
     ]
    },
    {
     "name": "stderr",
     "output_type": "stream",
     "text": [
      "yt : [INFO     ] 2022-07-20 08:56:08,236 Parameters: current_time              = 234.81652781829\n",
      "yt : [INFO     ] 2022-07-20 08:56:08,239 Parameters: domain_dimensions         = [256 256 256]\n",
      "yt : [INFO     ] 2022-07-20 08:56:08,244 Parameters: domain_left_edge          = [0. 0. 0.]\n",
      "yt : [INFO     ] 2022-07-20 08:56:08,248 Parameters: domain_right_edge         = [1. 1. 1.]\n",
      "yt : [INFO     ] 2022-07-20 08:56:08,249 Parameters: cosmological_simulation   = 1\n",
      "yt : [INFO     ] 2022-07-20 08:56:08,249 Parameters: current_redshift          = 1.2432571790813\n",
      "yt : [INFO     ] 2022-07-20 08:56:08,250 Parameters: omega_lambda              = 0.715\n",
      "yt : [INFO     ] 2022-07-20 08:56:08,250 Parameters: omega_matter              = 0.285\n",
      "yt : [INFO     ] 2022-07-20 08:56:08,250 Parameters: omega_radiation           = 0.0\n",
      "yt : [INFO     ] 2022-07-20 08:56:08,251 Parameters: hubble_constant           = 0.695\n"
     ]
    },
    {
     "name": "stdout",
     "output_type": "stream",
     "text": [
      "get_refine_box: using this location:      col1       col2     col3     col4     col5     col6     col7   col8\n",
      "------------- -------- -------- -------- -------- -------- -------- ----\n",
      "1.24325717908 0.491957 0.483733 0.502879 0.493957 0.485733 0.504879    9\n"
     ]
    },
    {
     "name": "stderr",
     "output_type": "stream",
     "text": [
      "Parsing Hierarchy : 100%|████████████████| 7374/7374 [00:00<00:00, 18019.25it/s]\n",
      "yt : [INFO     ] 2022-07-20 08:56:08,939 Gathering a field list (this may take a moment.)\n",
      "yt : [INFO     ] 2022-07-20 08:56:11,761 Parameters: current_time              = 239.81652781829\n",
      "yt : [INFO     ] 2022-07-20 08:56:11,764 Parameters: domain_dimensions         = [256 256 256]\n",
      "yt : [INFO     ] 2022-07-20 08:56:11,768 Parameters: domain_left_edge          = [0. 0. 0.]\n",
      "yt : [INFO     ] 2022-07-20 08:56:11,770 Parameters: domain_right_edge         = [1. 1. 1.]\n",
      "yt : [INFO     ] 2022-07-20 08:56:11,771 Parameters: cosmological_simulation   = 1\n",
      "yt : [INFO     ] 2022-07-20 08:56:11,772 Parameters: current_redshift          = 1.2098042674053\n",
      "yt : [INFO     ] 2022-07-20 08:56:11,772 Parameters: omega_lambda              = 0.715\n",
      "yt : [INFO     ] 2022-07-20 08:56:11,773 Parameters: omega_matter              = 0.285\n",
      "yt : [INFO     ] 2022-07-20 08:56:11,774 Parameters: omega_radiation           = 0.0\n",
      "yt : [INFO     ] 2022-07-20 08:56:11,774 Parameters: hubble_constant           = 0.695\n"
     ]
    },
    {
     "name": "stdout",
     "output_type": "stream",
     "text": [
      "Pulling halo center from catalog file\n",
      "Opening snapshot /Volumes/TempestTimeSteps/DD0827/DD0827\n",
      "get_refine_box: using this location:      col1       col2     col3     col4     col5     col6     col7   col8\n",
      "------------- -------- -------- -------- -------- -------- -------- ----\n",
      "1.20980426741 0.491888 0.483515 0.502974 0.493888 0.485515 0.504974    9\n"
     ]
    },
    {
     "name": "stderr",
     "output_type": "stream",
     "text": [
      "Parsing Hierarchy : 100%|████████████████| 6935/6935 [00:00<00:00, 17927.45it/s]\n",
      "yt : [INFO     ] 2022-07-20 08:56:12,488 Gathering a field list (this may take a moment.)\n"
     ]
    },
    {
     "name": "stdout",
     "output_type": "stream",
     "text": [
      "Pulling halo center from catalog file\n",
      "Opening snapshot /Volumes/TempestTimeSteps/DD0847/DD0847\n"
     ]
    },
    {
     "name": "stderr",
     "output_type": "stream",
     "text": [
      "yt : [INFO     ] 2022-07-20 08:56:15,623 Parameters: current_time              = 244.81652781829\n",
      "yt : [INFO     ] 2022-07-20 08:56:15,627 Parameters: domain_dimensions         = [256 256 256]\n",
      "yt : [INFO     ] 2022-07-20 08:56:15,630 Parameters: domain_left_edge          = [0. 0. 0.]\n",
      "yt : [INFO     ] 2022-07-20 08:56:15,633 Parameters: domain_right_edge         = [1. 1. 1.]\n",
      "yt : [INFO     ] 2022-07-20 08:56:15,633 Parameters: cosmological_simulation   = 1\n",
      "yt : [INFO     ] 2022-07-20 08:56:15,634 Parameters: current_redshift          = 1.1774376794027\n",
      "yt : [INFO     ] 2022-07-20 08:56:15,634 Parameters: omega_lambda              = 0.715\n",
      "yt : [INFO     ] 2022-07-20 08:56:15,635 Parameters: omega_matter              = 0.285\n",
      "yt : [INFO     ] 2022-07-20 08:56:15,636 Parameters: omega_radiation           = 0.0\n",
      "yt : [INFO     ] 2022-07-20 08:56:15,636 Parameters: hubble_constant           = 0.695\n"
     ]
    },
    {
     "name": "stdout",
     "output_type": "stream",
     "text": [
      "get_refine_box: using this location:     col1       col2     col3    col4     col5     col6    col7   col8\n",
      "------------ -------- ------- -------- -------- ------- -------- ----\n",
      "1.1774376794 0.491816 0.48329 0.503077 0.493816 0.48529 0.505077    9\n"
     ]
    },
    {
     "name": "stderr",
     "output_type": "stream",
     "text": [
      "Parsing Hierarchy : 100%|████████████████| 6688/6688 [00:00<00:00, 18224.33it/s]\n",
      "yt : [INFO     ] 2022-07-20 08:56:16,278 Gathering a field list (this may take a moment.)\n"
     ]
    },
    {
     "name": "stdout",
     "output_type": "stream",
     "text": [
      "Pulling halo center from catalog file\n",
      "Opening snapshot /Volumes/TempestTimeSteps/DD0867/DD0867\n"
     ]
    },
    {
     "name": "stderr",
     "output_type": "stream",
     "text": [
      "yt : [INFO     ] 2022-07-20 08:56:19,316 Parameters: current_time              = 249.81652781829\n",
      "yt : [INFO     ] 2022-07-20 08:56:19,318 Parameters: domain_dimensions         = [256 256 256]\n",
      "yt : [INFO     ] 2022-07-20 08:56:19,320 Parameters: domain_left_edge          = [0. 0. 0.]\n",
      "yt : [INFO     ] 2022-07-20 08:56:19,322 Parameters: domain_right_edge         = [1. 1. 1.]\n",
      "yt : [INFO     ] 2022-07-20 08:56:19,323 Parameters: cosmological_simulation   = 1\n",
      "yt : [INFO     ] 2022-07-20 08:56:19,324 Parameters: current_redshift          = 1.1460990837584\n",
      "yt : [INFO     ] 2022-07-20 08:56:19,324 Parameters: omega_lambda              = 0.715\n",
      "yt : [INFO     ] 2022-07-20 08:56:19,325 Parameters: omega_matter              = 0.285\n",
      "yt : [INFO     ] 2022-07-20 08:56:19,325 Parameters: omega_radiation           = 0.0\n",
      "yt : [INFO     ] 2022-07-20 08:56:19,326 Parameters: hubble_constant           = 0.695\n"
     ]
    },
    {
     "name": "stdout",
     "output_type": "stream",
     "text": [
      "get_refine_box: using this location:      col1       col2     col3     col4     col5     col6     col7   col8\n",
      "------------- -------- -------- -------- -------- -------- -------- ----\n",
      "1.14609908376 0.491743 0.483059 0.503163 0.493743 0.485059 0.505163    9\n"
     ]
    },
    {
     "name": "stderr",
     "output_type": "stream",
     "text": [
      "Parsing Hierarchy : 100%|████████████████| 7962/7962 [00:00<00:00, 17677.12it/s]\n",
      "yt : [INFO     ] 2022-07-20 08:56:20,068 Gathering a field list (this may take a moment.)\n"
     ]
    },
    {
     "name": "stdout",
     "output_type": "stream",
     "text": [
      "Pulling halo center from catalog file\n",
      "Opening snapshot /Volumes/TempestTimeSteps/DD0887/DD0887\n"
     ]
    },
    {
     "name": "stderr",
     "output_type": "stream",
     "text": [
      "yt : [INFO     ] 2022-07-20 08:56:23,375 Parameters: current_time              = 254.81652781829\n",
      "yt : [INFO     ] 2022-07-20 08:56:23,380 Parameters: domain_dimensions         = [256 256 256]\n",
      "yt : [INFO     ] 2022-07-20 08:56:23,382 Parameters: domain_left_edge          = [0. 0. 0.]\n",
      "yt : [INFO     ] 2022-07-20 08:56:23,385 Parameters: domain_right_edge         = [1. 1. 1.]\n",
      "yt : [INFO     ] 2022-07-20 08:56:23,386 Parameters: cosmological_simulation   = 1\n",
      "yt : [INFO     ] 2022-07-20 08:56:23,387 Parameters: current_redshift          = 1.1157343716912\n",
      "yt : [INFO     ] 2022-07-20 08:56:23,388 Parameters: omega_lambda              = 0.715\n",
      "yt : [INFO     ] 2022-07-20 08:56:23,388 Parameters: omega_matter              = 0.285\n",
      "yt : [INFO     ] 2022-07-20 08:56:23,389 Parameters: omega_radiation           = 0.0\n",
      "yt : [INFO     ] 2022-07-20 08:56:23,390 Parameters: hubble_constant           = 0.695\n"
     ]
    },
    {
     "name": "stdout",
     "output_type": "stream",
     "text": [
      "get_refine_box: using this location:      col1       col2     col3     col4     col5     col6     col7   col8\n",
      "------------- -------- -------- -------- -------- -------- -------- ----\n",
      "1.11573437169 0.491684 0.482832 0.503258 0.493684 0.484832 0.505258    9\n"
     ]
    },
    {
     "name": "stderr",
     "output_type": "stream",
     "text": [
      "Parsing Hierarchy : 100%|████████████████| 7394/7394 [00:00<00:00, 16421.48it/s]\n",
      "yt : [INFO     ] 2022-07-20 08:56:24,130 Gathering a field list (this may take a moment.)\n"
     ]
    },
    {
     "name": "stdout",
     "output_type": "stream",
     "text": [
      "Pulling halo center from catalog file\n",
      "Opening snapshot /Volumes/TempestTimeSteps/DD0907/DD0907\n"
     ]
    },
    {
     "name": "stderr",
     "output_type": "stream",
     "text": [
      "yt : [INFO     ] 2022-07-20 08:56:27,144 Parameters: current_time              = 259.81652781829\n",
      "yt : [INFO     ] 2022-07-20 08:56:27,146 Parameters: domain_dimensions         = [256 256 256]\n",
      "yt : [INFO     ] 2022-07-20 08:56:27,149 Parameters: domain_left_edge          = [0. 0. 0.]\n",
      "yt : [INFO     ] 2022-07-20 08:56:27,152 Parameters: domain_right_edge         = [1. 1. 1.]\n",
      "yt : [INFO     ] 2022-07-20 08:56:27,153 Parameters: cosmological_simulation   = 1\n",
      "yt : [INFO     ] 2022-07-20 08:56:27,154 Parameters: current_redshift          = 1.0862932762982\n",
      "yt : [INFO     ] 2022-07-20 08:56:27,154 Parameters: omega_lambda              = 0.715\n",
      "yt : [INFO     ] 2022-07-20 08:56:27,155 Parameters: omega_matter              = 0.285\n",
      "yt : [INFO     ] 2022-07-20 08:56:27,156 Parameters: omega_radiation           = 0.0\n",
      "yt : [INFO     ] 2022-07-20 08:56:27,156 Parameters: hubble_constant           = 0.695\n"
     ]
    },
    {
     "name": "stdout",
     "output_type": "stream",
     "text": [
      "get_refine_box: using this location:     col1       col2     col3     col4    col5     col6     col7  col8\n",
      "------------ -------- -------- ------- -------- -------- ------- ----\n",
      "1.0862932763 0.491633 0.482603 0.50335 0.493633 0.484603 0.50535    9\n"
     ]
    },
    {
     "name": "stderr",
     "output_type": "stream",
     "text": [
      "Parsing Hierarchy : 100%|████████████████| 7350/7350 [00:00<00:00, 17555.06it/s]\n",
      "yt : [INFO     ] 2022-07-20 08:56:27,870 Gathering a field list (this may take a moment.)\n"
     ]
    },
    {
     "name": "stdout",
     "output_type": "stream",
     "text": [
      "Pulling halo center from catalog file\n",
      "Opening snapshot /Volumes/TempestTimeSteps/DD0927/DD0927\n"
     ]
    },
    {
     "name": "stderr",
     "output_type": "stream",
     "text": [
      "yt : [INFO     ] 2022-07-20 08:56:31,087 Parameters: current_time              = 264.81652781829\n",
      "yt : [INFO     ] 2022-07-20 08:56:31,090 Parameters: domain_dimensions         = [256 256 256]\n",
      "yt : [INFO     ] 2022-07-20 08:56:31,093 Parameters: domain_left_edge          = [0. 0. 0.]\n",
      "yt : [INFO     ] 2022-07-20 08:56:31,096 Parameters: domain_right_edge         = [1. 1. 1.]\n",
      "yt : [INFO     ] 2022-07-20 08:56:31,096 Parameters: cosmological_simulation   = 1\n",
      "yt : [INFO     ] 2022-07-20 08:56:31,097 Parameters: current_redshift          = 1.0577290327654\n",
      "yt : [INFO     ] 2022-07-20 08:56:31,098 Parameters: omega_lambda              = 0.715\n",
      "yt : [INFO     ] 2022-07-20 08:56:31,098 Parameters: omega_matter              = 0.285\n",
      "yt : [INFO     ] 2022-07-20 08:56:31,099 Parameters: omega_radiation           = 0.0\n",
      "yt : [INFO     ] 2022-07-20 08:56:31,100 Parameters: hubble_constant           = 0.695\n"
     ]
    },
    {
     "name": "stdout",
     "output_type": "stream",
     "text": [
      "get_refine_box: using this location:      col1       col2     col3    col4     col5     col6    col7   col8\n",
      "------------- -------- ------- -------- -------- ------- -------- ----\n",
      "1.05772903277 0.491583 0.48238 0.503437 0.493583 0.48438 0.505437    9\n"
     ]
    },
    {
     "name": "stderr",
     "output_type": "stream",
     "text": [
      "Parsing Hierarchy : 100%|████████████████| 6595/6595 [00:00<00:00, 17089.65it/s]\n",
      "yt : [INFO     ] 2022-07-20 08:56:31,793 Gathering a field list (this may take a moment.)\n"
     ]
    },
    {
     "name": "stdout",
     "output_type": "stream",
     "text": [
      "Pulling halo center from catalog file\n",
      "Opening snapshot /Volumes/TempestTimeSteps/DD0947/DD0947\n"
     ]
    },
    {
     "name": "stderr",
     "output_type": "stream",
     "text": [
      "yt : [INFO     ] 2022-07-20 08:56:35,200 Parameters: current_time              = 269.81652781829\n",
      "yt : [INFO     ] 2022-07-20 08:56:35,203 Parameters: domain_dimensions         = [256 256 256]\n",
      "yt : [INFO     ] 2022-07-20 08:56:35,207 Parameters: domain_left_edge          = [0. 0. 0.]\n",
      "yt : [INFO     ] 2022-07-20 08:56:35,209 Parameters: domain_right_edge         = [1. 1. 1.]\n",
      "yt : [INFO     ] 2022-07-20 08:56:35,210 Parameters: cosmological_simulation   = 1\n",
      "yt : [INFO     ] 2022-07-20 08:56:35,211 Parameters: current_redshift          = 1.0299980743789\n",
      "yt : [INFO     ] 2022-07-20 08:56:35,212 Parameters: omega_lambda              = 0.715\n",
      "yt : [INFO     ] 2022-07-20 08:56:35,212 Parameters: omega_matter              = 0.285\n",
      "yt : [INFO     ] 2022-07-20 08:56:35,213 Parameters: omega_radiation           = 0.0\n",
      "yt : [INFO     ] 2022-07-20 08:56:35,213 Parameters: hubble_constant           = 0.695\n"
     ]
    },
    {
     "name": "stdout",
     "output_type": "stream",
     "text": [
      "get_refine_box: using this location:      col1       col2     col3     col4     col5     col6     col7   col8\n",
      "------------- -------- -------- -------- -------- -------- -------- ----\n",
      "1.02999807438 0.491539 0.482157 0.503523 0.493539 0.484157 0.505523    9\n"
     ]
    },
    {
     "name": "stderr",
     "output_type": "stream",
     "text": [
      "Parsing Hierarchy : 100%|█████████████████| 6486/6486 [00:03<00:00, 1952.98it/s]\n",
      "yt : [INFO     ] 2022-07-20 08:56:38,831 Gathering a field list (this may take a moment.)\n",
      "yt : [INFO     ] 2022-07-20 08:56:41,915 Parameters: current_time              = 274.56652781829\n",
      "yt : [INFO     ] 2022-07-20 08:56:41,918 Parameters: domain_dimensions         = [256 256 256]\n",
      "yt : [INFO     ] 2022-07-20 08:56:41,921 Parameters: domain_left_edge          = [0. 0. 0.]\n",
      "yt : [INFO     ] 2022-07-20 08:56:41,924 Parameters: domain_right_edge         = [1. 1. 1.]\n",
      "yt : [INFO     ] 2022-07-20 08:56:41,924 Parameters: cosmological_simulation   = 1\n",
      "yt : [INFO     ] 2022-07-20 08:56:41,925 Parameters: current_redshift          = 1.0043884467376\n",
      "yt : [INFO     ] 2022-07-20 08:56:41,926 Parameters: omega_lambda              = 0.715\n",
      "yt : [INFO     ] 2022-07-20 08:56:41,927 Parameters: omega_matter              = 0.285\n",
      "yt : [INFO     ] 2022-07-20 08:56:41,928 Parameters: omega_radiation           = 0.0\n",
      "yt : [INFO     ] 2022-07-20 08:56:41,929 Parameters: hubble_constant           = 0.695\n"
     ]
    },
    {
     "name": "stdout",
     "output_type": "stream",
     "text": [
      "Pulling halo center from catalog file\n",
      "Opening snapshot /Volumes/TempestTimeSteps/DD0967/DD0967\n",
      "get_refine_box: using this location:      col1       col2     col3     col4     col5     col6     col7   col8\n",
      "------------- -------- -------- -------- -------- -------- -------- ----\n",
      "1.00438844674 0.491497 0.481944 0.503607 0.493497 0.483944 0.505607    9\n"
     ]
    },
    {
     "name": "stderr",
     "output_type": "stream",
     "text": [
      "Parsing Hierarchy : 100%|████████████████| 5908/5908 [00:00<00:00, 17852.62it/s]\n",
      "yt : [INFO     ] 2022-07-20 08:56:42,572 Gathering a field list (this may take a moment.)\n"
     ]
    },
    {
     "name": "stdout",
     "output_type": "stream",
     "text": [
      "Pulling halo center from catalog file\n",
      "Opening snapshot /Volumes/TempestTimeSteps/DD0987/DD0987\n"
     ]
    },
    {
     "name": "stderr",
     "output_type": "stream",
     "text": [
      "yt : [INFO     ] 2022-07-20 08:56:45,840 Parameters: current_time              = 279.56652781829\n",
      "yt : [INFO     ] 2022-07-20 08:56:45,842 Parameters: domain_dimensions         = [256 256 256]\n",
      "yt : [INFO     ] 2022-07-20 08:56:45,846 Parameters: domain_left_edge          = [0. 0. 0.]\n",
      "yt : [INFO     ] 2022-07-20 08:56:45,849 Parameters: domain_right_edge         = [1. 1. 1.]\n",
      "yt : [INFO     ] 2022-07-20 08:56:45,850 Parameters: cosmological_simulation   = 1\n",
      "yt : [INFO     ] 2022-07-20 08:56:45,851 Parameters: current_redshift          = 0.97816794442974\n",
      "yt : [INFO     ] 2022-07-20 08:56:45,852 Parameters: omega_lambda              = 0.715\n",
      "yt : [INFO     ] 2022-07-20 08:56:45,853 Parameters: omega_matter              = 0.285\n",
      "yt : [INFO     ] 2022-07-20 08:56:45,853 Parameters: omega_radiation           = 0.0\n",
      "yt : [INFO     ] 2022-07-20 08:56:45,854 Parameters: hubble_constant           = 0.695\n"
     ]
    },
    {
     "name": "stdout",
     "output_type": "stream",
     "text": [
      "get_refine_box: using this location:      col1       col2     col3     col4     col5     col6     col7   col8\n",
      "------------- -------- -------- -------- -------- -------- -------- ----\n",
      "0.97816794443 0.491452 0.481724 0.503697 0.493452 0.483724 0.505697    9\n"
     ]
    },
    {
     "name": "stderr",
     "output_type": "stream",
     "text": [
      "Parsing Hierarchy : 100%|████████████████| 5704/5704 [00:00<00:00, 16310.67it/s]\n",
      "yt : [INFO     ] 2022-07-20 08:56:46,466 Gathering a field list (this may take a moment.)\n"
     ]
    },
    {
     "name": "stdout",
     "output_type": "stream",
     "text": [
      "Pulling halo center from catalog file\n",
      "Opening snapshot /Volumes/TempestTimeSteps/DD1007/DD1007\n"
     ]
    },
    {
     "name": "stderr",
     "output_type": "stream",
     "text": [
      "yt : [INFO     ] 2022-07-20 08:56:49,713 Parameters: current_time              = 284.56652781829\n",
      "yt : [INFO     ] 2022-07-20 08:56:49,716 Parameters: domain_dimensions         = [256 256 256]\n",
      "yt : [INFO     ] 2022-07-20 08:56:49,719 Parameters: domain_left_edge          = [0. 0. 0.]\n",
      "yt : [INFO     ] 2022-07-20 08:56:49,722 Parameters: domain_right_edge         = [1. 1. 1.]\n",
      "yt : [INFO     ] 2022-07-20 08:56:49,722 Parameters: cosmological_simulation   = 1\n",
      "yt : [INFO     ] 2022-07-20 08:56:49,723 Parameters: current_redshift          = 0.95266834518911\n",
      "yt : [INFO     ] 2022-07-20 08:56:49,724 Parameters: omega_lambda              = 0.715\n",
      "yt : [INFO     ] 2022-07-20 08:56:49,724 Parameters: omega_matter              = 0.285\n",
      "yt : [INFO     ] 2022-07-20 08:56:49,725 Parameters: omega_radiation           = 0.0\n",
      "yt : [INFO     ] 2022-07-20 08:56:49,726 Parameters: hubble_constant           = 0.695\n"
     ]
    },
    {
     "name": "stdout",
     "output_type": "stream",
     "text": [
      "get_refine_box: using this location:      col1        col2     col3     col4     col5     col6     col7   col8\n",
      "-------------- -------- -------- -------- -------- -------- -------- ----\n",
      "0.952668345189 0.491404 0.481507 0.503786 0.493404 0.483507 0.505786    9\n"
     ]
    },
    {
     "name": "stderr",
     "output_type": "stream",
     "text": [
      "Parsing Hierarchy : 100%|████████████████| 5544/5544 [00:00<00:00, 16959.88it/s]\n",
      "yt : [INFO     ] 2022-07-20 08:56:50,299 Gathering a field list (this may take a moment.)\n"
     ]
    },
    {
     "name": "stdout",
     "output_type": "stream",
     "text": [
      "Pulling halo center from catalog file\n",
      "Opening snapshot /Volumes/TempestTimeSteps/DD1027/DD1027\n"
     ]
    },
    {
     "name": "stderr",
     "output_type": "stream",
     "text": [
      "yt : [INFO     ] 2022-07-20 08:56:53,336 Parameters: current_time              = 289.56652781829\n",
      "yt : [INFO     ] 2022-07-20 08:56:53,339 Parameters: domain_dimensions         = [256 256 256]\n",
      "yt : [INFO     ] 2022-07-20 08:56:53,343 Parameters: domain_left_edge          = [0. 0. 0.]\n",
      "yt : [INFO     ] 2022-07-20 08:56:53,346 Parameters: domain_right_edge         = [1. 1. 1.]\n",
      "yt : [INFO     ] 2022-07-20 08:56:53,346 Parameters: cosmological_simulation   = 1\n",
      "yt : [INFO     ] 2022-07-20 08:56:53,347 Parameters: current_redshift          = 0.92785630164072\n",
      "yt : [INFO     ] 2022-07-20 08:56:53,347 Parameters: omega_lambda              = 0.715\n",
      "yt : [INFO     ] 2022-07-20 08:56:53,348 Parameters: omega_matter              = 0.285\n",
      "yt : [INFO     ] 2022-07-20 08:56:53,348 Parameters: omega_radiation           = 0.0\n",
      "yt : [INFO     ] 2022-07-20 08:56:53,349 Parameters: hubble_constant           = 0.695\n"
     ]
    },
    {
     "name": "stdout",
     "output_type": "stream",
     "text": [
      "get_refine_box: using this location:      col1        col2     col3     col4     col5     col6     col7   col8\n",
      "-------------- -------- -------- -------- -------- -------- -------- ----\n",
      "0.927856301641 0.491352 0.481291 0.503872 0.493352 0.483291 0.505872    9\n"
     ]
    },
    {
     "name": "stderr",
     "output_type": "stream",
     "text": [
      "Parsing Hierarchy : 100%|████████████████| 5326/5326 [00:00<00:00, 16503.11it/s]\n",
      "yt : [INFO     ] 2022-07-20 08:56:53,901 Gathering a field list (this may take a moment.)\n"
     ]
    },
    {
     "name": "stdout",
     "output_type": "stream",
     "text": [
      "Pulling halo center from catalog file\n",
      "Opening snapshot /Volumes/TempestTimeSteps/DD1047/DD1047\n"
     ]
    },
    {
     "name": "stderr",
     "output_type": "stream",
     "text": [
      "yt : [INFO     ] 2022-07-20 08:56:57,134 Parameters: current_time              = 294.56652781829\n",
      "yt : [INFO     ] 2022-07-20 08:56:57,136 Parameters: domain_dimensions         = [256 256 256]\n",
      "yt : [INFO     ] 2022-07-20 08:56:57,139 Parameters: domain_left_edge          = [0. 0. 0.]\n",
      "yt : [INFO     ] 2022-07-20 08:56:57,142 Parameters: domain_right_edge         = [1. 1. 1.]\n",
      "yt : [INFO     ] 2022-07-20 08:56:57,143 Parameters: cosmological_simulation   = 1\n",
      "yt : [INFO     ] 2022-07-20 08:56:57,143 Parameters: current_redshift          = 0.90370055679921\n",
      "yt : [INFO     ] 2022-07-20 08:56:57,144 Parameters: omega_lambda              = 0.715\n",
      "yt : [INFO     ] 2022-07-20 08:56:57,145 Parameters: omega_matter              = 0.285\n",
      "yt : [INFO     ] 2022-07-20 08:56:57,145 Parameters: omega_radiation           = 0.0\n",
      "yt : [INFO     ] 2022-07-20 08:56:57,146 Parameters: hubble_constant           = 0.695\n"
     ]
    },
    {
     "name": "stdout",
     "output_type": "stream",
     "text": [
      "get_refine_box: using this location:      col1        col2     col3    col4     col5     col6    col7   col8\n",
      "-------------- -------- ------- -------- -------- ------- -------- ----\n",
      "0.903700556799 0.491301 0.48108 0.503952 0.493301 0.48308 0.505952    9\n"
     ]
    },
    {
     "name": "stderr",
     "output_type": "stream",
     "text": [
      "Parsing Hierarchy : 100%|████████████████| 5246/5246 [00:00<00:00, 17693.34it/s]\n",
      "yt : [INFO     ] 2022-07-20 08:56:57,794 Gathering a field list (this may take a moment.)\n"
     ]
    },
    {
     "name": "stdout",
     "output_type": "stream",
     "text": [
      "Pulling halo center from catalog file\n",
      "Opening snapshot /Volumes/TempestTimeSteps/DD1067/DD1067\n"
     ]
    },
    {
     "name": "stderr",
     "output_type": "stream",
     "text": [
      "yt : [INFO     ] 2022-07-20 08:57:00,888 Parameters: current_time              = 299.56652781829\n",
      "yt : [INFO     ] 2022-07-20 08:57:00,891 Parameters: domain_dimensions         = [256 256 256]\n",
      "yt : [INFO     ] 2022-07-20 08:57:00,894 Parameters: domain_left_edge          = [0. 0. 0.]\n",
      "yt : [INFO     ] 2022-07-20 08:57:00,897 Parameters: domain_right_edge         = [1. 1. 1.]\n",
      "yt : [INFO     ] 2022-07-20 08:57:00,897 Parameters: cosmological_simulation   = 1\n",
      "yt : [INFO     ] 2022-07-20 08:57:00,898 Parameters: current_redshift          = 0.88017178065176\n",
      "yt : [INFO     ] 2022-07-20 08:57:00,898 Parameters: omega_lambda              = 0.715\n",
      "yt : [INFO     ] 2022-07-20 08:57:00,899 Parameters: omega_matter              = 0.285\n",
      "yt : [INFO     ] 2022-07-20 08:57:00,900 Parameters: omega_radiation           = 0.0\n",
      "yt : [INFO     ] 2022-07-20 08:57:00,901 Parameters: hubble_constant           = 0.695\n"
     ]
    },
    {
     "name": "stdout",
     "output_type": "stream",
     "text": [
      "get_refine_box: using this location:      col1        col2     col3     col4     col5     col6     col7   col8\n",
      "-------------- -------- -------- -------- -------- -------- -------- ----\n",
      "0.880171780652 0.491244 0.480872 0.504027 0.493244 0.482872 0.506027    9\n"
     ]
    },
    {
     "name": "stderr",
     "output_type": "stream",
     "text": [
      "Parsing Hierarchy : 100%|████████████████| 5244/5244 [00:00<00:00, 16665.72it/s]\n",
      "yt : [INFO     ] 2022-07-20 08:57:01,459 Gathering a field list (this may take a moment.)\n"
     ]
    },
    {
     "name": "stdout",
     "output_type": "stream",
     "text": [
      "Pulling halo center from catalog file\n",
      "Opening snapshot /Volumes/TempestTimeSteps/DD1087/DD1087\n"
     ]
    },
    {
     "name": "stderr",
     "output_type": "stream",
     "text": [
      "yt : [INFO     ] 2022-07-20 08:57:04,676 Parameters: current_time              = 304.56652781829\n",
      "yt : [INFO     ] 2022-07-20 08:57:04,678 Parameters: domain_dimensions         = [256 256 256]\n",
      "yt : [INFO     ] 2022-07-20 08:57:04,680 Parameters: domain_left_edge          = [0. 0. 0.]\n",
      "yt : [INFO     ] 2022-07-20 08:57:04,683 Parameters: domain_right_edge         = [1. 1. 1.]\n",
      "yt : [INFO     ] 2022-07-20 08:57:04,684 Parameters: cosmological_simulation   = 1\n",
      "yt : [INFO     ] 2022-07-20 08:57:04,684 Parameters: current_redshift          = 0.85724242198899\n",
      "yt : [INFO     ] 2022-07-20 08:57:04,685 Parameters: omega_lambda              = 0.715\n",
      "yt : [INFO     ] 2022-07-20 08:57:04,686 Parameters: omega_matter              = 0.285\n",
      "yt : [INFO     ] 2022-07-20 08:57:04,686 Parameters: omega_radiation           = 0.0\n",
      "yt : [INFO     ] 2022-07-20 08:57:04,686 Parameters: hubble_constant           = 0.695\n"
     ]
    },
    {
     "name": "stdout",
     "output_type": "stream",
     "text": [
      "get_refine_box: using this location:      col1        col2     col3     col4     col5     col6     col7   col8\n",
      "-------------- -------- -------- -------- -------- -------- -------- ----\n",
      "0.857242421989 0.491192 0.480668 0.504092 0.493192 0.482668 0.506092    9\n"
     ]
    },
    {
     "name": "stderr",
     "output_type": "stream",
     "text": [
      "Parsing Hierarchy : 100%|████████████████| 5163/5163 [00:00<00:00, 15282.42it/s]\n",
      "yt : [INFO     ] 2022-07-20 08:57:05,251 Gathering a field list (this may take a moment.)\n"
     ]
    },
    {
     "name": "stdout",
     "output_type": "stream",
     "text": [
      "Pulling halo center from catalog file\n",
      "Opening snapshot /Volumes/TempestTimeSteps/DD1107/DD1107\n"
     ]
    },
    {
     "name": "stderr",
     "output_type": "stream",
     "text": [
      "yt : [INFO     ] 2022-07-20 08:57:08,674 Parameters: current_time              = 309.56652781829\n",
      "yt : [INFO     ] 2022-07-20 08:57:08,678 Parameters: domain_dimensions         = [256 256 256]\n",
      "yt : [INFO     ] 2022-07-20 08:57:08,681 Parameters: domain_left_edge          = [0. 0. 0.]\n",
      "yt : [INFO     ] 2022-07-20 08:57:08,683 Parameters: domain_right_edge         = [1. 1. 1.]\n",
      "yt : [INFO     ] 2022-07-20 08:57:08,684 Parameters: cosmological_simulation   = 1\n",
      "yt : [INFO     ] 2022-07-20 08:57:08,685 Parameters: current_redshift          = 0.83488657383741\n",
      "yt : [INFO     ] 2022-07-20 08:57:08,686 Parameters: omega_lambda              = 0.715\n",
      "yt : [INFO     ] 2022-07-20 08:57:08,686 Parameters: omega_matter              = 0.285\n",
      "yt : [INFO     ] 2022-07-20 08:57:08,687 Parameters: omega_radiation           = 0.0\n",
      "yt : [INFO     ] 2022-07-20 08:57:08,687 Parameters: hubble_constant           = 0.695\n"
     ]
    },
    {
     "name": "stdout",
     "output_type": "stream",
     "text": [
      "get_refine_box: using this location:       col1         col2     col3     col4     col5     col6     col7   col8\n",
      "---------------- -------- -------- -------- -------- -------- -------- ----\n",
      "0.83488657383741 0.491154 0.480465 0.504151 0.493154 0.482465 0.506151    9\n"
     ]
    },
    {
     "name": "stderr",
     "output_type": "stream",
     "text": [
      "Parsing Hierarchy : 100%|████████████████| 5231/5231 [00:00<00:00, 17627.93it/s]\n",
      "yt : [INFO     ] 2022-07-20 08:57:09,233 Gathering a field list (this may take a moment.)\n"
     ]
    },
    {
     "name": "stdout",
     "output_type": "stream",
     "text": [
      "Pulling halo center from catalog file\n",
      "Opening snapshot /Volumes/TempestTimeSteps/DD1127/DD1127\n"
     ]
    },
    {
     "name": "stderr",
     "output_type": "stream",
     "text": [
      "yt : [INFO     ] 2022-07-20 08:57:12,109 Parameters: current_time              = 314.56652781829\n",
      "yt : [INFO     ] 2022-07-20 08:57:12,111 Parameters: domain_dimensions         = [256 256 256]\n",
      "yt : [INFO     ] 2022-07-20 08:57:12,115 Parameters: domain_left_edge          = [0. 0. 0.]\n",
      "yt : [INFO     ] 2022-07-20 08:57:12,118 Parameters: domain_right_edge         = [1. 1. 1.]\n",
      "yt : [INFO     ] 2022-07-20 08:57:12,120 Parameters: cosmological_simulation   = 1\n",
      "yt : [INFO     ] 2022-07-20 08:57:12,121 Parameters: current_redshift          = 0.81307985104783\n",
      "yt : [INFO     ] 2022-07-20 08:57:12,121 Parameters: omega_lambda              = 0.715\n",
      "yt : [INFO     ] 2022-07-20 08:57:12,122 Parameters: omega_matter              = 0.285\n",
      "yt : [INFO     ] 2022-07-20 08:57:12,122 Parameters: omega_radiation           = 0.0\n",
      "yt : [INFO     ] 2022-07-20 08:57:12,123 Parameters: hubble_constant           = 0.695\n"
     ]
    },
    {
     "name": "stdout",
     "output_type": "stream",
     "text": [
      "get_refine_box: using this location:       col1         col2     col3     col4     col5     col6     col7   col8\n",
      "---------------- -------- -------- -------- -------- -------- -------- ----\n",
      "0.81307985104783 0.491127 0.480267 0.504221 0.493127 0.482267 0.506221    9\n"
     ]
    },
    {
     "name": "stderr",
     "output_type": "stream",
     "text": [
      "Parsing Hierarchy : 100%|████████████████| 5553/5553 [00:00<00:00, 18226.81it/s]\n",
      "yt : [INFO     ] 2022-07-20 08:57:12,656 Gathering a field list (this may take a moment.)\n"
     ]
    },
    {
     "name": "stdout",
     "output_type": "stream",
     "text": [
      "Pulling halo center from catalog file\n",
      "Opening snapshot /Volumes/TempestTimeSteps/DD1147/DD1147\n"
     ]
    },
    {
     "name": "stderr",
     "output_type": "stream",
     "text": [
      "yt : [INFO     ] 2022-07-20 08:57:15,681 Parameters: current_time              = 319.56652781829\n",
      "yt : [INFO     ] 2022-07-20 08:57:15,684 Parameters: domain_dimensions         = [256 256 256]\n",
      "yt : [INFO     ] 2022-07-20 08:57:15,687 Parameters: domain_left_edge          = [0. 0. 0.]\n",
      "yt : [INFO     ] 2022-07-20 08:57:15,690 Parameters: domain_right_edge         = [1. 1. 1.]\n",
      "yt : [INFO     ] 2022-07-20 08:57:15,690 Parameters: cosmological_simulation   = 1\n",
      "yt : [INFO     ] 2022-07-20 08:57:15,691 Parameters: current_redshift          = 0.79179927876823\n",
      "yt : [INFO     ] 2022-07-20 08:57:15,692 Parameters: omega_lambda              = 0.715\n",
      "yt : [INFO     ] 2022-07-20 08:57:15,692 Parameters: omega_matter              = 0.285\n",
      "yt : [INFO     ] 2022-07-20 08:57:15,693 Parameters: omega_radiation           = 0.0\n",
      "yt : [INFO     ] 2022-07-20 08:57:15,694 Parameters: hubble_constant           = 0.695\n"
     ]
    },
    {
     "name": "stdout",
     "output_type": "stream",
     "text": [
      "get_refine_box: using this location:       col1         col2     col3    col4    col5     col6    col7  col8\n",
      "---------------- -------- -------- ------ -------- -------- ------ ----\n",
      "0.79179927876823 0.491095 0.480072 0.5043 0.493095 0.482072 0.5063    9\n"
     ]
    },
    {
     "name": "stderr",
     "output_type": "stream",
     "text": [
      "Parsing Hierarchy : 100%|████████████████| 5902/5902 [00:00<00:00, 18065.16it/s]\n",
      "yt : [INFO     ] 2022-07-20 08:57:16,259 Gathering a field list (this may take a moment.)\n"
     ]
    },
    {
     "name": "stdout",
     "output_type": "stream",
     "text": [
      "Pulling halo center from catalog file\n",
      "Opening snapshot /Volumes/TempestTimeSteps/DD1167/DD1167\n"
     ]
    },
    {
     "name": "stderr",
     "output_type": "stream",
     "text": [
      "yt : [INFO     ] 2022-07-20 08:57:19,418 Parameters: current_time              = 324.56652781829\n",
      "yt : [INFO     ] 2022-07-20 08:57:19,421 Parameters: domain_dimensions         = [256 256 256]\n",
      "yt : [INFO     ] 2022-07-20 08:57:19,423 Parameters: domain_left_edge          = [0. 0. 0.]\n",
      "yt : [INFO     ] 2022-07-20 08:57:19,425 Parameters: domain_right_edge         = [1. 1. 1.]\n",
      "yt : [INFO     ] 2022-07-20 08:57:19,426 Parameters: cosmological_simulation   = 1\n",
      "yt : [INFO     ] 2022-07-20 08:57:19,427 Parameters: current_redshift          = 0.77102319068022\n",
      "yt : [INFO     ] 2022-07-20 08:57:19,428 Parameters: omega_lambda              = 0.715\n",
      "yt : [INFO     ] 2022-07-20 08:57:19,429 Parameters: omega_matter              = 0.285\n",
      "yt : [INFO     ] 2022-07-20 08:57:19,430 Parameters: omega_radiation           = 0.0\n",
      "yt : [INFO     ] 2022-07-20 08:57:19,431 Parameters: hubble_constant           = 0.695\n"
     ]
    },
    {
     "name": "stdout",
     "output_type": "stream",
     "text": [
      "get_refine_box: using this location:       col1         col2     col3     col4     col5     col6     col7   col8\n",
      "---------------- -------- -------- -------- -------- -------- -------- ----\n",
      "0.77102319068022 0.491061 0.479878 0.504383 0.493061 0.481878 0.506383    9\n"
     ]
    },
    {
     "name": "stderr",
     "output_type": "stream",
     "text": [
      "Parsing Hierarchy : 100%|████████████████| 6312/6312 [00:00<00:00, 17632.76it/s]\n",
      "yt : [INFO     ] 2022-07-20 08:57:20,035 Gathering a field list (this may take a moment.)\n"
     ]
    },
    {
     "name": "stdout",
     "output_type": "stream",
     "text": [
      "Pulling halo center from catalog file\n",
      "Opening snapshot /Volumes/TempestTimeSteps/DD1187/DD1187\n"
     ]
    },
    {
     "name": "stderr",
     "output_type": "stream",
     "text": [
      "yt : [INFO     ] 2022-07-20 08:57:23,000 Parameters: current_time              = 329.56652781829\n",
      "yt : [INFO     ] 2022-07-20 08:57:23,002 Parameters: domain_dimensions         = [256 256 256]\n",
      "yt : [INFO     ] 2022-07-20 08:57:23,005 Parameters: domain_left_edge          = [0. 0. 0.]\n",
      "yt : [INFO     ] 2022-07-20 08:57:23,008 Parameters: domain_right_edge         = [1. 1. 1.]\n",
      "yt : [INFO     ] 2022-07-20 08:57:23,009 Parameters: cosmological_simulation   = 1\n",
      "yt : [INFO     ] 2022-07-20 08:57:23,010 Parameters: current_redshift          = 0.75073113600866\n",
      "yt : [INFO     ] 2022-07-20 08:57:23,010 Parameters: omega_lambda              = 0.715\n",
      "yt : [INFO     ] 2022-07-20 08:57:23,011 Parameters: omega_matter              = 0.285\n",
      "yt : [INFO     ] 2022-07-20 08:57:23,011 Parameters: omega_radiation           = 0.0\n",
      "yt : [INFO     ] 2022-07-20 08:57:23,012 Parameters: hubble_constant           = 0.695\n"
     ]
    },
    {
     "name": "stdout",
     "output_type": "stream",
     "text": [
      "get_refine_box: using this location:       col1         col2     col3     col4     col5     col6     col7   col8\n",
      "---------------- -------- -------- -------- -------- -------- -------- ----\n",
      "0.75073113600866 0.491021 0.479683 0.504466 0.493021 0.481683 0.506466    9\n"
     ]
    },
    {
     "name": "stderr",
     "output_type": "stream",
     "text": [
      "Parsing Hierarchy : 100%|████████████████| 5990/5990 [00:00<00:00, 18426.28it/s]\n",
      "yt : [INFO     ] 2022-07-20 08:57:23,578 Gathering a field list (this may take a moment.)\n"
     ]
    },
    {
     "name": "stdout",
     "output_type": "stream",
     "text": [
      "Pulling halo center from catalog file\n",
      "Opening snapshot /Volumes/TempestTimeSteps/DD1207/DD1207\n"
     ]
    },
    {
     "name": "stderr",
     "output_type": "stream",
     "text": [
      "yt : [INFO     ] 2022-07-20 08:57:30,297 Parameters: current_time              = 334.56652781829\n",
      "yt : [INFO     ] 2022-07-20 08:57:30,299 Parameters: domain_dimensions         = [256 256 256]\n",
      "yt : [INFO     ] 2022-07-20 08:57:30,302 Parameters: domain_left_edge          = [0. 0. 0.]\n",
      "yt : [INFO     ] 2022-07-20 08:57:30,304 Parameters: domain_right_edge         = [1. 1. 1.]\n",
      "yt : [INFO     ] 2022-07-20 08:57:30,305 Parameters: cosmological_simulation   = 1\n",
      "yt : [INFO     ] 2022-07-20 08:57:30,305 Parameters: current_redshift          = 0.7309037944282\n",
      "yt : [INFO     ] 2022-07-20 08:57:30,306 Parameters: omega_lambda              = 0.715\n",
      "yt : [INFO     ] 2022-07-20 08:57:30,307 Parameters: omega_matter              = 0.285\n",
      "yt : [INFO     ] 2022-07-20 08:57:30,308 Parameters: omega_radiation           = 0.0\n",
      "yt : [INFO     ] 2022-07-20 08:57:30,309 Parameters: hubble_constant           = 0.695\n"
     ]
    },
    {
     "name": "stdout",
     "output_type": "stream",
     "text": [
      "get_refine_box: using this location:       col1        col2     col3     col4     col5     col6     col7   col8\n",
      "--------------- -------- -------- -------- -------- -------- -------- ----\n",
      "0.7309037944282 0.490979 0.479485 0.504549 0.492979 0.481485 0.506549    9\n"
     ]
    },
    {
     "name": "stderr",
     "output_type": "stream",
     "text": [
      "Parsing Hierarchy : 100%|████████████████| 5804/5804 [00:00<00:00, 12423.53it/s]\n",
      "yt : [INFO     ] 2022-07-20 08:57:31,060 Gathering a field list (this may take a moment.)\n"
     ]
    },
    {
     "name": "stdout",
     "output_type": "stream",
     "text": [
      "Pulling halo center from catalog file\n",
      "Opening snapshot /Volumes/TempestTimeSteps/DD1227/DD1227\n"
     ]
    },
    {
     "name": "stderr",
     "output_type": "stream",
     "text": [
      "yt : [INFO     ] 2022-07-20 08:57:34,298 Parameters: current_time              = 339.56652781829\n",
      "yt : [INFO     ] 2022-07-20 08:57:34,301 Parameters: domain_dimensions         = [256 256 256]\n",
      "yt : [INFO     ] 2022-07-20 08:57:34,306 Parameters: domain_left_edge          = [0. 0. 0.]\n",
      "yt : [INFO     ] 2022-07-20 08:57:34,309 Parameters: domain_right_edge         = [1. 1. 1.]\n",
      "yt : [INFO     ] 2022-07-20 08:57:34,310 Parameters: cosmological_simulation   = 1\n",
      "yt : [INFO     ] 2022-07-20 08:57:34,310 Parameters: current_redshift          = 0.71152289808928\n",
      "yt : [INFO     ] 2022-07-20 08:57:34,311 Parameters: omega_lambda              = 0.715\n",
      "yt : [INFO     ] 2022-07-20 08:57:34,311 Parameters: omega_matter              = 0.285\n",
      "yt : [INFO     ] 2022-07-20 08:57:34,311 Parameters: omega_radiation           = 0.0\n",
      "yt : [INFO     ] 2022-07-20 08:57:34,312 Parameters: hubble_constant           = 0.695\n"
     ]
    },
    {
     "name": "stdout",
     "output_type": "stream",
     "text": [
      "get_refine_box: using this location:       col1         col2     col3     col4     col5     col6     col7   col8\n",
      "---------------- -------- -------- -------- -------- -------- -------- ----\n",
      "0.71152289808928 0.490935 0.479287 0.504633 0.492935 0.481287 0.506633    9\n"
     ]
    },
    {
     "name": "stderr",
     "output_type": "stream",
     "text": [
      "Parsing Hierarchy : 100%|████████████████| 5825/5825 [00:00<00:00, 15848.39it/s]\n",
      "yt : [INFO     ] 2022-07-20 08:57:34,930 Gathering a field list (this may take a moment.)\n"
     ]
    },
    {
     "name": "stdout",
     "output_type": "stream",
     "text": [
      "Pulling halo center from catalog file\n",
      "Opening snapshot /Volumes/TempestTimeSteps/DD1247/DD1247\n"
     ]
    },
    {
     "name": "stderr",
     "output_type": "stream",
     "text": [
      "yt : [INFO     ] 2022-07-20 08:57:38,226 Parameters: current_time              = 344.56652781829\n",
      "yt : [INFO     ] 2022-07-20 08:57:38,229 Parameters: domain_dimensions         = [256 256 256]\n",
      "yt : [INFO     ] 2022-07-20 08:57:38,231 Parameters: domain_left_edge          = [0. 0. 0.]\n",
      "yt : [INFO     ] 2022-07-20 08:57:38,235 Parameters: domain_right_edge         = [1. 1. 1.]\n",
      "yt : [INFO     ] 2022-07-20 08:57:38,236 Parameters: cosmological_simulation   = 1\n",
      "yt : [INFO     ] 2022-07-20 08:57:38,236 Parameters: current_redshift          = 0.6925711600732\n",
      "yt : [INFO     ] 2022-07-20 08:57:38,237 Parameters: omega_lambda              = 0.715\n",
      "yt : [INFO     ] 2022-07-20 08:57:38,238 Parameters: omega_matter              = 0.285\n",
      "yt : [INFO     ] 2022-07-20 08:57:38,238 Parameters: omega_radiation           = 0.0\n",
      "yt : [INFO     ] 2022-07-20 08:57:38,239 Parameters: hubble_constant           = 0.695\n"
     ]
    },
    {
     "name": "stdout",
     "output_type": "stream",
     "text": [
      "get_refine_box: using this location:       col1        col2     col3     col4     col5     col6     col7   col8\n",
      "--------------- -------- -------- -------- -------- -------- -------- ----\n",
      "0.6925711600732 0.490889 0.479086 0.504717 0.492889 0.481086 0.506717    9\n"
     ]
    },
    {
     "name": "stderr",
     "output_type": "stream",
     "text": [
      "Parsing Hierarchy : 100%|████████████████| 5729/5729 [00:00<00:00, 14639.25it/s]\n",
      "yt : [INFO     ] 2022-07-20 08:57:38,917 Gathering a field list (this may take a moment.)\n"
     ]
    },
    {
     "name": "stdout",
     "output_type": "stream",
     "text": [
      "Pulling halo center from catalog file\n",
      "Opening snapshot /Volumes/TempestTimeSteps/DD1267/DD1267\n"
     ]
    },
    {
     "name": "stderr",
     "output_type": "stream",
     "text": [
      "yt : [INFO     ] 2022-07-20 08:57:42,165 Parameters: current_time              = 349.56652781829\n",
      "yt : [INFO     ] 2022-07-20 08:57:42,168 Parameters: domain_dimensions         = [256 256 256]\n",
      "yt : [INFO     ] 2022-07-20 08:57:42,170 Parameters: domain_left_edge          = [0. 0. 0.]\n",
      "yt : [INFO     ] 2022-07-20 08:57:42,173 Parameters: domain_right_edge         = [1. 1. 1.]\n",
      "yt : [INFO     ] 2022-07-20 08:57:42,174 Parameters: cosmological_simulation   = 1\n",
      "yt : [INFO     ] 2022-07-20 08:57:42,175 Parameters: current_redshift          = 0.67403220866149\n",
      "yt : [INFO     ] 2022-07-20 08:57:42,175 Parameters: omega_lambda              = 0.715\n",
      "yt : [INFO     ] 2022-07-20 08:57:42,176 Parameters: omega_matter              = 0.285\n",
      "yt : [INFO     ] 2022-07-20 08:57:42,176 Parameters: omega_radiation           = 0.0\n",
      "yt : [INFO     ] 2022-07-20 08:57:42,177 Parameters: hubble_constant           = 0.695\n"
     ]
    },
    {
     "name": "stdout",
     "output_type": "stream",
     "text": [
      "get_refine_box: using this location:       col1         col2     col3    col4     col5     col6    col7   col8\n",
      "---------------- -------- ------- -------- -------- ------- -------- ----\n",
      "0.67403220866149 0.490839 0.47889 0.504803 0.492839 0.48089 0.506803    9\n"
     ]
    },
    {
     "name": "stderr",
     "output_type": "stream",
     "text": [
      "Parsing Hierarchy : 100%|████████████████| 5866/5866 [00:00<00:00, 12573.46it/s]\n",
      "yt : [INFO     ] 2022-07-20 08:57:42,904 Gathering a field list (this may take a moment.)\n"
     ]
    },
    {
     "name": "stdout",
     "output_type": "stream",
     "text": [
      "Pulling halo center from catalog file\n",
      "Opening snapshot /Volumes/TempestTimeSteps/DD1287/DD1287\n"
     ]
    },
    {
     "name": "stderr",
     "output_type": "stream",
     "text": [
      "yt : [INFO     ] 2022-07-20 08:57:46,308 Parameters: current_time              = 354.56652781829\n",
      "yt : [INFO     ] 2022-07-20 08:57:46,312 Parameters: domain_dimensions         = [256 256 256]\n",
      "yt : [INFO     ] 2022-07-20 08:57:46,315 Parameters: domain_left_edge          = [0. 0. 0.]\n",
      "yt : [INFO     ] 2022-07-20 08:57:46,319 Parameters: domain_right_edge         = [1. 1. 1.]\n",
      "yt : [INFO     ] 2022-07-20 08:57:46,320 Parameters: cosmological_simulation   = 1\n",
      "yt : [INFO     ] 2022-07-20 08:57:46,320 Parameters: current_redshift          = 0.65589052687153\n",
      "yt : [INFO     ] 2022-07-20 08:57:46,321 Parameters: omega_lambda              = 0.715\n",
      "yt : [INFO     ] 2022-07-20 08:57:46,322 Parameters: omega_matter              = 0.285\n",
      "yt : [INFO     ] 2022-07-20 08:57:46,322 Parameters: omega_radiation           = 0.0\n",
      "yt : [INFO     ] 2022-07-20 08:57:46,323 Parameters: hubble_constant           = 0.695\n"
     ]
    },
    {
     "name": "stdout",
     "output_type": "stream",
     "text": [
      "get_refine_box: using this location:       col1         col2     col3     col4     col5     col6     col7   col8\n",
      "---------------- -------- -------- -------- -------- -------- -------- ----\n",
      "0.65589052687153 0.490792 0.478699 0.504887 0.492792 0.480699 0.506887    9\n"
     ]
    },
    {
     "name": "stderr",
     "output_type": "stream",
     "text": [
      "Parsing Hierarchy : 100%|████████████████| 6144/6144 [00:00<00:00, 15702.74it/s]\n",
      "yt : [INFO     ] 2022-07-20 08:57:47,014 Gathering a field list (this may take a moment.)\n"
     ]
    },
    {
     "name": "stdout",
     "output_type": "stream",
     "text": [
      "Pulling halo center from catalog file\n",
      "Opening snapshot /Volumes/TempestTimeSteps/DD1307/DD1307\n"
     ]
    },
    {
     "name": "stderr",
     "output_type": "stream",
     "text": [
      "yt : [INFO     ] 2022-07-20 08:57:50,748 Parameters: current_time              = 359.56652781829\n",
      "yt : [INFO     ] 2022-07-20 08:57:50,751 Parameters: domain_dimensions         = [256 256 256]\n",
      "yt : [INFO     ] 2022-07-20 08:57:50,754 Parameters: domain_left_edge          = [0. 0. 0.]\n",
      "yt : [INFO     ] 2022-07-20 08:57:50,757 Parameters: domain_right_edge         = [1. 1. 1.]\n",
      "yt : [INFO     ] 2022-07-20 08:57:50,758 Parameters: cosmological_simulation   = 1\n",
      "yt : [INFO     ] 2022-07-20 08:57:50,759 Parameters: current_redshift          = 0.63813139676917\n",
      "yt : [INFO     ] 2022-07-20 08:57:50,759 Parameters: omega_lambda              = 0.715\n",
      "yt : [INFO     ] 2022-07-20 08:57:50,760 Parameters: omega_matter              = 0.285\n",
      "yt : [INFO     ] 2022-07-20 08:57:50,761 Parameters: omega_radiation           = 0.0\n",
      "yt : [INFO     ] 2022-07-20 08:57:50,761 Parameters: hubble_constant           = 0.695\n"
     ]
    },
    {
     "name": "stdout",
     "output_type": "stream",
     "text": [
      "get_refine_box: using this location:       col1         col2     col3     col4     col5     col6     col7   col8\n",
      "---------------- -------- -------- -------- -------- -------- -------- ----\n",
      "0.63813139676917 0.490748 0.478512 0.504971 0.492748 0.480512 0.506971    9\n"
     ]
    },
    {
     "name": "stderr",
     "output_type": "stream",
     "text": [
      "Parsing Hierarchy : 100%|████████████████| 6120/6120 [00:00<00:00, 15658.99it/s]\n",
      "yt : [INFO     ] 2022-07-20 08:57:51,413 Gathering a field list (this may take a moment.)\n"
     ]
    },
    {
     "name": "stdout",
     "output_type": "stream",
     "text": [
      "Pulling halo center from catalog file\n",
      "Opening snapshot /Volumes/TempestTimeSteps/DD1310/DD1310\n"
     ]
    },
    {
     "name": "stderr",
     "output_type": "stream",
     "text": [
      "yt : [INFO     ] 2022-07-20 08:57:54,607 Parameters: current_time              = 360.31652781829\n",
      "yt : [INFO     ] 2022-07-20 08:57:54,610 Parameters: domain_dimensions         = [256 256 256]\n",
      "yt : [INFO     ] 2022-07-20 08:57:54,613 Parameters: domain_left_edge          = [0. 0. 0.]\n",
      "yt : [INFO     ] 2022-07-20 08:57:54,617 Parameters: domain_right_edge         = [1. 1. 1.]\n",
      "yt : [INFO     ] 2022-07-20 08:57:54,618 Parameters: cosmological_simulation   = 1\n",
      "yt : [INFO     ] 2022-07-20 08:57:54,618 Parameters: current_redshift          = 0.63549964938239\n",
      "yt : [INFO     ] 2022-07-20 08:57:54,618 Parameters: omega_lambda              = 0.715\n",
      "yt : [INFO     ] 2022-07-20 08:57:54,619 Parameters: omega_matter              = 0.285\n",
      "yt : [INFO     ] 2022-07-20 08:57:54,619 Parameters: omega_radiation           = 0.0\n",
      "yt : [INFO     ] 2022-07-20 08:57:54,620 Parameters: hubble_constant           = 0.695\n"
     ]
    },
    {
     "name": "stdout",
     "output_type": "stream",
     "text": [
      "get_refine_box: using this location:       col1         col2     col3     col4     col5     col6     col7   col8\n",
      "---------------- -------- -------- -------- -------- -------- -------- ----\n",
      "0.63549964938239 0.490742 0.478486 0.504982 0.492742 0.480486 0.506982    9\n"
     ]
    },
    {
     "name": "stderr",
     "output_type": "stream",
     "text": [
      "Parsing Hierarchy : 100%|████████████████| 6117/6117 [00:00<00:00, 17775.00it/s]\n",
      "yt : [INFO     ] 2022-07-20 08:57:55,234 Gathering a field list (this may take a moment.)\n"
     ]
    },
    {
     "name": "stdout",
     "output_type": "stream",
     "text": [
      "Pulling halo center from catalog file\n",
      "Opening snapshot /Volumes/TempestTimeSteps/DD1311/DD1311\n"
     ]
    },
    {
     "name": "stderr",
     "output_type": "stream",
     "text": [
      "yt : [INFO     ] 2022-07-20 08:57:58,668 Parameters: current_time              = 360.56652781829\n",
      "yt : [INFO     ] 2022-07-20 08:57:58,671 Parameters: domain_dimensions         = [256 256 256]\n",
      "yt : [INFO     ] 2022-07-20 08:57:58,674 Parameters: domain_left_edge          = [0. 0. 0.]\n",
      "yt : [INFO     ] 2022-07-20 08:57:58,677 Parameters: domain_right_edge         = [1. 1. 1.]\n",
      "yt : [INFO     ] 2022-07-20 08:57:58,677 Parameters: cosmological_simulation   = 1\n",
      "yt : [INFO     ] 2022-07-20 08:57:58,678 Parameters: current_redshift          = 0.63462423495761\n",
      "yt : [INFO     ] 2022-07-20 08:57:58,679 Parameters: omega_lambda              = 0.715\n",
      "yt : [INFO     ] 2022-07-20 08:57:58,679 Parameters: omega_matter              = 0.285\n",
      "yt : [INFO     ] 2022-07-20 08:57:58,680 Parameters: omega_radiation           = 0.0\n",
      "yt : [INFO     ] 2022-07-20 08:57:58,681 Parameters: hubble_constant           = 0.695\n"
     ]
    },
    {
     "name": "stdout",
     "output_type": "stream",
     "text": [
      "get_refine_box: using this location:       col1         col2    col3     col4     col5    col6     col7   col8\n",
      "---------------- ------- -------- -------- ------- -------- -------- ----\n",
      "0.63462423495761 0.49074 0.478476 0.504986 0.49274 0.480476 0.506986    9\n"
     ]
    },
    {
     "name": "stderr",
     "output_type": "stream",
     "text": [
      "Parsing Hierarchy : 100%|████████████████| 6212/6212 [00:00<00:00, 17733.02it/s]\n",
      "yt : [INFO     ] 2022-07-20 08:57:59,313 Gathering a field list (this may take a moment.)\n",
      "yt : [INFO     ] 2022-07-20 08:58:02,283 Parameters: current_time              = 360.81652781829\n",
      "yt : [INFO     ] 2022-07-20 08:58:02,286 Parameters: domain_dimensions         = [256 256 256]\n",
      "yt : [INFO     ] 2022-07-20 08:58:02,288 Parameters: domain_left_edge          = [0. 0. 0.]\n",
      "yt : [INFO     ] 2022-07-20 08:58:02,291 Parameters: domain_right_edge         = [1. 1. 1.]\n",
      "yt : [INFO     ] 2022-07-20 08:58:02,291 Parameters: cosmological_simulation   = 1\n",
      "yt : [INFO     ] 2022-07-20 08:58:02,292 Parameters: current_redshift          = 0.63374973507151\n",
      "yt : [INFO     ] 2022-07-20 08:58:02,292 Parameters: omega_lambda              = 0.715\n",
      "yt : [INFO     ] 2022-07-20 08:58:02,293 Parameters: omega_matter              = 0.285\n",
      "yt : [INFO     ] 2022-07-20 08:58:02,294 Parameters: omega_radiation           = 0.0\n",
      "yt : [INFO     ] 2022-07-20 08:58:02,295 Parameters: hubble_constant           = 0.695\n"
     ]
    },
    {
     "name": "stdout",
     "output_type": "stream",
     "text": [
      "Pulling halo center from catalog file\n",
      "Opening snapshot /Volumes/TempestTimeSteps/DD1312/DD1312\n",
      "get_refine_box: using this location:       col1         col2     col3     col4    col5     col6     col7  col8\n",
      "---------------- -------- -------- ------- -------- -------- ------- ----\n",
      "0.63374973507151 0.490738 0.478466 0.50499 0.492738 0.480466 0.50699    9\n"
     ]
    },
    {
     "name": "stderr",
     "output_type": "stream",
     "text": [
      "Parsing Hierarchy : 100%|████████████████| 6058/6058 [00:00<00:00, 12553.83it/s]\n",
      "yt : [INFO     ] 2022-07-20 08:58:03,096 Gathering a field list (this may take a moment.)\n",
      "yt : [INFO     ] 2022-07-20 08:58:06,308 Parameters: current_time              = 361.06652781829\n",
      "yt : [INFO     ] 2022-07-20 08:58:06,311 Parameters: domain_dimensions         = [256 256 256]\n",
      "yt : [INFO     ] 2022-07-20 08:58:06,313 Parameters: domain_left_edge          = [0. 0. 0.]\n",
      "yt : [INFO     ] 2022-07-20 08:58:06,315 Parameters: domain_right_edge         = [1. 1. 1.]\n",
      "yt : [INFO     ] 2022-07-20 08:58:06,316 Parameters: cosmological_simulation   = 1\n",
      "yt : [INFO     ] 2022-07-20 08:58:06,316 Parameters: current_redshift          = 0.63287614804254\n",
      "yt : [INFO     ] 2022-07-20 08:58:06,317 Parameters: omega_lambda              = 0.715\n",
      "yt : [INFO     ] 2022-07-20 08:58:06,318 Parameters: omega_matter              = 0.285\n",
      "yt : [INFO     ] 2022-07-20 08:58:06,319 Parameters: omega_radiation           = 0.0\n",
      "yt : [INFO     ] 2022-07-20 08:58:06,319 Parameters: hubble_constant           = 0.695\n"
     ]
    },
    {
     "name": "stdout",
     "output_type": "stream",
     "text": [
      "Pulling halo center from catalog file\n",
      "Opening snapshot /Volumes/TempestTimeSteps/DD1313/DD1313\n",
      "get_refine_box: using this location:       col1         col2     col3     col4     col5     col6     col7   col8\n",
      "---------------- -------- -------- -------- -------- -------- -------- ----\n",
      "0.63287614804254 0.490735 0.478457 0.504994 0.492735 0.480457 0.506994    9\n"
     ]
    },
    {
     "name": "stderr",
     "output_type": "stream",
     "text": [
      "Parsing Hierarchy : 100%|████████████████| 6082/6082 [00:00<00:00, 18344.20it/s]\n",
      "yt : [INFO     ] 2022-07-20 08:58:06,900 Gathering a field list (this may take a moment.)\n",
      "yt : [INFO     ] 2022-07-20 08:58:09,930 Parameters: current_time              = 361.31652781829\n",
      "yt : [INFO     ] 2022-07-20 08:58:09,933 Parameters: domain_dimensions         = [256 256 256]\n",
      "yt : [INFO     ] 2022-07-20 08:58:09,935 Parameters: domain_left_edge          = [0. 0. 0.]\n",
      "yt : [INFO     ] 2022-07-20 08:58:09,938 Parameters: domain_right_edge         = [1. 1. 1.]\n",
      "yt : [INFO     ] 2022-07-20 08:58:09,938 Parameters: cosmological_simulation   = 1\n",
      "yt : [INFO     ] 2022-07-20 08:58:09,939 Parameters: current_redshift          = 0.63200347219345\n",
      "yt : [INFO     ] 2022-07-20 08:58:09,940 Parameters: omega_lambda              = 0.715\n",
      "yt : [INFO     ] 2022-07-20 08:58:09,941 Parameters: omega_matter              = 0.285\n",
      "yt : [INFO     ] 2022-07-20 08:58:09,941 Parameters: omega_radiation           = 0.0\n",
      "yt : [INFO     ] 2022-07-20 08:58:09,942 Parameters: hubble_constant           = 0.695\n"
     ]
    },
    {
     "name": "stdout",
     "output_type": "stream",
     "text": [
      "Pulling halo center from catalog file\n",
      "Opening snapshot /Volumes/TempestTimeSteps/DD1314/DD1314\n",
      "get_refine_box: using this location:       col1         col2     col3    col4   col5     col6    col7 col8\n",
      "---------------- -------- -------- ----- -------- -------- ----- ----\n",
      "0.63200347219345 0.490733 0.478449 0.505 0.492733 0.480449 0.507    9\n"
     ]
    },
    {
     "name": "stderr",
     "output_type": "stream",
     "text": [
      "Parsing Hierarchy : 100%|████████████████| 5996/5996 [00:00<00:00, 18215.79it/s]\n",
      "yt : [INFO     ] 2022-07-20 08:58:10,584 Gathering a field list (this may take a moment.)\n"
     ]
    },
    {
     "name": "stdout",
     "output_type": "stream",
     "text": [
      "Pulling halo center from catalog file\n",
      "Opening snapshot /Volumes/TempestTimeSteps/DD1315/DD1315\n"
     ]
    },
    {
     "name": "stderr",
     "output_type": "stream",
     "text": [
      "yt : [INFO     ] 2022-07-20 08:58:13,691 Parameters: current_time              = 361.56652781829\n",
      "yt : [INFO     ] 2022-07-20 08:58:13,694 Parameters: domain_dimensions         = [256 256 256]\n",
      "yt : [INFO     ] 2022-07-20 08:58:13,697 Parameters: domain_left_edge          = [0. 0. 0.]\n",
      "yt : [INFO     ] 2022-07-20 08:58:13,700 Parameters: domain_right_edge         = [1. 1. 1.]\n",
      "yt : [INFO     ] 2022-07-20 08:58:13,700 Parameters: cosmological_simulation   = 1\n",
      "yt : [INFO     ] 2022-07-20 08:58:13,701 Parameters: current_redshift          = 0.63113170585127\n",
      "yt : [INFO     ] 2022-07-20 08:58:13,701 Parameters: omega_lambda              = 0.715\n",
      "yt : [INFO     ] 2022-07-20 08:58:13,702 Parameters: omega_matter              = 0.285\n",
      "yt : [INFO     ] 2022-07-20 08:58:13,702 Parameters: omega_radiation           = 0.0\n",
      "yt : [INFO     ] 2022-07-20 08:58:13,703 Parameters: hubble_constant           = 0.695\n"
     ]
    },
    {
     "name": "stdout",
     "output_type": "stream",
     "text": [
      "get_refine_box: using this location:       col1         col2     col3    col4     col5     col6    col7   col8\n",
      "---------------- -------- ------- -------- -------- ------- -------- ----\n",
      "0.63113170585127 0.490731 0.47844 0.505003 0.492731 0.48044 0.507003    9\n"
     ]
    },
    {
     "name": "stderr",
     "output_type": "stream",
     "text": [
      "Parsing Hierarchy : 100%|████████████████| 6053/6053 [00:00<00:00, 16760.21it/s]\n",
      "yt : [INFO     ] 2022-07-20 08:58:14,343 Gathering a field list (this may take a moment.)\n"
     ]
    },
    {
     "name": "stdout",
     "output_type": "stream",
     "text": [
      "Pulling halo center from catalog file\n",
      "Opening snapshot /Volumes/TempestTimeSteps/DD1316/DD1316\n"
     ]
    },
    {
     "name": "stderr",
     "output_type": "stream",
     "text": [
      "yt : [INFO     ] 2022-07-20 08:58:17,654 Parameters: current_time              = 361.81652781829\n",
      "yt : [INFO     ] 2022-07-20 08:58:17,657 Parameters: domain_dimensions         = [256 256 256]\n",
      "yt : [INFO     ] 2022-07-20 08:58:17,659 Parameters: domain_left_edge          = [0. 0. 0.]\n",
      "yt : [INFO     ] 2022-07-20 08:58:17,662 Parameters: domain_right_edge         = [1. 1. 1.]\n",
      "yt : [INFO     ] 2022-07-20 08:58:17,663 Parameters: cosmological_simulation   = 1\n",
      "yt : [INFO     ] 2022-07-20 08:58:17,663 Parameters: current_redshift          = 0.63026084734731\n",
      "yt : [INFO     ] 2022-07-20 08:58:17,664 Parameters: omega_lambda              = 0.715\n",
      "yt : [INFO     ] 2022-07-20 08:58:17,664 Parameters: omega_matter              = 0.285\n",
      "yt : [INFO     ] 2022-07-20 08:58:17,665 Parameters: omega_radiation           = 0.0\n",
      "yt : [INFO     ] 2022-07-20 08:58:17,666 Parameters: hubble_constant           = 0.695\n"
     ]
    },
    {
     "name": "stdout",
     "output_type": "stream",
     "text": [
      "get_refine_box: using this location:       col1         col2     col3    col4     col5     col6    col7   col8\n",
      "---------------- -------- ------- -------- -------- ------- -------- ----\n",
      "0.63026084734731 0.490729 0.47843 0.505007 0.492729 0.48043 0.507007    9\n"
     ]
    },
    {
     "name": "stderr",
     "output_type": "stream",
     "text": [
      "Parsing Hierarchy : 100%|████████████████| 5907/5907 [00:00<00:00, 17449.69it/s]\n",
      "yt : [INFO     ] 2022-07-20 08:58:18,357 Gathering a field list (this may take a moment.)\n",
      "yt : [INFO     ] 2022-07-20 08:58:21,722 Parameters: current_time              = 362.31652781829\n",
      "yt : [INFO     ] 2022-07-20 08:58:21,725 Parameters: domain_dimensions         = [256 256 256]\n",
      "yt : [INFO     ] 2022-07-20 08:58:21,728 Parameters: domain_left_edge          = [0. 0. 0.]\n",
      "yt : [INFO     ] 2022-07-20 08:58:21,731 Parameters: domain_right_edge         = [1. 1. 1.]\n",
      "yt : [INFO     ] 2022-07-20 08:58:21,731 Parameters: cosmological_simulation   = 1\n",
      "yt : [INFO     ] 2022-07-20 08:58:21,732 Parameters: current_redshift          = 0.62852184720062\n",
      "yt : [INFO     ] 2022-07-20 08:58:21,733 Parameters: omega_lambda              = 0.715\n",
      "yt : [INFO     ] 2022-07-20 08:58:21,733 Parameters: omega_matter              = 0.285\n",
      "yt : [INFO     ] 2022-07-20 08:58:21,734 Parameters: omega_radiation           = 0.0\n",
      "yt : [INFO     ] 2022-07-20 08:58:21,735 Parameters: hubble_constant           = 0.695\n"
     ]
    },
    {
     "name": "stdout",
     "output_type": "stream",
     "text": [
      "Pulling halo center from catalog file\n",
      "Opening snapshot /Volumes/TempestTimeSteps/DD1318/DD1318\n",
      "get_refine_box: using this location:       col1         col2     col3     col4     col5     col6     col7   col8\n",
      "---------------- -------- -------- -------- -------- -------- -------- ----\n",
      "0.62852184720062 0.490725 0.478411 0.505015 0.492725 0.480411 0.507015    9\n"
     ]
    },
    {
     "name": "stderr",
     "output_type": "stream",
     "text": [
      "Parsing Hierarchy : 100%|████████████████| 6061/6061 [00:00<00:00, 17922.73it/s]\n",
      "yt : [INFO     ] 2022-07-20 08:58:22,431 Gathering a field list (this may take a moment.)\n"
     ]
    },
    {
     "name": "stdout",
     "output_type": "stream",
     "text": [
      "Pulling halo center from catalog file\n",
      "Opening snapshot /Volumes/TempestTimeSteps/DD1319/DD1319\n"
     ]
    },
    {
     "name": "stderr",
     "output_type": "stream",
     "text": [
      "yt : [INFO     ] 2022-07-20 08:58:25,622 Parameters: current_time              = 362.56652781829\n",
      "yt : [INFO     ] 2022-07-20 08:58:25,624 Parameters: domain_dimensions         = [256 256 256]\n",
      "yt : [INFO     ] 2022-07-20 08:58:25,627 Parameters: domain_left_edge          = [0. 0. 0.]\n",
      "yt : [INFO     ] 2022-07-20 08:58:25,629 Parameters: domain_right_edge         = [1. 1. 1.]\n",
      "yt : [INFO     ] 2022-07-20 08:58:25,630 Parameters: cosmological_simulation   = 1\n",
      "yt : [INFO     ] 2022-07-20 08:58:25,630 Parameters: current_redshift          = 0.62765370224176\n",
      "yt : [INFO     ] 2022-07-20 08:58:25,631 Parameters: omega_lambda              = 0.715\n",
      "yt : [INFO     ] 2022-07-20 08:58:25,634 Parameters: omega_matter              = 0.285\n",
      "yt : [INFO     ] 2022-07-20 08:58:25,635 Parameters: omega_radiation           = 0.0\n",
      "yt : [INFO     ] 2022-07-20 08:58:25,635 Parameters: hubble_constant           = 0.695\n"
     ]
    },
    {
     "name": "stdout",
     "output_type": "stream",
     "text": [
      "get_refine_box: using this location:       col1         col2     col3     col4     col5     col6     col7   col8\n",
      "---------------- -------- -------- -------- -------- -------- -------- ----\n",
      "0.62765370224176 0.490723 0.478402 0.505019 0.492723 0.480402 0.507019    9\n"
     ]
    },
    {
     "name": "stderr",
     "output_type": "stream",
     "text": [
      "Parsing Hierarchy : 100%|█████████████████| 6108/6108 [00:04<00:00, 1285.33it/s]\n",
      "yt : [INFO     ] 2022-07-20 08:58:30,661 Gathering a field list (this may take a moment.)\n"
     ]
    },
    {
     "name": "stdout",
     "output_type": "stream",
     "text": [
      "Pulling halo center from catalog file\n",
      "Opening snapshot /Volumes/TempestTimeSteps/DD1320/DD1320\n"
     ]
    },
    {
     "name": "stderr",
     "output_type": "stream",
     "text": [
      "yt : [INFO     ] 2022-07-20 08:58:34,004 Parameters: current_time              = 362.81652781829\n",
      "yt : [INFO     ] 2022-07-20 08:58:34,007 Parameters: domain_dimensions         = [256 256 256]\n",
      "yt : [INFO     ] 2022-07-20 08:58:34,009 Parameters: domain_left_edge          = [0. 0. 0.]\n",
      "yt : [INFO     ] 2022-07-20 08:58:34,012 Parameters: domain_right_edge         = [1. 1. 1.]\n",
      "yt : [INFO     ] 2022-07-20 08:58:34,013 Parameters: cosmological_simulation   = 1\n",
      "yt : [INFO     ] 2022-07-20 08:58:34,013 Parameters: current_redshift          = 0.62678645848885\n",
      "yt : [INFO     ] 2022-07-20 08:58:34,014 Parameters: omega_lambda              = 0.715\n",
      "yt : [INFO     ] 2022-07-20 08:58:34,015 Parameters: omega_matter              = 0.285\n",
      "yt : [INFO     ] 2022-07-20 08:58:34,016 Parameters: omega_radiation           = 0.0\n",
      "yt : [INFO     ] 2022-07-20 08:58:34,016 Parameters: hubble_constant           = 0.695\n"
     ]
    },
    {
     "name": "stdout",
     "output_type": "stream",
     "text": [
      "get_refine_box: using this location:       col1         col2     col3     col4     col5     col6     col7   col8\n",
      "---------------- -------- -------- -------- -------- -------- -------- ----\n",
      "0.62678645848885 0.490721 0.478392 0.505022 0.492721 0.480392 0.507022    9\n"
     ]
    },
    {
     "name": "stderr",
     "output_type": "stream",
     "text": [
      "Parsing Hierarchy : 100%|████████████████| 6021/6021 [00:00<00:00, 15824.90it/s]\n",
      "yt : [INFO     ] 2022-07-20 08:58:34,675 Gathering a field list (this may take a moment.)\n"
     ]
    },
    {
     "name": "stdout",
     "output_type": "stream",
     "text": [
      "Pulling halo center from catalog file\n",
      "Opening snapshot /Volumes/TempestTimeSteps/DD1327/DD1327\n"
     ]
    },
    {
     "name": "stderr",
     "output_type": "stream",
     "text": [
      "yt : [INFO     ] 2022-07-20 08:58:38,321 Parameters: current_time              = 364.56652781829\n",
      "yt : [INFO     ] 2022-07-20 08:58:38,323 Parameters: domain_dimensions         = [256 256 256]\n",
      "yt : [INFO     ] 2022-07-20 08:58:38,325 Parameters: domain_left_edge          = [0. 0. 0.]\n",
      "yt : [INFO     ] 2022-07-20 08:58:38,328 Parameters: domain_right_edge         = [1. 1. 1.]\n",
      "yt : [INFO     ] 2022-07-20 08:58:38,328 Parameters: cosmological_simulation   = 1\n",
      "yt : [INFO     ] 2022-07-20 08:58:38,329 Parameters: current_redshift          = 0.62074084812024\n",
      "yt : [INFO     ] 2022-07-20 08:58:38,330 Parameters: omega_lambda              = 0.715\n",
      "yt : [INFO     ] 2022-07-20 08:58:38,330 Parameters: omega_matter              = 0.285\n",
      "yt : [INFO     ] 2022-07-20 08:58:38,331 Parameters: omega_radiation           = 0.0\n",
      "yt : [INFO     ] 2022-07-20 08:58:38,332 Parameters: hubble_constant           = 0.695\n"
     ]
    },
    {
     "name": "stdout",
     "output_type": "stream",
     "text": [
      "get_refine_box: using this location:       col1         col2     col3     col4     col5     col6     col7   col8\n",
      "---------------- -------- -------- -------- -------- -------- -------- ----\n",
      "0.62074084812024 0.490704 0.478329 0.505051 0.492704 0.480329 0.507051    9\n"
     ]
    },
    {
     "name": "stderr",
     "output_type": "stream",
     "text": [
      "Parsing Hierarchy : 100%|████████████████| 6122/6122 [00:00<00:00, 18453.71it/s]\n",
      "yt : [INFO     ] 2022-07-20 08:58:38,902 Gathering a field list (this may take a moment.)\n"
     ]
    },
    {
     "name": "stdout",
     "output_type": "stream",
     "text": [
      "Pulling halo center from catalog file\n",
      "Opening snapshot /Volumes/TempestTimeSteps/DD1347/DD1347\n"
     ]
    },
    {
     "name": "stderr",
     "output_type": "stream",
     "text": [
      "yt : [INFO     ] 2022-07-20 08:58:41,966 Parameters: current_time              = 369.56652781829\n",
      "yt : [INFO     ] 2022-07-20 08:58:41,968 Parameters: domain_dimensions         = [256 256 256]\n",
      "yt : [INFO     ] 2022-07-20 08:58:41,971 Parameters: domain_left_edge          = [0. 0. 0.]\n",
      "yt : [INFO     ] 2022-07-20 08:58:41,974 Parameters: domain_right_edge         = [1. 1. 1.]\n",
      "yt : [INFO     ] 2022-07-20 08:58:41,974 Parameters: cosmological_simulation   = 1\n",
      "yt : [INFO     ] 2022-07-20 08:58:41,975 Parameters: current_redshift          = 0.60370561098879\n",
      "yt : [INFO     ] 2022-07-20 08:58:41,976 Parameters: omega_lambda              = 0.715\n",
      "yt : [INFO     ] 2022-07-20 08:58:41,976 Parameters: omega_matter              = 0.285\n",
      "yt : [INFO     ] 2022-07-20 08:58:41,977 Parameters: omega_radiation           = 0.0\n",
      "yt : [INFO     ] 2022-07-20 08:58:41,977 Parameters: hubble_constant           = 0.695\n"
     ]
    },
    {
     "name": "stdout",
     "output_type": "stream",
     "text": [
      "get_refine_box: using this location:       col1         col2    col3     col4     col5    col6     col7   col8\n",
      "---------------- ------- -------- -------- ------- -------- -------- ----\n",
      "0.60370561098879 0.49066 0.478148 0.505129 0.49266 0.480148 0.507129    9\n"
     ]
    },
    {
     "name": "stderr",
     "output_type": "stream",
     "text": [
      "Parsing Hierarchy : 100%|████████████████| 6238/6238 [00:00<00:00, 17018.38it/s]\n",
      "yt : [INFO     ] 2022-07-20 08:58:42,693 Gathering a field list (this may take a moment.)\n"
     ]
    },
    {
     "name": "stdout",
     "output_type": "stream",
     "text": [
      "Pulling halo center from catalog file\n",
      "Opening snapshot /Volumes/TempestTimeSteps/DD1367/DD1367\n"
     ]
    },
    {
     "name": "stderr",
     "output_type": "stream",
     "text": [
      "yt : [INFO     ] 2022-07-20 08:58:45,957 Parameters: current_time              = 374.56652781829\n",
      "yt : [INFO     ] 2022-07-20 08:58:45,961 Parameters: domain_dimensions         = [256 256 256]\n",
      "yt : [INFO     ] 2022-07-20 08:58:45,964 Parameters: domain_left_edge          = [0. 0. 0.]\n",
      "yt : [INFO     ] 2022-07-20 08:58:45,967 Parameters: domain_right_edge         = [1. 1. 1.]\n",
      "yt : [INFO     ] 2022-07-20 08:58:45,969 Parameters: cosmological_simulation   = 1\n",
      "yt : [INFO     ] 2022-07-20 08:58:45,969 Parameters: current_redshift          = 0.58701307192989\n",
      "yt : [INFO     ] 2022-07-20 08:58:45,971 Parameters: omega_lambda              = 0.715\n",
      "yt : [INFO     ] 2022-07-20 08:58:45,972 Parameters: omega_matter              = 0.285\n",
      "yt : [INFO     ] 2022-07-20 08:58:45,973 Parameters: omega_radiation           = 0.0\n",
      "yt : [INFO     ] 2022-07-20 08:58:45,974 Parameters: hubble_constant           = 0.695\n"
     ]
    },
    {
     "name": "stdout",
     "output_type": "stream",
     "text": [
      "get_refine_box: using this location:       col1         col2     col3     col4     col5     col6     col7   col8\n",
      "---------------- -------- -------- -------- -------- -------- -------- ----\n",
      "0.58701307192989 0.490616 0.477969 0.505207 0.492616 0.479969 0.507207    9\n"
     ]
    },
    {
     "name": "stderr",
     "output_type": "stream",
     "text": [
      "Parsing Hierarchy : 100%|████████████████| 6198/6198 [00:00<00:00, 14406.99it/s]\n",
      "yt : [INFO     ] 2022-07-20 08:58:46,704 Gathering a field list (this may take a moment.)\n"
     ]
    },
    {
     "name": "stdout",
     "output_type": "stream",
     "text": [
      "Pulling halo center from catalog file\n",
      "Opening snapshot /Volumes/TempestTimeSteps/DD1387/DD1387\n"
     ]
    },
    {
     "name": "stderr",
     "output_type": "stream",
     "text": [
      "yt : [INFO     ] 2022-07-20 08:58:49,960 Parameters: current_time              = 379.56652781829\n",
      "yt : [INFO     ] 2022-07-20 08:58:49,962 Parameters: domain_dimensions         = [256 256 256]\n",
      "yt : [INFO     ] 2022-07-20 08:58:49,965 Parameters: domain_left_edge          = [0. 0. 0.]\n",
      "yt : [INFO     ] 2022-07-20 08:58:49,967 Parameters: domain_right_edge         = [1. 1. 1.]\n",
      "yt : [INFO     ] 2022-07-20 08:58:49,968 Parameters: cosmological_simulation   = 1\n",
      "yt : [INFO     ] 2022-07-20 08:58:49,968 Parameters: current_redshift          = 0.57065123346059\n",
      "yt : [INFO     ] 2022-07-20 08:58:49,968 Parameters: omega_lambda              = 0.715\n",
      "yt : [INFO     ] 2022-07-20 08:58:49,969 Parameters: omega_matter              = 0.285\n",
      "yt : [INFO     ] 2022-07-20 08:58:49,970 Parameters: omega_radiation           = 0.0\n",
      "yt : [INFO     ] 2022-07-20 08:58:49,970 Parameters: hubble_constant           = 0.695\n"
     ]
    },
    {
     "name": "stdout",
     "output_type": "stream",
     "text": [
      "get_refine_box: using this location:       col1         col2     col3     col4     col5     col6     col7   col8\n",
      "---------------- -------- -------- -------- -------- -------- -------- ----\n",
      "0.57065123346059 0.490572 0.477791 0.505288 0.492572 0.479791 0.507288    9\n"
     ]
    },
    {
     "name": "stderr",
     "output_type": "stream",
     "text": [
      "Parsing Hierarchy : 100%|████████████████| 6136/6136 [00:00<00:00, 17390.27it/s]\n",
      "yt : [INFO     ] 2022-07-20 08:58:50,583 Gathering a field list (this may take a moment.)\n"
     ]
    },
    {
     "name": "stdout",
     "output_type": "stream",
     "text": [
      "Pulling halo center from catalog file\n",
      "Opening snapshot /Volumes/TempestTimeSteps/DD1407/DD1407\n"
     ]
    },
    {
     "name": "stderr",
     "output_type": "stream",
     "text": [
      "yt : [INFO     ] 2022-07-20 08:58:53,624 Parameters: current_time              = 384.56652781829\n",
      "yt : [INFO     ] 2022-07-20 08:58:53,626 Parameters: domain_dimensions         = [256 256 256]\n",
      "yt : [INFO     ] 2022-07-20 08:58:53,629 Parameters: domain_left_edge          = [0. 0. 0.]\n",
      "yt : [INFO     ] 2022-07-20 08:58:53,632 Parameters: domain_right_edge         = [1. 1. 1.]\n",
      "yt : [INFO     ] 2022-07-20 08:58:53,633 Parameters: cosmological_simulation   = 1\n",
      "yt : [INFO     ] 2022-07-20 08:58:53,633 Parameters: current_redshift          = 0.55460867652421\n",
      "yt : [INFO     ] 2022-07-20 08:58:53,634 Parameters: omega_lambda              = 0.715\n",
      "yt : [INFO     ] 2022-07-20 08:58:53,634 Parameters: omega_matter              = 0.285\n",
      "yt : [INFO     ] 2022-07-20 08:58:53,635 Parameters: omega_radiation           = 0.0\n",
      "yt : [INFO     ] 2022-07-20 08:58:53,636 Parameters: hubble_constant           = 0.695\n"
     ]
    },
    {
     "name": "stdout",
     "output_type": "stream",
     "text": [
      "get_refine_box: using this location:       col1         col2     col3     col4     col5     col6     col7   col8\n",
      "---------------- -------- -------- -------- -------- -------- -------- ----\n",
      "0.55460867652421 0.490529 0.477618 0.505368 0.492529 0.479618 0.507368    9\n"
     ]
    },
    {
     "name": "stderr",
     "output_type": "stream",
     "text": [
      "Parsing Hierarchy : 100%|████████████████| 5851/5851 [00:00<00:00, 14538.96it/s]\n",
      "yt : [INFO     ] 2022-07-20 08:58:54,293 Gathering a field list (this may take a moment.)\n"
     ]
    },
    {
     "name": "stdout",
     "output_type": "stream",
     "text": [
      "Pulling halo center from catalog file\n",
      "Opening snapshot /Volumes/TempestTimeSteps/DD1427/DD1427\n"
     ]
    },
    {
     "name": "stderr",
     "output_type": "stream",
     "text": [
      "yt : [INFO     ] 2022-07-20 08:58:57,362 Parameters: current_time              = 389.56652781829\n",
      "yt : [INFO     ] 2022-07-20 08:58:57,364 Parameters: domain_dimensions         = [256 256 256]\n",
      "yt : [INFO     ] 2022-07-20 08:58:57,367 Parameters: domain_left_edge          = [0. 0. 0.]\n",
      "yt : [INFO     ] 2022-07-20 08:58:57,369 Parameters: domain_right_edge         = [1. 1. 1.]\n",
      "yt : [INFO     ] 2022-07-20 08:58:57,370 Parameters: cosmological_simulation   = 1\n",
      "yt : [INFO     ] 2022-07-20 08:58:57,371 Parameters: current_redshift          = 0.53887452569124\n",
      "yt : [INFO     ] 2022-07-20 08:58:57,372 Parameters: omega_lambda              = 0.715\n",
      "yt : [INFO     ] 2022-07-20 08:58:57,372 Parameters: omega_matter              = 0.285\n",
      "yt : [INFO     ] 2022-07-20 08:58:57,373 Parameters: omega_radiation           = 0.0\n",
      "yt : [INFO     ] 2022-07-20 08:58:57,373 Parameters: hubble_constant           = 0.695\n"
     ]
    },
    {
     "name": "stdout",
     "output_type": "stream",
     "text": [
      "get_refine_box: using this location:       col1         col2     col3     col4    col5     col6     col7  col8\n",
      "---------------- -------- -------- ------- -------- -------- ------- ----\n",
      "0.53887452569124 0.490487 0.477448 0.50545 0.492487 0.479448 0.50745    9\n"
     ]
    },
    {
     "name": "stderr",
     "output_type": "stream",
     "text": [
      "Parsing Hierarchy : 100%|████████████████| 5833/5833 [00:00<00:00, 16965.76it/s]\n",
      "yt : [INFO     ] 2022-07-20 08:58:57,964 Gathering a field list (this may take a moment.)\n"
     ]
    },
    {
     "name": "stdout",
     "output_type": "stream",
     "text": [
      "Pulling halo center from catalog file\n",
      "Opening snapshot /Volumes/TempestTimeSteps/DD1447/DD1447\n"
     ]
    },
    {
     "name": "stderr",
     "output_type": "stream",
     "text": [
      "yt : [INFO     ] 2022-07-20 08:59:01,027 Parameters: current_time              = 394.56652781829\n",
      "yt : [INFO     ] 2022-07-20 08:59:01,030 Parameters: domain_dimensions         = [256 256 256]\n",
      "yt : [INFO     ] 2022-07-20 08:59:01,033 Parameters: domain_left_edge          = [0. 0. 0.]\n",
      "yt : [INFO     ] 2022-07-20 08:59:01,036 Parameters: domain_right_edge         = [1. 1. 1.]\n",
      "yt : [INFO     ] 2022-07-20 08:59:01,037 Parameters: cosmological_simulation   = 1\n",
      "yt : [INFO     ] 2022-07-20 08:59:01,037 Parameters: current_redshift          = 0.52343841686509\n",
      "yt : [INFO     ] 2022-07-20 08:59:01,038 Parameters: omega_lambda              = 0.715\n",
      "yt : [INFO     ] 2022-07-20 08:59:01,039 Parameters: omega_matter              = 0.285\n",
      "yt : [INFO     ] 2022-07-20 08:59:01,039 Parameters: omega_radiation           = 0.0\n",
      "yt : [INFO     ] 2022-07-20 08:59:01,040 Parameters: hubble_constant           = 0.695\n"
     ]
    },
    {
     "name": "stdout",
     "output_type": "stream",
     "text": [
      "get_refine_box: using this location:       col1         col2     col3     col4     col5     col6     col7   col8\n",
      "---------------- -------- -------- -------- -------- -------- -------- ----\n",
      "0.52343841686509 0.490445 0.477276 0.505537 0.492445 0.479276 0.507537    9\n"
     ]
    },
    {
     "name": "stderr",
     "output_type": "stream",
     "text": [
      "Parsing Hierarchy : 100%|████████████████| 6011/6011 [00:00<00:00, 17075.43it/s]\n",
      "yt : [INFO     ] 2022-07-20 08:59:01,661 Gathering a field list (this may take a moment.)\n"
     ]
    },
    {
     "name": "stdout",
     "output_type": "stream",
     "text": [
      "Pulling halo center from catalog file\n",
      "Opening snapshot /Volumes/TempestTimeSteps/DD1467/DD1467\n"
     ]
    },
    {
     "name": "stderr",
     "output_type": "stream",
     "text": [
      "yt : [INFO     ] 2022-07-20 08:59:04,834 Parameters: current_time              = 399.56652781829\n",
      "yt : [INFO     ] 2022-07-20 08:59:04,837 Parameters: domain_dimensions         = [256 256 256]\n",
      "yt : [INFO     ] 2022-07-20 08:59:04,840 Parameters: domain_left_edge          = [0. 0. 0.]\n",
      "yt : [INFO     ] 2022-07-20 08:59:04,843 Parameters: domain_right_edge         = [1. 1. 1.]\n",
      "yt : [INFO     ] 2022-07-20 08:59:04,844 Parameters: cosmological_simulation   = 1\n",
      "yt : [INFO     ] 2022-07-20 08:59:04,845 Parameters: current_redshift          = 0.50829046728324\n",
      "yt : [INFO     ] 2022-07-20 08:59:04,845 Parameters: omega_lambda              = 0.715\n",
      "yt : [INFO     ] 2022-07-20 08:59:04,846 Parameters: omega_matter              = 0.285\n",
      "yt : [INFO     ] 2022-07-20 08:59:04,846 Parameters: omega_radiation           = 0.0\n",
      "yt : [INFO     ] 2022-07-20 08:59:04,846 Parameters: hubble_constant           = 0.695\n"
     ]
    },
    {
     "name": "stdout",
     "output_type": "stream",
     "text": [
      "get_refine_box: using this location:       col1         col2     col3     col4     col5     col6     col7   col8\n",
      "---------------- -------- -------- -------- -------- -------- -------- ----\n",
      "0.50829046728324 0.490403 0.477105 0.505623 0.492403 0.479105 0.507623    9\n"
     ]
    },
    {
     "name": "stderr",
     "output_type": "stream",
     "text": [
      "Parsing Hierarchy : 100%|████████████████| 6171/6171 [00:00<00:00, 16962.99it/s]\n",
      "yt : [INFO     ] 2022-07-20 08:59:05,479 Gathering a field list (this may take a moment.)\n"
     ]
    },
    {
     "name": "stdout",
     "output_type": "stream",
     "text": [
      "Pulling halo center from catalog file\n",
      "Opening snapshot /Volumes/TempestTimeSteps/DD1487/DD1487\n"
     ]
    },
    {
     "name": "stderr",
     "output_type": "stream",
     "text": [
      "yt : [INFO     ] 2022-07-20 08:59:08,704 Parameters: current_time              = 404.56652781829\n",
      "yt : [INFO     ] 2022-07-20 08:59:08,706 Parameters: domain_dimensions         = [256 256 256]\n",
      "yt : [INFO     ] 2022-07-20 08:59:08,709 Parameters: domain_left_edge          = [0. 0. 0.]\n",
      "yt : [INFO     ] 2022-07-20 08:59:08,712 Parameters: domain_right_edge         = [1. 1. 1.]\n",
      "yt : [INFO     ] 2022-07-20 08:59:08,712 Parameters: cosmological_simulation   = 1\n",
      "yt : [INFO     ] 2022-07-20 08:59:08,713 Parameters: current_redshift          = 0.49342124762432\n",
      "yt : [INFO     ] 2022-07-20 08:59:08,714 Parameters: omega_lambda              = 0.715\n",
      "yt : [INFO     ] 2022-07-20 08:59:08,715 Parameters: omega_matter              = 0.285\n",
      "yt : [INFO     ] 2022-07-20 08:59:08,716 Parameters: omega_radiation           = 0.0\n",
      "yt : [INFO     ] 2022-07-20 08:59:08,716 Parameters: hubble_constant           = 0.695\n"
     ]
    },
    {
     "name": "stdout",
     "output_type": "stream",
     "text": [
      "get_refine_box: using this location:       col1         col2     col3     col4     col5     col6     col7   col8\n",
      "---------------- -------- -------- -------- -------- -------- -------- ----\n",
      "0.49342124762432 0.490359 0.476933 0.505703 0.492359 0.478933 0.507703    9\n"
     ]
    },
    {
     "name": "stderr",
     "output_type": "stream",
     "text": [
      "Parsing Hierarchy : 100%|████████████████| 5910/5910 [00:00<00:00, 17146.50it/s]\n",
      "yt : [INFO     ] 2022-07-20 08:59:09,331 Gathering a field list (this may take a moment.)\n"
     ]
    },
    {
     "name": "stdout",
     "output_type": "stream",
     "text": [
      "Pulling halo center from catalog file\n",
      "Opening snapshot /Volumes/TempestTimeSteps/DD1507/DD1507\n"
     ]
    },
    {
     "name": "stderr",
     "output_type": "stream",
     "text": [
      "yt : [INFO     ] 2022-07-20 08:59:12,481 Parameters: current_time              = 409.56652781829\n",
      "yt : [INFO     ] 2022-07-20 08:59:12,484 Parameters: domain_dimensions         = [256 256 256]\n",
      "yt : [INFO     ] 2022-07-20 08:59:12,486 Parameters: domain_left_edge          = [0. 0. 0.]\n",
      "yt : [INFO     ] 2022-07-20 08:59:12,489 Parameters: domain_right_edge         = [1. 1. 1.]\n",
      "yt : [INFO     ] 2022-07-20 08:59:12,489 Parameters: cosmological_simulation   = 1\n",
      "yt : [INFO     ] 2022-07-20 08:59:12,490 Parameters: current_redshift          = 0.47882175604921\n",
      "yt : [INFO     ] 2022-07-20 08:59:12,490 Parameters: omega_lambda              = 0.715\n",
      "yt : [INFO     ] 2022-07-20 08:59:12,491 Parameters: omega_matter              = 0.285\n",
      "yt : [INFO     ] 2022-07-20 08:59:12,491 Parameters: omega_radiation           = 0.0\n",
      "yt : [INFO     ] 2022-07-20 08:59:12,492 Parameters: hubble_constant           = 0.695\n"
     ]
    },
    {
     "name": "stdout",
     "output_type": "stream",
     "text": [
      "get_refine_box: using this location:       col1         col2     col3     col4     col5     col6     col7   col8\n",
      "---------------- -------- -------- -------- -------- -------- -------- ----\n",
      "0.47882175604921 0.490311 0.476767 0.505778 0.492311 0.478767 0.507778    9\n"
     ]
    },
    {
     "name": "stderr",
     "output_type": "stream",
     "text": [
      "Parsing Hierarchy : 100%|████████████████| 5867/5867 [00:00<00:00, 17122.92it/s]\n",
      "yt : [INFO     ] 2022-07-20 08:59:13,080 Gathering a field list (this may take a moment.)\n"
     ]
    },
    {
     "name": "stdout",
     "output_type": "stream",
     "text": [
      "Pulling halo center from catalog file\n",
      "Opening snapshot /Volumes/TempestTimeSteps/DD1527/DD1527\n"
     ]
    },
    {
     "name": "stderr",
     "output_type": "stream",
     "text": [
      "yt : [INFO     ] 2022-07-20 08:59:16,223 Parameters: current_time              = 414.56652781829\n",
      "yt : [INFO     ] 2022-07-20 08:59:16,226 Parameters: domain_dimensions         = [256 256 256]\n",
      "yt : [INFO     ] 2022-07-20 08:59:16,229 Parameters: domain_left_edge          = [0. 0. 0.]\n",
      "yt : [INFO     ] 2022-07-20 08:59:16,231 Parameters: domain_right_edge         = [1. 1. 1.]\n",
      "yt : [INFO     ] 2022-07-20 08:59:16,233 Parameters: cosmological_simulation   = 1\n",
      "yt : [INFO     ] 2022-07-20 08:59:16,233 Parameters: current_redshift          = 0.46448339402042\n",
      "yt : [INFO     ] 2022-07-20 08:59:16,234 Parameters: omega_lambda              = 0.715\n",
      "yt : [INFO     ] 2022-07-20 08:59:16,235 Parameters: omega_matter              = 0.285\n",
      "yt : [INFO     ] 2022-07-20 08:59:16,235 Parameters: omega_radiation           = 0.0\n",
      "yt : [INFO     ] 2022-07-20 08:59:16,236 Parameters: hubble_constant           = 0.695\n"
     ]
    },
    {
     "name": "stdout",
     "output_type": "stream",
     "text": [
      "get_refine_box: using this location:       col1         col2     col3     col4     col5     col6     col7   col8\n",
      "---------------- -------- -------- -------- -------- -------- -------- ----\n",
      "0.46448339402042 0.490271 0.476607 0.505839 0.492271 0.478607 0.507839    9\n"
     ]
    },
    {
     "name": "stderr",
     "output_type": "stream",
     "text": [
      "Parsing Hierarchy : 100%|████████████████| 5969/5969 [00:00<00:00, 16377.21it/s]\n",
      "yt : [INFO     ] 2022-07-20 08:59:16,868 Gathering a field list (this may take a moment.)\n"
     ]
    },
    {
     "name": "stdout",
     "output_type": "stream",
     "text": [
      "Pulling halo center from catalog file\n",
      "Opening snapshot /Volumes/TempestTimeSteps/DD1547/DD1547\n"
     ]
    },
    {
     "name": "stderr",
     "output_type": "stream",
     "text": [
      "yt : [INFO     ] 2022-07-20 08:59:20,090 Parameters: current_time              = 419.56652781829\n",
      "yt : [INFO     ] 2022-07-20 08:59:20,093 Parameters: domain_dimensions         = [256 256 256]\n",
      "yt : [INFO     ] 2022-07-20 08:59:20,095 Parameters: domain_left_edge          = [0. 0. 0.]\n",
      "yt : [INFO     ] 2022-07-20 08:59:20,098 Parameters: domain_right_edge         = [1. 1. 1.]\n",
      "yt : [INFO     ] 2022-07-20 08:59:20,099 Parameters: cosmological_simulation   = 1\n",
      "yt : [INFO     ] 2022-07-20 08:59:20,100 Parameters: current_redshift          = 0.45039794375812\n",
      "yt : [INFO     ] 2022-07-20 08:59:20,100 Parameters: omega_lambda              = 0.715\n",
      "yt : [INFO     ] 2022-07-20 08:59:20,101 Parameters: omega_matter              = 0.285\n",
      "yt : [INFO     ] 2022-07-20 08:59:20,102 Parameters: omega_radiation           = 0.0\n",
      "yt : [INFO     ] 2022-07-20 08:59:20,102 Parameters: hubble_constant           = 0.695\n"
     ]
    },
    {
     "name": "stdout",
     "output_type": "stream",
     "text": [
      "get_refine_box: using this location:       col1         col2     col3     col4     col5     col6     col7   col8\n",
      "---------------- -------- -------- -------- -------- -------- -------- ----\n",
      "0.45039794375812 0.490235 0.476443 0.505904 0.492235 0.478443 0.507904    9\n"
     ]
    },
    {
     "name": "stderr",
     "output_type": "stream",
     "text": [
      "Parsing Hierarchy : 100%|████████████████| 5953/5953 [00:00<00:00, 16843.92it/s]\n",
      "yt : [INFO     ] 2022-07-20 08:59:20,712 Gathering a field list (this may take a moment.)\n"
     ]
    },
    {
     "name": "stdout",
     "output_type": "stream",
     "text": [
      "Pulling halo center from catalog file\n",
      "Opening snapshot /Volumes/TempestTimeSteps/DD1567/DD1567\n"
     ]
    },
    {
     "name": "stderr",
     "output_type": "stream",
     "text": [
      "yt : [INFO     ] 2022-07-20 08:59:23,937 Parameters: current_time              = 424.56652781829\n",
      "yt : [INFO     ] 2022-07-20 08:59:23,940 Parameters: domain_dimensions         = [256 256 256]\n",
      "yt : [INFO     ] 2022-07-20 08:59:23,943 Parameters: domain_left_edge          = [0. 0. 0.]\n",
      "yt : [INFO     ] 2022-07-20 08:59:23,946 Parameters: domain_right_edge         = [1. 1. 1.]\n",
      "yt : [INFO     ] 2022-07-20 08:59:23,946 Parameters: cosmological_simulation   = 1\n",
      "yt : [INFO     ] 2022-07-20 08:59:23,947 Parameters: current_redshift          = 0.43654854251444\n",
      "yt : [INFO     ] 2022-07-20 08:59:23,947 Parameters: omega_lambda              = 0.715\n",
      "yt : [INFO     ] 2022-07-20 08:59:23,948 Parameters: omega_matter              = 0.285\n",
      "yt : [INFO     ] 2022-07-20 08:59:23,948 Parameters: omega_radiation           = 0\n",
      "yt : [INFO     ] 2022-07-20 08:59:23,949 Parameters: hubble_constant           = 0.695\n"
     ]
    },
    {
     "name": "stdout",
     "output_type": "stream",
     "text": [
      "get_refine_box: using this location:       col1         col2     col3     col4     col5     col6     col7   col8\n",
      "---------------- -------- -------- -------- -------- -------- -------- ----\n",
      "0.43655754720396 0.490199 0.476281 0.505972 0.492199 0.478281 0.507972    9\n"
     ]
    },
    {
     "name": "stderr",
     "output_type": "stream",
     "text": [
      "Parsing Hierarchy : 100%|████████████████| 5989/5989 [00:00<00:00, 16280.43it/s]\n",
      "yt : [INFO     ] 2022-07-20 08:59:24,586 Gathering a field list (this may take a moment.)\n"
     ]
    },
    {
     "name": "stdout",
     "output_type": "stream",
     "text": [
      "Pulling halo center from catalog file\n",
      "Opening snapshot /Volumes/TempestTimeSteps/DD1587/DD1587\n"
     ]
    },
    {
     "name": "stderr",
     "output_type": "stream",
     "text": [
      "yt : [INFO     ] 2022-07-20 08:59:27,974 Parameters: current_time              = 429.56652781829\n",
      "yt : [INFO     ] 2022-07-20 08:59:27,976 Parameters: domain_dimensions         = [256 256 256]\n",
      "yt : [INFO     ] 2022-07-20 08:59:27,979 Parameters: domain_left_edge          = [0. 0. 0.]\n",
      "yt : [INFO     ] 2022-07-20 08:59:27,982 Parameters: domain_right_edge         = [1. 1. 1.]\n",
      "yt : [INFO     ] 2022-07-20 08:59:27,983 Parameters: cosmological_simulation   = 1\n",
      "yt : [INFO     ] 2022-07-20 08:59:27,984 Parameters: current_redshift          = 0.42294018464771\n",
      "yt : [INFO     ] 2022-07-20 08:59:27,985 Parameters: omega_lambda              = 0.715\n",
      "yt : [INFO     ] 2022-07-20 08:59:27,985 Parameters: omega_matter              = 0.285\n",
      "yt : [INFO     ] 2022-07-20 08:59:27,986 Parameters: omega_radiation           = 0\n",
      "yt : [INFO     ] 2022-07-20 08:59:27,986 Parameters: hubble_constant           = 0.695\n"
     ]
    },
    {
     "name": "stdout",
     "output_type": "stream",
     "text": [
      "get_refine_box: using this location:       col1         col2     col3     col4     col5     col6     col7   col8\n",
      "---------------- -------- -------- -------- -------- -------- -------- ----\n",
      "0.42295468637566 0.490164 0.476115 0.506041 0.492164 0.478115 0.508041    9\n"
     ]
    },
    {
     "name": "stderr",
     "output_type": "stream",
     "text": [
      "Parsing Hierarchy : 100%|████████████████| 5816/5816 [00:00<00:00, 14584.08it/s]\n",
      "yt : [INFO     ] 2022-07-20 08:59:28,635 Gathering a field list (this may take a moment.)\n"
     ]
    },
    {
     "name": "stdout",
     "output_type": "stream",
     "text": [
      "Pulling halo center from catalog file\n",
      "Opening snapshot /Volumes/TempestTimeSteps/DD1607/DD1607\n"
     ]
    },
    {
     "name": "stderr",
     "output_type": "stream",
     "text": [
      "yt : [INFO     ] 2022-07-20 08:59:31,875 Parameters: current_time              = 434.56652781829\n",
      "yt : [INFO     ] 2022-07-20 08:59:31,877 Parameters: domain_dimensions         = [256 256 256]\n",
      "yt : [INFO     ] 2022-07-20 08:59:31,881 Parameters: domain_left_edge          = [0. 0. 0.]\n",
      "yt : [INFO     ] 2022-07-20 08:59:31,884 Parameters: domain_right_edge         = [1. 1. 1.]\n",
      "yt : [INFO     ] 2022-07-20 08:59:31,885 Parameters: cosmological_simulation   = 1\n",
      "yt : [INFO     ] 2022-07-20 08:59:31,886 Parameters: current_redshift          = 0.40957366338403\n",
      "yt : [INFO     ] 2022-07-20 08:59:31,886 Parameters: omega_lambda              = 0.715\n",
      "yt : [INFO     ] 2022-07-20 08:59:31,887 Parameters: omega_matter              = 0.285\n",
      "yt : [INFO     ] 2022-07-20 08:59:31,888 Parameters: omega_radiation           = 0\n",
      "yt : [INFO     ] 2022-07-20 08:59:31,888 Parameters: hubble_constant           = 0.695\n"
     ]
    },
    {
     "name": "stdout",
     "output_type": "stream",
     "text": [
      "get_refine_box: using this location:       col1        col2     col3     col4     col5     col6     col7   col8\n",
      "--------------- -------- -------- -------- -------- -------- -------- ----\n",
      "0.4095821650052 0.490128 0.475951 0.506113 0.492128 0.477951 0.508113    9\n"
     ]
    },
    {
     "name": "stderr",
     "output_type": "stream",
     "text": [
      "Parsing Hierarchy : 100%|████████████████| 5789/5789 [00:00<00:00, 14715.05it/s]\n",
      "yt : [INFO     ] 2022-07-20 08:59:32,549 Gathering a field list (this may take a moment.)\n"
     ]
    },
    {
     "name": "stdout",
     "output_type": "stream",
     "text": [
      "Pulling halo center from catalog file\n",
      "Opening snapshot /Volumes/TempestTimeSteps/DD1627/DD1627\n"
     ]
    },
    {
     "name": "stderr",
     "output_type": "stream",
     "text": [
      "yt : [INFO     ] 2022-07-20 08:59:35,648 Parameters: current_time              = 439.56652781829\n",
      "yt : [INFO     ] 2022-07-20 08:59:35,652 Parameters: domain_dimensions         = [256 256 256]\n",
      "yt : [INFO     ] 2022-07-20 08:59:35,655 Parameters: domain_left_edge          = [0. 0. 0.]\n",
      "yt : [INFO     ] 2022-07-20 08:59:35,659 Parameters: domain_right_edge         = [1. 1. 1.]\n",
      "yt : [INFO     ] 2022-07-20 08:59:35,660 Parameters: cosmological_simulation   = 1\n",
      "yt : [INFO     ] 2022-07-20 08:59:35,660 Parameters: current_redshift          = 0.39642584964378\n",
      "yt : [INFO     ] 2022-07-20 08:59:35,661 Parameters: omega_lambda              = 0.715\n",
      "yt : [INFO     ] 2022-07-20 08:59:35,662 Parameters: omega_matter              = 0.285\n",
      "yt : [INFO     ] 2022-07-20 08:59:35,662 Parameters: omega_radiation           = 0\n",
      "yt : [INFO     ] 2022-07-20 08:59:35,663 Parameters: hubble_constant           = 0.695\n"
     ]
    },
    {
     "name": "stdout",
     "output_type": "stream",
     "text": [
      "get_refine_box: using this location:       col1         col2     col3     col4     col5     col6     col7   col8\n",
      "---------------- -------- -------- -------- -------- -------- -------- ----\n",
      "0.39643309136323 0.490092 0.475789 0.506186 0.492092 0.477789 0.508186    9\n"
     ]
    },
    {
     "name": "stderr",
     "output_type": "stream",
     "text": [
      "Parsing Hierarchy : 100%|████████████████| 5643/5643 [00:00<00:00, 14291.28it/s]\n",
      "yt : [INFO     ] 2022-07-20 08:59:36,361 Gathering a field list (this may take a moment.)\n"
     ]
    },
    {
     "name": "stdout",
     "output_type": "stream",
     "text": [
      "Pulling halo center from catalog file\n",
      "Opening snapshot /Volumes/TempestTimeSteps/DD1647/DD1647\n"
     ]
    },
    {
     "name": "stderr",
     "output_type": "stream",
     "text": [
      "yt : [INFO     ] 2022-07-20 08:59:39,408 Parameters: current_time              = 444.56652781829\n",
      "yt : [INFO     ] 2022-07-20 08:59:39,411 Parameters: domain_dimensions         = [256 256 256]\n",
      "yt : [INFO     ] 2022-07-20 08:59:39,414 Parameters: domain_left_edge          = [0. 0. 0.]\n",
      "yt : [INFO     ] 2022-07-20 08:59:39,418 Parameters: domain_right_edge         = [1. 1. 1.]\n",
      "yt : [INFO     ] 2022-07-20 08:59:39,418 Parameters: cosmological_simulation   = 1\n",
      "yt : [INFO     ] 2022-07-20 08:59:39,419 Parameters: current_redshift          = 0.38348625944323\n",
      "yt : [INFO     ] 2022-07-20 08:59:39,420 Parameters: omega_lambda              = 0.715\n",
      "yt : [INFO     ] 2022-07-20 08:59:39,420 Parameters: omega_matter              = 0.285\n",
      "yt : [INFO     ] 2022-07-20 08:59:39,421 Parameters: omega_radiation           = 0\n",
      "yt : [INFO     ] 2022-07-20 08:59:39,422 Parameters: hubble_constant           = 0.695\n"
     ]
    },
    {
     "name": "stdout",
     "output_type": "stream",
     "text": [
      "get_refine_box: using this location:       col1         col2     col3     col4    col5     col6     col7  col8\n",
      "---------------- -------- -------- ------- -------- -------- ------- ----\n",
      "0.38350086218055 0.490054 0.475624 0.50626 0.492054 0.477624 0.50826    9\n"
     ]
    },
    {
     "name": "stderr",
     "output_type": "stream",
     "text": [
      "Parsing Hierarchy : 100%|████████████████| 5260/5260 [00:00<00:00, 14969.00it/s]\n",
      "yt : [INFO     ] 2022-07-20 08:59:40,039 Gathering a field list (this may take a moment.)\n"
     ]
    },
    {
     "name": "stdout",
     "output_type": "stream",
     "text": [
      "Pulling halo center from catalog file\n",
      "Opening snapshot /Volumes/TempestTimeSteps/DD1667/DD1667\n"
     ]
    },
    {
     "name": "stderr",
     "output_type": "stream",
     "text": [
      "yt : [INFO     ] 2022-07-20 08:59:48,929 Parameters: current_time              = 449.56652781829\n",
      "yt : [INFO     ] 2022-07-20 08:59:48,931 Parameters: domain_dimensions         = [256 256 256]\n",
      "yt : [INFO     ] 2022-07-20 08:59:48,933 Parameters: domain_left_edge          = [0. 0. 0.]\n",
      "yt : [INFO     ] 2022-07-20 08:59:48,936 Parameters: domain_right_edge         = [1. 1. 1.]\n",
      "yt : [INFO     ] 2022-07-20 08:59:48,937 Parameters: cosmological_simulation   = 1\n",
      "yt : [INFO     ] 2022-07-20 08:59:48,937 Parameters: current_redshift          = 0.37076988451991\n",
      "yt : [INFO     ] 2022-07-20 08:59:48,938 Parameters: omega_lambda              = 0.715\n",
      "yt : [INFO     ] 2022-07-20 08:59:48,939 Parameters: omega_matter              = 0.285\n",
      "yt : [INFO     ] 2022-07-20 08:59:48,939 Parameters: omega_radiation           = 0\n",
      "yt : [INFO     ] 2022-07-20 08:59:48,940 Parameters: hubble_constant           = 0.695\n"
     ]
    },
    {
     "name": "stdout",
     "output_type": "stream",
     "text": [
      "get_refine_box: using this location:       col1         col2     col3     col4     col5     col6     col7   col8\n",
      "---------------- -------- -------- -------- -------- -------- -------- ----\n",
      "0.37077914758514 0.490008 0.475464 0.506331 0.492008 0.477464 0.508331    9\n"
     ]
    },
    {
     "name": "stderr",
     "output_type": "stream",
     "text": [
      "Parsing Hierarchy : 100%|████████████████| 5350/5350 [00:00<00:00, 15497.45it/s]\n",
      "yt : [INFO     ] 2022-07-20 08:59:49,536 Gathering a field list (this may take a moment.)\n"
     ]
    },
    {
     "name": "stdout",
     "output_type": "stream",
     "text": [
      "Pulling halo center from catalog file\n",
      "Opening snapshot /Volumes/TempestTimeSteps/DD1687/DD1687\n"
     ]
    },
    {
     "name": "stderr",
     "output_type": "stream",
     "text": [
      "yt : [INFO     ] 2022-07-20 08:59:52,654 Parameters: current_time              = 454.56652781829\n",
      "yt : [INFO     ] 2022-07-20 08:59:52,658 Parameters: domain_dimensions         = [256 256 256]\n",
      "yt : [INFO     ] 2022-07-20 08:59:52,661 Parameters: domain_left_edge          = [0. 0. 0.]\n",
      "yt : [INFO     ] 2022-07-20 08:59:52,664 Parameters: domain_right_edge         = [1. 1. 1.]\n",
      "yt : [INFO     ] 2022-07-20 08:59:52,665 Parameters: cosmological_simulation   = 1\n",
      "yt : [INFO     ] 2022-07-20 08:59:52,666 Parameters: current_redshift          = 0.35825474228483\n",
      "yt : [INFO     ] 2022-07-20 08:59:52,667 Parameters: omega_lambda              = 0.715\n",
      "yt : [INFO     ] 2022-07-20 08:59:52,668 Parameters: omega_matter              = 0.285\n",
      "yt : [INFO     ] 2022-07-20 08:59:52,668 Parameters: omega_radiation           = 0\n",
      "yt : [INFO     ] 2022-07-20 08:59:52,670 Parameters: hubble_constant           = 0.695\n"
     ]
    },
    {
     "name": "stdout",
     "output_type": "stream",
     "text": [
      "get_refine_box: using this location:       col1         col2    col3     col4     col5    col6     col7   col8\n",
      "---------------- ------- -------- -------- ------- -------- -------- ----\n",
      "0.35826187698009 0.48997 0.475304 0.506398 0.49197 0.477304 0.508398    9\n"
     ]
    },
    {
     "name": "stderr",
     "output_type": "stream",
     "text": [
      "Parsing Hierarchy : 100%|████████████████| 5327/5327 [00:00<00:00, 14504.38it/s]\n",
      "yt : [INFO     ] 2022-07-20 08:59:53,280 Gathering a field list (this may take a moment.)\n"
     ]
    },
    {
     "name": "stdout",
     "output_type": "stream",
     "text": [
      "Pulling halo center from catalog file\n",
      "Opening snapshot /Volumes/TempestTimeSteps/DD1707/DD1707\n"
     ]
    },
    {
     "name": "stderr",
     "output_type": "stream",
     "text": [
      "yt : [INFO     ] 2022-07-20 08:59:56,361 Parameters: current_time              = 459.56652781829\n",
      "yt : [INFO     ] 2022-07-20 08:59:56,364 Parameters: domain_dimensions         = [256 256 256]\n",
      "yt : [INFO     ] 2022-07-20 08:59:56,367 Parameters: domain_left_edge          = [0. 0. 0.]\n",
      "yt : [INFO     ] 2022-07-20 08:59:56,369 Parameters: domain_right_edge         = [1. 1. 1.]\n",
      "yt : [INFO     ] 2022-07-20 08:59:56,370 Parameters: cosmological_simulation   = 1\n",
      "yt : [INFO     ] 2022-07-20 08:59:56,370 Parameters: current_redshift          = 0.34592847874001\n",
      "yt : [INFO     ] 2022-07-20 08:59:56,371 Parameters: omega_lambda              = 0.715\n",
      "yt : [INFO     ] 2022-07-20 08:59:56,371 Parameters: omega_matter              = 0.285\n",
      "yt : [INFO     ] 2022-07-20 08:59:56,372 Parameters: omega_radiation           = 0\n",
      "yt : [INFO     ] 2022-07-20 08:59:56,372 Parameters: hubble_constant           = 0.695\n"
     ]
    },
    {
     "name": "stdout",
     "output_type": "stream",
     "text": [
      "get_refine_box: using this location:       col1        col2     col3     col4     col5     col6     col7   col8\n",
      "--------------- -------- -------- -------- -------- -------- -------- ----\n",
      "0.3459432257941 0.489933 0.475144 0.506463 0.491933 0.477144 0.508463    9\n"
     ]
    },
    {
     "name": "stderr",
     "output_type": "stream",
     "text": [
      "Parsing Hierarchy : 100%|████████████████| 5353/5353 [00:00<00:00, 15799.47it/s]\n",
      "yt : [INFO     ] 2022-07-20 08:59:56,971 Gathering a field list (this may take a moment.)\n"
     ]
    },
    {
     "name": "stdout",
     "output_type": "stream",
     "text": [
      "Pulling halo center from catalog file\n",
      "Opening snapshot /Volumes/TempestTimeSteps/DD1727/DD1727\n"
     ]
    },
    {
     "name": "stderr",
     "output_type": "stream",
     "text": [
      "yt : [INFO     ] 2022-07-20 09:00:00,631 Parameters: current_time              = 464.56652781829\n",
      "yt : [INFO     ] 2022-07-20 09:00:00,635 Parameters: domain_dimensions         = [256 256 256]\n",
      "yt : [INFO     ] 2022-07-20 09:00:00,638 Parameters: domain_left_edge          = [0. 0. 0.]\n",
      "yt : [INFO     ] 2022-07-20 09:00:00,641 Parameters: domain_right_edge         = [1. 1. 1.]\n",
      "yt : [INFO     ] 2022-07-20 09:00:00,642 Parameters: cosmological_simulation   = 1\n",
      "yt : [INFO     ] 2022-07-20 09:00:00,642 Parameters: current_redshift          = 0.33380915572466\n",
      "yt : [INFO     ] 2022-07-20 09:00:00,643 Parameters: omega_lambda              = 0.715\n",
      "yt : [INFO     ] 2022-07-20 09:00:00,644 Parameters: omega_matter              = 0.285\n",
      "yt : [INFO     ] 2022-07-20 09:00:00,645 Parameters: omega_radiation           = 0\n",
      "yt : [INFO     ] 2022-07-20 09:00:00,645 Parameters: hubble_constant           = 0.695\n"
     ]
    },
    {
     "name": "stdout",
     "output_type": "stream",
     "text": [
      "get_refine_box: using this location:       col1         col2     col3     col4     col5     col6     col7   col8\n",
      "---------------- -------- -------- -------- -------- -------- -------- ----\n",
      "0.33381760304183 0.489899 0.474982 0.506529 0.491899 0.476982 0.508529    9\n"
     ]
    },
    {
     "name": "stderr",
     "output_type": "stream",
     "text": [
      "Parsing Hierarchy : 100%|████████████████| 5384/5384 [00:00<00:00, 14358.45it/s]\n",
      "yt : [INFO     ] 2022-07-20 09:00:01,307 Gathering a field list (this may take a moment.)\n"
     ]
    },
    {
     "name": "stdout",
     "output_type": "stream",
     "text": [
      "Pulling halo center from catalog file\n",
      "Opening snapshot /Volumes/TempestTimeSteps/DD1747/DD1747\n"
     ]
    },
    {
     "name": "stderr",
     "output_type": "stream",
     "text": [
      "yt : [INFO     ] 2022-07-20 09:00:04,816 Parameters: current_time              = 469.56652781829\n",
      "yt : [INFO     ] 2022-07-20 09:00:04,819 Parameters: domain_dimensions         = [256 256 256]\n",
      "yt : [INFO     ] 2022-07-20 09:00:04,823 Parameters: domain_left_edge          = [0. 0. 0.]\n",
      "yt : [INFO     ] 2022-07-20 09:00:04,826 Parameters: domain_right_edge         = [1. 1. 1.]\n",
      "yt : [INFO     ] 2022-07-20 09:00:04,827 Parameters: cosmological_simulation   = 1\n",
      "yt : [INFO     ] 2022-07-20 09:00:04,827 Parameters: current_redshift          = 0.32187097991253\n",
      "yt : [INFO     ] 2022-07-20 09:00:04,828 Parameters: omega_lambda              = 0.715\n",
      "yt : [INFO     ] 2022-07-20 09:00:04,829 Parameters: omega_matter              = 0.285\n",
      "yt : [INFO     ] 2022-07-20 09:00:04,829 Parameters: omega_radiation           = 0\n",
      "yt : [INFO     ] 2022-07-20 09:00:04,830 Parameters: hubble_constant           = 0.695\n"
     ]
    },
    {
     "name": "stdout",
     "output_type": "stream",
     "text": [
      "get_refine_box: using this location:       col1         col2     col3     col4     col5     col6     col7   col8\n",
      "---------------- -------- -------- -------- -------- -------- -------- ----\n",
      "0.32187963963644 0.489863 0.474823 0.506592 0.491863 0.476823 0.508592    9\n"
     ]
    },
    {
     "name": "stderr",
     "output_type": "stream",
     "text": [
      "Parsing Hierarchy : 100%|████████████████| 5338/5338 [00:00<00:00, 15428.95it/s]\n",
      "yt : [INFO     ] 2022-07-20 09:00:05,447 Gathering a field list (this may take a moment.)\n"
     ]
    },
    {
     "name": "stdout",
     "output_type": "stream",
     "text": [
      "Pulling halo center from catalog file\n",
      "Opening snapshot /Volumes/TempestTimeSteps/DD1767/DD1767\n"
     ]
    },
    {
     "name": "stderr",
     "output_type": "stream",
     "text": [
      "yt : [INFO     ] 2022-07-20 09:00:08,641 Parameters: current_time              = 474.56652781829\n",
      "yt : [INFO     ] 2022-07-20 09:00:08,643 Parameters: domain_dimensions         = [256 256 256]\n",
      "yt : [INFO     ] 2022-07-20 09:00:08,646 Parameters: domain_left_edge          = [0. 0. 0.]\n",
      "yt : [INFO     ] 2022-07-20 09:00:08,649 Parameters: domain_right_edge         = [1. 1. 1.]\n",
      "yt : [INFO     ] 2022-07-20 09:00:08,650 Parameters: cosmological_simulation   = 1\n",
      "yt : [INFO     ] 2022-07-20 09:00:08,650 Parameters: current_redshift          = 0.31010937956297\n",
      "yt : [INFO     ] 2022-07-20 09:00:08,651 Parameters: omega_lambda              = 0.715\n",
      "yt : [INFO     ] 2022-07-20 09:00:08,651 Parameters: omega_matter              = 0.285\n",
      "yt : [INFO     ] 2022-07-20 09:00:08,652 Parameters: omega_radiation           = 0\n",
      "yt : [INFO     ] 2022-07-20 09:00:08,652 Parameters: hubble_constant           = 0.695\n"
     ]
    },
    {
     "name": "stdout",
     "output_type": "stream",
     "text": [
      "get_refine_box: using this location:       col1         col2     col3     col4     col5     col6     col7   col8\n",
      "---------------- -------- -------- -------- -------- -------- -------- ----\n",
      "0.31012417740147 0.489823 0.474669 0.506653 0.491823 0.476669 0.508653    9\n"
     ]
    },
    {
     "name": "stderr",
     "output_type": "stream",
     "text": [
      "Parsing Hierarchy : 100%|████████████████| 5392/5392 [00:00<00:00, 17329.99it/s]\n",
      "yt : [INFO     ] 2022-07-20 09:00:09,223 Gathering a field list (this may take a moment.)\n"
     ]
    },
    {
     "name": "stdout",
     "output_type": "stream",
     "text": [
      "Pulling halo center from catalog file\n",
      "Opening snapshot /Volumes/TempestTimeSteps/DD1787/DD1787\n"
     ]
    },
    {
     "name": "stderr",
     "output_type": "stream",
     "text": [
      "yt : [INFO     ] 2022-07-20 09:00:12,317 Parameters: current_time              = 479.56652781829\n",
      "yt : [INFO     ] 2022-07-20 09:00:12,319 Parameters: domain_dimensions         = [256 256 256]\n",
      "yt : [INFO     ] 2022-07-20 09:00:12,322 Parameters: domain_left_edge          = [0. 0. 0.]\n",
      "yt : [INFO     ] 2022-07-20 09:00:12,325 Parameters: domain_right_edge         = [1. 1. 1.]\n",
      "yt : [INFO     ] 2022-07-20 09:00:12,326 Parameters: cosmological_simulation   = 1\n",
      "yt : [INFO     ] 2022-07-20 09:00:12,327 Parameters: current_redshift          = 0.29854043336148\n",
      "yt : [INFO     ] 2022-07-20 09:00:12,328 Parameters: omega_lambda              = 0.715\n",
      "yt : [INFO     ] 2022-07-20 09:00:12,328 Parameters: omega_matter              = 0.285\n",
      "yt : [INFO     ] 2022-07-20 09:00:12,329 Parameters: omega_radiation           = 0\n",
      "yt : [INFO     ] 2022-07-20 09:00:12,331 Parameters: hubble_constant           = 0.695\n"
     ]
    },
    {
     "name": "stdout",
     "output_type": "stream",
     "text": [
      "get_refine_box: using this location:       col1         col2     col3     col4     col5     col6     col7   col8\n",
      "---------------- -------- -------- -------- -------- -------- -------- ----\n",
      "0.29854625873325 0.489788 0.474513 0.506712 0.491788 0.476513 0.508712    9\n"
     ]
    },
    {
     "name": "stderr",
     "output_type": "stream",
     "text": [
      "Parsing Hierarchy : 100%|████████████████| 5500/5500 [00:00<00:00, 14738.62it/s]\n",
      "yt : [INFO     ] 2022-07-20 09:00:12,973 Gathering a field list (this may take a moment.)\n"
     ]
    },
    {
     "name": "stdout",
     "output_type": "stream",
     "text": [
      "Pulling halo center from catalog file\n",
      "Opening snapshot /Volumes/TempestTimeSteps/DD1807/DD1807\n"
     ]
    },
    {
     "name": "stderr",
     "output_type": "stream",
     "text": [
      "yt : [INFO     ] 2022-07-20 09:00:16,236 Parameters: current_time              = 484.56652781829\n",
      "yt : [INFO     ] 2022-07-20 09:00:16,239 Parameters: domain_dimensions         = [256 256 256]\n",
      "yt : [INFO     ] 2022-07-20 09:00:16,242 Parameters: domain_left_edge          = [0. 0. 0.]\n",
      "yt : [INFO     ] 2022-07-20 09:00:16,244 Parameters: domain_right_edge         = [1. 1. 1.]\n",
      "yt : [INFO     ] 2022-07-20 09:00:16,245 Parameters: cosmological_simulation   = 1\n",
      "yt : [INFO     ] 2022-07-20 09:00:16,245 Parameters: current_redshift          = 0.28712989799233\n",
      "yt : [INFO     ] 2022-07-20 09:00:16,246 Parameters: omega_lambda              = 0.715\n",
      "yt : [INFO     ] 2022-07-20 09:00:16,246 Parameters: omega_matter              = 0.285\n",
      "yt : [INFO     ] 2022-07-20 09:00:16,247 Parameters: omega_radiation           = 0\n",
      "yt : [INFO     ] 2022-07-20 09:00:16,248 Parameters: hubble_constant           = 0.695\n"
     ]
    },
    {
     "name": "stdout",
     "output_type": "stream",
     "text": [
      "get_refine_box: using this location:       col1         col2     col3     col4     col5     col6     col7   col8\n",
      "---------------- -------- -------- -------- -------- -------- -------- ----\n",
      "0.28714111686912 0.489754 0.474358 0.506773 0.491754 0.476358 0.508773    9\n"
     ]
    },
    {
     "name": "stderr",
     "output_type": "stream",
     "text": [
      "Parsing Hierarchy : 100%|████████████████| 5571/5571 [00:00<00:00, 15771.05it/s]\n",
      "yt : [INFO     ] 2022-07-20 09:00:16,845 Gathering a field list (this may take a moment.)\n"
     ]
    },
    {
     "name": "stdout",
     "output_type": "stream",
     "text": [
      "Pulling halo center from catalog file\n",
      "Opening snapshot /Volumes/TempestTimeSteps/DD1827/DD1827\n"
     ]
    },
    {
     "name": "stderr",
     "output_type": "stream",
     "text": [
      "yt : [INFO     ] 2022-07-20 09:00:20,221 Parameters: current_time              = 489.56652781829\n",
      "yt : [INFO     ] 2022-07-20 09:00:20,224 Parameters: domain_dimensions         = [256 256 256]\n",
      "yt : [INFO     ] 2022-07-20 09:00:20,227 Parameters: domain_left_edge          = [0. 0. 0.]\n",
      "yt : [INFO     ] 2022-07-20 09:00:20,229 Parameters: domain_right_edge         = [1. 1. 1.]\n",
      "yt : [INFO     ] 2022-07-20 09:00:20,230 Parameters: cosmological_simulation   = 1\n",
      "yt : [INFO     ] 2022-07-20 09:00:20,231 Parameters: current_redshift          = 0.27589007391511\n",
      "yt : [INFO     ] 2022-07-20 09:00:20,231 Parameters: omega_lambda              = 0.715\n",
      "yt : [INFO     ] 2022-07-20 09:00:20,232 Parameters: omega_matter              = 0.285\n",
      "yt : [INFO     ] 2022-07-20 09:00:20,233 Parameters: omega_radiation           = 0\n",
      "yt : [INFO     ] 2022-07-20 09:00:20,233 Parameters: hubble_constant           = 0.695\n"
     ]
    },
    {
     "name": "stdout",
     "output_type": "stream",
     "text": [
      "get_refine_box: using this location:       col1         col2     col3     col4     col5     col6     col7   col8\n",
      "---------------- -------- -------- -------- -------- -------- -------- ----\n",
      "0.27590416672012 0.489722 0.474205 0.506831 0.491722 0.476205 0.508831    9\n"
     ]
    },
    {
     "name": "stderr",
     "output_type": "stream",
     "text": [
      "Parsing Hierarchy : 100%|████████████████| 5461/5461 [00:00<00:00, 16857.21it/s]\n",
      "yt : [INFO     ] 2022-07-20 09:00:20,803 Gathering a field list (this may take a moment.)\n"
     ]
    },
    {
     "name": "stdout",
     "output_type": "stream",
     "text": [
      "Pulling halo center from catalog file\n",
      "Opening snapshot /Volumes/TempestTimeSteps/DD1847/DD1847\n"
     ]
    },
    {
     "name": "stderr",
     "output_type": "stream",
     "text": [
      "yt : [INFO     ] 2022-07-20 09:00:23,887 Parameters: current_time              = 494.56652781829\n",
      "yt : [INFO     ] 2022-07-20 09:00:23,891 Parameters: domain_dimensions         = [256 256 256]\n",
      "yt : [INFO     ] 2022-07-20 09:00:23,893 Parameters: domain_left_edge          = [0. 0. 0.]\n",
      "yt : [INFO     ] 2022-07-20 09:00:23,896 Parameters: domain_right_edge         = [1. 1. 1.]\n",
      "yt : [INFO     ] 2022-07-20 09:00:23,897 Parameters: cosmological_simulation   = 1\n",
      "yt : [INFO     ] 2022-07-20 09:00:23,898 Parameters: current_redshift          = 0.26483030656369\n",
      "yt : [INFO     ] 2022-07-20 09:00:23,898 Parameters: omega_lambda              = 0.715\n",
      "yt : [INFO     ] 2022-07-20 09:00:23,899 Parameters: omega_matter              = 0.285\n",
      "yt : [INFO     ] 2022-07-20 09:00:23,900 Parameters: omega_radiation           = 0\n",
      "yt : [INFO     ] 2022-07-20 09:00:23,900 Parameters: hubble_constant           = 0.695\n"
     ]
    },
    {
     "name": "stdout",
     "output_type": "stream",
     "text": [
      "get_refine_box: using this location:       col1         col2     col3     col4     col5     col6     col7   col8\n",
      "---------------- -------- -------- -------- -------- -------- -------- ----\n",
      "0.26483099622996 0.489687 0.474055 0.506892 0.491687 0.476055 0.508892    9\n"
     ]
    },
    {
     "name": "stderr",
     "output_type": "stream",
     "text": [
      "Parsing Hierarchy : 100%|████████████████| 5127/5127 [00:00<00:00, 15196.11it/s]\n",
      "yt : [INFO     ] 2022-07-20 09:00:24,492 Gathering a field list (this may take a moment.)\n"
     ]
    },
    {
     "name": "stdout",
     "output_type": "stream",
     "text": [
      "Pulling halo center from catalog file\n",
      "Opening snapshot /Volumes/TempestTimeSteps/DD1867/DD1867\n"
     ]
    },
    {
     "name": "stderr",
     "output_type": "stream",
     "text": [
      "yt : [INFO     ] 2022-07-20 09:00:27,856 Parameters: current_time              = 499.56652781829\n",
      "yt : [INFO     ] 2022-07-20 09:00:27,859 Parameters: domain_dimensions         = [256 256 256]\n",
      "yt : [INFO     ] 2022-07-20 09:00:27,861 Parameters: domain_left_edge          = [0. 0. 0.]\n",
      "yt : [INFO     ] 2022-07-20 09:00:27,865 Parameters: domain_right_edge         = [1. 1. 1.]\n",
      "yt : [INFO     ] 2022-07-20 09:00:27,866 Parameters: cosmological_simulation   = 1\n",
      "yt : [INFO     ] 2022-07-20 09:00:27,866 Parameters: current_redshift          = 0.25390358705733\n",
      "yt : [INFO     ] 2022-07-20 09:00:27,867 Parameters: omega_lambda              = 0.715\n",
      "yt : [INFO     ] 2022-07-20 09:00:27,868 Parameters: omega_matter              = 0.285\n",
      "yt : [INFO     ] 2022-07-20 09:00:27,869 Parameters: omega_radiation           = 0\n",
      "yt : [INFO     ] 2022-07-20 09:00:27,870 Parameters: hubble_constant           = 0.695\n"
     ]
    },
    {
     "name": "stdout",
     "output_type": "stream",
     "text": [
      "get_refine_box: using this location:       col1         col2     col3     col4     col5     col6     col7   col8\n",
      "---------------- -------- -------- -------- -------- -------- -------- ----\n",
      "0.25391735822521 0.489653 0.473906 0.506947 0.491653 0.475906 0.508947    9\n"
     ]
    },
    {
     "name": "stderr",
     "output_type": "stream",
     "text": [
      "Parsing Hierarchy : 100%|████████████████| 5143/5143 [00:00<00:00, 16119.88it/s]\n",
      "yt : [INFO     ] 2022-07-20 09:00:28,433 Gathering a field list (this may take a moment.)\n"
     ]
    },
    {
     "name": "stdout",
     "output_type": "stream",
     "text": [
      "Pulling halo center from catalog file\n",
      "Opening snapshot /Volumes/TempestTimeSteps/DD1887/DD1887\n"
     ]
    },
    {
     "name": "stderr",
     "output_type": "stream",
     "text": [
      "yt : [INFO     ] 2022-07-20 09:00:31,563 Parameters: current_time              = 504.56652781829\n",
      "yt : [INFO     ] 2022-07-20 09:00:31,565 Parameters: domain_dimensions         = [256 256 256]\n",
      "yt : [INFO     ] 2022-07-20 09:00:31,568 Parameters: domain_left_edge          = [0. 0. 0.]\n",
      "yt : [INFO     ] 2022-07-20 09:00:31,570 Parameters: domain_right_edge         = [1. 1. 1.]\n",
      "yt : [INFO     ] 2022-07-20 09:00:31,571 Parameters: cosmological_simulation   = 1\n",
      "yt : [INFO     ] 2022-07-20 09:00:31,572 Parameters: current_redshift          = 0.24314759224344\n",
      "yt : [INFO     ] 2022-07-20 09:00:31,572 Parameters: omega_lambda              = 0.715\n",
      "yt : [INFO     ] 2022-07-20 09:00:31,573 Parameters: omega_matter              = 0.285\n",
      "yt : [INFO     ] 2022-07-20 09:00:31,573 Parameters: omega_radiation           = 0\n",
      "yt : [INFO     ] 2022-07-20 09:00:31,574 Parameters: hubble_constant           = 0.695\n"
     ]
    },
    {
     "name": "stdout",
     "output_type": "stream",
     "text": [
      "get_refine_box: using this location:       col1         col2     col3     col4     col5     col6     col7   col8\n",
      "---------------- -------- -------- -------- -------- -------- -------- ----\n",
      "0.24315916272406 0.489623 0.473759 0.507006 0.491623 0.475759 0.509006    9\n"
     ]
    },
    {
     "name": "stderr",
     "output_type": "stream",
     "text": [
      "Parsing Hierarchy : 100%|████████████████| 4839/4839 [00:00<00:00, 17789.86it/s]\n",
      "yt : [INFO     ] 2022-07-20 09:00:32,069 Gathering a field list (this may take a moment.)\n"
     ]
    },
    {
     "name": "stdout",
     "output_type": "stream",
     "text": [
      "Pulling halo center from catalog file\n",
      "Opening snapshot /Volumes/TempestTimeSteps/DD1907/DD1907\n"
     ]
    },
    {
     "name": "stderr",
     "output_type": "stream",
     "text": [
      "yt : [INFO     ] 2022-07-20 09:00:38,380 Parameters: current_time              = 509.56652781829\n",
      "yt : [INFO     ] 2022-07-20 09:00:38,383 Parameters: domain_dimensions         = [256 256 256]\n",
      "yt : [INFO     ] 2022-07-20 09:00:38,385 Parameters: domain_left_edge          = [0. 0. 0.]\n",
      "yt : [INFO     ] 2022-07-20 09:00:38,387 Parameters: domain_right_edge         = [1. 1. 1.]\n",
      "yt : [INFO     ] 2022-07-20 09:00:38,388 Parameters: cosmological_simulation   = 1\n",
      "yt : [INFO     ] 2022-07-20 09:00:38,388 Parameters: current_redshift          = 0.23254622398407\n",
      "yt : [INFO     ] 2022-07-20 09:00:38,389 Parameters: omega_lambda              = 0.715\n",
      "yt : [INFO     ] 2022-07-20 09:00:38,390 Parameters: omega_matter              = 0.285\n",
      "yt : [INFO     ] 2022-07-20 09:00:38,390 Parameters: omega_radiation           = 0\n",
      "yt : [INFO     ] 2022-07-20 09:00:38,391 Parameters: hubble_constant           = 0.695\n"
     ]
    },
    {
     "name": "stdout",
     "output_type": "stream",
     "text": [
      "get_refine_box: using this location:       col1        col2     col3     col4     col5     col6     col7   col8\n",
      "--------------- -------- -------- -------- -------- -------- -------- ----\n",
      "0.2325524696738 0.489592 0.473612 0.507067 0.491592 0.475612 0.509067    9\n"
     ]
    },
    {
     "name": "stderr",
     "output_type": "stream",
     "text": [
      "Parsing Hierarchy : 100%|█████████████████| 4729/4729 [00:00<00:00, 5653.28it/s]\n",
      "yt : [INFO     ] 2022-07-20 09:00:39,572 Gathering a field list (this may take a moment.)\n"
     ]
    },
    {
     "name": "stdout",
     "output_type": "stream",
     "text": [
      "Pulling halo center from catalog file\n",
      "Opening snapshot /Volumes/TempestTimeSteps/DD1927/DD1927\n"
     ]
    },
    {
     "name": "stderr",
     "output_type": "stream",
     "text": [
      "yt : [INFO     ] 2022-07-20 09:00:42,846 Parameters: current_time              = 514.56652781829\n",
      "yt : [INFO     ] 2022-07-20 09:00:42,848 Parameters: domain_dimensions         = [256 256 256]\n",
      "yt : [INFO     ] 2022-07-20 09:00:42,851 Parameters: domain_left_edge          = [0. 0. 0.]\n",
      "yt : [INFO     ] 2022-07-20 09:00:42,853 Parameters: domain_right_edge         = [1. 1. 1.]\n",
      "yt : [INFO     ] 2022-07-20 09:00:42,854 Parameters: cosmological_simulation   = 1\n",
      "yt : [INFO     ] 2022-07-20 09:00:42,855 Parameters: current_redshift          = 0.2220785334236\n",
      "yt : [INFO     ] 2022-07-20 09:00:42,855 Parameters: omega_lambda              = 0.715\n",
      "yt : [INFO     ] 2022-07-20 09:00:42,856 Parameters: omega_matter              = 0.285\n",
      "yt : [INFO     ] 2022-07-20 09:00:42,856 Parameters: omega_radiation           = 0\n",
      "yt : [INFO     ] 2022-07-20 09:00:42,857 Parameters: hubble_constant           = 0.695\n"
     ]
    },
    {
     "name": "stdout",
     "output_type": "stream",
     "text": [
      "get_refine_box: using this location:      col1        col2     col3     col4     col5     col6     col7   col8\n",
      "-------------- -------- -------- -------- -------- -------- -------- ----\n",
      "0.222093482089 0.489563 0.473471 0.507126 0.491563 0.475471 0.509126    9\n"
     ]
    },
    {
     "name": "stderr",
     "output_type": "stream",
     "text": [
      "Parsing Hierarchy : 100%|████████████████| 5012/5012 [00:00<00:00, 16209.15it/s]\n",
      "yt : [INFO     ] 2022-07-20 09:00:43,431 Gathering a field list (this may take a moment.)\n"
     ]
    },
    {
     "name": "stdout",
     "output_type": "stream",
     "text": [
      "Pulling halo center from catalog file\n",
      "Opening snapshot /Volumes/TempestTimeSteps/DD1947/DD1947\n"
     ]
    },
    {
     "name": "stderr",
     "output_type": "stream",
     "text": [
      "yt : [INFO     ] 2022-07-20 09:00:46,775 Parameters: current_time              = 519.56652781829\n",
      "yt : [INFO     ] 2022-07-20 09:00:46,779 Parameters: domain_dimensions         = [256 256 256]\n",
      "yt : [INFO     ] 2022-07-20 09:00:46,782 Parameters: domain_left_edge          = [0. 0. 0.]\n",
      "yt : [INFO     ] 2022-07-20 09:00:46,786 Parameters: domain_right_edge         = [1. 1. 1.]\n",
      "yt : [INFO     ] 2022-07-20 09:00:46,788 Parameters: cosmological_simulation   = 1\n",
      "yt : [INFO     ] 2022-07-20 09:00:46,789 Parameters: current_redshift          = 0.21177265783797\n",
      "yt : [INFO     ] 2022-07-20 09:00:46,790 Parameters: omega_lambda              = 0.715\n",
      "yt : [INFO     ] 2022-07-20 09:00:46,792 Parameters: omega_matter              = 0.285\n",
      "yt : [INFO     ] 2022-07-20 09:00:46,793 Parameters: omega_radiation           = 0\n",
      "yt : [INFO     ] 2022-07-20 09:00:46,794 Parameters: hubble_constant           = 0.695\n"
     ]
    },
    {
     "name": "stdout",
     "output_type": "stream",
     "text": [
      "get_refine_box: using this location:       col1         col2     col3    col4     col5     col6    col7   col8\n",
      "---------------- -------- ------- -------- -------- ------- -------- ----\n",
      "0.21177853956479 0.489535 0.47333 0.507189 0.491535 0.47533 0.509189    9\n"
     ]
    },
    {
     "name": "stderr",
     "output_type": "stream",
     "text": [
      "Parsing Hierarchy : 100%|████████████████| 5317/5317 [00:00<00:00, 11211.41it/s]\n",
      "yt : [INFO     ] 2022-07-20 09:00:47,619 Gathering a field list (this may take a moment.)\n"
     ]
    },
    {
     "name": "stdout",
     "output_type": "stream",
     "text": [
      "Pulling halo center from catalog file\n",
      "Opening snapshot /Volumes/TempestTimeSteps/DD1967/DD1967\n"
     ]
    },
    {
     "name": "stderr",
     "output_type": "stream",
     "text": [
      "yt : [INFO     ] 2022-07-20 09:00:50,614 Parameters: current_time              = 524.56652781829\n",
      "yt : [INFO     ] 2022-07-20 09:00:50,618 Parameters: domain_dimensions         = [256 256 256]\n",
      "yt : [INFO     ] 2022-07-20 09:00:50,621 Parameters: domain_left_edge          = [0. 0. 0.]\n",
      "yt : [INFO     ] 2022-07-20 09:00:50,624 Parameters: domain_right_edge         = [1. 1. 1.]\n",
      "yt : [INFO     ] 2022-07-20 09:00:50,625 Parameters: cosmological_simulation   = 1\n",
      "yt : [INFO     ] 2022-07-20 09:00:50,626 Parameters: current_redshift          = 0.20159208404487\n",
      "yt : [INFO     ] 2022-07-20 09:00:50,626 Parameters: omega_lambda              = 0.715\n",
      "yt : [INFO     ] 2022-07-20 09:00:50,627 Parameters: omega_matter              = 0.285\n",
      "yt : [INFO     ] 2022-07-20 09:00:50,628 Parameters: omega_radiation           = 0\n",
      "yt : [INFO     ] 2022-07-20 09:00:50,628 Parameters: hubble_constant           = 0.695\n"
     ]
    },
    {
     "name": "stdout",
     "output_type": "stream",
     "text": [
      "get_refine_box: using this location:       col1         col2     col3     col4    col5     col6     col7  col8\n",
      "---------------- -------- -------- ------- -------- -------- ------- ----\n",
      "0.20160411214129 0.489504 0.473191 0.50725 0.491504 0.475191 0.50925    9\n"
     ]
    },
    {
     "name": "stderr",
     "output_type": "stream",
     "text": [
      "Parsing Hierarchy : 100%|████████████████| 5322/5322 [00:00<00:00, 17249.08it/s]\n",
      "yt : [INFO     ] 2022-07-20 09:00:51,166 Gathering a field list (this may take a moment.)\n"
     ]
    },
    {
     "name": "stdout",
     "output_type": "stream",
     "text": [
      "Pulling halo center from catalog file\n",
      "Opening snapshot /Volumes/TempestTimeSteps/DD1987/DD1987\n"
     ]
    },
    {
     "name": "stderr",
     "output_type": "stream",
     "text": [
      "yt : [INFO     ] 2022-07-20 09:00:54,458 Parameters: current_time              = 529.56652781829\n",
      "yt : [INFO     ] 2022-07-20 09:00:54,461 Parameters: domain_dimensions         = [256 256 256]\n",
      "yt : [INFO     ] 2022-07-20 09:00:54,463 Parameters: domain_left_edge          = [0. 0. 0.]\n",
      "yt : [INFO     ] 2022-07-20 09:00:54,466 Parameters: domain_right_edge         = [1. 1. 1.]\n",
      "yt : [INFO     ] 2022-07-20 09:00:54,467 Parameters: cosmological_simulation   = 1\n",
      "yt : [INFO     ] 2022-07-20 09:00:54,467 Parameters: current_redshift          = 0.191553635351\n",
      "yt : [INFO     ] 2022-07-20 09:00:54,468 Parameters: omega_lambda              = 0.715\n",
      "yt : [INFO     ] 2022-07-20 09:00:54,469 Parameters: omega_matter              = 0.285\n",
      "yt : [INFO     ] 2022-07-20 09:00:54,469 Parameters: omega_radiation           = 0\n",
      "yt : [INFO     ] 2022-07-20 09:00:54,470 Parameters: hubble_constant           = 0.695\n"
     ]
    },
    {
     "name": "stdout",
     "output_type": "stream",
     "text": [
      "get_refine_box: using this location:       col1         col2     col3     col4     col5     col6     col7   col8\n",
      "---------------- -------- -------- -------- -------- -------- -------- ----\n",
      "0.19156679449708 0.489476 0.473053 0.507311 0.491476 0.475053 0.509311    9\n"
     ]
    },
    {
     "name": "stderr",
     "output_type": "stream",
     "text": [
      "Parsing Hierarchy : 100%|████████████████| 5118/5118 [00:00<00:00, 11613.26it/s]\n",
      "yt : [INFO     ] 2022-07-20 09:00:55,263 Gathering a field list (this may take a moment.)\n"
     ]
    },
    {
     "name": "stdout",
     "output_type": "stream",
     "text": [
      "Pulling halo center from catalog file\n",
      "Opening snapshot /Volumes/TempestTimeSteps/DD2007/DD2007\n"
     ]
    },
    {
     "name": "stderr",
     "output_type": "stream",
     "text": [
      "yt : [INFO     ] 2022-07-20 09:00:58,672 Parameters: current_time              = 534.56652781829\n",
      "yt : [INFO     ] 2022-07-20 09:00:58,675 Parameters: domain_dimensions         = [256 256 256]\n",
      "yt : [INFO     ] 2022-07-20 09:00:58,678 Parameters: domain_left_edge          = [0. 0. 0.]\n",
      "yt : [INFO     ] 2022-07-20 09:00:58,681 Parameters: domain_right_edge         = [1. 1. 1.]\n",
      "yt : [INFO     ] 2022-07-20 09:00:58,682 Parameters: cosmological_simulation   = 1\n",
      "yt : [INFO     ] 2022-07-20 09:00:58,682 Parameters: current_redshift          = 0.18165941968054\n",
      "yt : [INFO     ] 2022-07-20 09:00:58,683 Parameters: omega_lambda              = 0.715\n",
      "yt : [INFO     ] 2022-07-20 09:00:58,684 Parameters: omega_matter              = 0.285\n",
      "yt : [INFO     ] 2022-07-20 09:00:58,684 Parameters: omega_radiation           = 0\n",
      "yt : [INFO     ] 2022-07-20 09:00:58,685 Parameters: hubble_constant           = 0.695\n"
     ]
    },
    {
     "name": "stdout",
     "output_type": "stream",
     "text": [
      "get_refine_box: using this location:       col1         col2     col3     col4     col5     col6     col7   col8\n",
      "---------------- -------- -------- -------- -------- -------- -------- ----\n",
      "0.18166330045117 0.489447 0.472918 0.507372 0.491447 0.474918 0.509372    9\n"
     ]
    },
    {
     "name": "stderr",
     "output_type": "stream",
     "text": [
      "Parsing Hierarchy : 100%|████████████████| 5188/5188 [00:00<00:00, 13445.33it/s]\n",
      "yt : [INFO     ] 2022-07-20 09:00:59,358 Gathering a field list (this may take a moment.)\n"
     ]
    },
    {
     "name": "stdout",
     "output_type": "stream",
     "text": [
      "Pulling halo center from catalog file\n",
      "Opening snapshot /Volumes/TempestTimeSteps/DD2027/DD2027\n"
     ]
    },
    {
     "name": "stderr",
     "output_type": "stream",
     "text": [
      "yt : [INFO     ] 2022-07-20 09:01:02,383 Parameters: current_time              = 539.56652781829\n",
      "yt : [INFO     ] 2022-07-20 09:01:02,386 Parameters: domain_dimensions         = [256 256 256]\n",
      "yt : [INFO     ] 2022-07-20 09:01:02,389 Parameters: domain_left_edge          = [0. 0. 0.]\n",
      "yt : [INFO     ] 2022-07-20 09:01:02,392 Parameters: domain_right_edge         = [1. 1. 1.]\n",
      "yt : [INFO     ] 2022-07-20 09:01:02,393 Parameters: cosmological_simulation   = 1\n",
      "yt : [INFO     ] 2022-07-20 09:01:02,394 Parameters: current_redshift          = 0.1718756018899\n",
      "yt : [INFO     ] 2022-07-20 09:01:02,395 Parameters: omega_lambda              = 0.715\n",
      "yt : [INFO     ] 2022-07-20 09:01:02,395 Parameters: omega_matter              = 0.285\n",
      "yt : [INFO     ] 2022-07-20 09:01:02,396 Parameters: omega_radiation           = 0\n",
      "yt : [INFO     ] 2022-07-20 09:01:02,396 Parameters: hubble_constant           = 0.695\n"
     ]
    },
    {
     "name": "stdout",
     "output_type": "stream",
     "text": [
      "get_refine_box: using this location:       col1        col2    col3     col4     col5    col6     col7   col8\n",
      "--------------- ------- -------- -------- ------- -------- -------- ----\n",
      "0.1718904577544 0.48942 0.472783 0.507435 0.49142 0.474783 0.509435    9\n"
     ]
    },
    {
     "name": "stderr",
     "output_type": "stream",
     "text": [
      "Parsing Hierarchy : 100%|████████████████| 5220/5220 [00:00<00:00, 14777.79it/s]\n",
      "yt : [INFO     ] 2022-07-20 09:01:03,003 Gathering a field list (this may take a moment.)\n",
      "yt : [INFO     ] 2022-07-20 09:01:06,113 Parameters: current_time              = 544.56652781829\n",
      "yt : [INFO     ] 2022-07-20 09:01:06,116 Parameters: domain_dimensions         = [256 256 256]\n",
      "yt : [INFO     ] 2022-07-20 09:01:06,119 Parameters: domain_left_edge          = [0. 0. 0.]\n",
      "yt : [INFO     ] 2022-07-20 09:01:06,123 Parameters: domain_right_edge         = [1. 1. 1.]\n",
      "yt : [INFO     ] 2022-07-20 09:01:06,124 Parameters: cosmological_simulation   = 1\n",
      "yt : [INFO     ] 2022-07-20 09:01:06,125 Parameters: current_redshift          = 0.1622385268912\n",
      "yt : [INFO     ] 2022-07-20 09:01:06,126 Parameters: omega_lambda              = 0.715\n",
      "yt : [INFO     ] 2022-07-20 09:01:06,127 Parameters: omega_matter              = 0.285\n",
      "yt : [INFO     ] 2022-07-20 09:01:06,127 Parameters: omega_radiation           = 0\n",
      "yt : [INFO     ] 2022-07-20 09:01:06,128 Parameters: hubble_constant           = 0.695\n"
     ]
    },
    {
     "name": "stdout",
     "output_type": "stream",
     "text": [
      "Pulling halo center from catalog file\n",
      "Opening snapshot /Volumes/TempestTimeSteps/DD2047/DD2047\n",
      "get_refine_box: using this location:       col1         col2    col3     col4     col5    col6     col7   col8\n",
      "---------------- ------- -------- -------- ------- -------- -------- ----\n",
      "0.16224520315245 0.48939 0.472649 0.507494 0.49139 0.474649 0.509494    9\n"
     ]
    },
    {
     "name": "stderr",
     "output_type": "stream",
     "text": [
      "Parsing Hierarchy : 100%|████████████████| 5096/5096 [00:00<00:00, 15537.53it/s]\n",
      "yt : [INFO     ] 2022-07-20 09:01:06,706 Gathering a field list (this may take a moment.)\n"
     ]
    },
    {
     "name": "stdout",
     "output_type": "stream",
     "text": [
      "Pulling halo center from catalog file\n",
      "Opening snapshot /Volumes/TempestTimeSteps/DD2067/DD2067\n"
     ]
    },
    {
     "name": "stderr",
     "output_type": "stream",
     "text": [
      "yt : [INFO     ] 2022-07-20 09:01:09,660 Parameters: current_time              = 549.56652781829\n",
      "yt : [INFO     ] 2022-07-20 09:01:09,663 Parameters: domain_dimensions         = [256 256 256]\n",
      "yt : [INFO     ] 2022-07-20 09:01:09,666 Parameters: domain_left_edge          = [0. 0. 0.]\n",
      "yt : [INFO     ] 2022-07-20 09:01:09,669 Parameters: domain_right_edge         = [1. 1. 1.]\n",
      "yt : [INFO     ] 2022-07-20 09:01:09,669 Parameters: cosmological_simulation   = 1\n",
      "yt : [INFO     ] 2022-07-20 09:01:09,670 Parameters: current_redshift          = 0.15271267325251\n",
      "yt : [INFO     ] 2022-07-20 09:01:09,671 Parameters: omega_lambda              = 0.715\n",
      "yt : [INFO     ] 2022-07-20 09:01:09,671 Parameters: omega_matter              = 0.285\n",
      "yt : [INFO     ] 2022-07-20 09:01:09,672 Parameters: omega_radiation           = 0\n",
      "yt : [INFO     ] 2022-07-20 09:01:09,673 Parameters: hubble_constant           = 0.695\n"
     ]
    },
    {
     "name": "stdout",
     "output_type": "stream",
     "text": [
      "get_refine_box: using this location:       col1         col2     col3     col4     col5     col6     col7   col8\n",
      "---------------- -------- -------- -------- -------- -------- -------- ----\n",
      "0.15272457770406 0.489359 0.472517 0.507557 0.491359 0.474517 0.509557    9\n"
     ]
    },
    {
     "name": "stderr",
     "output_type": "stream",
     "text": [
      "Parsing Hierarchy : 100%|████████████████| 5279/5279 [00:00<00:00, 17516.86it/s]\n",
      "yt : [INFO     ] 2022-07-20 09:01:10,201 Gathering a field list (this may take a moment.)\n"
     ]
    },
    {
     "name": "stdout",
     "output_type": "stream",
     "text": [
      "Pulling halo center from catalog file\n",
      "Opening snapshot /Volumes/TempestTimeSteps/DD2087/DD2087\n"
     ]
    },
    {
     "name": "stderr",
     "output_type": "stream",
     "text": [
      "yt : [INFO     ] 2022-07-20 09:01:13,258 Parameters: current_time              = 554.56652781829\n",
      "yt : [INFO     ] 2022-07-20 09:01:13,260 Parameters: domain_dimensions         = [256 256 256]\n",
      "yt : [INFO     ] 2022-07-20 09:01:13,263 Parameters: domain_left_edge          = [0. 0. 0.]\n",
      "yt : [INFO     ] 2022-07-20 09:01:13,266 Parameters: domain_right_edge         = [1. 1. 1.]\n",
      "yt : [INFO     ] 2022-07-20 09:01:13,266 Parameters: cosmological_simulation   = 1\n",
      "yt : [INFO     ] 2022-07-20 09:01:13,267 Parameters: current_redshift          = 0.1433128745218\n",
      "yt : [INFO     ] 2022-07-20 09:01:13,267 Parameters: omega_lambda              = 0.715\n",
      "yt : [INFO     ] 2022-07-20 09:01:13,268 Parameters: omega_matter              = 0.285\n",
      "yt : [INFO     ] 2022-07-20 09:01:13,268 Parameters: omega_radiation           = 0\n",
      "yt : [INFO     ] 2022-07-20 09:01:13,269 Parameters: hubble_constant           = 0.695\n"
     ]
    },
    {
     "name": "stdout",
     "output_type": "stream",
     "text": [
      "get_refine_box: using this location:       col1         col2     col3     col4     col5     col6     col7   col8\n",
      "---------------- -------- -------- -------- -------- -------- -------- ----\n",
      "0.14332572233908 0.489329 0.472386 0.507616 0.491329 0.474386 0.509616    9\n"
     ]
    },
    {
     "name": "stderr",
     "output_type": "stream",
     "text": [
      "Parsing Hierarchy : 100%|████████████████| 5340/5340 [00:00<00:00, 15901.95it/s]\n",
      "yt : [INFO     ] 2022-07-20 09:01:13,830 Gathering a field list (this may take a moment.)\n"
     ]
    },
    {
     "name": "stdout",
     "output_type": "stream",
     "text": [
      "Pulling halo center from catalog file\n",
      "Opening snapshot /Volumes/TempestTimeSteps/DD2107/DD2107\n"
     ]
    },
    {
     "name": "stderr",
     "output_type": "stream",
     "text": [
      "yt : [INFO     ] 2022-07-20 09:01:17,138 Parameters: current_time              = 559.56652781829\n",
      "yt : [INFO     ] 2022-07-20 09:01:17,141 Parameters: domain_dimensions         = [256 256 256]\n",
      "yt : [INFO     ] 2022-07-20 09:01:17,143 Parameters: domain_left_edge          = [0. 0. 0.]\n",
      "yt : [INFO     ] 2022-07-20 09:01:17,146 Parameters: domain_right_edge         = [1. 1. 1.]\n",
      "yt : [INFO     ] 2022-07-20 09:01:17,146 Parameters: cosmological_simulation   = 1\n",
      "yt : [INFO     ] 2022-07-20 09:01:17,147 Parameters: current_redshift          = 0.13404074085693\n",
      "yt : [INFO     ] 2022-07-20 09:01:17,147 Parameters: omega_lambda              = 0.715\n",
      "yt : [INFO     ] 2022-07-20 09:01:17,148 Parameters: omega_matter              = 0.285\n",
      "yt : [INFO     ] 2022-07-20 09:01:17,148 Parameters: omega_radiation           = 0\n",
      "yt : [INFO     ] 2022-07-20 09:01:17,149 Parameters: hubble_constant           = 0.695\n"
     ]
    },
    {
     "name": "stdout",
     "output_type": "stream",
     "text": [
      "get_refine_box: using this location:       col1        col2    col3     col4    col5    col6     col7   col8\n",
      "---------------- ------ -------- -------- ------ -------- -------- ----\n",
      "0.13404587364197 0.4893 0.472256 0.507677 0.4913 0.474256 0.509677    9\n"
     ]
    },
    {
     "name": "stderr",
     "output_type": "stream",
     "text": [
      "Parsing Hierarchy : 100%|████████████████| 5123/5123 [00:00<00:00, 16448.65it/s]\n",
      "yt : [INFO     ] 2022-07-20 09:01:17,697 Gathering a field list (this may take a moment.)\n"
     ]
    },
    {
     "name": "stdout",
     "output_type": "stream",
     "text": [
      "Pulling halo center from catalog file\n",
      "Opening snapshot /Volumes/TempestTimeSteps/DD2127/DD2127\n"
     ]
    },
    {
     "name": "stderr",
     "output_type": "stream",
     "text": [
      "yt : [INFO     ] 2022-07-20 09:01:20,827 Parameters: current_time              = 564.56652781829\n",
      "yt : [INFO     ] 2022-07-20 09:01:20,830 Parameters: domain_dimensions         = [256 256 256]\n",
      "yt : [INFO     ] 2022-07-20 09:01:20,833 Parameters: domain_left_edge          = [0. 0. 0.]\n",
      "yt : [INFO     ] 2022-07-20 09:01:20,836 Parameters: domain_right_edge         = [1. 1. 1.]\n",
      "yt : [INFO     ] 2022-07-20 09:01:20,837 Parameters: cosmological_simulation   = 1\n",
      "yt : [INFO     ] 2022-07-20 09:01:20,837 Parameters: current_redshift          = 0.12486754396875\n",
      "yt : [INFO     ] 2022-07-20 09:01:20,838 Parameters: omega_lambda              = 0.715\n",
      "yt : [INFO     ] 2022-07-20 09:01:20,839 Parameters: omega_matter              = 0.285\n",
      "yt : [INFO     ] 2022-07-20 09:01:20,840 Parameters: omega_radiation           = 0\n",
      "yt : [INFO     ] 2022-07-20 09:01:20,840 Parameters: hubble_constant           = 0.695\n"
     ]
    },
    {
     "name": "stdout",
     "output_type": "stream",
     "text": [
      "get_refine_box: using this location:       col1         col2    col3     col4     col5    col6     col7   col8\n",
      "---------------- ------- -------- -------- ------- -------- -------- ----\n",
      "0.12488235984756 0.48927 0.472126 0.507739 0.49127 0.474126 0.509739    9\n"
     ]
    },
    {
     "name": "stderr",
     "output_type": "stream",
     "text": [
      "Parsing Hierarchy : 100%|████████████████| 4705/4705 [00:00<00:00, 13869.97it/s]\n",
      "yt : [INFO     ] 2022-07-20 09:01:21,417 Gathering a field list (this may take a moment.)\n"
     ]
    },
    {
     "name": "stdout",
     "output_type": "stream",
     "text": [
      "Pulling halo center from catalog file\n",
      "Opening snapshot /Volumes/TempestTimeSteps/DD2147/DD2147\n"
     ]
    },
    {
     "name": "stderr",
     "output_type": "stream",
     "text": [
      "yt : [INFO     ] 2022-07-20 09:01:24,950 Parameters: current_time              = 569.56652781829\n",
      "yt : [INFO     ] 2022-07-20 09:01:24,952 Parameters: domain_dimensions         = [256 256 256]\n",
      "yt : [INFO     ] 2022-07-20 09:01:24,955 Parameters: domain_left_edge          = [0. 0. 0.]\n",
      "yt : [INFO     ] 2022-07-20 09:01:24,958 Parameters: domain_right_edge         = [1. 1. 1.]\n",
      "yt : [INFO     ] 2022-07-20 09:01:24,958 Parameters: cosmological_simulation   = 1\n",
      "yt : [INFO     ] 2022-07-20 09:01:24,959 Parameters: current_redshift          = 0.11582848603619\n",
      "yt : [INFO     ] 2022-07-20 09:01:24,959 Parameters: omega_lambda              = 0.715\n",
      "yt : [INFO     ] 2022-07-20 09:01:24,960 Parameters: omega_matter              = 0.285\n",
      "yt : [INFO     ] 2022-07-20 09:01:24,961 Parameters: omega_radiation           = 0\n",
      "yt : [INFO     ] 2022-07-20 09:01:24,964 Parameters: hubble_constant           = 0.695\n"
     ]
    },
    {
     "name": "stdout",
     "output_type": "stream",
     "text": [
      "get_refine_box: using this location:       col1         col2     col3     col4     col5     col6     col7   col8\n",
      "---------------- -------- -------- -------- -------- -------- -------- ----\n",
      "0.11583259703646 0.489241 0.471999 0.507798 0.491241 0.473999 0.509798    9\n"
     ]
    },
    {
     "name": "stderr",
     "output_type": "stream",
     "text": [
      "Parsing Hierarchy : 100%|████████████████| 4762/4762 [00:00<00:00, 13781.89it/s]\n",
      "yt : [INFO     ] 2022-07-20 09:01:32,846 Gathering a field list (this may take a moment.)\n"
     ]
    },
    {
     "name": "stdout",
     "output_type": "stream",
     "text": [
      "Pulling halo center from catalog file\n",
      "Opening snapshot /Volumes/TempestTimeSteps/DD2167/DD2167\n"
     ]
    },
    {
     "name": "stderr",
     "output_type": "stream",
     "text": [
      "yt : [INFO     ] 2022-07-20 09:01:36,058 Parameters: current_time              = 574.56652781829\n",
      "yt : [INFO     ] 2022-07-20 09:01:36,060 Parameters: domain_dimensions         = [256 256 256]\n",
      "yt : [INFO     ] 2022-07-20 09:01:36,062 Parameters: domain_left_edge          = [0. 0. 0.]\n",
      "yt : [INFO     ] 2022-07-20 09:01:36,065 Parameters: domain_right_edge         = [1. 1. 1.]\n",
      "yt : [INFO     ] 2022-07-20 09:01:36,065 Parameters: cosmological_simulation   = 1\n",
      "yt : [INFO     ] 2022-07-20 09:01:36,066 Parameters: current_redshift          = 0.10688078342035\n",
      "yt : [INFO     ] 2022-07-20 09:01:36,066 Parameters: omega_lambda              = 0.715\n",
      "yt : [INFO     ] 2022-07-20 09:01:36,067 Parameters: omega_matter              = 0.285\n",
      "yt : [INFO     ] 2022-07-20 09:01:36,067 Parameters: omega_radiation           = 0\n",
      "yt : [INFO     ] 2022-07-20 09:01:36,068 Parameters: hubble_constant           = 0.695\n"
     ]
    },
    {
     "name": "stdout",
     "output_type": "stream",
     "text": [
      "get_refine_box: using this location:       col1         col2     col3     col4     col5     col6     col7   col8\n",
      "---------------- -------- -------- -------- -------- -------- -------- ----\n",
      "0.10689408551869 0.489214 0.471873 0.507855 0.491214 0.473873 0.509855    9\n"
     ]
    },
    {
     "name": "stderr",
     "output_type": "stream",
     "text": [
      "Parsing Hierarchy : 100%|████████████████| 4619/4619 [00:00<00:00, 16934.93it/s]\n",
      "yt : [INFO     ] 2022-07-20 09:01:36,568 Gathering a field list (this may take a moment.)\n"
     ]
    },
    {
     "name": "stdout",
     "output_type": "stream",
     "text": [
      "Pulling halo center from catalog file\n",
      "Opening snapshot /Volumes/TempestTimeSteps/DD2187/DD2187\n"
     ]
    },
    {
     "name": "stderr",
     "output_type": "stream",
     "text": [
      "yt : [INFO     ] 2022-07-20 09:01:39,628 Parameters: current_time              = 579.56652781829\n",
      "yt : [INFO     ] 2022-07-20 09:01:39,631 Parameters: domain_dimensions         = [256 256 256]\n",
      "yt : [INFO     ] 2022-07-20 09:01:39,633 Parameters: domain_left_edge          = [0. 0. 0.]\n",
      "yt : [INFO     ] 2022-07-20 09:01:39,636 Parameters: domain_right_edge         = [1. 1. 1.]\n",
      "yt : [INFO     ] 2022-07-20 09:01:39,637 Parameters: cosmological_simulation   = 1\n",
      "yt : [INFO     ] 2022-07-20 09:01:39,638 Parameters: current_redshift          = 0.098053769197091\n",
      "yt : [INFO     ] 2022-07-20 09:01:39,638 Parameters: omega_lambda              = 0.715\n",
      "yt : [INFO     ] 2022-07-20 09:01:39,639 Parameters: omega_matter              = 0.285\n",
      "yt : [INFO     ] 2022-07-20 09:01:39,640 Parameters: omega_radiation           = 0\n",
      "yt : [INFO     ] 2022-07-20 09:01:39,640 Parameters: hubble_constant           = 0.695\n"
     ]
    },
    {
     "name": "stdout",
     "output_type": "stream",
     "text": [
      "get_refine_box: using this location:        col1         col2     col3     col4     col5     col6     col7   col8\n",
      "----------------- -------- -------- -------- -------- -------- -------- ----\n",
      "0.098064406394637 0.489188 0.471747 0.507912 0.491188 0.473747 0.509912    9\n"
     ]
    },
    {
     "name": "stderr",
     "output_type": "stream",
     "text": [
      "Parsing Hierarchy : 100%|████████████████| 4729/4729 [00:00<00:00, 14693.82it/s]\n",
      "yt : [INFO     ] 2022-07-20 09:01:40,184 Gathering a field list (this may take a moment.)\n"
     ]
    },
    {
     "name": "stdout",
     "output_type": "stream",
     "text": [
      "Pulling halo center from catalog file\n",
      "Opening snapshot /Volumes/TempestTimeSteps/DD2207/DD2207\n"
     ]
    },
    {
     "name": "stderr",
     "output_type": "stream",
     "text": [
      "yt : [INFO     ] 2022-07-20 09:01:43,698 Parameters: current_time              = 584.56652781829\n",
      "yt : [INFO     ] 2022-07-20 09:01:43,700 Parameters: domain_dimensions         = [256 256 256]\n",
      "yt : [INFO     ] 2022-07-20 09:01:43,703 Parameters: domain_left_edge          = [0. 0. 0.]\n",
      "yt : [INFO     ] 2022-07-20 09:01:43,706 Parameters: domain_right_edge         = [1. 1. 1.]\n",
      "yt : [INFO     ] 2022-07-20 09:01:43,706 Parameters: cosmological_simulation   = 1\n",
      "yt : [INFO     ] 2022-07-20 09:01:43,707 Parameters: current_redshift          = 0.089332273252055\n",
      "yt : [INFO     ] 2022-07-20 09:01:43,708 Parameters: omega_lambda              = 0.715\n",
      "yt : [INFO     ] 2022-07-20 09:01:43,708 Parameters: omega_matter              = 0.285\n",
      "yt : [INFO     ] 2022-07-20 09:01:43,709 Parameters: omega_radiation           = 0\n",
      "yt : [INFO     ] 2022-07-20 09:01:43,709 Parameters: hubble_constant           = 0.695\n"
     ]
    },
    {
     "name": "stdout",
     "output_type": "stream",
     "text": [
      "get_refine_box: using this location:        col1         col2     col3     col4     col5     col6     col7   col8\n",
      "----------------- -------- -------- -------- -------- -------- -------- ----\n",
      "0.089341218283104 0.489161 0.471621 0.507969 0.491161 0.473621 0.509969    9\n"
     ]
    },
    {
     "name": "stderr",
     "output_type": "stream",
     "text": [
      "Parsing Hierarchy : 100%|████████████████| 4394/4394 [00:00<00:00, 17003.06it/s]\n",
      "yt : [INFO     ] 2022-07-20 09:01:44,178 Gathering a field list (this may take a moment.)\n"
     ]
    },
    {
     "name": "stdout",
     "output_type": "stream",
     "text": [
      "Pulling halo center from catalog file\n",
      "Opening snapshot /Volumes/TempestTimeSteps/DD2227/DD2227\n"
     ]
    },
    {
     "name": "stderr",
     "output_type": "stream",
     "text": [
      "yt : [INFO     ] 2022-07-20 09:01:47,129 Parameters: current_time              = 589.56652781829\n",
      "yt : [INFO     ] 2022-07-20 09:01:47,132 Parameters: domain_dimensions         = [256 256 256]\n",
      "yt : [INFO     ] 2022-07-20 09:01:47,134 Parameters: domain_left_edge          = [0. 0. 0.]\n",
      "yt : [INFO     ] 2022-07-20 09:01:47,137 Parameters: domain_right_edge         = [1. 1. 1.]\n",
      "yt : [INFO     ] 2022-07-20 09:01:47,138 Parameters: cosmological_simulation   = 1\n",
      "yt : [INFO     ] 2022-07-20 09:01:47,138 Parameters: current_redshift          = 0.080708326235905\n",
      "yt : [INFO     ] 2022-07-20 09:01:47,139 Parameters: omega_lambda              = 0.715\n",
      "yt : [INFO     ] 2022-07-20 09:01:47,140 Parameters: omega_matter              = 0.285\n",
      "yt : [INFO     ] 2022-07-20 09:01:47,140 Parameters: omega_radiation           = 0\n",
      "yt : [INFO     ] 2022-07-20 09:01:47,141 Parameters: hubble_constant           = 0.695\n"
     ]
    },
    {
     "name": "stdout",
     "output_type": "stream",
     "text": [
      "get_refine_box: using this location:        col1         col2     col3     col4     col5     col6     col7   col8\n",
      "----------------- -------- -------- -------- -------- -------- -------- ----\n",
      "0.080722254207208 0.489136 0.471499 0.508025 0.491136 0.473499 0.510025    9\n"
     ]
    },
    {
     "name": "stderr",
     "output_type": "stream",
     "text": [
      "Parsing Hierarchy : 100%|████████████████| 4637/4637 [00:00<00:00, 14862.23it/s]\n",
      "yt : [INFO     ] 2022-07-20 09:01:47,716 Gathering a field list (this may take a moment.)\n"
     ]
    },
    {
     "name": "stdout",
     "output_type": "stream",
     "text": [
      "Pulling halo center from catalog file\n",
      "Opening snapshot /Volumes/TempestTimeSteps/DD2247/DD2247\n"
     ]
    },
    {
     "name": "stderr",
     "output_type": "stream",
     "text": [
      "yt : [INFO     ] 2022-07-20 09:01:51,164 Parameters: current_time              = 594.56652781829\n",
      "yt : [INFO     ] 2022-07-20 09:01:51,169 Parameters: domain_dimensions         = [256 256 256]\n",
      "yt : [INFO     ] 2022-07-20 09:01:51,171 Parameters: domain_left_edge          = [0. 0. 0.]\n",
      "yt : [INFO     ] 2022-07-20 09:01:51,174 Parameters: domain_right_edge         = [1. 1. 1.]\n",
      "yt : [INFO     ] 2022-07-20 09:01:51,175 Parameters: cosmological_simulation   = 1\n",
      "yt : [INFO     ] 2022-07-20 09:01:51,175 Parameters: current_redshift          = 0.072203010646745\n",
      "yt : [INFO     ] 2022-07-20 09:01:51,176 Parameters: omega_lambda              = 0.715\n",
      "yt : [INFO     ] 2022-07-20 09:01:51,177 Parameters: omega_matter              = 0.285\n",
      "yt : [INFO     ] 2022-07-20 09:01:51,177 Parameters: omega_radiation           = 0\n",
      "yt : [INFO     ] 2022-07-20 09:01:51,178 Parameters: hubble_constant           = 0.695\n"
     ]
    },
    {
     "name": "stdout",
     "output_type": "stream",
     "text": [
      "get_refine_box: using this location:        col1         col2     col3     col4     col5     col6     col7   col8\n",
      "----------------- -------- -------- -------- -------- -------- -------- ----\n",
      "0.072205318629089 0.489111 0.471377 0.508078 0.491111 0.473377 0.510078    9\n"
     ]
    },
    {
     "name": "stderr",
     "output_type": "stream",
     "text": [
      "Parsing Hierarchy : 100%|████████████████| 4661/4661 [00:00<00:00, 12700.62it/s]\n",
      "yt : [INFO     ] 2022-07-20 09:01:51,833 Gathering a field list (this may take a moment.)\n"
     ]
    },
    {
     "name": "stdout",
     "output_type": "stream",
     "text": [
      "Pulling halo center from catalog file\n",
      "Opening snapshot /Volumes/TempestTimeSteps/DD2267/DD2267\n"
     ]
    },
    {
     "name": "stderr",
     "output_type": "stream",
     "text": [
      "yt : [INFO     ] 2022-07-20 09:01:55,341 Parameters: current_time              = 599.56652781829\n",
      "yt : [INFO     ] 2022-07-20 09:01:55,345 Parameters: domain_dimensions         = [256 256 256]\n",
      "yt : [INFO     ] 2022-07-20 09:01:55,349 Parameters: domain_left_edge          = [0. 0. 0.]\n",
      "yt : [INFO     ] 2022-07-20 09:01:55,352 Parameters: domain_right_edge         = [1. 1. 1.]\n",
      "yt : [INFO     ] 2022-07-20 09:01:55,354 Parameters: cosmological_simulation   = 1\n",
      "yt : [INFO     ] 2022-07-20 09:01:55,354 Parameters: current_redshift          = 0.063773742616062\n",
      "yt : [INFO     ] 2022-07-20 09:01:55,355 Parameters: omega_lambda              = 0.715\n",
      "yt : [INFO     ] 2022-07-20 09:01:55,356 Parameters: omega_matter              = 0.285\n",
      "yt : [INFO     ] 2022-07-20 09:01:55,356 Parameters: omega_radiation           = 0\n",
      "yt : [INFO     ] 2022-07-20 09:01:55,357 Parameters: hubble_constant           = 0.695\n"
     ]
    },
    {
     "name": "stdout",
     "output_type": "stream",
     "text": [
      "get_refine_box: using this location:       col1         col2     col3     col4     col5     col6     col7   col8\n",
      "---------------- -------- -------- -------- -------- -------- -------- ----\n",
      "0.06378828462523 0.489085 0.471257 0.508131 0.491085 0.473257 0.510131    9\n"
     ]
    },
    {
     "name": "stderr",
     "output_type": "stream",
     "text": [
      "Parsing Hierarchy : 100%|████████████████| 4765/4765 [00:00<00:00, 15915.64it/s]\n",
      "yt : [INFO     ] 2022-07-20 09:01:55,931 Gathering a field list (this may take a moment.)\n"
     ]
    },
    {
     "name": "stdout",
     "output_type": "stream",
     "text": [
      "Pulling halo center from catalog file\n",
      "Opening snapshot /Volumes/TempestTimeSteps/DD2287/DD2287\n"
     ]
    },
    {
     "name": "stderr",
     "output_type": "stream",
     "text": [
      "yt : [INFO     ] 2022-07-20 09:01:59,010 Parameters: current_time              = 604.56652781829\n",
      "yt : [INFO     ] 2022-07-20 09:01:59,012 Parameters: domain_dimensions         = [256 256 256]\n",
      "yt : [INFO     ] 2022-07-20 09:01:59,015 Parameters: domain_left_edge          = [0. 0. 0.]\n",
      "yt : [INFO     ] 2022-07-20 09:01:59,018 Parameters: domain_right_edge         = [1. 1. 1.]\n",
      "yt : [INFO     ] 2022-07-20 09:01:59,019 Parameters: cosmological_simulation   = 1\n",
      "yt : [INFO     ] 2022-07-20 09:01:59,019 Parameters: current_redshift          = 0.055464005771674\n",
      "yt : [INFO     ] 2022-07-20 09:01:59,019 Parameters: omega_lambda              = 0.715\n",
      "yt : [INFO     ] 2022-07-20 09:01:59,020 Parameters: omega_matter              = 0.285\n",
      "yt : [INFO     ] 2022-07-20 09:01:59,021 Parameters: omega_radiation           = 0\n",
      "yt : [INFO     ] 2022-07-20 09:01:59,021 Parameters: hubble_constant           = 0.695\n"
     ]
    },
    {
     "name": "stdout",
     "output_type": "stream",
     "text": [
      "get_refine_box: using this location:        col1         col2     col3     col4     col5     col6     col7   col8\n",
      "----------------- -------- -------- -------- -------- -------- -------- ----\n",
      "0.055469091194623 0.489056 0.471136 0.508185 0.491056 0.473136 0.510185    9\n"
     ]
    },
    {
     "name": "stderr",
     "output_type": "stream",
     "text": [
      "Parsing Hierarchy : 100%|████████████████| 4752/4752 [00:00<00:00, 16741.06it/s]\n",
      "yt : [INFO     ] 2022-07-20 09:01:59,529 Gathering a field list (this may take a moment.)\n"
     ]
    },
    {
     "name": "stdout",
     "output_type": "stream",
     "text": [
      "Pulling halo center from catalog file\n",
      "Opening snapshot /Volumes/TempestTimeSteps/DD2307/DD2307\n"
     ]
    },
    {
     "name": "stderr",
     "output_type": "stream",
     "text": [
      "yt : [INFO     ] 2022-07-20 09:02:02,642 Parameters: current_time              = 609.56652781829\n",
      "yt : [INFO     ] 2022-07-20 09:02:02,645 Parameters: domain_dimensions         = [256 256 256]\n",
      "yt : [INFO     ] 2022-07-20 09:02:02,649 Parameters: domain_left_edge          = [0. 0. 0.]\n",
      "yt : [INFO     ] 2022-07-20 09:02:02,652 Parameters: domain_right_edge         = [1. 1. 1.]\n",
      "yt : [INFO     ] 2022-07-20 09:02:02,652 Parameters: cosmological_simulation   = 1\n",
      "yt : [INFO     ] 2022-07-20 09:02:02,653 Parameters: current_redshift          = 0.047232768552278\n",
      "yt : [INFO     ] 2022-07-20 09:02:02,653 Parameters: omega_lambda              = 0.715\n",
      "yt : [INFO     ] 2022-07-20 09:02:02,654 Parameters: omega_matter              = 0.285\n",
      "yt : [INFO     ] 2022-07-20 09:02:02,654 Parameters: omega_radiation           = 0\n",
      "yt : [INFO     ] 2022-07-20 09:02:02,655 Parameters: hubble_constant           = 0.695\n"
     ]
    },
    {
     "name": "stdout",
     "output_type": "stream",
     "text": [
      "get_refine_box: using this location:       col1         col2     col3     col4     col5     col6     col7   col8\n",
      "---------------- -------- -------- -------- -------- -------- -------- ----\n",
      "0.04724574069249 0.489029 0.471018 0.508236 0.491029 0.473018 0.510236    9\n"
     ]
    },
    {
     "name": "stderr",
     "output_type": "stream",
     "text": [
      "Parsing Hierarchy : 100%|████████████████| 4568/4568 [00:00<00:00, 10815.70it/s]\n",
      "yt : [INFO     ] 2022-07-20 09:02:03,332 Gathering a field list (this may take a moment.)\n",
      "yt : [INFO     ] 2022-07-20 09:02:06,650 Parameters: current_time              = 614.56652781829\n",
      "yt : [INFO     ] 2022-07-20 09:02:06,652 Parameters: domain_dimensions         = [256 256 256]\n",
      "yt : [INFO     ] 2022-07-20 09:02:06,655 Parameters: domain_left_edge          = [0. 0. 0.]\n",
      "yt : [INFO     ] 2022-07-20 09:02:06,657 Parameters: domain_right_edge         = [1. 1. 1.]\n",
      "yt : [INFO     ] 2022-07-20 09:02:06,658 Parameters: cosmological_simulation   = 1\n",
      "yt : [INFO     ] 2022-07-20 09:02:06,658 Parameters: current_redshift          = 0.0391061686678\n",
      "yt : [INFO     ] 2022-07-20 09:02:06,659 Parameters: omega_lambda              = 0.715\n",
      "yt : [INFO     ] 2022-07-20 09:02:06,659 Parameters: omega_matter              = 0.285\n",
      "yt : [INFO     ] 2022-07-20 09:02:06,660 Parameters: omega_radiation           = 0\n",
      "yt : [INFO     ] 2022-07-20 09:02:06,661 Parameters: hubble_constant           = 0.695\n"
     ]
    },
    {
     "name": "stdout",
     "output_type": "stream",
     "text": [
      "Pulling halo center from catalog file\n",
      "Opening snapshot /Volumes/TempestTimeSteps/DD2327/DD2327\n",
      "get_refine_box: using this location:        col1         col2     col3     col4    col5     col6     col7  col8\n",
      "----------------- -------- -------- ------- -------- -------- ------- ----\n",
      "0.039116296382769 0.489003 0.470898 0.50829 0.491003 0.472898 0.51029    9\n"
     ]
    },
    {
     "name": "stderr",
     "output_type": "stream",
     "text": [
      "Parsing Hierarchy : 100%|████████████████| 4486/4486 [00:00<00:00, 17692.13it/s]\n",
      "yt : [INFO     ] 2022-07-20 09:02:07,128 Gathering a field list (this may take a moment.)\n"
     ]
    },
    {
     "name": "stdout",
     "output_type": "stream",
     "text": [
      "Pulling halo center from catalog file\n",
      "Opening snapshot /Volumes/TempestTimeSteps/DD2347/DD2347\n"
     ]
    },
    {
     "name": "stderr",
     "output_type": "stream",
     "text": [
      "yt : [INFO     ] 2022-07-20 09:02:10,281 Parameters: current_time              = 619.56652781829\n",
      "yt : [INFO     ] 2022-07-20 09:02:10,284 Parameters: domain_dimensions         = [256 256 256]\n",
      "yt : [INFO     ] 2022-07-20 09:02:10,286 Parameters: domain_left_edge          = [0. 0. 0.]\n",
      "yt : [INFO     ] 2022-07-20 09:02:10,289 Parameters: domain_right_edge         = [1. 1. 1.]\n",
      "yt : [INFO     ] 2022-07-20 09:02:10,290 Parameters: cosmological_simulation   = 1\n",
      "yt : [INFO     ] 2022-07-20 09:02:10,291 Parameters: current_redshift          = 0.031069228461955\n",
      "yt : [INFO     ] 2022-07-20 09:02:10,291 Parameters: omega_lambda              = 0.715\n",
      "yt : [INFO     ] 2022-07-20 09:02:10,292 Parameters: omega_matter              = 0.285\n",
      "yt : [INFO     ] 2022-07-20 09:02:10,292 Parameters: omega_radiation           = 0\n",
      "yt : [INFO     ] 2022-07-20 09:02:10,293 Parameters: hubble_constant           = 0.695\n"
     ]
    },
    {
     "name": "stdout",
     "output_type": "stream",
     "text": [
      "get_refine_box: using this location:        col1         col2     col3     col4     col5     col6     col7   col8\n",
      "----------------- -------- -------- -------- -------- -------- -------- ----\n",
      "0.031078880102952 0.488974 0.470782 0.508341 0.490974 0.472782 0.510341    9\n"
     ]
    },
    {
     "name": "stderr",
     "output_type": "stream",
     "text": [
      "Parsing Hierarchy : 100%|████████████████| 4414/4414 [00:00<00:00, 17399.19it/s]\n",
      "yt : [INFO     ] 2022-07-20 09:02:10,762 Gathering a field list (this may take a moment.)\n"
     ]
    },
    {
     "name": "stdout",
     "output_type": "stream",
     "text": [
      "Pulling halo center from catalog file\n",
      "Opening snapshot /Volumes/TempestTimeSteps/DD2367/DD2367\n"
     ]
    },
    {
     "name": "stderr",
     "output_type": "stream",
     "text": [
      "yt : [INFO     ] 2022-07-20 09:02:13,662 Parameters: current_time              = 624.56652781829\n",
      "yt : [INFO     ] 2022-07-20 09:02:13,665 Parameters: domain_dimensions         = [256 256 256]\n",
      "yt : [INFO     ] 2022-07-20 09:02:13,667 Parameters: domain_left_edge          = [0. 0. 0.]\n",
      "yt : [INFO     ] 2022-07-20 09:02:13,669 Parameters: domain_right_edge         = [1. 1. 1.]\n",
      "yt : [INFO     ] 2022-07-20 09:02:13,670 Parameters: cosmological_simulation   = 1\n",
      "yt : [INFO     ] 2022-07-20 09:02:13,670 Parameters: current_redshift          = 0.023118635482115\n",
      "yt : [INFO     ] 2022-07-20 09:02:13,671 Parameters: omega_lambda              = 0.715\n",
      "yt : [INFO     ] 2022-07-20 09:02:13,671 Parameters: omega_matter              = 0.285\n",
      "yt : [INFO     ] 2022-07-20 09:02:13,672 Parameters: omega_radiation           = 0\n",
      "yt : [INFO     ] 2022-07-20 09:02:13,672 Parameters: hubble_constant           = 0.695\n"
     ]
    },
    {
     "name": "stdout",
     "output_type": "stream",
     "text": [
      "get_refine_box: using this location:        col1         col2     col3     col4     col5     col6     col7   col8\n",
      "----------------- -------- -------- -------- -------- -------- -------- ----\n",
      "0.023131670035277 0.488947 0.470663 0.508391 0.490947 0.472663 0.510391    9\n"
     ]
    },
    {
     "name": "stderr",
     "output_type": "stream",
     "text": [
      "Parsing Hierarchy : 100%|████████████████| 4336/4336 [00:00<00:00, 17141.44it/s]\n",
      "yt : [INFO     ] 2022-07-20 09:02:14,163 Gathering a field list (this may take a moment.)\n"
     ]
    },
    {
     "name": "stdout",
     "output_type": "stream",
     "text": [
      "Pulling halo center from catalog file\n",
      "Opening snapshot /Volumes/TempestTimeSteps/DD2387/DD2387\n"
     ]
    },
    {
     "name": "stderr",
     "output_type": "stream",
     "text": [
      "yt : [INFO     ] 2022-07-20 09:02:17,325 Parameters: current_time              = 629.56652781829\n",
      "yt : [INFO     ] 2022-07-20 09:02:17,328 Parameters: domain_dimensions         = [256 256 256]\n",
      "yt : [INFO     ] 2022-07-20 09:02:17,330 Parameters: domain_left_edge          = [0. 0. 0.]\n",
      "yt : [INFO     ] 2022-07-20 09:02:17,333 Parameters: domain_right_edge         = [1. 1. 1.]\n",
      "yt : [INFO     ] 2022-07-20 09:02:17,333 Parameters: cosmological_simulation   = 1\n",
      "yt : [INFO     ] 2022-07-20 09:02:17,334 Parameters: current_redshift          = 0.015267938588785\n",
      "yt : [INFO     ] 2022-07-20 09:02:17,334 Parameters: omega_lambda              = 0.715\n",
      "yt : [INFO     ] 2022-07-20 09:02:17,335 Parameters: omega_matter              = 0.285\n",
      "yt : [INFO     ] 2022-07-20 09:02:17,336 Parameters: omega_radiation           = 0\n",
      "yt : [INFO     ] 2022-07-20 09:02:17,337 Parameters: hubble_constant           = 0.695\n"
     ]
    },
    {
     "name": "stdout",
     "output_type": "stream",
     "text": [
      "get_refine_box: using this location:        col1         col2     col3     col4    col5     col6     col7  col8\n",
      "----------------- -------- -------- ------- -------- -------- ------- ----\n",
      "0.015272898578656 0.488921 0.470547 0.50844 0.490921 0.472547 0.51044    9\n"
     ]
    },
    {
     "name": "stderr",
     "output_type": "stream",
     "text": [
      "Parsing Hierarchy : 100%|████████████████| 4456/4456 [00:00<00:00, 16559.52it/s]\n",
      "yt : [INFO     ] 2022-07-20 09:02:17,837 Gathering a field list (this may take a moment.)\n"
     ]
    },
    {
     "name": "stdout",
     "output_type": "stream",
     "text": [
      "Pulling halo center from catalog file\n",
      "Opening snapshot /Volumes/TempestTimeSteps/DD2407/DD2407\n"
     ]
    },
    {
     "name": "stderr",
     "output_type": "stream",
     "text": [
      "yt : [INFO     ] 2022-07-20 09:02:21,115 Parameters: current_time              = 634.56652781829\n",
      "yt : [INFO     ] 2022-07-20 09:02:21,118 Parameters: domain_dimensions         = [256 256 256]\n",
      "yt : [INFO     ] 2022-07-20 09:02:21,120 Parameters: domain_left_edge          = [0. 0. 0.]\n",
      "yt : [INFO     ] 2022-07-20 09:02:21,122 Parameters: domain_right_edge         = [1. 1. 1.]\n",
      "yt : [INFO     ] 2022-07-20 09:02:21,123 Parameters: cosmological_simulation   = 1\n",
      "yt : [INFO     ] 2022-07-20 09:02:21,124 Parameters: current_redshift          = 0.0074866626587569\n",
      "yt : [INFO     ] 2022-07-20 09:02:21,124 Parameters: omega_lambda              = 0.715\n",
      "yt : [INFO     ] 2022-07-20 09:02:21,125 Parameters: omega_matter              = 0.285\n",
      "yt : [INFO     ] 2022-07-20 09:02:21,126 Parameters: omega_radiation           = 0\n",
      "yt : [INFO     ] 2022-07-20 09:02:21,127 Parameters: hubble_constant           = 0.695\n"
     ]
    },
    {
     "name": "stdout",
     "output_type": "stream",
     "text": [
      "get_refine_box: using this location:        col1          col2     col3     col4    col5     col6     col7  col8\n",
      "------------------ -------- -------- ------- -------- -------- ------- ----\n",
      "0.0075008503160188 0.488892 0.470431 0.50849 0.490892 0.472431 0.51049    9\n"
     ]
    },
    {
     "name": "stderr",
     "output_type": "stream",
     "text": [
      "Parsing Hierarchy : 100%|████████████████| 4394/4394 [00:00<00:00, 16670.33it/s]\n",
      "yt : [INFO     ] 2022-07-20 09:02:21,599 Gathering a field list (this may take a moment.)\n"
     ]
    },
    {
     "name": "stdout",
     "output_type": "stream",
     "text": [
      "Pulling halo center from catalog file\n",
      "Opening snapshot /Volumes/TempestTimeSteps/DD2427/DD2427\n"
     ]
    },
    {
     "name": "stderr",
     "output_type": "stream",
     "text": [
      "yt : [INFO     ] 2022-07-20 09:02:24,796 Parameters: current_time              = 639.44480357087\n",
      "yt : [INFO     ] 2022-07-20 09:02:24,799 Parameters: domain_dimensions         = [256 256 256]\n",
      "yt : [INFO     ] 2022-07-20 09:02:24,801 Parameters: domain_left_edge          = [0. 0. 0.]\n",
      "yt : [INFO     ] 2022-07-20 09:02:24,803 Parameters: domain_right_edge         = [1. 1. 1.]\n",
      "yt : [INFO     ] 2022-07-20 09:02:24,804 Parameters: cosmological_simulation   = 1\n",
      "yt : [INFO     ] 2022-07-20 09:02:24,804 Parameters: current_redshift          = 0\n",
      "yt : [INFO     ] 2022-07-20 09:02:24,805 Parameters: omega_lambda              = 0.715\n",
      "yt : [INFO     ] 2022-07-20 09:02:24,806 Parameters: omega_matter              = 0.285\n",
      "yt : [INFO     ] 2022-07-20 09:02:24,807 Parameters: omega_radiation           = 0\n",
      "yt : [INFO     ] 2022-07-20 09:02:24,807 Parameters: hubble_constant           = 0.695\n"
     ]
    },
    {
     "name": "stdout",
     "output_type": "stream",
     "text": [
      "get_refine_box: using this location:         col1          col2     col3     col4    col5     col6     col7  col8\n",
      "------------------- -------- -------- ------- -------- -------- ------- ----\n",
      "4.4408920985006e-16 0.488865 0.470316 0.50854 0.490865 0.472316 0.51054    9\n"
     ]
    },
    {
     "name": "stderr",
     "output_type": "stream",
     "text": [
      "Parsing Hierarchy : 100%|████████████████| 4262/4262 [00:00<00:00, 17213.31it/s]\n",
      "yt : [INFO     ] 2022-07-20 09:02:25,287 Gathering a field list (this may take a moment.)\n"
     ]
    },
    {
     "name": "stdout",
     "output_type": "stream",
     "text": [
      "Pulling halo center from catalog file\n",
      "SUCCESS!\n"
     ]
    }
   ],
   "source": [
    "\"\"\"\n",
    "Now, run through ALL the files with star data in the hard drive. This should take a while.\n",
    "\"\"\"\n",
    "\n",
    "halo = 'Tempest'\n",
    "hnum = '008508'\n",
    "\n",
    "halo_c_v_name = '/Users/bnguyen/FOGGIE/foggie/halo_infos/'+hnum+'/nref11c_nref9f/halo_c_v'\n",
    "trackname = '/Users/bnguyen/FOGGIE/foggie/halo_tracks/'+hnum+'/nref11n_selfshield_15/halo_track_200kpc_nref9'\n",
    "masses_dir = '/Users/bnguyen/FOGGIE/foggie/halo_infos/'+hnum+'/nref11c_nref9f/'\n",
    "\n",
    "def StarParts(pfilter, data):\n",
    "    return data[(\"all\", \"particle_type\")] == 2 # only grab star particles\n",
    "\n",
    "add_particle_filter(\"stars\", function=StarParts, filtered_type='all', requires=[\"particle_type\"])\n",
    "\n",
    "def DMParts(pfilter, data):\n",
    "    return data[(\"all\", \"particle_type\")] == 4 # only grab DM particles\n",
    "\n",
    "all_snaps = np.array([], dtype='object')\n",
    "\n",
    "for snap_name in tslist:\n",
    "    ds, region = fog.foggie_load(snap_name, trackname, find_halo_center=True, halo_c_v_name=halo_c_v_name, disk_relative=False, \\\n",
    "                                particle_type_for_angmom='young_stars', do_filter_particles=False, gravity=False,\\\n",
    "                                region='refine_box',masses_dir=masses_dir)\n",
    "    \n",
    "    ads = ds.all_data()\n",
    "    all_snaps = np.append(all_snaps, ds)\n",
    "    \n",
    "print('SUCCESS!')"
   ]
  },
  {
   "cell_type": "code",
   "execution_count": 55,
   "id": "e04fd852",
   "metadata": {
    "scrolled": true
   },
   "outputs": [
    {
     "name": "stdout",
     "output_type": "stream",
     "text": [
      "0.5544026106474821 kpc 0 DD0047\n",
      "0.6845357179856116 kpc 0 DD0067\n",
      "0.8086311050359714 kpc 0 DD0087\n",
      "0.9188477784172664 kpc 0 DD0107\n",
      "1.0060894230215829 kpc 0 DD0127\n",
      "1.0867542141007194 kpc 0 DD0147\n",
      "1.1885053542446042 kpc 0 DD0167\n",
      "1.2712871214388493 kpc 0 DD0187\n",
      "1.3501285433093526 kpc 0 DD0207\n",
      "1.4515821858992806 kpc 0 DD0227\n",
      "1.5473506463309352 kpc 0 DD0247\n",
      "1.6555254207194245 kpc 0 DD0267\n",
      "1.855872349640288 kpc 0 DD0287\n",
      "1.9934084097841727 kpc 0 DD0307\n",
      "2.474687607194245 kpc 0 DD0327\n",
      "2.6762971280575543 kpc 0 DD0347\n",
      "2.8192929248920864 kpc 0 DD0367\n",
      "2.9458893093525185 kpc 0 DD0387\n",
      "3.0536117058992813 kpc 0 DD0407\n",
      "3.1352719309352524 kpc 0 DD0427\n",
      "3.228436647482014 kpc 0 DD0447\n",
      "3.2945026258992804 kpc 0 DD0467\n",
      "3.3544726929496407 kpc 0 DD0487\n",
      "3.402375631079137 kpc 0 DD0507\n",
      "3.4825334615827352 kpc 0 DD0527\n",
      "3.5721549985611514 kpc 0 DD0547\n",
      "3.6560125467625904 kpc 0 DD0567\n",
      "3.7443075815827336 kpc 0 DD0587\n",
      "3.838614395395684 kpc 0 DD0607\n",
      "3.920401044604317 kpc 3 DD0627\n",
      "4.009000104748202 kpc 6 DD0647\n",
      "4.071131332374101 kpc 3 DD0667\n",
      "4.1402588261870505 kpc 9 DD0687\n",
      "4.216423599424462 kpc 0 DD0707\n",
      "4.307027015827338 kpc 21 DD0727\n",
      "4.387443783884893 kpc 6 DD0747\n",
      "4.466149207482015 kpc 9 DD0767\n",
      "4.526782874244605 kpc 21 DD0787\n",
      "4.610199033093526 kpc 9 DD0807\n",
      "4.71463594705036 kpc 6 DD0827\n",
      "4.816957191366908 kpc 15 DD0847\n",
      "4.916133757122303 kpc 3 DD0867\n",
      "5.007495132086333 kpc 3 DD0887\n",
      "5.092505749640289 kpc 0 DD0907\n",
      "5.181660890935252 kpc 0 DD0927\n",
      "5.2741272676259 kpc 0 DD0947\n",
      "5.344815925179857 kpc 0 DD0967\n",
      "5.426717545899282 kpc 0 DD0987\n",
      "5.523379994244605 kpc 0 DD1007\n",
      "5.611930577266187 kpc 0 DD1027\n",
      "5.687071437697842 kpc 0 DD1047\n",
      "5.776906562302159 kpc 0 DD1067\n",
      "5.872096067338131 kpc 0 DD1087\n",
      "5.982533231079137 kpc 0 DD1107\n",
      "6.063694904172664 kpc 0 DD1127\n",
      "6.163971579856117 kpc 0 DD1147\n",
      "6.213532316546764 kpc 0 DD1167\n",
      "6.280460060431656 kpc 0 DD1187\n",
      "6.366035770647483 kpc 0 DD1207\n",
      "6.453926870503597 kpc 0 DD1227\n",
      "6.519389313669065 kpc 0 DD1247\n",
      "6.601558584172662 kpc 0 DD1267\n",
      "6.662940345323742 kpc 0 DD1287\n",
      "6.702148116258994 kpc 75 DD1307\n",
      "6.745832554244605 kpc 168 DD1310\n",
      "6.713878922877699 kpc 168 DD1311\n",
      "6.721529853237411 kpc 246 DD1312\n",
      "6.726001910791367 kpc 261 DD1313\n",
      "6.713205631079138 kpc 261 DD1314\n",
      "6.76195260086331 kpc 261 DD1315\n",
      "6.748801141582735 kpc 261 DD1316\n",
      "6.73003184 kpc 261 DD1318\n",
      "6.7613734051798575 kpc 261 DD1319\n",
      "6.772058891223022 kpc 261 DD1320\n",
      "6.74884777553957 kpc 261 DD1327\n",
      "6.7487600460431665 kpc 2862 DD1347\n",
      "6.612671602877699 kpc 9480 DD1367\n",
      "6.661402901294965 kpc 14943 DD1387\n",
      "6.090966430215827 kpc 31389 DD1407\n",
      "4.137755367482014 kpc 57291 DD1427\n",
      "3.936004365467627 kpc 81831 DD1447\n",
      "4.3769876676259 kpc 264699 DD1487\n",
      "4.534817570071943 kpc 346377 DD1507\n",
      "4.41730382733813 kpc 402069 DD1527\n",
      "4.561388011510792 kpc 426456 DD1547\n",
      "4.572110248057554 kpc 434184 DD1567\n",
      "4.483369246043166 kpc 438405 DD1587\n",
      "4.608769079136691 kpc 445401 DD1607\n",
      "4.477000474820144 kpc 440409 DD1627\n",
      "4.676957646043166 kpc 442515 DD1647\n",
      "4.665549872805756 kpc 445902 DD1667\n",
      "4.692225937553957 kpc 445995 DD1687\n",
      "4.621882559424462 kpc 449019 DD1707\n",
      "4.647475399136691 kpc 450252 DD1727\n",
      "4.662017768345325 kpc 450447 DD1747\n",
      "4.645226664748202 kpc 450186 DD1767\n",
      "4.6950309841726625 kpc 454599 DD1787\n",
      "4.659743402589927 kpc 460794 DD1807\n",
      "4.648696873956835 kpc 463506 DD1827\n",
      "4.604479873381296 kpc 466251 DD1847\n",
      "3.230840489784173 kpc 463209 DD1907\n",
      "3.708506538705036 kpc 457017 DD1927\n",
      "3.7132102825899285 kpc 459132 DD1947\n",
      "3.6481566494964035 kpc 465522 DD1967\n",
      "3.6035395798561156 kpc 475770 DD1987\n",
      "3.5046454066187054 kpc 487152 DD2007\n",
      "3.5518297876259 kpc 496596 DD2027\n",
      "3.559245863309353 kpc 502821 DD2047\n",
      "3.586660567769785 kpc 506967 DD2067\n",
      "3.625711555395684 kpc 508887 DD2087\n",
      "3.6167879594244603 kpc 509604 DD2107\n",
      "3.47846083971223 kpc 509667 DD2127\n",
      "3.2693546618705045 kpc 449445 DD2187\n",
      "3.2374148115107917 kpc 448650 DD2207\n",
      "3.2312938316546767 kpc 448788 DD2227\n",
      "3.263635522302159 kpc 449229 DD2247\n",
      "3.290310258992806 kpc 448830 DD2267\n",
      "3.283769739280576 kpc 448485 DD2287\n",
      "3.310404663597123 kpc 448509 DD2307\n",
      "3.245181233956835 kpc 447528 DD2327\n",
      "3.171435918848921 kpc 386766 DD2387\n",
      "3.172507592230216 kpc 380124 DD2407\n",
      "3.1991366906474825 kpc 378858 DD2427\n",
      "Success!\n"
     ]
    }
   ],
   "source": [
    "\"\"\"\n",
    "Now, we go through each of the satellites and find the location & mass of the stars \n",
    "at each timestep, then save that into .txt files to analyze later. This is because \n",
    "we tried NumPy arrays and lists before, but that didn't end up working out.\n",
    "\"\"\"\n",
    "\n",
    "bin_size = YTQuantity(0.25, 'kpc') # 250 pc is the resolution of the simulation\n",
    "\n",
    "all_radius_arrays = []\n",
    "starry_spheres = []\n",
    "\n",
    "each_halo_radius_arrays = []    \n",
    "each_halo_spheres = []\n",
    "    \n",
    "# this goes through the halo at each timestep to find its Rvir and center position\n",
    "for idx in range(np.size(all_rvirs)):\n",
    "    each_cen = YTArray(all_centers[idx], 'kpc')\n",
    "    each_rvir = YTQuantity(all_rvirs[idx] * 0.2, 'kpc')\n",
    "    ds = all_available_snaps[idx]\n",
    "    \n",
    "    ds.add_particle_filter('stars')\n",
    "    ds.add_particle_filter('DM')\n",
    "            \n",
    "    # this uses yt to create spheres which contain the stars of each respective halo\n",
    "    halo_sphere = ds.sphere(center=each_cen,radius=each_rvir)\n",
    "    stars_ID = halo_sphere['stars', 'particle_index']\n",
    "    stars_loc = halo_sphere['stars','particle_position'].in_units('kpc')\n",
    "    corrected_stars_loc = stars_loc - each_cen # this places the halo center as the origin of its stars' coords\n",
    "    stars_mass = halo_sphere['stars','particle_mass'].in_units('Msun')\n",
    "    \n",
    "    print(each_rvir, np.size(corrected_stars_loc), str(halo_sphere)[10:16])\n",
    "    \n",
    "    if np.size(corrected_stars_loc) != 0:\n",
    "        radius_array = np.arange(YTQuantity(0.01, 'kpc'), each_rvir, bin_size)\n",
    "\n",
    "        title = \"star_timesteps/star_location_\" + str(starry_idx[0]) + '_' + \\\n",
    "                str(halo_sphere)[10:16] + '.txt'\n",
    "        with open(title, \"w\") as f:\n",
    "            for i in range(np.size(stars_mass)):\n",
    "                f.write(str(corrected_stars_loc[i].value[0]) + ' ' + str(corrected_stars_loc[i].value[1]) + ' ' \\\n",
    "                    + str(corrected_stars_loc[i].value[2]) + ' ' + str(stars_mass[i].value) + ' ' \\\n",
    "                    + str(each_rvir.value) + ' ' + str(each_cen.value[0]) + ' ' + str(each_cen.value[1]) \\\n",
    "                    + ' ' + str(each_cen.value[2]) + ' ' + str(stars_ID[i].value) + '\\n')\n",
    "\n",
    "        each_halo_radius_arrays.append(radius_array)    \n",
    "        each_halo_spheres.append(halo_sphere)\n",
    "\n",
    "print('Success!')"
   ]
  },
  {
   "cell_type": "markdown",
   "id": "fd912ec2",
   "metadata": {},
   "source": [
    "From the output earlier, it seems like there's something tragically wrong with DD1427 when it comes to data for halo 51. 98140389 is too large a number for stars within a halo sphere. Let's ignore DD1427 for now.\n",
    "\n",
    "UPDATE: Wed Jul 20, 10:09 PM: changed the limit from Rvir to 0.2 * Rvir"
   ]
  },
  {
   "cell_type": "code",
   "execution_count": 111,
   "id": "13e02c11",
   "metadata": {
    "scrolled": true
   },
   "outputs": [
    {
     "name": "stdout",
     "output_type": "stream",
     "text": [
      "finished DD2427\n",
      "finished DD2407\n",
      "finished DD2387\n",
      "finished DD2327\n",
      "finished DD2307\n",
      "finished DD2287\n",
      "finished DD2267\n",
      "finished DD2247\n",
      "finished DD2227\n",
      "finished DD2207\n",
      "finished DD2187\n",
      "finished DD2127\n",
      "finished DD2107\n",
      "finished DD2087\n",
      "finished DD2067\n",
      "finished DD2047\n",
      "finished DD2027\n",
      "finished DD2007\n",
      "finished DD1987\n",
      "finished DD1967\n",
      "finished DD1947\n",
      "finished DD1927\n",
      "finished DD1907\n",
      "finished DD1847\n",
      "finished DD1827\n",
      "finished DD1807\n",
      "finished DD1787\n",
      "finished DD1767\n",
      "finished DD1747\n",
      "finished DD1727\n",
      "finished DD1707\n",
      "finished DD1687\n",
      "finished DD1667\n",
      "finished DD1647\n",
      "finished DD1627\n",
      "finished DD1607\n",
      "finished DD1587\n",
      "finished DD1567\n",
      "finished DD1547\n",
      "finished DD1527\n",
      "finished DD1507\n",
      "finished DD1487\n",
      "finished DD1447\n",
      "finished DD1427\n",
      "finished DD1407\n",
      "finished DD1387\n",
      "finished DD1367\n",
      "finished DD1347\n",
      "finished DD1327\n",
      "finished DD1320\n",
      "finished DD1319\n",
      "finished DD1318\n",
      "finished DD1316\n",
      "finished DD1315\n",
      "finished DD1314\n",
      "finished DD1313\n",
      "finished DD1312\n",
      "finished DD1311\n",
      "finished DD1310\n",
      "finished DD1307\n",
      "finished DD0887\n",
      "finished DD0867\n",
      "finished DD0847\n",
      "finished DD0827\n",
      "finished DD0807\n",
      "finished DD0787\n",
      "finished DD0767\n",
      "finished DD0747\n",
      "finished DD0727\n",
      "finished DD0687\n",
      "finished DD0667\n",
      "finished DD0647\n",
      "finished DD0627\n"
     ]
    }
   ],
   "source": [
    "# Now, read through the saved .txt files\n",
    "\n",
    "i = np.size(each_halo_spheres) - 1\n",
    "\n",
    "lost_stars = np.array([], dtype='object')\n",
    "mass_lost = np.zeros(np.size(each_halo_spheres))\n",
    "\n",
    "while i >= 0:\n",
    "    \n",
    "    halo_sphere = each_halo_spheres[i]\n",
    "\n",
    "    timestep = str(halo_sphere)[10:16]\n",
    "    text_name = \"star_timesteps/star_location_\" + str(starry_idx[0]) + '_' + timestep + '.txt'\n",
    "    file = np.genfromtxt(text_name, dtype='str')\n",
    "\n",
    "    if file.ndim == 1:\n",
    "        star_loc_x = np.array([file[0]], dtype='float32')\n",
    "        star_loc_y = np.array([file[1]], dtype='float32')\n",
    "        star_loc_z = np.array([file[2]], dtype='float32')\n",
    "        star_mass = np.array([file[3]], dtype='float32')\n",
    "        rvir = np.array([file[4]], dtype='float32')\n",
    "        center_x = np.array([file[5]], dtype='float32')\n",
    "        center_y = np.array([file[6]], dtype='float32')\n",
    "        center_z = np.array([file[7]], dtype='float32')\n",
    "        star_ID = np.array([file[8]], dtype='float32')\n",
    "        \n",
    "    else:    \n",
    "        star_loc_x = np.array(file[:,0], dtype='float32')\n",
    "        star_loc_y = np.array(file[:,1], dtype='float32')\n",
    "        star_loc_z = np.array(file[:,2], dtype='float32')\n",
    "        star_mass = np.array(file[:,3], dtype='float32')\n",
    "        rvir = np.array(file[0,4], dtype='float32')\n",
    "        center_x = np.array(file[0,5], dtype='float32')\n",
    "        center_y = np.array(file[0,6], dtype='float32')\n",
    "        center_z = np.array(file[0,7], dtype='float32')\n",
    "        star_ID = np.array(file[:,8], dtype='float32')\n",
    "        \n",
    "    for star in star_ID:\n",
    "        if star not in lost_stars:\n",
    "            lost_stars = np.append(lost_stars, star) \n",
    "            # this does not divide the lost stars by the time they're lost. fix this later!\n",
    "            \n",
    "            mass_lost[i] = np.sum(star_mass[star_ID == star])\n",
    "\n",
    "    i -= 1\n",
    "\n",
    "    print('finished ' + str(timestep))"
   ]
  },
  {
   "cell_type": "code",
   "execution_count": 184,
   "id": "850b503e",
   "metadata": {},
   "outputs": [],
   "source": [
    "relevant_times = np.zeros(np.size(each_halo_spheres))\n",
    "\n",
    "i = 0\n",
    "for halo_sphere in each_halo_spheres:\n",
    "    timestep = int(str(halo_sphere)[12:16])\n",
    "    relevant_times[i] = sim[timestep - 44].time_gyr\n",
    "    i += 1"
   ]
  },
  {
   "cell_type": "markdown",
   "id": "d4334e6c",
   "metadata": {},
   "source": [
    "Next, we look for the 5 greatest star mass losses and pinpoint the times at which these happen. The pinpointed times will then be compared to the tidal force plot to see if they match the peaks."
   ]
  },
  {
   "cell_type": "code",
   "execution_count": 161,
   "id": "dd36816b",
   "metadata": {},
   "outputs": [],
   "source": [
    "max_losses = np.sort(mass_lost)[-3:]\n",
    "max_loss_times = np.zeros(np.size(max_losses))\n",
    "\n",
    "i = 0\n",
    "for max_mass_amount in max_losses:\n",
    "    max_loss_times[i] = relevant_times[mass_lost == max_mass_amount][0]\n",
    "    i += 1"
   ]
  },
  {
   "cell_type": "code",
   "execution_count": 162,
   "id": "89b6ea52",
   "metadata": {},
   "outputs": [],
   "source": [
    "tidal_info = np.genfromtxt('saved_data/tidal_force_halo51.txt', dtype='str')\n",
    "tidal_times = np.array(tidal_info[:,0], dtype='float32')\n",
    "tidal_forces = np.array(tidal_info[:,1], dtype='float32')"
   ]
  },
  {
   "cell_type": "code",
   "execution_count": 280,
   "id": "8dc99a47",
   "metadata": {},
   "outputs": [
    {
     "data": {
      "image/png": "[encoded data removed]",
      "text/plain": [
       "<Figure size 800x800 with 1 Axes>"
      ]
     },
     "metadata": {},
     "output_type": "display_data"
    }
   ],
   "source": [
    "fig, ax = plt.subplots(figsize=(8,8))\n",
    "\n",
    "plt.plot(relevant_times[:-1], mass_lost[:-1], color='black', label='M$_{lost}$')\n",
    "plt.plot(tidal_times, tidal_forces / (max(tidal_forces) / max(mass_lost[:-1])), color='blue')\n",
    "\n",
    "color_array = np.array(['red', 'magenta', 'orange'])\n",
    "\n",
    "for i in range(np.size(max_loss_times)):\n",
    "    plt.axvline(max_loss_times[i], color=color_array[i], linestyle='-.', \\\n",
    "                label=str(round(max_loss_times[i], 2)) + ' Gyr')\n",
    "\n",
    "plt.legend(loc='upper left', prop={'size': 12}, ncol=1)\n",
    "plt.title('star mass lost over time, compared\\nwith tidal force, halo 51', fontsize=19)\n",
    "plt.xlabel('time (Gyr)', fontsize=18)\n",
    "plt.xticks(fontsize=14)\n",
    "plt.ylabel('F$_{tide}$ / ' + r'$\\frac{F_{tide,max}}{M_{lost,max}}$', fontsize=18)\n",
    "plt.yticks(fontsize=14)\n",
    "plt.tight_layout()\n",
    "plt.style.use('default')\n",
    "plt.savefig('plots/star_loss_51.png')"
   ]
  },
  {
   "cell_type": "markdown",
   "id": "b5a879a7",
   "metadata": {},
   "source": [
    "Now, it seems that the tidal force peaks don't match the greatest mass losses, and that there are still other mass losses that aren't close to any tidal force peaks at all (see: before 6 Gyr in the previous plot). But note that the tidal force here is only the one exerted by Tempest. What if the earlier mass losses might've arisen from the tidal forces exerted by other satellite halos? It's best to do another check."
   ]
  },
  {
   "cell_type": "code",
   "execution_count": 227,
   "id": "37940ff5",
   "metadata": {},
   "outputs": [],
   "source": [
    "# First, we load in the other halos in the TANGOS database.\n",
    "\n",
    "others = np.array([], dtype='object')\n",
    "for i in range(np.size(all_sats)):\n",
    "    if all_sats[i].halo_number not in starry_idx:\n",
    "        others = np.append(others, all_sats[i]) # this ensures we're only checking for the verified starry halos"
   ]
  },
  {
   "cell_type": "code",
   "execution_count": 266,
   "id": "5b8f1f93",
   "metadata": {},
   "outputs": [
    {
     "name": "stdout",
     "output_type": "stream",
     "text": [
      "87\n",
      "54\n",
      "21\n",
      "109\n",
      "50\n",
      "12\n",
      "115\n",
      "118\n",
      "99\n",
      "73\n",
      "100\n",
      "113\n",
      "127\n",
      "27\n",
      "success!\n"
     ]
    }
   ],
   "source": [
    "# Then, we find the locations and virial mass values of all the satellite halos around halo 51.\n",
    "\n",
    "i = 0\n",
    "\n",
    "all_other_t = []\n",
    "all_other_r = []\n",
    "all_other_rvir = []\n",
    "all_other_mvir = []\n",
    "available_sat_51_mvir = []\n",
    "\n",
    "while i < np.size(others):\n",
    "    \n",
    "    # this finds the index of each of the OTHER halos (the ones around 51)\n",
    "    other_idx = others[i].halo_number\n",
    "    \n",
    "    # this uses pre-coded tangos stuff to get M_vir and distance measurements at all available redshifts\n",
    "    other_rvir, other_mvir, other_x, other_y, other_z, other_t = \\\n",
    "                        sim[-1][other_idx].calculate_for_progenitors('Rvir', 'Mvir', 'X', 'Y', 'Z', 't()')\n",
    "\n",
    "    # now, we have to correct for the distance of the other halos from 51, which itself is also moving. \n",
    "    # to do this, we need to subtract the position of the satellite by the center of halo 51.\n",
    "    \n",
    "    # because 51 and the other halos might not be observed at the exact same amount of redshifts,\n",
    "    # we first need to exclude the non-overlapping redshifts so that it's easier to subtract\n",
    "    sat_51_time = np.copy(all_sat_t)\n",
    "    sat_51_cen = np.copy(all_sat_cen)\n",
    "    sat_51_mvir = np.copy(all_sat_mvir)\n",
    "    sat_51_rvir = np.copy(all_sat_rvir)\n",
    "    \n",
    "    ### this checks for non-overlapping redshifts between 51 and others. \n",
    "    ### if non-overlapping, then array element set to 0\n",
    "    for j in range(np.size(other_t)):\n",
    "        if other_t[j] not in sat_51_time: \n",
    "            other_t[j] = 0.\n",
    "            other_x[j] = 0.\n",
    "            other_y[j] = 0.\n",
    "            other_z[j] = 0.\n",
    "            other_rvir[j] = 0.\n",
    "            other_mvir[j] = 0.\n",
    "            \n",
    "    ### this checks for non-overlapping redshifts between others and 51. \n",
    "    ### if non-overlapping, then array element set to 0\n",
    "    for k in range(np.size(sat_51_time)):\n",
    "        if sat_51_time[k] not in other_t:\n",
    "            sat_51_time[k] = 0.\n",
    "            sat_51_cen[k] = 0.\n",
    "            sat_51_mvir[k] = 0.\n",
    "            sat_51_rvir[k] = 0.\n",
    "\n",
    "    ### this removes all the zeros\n",
    "    other_x = other_x[other_t != 0.]\n",
    "    other_y = other_y[other_t != 0.]\n",
    "    other_z = other_z[other_t != 0.]\n",
    "    other_rvir = other_rvir[other_t != 0.]\n",
    "    other_mvir = other_mvir[other_t != 0.]\n",
    "    other_t = other_t[other_t != 0.]\n",
    "    \n",
    "    sat_51_cen = sat_51_cen[sat_51_time != 0.]\n",
    "    sat_51_mvir = sat_51_mvir[sat_51_time != 0.]\n",
    "    sat_51_rvir = sat_51_rvir[sat_51_time != 0.]\n",
    "    sat_51_time = sat_51_time[sat_51_time != 0.]\n",
    "        \n",
    "    ### now we correct the x, y and z coordinates by the center of 51 at each snapshot\n",
    "    for snapshot in range(np.size(other_t)):\n",
    "        other_x[snapshot] -= sat_51_cen[snapshot][0]\n",
    "        other_y[snapshot] -= sat_51_cen[snapshot][1]\n",
    "        other_z[snapshot] -= sat_51_cen[snapshot][2]\n",
    "        \n",
    "    # finally, we get the 3D distance and scale it by the virial radius of the host halo (Tempest)\n",
    "    other_r = np.sqrt(other_x**2 + other_y**2 + other_z**2)\n",
    "\n",
    "    all_other_t.append(other_t)\n",
    "    all_other_r.append(other_r * 1000)\n",
    "    all_other_rvir.append(other_rvir)\n",
    "    all_other_mvir.append(other_mvir)\n",
    "    available_sat_51_mvir.append(sat_51_mvir)\n",
    "        \n",
    "    print(other_idx)\n",
    "            \n",
    "    i += 1\n",
    "    \n",
    "all_other_t = np.array(all_other_t, dtype='object')\n",
    "all_other_r = np.array(all_other_r, dtype='object')\n",
    "all_other_rvir = np.array(all_other_rvir, dtype='object')\n",
    "all_other_mvir = np.array(all_other_mvir, dtype='object')\n",
    "available_sat_51_mvir = np.array(available_sat_51_mvir, dtype='object')\n",
    "\n",
    "print('success!')"
   ]
  },
  {
   "cell_type": "code",
   "execution_count": 271,
   "id": "9170fdd0",
   "metadata": {},
   "outputs": [],
   "source": [
    "G = 4.30091e-3 # unit: pc (km/s)^2 / Msun\n",
    "\n",
    "all_sat_Ftide = []\n",
    "\n",
    "for i in range(np.size(all_other_t)):\n",
    "    M = available_sat_51_mvir[i] # unit: Msun\n",
    "    m = all_other_mvir[i] #        unit: Msun\n",
    "    rvir = all_other_rvir[i] * 1000 # converting kpc to pc\n",
    "    d = all_other_r[i] * 1000 # converting kpc to pc\n",
    "    F = 2*G*M*m*rvir / (d**3)\n",
    "    all_sat_Ftide.append(F)\n",
    "        \n",
    "all_sat_Ftide = np.array(all_sat_Ftide, dtype='object')"
   ]
  },
  {
   "cell_type": "code",
   "execution_count": 289,
   "id": "b7bf5825",
   "metadata": {},
   "outputs": [
    {
     "data": {
      "image/png": "[encoded data removed]",
      "text/plain": [
       "<Figure size 800x800 with 1 Axes>"
      ]
     },
     "metadata": {},
     "output_type": "display_data"
    }
   ],
   "source": [
    "# now, let's plot the tidal force of each halo on 51!\n",
    "\n",
    "fig, ax = plt.subplots(figsize=(8,8))\n",
    "\n",
    "for i in range(np.size(all_other_t)):\n",
    "    plt.plot(all_other_t[i], all_sat_Ftide[i] / (max(all_sat_Ftide[i]) / max(mass_lost[:-1])), \\\n",
    "                                                 label=str(others[i].halo_number))\n",
    "\n",
    "plt.plot(relevant_times[:-1], mass_lost[:-1], color='black', label='M$_{lost}$')\n",
    "\n",
    "color_array = np.array(['red', 'magenta', 'orange'])\n",
    "for i in range(np.size(max_loss_times)):\n",
    "    plt.axvline(max_loss_times[i], color=color_array[i], linestyle=':', \\\n",
    "                label=str(round(max_loss_times[i], 2)) + ' Gyr')\n",
    "    \n",
    "plt.legend(loc='lower left', prop={'size': 9}, ncol=3)\n",
    "plt.title('tidal force on halo 51 from other satellites vs. time', fontsize=19)\n",
    "plt.xlabel('time (Gyr)', fontsize=18)\n",
    "plt.xticks(fontsize=14)\n",
    "plt.ylabel('F$_{tide}$ / ' + r'$\\frac{F_{tide,max}}{M_{lost,max}}$', fontsize=18)\n",
    "plt.yticks(fontsize=14)\n",
    "plt.yscale('log')\n",
    "plt.tight_layout()\n",
    "plt.style.use('default')\n",
    "plt.savefig('plots/others_star_loss_51.png')"
   ]
  },
  {
   "cell_type": "code",
   "execution_count": null,
   "id": "00d6b230",
   "metadata": {},
   "outputs": [],
   "source": []
  }
 ],
 "metadata": {
  "kernelspec": {
   "display_name": "Python 3 (ipykernel)",
   "language": "python",
   "name": "python3"
  },
  "language_info": {
   "codemirror_mode": {
    "name": "ipython",
    "version": 3
   },
   "file_extension": ".py",
   "mimetype": "text/x-python",
   "name": "python",
   "nbconvert_exporter": "python",
   "pygments_lexer": "ipython3",
   "version": "3.9.13"
  }
 },
 "nbformat": 4,
 "nbformat_minor": 5
}
