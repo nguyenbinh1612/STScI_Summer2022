{
 "cells": [
  {
   "cell_type": "code",
   "execution_count": 1,
   "id": "21144156",
   "metadata": {},
   "outputs": [],
   "source": [
    "import h5py\n",
    "import tangos as db\n",
    "import numpy as np\n",
    "import matplotlib.pyplot as plt\n",
    "from mpl_toolkits.axes_grid1 import AxesGrid\n",
    "import random\n",
    "\n",
    "import foggie.utils.foggie_load as fog\n",
    "import yt\n",
    "from yt.units.yt_array import YTQuantity, YTArray\n",
    "from yt.data_objects.particle_filters import add_particle_filter\n",
    "\n",
    "import glob\n",
    "from tangos.examples.misc import timestep_index"
   ]
  },
  {
   "cell_type": "code",
   "execution_count": 2,
   "id": "e6b744b3",
   "metadata": {},
   "outputs": [],
   "source": [
    "tslist = glob.glob('/Volumes/TempestTimeSteps/DD????/DD????') \n",
    "tslist.sort()"
   ]
  },
  {
   "cell_type": "code",
   "execution_count": 3,
   "id": "64989f60",
   "metadata": {},
   "outputs": [
    {
     "data": {
      "text/plain": [
       "[<Simulation(\"Tempest.9f11c.all.DD\")>]"
      ]
     },
     "execution_count": 3,
     "metadata": {},
     "output_type": "execute_result"
    }
   ],
   "source": [
    "db.all_simulations()"
   ]
  },
  {
   "cell_type": "code",
   "execution_count": 4,
   "id": "ec9c64c7",
   "metadata": {},
   "outputs": [],
   "source": [
    "sim = db.get_simulation('Tempest.9f11c.all.DD')"
   ]
  },
  {
   "cell_type": "code",
   "execution_count": 7,
   "id": "c66e2776",
   "metadata": {},
   "outputs": [
    {
     "name": "stderr",
     "output_type": "stream",
     "text": [
      "yt : [WARNING  ] 2022-07-13 09:33:41,293 The stars particle filter already exists. Overriding.\n",
      "yt : [WARNING  ] 2022-07-13 09:33:41,295 The DM particle filter already exists. Overriding.\n",
      "yt : [INFO     ] 2022-07-13 09:33:41,392 Parameters: current_time              = 44.816527818285\n",
      "yt : [INFO     ] 2022-07-13 09:33:41,395 Parameters: domain_dimensions         = [256 256 256]\n",
      "yt : [INFO     ] 2022-07-13 09:33:41,399 Parameters: domain_left_edge          = [0. 0. 0.]\n",
      "yt : [INFO     ] 2022-07-13 09:33:41,403 Parameters: domain_right_edge         = [1. 1. 1.]\n",
      "yt : [INFO     ] 2022-07-13 09:33:41,404 Parameters: cosmological_simulation   = 1\n",
      "yt : [INFO     ] 2022-07-13 09:33:41,405 Parameters: current_redshift          = 5.9180766004715\n",
      "yt : [INFO     ] 2022-07-13 09:33:41,405 Parameters: omega_lambda              = 0.715\n",
      "yt : [INFO     ] 2022-07-13 09:33:41,406 Parameters: omega_matter              = 0.285\n",
      "yt : [INFO     ] 2022-07-13 09:33:41,407 Parameters: omega_radiation           = 0.0\n",
      "yt : [INFO     ] 2022-07-13 09:33:41,407 Parameters: hubble_constant           = 0.695\n"
     ]
    },
    {
     "name": "stdout",
     "output_type": "stream",
     "text": [
      "Opening snapshot /Volumes/TempestTimeSteps/DD0047/DD0047\n",
      "get_refine_box: using this location:      col1       col2     col3     col4     col5     col6     col7   col8\n",
      "------------- -------- -------- -------- -------- -------- -------- ----\n",
      "5.91807660047 0.495372 0.494815 0.499965 0.497372 0.496815 0.501965    9\n"
     ]
    },
    {
     "name": "stderr",
     "output_type": "stream",
     "text": [
      "Parsing Hierarchy : 100%|████████████████| 2486/2486 [00:00<00:00, 17053.11it/s]\n",
      "yt : [INFO     ] 2022-07-13 09:33:41,925 Gathering a field list (this may take a moment.)\n",
      "yt : [WARNING  ] 2022-07-13 09:33:44,677 The stars particle filter already exists. Overriding.\n",
      "yt : [WARNING  ] 2022-07-13 09:33:44,678 The DM particle filter already exists. Overriding.\n"
     ]
    },
    {
     "name": "stdout",
     "output_type": "stream",
     "text": [
      "Pulling halo center from catalog file\n",
      "Opening snapshot /Volumes/TempestTimeSteps/DD0067/DD0067\n"
     ]
    },
    {
     "name": "stderr",
     "output_type": "stream",
     "text": [
      "yt : [INFO     ] 2022-07-13 09:33:44,848 Parameters: current_time              = 49.816527818285\n",
      "yt : [INFO     ] 2022-07-13 09:33:44,851 Parameters: domain_dimensions         = [256 256 256]\n",
      "yt : [INFO     ] 2022-07-13 09:33:44,854 Parameters: domain_left_edge          = [0. 0. 0.]\n",
      "yt : [INFO     ] 2022-07-13 09:33:44,857 Parameters: domain_right_edge         = [1. 1. 1.]\n",
      "yt : [INFO     ] 2022-07-13 09:33:44,858 Parameters: cosmological_simulation   = 1\n",
      "yt : [INFO     ] 2022-07-13 09:33:44,859 Parameters: current_redshift          = 5.4457876966805\n",
      "yt : [INFO     ] 2022-07-13 09:33:44,860 Parameters: omega_lambda              = 0.715\n",
      "yt : [INFO     ] 2022-07-13 09:33:44,860 Parameters: omega_matter              = 0.285\n",
      "yt : [INFO     ] 2022-07-13 09:33:44,861 Parameters: omega_radiation           = 0.0\n",
      "yt : [INFO     ] 2022-07-13 09:33:44,862 Parameters: hubble_constant           = 0.695\n"
     ]
    },
    {
     "name": "stdout",
     "output_type": "stream",
     "text": [
      "get_refine_box: using this location:      col1       col2     col3     col4     col5     col6     col7   col8\n",
      "------------- -------- -------- -------- -------- -------- -------- ----\n",
      "5.44578769668 0.495286 0.494378 0.499998 0.497286 0.496378 0.501998    9\n"
     ]
    },
    {
     "name": "stderr",
     "output_type": "stream",
     "text": [
      "Parsing Hierarchy : 100%|████████████████| 2552/2552 [00:00<00:00, 17009.67it/s]\n",
      "yt : [INFO     ] 2022-07-13 09:33:45,200 Gathering a field list (this may take a moment.)\n",
      "yt : [WARNING  ] 2022-07-13 09:33:48,385 The stars particle filter already exists. Overriding.\n",
      "yt : [WARNING  ] 2022-07-13 09:33:48,386 The DM particle filter already exists. Overriding.\n",
      "yt : [INFO     ] 2022-07-13 09:33:48,489 Parameters: current_time              = 54.816527818285\n",
      "yt : [INFO     ] 2022-07-13 09:33:48,491 Parameters: domain_dimensions         = [256 256 256]\n",
      "yt : [INFO     ] 2022-07-13 09:33:48,494 Parameters: domain_left_edge          = [0. 0. 0.]\n",
      "yt : [INFO     ] 2022-07-13 09:33:48,497 Parameters: domain_right_edge         = [1. 1. 1.]\n",
      "yt : [INFO     ] 2022-07-13 09:33:48,497 Parameters: cosmological_simulation   = 1\n",
      "yt : [INFO     ] 2022-07-13 09:33:48,498 Parameters: current_redshift          = 5.0462906237837\n",
      "yt : [INFO     ] 2022-07-13 09:33:48,498 Parameters: omega_lambda              = 0.715\n",
      "yt : [INFO     ] 2022-07-13 09:33:48,499 Parameters: omega_matter              = 0.285\n",
      "yt : [INFO     ] 2022-07-13 09:33:48,500 Parameters: omega_radiation           = 0.0\n",
      "yt : [INFO     ] 2022-07-13 09:33:48,500 Parameters: hubble_constant           = 0.695\n"
     ]
    },
    {
     "name": "stdout",
     "output_type": "stream",
     "text": [
      "Pulling halo center from catalog file\n",
      "Opening snapshot /Volumes/TempestTimeSteps/DD0087/DD0087\n",
      "get_refine_box: using this location:      col1       col2     col3     col4     col5     col6     col7   col8\n",
      "------------- -------- -------- -------- -------- -------- -------- ----\n",
      "5.04629062378 0.495184 0.493952 0.500023 0.497184 0.495952 0.502023    9\n"
     ]
    },
    {
     "name": "stderr",
     "output_type": "stream",
     "text": [
      "Parsing Hierarchy : 100%|████████████████| 3377/3377 [00:00<00:00, 16680.01it/s]\n",
      "yt : [INFO     ] 2022-07-13 09:33:48,946 Gathering a field list (this may take a moment.)\n",
      "yt : [WARNING  ] 2022-07-13 09:33:51,935 The stars particle filter already exists. Overriding.\n",
      "yt : [WARNING  ] 2022-07-13 09:33:51,935 The DM particle filter already exists. Overriding.\n"
     ]
    },
    {
     "name": "stdout",
     "output_type": "stream",
     "text": [
      "Pulling halo center from catalog file\n",
      "Opening snapshot /Volumes/TempestTimeSteps/DD0107/DD0107\n"
     ]
    },
    {
     "name": "stderr",
     "output_type": "stream",
     "text": [
      "yt : [INFO     ] 2022-07-13 09:33:52,109 Parameters: current_time              = 59.816527818285\n",
      "yt : [INFO     ] 2022-07-13 09:33:52,111 Parameters: domain_dimensions         = [256 256 256]\n",
      "yt : [INFO     ] 2022-07-13 09:33:52,115 Parameters: domain_left_edge          = [0. 0. 0.]\n",
      "yt : [INFO     ] 2022-07-13 09:33:52,118 Parameters: domain_right_edge         = [1. 1. 1.]\n",
      "yt : [INFO     ] 2022-07-13 09:33:52,119 Parameters: cosmological_simulation   = 1\n",
      "yt : [INFO     ] 2022-07-13 09:33:52,120 Parameters: current_redshift          = 4.7031121100648\n",
      "yt : [INFO     ] 2022-07-13 09:33:52,121 Parameters: omega_lambda              = 0.715\n",
      "yt : [INFO     ] 2022-07-13 09:33:52,121 Parameters: omega_matter              = 0.285\n",
      "yt : [INFO     ] 2022-07-13 09:33:52,122 Parameters: omega_radiation           = 0.0\n",
      "yt : [INFO     ] 2022-07-13 09:33:52,123 Parameters: hubble_constant           = 0.695\n"
     ]
    },
    {
     "name": "stdout",
     "output_type": "stream",
     "text": [
      "get_refine_box: using this location:      col1       col2     col3     col4     col5     col6     col7   col8\n",
      "------------- -------- -------- -------- -------- -------- -------- ----\n",
      "4.70311211006 0.495072 0.493546 0.500035 0.497072 0.495546 0.502035    9\n"
     ]
    },
    {
     "name": "stderr",
     "output_type": "stream",
     "text": [
      "Parsing Hierarchy : 100%|████████████████| 2935/2935 [00:00<00:00, 16800.50it/s]\n",
      "yt : [INFO     ] 2022-07-13 09:33:52,488 Gathering a field list (this may take a moment.)\n",
      "yt : [WARNING  ] 2022-07-13 09:33:55,151 The stars particle filter already exists. Overriding.\n",
      "yt : [WARNING  ] 2022-07-13 09:33:55,152 The DM particle filter already exists. Overriding.\n",
      "yt : [INFO     ] 2022-07-13 09:33:55,258 Parameters: current_time              = 64.816527818285\n",
      "yt : [INFO     ] 2022-07-13 09:33:55,260 Parameters: domain_dimensions         = [256 256 256]\n",
      "yt : [INFO     ] 2022-07-13 09:33:55,263 Parameters: domain_left_edge          = [0. 0. 0.]\n",
      "yt : [INFO     ] 2022-07-13 09:33:55,266 Parameters: domain_right_edge         = [1. 1. 1.]\n",
      "yt : [INFO     ] 2022-07-13 09:33:55,266 Parameters: cosmological_simulation   = 1\n",
      "yt : [INFO     ] 2022-07-13 09:33:55,267 Parameters: current_redshift          = 4.4045037292232\n",
      "yt : [INFO     ] 2022-07-13 09:33:55,267 Parameters: omega_lambda              = 0.715\n",
      "yt : [INFO     ] 2022-07-13 09:33:55,268 Parameters: omega_matter              = 0.285\n",
      "yt : [INFO     ] 2022-07-13 09:33:55,268 Parameters: omega_radiation           = 0.0\n",
      "yt : [INFO     ] 2022-07-13 09:33:55,269 Parameters: hubble_constant           = 0.695\n"
     ]
    },
    {
     "name": "stdout",
     "output_type": "stream",
     "text": [
      "Pulling halo center from catalog file\n",
      "Opening snapshot /Volumes/TempestTimeSteps/DD0127/DD0127\n",
      "get_refine_box: using this location:      col1       col2     col3     col4     col5     col6     col7   col8\n",
      "------------- -------- -------- -------- -------- -------- -------- ----\n",
      "4.40450372922 0.494955 0.493147 0.500046 0.496955 0.495147 0.502046    9\n"
     ]
    },
    {
     "name": "stderr",
     "output_type": "stream",
     "text": [
      "Parsing Hierarchy : 100%|█████████████████| 3485/3485 [00:00<00:00, 6838.85it/s]\n",
      "yt : [INFO     ] 2022-07-13 09:33:56,053 Gathering a field list (this may take a moment.)\n",
      "yt : [WARNING  ] 2022-07-13 09:33:58,967 The stars particle filter already exists. Overriding.\n",
      "yt : [WARNING  ] 2022-07-13 09:33:58,968 The DM particle filter already exists. Overriding.\n",
      "yt : [INFO     ] 2022-07-13 09:33:59,085 Parameters: current_time              = 69.816527818285\n",
      "yt : [INFO     ] 2022-07-13 09:33:59,087 Parameters: domain_dimensions         = [256 256 256]\n",
      "yt : [INFO     ] 2022-07-13 09:33:59,090 Parameters: domain_left_edge          = [0. 0. 0.]\n",
      "yt : [INFO     ] 2022-07-13 09:33:59,092 Parameters: domain_right_edge         = [1. 1. 1.]\n",
      "yt : [INFO     ] 2022-07-13 09:33:59,093 Parameters: cosmological_simulation   = 1\n",
      "yt : [INFO     ] 2022-07-13 09:33:59,093 Parameters: current_redshift          = 4.1418420875174\n",
      "yt : [INFO     ] 2022-07-13 09:33:59,094 Parameters: omega_lambda              = 0.715\n",
      "yt : [INFO     ] 2022-07-13 09:33:59,094 Parameters: omega_matter              = 0.285\n",
      "yt : [INFO     ] 2022-07-13 09:33:59,095 Parameters: omega_radiation           = 0.0\n",
      "yt : [INFO     ] 2022-07-13 09:33:59,095 Parameters: hubble_constant           = 0.695\n"
     ]
    },
    {
     "name": "stdout",
     "output_type": "stream",
     "text": [
      "Pulling halo center from catalog file\n",
      "Opening snapshot /Volumes/TempestTimeSteps/DD0147/DD0147\n",
      "get_refine_box: using this location:      col1       col2     col3     col4    col5     col6     col7  col8\n",
      "------------- -------- -------- ------- -------- -------- ------- ----\n",
      "4.14184208752 0.494868 0.492768 0.50004 0.496868 0.494768 0.50204    9\n"
     ]
    },
    {
     "name": "stderr",
     "output_type": "stream",
     "text": [
      "Parsing Hierarchy : 100%|█████████████████| 6292/6292 [00:00<00:00, 9298.10it/s]\n",
      "yt : [INFO     ] 2022-07-13 09:34:00,083 Gathering a field list (this may take a moment.)\n",
      "yt : [WARNING  ] 2022-07-13 09:34:03,326 The stars particle filter already exists. Overriding.\n",
      "yt : [WARNING  ] 2022-07-13 09:34:03,327 The DM particle filter already exists. Overriding.\n"
     ]
    },
    {
     "name": "stdout",
     "output_type": "stream",
     "text": [
      "Pulling halo center from catalog file\n",
      "Opening snapshot /Volumes/TempestTimeSteps/DD0167/DD0167\n"
     ]
    },
    {
     "name": "stderr",
     "output_type": "stream",
     "text": [
      "yt : [INFO     ] 2022-07-13 09:34:03,446 Parameters: current_time              = 74.816527818285\n",
      "yt : [INFO     ] 2022-07-13 09:34:03,450 Parameters: domain_dimensions         = [256 256 256]\n",
      "yt : [INFO     ] 2022-07-13 09:34:03,454 Parameters: domain_left_edge          = [0. 0. 0.]\n",
      "yt : [INFO     ] 2022-07-13 09:34:03,458 Parameters: domain_right_edge         = [1. 1. 1.]\n",
      "yt : [INFO     ] 2022-07-13 09:34:03,459 Parameters: cosmological_simulation   = 1\n",
      "yt : [INFO     ] 2022-07-13 09:34:03,460 Parameters: current_redshift          = 3.9086423517129\n",
      "yt : [INFO     ] 2022-07-13 09:34:03,461 Parameters: omega_lambda              = 0.715\n",
      "yt : [INFO     ] 2022-07-13 09:34:03,462 Parameters: omega_matter              = 0.285\n",
      "yt : [INFO     ] 2022-07-13 09:34:03,463 Parameters: omega_radiation           = 0.0\n",
      "yt : [INFO     ] 2022-07-13 09:34:03,463 Parameters: hubble_constant           = 0.695\n"
     ]
    },
    {
     "name": "stdout",
     "output_type": "stream",
     "text": [
      "get_refine_box: using this location:      col1       col2     col3     col4     col5     col6     col7   col8\n",
      "------------- -------- -------- -------- -------- -------- -------- ----\n",
      "3.90864235171 0.494765 0.492417 0.500025 0.496765 0.494417 0.502025    9\n"
     ]
    },
    {
     "name": "stderr",
     "output_type": "stream",
     "text": [
      "Parsing Hierarchy : 100%|█████████████████| 6349/6349 [00:00<00:00, 7944.78it/s]\n",
      "yt : [INFO     ] 2022-07-13 09:34:04,605 Gathering a field list (this may take a moment.)\n",
      "yt : [WARNING  ] 2022-07-13 09:34:07,713 The stars particle filter already exists. Overriding.\n",
      "yt : [WARNING  ] 2022-07-13 09:34:07,714 The DM particle filter already exists. Overriding.\n"
     ]
    },
    {
     "name": "stdout",
     "output_type": "stream",
     "text": [
      "Pulling halo center from catalog file\n",
      "Opening snapshot /Volumes/TempestTimeSteps/DD0187/DD0187\n"
     ]
    },
    {
     "name": "stderr",
     "output_type": "stream",
     "text": [
      "yt : [INFO     ] 2022-07-13 09:34:07,850 Parameters: current_time              = 79.816527818285\n",
      "yt : [INFO     ] 2022-07-13 09:34:07,854 Parameters: domain_dimensions         = [256 256 256]\n",
      "yt : [INFO     ] 2022-07-13 09:34:07,858 Parameters: domain_left_edge          = [0. 0. 0.]\n",
      "yt : [INFO     ] 2022-07-13 09:34:07,862 Parameters: domain_right_edge         = [1. 1. 1.]\n",
      "yt : [INFO     ] 2022-07-13 09:34:07,863 Parameters: cosmological_simulation   = 1\n",
      "yt : [INFO     ] 2022-07-13 09:34:07,863 Parameters: current_redshift          = 3.6999259804031\n",
      "yt : [INFO     ] 2022-07-13 09:34:07,866 Parameters: omega_lambda              = 0.715\n",
      "yt : [INFO     ] 2022-07-13 09:34:07,867 Parameters: omega_matter              = 0.285\n",
      "yt : [INFO     ] 2022-07-13 09:34:07,867 Parameters: omega_radiation           = 0.0\n",
      "yt : [INFO     ] 2022-07-13 09:34:07,868 Parameters: hubble_constant           = 0.695\n"
     ]
    },
    {
     "name": "stdout",
     "output_type": "stream",
     "text": [
      "get_refine_box: using this location:     col1       col2     col3     col4     col5     col6     col7   col8\n",
      "------------ -------- -------- -------- -------- -------- -------- ----\n",
      "3.6999259804 0.494633 0.492127 0.500014 0.496633 0.494127 0.502014    9\n"
     ]
    },
    {
     "name": "stderr",
     "output_type": "stream",
     "text": [
      "Parsing Hierarchy : 100%|█████████████████| 6152/6152 [00:00<00:00, 8053.78it/s]\n",
      "yt : [INFO     ] 2022-07-13 09:34:09,021 Gathering a field list (this may take a moment.)\n",
      "yt : [WARNING  ] 2022-07-13 09:34:11,885 The stars particle filter already exists. Overriding.\n",
      "yt : [WARNING  ] 2022-07-13 09:34:11,886 The DM particle filter already exists. Overriding.\n",
      "yt : [INFO     ] 2022-07-13 09:34:11,986 Parameters: current_time              = 84.816527818285\n"
     ]
    },
    {
     "name": "stdout",
     "output_type": "stream",
     "text": [
      "Pulling halo center from catalog file\n",
      "Opening snapshot /Volumes/TempestTimeSteps/DD0207/DD0207\n"
     ]
    },
    {
     "name": "stderr",
     "output_type": "stream",
     "text": [
      "yt : [INFO     ] 2022-07-13 09:34:11,988 Parameters: domain_dimensions         = [256 256 256]\n",
      "yt : [INFO     ] 2022-07-13 09:34:11,991 Parameters: domain_left_edge          = [0. 0. 0.]\n",
      "yt : [INFO     ] 2022-07-13 09:34:11,994 Parameters: domain_right_edge         = [1. 1. 1.]\n",
      "yt : [INFO     ] 2022-07-13 09:34:11,994 Parameters: cosmological_simulation   = 1\n",
      "yt : [INFO     ] 2022-07-13 09:34:11,995 Parameters: current_redshift          = 3.5118019373691\n",
      "yt : [INFO     ] 2022-07-13 09:34:11,995 Parameters: omega_lambda              = 0.715\n",
      "yt : [INFO     ] 2022-07-13 09:34:11,996 Parameters: omega_matter              = 0.285\n",
      "yt : [INFO     ] 2022-07-13 09:34:11,996 Parameters: omega_radiation           = 0.0\n",
      "yt : [INFO     ] 2022-07-13 09:34:11,997 Parameters: hubble_constant           = 0.695\n"
     ]
    },
    {
     "name": "stdout",
     "output_type": "stream",
     "text": [
      "get_refine_box: using this location:      col1       col2     col3     col4     col5     col6     col7   col8\n",
      "------------- -------- -------- -------- -------- -------- -------- ----\n",
      "3.51180193737 0.494517 0.491822 0.500016 0.496517 0.493822 0.502016    9\n"
     ]
    },
    {
     "name": "stderr",
     "output_type": "stream",
     "text": [
      "Parsing Hierarchy : 100%|█████████████████| 7873/7873 [00:00<00:00, 8405.06it/s]\n",
      "yt : [INFO     ] 2022-07-13 09:34:13,292 Gathering a field list (this may take a moment.)\n",
      "yt : [WARNING  ] 2022-07-13 09:34:16,446 The stars particle filter already exists. Overriding.\n",
      "yt : [WARNING  ] 2022-07-13 09:34:16,446 The DM particle filter already exists. Overriding.\n"
     ]
    },
    {
     "name": "stdout",
     "output_type": "stream",
     "text": [
      "Pulling halo center from catalog file\n",
      "Opening snapshot /Volumes/TempestTimeSteps/DD0227/DD0227\n"
     ]
    },
    {
     "name": "stderr",
     "output_type": "stream",
     "text": [
      "yt : [INFO     ] 2022-07-13 09:34:16,583 Parameters: current_time              = 89.816527818285\n",
      "yt : [INFO     ] 2022-07-13 09:34:16,587 Parameters: domain_dimensions         = [256 256 256]\n",
      "yt : [INFO     ] 2022-07-13 09:34:16,590 Parameters: domain_left_edge          = [0. 0. 0.]\n",
      "yt : [INFO     ] 2022-07-13 09:34:16,593 Parameters: domain_right_edge         = [1. 1. 1.]\n",
      "yt : [INFO     ] 2022-07-13 09:34:16,594 Parameters: cosmological_simulation   = 1\n",
      "yt : [INFO     ] 2022-07-13 09:34:16,595 Parameters: current_redshift          = 3.3411813479609\n",
      "yt : [INFO     ] 2022-07-13 09:34:16,598 Parameters: omega_lambda              = 0.715\n",
      "yt : [INFO     ] 2022-07-13 09:34:16,599 Parameters: omega_matter              = 0.285\n",
      "yt : [INFO     ] 2022-07-13 09:34:16,600 Parameters: omega_radiation           = 0.0\n",
      "yt : [INFO     ] 2022-07-13 09:34:16,601 Parameters: hubble_constant           = 0.695\n"
     ]
    },
    {
     "name": "stdout",
     "output_type": "stream",
     "text": [
      "get_refine_box: using this location:      col1       col2     col3     col4     col5     col6     col7   col8\n",
      "------------- -------- -------- -------- -------- -------- -------- ----\n",
      "3.34118134796 0.494362 0.491438 0.500094 0.496362 0.493438 0.502094    9\n"
     ]
    },
    {
     "name": "stderr",
     "output_type": "stream",
     "text": [
      "Parsing Hierarchy : 100%|███████████████| 10646/10646 [00:01<00:00, 8714.75it/s]\n",
      "yt : [INFO     ] 2022-07-13 09:34:18,215 Gathering a field list (this may take a moment.)\n",
      "yt : [WARNING  ] 2022-07-13 09:34:20,971 The stars particle filter already exists. Overriding.\n",
      "yt : [WARNING  ] 2022-07-13 09:34:20,971 The DM particle filter already exists. Overriding.\n",
      "yt : [INFO     ] 2022-07-13 09:34:21,067 Parameters: current_time              = 94.816527818285\n",
      "yt : [INFO     ] 2022-07-13 09:34:21,069 Parameters: domain_dimensions         = [256 256 256]\n",
      "yt : [INFO     ] 2022-07-13 09:34:21,072 Parameters: domain_left_edge          = [0. 0. 0.]\n",
      "yt : [INFO     ] 2022-07-13 09:34:21,075 Parameters: domain_right_edge         = [1. 1. 1.]\n",
      "yt : [INFO     ] 2022-07-13 09:34:21,075 Parameters: cosmological_simulation   = 1\n",
      "yt : [INFO     ] 2022-07-13 09:34:21,076 Parameters: current_redshift          = 3.1855782341013\n",
      "yt : [INFO     ] 2022-07-13 09:34:21,076 Parameters: omega_lambda              = 0.715\n",
      "yt : [INFO     ] 2022-07-13 09:34:21,077 Parameters: omega_matter              = 0.285\n",
      "yt : [INFO     ] 2022-07-13 09:34:21,078 Parameters: omega_radiation           = 0.0\n",
      "yt : [INFO     ] 2022-07-13 09:34:21,079 Parameters: hubble_constant           = 0.695\n"
     ]
    },
    {
     "name": "stdout",
     "output_type": "stream",
     "text": [
      "Pulling halo center from catalog file\n",
      "Opening snapshot /Volumes/TempestTimeSteps/DD0247/DD0247\n",
      "get_refine_box: using this location:     col1       col2     col3     col4     col5     col6     col7   col8\n",
      "------------ -------- -------- -------- -------- -------- -------- ----\n",
      "3.1855782341 0.494234 0.491145 0.500166 0.496234 0.493145 0.502166    9\n"
     ]
    },
    {
     "name": "stderr",
     "output_type": "stream",
     "text": [
      "Parsing Hierarchy : 100%|██████████████| 10738/10738 [00:00<00:00, 18871.70it/s]\n",
      "yt : [INFO     ] 2022-07-13 09:34:22,060 Gathering a field list (this may take a moment.)\n",
      "yt : [WARNING  ] 2022-07-13 09:34:25,511 The stars particle filter already exists. Overriding.\n",
      "yt : [WARNING  ] 2022-07-13 09:34:25,512 The DM particle filter already exists. Overriding.\n",
      "yt : [INFO     ] 2022-07-13 09:34:25,604 Parameters: current_time              = 99.816527818285\n",
      "yt : [INFO     ] 2022-07-13 09:34:25,607 Parameters: domain_dimensions         = [256 256 256]\n",
      "yt : [INFO     ] 2022-07-13 09:34:25,609 Parameters: domain_left_edge          = [0. 0. 0.]\n",
      "yt : [INFO     ] 2022-07-13 09:34:25,612 Parameters: domain_right_edge         = [1. 1. 1.]\n",
      "yt : [INFO     ] 2022-07-13 09:34:25,612 Parameters: cosmological_simulation   = 1\n",
      "yt : [INFO     ] 2022-07-13 09:34:25,613 Parameters: current_redshift          = 3.0429673207448\n",
      "yt : [INFO     ] 2022-07-13 09:34:25,613 Parameters: omega_lambda              = 0.715\n",
      "yt : [INFO     ] 2022-07-13 09:34:25,614 Parameters: omega_matter              = 0.285\n",
      "yt : [INFO     ] 2022-07-13 09:34:25,614 Parameters: omega_radiation           = 0.0\n",
      "yt : [INFO     ] 2022-07-13 09:34:25,615 Parameters: hubble_constant           = 0.695\n"
     ]
    },
    {
     "name": "stdout",
     "output_type": "stream",
     "text": [
      "Pulling halo center from catalog file\n",
      "Opening snapshot /Volumes/TempestTimeSteps/DD0267/DD0267\n",
      "get_refine_box: using this location:      col1       col2     col3     col4     col5     col6     col7   col8\n",
      "------------- -------- -------- -------- -------- -------- -------- ----\n",
      "3.04296732074 0.494074 0.490895 0.500235 0.496074 0.492895 0.502235    9\n"
     ]
    },
    {
     "name": "stderr",
     "output_type": "stream",
     "text": [
      "Parsing Hierarchy : 100%|████████████████| 8498/8498 [00:00<00:00, 18316.71it/s]\n",
      "yt : [INFO     ] 2022-07-13 09:34:26,439 Gathering a field list (this may take a moment.)\n",
      "yt : [WARNING  ] 2022-07-13 09:34:29,252 The stars particle filter already exists. Overriding.\n",
      "yt : [WARNING  ] 2022-07-13 09:34:29,253 The DM particle filter already exists. Overriding.\n"
     ]
    },
    {
     "name": "stdout",
     "output_type": "stream",
     "text": [
      "Pulling halo center from catalog file\n",
      "Opening snapshot /Volumes/TempestTimeSteps/DD0287/DD0287\n"
     ]
    },
    {
     "name": "stderr",
     "output_type": "stream",
     "text": [
      "yt : [INFO     ] 2022-07-13 09:34:29,424 Parameters: current_time              = 104.81652781829\n",
      "yt : [INFO     ] 2022-07-13 09:34:29,428 Parameters: domain_dimensions         = [256 256 256]\n",
      "yt : [INFO     ] 2022-07-13 09:34:29,432 Parameters: domain_left_edge          = [0. 0. 0.]\n",
      "yt : [INFO     ] 2022-07-13 09:34:29,436 Parameters: domain_right_edge         = [1. 1. 1.]\n",
      "yt : [INFO     ] 2022-07-13 09:34:29,437 Parameters: cosmological_simulation   = 1\n",
      "yt : [INFO     ] 2022-07-13 09:34:29,437 Parameters: current_redshift          = 2.9116806075987\n",
      "yt : [INFO     ] 2022-07-13 09:34:29,437 Parameters: omega_lambda              = 0.715\n",
      "yt : [INFO     ] 2022-07-13 09:34:29,438 Parameters: omega_matter              = 0.285\n",
      "yt : [INFO     ] 2022-07-13 09:34:29,438 Parameters: omega_radiation           = 0.0\n",
      "yt : [INFO     ] 2022-07-13 09:34:29,439 Parameters: hubble_constant           = 0.695\n"
     ]
    },
    {
     "name": "stdout",
     "output_type": "stream",
     "text": [
      "get_refine_box: using this location:     col1       col2     col3     col4     col5     col6     col7   col8\n",
      "------------ -------- -------- -------- -------- -------- -------- ----\n",
      "2.9116806076 0.493954 0.490721 0.500203 0.495954 0.492721 0.502203    9\n"
     ]
    },
    {
     "name": "stderr",
     "output_type": "stream",
     "text": [
      "Parsing Hierarchy : 100%|████████████████| 7384/7384 [00:00<00:00, 19506.02it/s]\n",
      "yt : [INFO     ] 2022-07-13 09:34:30,099 Gathering a field list (this may take a moment.)\n",
      "yt : [WARNING  ] 2022-07-13 09:34:33,739 The stars particle filter already exists. Overriding.\n",
      "yt : [WARNING  ] 2022-07-13 09:34:33,740 The DM particle filter already exists. Overriding.\n",
      "yt : [INFO     ] 2022-07-13 09:34:33,848 Parameters: current_time              = 109.81652781829\n",
      "yt : [INFO     ] 2022-07-13 09:34:33,850 Parameters: domain_dimensions         = [256 256 256]\n",
      "yt : [INFO     ] 2022-07-13 09:34:33,852 Parameters: domain_left_edge          = [0. 0. 0.]\n",
      "yt : [INFO     ] 2022-07-13 09:34:33,855 Parameters: domain_right_edge         = [1. 1. 1.]\n",
      "yt : [INFO     ] 2022-07-13 09:34:33,855 Parameters: cosmological_simulation   = 1\n",
      "yt : [INFO     ] 2022-07-13 09:34:33,856 Parameters: current_redshift          = 2.790330842939\n",
      "yt : [INFO     ] 2022-07-13 09:34:33,856 Parameters: omega_lambda              = 0.715\n",
      "yt : [INFO     ] 2022-07-13 09:34:33,857 Parameters: omega_matter              = 0.285\n",
      "yt : [INFO     ] 2022-07-13 09:34:33,857 Parameters: omega_radiation           = 0.0\n",
      "yt : [INFO     ] 2022-07-13 09:34:33,857 Parameters: hubble_constant           = 0.695\n"
     ]
    },
    {
     "name": "stdout",
     "output_type": "stream",
     "text": [
      "Pulling halo center from catalog file\n",
      "Opening snapshot /Volumes/TempestTimeSteps/DD0307/DD0307\n",
      "get_refine_box: using this location:      col1       col2     col3     col4     col5     col6     col7   col8\n",
      "------------- -------- -------- -------- -------- -------- -------- ----\n",
      "2.79033084294 0.494017 0.490515 0.500182 0.496017 0.492515 0.502182    9\n"
     ]
    },
    {
     "name": "stderr",
     "output_type": "stream",
     "text": [
      "Parsing Hierarchy : 100%|████████████████| 7885/7885 [00:00<00:00, 17523.20it/s]\n",
      "yt : [INFO     ] 2022-07-13 09:34:34,668 Gathering a field list (this may take a moment.)\n",
      "yt : [WARNING  ] 2022-07-13 09:34:37,625 The stars particle filter already exists. Overriding.\n",
      "yt : [WARNING  ] 2022-07-13 09:34:37,626 The DM particle filter already exists. Overriding.\n"
     ]
    },
    {
     "name": "stdout",
     "output_type": "stream",
     "text": [
      "Pulling halo center from catalog file\n",
      "Opening snapshot /Volumes/TempestTimeSteps/DD0327/DD0327\n"
     ]
    },
    {
     "name": "stderr",
     "output_type": "stream",
     "text": [
      "yt : [INFO     ] 2022-07-13 09:34:37,806 Parameters: current_time              = 114.81652781829\n",
      "yt : [INFO     ] 2022-07-13 09:34:37,809 Parameters: domain_dimensions         = [256 256 256]\n",
      "yt : [INFO     ] 2022-07-13 09:34:37,812 Parameters: domain_left_edge          = [0. 0. 0.]\n",
      "yt : [INFO     ] 2022-07-13 09:34:37,816 Parameters: domain_right_edge         = [1. 1. 1.]\n",
      "yt : [INFO     ] 2022-07-13 09:34:37,817 Parameters: cosmological_simulation   = 1\n",
      "yt : [INFO     ] 2022-07-13 09:34:37,817 Parameters: current_redshift          = 2.6777540283045\n",
      "yt : [INFO     ] 2022-07-13 09:34:37,818 Parameters: omega_lambda              = 0.715\n",
      "yt : [INFO     ] 2022-07-13 09:34:37,819 Parameters: omega_matter              = 0.285\n",
      "yt : [INFO     ] 2022-07-13 09:34:37,820 Parameters: omega_radiation           = 0.0\n",
      "yt : [INFO     ] 2022-07-13 09:34:37,820 Parameters: hubble_constant           = 0.695\n"
     ]
    },
    {
     "name": "stdout",
     "output_type": "stream",
     "text": [
      "get_refine_box: using this location:     col1       col2     col3    col4     col5     col6    col7   col8\n",
      "------------ -------- ------- -------- -------- ------- -------- ----\n",
      "2.6777540283 0.493817 0.49021 0.500325 0.495817 0.49221 0.502325    9\n"
     ]
    },
    {
     "name": "stderr",
     "output_type": "stream",
     "text": [
      "Parsing Hierarchy : 100%|████████████████| 8723/8723 [00:00<00:00, 18807.97it/s]\n",
      "yt : [INFO     ] 2022-07-13 09:34:38,606 Gathering a field list (this may take a moment.)\n",
      "yt : [WARNING  ] 2022-07-13 09:34:41,518 The stars particle filter already exists. Overriding.\n",
      "yt : [WARNING  ] 2022-07-13 09:34:41,519 The DM particle filter already exists. Overriding.\n",
      "yt : [INFO     ] 2022-07-13 09:34:41,617 Parameters: current_time              = 119.81652781829\n",
      "yt : [INFO     ] 2022-07-13 09:34:41,619 Parameters: domain_dimensions         = [256 256 256]\n",
      "yt : [INFO     ] 2022-07-13 09:34:41,621 Parameters: domain_left_edge          = [0. 0. 0.]\n",
      "yt : [INFO     ] 2022-07-13 09:34:41,623 Parameters: domain_right_edge         = [1. 1. 1.]\n",
      "yt : [INFO     ] 2022-07-13 09:34:41,624 Parameters: cosmological_simulation   = 1\n",
      "yt : [INFO     ] 2022-07-13 09:34:41,624 Parameters: current_redshift          = 2.5729656200897\n",
      "yt : [INFO     ] 2022-07-13 09:34:41,625 Parameters: omega_lambda              = 0.715\n",
      "yt : [INFO     ] 2022-07-13 09:34:41,626 Parameters: omega_matter              = 0.285\n",
      "yt : [INFO     ] 2022-07-13 09:34:41,626 Parameters: omega_radiation           = 0.0\n",
      "yt : [INFO     ] 2022-07-13 09:34:41,627 Parameters: hubble_constant           = 0.695\n"
     ]
    },
    {
     "name": "stdout",
     "output_type": "stream",
     "text": [
      "Pulling halo center from catalog file\n",
      "Opening snapshot /Volumes/TempestTimeSteps/DD0347/DD0347\n",
      "get_refine_box: using this location:      col1       col2    col3     col4    col5    col6     col7  col8\n",
      "------------- ------- -------- ------- ------- -------- ------- ----\n",
      "2.57296562009 0.49375 0.489943 0.50041 0.49575 0.491943 0.50241    9\n"
     ]
    },
    {
     "name": "stderr",
     "output_type": "stream",
     "text": [
      "Parsing Hierarchy : 100%|█████████████████| 8372/8372 [00:01<00:00, 5846.12it/s]\n",
      "yt : [INFO     ] 2022-07-13 09:34:43,433 Gathering a field list (this may take a moment.)\n",
      "yt : [WARNING  ] 2022-07-13 09:34:46,468 The stars particle filter already exists. Overriding.\n",
      "yt : [WARNING  ] 2022-07-13 09:34:46,468 The DM particle filter already exists. Overriding.\n"
     ]
    },
    {
     "name": "stdout",
     "output_type": "stream",
     "text": [
      "Pulling halo center from catalog file\n",
      "Opening snapshot /Volumes/TempestTimeSteps/DD0367/DD0367\n"
     ]
    },
    {
     "name": "stderr",
     "output_type": "stream",
     "text": [
      "yt : [INFO     ] 2022-07-13 09:34:46,672 Parameters: current_time              = 124.81652781829\n",
      "yt : [INFO     ] 2022-07-13 09:34:46,675 Parameters: domain_dimensions         = [256 256 256]\n",
      "yt : [INFO     ] 2022-07-13 09:34:46,678 Parameters: domain_left_edge          = [0. 0. 0.]\n",
      "yt : [INFO     ] 2022-07-13 09:34:46,682 Parameters: domain_right_edge         = [1. 1. 1.]\n",
      "yt : [INFO     ] 2022-07-13 09:34:46,682 Parameters: cosmological_simulation   = 1\n",
      "yt : [INFO     ] 2022-07-13 09:34:46,683 Parameters: current_redshift          = 2.4751267440123\n",
      "yt : [INFO     ] 2022-07-13 09:34:46,684 Parameters: omega_lambda              = 0.715\n",
      "yt : [INFO     ] 2022-07-13 09:34:46,684 Parameters: omega_matter              = 0.285\n",
      "yt : [INFO     ] 2022-07-13 09:34:46,685 Parameters: omega_radiation           = 0.0\n",
      "yt : [INFO     ] 2022-07-13 09:34:46,686 Parameters: hubble_constant           = 0.695\n"
     ]
    },
    {
     "name": "stdout",
     "output_type": "stream",
     "text": [
      "get_refine_box: using this location:      col1       col2     col3     col4     col5     col6     col7   col8\n",
      "------------- -------- -------- -------- -------- -------- -------- ----\n",
      "2.47512674401 0.493607 0.489649 0.500506 0.495607 0.491649 0.502506    9\n"
     ]
    },
    {
     "name": "stderr",
     "output_type": "stream",
     "text": [
      "Parsing Hierarchy : 100%|████████████████| 8124/8124 [00:00<00:00, 16351.04it/s]\n",
      "yt : [INFO     ] 2022-07-13 09:34:47,525 Gathering a field list (this may take a moment.)\n",
      "yt : [WARNING  ] 2022-07-13 09:34:50,478 The stars particle filter already exists. Overriding.\n",
      "yt : [WARNING  ] 2022-07-13 09:34:50,479 The DM particle filter already exists. Overriding.\n",
      "yt : [INFO     ] 2022-07-13 09:34:50,578 Parameters: current_time              = 129.81652781829\n",
      "yt : [INFO     ] 2022-07-13 09:34:50,580 Parameters: domain_dimensions         = [256 256 256]\n",
      "yt : [INFO     ] 2022-07-13 09:34:50,582 Parameters: domain_left_edge          = [0. 0. 0.]\n",
      "yt : [INFO     ] 2022-07-13 09:34:50,585 Parameters: domain_right_edge         = [1. 1. 1.]\n",
      "yt : [INFO     ] 2022-07-13 09:34:50,585 Parameters: cosmological_simulation   = 1\n",
      "yt : [INFO     ] 2022-07-13 09:34:50,586 Parameters: current_redshift          = 2.3835178337957\n",
      "yt : [INFO     ] 2022-07-13 09:34:50,586 Parameters: omega_lambda              = 0.715\n",
      "yt : [INFO     ] 2022-07-13 09:34:50,587 Parameters: omega_matter              = 0.285\n",
      "yt : [INFO     ] 2022-07-13 09:34:50,587 Parameters: omega_radiation           = 0.0\n",
      "yt : [INFO     ] 2022-07-13 09:34:50,588 Parameters: hubble_constant           = 0.695\n"
     ]
    },
    {
     "name": "stdout",
     "output_type": "stream",
     "text": [
      "Pulling halo center from catalog file\n",
      "Opening snapshot /Volumes/TempestTimeSteps/DD0387/DD0387\n",
      "get_refine_box: using this location:     col1       col2     col3     col4     col5     col6     col7   col8\n",
      "------------ -------- -------- -------- -------- -------- -------- ----\n",
      "2.3835178338 0.493475 0.489323 0.500649 0.495475 0.491323 0.502649    9\n"
     ]
    },
    {
     "name": "stderr",
     "output_type": "stream",
     "text": [
      "Parsing Hierarchy : 100%|████████████████| 9680/9680 [00:00<00:00, 17561.49it/s]\n",
      "yt : [INFO     ] 2022-07-13 09:34:51,545 Gathering a field list (this may take a moment.)\n",
      "yt : [WARNING  ] 2022-07-13 09:34:54,585 The stars particle filter already exists. Overriding.\n",
      "yt : [WARNING  ] 2022-07-13 09:34:54,585 The DM particle filter already exists. Overriding.\n"
     ]
    },
    {
     "name": "stdout",
     "output_type": "stream",
     "text": [
      "Pulling halo center from catalog file\n",
      "Opening snapshot /Volumes/TempestTimeSteps/DD0407/DD0407\n"
     ]
    },
    {
     "name": "stderr",
     "output_type": "stream",
     "text": [
      "yt : [INFO     ] 2022-07-13 09:34:54,770 Parameters: current_time              = 134.81652781829\n",
      "yt : [INFO     ] 2022-07-13 09:34:54,772 Parameters: domain_dimensions         = [256 256 256]\n",
      "yt : [INFO     ] 2022-07-13 09:34:54,775 Parameters: domain_left_edge          = [0. 0. 0.]\n",
      "yt : [INFO     ] 2022-07-13 09:34:54,777 Parameters: domain_right_edge         = [1. 1. 1.]\n",
      "yt : [INFO     ] 2022-07-13 09:34:54,778 Parameters: cosmological_simulation   = 1\n",
      "yt : [INFO     ] 2022-07-13 09:34:54,779 Parameters: current_redshift          = 2.2975178463403\n",
      "yt : [INFO     ] 2022-07-13 09:34:54,779 Parameters: omega_lambda              = 0.715\n",
      "yt : [INFO     ] 2022-07-13 09:34:54,780 Parameters: omega_matter              = 0.285\n",
      "yt : [INFO     ] 2022-07-13 09:34:54,780 Parameters: omega_radiation           = 0.0\n",
      "yt : [INFO     ] 2022-07-13 09:34:54,781 Parameters: hubble_constant           = 0.695\n"
     ]
    },
    {
     "name": "stdout",
     "output_type": "stream",
     "text": [
      "get_refine_box: using this location:      col1       col2     col3     col4     col5     col6     col7   col8\n",
      "------------- -------- -------- -------- -------- -------- -------- ----\n",
      "2.29751784634 0.493403 0.489031 0.500769 0.495403 0.491031 0.502769    9\n"
     ]
    },
    {
     "name": "stderr",
     "output_type": "stream",
     "text": [
      "Parsing Hierarchy : 100%|█████████████████| 8668/8668 [00:01<00:00, 5222.16it/s]\n",
      "yt : [INFO     ] 2022-07-13 09:34:56,795 Gathering a field list (this may take a moment.)\n",
      "yt : [WARNING  ] 2022-07-13 09:34:59,754 The stars particle filter already exists. Overriding.\n",
      "yt : [WARNING  ] 2022-07-13 09:34:59,754 The DM particle filter already exists. Overriding.\n",
      "yt : [INFO     ] 2022-07-13 09:34:59,849 Parameters: current_time              = 139.81652781829\n",
      "yt : [INFO     ] 2022-07-13 09:34:59,851 Parameters: domain_dimensions         = [256 256 256]\n",
      "yt : [INFO     ] 2022-07-13 09:34:59,853 Parameters: domain_left_edge          = [0. 0. 0.]\n",
      "yt : [INFO     ] 2022-07-13 09:34:59,855 Parameters: domain_right_edge         = [1. 1. 1.]\n",
      "yt : [INFO     ] 2022-07-13 09:34:59,856 Parameters: cosmological_simulation   = 1\n",
      "yt : [INFO     ] 2022-07-13 09:34:59,856 Parameters: current_redshift          = 2.2165877154761\n",
      "yt : [INFO     ] 2022-07-13 09:34:59,857 Parameters: omega_lambda              = 0.715\n",
      "yt : [INFO     ] 2022-07-13 09:34:59,858 Parameters: omega_matter              = 0.285\n",
      "yt : [INFO     ] 2022-07-13 09:34:59,858 Parameters: omega_radiation           = 0.0\n",
      "yt : [INFO     ] 2022-07-13 09:34:59,859 Parameters: hubble_constant           = 0.695\n"
     ]
    },
    {
     "name": "stdout",
     "output_type": "stream",
     "text": [
      "Pulling halo center from catalog file\n",
      "Opening snapshot /Volumes/TempestTimeSteps/DD0427/DD0427\n",
      "get_refine_box: using this location:      col1       col2     col3     col4     col5     col6     col7   col8\n",
      "------------- -------- -------- -------- -------- -------- -------- ----\n",
      "2.21658771548 0.493304 0.488734 0.500885 0.495304 0.490734 0.502885    9\n"
     ]
    },
    {
     "name": "stderr",
     "output_type": "stream",
     "text": [
      "Parsing Hierarchy : 100%|████████████████| 8504/8504 [00:00<00:00, 17989.24it/s]\n",
      "yt : [INFO     ] 2022-07-13 09:35:00,699 Gathering a field list (this may take a moment.)\n",
      "yt : [WARNING  ] 2022-07-13 09:35:03,627 The stars particle filter already exists. Overriding.\n",
      "yt : [WARNING  ] 2022-07-13 09:35:03,627 The DM particle filter already exists. Overriding.\n",
      "yt : [INFO     ] 2022-07-13 09:35:03,727 Parameters: current_time              = 144.81652781829\n",
      "yt : [INFO     ] 2022-07-13 09:35:03,730 Parameters: domain_dimensions         = [256 256 256]\n",
      "yt : [INFO     ] 2022-07-13 09:35:03,733 Parameters: domain_left_edge          = [0. 0. 0.]\n",
      "yt : [INFO     ] 2022-07-13 09:35:03,735 Parameters: domain_right_edge         = [1. 1. 1.]\n",
      "yt : [INFO     ] 2022-07-13 09:35:03,736 Parameters: cosmological_simulation   = 1\n",
      "yt : [INFO     ] 2022-07-13 09:35:03,736 Parameters: current_redshift          = 2.1402570627129\n",
      "yt : [INFO     ] 2022-07-13 09:35:03,736 Parameters: omega_lambda              = 0.715\n",
      "yt : [INFO     ] 2022-07-13 09:35:03,737 Parameters: omega_matter              = 0.285\n",
      "yt : [INFO     ] 2022-07-13 09:35:03,737 Parameters: omega_radiation           = 0.0\n",
      "yt : [INFO     ] 2022-07-13 09:35:03,738 Parameters: hubble_constant           = 0.695\n"
     ]
    },
    {
     "name": "stdout",
     "output_type": "stream",
     "text": [
      "Pulling halo center from catalog file\n",
      "Opening snapshot /Volumes/TempestTimeSteps/DD0447/DD0447\n",
      "get_refine_box: using this location:      col1       col2     col3     col4     col5     col6     col7   col8\n",
      "------------- -------- -------- -------- -------- -------- -------- ----\n",
      "2.14025706271 0.493216 0.488457 0.500981 0.495216 0.490457 0.502981    9\n"
     ]
    },
    {
     "name": "stderr",
     "output_type": "stream",
     "text": [
      "Parsing Hierarchy : 100%|████████████████| 8981/8981 [00:00<00:00, 16950.44it/s]\n",
      "yt : [INFO     ] 2022-07-13 09:35:04,653 Gathering a field list (this may take a moment.)\n",
      "yt : [WARNING  ] 2022-07-13 09:35:07,371 The stars particle filter already exists. Overriding.\n",
      "yt : [WARNING  ] 2022-07-13 09:35:07,373 The DM particle filter already exists. Overriding.\n",
      "yt : [INFO     ] 2022-07-13 09:35:07,465 Parameters: current_time              = 149.81652781829\n",
      "yt : [INFO     ] 2022-07-13 09:35:07,467 Parameters: domain_dimensions         = [256 256 256]\n",
      "yt : [INFO     ] 2022-07-13 09:35:07,469 Parameters: domain_left_edge          = [0. 0. 0.]\n",
      "yt : [INFO     ] 2022-07-13 09:35:07,472 Parameters: domain_right_edge         = [1. 1. 1.]\n",
      "yt : [INFO     ] 2022-07-13 09:35:07,473 Parameters: cosmological_simulation   = 1\n",
      "yt : [INFO     ] 2022-07-13 09:35:07,473 Parameters: current_redshift          = 2.0681134360516\n",
      "yt : [INFO     ] 2022-07-13 09:35:07,474 Parameters: omega_lambda              = 0.715\n",
      "yt : [INFO     ] 2022-07-13 09:35:07,475 Parameters: omega_matter              = 0.285\n",
      "yt : [INFO     ] 2022-07-13 09:35:07,476 Parameters: omega_radiation           = 0.0\n",
      "yt : [INFO     ] 2022-07-13 09:35:07,477 Parameters: hubble_constant           = 0.695\n"
     ]
    },
    {
     "name": "stdout",
     "output_type": "stream",
     "text": [
      "Pulling halo center from catalog file\n",
      "Opening snapshot /Volumes/TempestTimeSteps/DD0467/DD0467\n",
      "get_refine_box: using this location:      col1       col2     col3     col4    col5     col6     col7  col8\n",
      "------------- -------- -------- ------- -------- -------- ------- ----\n",
      "2.06811343605 0.493124 0.488177 0.50108 0.495124 0.490177 0.50308    9\n"
     ]
    },
    {
     "name": "stderr",
     "output_type": "stream",
     "text": [
      "Parsing Hierarchy : 100%|█████████████████| 8955/8955 [00:01<00:00, 4878.93it/s]\n",
      "yt : [INFO     ] 2022-07-13 09:35:09,702 Gathering a field list (this may take a moment.)\n",
      "yt : [WARNING  ] 2022-07-13 09:35:12,993 The stars particle filter already exists. Overriding.\n",
      "yt : [WARNING  ] 2022-07-13 09:35:12,994 The DM particle filter already exists. Overriding.\n",
      "yt : [INFO     ] 2022-07-13 09:35:13,089 Parameters: current_time              = 154.8165043678\n",
      "yt : [INFO     ] 2022-07-13 09:35:13,092 Parameters: domain_dimensions         = [256 256 256]\n",
      "yt : [INFO     ] 2022-07-13 09:35:13,095 Parameters: domain_left_edge          = [0. 0. 0.]\n",
      "yt : [INFO     ] 2022-07-13 09:35:13,097 Parameters: domain_right_edge         = [1. 1. 1.]\n",
      "yt : [INFO     ] 2022-07-13 09:35:13,098 Parameters: cosmological_simulation   = 1\n",
      "yt : [INFO     ] 2022-07-13 09:35:13,098 Parameters: current_redshift          = 1.9997938414155\n",
      "yt : [INFO     ] 2022-07-13 09:35:13,099 Parameters: omega_lambda              = 0.715\n",
      "yt : [INFO     ] 2022-07-13 09:35:13,100 Parameters: omega_matter              = 0.285\n",
      "yt : [INFO     ] 2022-07-13 09:35:13,100 Parameters: omega_radiation           = 0.0\n",
      "yt : [INFO     ] 2022-07-13 09:35:13,102 Parameters: hubble_constant           = 0.695\n"
     ]
    },
    {
     "name": "stdout",
     "output_type": "stream",
     "text": [
      "Pulling halo center from catalog file\n",
      "Opening snapshot /Volumes/TempestTimeSteps/DD0487/DD0487\n",
      "get_refine_box: using this location:      col1       col2     col3     col4     col5     col6     col7   col8\n",
      "------------- -------- -------- -------- -------- -------- -------- ----\n",
      "1.99979384142 0.493035 0.487894 0.501194 0.495035 0.489894 0.503194    9\n"
     ]
    },
    {
     "name": "stderr",
     "output_type": "stream",
     "text": [
      "Parsing Hierarchy : 100%|████████████████| 7623/7623 [00:00<00:00, 19077.34it/s]\n",
      "yt : [INFO     ] 2022-07-13 09:35:13,835 Gathering a field list (this may take a moment.)\n",
      "yt : [WARNING  ] 2022-07-13 09:35:16,915 The stars particle filter already exists. Overriding.\n",
      "yt : [WARNING  ] 2022-07-13 09:35:16,915 The DM particle filter already exists. Overriding.\n",
      "yt : [INFO     ] 2022-07-13 09:35:17,015 Parameters: current_time              = 159.81652781829\n",
      "yt : [INFO     ] 2022-07-13 09:35:17,017 Parameters: domain_dimensions         = [256 256 256]\n",
      "yt : [INFO     ] 2022-07-13 09:35:17,019 Parameters: domain_left_edge          = [0. 0. 0.]\n",
      "yt : [INFO     ] 2022-07-13 09:35:17,022 Parameters: domain_right_edge         = [1. 1. 1.]\n",
      "yt : [INFO     ] 2022-07-13 09:35:17,023 Parameters: cosmological_simulation   = 1\n",
      "yt : [INFO     ] 2022-07-13 09:35:17,023 Parameters: current_redshift          = 1.9349759674732\n",
      "yt : [INFO     ] 2022-07-13 09:35:17,024 Parameters: omega_lambda              = 0.715\n",
      "yt : [INFO     ] 2022-07-13 09:35:17,025 Parameters: omega_matter              = 0.285\n",
      "yt : [INFO     ] 2022-07-13 09:35:17,026 Parameters: omega_radiation           = 0.0\n",
      "yt : [INFO     ] 2022-07-13 09:35:17,027 Parameters: hubble_constant           = 0.695\n"
     ]
    },
    {
     "name": "stdout",
     "output_type": "stream",
     "text": [
      "Pulling halo center from catalog file\n",
      "Opening snapshot /Volumes/TempestTimeSteps/DD0507/DD0507\n",
      "get_refine_box: using this location:      col1       col2     col3     col4     col5     col6     col7   col8\n",
      "------------- -------- -------- -------- -------- -------- -------- ----\n",
      "1.93497596747 0.492941 0.487618 0.501303 0.494941 0.489618 0.503303    9\n"
     ]
    },
    {
     "name": "stderr",
     "output_type": "stream",
     "text": [
      "Parsing Hierarchy : 100%|████████████████| 6466/6466 [00:00<00:00, 18846.64it/s]\n",
      "yt : [INFO     ] 2022-07-13 09:35:17,703 Gathering a field list (this may take a moment.)\n",
      "yt : [WARNING  ] 2022-07-13 09:35:20,469 The stars particle filter already exists. Overriding.\n",
      "yt : [WARNING  ] 2022-07-13 09:35:20,470 The DM particle filter already exists. Overriding.\n",
      "yt : [INFO     ] 2022-07-13 09:35:20,561 Parameters: current_time              = 164.81652781829\n",
      "yt : [INFO     ] 2022-07-13 09:35:20,564 Parameters: domain_dimensions         = [256 256 256]\n",
      "yt : [INFO     ] 2022-07-13 09:35:20,568 Parameters: domain_left_edge          = [0. 0. 0.]\n",
      "yt : [INFO     ] 2022-07-13 09:35:20,570 Parameters: domain_right_edge         = [1. 1. 1.]\n",
      "yt : [INFO     ] 2022-07-13 09:35:20,571 Parameters: cosmological_simulation   = 1\n",
      "yt : [INFO     ] 2022-07-13 09:35:20,571 Parameters: current_redshift          = 1.8733753371252\n",
      "yt : [INFO     ] 2022-07-13 09:35:20,572 Parameters: omega_lambda              = 0.715\n",
      "yt : [INFO     ] 2022-07-13 09:35:20,572 Parameters: omega_matter              = 0.285\n",
      "yt : [INFO     ] 2022-07-13 09:35:20,573 Parameters: omega_radiation           = 0.0\n",
      "yt : [INFO     ] 2022-07-13 09:35:20,574 Parameters: hubble_constant           = 0.695\n"
     ]
    },
    {
     "name": "stdout",
     "output_type": "stream",
     "text": [
      "Pulling halo center from catalog file\n",
      "Opening snapshot /Volumes/TempestTimeSteps/DD0527/DD0527\n",
      "get_refine_box: using this location:      col1       col2     col3     col4     col5     col6     col7   col8\n",
      "------------- -------- -------- -------- -------- -------- -------- ----\n",
      "1.87337533713 0.492848 0.487347 0.501397 0.494848 0.489347 0.503397    9\n"
     ]
    },
    {
     "name": "stderr",
     "output_type": "stream",
     "text": [
      "Parsing Hierarchy : 100%|████████████████| 6005/6005 [00:00<00:00, 18286.30it/s]\n",
      "yt : [INFO     ] 2022-07-13 09:35:21,198 Gathering a field list (this may take a moment.)\n",
      "yt : [WARNING  ] 2022-07-13 09:35:23,974 The stars particle filter already exists. Overriding.\n",
      "yt : [WARNING  ] 2022-07-13 09:35:23,975 The DM particle filter already exists. Overriding.\n",
      "yt : [INFO     ] 2022-07-13 09:35:24,067 Parameters: current_time              = 169.81652781829\n",
      "yt : [INFO     ] 2022-07-13 09:35:24,069 Parameters: domain_dimensions         = [256 256 256]\n",
      "yt : [INFO     ] 2022-07-13 09:35:24,071 Parameters: domain_left_edge          = [0. 0. 0.]\n",
      "yt : [INFO     ] 2022-07-13 09:35:24,074 Parameters: domain_right_edge         = [1. 1. 1.]\n",
      "yt : [INFO     ] 2022-07-13 09:35:24,075 Parameters: cosmological_simulation   = 1\n",
      "yt : [INFO     ] 2022-07-13 09:35:24,075 Parameters: current_redshift          = 1.8147372203944\n",
      "yt : [INFO     ] 2022-07-13 09:35:24,076 Parameters: omega_lambda              = 0.715\n",
      "yt : [INFO     ] 2022-07-13 09:35:24,077 Parameters: omega_matter              = 0.285\n",
      "yt : [INFO     ] 2022-07-13 09:35:24,077 Parameters: omega_radiation           = 0.0\n",
      "yt : [INFO     ] 2022-07-13 09:35:24,078 Parameters: hubble_constant           = 0.695\n"
     ]
    },
    {
     "name": "stdout",
     "output_type": "stream",
     "text": [
      "Pulling halo center from catalog file\n",
      "Opening snapshot /Volumes/TempestTimeSteps/DD0547/DD0547\n",
      "get_refine_box: using this location:      col1       col2     col3    col4     col5     col6    col7   col8\n",
      "------------- -------- ------- -------- -------- ------- -------- ----\n",
      "1.81473722039 0.492754 0.48709 0.501477 0.494754 0.48909 0.503477    9\n"
     ]
    },
    {
     "name": "stderr",
     "output_type": "stream",
     "text": [
      "Parsing Hierarchy : 100%|████████████████| 6241/6241 [00:00<00:00, 18818.26it/s]\n",
      "yt : [INFO     ] 2022-07-13 09:35:24,712 Gathering a field list (this may take a moment.)\n",
      "yt : [WARNING  ] 2022-07-13 09:35:27,635 The stars particle filter already exists. Overriding.\n",
      "yt : [WARNING  ] 2022-07-13 09:35:27,635 The DM particle filter already exists. Overriding.\n",
      "yt : [INFO     ] 2022-07-13 09:35:27,726 Parameters: current_time              = 174.81652781829\n",
      "yt : [INFO     ] 2022-07-13 09:35:27,728 Parameters: domain_dimensions         = [256 256 256]\n",
      "yt : [INFO     ] 2022-07-13 09:35:27,732 Parameters: domain_left_edge          = [0. 0. 0.]\n",
      "yt : [INFO     ] 2022-07-13 09:35:27,734 Parameters: domain_right_edge         = [1. 1. 1.]\n",
      "yt : [INFO     ] 2022-07-13 09:35:27,735 Parameters: cosmological_simulation   = 1\n",
      "yt : [INFO     ] 2022-07-13 09:35:27,735 Parameters: current_redshift          = 1.7588340361195\n",
      "yt : [INFO     ] 2022-07-13 09:35:27,736 Parameters: omega_lambda              = 0.715\n",
      "yt : [INFO     ] 2022-07-13 09:35:27,737 Parameters: omega_matter              = 0.285\n",
      "yt : [INFO     ] 2022-07-13 09:35:27,737 Parameters: omega_radiation           = 0.0\n",
      "yt : [INFO     ] 2022-07-13 09:35:27,738 Parameters: hubble_constant           = 0.695\n"
     ]
    },
    {
     "name": "stdout",
     "output_type": "stream",
     "text": [
      "Pulling halo center from catalog file\n",
      "Opening snapshot /Volumes/TempestTimeSteps/DD0567/DD0567\n",
      "get_refine_box: using this location:      col1       col2     col3     col4     col5     col6     col7   col8\n",
      "------------- -------- -------- -------- -------- -------- -------- ----\n",
      "1.75883403612 0.492716 0.486828 0.501538 0.494716 0.488828 0.503538    9\n"
     ]
    },
    {
     "name": "stderr",
     "output_type": "stream",
     "text": [
      "Parsing Hierarchy : 100%|█████████████████| 6668/6668 [00:02<00:00, 2983.19it/s]\n",
      "yt : [INFO     ] 2022-07-13 09:35:30,300 Gathering a field list (this may take a moment.)\n",
      "yt : [WARNING  ] 2022-07-13 09:35:33,172 The stars particle filter already exists. Overriding.\n",
      "yt : [WARNING  ] 2022-07-13 09:35:33,172 The DM particle filter already exists. Overriding.\n",
      "yt : [INFO     ] 2022-07-13 09:35:33,265 Parameters: current_time              = 179.81652781829\n",
      "yt : [INFO     ] 2022-07-13 09:35:33,267 Parameters: domain_dimensions         = [256 256 256]\n",
      "yt : [INFO     ] 2022-07-13 09:35:33,271 Parameters: domain_left_edge          = [0. 0. 0.]\n",
      "yt : [INFO     ] 2022-07-13 09:35:33,274 Parameters: domain_right_edge         = [1. 1. 1.]\n",
      "yt : [INFO     ] 2022-07-13 09:35:33,274 Parameters: cosmological_simulation   = 1\n",
      "yt : [INFO     ] 2022-07-13 09:35:33,275 Parameters: current_redshift          = 1.7054615401925\n",
      "yt : [INFO     ] 2022-07-13 09:35:33,275 Parameters: omega_lambda              = 0.715\n",
      "yt : [INFO     ] 2022-07-13 09:35:33,276 Parameters: omega_matter              = 0.285\n",
      "yt : [INFO     ] 2022-07-13 09:35:33,276 Parameters: omega_radiation           = 0.0\n",
      "yt : [INFO     ] 2022-07-13 09:35:33,277 Parameters: hubble_constant           = 0.695\n"
     ]
    },
    {
     "name": "stdout",
     "output_type": "stream",
     "text": [
      "Pulling halo center from catalog file\n",
      "Opening snapshot /Volumes/TempestTimeSteps/DD0587/DD0587\n",
      "get_refine_box: using this location:      col1       col2     col3    col4     col5     col6    col7   col8\n",
      "------------- -------- ------- -------- -------- ------- -------- ----\n",
      "1.70546154019 0.492663 0.48654 0.501635 0.494663 0.48854 0.503635    9\n"
     ]
    },
    {
     "name": "stderr",
     "output_type": "stream",
     "text": [
      "Parsing Hierarchy : 100%|████████████████| 7018/7018 [00:00<00:00, 18515.04it/s]\n",
      "yt : [INFO     ] 2022-07-13 09:35:33,979 Gathering a field list (this may take a moment.)\n",
      "yt : [WARNING  ] 2022-07-13 09:35:36,636 The stars particle filter already exists. Overriding.\n",
      "yt : [WARNING  ] 2022-07-13 09:35:36,637 The DM particle filter already exists. Overriding.\n"
     ]
    },
    {
     "name": "stdout",
     "output_type": "stream",
     "text": [
      "Pulling halo center from catalog file\n",
      "Opening snapshot /Volumes/TempestTimeSteps/DD0607/DD0607\n"
     ]
    },
    {
     "name": "stderr",
     "output_type": "stream",
     "text": [
      "yt : [INFO     ] 2022-07-13 09:35:36,792 Parameters: current_time              = 184.81652781829\n",
      "yt : [INFO     ] 2022-07-13 09:35:36,795 Parameters: domain_dimensions         = [256 256 256]\n",
      "yt : [INFO     ] 2022-07-13 09:35:36,797 Parameters: domain_left_edge          = [0. 0. 0.]\n",
      "yt : [INFO     ] 2022-07-13 09:35:36,800 Parameters: domain_right_edge         = [1. 1. 1.]\n",
      "yt : [INFO     ] 2022-07-13 09:35:36,801 Parameters: cosmological_simulation   = 1\n",
      "yt : [INFO     ] 2022-07-13 09:35:36,801 Parameters: current_redshift          = 1.654435864871\n",
      "yt : [INFO     ] 2022-07-13 09:35:36,801 Parameters: omega_lambda              = 0.715\n",
      "yt : [INFO     ] 2022-07-13 09:35:36,802 Parameters: omega_matter              = 0.285\n",
      "yt : [INFO     ] 2022-07-13 09:35:36,803 Parameters: omega_radiation           = 0.0\n",
      "yt : [INFO     ] 2022-07-13 09:35:36,804 Parameters: hubble_constant           = 0.695\n"
     ]
    },
    {
     "name": "stdout",
     "output_type": "stream",
     "text": [
      "get_refine_box: using this location:      col1       col2     col3     col4     col5     col6     col7   col8\n",
      "------------- -------- -------- -------- -------- -------- -------- ----\n",
      "1.65443586487 0.492592 0.486264 0.501763 0.494592 0.488264 0.503763    9\n"
     ]
    },
    {
     "name": "stderr",
     "output_type": "stream",
     "text": [
      "Parsing Hierarchy : 100%|████████████████| 6646/6646 [00:00<00:00, 19143.23it/s]\n",
      "yt : [INFO     ] 2022-07-13 09:35:37,386 Gathering a field list (this may take a moment.)\n",
      "yt : [WARNING  ] 2022-07-13 09:35:40,072 The stars particle filter already exists. Overriding.\n",
      "yt : [WARNING  ] 2022-07-13 09:35:40,073 The DM particle filter already exists. Overriding.\n",
      "yt : [INFO     ] 2022-07-13 09:35:40,164 Parameters: current_time              = 189.81652781829\n",
      "yt : [INFO     ] 2022-07-13 09:35:40,166 Parameters: domain_dimensions         = [256 256 256]\n",
      "yt : [INFO     ] 2022-07-13 09:35:40,168 Parameters: domain_left_edge          = [0. 0. 0.]\n",
      "yt : [INFO     ] 2022-07-13 09:35:40,170 Parameters: domain_right_edge         = [1. 1. 1.]\n",
      "yt : [INFO     ] 2022-07-13 09:35:40,171 Parameters: cosmological_simulation   = 1\n",
      "yt : [INFO     ] 2022-07-13 09:35:40,171 Parameters: current_redshift          = 1.6055910020775\n",
      "yt : [INFO     ] 2022-07-13 09:35:40,172 Parameters: omega_lambda              = 0.715\n",
      "yt : [INFO     ] 2022-07-13 09:35:40,172 Parameters: omega_matter              = 0.285\n",
      "yt : [INFO     ] 2022-07-13 09:35:40,173 Parameters: omega_radiation           = 0.0\n",
      "yt : [INFO     ] 2022-07-13 09:35:40,174 Parameters: hubble_constant           = 0.695\n"
     ]
    },
    {
     "name": "stdout",
     "output_type": "stream",
     "text": [
      "Pulling halo center from catalog file\n",
      "Opening snapshot /Volumes/TempestTimeSteps/DD0627/DD0627\n",
      "get_refine_box: using this location:      col1       col2     col3     col4     col5     col6     col7   col8\n",
      "------------- -------- -------- -------- -------- -------- -------- ----\n",
      "1.60559100208 0.492518 0.485987 0.501896 0.494518 0.487987 0.503896    9\n"
     ]
    },
    {
     "name": "stderr",
     "output_type": "stream",
     "text": [
      "Parsing Hierarchy : 100%|████████████████| 7439/7439 [00:00<00:00, 18428.14it/s]\n",
      "yt : [INFO     ] 2022-07-13 09:35:40,916 Gathering a field list (this may take a moment.)\n",
      "yt : [WARNING  ] 2022-07-13 09:35:43,630 The stars particle filter already exists. Overriding.\n",
      "yt : [WARNING  ] 2022-07-13 09:35:43,630 The DM particle filter already exists. Overriding.\n"
     ]
    },
    {
     "name": "stdout",
     "output_type": "stream",
     "text": [
      "Pulling halo center from catalog file\n",
      "Opening snapshot /Volumes/TempestTimeSteps/DD0647/DD0647\n"
     ]
    },
    {
     "name": "stderr",
     "output_type": "stream",
     "text": [
      "yt : [INFO     ] 2022-07-13 09:35:43,794 Parameters: current_time              = 194.81652781829\n",
      "yt : [INFO     ] 2022-07-13 09:35:43,797 Parameters: domain_dimensions         = [256 256 256]\n",
      "yt : [INFO     ] 2022-07-13 09:35:43,799 Parameters: domain_left_edge          = [0. 0. 0.]\n",
      "yt : [INFO     ] 2022-07-13 09:35:43,802 Parameters: domain_right_edge         = [1. 1. 1.]\n",
      "yt : [INFO     ] 2022-07-13 09:35:43,803 Parameters: cosmological_simulation   = 1\n",
      "yt : [INFO     ] 2022-07-13 09:35:43,803 Parameters: current_redshift          = 1.5587766543771\n",
      "yt : [INFO     ] 2022-07-13 09:35:43,804 Parameters: omega_lambda              = 0.715\n",
      "yt : [INFO     ] 2022-07-13 09:35:43,805 Parameters: omega_matter              = 0.285\n",
      "yt : [INFO     ] 2022-07-13 09:35:43,806 Parameters: omega_radiation           = 0.0\n",
      "yt : [INFO     ] 2022-07-13 09:35:43,807 Parameters: hubble_constant           = 0.695\n"
     ]
    },
    {
     "name": "stdout",
     "output_type": "stream",
     "text": [
      "get_refine_box: using this location:      col1       col2     col3     col4     col5     col6     col7   col8\n",
      "------------- -------- -------- -------- -------- -------- -------- ----\n",
      "1.55877665438 0.492451 0.485703 0.502037 0.494451 0.487703 0.504037    9\n"
     ]
    },
    {
     "name": "stderr",
     "output_type": "stream",
     "text": [
      "Parsing Hierarchy : 100%|████████████████| 7437/7437 [00:00<00:00, 19696.95it/s]\n",
      "yt : [INFO     ] 2022-07-13 09:35:44,444 Gathering a field list (this may take a moment.)\n",
      "yt : [WARNING  ] 2022-07-13 09:35:47,494 The stars particle filter already exists. Overriding.\n",
      "yt : [WARNING  ] 2022-07-13 09:35:47,494 The DM particle filter already exists. Overriding.\n"
     ]
    },
    {
     "name": "stdout",
     "output_type": "stream",
     "text": [
      "Pulling halo center from catalog file\n",
      "Opening snapshot /Volumes/TempestTimeSteps/DD0667/DD0667\n"
     ]
    },
    {
     "name": "stderr",
     "output_type": "stream",
     "text": [
      "yt : [INFO     ] 2022-07-13 09:35:47,668 Parameters: current_time              = 199.81652781829\n",
      "yt : [INFO     ] 2022-07-13 09:35:47,670 Parameters: domain_dimensions         = [256 256 256]\n",
      "yt : [INFO     ] 2022-07-13 09:35:47,674 Parameters: domain_left_edge          = [0. 0. 0.]\n",
      "yt : [INFO     ] 2022-07-13 09:35:47,677 Parameters: domain_right_edge         = [1. 1. 1.]\n",
      "yt : [INFO     ] 2022-07-13 09:35:47,678 Parameters: cosmological_simulation   = 1\n",
      "yt : [INFO     ] 2022-07-13 09:35:47,679 Parameters: current_redshift          = 1.5138563920287\n",
      "yt : [INFO     ] 2022-07-13 09:35:47,680 Parameters: omega_lambda              = 0.715\n",
      "yt : [INFO     ] 2022-07-13 09:35:47,681 Parameters: omega_matter              = 0.285\n",
      "yt : [INFO     ] 2022-07-13 09:35:47,681 Parameters: omega_radiation           = 0.0\n",
      "yt : [INFO     ] 2022-07-13 09:35:47,682 Parameters: hubble_constant           = 0.695\n"
     ]
    },
    {
     "name": "stdout",
     "output_type": "stream",
     "text": [
      "get_refine_box: using this location:      col1       col2     col3     col4     col5     col6     col7   col8\n",
      "------------- -------- -------- -------- -------- -------- -------- ----\n",
      "1.51385639203 0.492384 0.485436 0.502152 0.494384 0.487436 0.504152    9\n"
     ]
    },
    {
     "name": "stderr",
     "output_type": "stream",
     "text": [
      "Parsing Hierarchy : 100%|████████████████| 8266/8266 [00:00<00:00, 19436.20it/s]\n",
      "yt : [INFO     ] 2022-07-13 09:35:48,384 Gathering a field list (this may take a moment.)\n",
      "yt : [WARNING  ] 2022-07-13 09:35:51,180 The stars particle filter already exists. Overriding.\n",
      "yt : [WARNING  ] 2022-07-13 09:35:51,181 The DM particle filter already exists. Overriding.\n"
     ]
    },
    {
     "name": "stdout",
     "output_type": "stream",
     "text": [
      "Pulling halo center from catalog file\n",
      "Opening snapshot /Volumes/TempestTimeSteps/DD0687/DD0687\n"
     ]
    },
    {
     "name": "stderr",
     "output_type": "stream",
     "text": [
      "yt : [INFO     ] 2022-07-13 09:35:51,344 Parameters: current_time              = 204.81652781829\n",
      "yt : [INFO     ] 2022-07-13 09:35:51,346 Parameters: domain_dimensions         = [256 256 256]\n",
      "yt : [INFO     ] 2022-07-13 09:35:51,349 Parameters: domain_left_edge          = [0. 0. 0.]\n",
      "yt : [INFO     ] 2022-07-13 09:35:51,352 Parameters: domain_right_edge         = [1. 1. 1.]\n",
      "yt : [INFO     ] 2022-07-13 09:35:51,352 Parameters: cosmological_simulation   = 1\n",
      "yt : [INFO     ] 2022-07-13 09:35:51,353 Parameters: current_redshift          = 1.4707060660811\n",
      "yt : [INFO     ] 2022-07-13 09:35:51,353 Parameters: omega_lambda              = 0.715\n",
      "yt : [INFO     ] 2022-07-13 09:35:51,354 Parameters: omega_matter              = 0.285\n",
      "yt : [INFO     ] 2022-07-13 09:35:51,355 Parameters: omega_radiation           = 0.0\n",
      "yt : [INFO     ] 2022-07-13 09:35:51,355 Parameters: hubble_constant           = 0.695\n"
     ]
    },
    {
     "name": "stdout",
     "output_type": "stream",
     "text": [
      "get_refine_box: using this location:      col1       col2     col3     col4    col5     col6     col7  col8\n",
      "------------- -------- -------- ------- -------- -------- ------- ----\n",
      "1.47070606608 0.492346 0.485169 0.50227 0.494346 0.487169 0.50427    9\n"
     ]
    },
    {
     "name": "stderr",
     "output_type": "stream",
     "text": [
      "Parsing Hierarchy : 100%|█████████████████| 8638/8638 [00:02<00:00, 3404.68it/s]\n",
      "yt : [INFO     ] 2022-07-13 09:35:54,194 Gathering a field list (this may take a moment.)\n",
      "yt : [WARNING  ] 2022-07-13 09:35:57,006 The stars particle filter already exists. Overriding.\n",
      "yt : [WARNING  ] 2022-07-13 09:35:57,007 The DM particle filter already exists. Overriding.\n"
     ]
    },
    {
     "name": "stdout",
     "output_type": "stream",
     "text": [
      "Pulling halo center from catalog file\n",
      "Opening snapshot /Volumes/TempestTimeSteps/DD0707/DD0707\n"
     ]
    },
    {
     "name": "stderr",
     "output_type": "stream",
     "text": [
      "yt : [INFO     ] 2022-07-13 09:35:57,183 Parameters: current_time              = 209.81652781829\n",
      "yt : [INFO     ] 2022-07-13 09:35:57,185 Parameters: domain_dimensions         = [256 256 256]\n",
      "yt : [INFO     ] 2022-07-13 09:35:57,188 Parameters: domain_left_edge          = [0. 0. 0.]\n",
      "yt : [INFO     ] 2022-07-13 09:35:57,191 Parameters: domain_right_edge         = [1. 1. 1.]\n",
      "yt : [INFO     ] 2022-07-13 09:35:57,192 Parameters: cosmological_simulation   = 1\n",
      "yt : [INFO     ] 2022-07-13 09:35:57,192 Parameters: current_redshift          = 1.4292124366682\n",
      "yt : [INFO     ] 2022-07-13 09:35:57,193 Parameters: omega_lambda              = 0.715\n",
      "yt : [INFO     ] 2022-07-13 09:35:57,194 Parameters: omega_matter              = 0.285\n",
      "yt : [INFO     ] 2022-07-13 09:35:57,194 Parameters: omega_radiation           = 0.0\n",
      "yt : [INFO     ] 2022-07-13 09:35:57,195 Parameters: hubble_constant           = 0.695\n"
     ]
    },
    {
     "name": "stdout",
     "output_type": "stream",
     "text": [
      "get_refine_box: using this location:      col1       col2     col3     col4     col5     col6     col7   col8\n",
      "------------- -------- -------- -------- -------- -------- -------- ----\n",
      "1.42921243667 0.492291 0.484911 0.502394 0.494291 0.486911 0.504394    9\n"
     ]
    },
    {
     "name": "stderr",
     "output_type": "stream",
     "text": [
      "Parsing Hierarchy : 100%|████████████████| 8418/8418 [00:00<00:00, 19523.86it/s]\n",
      "yt : [INFO     ] 2022-07-13 09:35:57,921 Gathering a field list (this may take a moment.)\n",
      "yt : [WARNING  ] 2022-07-13 09:36:00,668 The stars particle filter already exists. Overriding.\n",
      "yt : [WARNING  ] 2022-07-13 09:36:00,669 The DM particle filter already exists. Overriding.\n"
     ]
    },
    {
     "name": "stdout",
     "output_type": "stream",
     "text": [
      "Pulling halo center from catalog file\n",
      "Opening snapshot /Volumes/TempestTimeSteps/DD0727/DD0727\n"
     ]
    },
    {
     "name": "stderr",
     "output_type": "stream",
     "text": [
      "yt : [INFO     ] 2022-07-13 09:36:00,843 Parameters: current_time              = 214.81652781829\n",
      "yt : [INFO     ] 2022-07-13 09:36:00,847 Parameters: domain_dimensions         = [256 256 256]\n",
      "yt : [INFO     ] 2022-07-13 09:36:00,851 Parameters: domain_left_edge          = [0. 0. 0.]\n",
      "yt : [INFO     ] 2022-07-13 09:36:00,854 Parameters: domain_right_edge         = [1. 1. 1.]\n",
      "yt : [INFO     ] 2022-07-13 09:36:00,855 Parameters: cosmological_simulation   = 1\n",
      "yt : [INFO     ] 2022-07-13 09:36:00,856 Parameters: current_redshift          = 1.3892719829729\n",
      "yt : [INFO     ] 2022-07-13 09:36:00,856 Parameters: omega_lambda              = 0.715\n",
      "yt : [INFO     ] 2022-07-13 09:36:00,857 Parameters: omega_matter              = 0.285\n",
      "yt : [INFO     ] 2022-07-13 09:36:00,857 Parameters: omega_radiation           = 0.0\n",
      "yt : [INFO     ] 2022-07-13 09:36:00,857 Parameters: hubble_constant           = 0.695\n"
     ]
    },
    {
     "name": "stdout",
     "output_type": "stream",
     "text": [
      "get_refine_box: using this location:      col1       col2     col3     col4     col5     col6     col7   col8\n",
      "------------- -------- -------- -------- -------- -------- -------- ----\n",
      "1.38927198297 0.492228 0.484667 0.502503 0.494228 0.486667 0.504503    9\n"
     ]
    },
    {
     "name": "stderr",
     "output_type": "stream",
     "text": [
      "Parsing Hierarchy : 100%|████████████████| 8146/8146 [00:00<00:00, 18978.89it/s]\n",
      "yt : [INFO     ] 2022-07-13 09:36:01,569 Gathering a field list (this may take a moment.)\n",
      "yt : [WARNING  ] 2022-07-13 09:36:04,288 The stars particle filter already exists. Overriding.\n",
      "yt : [WARNING  ] 2022-07-13 09:36:04,289 The DM particle filter already exists. Overriding.\n",
      "yt : [INFO     ] 2022-07-13 09:36:04,384 Parameters: current_time              = 219.81652781829\n",
      "yt : [INFO     ] 2022-07-13 09:36:04,388 Parameters: domain_dimensions         = [256 256 256]\n",
      "yt : [INFO     ] 2022-07-13 09:36:04,391 Parameters: domain_left_edge          = [0. 0. 0.]\n",
      "yt : [INFO     ] 2022-07-13 09:36:04,394 Parameters: domain_right_edge         = [1. 1. 1.]\n",
      "yt : [INFO     ] 2022-07-13 09:36:04,396 Parameters: cosmological_simulation   = 1\n",
      "yt : [INFO     ] 2022-07-13 09:36:04,396 Parameters: current_redshift          = 1.3507898672001\n",
      "yt : [INFO     ] 2022-07-13 09:36:04,397 Parameters: omega_lambda              = 0.715\n",
      "yt : [INFO     ] 2022-07-13 09:36:04,397 Parameters: omega_matter              = 0.285\n",
      "yt : [INFO     ] 2022-07-13 09:36:04,398 Parameters: omega_radiation           = 0.0\n",
      "yt : [INFO     ] 2022-07-13 09:36:04,398 Parameters: hubble_constant           = 0.695\n"
     ]
    },
    {
     "name": "stdout",
     "output_type": "stream",
     "text": [
      "Pulling halo center from catalog file\n",
      "Opening snapshot /Volumes/TempestTimeSteps/DD0747/DD0747\n",
      "get_refine_box: using this location:     col1       col2     col3     col4     col5     col6     col7   col8\n",
      "------------ -------- -------- -------- -------- -------- -------- ----\n",
      "1.3507898672 0.492157 0.484423 0.502606 0.494157 0.486423 0.504606    9\n"
     ]
    },
    {
     "name": "stderr",
     "output_type": "stream",
     "text": [
      "Parsing Hierarchy : 100%|████████████████| 8058/8058 [00:00<00:00, 19045.91it/s]\n",
      "yt : [INFO     ] 2022-07-13 09:36:05,168 Gathering a field list (this may take a moment.)\n",
      "yt : [WARNING  ] 2022-07-13 09:36:07,932 The stars particle filter already exists. Overriding.\n",
      "yt : [WARNING  ] 2022-07-13 09:36:07,932 The DM particle filter already exists. Overriding.\n"
     ]
    },
    {
     "name": "stdout",
     "output_type": "stream",
     "text": [
      "Pulling halo center from catalog file\n",
      "Opening snapshot /Volumes/TempestTimeSteps/DD0767/DD0767\n"
     ]
    },
    {
     "name": "stderr",
     "output_type": "stream",
     "text": [
      "yt : [INFO     ] 2022-07-13 09:36:08,105 Parameters: current_time              = 224.81652781829\n",
      "yt : [INFO     ] 2022-07-13 09:36:08,108 Parameters: domain_dimensions         = [256 256 256]\n",
      "yt : [INFO     ] 2022-07-13 09:36:08,111 Parameters: domain_left_edge          = [0. 0. 0.]\n",
      "yt : [INFO     ] 2022-07-13 09:36:08,114 Parameters: domain_right_edge         = [1. 1. 1.]\n",
      "yt : [INFO     ] 2022-07-13 09:36:08,115 Parameters: cosmological_simulation   = 1\n",
      "yt : [INFO     ] 2022-07-13 09:36:08,116 Parameters: current_redshift          = 1.3136790296363\n",
      "yt : [INFO     ] 2022-07-13 09:36:08,116 Parameters: omega_lambda              = 0.715\n",
      "yt : [INFO     ] 2022-07-13 09:36:08,117 Parameters: omega_matter              = 0.285\n",
      "yt : [INFO     ] 2022-07-13 09:36:08,118 Parameters: omega_radiation           = 0.0\n",
      "yt : [INFO     ] 2022-07-13 09:36:08,118 Parameters: hubble_constant           = 0.695\n"
     ]
    },
    {
     "name": "stdout",
     "output_type": "stream",
     "text": [
      "get_refine_box: using this location:      col1       col2     col3     col4     col5     col6     col7   col8\n",
      "------------- -------- -------- -------- -------- -------- -------- ----\n",
      "1.31367902964 0.492089 0.484183 0.502695 0.494089 0.486183 0.504695    9\n"
     ]
    },
    {
     "name": "stderr",
     "output_type": "stream",
     "text": [
      "Parsing Hierarchy : 100%|████████████████| 7829/7829 [00:00<00:00, 18992.56it/s]\n",
      "yt : [INFO     ] 2022-07-13 09:36:08,799 Gathering a field list (this may take a moment.)\n",
      "yt : [WARNING  ] 2022-07-13 09:36:11,572 The stars particle filter already exists. Overriding.\n",
      "yt : [WARNING  ] 2022-07-13 09:36:11,573 The DM particle filter already exists. Overriding.\n"
     ]
    },
    {
     "name": "stdout",
     "output_type": "stream",
     "text": [
      "Pulling halo center from catalog file\n",
      "Opening snapshot /Volumes/TempestTimeSteps/DD0787/DD0787\n"
     ]
    },
    {
     "name": "stderr",
     "output_type": "stream",
     "text": [
      "yt : [INFO     ] 2022-07-13 09:36:11,747 Parameters: current_time              = 229.81652781829\n",
      "yt : [INFO     ] 2022-07-13 09:36:11,750 Parameters: domain_dimensions         = [256 256 256]\n",
      "yt : [INFO     ] 2022-07-13 09:36:11,752 Parameters: domain_left_edge          = [0. 0. 0.]\n",
      "yt : [INFO     ] 2022-07-13 09:36:11,755 Parameters: domain_right_edge         = [1. 1. 1.]\n",
      "yt : [INFO     ] 2022-07-13 09:36:11,755 Parameters: cosmological_simulation   = 1\n",
      "yt : [INFO     ] 2022-07-13 09:36:11,756 Parameters: current_redshift          = 1.2778593957079\n",
      "yt : [INFO     ] 2022-07-13 09:36:11,757 Parameters: omega_lambda              = 0.715\n",
      "yt : [INFO     ] 2022-07-13 09:36:11,758 Parameters: omega_matter              = 0.285\n",
      "yt : [INFO     ] 2022-07-13 09:36:11,759 Parameters: omega_radiation           = 0.0\n",
      "yt : [INFO     ] 2022-07-13 09:36:11,760 Parameters: hubble_constant           = 0.695\n"
     ]
    },
    {
     "name": "stdout",
     "output_type": "stream",
     "text": [
      "get_refine_box: using this location:      col1       col2     col3     col4     col5     col6     col7   col8\n",
      "------------- -------- -------- -------- -------- -------- -------- ----\n",
      "1.27785939571 0.492022 0.483956 0.502785 0.494022 0.485956 0.504785    9\n"
     ]
    },
    {
     "name": "stderr",
     "output_type": "stream",
     "text": [
      "Parsing Hierarchy : 100%|████████████████| 8132/8132 [00:00<00:00, 19391.87it/s]\n",
      "yt : [INFO     ] 2022-07-13 09:36:12,465 Gathering a field list (this may take a moment.)\n",
      "yt : [WARNING  ] 2022-07-13 09:36:15,116 The stars particle filter already exists. Overriding.\n",
      "yt : [WARNING  ] 2022-07-13 09:36:15,117 The DM particle filter already exists. Overriding.\n",
      "yt : [INFO     ] 2022-07-13 09:36:15,197 Parameters: current_time              = 234.81652781829\n",
      "yt : [INFO     ] 2022-07-13 09:36:15,200 Parameters: domain_dimensions         = [256 256 256]\n",
      "yt : [INFO     ] 2022-07-13 09:36:15,202 Parameters: domain_left_edge          = [0. 0. 0.]\n",
      "yt : [INFO     ] 2022-07-13 09:36:15,204 Parameters: domain_right_edge         = [1. 1. 1.]\n",
      "yt : [INFO     ] 2022-07-13 09:36:15,205 Parameters: cosmological_simulation   = 1\n",
      "yt : [INFO     ] 2022-07-13 09:36:15,206 Parameters: current_redshift          = 1.2432571790813\n",
      "yt : [INFO     ] 2022-07-13 09:36:15,207 Parameters: omega_lambda              = 0.715\n",
      "yt : [INFO     ] 2022-07-13 09:36:15,207 Parameters: omega_matter              = 0.285\n",
      "yt : [INFO     ] 2022-07-13 09:36:15,208 Parameters: omega_radiation           = 0.0\n",
      "yt : [INFO     ] 2022-07-13 09:36:15,209 Parameters: hubble_constant           = 0.695\n"
     ]
    },
    {
     "name": "stdout",
     "output_type": "stream",
     "text": [
      "Pulling halo center from catalog file\n",
      "Opening snapshot /Volumes/TempestTimeSteps/DD0807/DD0807\n",
      "get_refine_box: using this location:      col1       col2     col3     col4     col5     col6     col7   col8\n",
      "------------- -------- -------- -------- -------- -------- -------- ----\n",
      "1.24325717908 0.491957 0.483733 0.502879 0.493957 0.485733 0.504879    9\n"
     ]
    },
    {
     "name": "stderr",
     "output_type": "stream",
     "text": [
      "Parsing Hierarchy : 100%|████████████████| 7374/7374 [00:00<00:00, 18866.63it/s]\n",
      "yt : [INFO     ] 2022-07-13 09:36:15,857 Gathering a field list (this may take a moment.)\n",
      "yt : [WARNING  ] 2022-07-13 09:36:18,682 The stars particle filter already exists. Overriding.\n",
      "yt : [WARNING  ] 2022-07-13 09:36:18,682 The DM particle filter already exists. Overriding.\n"
     ]
    },
    {
     "name": "stdout",
     "output_type": "stream",
     "text": [
      "Pulling halo center from catalog file\n",
      "Opening snapshot /Volumes/TempestTimeSteps/DD0827/DD0827\n"
     ]
    },
    {
     "name": "stderr",
     "output_type": "stream",
     "text": [
      "yt : [INFO     ] 2022-07-13 09:36:18,852 Parameters: current_time              = 239.81652781829\n",
      "yt : [INFO     ] 2022-07-13 09:36:18,855 Parameters: domain_dimensions         = [256 256 256]\n",
      "yt : [INFO     ] 2022-07-13 09:36:18,857 Parameters: domain_left_edge          = [0. 0. 0.]\n",
      "yt : [INFO     ] 2022-07-13 09:36:18,860 Parameters: domain_right_edge         = [1. 1. 1.]\n",
      "yt : [INFO     ] 2022-07-13 09:36:18,865 Parameters: cosmological_simulation   = 1\n",
      "yt : [INFO     ] 2022-07-13 09:36:18,866 Parameters: current_redshift          = 1.2098042674053\n",
      "yt : [INFO     ] 2022-07-13 09:36:18,867 Parameters: omega_lambda              = 0.715\n",
      "yt : [INFO     ] 2022-07-13 09:36:18,867 Parameters: omega_matter              = 0.285\n",
      "yt : [INFO     ] 2022-07-13 09:36:18,868 Parameters: omega_radiation           = 0.0\n",
      "yt : [INFO     ] 2022-07-13 09:36:18,869 Parameters: hubble_constant           = 0.695\n"
     ]
    },
    {
     "name": "stdout",
     "output_type": "stream",
     "text": [
      "get_refine_box: using this location:      col1       col2     col3     col4     col5     col6     col7   col8\n",
      "------------- -------- -------- -------- -------- -------- -------- ----\n",
      "1.20980426741 0.491888 0.483515 0.502974 0.493888 0.485515 0.504974    9\n"
     ]
    },
    {
     "name": "stderr",
     "output_type": "stream",
     "text": [
      "Parsing Hierarchy : 100%|█████████████████| 6935/6935 [00:03<00:00, 2268.88it/s]\n",
      "yt : [INFO     ] 2022-07-13 09:36:22,224 Gathering a field list (this may take a moment.)\n",
      "yt : [WARNING  ] 2022-07-13 09:36:25,118 The stars particle filter already exists. Overriding.\n",
      "yt : [WARNING  ] 2022-07-13 09:36:25,119 The DM particle filter already exists. Overriding.\n"
     ]
    },
    {
     "name": "stdout",
     "output_type": "stream",
     "text": [
      "Pulling halo center from catalog file\n",
      "Opening snapshot /Volumes/TempestTimeSteps/DD0847/DD0847\n"
     ]
    },
    {
     "name": "stderr",
     "output_type": "stream",
     "text": [
      "yt : [INFO     ] 2022-07-13 09:36:25,300 Parameters: current_time              = 244.81652781829\n",
      "yt : [INFO     ] 2022-07-13 09:36:25,303 Parameters: domain_dimensions         = [256 256 256]\n",
      "yt : [INFO     ] 2022-07-13 09:36:25,306 Parameters: domain_left_edge          = [0. 0. 0.]\n",
      "yt : [INFO     ] 2022-07-13 09:36:25,309 Parameters: domain_right_edge         = [1. 1. 1.]\n",
      "yt : [INFO     ] 2022-07-13 09:36:25,310 Parameters: cosmological_simulation   = 1\n",
      "yt : [INFO     ] 2022-07-13 09:36:25,310 Parameters: current_redshift          = 1.1774376794027\n",
      "yt : [INFO     ] 2022-07-13 09:36:25,311 Parameters: omega_lambda              = 0.715\n",
      "yt : [INFO     ] 2022-07-13 09:36:25,312 Parameters: omega_matter              = 0.285\n",
      "yt : [INFO     ] 2022-07-13 09:36:25,312 Parameters: omega_radiation           = 0.0\n",
      "yt : [INFO     ] 2022-07-13 09:36:25,313 Parameters: hubble_constant           = 0.695\n"
     ]
    },
    {
     "name": "stdout",
     "output_type": "stream",
     "text": [
      "get_refine_box: using this location:     col1       col2     col3    col4     col5     col6    col7   col8\n",
      "------------ -------- ------- -------- -------- ------- -------- ----\n",
      "1.1774376794 0.491816 0.48329 0.503077 0.493816 0.48529 0.505077    9\n"
     ]
    },
    {
     "name": "stderr",
     "output_type": "stream",
     "text": [
      "Parsing Hierarchy : 100%|████████████████| 6688/6688 [00:00<00:00, 17149.03it/s]\n",
      "yt : [INFO     ] 2022-07-13 09:36:25,980 Gathering a field list (this may take a moment.)\n",
      "yt : [WARNING  ] 2022-07-13 09:36:28,828 The stars particle filter already exists. Overriding.\n",
      "yt : [WARNING  ] 2022-07-13 09:36:28,829 The DM particle filter already exists. Overriding.\n"
     ]
    },
    {
     "name": "stdout",
     "output_type": "stream",
     "text": [
      "Pulling halo center from catalog file\n",
      "Opening snapshot /Volumes/TempestTimeSteps/DD0867/DD0867\n"
     ]
    },
    {
     "name": "stderr",
     "output_type": "stream",
     "text": [
      "yt : [INFO     ] 2022-07-13 09:36:29,013 Parameters: current_time              = 249.81652781829\n",
      "yt : [INFO     ] 2022-07-13 09:36:29,015 Parameters: domain_dimensions         = [256 256 256]\n",
      "yt : [INFO     ] 2022-07-13 09:36:29,018 Parameters: domain_left_edge          = [0. 0. 0.]\n",
      "yt : [INFO     ] 2022-07-13 09:36:29,020 Parameters: domain_right_edge         = [1. 1. 1.]\n",
      "yt : [INFO     ] 2022-07-13 09:36:29,021 Parameters: cosmological_simulation   = 1\n",
      "yt : [INFO     ] 2022-07-13 09:36:29,021 Parameters: current_redshift          = 1.1460990837584\n",
      "yt : [INFO     ] 2022-07-13 09:36:29,022 Parameters: omega_lambda              = 0.715\n",
      "yt : [INFO     ] 2022-07-13 09:36:29,023 Parameters: omega_matter              = 0.285\n",
      "yt : [INFO     ] 2022-07-13 09:36:29,023 Parameters: omega_radiation           = 0.0\n",
      "yt : [INFO     ] 2022-07-13 09:36:29,024 Parameters: hubble_constant           = 0.695\n"
     ]
    },
    {
     "name": "stdout",
     "output_type": "stream",
     "text": [
      "get_refine_box: using this location:      col1       col2     col3     col4     col5     col6     col7   col8\n",
      "------------- -------- -------- -------- -------- -------- -------- ----\n",
      "1.14609908376 0.491743 0.483059 0.503163 0.493743 0.485059 0.505163    9\n"
     ]
    },
    {
     "name": "stderr",
     "output_type": "stream",
     "text": [
      "Parsing Hierarchy : 100%|████████████████| 7962/7962 [00:00<00:00, 18272.57it/s]\n",
      "yt : [INFO     ] 2022-07-13 09:36:29,752 Gathering a field list (this may take a moment.)\n",
      "yt : [WARNING  ] 2022-07-13 09:36:32,717 The stars particle filter already exists. Overriding.\n",
      "yt : [WARNING  ] 2022-07-13 09:36:32,718 The DM particle filter already exists. Overriding.\n"
     ]
    },
    {
     "name": "stdout",
     "output_type": "stream",
     "text": [
      "Pulling halo center from catalog file\n",
      "Opening snapshot /Volumes/TempestTimeSteps/DD0887/DD0887\n"
     ]
    },
    {
     "name": "stderr",
     "output_type": "stream",
     "text": [
      "yt : [INFO     ] 2022-07-13 09:36:32,884 Parameters: current_time              = 254.81652781829\n",
      "yt : [INFO     ] 2022-07-13 09:36:32,886 Parameters: domain_dimensions         = [256 256 256]\n",
      "yt : [INFO     ] 2022-07-13 09:36:32,890 Parameters: domain_left_edge          = [0. 0. 0.]\n",
      "yt : [INFO     ] 2022-07-13 09:36:32,893 Parameters: domain_right_edge         = [1. 1. 1.]\n",
      "yt : [INFO     ] 2022-07-13 09:36:32,894 Parameters: cosmological_simulation   = 1\n",
      "yt : [INFO     ] 2022-07-13 09:36:32,895 Parameters: current_redshift          = 1.1157343716912\n",
      "yt : [INFO     ] 2022-07-13 09:36:32,895 Parameters: omega_lambda              = 0.715\n",
      "yt : [INFO     ] 2022-07-13 09:36:32,896 Parameters: omega_matter              = 0.285\n",
      "yt : [INFO     ] 2022-07-13 09:36:32,896 Parameters: omega_radiation           = 0.0\n",
      "yt : [INFO     ] 2022-07-13 09:36:32,897 Parameters: hubble_constant           = 0.695\n"
     ]
    },
    {
     "name": "stdout",
     "output_type": "stream",
     "text": [
      "get_refine_box: using this location:      col1       col2     col3     col4     col5     col6     col7   col8\n",
      "------------- -------- -------- -------- -------- -------- -------- ----\n",
      "1.11573437169 0.491684 0.482832 0.503258 0.493684 0.484832 0.505258    9\n"
     ]
    },
    {
     "name": "stderr",
     "output_type": "stream",
     "text": [
      "Parsing Hierarchy : 100%|████████████████| 7394/7394 [00:00<00:00, 16819.14it/s]\n",
      "yt : [INFO     ] 2022-07-13 09:36:33,625 Gathering a field list (this may take a moment.)\n",
      "yt : [WARNING  ] 2022-07-13 09:36:36,485 The stars particle filter already exists. Overriding.\n",
      "yt : [WARNING  ] 2022-07-13 09:36:36,486 The DM particle filter already exists. Overriding.\n"
     ]
    },
    {
     "name": "stdout",
     "output_type": "stream",
     "text": [
      "Pulling halo center from catalog file\n",
      "Opening snapshot /Volumes/TempestTimeSteps/DD0907/DD0907\n"
     ]
    },
    {
     "name": "stderr",
     "output_type": "stream",
     "text": [
      "yt : [INFO     ] 2022-07-13 09:36:36,659 Parameters: current_time              = 259.81652781829\n",
      "yt : [INFO     ] 2022-07-13 09:36:36,661 Parameters: domain_dimensions         = [256 256 256]\n",
      "yt : [INFO     ] 2022-07-13 09:36:36,664 Parameters: domain_left_edge          = [0. 0. 0.]\n",
      "yt : [INFO     ] 2022-07-13 09:36:36,668 Parameters: domain_right_edge         = [1. 1. 1.]\n",
      "yt : [INFO     ] 2022-07-13 09:36:36,669 Parameters: cosmological_simulation   = 1\n",
      "yt : [INFO     ] 2022-07-13 09:36:36,670 Parameters: current_redshift          = 1.0862932762982\n",
      "yt : [INFO     ] 2022-07-13 09:36:36,671 Parameters: omega_lambda              = 0.715\n",
      "yt : [INFO     ] 2022-07-13 09:36:36,672 Parameters: omega_matter              = 0.285\n",
      "yt : [INFO     ] 2022-07-13 09:36:36,673 Parameters: omega_radiation           = 0.0\n",
      "yt : [INFO     ] 2022-07-13 09:36:36,674 Parameters: hubble_constant           = 0.695\n"
     ]
    },
    {
     "name": "stdout",
     "output_type": "stream",
     "text": [
      "get_refine_box: using this location:     col1       col2     col3     col4    col5     col6     col7  col8\n",
      "------------ -------- -------- ------- -------- -------- ------- ----\n",
      "1.0862932763 0.491633 0.482603 0.50335 0.493633 0.484603 0.50535    9\n"
     ]
    },
    {
     "name": "stderr",
     "output_type": "stream",
     "text": [
      "Parsing Hierarchy : 100%|████████████████| 7350/7350 [00:00<00:00, 18083.71it/s]\n",
      "yt : [INFO     ] 2022-07-13 09:36:37,378 Gathering a field list (this may take a moment.)\n",
      "yt : [WARNING  ] 2022-07-13 09:36:40,305 The stars particle filter already exists. Overriding.\n",
      "yt : [WARNING  ] 2022-07-13 09:36:40,305 The DM particle filter already exists. Overriding.\n",
      "yt : [INFO     ] 2022-07-13 09:36:40,407 Parameters: current_time              = 264.81652781829\n",
      "yt : [INFO     ] 2022-07-13 09:36:40,409 Parameters: domain_dimensions         = [256 256 256]\n",
      "yt : [INFO     ] 2022-07-13 09:36:40,412 Parameters: domain_left_edge          = [0. 0. 0.]\n",
      "yt : [INFO     ] 2022-07-13 09:36:40,414 Parameters: domain_right_edge         = [1. 1. 1.]\n",
      "yt : [INFO     ] 2022-07-13 09:36:40,415 Parameters: cosmological_simulation   = 1\n",
      "yt : [INFO     ] 2022-07-13 09:36:40,415 Parameters: current_redshift          = 1.0577290327654\n",
      "yt : [INFO     ] 2022-07-13 09:36:40,416 Parameters: omega_lambda              = 0.715\n",
      "yt : [INFO     ] 2022-07-13 09:36:40,416 Parameters: omega_matter              = 0.285\n",
      "yt : [INFO     ] 2022-07-13 09:36:40,417 Parameters: omega_radiation           = 0.0\n",
      "yt : [INFO     ] 2022-07-13 09:36:40,418 Parameters: hubble_constant           = 0.695\n"
     ]
    },
    {
     "name": "stdout",
     "output_type": "stream",
     "text": [
      "Pulling halo center from catalog file\n",
      "Opening snapshot /Volumes/TempestTimeSteps/DD0927/DD0927\n",
      "get_refine_box: using this location:      col1       col2     col3    col4     col5     col6    col7   col8\n",
      "------------- -------- ------- -------- -------- ------- -------- ----\n",
      "1.05772903277 0.491583 0.48238 0.503437 0.493583 0.48438 0.505437    9\n"
     ]
    },
    {
     "name": "stderr",
     "output_type": "stream",
     "text": [
      "Parsing Hierarchy : 100%|████████████████| 6595/6595 [00:00<00:00, 17251.56it/s]\n",
      "yt : [INFO     ] 2022-07-13 09:36:41,129 Gathering a field list (this may take a moment.)\n",
      "yt : [WARNING  ] 2022-07-13 09:36:44,288 The stars particle filter already exists. Overriding.\n",
      "yt : [WARNING  ] 2022-07-13 09:36:44,289 The DM particle filter already exists. Overriding.\n",
      "yt : [INFO     ] 2022-07-13 09:36:44,380 Parameters: current_time              = 269.81652781829\n",
      "yt : [INFO     ] 2022-07-13 09:36:44,382 Parameters: domain_dimensions         = [256 256 256]\n",
      "yt : [INFO     ] 2022-07-13 09:36:44,385 Parameters: domain_left_edge          = [0. 0. 0.]\n",
      "yt : [INFO     ] 2022-07-13 09:36:44,387 Parameters: domain_right_edge         = [1. 1. 1.]\n",
      "yt : [INFO     ] 2022-07-13 09:36:44,388 Parameters: cosmological_simulation   = 1\n",
      "yt : [INFO     ] 2022-07-13 09:36:44,388 Parameters: current_redshift          = 1.0299980743789\n",
      "yt : [INFO     ] 2022-07-13 09:36:44,389 Parameters: omega_lambda              = 0.715\n",
      "yt : [INFO     ] 2022-07-13 09:36:44,389 Parameters: omega_matter              = 0.285\n",
      "yt : [INFO     ] 2022-07-13 09:36:44,390 Parameters: omega_radiation           = 0.0\n",
      "yt : [INFO     ] 2022-07-13 09:36:44,391 Parameters: hubble_constant           = 0.695\n"
     ]
    },
    {
     "name": "stdout",
     "output_type": "stream",
     "text": [
      "Pulling halo center from catalog file\n",
      "Opening snapshot /Volumes/TempestTimeSteps/DD0947/DD0947\n",
      "get_refine_box: using this location:      col1       col2     col3     col4     col5     col6     col7   col8\n",
      "------------- -------- -------- -------- -------- -------- -------- ----\n",
      "1.02999807438 0.491539 0.482157 0.503523 0.493539 0.484157 0.505523    9\n"
     ]
    },
    {
     "name": "stderr",
     "output_type": "stream",
     "text": [
      "Parsing Hierarchy : 100%|████████████████| 6486/6486 [00:00<00:00, 11748.40it/s]\n",
      "yt : [INFO     ] 2022-07-13 09:36:45,237 Gathering a field list (this may take a moment.)\n",
      "yt : [WARNING  ] 2022-07-13 09:36:48,103 The stars particle filter already exists. Overriding.\n",
      "yt : [WARNING  ] 2022-07-13 09:36:48,103 The DM particle filter already exists. Overriding.\n",
      "yt : [INFO     ] 2022-07-13 09:36:48,193 Parameters: current_time              = 274.56652781829\n",
      "yt : [INFO     ] 2022-07-13 09:36:48,195 Parameters: domain_dimensions         = [256 256 256]\n",
      "yt : [INFO     ] 2022-07-13 09:36:48,197 Parameters: domain_left_edge          = [0. 0. 0.]\n",
      "yt : [INFO     ] 2022-07-13 09:36:48,200 Parameters: domain_right_edge         = [1. 1. 1.]\n",
      "yt : [INFO     ] 2022-07-13 09:36:48,200 Parameters: cosmological_simulation   = 1\n",
      "yt : [INFO     ] 2022-07-13 09:36:48,201 Parameters: current_redshift          = 1.0043884467376\n",
      "yt : [INFO     ] 2022-07-13 09:36:48,201 Parameters: omega_lambda              = 0.715\n",
      "yt : [INFO     ] 2022-07-13 09:36:48,202 Parameters: omega_matter              = 0.285\n",
      "yt : [INFO     ] 2022-07-13 09:36:48,203 Parameters: omega_radiation           = 0.0\n",
      "yt : [INFO     ] 2022-07-13 09:36:48,204 Parameters: hubble_constant           = 0.695\n"
     ]
    },
    {
     "name": "stdout",
     "output_type": "stream",
     "text": [
      "Pulling halo center from catalog file\n",
      "Opening snapshot /Volumes/TempestTimeSteps/DD0967/DD0967\n",
      "get_refine_box: using this location:      col1       col2     col3     col4     col5     col6     col7   col8\n",
      "------------- -------- -------- -------- -------- -------- -------- ----\n",
      "1.00438844674 0.491497 0.481944 0.503607 0.493497 0.483944 0.505607    9\n"
     ]
    },
    {
     "name": "stderr",
     "output_type": "stream",
     "text": [
      "Parsing Hierarchy : 100%|████████████████| 5908/5908 [00:00<00:00, 18040.91it/s]\n",
      "yt : [INFO     ] 2022-07-13 09:36:48,826 Gathering a field list (this may take a moment.)\n",
      "yt : [WARNING  ] 2022-07-13 09:36:51,694 The stars particle filter already exists. Overriding.\n",
      "yt : [WARNING  ] 2022-07-13 09:36:51,695 The DM particle filter already exists. Overriding.\n",
      "yt : [INFO     ] 2022-07-13 09:36:51,791 Parameters: current_time              = 279.56652781829\n",
      "yt : [INFO     ] 2022-07-13 09:36:51,794 Parameters: domain_dimensions         = [256 256 256]\n",
      "yt : [INFO     ] 2022-07-13 09:36:51,796 Parameters: domain_left_edge          = [0. 0. 0.]\n",
      "yt : [INFO     ] 2022-07-13 09:36:51,800 Parameters: domain_right_edge         = [1. 1. 1.]\n",
      "yt : [INFO     ] 2022-07-13 09:36:51,800 Parameters: cosmological_simulation   = 1\n",
      "yt : [INFO     ] 2022-07-13 09:36:51,801 Parameters: current_redshift          = 0.97816794442974\n",
      "yt : [INFO     ] 2022-07-13 09:36:51,801 Parameters: omega_lambda              = 0.715\n",
      "yt : [INFO     ] 2022-07-13 09:36:51,802 Parameters: omega_matter              = 0.285\n",
      "yt : [INFO     ] 2022-07-13 09:36:51,803 Parameters: omega_radiation           = 0.0\n",
      "yt : [INFO     ] 2022-07-13 09:36:51,803 Parameters: hubble_constant           = 0.695\n"
     ]
    },
    {
     "name": "stdout",
     "output_type": "stream",
     "text": [
      "Pulling halo center from catalog file\n",
      "Opening snapshot /Volumes/TempestTimeSteps/DD0987/DD0987\n",
      "get_refine_box: using this location:      col1       col2     col3     col4     col5     col6     col7   col8\n",
      "------------- -------- -------- -------- -------- -------- -------- ----\n",
      "0.97816794443 0.491452 0.481724 0.503697 0.493452 0.483724 0.505697    9\n"
     ]
    },
    {
     "name": "stderr",
     "output_type": "stream",
     "text": [
      "Parsing Hierarchy : 100%|████████████████| 5704/5704 [00:00<00:00, 18360.31it/s]\n",
      "yt : [INFO     ] 2022-07-13 09:36:52,410 Gathering a field list (this may take a moment.)\n",
      "yt : [WARNING  ] 2022-07-13 09:36:55,255 The stars particle filter already exists. Overriding.\n",
      "yt : [WARNING  ] 2022-07-13 09:36:55,255 The DM particle filter already exists. Overriding.\n"
     ]
    },
    {
     "name": "stdout",
     "output_type": "stream",
     "text": [
      "Pulling halo center from catalog file\n",
      "Opening snapshot /Volumes/TempestTimeSteps/DD1007/DD1007\n"
     ]
    },
    {
     "name": "stderr",
     "output_type": "stream",
     "text": [
      "yt : [INFO     ] 2022-07-13 09:36:55,411 Parameters: current_time              = 284.56652781829\n",
      "yt : [INFO     ] 2022-07-13 09:36:55,414 Parameters: domain_dimensions         = [256 256 256]\n",
      "yt : [INFO     ] 2022-07-13 09:36:55,417 Parameters: domain_left_edge          = [0. 0. 0.]\n",
      "yt : [INFO     ] 2022-07-13 09:36:55,420 Parameters: domain_right_edge         = [1. 1. 1.]\n",
      "yt : [INFO     ] 2022-07-13 09:36:55,421 Parameters: cosmological_simulation   = 1\n",
      "yt : [INFO     ] 2022-07-13 09:36:55,422 Parameters: current_redshift          = 0.95266834518911\n",
      "yt : [INFO     ] 2022-07-13 09:36:55,422 Parameters: omega_lambda              = 0.715\n",
      "yt : [INFO     ] 2022-07-13 09:36:55,423 Parameters: omega_matter              = 0.285\n",
      "yt : [INFO     ] 2022-07-13 09:36:55,424 Parameters: omega_radiation           = 0.0\n",
      "yt : [INFO     ] 2022-07-13 09:36:55,425 Parameters: hubble_constant           = 0.695\n"
     ]
    },
    {
     "name": "stdout",
     "output_type": "stream",
     "text": [
      "get_refine_box: using this location:      col1        col2     col3     col4     col5     col6     col7   col8\n",
      "-------------- -------- -------- -------- -------- -------- -------- ----\n",
      "0.952668345189 0.491404 0.481507 0.503786 0.493404 0.483507 0.505786    9\n"
     ]
    },
    {
     "name": "stderr",
     "output_type": "stream",
     "text": [
      "Parsing Hierarchy : 100%|█████████████████| 5544/5544 [00:03<00:00, 1645.69it/s]\n",
      "yt : [INFO     ] 2022-07-13 09:36:59,032 Gathering a field list (this may take a moment.)\n",
      "yt : [WARNING  ] 2022-07-13 09:37:01,743 The stars particle filter already exists. Overriding.\n",
      "yt : [WARNING  ] 2022-07-13 09:37:01,744 The DM particle filter already exists. Overriding.\n"
     ]
    },
    {
     "name": "stdout",
     "output_type": "stream",
     "text": [
      "Pulling halo center from catalog file\n",
      "Opening snapshot /Volumes/TempestTimeSteps/DD1027/DD1027\n"
     ]
    },
    {
     "name": "stderr",
     "output_type": "stream",
     "text": [
      "yt : [INFO     ] 2022-07-13 09:37:01,919 Parameters: current_time              = 289.56652781829\n",
      "yt : [INFO     ] 2022-07-13 09:37:01,922 Parameters: domain_dimensions         = [256 256 256]\n",
      "yt : [INFO     ] 2022-07-13 09:37:01,924 Parameters: domain_left_edge          = [0. 0. 0.]\n",
      "yt : [INFO     ] 2022-07-13 09:37:01,928 Parameters: domain_right_edge         = [1. 1. 1.]\n",
      "yt : [INFO     ] 2022-07-13 09:37:01,929 Parameters: cosmological_simulation   = 1\n",
      "yt : [INFO     ] 2022-07-13 09:37:01,929 Parameters: current_redshift          = 0.92785630164072\n",
      "yt : [INFO     ] 2022-07-13 09:37:01,930 Parameters: omega_lambda              = 0.715\n",
      "yt : [INFO     ] 2022-07-13 09:37:01,931 Parameters: omega_matter              = 0.285\n",
      "yt : [INFO     ] 2022-07-13 09:37:01,932 Parameters: omega_radiation           = 0.0\n",
      "yt : [INFO     ] 2022-07-13 09:37:01,932 Parameters: hubble_constant           = 0.695\n"
     ]
    },
    {
     "name": "stdout",
     "output_type": "stream",
     "text": [
      "get_refine_box: using this location:      col1        col2     col3     col4     col5     col6     col7   col8\n",
      "-------------- -------- -------- -------- -------- -------- -------- ----\n",
      "0.927856301641 0.491352 0.481291 0.503872 0.493352 0.483291 0.505872    9\n"
     ]
    },
    {
     "name": "stderr",
     "output_type": "stream",
     "text": [
      "Parsing Hierarchy : 100%|████████████████| 5326/5326 [00:00<00:00, 18082.42it/s]\n",
      "yt : [INFO     ] 2022-07-13 09:37:02,446 Gathering a field list (this may take a moment.)\n",
      "yt : [WARNING  ] 2022-07-13 09:37:05,301 The stars particle filter already exists. Overriding.\n",
      "yt : [WARNING  ] 2022-07-13 09:37:05,302 The DM particle filter already exists. Overriding.\n"
     ]
    },
    {
     "name": "stdout",
     "output_type": "stream",
     "text": [
      "Pulling halo center from catalog file\n",
      "Opening snapshot /Volumes/TempestTimeSteps/DD1047/DD1047\n"
     ]
    },
    {
     "name": "stderr",
     "output_type": "stream",
     "text": [
      "yt : [INFO     ] 2022-07-13 09:37:05,495 Parameters: current_time              = 294.56652781829\n",
      "yt : [INFO     ] 2022-07-13 09:37:05,535 Parameters: domain_dimensions         = [256 256 256]\n",
      "yt : [INFO     ] 2022-07-13 09:37:05,548 Parameters: domain_left_edge          = [0. 0. 0.]\n",
      "yt : [INFO     ] 2022-07-13 09:37:05,559 Parameters: domain_right_edge         = [1. 1. 1.]\n",
      "yt : [INFO     ] 2022-07-13 09:37:05,560 Parameters: cosmological_simulation   = 1\n",
      "yt : [INFO     ] 2022-07-13 09:37:05,560 Parameters: current_redshift          = 0.90370055679921\n",
      "yt : [INFO     ] 2022-07-13 09:37:05,561 Parameters: omega_lambda              = 0.715\n",
      "yt : [INFO     ] 2022-07-13 09:37:05,562 Parameters: omega_matter              = 0.285\n",
      "yt : [INFO     ] 2022-07-13 09:37:05,563 Parameters: omega_radiation           = 0.0\n",
      "yt : [INFO     ] 2022-07-13 09:37:05,563 Parameters: hubble_constant           = 0.695\n"
     ]
    },
    {
     "name": "stdout",
     "output_type": "stream",
     "text": [
      "get_refine_box: using this location:      col1        col2     col3    col4     col5     col6    col7   col8\n",
      "-------------- -------- ------- -------- -------- ------- -------- ----\n",
      "0.903700556799 0.491301 0.48108 0.503952 0.493301 0.48308 0.505952    9\n"
     ]
    },
    {
     "name": "stderr",
     "output_type": "stream",
     "text": [
      "Parsing Hierarchy : 100%|████████████████| 5246/5246 [00:00<00:00, 17654.98it/s]\n",
      "yt : [INFO     ] 2022-07-13 09:37:06,109 Gathering a field list (this may take a moment.)\n",
      "yt : [WARNING  ] 2022-07-13 09:37:08,927 The stars particle filter already exists. Overriding.\n",
      "yt : [WARNING  ] 2022-07-13 09:37:08,928 The DM particle filter already exists. Overriding.\n"
     ]
    },
    {
     "name": "stdout",
     "output_type": "stream",
     "text": [
      "Pulling halo center from catalog file\n",
      "Opening snapshot /Volumes/TempestTimeSteps/DD1067/DD1067\n"
     ]
    },
    {
     "name": "stderr",
     "output_type": "stream",
     "text": [
      "yt : [INFO     ] 2022-07-13 09:37:09,122 Parameters: current_time              = 299.56652781829\n",
      "yt : [INFO     ] 2022-07-13 09:37:09,125 Parameters: domain_dimensions         = [256 256 256]\n",
      "yt : [INFO     ] 2022-07-13 09:37:09,127 Parameters: domain_left_edge          = [0. 0. 0.]\n",
      "yt : [INFO     ] 2022-07-13 09:37:09,130 Parameters: domain_right_edge         = [1. 1. 1.]\n",
      "yt : [INFO     ] 2022-07-13 09:37:09,131 Parameters: cosmological_simulation   = 1\n",
      "yt : [INFO     ] 2022-07-13 09:37:09,131 Parameters: current_redshift          = 0.88017178065176\n",
      "yt : [INFO     ] 2022-07-13 09:37:09,132 Parameters: omega_lambda              = 0.715\n",
      "yt : [INFO     ] 2022-07-13 09:37:09,132 Parameters: omega_matter              = 0.285\n",
      "yt : [INFO     ] 2022-07-13 09:37:09,133 Parameters: omega_radiation           = 0.0\n",
      "yt : [INFO     ] 2022-07-13 09:37:09,134 Parameters: hubble_constant           = 0.695\n"
     ]
    },
    {
     "name": "stdout",
     "output_type": "stream",
     "text": [
      "get_refine_box: using this location:      col1        col2     col3     col4     col5     col6     col7   col8\n",
      "-------------- -------- -------- -------- -------- -------- -------- ----\n",
      "0.880171780652 0.491244 0.480872 0.504027 0.493244 0.482872 0.506027    9\n"
     ]
    },
    {
     "name": "stderr",
     "output_type": "stream",
     "text": [
      "Parsing Hierarchy : 100%|████████████████| 5244/5244 [00:00<00:00, 18431.96it/s]\n",
      "yt : [INFO     ] 2022-07-13 09:37:09,647 Gathering a field list (this may take a moment.)\n",
      "yt : [WARNING  ] 2022-07-13 09:37:12,458 The stars particle filter already exists. Overriding.\n",
      "yt : [WARNING  ] 2022-07-13 09:37:12,459 The DM particle filter already exists. Overriding.\n"
     ]
    },
    {
     "name": "stdout",
     "output_type": "stream",
     "text": [
      "Pulling halo center from catalog file\n",
      "Opening snapshot /Volumes/TempestTimeSteps/DD1087/DD1087\n"
     ]
    },
    {
     "name": "stderr",
     "output_type": "stream",
     "text": [
      "yt : [INFO     ] 2022-07-13 09:37:12,646 Parameters: current_time              = 304.56652781829\n",
      "yt : [INFO     ] 2022-07-13 09:37:12,649 Parameters: domain_dimensions         = [256 256 256]\n",
      "yt : [INFO     ] 2022-07-13 09:37:12,651 Parameters: domain_left_edge          = [0. 0. 0.]\n",
      "yt : [INFO     ] 2022-07-13 09:37:12,654 Parameters: domain_right_edge         = [1. 1. 1.]\n",
      "yt : [INFO     ] 2022-07-13 09:37:12,655 Parameters: cosmological_simulation   = 1\n",
      "yt : [INFO     ] 2022-07-13 09:37:12,655 Parameters: current_redshift          = 0.85724242198899\n",
      "yt : [INFO     ] 2022-07-13 09:37:12,655 Parameters: omega_lambda              = 0.715\n",
      "yt : [INFO     ] 2022-07-13 09:37:12,656 Parameters: omega_matter              = 0.285\n",
      "yt : [INFO     ] 2022-07-13 09:37:12,657 Parameters: omega_radiation           = 0.0\n",
      "yt : [INFO     ] 2022-07-13 09:37:12,657 Parameters: hubble_constant           = 0.695\n"
     ]
    },
    {
     "name": "stdout",
     "output_type": "stream",
     "text": [
      "get_refine_box: using this location:      col1        col2     col3     col4     col5     col6     col7   col8\n",
      "-------------- -------- -------- -------- -------- -------- -------- ----\n",
      "0.857242421989 0.491192 0.480668 0.504092 0.493192 0.482668 0.506092    9\n"
     ]
    },
    {
     "name": "stderr",
     "output_type": "stream",
     "text": [
      "Parsing Hierarchy : 100%|████████████████| 5163/5163 [00:00<00:00, 17500.93it/s]\n",
      "yt : [INFO     ] 2022-07-13 09:37:13,193 Gathering a field list (this may take a moment.)\n",
      "yt : [WARNING  ] 2022-07-13 09:37:15,891 The stars particle filter already exists. Overriding.\n",
      "yt : [WARNING  ] 2022-07-13 09:37:15,892 The DM particle filter already exists. Overriding.\n"
     ]
    },
    {
     "name": "stdout",
     "output_type": "stream",
     "text": [
      "Pulling halo center from catalog file\n",
      "Opening snapshot /Volumes/TempestTimeSteps/DD1107/DD1107\n"
     ]
    },
    {
     "name": "stderr",
     "output_type": "stream",
     "text": [
      "yt : [INFO     ] 2022-07-13 09:37:16,060 Parameters: current_time              = 309.56652781829\n",
      "yt : [INFO     ] 2022-07-13 09:37:16,063 Parameters: domain_dimensions         = [256 256 256]\n",
      "yt : [INFO     ] 2022-07-13 09:37:16,065 Parameters: domain_left_edge          = [0. 0. 0.]\n",
      "yt : [INFO     ] 2022-07-13 09:37:16,068 Parameters: domain_right_edge         = [1. 1. 1.]\n",
      "yt : [INFO     ] 2022-07-13 09:37:16,069 Parameters: cosmological_simulation   = 1\n",
      "yt : [INFO     ] 2022-07-13 09:37:16,069 Parameters: current_redshift          = 0.83488657383741\n",
      "yt : [INFO     ] 2022-07-13 09:37:16,069 Parameters: omega_lambda              = 0.715\n",
      "yt : [INFO     ] 2022-07-13 09:37:16,070 Parameters: omega_matter              = 0.285\n",
      "yt : [INFO     ] 2022-07-13 09:37:16,070 Parameters: omega_radiation           = 0.0\n",
      "yt : [INFO     ] 2022-07-13 09:37:16,071 Parameters: hubble_constant           = 0.695\n"
     ]
    },
    {
     "name": "stdout",
     "output_type": "stream",
     "text": [
      "get_refine_box: using this location:       col1         col2     col3     col4     col5     col6     col7   col8\n",
      "---------------- -------- -------- -------- -------- -------- -------- ----\n",
      "0.83488657383741 0.491154 0.480465 0.504151 0.493154 0.482465 0.506151    9\n"
     ]
    },
    {
     "name": "stderr",
     "output_type": "stream",
     "text": [
      "Parsing Hierarchy : 100%|████████████████| 5231/5231 [00:00<00:00, 18506.66it/s]\n",
      "yt : [INFO     ] 2022-07-13 09:37:16,565 Gathering a field list (this may take a moment.)\n",
      "yt : [WARNING  ] 2022-07-13 09:37:19,334 The stars particle filter already exists. Overriding.\n",
      "yt : [WARNING  ] 2022-07-13 09:37:19,335 The DM particle filter already exists. Overriding.\n"
     ]
    },
    {
     "name": "stdout",
     "output_type": "stream",
     "text": [
      "Pulling halo center from catalog file\n",
      "Opening snapshot /Volumes/TempestTimeSteps/DD1127/DD1127\n"
     ]
    },
    {
     "name": "stderr",
     "output_type": "stream",
     "text": [
      "yt : [INFO     ] 2022-07-13 09:37:19,514 Parameters: current_time              = 314.56652781829\n",
      "yt : [INFO     ] 2022-07-13 09:37:19,517 Parameters: domain_dimensions         = [256 256 256]\n",
      "yt : [INFO     ] 2022-07-13 09:37:19,520 Parameters: domain_left_edge          = [0. 0. 0.]\n",
      "yt : [INFO     ] 2022-07-13 09:37:19,522 Parameters: domain_right_edge         = [1. 1. 1.]\n",
      "yt : [INFO     ] 2022-07-13 09:37:19,523 Parameters: cosmological_simulation   = 1\n",
      "yt : [INFO     ] 2022-07-13 09:37:19,524 Parameters: current_redshift          = 0.81307985104783\n",
      "yt : [INFO     ] 2022-07-13 09:37:19,524 Parameters: omega_lambda              = 0.715\n",
      "yt : [INFO     ] 2022-07-13 09:37:19,525 Parameters: omega_matter              = 0.285\n",
      "yt : [INFO     ] 2022-07-13 09:37:19,526 Parameters: omega_radiation           = 0.0\n",
      "yt : [INFO     ] 2022-07-13 09:37:19,527 Parameters: hubble_constant           = 0.695\n"
     ]
    },
    {
     "name": "stdout",
     "output_type": "stream",
     "text": [
      "get_refine_box: using this location:       col1         col2     col3     col4     col5     col6     col7   col8\n",
      "---------------- -------- -------- -------- -------- -------- -------- ----\n",
      "0.81307985104783 0.491127 0.480267 0.504221 0.493127 0.482267 0.506221    9\n"
     ]
    },
    {
     "name": "stderr",
     "output_type": "stream",
     "text": [
      "Parsing Hierarchy : 100%|████████████████| 5553/5553 [00:00<00:00, 19166.65it/s]\n",
      "yt : [INFO     ] 2022-07-13 09:37:20,031 Gathering a field list (this may take a moment.)\n",
      "yt : [WARNING  ] 2022-07-13 09:37:22,689 The stars particle filter already exists. Overriding.\n",
      "yt : [WARNING  ] 2022-07-13 09:37:22,689 The DM particle filter already exists. Overriding.\n"
     ]
    },
    {
     "name": "stdout",
     "output_type": "stream",
     "text": [
      "Pulling halo center from catalog file\n",
      "Opening snapshot /Volumes/TempestTimeSteps/DD1147/DD1147\n"
     ]
    },
    {
     "name": "stderr",
     "output_type": "stream",
     "text": [
      "yt : [INFO     ] 2022-07-13 09:37:22,866 Parameters: current_time              = 319.56652781829\n",
      "yt : [INFO     ] 2022-07-13 09:37:22,870 Parameters: domain_dimensions         = [256 256 256]\n",
      "yt : [INFO     ] 2022-07-13 09:37:22,872 Parameters: domain_left_edge          = [0. 0. 0.]\n",
      "yt : [INFO     ] 2022-07-13 09:37:22,875 Parameters: domain_right_edge         = [1. 1. 1.]\n",
      "yt : [INFO     ] 2022-07-13 09:37:22,875 Parameters: cosmological_simulation   = 1\n",
      "yt : [INFO     ] 2022-07-13 09:37:22,876 Parameters: current_redshift          = 0.79179927876823\n",
      "yt : [INFO     ] 2022-07-13 09:37:22,877 Parameters: omega_lambda              = 0.715\n",
      "yt : [INFO     ] 2022-07-13 09:37:22,877 Parameters: omega_matter              = 0.285\n",
      "yt : [INFO     ] 2022-07-13 09:37:22,878 Parameters: omega_radiation           = 0.0\n",
      "yt : [INFO     ] 2022-07-13 09:37:22,879 Parameters: hubble_constant           = 0.695\n"
     ]
    },
    {
     "name": "stdout",
     "output_type": "stream",
     "text": [
      "get_refine_box: using this location:       col1         col2     col3    col4    col5     col6    col7  col8\n",
      "---------------- -------- -------- ------ -------- -------- ------ ----\n",
      "0.79179927876823 0.491095 0.480072 0.5043 0.493095 0.482072 0.5063    9\n"
     ]
    },
    {
     "name": "stderr",
     "output_type": "stream",
     "text": [
      "Parsing Hierarchy : 100%|████████████████| 5902/5902 [00:00<00:00, 18684.56it/s]\n",
      "yt : [INFO     ] 2022-07-13 09:37:23,419 Gathering a field list (this may take a moment.)\n",
      "yt : [WARNING  ] 2022-07-13 09:37:26,141 The stars particle filter already exists. Overriding.\n",
      "yt : [WARNING  ] 2022-07-13 09:37:26,142 The DM particle filter already exists. Overriding.\n",
      "yt : [INFO     ] 2022-07-13 09:37:26,236 Parameters: current_time              = 324.56652781829\n",
      "yt : [INFO     ] 2022-07-13 09:37:26,238 Parameters: domain_dimensions         = [256 256 256]\n",
      "yt : [INFO     ] 2022-07-13 09:37:26,241 Parameters: domain_left_edge          = [0. 0. 0.]\n",
      "yt : [INFO     ] 2022-07-13 09:37:26,245 Parameters: domain_right_edge         = [1. 1. 1.]\n",
      "yt : [INFO     ] 2022-07-13 09:37:26,246 Parameters: cosmological_simulation   = 1\n",
      "yt : [INFO     ] 2022-07-13 09:37:26,246 Parameters: current_redshift          = 0.77102319068022\n",
      "yt : [INFO     ] 2022-07-13 09:37:26,247 Parameters: omega_lambda              = 0.715\n",
      "yt : [INFO     ] 2022-07-13 09:37:26,247 Parameters: omega_matter              = 0.285\n",
      "yt : [INFO     ] 2022-07-13 09:37:26,248 Parameters: omega_radiation           = 0.0\n",
      "yt : [INFO     ] 2022-07-13 09:37:26,249 Parameters: hubble_constant           = 0.695\n"
     ]
    },
    {
     "name": "stdout",
     "output_type": "stream",
     "text": [
      "Pulling halo center from catalog file\n",
      "Opening snapshot /Volumes/TempestTimeSteps/DD1167/DD1167\n",
      "get_refine_box: using this location:       col1         col2     col3     col4     col5     col6     col7   col8\n",
      "---------------- -------- -------- -------- -------- -------- -------- ----\n",
      "0.77102319068022 0.491061 0.479878 0.504383 0.493061 0.481878 0.506383    9\n"
     ]
    },
    {
     "name": "stderr",
     "output_type": "stream",
     "text": [
      "Parsing Hierarchy : 100%|████████████████| 6312/6312 [00:00<00:00, 15889.08it/s]\n",
      "yt : [INFO     ] 2022-07-13 09:37:26,975 Gathering a field list (this may take a moment.)\n",
      "yt : [WARNING  ] 2022-07-13 09:37:29,701 The stars particle filter already exists. Overriding.\n",
      "yt : [WARNING  ] 2022-07-13 09:37:29,702 The DM particle filter already exists. Overriding.\n"
     ]
    },
    {
     "name": "stdout",
     "output_type": "stream",
     "text": [
      "Pulling halo center from catalog file\n",
      "Opening snapshot /Volumes/TempestTimeSteps/DD1187/DD1187\n"
     ]
    },
    {
     "name": "stderr",
     "output_type": "stream",
     "text": [
      "yt : [INFO     ] 2022-07-13 09:37:29,899 Parameters: current_time              = 329.56652781829\n",
      "yt : [INFO     ] 2022-07-13 09:37:29,901 Parameters: domain_dimensions         = [256 256 256]\n",
      "yt : [INFO     ] 2022-07-13 09:37:29,903 Parameters: domain_left_edge          = [0. 0. 0.]\n",
      "yt : [INFO     ] 2022-07-13 09:37:29,906 Parameters: domain_right_edge         = [1. 1. 1.]\n",
      "yt : [INFO     ] 2022-07-13 09:37:29,907 Parameters: cosmological_simulation   = 1\n",
      "yt : [INFO     ] 2022-07-13 09:37:29,908 Parameters: current_redshift          = 0.75073113600866\n",
      "yt : [INFO     ] 2022-07-13 09:37:29,908 Parameters: omega_lambda              = 0.715\n",
      "yt : [INFO     ] 2022-07-13 09:37:29,909 Parameters: omega_matter              = 0.285\n",
      "yt : [INFO     ] 2022-07-13 09:37:29,909 Parameters: omega_radiation           = 0.0\n",
      "yt : [INFO     ] 2022-07-13 09:37:29,910 Parameters: hubble_constant           = 0.695\n"
     ]
    },
    {
     "name": "stdout",
     "output_type": "stream",
     "text": [
      "get_refine_box: using this location:       col1         col2     col3     col4     col5     col6     col7   col8\n",
      "---------------- -------- -------- -------- -------- -------- -------- ----\n",
      "0.75073113600866 0.491021 0.479683 0.504466 0.493021 0.481683 0.506466    9\n"
     ]
    },
    {
     "name": "stderr",
     "output_type": "stream",
     "text": [
      "Parsing Hierarchy : 100%|████████████████| 5990/5990 [00:00<00:00, 17289.36it/s]\n",
      "yt : [INFO     ] 2022-07-13 09:37:30,493 Gathering a field list (this may take a moment.)\n",
      "yt : [WARNING  ] 2022-07-13 09:37:33,395 The stars particle filter already exists. Overriding.\n",
      "yt : [WARNING  ] 2022-07-13 09:37:33,395 The DM particle filter already exists. Overriding.\n"
     ]
    },
    {
     "name": "stdout",
     "output_type": "stream",
     "text": [
      "Pulling halo center from catalog file\n",
      "Opening snapshot /Volumes/TempestTimeSteps/DD1207/DD1207\n"
     ]
    },
    {
     "name": "stderr",
     "output_type": "stream",
     "text": [
      "yt : [INFO     ] 2022-07-13 09:37:33,585 Parameters: current_time              = 334.56652781829\n",
      "yt : [INFO     ] 2022-07-13 09:37:33,588 Parameters: domain_dimensions         = [256 256 256]\n",
      "yt : [INFO     ] 2022-07-13 09:37:33,592 Parameters: domain_left_edge          = [0. 0. 0.]\n",
      "yt : [INFO     ] 2022-07-13 09:37:33,594 Parameters: domain_right_edge         = [1. 1. 1.]\n",
      "yt : [INFO     ] 2022-07-13 09:37:33,595 Parameters: cosmological_simulation   = 1\n",
      "yt : [INFO     ] 2022-07-13 09:37:33,595 Parameters: current_redshift          = 0.7309037944282\n",
      "yt : [INFO     ] 2022-07-13 09:37:33,596 Parameters: omega_lambda              = 0.715\n",
      "yt : [INFO     ] 2022-07-13 09:37:33,596 Parameters: omega_matter              = 0.285\n",
      "yt : [INFO     ] 2022-07-13 09:37:33,597 Parameters: omega_radiation           = 0.0\n",
      "yt : [INFO     ] 2022-07-13 09:37:33,597 Parameters: hubble_constant           = 0.695\n"
     ]
    },
    {
     "name": "stdout",
     "output_type": "stream",
     "text": [
      "get_refine_box: using this location:       col1        col2     col3     col4     col5     col6     col7   col8\n",
      "--------------- -------- -------- -------- -------- -------- -------- ----\n",
      "0.7309037944282 0.490979 0.479485 0.504549 0.492979 0.481485 0.506549    9\n"
     ]
    },
    {
     "name": "stderr",
     "output_type": "stream",
     "text": [
      "Parsing Hierarchy : 100%|████████████████| 5804/5804 [00:00<00:00, 16891.55it/s]\n",
      "yt : [INFO     ] 2022-07-13 09:37:34,206 Gathering a field list (this may take a moment.)\n",
      "yt : [WARNING  ] 2022-07-13 09:37:37,402 The stars particle filter already exists. Overriding.\n",
      "yt : [WARNING  ] 2022-07-13 09:37:37,403 The DM particle filter already exists. Overriding.\n"
     ]
    },
    {
     "name": "stdout",
     "output_type": "stream",
     "text": [
      "Pulling halo center from catalog file\n",
      "Opening snapshot /Volumes/TempestTimeSteps/DD1227/DD1227\n"
     ]
    },
    {
     "name": "stderr",
     "output_type": "stream",
     "text": [
      "yt : [INFO     ] 2022-07-13 09:37:37,514 Parameters: current_time              = 339.56652781829\n",
      "yt : [INFO     ] 2022-07-13 09:37:37,517 Parameters: domain_dimensions         = [256 256 256]\n",
      "yt : [INFO     ] 2022-07-13 09:37:37,520 Parameters: domain_left_edge          = [0. 0. 0.]\n",
      "yt : [INFO     ] 2022-07-13 09:37:37,523 Parameters: domain_right_edge         = [1. 1. 1.]\n",
      "yt : [INFO     ] 2022-07-13 09:37:37,523 Parameters: cosmological_simulation   = 1\n",
      "yt : [INFO     ] 2022-07-13 09:37:37,524 Parameters: current_redshift          = 0.71152289808928\n",
      "yt : [INFO     ] 2022-07-13 09:37:37,525 Parameters: omega_lambda              = 0.715\n",
      "yt : [INFO     ] 2022-07-13 09:37:37,526 Parameters: omega_matter              = 0.285\n",
      "yt : [INFO     ] 2022-07-13 09:37:37,527 Parameters: omega_radiation           = 0.0\n",
      "yt : [INFO     ] 2022-07-13 09:37:37,528 Parameters: hubble_constant           = 0.695\n"
     ]
    },
    {
     "name": "stdout",
     "output_type": "stream",
     "text": [
      "get_refine_box: using this location:       col1         col2     col3     col4     col5     col6     col7   col8\n",
      "---------------- -------- -------- -------- -------- -------- -------- ----\n",
      "0.71152289808928 0.490935 0.479287 0.504633 0.492935 0.481287 0.506633    9\n"
     ]
    },
    {
     "name": "stderr",
     "output_type": "stream",
     "text": [
      "Parsing Hierarchy : 100%|████████████████| 5825/5825 [00:00<00:00, 15189.17it/s]\n",
      "yt : [INFO     ] 2022-07-13 09:37:38,323 Gathering a field list (this may take a moment.)\n",
      "yt : [WARNING  ] 2022-07-13 09:37:41,513 The stars particle filter already exists. Overriding.\n",
      "yt : [WARNING  ] 2022-07-13 09:37:41,514 The DM particle filter already exists. Overriding.\n"
     ]
    },
    {
     "name": "stdout",
     "output_type": "stream",
     "text": [
      "Pulling halo center from catalog file\n",
      "Opening snapshot /Volumes/TempestTimeSteps/DD1247/DD1247\n"
     ]
    },
    {
     "name": "stderr",
     "output_type": "stream",
     "text": [
      "yt : [INFO     ] 2022-07-13 09:37:41,698 Parameters: current_time              = 344.56652781829\n",
      "yt : [INFO     ] 2022-07-13 09:37:41,700 Parameters: domain_dimensions         = [256 256 256]\n",
      "yt : [INFO     ] 2022-07-13 09:37:41,703 Parameters: domain_left_edge          = [0. 0. 0.]\n",
      "yt : [INFO     ] 2022-07-13 09:37:41,705 Parameters: domain_right_edge         = [1. 1. 1.]\n",
      "yt : [INFO     ] 2022-07-13 09:37:41,706 Parameters: cosmological_simulation   = 1\n",
      "yt : [INFO     ] 2022-07-13 09:37:41,707 Parameters: current_redshift          = 0.6925711600732\n",
      "yt : [INFO     ] 2022-07-13 09:37:41,707 Parameters: omega_lambda              = 0.715\n",
      "yt : [INFO     ] 2022-07-13 09:37:41,707 Parameters: omega_matter              = 0.285\n",
      "yt : [INFO     ] 2022-07-13 09:37:41,708 Parameters: omega_radiation           = 0.0\n",
      "yt : [INFO     ] 2022-07-13 09:37:41,709 Parameters: hubble_constant           = 0.695\n"
     ]
    },
    {
     "name": "stdout",
     "output_type": "stream",
     "text": [
      "get_refine_box: using this location:       col1        col2     col3     col4     col5     col6     col7   col8\n",
      "--------------- -------- -------- -------- -------- -------- -------- ----\n",
      "0.6925711600732 0.490889 0.479086 0.504717 0.492889 0.481086 0.506717    9\n"
     ]
    },
    {
     "name": "stderr",
     "output_type": "stream",
     "text": [
      "Parsing Hierarchy : 100%|████████████████| 5729/5729 [00:00<00:00, 15764.14it/s]\n",
      "yt : [INFO     ] 2022-07-13 09:37:42,324 Gathering a field list (this may take a moment.)\n",
      "yt : [WARNING  ] 2022-07-13 09:37:45,174 The stars particle filter already exists. Overriding.\n",
      "yt : [WARNING  ] 2022-07-13 09:37:45,175 The DM particle filter already exists. Overriding.\n"
     ]
    },
    {
     "name": "stdout",
     "output_type": "stream",
     "text": [
      "Pulling halo center from catalog file\n",
      "Opening snapshot /Volumes/TempestTimeSteps/DD1267/DD1267\n"
     ]
    },
    {
     "name": "stderr",
     "output_type": "stream",
     "text": [
      "yt : [INFO     ] 2022-07-13 09:37:45,303 Parameters: current_time              = 349.56652781829\n",
      "yt : [INFO     ] 2022-07-13 09:37:45,306 Parameters: domain_dimensions         = [256 256 256]\n",
      "yt : [INFO     ] 2022-07-13 09:37:45,309 Parameters: domain_left_edge          = [0. 0. 0.]\n",
      "yt : [INFO     ] 2022-07-13 09:37:45,312 Parameters: domain_right_edge         = [1. 1. 1.]\n",
      "yt : [INFO     ] 2022-07-13 09:37:45,312 Parameters: cosmological_simulation   = 1\n",
      "yt : [INFO     ] 2022-07-13 09:37:45,313 Parameters: current_redshift          = 0.67403220866149\n",
      "yt : [INFO     ] 2022-07-13 09:37:45,313 Parameters: omega_lambda              = 0.715\n",
      "yt : [INFO     ] 2022-07-13 09:37:45,314 Parameters: omega_matter              = 0.285\n",
      "yt : [INFO     ] 2022-07-13 09:37:45,314 Parameters: omega_radiation           = 0.0\n",
      "yt : [INFO     ] 2022-07-13 09:37:45,315 Parameters: hubble_constant           = 0.695\n"
     ]
    },
    {
     "name": "stdout",
     "output_type": "stream",
     "text": [
      "get_refine_box: using this location:       col1         col2     col3    col4     col5     col6    col7   col8\n",
      "---------------- -------- ------- -------- -------- ------- -------- ----\n",
      "0.67403220866149 0.490839 0.47889 0.504803 0.492839 0.48089 0.506803    9\n"
     ]
    },
    {
     "name": "stderr",
     "output_type": "stream",
     "text": [
      "Parsing Hierarchy : 100%|████████████████| 5866/5866 [00:00<00:00, 16392.08it/s]\n",
      "yt : [INFO     ] 2022-07-13 09:37:45,940 Gathering a field list (this may take a moment.)\n",
      "yt : [WARNING  ] 2022-07-13 09:37:49,022 The stars particle filter already exists. Overriding.\n",
      "yt : [WARNING  ] 2022-07-13 09:37:49,023 The DM particle filter already exists. Overriding.\n"
     ]
    },
    {
     "name": "stdout",
     "output_type": "stream",
     "text": [
      "Pulling halo center from catalog file\n",
      "Opening snapshot /Volumes/TempestTimeSteps/DD1287/DD1287\n"
     ]
    },
    {
     "name": "stderr",
     "output_type": "stream",
     "text": [
      "yt : [INFO     ] 2022-07-13 09:37:49,211 Parameters: current_time              = 354.56652781829\n",
      "yt : [INFO     ] 2022-07-13 09:37:49,214 Parameters: domain_dimensions         = [256 256 256]\n",
      "yt : [INFO     ] 2022-07-13 09:37:49,216 Parameters: domain_left_edge          = [0. 0. 0.]\n",
      "yt : [INFO     ] 2022-07-13 09:37:49,219 Parameters: domain_right_edge         = [1. 1. 1.]\n",
      "yt : [INFO     ] 2022-07-13 09:37:49,220 Parameters: cosmological_simulation   = 1\n",
      "yt : [INFO     ] 2022-07-13 09:37:49,220 Parameters: current_redshift          = 0.65589052687153\n",
      "yt : [INFO     ] 2022-07-13 09:37:49,221 Parameters: omega_lambda              = 0.715\n",
      "yt : [INFO     ] 2022-07-13 09:37:49,221 Parameters: omega_matter              = 0.285\n",
      "yt : [INFO     ] 2022-07-13 09:37:49,222 Parameters: omega_radiation           = 0.0\n",
      "yt : [INFO     ] 2022-07-13 09:37:49,222 Parameters: hubble_constant           = 0.695\n"
     ]
    },
    {
     "name": "stdout",
     "output_type": "stream",
     "text": [
      "get_refine_box: using this location:       col1         col2     col3     col4     col5     col6     col7   col8\n",
      "---------------- -------- -------- -------- -------- -------- -------- ----\n",
      "0.65589052687153 0.490792 0.478699 0.504887 0.492792 0.480699 0.506887    9\n"
     ]
    },
    {
     "name": "stderr",
     "output_type": "stream",
     "text": [
      "Parsing Hierarchy : 100%|█████████████████| 6144/6144 [00:04<00:00, 1449.08it/s]\n",
      "yt : [INFO     ] 2022-07-13 09:37:53,729 Gathering a field list (this may take a moment.)\n",
      "yt : [WARNING  ] 2022-07-13 09:37:56,922 The stars particle filter already exists. Overriding.\n",
      "yt : [WARNING  ] 2022-07-13 09:37:56,923 The DM particle filter already exists. Overriding.\n"
     ]
    },
    {
     "name": "stdout",
     "output_type": "stream",
     "text": [
      "Pulling halo center from catalog file\n",
      "Opening snapshot /Volumes/TempestTimeSteps/DD1307/DD1307\n"
     ]
    },
    {
     "name": "stderr",
     "output_type": "stream",
     "text": [
      "yt : [INFO     ] 2022-07-13 09:37:57,104 Parameters: current_time              = 359.56652781829\n",
      "yt : [INFO     ] 2022-07-13 09:37:57,106 Parameters: domain_dimensions         = [256 256 256]\n",
      "yt : [INFO     ] 2022-07-13 09:37:57,108 Parameters: domain_left_edge          = [0. 0. 0.]\n",
      "yt : [INFO     ] 2022-07-13 09:37:57,111 Parameters: domain_right_edge         = [1. 1. 1.]\n",
      "yt : [INFO     ] 2022-07-13 09:37:57,112 Parameters: cosmological_simulation   = 1\n",
      "yt : [INFO     ] 2022-07-13 09:37:57,112 Parameters: current_redshift          = 0.63813139676917\n",
      "yt : [INFO     ] 2022-07-13 09:37:57,113 Parameters: omega_lambda              = 0.715\n",
      "yt : [INFO     ] 2022-07-13 09:37:57,114 Parameters: omega_matter              = 0.285\n",
      "yt : [INFO     ] 2022-07-13 09:37:57,114 Parameters: omega_radiation           = 0.0\n",
      "yt : [INFO     ] 2022-07-13 09:37:57,115 Parameters: hubble_constant           = 0.695\n"
     ]
    },
    {
     "name": "stdout",
     "output_type": "stream",
     "text": [
      "get_refine_box: using this location:       col1         col2     col3     col4     col5     col6     col7   col8\n",
      "---------------- -------- -------- -------- -------- -------- -------- ----\n",
      "0.63813139676917 0.490748 0.478512 0.504971 0.492748 0.480512 0.506971    9\n"
     ]
    },
    {
     "name": "stderr",
     "output_type": "stream",
     "text": [
      "Parsing Hierarchy : 100%|████████████████| 6120/6120 [00:00<00:00, 18533.54it/s]\n",
      "yt : [INFO     ] 2022-07-13 09:37:57,690 Gathering a field list (this may take a moment.)\n",
      "yt : [WARNING  ] 2022-07-13 09:38:00,383 The stars particle filter already exists. Overriding.\n",
      "yt : [WARNING  ] 2022-07-13 09:38:00,384 The DM particle filter already exists. Overriding.\n"
     ]
    },
    {
     "name": "stdout",
     "output_type": "stream",
     "text": [
      "Pulling halo center from catalog file\n",
      "Opening snapshot /Volumes/TempestTimeSteps/DD1310/DD1310\n"
     ]
    },
    {
     "name": "stderr",
     "output_type": "stream",
     "text": [
      "yt : [INFO     ] 2022-07-13 09:38:00,591 Parameters: current_time              = 360.31652781829\n",
      "yt : [INFO     ] 2022-07-13 09:38:00,593 Parameters: domain_dimensions         = [256 256 256]\n",
      "yt : [INFO     ] 2022-07-13 09:38:00,595 Parameters: domain_left_edge          = [0. 0. 0.]\n",
      "yt : [INFO     ] 2022-07-13 09:38:00,598 Parameters: domain_right_edge         = [1. 1. 1.]\n",
      "yt : [INFO     ] 2022-07-13 09:38:00,598 Parameters: cosmological_simulation   = 1\n",
      "yt : [INFO     ] 2022-07-13 09:38:00,599 Parameters: current_redshift          = 0.63549964938239\n",
      "yt : [INFO     ] 2022-07-13 09:38:00,599 Parameters: omega_lambda              = 0.715\n",
      "yt : [INFO     ] 2022-07-13 09:38:00,600 Parameters: omega_matter              = 0.285\n",
      "yt : [INFO     ] 2022-07-13 09:38:00,600 Parameters: omega_radiation           = 0.0\n",
      "yt : [INFO     ] 2022-07-13 09:38:00,601 Parameters: hubble_constant           = 0.695\n"
     ]
    },
    {
     "name": "stdout",
     "output_type": "stream",
     "text": [
      "get_refine_box: using this location:       col1         col2     col3     col4     col5     col6     col7   col8\n",
      "---------------- -------- -------- -------- -------- -------- -------- ----\n",
      "0.63549964938239 0.490742 0.478486 0.504982 0.492742 0.480486 0.506982    9\n"
     ]
    },
    {
     "name": "stderr",
     "output_type": "stream",
     "text": [
      "Parsing Hierarchy : 100%|████████████████| 6117/6117 [00:00<00:00, 18468.44it/s]\n",
      "yt : [INFO     ] 2022-07-13 09:38:01,163 Gathering a field list (this may take a moment.)\n",
      "yt : [WARNING  ] 2022-07-13 09:38:04,298 The stars particle filter already exists. Overriding.\n",
      "yt : [WARNING  ] 2022-07-13 09:38:04,299 The DM particle filter already exists. Overriding.\n",
      "yt : [INFO     ] 2022-07-13 09:38:04,399 Parameters: current_time              = 360.56652781829\n",
      "yt : [INFO     ] 2022-07-13 09:38:04,401 Parameters: domain_dimensions         = [256 256 256]\n",
      "yt : [INFO     ] 2022-07-13 09:38:04,404 Parameters: domain_left_edge          = [0. 0. 0.]\n",
      "yt : [INFO     ] 2022-07-13 09:38:04,407 Parameters: domain_right_edge         = [1. 1. 1.]\n",
      "yt : [INFO     ] 2022-07-13 09:38:04,408 Parameters: cosmological_simulation   = 1\n",
      "yt : [INFO     ] 2022-07-13 09:38:04,409 Parameters: current_redshift          = 0.63462423495761\n",
      "yt : [INFO     ] 2022-07-13 09:38:04,409 Parameters: omega_lambda              = 0.715\n",
      "yt : [INFO     ] 2022-07-13 09:38:04,410 Parameters: omega_matter              = 0.285\n",
      "yt : [INFO     ] 2022-07-13 09:38:04,410 Parameters: omega_radiation           = 0.0\n",
      "yt : [INFO     ] 2022-07-13 09:38:04,411 Parameters: hubble_constant           = 0.695\n"
     ]
    },
    {
     "name": "stdout",
     "output_type": "stream",
     "text": [
      "Pulling halo center from catalog file\n",
      "Opening snapshot /Volumes/TempestTimeSteps/DD1311/DD1311\n",
      "get_refine_box: using this location:       col1         col2    col3     col4     col5    col6     col7   col8\n",
      "---------------- ------- -------- -------- ------- -------- -------- ----\n",
      "0.63462423495761 0.49074 0.478476 0.504986 0.49274 0.480476 0.506986    9\n"
     ]
    },
    {
     "name": "stderr",
     "output_type": "stream",
     "text": [
      "Parsing Hierarchy : 100%|████████████████| 6212/6212 [00:00<00:00, 17664.24it/s]\n",
      "yt : [INFO     ] 2022-07-13 09:38:05,106 Gathering a field list (this may take a moment.)\n",
      "yt : [WARNING  ] 2022-07-13 09:38:08,099 The stars particle filter already exists. Overriding.\n",
      "yt : [WARNING  ] 2022-07-13 09:38:08,100 The DM particle filter already exists. Overriding.\n",
      "yt : [INFO     ] 2022-07-13 09:38:08,198 Parameters: current_time              = 360.81652781829\n",
      "yt : [INFO     ] 2022-07-13 09:38:08,201 Parameters: domain_dimensions         = [256 256 256]\n",
      "yt : [INFO     ] 2022-07-13 09:38:08,204 Parameters: domain_left_edge          = [0. 0. 0.]\n",
      "yt : [INFO     ] 2022-07-13 09:38:08,208 Parameters: domain_right_edge         = [1. 1. 1.]\n",
      "yt : [INFO     ] 2022-07-13 09:38:08,209 Parameters: cosmological_simulation   = 1\n",
      "yt : [INFO     ] 2022-07-13 09:38:08,209 Parameters: current_redshift          = 0.63374973507151\n",
      "yt : [INFO     ] 2022-07-13 09:38:08,210 Parameters: omega_lambda              = 0.715\n",
      "yt : [INFO     ] 2022-07-13 09:38:08,210 Parameters: omega_matter              = 0.285\n",
      "yt : [INFO     ] 2022-07-13 09:38:08,211 Parameters: omega_radiation           = 0.0\n",
      "yt : [INFO     ] 2022-07-13 09:38:08,212 Parameters: hubble_constant           = 0.695\n"
     ]
    },
    {
     "name": "stdout",
     "output_type": "stream",
     "text": [
      "Pulling halo center from catalog file\n",
      "Opening snapshot /Volumes/TempestTimeSteps/DD1312/DD1312\n",
      "get_refine_box: using this location:       col1         col2     col3     col4    col5     col6     col7  col8\n",
      "---------------- -------- -------- ------- -------- -------- ------- ----\n",
      "0.63374973507151 0.490738 0.478466 0.50499 0.492738 0.480466 0.50699    9\n"
     ]
    },
    {
     "name": "stderr",
     "output_type": "stream",
     "text": [
      "Parsing Hierarchy : 100%|████████████████| 6058/6058 [00:00<00:00, 17675.83it/s]\n",
      "yt : [INFO     ] 2022-07-13 09:38:08,867 Gathering a field list (this may take a moment.)\n",
      "yt : [WARNING  ] 2022-07-13 09:38:12,024 The stars particle filter already exists. Overriding.\n",
      "yt : [WARNING  ] 2022-07-13 09:38:12,024 The DM particle filter already exists. Overriding.\n",
      "yt : [INFO     ] 2022-07-13 09:38:12,120 Parameters: current_time              = 361.06652781829\n",
      "yt : [INFO     ] 2022-07-13 09:38:12,123 Parameters: domain_dimensions         = [256 256 256]\n",
      "yt : [INFO     ] 2022-07-13 09:38:12,126 Parameters: domain_left_edge          = [0. 0. 0.]\n",
      "yt : [INFO     ] 2022-07-13 09:38:12,128 Parameters: domain_right_edge         = [1. 1. 1.]\n",
      "yt : [INFO     ] 2022-07-13 09:38:12,129 Parameters: cosmological_simulation   = 1\n",
      "yt : [INFO     ] 2022-07-13 09:38:12,129 Parameters: current_redshift          = 0.63287614804254\n",
      "yt : [INFO     ] 2022-07-13 09:38:12,129 Parameters: omega_lambda              = 0.715\n",
      "yt : [INFO     ] 2022-07-13 09:38:12,130 Parameters: omega_matter              = 0.285\n",
      "yt : [INFO     ] 2022-07-13 09:38:12,130 Parameters: omega_radiation           = 0.0\n",
      "yt : [INFO     ] 2022-07-13 09:38:12,131 Parameters: hubble_constant           = 0.695\n"
     ]
    },
    {
     "name": "stdout",
     "output_type": "stream",
     "text": [
      "Pulling halo center from catalog file\n",
      "Opening snapshot /Volumes/TempestTimeSteps/DD1313/DD1313\n",
      "get_refine_box: using this location:       col1         col2     col3     col4     col5     col6     col7   col8\n",
      "---------------- -------- -------- -------- -------- -------- -------- ----\n",
      "0.63287614804254 0.490735 0.478457 0.504994 0.492735 0.480457 0.506994    9\n"
     ]
    },
    {
     "name": "stderr",
     "output_type": "stream",
     "text": [
      "Parsing Hierarchy : 100%|████████████████| 6082/6082 [00:00<00:00, 17756.21it/s]\n",
      "yt : [INFO     ] 2022-07-13 09:38:12,806 Gathering a field list (this may take a moment.)\n",
      "yt : [WARNING  ] 2022-07-13 09:38:15,990 The stars particle filter already exists. Overriding.\n",
      "yt : [WARNING  ] 2022-07-13 09:38:15,990 The DM particle filter already exists. Overriding.\n",
      "yt : [INFO     ] 2022-07-13 09:38:16,086 Parameters: current_time              = 361.31652781829\n",
      "yt : [INFO     ] 2022-07-13 09:38:16,089 Parameters: domain_dimensions         = [256 256 256]\n",
      "yt : [INFO     ] 2022-07-13 09:38:16,092 Parameters: domain_left_edge          = [0. 0. 0.]\n",
      "yt : [INFO     ] 2022-07-13 09:38:16,094 Parameters: domain_right_edge         = [1. 1. 1.]\n",
      "yt : [INFO     ] 2022-07-13 09:38:16,095 Parameters: cosmological_simulation   = 1\n",
      "yt : [INFO     ] 2022-07-13 09:38:16,095 Parameters: current_redshift          = 0.63200347219345\n",
      "yt : [INFO     ] 2022-07-13 09:38:16,096 Parameters: omega_lambda              = 0.715\n",
      "yt : [INFO     ] 2022-07-13 09:38:16,096 Parameters: omega_matter              = 0.285\n",
      "yt : [INFO     ] 2022-07-13 09:38:16,097 Parameters: omega_radiation           = 0.0\n",
      "yt : [INFO     ] 2022-07-13 09:38:16,098 Parameters: hubble_constant           = 0.695\n"
     ]
    },
    {
     "name": "stdout",
     "output_type": "stream",
     "text": [
      "Pulling halo center from catalog file\n",
      "Opening snapshot /Volumes/TempestTimeSteps/DD1314/DD1314\n",
      "get_refine_box: using this location:       col1         col2     col3    col4   col5     col6    col7 col8\n",
      "---------------- -------- -------- ----- -------- -------- ----- ----\n",
      "0.63200347219345 0.490733 0.478449 0.505 0.492733 0.480449 0.507    9\n"
     ]
    },
    {
     "name": "stderr",
     "output_type": "stream",
     "text": [
      "Parsing Hierarchy : 100%|████████████████| 5996/5996 [00:00<00:00, 16869.66it/s]\n",
      "yt : [INFO     ] 2022-07-13 09:38:16,802 Gathering a field list (this may take a moment.)\n",
      "yt : [WARNING  ] 2022-07-13 09:38:19,914 The stars particle filter already exists. Overriding.\n",
      "yt : [WARNING  ] 2022-07-13 09:38:19,915 The DM particle filter already exists. Overriding.\n",
      "yt : [INFO     ] 2022-07-13 09:38:20,012 Parameters: current_time              = 361.56652781829\n",
      "yt : [INFO     ] 2022-07-13 09:38:20,014 Parameters: domain_dimensions         = [256 256 256]\n",
      "yt : [INFO     ] 2022-07-13 09:38:20,017 Parameters: domain_left_edge          = [0. 0. 0.]\n",
      "yt : [INFO     ] 2022-07-13 09:38:20,019 Parameters: domain_right_edge         = [1. 1. 1.]\n",
      "yt : [INFO     ] 2022-07-13 09:38:20,020 Parameters: cosmological_simulation   = 1\n",
      "yt : [INFO     ] 2022-07-13 09:38:20,020 Parameters: current_redshift          = 0.63113170585127\n",
      "yt : [INFO     ] 2022-07-13 09:38:20,021 Parameters: omega_lambda              = 0.715\n",
      "yt : [INFO     ] 2022-07-13 09:38:20,021 Parameters: omega_matter              = 0.285\n",
      "yt : [INFO     ] 2022-07-13 09:38:20,022 Parameters: omega_radiation           = 0.0\n",
      "yt : [INFO     ] 2022-07-13 09:38:20,022 Parameters: hubble_constant           = 0.695\n"
     ]
    },
    {
     "name": "stdout",
     "output_type": "stream",
     "text": [
      "Pulling halo center from catalog file\n",
      "Opening snapshot /Volumes/TempestTimeSteps/DD1315/DD1315\n",
      "get_refine_box: using this location:       col1         col2     col3    col4     col5     col6    col7   col8\n",
      "---------------- -------- ------- -------- -------- ------- -------- ----\n",
      "0.63113170585127 0.490731 0.47844 0.505003 0.492731 0.48044 0.507003    9\n"
     ]
    },
    {
     "name": "stderr",
     "output_type": "stream",
     "text": [
      "Parsing Hierarchy : 100%|████████████████| 6053/6053 [00:00<00:00, 17695.22it/s]\n",
      "yt : [INFO     ] 2022-07-13 09:38:20,704 Gathering a field list (this may take a moment.)\n",
      "yt : [WARNING  ] 2022-07-13 09:38:23,829 The stars particle filter already exists. Overriding.\n",
      "yt : [WARNING  ] 2022-07-13 09:38:23,829 The DM particle filter already exists. Overriding.\n",
      "yt : [INFO     ] 2022-07-13 09:38:23,939 Parameters: current_time              = 361.81652781829\n",
      "yt : [INFO     ] 2022-07-13 09:38:23,941 Parameters: domain_dimensions         = [256 256 256]\n",
      "yt : [INFO     ] 2022-07-13 09:38:23,944 Parameters: domain_left_edge          = [0. 0. 0.]\n",
      "yt : [INFO     ] 2022-07-13 09:38:23,947 Parameters: domain_right_edge         = [1. 1. 1.]\n",
      "yt : [INFO     ] 2022-07-13 09:38:23,948 Parameters: cosmological_simulation   = 1\n",
      "yt : [INFO     ] 2022-07-13 09:38:23,948 Parameters: current_redshift          = 0.63026084734731\n",
      "yt : [INFO     ] 2022-07-13 09:38:23,949 Parameters: omega_lambda              = 0.715\n",
      "yt : [INFO     ] 2022-07-13 09:38:23,949 Parameters: omega_matter              = 0.285\n",
      "yt : [INFO     ] 2022-07-13 09:38:23,950 Parameters: omega_radiation           = 0.0\n",
      "yt : [INFO     ] 2022-07-13 09:38:23,950 Parameters: hubble_constant           = 0.695\n"
     ]
    },
    {
     "name": "stdout",
     "output_type": "stream",
     "text": [
      "Pulling halo center from catalog file\n",
      "Opening snapshot /Volumes/TempestTimeSteps/DD1316/DD1316\n",
      "get_refine_box: using this location:       col1         col2     col3    col4     col5     col6    col7   col8\n",
      "---------------- -------- ------- -------- -------- ------- -------- ----\n",
      "0.63026084734731 0.490729 0.47843 0.505007 0.492729 0.48043 0.507007    9\n"
     ]
    },
    {
     "name": "stderr",
     "output_type": "stream",
     "text": [
      "Parsing Hierarchy : 100%|████████████████| 5907/5907 [00:00<00:00, 14497.45it/s]\n",
      "yt : [INFO     ] 2022-07-13 09:38:24,687 Gathering a field list (this may take a moment.)\n",
      "yt : [WARNING  ] 2022-07-13 09:38:27,757 The stars particle filter already exists. Overriding.\n",
      "yt : [WARNING  ] 2022-07-13 09:38:27,758 The DM particle filter already exists. Overriding.\n",
      "yt : [INFO     ] 2022-07-13 09:38:27,845 Parameters: current_time              = 362.31652781829\n",
      "yt : [INFO     ] 2022-07-13 09:38:27,847 Parameters: domain_dimensions         = [256 256 256]\n",
      "yt : [INFO     ] 2022-07-13 09:38:27,850 Parameters: domain_left_edge          = [0. 0. 0.]\n",
      "yt : [INFO     ] 2022-07-13 09:38:27,853 Parameters: domain_right_edge         = [1. 1. 1.]\n",
      "yt : [INFO     ] 2022-07-13 09:38:27,853 Parameters: cosmological_simulation   = 1\n",
      "yt : [INFO     ] 2022-07-13 09:38:27,854 Parameters: current_redshift          = 0.62852184720062\n",
      "yt : [INFO     ] 2022-07-13 09:38:27,854 Parameters: omega_lambda              = 0.715\n",
      "yt : [INFO     ] 2022-07-13 09:38:27,855 Parameters: omega_matter              = 0.285\n",
      "yt : [INFO     ] 2022-07-13 09:38:27,856 Parameters: omega_radiation           = 0.0\n",
      "yt : [INFO     ] 2022-07-13 09:38:27,856 Parameters: hubble_constant           = 0.695\n"
     ]
    },
    {
     "name": "stdout",
     "output_type": "stream",
     "text": [
      "Pulling halo center from catalog file\n",
      "Opening snapshot /Volumes/TempestTimeSteps/DD1318/DD1318\n",
      "get_refine_box: using this location:       col1         col2     col3     col4     col5     col6     col7   col8\n",
      "---------------- -------- -------- -------- -------- -------- -------- ----\n",
      "0.62852184720062 0.490725 0.478411 0.505015 0.492725 0.480411 0.507015    9\n"
     ]
    },
    {
     "name": "stderr",
     "output_type": "stream",
     "text": [
      "Parsing Hierarchy : 100%|████████████████| 6061/6061 [00:00<00:00, 17645.36it/s]\n",
      "yt : [INFO     ] 2022-07-13 09:38:28,505 Gathering a field list (this may take a moment.)\n",
      "yt : [WARNING  ] 2022-07-13 09:38:31,548 The stars particle filter already exists. Overriding.\n",
      "yt : [WARNING  ] 2022-07-13 09:38:31,549 The DM particle filter already exists. Overriding.\n",
      "yt : [INFO     ] 2022-07-13 09:38:31,640 Parameters: current_time              = 362.56652781829\n",
      "yt : [INFO     ] 2022-07-13 09:38:31,642 Parameters: domain_dimensions         = [256 256 256]\n",
      "yt : [INFO     ] 2022-07-13 09:38:31,644 Parameters: domain_left_edge          = [0. 0. 0.]\n",
      "yt : [INFO     ] 2022-07-13 09:38:31,647 Parameters: domain_right_edge         = [1. 1. 1.]\n",
      "yt : [INFO     ] 2022-07-13 09:38:31,647 Parameters: cosmological_simulation   = 1\n",
      "yt : [INFO     ] 2022-07-13 09:38:31,648 Parameters: current_redshift          = 0.62765370224176\n",
      "yt : [INFO     ] 2022-07-13 09:38:31,648 Parameters: omega_lambda              = 0.715\n",
      "yt : [INFO     ] 2022-07-13 09:38:31,649 Parameters: omega_matter              = 0.285\n",
      "yt : [INFO     ] 2022-07-13 09:38:31,649 Parameters: omega_radiation           = 0.0\n",
      "yt : [INFO     ] 2022-07-13 09:38:31,650 Parameters: hubble_constant           = 0.695\n"
     ]
    },
    {
     "name": "stdout",
     "output_type": "stream",
     "text": [
      "Pulling halo center from catalog file\n",
      "Opening snapshot /Volumes/TempestTimeSteps/DD1319/DD1319\n",
      "get_refine_box: using this location:       col1         col2     col3     col4     col5     col6     col7   col8\n",
      "---------------- -------- -------- -------- -------- -------- -------- ----\n",
      "0.62765370224176 0.490723 0.478402 0.505019 0.492723 0.480402 0.507019    9\n"
     ]
    },
    {
     "name": "stderr",
     "output_type": "stream",
     "text": [
      "Parsing Hierarchy : 100%|████████████████| 6108/6108 [00:00<00:00, 16093.46it/s]\n",
      "yt : [INFO     ] 2022-07-13 09:38:32,317 Gathering a field list (this may take a moment.)\n",
      "yt : [WARNING  ] 2022-07-13 09:38:35,308 The stars particle filter already exists. Overriding.\n",
      "yt : [WARNING  ] 2022-07-13 09:38:35,309 The DM particle filter already exists. Overriding.\n"
     ]
    },
    {
     "name": "stdout",
     "output_type": "stream",
     "text": [
      "Pulling halo center from catalog file\n",
      "Opening snapshot /Volumes/TempestTimeSteps/DD1320/DD1320\n"
     ]
    },
    {
     "name": "stderr",
     "output_type": "stream",
     "text": [
      "yt : [INFO     ] 2022-07-13 09:38:35,491 Parameters: current_time              = 362.81652781829\n",
      "yt : [INFO     ] 2022-07-13 09:38:35,493 Parameters: domain_dimensions         = [256 256 256]\n",
      "yt : [INFO     ] 2022-07-13 09:38:35,496 Parameters: domain_left_edge          = [0. 0. 0.]\n",
      "yt : [INFO     ] 2022-07-13 09:38:35,498 Parameters: domain_right_edge         = [1. 1. 1.]\n",
      "yt : [INFO     ] 2022-07-13 09:38:35,498 Parameters: cosmological_simulation   = 1\n",
      "yt : [INFO     ] 2022-07-13 09:38:35,499 Parameters: current_redshift          = 0.62678645848885\n",
      "yt : [INFO     ] 2022-07-13 09:38:35,499 Parameters: omega_lambda              = 0.715\n",
      "yt : [INFO     ] 2022-07-13 09:38:35,500 Parameters: omega_matter              = 0.285\n",
      "yt : [INFO     ] 2022-07-13 09:38:35,501 Parameters: omega_radiation           = 0.0\n",
      "yt : [INFO     ] 2022-07-13 09:38:35,501 Parameters: hubble_constant           = 0.695\n"
     ]
    },
    {
     "name": "stdout",
     "output_type": "stream",
     "text": [
      "get_refine_box: using this location:       col1         col2     col3     col4     col5     col6     col7   col8\n",
      "---------------- -------- -------- -------- -------- -------- -------- ----\n",
      "0.62678645848885 0.490721 0.478392 0.505022 0.492721 0.480392 0.507022    9\n"
     ]
    },
    {
     "name": "stderr",
     "output_type": "stream",
     "text": [
      "Parsing Hierarchy : 100%|████████████████| 6021/6021 [00:00<00:00, 15808.95it/s]\n",
      "yt : [INFO     ] 2022-07-13 09:38:36,122 Gathering a field list (this may take a moment.)\n",
      "yt : [WARNING  ] 2022-07-13 09:38:39,309 The stars particle filter already exists. Overriding.\n",
      "yt : [WARNING  ] 2022-07-13 09:38:39,310 The DM particle filter already exists. Overriding.\n"
     ]
    },
    {
     "name": "stdout",
     "output_type": "stream",
     "text": [
      "Pulling halo center from catalog file\n",
      "Opening snapshot /Volumes/TempestTimeSteps/DD1327/DD1327\n"
     ]
    },
    {
     "name": "stderr",
     "output_type": "stream",
     "text": [
      "yt : [INFO     ] 2022-07-13 09:38:39,475 Parameters: current_time              = 364.56652781829\n",
      "yt : [INFO     ] 2022-07-13 09:38:39,477 Parameters: domain_dimensions         = [256 256 256]\n",
      "yt : [INFO     ] 2022-07-13 09:38:39,480 Parameters: domain_left_edge          = [0. 0. 0.]\n",
      "yt : [INFO     ] 2022-07-13 09:38:39,482 Parameters: domain_right_edge         = [1. 1. 1.]\n",
      "yt : [INFO     ] 2022-07-13 09:38:39,483 Parameters: cosmological_simulation   = 1\n",
      "yt : [INFO     ] 2022-07-13 09:38:39,483 Parameters: current_redshift          = 0.62074084812024\n",
      "yt : [INFO     ] 2022-07-13 09:38:39,484 Parameters: omega_lambda              = 0.715\n",
      "yt : [INFO     ] 2022-07-13 09:38:39,485 Parameters: omega_matter              = 0.285\n",
      "yt : [INFO     ] 2022-07-13 09:38:39,486 Parameters: omega_radiation           = 0.0\n",
      "yt : [INFO     ] 2022-07-13 09:38:39,487 Parameters: hubble_constant           = 0.695\n"
     ]
    },
    {
     "name": "stdout",
     "output_type": "stream",
     "text": [
      "get_refine_box: using this location:       col1         col2     col3     col4     col5     col6     col7   col8\n",
      "---------------- -------- -------- -------- -------- -------- -------- ----\n",
      "0.62074084812024 0.490704 0.478329 0.505051 0.492704 0.480329 0.507051    9\n"
     ]
    },
    {
     "name": "stderr",
     "output_type": "stream",
     "text": [
      "Parsing Hierarchy : 100%|████████████████| 6122/6122 [00:00<00:00, 17991.16it/s]\n",
      "yt : [INFO     ] 2022-07-13 09:38:40,060 Gathering a field list (this may take a moment.)\n",
      "yt : [WARNING  ] 2022-07-13 09:38:42,836 The stars particle filter already exists. Overriding.\n",
      "yt : [WARNING  ] 2022-07-13 09:38:42,836 The DM particle filter already exists. Overriding.\n"
     ]
    },
    {
     "name": "stdout",
     "output_type": "stream",
     "text": [
      "Pulling halo center from catalog file\n",
      "Opening snapshot /Volumes/TempestTimeSteps/DD1347/DD1347\n"
     ]
    },
    {
     "name": "stderr",
     "output_type": "stream",
     "text": [
      "yt : [INFO     ] 2022-07-13 09:38:43,019 Parameters: current_time              = 369.56652781829\n",
      "yt : [INFO     ] 2022-07-13 09:38:43,021 Parameters: domain_dimensions         = [256 256 256]\n",
      "yt : [INFO     ] 2022-07-13 09:38:43,024 Parameters: domain_left_edge          = [0. 0. 0.]\n",
      "yt : [INFO     ] 2022-07-13 09:38:43,027 Parameters: domain_right_edge         = [1. 1. 1.]\n",
      "yt : [INFO     ] 2022-07-13 09:38:43,027 Parameters: cosmological_simulation   = 1\n",
      "yt : [INFO     ] 2022-07-13 09:38:43,028 Parameters: current_redshift          = 0.60370561098879\n",
      "yt : [INFO     ] 2022-07-13 09:38:43,028 Parameters: omega_lambda              = 0.715\n",
      "yt : [INFO     ] 2022-07-13 09:38:43,029 Parameters: omega_matter              = 0.285\n",
      "yt : [INFO     ] 2022-07-13 09:38:43,030 Parameters: omega_radiation           = 0.0\n",
      "yt : [INFO     ] 2022-07-13 09:38:43,030 Parameters: hubble_constant           = 0.695\n"
     ]
    },
    {
     "name": "stdout",
     "output_type": "stream",
     "text": [
      "get_refine_box: using this location:       col1         col2    col3     col4     col5    col6     col7   col8\n",
      "---------------- ------- -------- -------- ------- -------- -------- ----\n",
      "0.60370561098879 0.49066 0.478148 0.505129 0.49266 0.480148 0.507129    9\n"
     ]
    },
    {
     "name": "stderr",
     "output_type": "stream",
     "text": [
      "Parsing Hierarchy : 100%|████████████████| 6238/6238 [00:00<00:00, 17553.44it/s]\n",
      "yt : [INFO     ] 2022-07-13 09:38:43,616 Gathering a field list (this may take a moment.)\n",
      "yt : [WARNING  ] 2022-07-13 09:38:46,573 The stars particle filter already exists. Overriding.\n",
      "yt : [WARNING  ] 2022-07-13 09:38:46,574 The DM particle filter already exists. Overriding.\n"
     ]
    },
    {
     "name": "stdout",
     "output_type": "stream",
     "text": [
      "Pulling halo center from catalog file\n",
      "Opening snapshot /Volumes/TempestTimeSteps/DD1367/DD1367\n"
     ]
    },
    {
     "name": "stderr",
     "output_type": "stream",
     "text": [
      "yt : [INFO     ] 2022-07-13 09:38:46,746 Parameters: current_time              = 374.56652781829\n",
      "yt : [INFO     ] 2022-07-13 09:38:46,748 Parameters: domain_dimensions         = [256 256 256]\n",
      "yt : [INFO     ] 2022-07-13 09:38:46,751 Parameters: domain_left_edge          = [0. 0. 0.]\n",
      "yt : [INFO     ] 2022-07-13 09:38:46,753 Parameters: domain_right_edge         = [1. 1. 1.]\n",
      "yt : [INFO     ] 2022-07-13 09:38:46,753 Parameters: cosmological_simulation   = 1\n",
      "yt : [INFO     ] 2022-07-13 09:38:46,754 Parameters: current_redshift          = 0.58701307192989\n",
      "yt : [INFO     ] 2022-07-13 09:38:46,754 Parameters: omega_lambda              = 0.715\n",
      "yt : [INFO     ] 2022-07-13 09:38:46,755 Parameters: omega_matter              = 0.285\n",
      "yt : [INFO     ] 2022-07-13 09:38:46,756 Parameters: omega_radiation           = 0.0\n",
      "yt : [INFO     ] 2022-07-13 09:38:46,756 Parameters: hubble_constant           = 0.695\n"
     ]
    },
    {
     "name": "stdout",
     "output_type": "stream",
     "text": [
      "get_refine_box: using this location:       col1         col2     col3     col4     col5     col6     col7   col8\n",
      "---------------- -------- -------- -------- -------- -------- -------- ----\n",
      "0.58701307192989 0.490616 0.477969 0.505207 0.492616 0.479969 0.507207    9\n"
     ]
    },
    {
     "name": "stderr",
     "output_type": "stream",
     "text": [
      "Parsing Hierarchy : 100%|████████████████| 6198/6198 [00:00<00:00, 18896.16it/s]\n",
      "yt : [INFO     ] 2022-07-13 09:38:47,309 Gathering a field list (this may take a moment.)\n",
      "yt : [WARNING  ] 2022-07-13 09:38:50,047 The stars particle filter already exists. Overriding.\n",
      "yt : [WARNING  ] 2022-07-13 09:38:50,047 The DM particle filter already exists. Overriding.\n"
     ]
    },
    {
     "name": "stdout",
     "output_type": "stream",
     "text": [
      "Pulling halo center from catalog file\n",
      "Opening snapshot /Volumes/TempestTimeSteps/DD1387/DD1387\n"
     ]
    },
    {
     "name": "stderr",
     "output_type": "stream",
     "text": [
      "yt : [INFO     ] 2022-07-13 09:38:50,228 Parameters: current_time              = 379.56652781829\n",
      "yt : [INFO     ] 2022-07-13 09:38:50,231 Parameters: domain_dimensions         = [256 256 256]\n",
      "yt : [INFO     ] 2022-07-13 09:38:50,233 Parameters: domain_left_edge          = [0. 0. 0.]\n",
      "yt : [INFO     ] 2022-07-13 09:38:50,236 Parameters: domain_right_edge         = [1. 1. 1.]\n",
      "yt : [INFO     ] 2022-07-13 09:38:50,237 Parameters: cosmological_simulation   = 1\n",
      "yt : [INFO     ] 2022-07-13 09:38:50,237 Parameters: current_redshift          = 0.57065123346059\n",
      "yt : [INFO     ] 2022-07-13 09:38:50,238 Parameters: omega_lambda              = 0.715\n",
      "yt : [INFO     ] 2022-07-13 09:38:50,239 Parameters: omega_matter              = 0.285\n",
      "yt : [INFO     ] 2022-07-13 09:38:50,239 Parameters: omega_radiation           = 0.0\n",
      "yt : [INFO     ] 2022-07-13 09:38:50,240 Parameters: hubble_constant           = 0.695\n"
     ]
    },
    {
     "name": "stdout",
     "output_type": "stream",
     "text": [
      "get_refine_box: using this location:       col1         col2     col3     col4     col5     col6     col7   col8\n",
      "---------------- -------- -------- -------- -------- -------- -------- ----\n",
      "0.57065123346059 0.490572 0.477791 0.505288 0.492572 0.479791 0.507288    9\n"
     ]
    },
    {
     "name": "stderr",
     "output_type": "stream",
     "text": [
      "Parsing Hierarchy : 100%|█████████████████| 6136/6136 [00:05<00:00, 1214.23it/s]\n",
      "yt : [INFO     ] 2022-07-13 09:38:55,523 Gathering a field list (this may take a moment.)\n",
      "yt : [WARNING  ] 2022-07-13 09:38:58,249 The stars particle filter already exists. Overriding.\n",
      "yt : [WARNING  ] 2022-07-13 09:38:58,249 The DM particle filter already exists. Overriding.\n",
      "yt : [INFO     ] 2022-07-13 09:38:58,343 Parameters: current_time              = 384.56652781829\n",
      "yt : [INFO     ] 2022-07-13 09:38:58,345 Parameters: domain_dimensions         = [256 256 256]\n",
      "yt : [INFO     ] 2022-07-13 09:38:58,347 Parameters: domain_left_edge          = [0. 0. 0.]\n",
      "yt : [INFO     ] 2022-07-13 09:38:58,349 Parameters: domain_right_edge         = [1. 1. 1.]\n",
      "yt : [INFO     ] 2022-07-13 09:38:58,349 Parameters: cosmological_simulation   = 1\n",
      "yt : [INFO     ] 2022-07-13 09:38:58,350 Parameters: current_redshift          = 0.55460867652421\n",
      "yt : [INFO     ] 2022-07-13 09:38:58,350 Parameters: omega_lambda              = 0.715\n",
      "yt : [INFO     ] 2022-07-13 09:38:58,351 Parameters: omega_matter              = 0.285\n",
      "yt : [INFO     ] 2022-07-13 09:38:58,351 Parameters: omega_radiation           = 0.0\n",
      "yt : [INFO     ] 2022-07-13 09:38:58,352 Parameters: hubble_constant           = 0.695\n"
     ]
    },
    {
     "name": "stdout",
     "output_type": "stream",
     "text": [
      "Pulling halo center from catalog file\n",
      "Opening snapshot /Volumes/TempestTimeSteps/DD1407/DD1407\n",
      "get_refine_box: using this location:       col1         col2     col3     col4     col5     col6     col7   col8\n",
      "---------------- -------- -------- -------- -------- -------- -------- ----\n",
      "0.55460867652421 0.490529 0.477618 0.505368 0.492529 0.479618 0.507368    9\n"
     ]
    },
    {
     "name": "stderr",
     "output_type": "stream",
     "text": [
      "Parsing Hierarchy : 100%|████████████████| 5851/5851 [00:00<00:00, 17880.05it/s]\n",
      "yt : [INFO     ] 2022-07-13 09:38:58,973 Gathering a field list (this may take a moment.)\n",
      "yt : [WARNING  ] 2022-07-13 09:39:01,683 The stars particle filter already exists. Overriding.\n",
      "yt : [WARNING  ] 2022-07-13 09:39:01,683 The DM particle filter already exists. Overriding.\n"
     ]
    },
    {
     "name": "stdout",
     "output_type": "stream",
     "text": [
      "Pulling halo center from catalog file\n",
      "Opening snapshot /Volumes/TempestTimeSteps/DD1427/DD1427\n"
     ]
    },
    {
     "name": "stderr",
     "output_type": "stream",
     "text": [
      "yt : [INFO     ] 2022-07-13 09:39:01,869 Parameters: current_time              = 389.56652781829\n",
      "yt : [INFO     ] 2022-07-13 09:39:01,872 Parameters: domain_dimensions         = [256 256 256]\n",
      "yt : [INFO     ] 2022-07-13 09:39:01,874 Parameters: domain_left_edge          = [0. 0. 0.]\n",
      "yt : [INFO     ] 2022-07-13 09:39:01,877 Parameters: domain_right_edge         = [1. 1. 1.]\n",
      "yt : [INFO     ] 2022-07-13 09:39:01,877 Parameters: cosmological_simulation   = 1\n",
      "yt : [INFO     ] 2022-07-13 09:39:01,878 Parameters: current_redshift          = 0.53887452569124\n",
      "yt : [INFO     ] 2022-07-13 09:39:01,878 Parameters: omega_lambda              = 0.715\n",
      "yt : [INFO     ] 2022-07-13 09:39:01,879 Parameters: omega_matter              = 0.285\n",
      "yt : [INFO     ] 2022-07-13 09:39:01,879 Parameters: omega_radiation           = 0.0\n",
      "yt : [INFO     ] 2022-07-13 09:39:01,880 Parameters: hubble_constant           = 0.695\n"
     ]
    },
    {
     "name": "stdout",
     "output_type": "stream",
     "text": [
      "get_refine_box: using this location:       col1         col2     col3     col4    col5     col6     col7  col8\n",
      "---------------- -------- -------- ------- -------- -------- ------- ----\n",
      "0.53887452569124 0.490487 0.477448 0.50545 0.492487 0.479448 0.50745    9\n"
     ]
    },
    {
     "name": "stderr",
     "output_type": "stream",
     "text": [
      "Parsing Hierarchy : 100%|████████████████| 5833/5833 [00:00<00:00, 19047.47it/s]\n",
      "yt : [INFO     ] 2022-07-13 09:39:02,398 Gathering a field list (this may take a moment.)\n",
      "yt : [WARNING  ] 2022-07-13 09:39:05,107 The stars particle filter already exists. Overriding.\n",
      "yt : [WARNING  ] 2022-07-13 09:39:05,107 The DM particle filter already exists. Overriding.\n"
     ]
    },
    {
     "name": "stdout",
     "output_type": "stream",
     "text": [
      "Pulling halo center from catalog file\n",
      "Opening snapshot /Volumes/TempestTimeSteps/DD1447/DD1447\n"
     ]
    },
    {
     "name": "stderr",
     "output_type": "stream",
     "text": [
      "yt : [INFO     ] 2022-07-13 09:39:05,283 Parameters: current_time              = 394.56652781829\n",
      "yt : [INFO     ] 2022-07-13 09:39:05,285 Parameters: domain_dimensions         = [256 256 256]\n",
      "yt : [INFO     ] 2022-07-13 09:39:05,287 Parameters: domain_left_edge          = [0. 0. 0.]\n",
      "yt : [INFO     ] 2022-07-13 09:39:05,290 Parameters: domain_right_edge         = [1. 1. 1.]\n",
      "yt : [INFO     ] 2022-07-13 09:39:05,291 Parameters: cosmological_simulation   = 1\n",
      "yt : [INFO     ] 2022-07-13 09:39:05,291 Parameters: current_redshift          = 0.52343841686509\n",
      "yt : [INFO     ] 2022-07-13 09:39:05,291 Parameters: omega_lambda              = 0.715\n",
      "yt : [INFO     ] 2022-07-13 09:39:05,292 Parameters: omega_matter              = 0.285\n",
      "yt : [INFO     ] 2022-07-13 09:39:05,292 Parameters: omega_radiation           = 0.0\n",
      "yt : [INFO     ] 2022-07-13 09:39:05,293 Parameters: hubble_constant           = 0.695\n"
     ]
    },
    {
     "name": "stdout",
     "output_type": "stream",
     "text": [
      "get_refine_box: using this location:       col1         col2     col3     col4     col5     col6     col7   col8\n",
      "---------------- -------- -------- -------- -------- -------- -------- ----\n",
      "0.52343841686509 0.490445 0.477276 0.505537 0.492445 0.479276 0.507537    9\n"
     ]
    },
    {
     "name": "stderr",
     "output_type": "stream",
     "text": [
      "Parsing Hierarchy : 100%|████████████████| 6011/6011 [00:00<00:00, 19240.18it/s]\n",
      "yt : [INFO     ] 2022-07-13 09:39:05,836 Gathering a field list (this may take a moment.)\n",
      "yt : [WARNING  ] 2022-07-13 09:39:08,604 The stars particle filter already exists. Overriding.\n",
      "yt : [WARNING  ] 2022-07-13 09:39:08,605 The DM particle filter already exists. Overriding.\n"
     ]
    },
    {
     "name": "stdout",
     "output_type": "stream",
     "text": [
      "Pulling halo center from catalog file\n",
      "Opening snapshot /Volumes/TempestTimeSteps/DD1467/DD1467\n"
     ]
    },
    {
     "name": "stderr",
     "output_type": "stream",
     "text": [
      "yt : [INFO     ] 2022-07-13 09:39:08,791 Parameters: current_time              = 399.56652781829\n",
      "yt : [INFO     ] 2022-07-13 09:39:08,793 Parameters: domain_dimensions         = [256 256 256]\n",
      "yt : [INFO     ] 2022-07-13 09:39:08,795 Parameters: domain_left_edge          = [0. 0. 0.]\n",
      "yt : [INFO     ] 2022-07-13 09:39:08,798 Parameters: domain_right_edge         = [1. 1. 1.]\n",
      "yt : [INFO     ] 2022-07-13 09:39:08,798 Parameters: cosmological_simulation   = 1\n",
      "yt : [INFO     ] 2022-07-13 09:39:08,798 Parameters: current_redshift          = 0.50829046728324\n",
      "yt : [INFO     ] 2022-07-13 09:39:08,799 Parameters: omega_lambda              = 0.715\n",
      "yt : [INFO     ] 2022-07-13 09:39:08,800 Parameters: omega_matter              = 0.285\n",
      "yt : [INFO     ] 2022-07-13 09:39:08,801 Parameters: omega_radiation           = 0.0\n",
      "yt : [INFO     ] 2022-07-13 09:39:08,802 Parameters: hubble_constant           = 0.695\n"
     ]
    },
    {
     "name": "stdout",
     "output_type": "stream",
     "text": [
      "get_refine_box: using this location:       col1         col2     col3     col4     col5     col6     col7   col8\n",
      "---------------- -------- -------- -------- -------- -------- -------- ----\n",
      "0.50829046728324 0.490403 0.477105 0.505623 0.492403 0.479105 0.507623    9\n"
     ]
    },
    {
     "name": "stderr",
     "output_type": "stream",
     "text": [
      "Parsing Hierarchy : 100%|████████████████| 6171/6171 [00:00<00:00, 17988.99it/s]\n",
      "yt : [INFO     ] 2022-07-13 09:39:09,374 Gathering a field list (this may take a moment.)\n",
      "yt : [WARNING  ] 2022-07-13 09:39:12,169 The stars particle filter already exists. Overriding.\n",
      "yt : [WARNING  ] 2022-07-13 09:39:12,170 The DM particle filter already exists. Overriding.\n"
     ]
    },
    {
     "name": "stdout",
     "output_type": "stream",
     "text": [
      "Pulling halo center from catalog file\n",
      "Opening snapshot /Volumes/TempestTimeSteps/DD1487/DD1487\n"
     ]
    },
    {
     "name": "stderr",
     "output_type": "stream",
     "text": [
      "yt : [INFO     ] 2022-07-13 09:39:12,364 Parameters: current_time              = 404.56652781829\n",
      "yt : [INFO     ] 2022-07-13 09:39:12,366 Parameters: domain_dimensions         = [256 256 256]\n",
      "yt : [INFO     ] 2022-07-13 09:39:12,368 Parameters: domain_left_edge          = [0. 0. 0.]\n",
      "yt : [INFO     ] 2022-07-13 09:39:12,370 Parameters: domain_right_edge         = [1. 1. 1.]\n",
      "yt : [INFO     ] 2022-07-13 09:39:12,370 Parameters: cosmological_simulation   = 1\n",
      "yt : [INFO     ] 2022-07-13 09:39:12,371 Parameters: current_redshift          = 0.49342124762432\n",
      "yt : [INFO     ] 2022-07-13 09:39:12,372 Parameters: omega_lambda              = 0.715\n",
      "yt : [INFO     ] 2022-07-13 09:39:12,372 Parameters: omega_matter              = 0.285\n",
      "yt : [INFO     ] 2022-07-13 09:39:12,373 Parameters: omega_radiation           = 0.0\n",
      "yt : [INFO     ] 2022-07-13 09:39:12,374 Parameters: hubble_constant           = 0.695\n"
     ]
    },
    {
     "name": "stdout",
     "output_type": "stream",
     "text": [
      "get_refine_box: using this location:       col1         col2     col3     col4     col5     col6     col7   col8\n",
      "---------------- -------- -------- -------- -------- -------- -------- ----\n",
      "0.49342124762432 0.490359 0.476933 0.505703 0.492359 0.478933 0.507703    9\n"
     ]
    },
    {
     "name": "stderr",
     "output_type": "stream",
     "text": [
      "Parsing Hierarchy : 100%|████████████████| 5910/5910 [00:00<00:00, 18307.65it/s]\n",
      "yt : [INFO     ] 2022-07-13 09:39:12,906 Gathering a field list (this may take a moment.)\n",
      "yt : [WARNING  ] 2022-07-13 09:39:15,661 The stars particle filter already exists. Overriding.\n",
      "yt : [WARNING  ] 2022-07-13 09:39:15,662 The DM particle filter already exists. Overriding.\n",
      "yt : [INFO     ] 2022-07-13 09:39:15,769 Parameters: current_time              = 409.56652781829\n",
      "yt : [INFO     ] 2022-07-13 09:39:15,772 Parameters: domain_dimensions         = [256 256 256]\n",
      "yt : [INFO     ] 2022-07-13 09:39:15,775 Parameters: domain_left_edge          = [0. 0. 0.]\n",
      "yt : [INFO     ] 2022-07-13 09:39:15,777 Parameters: domain_right_edge         = [1. 1. 1.]\n",
      "yt : [INFO     ] 2022-07-13 09:39:15,778 Parameters: cosmological_simulation   = 1\n",
      "yt : [INFO     ] 2022-07-13 09:39:15,778 Parameters: current_redshift          = 0.47882175604921\n",
      "yt : [INFO     ] 2022-07-13 09:39:15,779 Parameters: omega_lambda              = 0.715\n",
      "yt : [INFO     ] 2022-07-13 09:39:15,780 Parameters: omega_matter              = 0.285\n",
      "yt : [INFO     ] 2022-07-13 09:39:15,780 Parameters: omega_radiation           = 0.0\n",
      "yt : [INFO     ] 2022-07-13 09:39:15,781 Parameters: hubble_constant           = 0.695\n"
     ]
    },
    {
     "name": "stdout",
     "output_type": "stream",
     "text": [
      "Pulling halo center from catalog file\n",
      "Opening snapshot /Volumes/TempestTimeSteps/DD1507/DD1507\n",
      "get_refine_box: using this location:       col1         col2     col3     col4     col5     col6     col7   col8\n",
      "---------------- -------- -------- -------- -------- -------- -------- ----\n",
      "0.47882175604921 0.490311 0.476767 0.505778 0.492311 0.478767 0.507778    9\n"
     ]
    },
    {
     "name": "stderr",
     "output_type": "stream",
     "text": [
      "Parsing Hierarchy : 100%|████████████████| 5867/5867 [00:00<00:00, 18227.51it/s]\n",
      "yt : [INFO     ] 2022-07-13 09:39:16,314 Gathering a field list (this may take a moment.)\n",
      "yt : [WARNING  ] 2022-07-13 09:39:18,975 The stars particle filter already exists. Overriding.\n",
      "yt : [WARNING  ] 2022-07-13 09:39:18,975 The DM particle filter already exists. Overriding.\n"
     ]
    },
    {
     "name": "stdout",
     "output_type": "stream",
     "text": [
      "Pulling halo center from catalog file\n",
      "Opening snapshot /Volumes/TempestTimeSteps/DD1527/DD1527\n"
     ]
    },
    {
     "name": "stderr",
     "output_type": "stream",
     "text": [
      "yt : [INFO     ] 2022-07-13 09:39:19,151 Parameters: current_time              = 414.56652781829\n",
      "yt : [INFO     ] 2022-07-13 09:39:19,154 Parameters: domain_dimensions         = [256 256 256]\n",
      "yt : [INFO     ] 2022-07-13 09:39:19,155 Parameters: domain_left_edge          = [0. 0. 0.]\n",
      "yt : [INFO     ] 2022-07-13 09:39:19,158 Parameters: domain_right_edge         = [1. 1. 1.]\n",
      "yt : [INFO     ] 2022-07-13 09:39:19,158 Parameters: cosmological_simulation   = 1\n",
      "yt : [INFO     ] 2022-07-13 09:39:19,158 Parameters: current_redshift          = 0.46448339402042\n",
      "yt : [INFO     ] 2022-07-13 09:39:19,159 Parameters: omega_lambda              = 0.715\n",
      "yt : [INFO     ] 2022-07-13 09:39:19,160 Parameters: omega_matter              = 0.285\n",
      "yt : [INFO     ] 2022-07-13 09:39:19,160 Parameters: omega_radiation           = 0.0\n",
      "yt : [INFO     ] 2022-07-13 09:39:19,161 Parameters: hubble_constant           = 0.695\n"
     ]
    },
    {
     "name": "stdout",
     "output_type": "stream",
     "text": [
      "get_refine_box: using this location:       col1         col2     col3     col4     col5     col6     col7   col8\n",
      "---------------- -------- -------- -------- -------- -------- -------- ----\n",
      "0.46448339402042 0.490271 0.476607 0.505839 0.492271 0.478607 0.507839    9\n"
     ]
    },
    {
     "name": "stderr",
     "output_type": "stream",
     "text": [
      "Parsing Hierarchy : 100%|████████████████| 5969/5969 [00:00<00:00, 18198.01it/s]\n",
      "yt : [INFO     ] 2022-07-13 09:39:19,704 Gathering a field list (this may take a moment.)\n",
      "yt : [WARNING  ] 2022-07-13 09:39:22,421 The stars particle filter already exists. Overriding.\n",
      "yt : [WARNING  ] 2022-07-13 09:39:22,422 The DM particle filter already exists. Overriding.\n",
      "yt : [INFO     ] 2022-07-13 09:39:22,517 Parameters: current_time              = 419.56652781829\n",
      "yt : [INFO     ] 2022-07-13 09:39:22,519 Parameters: domain_dimensions         = [256 256 256]\n",
      "yt : [INFO     ] 2022-07-13 09:39:22,521 Parameters: domain_left_edge          = [0. 0. 0.]\n",
      "yt : [INFO     ] 2022-07-13 09:39:22,523 Parameters: domain_right_edge         = [1. 1. 1.]\n",
      "yt : [INFO     ] 2022-07-13 09:39:22,524 Parameters: cosmological_simulation   = 1\n",
      "yt : [INFO     ] 2022-07-13 09:39:22,524 Parameters: current_redshift          = 0.45039794375812\n",
      "yt : [INFO     ] 2022-07-13 09:39:22,525 Parameters: omega_lambda              = 0.715\n",
      "yt : [INFO     ] 2022-07-13 09:39:22,525 Parameters: omega_matter              = 0.285\n",
      "yt : [INFO     ] 2022-07-13 09:39:22,526 Parameters: omega_radiation           = 0.0\n",
      "yt : [INFO     ] 2022-07-13 09:39:22,527 Parameters: hubble_constant           = 0.695\n"
     ]
    },
    {
     "name": "stdout",
     "output_type": "stream",
     "text": [
      "Pulling halo center from catalog file\n",
      "Opening snapshot /Volumes/TempestTimeSteps/DD1547/DD1547\n",
      "get_refine_box: using this location:       col1         col2     col3     col4     col5     col6     col7   col8\n",
      "---------------- -------- -------- -------- -------- -------- -------- ----\n",
      "0.45039794375812 0.490235 0.476443 0.505904 0.492235 0.478443 0.507904    9\n"
     ]
    },
    {
     "name": "stderr",
     "output_type": "stream",
     "text": [
      "Parsing Hierarchy : 100%|████████████████| 5953/5953 [00:00<00:00, 17808.21it/s]\n",
      "yt : [INFO     ] 2022-07-13 09:39:23,155 Gathering a field list (this may take a moment.)\n",
      "yt : [WARNING  ] 2022-07-13 09:39:25,972 The stars particle filter already exists. Overriding.\n",
      "yt : [WARNING  ] 2022-07-13 09:39:25,972 The DM particle filter already exists. Overriding.\n"
     ]
    },
    {
     "name": "stdout",
     "output_type": "stream",
     "text": [
      "Pulling halo center from catalog file\n",
      "Opening snapshot /Volumes/TempestTimeSteps/DD1567/DD1567\n"
     ]
    },
    {
     "name": "stderr",
     "output_type": "stream",
     "text": [
      "yt : [INFO     ] 2022-07-13 09:39:26,148 Parameters: current_time              = 424.56652781829\n",
      "yt : [INFO     ] 2022-07-13 09:39:26,150 Parameters: domain_dimensions         = [256 256 256]\n",
      "yt : [INFO     ] 2022-07-13 09:39:26,152 Parameters: domain_left_edge          = [0. 0. 0.]\n",
      "yt : [INFO     ] 2022-07-13 09:39:26,154 Parameters: domain_right_edge         = [1. 1. 1.]\n",
      "yt : [INFO     ] 2022-07-13 09:39:26,154 Parameters: cosmological_simulation   = 1\n",
      "yt : [INFO     ] 2022-07-13 09:39:26,154 Parameters: current_redshift          = 0.43654854251444\n",
      "yt : [INFO     ] 2022-07-13 09:39:26,155 Parameters: omega_lambda              = 0.715\n",
      "yt : [INFO     ] 2022-07-13 09:39:26,155 Parameters: omega_matter              = 0.285\n",
      "yt : [INFO     ] 2022-07-13 09:39:26,156 Parameters: omega_radiation           = 0\n",
      "yt : [INFO     ] 2022-07-13 09:39:26,157 Parameters: hubble_constant           = 0.695\n"
     ]
    },
    {
     "name": "stdout",
     "output_type": "stream",
     "text": [
      "get_refine_box: using this location:       col1         col2     col3     col4     col5     col6     col7   col8\n",
      "---------------- -------- -------- -------- -------- -------- -------- ----\n",
      "0.43655754720396 0.490199 0.476281 0.505972 0.492199 0.478281 0.507972    9\n"
     ]
    },
    {
     "name": "stderr",
     "output_type": "stream",
     "text": [
      "Parsing Hierarchy : 100%|████████████████| 5989/5989 [00:00<00:00, 18743.56it/s]\n",
      "yt : [INFO     ] 2022-07-13 09:39:26,681 Gathering a field list (this may take a moment.)\n",
      "yt : [WARNING  ] 2022-07-13 09:39:29,437 The stars particle filter already exists. Overriding.\n",
      "yt : [WARNING  ] 2022-07-13 09:39:29,437 The DM particle filter already exists. Overriding.\n"
     ]
    },
    {
     "name": "stdout",
     "output_type": "stream",
     "text": [
      "Pulling halo center from catalog file\n",
      "Opening snapshot /Volumes/TempestTimeSteps/DD1587/DD1587\n"
     ]
    },
    {
     "name": "stderr",
     "output_type": "stream",
     "text": [
      "yt : [INFO     ] 2022-07-13 09:39:29,621 Parameters: current_time              = 429.56652781829\n",
      "yt : [INFO     ] 2022-07-13 09:39:29,624 Parameters: domain_dimensions         = [256 256 256]\n",
      "yt : [INFO     ] 2022-07-13 09:39:29,627 Parameters: domain_left_edge          = [0. 0. 0.]\n",
      "yt : [INFO     ] 2022-07-13 09:39:29,629 Parameters: domain_right_edge         = [1. 1. 1.]\n",
      "yt : [INFO     ] 2022-07-13 09:39:29,630 Parameters: cosmological_simulation   = 1\n",
      "yt : [INFO     ] 2022-07-13 09:39:29,630 Parameters: current_redshift          = 0.42294018464771\n",
      "yt : [INFO     ] 2022-07-13 09:39:29,631 Parameters: omega_lambda              = 0.715\n",
      "yt : [INFO     ] 2022-07-13 09:39:29,632 Parameters: omega_matter              = 0.285\n",
      "yt : [INFO     ] 2022-07-13 09:39:29,632 Parameters: omega_radiation           = 0\n",
      "yt : [INFO     ] 2022-07-13 09:39:29,633 Parameters: hubble_constant           = 0.695\n"
     ]
    },
    {
     "name": "stdout",
     "output_type": "stream",
     "text": [
      "get_refine_box: using this location:       col1         col2     col3     col4     col5     col6     col7   col8\n",
      "---------------- -------- -------- -------- -------- -------- -------- ----\n",
      "0.42295468637566 0.490164 0.476115 0.506041 0.492164 0.478115 0.508041    9\n"
     ]
    },
    {
     "name": "stderr",
     "output_type": "stream",
     "text": [
      "Parsing Hierarchy : 100%|████████████████| 5816/5816 [00:00<00:00, 18353.95it/s]\n",
      "yt : [INFO     ] 2022-07-13 09:39:30,149 Gathering a field list (this may take a moment.)\n",
      "yt : [WARNING  ] 2022-07-13 09:39:32,764 The stars particle filter already exists. Overriding.\n",
      "yt : [WARNING  ] 2022-07-13 09:39:32,765 The DM particle filter already exists. Overriding.\n"
     ]
    },
    {
     "name": "stdout",
     "output_type": "stream",
     "text": [
      "Pulling halo center from catalog file\n",
      "Opening snapshot /Volumes/TempestTimeSteps/DD1607/DD1607\n"
     ]
    },
    {
     "name": "stderr",
     "output_type": "stream",
     "text": [
      "yt : [INFO     ] 2022-07-13 09:39:32,923 Parameters: current_time              = 434.56652781829\n",
      "yt : [INFO     ] 2022-07-13 09:39:32,926 Parameters: domain_dimensions         = [256 256 256]\n",
      "yt : [INFO     ] 2022-07-13 09:39:32,928 Parameters: domain_left_edge          = [0. 0. 0.]\n",
      "yt : [INFO     ] 2022-07-13 09:39:32,930 Parameters: domain_right_edge         = [1. 1. 1.]\n",
      "yt : [INFO     ] 2022-07-13 09:39:32,931 Parameters: cosmological_simulation   = 1\n",
      "yt : [INFO     ] 2022-07-13 09:39:32,931 Parameters: current_redshift          = 0.40957366338403\n",
      "yt : [INFO     ] 2022-07-13 09:39:32,932 Parameters: omega_lambda              = 0.715\n",
      "yt : [INFO     ] 2022-07-13 09:39:32,932 Parameters: omega_matter              = 0.285\n",
      "yt : [INFO     ] 2022-07-13 09:39:32,933 Parameters: omega_radiation           = 0\n",
      "yt : [INFO     ] 2022-07-13 09:39:32,934 Parameters: hubble_constant           = 0.695\n"
     ]
    },
    {
     "name": "stdout",
     "output_type": "stream",
     "text": [
      "get_refine_box: using this location:       col1        col2     col3     col4     col5     col6     col7   col8\n",
      "--------------- -------- -------- -------- -------- -------- -------- ----\n",
      "0.4095821650052 0.490128 0.475951 0.506113 0.492128 0.477951 0.508113    9\n"
     ]
    },
    {
     "name": "stderr",
     "output_type": "stream",
     "text": [
      "Parsing Hierarchy : 100%|████████████████| 5789/5789 [00:00<00:00, 18741.89it/s]\n",
      "yt : [INFO     ] 2022-07-13 09:39:33,455 Gathering a field list (this may take a moment.)\n",
      "yt : [WARNING  ] 2022-07-13 09:39:36,233 The stars particle filter already exists. Overriding.\n",
      "yt : [WARNING  ] 2022-07-13 09:39:36,234 The DM particle filter already exists. Overriding.\n"
     ]
    },
    {
     "name": "stdout",
     "output_type": "stream",
     "text": [
      "Pulling halo center from catalog file\n",
      "Opening snapshot /Volumes/TempestTimeSteps/DD1627/DD1627\n"
     ]
    },
    {
     "name": "stderr",
     "output_type": "stream",
     "text": [
      "yt : [INFO     ] 2022-07-13 09:39:36,404 Parameters: current_time              = 439.56652781829\n",
      "yt : [INFO     ] 2022-07-13 09:39:36,408 Parameters: domain_dimensions         = [256 256 256]\n",
      "yt : [INFO     ] 2022-07-13 09:39:36,410 Parameters: domain_left_edge          = [0. 0. 0.]\n",
      "yt : [INFO     ] 2022-07-13 09:39:36,412 Parameters: domain_right_edge         = [1. 1. 1.]\n",
      "yt : [INFO     ] 2022-07-13 09:39:36,413 Parameters: cosmological_simulation   = 1\n",
      "yt : [INFO     ] 2022-07-13 09:39:36,413 Parameters: current_redshift          = 0.39642584964378\n",
      "yt : [INFO     ] 2022-07-13 09:39:36,414 Parameters: omega_lambda              = 0.715\n",
      "yt : [INFO     ] 2022-07-13 09:39:36,414 Parameters: omega_matter              = 0.285\n",
      "yt : [INFO     ] 2022-07-13 09:39:36,415 Parameters: omega_radiation           = 0\n",
      "yt : [INFO     ] 2022-07-13 09:39:36,415 Parameters: hubble_constant           = 0.695\n"
     ]
    },
    {
     "name": "stdout",
     "output_type": "stream",
     "text": [
      "get_refine_box: using this location:       col1         col2     col3     col4     col5     col6     col7   col8\n",
      "---------------- -------- -------- -------- -------- -------- -------- ----\n",
      "0.39643309136323 0.490092 0.475789 0.506186 0.492092 0.477789 0.508186    9\n"
     ]
    },
    {
     "name": "stderr",
     "output_type": "stream",
     "text": [
      "Parsing Hierarchy : 100%|████████████████| 5643/5643 [00:00<00:00, 17331.56it/s]\n",
      "yt : [INFO     ] 2022-07-13 09:39:36,946 Gathering a field list (this may take a moment.)\n",
      "yt : [WARNING  ] 2022-07-13 09:39:39,545 The stars particle filter already exists. Overriding.\n",
      "yt : [WARNING  ] 2022-07-13 09:39:39,546 The DM particle filter already exists. Overriding.\n"
     ]
    },
    {
     "name": "stdout",
     "output_type": "stream",
     "text": [
      "Pulling halo center from catalog file\n",
      "Opening snapshot /Volumes/TempestTimeSteps/DD1647/DD1647\n"
     ]
    },
    {
     "name": "stderr",
     "output_type": "stream",
     "text": [
      "yt : [INFO     ] 2022-07-13 09:39:39,729 Parameters: current_time              = 444.56652781829\n",
      "yt : [INFO     ] 2022-07-13 09:39:39,731 Parameters: domain_dimensions         = [256 256 256]\n",
      "yt : [INFO     ] 2022-07-13 09:39:39,734 Parameters: domain_left_edge          = [0. 0. 0.]\n",
      "yt : [INFO     ] 2022-07-13 09:39:39,736 Parameters: domain_right_edge         = [1. 1. 1.]\n",
      "yt : [INFO     ] 2022-07-13 09:39:39,737 Parameters: cosmological_simulation   = 1\n",
      "yt : [INFO     ] 2022-07-13 09:39:39,737 Parameters: current_redshift          = 0.38348625944323\n",
      "yt : [INFO     ] 2022-07-13 09:39:39,737 Parameters: omega_lambda              = 0.715\n",
      "yt : [INFO     ] 2022-07-13 09:39:39,738 Parameters: omega_matter              = 0.285\n",
      "yt : [INFO     ] 2022-07-13 09:39:39,739 Parameters: omega_radiation           = 0\n",
      "yt : [INFO     ] 2022-07-13 09:39:39,740 Parameters: hubble_constant           = 0.695\n"
     ]
    },
    {
     "name": "stdout",
     "output_type": "stream",
     "text": [
      "get_refine_box: using this location:       col1         col2     col3     col4    col5     col6     col7  col8\n",
      "---------------- -------- -------- ------- -------- -------- ------- ----\n",
      "0.38350086218055 0.490054 0.475624 0.50626 0.492054 0.477624 0.50826    9\n"
     ]
    },
    {
     "name": "stderr",
     "output_type": "stream",
     "text": [
      "Parsing Hierarchy : 100%|████████████████| 5260/5260 [00:00<00:00, 16623.01it/s]\n",
      "yt : [INFO     ] 2022-07-13 09:39:40,256 Gathering a field list (this may take a moment.)\n",
      "yt : [WARNING  ] 2022-07-13 09:39:42,969 The stars particle filter already exists. Overriding.\n",
      "yt : [WARNING  ] 2022-07-13 09:39:42,969 The DM particle filter already exists. Overriding.\n"
     ]
    },
    {
     "name": "stdout",
     "output_type": "stream",
     "text": [
      "Pulling halo center from catalog file\n",
      "Opening snapshot /Volumes/TempestTimeSteps/DD1667/DD1667\n"
     ]
    },
    {
     "name": "stderr",
     "output_type": "stream",
     "text": [
      "yt : [INFO     ] 2022-07-13 09:39:43,136 Parameters: current_time              = 449.56652781829\n",
      "yt : [INFO     ] 2022-07-13 09:39:43,138 Parameters: domain_dimensions         = [256 256 256]\n",
      "yt : [INFO     ] 2022-07-13 09:39:43,141 Parameters: domain_left_edge          = [0. 0. 0.]\n",
      "yt : [INFO     ] 2022-07-13 09:39:43,143 Parameters: domain_right_edge         = [1. 1. 1.]\n",
      "yt : [INFO     ] 2022-07-13 09:39:43,144 Parameters: cosmological_simulation   = 1\n",
      "yt : [INFO     ] 2022-07-13 09:39:43,144 Parameters: current_redshift          = 0.37076988451991\n",
      "yt : [INFO     ] 2022-07-13 09:39:43,145 Parameters: omega_lambda              = 0.715\n",
      "yt : [INFO     ] 2022-07-13 09:39:43,146 Parameters: omega_matter              = 0.285\n",
      "yt : [INFO     ] 2022-07-13 09:39:43,146 Parameters: omega_radiation           = 0\n",
      "yt : [INFO     ] 2022-07-13 09:39:43,147 Parameters: hubble_constant           = 0.695\n"
     ]
    },
    {
     "name": "stdout",
     "output_type": "stream",
     "text": [
      "get_refine_box: using this location:       col1         col2     col3     col4     col5     col6     col7   col8\n",
      "---------------- -------- -------- -------- -------- -------- -------- ----\n",
      "0.37077914758514 0.490008 0.475464 0.506331 0.492008 0.477464 0.508331    9\n"
     ]
    },
    {
     "name": "stderr",
     "output_type": "stream",
     "text": [
      "Parsing Hierarchy : 100%|████████████████| 5350/5350 [00:00<00:00, 19640.10it/s]\n",
      "yt : [INFO     ] 2022-07-13 09:39:43,624 Gathering a field list (this may take a moment.)\n",
      "yt : [WARNING  ] 2022-07-13 09:39:46,717 The stars particle filter already exists. Overriding.\n",
      "yt : [WARNING  ] 2022-07-13 09:39:46,718 The DM particle filter already exists. Overriding.\n"
     ]
    },
    {
     "name": "stdout",
     "output_type": "stream",
     "text": [
      "Pulling halo center from catalog file\n",
      "Opening snapshot /Volumes/TempestTimeSteps/DD1687/DD1687\n"
     ]
    },
    {
     "name": "stderr",
     "output_type": "stream",
     "text": [
      "yt : [INFO     ] 2022-07-13 09:39:46,864 Parameters: current_time              = 454.56652781829\n",
      "yt : [INFO     ] 2022-07-13 09:39:46,866 Parameters: domain_dimensions         = [256 256 256]\n",
      "yt : [INFO     ] 2022-07-13 09:39:46,869 Parameters: domain_left_edge          = [0. 0. 0.]\n",
      "yt : [INFO     ] 2022-07-13 09:39:46,872 Parameters: domain_right_edge         = [1. 1. 1.]\n",
      "yt : [INFO     ] 2022-07-13 09:39:46,873 Parameters: cosmological_simulation   = 1\n",
      "yt : [INFO     ] 2022-07-13 09:39:46,874 Parameters: current_redshift          = 0.35825474228483\n",
      "yt : [INFO     ] 2022-07-13 09:39:46,874 Parameters: omega_lambda              = 0.715\n",
      "yt : [INFO     ] 2022-07-13 09:39:46,875 Parameters: omega_matter              = 0.285\n",
      "yt : [INFO     ] 2022-07-13 09:39:46,876 Parameters: omega_radiation           = 0\n",
      "yt : [INFO     ] 2022-07-13 09:39:46,877 Parameters: hubble_constant           = 0.695\n"
     ]
    },
    {
     "name": "stdout",
     "output_type": "stream",
     "text": [
      "get_refine_box: using this location:       col1         col2    col3     col4     col5    col6     col7   col8\n",
      "---------------- ------- -------- -------- ------- -------- -------- ----\n",
      "0.35826187698009 0.48997 0.475304 0.506398 0.49197 0.477304 0.508398    9\n"
     ]
    },
    {
     "name": "stderr",
     "output_type": "stream",
     "text": [
      "Parsing Hierarchy : 100%|████████████████| 5327/5327 [00:00<00:00, 13970.26it/s]\n",
      "yt : [INFO     ] 2022-07-13 09:39:47,495 Gathering a field list (this may take a moment.)\n",
      "yt : [WARNING  ] 2022-07-13 09:39:50,525 The stars particle filter already exists. Overriding.\n",
      "yt : [WARNING  ] 2022-07-13 09:39:50,526 The DM particle filter already exists. Overriding.\n"
     ]
    },
    {
     "name": "stdout",
     "output_type": "stream",
     "text": [
      "Pulling halo center from catalog file\n",
      "Opening snapshot /Volumes/TempestTimeSteps/DD1707/DD1707\n"
     ]
    },
    {
     "name": "stderr",
     "output_type": "stream",
     "text": [
      "yt : [INFO     ] 2022-07-13 09:39:50,687 Parameters: current_time              = 459.56652781829\n",
      "yt : [INFO     ] 2022-07-13 09:39:50,689 Parameters: domain_dimensions         = [256 256 256]\n",
      "yt : [INFO     ] 2022-07-13 09:39:50,692 Parameters: domain_left_edge          = [0. 0. 0.]\n",
      "yt : [INFO     ] 2022-07-13 09:39:50,695 Parameters: domain_right_edge         = [1. 1. 1.]\n",
      "yt : [INFO     ] 2022-07-13 09:39:50,695 Parameters: cosmological_simulation   = 1\n",
      "yt : [INFO     ] 2022-07-13 09:39:50,696 Parameters: current_redshift          = 0.34592847874001\n",
      "yt : [INFO     ] 2022-07-13 09:39:50,696 Parameters: omega_lambda              = 0.715\n",
      "yt : [INFO     ] 2022-07-13 09:39:50,696 Parameters: omega_matter              = 0.285\n",
      "yt : [INFO     ] 2022-07-13 09:39:50,697 Parameters: omega_radiation           = 0\n",
      "yt : [INFO     ] 2022-07-13 09:39:50,697 Parameters: hubble_constant           = 0.695\n"
     ]
    },
    {
     "name": "stdout",
     "output_type": "stream",
     "text": [
      "get_refine_box: using this location:       col1        col2     col3     col4     col5     col6     col7   col8\n",
      "--------------- -------- -------- -------- -------- -------- -------- ----\n",
      "0.3459432257941 0.489933 0.475144 0.506463 0.491933 0.477144 0.508463    9\n"
     ]
    },
    {
     "name": "stderr",
     "output_type": "stream",
     "text": [
      "Parsing Hierarchy : 100%|████████████████| 5353/5353 [00:00<00:00, 16349.48it/s]\n",
      "yt : [INFO     ] 2022-07-13 09:39:51,249 Gathering a field list (this may take a moment.)\n",
      "yt : [WARNING  ] 2022-07-13 09:39:54,027 The stars particle filter already exists. Overriding.\n",
      "yt : [WARNING  ] 2022-07-13 09:39:54,027 The DM particle filter already exists. Overriding.\n"
     ]
    },
    {
     "name": "stdout",
     "output_type": "stream",
     "text": [
      "Pulling halo center from catalog file\n",
      "Opening snapshot /Volumes/TempestTimeSteps/DD1727/DD1727\n"
     ]
    },
    {
     "name": "stderr",
     "output_type": "stream",
     "text": [
      "yt : [INFO     ] 2022-07-13 09:39:54,208 Parameters: current_time              = 464.56652781829\n",
      "yt : [INFO     ] 2022-07-13 09:39:54,211 Parameters: domain_dimensions         = [256 256 256]\n",
      "yt : [INFO     ] 2022-07-13 09:39:54,213 Parameters: domain_left_edge          = [0. 0. 0.]\n",
      "yt : [INFO     ] 2022-07-13 09:39:54,215 Parameters: domain_right_edge         = [1. 1. 1.]\n",
      "yt : [INFO     ] 2022-07-13 09:39:54,216 Parameters: cosmological_simulation   = 1\n",
      "yt : [INFO     ] 2022-07-13 09:39:54,216 Parameters: current_redshift          = 0.33380915572466\n",
      "yt : [INFO     ] 2022-07-13 09:39:54,217 Parameters: omega_lambda              = 0.715\n",
      "yt : [INFO     ] 2022-07-13 09:39:54,218 Parameters: omega_matter              = 0.285\n",
      "yt : [INFO     ] 2022-07-13 09:39:54,218 Parameters: omega_radiation           = 0\n",
      "yt : [INFO     ] 2022-07-13 09:39:54,219 Parameters: hubble_constant           = 0.695\n"
     ]
    },
    {
     "name": "stdout",
     "output_type": "stream",
     "text": [
      "get_refine_box: using this location:       col1         col2     col3     col4     col5     col6     col7   col8\n",
      "---------------- -------- -------- -------- -------- -------- -------- ----\n",
      "0.33381760304183 0.489899 0.474982 0.506529 0.491899 0.476982 0.508529    9\n"
     ]
    },
    {
     "name": "stderr",
     "output_type": "stream",
     "text": [
      "Parsing Hierarchy : 100%|████████████████| 5384/5384 [00:00<00:00, 16918.99it/s]\n",
      "yt : [INFO     ] 2022-07-13 09:39:54,748 Gathering a field list (this may take a moment.)\n",
      "yt : [WARNING  ] 2022-07-13 09:39:57,461 The stars particle filter already exists. Overriding.\n",
      "yt : [WARNING  ] 2022-07-13 09:39:57,461 The DM particle filter already exists. Overriding.\n"
     ]
    },
    {
     "name": "stdout",
     "output_type": "stream",
     "text": [
      "Pulling halo center from catalog file\n",
      "Opening snapshot /Volumes/TempestTimeSteps/DD1747/DD1747\n"
     ]
    },
    {
     "name": "stderr",
     "output_type": "stream",
     "text": [
      "yt : [INFO     ] 2022-07-13 09:39:57,635 Parameters: current_time              = 469.56652781829\n",
      "yt : [INFO     ] 2022-07-13 09:39:57,637 Parameters: domain_dimensions         = [256 256 256]\n",
      "yt : [INFO     ] 2022-07-13 09:39:57,640 Parameters: domain_left_edge          = [0. 0. 0.]\n",
      "yt : [INFO     ] 2022-07-13 09:39:57,642 Parameters: domain_right_edge         = [1. 1. 1.]\n",
      "yt : [INFO     ] 2022-07-13 09:39:57,643 Parameters: cosmological_simulation   = 1\n",
      "yt : [INFO     ] 2022-07-13 09:39:57,643 Parameters: current_redshift          = 0.32187097991253\n",
      "yt : [INFO     ] 2022-07-13 09:39:57,644 Parameters: omega_lambda              = 0.715\n",
      "yt : [INFO     ] 2022-07-13 09:39:57,645 Parameters: omega_matter              = 0.285\n",
      "yt : [INFO     ] 2022-07-13 09:39:57,645 Parameters: omega_radiation           = 0\n",
      "yt : [INFO     ] 2022-07-13 09:39:57,646 Parameters: hubble_constant           = 0.695\n"
     ]
    },
    {
     "name": "stdout",
     "output_type": "stream",
     "text": [
      "get_refine_box: using this location:       col1         col2     col3     col4     col5     col6     col7   col8\n",
      "---------------- -------- -------- -------- -------- -------- -------- ----\n",
      "0.32187963963644 0.489863 0.474823 0.506592 0.491863 0.476823 0.508592    9\n"
     ]
    },
    {
     "name": "stderr",
     "output_type": "stream",
     "text": [
      "Parsing Hierarchy : 100%|████████████████| 5338/5338 [00:00<00:00, 18106.82it/s]\n",
      "yt : [INFO     ] 2022-07-13 09:39:58,143 Gathering a field list (this may take a moment.)\n",
      "yt : [WARNING  ] 2022-07-13 09:40:00,823 The stars particle filter already exists. Overriding.\n",
      "yt : [WARNING  ] 2022-07-13 09:40:00,824 The DM particle filter already exists. Overriding.\n"
     ]
    },
    {
     "name": "stdout",
     "output_type": "stream",
     "text": [
      "Pulling halo center from catalog file\n",
      "Opening snapshot /Volumes/TempestTimeSteps/DD1767/DD1767\n"
     ]
    },
    {
     "name": "stderr",
     "output_type": "stream",
     "text": [
      "yt : [INFO     ] 2022-07-13 09:40:01,010 Parameters: current_time              = 474.56652781829\n",
      "yt : [INFO     ] 2022-07-13 09:40:01,013 Parameters: domain_dimensions         = [256 256 256]\n",
      "yt : [INFO     ] 2022-07-13 09:40:01,015 Parameters: domain_left_edge          = [0. 0. 0.]\n",
      "yt : [INFO     ] 2022-07-13 09:40:01,018 Parameters: domain_right_edge         = [1. 1. 1.]\n",
      "yt : [INFO     ] 2022-07-13 09:40:01,018 Parameters: cosmological_simulation   = 1\n",
      "yt : [INFO     ] 2022-07-13 09:40:01,018 Parameters: current_redshift          = 0.31010937956297\n",
      "yt : [INFO     ] 2022-07-13 09:40:01,019 Parameters: omega_lambda              = 0.715\n",
      "yt : [INFO     ] 2022-07-13 09:40:01,019 Parameters: omega_matter              = 0.285\n",
      "yt : [INFO     ] 2022-07-13 09:40:01,020 Parameters: omega_radiation           = 0\n",
      "yt : [INFO     ] 2022-07-13 09:40:01,021 Parameters: hubble_constant           = 0.695\n"
     ]
    },
    {
     "name": "stdout",
     "output_type": "stream",
     "text": [
      "get_refine_box: using this location:       col1         col2     col3     col4     col5     col6     col7   col8\n",
      "---------------- -------- -------- -------- -------- -------- -------- ----\n",
      "0.31012417740147 0.489823 0.474669 0.506653 0.491823 0.476669 0.508653    9\n"
     ]
    },
    {
     "name": "stderr",
     "output_type": "stream",
     "text": [
      "Parsing Hierarchy : 100%|████████████████| 5392/5392 [00:00<00:00, 17744.43it/s]\n",
      "yt : [INFO     ] 2022-07-13 09:40:01,534 Gathering a field list (this may take a moment.)\n",
      "yt : [WARNING  ] 2022-07-13 09:40:04,323 The stars particle filter already exists. Overriding.\n",
      "yt : [WARNING  ] 2022-07-13 09:40:04,324 The DM particle filter already exists. Overriding.\n"
     ]
    },
    {
     "name": "stdout",
     "output_type": "stream",
     "text": [
      "Pulling halo center from catalog file\n",
      "Opening snapshot /Volumes/TempestTimeSteps/DD1787/DD1787\n"
     ]
    },
    {
     "name": "stderr",
     "output_type": "stream",
     "text": [
      "yt : [INFO     ] 2022-07-13 09:40:04,504 Parameters: current_time              = 479.56652781829\n",
      "yt : [INFO     ] 2022-07-13 09:40:04,507 Parameters: domain_dimensions         = [256 256 256]\n",
      "yt : [INFO     ] 2022-07-13 09:40:04,509 Parameters: domain_left_edge          = [0. 0. 0.]\n",
      "yt : [INFO     ] 2022-07-13 09:40:04,512 Parameters: domain_right_edge         = [1. 1. 1.]\n",
      "yt : [INFO     ] 2022-07-13 09:40:04,513 Parameters: cosmological_simulation   = 1\n",
      "yt : [INFO     ] 2022-07-13 09:40:04,513 Parameters: current_redshift          = 0.29854043336148\n",
      "yt : [INFO     ] 2022-07-13 09:40:04,514 Parameters: omega_lambda              = 0.715\n",
      "yt : [INFO     ] 2022-07-13 09:40:04,514 Parameters: omega_matter              = 0.285\n",
      "yt : [INFO     ] 2022-07-13 09:40:04,515 Parameters: omega_radiation           = 0\n",
      "yt : [INFO     ] 2022-07-13 09:40:04,516 Parameters: hubble_constant           = 0.695\n"
     ]
    },
    {
     "name": "stdout",
     "output_type": "stream",
     "text": [
      "get_refine_box: using this location:       col1         col2     col3     col4     col5     col6     col7   col8\n",
      "---------------- -------- -------- -------- -------- -------- -------- ----\n",
      "0.29854625873325 0.489788 0.474513 0.506712 0.491788 0.476513 0.508712    9\n"
     ]
    },
    {
     "name": "stderr",
     "output_type": "stream",
     "text": [
      "Parsing Hierarchy : 100%|██████████████████| 5500/5500 [00:06<00:00, 910.34it/s]\n",
      "yt : [INFO     ] 2022-07-13 09:40:10,768 Gathering a field list (this may take a moment.)\n",
      "yt : [WARNING  ] 2022-07-13 09:40:13,448 The stars particle filter already exists. Overriding.\n",
      "yt : [WARNING  ] 2022-07-13 09:40:13,448 The DM particle filter already exists. Overriding.\n"
     ]
    },
    {
     "name": "stdout",
     "output_type": "stream",
     "text": [
      "Pulling halo center from catalog file\n",
      "Opening snapshot /Volumes/TempestTimeSteps/DD1807/DD1807\n"
     ]
    },
    {
     "name": "stderr",
     "output_type": "stream",
     "text": [
      "yt : [INFO     ] 2022-07-13 09:40:13,632 Parameters: current_time              = 484.56652781829\n",
      "yt : [INFO     ] 2022-07-13 09:40:13,634 Parameters: domain_dimensions         = [256 256 256]\n",
      "yt : [INFO     ] 2022-07-13 09:40:13,637 Parameters: domain_left_edge          = [0. 0. 0.]\n",
      "yt : [INFO     ] 2022-07-13 09:40:13,640 Parameters: domain_right_edge         = [1. 1. 1.]\n",
      "yt : [INFO     ] 2022-07-13 09:40:13,641 Parameters: cosmological_simulation   = 1\n",
      "yt : [INFO     ] 2022-07-13 09:40:13,641 Parameters: current_redshift          = 0.28712989799233\n",
      "yt : [INFO     ] 2022-07-13 09:40:13,642 Parameters: omega_lambda              = 0.715\n",
      "yt : [INFO     ] 2022-07-13 09:40:13,643 Parameters: omega_matter              = 0.285\n",
      "yt : [INFO     ] 2022-07-13 09:40:13,643 Parameters: omega_radiation           = 0\n",
      "yt : [INFO     ] 2022-07-13 09:40:13,644 Parameters: hubble_constant           = 0.695\n"
     ]
    },
    {
     "name": "stdout",
     "output_type": "stream",
     "text": [
      "get_refine_box: using this location:       col1         col2     col3     col4     col5     col6     col7   col8\n",
      "---------------- -------- -------- -------- -------- -------- -------- ----\n",
      "0.28714111686912 0.489754 0.474358 0.506773 0.491754 0.476358 0.508773    9\n"
     ]
    },
    {
     "name": "stderr",
     "output_type": "stream",
     "text": [
      "Parsing Hierarchy : 100%|████████████████| 5571/5571 [00:00<00:00, 19247.12it/s]\n",
      "yt : [INFO     ] 2022-07-13 09:40:14,163 Gathering a field list (this may take a moment.)\n",
      "yt : [WARNING  ] 2022-07-13 09:40:17,061 The stars particle filter already exists. Overriding.\n",
      "yt : [WARNING  ] 2022-07-13 09:40:17,062 The DM particle filter already exists. Overriding.\n"
     ]
    },
    {
     "name": "stdout",
     "output_type": "stream",
     "text": [
      "Pulling halo center from catalog file\n",
      "Opening snapshot /Volumes/TempestTimeSteps/DD1827/DD1827\n"
     ]
    },
    {
     "name": "stderr",
     "output_type": "stream",
     "text": [
      "yt : [INFO     ] 2022-07-13 09:40:17,245 Parameters: current_time              = 489.56652781829\n",
      "yt : [INFO     ] 2022-07-13 09:40:17,248 Parameters: domain_dimensions         = [256 256 256]\n",
      "yt : [INFO     ] 2022-07-13 09:40:17,250 Parameters: domain_left_edge          = [0. 0. 0.]\n",
      "yt : [INFO     ] 2022-07-13 09:40:17,252 Parameters: domain_right_edge         = [1. 1. 1.]\n",
      "yt : [INFO     ] 2022-07-13 09:40:17,253 Parameters: cosmological_simulation   = 1\n",
      "yt : [INFO     ] 2022-07-13 09:40:17,253 Parameters: current_redshift          = 0.27589007391511\n",
      "yt : [INFO     ] 2022-07-13 09:40:17,253 Parameters: omega_lambda              = 0.715\n",
      "yt : [INFO     ] 2022-07-13 09:40:17,254 Parameters: omega_matter              = 0.285\n",
      "yt : [INFO     ] 2022-07-13 09:40:17,254 Parameters: omega_radiation           = 0\n",
      "yt : [INFO     ] 2022-07-13 09:40:17,255 Parameters: hubble_constant           = 0.695\n"
     ]
    },
    {
     "name": "stdout",
     "output_type": "stream",
     "text": [
      "get_refine_box: using this location:       col1         col2     col3     col4     col5     col6     col7   col8\n",
      "---------------- -------- -------- -------- -------- -------- -------- ----\n",
      "0.27590416672012 0.489722 0.474205 0.506831 0.491722 0.476205 0.508831    9\n"
     ]
    },
    {
     "name": "stderr",
     "output_type": "stream",
     "text": [
      "Parsing Hierarchy : 100%|████████████████| 5461/5461 [00:00<00:00, 18246.52it/s]\n",
      "yt : [INFO     ] 2022-07-13 09:40:17,756 Gathering a field list (this may take a moment.)\n",
      "yt : [WARNING  ] 2022-07-13 09:40:20,446 The stars particle filter already exists. Overriding.\n",
      "yt : [WARNING  ] 2022-07-13 09:40:20,447 The DM particle filter already exists. Overriding.\n"
     ]
    },
    {
     "name": "stdout",
     "output_type": "stream",
     "text": [
      "Pulling halo center from catalog file\n",
      "Opening snapshot /Volumes/TempestTimeSteps/DD1847/DD1847\n"
     ]
    },
    {
     "name": "stderr",
     "output_type": "stream",
     "text": [
      "yt : [INFO     ] 2022-07-13 09:40:20,630 Parameters: current_time              = 494.56652781829\n",
      "yt : [INFO     ] 2022-07-13 09:40:20,633 Parameters: domain_dimensions         = [256 256 256]\n",
      "yt : [INFO     ] 2022-07-13 09:40:20,635 Parameters: domain_left_edge          = [0. 0. 0.]\n",
      "yt : [INFO     ] 2022-07-13 09:40:20,638 Parameters: domain_right_edge         = [1. 1. 1.]\n",
      "yt : [INFO     ] 2022-07-13 09:40:20,638 Parameters: cosmological_simulation   = 1\n",
      "yt : [INFO     ] 2022-07-13 09:40:20,639 Parameters: current_redshift          = 0.26483030656369\n",
      "yt : [INFO     ] 2022-07-13 09:40:20,640 Parameters: omega_lambda              = 0.715\n",
      "yt : [INFO     ] 2022-07-13 09:40:20,640 Parameters: omega_matter              = 0.285\n",
      "yt : [INFO     ] 2022-07-13 09:40:20,641 Parameters: omega_radiation           = 0\n",
      "yt : [INFO     ] 2022-07-13 09:40:20,642 Parameters: hubble_constant           = 0.695\n"
     ]
    },
    {
     "name": "stdout",
     "output_type": "stream",
     "text": [
      "get_refine_box: using this location:       col1         col2     col3     col4     col5     col6     col7   col8\n",
      "---------------- -------- -------- -------- -------- -------- -------- ----\n",
      "0.26483099622996 0.489687 0.474055 0.506892 0.491687 0.476055 0.508892    9\n"
     ]
    },
    {
     "name": "stderr",
     "output_type": "stream",
     "text": [
      "Parsing Hierarchy : 100%|████████████████| 5127/5127 [00:00<00:00, 18583.68it/s]\n",
      "yt : [INFO     ] 2022-07-13 09:40:21,109 Gathering a field list (this may take a moment.)\n",
      "yt : [WARNING  ] 2022-07-13 09:40:23,812 The stars particle filter already exists. Overriding.\n",
      "yt : [WARNING  ] 2022-07-13 09:40:23,812 The DM particle filter already exists. Overriding.\n"
     ]
    },
    {
     "name": "stdout",
     "output_type": "stream",
     "text": [
      "Pulling halo center from catalog file\n",
      "Opening snapshot /Volumes/TempestTimeSteps/DD1867/DD1867\n"
     ]
    },
    {
     "name": "stderr",
     "output_type": "stream",
     "text": [
      "yt : [INFO     ] 2022-07-13 09:40:23,988 Parameters: current_time              = 499.56652781829\n",
      "yt : [INFO     ] 2022-07-13 09:40:23,991 Parameters: domain_dimensions         = [256 256 256]\n",
      "yt : [INFO     ] 2022-07-13 09:40:23,994 Parameters: domain_left_edge          = [0. 0. 0.]\n",
      "yt : [INFO     ] 2022-07-13 09:40:23,996 Parameters: domain_right_edge         = [1. 1. 1.]\n",
      "yt : [INFO     ] 2022-07-13 09:40:23,997 Parameters: cosmological_simulation   = 1\n",
      "yt : [INFO     ] 2022-07-13 09:40:23,997 Parameters: current_redshift          = 0.25390358705733\n",
      "yt : [INFO     ] 2022-07-13 09:40:23,998 Parameters: omega_lambda              = 0.715\n",
      "yt : [INFO     ] 2022-07-13 09:40:23,998 Parameters: omega_matter              = 0.285\n",
      "yt : [INFO     ] 2022-07-13 09:40:23,999 Parameters: omega_radiation           = 0\n",
      "yt : [INFO     ] 2022-07-13 09:40:24,000 Parameters: hubble_constant           = 0.695\n"
     ]
    },
    {
     "name": "stdout",
     "output_type": "stream",
     "text": [
      "get_refine_box: using this location:       col1         col2     col3     col4     col5     col6     col7   col8\n",
      "---------------- -------- -------- -------- -------- -------- -------- ----\n",
      "0.25391735822521 0.489653 0.473906 0.506947 0.491653 0.475906 0.508947    9\n"
     ]
    },
    {
     "name": "stderr",
     "output_type": "stream",
     "text": [
      "Parsing Hierarchy : 100%|████████████████| 5143/5143 [00:00<00:00, 18400.64it/s]\n",
      "yt : [INFO     ] 2022-07-13 09:40:24,472 Gathering a field list (this may take a moment.)\n",
      "yt : [WARNING  ] 2022-07-13 09:40:27,136 The stars particle filter already exists. Overriding.\n",
      "yt : [WARNING  ] 2022-07-13 09:40:27,136 The DM particle filter already exists. Overriding.\n"
     ]
    },
    {
     "name": "stdout",
     "output_type": "stream",
     "text": [
      "Pulling halo center from catalog file\n",
      "Opening snapshot /Volumes/TempestTimeSteps/DD1887/DD1887\n"
     ]
    },
    {
     "name": "stderr",
     "output_type": "stream",
     "text": [
      "yt : [INFO     ] 2022-07-13 09:40:27,326 Parameters: current_time              = 504.56652781829\n",
      "yt : [INFO     ] 2022-07-13 09:40:27,328 Parameters: domain_dimensions         = [256 256 256]\n",
      "yt : [INFO     ] 2022-07-13 09:40:27,331 Parameters: domain_left_edge          = [0. 0. 0.]\n",
      "yt : [INFO     ] 2022-07-13 09:40:27,334 Parameters: domain_right_edge         = [1. 1. 1.]\n",
      "yt : [INFO     ] 2022-07-13 09:40:27,335 Parameters: cosmological_simulation   = 1\n",
      "yt : [INFO     ] 2022-07-13 09:40:27,335 Parameters: current_redshift          = 0.24314759224344\n",
      "yt : [INFO     ] 2022-07-13 09:40:27,336 Parameters: omega_lambda              = 0.715\n",
      "yt : [INFO     ] 2022-07-13 09:40:27,337 Parameters: omega_matter              = 0.285\n",
      "yt : [INFO     ] 2022-07-13 09:40:27,337 Parameters: omega_radiation           = 0\n",
      "yt : [INFO     ] 2022-07-13 09:40:27,338 Parameters: hubble_constant           = 0.695\n"
     ]
    },
    {
     "name": "stdout",
     "output_type": "stream",
     "text": [
      "get_refine_box: using this location:       col1         col2     col3     col4     col5     col6     col7   col8\n",
      "---------------- -------- -------- -------- -------- -------- -------- ----\n",
      "0.24315916272406 0.489623 0.473759 0.507006 0.491623 0.475759 0.509006    9\n"
     ]
    },
    {
     "name": "stderr",
     "output_type": "stream",
     "text": [
      "Parsing Hierarchy : 100%|████████████████| 4839/4839 [00:00<00:00, 18432.39it/s]\n",
      "yt : [INFO     ] 2022-07-13 09:40:27,799 Gathering a field list (this may take a moment.)\n",
      "yt : [WARNING  ] 2022-07-13 09:40:30,503 The stars particle filter already exists. Overriding.\n",
      "yt : [WARNING  ] 2022-07-13 09:40:30,503 The DM particle filter already exists. Overriding.\n"
     ]
    },
    {
     "name": "stdout",
     "output_type": "stream",
     "text": [
      "Pulling halo center from catalog file\n",
      "Opening snapshot /Volumes/TempestTimeSteps/DD1907/DD1907\n"
     ]
    },
    {
     "name": "stderr",
     "output_type": "stream",
     "text": [
      "yt : [INFO     ] 2022-07-13 09:40:30,679 Parameters: current_time              = 509.56652781829\n",
      "yt : [INFO     ] 2022-07-13 09:40:30,681 Parameters: domain_dimensions         = [256 256 256]\n",
      "yt : [INFO     ] 2022-07-13 09:40:30,683 Parameters: domain_left_edge          = [0. 0. 0.]\n",
      "yt : [INFO     ] 2022-07-13 09:40:30,686 Parameters: domain_right_edge         = [1. 1. 1.]\n",
      "yt : [INFO     ] 2022-07-13 09:40:30,687 Parameters: cosmological_simulation   = 1\n",
      "yt : [INFO     ] 2022-07-13 09:40:30,687 Parameters: current_redshift          = 0.23254622398407\n",
      "yt : [INFO     ] 2022-07-13 09:40:30,687 Parameters: omega_lambda              = 0.715\n",
      "yt : [INFO     ] 2022-07-13 09:40:30,688 Parameters: omega_matter              = 0.285\n",
      "yt : [INFO     ] 2022-07-13 09:40:30,689 Parameters: omega_radiation           = 0\n",
      "yt : [INFO     ] 2022-07-13 09:40:30,689 Parameters: hubble_constant           = 0.695\n"
     ]
    },
    {
     "name": "stdout",
     "output_type": "stream",
     "text": [
      "get_refine_box: using this location:       col1        col2     col3     col4     col5     col6     col7   col8\n",
      "--------------- -------- -------- -------- -------- -------- -------- ----\n",
      "0.2325524696738 0.489592 0.473612 0.507067 0.491592 0.475612 0.509067    9\n"
     ]
    },
    {
     "name": "stderr",
     "output_type": "stream",
     "text": [
      "Parsing Hierarchy : 100%|████████████████| 4729/4729 [00:00<00:00, 18164.98it/s]\n",
      "yt : [INFO     ] 2022-07-13 09:40:31,135 Gathering a field list (this may take a moment.)\n",
      "yt : [WARNING  ] 2022-07-13 09:40:33,777 The stars particle filter already exists. Overriding.\n",
      "yt : [WARNING  ] 2022-07-13 09:40:33,777 The DM particle filter already exists. Overriding.\n"
     ]
    },
    {
     "name": "stdout",
     "output_type": "stream",
     "text": [
      "Pulling halo center from catalog file\n",
      "Opening snapshot /Volumes/TempestTimeSteps/DD1927/DD1927\n"
     ]
    },
    {
     "name": "stderr",
     "output_type": "stream",
     "text": [
      "yt : [INFO     ] 2022-07-13 09:40:33,961 Parameters: current_time              = 514.56652781829\n",
      "yt : [INFO     ] 2022-07-13 09:40:33,963 Parameters: domain_dimensions         = [256 256 256]\n",
      "yt : [INFO     ] 2022-07-13 09:40:33,966 Parameters: domain_left_edge          = [0. 0. 0.]\n",
      "yt : [INFO     ] 2022-07-13 09:40:33,968 Parameters: domain_right_edge         = [1. 1. 1.]\n",
      "yt : [INFO     ] 2022-07-13 09:40:33,969 Parameters: cosmological_simulation   = 1\n",
      "yt : [INFO     ] 2022-07-13 09:40:33,969 Parameters: current_redshift          = 0.2220785334236\n",
      "yt : [INFO     ] 2022-07-13 09:40:33,970 Parameters: omega_lambda              = 0.715\n",
      "yt : [INFO     ] 2022-07-13 09:40:33,971 Parameters: omega_matter              = 0.285\n",
      "yt : [INFO     ] 2022-07-13 09:40:33,971 Parameters: omega_radiation           = 0\n",
      "yt : [INFO     ] 2022-07-13 09:40:33,972 Parameters: hubble_constant           = 0.695\n"
     ]
    },
    {
     "name": "stdout",
     "output_type": "stream",
     "text": [
      "get_refine_box: using this location:      col1        col2     col3     col4     col5     col6     col7   col8\n",
      "-------------- -------- -------- -------- -------- -------- -------- ----\n",
      "0.222093482089 0.489563 0.473471 0.507126 0.491563 0.475471 0.509126    9\n"
     ]
    },
    {
     "name": "stderr",
     "output_type": "stream",
     "text": [
      "Parsing Hierarchy : 100%|████████████████| 5012/5012 [00:00<00:00, 18703.58it/s]\n",
      "yt : [INFO     ] 2022-07-13 09:40:34,428 Gathering a field list (this may take a moment.)\n",
      "yt : [WARNING  ] 2022-07-13 09:40:37,101 The stars particle filter already exists. Overriding.\n",
      "yt : [WARNING  ] 2022-07-13 09:40:37,101 The DM particle filter already exists. Overriding.\n"
     ]
    },
    {
     "name": "stdout",
     "output_type": "stream",
     "text": [
      "Pulling halo center from catalog file\n",
      "Opening snapshot /Volumes/TempestTimeSteps/DD1947/DD1947\n"
     ]
    },
    {
     "name": "stderr",
     "output_type": "stream",
     "text": [
      "yt : [INFO     ] 2022-07-13 09:40:37,294 Parameters: current_time              = 519.56652781829\n",
      "yt : [INFO     ] 2022-07-13 09:40:37,296 Parameters: domain_dimensions         = [256 256 256]\n",
      "yt : [INFO     ] 2022-07-13 09:40:37,298 Parameters: domain_left_edge          = [0. 0. 0.]\n",
      "yt : [INFO     ] 2022-07-13 09:40:37,300 Parameters: domain_right_edge         = [1. 1. 1.]\n",
      "yt : [INFO     ] 2022-07-13 09:40:37,301 Parameters: cosmological_simulation   = 1\n",
      "yt : [INFO     ] 2022-07-13 09:40:37,302 Parameters: current_redshift          = 0.21177265783797\n",
      "yt : [INFO     ] 2022-07-13 09:40:37,302 Parameters: omega_lambda              = 0.715\n",
      "yt : [INFO     ] 2022-07-13 09:40:37,303 Parameters: omega_matter              = 0.285\n",
      "yt : [INFO     ] 2022-07-13 09:40:37,304 Parameters: omega_radiation           = 0\n",
      "yt : [INFO     ] 2022-07-13 09:40:37,304 Parameters: hubble_constant           = 0.695\n"
     ]
    },
    {
     "name": "stdout",
     "output_type": "stream",
     "text": [
      "get_refine_box: using this location:       col1         col2     col3    col4     col5     col6    col7   col8\n",
      "---------------- -------- ------- -------- -------- ------- -------- ----\n",
      "0.21177853956479 0.489535 0.47333 0.507189 0.491535 0.47533 0.509189    9\n"
     ]
    },
    {
     "name": "stderr",
     "output_type": "stream",
     "text": [
      "Parsing Hierarchy : 100%|████████████████| 5317/5317 [00:00<00:00, 17440.90it/s]\n",
      "yt : [INFO     ] 2022-07-13 09:40:37,817 Gathering a field list (this may take a moment.)\n",
      "yt : [WARNING  ] 2022-07-13 09:40:40,587 The stars particle filter already exists. Overriding.\n",
      "yt : [WARNING  ] 2022-07-13 09:40:40,587 The DM particle filter already exists. Overriding.\n"
     ]
    },
    {
     "name": "stdout",
     "output_type": "stream",
     "text": [
      "Pulling halo center from catalog file\n",
      "Opening snapshot /Volumes/TempestTimeSteps/DD1967/DD1967\n"
     ]
    },
    {
     "name": "stderr",
     "output_type": "stream",
     "text": [
      "yt : [INFO     ] 2022-07-13 09:40:40,765 Parameters: current_time              = 524.56652781829\n",
      "yt : [INFO     ] 2022-07-13 09:40:40,767 Parameters: domain_dimensions         = [256 256 256]\n",
      "yt : [INFO     ] 2022-07-13 09:40:40,770 Parameters: domain_left_edge          = [0. 0. 0.]\n",
      "yt : [INFO     ] 2022-07-13 09:40:40,772 Parameters: domain_right_edge         = [1. 1. 1.]\n",
      "yt : [INFO     ] 2022-07-13 09:40:40,772 Parameters: cosmological_simulation   = 1\n",
      "yt : [INFO     ] 2022-07-13 09:40:40,773 Parameters: current_redshift          = 0.20159208404487\n",
      "yt : [INFO     ] 2022-07-13 09:40:40,773 Parameters: omega_lambda              = 0.715\n",
      "yt : [INFO     ] 2022-07-13 09:40:40,774 Parameters: omega_matter              = 0.285\n",
      "yt : [INFO     ] 2022-07-13 09:40:40,775 Parameters: omega_radiation           = 0\n",
      "yt : [INFO     ] 2022-07-13 09:40:40,775 Parameters: hubble_constant           = 0.695\n"
     ]
    },
    {
     "name": "stdout",
     "output_type": "stream",
     "text": [
      "get_refine_box: using this location:       col1         col2     col3     col4    col5     col6     col7  col8\n",
      "---------------- -------- -------- ------- -------- -------- ------- ----\n",
      "0.20160411214129 0.489504 0.473191 0.50725 0.491504 0.475191 0.50925    9\n"
     ]
    },
    {
     "name": "stderr",
     "output_type": "stream",
     "text": [
      "Parsing Hierarchy : 100%|████████████████| 5322/5322 [00:00<00:00, 18471.67it/s]\n",
      "yt : [INFO     ] 2022-07-13 09:40:41,258 Gathering a field list (this may take a moment.)\n",
      "yt : [WARNING  ] 2022-07-13 09:40:43,968 The stars particle filter already exists. Overriding.\n",
      "yt : [WARNING  ] 2022-07-13 09:40:43,969 The DM particle filter already exists. Overriding.\n"
     ]
    },
    {
     "name": "stdout",
     "output_type": "stream",
     "text": [
      "Pulling halo center from catalog file\n",
      "Opening snapshot /Volumes/TempestTimeSteps/DD1987/DD1987\n"
     ]
    },
    {
     "name": "stderr",
     "output_type": "stream",
     "text": [
      "yt : [INFO     ] 2022-07-13 09:40:44,145 Parameters: current_time              = 529.56652781829\n",
      "yt : [INFO     ] 2022-07-13 09:40:44,147 Parameters: domain_dimensions         = [256 256 256]\n",
      "yt : [INFO     ] 2022-07-13 09:40:44,149 Parameters: domain_left_edge          = [0. 0. 0.]\n",
      "yt : [INFO     ] 2022-07-13 09:40:44,152 Parameters: domain_right_edge         = [1. 1. 1.]\n",
      "yt : [INFO     ] 2022-07-13 09:40:44,152 Parameters: cosmological_simulation   = 1\n",
      "yt : [INFO     ] 2022-07-13 09:40:44,153 Parameters: current_redshift          = 0.191553635351\n",
      "yt : [INFO     ] 2022-07-13 09:40:44,153 Parameters: omega_lambda              = 0.715\n",
      "yt : [INFO     ] 2022-07-13 09:40:44,154 Parameters: omega_matter              = 0.285\n",
      "yt : [INFO     ] 2022-07-13 09:40:44,154 Parameters: omega_radiation           = 0\n",
      "yt : [INFO     ] 2022-07-13 09:40:44,155 Parameters: hubble_constant           = 0.695\n"
     ]
    },
    {
     "name": "stdout",
     "output_type": "stream",
     "text": [
      "get_refine_box: using this location:       col1         col2     col3     col4     col5     col6     col7   col8\n",
      "---------------- -------- -------- -------- -------- -------- -------- ----\n",
      "0.19156679449708 0.489476 0.473053 0.507311 0.491476 0.475053 0.509311    9\n"
     ]
    },
    {
     "name": "stderr",
     "output_type": "stream",
     "text": [
      "Parsing Hierarchy : 100%|████████████████| 5118/5118 [00:00<00:00, 18964.57it/s]\n",
      "yt : [INFO     ] 2022-07-13 09:40:44,626 Gathering a field list (this may take a moment.)\n",
      "yt : [WARNING  ] 2022-07-13 09:40:47,314 The stars particle filter already exists. Overriding.\n",
      "yt : [WARNING  ] 2022-07-13 09:40:47,315 The DM particle filter already exists. Overriding.\n"
     ]
    },
    {
     "name": "stdout",
     "output_type": "stream",
     "text": [
      "Pulling halo center from catalog file\n",
      "Opening snapshot /Volumes/TempestTimeSteps/DD2007/DD2007\n"
     ]
    },
    {
     "name": "stderr",
     "output_type": "stream",
     "text": [
      "yt : [INFO     ] 2022-07-13 09:40:47,496 Parameters: current_time              = 534.56652781829\n",
      "yt : [INFO     ] 2022-07-13 09:40:47,498 Parameters: domain_dimensions         = [256 256 256]\n",
      "yt : [INFO     ] 2022-07-13 09:40:47,500 Parameters: domain_left_edge          = [0. 0. 0.]\n",
      "yt : [INFO     ] 2022-07-13 09:40:47,502 Parameters: domain_right_edge         = [1. 1. 1.]\n",
      "yt : [INFO     ] 2022-07-13 09:40:47,503 Parameters: cosmological_simulation   = 1\n",
      "yt : [INFO     ] 2022-07-13 09:40:47,503 Parameters: current_redshift          = 0.18165941968054\n",
      "yt : [INFO     ] 2022-07-13 09:40:47,504 Parameters: omega_lambda              = 0.715\n",
      "yt : [INFO     ] 2022-07-13 09:40:47,505 Parameters: omega_matter              = 0.285\n",
      "yt : [INFO     ] 2022-07-13 09:40:47,506 Parameters: omega_radiation           = 0\n",
      "yt : [INFO     ] 2022-07-13 09:40:47,506 Parameters: hubble_constant           = 0.695\n"
     ]
    },
    {
     "name": "stdout",
     "output_type": "stream",
     "text": [
      "get_refine_box: using this location:       col1         col2     col3     col4     col5     col6     col7   col8\n",
      "---------------- -------- -------- -------- -------- -------- -------- ----\n",
      "0.18166330045117 0.489447 0.472918 0.507372 0.491447 0.474918 0.509372    9\n"
     ]
    },
    {
     "name": "stderr",
     "output_type": "stream",
     "text": [
      "Parsing Hierarchy : 100%|████████████████| 5188/5188 [00:00<00:00, 18591.26it/s]\n",
      "yt : [INFO     ] 2022-07-13 09:40:47,978 Gathering a field list (this may take a moment.)\n",
      "yt : [WARNING  ] 2022-07-13 09:40:50,647 The stars particle filter already exists. Overriding.\n",
      "yt : [WARNING  ] 2022-07-13 09:40:50,648 The DM particle filter already exists. Overriding.\n"
     ]
    },
    {
     "name": "stdout",
     "output_type": "stream",
     "text": [
      "Pulling halo center from catalog file\n",
      "Opening snapshot /Volumes/TempestTimeSteps/DD2027/DD2027\n"
     ]
    },
    {
     "name": "stderr",
     "output_type": "stream",
     "text": [
      "yt : [INFO     ] 2022-07-13 09:40:50,825 Parameters: current_time              = 539.56652781829\n",
      "yt : [INFO     ] 2022-07-13 09:40:50,828 Parameters: domain_dimensions         = [256 256 256]\n",
      "yt : [INFO     ] 2022-07-13 09:40:50,832 Parameters: domain_left_edge          = [0. 0. 0.]\n",
      "yt : [INFO     ] 2022-07-13 09:40:50,834 Parameters: domain_right_edge         = [1. 1. 1.]\n",
      "yt : [INFO     ] 2022-07-13 09:40:50,835 Parameters: cosmological_simulation   = 1\n",
      "yt : [INFO     ] 2022-07-13 09:40:50,835 Parameters: current_redshift          = 0.1718756018899\n",
      "yt : [INFO     ] 2022-07-13 09:40:50,836 Parameters: omega_lambda              = 0.715\n",
      "yt : [INFO     ] 2022-07-13 09:40:50,837 Parameters: omega_matter              = 0.285\n",
      "yt : [INFO     ] 2022-07-13 09:40:50,837 Parameters: omega_radiation           = 0\n",
      "yt : [INFO     ] 2022-07-13 09:40:50,838 Parameters: hubble_constant           = 0.695\n"
     ]
    },
    {
     "name": "stdout",
     "output_type": "stream",
     "text": [
      "get_refine_box: using this location:       col1        col2    col3     col4     col5    col6     col7   col8\n",
      "--------------- ------- -------- -------- ------- -------- -------- ----\n",
      "0.1718904577544 0.48942 0.472783 0.507435 0.49142 0.474783 0.509435    9\n"
     ]
    },
    {
     "name": "stderr",
     "output_type": "stream",
     "text": [
      "Parsing Hierarchy : 100%|████████████████| 5220/5220 [00:00<00:00, 18118.26it/s]\n",
      "yt : [INFO     ] 2022-07-13 09:40:51,324 Gathering a field list (this may take a moment.)\n",
      "yt : [WARNING  ] 2022-07-13 09:40:53,930 The stars particle filter already exists. Overriding.\n",
      "yt : [WARNING  ] 2022-07-13 09:40:53,931 The DM particle filter already exists. Overriding.\n"
     ]
    },
    {
     "name": "stdout",
     "output_type": "stream",
     "text": [
      "Pulling halo center from catalog file\n",
      "Opening snapshot /Volumes/TempestTimeSteps/DD2047/DD2047\n"
     ]
    },
    {
     "name": "stderr",
     "output_type": "stream",
     "text": [
      "yt : [INFO     ] 2022-07-13 09:40:54,111 Parameters: current_time              = 544.56652781829\n",
      "yt : [INFO     ] 2022-07-13 09:40:54,113 Parameters: domain_dimensions         = [256 256 256]\n",
      "yt : [INFO     ] 2022-07-13 09:40:54,115 Parameters: domain_left_edge          = [0. 0. 0.]\n",
      "yt : [INFO     ] 2022-07-13 09:40:54,119 Parameters: domain_right_edge         = [1. 1. 1.]\n",
      "yt : [INFO     ] 2022-07-13 09:40:54,120 Parameters: cosmological_simulation   = 1\n",
      "yt : [INFO     ] 2022-07-13 09:40:54,120 Parameters: current_redshift          = 0.1622385268912\n",
      "yt : [INFO     ] 2022-07-13 09:40:54,121 Parameters: omega_lambda              = 0.715\n",
      "yt : [INFO     ] 2022-07-13 09:40:54,121 Parameters: omega_matter              = 0.285\n",
      "yt : [INFO     ] 2022-07-13 09:40:54,122 Parameters: omega_radiation           = 0\n",
      "yt : [INFO     ] 2022-07-13 09:40:54,123 Parameters: hubble_constant           = 0.695\n"
     ]
    },
    {
     "name": "stdout",
     "output_type": "stream",
     "text": [
      "get_refine_box: using this location:       col1         col2    col3     col4     col5    col6     col7   col8\n",
      "---------------- ------- -------- -------- ------- -------- -------- ----\n",
      "0.16224520315245 0.48939 0.472649 0.507494 0.49139 0.474649 0.509494    9\n"
     ]
    },
    {
     "name": "stderr",
     "output_type": "stream",
     "text": [
      "Parsing Hierarchy : 100%|████████████████| 5096/5096 [00:00<00:00, 18513.28it/s]\n",
      "yt : [INFO     ] 2022-07-13 09:40:54,602 Gathering a field list (this may take a moment.)\n",
      "yt : [WARNING  ] 2022-07-13 09:40:57,326 The stars particle filter already exists. Overriding.\n",
      "yt : [WARNING  ] 2022-07-13 09:40:57,327 The DM particle filter already exists. Overriding.\n"
     ]
    },
    {
     "name": "stdout",
     "output_type": "stream",
     "text": [
      "Pulling halo center from catalog file\n",
      "Opening snapshot /Volumes/TempestTimeSteps/DD2067/DD2067\n"
     ]
    },
    {
     "name": "stderr",
     "output_type": "stream",
     "text": [
      "yt : [INFO     ] 2022-07-13 09:40:57,510 Parameters: current_time              = 549.56652781829\n",
      "yt : [INFO     ] 2022-07-13 09:40:57,513 Parameters: domain_dimensions         = [256 256 256]\n",
      "yt : [INFO     ] 2022-07-13 09:40:57,516 Parameters: domain_left_edge          = [0. 0. 0.]\n",
      "yt : [INFO     ] 2022-07-13 09:40:57,518 Parameters: domain_right_edge         = [1. 1. 1.]\n",
      "yt : [INFO     ] 2022-07-13 09:40:57,519 Parameters: cosmological_simulation   = 1\n",
      "yt : [INFO     ] 2022-07-13 09:40:57,519 Parameters: current_redshift          = 0.15271267325251\n",
      "yt : [INFO     ] 2022-07-13 09:40:57,520 Parameters: omega_lambda              = 0.715\n",
      "yt : [INFO     ] 2022-07-13 09:40:57,520 Parameters: omega_matter              = 0.285\n",
      "yt : [INFO     ] 2022-07-13 09:40:57,521 Parameters: omega_radiation           = 0\n",
      "yt : [INFO     ] 2022-07-13 09:40:57,522 Parameters: hubble_constant           = 0.695\n"
     ]
    },
    {
     "name": "stdout",
     "output_type": "stream",
     "text": [
      "get_refine_box: using this location:       col1         col2     col3     col4     col5     col6     col7   col8\n",
      "---------------- -------- -------- -------- -------- -------- -------- ----\n",
      "0.15272457770406 0.489359 0.472517 0.507557 0.491359 0.474517 0.509557    9\n"
     ]
    },
    {
     "name": "stderr",
     "output_type": "stream",
     "text": [
      "Parsing Hierarchy : 100%|████████████████| 5279/5279 [00:00<00:00, 18935.87it/s]\n",
      "yt : [INFO     ] 2022-07-13 09:40:57,996 Gathering a field list (this may take a moment.)\n",
      "yt : [WARNING  ] 2022-07-13 09:41:00,670 The stars particle filter already exists. Overriding.\n",
      "yt : [WARNING  ] 2022-07-13 09:41:00,671 The DM particle filter already exists. Overriding.\n"
     ]
    },
    {
     "name": "stdout",
     "output_type": "stream",
     "text": [
      "Pulling halo center from catalog file\n",
      "Opening snapshot /Volumes/TempestTimeSteps/DD2087/DD2087\n"
     ]
    },
    {
     "name": "stderr",
     "output_type": "stream",
     "text": [
      "yt : [INFO     ] 2022-07-13 09:41:00,863 Parameters: current_time              = 554.56652781829\n",
      "yt : [INFO     ] 2022-07-13 09:41:00,865 Parameters: domain_dimensions         = [256 256 256]\n",
      "yt : [INFO     ] 2022-07-13 09:41:00,868 Parameters: domain_left_edge          = [0. 0. 0.]\n",
      "yt : [INFO     ] 2022-07-13 09:41:00,870 Parameters: domain_right_edge         = [1. 1. 1.]\n",
      "yt : [INFO     ] 2022-07-13 09:41:00,871 Parameters: cosmological_simulation   = 1\n",
      "yt : [INFO     ] 2022-07-13 09:41:00,871 Parameters: current_redshift          = 0.1433128745218\n",
      "yt : [INFO     ] 2022-07-13 09:41:00,872 Parameters: omega_lambda              = 0.715\n",
      "yt : [INFO     ] 2022-07-13 09:41:00,873 Parameters: omega_matter              = 0.285\n",
      "yt : [INFO     ] 2022-07-13 09:41:00,874 Parameters: omega_radiation           = 0\n",
      "yt : [INFO     ] 2022-07-13 09:41:00,874 Parameters: hubble_constant           = 0.695\n"
     ]
    },
    {
     "name": "stdout",
     "output_type": "stream",
     "text": [
      "get_refine_box: using this location:       col1         col2     col3     col4     col5     col6     col7   col8\n",
      "---------------- -------- -------- -------- -------- -------- -------- ----\n",
      "0.14332572233908 0.489329 0.472386 0.507616 0.491329 0.474386 0.509616    9\n"
     ]
    },
    {
     "name": "stderr",
     "output_type": "stream",
     "text": [
      "Parsing Hierarchy : 100%|████████████████| 5340/5340 [00:00<00:00, 18380.40it/s]\n",
      "yt : [INFO     ] 2022-07-13 09:41:01,368 Gathering a field list (this may take a moment.)\n",
      "yt : [WARNING  ] 2022-07-13 09:41:04,013 The stars particle filter already exists. Overriding.\n",
      "yt : [WARNING  ] 2022-07-13 09:41:04,014 The DM particle filter already exists. Overriding.\n"
     ]
    },
    {
     "name": "stdout",
     "output_type": "stream",
     "text": [
      "Pulling halo center from catalog file\n",
      "Opening snapshot /Volumes/TempestTimeSteps/DD2107/DD2107\n"
     ]
    },
    {
     "name": "stderr",
     "output_type": "stream",
     "text": [
      "yt : [INFO     ] 2022-07-13 09:41:04,203 Parameters: current_time              = 559.56652781829\n",
      "yt : [INFO     ] 2022-07-13 09:41:04,205 Parameters: domain_dimensions         = [256 256 256]\n",
      "yt : [INFO     ] 2022-07-13 09:41:04,207 Parameters: domain_left_edge          = [0. 0. 0.]\n",
      "yt : [INFO     ] 2022-07-13 09:41:04,209 Parameters: domain_right_edge         = [1. 1. 1.]\n",
      "yt : [INFO     ] 2022-07-13 09:41:04,210 Parameters: cosmological_simulation   = 1\n",
      "yt : [INFO     ] 2022-07-13 09:41:04,210 Parameters: current_redshift          = 0.13404074085693\n",
      "yt : [INFO     ] 2022-07-13 09:41:04,211 Parameters: omega_lambda              = 0.715\n",
      "yt : [INFO     ] 2022-07-13 09:41:04,212 Parameters: omega_matter              = 0.285\n",
      "yt : [INFO     ] 2022-07-13 09:41:04,212 Parameters: omega_radiation           = 0\n",
      "yt : [INFO     ] 2022-07-13 09:41:04,213 Parameters: hubble_constant           = 0.695\n"
     ]
    },
    {
     "name": "stdout",
     "output_type": "stream",
     "text": [
      "get_refine_box: using this location:       col1        col2    col3     col4    col5    col6     col7   col8\n",
      "---------------- ------ -------- -------- ------ -------- -------- ----\n",
      "0.13404587364197 0.4893 0.472256 0.507677 0.4913 0.474256 0.509677    9\n"
     ]
    },
    {
     "name": "stderr",
     "output_type": "stream",
     "text": [
      "Parsing Hierarchy : 100%|████████████████| 5123/5123 [00:00<00:00, 18085.23it/s]\n",
      "yt : [INFO     ] 2022-07-13 09:41:04,701 Gathering a field list (this may take a moment.)\n",
      "yt : [WARNING  ] 2022-07-13 09:41:07,368 The stars particle filter already exists. Overriding.\n",
      "yt : [WARNING  ] 2022-07-13 09:41:07,369 The DM particle filter already exists. Overriding.\n"
     ]
    },
    {
     "name": "stdout",
     "output_type": "stream",
     "text": [
      "Pulling halo center from catalog file\n",
      "Opening snapshot /Volumes/TempestTimeSteps/DD2127/DD2127\n"
     ]
    },
    {
     "name": "stderr",
     "output_type": "stream",
     "text": [
      "yt : [INFO     ] 2022-07-13 09:41:07,555 Parameters: current_time              = 564.56652781829\n",
      "yt : [INFO     ] 2022-07-13 09:41:07,557 Parameters: domain_dimensions         = [256 256 256]\n",
      "yt : [INFO     ] 2022-07-13 09:41:07,560 Parameters: domain_left_edge          = [0. 0. 0.]\n",
      "yt : [INFO     ] 2022-07-13 09:41:07,562 Parameters: domain_right_edge         = [1. 1. 1.]\n",
      "yt : [INFO     ] 2022-07-13 09:41:07,563 Parameters: cosmological_simulation   = 1\n",
      "yt : [INFO     ] 2022-07-13 09:41:07,563 Parameters: current_redshift          = 0.12486754396875\n",
      "yt : [INFO     ] 2022-07-13 09:41:07,564 Parameters: omega_lambda              = 0.715\n",
      "yt : [INFO     ] 2022-07-13 09:41:07,564 Parameters: omega_matter              = 0.285\n",
      "yt : [INFO     ] 2022-07-13 09:41:07,565 Parameters: omega_radiation           = 0\n",
      "yt : [INFO     ] 2022-07-13 09:41:07,566 Parameters: hubble_constant           = 0.695\n"
     ]
    },
    {
     "name": "stdout",
     "output_type": "stream",
     "text": [
      "get_refine_box: using this location:       col1         col2    col3     col4     col5    col6     col7   col8\n",
      "---------------- ------- -------- -------- ------- -------- -------- ----\n",
      "0.12488235984756 0.48927 0.472126 0.507739 0.49127 0.474126 0.509739    9\n"
     ]
    },
    {
     "name": "stderr",
     "output_type": "stream",
     "text": [
      "Parsing Hierarchy : 100%|████████████████| 4705/4705 [00:00<00:00, 17938.03it/s]\n",
      "yt : [INFO     ] 2022-07-13 09:41:08,018 Gathering a field list (this may take a moment.)\n",
      "yt : [WARNING  ] 2022-07-13 09:41:10,724 The stars particle filter already exists. Overriding.\n",
      "yt : [WARNING  ] 2022-07-13 09:41:10,725 The DM particle filter already exists. Overriding.\n"
     ]
    },
    {
     "name": "stdout",
     "output_type": "stream",
     "text": [
      "Pulling halo center from catalog file\n",
      "Opening snapshot /Volumes/TempestTimeSteps/DD2147/DD2147\n"
     ]
    },
    {
     "name": "stderr",
     "output_type": "stream",
     "text": [
      "yt : [INFO     ] 2022-07-13 09:41:10,920 Parameters: current_time              = 569.56652781829\n",
      "yt : [INFO     ] 2022-07-13 09:41:10,922 Parameters: domain_dimensions         = [256 256 256]\n",
      "yt : [INFO     ] 2022-07-13 09:41:10,925 Parameters: domain_left_edge          = [0. 0. 0.]\n",
      "yt : [INFO     ] 2022-07-13 09:41:10,928 Parameters: domain_right_edge         = [1. 1. 1.]\n",
      "yt : [INFO     ] 2022-07-13 09:41:10,928 Parameters: cosmological_simulation   = 1\n",
      "yt : [INFO     ] 2022-07-13 09:41:10,929 Parameters: current_redshift          = 0.11582848603619\n",
      "yt : [INFO     ] 2022-07-13 09:41:10,929 Parameters: omega_lambda              = 0.715\n",
      "yt : [INFO     ] 2022-07-13 09:41:10,930 Parameters: omega_matter              = 0.285\n",
      "yt : [INFO     ] 2022-07-13 09:41:10,931 Parameters: omega_radiation           = 0\n",
      "yt : [INFO     ] 2022-07-13 09:41:10,931 Parameters: hubble_constant           = 0.695\n"
     ]
    },
    {
     "name": "stdout",
     "output_type": "stream",
     "text": [
      "get_refine_box: using this location:       col1         col2     col3     col4     col5     col6     col7   col8\n",
      "---------------- -------- -------- -------- -------- -------- -------- ----\n",
      "0.11583259703646 0.489241 0.471999 0.507798 0.491241 0.473999 0.509798    9\n"
     ]
    },
    {
     "name": "stderr",
     "output_type": "stream",
     "text": [
      "Parsing Hierarchy : 100%|████████████████| 4762/4762 [00:00<00:00, 16829.12it/s]\n",
      "yt : [INFO     ] 2022-07-13 09:41:11,405 Gathering a field list (this may take a moment.)\n",
      "yt : [WARNING  ] 2022-07-13 09:41:14,138 The stars particle filter already exists. Overriding.\n",
      "yt : [WARNING  ] 2022-07-13 09:41:14,139 The DM particle filter already exists. Overriding.\n"
     ]
    },
    {
     "name": "stdout",
     "output_type": "stream",
     "text": [
      "Pulling halo center from catalog file\n",
      "Opening snapshot /Volumes/TempestTimeSteps/DD2167/DD2167\n"
     ]
    },
    {
     "name": "stderr",
     "output_type": "stream",
     "text": [
      "yt : [INFO     ] 2022-07-13 09:41:14,318 Parameters: current_time              = 574.56652781829\n",
      "yt : [INFO     ] 2022-07-13 09:41:14,320 Parameters: domain_dimensions         = [256 256 256]\n",
      "yt : [INFO     ] 2022-07-13 09:41:14,323 Parameters: domain_left_edge          = [0. 0. 0.]\n",
      "yt : [INFO     ] 2022-07-13 09:41:14,325 Parameters: domain_right_edge         = [1. 1. 1.]\n",
      "yt : [INFO     ] 2022-07-13 09:41:14,326 Parameters: cosmological_simulation   = 1\n",
      "yt : [INFO     ] 2022-07-13 09:41:14,326 Parameters: current_redshift          = 0.10688078342035\n",
      "yt : [INFO     ] 2022-07-13 09:41:14,327 Parameters: omega_lambda              = 0.715\n",
      "yt : [INFO     ] 2022-07-13 09:41:14,328 Parameters: omega_matter              = 0.285\n",
      "yt : [INFO     ] 2022-07-13 09:41:14,328 Parameters: omega_radiation           = 0\n",
      "yt : [INFO     ] 2022-07-13 09:41:14,329 Parameters: hubble_constant           = 0.695\n"
     ]
    },
    {
     "name": "stdout",
     "output_type": "stream",
     "text": [
      "get_refine_box: using this location:       col1         col2     col3     col4     col5     col6     col7   col8\n",
      "---------------- -------- -------- -------- -------- -------- -------- ----\n",
      "0.10689408551869 0.489214 0.471873 0.507855 0.491214 0.473873 0.509855    9\n"
     ]
    },
    {
     "name": "stderr",
     "output_type": "stream",
     "text": [
      "Parsing Hierarchy : 100%|████████████████| 4619/4619 [00:00<00:00, 14611.44it/s]\n",
      "yt : [INFO     ] 2022-07-13 09:41:14,830 Gathering a field list (this may take a moment.)\n",
      "yt : [WARNING  ] 2022-07-13 09:41:17,462 The stars particle filter already exists. Overriding.\n",
      "yt : [WARNING  ] 2022-07-13 09:41:17,463 The DM particle filter already exists. Overriding.\n"
     ]
    },
    {
     "name": "stdout",
     "output_type": "stream",
     "text": [
      "Pulling halo center from catalog file\n",
      "Opening snapshot /Volumes/TempestTimeSteps/DD2187/DD2187\n"
     ]
    },
    {
     "name": "stderr",
     "output_type": "stream",
     "text": [
      "yt : [INFO     ] 2022-07-13 09:41:17,638 Parameters: current_time              = 579.56652781829\n",
      "yt : [INFO     ] 2022-07-13 09:41:17,641 Parameters: domain_dimensions         = [256 256 256]\n",
      "yt : [INFO     ] 2022-07-13 09:41:17,643 Parameters: domain_left_edge          = [0. 0. 0.]\n",
      "yt : [INFO     ] 2022-07-13 09:41:17,646 Parameters: domain_right_edge         = [1. 1. 1.]\n",
      "yt : [INFO     ] 2022-07-13 09:41:17,646 Parameters: cosmological_simulation   = 1\n",
      "yt : [INFO     ] 2022-07-13 09:41:17,647 Parameters: current_redshift          = 0.098053769197091\n",
      "yt : [INFO     ] 2022-07-13 09:41:17,647 Parameters: omega_lambda              = 0.715\n",
      "yt : [INFO     ] 2022-07-13 09:41:17,648 Parameters: omega_matter              = 0.285\n",
      "yt : [INFO     ] 2022-07-13 09:41:17,648 Parameters: omega_radiation           = 0\n",
      "yt : [INFO     ] 2022-07-13 09:41:17,649 Parameters: hubble_constant           = 0.695\n"
     ]
    },
    {
     "name": "stdout",
     "output_type": "stream",
     "text": [
      "get_refine_box: using this location:        col1         col2     col3     col4     col5     col6     col7   col8\n",
      "----------------- -------- -------- -------- -------- -------- -------- ----\n",
      "0.098064406394637 0.489188 0.471747 0.507912 0.491188 0.473747 0.509912    9\n"
     ]
    },
    {
     "name": "stderr",
     "output_type": "stream",
     "text": [
      "Parsing Hierarchy : 100%|████████████████| 4729/4729 [00:00<00:00, 18577.73it/s]\n",
      "yt : [INFO     ] 2022-07-13 09:41:18,122 Gathering a field list (this may take a moment.)\n",
      "yt : [WARNING  ] 2022-07-13 09:41:20,742 The stars particle filter already exists. Overriding.\n",
      "yt : [WARNING  ] 2022-07-13 09:41:20,742 The DM particle filter already exists. Overriding.\n"
     ]
    },
    {
     "name": "stdout",
     "output_type": "stream",
     "text": [
      "Pulling halo center from catalog file\n",
      "Opening snapshot /Volumes/TempestTimeSteps/DD2207/DD2207\n"
     ]
    },
    {
     "name": "stderr",
     "output_type": "stream",
     "text": [
      "yt : [INFO     ] 2022-07-13 09:41:20,922 Parameters: current_time              = 584.56652781829\n",
      "yt : [INFO     ] 2022-07-13 09:41:20,925 Parameters: domain_dimensions         = [256 256 256]\n",
      "yt : [INFO     ] 2022-07-13 09:41:20,928 Parameters: domain_left_edge          = [0. 0. 0.]\n",
      "yt : [INFO     ] 2022-07-13 09:41:20,931 Parameters: domain_right_edge         = [1. 1. 1.]\n",
      "yt : [INFO     ] 2022-07-13 09:41:20,931 Parameters: cosmological_simulation   = 1\n",
      "yt : [INFO     ] 2022-07-13 09:41:20,932 Parameters: current_redshift          = 0.089332273252055\n",
      "yt : [INFO     ] 2022-07-13 09:41:20,933 Parameters: omega_lambda              = 0.715\n",
      "yt : [INFO     ] 2022-07-13 09:41:20,934 Parameters: omega_matter              = 0.285\n",
      "yt : [INFO     ] 2022-07-13 09:41:20,934 Parameters: omega_radiation           = 0\n",
      "yt : [INFO     ] 2022-07-13 09:41:20,935 Parameters: hubble_constant           = 0.695\n"
     ]
    },
    {
     "name": "stdout",
     "output_type": "stream",
     "text": [
      "get_refine_box: using this location:        col1         col2     col3     col4     col5     col6     col7   col8\n",
      "----------------- -------- -------- -------- -------- -------- -------- ----\n",
      "0.089341218283104 0.489161 0.471621 0.507969 0.491161 0.473621 0.509969    9\n"
     ]
    },
    {
     "name": "stderr",
     "output_type": "stream",
     "text": [
      "Parsing Hierarchy : 100%|████████████████| 4394/4394 [00:00<00:00, 17216.99it/s]\n",
      "yt : [INFO     ] 2022-07-13 09:41:21,368 Gathering a field list (this may take a moment.)\n",
      "yt : [WARNING  ] 2022-07-13 09:41:24,308 The stars particle filter already exists. Overriding.\n",
      "yt : [WARNING  ] 2022-07-13 09:41:24,308 The DM particle filter already exists. Overriding.\n"
     ]
    },
    {
     "name": "stdout",
     "output_type": "stream",
     "text": [
      "Pulling halo center from catalog file\n",
      "Opening snapshot /Volumes/TempestTimeSteps/DD2227/DD2227\n"
     ]
    },
    {
     "name": "stderr",
     "output_type": "stream",
     "text": [
      "yt : [INFO     ] 2022-07-13 09:41:24,495 Parameters: current_time              = 589.56652781829\n",
      "yt : [INFO     ] 2022-07-13 09:41:24,497 Parameters: domain_dimensions         = [256 256 256]\n",
      "yt : [INFO     ] 2022-07-13 09:41:24,500 Parameters: domain_left_edge          = [0. 0. 0.]\n",
      "yt : [INFO     ] 2022-07-13 09:41:24,503 Parameters: domain_right_edge         = [1. 1. 1.]\n",
      "yt : [INFO     ] 2022-07-13 09:41:24,503 Parameters: cosmological_simulation   = 1\n",
      "yt : [INFO     ] 2022-07-13 09:41:24,503 Parameters: current_redshift          = 0.080708326235905\n",
      "yt : [INFO     ] 2022-07-13 09:41:24,504 Parameters: omega_lambda              = 0.715\n",
      "yt : [INFO     ] 2022-07-13 09:41:24,505 Parameters: omega_matter              = 0.285\n",
      "yt : [INFO     ] 2022-07-13 09:41:24,505 Parameters: omega_radiation           = 0\n",
      "yt : [INFO     ] 2022-07-13 09:41:24,506 Parameters: hubble_constant           = 0.695\n"
     ]
    },
    {
     "name": "stdout",
     "output_type": "stream",
     "text": [
      "get_refine_box: using this location:        col1         col2     col3     col4     col5     col6     col7   col8\n",
      "----------------- -------- -------- -------- -------- -------- -------- ----\n",
      "0.080722254207208 0.489136 0.471499 0.508025 0.491136 0.473499 0.510025    9\n"
     ]
    },
    {
     "name": "stderr",
     "output_type": "stream",
     "text": [
      "Parsing Hierarchy : 100%|████████████████| 4637/4637 [00:00<00:00, 17428.22it/s]\n",
      "yt : [INFO     ] 2022-07-13 09:41:24,963 Gathering a field list (this may take a moment.)\n",
      "yt : [WARNING  ] 2022-07-13 09:41:27,715 The stars particle filter already exists. Overriding.\n",
      "yt : [WARNING  ] 2022-07-13 09:41:27,716 The DM particle filter already exists. Overriding.\n"
     ]
    },
    {
     "name": "stdout",
     "output_type": "stream",
     "text": [
      "Pulling halo center from catalog file\n",
      "Opening snapshot /Volumes/TempestTimeSteps/DD2247/DD2247\n"
     ]
    },
    {
     "name": "stderr",
     "output_type": "stream",
     "text": [
      "yt : [INFO     ] 2022-07-13 09:41:27,902 Parameters: current_time              = 594.56652781829\n",
      "yt : [INFO     ] 2022-07-13 09:41:27,905 Parameters: domain_dimensions         = [256 256 256]\n",
      "yt : [INFO     ] 2022-07-13 09:41:27,907 Parameters: domain_left_edge          = [0. 0. 0.]\n",
      "yt : [INFO     ] 2022-07-13 09:41:27,909 Parameters: domain_right_edge         = [1. 1. 1.]\n",
      "yt : [INFO     ] 2022-07-13 09:41:27,909 Parameters: cosmological_simulation   = 1\n",
      "yt : [INFO     ] 2022-07-13 09:41:27,910 Parameters: current_redshift          = 0.072203010646745\n",
      "yt : [INFO     ] 2022-07-13 09:41:27,910 Parameters: omega_lambda              = 0.715\n",
      "yt : [INFO     ] 2022-07-13 09:41:27,911 Parameters: omega_matter              = 0.285\n",
      "yt : [INFO     ] 2022-07-13 09:41:27,911 Parameters: omega_radiation           = 0\n",
      "yt : [INFO     ] 2022-07-13 09:41:27,912 Parameters: hubble_constant           = 0.695\n"
     ]
    },
    {
     "name": "stdout",
     "output_type": "stream",
     "text": [
      "get_refine_box: using this location:        col1         col2     col3     col4     col5     col6     col7   col8\n",
      "----------------- -------- -------- -------- -------- -------- -------- ----\n",
      "0.072205318629089 0.489111 0.471377 0.508078 0.491111 0.473377 0.510078    9\n"
     ]
    },
    {
     "name": "stderr",
     "output_type": "stream",
     "text": [
      "Parsing Hierarchy : 100%|████████████████| 4661/4661 [00:00<00:00, 17682.50it/s]\n",
      "yt : [INFO     ] 2022-07-13 09:41:28,370 Gathering a field list (this may take a moment.)\n",
      "yt : [WARNING  ] 2022-07-13 09:41:31,098 The stars particle filter already exists. Overriding.\n",
      "yt : [WARNING  ] 2022-07-13 09:41:31,100 The DM particle filter already exists. Overriding.\n"
     ]
    },
    {
     "name": "stdout",
     "output_type": "stream",
     "text": [
      "Pulling halo center from catalog file\n",
      "Opening snapshot /Volumes/TempestTimeSteps/DD2267/DD2267\n"
     ]
    },
    {
     "name": "stderr",
     "output_type": "stream",
     "text": [
      "yt : [INFO     ] 2022-07-13 09:41:31,282 Parameters: current_time              = 599.56652781829\n",
      "yt : [INFO     ] 2022-07-13 09:41:31,285 Parameters: domain_dimensions         = [256 256 256]\n",
      "yt : [INFO     ] 2022-07-13 09:41:31,288 Parameters: domain_left_edge          = [0. 0. 0.]\n",
      "yt : [INFO     ] 2022-07-13 09:41:31,291 Parameters: domain_right_edge         = [1. 1. 1.]\n",
      "yt : [INFO     ] 2022-07-13 09:41:31,292 Parameters: cosmological_simulation   = 1\n",
      "yt : [INFO     ] 2022-07-13 09:41:31,292 Parameters: current_redshift          = 0.063773742616062\n",
      "yt : [INFO     ] 2022-07-13 09:41:31,292 Parameters: omega_lambda              = 0.715\n",
      "yt : [INFO     ] 2022-07-13 09:41:31,293 Parameters: omega_matter              = 0.285\n",
      "yt : [INFO     ] 2022-07-13 09:41:31,293 Parameters: omega_radiation           = 0\n",
      "yt : [INFO     ] 2022-07-13 09:41:31,294 Parameters: hubble_constant           = 0.695\n"
     ]
    },
    {
     "name": "stdout",
     "output_type": "stream",
     "text": [
      "get_refine_box: using this location:       col1         col2     col3     col4     col5     col6     col7   col8\n",
      "---------------- -------- -------- -------- -------- -------- -------- ----\n",
      "0.06378828462523 0.489085 0.471257 0.508131 0.491085 0.473257 0.510131    9\n"
     ]
    },
    {
     "name": "stderr",
     "output_type": "stream",
     "text": [
      "Parsing Hierarchy : 100%|████████████████| 4765/4765 [00:00<00:00, 18043.02it/s]\n",
      "yt : [INFO     ] 2022-07-13 09:41:31,746 Gathering a field list (this may take a moment.)\n",
      "yt : [WARNING  ] 2022-07-13 09:41:34,398 The stars particle filter already exists. Overriding.\n",
      "yt : [WARNING  ] 2022-07-13 09:41:34,398 The DM particle filter already exists. Overriding.\n"
     ]
    },
    {
     "name": "stdout",
     "output_type": "stream",
     "text": [
      "Pulling halo center from catalog file\n",
      "Opening snapshot /Volumes/TempestTimeSteps/DD2287/DD2287\n"
     ]
    },
    {
     "name": "stderr",
     "output_type": "stream",
     "text": [
      "yt : [INFO     ] 2022-07-13 09:41:34,583 Parameters: current_time              = 604.56652781829\n",
      "yt : [INFO     ] 2022-07-13 09:41:34,585 Parameters: domain_dimensions         = [256 256 256]\n",
      "yt : [INFO     ] 2022-07-13 09:41:34,588 Parameters: domain_left_edge          = [0. 0. 0.]\n",
      "yt : [INFO     ] 2022-07-13 09:41:34,591 Parameters: domain_right_edge         = [1. 1. 1.]\n",
      "yt : [INFO     ] 2022-07-13 09:41:34,591 Parameters: cosmological_simulation   = 1\n",
      "yt : [INFO     ] 2022-07-13 09:41:34,592 Parameters: current_redshift          = 0.055464005771674\n",
      "yt : [INFO     ] 2022-07-13 09:41:34,593 Parameters: omega_lambda              = 0.715\n",
      "yt : [INFO     ] 2022-07-13 09:41:34,593 Parameters: omega_matter              = 0.285\n",
      "yt : [INFO     ] 2022-07-13 09:41:34,594 Parameters: omega_radiation           = 0\n",
      "yt : [INFO     ] 2022-07-13 09:41:34,595 Parameters: hubble_constant           = 0.695\n"
     ]
    },
    {
     "name": "stdout",
     "output_type": "stream",
     "text": [
      "get_refine_box: using this location:        col1         col2     col3     col4     col5     col6     col7   col8\n",
      "----------------- -------- -------- -------- -------- -------- -------- ----\n",
      "0.055469091194623 0.489056 0.471136 0.508185 0.491056 0.473136 0.510185    9\n"
     ]
    },
    {
     "name": "stderr",
     "output_type": "stream",
     "text": [
      "Parsing Hierarchy : 100%|████████████████| 4752/4752 [00:00<00:00, 16583.73it/s]\n",
      "yt : [INFO     ] 2022-07-13 09:41:35,068 Gathering a field list (this may take a moment.)\n",
      "yt : [WARNING  ] 2022-07-13 09:41:37,885 The stars particle filter already exists. Overriding.\n",
      "yt : [WARNING  ] 2022-07-13 09:41:37,885 The DM particle filter already exists. Overriding.\n"
     ]
    },
    {
     "name": "stdout",
     "output_type": "stream",
     "text": [
      "Pulling halo center from catalog file\n",
      "Opening snapshot /Volumes/TempestTimeSteps/DD2307/DD2307\n"
     ]
    },
    {
     "name": "stderr",
     "output_type": "stream",
     "text": [
      "yt : [INFO     ] 2022-07-13 09:41:38,073 Parameters: current_time              = 609.56652781829\n",
      "yt : [INFO     ] 2022-07-13 09:41:38,075 Parameters: domain_dimensions         = [256 256 256]\n",
      "yt : [INFO     ] 2022-07-13 09:41:38,078 Parameters: domain_left_edge          = [0. 0. 0.]\n",
      "yt : [INFO     ] 2022-07-13 09:41:38,080 Parameters: domain_right_edge         = [1. 1. 1.]\n",
      "yt : [INFO     ] 2022-07-13 09:41:38,081 Parameters: cosmological_simulation   = 1\n",
      "yt : [INFO     ] 2022-07-13 09:41:38,081 Parameters: current_redshift          = 0.047232768552278\n",
      "yt : [INFO     ] 2022-07-13 09:41:38,082 Parameters: omega_lambda              = 0.715\n",
      "yt : [INFO     ] 2022-07-13 09:41:38,082 Parameters: omega_matter              = 0.285\n",
      "yt : [INFO     ] 2022-07-13 09:41:38,082 Parameters: omega_radiation           = 0\n",
      "yt : [INFO     ] 2022-07-13 09:41:38,083 Parameters: hubble_constant           = 0.695\n"
     ]
    },
    {
     "name": "stdout",
     "output_type": "stream",
     "text": [
      "get_refine_box: using this location:       col1         col2     col3     col4     col5     col6     col7   col8\n",
      "---------------- -------- -------- -------- -------- -------- -------- ----\n",
      "0.04724574069249 0.489029 0.471018 0.508236 0.491029 0.473018 0.510236    9\n"
     ]
    },
    {
     "name": "stderr",
     "output_type": "stream",
     "text": [
      "Parsing Hierarchy : 100%|████████████████| 4568/4568 [00:00<00:00, 17246.33it/s]\n",
      "yt : [INFO     ] 2022-07-13 09:41:38,530 Gathering a field list (this may take a moment.)\n",
      "yt : [WARNING  ] 2022-07-13 09:41:41,251 The stars particle filter already exists. Overriding.\n",
      "yt : [WARNING  ] 2022-07-13 09:41:41,252 The DM particle filter already exists. Overriding.\n"
     ]
    },
    {
     "name": "stdout",
     "output_type": "stream",
     "text": [
      "Pulling halo center from catalog file\n",
      "Opening snapshot /Volumes/TempestTimeSteps/DD2327/DD2327\n"
     ]
    },
    {
     "name": "stderr",
     "output_type": "stream",
     "text": [
      "yt : [INFO     ] 2022-07-13 09:41:41,440 Parameters: current_time              = 614.56652781829\n",
      "yt : [INFO     ] 2022-07-13 09:41:41,442 Parameters: domain_dimensions         = [256 256 256]\n",
      "yt : [INFO     ] 2022-07-13 09:41:41,446 Parameters: domain_left_edge          = [0. 0. 0.]\n",
      "yt : [INFO     ] 2022-07-13 09:41:41,449 Parameters: domain_right_edge         = [1. 1. 1.]\n",
      "yt : [INFO     ] 2022-07-13 09:41:41,449 Parameters: cosmological_simulation   = 1\n",
      "yt : [INFO     ] 2022-07-13 09:41:41,450 Parameters: current_redshift          = 0.0391061686678\n",
      "yt : [INFO     ] 2022-07-13 09:41:41,450 Parameters: omega_lambda              = 0.715\n",
      "yt : [INFO     ] 2022-07-13 09:41:41,451 Parameters: omega_matter              = 0.285\n",
      "yt : [INFO     ] 2022-07-13 09:41:41,452 Parameters: omega_radiation           = 0\n",
      "yt : [INFO     ] 2022-07-13 09:41:41,452 Parameters: hubble_constant           = 0.695\n"
     ]
    },
    {
     "name": "stdout",
     "output_type": "stream",
     "text": [
      "get_refine_box: using this location:        col1         col2     col3     col4    col5     col6     col7  col8\n",
      "----------------- -------- -------- ------- -------- -------- ------- ----\n",
      "0.039116296382769 0.489003 0.470898 0.50829 0.491003 0.472898 0.51029    9\n"
     ]
    },
    {
     "name": "stderr",
     "output_type": "stream",
     "text": [
      "Parsing Hierarchy : 100%|████████████████| 4486/4486 [00:00<00:00, 17046.73it/s]\n",
      "yt : [INFO     ] 2022-07-13 09:41:41,908 Gathering a field list (this may take a moment.)\n",
      "yt : [WARNING  ] 2022-07-13 09:41:51,941 The stars particle filter already exists. Overriding.\n",
      "yt : [WARNING  ] 2022-07-13 09:41:51,942 The DM particle filter already exists. Overriding.\n"
     ]
    },
    {
     "name": "stdout",
     "output_type": "stream",
     "text": [
      "Pulling halo center from catalog file\n",
      "Opening snapshot /Volumes/TempestTimeSteps/DD2347/DD2347\n"
     ]
    },
    {
     "name": "stderr",
     "output_type": "stream",
     "text": [
      "yt : [INFO     ] 2022-07-13 09:41:52,109 Parameters: current_time              = 619.56652781829\n",
      "yt : [INFO     ] 2022-07-13 09:41:52,111 Parameters: domain_dimensions         = [256 256 256]\n",
      "yt : [INFO     ] 2022-07-13 09:41:52,114 Parameters: domain_left_edge          = [0. 0. 0.]\n",
      "yt : [INFO     ] 2022-07-13 09:41:52,116 Parameters: domain_right_edge         = [1. 1. 1.]\n",
      "yt : [INFO     ] 2022-07-13 09:41:52,116 Parameters: cosmological_simulation   = 1\n",
      "yt : [INFO     ] 2022-07-13 09:41:52,117 Parameters: current_redshift          = 0.031069228461955\n",
      "yt : [INFO     ] 2022-07-13 09:41:52,117 Parameters: omega_lambda              = 0.715\n",
      "yt : [INFO     ] 2022-07-13 09:41:52,118 Parameters: omega_matter              = 0.285\n",
      "yt : [INFO     ] 2022-07-13 09:41:52,118 Parameters: omega_radiation           = 0\n",
      "yt : [INFO     ] 2022-07-13 09:41:52,119 Parameters: hubble_constant           = 0.695\n"
     ]
    },
    {
     "name": "stdout",
     "output_type": "stream",
     "text": [
      "get_refine_box: using this location:        col1         col2     col3     col4     col5     col6     col7   col8\n",
      "----------------- -------- -------- -------- -------- -------- -------- ----\n",
      "0.031078880102952 0.488974 0.470782 0.508341 0.490974 0.472782 0.510341    9\n"
     ]
    },
    {
     "name": "stderr",
     "output_type": "stream",
     "text": [
      "Parsing Hierarchy : 100%|████████████████| 4414/4414 [00:00<00:00, 19403.62it/s]\n",
      "yt : [INFO     ] 2022-07-13 09:41:52,524 Gathering a field list (this may take a moment.)\n",
      "yt : [WARNING  ] 2022-07-13 09:41:55,109 The stars particle filter already exists. Overriding.\n",
      "yt : [WARNING  ] 2022-07-13 09:41:55,110 The DM particle filter already exists. Overriding.\n"
     ]
    },
    {
     "name": "stdout",
     "output_type": "stream",
     "text": [
      "Pulling halo center from catalog file\n",
      "Opening snapshot /Volumes/TempestTimeSteps/DD2367/DD2367\n"
     ]
    },
    {
     "name": "stderr",
     "output_type": "stream",
     "text": [
      "yt : [INFO     ] 2022-07-13 09:41:55,306 Parameters: current_time              = 624.56652781829\n",
      "yt : [INFO     ] 2022-07-13 09:41:55,308 Parameters: domain_dimensions         = [256 256 256]\n",
      "yt : [INFO     ] 2022-07-13 09:41:55,310 Parameters: domain_left_edge          = [0. 0. 0.]\n",
      "yt : [INFO     ] 2022-07-13 09:41:55,313 Parameters: domain_right_edge         = [1. 1. 1.]\n",
      "yt : [INFO     ] 2022-07-13 09:41:55,314 Parameters: cosmological_simulation   = 1\n",
      "yt : [INFO     ] 2022-07-13 09:41:55,315 Parameters: current_redshift          = 0.023118635482115\n",
      "yt : [INFO     ] 2022-07-13 09:41:55,315 Parameters: omega_lambda              = 0.715\n",
      "yt : [INFO     ] 2022-07-13 09:41:55,316 Parameters: omega_matter              = 0.285\n",
      "yt : [INFO     ] 2022-07-13 09:41:55,317 Parameters: omega_radiation           = 0\n",
      "yt : [INFO     ] 2022-07-13 09:41:55,317 Parameters: hubble_constant           = 0.695\n"
     ]
    },
    {
     "name": "stdout",
     "output_type": "stream",
     "text": [
      "get_refine_box: using this location:        col1         col2     col3     col4     col5     col6     col7   col8\n",
      "----------------- -------- -------- -------- -------- -------- -------- ----\n",
      "0.023131670035277 0.488947 0.470663 0.508391 0.490947 0.472663 0.510391    9\n"
     ]
    },
    {
     "name": "stderr",
     "output_type": "stream",
     "text": [
      "Parsing Hierarchy : 100%|████████████████| 4336/4336 [00:00<00:00, 18862.57it/s]\n",
      "yt : [INFO     ] 2022-07-13 09:41:55,746 Gathering a field list (this may take a moment.)\n",
      "yt : [WARNING  ] 2022-07-13 09:41:58,275 The stars particle filter already exists. Overriding.\n",
      "yt : [WARNING  ] 2022-07-13 09:41:58,276 The DM particle filter already exists. Overriding.\n"
     ]
    },
    {
     "name": "stdout",
     "output_type": "stream",
     "text": [
      "Pulling halo center from catalog file\n",
      "Opening snapshot /Volumes/TempestTimeSteps/DD2387/DD2387\n"
     ]
    },
    {
     "name": "stderr",
     "output_type": "stream",
     "text": [
      "yt : [INFO     ] 2022-07-13 09:41:58,462 Parameters: current_time              = 629.56652781829\n",
      "yt : [INFO     ] 2022-07-13 09:41:58,465 Parameters: domain_dimensions         = [256 256 256]\n",
      "yt : [INFO     ] 2022-07-13 09:41:58,467 Parameters: domain_left_edge          = [0. 0. 0.]\n",
      "yt : [INFO     ] 2022-07-13 09:41:58,469 Parameters: domain_right_edge         = [1. 1. 1.]\n",
      "yt : [INFO     ] 2022-07-13 09:41:58,470 Parameters: cosmological_simulation   = 1\n",
      "yt : [INFO     ] 2022-07-13 09:41:58,471 Parameters: current_redshift          = 0.015267938588785\n",
      "yt : [INFO     ] 2022-07-13 09:41:58,471 Parameters: omega_lambda              = 0.715\n",
      "yt : [INFO     ] 2022-07-13 09:41:58,472 Parameters: omega_matter              = 0.285\n",
      "yt : [INFO     ] 2022-07-13 09:41:58,472 Parameters: omega_radiation           = 0\n",
      "yt : [INFO     ] 2022-07-13 09:41:58,473 Parameters: hubble_constant           = 0.695\n"
     ]
    },
    {
     "name": "stdout",
     "output_type": "stream",
     "text": [
      "get_refine_box: using this location:        col1         col2     col3     col4    col5     col6     col7  col8\n",
      "----------------- -------- -------- ------- -------- -------- ------- ----\n",
      "0.015272898578656 0.488921 0.470547 0.50844 0.490921 0.472547 0.51044    9\n"
     ]
    },
    {
     "name": "stderr",
     "output_type": "stream",
     "text": [
      "Parsing Hierarchy : 100%|████████████████| 4456/4456 [00:00<00:00, 17193.41it/s]\n",
      "yt : [INFO     ] 2022-07-13 09:41:58,925 Gathering a field list (this may take a moment.)\n",
      "yt : [WARNING  ] 2022-07-13 09:42:01,608 The stars particle filter already exists. Overriding.\n",
      "yt : [WARNING  ] 2022-07-13 09:42:01,609 The DM particle filter already exists. Overriding.\n"
     ]
    },
    {
     "name": "stdout",
     "output_type": "stream",
     "text": [
      "Pulling halo center from catalog file\n",
      "Opening snapshot /Volumes/TempestTimeSteps/DD2407/DD2407\n"
     ]
    },
    {
     "name": "stderr",
     "output_type": "stream",
     "text": [
      "yt : [INFO     ] 2022-07-13 09:42:01,786 Parameters: current_time              = 634.56652781829\n",
      "yt : [INFO     ] 2022-07-13 09:42:01,788 Parameters: domain_dimensions         = [256 256 256]\n",
      "yt : [INFO     ] 2022-07-13 09:42:01,792 Parameters: domain_left_edge          = [0. 0. 0.]\n",
      "yt : [INFO     ] 2022-07-13 09:42:01,794 Parameters: domain_right_edge         = [1. 1. 1.]\n",
      "yt : [INFO     ] 2022-07-13 09:42:01,795 Parameters: cosmological_simulation   = 1\n",
      "yt : [INFO     ] 2022-07-13 09:42:01,796 Parameters: current_redshift          = 0.0074866626587569\n",
      "yt : [INFO     ] 2022-07-13 09:42:01,797 Parameters: omega_lambda              = 0.715\n",
      "yt : [INFO     ] 2022-07-13 09:42:01,798 Parameters: omega_matter              = 0.285\n",
      "yt : [INFO     ] 2022-07-13 09:42:01,798 Parameters: omega_radiation           = 0\n",
      "yt : [INFO     ] 2022-07-13 09:42:01,799 Parameters: hubble_constant           = 0.695\n"
     ]
    },
    {
     "name": "stdout",
     "output_type": "stream",
     "text": [
      "get_refine_box: using this location:        col1          col2     col3     col4    col5     col6     col7  col8\n",
      "------------------ -------- -------- ------- -------- -------- ------- ----\n",
      "0.0075008503160188 0.488892 0.470431 0.50849 0.490892 0.472431 0.51049    9\n"
     ]
    },
    {
     "name": "stderr",
     "output_type": "stream",
     "text": [
      "Parsing Hierarchy : 100%|████████████████| 4394/4394 [00:00<00:00, 18201.90it/s]\n",
      "yt : [INFO     ] 2022-07-13 09:42:02,224 Gathering a field list (this may take a moment.)\n",
      "yt : [WARNING  ] 2022-07-13 09:42:04,991 The stars particle filter already exists. Overriding.\n",
      "yt : [WARNING  ] 2022-07-13 09:42:04,992 The DM particle filter already exists. Overriding.\n"
     ]
    },
    {
     "name": "stdout",
     "output_type": "stream",
     "text": [
      "Pulling halo center from catalog file\n",
      "Opening snapshot /Volumes/TempestTimeSteps/DD2427/DD2427\n"
     ]
    },
    {
     "name": "stderr",
     "output_type": "stream",
     "text": [
      "yt : [INFO     ] 2022-07-13 09:42:05,174 Parameters: current_time              = 639.44480357087\n",
      "yt : [INFO     ] 2022-07-13 09:42:05,177 Parameters: domain_dimensions         = [256 256 256]\n",
      "yt : [INFO     ] 2022-07-13 09:42:05,179 Parameters: domain_left_edge          = [0. 0. 0.]\n",
      "yt : [INFO     ] 2022-07-13 09:42:05,182 Parameters: domain_right_edge         = [1. 1. 1.]\n",
      "yt : [INFO     ] 2022-07-13 09:42:05,182 Parameters: cosmological_simulation   = 1\n",
      "yt : [INFO     ] 2022-07-13 09:42:05,183 Parameters: current_redshift          = 0\n",
      "yt : [INFO     ] 2022-07-13 09:42:05,183 Parameters: omega_lambda              = 0.715\n",
      "yt : [INFO     ] 2022-07-13 09:42:05,184 Parameters: omega_matter              = 0.285\n",
      "yt : [INFO     ] 2022-07-13 09:42:05,184 Parameters: omega_radiation           = 0\n",
      "yt : [INFO     ] 2022-07-13 09:42:05,185 Parameters: hubble_constant           = 0.695\n"
     ]
    },
    {
     "name": "stdout",
     "output_type": "stream",
     "text": [
      "get_refine_box: using this location:         col1          col2     col3     col4    col5     col6     col7  col8\n",
      "------------------- -------- -------- ------- -------- -------- ------- ----\n",
      "4.4408920985006e-16 0.488865 0.470316 0.50854 0.490865 0.472316 0.51054    9\n"
     ]
    },
    {
     "name": "stderr",
     "output_type": "stream",
     "text": [
      "Parsing Hierarchy : 100%|████████████████| 4262/4262 [00:00<00:00, 18841.98it/s]\n",
      "yt : [INFO     ] 2022-07-13 09:42:05,586 Gathering a field list (this may take a moment.)\n"
     ]
    },
    {
     "name": "stdout",
     "output_type": "stream",
     "text": [
      "Pulling halo center from catalog file\n",
      "SUCCESS!\n"
     ]
    }
   ],
   "source": [
    "\"\"\"\n",
    "Now, run through ALL the files with star data in the hard drive. This should take a while.\n",
    "\"\"\"\n",
    "\n",
    "halo = 'Tempest'\n",
    "hnum = '008508'\n",
    "\n",
    "halo_c_v_name = '/Users/bnguyen/FOGGIE/foggie/halo_infos/'+hnum+'/nref11c_nref9f/halo_c_v'\n",
    "trackname = '/Users/bnguyen/FOGGIE/foggie/halo_tracks/'+hnum+'/nref11n_selfshield_15/halo_track_200kpc_nref9'\n",
    "masses_dir = '/Users/bnguyen/FOGGIE/foggie/halo_infos/'+hnum+'/nref11c_nref9f/'\n",
    "\n",
    "def StarParts(pfilter, data):\n",
    "    return data[(\"all\", \"particle_type\")] == 2 # only grab star particles\n",
    "\n",
    "def DMParts(pfilter, data):\n",
    "    return data[(\"all\", \"particle_type\")] == 4 # only grab DM particles\n",
    "\n",
    "all_snaps = np.array([], dtype='object')\n",
    "all_time_idx = np.array([], dtype='object')\n",
    "\n",
    "for snap_name in tslist:\n",
    "    add_particle_filter(\"stars\", function=StarParts, filtered_type='all', requires=[\"particle_type\"])\n",
    "    add_particle_filter(\"DM\", function=DMParts, filtered_type='all', requires=[\"particle_type\"])\n",
    "    ds, region = fog.foggie_load(snap_name, trackname, find_halo_center=True, halo_c_v_name=halo_c_v_name, disk_relative=False, \\\n",
    "                                particle_type_for_angmom='young_stars', do_filter_particles=False, gravity=False,\\\n",
    "                                region='refine_box',masses_dir=masses_dir)\n",
    "    ds.add_particle_filter('stars')\n",
    "    ds.add_particle_filter('DM')\n",
    "    \n",
    "    snapend = snap_name[-6:]\n",
    "#    print(snapend)\n",
    "    time_idx = timestep_index(sim, snapend)\n",
    "    ads = ds.all_data()\n",
    "    all_snaps = np.append(all_snaps, ds)\n",
    "    all_time_idx = np.append(all_time_idx, time_idx)\n",
    "    \n",
    "print('SUCCESS!')"
   ]
  },
  {
   "cell_type": "code",
   "execution_count": 79,
   "id": "93078a4d",
   "metadata": {},
   "outputs": [
    {
     "name": "stdout",
     "output_type": "stream",
     "text": [
      "[<Halo 'Tempest.9f11c.all.DD/DD2427/DD2427/halo_21' | NDM=517 Nstar=0 Ngas=0>\n",
      " <Halo 'Tempest.9f11c.all.DD/DD2427/DD2427/halo_109' | NDM=84 Nstar=0 Ngas=0>\n",
      " <Halo 'Tempest.9f11c.all.DD/DD2427/DD2427/halo_51' | NDM=182 Nstar=0 Ngas=0>]\n"
     ]
    }
   ],
   "source": [
    "all_sats = sim[-1][1].calculate('Satellites()')\n",
    "\n",
    "sats = np.array([], dtype='object')\n",
    "starry_idx = np.array([21, 51, 109], dtype='object')\n",
    "\n",
    "for i in range(np.size(all_sats)):\n",
    "    if all_sats[i].halo_number in starry_idx:\n",
    "        sats = np.append(sats, all_sats[i]) # this ensures we're only checking for the verified starry halos\n",
    "        \n",
    "print(sats)"
   ]
  },
  {
   "cell_type": "code",
   "execution_count": 80,
   "id": "4a0abf77",
   "metadata": {},
   "outputs": [
    {
     "name": "stdout",
     "output_type": "stream",
     "text": [
      "Success!\n"
     ]
    }
   ],
   "source": [
    "\"\"\"\n",
    "First, we find all the properties of the progenitors \n",
    "for the star-forming surviving satellites.\n",
    "\"\"\"\n",
    "\n",
    "all_sat_cen = []\n",
    "all_sat_rvir = []\n",
    "all_sat_t = []\n",
    "\n",
    "for sat_idx in starry_idx:\n",
    "    if isinstance(sim[-1][sat_idx], type(None)) is False:\n",
    "        mvir, cen, rvir, t = sim[-1][sat_idx].calculate_for_progenitors('Mvir', 'Center', 'Rvir', 't()')\n",
    "\n",
    "        all_sat_cen.append(cen) # this compiles an array of all the progenitors' centers\n",
    "        all_sat_rvir.append(rvir) # this compiles an array of all the progenitors' virial radii\n",
    "        all_sat_t.append(t)\n",
    "\n",
    "all_sat_cen = np.array(all_sat_cen, dtype='object')\n",
    "all_sat_rvir = np.array(all_sat_rvir, dtype='object')\n",
    "all_sat_t = np.array(all_sat_t, dtype='object')\n",
    "\n",
    "print('Success!')"
   ]
  },
  {
   "cell_type": "code",
   "execution_count": 149,
   "id": "68be525f",
   "metadata": {
    "scrolled": false
   },
   "outputs": [
    {
     "name": "stdout",
     "output_type": "stream",
     "text": [
      "There are 130 timesteps available in the star hard drive.\n"
     ]
    }
   ],
   "source": [
    "\"\"\"\n",
    "Now, we have to ensure that all the progenitors line up with the available \n",
    "timesteps in the star hard drive. To do that, we first have to convert \n",
    "all the time indices from the star hard drive to actual time in Gyr.\n",
    "\"\"\"\n",
    "\n",
    "available_timesteps = np.zeros(np.size(all_time_idx))\n",
    "i = 0\n",
    "while i < np.size(all_time_idx):\n",
    "    available_timesteps[i] = sim[all_time_idx[i]].time_gyr\n",
    "    i += 1\n",
    "    \n",
    "print('There are', np.size(available_timesteps), 'timesteps available in the star hard drive.')"
   ]
  },
  {
   "cell_type": "code",
   "execution_count": 157,
   "id": "e8ccd957",
   "metadata": {},
   "outputs": [],
   "source": [
    "all_centers = []\n",
    "all_rvirs = []\n",
    "all_available_snaps = []\n",
    "\n",
    "for halo in range(np.size(starry_idx)):\n",
    "    each_halo_available_centers = []\n",
    "    each_halo_available_rvirs = []\n",
    "    each_halo_available_snaps = []\n",
    "    \n",
    "    # Now, we compare the times in the snapshots to the available timesteps \n",
    "    # in order to see how many snapshots are available in the star hard drive.\n",
    "    for time in available_timesteps:\n",
    "        center = all_sat_cen[halo][all_sat_t[halo] == time]\n",
    "        rvir = all_sat_rvir[halo][all_sat_t[halo] == time]\n",
    "        if np.size(center) != 0 and np.size(rvir) != 0:\n",
    "            each_halo_available_centers.append(center)\n",
    "            each_halo_available_rvirs.append(rvir)\n",
    "            each_halo_available_snaps.append(all_snaps[available_timesteps == time])\n",
    "            \n",
    "    each_halo_available_centers = np.array(each_halo_available_centers, dtype='object')\n",
    "    each_halo_available_rvirs = np.array(each_halo_available_rvirs, dtype='object')\n",
    "    each_halo_available_snaps = np.array(each_halo_available_snaps, dtype='object')\n",
    "        \n",
    "    all_centers.append(each_halo_available_centers)\n",
    "    all_rvirs.append(each_halo_available_rvirs)\n",
    "    all_available_snaps.append(each_halo_available_snaps)\n",
    "    \n",
    "all_centers = np.array(all_centers, dtype='object')\n",
    "all_rvirs = np.array(all_rvirs, dtype='object')\n",
    "all_available_snaps = np.array(all_available_snaps, dtype='object')"
   ]
  },
  {
   "cell_type": "code",
   "execution_count": 161,
   "id": "16e05f44",
   "metadata": {},
   "outputs": [
    {
     "name": "stdout",
     "output_type": "stream",
     "text": [
      " For halo 21 there are 125 snaps in the hard drive.\n",
      " For halo 51 there are 123 snaps in the hard drive.\n",
      " For halo 109 there are 9  snaps in the hard drive.\n"
     ]
    }
   ],
   "source": [
    "print(' For halo', starry_idx[0], 'there are', np.size(all_available_snaps[0]), 'snaps in the hard drive.\\n', \\\n",
    "      'For halo', starry_idx[1], 'there are', np.size(all_available_snaps[1]), 'snaps in the hard drive.\\n', \\\n",
    "      'For halo', starry_idx[2], 'there are', np.size(all_available_snaps[2]), ' snaps in the hard drive.')"
   ]
  },
  {
   "cell_type": "code",
   "execution_count": 170,
   "id": "12e3d68a",
   "metadata": {},
   "outputs": [
    {
     "ename": "NameError",
     "evalue": "name 'all_radii' is not defined",
     "output_type": "error",
     "traceback": [
      "\u001b[0;31m---------------------------------------------------------------------------\u001b[0m",
      "\u001b[0;31mNameError\u001b[0m                                 Traceback (most recent call last)",
      "Input \u001b[0;32mIn [170]\u001b[0m, in \u001b[0;36m<cell line: 56>\u001b[0;34m()\u001b[0m\n\u001b[1;32m     54\u001b[0m loc_allstars \u001b[38;5;241m=\u001b[39m np\u001b[38;5;241m.\u001b[39marray(loc_allstars, dtype\u001b[38;5;241m=\u001b[39m\u001b[38;5;124m'\u001b[39m\u001b[38;5;124mobject\u001b[39m\u001b[38;5;124m'\u001b[39m)\n\u001b[1;32m     55\u001b[0m mass_allstars \u001b[38;5;241m=\u001b[39m np\u001b[38;5;241m.\u001b[39marray(mass_allstars, dtype\u001b[38;5;241m=\u001b[39m\u001b[38;5;124m'\u001b[39m\u001b[38;5;124mobject\u001b[39m\u001b[38;5;124m'\u001b[39m)\n\u001b[0;32m---> 56\u001b[0m all_radius_arrays \u001b[38;5;241m=\u001b[39m np\u001b[38;5;241m.\u001b[39marray(\u001b[43mall_radii\u001b[49m, dtype\u001b[38;5;241m=\u001b[39m\u001b[38;5;124m'\u001b[39m\u001b[38;5;124mobject\u001b[39m\u001b[38;5;124m'\u001b[39m)\n\u001b[1;32m     58\u001b[0m \u001b[38;5;28mprint\u001b[39m(\u001b[38;5;124m'\u001b[39m\u001b[38;5;124mSuccess!\u001b[39m\u001b[38;5;124m'\u001b[39m)\n",
      "\u001b[0;31mNameError\u001b[0m: name 'all_radii' is not defined"
     ]
    }
   ],
   "source": [
    "\"\"\"\n",
    "Now, we go through each of the satellites and get their respective mass profiles.\n",
    "\"\"\"\n",
    "\n",
    "bin_size = YTQuantity(0.25, 'kpc') # 250 pc is the resolution of the simulation\n",
    "\n",
    "starry_rvir = []\n",
    "starry_cen = []\n",
    "starry_spheres = []\n",
    "\n",
    "loc_allstars = []\n",
    "mass_allstars = []\n",
    "all_radius_arrays = []\n",
    "\n",
    "for halo in range(np.size(starry_idx)):\n",
    "    \n",
    "    # this goes through the halo at each timestep to find its Rvir and center position\n",
    "    for idx in range(np.size(all_rvirs[halo])):\n",
    "        each_cen = all_centers[halo][idx][0]\n",
    "        each_rvir = all_rvirs[halo][idx][0]\n",
    "        each_snap = all_available_snaps[halo][idx]\n",
    "            \n",
    "        # this uses yt to create spheres which contain the stars of each respective halo\n",
    "        this_halo = ds.sphere(center=each_cen,radius=each_rvir)\n",
    "        stars_loc = this_halo['stars','particle_position'].in_units('kpc')\n",
    "        corrected_stars_loc = stars_loc - each_cen # this places the halo center as the origin of its stars' coords\n",
    "        stars_mass = this_halo['stars','particle_mass'].in_units('Msun')\n",
    "        \n",
    "        # if the halo in question does not have stars, we save their indices to keep ourselves informed\n",
    "        if np.size(corrected_stars_loc) != 0:\n",
    "            \n",
    "            center_position = np.sqrt(np.sum(each_cen ** 2))\n",
    "            radius_array = np.arange(YTQuantity(0.01, 'kpc'), each_rvir, bin_size)\n",
    "\n",
    "            # next, we add all the relevant star location and mass of the halo\n",
    "            # to some numpy arrays. this is meant to break down the for loop\n",
    "            # and help the code run faster.\n",
    "            loc_allstars.append(corrected_stars_loc)\n",
    "            mass_allstars.append(stars_mass)\n",
    "            all_radius_arrays.append(radius_array)\n",
    "            \n",
    "            # finally, add the rvir and mvir into lists for later analyses\n",
    "            starry_rvir.append(each_rvir)\n",
    "            starry_cen.append(each_cen)\n",
    "            starry_spheres.append(this_halo)\n",
    "            \n",
    "# with everything done, we remove the irrelevant rvir and mvir (irrelevant as in \n",
    "# not containing stars) for convenience in the upcoming analyses.\n",
    "\n",
    "starry_rvir = np.array(starry_rvir, dtype='object')\n",
    "starry_cen = YTArray(starry_cen, 'kpc')\n",
    "starry_spheres = np.array(starry_spheres, dtype='object')\n",
    "\n",
    "loc_allstars = np.array(loc_allstars, dtype='object')\n",
    "mass_allstars = np.array(mass_allstars, dtype='object')\n",
    "all_radius_arrays = np.array(all_radius_arrays, dtype='object')\n",
    "\n",
    "print('Success!')"
   ]
  },
  {
   "cell_type": "code",
   "execution_count": null,
   "id": "d7745158",
   "metadata": {},
   "outputs": [],
   "source": []
  }
 ],
 "metadata": {
  "kernelspec": {
   "display_name": "Python 3 (ipykernel)",
   "language": "python",
   "name": "python3"
  },
  "language_info": {
   "codemirror_mode": {
    "name": "ipython",
    "version": 3
   },
   "file_extension": ".py",
   "mimetype": "text/x-python",
   "name": "python",
   "nbconvert_exporter": "python",
   "pygments_lexer": "ipython3",
   "version": "3.9.13"
  }
 },
 "nbformat": 4,
 "nbformat_minor": 5
}
