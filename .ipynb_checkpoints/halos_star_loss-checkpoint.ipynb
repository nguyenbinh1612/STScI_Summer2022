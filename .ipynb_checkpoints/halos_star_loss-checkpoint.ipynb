{
 "cells": [
  {
   "cell_type": "code",
   "execution_count": 1,
   "id": "21144156",
   "metadata": {},
   "outputs": [],
   "source": [
    "import h5py\n",
    "import tangos as db\n",
    "import numpy as np\n",
    "import matplotlib.pyplot as plt\n",
    "from mpl_toolkits.axes_grid1 import AxesGrid\n",
    "import random\n",
    "\n",
    "import foggie.utils.foggie_load as fog\n",
    "import yt\n",
    "from yt.units.yt_array import YTQuantity, YTArray\n",
    "from yt.data_objects.particle_filters import add_particle_filter\n",
    "\n",
    "import glob\n",
    "from tangos.examples.misc import timestep_index"
   ]
  },
  {
   "cell_type": "code",
   "execution_count": 2,
   "id": "e6b744b3",
   "metadata": {},
   "outputs": [],
   "source": [
    "tslist = glob.glob('/Volumes/TempestTimeSteps/DD????/DD????') \n",
    "tslist.sort()"
   ]
  },
  {
   "cell_type": "code",
   "execution_count": 3,
   "id": "64989f60",
   "metadata": {},
   "outputs": [
    {
     "data": {
      "text/plain": [
       "[<Simulation(\"Tempest.9f11c.all.DD\")>]"
      ]
     },
     "execution_count": 3,
     "metadata": {},
     "output_type": "execute_result"
    }
   ],
   "source": [
    "db.all_simulations()"
   ]
  },
  {
   "cell_type": "code",
   "execution_count": 4,
   "id": "ec9c64c7",
   "metadata": {},
   "outputs": [],
   "source": [
    "sim = db.get_simulation('Tempest.9f11c.all.DD')"
   ]
  },
  {
   "cell_type": "code",
   "execution_count": 39,
   "id": "c66e2776",
   "metadata": {
    "scrolled": true
   },
   "outputs": [
    {
     "name": "stderr",
     "output_type": "stream",
     "text": [
      "yt : [WARNING  ] 2022-07-19 14:19:53,964 The stars particle filter already exists. Overriding.\n",
      "yt : [WARNING  ] 2022-07-19 14:19:53,965 The DM particle filter already exists. Overriding.\n"
     ]
    },
    {
     "name": "stdout",
     "output_type": "stream",
     "text": [
      "Opening snapshot /Volumes/TempestTimeSteps/DD0047/DD0047\n"
     ]
    },
    {
     "name": "stderr",
     "output_type": "stream",
     "text": [
      "yt : [INFO     ] 2022-07-19 14:19:54,180 Parameters: current_time              = 44.816527818285\n",
      "yt : [INFO     ] 2022-07-19 14:19:54,182 Parameters: domain_dimensions         = [256 256 256]\n",
      "yt : [INFO     ] 2022-07-19 14:19:54,185 Parameters: domain_left_edge          = [0. 0. 0.]\n",
      "yt : [INFO     ] 2022-07-19 14:19:54,188 Parameters: domain_right_edge         = [1. 1. 1.]\n",
      "yt : [INFO     ] 2022-07-19 14:19:54,189 Parameters: cosmological_simulation   = 1\n",
      "yt : [INFO     ] 2022-07-19 14:19:54,189 Parameters: current_redshift          = 5.9180766004715\n",
      "yt : [INFO     ] 2022-07-19 14:19:54,190 Parameters: omega_lambda              = 0.715\n",
      "yt : [INFO     ] 2022-07-19 14:19:54,191 Parameters: omega_matter              = 0.285\n",
      "yt : [INFO     ] 2022-07-19 14:19:54,191 Parameters: omega_radiation           = 0.0\n",
      "yt : [INFO     ] 2022-07-19 14:19:54,192 Parameters: hubble_constant           = 0.695\n"
     ]
    },
    {
     "name": "stdout",
     "output_type": "stream",
     "text": [
      "get_refine_box: using this location:      col1       col2     col3     col4     col5     col6     col7   col8\n",
      "------------- -------- -------- -------- -------- -------- -------- ----\n",
      "5.91807660047 0.495372 0.494815 0.499965 0.497372 0.496815 0.501965    9\n"
     ]
    },
    {
     "name": "stderr",
     "output_type": "stream",
     "text": [
      "Parsing Hierarchy : 100%|████████████████| 2486/2486 [00:00<00:00, 15372.45it/s]\n",
      "yt : [INFO     ] 2022-07-19 14:19:54,534 Gathering a field list (this may take a moment.)\n"
     ]
    },
    {
     "name": "stdout",
     "output_type": "stream",
     "text": [
      "Pulling halo center from catalog file\n",
      "Opening snapshot /Volumes/TempestTimeSteps/DD0067/DD0067\n"
     ]
    },
    {
     "name": "stderr",
     "output_type": "stream",
     "text": [
      "yt : [INFO     ] 2022-07-19 14:19:58,113 Parameters: current_time              = 49.816527818285\n",
      "yt : [INFO     ] 2022-07-19 14:19:58,116 Parameters: domain_dimensions         = [256 256 256]\n",
      "yt : [INFO     ] 2022-07-19 14:19:58,118 Parameters: domain_left_edge          = [0. 0. 0.]\n",
      "yt : [INFO     ] 2022-07-19 14:19:58,121 Parameters: domain_right_edge         = [1. 1. 1.]\n",
      "yt : [INFO     ] 2022-07-19 14:19:58,122 Parameters: cosmological_simulation   = 1\n",
      "yt : [INFO     ] 2022-07-19 14:19:58,122 Parameters: current_redshift          = 5.4457876966805\n",
      "yt : [INFO     ] 2022-07-19 14:19:58,123 Parameters: omega_lambda              = 0.715\n",
      "yt : [INFO     ] 2022-07-19 14:19:58,124 Parameters: omega_matter              = 0.285\n",
      "yt : [INFO     ] 2022-07-19 14:19:58,125 Parameters: omega_radiation           = 0.0\n",
      "yt : [INFO     ] 2022-07-19 14:19:58,126 Parameters: hubble_constant           = 0.695\n"
     ]
    },
    {
     "name": "stdout",
     "output_type": "stream",
     "text": [
      "get_refine_box: using this location:      col1       col2     col3     col4     col5     col6     col7   col8\n",
      "------------- -------- -------- -------- -------- -------- -------- ----\n",
      "5.44578769668 0.495286 0.494378 0.499998 0.497286 0.496378 0.501998    9\n"
     ]
    },
    {
     "name": "stderr",
     "output_type": "stream",
     "text": [
      "Parsing Hierarchy : 100%|████████████████| 2552/2552 [00:00<00:00, 15757.45it/s]\n",
      "yt : [INFO     ] 2022-07-19 14:19:58,462 Gathering a field list (this may take a moment.)\n"
     ]
    },
    {
     "name": "stdout",
     "output_type": "stream",
     "text": [
      "Pulling halo center from catalog file\n",
      "Opening snapshot /Volumes/TempestTimeSteps/DD0087/DD0087\n"
     ]
    },
    {
     "name": "stderr",
     "output_type": "stream",
     "text": [
      "yt : [INFO     ] 2022-07-19 14:20:02,798 Parameters: current_time              = 54.816527818285\n",
      "yt : [INFO     ] 2022-07-19 14:20:02,802 Parameters: domain_dimensions         = [256 256 256]\n",
      "yt : [INFO     ] 2022-07-19 14:20:02,805 Parameters: domain_left_edge          = [0. 0. 0.]\n",
      "yt : [INFO     ] 2022-07-19 14:20:02,809 Parameters: domain_right_edge         = [1. 1. 1.]\n",
      "yt : [INFO     ] 2022-07-19 14:20:02,810 Parameters: cosmological_simulation   = 1\n",
      "yt : [INFO     ] 2022-07-19 14:20:02,811 Parameters: current_redshift          = 5.0462906237837\n",
      "yt : [INFO     ] 2022-07-19 14:20:02,812 Parameters: omega_lambda              = 0.715\n",
      "yt : [INFO     ] 2022-07-19 14:20:02,813 Parameters: omega_matter              = 0.285\n",
      "yt : [INFO     ] 2022-07-19 14:20:02,814 Parameters: omega_radiation           = 0.0\n",
      "yt : [INFO     ] 2022-07-19 14:20:02,816 Parameters: hubble_constant           = 0.695\n"
     ]
    },
    {
     "name": "stdout",
     "output_type": "stream",
     "text": [
      "get_refine_box: using this location:      col1       col2     col3     col4     col5     col6     col7   col8\n",
      "------------- -------- -------- -------- -------- -------- -------- ----\n",
      "5.04629062378 0.495184 0.493952 0.500023 0.497184 0.495952 0.502023    9\n"
     ]
    },
    {
     "name": "stderr",
     "output_type": "stream",
     "text": [
      "Parsing Hierarchy : 100%|████████████████| 3377/3377 [00:00<00:00, 11563.56it/s]\n",
      "yt : [INFO     ] 2022-07-19 14:20:03,388 Gathering a field list (this may take a moment.)\n"
     ]
    },
    {
     "name": "stdout",
     "output_type": "stream",
     "text": [
      "Pulling halo center from catalog file\n",
      "Opening snapshot /Volumes/TempestTimeSteps/DD0107/DD0107\n"
     ]
    },
    {
     "name": "stderr",
     "output_type": "stream",
     "text": [
      "yt : [INFO     ] 2022-07-19 14:20:07,274 Parameters: current_time              = 59.816527818285\n",
      "yt : [INFO     ] 2022-07-19 14:20:07,276 Parameters: domain_dimensions         = [256 256 256]\n",
      "yt : [INFO     ] 2022-07-19 14:20:07,279 Parameters: domain_left_edge          = [0. 0. 0.]\n",
      "yt : [INFO     ] 2022-07-19 14:20:07,281 Parameters: domain_right_edge         = [1. 1. 1.]\n",
      "yt : [INFO     ] 2022-07-19 14:20:07,282 Parameters: cosmological_simulation   = 1\n",
      "yt : [INFO     ] 2022-07-19 14:20:07,282 Parameters: current_redshift          = 4.7031121100648\n",
      "yt : [INFO     ] 2022-07-19 14:20:07,282 Parameters: omega_lambda              = 0.715\n",
      "yt : [INFO     ] 2022-07-19 14:20:07,283 Parameters: omega_matter              = 0.285\n",
      "yt : [INFO     ] 2022-07-19 14:20:07,284 Parameters: omega_radiation           = 0.0\n",
      "yt : [INFO     ] 2022-07-19 14:20:07,284 Parameters: hubble_constant           = 0.695\n"
     ]
    },
    {
     "name": "stdout",
     "output_type": "stream",
     "text": [
      "get_refine_box: using this location:      col1       col2     col3     col4     col5     col6     col7   col8\n",
      "------------- -------- -------- -------- -------- -------- -------- ----\n",
      "4.70311211006 0.495072 0.493546 0.500035 0.497072 0.495546 0.502035    9\n"
     ]
    },
    {
     "name": "stderr",
     "output_type": "stream",
     "text": [
      "Parsing Hierarchy : 100%|████████████████| 2935/2935 [00:00<00:00, 15202.63it/s]\n",
      "yt : [INFO     ] 2022-07-19 14:20:07,655 Gathering a field list (this may take a moment.)\n"
     ]
    },
    {
     "name": "stdout",
     "output_type": "stream",
     "text": [
      "Pulling halo center from catalog file\n",
      "Opening snapshot /Volumes/TempestTimeSteps/DD0127/DD0127\n"
     ]
    },
    {
     "name": "stderr",
     "output_type": "stream",
     "text": [
      "yt : [INFO     ] 2022-07-19 14:20:11,350 Parameters: current_time              = 64.816527818285\n",
      "yt : [INFO     ] 2022-07-19 14:20:11,353 Parameters: domain_dimensions         = [256 256 256]\n",
      "yt : [INFO     ] 2022-07-19 14:20:11,355 Parameters: domain_left_edge          = [0. 0. 0.]\n",
      "yt : [INFO     ] 2022-07-19 14:20:11,357 Parameters: domain_right_edge         = [1. 1. 1.]\n",
      "yt : [INFO     ] 2022-07-19 14:20:11,358 Parameters: cosmological_simulation   = 1\n",
      "yt : [INFO     ] 2022-07-19 14:20:11,358 Parameters: current_redshift          = 4.4045037292232\n",
      "yt : [INFO     ] 2022-07-19 14:20:11,359 Parameters: omega_lambda              = 0.715\n",
      "yt : [INFO     ] 2022-07-19 14:20:11,360 Parameters: omega_matter              = 0.285\n",
      "yt : [INFO     ] 2022-07-19 14:20:11,360 Parameters: omega_radiation           = 0.0\n",
      "yt : [INFO     ] 2022-07-19 14:20:11,361 Parameters: hubble_constant           = 0.695\n"
     ]
    },
    {
     "name": "stdout",
     "output_type": "stream",
     "text": [
      "get_refine_box: using this location:      col1       col2     col3     col4     col5     col6     col7   col8\n",
      "------------- -------- -------- -------- -------- -------- -------- ----\n",
      "4.40450372922 0.494955 0.493147 0.500046 0.496955 0.495147 0.502046    9\n"
     ]
    },
    {
     "name": "stderr",
     "output_type": "stream",
     "text": [
      "Parsing Hierarchy : 100%|████████████████| 3485/3485 [00:00<00:00, 16696.21it/s]\n",
      "yt : [INFO     ] 2022-07-19 14:20:11,769 Gathering a field list (this may take a moment.)\n",
      "yt : [INFO     ] 2022-07-19 14:20:15,261 Parameters: current_time              = 69.816527818285\n",
      "yt : [INFO     ] 2022-07-19 14:20:15,264 Parameters: domain_dimensions         = [256 256 256]\n",
      "yt : [INFO     ] 2022-07-19 14:20:15,266 Parameters: domain_left_edge          = [0. 0. 0.]\n"
     ]
    },
    {
     "name": "stdout",
     "output_type": "stream",
     "text": [
      "Pulling halo center from catalog file\n",
      "Opening snapshot /Volumes/TempestTimeSteps/DD0147/DD0147\n"
     ]
    },
    {
     "name": "stderr",
     "output_type": "stream",
     "text": [
      "yt : [INFO     ] 2022-07-19 14:20:15,270 Parameters: domain_right_edge         = [1. 1. 1.]\n",
      "yt : [INFO     ] 2022-07-19 14:20:15,271 Parameters: cosmological_simulation   = 1\n",
      "yt : [INFO     ] 2022-07-19 14:20:15,271 Parameters: current_redshift          = 4.1418420875174\n",
      "yt : [INFO     ] 2022-07-19 14:20:15,272 Parameters: omega_lambda              = 0.715\n",
      "yt : [INFO     ] 2022-07-19 14:20:15,272 Parameters: omega_matter              = 0.285\n",
      "yt : [INFO     ] 2022-07-19 14:20:15,273 Parameters: omega_radiation           = 0.0\n",
      "yt : [INFO     ] 2022-07-19 14:20:15,274 Parameters: hubble_constant           = 0.695\n"
     ]
    },
    {
     "name": "stdout",
     "output_type": "stream",
     "text": [
      "get_refine_box: using this location:      col1       col2     col3     col4    col5     col6     col7  col8\n",
      "------------- -------- -------- ------- -------- -------- ------- ----\n",
      "4.14184208752 0.494868 0.492768 0.50004 0.496868 0.494768 0.50204    9\n"
     ]
    },
    {
     "name": "stderr",
     "output_type": "stream",
     "text": [
      "Parsing Hierarchy : 100%|████████████████| 6292/6292 [00:00<00:00, 17732.59it/s]\n",
      "yt : [INFO     ] 2022-07-19 14:20:15,949 Gathering a field list (this may take a moment.)\n"
     ]
    },
    {
     "name": "stdout",
     "output_type": "stream",
     "text": [
      "Pulling halo center from catalog file\n",
      "Opening snapshot /Volumes/TempestTimeSteps/DD0167/DD0167\n"
     ]
    },
    {
     "name": "stderr",
     "output_type": "stream",
     "text": [
      "yt : [INFO     ] 2022-07-19 14:20:19,655 Parameters: current_time              = 74.816527818285\n",
      "yt : [INFO     ] 2022-07-19 14:20:19,657 Parameters: domain_dimensions         = [256 256 256]\n",
      "yt : [INFO     ] 2022-07-19 14:20:19,660 Parameters: domain_left_edge          = [0. 0. 0.]\n",
      "yt : [INFO     ] 2022-07-19 14:20:19,663 Parameters: domain_right_edge         = [1. 1. 1.]\n",
      "yt : [INFO     ] 2022-07-19 14:20:19,664 Parameters: cosmological_simulation   = 1\n",
      "yt : [INFO     ] 2022-07-19 14:20:19,664 Parameters: current_redshift          = 3.9086423517129\n",
      "yt : [INFO     ] 2022-07-19 14:20:19,664 Parameters: omega_lambda              = 0.715\n",
      "yt : [INFO     ] 2022-07-19 14:20:19,665 Parameters: omega_matter              = 0.285\n",
      "yt : [INFO     ] 2022-07-19 14:20:19,666 Parameters: omega_radiation           = 0.0\n",
      "yt : [INFO     ] 2022-07-19 14:20:19,666 Parameters: hubble_constant           = 0.695\n"
     ]
    },
    {
     "name": "stdout",
     "output_type": "stream",
     "text": [
      "get_refine_box: using this location:      col1       col2     col3     col4     col5     col6     col7   col8\n",
      "------------- -------- -------- -------- -------- -------- -------- ----\n",
      "3.90864235171 0.494765 0.492417 0.500025 0.496765 0.494417 0.502025    9\n"
     ]
    },
    {
     "name": "stderr",
     "output_type": "stream",
     "text": [
      "Parsing Hierarchy : 100%|████████████████| 6349/6349 [00:00<00:00, 15870.07it/s]\n",
      "yt : [INFO     ] 2022-07-19 14:20:20,368 Gathering a field list (this may take a moment.)\n"
     ]
    },
    {
     "name": "stdout",
     "output_type": "stream",
     "text": [
      "Pulling halo center from catalog file\n",
      "Opening snapshot /Volumes/TempestTimeSteps/DD0187/DD0187\n"
     ]
    },
    {
     "name": "stderr",
     "output_type": "stream",
     "text": [
      "yt : [INFO     ] 2022-07-19 14:20:24,160 Parameters: current_time              = 79.816527818285\n",
      "yt : [INFO     ] 2022-07-19 14:20:24,162 Parameters: domain_dimensions         = [256 256 256]\n",
      "yt : [INFO     ] 2022-07-19 14:20:24,164 Parameters: domain_left_edge          = [0. 0. 0.]\n",
      "yt : [INFO     ] 2022-07-19 14:20:24,167 Parameters: domain_right_edge         = [1. 1. 1.]\n",
      "yt : [INFO     ] 2022-07-19 14:20:24,167 Parameters: cosmological_simulation   = 1\n",
      "yt : [INFO     ] 2022-07-19 14:20:24,168 Parameters: current_redshift          = 3.6999259804031\n",
      "yt : [INFO     ] 2022-07-19 14:20:24,168 Parameters: omega_lambda              = 0.715\n",
      "yt : [INFO     ] 2022-07-19 14:20:24,169 Parameters: omega_matter              = 0.285\n",
      "yt : [INFO     ] 2022-07-19 14:20:24,170 Parameters: omega_radiation           = 0.0\n",
      "yt : [INFO     ] 2022-07-19 14:20:24,170 Parameters: hubble_constant           = 0.695\n"
     ]
    },
    {
     "name": "stdout",
     "output_type": "stream",
     "text": [
      "get_refine_box: using this location:     col1       col2     col3     col4     col5     col6     col7   col8\n",
      "------------ -------- -------- -------- -------- -------- -------- ----\n",
      "3.6999259804 0.494633 0.492127 0.500014 0.496633 0.494127 0.502014    9\n"
     ]
    },
    {
     "name": "stderr",
     "output_type": "stream",
     "text": [
      "Parsing Hierarchy : 100%|████████████████| 6152/6152 [00:00<00:00, 19193.63it/s]\n",
      "yt : [INFO     ] 2022-07-19 14:20:24,745 Gathering a field list (this may take a moment.)\n"
     ]
    },
    {
     "name": "stdout",
     "output_type": "stream",
     "text": [
      "Pulling halo center from catalog file\n",
      "Opening snapshot /Volumes/TempestTimeSteps/DD0207/DD0207\n"
     ]
    },
    {
     "name": "stderr",
     "output_type": "stream",
     "text": [
      "yt : [INFO     ] 2022-07-19 14:20:28,427 Parameters: current_time              = 84.816527818285\n",
      "yt : [INFO     ] 2022-07-19 14:20:28,429 Parameters: domain_dimensions         = [256 256 256]\n",
      "yt : [INFO     ] 2022-07-19 14:20:28,432 Parameters: domain_left_edge          = [0. 0. 0.]\n",
      "yt : [INFO     ] 2022-07-19 14:20:28,434 Parameters: domain_right_edge         = [1. 1. 1.]\n",
      "yt : [INFO     ] 2022-07-19 14:20:28,435 Parameters: cosmological_simulation   = 1\n",
      "yt : [INFO     ] 2022-07-19 14:20:28,436 Parameters: current_redshift          = 3.5118019373691\n",
      "yt : [INFO     ] 2022-07-19 14:20:28,437 Parameters: omega_lambda              = 0.715\n",
      "yt : [INFO     ] 2022-07-19 14:20:28,437 Parameters: omega_matter              = 0.285\n",
      "yt : [INFO     ] 2022-07-19 14:20:28,438 Parameters: omega_radiation           = 0.0\n",
      "yt : [INFO     ] 2022-07-19 14:20:28,439 Parameters: hubble_constant           = 0.695\n"
     ]
    },
    {
     "name": "stdout",
     "output_type": "stream",
     "text": [
      "get_refine_box: using this location:      col1       col2     col3     col4     col5     col6     col7   col8\n",
      "------------- -------- -------- -------- -------- -------- -------- ----\n",
      "3.51180193737 0.494517 0.491822 0.500016 0.496517 0.493822 0.502016    9\n"
     ]
    },
    {
     "name": "stderr",
     "output_type": "stream",
     "text": [
      "Parsing Hierarchy : 100%|████████████████| 7873/7873 [00:00<00:00, 18264.28it/s]\n",
      "yt : [INFO     ] 2022-07-19 14:20:29,181 Gathering a field list (this may take a moment.)\n"
     ]
    },
    {
     "name": "stdout",
     "output_type": "stream",
     "text": [
      "Pulling halo center from catalog file\n",
      "Opening snapshot /Volumes/TempestTimeSteps/DD0227/DD0227\n"
     ]
    },
    {
     "name": "stderr",
     "output_type": "stream",
     "text": [
      "yt : [INFO     ] 2022-07-19 14:20:32,258 Parameters: current_time              = 89.816527818285\n",
      "yt : [INFO     ] 2022-07-19 14:20:32,260 Parameters: domain_dimensions         = [256 256 256]\n",
      "yt : [INFO     ] 2022-07-19 14:20:32,263 Parameters: domain_left_edge          = [0. 0. 0.]\n",
      "yt : [INFO     ] 2022-07-19 14:20:32,266 Parameters: domain_right_edge         = [1. 1. 1.]\n",
      "yt : [INFO     ] 2022-07-19 14:20:32,266 Parameters: cosmological_simulation   = 1\n",
      "yt : [INFO     ] 2022-07-19 14:20:32,267 Parameters: current_redshift          = 3.3411813479609\n",
      "yt : [INFO     ] 2022-07-19 14:20:32,267 Parameters: omega_lambda              = 0.715\n",
      "yt : [INFO     ] 2022-07-19 14:20:32,268 Parameters: omega_matter              = 0.285\n",
      "yt : [INFO     ] 2022-07-19 14:20:32,268 Parameters: omega_radiation           = 0.0\n",
      "yt : [INFO     ] 2022-07-19 14:20:32,269 Parameters: hubble_constant           = 0.695\n"
     ]
    },
    {
     "name": "stdout",
     "output_type": "stream",
     "text": [
      "get_refine_box: using this location:      col1       col2     col3     col4     col5     col6     col7   col8\n",
      "------------- -------- -------- -------- -------- -------- -------- ----\n",
      "3.34118134796 0.494362 0.491438 0.500094 0.496362 0.493438 0.502094    9\n"
     ]
    },
    {
     "name": "stderr",
     "output_type": "stream",
     "text": [
      "Parsing Hierarchy : 100%|██████████████| 10646/10646 [00:00<00:00, 17595.27it/s]\n",
      "yt : [INFO     ] 2022-07-19 14:20:33,246 Gathering a field list (this may take a moment.)\n",
      "yt : [INFO     ] 2022-07-19 14:20:36,203 Parameters: current_time              = 94.816527818285\n",
      "yt : [INFO     ] 2022-07-19 14:20:36,205 Parameters: domain_dimensions         = [256 256 256]\n",
      "yt : [INFO     ] 2022-07-19 14:20:36,208 Parameters: domain_left_edge          = [0. 0. 0.]\n",
      "yt : [INFO     ] 2022-07-19 14:20:36,211 Parameters: domain_right_edge         = [1. 1. 1.]\n",
      "yt : [INFO     ] 2022-07-19 14:20:36,211 Parameters: cosmological_simulation   = 1\n",
      "yt : [INFO     ] 2022-07-19 14:20:36,212 Parameters: current_redshift          = 3.1855782341013\n",
      "yt : [INFO     ] 2022-07-19 14:20:36,213 Parameters: omega_lambda              = 0.715\n",
      "yt : [INFO     ] 2022-07-19 14:20:36,213 Parameters: omega_matter              = 0.285\n",
      "yt : [INFO     ] 2022-07-19 14:20:36,214 Parameters: omega_radiation           = 0.0\n",
      "yt : [INFO     ] 2022-07-19 14:20:36,215 Parameters: hubble_constant           = 0.695\n"
     ]
    },
    {
     "name": "stdout",
     "output_type": "stream",
     "text": [
      "Pulling halo center from catalog file\n",
      "Opening snapshot /Volumes/TempestTimeSteps/DD0247/DD0247\n",
      "get_refine_box: using this location:     col1       col2     col3     col4     col5     col6     col7   col8\n",
      "------------ -------- -------- -------- -------- -------- -------- ----\n",
      "3.1855782341 0.494234 0.491145 0.500166 0.496234 0.493145 0.502166    9\n"
     ]
    },
    {
     "name": "stderr",
     "output_type": "stream",
     "text": [
      "Parsing Hierarchy : 100%|██████████████| 10738/10738 [00:00<00:00, 18576.93it/s]\n",
      "yt : [INFO     ] 2022-07-19 14:20:37,235 Gathering a field list (this may take a moment.)\n"
     ]
    },
    {
     "name": "stdout",
     "output_type": "stream",
     "text": [
      "Pulling halo center from catalog file\n",
      "Opening snapshot /Volumes/TempestTimeSteps/DD0267/DD0267\n"
     ]
    },
    {
     "name": "stderr",
     "output_type": "stream",
     "text": [
      "yt : [INFO     ] 2022-07-19 14:20:40,390 Parameters: current_time              = 99.816527818285\n",
      "yt : [INFO     ] 2022-07-19 14:20:40,393 Parameters: domain_dimensions         = [256 256 256]\n",
      "yt : [INFO     ] 2022-07-19 14:20:40,395 Parameters: domain_left_edge          = [0. 0. 0.]\n",
      "yt : [INFO     ] 2022-07-19 14:20:40,397 Parameters: domain_right_edge         = [1. 1. 1.]\n",
      "yt : [INFO     ] 2022-07-19 14:20:40,398 Parameters: cosmological_simulation   = 1\n",
      "yt : [INFO     ] 2022-07-19 14:20:40,398 Parameters: current_redshift          = 3.0429673207448\n",
      "yt : [INFO     ] 2022-07-19 14:20:40,399 Parameters: omega_lambda              = 0.715\n",
      "yt : [INFO     ] 2022-07-19 14:20:40,399 Parameters: omega_matter              = 0.285\n",
      "yt : [INFO     ] 2022-07-19 14:20:40,400 Parameters: omega_radiation           = 0.0\n",
      "yt : [INFO     ] 2022-07-19 14:20:40,400 Parameters: hubble_constant           = 0.695\n"
     ]
    },
    {
     "name": "stdout",
     "output_type": "stream",
     "text": [
      "get_refine_box: using this location:      col1       col2     col3     col4     col5     col6     col7   col8\n",
      "------------- -------- -------- -------- -------- -------- -------- ----\n",
      "3.04296732074 0.494074 0.490895 0.500235 0.496074 0.492895 0.502235    9\n"
     ]
    },
    {
     "name": "stderr",
     "output_type": "stream",
     "text": [
      "Parsing Hierarchy : 100%|████████████████| 8498/8498 [00:00<00:00, 18416.26it/s]\n",
      "yt : [INFO     ] 2022-07-19 14:20:41,179 Gathering a field list (this may take a moment.)\n"
     ]
    },
    {
     "name": "stdout",
     "output_type": "stream",
     "text": [
      "Pulling halo center from catalog file\n",
      "Opening snapshot /Volumes/TempestTimeSteps/DD0287/DD0287\n"
     ]
    },
    {
     "name": "stderr",
     "output_type": "stream",
     "text": [
      "yt : [INFO     ] 2022-07-19 14:20:44,450 Parameters: current_time              = 104.81652781829\n",
      "yt : [INFO     ] 2022-07-19 14:20:44,454 Parameters: domain_dimensions         = [256 256 256]\n",
      "yt : [INFO     ] 2022-07-19 14:20:44,458 Parameters: domain_left_edge          = [0. 0. 0.]\n",
      "yt : [INFO     ] 2022-07-19 14:20:44,460 Parameters: domain_right_edge         = [1. 1. 1.]\n",
      "yt : [INFO     ] 2022-07-19 14:20:44,461 Parameters: cosmological_simulation   = 1\n",
      "yt : [INFO     ] 2022-07-19 14:20:44,461 Parameters: current_redshift          = 2.9116806075987\n",
      "yt : [INFO     ] 2022-07-19 14:20:44,462 Parameters: omega_lambda              = 0.715\n",
      "yt : [INFO     ] 2022-07-19 14:20:44,462 Parameters: omega_matter              = 0.285\n",
      "yt : [INFO     ] 2022-07-19 14:20:44,462 Parameters: omega_radiation           = 0.0\n",
      "yt : [INFO     ] 2022-07-19 14:20:44,463 Parameters: hubble_constant           = 0.695\n"
     ]
    },
    {
     "name": "stdout",
     "output_type": "stream",
     "text": [
      "get_refine_box: using this location:     col1       col2     col3     col4     col5     col6     col7   col8\n",
      "------------ -------- -------- -------- -------- -------- -------- ----\n",
      "2.9116806076 0.493954 0.490721 0.500203 0.495954 0.492721 0.502203    9\n"
     ]
    },
    {
     "name": "stderr",
     "output_type": "stream",
     "text": [
      "Parsing Hierarchy : 100%|████████████████| 7384/7384 [00:00<00:00, 19241.34it/s]\n",
      "yt : [INFO     ] 2022-07-19 14:20:45,137 Gathering a field list (this may take a moment.)\n"
     ]
    },
    {
     "name": "stdout",
     "output_type": "stream",
     "text": [
      "Pulling halo center from catalog file\n",
      "Opening snapshot /Volumes/TempestTimeSteps/DD0307/DD0307\n"
     ]
    },
    {
     "name": "stderr",
     "output_type": "stream",
     "text": [
      "yt : [INFO     ] 2022-07-19 14:20:48,429 Parameters: current_time              = 109.81652781829\n",
      "yt : [INFO     ] 2022-07-19 14:20:48,432 Parameters: domain_dimensions         = [256 256 256]\n",
      "yt : [INFO     ] 2022-07-19 14:20:48,435 Parameters: domain_left_edge          = [0. 0. 0.]\n",
      "yt : [INFO     ] 2022-07-19 14:20:48,437 Parameters: domain_right_edge         = [1. 1. 1.]\n",
      "yt : [INFO     ] 2022-07-19 14:20:48,438 Parameters: cosmological_simulation   = 1\n",
      "yt : [INFO     ] 2022-07-19 14:20:48,439 Parameters: current_redshift          = 2.790330842939\n",
      "yt : [INFO     ] 2022-07-19 14:20:48,440 Parameters: omega_lambda              = 0.715\n",
      "yt : [INFO     ] 2022-07-19 14:20:48,440 Parameters: omega_matter              = 0.285\n",
      "yt : [INFO     ] 2022-07-19 14:20:48,441 Parameters: omega_radiation           = 0.0\n",
      "yt : [INFO     ] 2022-07-19 14:20:48,442 Parameters: hubble_constant           = 0.695\n"
     ]
    },
    {
     "name": "stdout",
     "output_type": "stream",
     "text": [
      "get_refine_box: using this location:      col1       col2     col3     col4     col5     col6     col7   col8\n",
      "------------- -------- -------- -------- -------- -------- -------- ----\n",
      "2.79033084294 0.494017 0.490515 0.500182 0.496017 0.492515 0.502182    9\n"
     ]
    },
    {
     "name": "stderr",
     "output_type": "stream",
     "text": [
      "Parsing Hierarchy : 100%|████████████████| 7885/7885 [00:00<00:00, 17854.55it/s]\n",
      "yt : [INFO     ] 2022-07-19 14:20:49,184 Gathering a field list (this may take a moment.)\n"
     ]
    },
    {
     "name": "stdout",
     "output_type": "stream",
     "text": [
      "Pulling halo center from catalog file\n",
      "Opening snapshot /Volumes/TempestTimeSteps/DD0327/DD0327\n"
     ]
    },
    {
     "name": "stderr",
     "output_type": "stream",
     "text": [
      "yt : [INFO     ] 2022-07-19 14:20:52,455 Parameters: current_time              = 114.81652781829\n",
      "yt : [INFO     ] 2022-07-19 14:20:52,458 Parameters: domain_dimensions         = [256 256 256]\n",
      "yt : [INFO     ] 2022-07-19 14:20:52,460 Parameters: domain_left_edge          = [0. 0. 0.]\n",
      "yt : [INFO     ] 2022-07-19 14:20:52,462 Parameters: domain_right_edge         = [1. 1. 1.]\n",
      "yt : [INFO     ] 2022-07-19 14:20:52,463 Parameters: cosmological_simulation   = 1\n",
      "yt : [INFO     ] 2022-07-19 14:20:52,463 Parameters: current_redshift          = 2.6777540283045\n",
      "yt : [INFO     ] 2022-07-19 14:20:52,464 Parameters: omega_lambda              = 0.715\n",
      "yt : [INFO     ] 2022-07-19 14:20:52,464 Parameters: omega_matter              = 0.285\n",
      "yt : [INFO     ] 2022-07-19 14:20:52,466 Parameters: omega_radiation           = 0.0\n",
      "yt : [INFO     ] 2022-07-19 14:20:52,467 Parameters: hubble_constant           = 0.695\n"
     ]
    },
    {
     "name": "stdout",
     "output_type": "stream",
     "text": [
      "get_refine_box: using this location:     col1       col2     col3    col4     col5     col6    col7   col8\n",
      "------------ -------- ------- -------- -------- ------- -------- ----\n",
      "2.6777540283 0.493817 0.49021 0.500325 0.495817 0.49221 0.502325    9\n"
     ]
    },
    {
     "name": "stderr",
     "output_type": "stream",
     "text": [
      "Parsing Hierarchy : 100%|████████████████| 8723/8723 [00:00<00:00, 18654.83it/s]\n",
      "yt : [INFO     ] 2022-07-19 14:20:53,258 Gathering a field list (this may take a moment.)\n",
      "yt : [INFO     ] 2022-07-19 14:20:56,440 Parameters: current_time              = 119.81652781829\n",
      "yt : [INFO     ] 2022-07-19 14:20:56,443 Parameters: domain_dimensions         = [256 256 256]\n",
      "yt : [INFO     ] 2022-07-19 14:20:56,446 Parameters: domain_left_edge          = [0. 0. 0.]\n",
      "yt : [INFO     ] 2022-07-19 14:20:56,448 Parameters: domain_right_edge         = [1. 1. 1.]\n",
      "yt : [INFO     ] 2022-07-19 14:20:56,449 Parameters: cosmological_simulation   = 1\n",
      "yt : [INFO     ] 2022-07-19 14:20:56,449 Parameters: current_redshift          = 2.5729656200897\n",
      "yt : [INFO     ] 2022-07-19 14:20:56,450 Parameters: omega_lambda              = 0.715\n",
      "yt : [INFO     ] 2022-07-19 14:20:56,451 Parameters: omega_matter              = 0.285\n",
      "yt : [INFO     ] 2022-07-19 14:20:56,452 Parameters: omega_radiation           = 0.0\n",
      "yt : [INFO     ] 2022-07-19 14:20:56,453 Parameters: hubble_constant           = 0.695\n"
     ]
    },
    {
     "name": "stdout",
     "output_type": "stream",
     "text": [
      "Pulling halo center from catalog file\n",
      "Opening snapshot /Volumes/TempestTimeSteps/DD0347/DD0347\n",
      "get_refine_box: using this location:      col1       col2    col3     col4    col5    col6     col7  col8\n",
      "------------- ------- -------- ------- ------- -------- ------- ----\n",
      "2.57296562009 0.49375 0.489943 0.50041 0.49575 0.491943 0.50241    9\n"
     ]
    },
    {
     "name": "stderr",
     "output_type": "stream",
     "text": [
      "Parsing Hierarchy : 100%|████████████████| 8372/8372 [00:00<00:00, 17823.61it/s]\n",
      "yt : [INFO     ] 2022-07-19 14:20:57,292 Gathering a field list (this may take a moment.)\n",
      "yt : [INFO     ] 2022-07-19 14:21:00,404 Parameters: current_time              = 124.81652781829\n",
      "yt : [INFO     ] 2022-07-19 14:21:00,407 Parameters: domain_dimensions         = [256 256 256]\n",
      "yt : [INFO     ] 2022-07-19 14:21:00,409 Parameters: domain_left_edge          = [0. 0. 0.]\n",
      "yt : [INFO     ] 2022-07-19 14:21:00,411 Parameters: domain_right_edge         = [1. 1. 1.]\n",
      "yt : [INFO     ] 2022-07-19 14:21:00,412 Parameters: cosmological_simulation   = 1\n",
      "yt : [INFO     ] 2022-07-19 14:21:00,412 Parameters: current_redshift          = 2.4751267440123\n",
      "yt : [INFO     ] 2022-07-19 14:21:00,413 Parameters: omega_lambda              = 0.715\n",
      "yt : [INFO     ] 2022-07-19 14:21:00,413 Parameters: omega_matter              = 0.285\n",
      "yt : [INFO     ] 2022-07-19 14:21:00,414 Parameters: omega_radiation           = 0.0\n",
      "yt : [INFO     ] 2022-07-19 14:21:00,414 Parameters: hubble_constant           = 0.695\n"
     ]
    },
    {
     "name": "stdout",
     "output_type": "stream",
     "text": [
      "Pulling halo center from catalog file\n",
      "Opening snapshot /Volumes/TempestTimeSteps/DD0367/DD0367\n",
      "get_refine_box: using this location:      col1       col2     col3     col4     col5     col6     col7   col8\n",
      "------------- -------- -------- -------- -------- -------- -------- ----\n",
      "2.47512674401 0.493607 0.489649 0.500506 0.495607 0.491649 0.502506    9\n"
     ]
    },
    {
     "name": "stderr",
     "output_type": "stream",
     "text": [
      "Parsing Hierarchy : 100%|████████████████| 8124/8124 [00:00<00:00, 18625.98it/s]\n",
      "yt : [INFO     ] 2022-07-19 14:21:01,224 Gathering a field list (this may take a moment.)\n"
     ]
    },
    {
     "name": "stdout",
     "output_type": "stream",
     "text": [
      "Pulling halo center from catalog file\n",
      "Opening snapshot /Volumes/TempestTimeSteps/DD0387/DD0387\n"
     ]
    },
    {
     "name": "stderr",
     "output_type": "stream",
     "text": [
      "yt : [INFO     ] 2022-07-19 14:21:05,091 Parameters: current_time              = 129.81652781829\n",
      "yt : [INFO     ] 2022-07-19 14:21:05,094 Parameters: domain_dimensions         = [256 256 256]\n",
      "yt : [INFO     ] 2022-07-19 14:21:05,097 Parameters: domain_left_edge          = [0. 0. 0.]\n",
      "yt : [INFO     ] 2022-07-19 14:21:05,100 Parameters: domain_right_edge         = [1. 1. 1.]\n",
      "yt : [INFO     ] 2022-07-19 14:21:05,101 Parameters: cosmological_simulation   = 1\n",
      "yt : [INFO     ] 2022-07-19 14:21:05,101 Parameters: current_redshift          = 2.3835178337957\n",
      "yt : [INFO     ] 2022-07-19 14:21:05,101 Parameters: omega_lambda              = 0.715\n",
      "yt : [INFO     ] 2022-07-19 14:21:05,102 Parameters: omega_matter              = 0.285\n",
      "yt : [INFO     ] 2022-07-19 14:21:05,102 Parameters: omega_radiation           = 0.0\n",
      "yt : [INFO     ] 2022-07-19 14:21:05,103 Parameters: hubble_constant           = 0.695\n"
     ]
    },
    {
     "name": "stdout",
     "output_type": "stream",
     "text": [
      "get_refine_box: using this location:     col1       col2     col3     col4     col5     col6     col7   col8\n",
      "------------ -------- -------- -------- -------- -------- -------- ----\n",
      "2.3835178338 0.493475 0.489323 0.500649 0.495475 0.491323 0.502649    9\n"
     ]
    },
    {
     "name": "stderr",
     "output_type": "stream",
     "text": [
      "Parsing Hierarchy : 100%|████████████████| 9680/9680 [00:00<00:00, 19055.72it/s]\n",
      "yt : [INFO     ] 2022-07-19 14:21:05,947 Gathering a field list (this may take a moment.)\n",
      "yt : [INFO     ] 2022-07-19 14:21:08,880 Parameters: current_time              = 134.81652781829\n",
      "yt : [INFO     ] 2022-07-19 14:21:08,883 Parameters: domain_dimensions         = [256 256 256]\n",
      "yt : [INFO     ] 2022-07-19 14:21:08,886 Parameters: domain_left_edge          = [0. 0. 0.]\n",
      "yt : [INFO     ] 2022-07-19 14:21:08,889 Parameters: domain_right_edge         = [1. 1. 1.]\n",
      "yt : [INFO     ] 2022-07-19 14:21:08,890 Parameters: cosmological_simulation   = 1\n",
      "yt : [INFO     ] 2022-07-19 14:21:08,890 Parameters: current_redshift          = 2.2975178463403\n",
      "yt : [INFO     ] 2022-07-19 14:21:08,891 Parameters: omega_lambda              = 0.715\n",
      "yt : [INFO     ] 2022-07-19 14:21:08,892 Parameters: omega_matter              = 0.285\n",
      "yt : [INFO     ] 2022-07-19 14:21:08,893 Parameters: omega_radiation           = 0.0\n",
      "yt : [INFO     ] 2022-07-19 14:21:08,894 Parameters: hubble_constant           = 0.695\n"
     ]
    },
    {
     "name": "stdout",
     "output_type": "stream",
     "text": [
      "Pulling halo center from catalog file\n",
      "Opening snapshot /Volumes/TempestTimeSteps/DD0407/DD0407\n",
      "get_refine_box: using this location:      col1       col2     col3     col4     col5     col6     col7   col8\n",
      "------------- -------- -------- -------- -------- -------- -------- ----\n",
      "2.29751784634 0.493403 0.489031 0.500769 0.495403 0.491031 0.502769    9\n"
     ]
    },
    {
     "name": "stderr",
     "output_type": "stream",
     "text": [
      "Parsing Hierarchy : 100%|████████████████| 8668/8668 [00:00<00:00, 18628.43it/s]\n",
      "yt : [INFO     ] 2022-07-19 14:21:09,677 Gathering a field list (this may take a moment.)\n"
     ]
    },
    {
     "name": "stdout",
     "output_type": "stream",
     "text": [
      "Pulling halo center from catalog file\n",
      "Opening snapshot /Volumes/TempestTimeSteps/DD0427/DD0427\n"
     ]
    },
    {
     "name": "stderr",
     "output_type": "stream",
     "text": [
      "yt : [INFO     ] 2022-07-19 14:21:12,893 Parameters: current_time              = 139.81652781829\n",
      "yt : [INFO     ] 2022-07-19 14:21:12,896 Parameters: domain_dimensions         = [256 256 256]\n",
      "yt : [INFO     ] 2022-07-19 14:21:12,898 Parameters: domain_left_edge          = [0. 0. 0.]\n",
      "yt : [INFO     ] 2022-07-19 14:21:12,901 Parameters: domain_right_edge         = [1. 1. 1.]\n",
      "yt : [INFO     ] 2022-07-19 14:21:12,902 Parameters: cosmological_simulation   = 1\n",
      "yt : [INFO     ] 2022-07-19 14:21:12,903 Parameters: current_redshift          = 2.2165877154761\n",
      "yt : [INFO     ] 2022-07-19 14:21:12,904 Parameters: omega_lambda              = 0.715\n",
      "yt : [INFO     ] 2022-07-19 14:21:12,904 Parameters: omega_matter              = 0.285\n",
      "yt : [INFO     ] 2022-07-19 14:21:12,905 Parameters: omega_radiation           = 0.0\n",
      "yt : [INFO     ] 2022-07-19 14:21:12,906 Parameters: hubble_constant           = 0.695\n"
     ]
    },
    {
     "name": "stdout",
     "output_type": "stream",
     "text": [
      "get_refine_box: using this location:      col1       col2     col3     col4     col5     col6     col7   col8\n",
      "------------- -------- -------- -------- -------- -------- -------- ----\n",
      "2.21658771548 0.493304 0.488734 0.500885 0.495304 0.490734 0.502885    9\n"
     ]
    },
    {
     "name": "stderr",
     "output_type": "stream",
     "text": [
      "Parsing Hierarchy : 100%|████████████████| 8504/8504 [00:00<00:00, 18381.58it/s]\n",
      "yt : [INFO     ] 2022-07-19 14:21:13,685 Gathering a field list (this may take a moment.)\n",
      "yt : [INFO     ] 2022-07-19 14:21:16,593 Parameters: current_time              = 144.81652781829\n",
      "yt : [INFO     ] 2022-07-19 14:21:16,598 Parameters: domain_dimensions         = [256 256 256]\n",
      "yt : [INFO     ] 2022-07-19 14:21:16,600 Parameters: domain_left_edge          = [0. 0. 0.]\n",
      "yt : [INFO     ] 2022-07-19 14:21:16,602 Parameters: domain_right_edge         = [1. 1. 1.]\n",
      "yt : [INFO     ] 2022-07-19 14:21:16,603 Parameters: cosmological_simulation   = 1\n",
      "yt : [INFO     ] 2022-07-19 14:21:16,603 Parameters: current_redshift          = 2.1402570627129\n",
      "yt : [INFO     ] 2022-07-19 14:21:16,604 Parameters: omega_lambda              = 0.715\n",
      "yt : [INFO     ] 2022-07-19 14:21:16,604 Parameters: omega_matter              = 0.285\n",
      "yt : [INFO     ] 2022-07-19 14:21:16,605 Parameters: omega_radiation           = 0.0\n",
      "yt : [INFO     ] 2022-07-19 14:21:16,605 Parameters: hubble_constant           = 0.695\n"
     ]
    },
    {
     "name": "stdout",
     "output_type": "stream",
     "text": [
      "Pulling halo center from catalog file\n",
      "Opening snapshot /Volumes/TempestTimeSteps/DD0447/DD0447\n",
      "get_refine_box: using this location:      col1       col2     col3     col4     col5     col6     col7   col8\n",
      "------------- -------- -------- -------- -------- -------- -------- ----\n",
      "2.14025706271 0.493216 0.488457 0.500981 0.495216 0.490457 0.502981    9\n"
     ]
    },
    {
     "name": "stderr",
     "output_type": "stream",
     "text": [
      "Parsing Hierarchy : 100%|████████████████| 8981/8981 [00:00<00:00, 18138.82it/s]\n",
      "yt : [INFO     ] 2022-07-19 14:21:17,512 Gathering a field list (this may take a moment.)\n",
      "yt : [INFO     ] 2022-07-19 14:21:20,574 Parameters: current_time              = 149.81652781829\n",
      "yt : [INFO     ] 2022-07-19 14:21:20,577 Parameters: domain_dimensions         = [256 256 256]\n",
      "yt : [INFO     ] 2022-07-19 14:21:20,580 Parameters: domain_left_edge          = [0. 0. 0.]\n",
      "yt : [INFO     ] 2022-07-19 14:21:20,584 Parameters: domain_right_edge         = [1. 1. 1.]\n",
      "yt : [INFO     ] 2022-07-19 14:21:20,585 Parameters: cosmological_simulation   = 1\n",
      "yt : [INFO     ] 2022-07-19 14:21:20,586 Parameters: current_redshift          = 2.0681134360516\n",
      "yt : [INFO     ] 2022-07-19 14:21:20,586 Parameters: omega_lambda              = 0.715\n",
      "yt : [INFO     ] 2022-07-19 14:21:20,587 Parameters: omega_matter              = 0.285\n",
      "yt : [INFO     ] 2022-07-19 14:21:20,587 Parameters: omega_radiation           = 0.0\n",
      "yt : [INFO     ] 2022-07-19 14:21:20,587 Parameters: hubble_constant           = 0.695\n"
     ]
    },
    {
     "name": "stdout",
     "output_type": "stream",
     "text": [
      "Pulling halo center from catalog file\n",
      "Opening snapshot /Volumes/TempestTimeSteps/DD0467/DD0467\n",
      "get_refine_box: using this location:      col1       col2     col3     col4    col5     col6     col7  col8\n",
      "------------- -------- -------- ------- -------- -------- ------- ----\n",
      "2.06811343605 0.493124 0.488177 0.50108 0.495124 0.490177 0.50308    9\n"
     ]
    },
    {
     "name": "stderr",
     "output_type": "stream",
     "text": [
      "Parsing Hierarchy : 100%|████████████████| 8955/8955 [00:00<00:00, 18282.45it/s]\n",
      "yt : [INFO     ] 2022-07-19 14:21:21,473 Gathering a field list (this may take a moment.)\n"
     ]
    },
    {
     "name": "stdout",
     "output_type": "stream",
     "text": [
      "Pulling halo center from catalog file\n",
      "Opening snapshot /Volumes/TempestTimeSteps/DD0487/DD0487\n"
     ]
    },
    {
     "name": "stderr",
     "output_type": "stream",
     "text": [
      "yt : [INFO     ] 2022-07-19 14:21:24,749 Parameters: current_time              = 154.8165043678\n",
      "yt : [INFO     ] 2022-07-19 14:21:24,753 Parameters: domain_dimensions         = [256 256 256]\n",
      "yt : [INFO     ] 2022-07-19 14:21:24,756 Parameters: domain_left_edge          = [0. 0. 0.]\n",
      "yt : [INFO     ] 2022-07-19 14:21:24,759 Parameters: domain_right_edge         = [1. 1. 1.]\n",
      "yt : [INFO     ] 2022-07-19 14:21:24,760 Parameters: cosmological_simulation   = 1\n",
      "yt : [INFO     ] 2022-07-19 14:21:24,760 Parameters: current_redshift          = 1.9997938414155\n",
      "yt : [INFO     ] 2022-07-19 14:21:24,761 Parameters: omega_lambda              = 0.715\n",
      "yt : [INFO     ] 2022-07-19 14:21:24,761 Parameters: omega_matter              = 0.285\n",
      "yt : [INFO     ] 2022-07-19 14:21:24,761 Parameters: omega_radiation           = 0.0\n",
      "yt : [INFO     ] 2022-07-19 14:21:24,762 Parameters: hubble_constant           = 0.695\n"
     ]
    },
    {
     "name": "stdout",
     "output_type": "stream",
     "text": [
      "get_refine_box: using this location:      col1       col2     col3     col4     col5     col6     col7   col8\n",
      "------------- -------- -------- -------- -------- -------- -------- ----\n",
      "1.99979384142 0.493035 0.487894 0.501194 0.495035 0.489894 0.503194    9\n"
     ]
    },
    {
     "name": "stderr",
     "output_type": "stream",
     "text": [
      "Parsing Hierarchy : 100%|████████████████| 7623/7623 [00:00<00:00, 15685.35it/s]\n",
      "yt : [INFO     ] 2022-07-19 14:21:25,588 Gathering a field list (this may take a moment.)\n",
      "yt : [INFO     ] 2022-07-19 14:21:28,564 Parameters: current_time              = 159.81652781829\n",
      "yt : [INFO     ] 2022-07-19 14:21:28,567 Parameters: domain_dimensions         = [256 256 256]\n",
      "yt : [INFO     ] 2022-07-19 14:21:28,569 Parameters: domain_left_edge          = [0. 0. 0.]\n",
      "yt : [INFO     ] 2022-07-19 14:21:28,571 Parameters: domain_right_edge         = [1. 1. 1.]\n",
      "yt : [INFO     ] 2022-07-19 14:21:28,571 Parameters: cosmological_simulation   = 1\n",
      "yt : [INFO     ] 2022-07-19 14:21:28,572 Parameters: current_redshift          = 1.9349759674732\n",
      "yt : [INFO     ] 2022-07-19 14:21:28,572 Parameters: omega_lambda              = 0.715\n",
      "yt : [INFO     ] 2022-07-19 14:21:28,573 Parameters: omega_matter              = 0.285\n",
      "yt : [INFO     ] 2022-07-19 14:21:28,573 Parameters: omega_radiation           = 0.0\n",
      "yt : [INFO     ] 2022-07-19 14:21:28,574 Parameters: hubble_constant           = 0.695\n"
     ]
    },
    {
     "name": "stdout",
     "output_type": "stream",
     "text": [
      "Pulling halo center from catalog file\n",
      "Opening snapshot /Volumes/TempestTimeSteps/DD0507/DD0507\n",
      "get_refine_box: using this location:      col1       col2     col3     col4     col5     col6     col7   col8\n",
      "------------- -------- -------- -------- -------- -------- -------- ----\n",
      "1.93497596747 0.492941 0.487618 0.501303 0.494941 0.489618 0.503303    9\n"
     ]
    },
    {
     "name": "stderr",
     "output_type": "stream",
     "text": [
      "Parsing Hierarchy : 100%|████████████████| 6466/6466 [00:00<00:00, 17042.02it/s]\n",
      "yt : [INFO     ] 2022-07-19 14:21:29,304 Gathering a field list (this may take a moment.)\n"
     ]
    },
    {
     "name": "stdout",
     "output_type": "stream",
     "text": [
      "Pulling halo center from catalog file\n",
      "Opening snapshot /Volumes/TempestTimeSteps/DD0527/DD0527\n"
     ]
    },
    {
     "name": "stderr",
     "output_type": "stream",
     "text": [
      "yt : [INFO     ] 2022-07-19 14:21:32,412 Parameters: current_time              = 164.81652781829\n",
      "yt : [INFO     ] 2022-07-19 14:21:32,415 Parameters: domain_dimensions         = [256 256 256]\n",
      "yt : [INFO     ] 2022-07-19 14:21:32,417 Parameters: domain_left_edge          = [0. 0. 0.]\n",
      "yt : [INFO     ] 2022-07-19 14:21:32,420 Parameters: domain_right_edge         = [1. 1. 1.]\n",
      "yt : [INFO     ] 2022-07-19 14:21:32,421 Parameters: cosmological_simulation   = 1\n",
      "yt : [INFO     ] 2022-07-19 14:21:32,421 Parameters: current_redshift          = 1.8733753371252\n",
      "yt : [INFO     ] 2022-07-19 14:21:32,422 Parameters: omega_lambda              = 0.715\n",
      "yt : [INFO     ] 2022-07-19 14:21:32,422 Parameters: omega_matter              = 0.285\n",
      "yt : [INFO     ] 2022-07-19 14:21:32,423 Parameters: omega_radiation           = 0.0\n",
      "yt : [INFO     ] 2022-07-19 14:21:32,423 Parameters: hubble_constant           = 0.695\n"
     ]
    },
    {
     "name": "stdout",
     "output_type": "stream",
     "text": [
      "get_refine_box: using this location:      col1       col2     col3     col4     col5     col6     col7   col8\n",
      "------------- -------- -------- -------- -------- -------- -------- ----\n",
      "1.87337533713 0.492848 0.487347 0.501397 0.494848 0.489347 0.503397    9\n"
     ]
    },
    {
     "name": "stderr",
     "output_type": "stream",
     "text": [
      "Parsing Hierarchy : 100%|████████████████| 6005/6005 [00:00<00:00, 15341.61it/s]\n",
      "yt : [INFO     ] 2022-07-19 14:21:33,067 Gathering a field list (this may take a moment.)\n",
      "yt : [INFO     ] 2022-07-19 14:21:36,180 Parameters: current_time              = 169.81652781829\n",
      "yt : [INFO     ] 2022-07-19 14:21:36,182 Parameters: domain_dimensions         = [256 256 256]\n",
      "yt : [INFO     ] 2022-07-19 14:21:36,185 Parameters: domain_left_edge          = [0. 0. 0.]\n",
      "yt : [INFO     ] 2022-07-19 14:21:36,187 Parameters: domain_right_edge         = [1. 1. 1.]\n",
      "yt : [INFO     ] 2022-07-19 14:21:36,188 Parameters: cosmological_simulation   = 1\n",
      "yt : [INFO     ] 2022-07-19 14:21:36,189 Parameters: current_redshift          = 1.8147372203944\n",
      "yt : [INFO     ] 2022-07-19 14:21:36,189 Parameters: omega_lambda              = 0.715\n",
      "yt : [INFO     ] 2022-07-19 14:21:36,190 Parameters: omega_matter              = 0.285\n",
      "yt : [INFO     ] 2022-07-19 14:21:36,191 Parameters: omega_radiation           = 0.0\n",
      "yt : [INFO     ] 2022-07-19 14:21:36,192 Parameters: hubble_constant           = 0.695\n"
     ]
    },
    {
     "name": "stdout",
     "output_type": "stream",
     "text": [
      "Pulling halo center from catalog file\n",
      "Opening snapshot /Volumes/TempestTimeSteps/DD0547/DD0547\n",
      "get_refine_box: using this location:      col1       col2     col3    col4     col5     col6    col7   col8\n",
      "------------- -------- ------- -------- -------- ------- -------- ----\n",
      "1.81473722039 0.492754 0.48709 0.501477 0.494754 0.48909 0.503477    9\n"
     ]
    },
    {
     "name": "stderr",
     "output_type": "stream",
     "text": [
      "Parsing Hierarchy : 100%|████████████████| 6241/6241 [00:00<00:00, 17246.85it/s]\n",
      "yt : [INFO     ] 2022-07-19 14:21:36,879 Gathering a field list (this may take a moment.)\n",
      "yt : [INFO     ] 2022-07-19 14:21:39,992 Parameters: current_time              = 174.81652781829\n",
      "yt : [INFO     ] 2022-07-19 14:21:39,995 Parameters: domain_dimensions         = [256 256 256]\n",
      "yt : [INFO     ] 2022-07-19 14:21:39,998 Parameters: domain_left_edge          = [0. 0. 0.]\n",
      "yt : [INFO     ] 2022-07-19 14:21:40,000 Parameters: domain_right_edge         = [1. 1. 1.]\n",
      "yt : [INFO     ] 2022-07-19 14:21:40,001 Parameters: cosmological_simulation   = 1\n",
      "yt : [INFO     ] 2022-07-19 14:21:40,002 Parameters: current_redshift          = 1.7588340361195\n",
      "yt : [INFO     ] 2022-07-19 14:21:40,003 Parameters: omega_lambda              = 0.715\n",
      "yt : [INFO     ] 2022-07-19 14:21:40,003 Parameters: omega_matter              = 0.285\n",
      "yt : [INFO     ] 2022-07-19 14:21:40,004 Parameters: omega_radiation           = 0.0\n",
      "yt : [INFO     ] 2022-07-19 14:21:40,005 Parameters: hubble_constant           = 0.695\n"
     ]
    },
    {
     "name": "stdout",
     "output_type": "stream",
     "text": [
      "Pulling halo center from catalog file\n",
      "Opening snapshot /Volumes/TempestTimeSteps/DD0567/DD0567\n",
      "get_refine_box: using this location:      col1       col2     col3     col4     col5     col6     col7   col8\n",
      "------------- -------- -------- -------- -------- -------- -------- ----\n",
      "1.75883403612 0.492716 0.486828 0.501538 0.494716 0.488828 0.503538    9\n"
     ]
    },
    {
     "name": "stderr",
     "output_type": "stream",
     "text": [
      "Parsing Hierarchy : 100%|████████████████| 6668/6668 [00:00<00:00, 17142.98it/s]\n",
      "yt : [INFO     ] 2022-07-19 14:21:40,712 Gathering a field list (this may take a moment.)\n"
     ]
    },
    {
     "name": "stdout",
     "output_type": "stream",
     "text": [
      "Pulling halo center from catalog file\n",
      "Opening snapshot /Volumes/TempestTimeSteps/DD0587/DD0587\n"
     ]
    },
    {
     "name": "stderr",
     "output_type": "stream",
     "text": [
      "yt : [INFO     ] 2022-07-19 14:21:43,994 Parameters: current_time              = 179.81652781829\n",
      "yt : [INFO     ] 2022-07-19 14:21:43,997 Parameters: domain_dimensions         = [256 256 256]\n",
      "yt : [INFO     ] 2022-07-19 14:21:43,999 Parameters: domain_left_edge          = [0. 0. 0.]\n",
      "yt : [INFO     ] 2022-07-19 14:21:44,002 Parameters: domain_right_edge         = [1. 1. 1.]\n",
      "yt : [INFO     ] 2022-07-19 14:21:44,003 Parameters: cosmological_simulation   = 1\n",
      "yt : [INFO     ] 2022-07-19 14:21:44,003 Parameters: current_redshift          = 1.7054615401925\n",
      "yt : [INFO     ] 2022-07-19 14:21:44,004 Parameters: omega_lambda              = 0.715\n",
      "yt : [INFO     ] 2022-07-19 14:21:44,004 Parameters: omega_matter              = 0.285\n",
      "yt : [INFO     ] 2022-07-19 14:21:44,005 Parameters: omega_radiation           = 0.0\n",
      "yt : [INFO     ] 2022-07-19 14:21:44,005 Parameters: hubble_constant           = 0.695\n"
     ]
    },
    {
     "name": "stdout",
     "output_type": "stream",
     "text": [
      "get_refine_box: using this location:      col1       col2     col3    col4     col5     col6    col7   col8\n",
      "------------- -------- ------- -------- -------- ------- -------- ----\n",
      "1.70546154019 0.492663 0.48654 0.501635 0.494663 0.48854 0.503635    9\n"
     ]
    },
    {
     "name": "stderr",
     "output_type": "stream",
     "text": [
      "Parsing Hierarchy : 100%|████████████████| 7018/7018 [00:00<00:00, 17491.70it/s]\n",
      "yt : [INFO     ] 2022-07-19 14:21:44,687 Gathering a field list (this may take a moment.)\n"
     ]
    },
    {
     "name": "stdout",
     "output_type": "stream",
     "text": [
      "Pulling halo center from catalog file\n",
      "Opening snapshot /Volumes/TempestTimeSteps/DD0607/DD0607\n"
     ]
    },
    {
     "name": "stderr",
     "output_type": "stream",
     "text": [
      "yt : [INFO     ] 2022-07-19 14:21:48,238 Parameters: current_time              = 184.81652781829\n",
      "yt : [INFO     ] 2022-07-19 14:21:48,241 Parameters: domain_dimensions         = [256 256 256]\n",
      "yt : [INFO     ] 2022-07-19 14:21:48,243 Parameters: domain_left_edge          = [0. 0. 0.]\n",
      "yt : [INFO     ] 2022-07-19 14:21:48,245 Parameters: domain_right_edge         = [1. 1. 1.]\n",
      "yt : [INFO     ] 2022-07-19 14:21:48,246 Parameters: cosmological_simulation   = 1\n",
      "yt : [INFO     ] 2022-07-19 14:21:48,246 Parameters: current_redshift          = 1.654435864871\n",
      "yt : [INFO     ] 2022-07-19 14:21:48,246 Parameters: omega_lambda              = 0.715\n",
      "yt : [INFO     ] 2022-07-19 14:21:48,247 Parameters: omega_matter              = 0.285\n",
      "yt : [INFO     ] 2022-07-19 14:21:48,247 Parameters: omega_radiation           = 0.0\n",
      "yt : [INFO     ] 2022-07-19 14:21:48,248 Parameters: hubble_constant           = 0.695\n"
     ]
    },
    {
     "name": "stdout",
     "output_type": "stream",
     "text": [
      "get_refine_box: using this location:      col1       col2     col3     col4     col5     col6     col7   col8\n",
      "------------- -------- -------- -------- -------- -------- -------- ----\n",
      "1.65443586487 0.492592 0.486264 0.501763 0.494592 0.488264 0.503763    9\n"
     ]
    },
    {
     "name": "stderr",
     "output_type": "stream",
     "text": [
      "Parsing Hierarchy : 100%|████████████████| 6646/6646 [00:00<00:00, 17081.18it/s]\n",
      "yt : [INFO     ] 2022-07-19 14:21:48,906 Gathering a field list (this may take a moment.)\n"
     ]
    },
    {
     "name": "stdout",
     "output_type": "stream",
     "text": [
      "Pulling halo center from catalog file\n",
      "Opening snapshot /Volumes/TempestTimeSteps/DD0627/DD0627\n"
     ]
    },
    {
     "name": "stderr",
     "output_type": "stream",
     "text": [
      "yt : [INFO     ] 2022-07-19 14:21:52,050 Parameters: current_time              = 189.81652781829\n",
      "yt : [INFO     ] 2022-07-19 14:21:52,053 Parameters: domain_dimensions         = [256 256 256]\n",
      "yt : [INFO     ] 2022-07-19 14:21:52,056 Parameters: domain_left_edge          = [0. 0. 0.]\n",
      "yt : [INFO     ] 2022-07-19 14:21:52,059 Parameters: domain_right_edge         = [1. 1. 1.]\n",
      "yt : [INFO     ] 2022-07-19 14:21:52,059 Parameters: cosmological_simulation   = 1\n",
      "yt : [INFO     ] 2022-07-19 14:21:52,060 Parameters: current_redshift          = 1.6055910020775\n",
      "yt : [INFO     ] 2022-07-19 14:21:52,061 Parameters: omega_lambda              = 0.715\n",
      "yt : [INFO     ] 2022-07-19 14:21:52,062 Parameters: omega_matter              = 0.285\n",
      "yt : [INFO     ] 2022-07-19 14:21:52,063 Parameters: omega_radiation           = 0.0\n",
      "yt : [INFO     ] 2022-07-19 14:21:52,065 Parameters: hubble_constant           = 0.695\n"
     ]
    },
    {
     "name": "stdout",
     "output_type": "stream",
     "text": [
      "get_refine_box: using this location:      col1       col2     col3     col4     col5     col6     col7   col8\n",
      "------------- -------- -------- -------- -------- -------- -------- ----\n",
      "1.60559100208 0.492518 0.485987 0.501896 0.494518 0.487987 0.503896    9\n"
     ]
    },
    {
     "name": "stderr",
     "output_type": "stream",
     "text": [
      "Parsing Hierarchy : 100%|████████████████| 7439/7439 [00:00<00:00, 17795.24it/s]\n",
      "yt : [INFO     ] 2022-07-19 14:21:52,770 Gathering a field list (this may take a moment.)\n"
     ]
    },
    {
     "name": "stdout",
     "output_type": "stream",
     "text": [
      "Pulling halo center from catalog file\n",
      "Opening snapshot /Volumes/TempestTimeSteps/DD0647/DD0647\n"
     ]
    },
    {
     "name": "stderr",
     "output_type": "stream",
     "text": [
      "yt : [INFO     ] 2022-07-19 14:21:55,804 Parameters: current_time              = 194.81652781829\n",
      "yt : [INFO     ] 2022-07-19 14:21:55,807 Parameters: domain_dimensions         = [256 256 256]\n",
      "yt : [INFO     ] 2022-07-19 14:21:55,810 Parameters: domain_left_edge          = [0. 0. 0.]\n",
      "yt : [INFO     ] 2022-07-19 14:21:55,812 Parameters: domain_right_edge         = [1. 1. 1.]\n",
      "yt : [INFO     ] 2022-07-19 14:21:55,813 Parameters: cosmological_simulation   = 1\n",
      "yt : [INFO     ] 2022-07-19 14:21:55,813 Parameters: current_redshift          = 1.5587766543771\n",
      "yt : [INFO     ] 2022-07-19 14:21:55,814 Parameters: omega_lambda              = 0.715\n",
      "yt : [INFO     ] 2022-07-19 14:21:55,815 Parameters: omega_matter              = 0.285\n",
      "yt : [INFO     ] 2022-07-19 14:21:55,815 Parameters: omega_radiation           = 0.0\n",
      "yt : [INFO     ] 2022-07-19 14:21:55,816 Parameters: hubble_constant           = 0.695\n"
     ]
    },
    {
     "name": "stdout",
     "output_type": "stream",
     "text": [
      "get_refine_box: using this location:      col1       col2     col3     col4     col5     col6     col7   col8\n",
      "------------- -------- -------- -------- -------- -------- -------- ----\n",
      "1.55877665438 0.492451 0.485703 0.502037 0.494451 0.487703 0.504037    9\n"
     ]
    },
    {
     "name": "stderr",
     "output_type": "stream",
     "text": [
      "Parsing Hierarchy : 100%|████████████████| 7437/7437 [00:00<00:00, 15676.55it/s]\n",
      "yt : [INFO     ] 2022-07-19 14:21:56,580 Gathering a field list (this may take a moment.)\n"
     ]
    },
    {
     "name": "stdout",
     "output_type": "stream",
     "text": [
      "Pulling halo center from catalog file\n",
      "Opening snapshot /Volumes/TempestTimeSteps/DD0667/DD0667\n"
     ]
    },
    {
     "name": "stderr",
     "output_type": "stream",
     "text": [
      "yt : [INFO     ] 2022-07-19 14:21:59,714 Parameters: current_time              = 199.81652781829\n",
      "yt : [INFO     ] 2022-07-19 14:21:59,717 Parameters: domain_dimensions         = [256 256 256]\n",
      "yt : [INFO     ] 2022-07-19 14:21:59,720 Parameters: domain_left_edge          = [0. 0. 0.]\n",
      "yt : [INFO     ] 2022-07-19 14:21:59,722 Parameters: domain_right_edge         = [1. 1. 1.]\n",
      "yt : [INFO     ] 2022-07-19 14:21:59,723 Parameters: cosmological_simulation   = 1\n",
      "yt : [INFO     ] 2022-07-19 14:21:59,723 Parameters: current_redshift          = 1.5138563920287\n",
      "yt : [INFO     ] 2022-07-19 14:21:59,724 Parameters: omega_lambda              = 0.715\n",
      "yt : [INFO     ] 2022-07-19 14:21:59,724 Parameters: omega_matter              = 0.285\n",
      "yt : [INFO     ] 2022-07-19 14:21:59,725 Parameters: omega_radiation           = 0.0\n",
      "yt : [INFO     ] 2022-07-19 14:21:59,725 Parameters: hubble_constant           = 0.695\n"
     ]
    },
    {
     "name": "stdout",
     "output_type": "stream",
     "text": [
      "get_refine_box: using this location:      col1       col2     col3     col4     col5     col6     col7   col8\n",
      "------------- -------- -------- -------- -------- -------- -------- ----\n",
      "1.51385639203 0.492384 0.485436 0.502152 0.494384 0.487436 0.504152    9\n"
     ]
    },
    {
     "name": "stderr",
     "output_type": "stream",
     "text": [
      "Parsing Hierarchy : 100%|████████████████| 8266/8266 [00:00<00:00, 16506.58it/s]\n",
      "yt : [INFO     ] 2022-07-19 14:22:00,540 Gathering a field list (this may take a moment.)\n",
      "yt : [INFO     ] 2022-07-19 14:22:03,564 Parameters: current_time              = 204.81652781829\n",
      "yt : [INFO     ] 2022-07-19 14:22:03,567 Parameters: domain_dimensions         = [256 256 256]\n",
      "yt : [INFO     ] 2022-07-19 14:22:03,570 Parameters: domain_left_edge          = [0. 0. 0.]\n",
      "yt : [INFO     ] 2022-07-19 14:22:03,572 Parameters: domain_right_edge         = [1. 1. 1.]\n",
      "yt : [INFO     ] 2022-07-19 14:22:03,573 Parameters: cosmological_simulation   = 1\n",
      "yt : [INFO     ] 2022-07-19 14:22:03,573 Parameters: current_redshift          = 1.4707060660811\n",
      "yt : [INFO     ] 2022-07-19 14:22:03,574 Parameters: omega_lambda              = 0.715\n",
      "yt : [INFO     ] 2022-07-19 14:22:03,574 Parameters: omega_matter              = 0.285\n",
      "yt : [INFO     ] 2022-07-19 14:22:03,575 Parameters: omega_radiation           = 0.0\n",
      "yt : [INFO     ] 2022-07-19 14:22:03,575 Parameters: hubble_constant           = 0.695\n"
     ]
    },
    {
     "name": "stdout",
     "output_type": "stream",
     "text": [
      "Pulling halo center from catalog file\n",
      "Opening snapshot /Volumes/TempestTimeSteps/DD0687/DD0687\n",
      "get_refine_box: using this location:      col1       col2     col3     col4    col5     col6     col7  col8\n",
      "------------- -------- -------- ------- -------- -------- ------- ----\n",
      "1.47070606608 0.492346 0.485169 0.50227 0.494346 0.487169 0.50427    9\n"
     ]
    },
    {
     "name": "stderr",
     "output_type": "stream",
     "text": [
      "Parsing Hierarchy : 100%|████████████████| 8638/8638 [00:00<00:00, 16402.42it/s]\n",
      "yt : [INFO     ] 2022-07-19 14:22:04,421 Gathering a field list (this may take a moment.)\n"
     ]
    },
    {
     "name": "stdout",
     "output_type": "stream",
     "text": [
      "Pulling halo center from catalog file\n",
      "Opening snapshot /Volumes/TempestTimeSteps/DD0707/DD0707\n"
     ]
    },
    {
     "name": "stderr",
     "output_type": "stream",
     "text": [
      "yt : [INFO     ] 2022-07-19 14:22:07,661 Parameters: current_time              = 209.81652781829\n",
      "yt : [INFO     ] 2022-07-19 14:22:07,664 Parameters: domain_dimensions         = [256 256 256]\n",
      "yt : [INFO     ] 2022-07-19 14:22:07,666 Parameters: domain_left_edge          = [0. 0. 0.]\n",
      "yt : [INFO     ] 2022-07-19 14:22:07,669 Parameters: domain_right_edge         = [1. 1. 1.]\n",
      "yt : [INFO     ] 2022-07-19 14:22:07,670 Parameters: cosmological_simulation   = 1\n",
      "yt : [INFO     ] 2022-07-19 14:22:07,670 Parameters: current_redshift          = 1.4292124366682\n",
      "yt : [INFO     ] 2022-07-19 14:22:07,671 Parameters: omega_lambda              = 0.715\n",
      "yt : [INFO     ] 2022-07-19 14:22:07,672 Parameters: omega_matter              = 0.285\n",
      "yt : [INFO     ] 2022-07-19 14:22:07,673 Parameters: omega_radiation           = 0.0\n",
      "yt : [INFO     ] 2022-07-19 14:22:07,674 Parameters: hubble_constant           = 0.695\n"
     ]
    },
    {
     "name": "stdout",
     "output_type": "stream",
     "text": [
      "get_refine_box: using this location:      col1       col2     col3     col4     col5     col6     col7   col8\n",
      "------------- -------- -------- -------- -------- -------- -------- ----\n",
      "1.42921243667 0.492291 0.484911 0.502394 0.494291 0.486911 0.504394    9\n"
     ]
    },
    {
     "name": "stderr",
     "output_type": "stream",
     "text": [
      "Parsing Hierarchy : 100%|████████████████| 8418/8418 [00:00<00:00, 16265.44it/s]\n",
      "yt : [INFO     ] 2022-07-19 14:24:43,962 Gathering a field list (this may take a moment.)\n"
     ]
    },
    {
     "name": "stdout",
     "output_type": "stream",
     "text": [
      "Pulling halo center from catalog file\n",
      "Opening snapshot /Volumes/TempestTimeSteps/DD0727/DD0727\n"
     ]
    },
    {
     "name": "stderr",
     "output_type": "stream",
     "text": [
      "yt : [INFO     ] 2022-07-19 14:24:48,902 Parameters: current_time              = 214.81652781829\n",
      "yt : [INFO     ] 2022-07-19 14:24:48,905 Parameters: domain_dimensions         = [256 256 256]\n",
      "yt : [INFO     ] 2022-07-19 14:24:48,911 Parameters: domain_left_edge          = [0. 0. 0.]\n",
      "yt : [INFO     ] 2022-07-19 14:24:48,915 Parameters: domain_right_edge         = [1. 1. 1.]\n",
      "yt : [INFO     ] 2022-07-19 14:24:48,916 Parameters: cosmological_simulation   = 1\n",
      "yt : [INFO     ] 2022-07-19 14:24:48,916 Parameters: current_redshift          = 1.3892719829729\n",
      "yt : [INFO     ] 2022-07-19 14:24:48,918 Parameters: omega_lambda              = 0.715\n",
      "yt : [INFO     ] 2022-07-19 14:24:48,918 Parameters: omega_matter              = 0.285\n",
      "yt : [INFO     ] 2022-07-19 14:24:48,919 Parameters: omega_radiation           = 0.0\n",
      "yt : [INFO     ] 2022-07-19 14:24:48,920 Parameters: hubble_constant           = 0.695\n"
     ]
    },
    {
     "name": "stdout",
     "output_type": "stream",
     "text": [
      "get_refine_box: using this location:      col1       col2     col3     col4     col5     col6     col7   col8\n",
      "------------- -------- -------- -------- -------- -------- -------- ----\n",
      "1.38927198297 0.492228 0.484667 0.502503 0.494228 0.486667 0.504503    9\n"
     ]
    },
    {
     "name": "stderr",
     "output_type": "stream",
     "text": [
      "Parsing Hierarchy : 100%|████████████████| 8146/8146 [00:00<00:00, 15201.73it/s]\n",
      "yt : [INFO     ] 2022-07-19 14:24:49,840 Gathering a field list (this may take a moment.)\n"
     ]
    },
    {
     "name": "stdout",
     "output_type": "stream",
     "text": [
      "Pulling halo center from catalog file\n",
      "Opening snapshot /Volumes/TempestTimeSteps/DD0747/DD0747\n"
     ]
    },
    {
     "name": "stderr",
     "output_type": "stream",
     "text": [
      "yt : [INFO     ] 2022-07-19 14:24:53,433 Parameters: current_time              = 219.81652781829\n",
      "yt : [INFO     ] 2022-07-19 14:24:53,435 Parameters: domain_dimensions         = [256 256 256]\n",
      "yt : [INFO     ] 2022-07-19 14:24:53,440 Parameters: domain_left_edge          = [0. 0. 0.]\n",
      "yt : [INFO     ] 2022-07-19 14:24:53,442 Parameters: domain_right_edge         = [1. 1. 1.]\n",
      "yt : [INFO     ] 2022-07-19 14:24:53,443 Parameters: cosmological_simulation   = 1\n",
      "yt : [INFO     ] 2022-07-19 14:24:53,444 Parameters: current_redshift          = 1.3507898672001\n",
      "yt : [INFO     ] 2022-07-19 14:24:53,445 Parameters: omega_lambda              = 0.715\n",
      "yt : [INFO     ] 2022-07-19 14:24:53,445 Parameters: omega_matter              = 0.285\n",
      "yt : [INFO     ] 2022-07-19 14:24:53,446 Parameters: omega_radiation           = 0.0\n",
      "yt : [INFO     ] 2022-07-19 14:24:53,446 Parameters: hubble_constant           = 0.695\n"
     ]
    },
    {
     "name": "stdout",
     "output_type": "stream",
     "text": [
      "get_refine_box: using this location:     col1       col2     col3     col4     col5     col6     col7   col8\n",
      "------------ -------- -------- -------- -------- -------- -------- ----\n",
      "1.3507898672 0.492157 0.484423 0.502606 0.494157 0.486423 0.504606    9\n"
     ]
    },
    {
     "name": "stderr",
     "output_type": "stream",
     "text": [
      "Parsing Hierarchy : 100%|████████████████| 8058/8058 [00:00<00:00, 16919.69it/s]\n",
      "yt : [INFO     ] 2022-07-19 14:24:54,250 Gathering a field list (this may take a moment.)\n"
     ]
    },
    {
     "name": "stdout",
     "output_type": "stream",
     "text": [
      "Pulling halo center from catalog file\n",
      "Opening snapshot /Volumes/TempestTimeSteps/DD0767/DD0767\n"
     ]
    },
    {
     "name": "stderr",
     "output_type": "stream",
     "text": [
      "yt : [INFO     ] 2022-07-19 14:24:58,000 Parameters: current_time              = 224.81652781829\n",
      "yt : [INFO     ] 2022-07-19 14:24:58,003 Parameters: domain_dimensions         = [256 256 256]\n",
      "yt : [INFO     ] 2022-07-19 14:24:58,007 Parameters: domain_left_edge          = [0. 0. 0.]\n",
      "yt : [INFO     ] 2022-07-19 14:24:58,010 Parameters: domain_right_edge         = [1. 1. 1.]\n",
      "yt : [INFO     ] 2022-07-19 14:24:58,012 Parameters: cosmological_simulation   = 1\n",
      "yt : [INFO     ] 2022-07-19 14:24:58,012 Parameters: current_redshift          = 1.3136790296363\n",
      "yt : [INFO     ] 2022-07-19 14:24:58,014 Parameters: omega_lambda              = 0.715\n",
      "yt : [INFO     ] 2022-07-19 14:24:58,015 Parameters: omega_matter              = 0.285\n",
      "yt : [INFO     ] 2022-07-19 14:24:58,015 Parameters: omega_radiation           = 0.0\n",
      "yt : [INFO     ] 2022-07-19 14:24:58,016 Parameters: hubble_constant           = 0.695\n"
     ]
    },
    {
     "name": "stdout",
     "output_type": "stream",
     "text": [
      "get_refine_box: using this location:      col1       col2     col3     col4     col5     col6     col7   col8\n",
      "------------- -------- -------- -------- -------- -------- -------- ----\n",
      "1.31367902964 0.492089 0.484183 0.502695 0.494089 0.486183 0.504695    9\n"
     ]
    },
    {
     "name": "stderr",
     "output_type": "stream",
     "text": [
      "Parsing Hierarchy : 100%|████████████████| 7829/7829 [00:00<00:00, 16857.22it/s]\n",
      "yt : [INFO     ] 2022-07-19 14:24:58,811 Gathering a field list (this may take a moment.)\n"
     ]
    },
    {
     "name": "stdout",
     "output_type": "stream",
     "text": [
      "Pulling halo center from catalog file\n",
      "Opening snapshot /Volumes/TempestTimeSteps/DD0787/DD0787\n"
     ]
    },
    {
     "name": "stderr",
     "output_type": "stream",
     "text": [
      "yt : [INFO     ] 2022-07-19 14:25:02,355 Parameters: current_time              = 229.81652781829\n",
      "yt : [INFO     ] 2022-07-19 14:25:02,358 Parameters: domain_dimensions         = [256 256 256]\n",
      "yt : [INFO     ] 2022-07-19 14:25:02,361 Parameters: domain_left_edge          = [0. 0. 0.]\n",
      "yt : [INFO     ] 2022-07-19 14:25:02,363 Parameters: domain_right_edge         = [1. 1. 1.]\n",
      "yt : [INFO     ] 2022-07-19 14:25:02,364 Parameters: cosmological_simulation   = 1\n",
      "yt : [INFO     ] 2022-07-19 14:25:02,365 Parameters: current_redshift          = 1.2778593957079\n",
      "yt : [INFO     ] 2022-07-19 14:25:02,365 Parameters: omega_lambda              = 0.715\n",
      "yt : [INFO     ] 2022-07-19 14:25:02,366 Parameters: omega_matter              = 0.285\n",
      "yt : [INFO     ] 2022-07-19 14:25:02,366 Parameters: omega_radiation           = 0.0\n",
      "yt : [INFO     ] 2022-07-19 14:25:02,367 Parameters: hubble_constant           = 0.695\n"
     ]
    },
    {
     "name": "stdout",
     "output_type": "stream",
     "text": [
      "get_refine_box: using this location:      col1       col2     col3     col4     col5     col6     col7   col8\n",
      "------------- -------- -------- -------- -------- -------- -------- ----\n",
      "1.27785939571 0.492022 0.483956 0.502785 0.494022 0.485956 0.504785    9\n"
     ]
    },
    {
     "name": "stderr",
     "output_type": "stream",
     "text": [
      "Parsing Hierarchy : 100%|████████████████| 8132/8132 [00:00<00:00, 16572.88it/s]\n",
      "yt : [INFO     ] 2022-07-19 14:25:03,188 Gathering a field list (this may take a moment.)\n"
     ]
    },
    {
     "name": "stdout",
     "output_type": "stream",
     "text": [
      "Pulling halo center from catalog file\n",
      "Opening snapshot /Volumes/TempestTimeSteps/DD0807/DD0807\n"
     ]
    },
    {
     "name": "stderr",
     "output_type": "stream",
     "text": [
      "yt : [INFO     ] 2022-07-19 14:25:06,602 Parameters: current_time              = 234.81652781829\n",
      "yt : [INFO     ] 2022-07-19 14:25:06,605 Parameters: domain_dimensions         = [256 256 256]\n",
      "yt : [INFO     ] 2022-07-19 14:25:06,608 Parameters: domain_left_edge          = [0. 0. 0.]\n",
      "yt : [INFO     ] 2022-07-19 14:25:06,611 Parameters: domain_right_edge         = [1. 1. 1.]\n",
      "yt : [INFO     ] 2022-07-19 14:25:06,611 Parameters: cosmological_simulation   = 1\n",
      "yt : [INFO     ] 2022-07-19 14:25:06,612 Parameters: current_redshift          = 1.2432571790813\n",
      "yt : [INFO     ] 2022-07-19 14:25:06,613 Parameters: omega_lambda              = 0.715\n",
      "yt : [INFO     ] 2022-07-19 14:25:06,613 Parameters: omega_matter              = 0.285\n",
      "yt : [INFO     ] 2022-07-19 14:25:06,614 Parameters: omega_radiation           = 0.0\n",
      "yt : [INFO     ] 2022-07-19 14:25:06,615 Parameters: hubble_constant           = 0.695\n"
     ]
    },
    {
     "name": "stdout",
     "output_type": "stream",
     "text": [
      "get_refine_box: using this location:      col1       col2     col3     col4     col5     col6     col7   col8\n",
      "------------- -------- -------- -------- -------- -------- -------- ----\n",
      "1.24325717908 0.491957 0.483733 0.502879 0.493957 0.485733 0.504879    9\n"
     ]
    },
    {
     "name": "stderr",
     "output_type": "stream",
     "text": [
      "Parsing Hierarchy : 100%|████████████████| 7374/7374 [00:00<00:00, 18181.86it/s]\n",
      "yt : [INFO     ] 2022-07-19 14:25:07,364 Gathering a field list (this may take a moment.)\n"
     ]
    },
    {
     "name": "stdout",
     "output_type": "stream",
     "text": [
      "Pulling halo center from catalog file\n",
      "Opening snapshot /Volumes/TempestTimeSteps/DD0827/DD0827\n"
     ]
    },
    {
     "name": "stderr",
     "output_type": "stream",
     "text": [
      "yt : [INFO     ] 2022-07-19 14:25:11,175 Parameters: current_time              = 239.81652781829\n",
      "yt : [INFO     ] 2022-07-19 14:25:11,178 Parameters: domain_dimensions         = [256 256 256]\n",
      "yt : [INFO     ] 2022-07-19 14:25:11,180 Parameters: domain_left_edge          = [0. 0. 0.]\n",
      "yt : [INFO     ] 2022-07-19 14:25:11,182 Parameters: domain_right_edge         = [1. 1. 1.]\n",
      "yt : [INFO     ] 2022-07-19 14:25:11,183 Parameters: cosmological_simulation   = 1\n",
      "yt : [INFO     ] 2022-07-19 14:25:11,183 Parameters: current_redshift          = 1.2098042674053\n",
      "yt : [INFO     ] 2022-07-19 14:25:11,184 Parameters: omega_lambda              = 0.715\n",
      "yt : [INFO     ] 2022-07-19 14:25:11,185 Parameters: omega_matter              = 0.285\n",
      "yt : [INFO     ] 2022-07-19 14:25:11,185 Parameters: omega_radiation           = 0.0\n",
      "yt : [INFO     ] 2022-07-19 14:25:11,186 Parameters: hubble_constant           = 0.695\n"
     ]
    },
    {
     "name": "stdout",
     "output_type": "stream",
     "text": [
      "get_refine_box: using this location:      col1       col2     col3     col4     col5     col6     col7   col8\n",
      "------------- -------- -------- -------- -------- -------- -------- ----\n",
      "1.20980426741 0.491888 0.483515 0.502974 0.493888 0.485515 0.504974    9\n"
     ]
    },
    {
     "name": "stderr",
     "output_type": "stream",
     "text": [
      "Parsing Hierarchy : 100%|████████████████| 6935/6935 [00:00<00:00, 10998.23it/s]\n",
      "yt : [INFO     ] 2022-07-19 14:25:12,165 Gathering a field list (this may take a moment.)\n"
     ]
    },
    {
     "name": "stdout",
     "output_type": "stream",
     "text": [
      "Pulling halo center from catalog file\n",
      "Opening snapshot /Volumes/TempestTimeSteps/DD0847/DD0847\n"
     ]
    },
    {
     "name": "stderr",
     "output_type": "stream",
     "text": [
      "yt : [INFO     ] 2022-07-19 14:25:15,776 Parameters: current_time              = 244.81652781829\n",
      "yt : [INFO     ] 2022-07-19 14:25:15,778 Parameters: domain_dimensions         = [256 256 256]\n",
      "yt : [INFO     ] 2022-07-19 14:25:15,781 Parameters: domain_left_edge          = [0. 0. 0.]\n",
      "yt : [INFO     ] 2022-07-19 14:25:15,784 Parameters: domain_right_edge         = [1. 1. 1.]\n",
      "yt : [INFO     ] 2022-07-19 14:25:15,784 Parameters: cosmological_simulation   = 1\n",
      "yt : [INFO     ] 2022-07-19 14:25:15,785 Parameters: current_redshift          = 1.1774376794027\n",
      "yt : [INFO     ] 2022-07-19 14:25:15,785 Parameters: omega_lambda              = 0.715\n",
      "yt : [INFO     ] 2022-07-19 14:25:15,786 Parameters: omega_matter              = 0.285\n",
      "yt : [INFO     ] 2022-07-19 14:25:15,786 Parameters: omega_radiation           = 0.0\n",
      "yt : [INFO     ] 2022-07-19 14:25:15,787 Parameters: hubble_constant           = 0.695\n"
     ]
    },
    {
     "name": "stdout",
     "output_type": "stream",
     "text": [
      "get_refine_box: using this location:     col1       col2     col3    col4     col5     col6    col7   col8\n",
      "------------ -------- ------- -------- -------- ------- -------- ----\n",
      "1.1774376794 0.491816 0.48329 0.503077 0.493816 0.48529 0.505077    9\n"
     ]
    },
    {
     "name": "stderr",
     "output_type": "stream",
     "text": [
      "Parsing Hierarchy : 100%|████████████████| 6688/6688 [00:00<00:00, 10581.36it/s]\n",
      "yt : [INFO     ] 2022-07-19 14:25:16,802 Gathering a field list (this may take a moment.)\n"
     ]
    },
    {
     "name": "stdout",
     "output_type": "stream",
     "text": [
      "Pulling halo center from catalog file\n",
      "Opening snapshot /Volumes/TempestTimeSteps/DD0867/DD0867\n"
     ]
    },
    {
     "name": "stderr",
     "output_type": "stream",
     "text": [
      "yt : [INFO     ] 2022-07-19 14:25:20,665 Parameters: current_time              = 249.81652781829\n",
      "yt : [INFO     ] 2022-07-19 14:25:20,668 Parameters: domain_dimensions         = [256 256 256]\n",
      "yt : [INFO     ] 2022-07-19 14:25:20,671 Parameters: domain_left_edge          = [0. 0. 0.]\n",
      "yt : [INFO     ] 2022-07-19 14:25:20,673 Parameters: domain_right_edge         = [1. 1. 1.]\n",
      "yt : [INFO     ] 2022-07-19 14:25:20,674 Parameters: cosmological_simulation   = 1\n",
      "yt : [INFO     ] 2022-07-19 14:25:20,674 Parameters: current_redshift          = 1.1460990837584\n",
      "yt : [INFO     ] 2022-07-19 14:25:20,675 Parameters: omega_lambda              = 0.715\n",
      "yt : [INFO     ] 2022-07-19 14:25:20,676 Parameters: omega_matter              = 0.285\n",
      "yt : [INFO     ] 2022-07-19 14:25:20,676 Parameters: omega_radiation           = 0.0\n",
      "yt : [INFO     ] 2022-07-19 14:25:20,677 Parameters: hubble_constant           = 0.695\n"
     ]
    },
    {
     "name": "stdout",
     "output_type": "stream",
     "text": [
      "get_refine_box: using this location:      col1       col2     col3     col4     col5     col6     col7   col8\n",
      "------------- -------- -------- -------- -------- -------- -------- ----\n",
      "1.14609908376 0.491743 0.483059 0.503163 0.493743 0.485059 0.505163    9\n"
     ]
    },
    {
     "name": "stderr",
     "output_type": "stream",
     "text": [
      "Parsing Hierarchy : 100%|████████████████| 7962/7962 [00:00<00:00, 10239.45it/s]\n",
      "yt : [INFO     ] 2022-07-19 14:25:21,861 Gathering a field list (this may take a moment.)\n"
     ]
    },
    {
     "name": "stdout",
     "output_type": "stream",
     "text": [
      "Pulling halo center from catalog file\n",
      "Opening snapshot /Volumes/TempestTimeSteps/DD0887/DD0887\n"
     ]
    },
    {
     "name": "stderr",
     "output_type": "stream",
     "text": [
      "yt : [INFO     ] 2022-07-19 14:25:25,719 Parameters: current_time              = 254.81652781829\n",
      "yt : [INFO     ] 2022-07-19 14:25:25,722 Parameters: domain_dimensions         = [256 256 256]\n",
      "yt : [INFO     ] 2022-07-19 14:25:25,727 Parameters: domain_left_edge          = [0. 0. 0.]\n",
      "yt : [INFO     ] 2022-07-19 14:25:25,732 Parameters: domain_right_edge         = [1. 1. 1.]\n",
      "yt : [INFO     ] 2022-07-19 14:25:25,733 Parameters: cosmological_simulation   = 1\n",
      "yt : [INFO     ] 2022-07-19 14:25:25,736 Parameters: current_redshift          = 1.1157343716912\n",
      "yt : [INFO     ] 2022-07-19 14:25:25,738 Parameters: omega_lambda              = 0.715\n",
      "yt : [INFO     ] 2022-07-19 14:25:25,738 Parameters: omega_matter              = 0.285\n",
      "yt : [INFO     ] 2022-07-19 14:25:25,739 Parameters: omega_radiation           = 0.0\n",
      "yt : [INFO     ] 2022-07-19 14:25:25,740 Parameters: hubble_constant           = 0.695\n"
     ]
    },
    {
     "name": "stdout",
     "output_type": "stream",
     "text": [
      "get_refine_box: using this location:      col1       col2     col3     col4     col5     col6     col7   col8\n",
      "------------- -------- -------- -------- -------- -------- -------- ----\n",
      "1.11573437169 0.491684 0.482832 0.503258 0.493684 0.484832 0.505258    9\n"
     ]
    },
    {
     "name": "stderr",
     "output_type": "stream",
     "text": [
      "Parsing Hierarchy : 100%|████████████████| 7394/7394 [00:00<00:00, 11390.89it/s]\n",
      "yt : [INFO     ] 2022-07-19 14:25:26,770 Gathering a field list (this may take a moment.)\n"
     ]
    },
    {
     "name": "stdout",
     "output_type": "stream",
     "text": [
      "Pulling halo center from catalog file\n",
      "Opening snapshot /Volumes/TempestTimeSteps/DD0907/DD0907\n"
     ]
    },
    {
     "name": "stderr",
     "output_type": "stream",
     "text": [
      "yt : [INFO     ] 2022-07-19 14:25:30,779 Parameters: current_time              = 259.81652781829\n",
      "yt : [INFO     ] 2022-07-19 14:25:30,782 Parameters: domain_dimensions         = [256 256 256]\n",
      "yt : [INFO     ] 2022-07-19 14:25:30,785 Parameters: domain_left_edge          = [0. 0. 0.]\n",
      "yt : [INFO     ] 2022-07-19 14:25:30,788 Parameters: domain_right_edge         = [1. 1. 1.]\n",
      "yt : [INFO     ] 2022-07-19 14:25:30,789 Parameters: cosmological_simulation   = 1\n",
      "yt : [INFO     ] 2022-07-19 14:25:30,789 Parameters: current_redshift          = 1.0862932762982\n",
      "yt : [INFO     ] 2022-07-19 14:25:30,790 Parameters: omega_lambda              = 0.715\n",
      "yt : [INFO     ] 2022-07-19 14:25:30,790 Parameters: omega_matter              = 0.285\n",
      "yt : [INFO     ] 2022-07-19 14:25:30,791 Parameters: omega_radiation           = 0.0\n",
      "yt : [INFO     ] 2022-07-19 14:25:30,792 Parameters: hubble_constant           = 0.695\n"
     ]
    },
    {
     "name": "stdout",
     "output_type": "stream",
     "text": [
      "get_refine_box: using this location:     col1       col2     col3     col4    col5     col6     col7  col8\n",
      "------------ -------- -------- ------- -------- -------- ------- ----\n",
      "1.0862932763 0.491633 0.482603 0.50335 0.493633 0.484603 0.50535    9\n"
     ]
    },
    {
     "name": "stderr",
     "output_type": "stream",
     "text": [
      "Parsing Hierarchy : 100%|████████████████| 7350/7350 [00:00<00:00, 12980.68it/s]\n",
      "yt : [INFO     ] 2022-07-19 14:25:31,717 Gathering a field list (this may take a moment.)\n",
      "yt : [INFO     ] 2022-07-19 14:25:35,118 Parameters: current_time              = 264.81652781829\n",
      "yt : [INFO     ] 2022-07-19 14:25:35,120 Parameters: domain_dimensions         = [256 256 256]\n",
      "yt : [INFO     ] 2022-07-19 14:25:35,123 Parameters: domain_left_edge          = [0. 0. 0.]\n",
      "yt : [INFO     ] 2022-07-19 14:25:35,125 Parameters: domain_right_edge         = [1. 1. 1.]\n",
      "yt : [INFO     ] 2022-07-19 14:25:35,126 Parameters: cosmological_simulation   = 1\n",
      "yt : [INFO     ] 2022-07-19 14:25:35,126 Parameters: current_redshift          = 1.0577290327654\n",
      "yt : [INFO     ] 2022-07-19 14:25:35,127 Parameters: omega_lambda              = 0.715\n",
      "yt : [INFO     ] 2022-07-19 14:25:35,127 Parameters: omega_matter              = 0.285\n",
      "yt : [INFO     ] 2022-07-19 14:25:35,128 Parameters: omega_radiation           = 0.0\n",
      "yt : [INFO     ] 2022-07-19 14:25:35,129 Parameters: hubble_constant           = 0.695\n"
     ]
    },
    {
     "name": "stdout",
     "output_type": "stream",
     "text": [
      "Pulling halo center from catalog file\n",
      "Opening snapshot /Volumes/TempestTimeSteps/DD0927/DD0927\n",
      "get_refine_box: using this location:      col1       col2     col3    col4     col5     col6    col7   col8\n",
      "------------- -------- ------- -------- -------- ------- -------- ----\n",
      "1.05772903277 0.491583 0.48238 0.503437 0.493583 0.48438 0.505437    9\n"
     ]
    },
    {
     "name": "stderr",
     "output_type": "stream",
     "text": [
      "Parsing Hierarchy : 100%|████████████████| 6595/6595 [00:00<00:00, 12637.64it/s]\n",
      "yt : [INFO     ] 2022-07-19 14:25:36,051 Gathering a field list (this may take a moment.)\n",
      "yt : [INFO     ] 2022-07-19 14:25:39,541 Parameters: current_time              = 269.81652781829\n",
      "yt : [INFO     ] 2022-07-19 14:25:39,544 Parameters: domain_dimensions         = [256 256 256]\n",
      "yt : [INFO     ] 2022-07-19 14:25:39,546 Parameters: domain_left_edge          = [0. 0. 0.]\n",
      "yt : [INFO     ] 2022-07-19 14:25:39,549 Parameters: domain_right_edge         = [1. 1. 1.]\n",
      "yt : [INFO     ] 2022-07-19 14:25:39,550 Parameters: cosmological_simulation   = 1\n",
      "yt : [INFO     ] 2022-07-19 14:25:39,550 Parameters: current_redshift          = 1.0299980743789\n",
      "yt : [INFO     ] 2022-07-19 14:25:39,551 Parameters: omega_lambda              = 0.715\n",
      "yt : [INFO     ] 2022-07-19 14:25:39,551 Parameters: omega_matter              = 0.285\n",
      "yt : [INFO     ] 2022-07-19 14:25:39,552 Parameters: omega_radiation           = 0.0\n",
      "yt : [INFO     ] 2022-07-19 14:25:39,552 Parameters: hubble_constant           = 0.695\n"
     ]
    },
    {
     "name": "stdout",
     "output_type": "stream",
     "text": [
      "Pulling halo center from catalog file\n",
      "Opening snapshot /Volumes/TempestTimeSteps/DD0947/DD0947\n",
      "get_refine_box: using this location:      col1       col2     col3     col4     col5     col6     col7   col8\n",
      "------------- -------- -------- -------- -------- -------- -------- ----\n",
      "1.02999807438 0.491539 0.482157 0.503523 0.493539 0.484157 0.505523    9\n"
     ]
    },
    {
     "name": "stderr",
     "output_type": "stream",
     "text": [
      "Parsing Hierarchy : 100%|████████████████| 6486/6486 [00:00<00:00, 13423.90it/s]\n",
      "yt : [INFO     ] 2022-07-19 14:25:40,428 Gathering a field list (this may take a moment.)\n",
      "yt : [INFO     ] 2022-07-19 14:25:43,820 Parameters: current_time              = 274.56652781829\n",
      "yt : [INFO     ] 2022-07-19 14:25:43,822 Parameters: domain_dimensions         = [256 256 256]\n",
      "yt : [INFO     ] 2022-07-19 14:25:43,824 Parameters: domain_left_edge          = [0. 0. 0.]\n",
      "yt : [INFO     ] 2022-07-19 14:25:43,827 Parameters: domain_right_edge         = [1. 1. 1.]\n",
      "yt : [INFO     ] 2022-07-19 14:25:43,827 Parameters: cosmological_simulation   = 1\n",
      "yt : [INFO     ] 2022-07-19 14:25:43,828 Parameters: current_redshift          = 1.0043884467376\n",
      "yt : [INFO     ] 2022-07-19 14:25:43,828 Parameters: omega_lambda              = 0.715\n",
      "yt : [INFO     ] 2022-07-19 14:25:43,829 Parameters: omega_matter              = 0.285\n",
      "yt : [INFO     ] 2022-07-19 14:25:43,830 Parameters: omega_radiation           = 0.0\n",
      "yt : [INFO     ] 2022-07-19 14:25:43,831 Parameters: hubble_constant           = 0.695\n"
     ]
    },
    {
     "name": "stdout",
     "output_type": "stream",
     "text": [
      "Pulling halo center from catalog file\n",
      "Opening snapshot /Volumes/TempestTimeSteps/DD0967/DD0967\n",
      "get_refine_box: using this location:      col1       col2     col3     col4     col5     col6     col7   col8\n",
      "------------- -------- -------- -------- -------- -------- -------- ----\n",
      "1.00438844674 0.491497 0.481944 0.503607 0.493497 0.483944 0.505607    9\n"
     ]
    },
    {
     "name": "stderr",
     "output_type": "stream",
     "text": [
      "Parsing Hierarchy : 100%|████████████████| 5908/5908 [00:00<00:00, 12351.57it/s]\n",
      "yt : [INFO     ] 2022-07-19 14:25:44,687 Gathering a field list (this may take a moment.)\n",
      "yt : [INFO     ] 2022-07-19 14:25:48,093 Parameters: current_time              = 279.56652781829\n",
      "yt : [INFO     ] 2022-07-19 14:25:48,096 Parameters: domain_dimensions         = [256 256 256]\n",
      "yt : [INFO     ] 2022-07-19 14:25:48,100 Parameters: domain_left_edge          = [0. 0. 0.]\n",
      "yt : [INFO     ] 2022-07-19 14:25:48,103 Parameters: domain_right_edge         = [1. 1. 1.]\n",
      "yt : [INFO     ] 2022-07-19 14:25:48,104 Parameters: cosmological_simulation   = 1\n",
      "yt : [INFO     ] 2022-07-19 14:25:48,104 Parameters: current_redshift          = 0.97816794442974\n",
      "yt : [INFO     ] 2022-07-19 14:25:48,105 Parameters: omega_lambda              = 0.715\n",
      "yt : [INFO     ] 2022-07-19 14:25:48,105 Parameters: omega_matter              = 0.285\n",
      "yt : [INFO     ] 2022-07-19 14:25:48,106 Parameters: omega_radiation           = 0.0\n",
      "yt : [INFO     ] 2022-07-19 14:25:48,106 Parameters: hubble_constant           = 0.695\n"
     ]
    },
    {
     "name": "stdout",
     "output_type": "stream",
     "text": [
      "Pulling halo center from catalog file\n",
      "Opening snapshot /Volumes/TempestTimeSteps/DD0987/DD0987\n",
      "get_refine_box: using this location:      col1       col2     col3     col4     col5     col6     col7   col8\n",
      "------------- -------- -------- -------- -------- -------- -------- ----\n",
      "0.97816794443 0.491452 0.481724 0.503697 0.493452 0.483724 0.505697    9\n"
     ]
    },
    {
     "name": "stderr",
     "output_type": "stream",
     "text": [
      "Parsing Hierarchy : 100%|████████████████| 5704/5704 [00:00<00:00, 12732.31it/s]\n",
      "yt : [INFO     ] 2022-07-19 14:25:48,913 Gathering a field list (this may take a moment.)\n"
     ]
    },
    {
     "name": "stdout",
     "output_type": "stream",
     "text": [
      "Pulling halo center from catalog file\n",
      "Opening snapshot /Volumes/TempestTimeSteps/DD1007/DD1007\n"
     ]
    },
    {
     "name": "stderr",
     "output_type": "stream",
     "text": [
      "yt : [INFO     ] 2022-07-19 14:25:52,340 Parameters: current_time              = 284.56652781829\n",
      "yt : [INFO     ] 2022-07-19 14:25:52,343 Parameters: domain_dimensions         = [256 256 256]\n",
      "yt : [INFO     ] 2022-07-19 14:25:52,345 Parameters: domain_left_edge          = [0. 0. 0.]\n",
      "yt : [INFO     ] 2022-07-19 14:25:52,348 Parameters: domain_right_edge         = [1. 1. 1.]\n",
      "yt : [INFO     ] 2022-07-19 14:25:52,349 Parameters: cosmological_simulation   = 1\n",
      "yt : [INFO     ] 2022-07-19 14:25:52,350 Parameters: current_redshift          = 0.95266834518911\n",
      "yt : [INFO     ] 2022-07-19 14:25:52,350 Parameters: omega_lambda              = 0.715\n",
      "yt : [INFO     ] 2022-07-19 14:25:52,351 Parameters: omega_matter              = 0.285\n",
      "yt : [INFO     ] 2022-07-19 14:25:52,351 Parameters: omega_radiation           = 0.0\n",
      "yt : [INFO     ] 2022-07-19 14:25:52,352 Parameters: hubble_constant           = 0.695\n"
     ]
    },
    {
     "name": "stdout",
     "output_type": "stream",
     "text": [
      "get_refine_box: using this location:      col1        col2     col3     col4     col5     col6     col7   col8\n",
      "-------------- -------- -------- -------- -------- -------- -------- ----\n",
      "0.952668345189 0.491404 0.481507 0.503786 0.493404 0.483507 0.505786    9\n"
     ]
    },
    {
     "name": "stderr",
     "output_type": "stream",
     "text": [
      "Parsing Hierarchy : 100%|████████████████| 5544/5544 [00:00<00:00, 13410.87it/s]\n",
      "yt : [INFO     ] 2022-07-19 14:25:53,050 Gathering a field list (this may take a moment.)\n"
     ]
    },
    {
     "name": "stdout",
     "output_type": "stream",
     "text": [
      "Pulling halo center from catalog file\n",
      "Opening snapshot /Volumes/TempestTimeSteps/DD1027/DD1027\n"
     ]
    },
    {
     "name": "stderr",
     "output_type": "stream",
     "text": [
      "yt : [INFO     ] 2022-07-19 14:25:56,340 Parameters: current_time              = 289.56652781829\n",
      "yt : [INFO     ] 2022-07-19 14:25:56,342 Parameters: domain_dimensions         = [256 256 256]\n",
      "yt : [INFO     ] 2022-07-19 14:25:56,345 Parameters: domain_left_edge          = [0. 0. 0.]\n",
      "yt : [INFO     ] 2022-07-19 14:25:56,348 Parameters: domain_right_edge         = [1. 1. 1.]\n",
      "yt : [INFO     ] 2022-07-19 14:25:56,348 Parameters: cosmological_simulation   = 1\n",
      "yt : [INFO     ] 2022-07-19 14:25:56,349 Parameters: current_redshift          = 0.92785630164072\n",
      "yt : [INFO     ] 2022-07-19 14:25:56,349 Parameters: omega_lambda              = 0.715\n",
      "yt : [INFO     ] 2022-07-19 14:25:56,350 Parameters: omega_matter              = 0.285\n",
      "yt : [INFO     ] 2022-07-19 14:25:56,351 Parameters: omega_radiation           = 0.0\n",
      "yt : [INFO     ] 2022-07-19 14:25:56,351 Parameters: hubble_constant           = 0.695\n"
     ]
    },
    {
     "name": "stdout",
     "output_type": "stream",
     "text": [
      "get_refine_box: using this location:      col1        col2     col3     col4     col5     col6     col7   col8\n",
      "-------------- -------- -------- -------- -------- -------- -------- ----\n",
      "0.927856301641 0.491352 0.481291 0.503872 0.493352 0.483291 0.505872    9\n"
     ]
    },
    {
     "name": "stderr",
     "output_type": "stream",
     "text": [
      "Parsing Hierarchy : 100%|████████████████| 5326/5326 [00:00<00:00, 13556.37it/s]\n",
      "yt : [INFO     ] 2022-07-19 14:25:57,021 Gathering a field list (this may take a moment.)\n"
     ]
    },
    {
     "name": "stdout",
     "output_type": "stream",
     "text": [
      "Pulling halo center from catalog file\n",
      "Opening snapshot /Volumes/TempestTimeSteps/DD1047/DD1047\n"
     ]
    },
    {
     "name": "stderr",
     "output_type": "stream",
     "text": [
      "yt : [INFO     ] 2022-07-19 14:26:00,483 Parameters: current_time              = 294.56652781829\n",
      "yt : [INFO     ] 2022-07-19 14:26:00,485 Parameters: domain_dimensions         = [256 256 256]\n",
      "yt : [INFO     ] 2022-07-19 14:26:00,487 Parameters: domain_left_edge          = [0. 0. 0.]\n",
      "yt : [INFO     ] 2022-07-19 14:26:00,489 Parameters: domain_right_edge         = [1. 1. 1.]\n",
      "yt : [INFO     ] 2022-07-19 14:26:00,490 Parameters: cosmological_simulation   = 1\n",
      "yt : [INFO     ] 2022-07-19 14:26:00,490 Parameters: current_redshift          = 0.90370055679921\n",
      "yt : [INFO     ] 2022-07-19 14:26:00,491 Parameters: omega_lambda              = 0.715\n",
      "yt : [INFO     ] 2022-07-19 14:26:00,491 Parameters: omega_matter              = 0.285\n",
      "yt : [INFO     ] 2022-07-19 14:26:00,492 Parameters: omega_radiation           = 0.0\n",
      "yt : [INFO     ] 2022-07-19 14:26:00,493 Parameters: hubble_constant           = 0.695\n"
     ]
    },
    {
     "name": "stdout",
     "output_type": "stream",
     "text": [
      "get_refine_box: using this location:      col1        col2     col3    col4     col5     col6    col7   col8\n",
      "-------------- -------- ------- -------- -------- ------- -------- ----\n",
      "0.903700556799 0.491301 0.48108 0.503952 0.493301 0.48308 0.505952    9\n"
     ]
    },
    {
     "name": "stderr",
     "output_type": "stream",
     "text": [
      "Parsing Hierarchy : 100%|████████████████| 5246/5246 [00:00<00:00, 13893.92it/s]\n",
      "yt : [INFO     ] 2022-07-19 14:26:01,135 Gathering a field list (this may take a moment.)\n"
     ]
    },
    {
     "name": "stdout",
     "output_type": "stream",
     "text": [
      "Pulling halo center from catalog file\n",
      "Opening snapshot /Volumes/TempestTimeSteps/DD1067/DD1067\n"
     ]
    },
    {
     "name": "stderr",
     "output_type": "stream",
     "text": [
      "yt : [INFO     ] 2022-07-19 14:26:04,582 Parameters: current_time              = 299.56652781829\n",
      "yt : [INFO     ] 2022-07-19 14:26:04,585 Parameters: domain_dimensions         = [256 256 256]\n",
      "yt : [INFO     ] 2022-07-19 14:26:04,588 Parameters: domain_left_edge          = [0. 0. 0.]\n",
      "yt : [INFO     ] 2022-07-19 14:26:04,591 Parameters: domain_right_edge         = [1. 1. 1.]\n",
      "yt : [INFO     ] 2022-07-19 14:26:04,592 Parameters: cosmological_simulation   = 1\n",
      "yt : [INFO     ] 2022-07-19 14:26:04,592 Parameters: current_redshift          = 0.88017178065176\n",
      "yt : [INFO     ] 2022-07-19 14:26:04,593 Parameters: omega_lambda              = 0.715\n",
      "yt : [INFO     ] 2022-07-19 14:26:04,593 Parameters: omega_matter              = 0.285\n",
      "yt : [INFO     ] 2022-07-19 14:26:04,594 Parameters: omega_radiation           = 0.0\n",
      "yt : [INFO     ] 2022-07-19 14:26:04,595 Parameters: hubble_constant           = 0.695\n"
     ]
    },
    {
     "name": "stdout",
     "output_type": "stream",
     "text": [
      "get_refine_box: using this location:      col1        col2     col3     col4     col5     col6     col7   col8\n",
      "-------------- -------- -------- -------- -------- -------- -------- ----\n",
      "0.880171780652 0.491244 0.480872 0.504027 0.493244 0.482872 0.506027    9\n"
     ]
    },
    {
     "name": "stderr",
     "output_type": "stream",
     "text": [
      "Parsing Hierarchy : 100%|████████████████| 5244/5244 [00:00<00:00, 13948.89it/s]\n",
      "yt : [INFO     ] 2022-07-19 14:26:05,245 Gathering a field list (this may take a moment.)\n"
     ]
    },
    {
     "name": "stdout",
     "output_type": "stream",
     "text": [
      "Pulling halo center from catalog file\n",
      "Opening snapshot /Volumes/TempestTimeSteps/DD1087/DD1087\n"
     ]
    },
    {
     "name": "stderr",
     "output_type": "stream",
     "text": [
      "yt : [INFO     ] 2022-07-19 14:26:08,649 Parameters: current_time              = 304.56652781829\n",
      "yt : [INFO     ] 2022-07-19 14:26:08,651 Parameters: domain_dimensions         = [256 256 256]\n",
      "yt : [INFO     ] 2022-07-19 14:26:08,653 Parameters: domain_left_edge          = [0. 0. 0.]\n",
      "yt : [INFO     ] 2022-07-19 14:26:08,656 Parameters: domain_right_edge         = [1. 1. 1.]\n",
      "yt : [INFO     ] 2022-07-19 14:26:08,657 Parameters: cosmological_simulation   = 1\n",
      "yt : [INFO     ] 2022-07-19 14:26:08,657 Parameters: current_redshift          = 0.85724242198899\n",
      "yt : [INFO     ] 2022-07-19 14:26:08,658 Parameters: omega_lambda              = 0.715\n",
      "yt : [INFO     ] 2022-07-19 14:26:08,658 Parameters: omega_matter              = 0.285\n",
      "yt : [INFO     ] 2022-07-19 14:26:08,659 Parameters: omega_radiation           = 0.0\n",
      "yt : [INFO     ] 2022-07-19 14:26:08,659 Parameters: hubble_constant           = 0.695\n"
     ]
    },
    {
     "name": "stdout",
     "output_type": "stream",
     "text": [
      "get_refine_box: using this location:      col1        col2     col3     col4     col5     col6     col7   col8\n",
      "-------------- -------- -------- -------- -------- -------- -------- ----\n",
      "0.857242421989 0.491192 0.480668 0.504092 0.493192 0.482668 0.506092    9\n"
     ]
    },
    {
     "name": "stderr",
     "output_type": "stream",
     "text": [
      "Parsing Hierarchy : 100%|████████████████| 5163/5163 [00:00<00:00, 13304.78it/s]\n",
      "yt : [INFO     ] 2022-07-19 14:26:09,311 Gathering a field list (this may take a moment.)\n"
     ]
    },
    {
     "name": "stdout",
     "output_type": "stream",
     "text": [
      "Pulling halo center from catalog file\n",
      "Opening snapshot /Volumes/TempestTimeSteps/DD1107/DD1107\n"
     ]
    },
    {
     "name": "stderr",
     "output_type": "stream",
     "text": [
      "yt : [INFO     ] 2022-07-19 14:26:12,649 Parameters: current_time              = 309.56652781829\n",
      "yt : [INFO     ] 2022-07-19 14:26:12,652 Parameters: domain_dimensions         = [256 256 256]\n",
      "yt : [INFO     ] 2022-07-19 14:26:12,654 Parameters: domain_left_edge          = [0. 0. 0.]\n",
      "yt : [INFO     ] 2022-07-19 14:26:12,656 Parameters: domain_right_edge         = [1. 1. 1.]\n",
      "yt : [INFO     ] 2022-07-19 14:26:12,656 Parameters: cosmological_simulation   = 1\n",
      "yt : [INFO     ] 2022-07-19 14:26:12,657 Parameters: current_redshift          = 0.83488657383741\n",
      "yt : [INFO     ] 2022-07-19 14:26:12,657 Parameters: omega_lambda              = 0.715\n",
      "yt : [INFO     ] 2022-07-19 14:26:12,658 Parameters: omega_matter              = 0.285\n",
      "yt : [INFO     ] 2022-07-19 14:26:12,658 Parameters: omega_radiation           = 0.0\n",
      "yt : [INFO     ] 2022-07-19 14:26:12,659 Parameters: hubble_constant           = 0.695\n"
     ]
    },
    {
     "name": "stdout",
     "output_type": "stream",
     "text": [
      "get_refine_box: using this location:       col1         col2     col3     col4     col5     col6     col7   col8\n",
      "---------------- -------- -------- -------- -------- -------- -------- ----\n",
      "0.83488657383741 0.491154 0.480465 0.504151 0.493154 0.482465 0.506151    9\n"
     ]
    },
    {
     "name": "stderr",
     "output_type": "stream",
     "text": [
      "Parsing Hierarchy : 100%|████████████████| 5231/5231 [00:00<00:00, 14410.83it/s]\n",
      "yt : [INFO     ] 2022-07-19 14:26:13,283 Gathering a field list (this may take a moment.)\n"
     ]
    },
    {
     "name": "stdout",
     "output_type": "stream",
     "text": [
      "Pulling halo center from catalog file\n",
      "Opening snapshot /Volumes/TempestTimeSteps/DD1127/DD1127\n"
     ]
    },
    {
     "name": "stderr",
     "output_type": "stream",
     "text": [
      "yt : [INFO     ] 2022-07-19 14:26:16,617 Parameters: current_time              = 314.56652781829\n",
      "yt : [INFO     ] 2022-07-19 14:26:16,620 Parameters: domain_dimensions         = [256 256 256]\n",
      "yt : [INFO     ] 2022-07-19 14:26:16,622 Parameters: domain_left_edge          = [0. 0. 0.]\n",
      "yt : [INFO     ] 2022-07-19 14:26:16,624 Parameters: domain_right_edge         = [1. 1. 1.]\n",
      "yt : [INFO     ] 2022-07-19 14:26:16,625 Parameters: cosmological_simulation   = 1\n",
      "yt : [INFO     ] 2022-07-19 14:26:16,625 Parameters: current_redshift          = 0.81307985104783\n",
      "yt : [INFO     ] 2022-07-19 14:26:16,626 Parameters: omega_lambda              = 0.715\n",
      "yt : [INFO     ] 2022-07-19 14:26:16,627 Parameters: omega_matter              = 0.285\n",
      "yt : [INFO     ] 2022-07-19 14:26:16,628 Parameters: omega_radiation           = 0.0\n",
      "yt : [INFO     ] 2022-07-19 14:26:16,628 Parameters: hubble_constant           = 0.695\n"
     ]
    },
    {
     "name": "stdout",
     "output_type": "stream",
     "text": [
      "get_refine_box: using this location:       col1         col2     col3     col4     col5     col6     col7   col8\n",
      "---------------- -------- -------- -------- -------- -------- -------- ----\n",
      "0.81307985104783 0.491127 0.480267 0.504221 0.493127 0.482267 0.506221    9\n"
     ]
    },
    {
     "name": "stderr",
     "output_type": "stream",
     "text": [
      "Parsing Hierarchy : 100%|████████████████| 5553/5553 [00:00<00:00, 11276.32it/s]\n",
      "yt : [INFO     ] 2022-07-19 14:26:17,444 Gathering a field list (this may take a moment.)\n"
     ]
    },
    {
     "name": "stdout",
     "output_type": "stream",
     "text": [
      "Pulling halo center from catalog file\n",
      "Opening snapshot /Volumes/TempestTimeSteps/DD1147/DD1147\n"
     ]
    },
    {
     "name": "stderr",
     "output_type": "stream",
     "text": [
      "yt : [INFO     ] 2022-07-19 14:26:21,062 Parameters: current_time              = 319.56652781829\n",
      "yt : [INFO     ] 2022-07-19 14:26:21,065 Parameters: domain_dimensions         = [256 256 256]\n",
      "yt : [INFO     ] 2022-07-19 14:26:21,067 Parameters: domain_left_edge          = [0. 0. 0.]\n",
      "yt : [INFO     ] 2022-07-19 14:26:21,070 Parameters: domain_right_edge         = [1. 1. 1.]\n",
      "yt : [INFO     ] 2022-07-19 14:26:21,070 Parameters: cosmological_simulation   = 1\n",
      "yt : [INFO     ] 2022-07-19 14:26:21,071 Parameters: current_redshift          = 0.79179927876823\n",
      "yt : [INFO     ] 2022-07-19 14:26:21,071 Parameters: omega_lambda              = 0.715\n",
      "yt : [INFO     ] 2022-07-19 14:26:21,072 Parameters: omega_matter              = 0.285\n",
      "yt : [INFO     ] 2022-07-19 14:26:21,072 Parameters: omega_radiation           = 0.0\n",
      "yt : [INFO     ] 2022-07-19 14:26:21,073 Parameters: hubble_constant           = 0.695\n"
     ]
    },
    {
     "name": "stdout",
     "output_type": "stream",
     "text": [
      "get_refine_box: using this location:       col1         col2     col3    col4    col5     col6    col7  col8\n",
      "---------------- -------- -------- ------ -------- -------- ------ ----\n",
      "0.79179927876823 0.491095 0.480072 0.5043 0.493095 0.482072 0.5063    9\n"
     ]
    },
    {
     "name": "stderr",
     "output_type": "stream",
     "text": [
      "Parsing Hierarchy : 100%|█████████████████| 5902/5902 [00:00<00:00, 9461.55it/s]\n",
      "yt : [INFO     ] 2022-07-19 14:26:22,035 Gathering a field list (this may take a moment.)\n"
     ]
    },
    {
     "name": "stdout",
     "output_type": "stream",
     "text": [
      "Pulling halo center from catalog file\n",
      "Opening snapshot /Volumes/TempestTimeSteps/DD1167/DD1167\n"
     ]
    },
    {
     "name": "stderr",
     "output_type": "stream",
     "text": [
      "yt : [INFO     ] 2022-07-19 14:26:25,426 Parameters: current_time              = 324.56652781829\n",
      "yt : [INFO     ] 2022-07-19 14:26:25,428 Parameters: domain_dimensions         = [256 256 256]\n",
      "yt : [INFO     ] 2022-07-19 14:26:25,431 Parameters: domain_left_edge          = [0. 0. 0.]\n",
      "yt : [INFO     ] 2022-07-19 14:26:25,434 Parameters: domain_right_edge         = [1. 1. 1.]\n",
      "yt : [INFO     ] 2022-07-19 14:26:25,434 Parameters: cosmological_simulation   = 1\n",
      "yt : [INFO     ] 2022-07-19 14:26:25,435 Parameters: current_redshift          = 0.77102319068022\n",
      "yt : [INFO     ] 2022-07-19 14:26:25,435 Parameters: omega_lambda              = 0.715\n",
      "yt : [INFO     ] 2022-07-19 14:26:25,436 Parameters: omega_matter              = 0.285\n",
      "yt : [INFO     ] 2022-07-19 14:26:25,436 Parameters: omega_radiation           = 0.0\n",
      "yt : [INFO     ] 2022-07-19 14:26:25,437 Parameters: hubble_constant           = 0.695\n"
     ]
    },
    {
     "name": "stdout",
     "output_type": "stream",
     "text": [
      "get_refine_box: using this location:       col1         col2     col3     col4     col5     col6     col7   col8\n",
      "---------------- -------- -------- -------- -------- -------- -------- ----\n",
      "0.77102319068022 0.491061 0.479878 0.504383 0.493061 0.481878 0.506383    9\n"
     ]
    },
    {
     "name": "stderr",
     "output_type": "stream",
     "text": [
      "Parsing Hierarchy : 100%|████████████████| 6312/6312 [00:00<00:00, 10212.67it/s]\n",
      "yt : [INFO     ] 2022-07-19 14:26:26,428 Gathering a field list (this may take a moment.)\n"
     ]
    },
    {
     "name": "stdout",
     "output_type": "stream",
     "text": [
      "Pulling halo center from catalog file\n",
      "Opening snapshot /Volumes/TempestTimeSteps/DD1187/DD1187\n"
     ]
    },
    {
     "name": "stderr",
     "output_type": "stream",
     "text": [
      "yt : [INFO     ] 2022-07-19 14:26:30,073 Parameters: current_time              = 329.56652781829\n",
      "yt : [INFO     ] 2022-07-19 14:26:30,075 Parameters: domain_dimensions         = [256 256 256]\n",
      "yt : [INFO     ] 2022-07-19 14:26:30,078 Parameters: domain_left_edge          = [0. 0. 0.]\n",
      "yt : [INFO     ] 2022-07-19 14:26:30,081 Parameters: domain_right_edge         = [1. 1. 1.]\n",
      "yt : [INFO     ] 2022-07-19 14:26:30,084 Parameters: cosmological_simulation   = 1\n",
      "yt : [INFO     ] 2022-07-19 14:26:30,084 Parameters: current_redshift          = 0.75073113600866\n",
      "yt : [INFO     ] 2022-07-19 14:26:30,085 Parameters: omega_lambda              = 0.715\n",
      "yt : [INFO     ] 2022-07-19 14:26:30,085 Parameters: omega_matter              = 0.285\n",
      "yt : [INFO     ] 2022-07-19 14:26:30,086 Parameters: omega_radiation           = 0.0\n",
      "yt : [INFO     ] 2022-07-19 14:26:30,086 Parameters: hubble_constant           = 0.695\n"
     ]
    },
    {
     "name": "stdout",
     "output_type": "stream",
     "text": [
      "get_refine_box: using this location:       col1         col2     col3     col4     col5     col6     col7   col8\n",
      "---------------- -------- -------- -------- -------- -------- -------- ----\n",
      "0.75073113600866 0.491021 0.479683 0.504466 0.493021 0.481683 0.506466    9\n"
     ]
    },
    {
     "name": "stderr",
     "output_type": "stream",
     "text": [
      "Parsing Hierarchy : 100%|████████████████| 5990/5990 [00:00<00:00, 10888.95it/s]\n",
      "yt : [INFO     ] 2022-07-19 14:26:30,990 Gathering a field list (this may take a moment.)\n"
     ]
    },
    {
     "name": "stdout",
     "output_type": "stream",
     "text": [
      "Pulling halo center from catalog file\n",
      "Opening snapshot /Volumes/TempestTimeSteps/DD1207/DD1207\n"
     ]
    },
    {
     "name": "stderr",
     "output_type": "stream",
     "text": [
      "yt : [INFO     ] 2022-07-19 14:26:34,549 Parameters: current_time              = 334.56652781829\n",
      "yt : [INFO     ] 2022-07-19 14:26:34,552 Parameters: domain_dimensions         = [256 256 256]\n",
      "yt : [INFO     ] 2022-07-19 14:26:34,554 Parameters: domain_left_edge          = [0. 0. 0.]\n",
      "yt : [INFO     ] 2022-07-19 14:26:34,557 Parameters: domain_right_edge         = [1. 1. 1.]\n",
      "yt : [INFO     ] 2022-07-19 14:26:34,558 Parameters: cosmological_simulation   = 1\n",
      "yt : [INFO     ] 2022-07-19 14:26:34,558 Parameters: current_redshift          = 0.7309037944282\n",
      "yt : [INFO     ] 2022-07-19 14:26:34,559 Parameters: omega_lambda              = 0.715\n",
      "yt : [INFO     ] 2022-07-19 14:26:34,560 Parameters: omega_matter              = 0.285\n",
      "yt : [INFO     ] 2022-07-19 14:26:34,560 Parameters: omega_radiation           = 0.0\n",
      "yt : [INFO     ] 2022-07-19 14:26:34,561 Parameters: hubble_constant           = 0.695\n"
     ]
    },
    {
     "name": "stdout",
     "output_type": "stream",
     "text": [
      "get_refine_box: using this location:       col1        col2     col3     col4     col5     col6     col7   col8\n",
      "--------------- -------- -------- -------- -------- -------- -------- ----\n",
      "0.7309037944282 0.490979 0.479485 0.504549 0.492979 0.481485 0.506549    9\n"
     ]
    },
    {
     "name": "stderr",
     "output_type": "stream",
     "text": [
      "Parsing Hierarchy : 100%|████████████████| 5804/5804 [00:00<00:00, 11987.63it/s]\n",
      "yt : [INFO     ] 2022-07-19 14:26:35,367 Gathering a field list (this may take a moment.)\n"
     ]
    },
    {
     "name": "stdout",
     "output_type": "stream",
     "text": [
      "Pulling halo center from catalog file\n",
      "Opening snapshot /Volumes/TempestTimeSteps/DD1227/DD1227\n"
     ]
    },
    {
     "name": "stderr",
     "output_type": "stream",
     "text": [
      "yt : [INFO     ] 2022-07-19 14:26:38,772 Parameters: current_time              = 339.56652781829\n",
      "yt : [INFO     ] 2022-07-19 14:26:38,775 Parameters: domain_dimensions         = [256 256 256]\n",
      "yt : [INFO     ] 2022-07-19 14:26:38,779 Parameters: domain_left_edge          = [0. 0. 0.]\n",
      "yt : [INFO     ] 2022-07-19 14:26:38,782 Parameters: domain_right_edge         = [1. 1. 1.]\n",
      "yt : [INFO     ] 2022-07-19 14:26:38,783 Parameters: cosmological_simulation   = 1\n",
      "yt : [INFO     ] 2022-07-19 14:26:38,784 Parameters: current_redshift          = 0.71152289808928\n",
      "yt : [INFO     ] 2022-07-19 14:26:38,785 Parameters: omega_lambda              = 0.715\n",
      "yt : [INFO     ] 2022-07-19 14:26:38,785 Parameters: omega_matter              = 0.285\n",
      "yt : [INFO     ] 2022-07-19 14:26:38,786 Parameters: omega_radiation           = 0.0\n",
      "yt : [INFO     ] 2022-07-19 14:26:38,786 Parameters: hubble_constant           = 0.695\n"
     ]
    },
    {
     "name": "stdout",
     "output_type": "stream",
     "text": [
      "get_refine_box: using this location:       col1         col2     col3     col4     col5     col6     col7   col8\n",
      "---------------- -------- -------- -------- -------- -------- -------- ----\n",
      "0.71152289808928 0.490935 0.479287 0.504633 0.492935 0.481287 0.506633    9\n"
     ]
    },
    {
     "name": "stderr",
     "output_type": "stream",
     "text": [
      "Parsing Hierarchy : 100%|████████████████| 5825/5825 [00:00<00:00, 10711.66it/s]\n",
      "yt : [INFO     ] 2022-07-19 14:26:39,655 Gathering a field list (this may take a moment.)\n"
     ]
    },
    {
     "name": "stdout",
     "output_type": "stream",
     "text": [
      "Pulling halo center from catalog file\n",
      "Opening snapshot /Volumes/TempestTimeSteps/DD1247/DD1247\n"
     ]
    },
    {
     "name": "stderr",
     "output_type": "stream",
     "text": [
      "yt : [INFO     ] 2022-07-19 14:26:43,097 Parameters: current_time              = 344.56652781829\n",
      "yt : [INFO     ] 2022-07-19 14:26:43,099 Parameters: domain_dimensions         = [256 256 256]\n",
      "yt : [INFO     ] 2022-07-19 14:26:43,102 Parameters: domain_left_edge          = [0. 0. 0.]\n",
      "yt : [INFO     ] 2022-07-19 14:26:43,105 Parameters: domain_right_edge         = [1. 1. 1.]\n",
      "yt : [INFO     ] 2022-07-19 14:26:43,105 Parameters: cosmological_simulation   = 1\n",
      "yt : [INFO     ] 2022-07-19 14:26:43,106 Parameters: current_redshift          = 0.6925711600732\n",
      "yt : [INFO     ] 2022-07-19 14:26:43,106 Parameters: omega_lambda              = 0.715\n",
      "yt : [INFO     ] 2022-07-19 14:26:43,107 Parameters: omega_matter              = 0.285\n",
      "yt : [INFO     ] 2022-07-19 14:26:43,107 Parameters: omega_radiation           = 0.0\n",
      "yt : [INFO     ] 2022-07-19 14:26:43,108 Parameters: hubble_constant           = 0.695\n"
     ]
    },
    {
     "name": "stdout",
     "output_type": "stream",
     "text": [
      "get_refine_box: using this location:       col1        col2     col3     col4     col5     col6     col7   col8\n",
      "--------------- -------- -------- -------- -------- -------- -------- ----\n",
      "0.6925711600732 0.490889 0.479086 0.504717 0.492889 0.481086 0.506717    9\n"
     ]
    },
    {
     "name": "stderr",
     "output_type": "stream",
     "text": [
      "Parsing Hierarchy : 100%|████████████████| 5729/5729 [00:00<00:00, 11660.64it/s]\n",
      "yt : [INFO     ] 2022-07-19 14:26:43,903 Gathering a field list (this may take a moment.)\n"
     ]
    },
    {
     "name": "stdout",
     "output_type": "stream",
     "text": [
      "Pulling halo center from catalog file\n",
      "Opening snapshot /Volumes/TempestTimeSteps/DD1267/DD1267\n"
     ]
    },
    {
     "name": "stderr",
     "output_type": "stream",
     "text": [
      "yt : [INFO     ] 2022-07-19 14:26:47,330 Parameters: current_time              = 349.56652781829\n",
      "yt : [INFO     ] 2022-07-19 14:26:47,333 Parameters: domain_dimensions         = [256 256 256]\n",
      "yt : [INFO     ] 2022-07-19 14:26:47,336 Parameters: domain_left_edge          = [0. 0. 0.]\n",
      "yt : [INFO     ] 2022-07-19 14:26:47,339 Parameters: domain_right_edge         = [1. 1. 1.]\n",
      "yt : [INFO     ] 2022-07-19 14:26:47,339 Parameters: cosmological_simulation   = 1\n",
      "yt : [INFO     ] 2022-07-19 14:26:47,340 Parameters: current_redshift          = 0.67403220866149\n",
      "yt : [INFO     ] 2022-07-19 14:26:47,341 Parameters: omega_lambda              = 0.715\n",
      "yt : [INFO     ] 2022-07-19 14:26:47,341 Parameters: omega_matter              = 0.285\n",
      "yt : [INFO     ] 2022-07-19 14:26:47,342 Parameters: omega_radiation           = 0.0\n",
      "yt : [INFO     ] 2022-07-19 14:26:47,343 Parameters: hubble_constant           = 0.695\n"
     ]
    },
    {
     "name": "stdout",
     "output_type": "stream",
     "text": [
      "get_refine_box: using this location:       col1         col2     col3    col4     col5     col6    col7   col8\n",
      "---------------- -------- ------- -------- -------- ------- -------- ----\n",
      "0.67403220866149 0.490839 0.47889 0.504803 0.492839 0.48089 0.506803    9\n"
     ]
    },
    {
     "name": "stderr",
     "output_type": "stream",
     "text": [
      "Parsing Hierarchy : 100%|████████████████| 5866/5866 [00:00<00:00, 12678.34it/s]\n",
      "yt : [INFO     ] 2022-07-19 14:26:48,107 Gathering a field list (this may take a moment.)\n"
     ]
    },
    {
     "name": "stdout",
     "output_type": "stream",
     "text": [
      "Pulling halo center from catalog file\n",
      "Opening snapshot /Volumes/TempestTimeSteps/DD1287/DD1287\n"
     ]
    },
    {
     "name": "stderr",
     "output_type": "stream",
     "text": [
      "yt : [INFO     ] 2022-07-19 14:26:51,506 Parameters: current_time              = 354.56652781829\n",
      "yt : [INFO     ] 2022-07-19 14:26:51,509 Parameters: domain_dimensions         = [256 256 256]\n",
      "yt : [INFO     ] 2022-07-19 14:26:51,512 Parameters: domain_left_edge          = [0. 0. 0.]\n",
      "yt : [INFO     ] 2022-07-19 14:26:51,514 Parameters: domain_right_edge         = [1. 1. 1.]\n",
      "yt : [INFO     ] 2022-07-19 14:26:51,515 Parameters: cosmological_simulation   = 1\n",
      "yt : [INFO     ] 2022-07-19 14:26:51,516 Parameters: current_redshift          = 0.65589052687153\n",
      "yt : [INFO     ] 2022-07-19 14:26:51,516 Parameters: omega_lambda              = 0.715\n",
      "yt : [INFO     ] 2022-07-19 14:26:51,517 Parameters: omega_matter              = 0.285\n",
      "yt : [INFO     ] 2022-07-19 14:26:51,517 Parameters: omega_radiation           = 0.0\n",
      "yt : [INFO     ] 2022-07-19 14:26:51,518 Parameters: hubble_constant           = 0.695\n"
     ]
    },
    {
     "name": "stdout",
     "output_type": "stream",
     "text": [
      "get_refine_box: using this location:       col1         col2     col3     col4     col5     col6     col7   col8\n",
      "---------------- -------- -------- -------- -------- -------- -------- ----\n",
      "0.65589052687153 0.490792 0.478699 0.504887 0.492792 0.480699 0.506887    9\n"
     ]
    },
    {
     "name": "stderr",
     "output_type": "stream",
     "text": [
      "Parsing Hierarchy : 100%|█████████████████| 6144/6144 [00:00<00:00, 9703.46it/s]\n",
      "yt : [INFO     ] 2022-07-19 14:26:52,456 Gathering a field list (this may take a moment.)\n"
     ]
    },
    {
     "name": "stdout",
     "output_type": "stream",
     "text": [
      "Pulling halo center from catalog file\n",
      "Opening snapshot /Volumes/TempestTimeSteps/DD1307/DD1307\n"
     ]
    },
    {
     "name": "stderr",
     "output_type": "stream",
     "text": [
      "yt : [INFO     ] 2022-07-19 14:26:56,618 Parameters: current_time              = 359.56652781829\n",
      "yt : [INFO     ] 2022-07-19 14:26:56,621 Parameters: domain_dimensions         = [256 256 256]\n",
      "yt : [INFO     ] 2022-07-19 14:26:56,625 Parameters: domain_left_edge          = [0. 0. 0.]\n",
      "yt : [INFO     ] 2022-07-19 14:26:56,631 Parameters: domain_right_edge         = [1. 1. 1.]\n",
      "yt : [INFO     ] 2022-07-19 14:26:56,634 Parameters: cosmological_simulation   = 1\n",
      "yt : [INFO     ] 2022-07-19 14:26:56,636 Parameters: current_redshift          = 0.63813139676917\n",
      "yt : [INFO     ] 2022-07-19 14:26:56,637 Parameters: omega_lambda              = 0.715\n",
      "yt : [INFO     ] 2022-07-19 14:26:56,638 Parameters: omega_matter              = 0.285\n",
      "yt : [INFO     ] 2022-07-19 14:26:56,638 Parameters: omega_radiation           = 0.0\n",
      "yt : [INFO     ] 2022-07-19 14:26:56,639 Parameters: hubble_constant           = 0.695\n"
     ]
    },
    {
     "name": "stdout",
     "output_type": "stream",
     "text": [
      "get_refine_box: using this location:       col1         col2     col3     col4     col5     col6     col7   col8\n",
      "---------------- -------- -------- -------- -------- -------- -------- ----\n",
      "0.63813139676917 0.490748 0.478512 0.504971 0.492748 0.480512 0.506971    9\n"
     ]
    },
    {
     "name": "stderr",
     "output_type": "stream",
     "text": [
      "Parsing Hierarchy : 100%|█████████████████| 6120/6120 [00:00<00:00, 8466.08it/s]\n",
      "yt : [INFO     ] 2022-07-19 14:26:57,706 Gathering a field list (this may take a moment.)\n"
     ]
    },
    {
     "name": "stdout",
     "output_type": "stream",
     "text": [
      "Pulling halo center from catalog file\n",
      "Opening snapshot /Volumes/TempestTimeSteps/DD1310/DD1310\n"
     ]
    },
    {
     "name": "stderr",
     "output_type": "stream",
     "text": [
      "yt : [INFO     ] 2022-07-19 14:27:01,979 Parameters: current_time              = 360.31652781829\n",
      "yt : [INFO     ] 2022-07-19 14:27:01,982 Parameters: domain_dimensions         = [256 256 256]\n",
      "yt : [INFO     ] 2022-07-19 14:27:01,984 Parameters: domain_left_edge          = [0. 0. 0.]\n",
      "yt : [INFO     ] 2022-07-19 14:27:01,987 Parameters: domain_right_edge         = [1. 1. 1.]\n",
      "yt : [INFO     ] 2022-07-19 14:27:01,988 Parameters: cosmological_simulation   = 1\n",
      "yt : [INFO     ] 2022-07-19 14:27:01,988 Parameters: current_redshift          = 0.63549964938239\n",
      "yt : [INFO     ] 2022-07-19 14:27:01,989 Parameters: omega_lambda              = 0.715\n",
      "yt : [INFO     ] 2022-07-19 14:27:01,989 Parameters: omega_matter              = 0.285\n",
      "yt : [INFO     ] 2022-07-19 14:27:01,990 Parameters: omega_radiation           = 0.0\n",
      "yt : [INFO     ] 2022-07-19 14:27:01,991 Parameters: hubble_constant           = 0.695\n"
     ]
    },
    {
     "name": "stdout",
     "output_type": "stream",
     "text": [
      "get_refine_box: using this location:       col1         col2     col3     col4     col5     col6     col7   col8\n",
      "---------------- -------- -------- -------- -------- -------- -------- ----\n",
      "0.63549964938239 0.490742 0.478486 0.504982 0.492742 0.480486 0.506982    9\n"
     ]
    },
    {
     "name": "stderr",
     "output_type": "stream",
     "text": [
      "Parsing Hierarchy : 100%|█████████████████| 6117/6117 [00:01<00:00, 4383.33it/s]\n",
      "yt : [INFO     ] 2022-07-19 14:27:03,713 Gathering a field list (this may take a moment.)\n",
      "yt : [INFO     ] 2022-07-19 14:27:07,161 Parameters: current_time              = 360.56652781829\n",
      "yt : [INFO     ] 2022-07-19 14:27:07,166 Parameters: domain_dimensions         = [256 256 256]\n",
      "yt : [INFO     ] 2022-07-19 14:27:07,168 Parameters: domain_left_edge          = [0. 0. 0.]\n",
      "yt : [INFO     ] 2022-07-19 14:27:07,171 Parameters: domain_right_edge         = [1. 1. 1.]\n",
      "yt : [INFO     ] 2022-07-19 14:27:07,171 Parameters: cosmological_simulation   = 1\n",
      "yt : [INFO     ] 2022-07-19 14:27:07,172 Parameters: current_redshift          = 0.63462423495761\n",
      "yt : [INFO     ] 2022-07-19 14:27:07,172 Parameters: omega_lambda              = 0.715\n",
      "yt : [INFO     ] 2022-07-19 14:27:07,173 Parameters: omega_matter              = 0.285\n",
      "yt : [INFO     ] 2022-07-19 14:27:07,173 Parameters: omega_radiation           = 0.0\n",
      "yt : [INFO     ] 2022-07-19 14:27:07,174 Parameters: hubble_constant           = 0.695\n"
     ]
    },
    {
     "name": "stdout",
     "output_type": "stream",
     "text": [
      "Pulling halo center from catalog file\n",
      "Opening snapshot /Volumes/TempestTimeSteps/DD1311/DD1311\n",
      "get_refine_box: using this location:       col1         col2    col3     col4     col5    col6     col7   col8\n",
      "---------------- ------- -------- -------- ------- -------- -------- ----\n",
      "0.63462423495761 0.49074 0.478476 0.504986 0.49274 0.480476 0.506986    9\n"
     ]
    },
    {
     "name": "stderr",
     "output_type": "stream",
     "text": [
      "Parsing Hierarchy : 100%|████████████████| 6212/6212 [00:00<00:00, 10185.99it/s]\n",
      "yt : [INFO     ] 2022-07-19 14:27:08,182 Gathering a field list (this may take a moment.)\n",
      "yt : [INFO     ] 2022-07-19 14:27:11,613 Parameters: current_time              = 360.81652781829\n",
      "yt : [INFO     ] 2022-07-19 14:27:11,615 Parameters: domain_dimensions         = [256 256 256]\n",
      "yt : [INFO     ] 2022-07-19 14:27:11,617 Parameters: domain_left_edge          = [0. 0. 0.]\n",
      "yt : [INFO     ] 2022-07-19 14:27:11,620 Parameters: domain_right_edge         = [1. 1. 1.]\n",
      "yt : [INFO     ] 2022-07-19 14:27:11,620 Parameters: cosmological_simulation   = 1\n",
      "yt : [INFO     ] 2022-07-19 14:27:11,621 Parameters: current_redshift          = 0.63374973507151\n",
      "yt : [INFO     ] 2022-07-19 14:27:11,621 Parameters: omega_lambda              = 0.715\n",
      "yt : [INFO     ] 2022-07-19 14:27:11,622 Parameters: omega_matter              = 0.285\n",
      "yt : [INFO     ] 2022-07-19 14:27:11,622 Parameters: omega_radiation           = 0.0\n",
      "yt : [INFO     ] 2022-07-19 14:27:11,623 Parameters: hubble_constant           = 0.695\n"
     ]
    },
    {
     "name": "stdout",
     "output_type": "stream",
     "text": [
      "Pulling halo center from catalog file\n",
      "Opening snapshot /Volumes/TempestTimeSteps/DD1312/DD1312\n",
      "get_refine_box: using this location:       col1         col2     col3     col4    col5     col6     col7  col8\n",
      "---------------- -------- -------- ------- -------- -------- ------- ----\n",
      "0.63374973507151 0.490738 0.478466 0.50499 0.492738 0.480466 0.50699    9\n"
     ]
    },
    {
     "name": "stderr",
     "output_type": "stream",
     "text": [
      "Parsing Hierarchy : 100%|████████████████| 6058/6058 [00:00<00:00, 12632.54it/s]\n",
      "yt : [INFO     ] 2022-07-19 14:27:12,460 Gathering a field list (this may take a moment.)\n",
      "yt : [INFO     ] 2022-07-19 14:27:16,017 Parameters: current_time              = 361.06652781829\n",
      "yt : [INFO     ] 2022-07-19 14:27:16,019 Parameters: domain_dimensions         = [256 256 256]\n",
      "yt : [INFO     ] 2022-07-19 14:27:16,022 Parameters: domain_left_edge          = [0. 0. 0.]\n",
      "yt : [INFO     ] 2022-07-19 14:27:16,024 Parameters: domain_right_edge         = [1. 1. 1.]\n",
      "yt : [INFO     ] 2022-07-19 14:27:16,025 Parameters: cosmological_simulation   = 1\n",
      "yt : [INFO     ] 2022-07-19 14:27:16,025 Parameters: current_redshift          = 0.63287614804254\n",
      "yt : [INFO     ] 2022-07-19 14:27:16,026 Parameters: omega_lambda              = 0.715\n",
      "yt : [INFO     ] 2022-07-19 14:27:16,026 Parameters: omega_matter              = 0.285\n",
      "yt : [INFO     ] 2022-07-19 14:27:16,027 Parameters: omega_radiation           = 0.0\n",
      "yt : [INFO     ] 2022-07-19 14:27:16,028 Parameters: hubble_constant           = 0.695\n"
     ]
    },
    {
     "name": "stdout",
     "output_type": "stream",
     "text": [
      "Pulling halo center from catalog file\n",
      "Opening snapshot /Volumes/TempestTimeSteps/DD1313/DD1313\n",
      "get_refine_box: using this location:       col1         col2     col3     col4     col5     col6     col7   col8\n",
      "---------------- -------- -------- -------- -------- -------- -------- ----\n",
      "0.63287614804254 0.490735 0.478457 0.504994 0.492735 0.480457 0.506994    9\n"
     ]
    },
    {
     "name": "stderr",
     "output_type": "stream",
     "text": [
      "Parsing Hierarchy : 100%|████████████████| 6082/6082 [00:00<00:00, 12346.91it/s]\n",
      "yt : [INFO     ] 2022-07-19 14:27:16,889 Gathering a field list (this may take a moment.)\n",
      "yt : [INFO     ] 2022-07-19 14:27:20,403 Parameters: current_time              = 361.31652781829\n",
      "yt : [INFO     ] 2022-07-19 14:27:20,405 Parameters: domain_dimensions         = [256 256 256]\n",
      "yt : [INFO     ] 2022-07-19 14:27:20,407 Parameters: domain_left_edge          = [0. 0. 0.]\n",
      "yt : [INFO     ] 2022-07-19 14:27:20,410 Parameters: domain_right_edge         = [1. 1. 1.]\n",
      "yt : [INFO     ] 2022-07-19 14:27:20,410 Parameters: cosmological_simulation   = 1\n",
      "yt : [INFO     ] 2022-07-19 14:27:20,411 Parameters: current_redshift          = 0.63200347219345\n",
      "yt : [INFO     ] 2022-07-19 14:27:20,411 Parameters: omega_lambda              = 0.715\n",
      "yt : [INFO     ] 2022-07-19 14:27:20,412 Parameters: omega_matter              = 0.285\n",
      "yt : [INFO     ] 2022-07-19 14:27:20,413 Parameters: omega_radiation           = 0.0\n",
      "yt : [INFO     ] 2022-07-19 14:27:20,414 Parameters: hubble_constant           = 0.695\n"
     ]
    },
    {
     "name": "stdout",
     "output_type": "stream",
     "text": [
      "Pulling halo center from catalog file\n",
      "Opening snapshot /Volumes/TempestTimeSteps/DD1314/DD1314\n",
      "get_refine_box: using this location:       col1         col2     col3    col4   col5     col6    col7 col8\n",
      "---------------- -------- -------- ----- -------- -------- ----- ----\n",
      "0.63200347219345 0.490733 0.478449 0.505 0.492733 0.480449 0.507    9\n"
     ]
    },
    {
     "name": "stderr",
     "output_type": "stream",
     "text": [
      "Parsing Hierarchy : 100%|████████████████| 5996/5996 [00:00<00:00, 12055.68it/s]\n",
      "yt : [INFO     ] 2022-07-19 14:27:21,297 Gathering a field list (this may take a moment.)\n",
      "yt : [INFO     ] 2022-07-19 14:27:24,741 Parameters: current_time              = 361.56652781829\n"
     ]
    },
    {
     "name": "stdout",
     "output_type": "stream",
     "text": [
      "Pulling halo center from catalog file\n",
      "Opening snapshot /Volumes/TempestTimeSteps/DD1315/DD1315\n"
     ]
    },
    {
     "name": "stderr",
     "output_type": "stream",
     "text": [
      "yt : [INFO     ] 2022-07-19 14:27:24,744 Parameters: domain_dimensions         = [256 256 256]\n",
      "yt : [INFO     ] 2022-07-19 14:27:24,749 Parameters: domain_left_edge          = [0. 0. 0.]\n",
      "yt : [INFO     ] 2022-07-19 14:27:24,754 Parameters: domain_right_edge         = [1. 1. 1.]\n",
      "yt : [INFO     ] 2022-07-19 14:27:24,754 Parameters: cosmological_simulation   = 1\n",
      "yt : [INFO     ] 2022-07-19 14:27:24,755 Parameters: current_redshift          = 0.63113170585127\n",
      "yt : [INFO     ] 2022-07-19 14:27:24,755 Parameters: omega_lambda              = 0.715\n",
      "yt : [INFO     ] 2022-07-19 14:27:24,756 Parameters: omega_matter              = 0.285\n",
      "yt : [INFO     ] 2022-07-19 14:27:24,757 Parameters: omega_radiation           = 0.0\n",
      "yt : [INFO     ] 2022-07-19 14:27:24,757 Parameters: hubble_constant           = 0.695\n"
     ]
    },
    {
     "name": "stdout",
     "output_type": "stream",
     "text": [
      "get_refine_box: using this location:       col1         col2     col3    col4     col5     col6    col7   col8\n",
      "---------------- -------- ------- -------- -------- ------- -------- ----\n",
      "0.63113170585127 0.490731 0.47844 0.505003 0.492731 0.48044 0.507003    9\n"
     ]
    },
    {
     "name": "stderr",
     "output_type": "stream",
     "text": [
      "Parsing Hierarchy : 100%|████████████████| 6053/6053 [00:00<00:00, 13171.13it/s]\n",
      "yt : [INFO     ] 2022-07-19 14:27:25,559 Gathering a field list (this may take a moment.)\n",
      "yt : [INFO     ] 2022-07-19 14:27:29,102 Parameters: current_time              = 361.81652781829\n",
      "yt : [INFO     ] 2022-07-19 14:27:29,106 Parameters: domain_dimensions         = [256 256 256]\n",
      "yt : [INFO     ] 2022-07-19 14:27:29,108 Parameters: domain_left_edge          = [0. 0. 0.]\n",
      "yt : [INFO     ] 2022-07-19 14:27:29,111 Parameters: domain_right_edge         = [1. 1. 1.]\n",
      "yt : [INFO     ] 2022-07-19 14:27:29,111 Parameters: cosmological_simulation   = 1\n",
      "yt : [INFO     ] 2022-07-19 14:27:29,112 Parameters: current_redshift          = 0.63026084734731\n",
      "yt : [INFO     ] 2022-07-19 14:27:29,112 Parameters: omega_lambda              = 0.715\n",
      "yt : [INFO     ] 2022-07-19 14:27:29,114 Parameters: omega_matter              = 0.285\n",
      "yt : [INFO     ] 2022-07-19 14:27:29,115 Parameters: omega_radiation           = 0.0\n",
      "yt : [INFO     ] 2022-07-19 14:27:29,115 Parameters: hubble_constant           = 0.695\n"
     ]
    },
    {
     "name": "stdout",
     "output_type": "stream",
     "text": [
      "Pulling halo center from catalog file\n",
      "Opening snapshot /Volumes/TempestTimeSteps/DD1316/DD1316\n",
      "get_refine_box: using this location:       col1         col2     col3    col4     col5     col6    col7   col8\n",
      "---------------- -------- ------- -------- -------- ------- -------- ----\n",
      "0.63026084734731 0.490729 0.47843 0.505007 0.492729 0.48043 0.507007    9\n"
     ]
    },
    {
     "name": "stderr",
     "output_type": "stream",
     "text": [
      "Parsing Hierarchy : 100%|████████████████| 5907/5907 [00:00<00:00, 12556.31it/s]\n",
      "yt : [INFO     ] 2022-07-19 14:27:29,946 Gathering a field list (this may take a moment.)\n",
      "yt : [INFO     ] 2022-07-19 14:27:33,413 Parameters: current_time              = 362.31652781829\n",
      "yt : [INFO     ] 2022-07-19 14:27:33,416 Parameters: domain_dimensions         = [256 256 256]\n",
      "yt : [INFO     ] 2022-07-19 14:27:33,418 Parameters: domain_left_edge          = [0. 0. 0.]\n",
      "yt : [INFO     ] 2022-07-19 14:27:33,421 Parameters: domain_right_edge         = [1. 1. 1.]\n",
      "yt : [INFO     ] 2022-07-19 14:27:33,421 Parameters: cosmological_simulation   = 1\n",
      "yt : [INFO     ] 2022-07-19 14:27:33,422 Parameters: current_redshift          = 0.62852184720062\n",
      "yt : [INFO     ] 2022-07-19 14:27:33,422 Parameters: omega_lambda              = 0.715\n",
      "yt : [INFO     ] 2022-07-19 14:27:33,423 Parameters: omega_matter              = 0.285\n",
      "yt : [INFO     ] 2022-07-19 14:27:33,424 Parameters: omega_radiation           = 0.0\n",
      "yt : [INFO     ] 2022-07-19 14:27:33,424 Parameters: hubble_constant           = 0.695\n"
     ]
    },
    {
     "name": "stdout",
     "output_type": "stream",
     "text": [
      "Pulling halo center from catalog file\n",
      "Opening snapshot /Volumes/TempestTimeSteps/DD1318/DD1318\n",
      "get_refine_box: using this location:       col1         col2     col3     col4     col5     col6     col7   col8\n",
      "---------------- -------- -------- -------- -------- -------- -------- ----\n",
      "0.62852184720062 0.490725 0.478411 0.505015 0.492725 0.480411 0.507015    9\n"
     ]
    },
    {
     "name": "stderr",
     "output_type": "stream",
     "text": [
      "Parsing Hierarchy : 100%|████████████████| 6061/6061 [00:00<00:00, 13426.25it/s]\n",
      "yt : [INFO     ] 2022-07-19 14:27:34,196 Gathering a field list (this may take a moment.)\n",
      "yt : [INFO     ] 2022-07-19 14:27:37,558 Parameters: current_time              = 362.56652781829\n",
      "yt : [INFO     ] 2022-07-19 14:27:37,561 Parameters: domain_dimensions         = [256 256 256]\n",
      "yt : [INFO     ] 2022-07-19 14:27:37,564 Parameters: domain_left_edge          = [0. 0. 0.]\n",
      "yt : [INFO     ] 2022-07-19 14:27:37,570 Parameters: domain_right_edge         = [1. 1. 1.]\n",
      "yt : [INFO     ] 2022-07-19 14:27:37,570 Parameters: cosmological_simulation   = 1\n",
      "yt : [INFO     ] 2022-07-19 14:27:37,571 Parameters: current_redshift          = 0.62765370224176\n",
      "yt : [INFO     ] 2022-07-19 14:27:37,571 Parameters: omega_lambda              = 0.715\n",
      "yt : [INFO     ] 2022-07-19 14:27:37,572 Parameters: omega_matter              = 0.285\n",
      "yt : [INFO     ] 2022-07-19 14:27:37,572 Parameters: omega_radiation           = 0.0\n",
      "yt : [INFO     ] 2022-07-19 14:27:37,572 Parameters: hubble_constant           = 0.695\n"
     ]
    },
    {
     "name": "stdout",
     "output_type": "stream",
     "text": [
      "Pulling halo center from catalog file\n",
      "Opening snapshot /Volumes/TempestTimeSteps/DD1319/DD1319\n",
      "get_refine_box: using this location:       col1         col2     col3     col4     col5     col6     col7   col8\n",
      "---------------- -------- -------- -------- -------- -------- -------- ----\n",
      "0.62765370224176 0.490723 0.478402 0.505019 0.492723 0.480402 0.507019    9\n"
     ]
    },
    {
     "name": "stderr",
     "output_type": "stream",
     "text": [
      "Parsing Hierarchy : 100%|████████████████| 6108/6108 [00:00<00:00, 12625.39it/s]\n",
      "yt : [INFO     ] 2022-07-19 14:27:38,356 Gathering a field list (this may take a moment.)\n"
     ]
    },
    {
     "name": "stdout",
     "output_type": "stream",
     "text": [
      "Pulling halo center from catalog file\n",
      "Opening snapshot /Volumes/TempestTimeSteps/DD1320/DD1320\n"
     ]
    },
    {
     "name": "stderr",
     "output_type": "stream",
     "text": [
      "yt : [INFO     ] 2022-07-19 14:27:41,965 Parameters: current_time              = 362.81652781829\n",
      "yt : [INFO     ] 2022-07-19 14:27:41,967 Parameters: domain_dimensions         = [256 256 256]\n",
      "yt : [INFO     ] 2022-07-19 14:27:41,970 Parameters: domain_left_edge          = [0. 0. 0.]\n",
      "yt : [INFO     ] 2022-07-19 14:27:41,972 Parameters: domain_right_edge         = [1. 1. 1.]\n",
      "yt : [INFO     ] 2022-07-19 14:27:41,973 Parameters: cosmological_simulation   = 1\n",
      "yt : [INFO     ] 2022-07-19 14:27:41,974 Parameters: current_redshift          = 0.62678645848885\n",
      "yt : [INFO     ] 2022-07-19 14:27:41,975 Parameters: omega_lambda              = 0.715\n",
      "yt : [INFO     ] 2022-07-19 14:27:41,975 Parameters: omega_matter              = 0.285\n",
      "yt : [INFO     ] 2022-07-19 14:27:41,976 Parameters: omega_radiation           = 0.0\n",
      "yt : [INFO     ] 2022-07-19 14:27:41,977 Parameters: hubble_constant           = 0.695\n"
     ]
    },
    {
     "name": "stdout",
     "output_type": "stream",
     "text": [
      "get_refine_box: using this location:       col1         col2     col3     col4     col5     col6     col7   col8\n",
      "---------------- -------- -------- -------- -------- -------- -------- ----\n",
      "0.62678645848885 0.490721 0.478392 0.505022 0.492721 0.480392 0.507022    9\n"
     ]
    },
    {
     "name": "stderr",
     "output_type": "stream",
     "text": [
      "Parsing Hierarchy : 100%|████████████████| 6021/6021 [00:00<00:00, 13350.69it/s]\n",
      "yt : [INFO     ] 2022-07-19 14:27:42,736 Gathering a field list (this may take a moment.)\n"
     ]
    },
    {
     "name": "stdout",
     "output_type": "stream",
     "text": [
      "Pulling halo center from catalog file\n",
      "Opening snapshot /Volumes/TempestTimeSteps/DD1327/DD1327\n"
     ]
    },
    {
     "name": "stderr",
     "output_type": "stream",
     "text": [
      "yt : [INFO     ] 2022-07-19 14:27:46,397 Parameters: current_time              = 364.56652781829\n",
      "yt : [INFO     ] 2022-07-19 14:27:46,399 Parameters: domain_dimensions         = [256 256 256]\n",
      "yt : [INFO     ] 2022-07-19 14:27:46,401 Parameters: domain_left_edge          = [0. 0. 0.]\n",
      "yt : [INFO     ] 2022-07-19 14:27:46,404 Parameters: domain_right_edge         = [1. 1. 1.]\n",
      "yt : [INFO     ] 2022-07-19 14:27:46,405 Parameters: cosmological_simulation   = 1\n",
      "yt : [INFO     ] 2022-07-19 14:27:46,405 Parameters: current_redshift          = 0.62074084812024\n",
      "yt : [INFO     ] 2022-07-19 14:27:46,406 Parameters: omega_lambda              = 0.715\n",
      "yt : [INFO     ] 2022-07-19 14:27:46,406 Parameters: omega_matter              = 0.285\n",
      "yt : [INFO     ] 2022-07-19 14:27:46,407 Parameters: omega_radiation           = 0.0\n",
      "yt : [INFO     ] 2022-07-19 14:27:46,408 Parameters: hubble_constant           = 0.695\n"
     ]
    },
    {
     "name": "stdout",
     "output_type": "stream",
     "text": [
      "get_refine_box: using this location:       col1         col2     col3     col4     col5     col6     col7   col8\n",
      "---------------- -------- -------- -------- -------- -------- -------- ----\n",
      "0.62074084812024 0.490704 0.478329 0.505051 0.492704 0.480329 0.507051    9\n"
     ]
    },
    {
     "name": "stderr",
     "output_type": "stream",
     "text": [
      "Parsing Hierarchy : 100%|████████████████| 6122/6122 [00:00<00:00, 13506.09it/s]\n",
      "yt : [INFO     ] 2022-07-19 14:27:47,149 Gathering a field list (this may take a moment.)\n"
     ]
    },
    {
     "name": "stdout",
     "output_type": "stream",
     "text": [
      "Pulling halo center from catalog file\n",
      "Opening snapshot /Volumes/TempestTimeSteps/DD1347/DD1347\n"
     ]
    },
    {
     "name": "stderr",
     "output_type": "stream",
     "text": [
      "yt : [INFO     ] 2022-07-19 14:27:50,564 Parameters: current_time              = 369.56652781829\n",
      "yt : [INFO     ] 2022-07-19 14:27:50,566 Parameters: domain_dimensions         = [256 256 256]\n",
      "yt : [INFO     ] 2022-07-19 14:27:50,569 Parameters: domain_left_edge          = [0. 0. 0.]\n",
      "yt : [INFO     ] 2022-07-19 14:27:50,573 Parameters: domain_right_edge         = [1. 1. 1.]\n",
      "yt : [INFO     ] 2022-07-19 14:27:50,575 Parameters: cosmological_simulation   = 1\n",
      "yt : [INFO     ] 2022-07-19 14:27:50,575 Parameters: current_redshift          = 0.60370561098879\n",
      "yt : [INFO     ] 2022-07-19 14:27:50,576 Parameters: omega_lambda              = 0.715\n",
      "yt : [INFO     ] 2022-07-19 14:27:50,577 Parameters: omega_matter              = 0.285\n",
      "yt : [INFO     ] 2022-07-19 14:27:50,578 Parameters: omega_radiation           = 0.0\n",
      "yt : [INFO     ] 2022-07-19 14:27:50,578 Parameters: hubble_constant           = 0.695\n"
     ]
    },
    {
     "name": "stdout",
     "output_type": "stream",
     "text": [
      "get_refine_box: using this location:       col1         col2    col3     col4     col5    col6     col7   col8\n",
      "---------------- ------- -------- -------- ------- -------- -------- ----\n",
      "0.60370561098879 0.49066 0.478148 0.505129 0.49266 0.480148 0.507129    9\n"
     ]
    },
    {
     "name": "stderr",
     "output_type": "stream",
     "text": [
      "Parsing Hierarchy : 100%|████████████████| 6238/6238 [00:00<00:00, 13916.78it/s]\n",
      "yt : [INFO     ] 2022-07-19 14:27:51,343 Gathering a field list (this may take a moment.)\n"
     ]
    },
    {
     "name": "stdout",
     "output_type": "stream",
     "text": [
      "Pulling halo center from catalog file\n",
      "Opening snapshot /Volumes/TempestTimeSteps/DD1367/DD1367\n"
     ]
    },
    {
     "name": "stderr",
     "output_type": "stream",
     "text": [
      "yt : [INFO     ] 2022-07-19 14:27:54,697 Parameters: current_time              = 374.56652781829\n",
      "yt : [INFO     ] 2022-07-19 14:27:54,700 Parameters: domain_dimensions         = [256 256 256]\n",
      "yt : [INFO     ] 2022-07-19 14:27:54,702 Parameters: domain_left_edge          = [0. 0. 0.]\n",
      "yt : [INFO     ] 2022-07-19 14:27:54,704 Parameters: domain_right_edge         = [1. 1. 1.]\n",
      "yt : [INFO     ] 2022-07-19 14:27:54,705 Parameters: cosmological_simulation   = 1\n",
      "yt : [INFO     ] 2022-07-19 14:27:54,706 Parameters: current_redshift          = 0.58701307192989\n",
      "yt : [INFO     ] 2022-07-19 14:27:54,706 Parameters: omega_lambda              = 0.715\n",
      "yt : [INFO     ] 2022-07-19 14:27:54,707 Parameters: omega_matter              = 0.285\n",
      "yt : [INFO     ] 2022-07-19 14:27:54,707 Parameters: omega_radiation           = 0.0\n",
      "yt : [INFO     ] 2022-07-19 14:27:54,708 Parameters: hubble_constant           = 0.695\n"
     ]
    },
    {
     "name": "stdout",
     "output_type": "stream",
     "text": [
      "get_refine_box: using this location:       col1         col2     col3     col4     col5     col6     col7   col8\n",
      "---------------- -------- -------- -------- -------- -------- -------- ----\n",
      "0.58701307192989 0.490616 0.477969 0.505207 0.492616 0.479969 0.507207    9\n"
     ]
    },
    {
     "name": "stderr",
     "output_type": "stream",
     "text": [
      "Parsing Hierarchy : 100%|████████████████| 6198/6198 [00:00<00:00, 13638.05it/s]\n",
      "yt : [INFO     ] 2022-07-19 14:27:55,470 Gathering a field list (this may take a moment.)\n",
      "yt : [INFO     ] 2022-07-19 14:27:58,574 Parameters: current_time              = 379.56652781829\n",
      "yt : [INFO     ] 2022-07-19 14:27:58,576 Parameters: domain_dimensions         = [256 256 256]\n",
      "yt : [INFO     ] 2022-07-19 14:27:58,579 Parameters: domain_left_edge          = [0. 0. 0.]\n",
      "yt : [INFO     ] 2022-07-19 14:27:58,582 Parameters: domain_right_edge         = [1. 1. 1.]\n",
      "yt : [INFO     ] 2022-07-19 14:27:58,583 Parameters: cosmological_simulation   = 1\n",
      "yt : [INFO     ] 2022-07-19 14:27:58,583 Parameters: current_redshift          = 0.57065123346059\n",
      "yt : [INFO     ] 2022-07-19 14:27:58,583 Parameters: omega_lambda              = 0.715\n",
      "yt : [INFO     ] 2022-07-19 14:27:58,584 Parameters: omega_matter              = 0.285\n",
      "yt : [INFO     ] 2022-07-19 14:27:58,585 Parameters: omega_radiation           = 0.0\n",
      "yt : [INFO     ] 2022-07-19 14:27:58,586 Parameters: hubble_constant           = 0.695\n"
     ]
    },
    {
     "name": "stdout",
     "output_type": "stream",
     "text": [
      "Pulling halo center from catalog file\n",
      "Opening snapshot /Volumes/TempestTimeSteps/DD1387/DD1387\n",
      "get_refine_box: using this location:       col1         col2     col3     col4     col5     col6     col7   col8\n",
      "---------------- -------- -------- -------- -------- -------- -------- ----\n",
      "0.57065123346059 0.490572 0.477791 0.505288 0.492572 0.479791 0.507288    9\n"
     ]
    },
    {
     "name": "stderr",
     "output_type": "stream",
     "text": [
      "Parsing Hierarchy : 100%|████████████████| 6136/6136 [00:00<00:00, 14475.07it/s]\n",
      "yt : [INFO     ] 2022-07-19 14:27:59,287 Gathering a field list (this may take a moment.)\n"
     ]
    },
    {
     "name": "stdout",
     "output_type": "stream",
     "text": [
      "Pulling halo center from catalog file\n",
      "Opening snapshot /Volumes/TempestTimeSteps/DD1407/DD1407\n"
     ]
    },
    {
     "name": "stderr",
     "output_type": "stream",
     "text": [
      "yt : [INFO     ] 2022-07-19 14:28:02,606 Parameters: current_time              = 384.56652781829\n",
      "yt : [INFO     ] 2022-07-19 14:28:02,609 Parameters: domain_dimensions         = [256 256 256]\n",
      "yt : [INFO     ] 2022-07-19 14:28:02,612 Parameters: domain_left_edge          = [0. 0. 0.]\n",
      "yt : [INFO     ] 2022-07-19 14:28:02,615 Parameters: domain_right_edge         = [1. 1. 1.]\n",
      "yt : [INFO     ] 2022-07-19 14:28:02,616 Parameters: cosmological_simulation   = 1\n",
      "yt : [INFO     ] 2022-07-19 14:28:02,616 Parameters: current_redshift          = 0.55460867652421\n",
      "yt : [INFO     ] 2022-07-19 14:28:02,617 Parameters: omega_lambda              = 0.715\n",
      "yt : [INFO     ] 2022-07-19 14:28:02,617 Parameters: omega_matter              = 0.285\n",
      "yt : [INFO     ] 2022-07-19 14:28:02,618 Parameters: omega_radiation           = 0.0\n",
      "yt : [INFO     ] 2022-07-19 14:28:02,618 Parameters: hubble_constant           = 0.695\n"
     ]
    },
    {
     "name": "stdout",
     "output_type": "stream",
     "text": [
      "get_refine_box: using this location:       col1         col2     col3     col4     col5     col6     col7   col8\n",
      "---------------- -------- -------- -------- -------- -------- -------- ----\n",
      "0.55460867652421 0.490529 0.477618 0.505368 0.492529 0.479618 0.507368    9\n"
     ]
    },
    {
     "name": "stderr",
     "output_type": "stream",
     "text": [
      "Parsing Hierarchy : 100%|████████████████| 5851/5851 [00:00<00:00, 14812.66it/s]\n",
      "yt : [INFO     ] 2022-07-19 14:28:03,373 Gathering a field list (this may take a moment.)\n"
     ]
    },
    {
     "name": "stdout",
     "output_type": "stream",
     "text": [
      "Pulling halo center from catalog file\n",
      "Opening snapshot /Volumes/TempestTimeSteps/DD1427/DD1427\n"
     ]
    },
    {
     "name": "stderr",
     "output_type": "stream",
     "text": [
      "yt : [INFO     ] 2022-07-19 14:28:06,663 Parameters: current_time              = 389.56652781829\n",
      "yt : [INFO     ] 2022-07-19 14:28:06,666 Parameters: domain_dimensions         = [256 256 256]\n",
      "yt : [INFO     ] 2022-07-19 14:28:06,669 Parameters: domain_left_edge          = [0. 0. 0.]\n",
      "yt : [INFO     ] 2022-07-19 14:28:06,671 Parameters: domain_right_edge         = [1. 1. 1.]\n",
      "yt : [INFO     ] 2022-07-19 14:28:06,672 Parameters: cosmological_simulation   = 1\n",
      "yt : [INFO     ] 2022-07-19 14:28:06,672 Parameters: current_redshift          = 0.53887452569124\n",
      "yt : [INFO     ] 2022-07-19 14:28:06,673 Parameters: omega_lambda              = 0.715\n",
      "yt : [INFO     ] 2022-07-19 14:28:06,673 Parameters: omega_matter              = 0.285\n",
      "yt : [INFO     ] 2022-07-19 14:28:06,674 Parameters: omega_radiation           = 0.0\n",
      "yt : [INFO     ] 2022-07-19 14:28:06,675 Parameters: hubble_constant           = 0.695\n"
     ]
    },
    {
     "name": "stdout",
     "output_type": "stream",
     "text": [
      "get_refine_box: using this location:       col1         col2     col3     col4    col5     col6     col7  col8\n",
      "---------------- -------- -------- ------- -------- -------- ------- ----\n",
      "0.53887452569124 0.490487 0.477448 0.50545 0.492487 0.479448 0.50745    9\n"
     ]
    },
    {
     "name": "stderr",
     "output_type": "stream",
     "text": [
      "Parsing Hierarchy : 100%|████████████████| 5833/5833 [00:00<00:00, 15540.51it/s]\n",
      "yt : [INFO     ] 2022-07-19 14:28:07,323 Gathering a field list (this may take a moment.)\n"
     ]
    },
    {
     "name": "stdout",
     "output_type": "stream",
     "text": [
      "Pulling halo center from catalog file\n",
      "Opening snapshot /Volumes/TempestTimeSteps/DD1447/DD1447\n"
     ]
    },
    {
     "name": "stderr",
     "output_type": "stream",
     "text": [
      "yt : [INFO     ] 2022-07-19 14:28:10,642 Parameters: current_time              = 394.56652781829\n",
      "yt : [INFO     ] 2022-07-19 14:28:10,645 Parameters: domain_dimensions         = [256 256 256]\n",
      "yt : [INFO     ] 2022-07-19 14:28:10,648 Parameters: domain_left_edge          = [0. 0. 0.]\n",
      "yt : [INFO     ] 2022-07-19 14:28:10,651 Parameters: domain_right_edge         = [1. 1. 1.]\n",
      "yt : [INFO     ] 2022-07-19 14:28:10,651 Parameters: cosmological_simulation   = 1\n",
      "yt : [INFO     ] 2022-07-19 14:28:10,652 Parameters: current_redshift          = 0.52343841686509\n",
      "yt : [INFO     ] 2022-07-19 14:28:10,652 Parameters: omega_lambda              = 0.715\n",
      "yt : [INFO     ] 2022-07-19 14:28:10,653 Parameters: omega_matter              = 0.285\n",
      "yt : [INFO     ] 2022-07-19 14:28:10,653 Parameters: omega_radiation           = 0.0\n",
      "yt : [INFO     ] 2022-07-19 14:28:10,654 Parameters: hubble_constant           = 0.695\n"
     ]
    },
    {
     "name": "stdout",
     "output_type": "stream",
     "text": [
      "get_refine_box: using this location:       col1         col2     col3     col4     col5     col6     col7   col8\n",
      "---------------- -------- -------- -------- -------- -------- -------- ----\n",
      "0.52343841686509 0.490445 0.477276 0.505537 0.492445 0.479276 0.507537    9\n"
     ]
    },
    {
     "name": "stderr",
     "output_type": "stream",
     "text": [
      "Parsing Hierarchy : 100%|████████████████| 6011/6011 [00:00<00:00, 15540.13it/s]\n",
      "yt : [INFO     ] 2022-07-19 14:28:11,325 Gathering a field list (this may take a moment.)\n"
     ]
    },
    {
     "name": "stdout",
     "output_type": "stream",
     "text": [
      "Pulling halo center from catalog file\n",
      "Opening snapshot /Volumes/TempestTimeSteps/DD1467/DD1467\n"
     ]
    },
    {
     "name": "stderr",
     "output_type": "stream",
     "text": [
      "yt : [INFO     ] 2022-07-19 14:28:14,776 Parameters: current_time              = 399.56652781829\n",
      "yt : [INFO     ] 2022-07-19 14:28:14,779 Parameters: domain_dimensions         = [256 256 256]\n",
      "yt : [INFO     ] 2022-07-19 14:28:14,781 Parameters: domain_left_edge          = [0. 0. 0.]\n",
      "yt : [INFO     ] 2022-07-19 14:28:14,784 Parameters: domain_right_edge         = [1. 1. 1.]\n",
      "yt : [INFO     ] 2022-07-19 14:28:14,784 Parameters: cosmological_simulation   = 1\n",
      "yt : [INFO     ] 2022-07-19 14:28:14,785 Parameters: current_redshift          = 0.50829046728324\n",
      "yt : [INFO     ] 2022-07-19 14:28:14,785 Parameters: omega_lambda              = 0.715\n",
      "yt : [INFO     ] 2022-07-19 14:28:14,786 Parameters: omega_matter              = 0.285\n",
      "yt : [INFO     ] 2022-07-19 14:28:14,786 Parameters: omega_radiation           = 0.0\n",
      "yt : [INFO     ] 2022-07-19 14:28:14,786 Parameters: hubble_constant           = 0.695\n"
     ]
    },
    {
     "name": "stdout",
     "output_type": "stream",
     "text": [
      "get_refine_box: using this location:       col1         col2     col3     col4     col5     col6     col7   col8\n",
      "---------------- -------- -------- -------- -------- -------- -------- ----\n",
      "0.50829046728324 0.490403 0.477105 0.505623 0.492403 0.479105 0.507623    9\n"
     ]
    },
    {
     "name": "stderr",
     "output_type": "stream",
     "text": [
      "Parsing Hierarchy : 100%|████████████████| 6171/6171 [00:00<00:00, 14938.50it/s]\n",
      "yt : [INFO     ] 2022-07-19 14:28:15,482 Gathering a field list (this may take a moment.)\n"
     ]
    },
    {
     "name": "stdout",
     "output_type": "stream",
     "text": [
      "Pulling halo center from catalog file\n",
      "Opening snapshot /Volumes/TempestTimeSteps/DD1487/DD1487\n"
     ]
    },
    {
     "name": "stderr",
     "output_type": "stream",
     "text": [
      "yt : [INFO     ] 2022-07-19 14:28:18,877 Parameters: current_time              = 404.56652781829\n",
      "yt : [INFO     ] 2022-07-19 14:28:18,880 Parameters: domain_dimensions         = [256 256 256]\n",
      "yt : [INFO     ] 2022-07-19 14:28:18,882 Parameters: domain_left_edge          = [0. 0. 0.]\n",
      "yt : [INFO     ] 2022-07-19 14:28:18,885 Parameters: domain_right_edge         = [1. 1. 1.]\n",
      "yt : [INFO     ] 2022-07-19 14:28:18,886 Parameters: cosmological_simulation   = 1\n",
      "yt : [INFO     ] 2022-07-19 14:28:18,886 Parameters: current_redshift          = 0.49342124762432\n",
      "yt : [INFO     ] 2022-07-19 14:28:18,887 Parameters: omega_lambda              = 0.715\n",
      "yt : [INFO     ] 2022-07-19 14:28:18,887 Parameters: omega_matter              = 0.285\n",
      "yt : [INFO     ] 2022-07-19 14:28:18,888 Parameters: omega_radiation           = 0.0\n",
      "yt : [INFO     ] 2022-07-19 14:28:18,888 Parameters: hubble_constant           = 0.695\n"
     ]
    },
    {
     "name": "stdout",
     "output_type": "stream",
     "text": [
      "get_refine_box: using this location:       col1         col2     col3     col4     col5     col6     col7   col8\n",
      "---------------- -------- -------- -------- -------- -------- -------- ----\n",
      "0.49342124762432 0.490359 0.476933 0.505703 0.492359 0.478933 0.507703    9\n"
     ]
    },
    {
     "name": "stderr",
     "output_type": "stream",
     "text": [
      "Parsing Hierarchy : 100%|████████████████| 5910/5910 [00:00<00:00, 13926.09it/s]\n",
      "yt : [INFO     ] 2022-07-19 14:28:19,592 Gathering a field list (this may take a moment.)\n"
     ]
    },
    {
     "name": "stdout",
     "output_type": "stream",
     "text": [
      "Pulling halo center from catalog file\n",
      "Opening snapshot /Volumes/TempestTimeSteps/DD1507/DD1507\n"
     ]
    },
    {
     "name": "stderr",
     "output_type": "stream",
     "text": [
      "yt : [INFO     ] 2022-07-19 14:28:23,163 Parameters: current_time              = 409.56652781829\n",
      "yt : [INFO     ] 2022-07-19 14:28:23,165 Parameters: domain_dimensions         = [256 256 256]\n",
      "yt : [INFO     ] 2022-07-19 14:28:23,168 Parameters: domain_left_edge          = [0. 0. 0.]\n",
      "yt : [INFO     ] 2022-07-19 14:28:23,170 Parameters: domain_right_edge         = [1. 1. 1.]\n",
      "yt : [INFO     ] 2022-07-19 14:28:23,171 Parameters: cosmological_simulation   = 1\n",
      "yt : [INFO     ] 2022-07-19 14:28:23,171 Parameters: current_redshift          = 0.47882175604921\n",
      "yt : [INFO     ] 2022-07-19 14:28:23,172 Parameters: omega_lambda              = 0.715\n",
      "yt : [INFO     ] 2022-07-19 14:28:23,173 Parameters: omega_matter              = 0.285\n",
      "yt : [INFO     ] 2022-07-19 14:28:23,173 Parameters: omega_radiation           = 0.0\n",
      "yt : [INFO     ] 2022-07-19 14:28:23,174 Parameters: hubble_constant           = 0.695\n"
     ]
    },
    {
     "name": "stdout",
     "output_type": "stream",
     "text": [
      "get_refine_box: using this location:       col1         col2     col3     col4     col5     col6     col7   col8\n",
      "---------------- -------- -------- -------- -------- -------- -------- ----\n",
      "0.47882175604921 0.490311 0.476767 0.505778 0.492311 0.478767 0.507778    9\n"
     ]
    },
    {
     "name": "stderr",
     "output_type": "stream",
     "text": [
      "Parsing Hierarchy : 100%|████████████████| 5867/5867 [00:00<00:00, 14469.02it/s]\n",
      "yt : [INFO     ] 2022-07-19 14:28:23,895 Gathering a field list (this may take a moment.)\n"
     ]
    },
    {
     "name": "stdout",
     "output_type": "stream",
     "text": [
      "Pulling halo center from catalog file\n",
      "Opening snapshot /Volumes/TempestTimeSteps/DD1527/DD1527\n"
     ]
    },
    {
     "name": "stderr",
     "output_type": "stream",
     "text": [
      "yt : [INFO     ] 2022-07-19 14:28:27,460 Parameters: current_time              = 414.56652781829\n",
      "yt : [INFO     ] 2022-07-19 14:28:27,464 Parameters: domain_dimensions         = [256 256 256]\n",
      "yt : [INFO     ] 2022-07-19 14:28:27,467 Parameters: domain_left_edge          = [0. 0. 0.]\n",
      "yt : [INFO     ] 2022-07-19 14:28:27,470 Parameters: domain_right_edge         = [1. 1. 1.]\n",
      "yt : [INFO     ] 2022-07-19 14:28:27,471 Parameters: cosmological_simulation   = 1\n",
      "yt : [INFO     ] 2022-07-19 14:28:27,471 Parameters: current_redshift          = 0.46448339402042\n",
      "yt : [INFO     ] 2022-07-19 14:28:27,472 Parameters: omega_lambda              = 0.715\n",
      "yt : [INFO     ] 2022-07-19 14:28:27,473 Parameters: omega_matter              = 0.285\n",
      "yt : [INFO     ] 2022-07-19 14:28:27,473 Parameters: omega_radiation           = 0.0\n",
      "yt : [INFO     ] 2022-07-19 14:28:27,474 Parameters: hubble_constant           = 0.695\n"
     ]
    },
    {
     "name": "stdout",
     "output_type": "stream",
     "text": [
      "get_refine_box: using this location:       col1         col2     col3     col4     col5     col6     col7   col8\n",
      "---------------- -------- -------- -------- -------- -------- -------- ----\n",
      "0.46448339402042 0.490271 0.476607 0.505839 0.492271 0.478607 0.507839    9\n"
     ]
    },
    {
     "name": "stderr",
     "output_type": "stream",
     "text": [
      "Parsing Hierarchy : 100%|████████████████| 5969/5969 [00:00<00:00, 10662.72it/s]\n",
      "yt : [INFO     ] 2022-07-19 14:28:28,374 Gathering a field list (this may take a moment.)\n"
     ]
    },
    {
     "name": "stdout",
     "output_type": "stream",
     "text": [
      "Pulling halo center from catalog file\n",
      "Opening snapshot /Volumes/TempestTimeSteps/DD1547/DD1547\n"
     ]
    },
    {
     "name": "stderr",
     "output_type": "stream",
     "text": [
      "yt : [INFO     ] 2022-07-19 14:28:32,142 Parameters: current_time              = 419.56652781829\n",
      "yt : [INFO     ] 2022-07-19 14:28:32,145 Parameters: domain_dimensions         = [256 256 256]\n",
      "yt : [INFO     ] 2022-07-19 14:28:32,148 Parameters: domain_left_edge          = [0. 0. 0.]\n",
      "yt : [INFO     ] 2022-07-19 14:28:32,151 Parameters: domain_right_edge         = [1. 1. 1.]\n",
      "yt : [INFO     ] 2022-07-19 14:28:32,152 Parameters: cosmological_simulation   = 1\n",
      "yt : [INFO     ] 2022-07-19 14:28:32,153 Parameters: current_redshift          = 0.45039794375812\n",
      "yt : [INFO     ] 2022-07-19 14:28:32,153 Parameters: omega_lambda              = 0.715\n",
      "yt : [INFO     ] 2022-07-19 14:28:32,154 Parameters: omega_matter              = 0.285\n",
      "yt : [INFO     ] 2022-07-19 14:28:32,155 Parameters: omega_radiation           = 0.0\n",
      "yt : [INFO     ] 2022-07-19 14:28:32,155 Parameters: hubble_constant           = 0.695\n"
     ]
    },
    {
     "name": "stdout",
     "output_type": "stream",
     "text": [
      "get_refine_box: using this location:       col1         col2     col3     col4     col5     col6     col7   col8\n",
      "---------------- -------- -------- -------- -------- -------- -------- ----\n",
      "0.45039794375812 0.490235 0.476443 0.505904 0.492235 0.478443 0.507904    9\n"
     ]
    },
    {
     "name": "stderr",
     "output_type": "stream",
     "text": [
      "Parsing Hierarchy : 100%|████████████████| 5953/5953 [00:00<00:00, 12925.15it/s]\n",
      "yt : [INFO     ] 2022-07-19 14:28:32,920 Gathering a field list (this may take a moment.)\n"
     ]
    },
    {
     "name": "stdout",
     "output_type": "stream",
     "text": [
      "Pulling halo center from catalog file\n",
      "Opening snapshot /Volumes/TempestTimeSteps/DD1567/DD1567\n"
     ]
    },
    {
     "name": "stderr",
     "output_type": "stream",
     "text": [
      "yt : [INFO     ] 2022-07-19 14:28:36,487 Parameters: current_time              = 424.56652781829\n",
      "yt : [INFO     ] 2022-07-19 14:28:36,489 Parameters: domain_dimensions         = [256 256 256]\n",
      "yt : [INFO     ] 2022-07-19 14:28:36,492 Parameters: domain_left_edge          = [0. 0. 0.]\n",
      "yt : [INFO     ] 2022-07-19 14:28:36,496 Parameters: domain_right_edge         = [1. 1. 1.]\n",
      "yt : [INFO     ] 2022-07-19 14:28:36,497 Parameters: cosmological_simulation   = 1\n",
      "yt : [INFO     ] 2022-07-19 14:28:36,497 Parameters: current_redshift          = 0.43654854251444\n",
      "yt : [INFO     ] 2022-07-19 14:28:36,498 Parameters: omega_lambda              = 0.715\n",
      "yt : [INFO     ] 2022-07-19 14:28:36,498 Parameters: omega_matter              = 0.285\n",
      "yt : [INFO     ] 2022-07-19 14:28:36,499 Parameters: omega_radiation           = 0\n",
      "yt : [INFO     ] 2022-07-19 14:28:36,499 Parameters: hubble_constant           = 0.695\n"
     ]
    },
    {
     "name": "stdout",
     "output_type": "stream",
     "text": [
      "get_refine_box: using this location:       col1         col2     col3     col4     col5     col6     col7   col8\n",
      "---------------- -------- -------- -------- -------- -------- -------- ----\n",
      "0.43655754720396 0.490199 0.476281 0.505972 0.492199 0.478281 0.507972    9\n"
     ]
    },
    {
     "name": "stderr",
     "output_type": "stream",
     "text": [
      "Parsing Hierarchy : 100%|████████████████| 5989/5989 [00:00<00:00, 14205.89it/s]\n",
      "yt : [INFO     ] 2022-07-19 14:28:37,210 Gathering a field list (this may take a moment.)\n"
     ]
    },
    {
     "name": "stdout",
     "output_type": "stream",
     "text": [
      "Pulling halo center from catalog file\n",
      "Opening snapshot /Volumes/TempestTimeSteps/DD1587/DD1587\n"
     ]
    },
    {
     "name": "stderr",
     "output_type": "stream",
     "text": [
      "yt : [INFO     ] 2022-07-19 14:28:40,484 Parameters: current_time              = 429.56652781829\n",
      "yt : [INFO     ] 2022-07-19 14:28:40,487 Parameters: domain_dimensions         = [256 256 256]\n",
      "yt : [INFO     ] 2022-07-19 14:28:40,490 Parameters: domain_left_edge          = [0. 0. 0.]\n",
      "yt : [INFO     ] 2022-07-19 14:28:40,493 Parameters: domain_right_edge         = [1. 1. 1.]\n",
      "yt : [INFO     ] 2022-07-19 14:28:40,494 Parameters: cosmological_simulation   = 1\n",
      "yt : [INFO     ] 2022-07-19 14:28:40,494 Parameters: current_redshift          = 0.42294018464771\n",
      "yt : [INFO     ] 2022-07-19 14:28:40,495 Parameters: omega_lambda              = 0.715\n",
      "yt : [INFO     ] 2022-07-19 14:28:40,495 Parameters: omega_matter              = 0.285\n",
      "yt : [INFO     ] 2022-07-19 14:28:40,496 Parameters: omega_radiation           = 0\n",
      "yt : [INFO     ] 2022-07-19 14:28:40,497 Parameters: hubble_constant           = 0.695\n"
     ]
    },
    {
     "name": "stdout",
     "output_type": "stream",
     "text": [
      "get_refine_box: using this location:       col1         col2     col3     col4     col5     col6     col7   col8\n",
      "---------------- -------- -------- -------- -------- -------- -------- ----\n",
      "0.42295468637566 0.490164 0.476115 0.506041 0.492164 0.478115 0.508041    9\n"
     ]
    },
    {
     "name": "stderr",
     "output_type": "stream",
     "text": [
      "Parsing Hierarchy : 100%|████████████████| 5816/5816 [00:00<00:00, 13452.65it/s]\n",
      "yt : [INFO     ] 2022-07-19 14:28:41,219 Gathering a field list (this may take a moment.)\n"
     ]
    },
    {
     "name": "stdout",
     "output_type": "stream",
     "text": [
      "Pulling halo center from catalog file\n",
      "Opening snapshot /Volumes/TempestTimeSteps/DD1607/DD1607\n"
     ]
    },
    {
     "name": "stderr",
     "output_type": "stream",
     "text": [
      "yt : [INFO     ] 2022-07-19 14:28:44,564 Parameters: current_time              = 434.56652781829\n",
      "yt : [INFO     ] 2022-07-19 14:28:44,566 Parameters: domain_dimensions         = [256 256 256]\n",
      "yt : [INFO     ] 2022-07-19 14:28:44,569 Parameters: domain_left_edge          = [0. 0. 0.]\n",
      "yt : [INFO     ] 2022-07-19 14:28:44,571 Parameters: domain_right_edge         = [1. 1. 1.]\n",
      "yt : [INFO     ] 2022-07-19 14:28:44,572 Parameters: cosmological_simulation   = 1\n",
      "yt : [INFO     ] 2022-07-19 14:28:44,573 Parameters: current_redshift          = 0.40957366338403\n",
      "yt : [INFO     ] 2022-07-19 14:28:44,573 Parameters: omega_lambda              = 0.715\n",
      "yt : [INFO     ] 2022-07-19 14:28:44,574 Parameters: omega_matter              = 0.285\n",
      "yt : [INFO     ] 2022-07-19 14:28:44,574 Parameters: omega_radiation           = 0\n",
      "yt : [INFO     ] 2022-07-19 14:28:44,575 Parameters: hubble_constant           = 0.695\n"
     ]
    },
    {
     "name": "stdout",
     "output_type": "stream",
     "text": [
      "get_refine_box: using this location:       col1        col2     col3     col4     col5     col6     col7   col8\n",
      "--------------- -------- -------- -------- -------- -------- -------- ----\n",
      "0.4095821650052 0.490128 0.475951 0.506113 0.492128 0.477951 0.508113    9\n"
     ]
    },
    {
     "name": "stderr",
     "output_type": "stream",
     "text": [
      "Parsing Hierarchy : 100%|████████████████| 5789/5789 [00:00<00:00, 12820.85it/s]\n",
      "yt : [INFO     ] 2022-07-19 14:28:45,321 Gathering a field list (this may take a moment.)\n"
     ]
    },
    {
     "name": "stdout",
     "output_type": "stream",
     "text": [
      "Pulling halo center from catalog file\n",
      "Opening snapshot /Volumes/TempestTimeSteps/DD1627/DD1627\n"
     ]
    },
    {
     "name": "stderr",
     "output_type": "stream",
     "text": [
      "yt : [INFO     ] 2022-07-19 14:28:48,545 Parameters: current_time              = 439.56652781829\n",
      "yt : [INFO     ] 2022-07-19 14:28:48,548 Parameters: domain_dimensions         = [256 256 256]\n",
      "yt : [INFO     ] 2022-07-19 14:28:48,550 Parameters: domain_left_edge          = [0. 0. 0.]\n",
      "yt : [INFO     ] 2022-07-19 14:28:48,553 Parameters: domain_right_edge         = [1. 1. 1.]\n",
      "yt : [INFO     ] 2022-07-19 14:28:48,554 Parameters: cosmological_simulation   = 1\n",
      "yt : [INFO     ] 2022-07-19 14:28:48,554 Parameters: current_redshift          = 0.39642584964378\n",
      "yt : [INFO     ] 2022-07-19 14:28:48,555 Parameters: omega_lambda              = 0.715\n",
      "yt : [INFO     ] 2022-07-19 14:28:48,555 Parameters: omega_matter              = 0.285\n",
      "yt : [INFO     ] 2022-07-19 14:28:48,556 Parameters: omega_radiation           = 0\n",
      "yt : [INFO     ] 2022-07-19 14:28:48,556 Parameters: hubble_constant           = 0.695\n"
     ]
    },
    {
     "name": "stdout",
     "output_type": "stream",
     "text": [
      "get_refine_box: using this location:       col1         col2     col3     col4     col5     col6     col7   col8\n",
      "---------------- -------- -------- -------- -------- -------- -------- ----\n",
      "0.39643309136323 0.490092 0.475789 0.506186 0.492092 0.477789 0.508186    9\n"
     ]
    },
    {
     "name": "stderr",
     "output_type": "stream",
     "text": [
      "Parsing Hierarchy : 100%|████████████████| 5643/5643 [00:00<00:00, 14970.28it/s]\n",
      "yt : [INFO     ] 2022-07-19 14:28:49,186 Gathering a field list (this may take a moment.)\n",
      "yt : [INFO     ] 2022-07-19 14:28:52,346 Parameters: current_time              = 444.56652781829\n",
      "yt : [INFO     ] 2022-07-19 14:28:52,349 Parameters: domain_dimensions         = [256 256 256]\n",
      "yt : [INFO     ] 2022-07-19 14:28:52,351 Parameters: domain_left_edge          = [0. 0. 0.]\n",
      "yt : [INFO     ] 2022-07-19 14:28:52,354 Parameters: domain_right_edge         = [1. 1. 1.]\n",
      "yt : [INFO     ] 2022-07-19 14:28:52,355 Parameters: cosmological_simulation   = 1\n",
      "yt : [INFO     ] 2022-07-19 14:28:52,355 Parameters: current_redshift          = 0.38348625944323\n",
      "yt : [INFO     ] 2022-07-19 14:28:52,356 Parameters: omega_lambda              = 0.715\n",
      "yt : [INFO     ] 2022-07-19 14:28:52,356 Parameters: omega_matter              = 0.285\n",
      "yt : [INFO     ] 2022-07-19 14:28:52,357 Parameters: omega_radiation           = 0\n",
      "yt : [INFO     ] 2022-07-19 14:28:52,358 Parameters: hubble_constant           = 0.695\n"
     ]
    },
    {
     "name": "stdout",
     "output_type": "stream",
     "text": [
      "Pulling halo center from catalog file\n",
      "Opening snapshot /Volumes/TempestTimeSteps/DD1647/DD1647\n",
      "get_refine_box: using this location:       col1         col2     col3     col4    col5     col6     col7  col8\n",
      "---------------- -------- -------- ------- -------- -------- ------- ----\n",
      "0.38350086218055 0.490054 0.475624 0.50626 0.492054 0.477624 0.50826    9\n"
     ]
    },
    {
     "name": "stderr",
     "output_type": "stream",
     "text": [
      "Parsing Hierarchy : 100%|████████████████| 5260/5260 [00:00<00:00, 15965.12it/s]\n",
      "yt : [INFO     ] 2022-07-19 14:28:52,942 Gathering a field list (this may take a moment.)\n"
     ]
    },
    {
     "name": "stdout",
     "output_type": "stream",
     "text": [
      "Pulling halo center from catalog file\n",
      "Opening snapshot /Volumes/TempestTimeSteps/DD1667/DD1667\n"
     ]
    },
    {
     "name": "stderr",
     "output_type": "stream",
     "text": [
      "yt : [INFO     ] 2022-07-19 14:28:56,855 Parameters: current_time              = 449.56652781829\n",
      "yt : [INFO     ] 2022-07-19 14:28:56,861 Parameters: domain_dimensions         = [256 256 256]\n",
      "yt : [INFO     ] 2022-07-19 14:28:56,867 Parameters: domain_left_edge          = [0. 0. 0.]\n",
      "yt : [INFO     ] 2022-07-19 14:28:56,874 Parameters: domain_right_edge         = [1. 1. 1.]\n",
      "yt : [INFO     ] 2022-07-19 14:28:56,876 Parameters: cosmological_simulation   = 1\n",
      "yt : [INFO     ] 2022-07-19 14:28:56,878 Parameters: current_redshift          = 0.37076988451991\n",
      "yt : [INFO     ] 2022-07-19 14:28:56,882 Parameters: omega_lambda              = 0.715\n",
      "yt : [INFO     ] 2022-07-19 14:28:56,884 Parameters: omega_matter              = 0.285\n",
      "yt : [INFO     ] 2022-07-19 14:28:56,886 Parameters: omega_radiation           = 0\n",
      "yt : [INFO     ] 2022-07-19 14:28:56,887 Parameters: hubble_constant           = 0.695\n"
     ]
    },
    {
     "name": "stdout",
     "output_type": "stream",
     "text": [
      "get_refine_box: using this location:       col1         col2     col3     col4     col5     col6     col7   col8\n",
      "---------------- -------- -------- -------- -------- -------- -------- ----\n",
      "0.37077914758514 0.490008 0.475464 0.506331 0.492008 0.477464 0.508331    9\n"
     ]
    },
    {
     "name": "stderr",
     "output_type": "stream",
     "text": [
      "Parsing Hierarchy : 100%|████████████████| 5350/5350 [00:00<00:00, 13571.76it/s]\n",
      "yt : [INFO     ] 2022-07-19 14:28:57,575 Gathering a field list (this may take a moment.)\n"
     ]
    },
    {
     "name": "stdout",
     "output_type": "stream",
     "text": [
      "Pulling halo center from catalog file\n",
      "Opening snapshot /Volumes/TempestTimeSteps/DD1687/DD1687\n"
     ]
    },
    {
     "name": "stderr",
     "output_type": "stream",
     "text": [
      "yt : [INFO     ] 2022-07-19 14:29:01,095 Parameters: current_time              = 454.56652781829\n",
      "yt : [INFO     ] 2022-07-19 14:29:01,098 Parameters: domain_dimensions         = [256 256 256]\n",
      "yt : [INFO     ] 2022-07-19 14:29:01,100 Parameters: domain_left_edge          = [0. 0. 0.]\n",
      "yt : [INFO     ] 2022-07-19 14:29:01,103 Parameters: domain_right_edge         = [1. 1. 1.]\n",
      "yt : [INFO     ] 2022-07-19 14:29:01,103 Parameters: cosmological_simulation   = 1\n",
      "yt : [INFO     ] 2022-07-19 14:29:01,103 Parameters: current_redshift          = 0.35825474228483\n",
      "yt : [INFO     ] 2022-07-19 14:29:01,104 Parameters: omega_lambda              = 0.715\n",
      "yt : [INFO     ] 2022-07-19 14:29:01,105 Parameters: omega_matter              = 0.285\n",
      "yt : [INFO     ] 2022-07-19 14:29:01,105 Parameters: omega_radiation           = 0\n",
      "yt : [INFO     ] 2022-07-19 14:29:01,106 Parameters: hubble_constant           = 0.695\n"
     ]
    },
    {
     "name": "stdout",
     "output_type": "stream",
     "text": [
      "get_refine_box: using this location:       col1         col2    col3     col4     col5    col6     col7   col8\n",
      "---------------- ------- -------- -------- ------- -------- -------- ----\n",
      "0.35826187698009 0.48997 0.475304 0.506398 0.49197 0.477304 0.508398    9\n"
     ]
    },
    {
     "name": "stderr",
     "output_type": "stream",
     "text": [
      "Parsing Hierarchy : 100%|████████████████| 5327/5327 [00:00<00:00, 13160.98it/s]\n",
      "yt : [INFO     ] 2022-07-19 14:29:01,768 Gathering a field list (this may take a moment.)\n"
     ]
    },
    {
     "name": "stdout",
     "output_type": "stream",
     "text": [
      "Pulling halo center from catalog file\n",
      "Opening snapshot /Volumes/TempestTimeSteps/DD1707/DD1707\n"
     ]
    },
    {
     "name": "stderr",
     "output_type": "stream",
     "text": [
      "yt : [INFO     ] 2022-07-19 14:29:05,546 Parameters: current_time              = 459.56652781829\n",
      "yt : [INFO     ] 2022-07-19 14:29:05,549 Parameters: domain_dimensions         = [256 256 256]\n",
      "yt : [INFO     ] 2022-07-19 14:29:05,552 Parameters: domain_left_edge          = [0. 0. 0.]\n",
      "yt : [INFO     ] 2022-07-19 14:29:05,555 Parameters: domain_right_edge         = [1. 1. 1.]\n",
      "yt : [INFO     ] 2022-07-19 14:29:05,555 Parameters: cosmological_simulation   = 1\n",
      "yt : [INFO     ] 2022-07-19 14:29:05,556 Parameters: current_redshift          = 0.34592847874001\n",
      "yt : [INFO     ] 2022-07-19 14:29:05,556 Parameters: omega_lambda              = 0.715\n",
      "yt : [INFO     ] 2022-07-19 14:29:05,557 Parameters: omega_matter              = 0.285\n",
      "yt : [INFO     ] 2022-07-19 14:29:05,558 Parameters: omega_radiation           = 0\n",
      "yt : [INFO     ] 2022-07-19 14:29:05,558 Parameters: hubble_constant           = 0.695\n"
     ]
    },
    {
     "name": "stdout",
     "output_type": "stream",
     "text": [
      "get_refine_box: using this location:       col1        col2     col3     col4     col5     col6     col7   col8\n",
      "--------------- -------- -------- -------- -------- -------- -------- ----\n",
      "0.3459432257941 0.489933 0.475144 0.506463 0.491933 0.477144 0.508463    9\n"
     ]
    },
    {
     "name": "stderr",
     "output_type": "stream",
     "text": [
      "Parsing Hierarchy : 100%|████████████████| 5353/5353 [00:00<00:00, 15679.60it/s]\n",
      "yt : [INFO     ] 2022-07-19 14:29:06,173 Gathering a field list (this may take a moment.)\n"
     ]
    },
    {
     "name": "stdout",
     "output_type": "stream",
     "text": [
      "Pulling halo center from catalog file\n",
      "Opening snapshot /Volumes/TempestTimeSteps/DD1727/DD1727\n"
     ]
    },
    {
     "name": "stderr",
     "output_type": "stream",
     "text": [
      "yt : [INFO     ] 2022-07-19 14:29:09,448 Parameters: current_time              = 464.56652781829\n",
      "yt : [INFO     ] 2022-07-19 14:29:09,450 Parameters: domain_dimensions         = [256 256 256]\n",
      "yt : [INFO     ] 2022-07-19 14:29:09,452 Parameters: domain_left_edge          = [0. 0. 0.]\n",
      "yt : [INFO     ] 2022-07-19 14:29:09,455 Parameters: domain_right_edge         = [1. 1. 1.]\n",
      "yt : [INFO     ] 2022-07-19 14:29:09,456 Parameters: cosmological_simulation   = 1\n",
      "yt : [INFO     ] 2022-07-19 14:29:09,456 Parameters: current_redshift          = 0.33380915572466\n",
      "yt : [INFO     ] 2022-07-19 14:29:09,457 Parameters: omega_lambda              = 0.715\n",
      "yt : [INFO     ] 2022-07-19 14:29:09,458 Parameters: omega_matter              = 0.285\n",
      "yt : [INFO     ] 2022-07-19 14:29:09,459 Parameters: omega_radiation           = 0\n",
      "yt : [INFO     ] 2022-07-19 14:29:09,461 Parameters: hubble_constant           = 0.695\n"
     ]
    },
    {
     "name": "stdout",
     "output_type": "stream",
     "text": [
      "get_refine_box: using this location:       col1         col2     col3     col4     col5     col6     col7   col8\n",
      "---------------- -------- -------- -------- -------- -------- -------- ----\n",
      "0.33381760304183 0.489899 0.474982 0.506529 0.491899 0.476982 0.508529    9\n"
     ]
    },
    {
     "name": "stderr",
     "output_type": "stream",
     "text": [
      "Parsing Hierarchy : 100%|████████████████| 5384/5384 [00:00<00:00, 15014.11it/s]\n",
      "yt : [INFO     ] 2022-07-19 14:29:10,080 Gathering a field list (this may take a moment.)\n"
     ]
    },
    {
     "name": "stdout",
     "output_type": "stream",
     "text": [
      "Pulling halo center from catalog file\n",
      "Opening snapshot /Volumes/TempestTimeSteps/DD1747/DD1747\n"
     ]
    },
    {
     "name": "stderr",
     "output_type": "stream",
     "text": [
      "yt : [INFO     ] 2022-07-19 14:29:13,465 Parameters: current_time              = 469.56652781829\n",
      "yt : [INFO     ] 2022-07-19 14:29:13,467 Parameters: domain_dimensions         = [256 256 256]\n",
      "yt : [INFO     ] 2022-07-19 14:29:13,470 Parameters: domain_left_edge          = [0. 0. 0.]\n",
      "yt : [INFO     ] 2022-07-19 14:29:13,472 Parameters: domain_right_edge         = [1. 1. 1.]\n",
      "yt : [INFO     ] 2022-07-19 14:29:13,473 Parameters: cosmological_simulation   = 1\n",
      "yt : [INFO     ] 2022-07-19 14:29:13,473 Parameters: current_redshift          = 0.32187097991253\n",
      "yt : [INFO     ] 2022-07-19 14:29:13,474 Parameters: omega_lambda              = 0.715\n",
      "yt : [INFO     ] 2022-07-19 14:29:13,474 Parameters: omega_matter              = 0.285\n",
      "yt : [INFO     ] 2022-07-19 14:29:13,475 Parameters: omega_radiation           = 0\n",
      "yt : [INFO     ] 2022-07-19 14:29:13,476 Parameters: hubble_constant           = 0.695\n"
     ]
    },
    {
     "name": "stdout",
     "output_type": "stream",
     "text": [
      "get_refine_box: using this location:       col1         col2     col3     col4     col5     col6     col7   col8\n",
      "---------------- -------- -------- -------- -------- -------- -------- ----\n",
      "0.32187963963644 0.489863 0.474823 0.506592 0.491863 0.476823 0.508592    9\n"
     ]
    },
    {
     "name": "stderr",
     "output_type": "stream",
     "text": [
      "Parsing Hierarchy : 100%|████████████████| 5338/5338 [00:00<00:00, 15834.00it/s]\n",
      "yt : [INFO     ] 2022-07-19 14:29:14,082 Gathering a field list (this may take a moment.)\n"
     ]
    },
    {
     "name": "stdout",
     "output_type": "stream",
     "text": [
      "Pulling halo center from catalog file\n",
      "Opening snapshot /Volumes/TempestTimeSteps/DD1767/DD1767\n"
     ]
    },
    {
     "name": "stderr",
     "output_type": "stream",
     "text": [
      "yt : [INFO     ] 2022-07-19 14:29:17,277 Parameters: current_time              = 474.56652781829\n",
      "yt : [INFO     ] 2022-07-19 14:29:17,279 Parameters: domain_dimensions         = [256 256 256]\n",
      "yt : [INFO     ] 2022-07-19 14:29:17,281 Parameters: domain_left_edge          = [0. 0. 0.]\n",
      "yt : [INFO     ] 2022-07-19 14:29:17,285 Parameters: domain_right_edge         = [1. 1. 1.]\n",
      "yt : [INFO     ] 2022-07-19 14:29:17,286 Parameters: cosmological_simulation   = 1\n",
      "yt : [INFO     ] 2022-07-19 14:29:17,286 Parameters: current_redshift          = 0.31010937956297\n",
      "yt : [INFO     ] 2022-07-19 14:29:17,287 Parameters: omega_lambda              = 0.715\n",
      "yt : [INFO     ] 2022-07-19 14:29:17,288 Parameters: omega_matter              = 0.285\n",
      "yt : [INFO     ] 2022-07-19 14:29:17,289 Parameters: omega_radiation           = 0\n",
      "yt : [INFO     ] 2022-07-19 14:29:17,289 Parameters: hubble_constant           = 0.695\n"
     ]
    },
    {
     "name": "stdout",
     "output_type": "stream",
     "text": [
      "get_refine_box: using this location:       col1         col2     col3     col4     col5     col6     col7   col8\n",
      "---------------- -------- -------- -------- -------- -------- -------- ----\n",
      "0.31012417740147 0.489823 0.474669 0.506653 0.491823 0.476669 0.508653    9\n"
     ]
    },
    {
     "name": "stderr",
     "output_type": "stream",
     "text": [
      "Parsing Hierarchy : 100%|███████████████████| 5392/5392 [03:04<00:00, 29.27it/s]\n",
      "yt : [INFO     ] 2022-07-19 14:32:21,848 Gathering a field list (this may take a moment.)\n"
     ]
    },
    {
     "name": "stdout",
     "output_type": "stream",
     "text": [
      "Pulling halo center from catalog file\n",
      "Opening snapshot /Volumes/TempestTimeSteps/DD1787/DD1787\n"
     ]
    },
    {
     "name": "stderr",
     "output_type": "stream",
     "text": [
      "yt : [INFO     ] 2022-07-19 14:32:25,264 Parameters: current_time              = 479.56652781829\n",
      "yt : [INFO     ] 2022-07-19 14:32:25,267 Parameters: domain_dimensions         = [256 256 256]\n",
      "yt : [INFO     ] 2022-07-19 14:32:25,271 Parameters: domain_left_edge          = [0. 0. 0.]\n",
      "yt : [INFO     ] 2022-07-19 14:32:25,275 Parameters: domain_right_edge         = [1. 1. 1.]\n",
      "yt : [INFO     ] 2022-07-19 14:32:25,277 Parameters: cosmological_simulation   = 1\n",
      "yt : [INFO     ] 2022-07-19 14:32:25,279 Parameters: current_redshift          = 0.29854043336148\n",
      "yt : [INFO     ] 2022-07-19 14:32:25,280 Parameters: omega_lambda              = 0.715\n",
      "yt : [INFO     ] 2022-07-19 14:32:25,280 Parameters: omega_matter              = 0.285\n",
      "yt : [INFO     ] 2022-07-19 14:32:25,281 Parameters: omega_radiation           = 0\n",
      "yt : [INFO     ] 2022-07-19 14:32:25,282 Parameters: hubble_constant           = 0.695\n"
     ]
    },
    {
     "name": "stdout",
     "output_type": "stream",
     "text": [
      "get_refine_box: using this location:       col1         col2     col3     col4     col5     col6     col7   col8\n",
      "---------------- -------- -------- -------- -------- -------- -------- ----\n",
      "0.29854625873325 0.489788 0.474513 0.506712 0.491788 0.476513 0.508712    9\n"
     ]
    },
    {
     "name": "stderr",
     "output_type": "stream",
     "text": [
      "Parsing Hierarchy : 100%|████████████████| 5500/5500 [00:00<00:00, 14245.38it/s]\n",
      "yt : [INFO     ] 2022-07-19 14:32:26,001 Gathering a field list (this may take a moment.)\n"
     ]
    },
    {
     "name": "stdout",
     "output_type": "stream",
     "text": [
      "Pulling halo center from catalog file\n",
      "Opening snapshot /Volumes/TempestTimeSteps/DD1807/DD1807\n"
     ]
    },
    {
     "name": "stderr",
     "output_type": "stream",
     "text": [
      "yt : [INFO     ] 2022-07-19 14:32:29,280 Parameters: current_time              = 484.56652781829\n",
      "yt : [INFO     ] 2022-07-19 14:32:29,284 Parameters: domain_dimensions         = [256 256 256]\n",
      "yt : [INFO     ] 2022-07-19 14:32:29,287 Parameters: domain_left_edge          = [0. 0. 0.]\n",
      "yt : [INFO     ] 2022-07-19 14:32:29,290 Parameters: domain_right_edge         = [1. 1. 1.]\n",
      "yt : [INFO     ] 2022-07-19 14:32:29,291 Parameters: cosmological_simulation   = 1\n",
      "yt : [INFO     ] 2022-07-19 14:32:29,292 Parameters: current_redshift          = 0.28712989799233\n",
      "yt : [INFO     ] 2022-07-19 14:32:29,292 Parameters: omega_lambda              = 0.715\n",
      "yt : [INFO     ] 2022-07-19 14:32:29,293 Parameters: omega_matter              = 0.285\n",
      "yt : [INFO     ] 2022-07-19 14:32:29,294 Parameters: omega_radiation           = 0\n",
      "yt : [INFO     ] 2022-07-19 14:32:29,294 Parameters: hubble_constant           = 0.695\n"
     ]
    },
    {
     "name": "stdout",
     "output_type": "stream",
     "text": [
      "get_refine_box: using this location:       col1         col2     col3     col4     col5     col6     col7   col8\n",
      "---------------- -------- -------- -------- -------- -------- -------- ----\n",
      "0.28714111686912 0.489754 0.474358 0.506773 0.491754 0.476358 0.508773    9\n"
     ]
    },
    {
     "name": "stderr",
     "output_type": "stream",
     "text": [
      "Parsing Hierarchy : 100%|████████████████| 5571/5571 [00:00<00:00, 13796.33it/s]\n",
      "yt : [INFO     ] 2022-07-19 14:32:29,981 Gathering a field list (this may take a moment.)\n"
     ]
    },
    {
     "name": "stdout",
     "output_type": "stream",
     "text": [
      "Pulling halo center from catalog file\n",
      "Opening snapshot /Volumes/TempestTimeSteps/DD1827/DD1827\n"
     ]
    },
    {
     "name": "stderr",
     "output_type": "stream",
     "text": [
      "yt : [INFO     ] 2022-07-19 14:32:34,033 Parameters: current_time              = 489.56652781829\n",
      "yt : [INFO     ] 2022-07-19 14:32:34,035 Parameters: domain_dimensions         = [256 256 256]\n",
      "yt : [INFO     ] 2022-07-19 14:32:34,038 Parameters: domain_left_edge          = [0. 0. 0.]\n",
      "yt : [INFO     ] 2022-07-19 14:32:34,041 Parameters: domain_right_edge         = [1. 1. 1.]\n",
      "yt : [INFO     ] 2022-07-19 14:32:34,042 Parameters: cosmological_simulation   = 1\n",
      "yt : [INFO     ] 2022-07-19 14:32:34,043 Parameters: current_redshift          = 0.27589007391511\n",
      "yt : [INFO     ] 2022-07-19 14:32:34,043 Parameters: omega_lambda              = 0.715\n",
      "yt : [INFO     ] 2022-07-19 14:32:34,044 Parameters: omega_matter              = 0.285\n",
      "yt : [INFO     ] 2022-07-19 14:32:34,045 Parameters: omega_radiation           = 0\n",
      "yt : [INFO     ] 2022-07-19 14:32:34,046 Parameters: hubble_constant           = 0.695\n"
     ]
    },
    {
     "name": "stdout",
     "output_type": "stream",
     "text": [
      "get_refine_box: using this location:       col1         col2     col3     col4     col5     col6     col7   col8\n",
      "---------------- -------- -------- -------- -------- -------- -------- ----\n",
      "0.27590416672012 0.489722 0.474205 0.506831 0.491722 0.476205 0.508831    9\n"
     ]
    },
    {
     "name": "stderr",
     "output_type": "stream",
     "text": [
      "Parsing Hierarchy : 100%|████████████████| 5461/5461 [00:00<00:00, 16159.39it/s]\n",
      "yt : [INFO     ] 2022-07-19 14:32:34,646 Gathering a field list (this may take a moment.)\n"
     ]
    },
    {
     "name": "stdout",
     "output_type": "stream",
     "text": [
      "Pulling halo center from catalog file\n",
      "Opening snapshot /Volumes/TempestTimeSteps/DD1847/DD1847\n"
     ]
    },
    {
     "name": "stderr",
     "output_type": "stream",
     "text": [
      "yt : [INFO     ] 2022-07-19 14:32:38,544 Parameters: current_time              = 494.56652781829\n",
      "yt : [INFO     ] 2022-07-19 14:32:38,547 Parameters: domain_dimensions         = [256 256 256]\n",
      "yt : [INFO     ] 2022-07-19 14:32:38,549 Parameters: domain_left_edge          = [0. 0. 0.]\n",
      "yt : [INFO     ] 2022-07-19 14:32:38,552 Parameters: domain_right_edge         = [1. 1. 1.]\n",
      "yt : [INFO     ] 2022-07-19 14:32:38,553 Parameters: cosmological_simulation   = 1\n",
      "yt : [INFO     ] 2022-07-19 14:32:38,553 Parameters: current_redshift          = 0.26483030656369\n",
      "yt : [INFO     ] 2022-07-19 14:32:38,554 Parameters: omega_lambda              = 0.715\n",
      "yt : [INFO     ] 2022-07-19 14:32:38,554 Parameters: omega_matter              = 0.285\n",
      "yt : [INFO     ] 2022-07-19 14:32:38,555 Parameters: omega_radiation           = 0\n",
      "yt : [INFO     ] 2022-07-19 14:32:38,556 Parameters: hubble_constant           = 0.695\n"
     ]
    },
    {
     "name": "stdout",
     "output_type": "stream",
     "text": [
      "get_refine_box: using this location:       col1         col2     col3     col4     col5     col6     col7   col8\n",
      "---------------- -------- -------- -------- -------- -------- -------- ----\n",
      "0.26483099622996 0.489687 0.474055 0.506892 0.491687 0.476055 0.508892    9\n"
     ]
    },
    {
     "name": "stderr",
     "output_type": "stream",
     "text": [
      "Parsing Hierarchy : 100%|████████████████| 5127/5127 [00:00<00:00, 16829.54it/s]\n",
      "yt : [INFO     ] 2022-07-19 14:32:39,126 Gathering a field list (this may take a moment.)\n"
     ]
    },
    {
     "name": "stdout",
     "output_type": "stream",
     "text": [
      "Pulling halo center from catalog file\n",
      "Opening snapshot /Volumes/TempestTimeSteps/DD1867/DD1867\n"
     ]
    },
    {
     "name": "stderr",
     "output_type": "stream",
     "text": [
      "yt : [INFO     ] 2022-07-19 14:32:43,092 Parameters: current_time              = 499.56652781829\n",
      "yt : [INFO     ] 2022-07-19 14:32:43,094 Parameters: domain_dimensions         = [256 256 256]\n",
      "yt : [INFO     ] 2022-07-19 14:32:43,097 Parameters: domain_left_edge          = [0. 0. 0.]\n",
      "yt : [INFO     ] 2022-07-19 14:32:43,099 Parameters: domain_right_edge         = [1. 1. 1.]\n",
      "yt : [INFO     ] 2022-07-19 14:32:43,099 Parameters: cosmological_simulation   = 1\n",
      "yt : [INFO     ] 2022-07-19 14:32:43,100 Parameters: current_redshift          = 0.25390358705733\n",
      "yt : [INFO     ] 2022-07-19 14:32:43,101 Parameters: omega_lambda              = 0.715\n",
      "yt : [INFO     ] 2022-07-19 14:32:43,101 Parameters: omega_matter              = 0.285\n",
      "yt : [INFO     ] 2022-07-19 14:32:43,102 Parameters: omega_radiation           = 0\n",
      "yt : [INFO     ] 2022-07-19 14:32:43,103 Parameters: hubble_constant           = 0.695\n"
     ]
    },
    {
     "name": "stdout",
     "output_type": "stream",
     "text": [
      "get_refine_box: using this location:       col1         col2     col3     col4     col5     col6     col7   col8\n",
      "---------------- -------- -------- -------- -------- -------- -------- ----\n",
      "0.25391735822521 0.489653 0.473906 0.506947 0.491653 0.475906 0.508947    9\n"
     ]
    },
    {
     "name": "stderr",
     "output_type": "stream",
     "text": [
      "Parsing Hierarchy : 100%|████████████████| 5143/5143 [00:00<00:00, 16209.67it/s]\n",
      "yt : [INFO     ] 2022-07-19 14:32:43,673 Gathering a field list (this may take a moment.)\n"
     ]
    },
    {
     "name": "stdout",
     "output_type": "stream",
     "text": [
      "Pulling halo center from catalog file\n",
      "Opening snapshot /Volumes/TempestTimeSteps/DD1887/DD1887\n"
     ]
    },
    {
     "name": "stderr",
     "output_type": "stream",
     "text": [
      "yt : [INFO     ] 2022-07-19 14:32:47,523 Parameters: current_time              = 504.56652781829\n",
      "yt : [INFO     ] 2022-07-19 14:32:47,526 Parameters: domain_dimensions         = [256 256 256]\n",
      "yt : [INFO     ] 2022-07-19 14:32:47,529 Parameters: domain_left_edge          = [0. 0. 0.]\n",
      "yt : [INFO     ] 2022-07-19 14:32:47,532 Parameters: domain_right_edge         = [1. 1. 1.]\n",
      "yt : [INFO     ] 2022-07-19 14:32:47,533 Parameters: cosmological_simulation   = 1\n",
      "yt : [INFO     ] 2022-07-19 14:32:47,533 Parameters: current_redshift          = 0.24314759224344\n",
      "yt : [INFO     ] 2022-07-19 14:32:47,534 Parameters: omega_lambda              = 0.715\n",
      "yt : [INFO     ] 2022-07-19 14:32:47,535 Parameters: omega_matter              = 0.285\n",
      "yt : [INFO     ] 2022-07-19 14:32:47,535 Parameters: omega_radiation           = 0\n",
      "yt : [INFO     ] 2022-07-19 14:32:47,536 Parameters: hubble_constant           = 0.695\n"
     ]
    },
    {
     "name": "stdout",
     "output_type": "stream",
     "text": [
      "get_refine_box: using this location:       col1         col2     col3     col4     col5     col6     col7   col8\n",
      "---------------- -------- -------- -------- -------- -------- -------- ----\n",
      "0.24315916272406 0.489623 0.473759 0.507006 0.491623 0.475759 0.509006    9\n"
     ]
    },
    {
     "name": "stderr",
     "output_type": "stream",
     "text": [
      "Parsing Hierarchy : 100%|████████████████| 4839/4839 [00:00<00:00, 15776.15it/s]\n",
      "yt : [INFO     ] 2022-07-19 14:32:48,093 Gathering a field list (this may take a moment.)\n"
     ]
    },
    {
     "name": "stdout",
     "output_type": "stream",
     "text": [
      "Pulling halo center from catalog file\n",
      "Opening snapshot /Volumes/TempestTimeSteps/DD1907/DD1907\n"
     ]
    },
    {
     "name": "stderr",
     "output_type": "stream",
     "text": [
      "yt : [INFO     ] 2022-07-19 14:32:51,972 Parameters: current_time              = 509.56652781829\n",
      "yt : [INFO     ] 2022-07-19 14:32:51,975 Parameters: domain_dimensions         = [256 256 256]\n",
      "yt : [INFO     ] 2022-07-19 14:32:51,978 Parameters: domain_left_edge          = [0. 0. 0.]\n",
      "yt : [INFO     ] 2022-07-19 14:32:51,981 Parameters: domain_right_edge         = [1. 1. 1.]\n",
      "yt : [INFO     ] 2022-07-19 14:32:51,982 Parameters: cosmological_simulation   = 1\n",
      "yt : [INFO     ] 2022-07-19 14:32:51,982 Parameters: current_redshift          = 0.23254622398407\n",
      "yt : [INFO     ] 2022-07-19 14:32:51,983 Parameters: omega_lambda              = 0.715\n",
      "yt : [INFO     ] 2022-07-19 14:32:51,983 Parameters: omega_matter              = 0.285\n",
      "yt : [INFO     ] 2022-07-19 14:32:51,984 Parameters: omega_radiation           = 0\n",
      "yt : [INFO     ] 2022-07-19 14:32:51,985 Parameters: hubble_constant           = 0.695\n"
     ]
    },
    {
     "name": "stdout",
     "output_type": "stream",
     "text": [
      "get_refine_box: using this location:       col1        col2     col3     col4     col5     col6     col7   col8\n",
      "--------------- -------- -------- -------- -------- -------- -------- ----\n",
      "0.2325524696738 0.489592 0.473612 0.507067 0.491592 0.475612 0.509067    9\n"
     ]
    },
    {
     "name": "stderr",
     "output_type": "stream",
     "text": [
      "Parsing Hierarchy : 100%|████████████████| 4729/4729 [00:00<00:00, 16284.33it/s]\n",
      "yt : [INFO     ] 2022-07-19 14:32:52,509 Gathering a field list (this may take a moment.)\n"
     ]
    },
    {
     "name": "stdout",
     "output_type": "stream",
     "text": [
      "Pulling halo center from catalog file\n",
      "Opening snapshot /Volumes/TempestTimeSteps/DD1927/DD1927\n"
     ]
    },
    {
     "name": "stderr",
     "output_type": "stream",
     "text": [
      "yt : [INFO     ] 2022-07-19 14:32:56,309 Parameters: current_time              = 514.56652781829\n",
      "yt : [INFO     ] 2022-07-19 14:32:56,311 Parameters: domain_dimensions         = [256 256 256]\n",
      "yt : [INFO     ] 2022-07-19 14:32:56,313 Parameters: domain_left_edge          = [0. 0. 0.]\n",
      "yt : [INFO     ] 2022-07-19 14:32:56,315 Parameters: domain_right_edge         = [1. 1. 1.]\n",
      "yt : [INFO     ] 2022-07-19 14:32:56,316 Parameters: cosmological_simulation   = 1\n",
      "yt : [INFO     ] 2022-07-19 14:32:56,317 Parameters: current_redshift          = 0.2220785334236\n",
      "yt : [INFO     ] 2022-07-19 14:32:56,317 Parameters: omega_lambda              = 0.715\n",
      "yt : [INFO     ] 2022-07-19 14:32:56,318 Parameters: omega_matter              = 0.285\n",
      "yt : [INFO     ] 2022-07-19 14:32:56,319 Parameters: omega_radiation           = 0\n",
      "yt : [INFO     ] 2022-07-19 14:32:56,319 Parameters: hubble_constant           = 0.695\n"
     ]
    },
    {
     "name": "stdout",
     "output_type": "stream",
     "text": [
      "get_refine_box: using this location:      col1        col2     col3     col4     col5     col6     col7   col8\n",
      "-------------- -------- -------- -------- -------- -------- -------- ----\n",
      "0.222093482089 0.489563 0.473471 0.507126 0.491563 0.475471 0.509126    9\n"
     ]
    },
    {
     "name": "stderr",
     "output_type": "stream",
     "text": [
      "Parsing Hierarchy : 100%|████████████████| 5012/5012 [00:00<00:00, 16798.61it/s]\n",
      "yt : [INFO     ] 2022-07-19 14:32:56,847 Gathering a field list (this may take a moment.)\n"
     ]
    },
    {
     "name": "stdout",
     "output_type": "stream",
     "text": [
      "Pulling halo center from catalog file\n",
      "Opening snapshot /Volumes/TempestTimeSteps/DD1947/DD1947\n"
     ]
    },
    {
     "name": "stderr",
     "output_type": "stream",
     "text": [
      "yt : [INFO     ] 2022-07-19 14:33:00,867 Parameters: current_time              = 519.56652781829\n",
      "yt : [INFO     ] 2022-07-19 14:33:00,870 Parameters: domain_dimensions         = [256 256 256]\n",
      "yt : [INFO     ] 2022-07-19 14:33:00,873 Parameters: domain_left_edge          = [0. 0. 0.]\n",
      "yt : [INFO     ] 2022-07-19 14:33:00,875 Parameters: domain_right_edge         = [1. 1. 1.]\n",
      "yt : [INFO     ] 2022-07-19 14:33:00,876 Parameters: cosmological_simulation   = 1\n",
      "yt : [INFO     ] 2022-07-19 14:33:00,877 Parameters: current_redshift          = 0.21177265783797\n",
      "yt : [INFO     ] 2022-07-19 14:33:00,877 Parameters: omega_lambda              = 0.715\n",
      "yt : [INFO     ] 2022-07-19 14:33:00,878 Parameters: omega_matter              = 0.285\n",
      "yt : [INFO     ] 2022-07-19 14:33:00,878 Parameters: omega_radiation           = 0\n",
      "yt : [INFO     ] 2022-07-19 14:33:00,879 Parameters: hubble_constant           = 0.695\n"
     ]
    },
    {
     "name": "stdout",
     "output_type": "stream",
     "text": [
      "get_refine_box: using this location:       col1         col2     col3    col4     col5     col6    col7   col8\n",
      "---------------- -------- ------- -------- -------- ------- -------- ----\n",
      "0.21177853956479 0.489535 0.47333 0.507189 0.491535 0.47533 0.509189    9\n"
     ]
    },
    {
     "name": "stderr",
     "output_type": "stream",
     "text": [
      "Parsing Hierarchy : 100%|████████████████| 5317/5317 [00:00<00:00, 17043.32it/s]\n",
      "yt : [INFO     ] 2022-07-19 14:33:01,441 Gathering a field list (this may take a moment.)\n"
     ]
    },
    {
     "name": "stdout",
     "output_type": "stream",
     "text": [
      "Pulling halo center from catalog file\n",
      "Opening snapshot /Volumes/TempestTimeSteps/DD1967/DD1967\n"
     ]
    },
    {
     "name": "stderr",
     "output_type": "stream",
     "text": [
      "yt : [INFO     ] 2022-07-19 14:33:05,522 Parameters: current_time              = 524.56652781829\n",
      "yt : [INFO     ] 2022-07-19 14:33:05,525 Parameters: domain_dimensions         = [256 256 256]\n",
      "yt : [INFO     ] 2022-07-19 14:33:05,527 Parameters: domain_left_edge          = [0. 0. 0.]\n",
      "yt : [INFO     ] 2022-07-19 14:33:05,529 Parameters: domain_right_edge         = [1. 1. 1.]\n",
      "yt : [INFO     ] 2022-07-19 14:33:05,530 Parameters: cosmological_simulation   = 1\n",
      "yt : [INFO     ] 2022-07-19 14:33:05,530 Parameters: current_redshift          = 0.20159208404487\n",
      "yt : [INFO     ] 2022-07-19 14:33:05,531 Parameters: omega_lambda              = 0.715\n",
      "yt : [INFO     ] 2022-07-19 14:33:05,531 Parameters: omega_matter              = 0.285\n",
      "yt : [INFO     ] 2022-07-19 14:33:05,532 Parameters: omega_radiation           = 0\n",
      "yt : [INFO     ] 2022-07-19 14:33:05,532 Parameters: hubble_constant           = 0.695\n"
     ]
    },
    {
     "name": "stdout",
     "output_type": "stream",
     "text": [
      "get_refine_box: using this location:       col1         col2     col3     col4    col5     col6     col7  col8\n",
      "---------------- -------- -------- ------- -------- -------- ------- ----\n",
      "0.20160411214129 0.489504 0.473191 0.50725 0.491504 0.475191 0.50925    9\n"
     ]
    },
    {
     "name": "stderr",
     "output_type": "stream",
     "text": [
      "Parsing Hierarchy : 100%|████████████████| 5322/5322 [00:00<00:00, 16895.82it/s]\n",
      "yt : [INFO     ] 2022-07-19 14:33:06,092 Gathering a field list (this may take a moment.)\n"
     ]
    },
    {
     "name": "stdout",
     "output_type": "stream",
     "text": [
      "Pulling halo center from catalog file\n",
      "Opening snapshot /Volumes/TempestTimeSteps/DD1987/DD1987\n"
     ]
    },
    {
     "name": "stderr",
     "output_type": "stream",
     "text": [
      "yt : [INFO     ] 2022-07-19 14:33:09,990 Parameters: current_time              = 529.56652781829\n",
      "yt : [INFO     ] 2022-07-19 14:33:09,993 Parameters: domain_dimensions         = [256 256 256]\n",
      "yt : [INFO     ] 2022-07-19 14:33:09,995 Parameters: domain_left_edge          = [0. 0. 0.]\n",
      "yt : [INFO     ] 2022-07-19 14:33:09,998 Parameters: domain_right_edge         = [1. 1. 1.]\n",
      "yt : [INFO     ] 2022-07-19 14:33:09,999 Parameters: cosmological_simulation   = 1\n",
      "yt : [INFO     ] 2022-07-19 14:33:09,999 Parameters: current_redshift          = 0.191553635351\n",
      "yt : [INFO     ] 2022-07-19 14:33:10,000 Parameters: omega_lambda              = 0.715\n",
      "yt : [INFO     ] 2022-07-19 14:33:10,000 Parameters: omega_matter              = 0.285\n",
      "yt : [INFO     ] 2022-07-19 14:33:10,001 Parameters: omega_radiation           = 0\n",
      "yt : [INFO     ] 2022-07-19 14:33:10,001 Parameters: hubble_constant           = 0.695\n"
     ]
    },
    {
     "name": "stdout",
     "output_type": "stream",
     "text": [
      "get_refine_box: using this location:       col1         col2     col3     col4     col5     col6     col7   col8\n",
      "---------------- -------- -------- -------- -------- -------- -------- ----\n",
      "0.19156679449708 0.489476 0.473053 0.507311 0.491476 0.475053 0.509311    9\n"
     ]
    },
    {
     "name": "stderr",
     "output_type": "stream",
     "text": [
      "Parsing Hierarchy : 100%|████████████████| 5118/5118 [00:00<00:00, 17121.52it/s]\n",
      "yt : [INFO     ] 2022-07-19 14:33:10,555 Gathering a field list (this may take a moment.)\n"
     ]
    },
    {
     "name": "stdout",
     "output_type": "stream",
     "text": [
      "Pulling halo center from catalog file\n",
      "Opening snapshot /Volumes/TempestTimeSteps/DD2007/DD2007\n"
     ]
    },
    {
     "name": "stderr",
     "output_type": "stream",
     "text": [
      "yt : [INFO     ] 2022-07-19 14:33:14,446 Parameters: current_time              = 534.56652781829\n",
      "yt : [INFO     ] 2022-07-19 14:33:14,448 Parameters: domain_dimensions         = [256 256 256]\n",
      "yt : [INFO     ] 2022-07-19 14:33:14,453 Parameters: domain_left_edge          = [0. 0. 0.]\n",
      "yt : [INFO     ] 2022-07-19 14:33:14,456 Parameters: domain_right_edge         = [1. 1. 1.]\n",
      "yt : [INFO     ] 2022-07-19 14:33:14,456 Parameters: cosmological_simulation   = 1\n",
      "yt : [INFO     ] 2022-07-19 14:33:14,457 Parameters: current_redshift          = 0.18165941968054\n",
      "yt : [INFO     ] 2022-07-19 14:33:14,458 Parameters: omega_lambda              = 0.715\n",
      "yt : [INFO     ] 2022-07-19 14:33:14,458 Parameters: omega_matter              = 0.285\n",
      "yt : [INFO     ] 2022-07-19 14:33:14,459 Parameters: omega_radiation           = 0\n",
      "yt : [INFO     ] 2022-07-19 14:33:14,460 Parameters: hubble_constant           = 0.695\n"
     ]
    },
    {
     "name": "stdout",
     "output_type": "stream",
     "text": [
      "get_refine_box: using this location:       col1         col2     col3     col4     col5     col6     col7   col8\n",
      "---------------- -------- -------- -------- -------- -------- -------- ----\n",
      "0.18166330045117 0.489447 0.472918 0.507372 0.491447 0.474918 0.509372    9\n"
     ]
    },
    {
     "name": "stderr",
     "output_type": "stream",
     "text": [
      "Parsing Hierarchy : 100%|████████████████| 5188/5188 [00:00<00:00, 17249.06it/s]\n",
      "yt : [INFO     ] 2022-07-19 14:33:15,000 Gathering a field list (this may take a moment.)\n"
     ]
    },
    {
     "name": "stdout",
     "output_type": "stream",
     "text": [
      "Pulling halo center from catalog file\n",
      "Opening snapshot /Volumes/TempestTimeSteps/DD2027/DD2027\n"
     ]
    },
    {
     "name": "stderr",
     "output_type": "stream",
     "text": [
      "yt : [INFO     ] 2022-07-19 14:33:18,758 Parameters: current_time              = 539.56652781829\n",
      "yt : [INFO     ] 2022-07-19 14:33:18,761 Parameters: domain_dimensions         = [256 256 256]\n",
      "yt : [INFO     ] 2022-07-19 14:33:18,763 Parameters: domain_left_edge          = [0. 0. 0.]\n",
      "yt : [INFO     ] 2022-07-19 14:33:18,766 Parameters: domain_right_edge         = [1. 1. 1.]\n",
      "yt : [INFO     ] 2022-07-19 14:33:18,767 Parameters: cosmological_simulation   = 1\n",
      "yt : [INFO     ] 2022-07-19 14:33:18,767 Parameters: current_redshift          = 0.1718756018899\n",
      "yt : [INFO     ] 2022-07-19 14:33:18,768 Parameters: omega_lambda              = 0.715\n",
      "yt : [INFO     ] 2022-07-19 14:33:18,768 Parameters: omega_matter              = 0.285\n",
      "yt : [INFO     ] 2022-07-19 14:33:18,769 Parameters: omega_radiation           = 0\n",
      "yt : [INFO     ] 2022-07-19 14:33:18,770 Parameters: hubble_constant           = 0.695\n"
     ]
    },
    {
     "name": "stdout",
     "output_type": "stream",
     "text": [
      "get_refine_box: using this location:       col1        col2    col3     col4     col5    col6     col7   col8\n",
      "--------------- ------- -------- -------- ------- -------- -------- ----\n",
      "0.1718904577544 0.48942 0.472783 0.507435 0.49142 0.474783 0.509435    9\n"
     ]
    },
    {
     "name": "stderr",
     "output_type": "stream",
     "text": [
      "Parsing Hierarchy : 100%|████████████████| 5220/5220 [00:00<00:00, 15775.97it/s]\n",
      "yt : [INFO     ] 2022-07-19 14:33:19,347 Gathering a field list (this may take a moment.)\n"
     ]
    },
    {
     "name": "stdout",
     "output_type": "stream",
     "text": [
      "Pulling halo center from catalog file\n",
      "Opening snapshot /Volumes/TempestTimeSteps/DD2047/DD2047\n"
     ]
    },
    {
     "name": "stderr",
     "output_type": "stream",
     "text": [
      "yt : [INFO     ] 2022-07-19 14:33:23,028 Parameters: current_time              = 544.56652781829\n",
      "yt : [INFO     ] 2022-07-19 14:33:23,031 Parameters: domain_dimensions         = [256 256 256]\n",
      "yt : [INFO     ] 2022-07-19 14:33:23,033 Parameters: domain_left_edge          = [0. 0. 0.]\n",
      "yt : [INFO     ] 2022-07-19 14:33:23,036 Parameters: domain_right_edge         = [1. 1. 1.]\n",
      "yt : [INFO     ] 2022-07-19 14:33:23,037 Parameters: cosmological_simulation   = 1\n",
      "yt : [INFO     ] 2022-07-19 14:33:23,037 Parameters: current_redshift          = 0.1622385268912\n",
      "yt : [INFO     ] 2022-07-19 14:33:23,038 Parameters: omega_lambda              = 0.715\n",
      "yt : [INFO     ] 2022-07-19 14:33:23,038 Parameters: omega_matter              = 0.285\n",
      "yt : [INFO     ] 2022-07-19 14:33:23,039 Parameters: omega_radiation           = 0\n",
      "yt : [INFO     ] 2022-07-19 14:33:23,040 Parameters: hubble_constant           = 0.695\n"
     ]
    },
    {
     "name": "stdout",
     "output_type": "stream",
     "text": [
      "get_refine_box: using this location:       col1         col2    col3     col4     col5    col6     col7   col8\n",
      "---------------- ------- -------- -------- ------- -------- -------- ----\n",
      "0.16224520315245 0.48939 0.472649 0.507494 0.49139 0.474649 0.509494    9\n"
     ]
    },
    {
     "name": "stderr",
     "output_type": "stream",
     "text": [
      "Parsing Hierarchy : 100%|████████████████| 5096/5096 [00:00<00:00, 15425.40it/s]\n",
      "yt : [INFO     ] 2022-07-19 14:33:23,624 Gathering a field list (this may take a moment.)\n"
     ]
    },
    {
     "name": "stdout",
     "output_type": "stream",
     "text": [
      "Pulling halo center from catalog file\n",
      "Opening snapshot /Volumes/TempestTimeSteps/DD2067/DD2067\n"
     ]
    },
    {
     "name": "stderr",
     "output_type": "stream",
     "text": [
      "yt : [INFO     ] 2022-07-19 14:33:27,310 Parameters: current_time              = 549.56652781829\n",
      "yt : [INFO     ] 2022-07-19 14:33:27,312 Parameters: domain_dimensions         = [256 256 256]\n",
      "yt : [INFO     ] 2022-07-19 14:33:27,315 Parameters: domain_left_edge          = [0. 0. 0.]\n",
      "yt : [INFO     ] 2022-07-19 14:33:27,317 Parameters: domain_right_edge         = [1. 1. 1.]\n",
      "yt : [INFO     ] 2022-07-19 14:33:27,318 Parameters: cosmological_simulation   = 1\n",
      "yt : [INFO     ] 2022-07-19 14:33:27,318 Parameters: current_redshift          = 0.15271267325251\n",
      "yt : [INFO     ] 2022-07-19 14:33:27,318 Parameters: omega_lambda              = 0.715\n",
      "yt : [INFO     ] 2022-07-19 14:33:27,319 Parameters: omega_matter              = 0.285\n",
      "yt : [INFO     ] 2022-07-19 14:33:27,320 Parameters: omega_radiation           = 0\n",
      "yt : [INFO     ] 2022-07-19 14:33:27,320 Parameters: hubble_constant           = 0.695\n"
     ]
    },
    {
     "name": "stdout",
     "output_type": "stream",
     "text": [
      "get_refine_box: using this location:       col1         col2     col3     col4     col5     col6     col7   col8\n",
      "---------------- -------- -------- -------- -------- -------- -------- ----\n",
      "0.15272457770406 0.489359 0.472517 0.507557 0.491359 0.474517 0.509557    9\n"
     ]
    },
    {
     "name": "stderr",
     "output_type": "stream",
     "text": [
      "Parsing Hierarchy : 100%|████████████████| 5279/5279 [00:00<00:00, 16908.15it/s]\n",
      "yt : [INFO     ] 2022-07-19 14:33:27,881 Gathering a field list (this may take a moment.)\n"
     ]
    },
    {
     "name": "stdout",
     "output_type": "stream",
     "text": [
      "Pulling halo center from catalog file\n",
      "Opening snapshot /Volumes/TempestTimeSteps/DD2087/DD2087\n"
     ]
    },
    {
     "name": "stderr",
     "output_type": "stream",
     "text": [
      "yt : [INFO     ] 2022-07-19 14:33:31,615 Parameters: current_time              = 554.56652781829\n",
      "yt : [INFO     ] 2022-07-19 14:33:31,618 Parameters: domain_dimensions         = [256 256 256]\n",
      "yt : [INFO     ] 2022-07-19 14:33:31,621 Parameters: domain_left_edge          = [0. 0. 0.]\n",
      "yt : [INFO     ] 2022-07-19 14:33:31,624 Parameters: domain_right_edge         = [1. 1. 1.]\n",
      "yt : [INFO     ] 2022-07-19 14:33:31,625 Parameters: cosmological_simulation   = 1\n",
      "yt : [INFO     ] 2022-07-19 14:33:31,625 Parameters: current_redshift          = 0.1433128745218\n",
      "yt : [INFO     ] 2022-07-19 14:33:31,626 Parameters: omega_lambda              = 0.715\n",
      "yt : [INFO     ] 2022-07-19 14:33:31,627 Parameters: omega_matter              = 0.285\n",
      "yt : [INFO     ] 2022-07-19 14:33:31,627 Parameters: omega_radiation           = 0\n",
      "yt : [INFO     ] 2022-07-19 14:33:31,628 Parameters: hubble_constant           = 0.695\n"
     ]
    },
    {
     "name": "stdout",
     "output_type": "stream",
     "text": [
      "get_refine_box: using this location:       col1         col2     col3     col4     col5     col6     col7   col8\n",
      "---------------- -------- -------- -------- -------- -------- -------- ----\n",
      "0.14332572233908 0.489329 0.472386 0.507616 0.491329 0.474386 0.509616    9\n"
     ]
    },
    {
     "name": "stderr",
     "output_type": "stream",
     "text": [
      "Parsing Hierarchy : 100%|████████████████| 5340/5340 [00:00<00:00, 16425.10it/s]\n",
      "yt : [INFO     ] 2022-07-19 14:33:32,218 Gathering a field list (this may take a moment.)\n"
     ]
    },
    {
     "name": "stdout",
     "output_type": "stream",
     "text": [
      "Pulling halo center from catalog file\n",
      "Opening snapshot /Volumes/TempestTimeSteps/DD2107/DD2107\n"
     ]
    },
    {
     "name": "stderr",
     "output_type": "stream",
     "text": [
      "yt : [INFO     ] 2022-07-19 14:33:36,000 Parameters: current_time              = 559.56652781829\n",
      "yt : [INFO     ] 2022-07-19 14:33:36,004 Parameters: domain_dimensions         = [256 256 256]\n",
      "yt : [INFO     ] 2022-07-19 14:33:36,007 Parameters: domain_left_edge          = [0. 0. 0.]\n",
      "yt : [INFO     ] 2022-07-19 14:33:36,010 Parameters: domain_right_edge         = [1. 1. 1.]\n",
      "yt : [INFO     ] 2022-07-19 14:33:36,011 Parameters: cosmological_simulation   = 1\n",
      "yt : [INFO     ] 2022-07-19 14:33:36,011 Parameters: current_redshift          = 0.13404074085693\n",
      "yt : [INFO     ] 2022-07-19 14:33:36,012 Parameters: omega_lambda              = 0.715\n",
      "yt : [INFO     ] 2022-07-19 14:33:36,013 Parameters: omega_matter              = 0.285\n",
      "yt : [INFO     ] 2022-07-19 14:33:36,013 Parameters: omega_radiation           = 0\n",
      "yt : [INFO     ] 2022-07-19 14:33:36,013 Parameters: hubble_constant           = 0.695\n"
     ]
    },
    {
     "name": "stdout",
     "output_type": "stream",
     "text": [
      "get_refine_box: using this location:       col1        col2    col3     col4    col5    col6     col7   col8\n",
      "---------------- ------ -------- -------- ------ -------- -------- ----\n",
      "0.13404587364197 0.4893 0.472256 0.507677 0.4913 0.474256 0.509677    9\n"
     ]
    },
    {
     "name": "stderr",
     "output_type": "stream",
     "text": [
      "Parsing Hierarchy : 100%|████████████████| 5123/5123 [00:00<00:00, 16418.82it/s]\n",
      "yt : [INFO     ] 2022-07-19 14:33:36,573 Gathering a field list (this may take a moment.)\n"
     ]
    },
    {
     "name": "stdout",
     "output_type": "stream",
     "text": [
      "Pulling halo center from catalog file\n",
      "Opening snapshot /Volumes/TempestTimeSteps/DD2127/DD2127\n"
     ]
    },
    {
     "name": "stderr",
     "output_type": "stream",
     "text": [
      "yt : [INFO     ] 2022-07-19 14:33:40,183 Parameters: current_time              = 564.56652781829\n",
      "yt : [INFO     ] 2022-07-19 14:33:40,186 Parameters: domain_dimensions         = [256 256 256]\n",
      "yt : [INFO     ] 2022-07-19 14:33:40,189 Parameters: domain_left_edge          = [0. 0. 0.]\n",
      "yt : [INFO     ] 2022-07-19 14:33:40,192 Parameters: domain_right_edge         = [1. 1. 1.]\n",
      "yt : [INFO     ] 2022-07-19 14:33:40,193 Parameters: cosmological_simulation   = 1\n",
      "yt : [INFO     ] 2022-07-19 14:33:40,193 Parameters: current_redshift          = 0.12486754396875\n",
      "yt : [INFO     ] 2022-07-19 14:33:40,194 Parameters: omega_lambda              = 0.715\n",
      "yt : [INFO     ] 2022-07-19 14:33:40,195 Parameters: omega_matter              = 0.285\n",
      "yt : [INFO     ] 2022-07-19 14:33:40,196 Parameters: omega_radiation           = 0\n",
      "yt : [INFO     ] 2022-07-19 14:33:40,196 Parameters: hubble_constant           = 0.695\n"
     ]
    },
    {
     "name": "stdout",
     "output_type": "stream",
     "text": [
      "get_refine_box: using this location:       col1         col2    col3     col4     col5    col6     col7   col8\n",
      "---------------- ------- -------- -------- ------- -------- -------- ----\n",
      "0.12488235984756 0.48927 0.472126 0.507739 0.49127 0.474126 0.509739    9\n"
     ]
    },
    {
     "name": "stderr",
     "output_type": "stream",
     "text": [
      "Parsing Hierarchy : 100%|████████████████| 4705/4705 [00:00<00:00, 16208.83it/s]\n",
      "yt : [INFO     ] 2022-07-19 14:33:40,726 Gathering a field list (this may take a moment.)\n"
     ]
    },
    {
     "name": "stdout",
     "output_type": "stream",
     "text": [
      "Pulling halo center from catalog file\n",
      "Opening snapshot /Volumes/TempestTimeSteps/DD2147/DD2147\n"
     ]
    },
    {
     "name": "stderr",
     "output_type": "stream",
     "text": [
      "yt : [INFO     ] 2022-07-19 14:33:44,400 Parameters: current_time              = 569.56652781829\n",
      "yt : [INFO     ] 2022-07-19 14:33:44,403 Parameters: domain_dimensions         = [256 256 256]\n",
      "yt : [INFO     ] 2022-07-19 14:33:44,407 Parameters: domain_left_edge          = [0. 0. 0.]\n",
      "yt : [INFO     ] 2022-07-19 14:33:44,410 Parameters: domain_right_edge         = [1. 1. 1.]\n",
      "yt : [INFO     ] 2022-07-19 14:33:44,411 Parameters: cosmological_simulation   = 1\n",
      "yt : [INFO     ] 2022-07-19 14:33:44,412 Parameters: current_redshift          = 0.11582848603619\n",
      "yt : [INFO     ] 2022-07-19 14:33:44,413 Parameters: omega_lambda              = 0.715\n",
      "yt : [INFO     ] 2022-07-19 14:33:44,413 Parameters: omega_matter              = 0.285\n",
      "yt : [INFO     ] 2022-07-19 14:33:44,414 Parameters: omega_radiation           = 0\n",
      "yt : [INFO     ] 2022-07-19 14:33:44,415 Parameters: hubble_constant           = 0.695\n"
     ]
    },
    {
     "name": "stdout",
     "output_type": "stream",
     "text": [
      "get_refine_box: using this location:       col1         col2     col3     col4     col5     col6     col7   col8\n",
      "---------------- -------- -------- -------- -------- -------- -------- ----\n",
      "0.11583259703646 0.489241 0.471999 0.507798 0.491241 0.473999 0.509798    9\n"
     ]
    },
    {
     "name": "stderr",
     "output_type": "stream",
     "text": [
      "Parsing Hierarchy : 100%|████████████████| 4762/4762 [00:00<00:00, 16685.34it/s]\n",
      "yt : [INFO     ] 2022-07-19 14:33:44,933 Gathering a field list (this may take a moment.)\n"
     ]
    },
    {
     "name": "stdout",
     "output_type": "stream",
     "text": [
      "Pulling halo center from catalog file\n",
      "Opening snapshot /Volumes/TempestTimeSteps/DD2167/DD2167\n"
     ]
    },
    {
     "name": "stderr",
     "output_type": "stream",
     "text": [
      "yt : [INFO     ] 2022-07-19 14:33:48,973 Parameters: current_time              = 574.56652781829\n",
      "yt : [INFO     ] 2022-07-19 14:33:48,976 Parameters: domain_dimensions         = [256 256 256]\n",
      "yt : [INFO     ] 2022-07-19 14:33:48,979 Parameters: domain_left_edge          = [0. 0. 0.]\n",
      "yt : [INFO     ] 2022-07-19 14:33:48,981 Parameters: domain_right_edge         = [1. 1. 1.]\n",
      "yt : [INFO     ] 2022-07-19 14:33:48,982 Parameters: cosmological_simulation   = 1\n",
      "yt : [INFO     ] 2022-07-19 14:33:48,982 Parameters: current_redshift          = 0.10688078342035\n",
      "yt : [INFO     ] 2022-07-19 14:33:48,983 Parameters: omega_lambda              = 0.715\n",
      "yt : [INFO     ] 2022-07-19 14:33:48,983 Parameters: omega_matter              = 0.285\n",
      "yt : [INFO     ] 2022-07-19 14:33:48,984 Parameters: omega_radiation           = 0\n",
      "yt : [INFO     ] 2022-07-19 14:33:48,985 Parameters: hubble_constant           = 0.695\n"
     ]
    },
    {
     "name": "stdout",
     "output_type": "stream",
     "text": [
      "get_refine_box: using this location:       col1         col2     col3     col4     col5     col6     col7   col8\n",
      "---------------- -------- -------- -------- -------- -------- -------- ----\n",
      "0.10689408551869 0.489214 0.471873 0.507855 0.491214 0.473873 0.509855    9\n"
     ]
    },
    {
     "name": "stderr",
     "output_type": "stream",
     "text": [
      "Parsing Hierarchy : 100%|████████████████| 4619/4619 [00:00<00:00, 14971.87it/s]\n",
      "yt : [INFO     ] 2022-07-19 14:33:49,534 Gathering a field list (this may take a moment.)\n"
     ]
    },
    {
     "name": "stdout",
     "output_type": "stream",
     "text": [
      "Pulling halo center from catalog file\n",
      "Opening snapshot /Volumes/TempestTimeSteps/DD2187/DD2187\n"
     ]
    },
    {
     "name": "stderr",
     "output_type": "stream",
     "text": [
      "yt : [INFO     ] 2022-07-19 14:33:53,319 Parameters: current_time              = 579.56652781829\n",
      "yt : [INFO     ] 2022-07-19 14:33:53,323 Parameters: domain_dimensions         = [256 256 256]\n",
      "yt : [INFO     ] 2022-07-19 14:33:53,326 Parameters: domain_left_edge          = [0. 0. 0.]\n",
      "yt : [INFO     ] 2022-07-19 14:33:53,329 Parameters: domain_right_edge         = [1. 1. 1.]\n",
      "yt : [INFO     ] 2022-07-19 14:33:53,330 Parameters: cosmological_simulation   = 1\n",
      "yt : [INFO     ] 2022-07-19 14:33:53,331 Parameters: current_redshift          = 0.098053769197091\n",
      "yt : [INFO     ] 2022-07-19 14:33:53,331 Parameters: omega_lambda              = 0.715\n",
      "yt : [INFO     ] 2022-07-19 14:33:53,332 Parameters: omega_matter              = 0.285\n",
      "yt : [INFO     ] 2022-07-19 14:33:53,332 Parameters: omega_radiation           = 0\n",
      "yt : [INFO     ] 2022-07-19 14:33:53,333 Parameters: hubble_constant           = 0.695\n"
     ]
    },
    {
     "name": "stdout",
     "output_type": "stream",
     "text": [
      "get_refine_box: using this location:        col1         col2     col3     col4     col5     col6     col7   col8\n",
      "----------------- -------- -------- -------- -------- -------- -------- ----\n",
      "0.098064406394637 0.489188 0.471747 0.507912 0.491188 0.473747 0.509912    9\n"
     ]
    },
    {
     "name": "stderr",
     "output_type": "stream",
     "text": [
      "Parsing Hierarchy : 100%|████████████████| 4729/4729 [00:00<00:00, 17270.41it/s]\n",
      "yt : [INFO     ] 2022-07-19 14:33:53,835 Gathering a field list (this may take a moment.)\n"
     ]
    },
    {
     "name": "stdout",
     "output_type": "stream",
     "text": [
      "Pulling halo center from catalog file\n",
      "Opening snapshot /Volumes/TempestTimeSteps/DD2207/DD2207\n"
     ]
    },
    {
     "name": "stderr",
     "output_type": "stream",
     "text": [
      "yt : [INFO     ] 2022-07-19 14:33:57,539 Parameters: current_time              = 584.56652781829\n",
      "yt : [INFO     ] 2022-07-19 14:33:57,541 Parameters: domain_dimensions         = [256 256 256]\n",
      "yt : [INFO     ] 2022-07-19 14:33:57,543 Parameters: domain_left_edge          = [0. 0. 0.]\n",
      "yt : [INFO     ] 2022-07-19 14:33:57,546 Parameters: domain_right_edge         = [1. 1. 1.]\n",
      "yt : [INFO     ] 2022-07-19 14:33:57,546 Parameters: cosmological_simulation   = 1\n",
      "yt : [INFO     ] 2022-07-19 14:33:57,547 Parameters: current_redshift          = 0.089332273252055\n",
      "yt : [INFO     ] 2022-07-19 14:33:57,547 Parameters: omega_lambda              = 0.715\n",
      "yt : [INFO     ] 2022-07-19 14:33:57,548 Parameters: omega_matter              = 0.285\n",
      "yt : [INFO     ] 2022-07-19 14:33:57,549 Parameters: omega_radiation           = 0\n",
      "yt : [INFO     ] 2022-07-19 14:33:57,549 Parameters: hubble_constant           = 0.695\n"
     ]
    },
    {
     "name": "stdout",
     "output_type": "stream",
     "text": [
      "get_refine_box: using this location:        col1         col2     col3     col4     col5     col6     col7   col8\n",
      "----------------- -------- -------- -------- -------- -------- -------- ----\n",
      "0.089341218283104 0.489161 0.471621 0.507969 0.491161 0.473621 0.509969    9\n"
     ]
    },
    {
     "name": "stderr",
     "output_type": "stream",
     "text": [
      "Parsing Hierarchy : 100%|████████████████| 4394/4394 [00:00<00:00, 14040.89it/s]\n",
      "yt : [INFO     ] 2022-07-19 14:33:58,110 Gathering a field list (this may take a moment.)\n"
     ]
    },
    {
     "name": "stdout",
     "output_type": "stream",
     "text": [
      "Pulling halo center from catalog file\n",
      "Opening snapshot /Volumes/TempestTimeSteps/DD2227/DD2227\n"
     ]
    },
    {
     "name": "stderr",
     "output_type": "stream",
     "text": [
      "yt : [INFO     ] 2022-07-19 14:34:01,961 Parameters: current_time              = 589.56652781829\n",
      "yt : [INFO     ] 2022-07-19 14:34:01,964 Parameters: domain_dimensions         = [256 256 256]\n",
      "yt : [INFO     ] 2022-07-19 14:34:01,966 Parameters: domain_left_edge          = [0. 0. 0.]\n",
      "yt : [INFO     ] 2022-07-19 14:34:01,969 Parameters: domain_right_edge         = [1. 1. 1.]\n",
      "yt : [INFO     ] 2022-07-19 14:34:01,970 Parameters: cosmological_simulation   = 1\n",
      "yt : [INFO     ] 2022-07-19 14:34:01,970 Parameters: current_redshift          = 0.080708326235905\n",
      "yt : [INFO     ] 2022-07-19 14:34:01,971 Parameters: omega_lambda              = 0.715\n",
      "yt : [INFO     ] 2022-07-19 14:34:01,972 Parameters: omega_matter              = 0.285\n",
      "yt : [INFO     ] 2022-07-19 14:34:01,972 Parameters: omega_radiation           = 0\n",
      "yt : [INFO     ] 2022-07-19 14:34:01,973 Parameters: hubble_constant           = 0.695\n"
     ]
    },
    {
     "name": "stdout",
     "output_type": "stream",
     "text": [
      "get_refine_box: using this location:        col1         col2     col3     col4     col5     col6     col7   col8\n",
      "----------------- -------- -------- -------- -------- -------- -------- ----\n",
      "0.080722254207208 0.489136 0.471499 0.508025 0.491136 0.473499 0.510025    9\n"
     ]
    },
    {
     "name": "stderr",
     "output_type": "stream",
     "text": [
      "Parsing Hierarchy : 100%|████████████████| 4637/4637 [00:00<00:00, 16697.03it/s]\n",
      "yt : [INFO     ] 2022-07-19 14:34:02,475 Gathering a field list (this may take a moment.)\n"
     ]
    },
    {
     "name": "stdout",
     "output_type": "stream",
     "text": [
      "Pulling halo center from catalog file\n",
      "Opening snapshot /Volumes/TempestTimeSteps/DD2247/DD2247\n"
     ]
    },
    {
     "name": "stderr",
     "output_type": "stream",
     "text": [
      "yt : [INFO     ] 2022-07-19 14:34:06,506 Parameters: current_time              = 594.56652781829\n",
      "yt : [INFO     ] 2022-07-19 14:34:06,509 Parameters: domain_dimensions         = [256 256 256]\n",
      "yt : [INFO     ] 2022-07-19 14:34:06,511 Parameters: domain_left_edge          = [0. 0. 0.]\n",
      "yt : [INFO     ] 2022-07-19 14:34:06,514 Parameters: domain_right_edge         = [1. 1. 1.]\n",
      "yt : [INFO     ] 2022-07-19 14:34:06,515 Parameters: cosmological_simulation   = 1\n",
      "yt : [INFO     ] 2022-07-19 14:34:06,515 Parameters: current_redshift          = 0.072203010646745\n",
      "yt : [INFO     ] 2022-07-19 14:34:06,516 Parameters: omega_lambda              = 0.715\n",
      "yt : [INFO     ] 2022-07-19 14:34:06,516 Parameters: omega_matter              = 0.285\n",
      "yt : [INFO     ] 2022-07-19 14:34:06,517 Parameters: omega_radiation           = 0\n",
      "yt : [INFO     ] 2022-07-19 14:34:06,517 Parameters: hubble_constant           = 0.695\n"
     ]
    },
    {
     "name": "stdout",
     "output_type": "stream",
     "text": [
      "get_refine_box: using this location:        col1         col2     col3     col4     col5     col6     col7   col8\n",
      "----------------- -------- -------- -------- -------- -------- -------- ----\n",
      "0.072205318629089 0.489111 0.471377 0.508078 0.491111 0.473377 0.510078    9\n"
     ]
    },
    {
     "name": "stderr",
     "output_type": "stream",
     "text": [
      "Parsing Hierarchy : 100%|████████████████| 4661/4661 [00:00<00:00, 16261.71it/s]\n",
      "yt : [INFO     ] 2022-07-19 14:34:07,033 Gathering a field list (this may take a moment.)\n"
     ]
    },
    {
     "name": "stdout",
     "output_type": "stream",
     "text": [
      "Pulling halo center from catalog file\n",
      "Opening snapshot /Volumes/TempestTimeSteps/DD2267/DD2267\n"
     ]
    },
    {
     "name": "stderr",
     "output_type": "stream",
     "text": [
      "yt : [INFO     ] 2022-07-19 14:34:10,904 Parameters: current_time              = 599.56652781829\n",
      "yt : [INFO     ] 2022-07-19 14:34:10,907 Parameters: domain_dimensions         = [256 256 256]\n",
      "yt : [INFO     ] 2022-07-19 14:34:10,909 Parameters: domain_left_edge          = [0. 0. 0.]\n",
      "yt : [INFO     ] 2022-07-19 14:34:10,912 Parameters: domain_right_edge         = [1. 1. 1.]\n",
      "yt : [INFO     ] 2022-07-19 14:34:10,913 Parameters: cosmological_simulation   = 1\n",
      "yt : [INFO     ] 2022-07-19 14:34:10,914 Parameters: current_redshift          = 0.063773742616062\n",
      "yt : [INFO     ] 2022-07-19 14:34:10,914 Parameters: omega_lambda              = 0.715\n",
      "yt : [INFO     ] 2022-07-19 14:34:10,915 Parameters: omega_matter              = 0.285\n",
      "yt : [INFO     ] 2022-07-19 14:34:10,915 Parameters: omega_radiation           = 0\n",
      "yt : [INFO     ] 2022-07-19 14:34:10,916 Parameters: hubble_constant           = 0.695\n"
     ]
    },
    {
     "name": "stdout",
     "output_type": "stream",
     "text": [
      "get_refine_box: using this location:       col1         col2     col3     col4     col5     col6     col7   col8\n",
      "---------------- -------- -------- -------- -------- -------- -------- ----\n",
      "0.06378828462523 0.489085 0.471257 0.508131 0.491085 0.473257 0.510131    9\n"
     ]
    },
    {
     "name": "stderr",
     "output_type": "stream",
     "text": [
      "Parsing Hierarchy : 100%|████████████████| 4765/4765 [00:00<00:00, 16315.88it/s]\n",
      "yt : [INFO     ] 2022-07-19 14:34:11,456 Gathering a field list (this may take a moment.)\n"
     ]
    },
    {
     "name": "stdout",
     "output_type": "stream",
     "text": [
      "Pulling halo center from catalog file\n",
      "Opening snapshot /Volumes/TempestTimeSteps/DD2287/DD2287\n"
     ]
    },
    {
     "name": "stderr",
     "output_type": "stream",
     "text": [
      "yt : [INFO     ] 2022-07-19 14:34:15,090 Parameters: current_time              = 604.56652781829\n",
      "yt : [INFO     ] 2022-07-19 14:34:15,092 Parameters: domain_dimensions         = [256 256 256]\n",
      "yt : [INFO     ] 2022-07-19 14:34:15,094 Parameters: domain_left_edge          = [0. 0. 0.]\n",
      "yt : [INFO     ] 2022-07-19 14:34:15,097 Parameters: domain_right_edge         = [1. 1. 1.]\n",
      "yt : [INFO     ] 2022-07-19 14:34:15,098 Parameters: cosmological_simulation   = 1\n",
      "yt : [INFO     ] 2022-07-19 14:34:15,098 Parameters: current_redshift          = 0.055464005771674\n",
      "yt : [INFO     ] 2022-07-19 14:34:15,099 Parameters: omega_lambda              = 0.715\n",
      "yt : [INFO     ] 2022-07-19 14:34:15,099 Parameters: omega_matter              = 0.285\n",
      "yt : [INFO     ] 2022-07-19 14:34:15,099 Parameters: omega_radiation           = 0\n",
      "yt : [INFO     ] 2022-07-19 14:34:15,100 Parameters: hubble_constant           = 0.695\n"
     ]
    },
    {
     "name": "stdout",
     "output_type": "stream",
     "text": [
      "get_refine_box: using this location:        col1         col2     col3     col4     col5     col6     col7   col8\n",
      "----------------- -------- -------- -------- -------- -------- -------- ----\n",
      "0.055469091194623 0.489056 0.471136 0.508185 0.491056 0.473136 0.510185    9\n"
     ]
    },
    {
     "name": "stderr",
     "output_type": "stream",
     "text": [
      "Parsing Hierarchy : 100%|████████████████| 4752/4752 [00:00<00:00, 16207.97it/s]\n",
      "yt : [INFO     ] 2022-07-19 14:34:15,636 Gathering a field list (this may take a moment.)\n"
     ]
    },
    {
     "name": "stdout",
     "output_type": "stream",
     "text": [
      "Pulling halo center from catalog file\n",
      "Opening snapshot /Volumes/TempestTimeSteps/DD2307/DD2307\n"
     ]
    },
    {
     "name": "stderr",
     "output_type": "stream",
     "text": [
      "yt : [INFO     ] 2022-07-19 14:34:19,023 Parameters: current_time              = 609.56652781829\n",
      "yt : [INFO     ] 2022-07-19 14:34:19,026 Parameters: domain_dimensions         = [256 256 256]\n",
      "yt : [INFO     ] 2022-07-19 14:34:19,028 Parameters: domain_left_edge          = [0. 0. 0.]\n",
      "yt : [INFO     ] 2022-07-19 14:34:19,031 Parameters: domain_right_edge         = [1. 1. 1.]\n",
      "yt : [INFO     ] 2022-07-19 14:34:19,031 Parameters: cosmological_simulation   = 1\n",
      "yt : [INFO     ] 2022-07-19 14:34:19,032 Parameters: current_redshift          = 0.047232768552278\n",
      "yt : [INFO     ] 2022-07-19 14:34:19,032 Parameters: omega_lambda              = 0.715\n",
      "yt : [INFO     ] 2022-07-19 14:34:19,033 Parameters: omega_matter              = 0.285\n",
      "yt : [INFO     ] 2022-07-19 14:34:19,034 Parameters: omega_radiation           = 0\n",
      "yt : [INFO     ] 2022-07-19 14:34:19,034 Parameters: hubble_constant           = 0.695\n"
     ]
    },
    {
     "name": "stdout",
     "output_type": "stream",
     "text": [
      "get_refine_box: using this location:       col1         col2     col3     col4     col5     col6     col7   col8\n",
      "---------------- -------- -------- -------- -------- -------- -------- ----\n",
      "0.04724574069249 0.489029 0.471018 0.508236 0.491029 0.473018 0.510236    9\n"
     ]
    },
    {
     "name": "stderr",
     "output_type": "stream",
     "text": [
      "Parsing Hierarchy : 100%|████████████████| 4568/4568 [00:00<00:00, 16281.89it/s]\n",
      "yt : [INFO     ] 2022-07-19 14:34:19,536 Gathering a field list (this may take a moment.)\n"
     ]
    },
    {
     "name": "stdout",
     "output_type": "stream",
     "text": [
      "Pulling halo center from catalog file\n",
      "Opening snapshot /Volumes/TempestTimeSteps/DD2327/DD2327\n"
     ]
    },
    {
     "name": "stderr",
     "output_type": "stream",
     "text": [
      "yt : [INFO     ] 2022-07-19 14:34:22,898 Parameters: current_time              = 614.56652781829\n",
      "yt : [INFO     ] 2022-07-19 14:34:22,902 Parameters: domain_dimensions         = [256 256 256]\n",
      "yt : [INFO     ] 2022-07-19 14:34:22,905 Parameters: domain_left_edge          = [0. 0. 0.]\n",
      "yt : [INFO     ] 2022-07-19 14:34:22,908 Parameters: domain_right_edge         = [1. 1. 1.]\n",
      "yt : [INFO     ] 2022-07-19 14:34:22,909 Parameters: cosmological_simulation   = 1\n",
      "yt : [INFO     ] 2022-07-19 14:34:22,910 Parameters: current_redshift          = 0.0391061686678\n",
      "yt : [INFO     ] 2022-07-19 14:34:22,911 Parameters: omega_lambda              = 0.715\n",
      "yt : [INFO     ] 2022-07-19 14:34:22,911 Parameters: omega_matter              = 0.285\n",
      "yt : [INFO     ] 2022-07-19 14:34:22,912 Parameters: omega_radiation           = 0\n",
      "yt : [INFO     ] 2022-07-19 14:34:22,913 Parameters: hubble_constant           = 0.695\n"
     ]
    },
    {
     "name": "stdout",
     "output_type": "stream",
     "text": [
      "get_refine_box: using this location:        col1         col2     col3     col4    col5     col6     col7  col8\n",
      "----------------- -------- -------- ------- -------- -------- ------- ----\n",
      "0.039116296382769 0.489003 0.470898 0.50829 0.491003 0.472898 0.51029    9\n"
     ]
    },
    {
     "name": "stderr",
     "output_type": "stream",
     "text": [
      "Parsing Hierarchy : 100%|████████████████| 4486/4486 [00:00<00:00, 13789.63it/s]\n",
      "yt : [INFO     ] 2022-07-19 14:34:23,503 Gathering a field list (this may take a moment.)\n"
     ]
    },
    {
     "name": "stdout",
     "output_type": "stream",
     "text": [
      "Pulling halo center from catalog file\n",
      "Opening snapshot /Volumes/TempestTimeSteps/DD2347/DD2347\n"
     ]
    },
    {
     "name": "stderr",
     "output_type": "stream",
     "text": [
      "yt : [INFO     ] 2022-07-19 14:34:27,394 Parameters: current_time              = 619.56652781829\n",
      "yt : [INFO     ] 2022-07-19 14:34:27,396 Parameters: domain_dimensions         = [256 256 256]\n",
      "yt : [INFO     ] 2022-07-19 14:34:27,399 Parameters: domain_left_edge          = [0. 0. 0.]\n",
      "yt : [INFO     ] 2022-07-19 14:34:27,401 Parameters: domain_right_edge         = [1. 1. 1.]\n",
      "yt : [INFO     ] 2022-07-19 14:34:27,402 Parameters: cosmological_simulation   = 1\n",
      "yt : [INFO     ] 2022-07-19 14:34:27,403 Parameters: current_redshift          = 0.031069228461955\n",
      "yt : [INFO     ] 2022-07-19 14:34:27,403 Parameters: omega_lambda              = 0.715\n",
      "yt : [INFO     ] 2022-07-19 14:34:27,404 Parameters: omega_matter              = 0.285\n",
      "yt : [INFO     ] 2022-07-19 14:34:27,405 Parameters: omega_radiation           = 0\n",
      "yt : [INFO     ] 2022-07-19 14:34:27,406 Parameters: hubble_constant           = 0.695\n"
     ]
    },
    {
     "name": "stdout",
     "output_type": "stream",
     "text": [
      "get_refine_box: using this location:        col1         col2     col3     col4     col5     col6     col7   col8\n",
      "----------------- -------- -------- -------- -------- -------- -------- ----\n",
      "0.031078880102952 0.488974 0.470782 0.508341 0.490974 0.472782 0.510341    9\n"
     ]
    },
    {
     "name": "stderr",
     "output_type": "stream",
     "text": [
      "Parsing Hierarchy : 100%|████████████████| 4414/4414 [00:00<00:00, 16280.81it/s]\n",
      "yt : [INFO     ] 2022-07-19 14:34:27,899 Gathering a field list (this may take a moment.)\n"
     ]
    },
    {
     "name": "stdout",
     "output_type": "stream",
     "text": [
      "Pulling halo center from catalog file\n",
      "Opening snapshot /Volumes/TempestTimeSteps/DD2367/DD2367\n"
     ]
    },
    {
     "name": "stderr",
     "output_type": "stream",
     "text": [
      "yt : [INFO     ] 2022-07-19 14:34:31,111 Parameters: current_time              = 624.56652781829\n",
      "yt : [INFO     ] 2022-07-19 14:34:31,113 Parameters: domain_dimensions         = [256 256 256]\n",
      "yt : [INFO     ] 2022-07-19 14:34:31,116 Parameters: domain_left_edge          = [0. 0. 0.]\n",
      "yt : [INFO     ] 2022-07-19 14:34:31,118 Parameters: domain_right_edge         = [1. 1. 1.]\n",
      "yt : [INFO     ] 2022-07-19 14:34:31,119 Parameters: cosmological_simulation   = 1\n",
      "yt : [INFO     ] 2022-07-19 14:34:31,119 Parameters: current_redshift          = 0.023118635482115\n",
      "yt : [INFO     ] 2022-07-19 14:34:31,120 Parameters: omega_lambda              = 0.715\n",
      "yt : [INFO     ] 2022-07-19 14:34:31,121 Parameters: omega_matter              = 0.285\n",
      "yt : [INFO     ] 2022-07-19 14:34:31,121 Parameters: omega_radiation           = 0\n",
      "yt : [INFO     ] 2022-07-19 14:34:31,122 Parameters: hubble_constant           = 0.695\n"
     ]
    },
    {
     "name": "stdout",
     "output_type": "stream",
     "text": [
      "get_refine_box: using this location:        col1         col2     col3     col4     col5     col6     col7   col8\n",
      "----------------- -------- -------- -------- -------- -------- -------- ----\n",
      "0.023131670035277 0.488947 0.470663 0.508391 0.490947 0.472663 0.510391    9\n"
     ]
    },
    {
     "name": "stderr",
     "output_type": "stream",
     "text": [
      "Parsing Hierarchy : 100%|████████████████| 4336/4336 [00:00<00:00, 16086.19it/s]\n",
      "yt : [INFO     ] 2022-07-19 14:34:31,619 Gathering a field list (this may take a moment.)\n"
     ]
    },
    {
     "name": "stdout",
     "output_type": "stream",
     "text": [
      "Pulling halo center from catalog file\n",
      "Opening snapshot /Volumes/TempestTimeSteps/DD2387/DD2387\n"
     ]
    },
    {
     "name": "stderr",
     "output_type": "stream",
     "text": [
      "yt : [INFO     ] 2022-07-19 14:34:35,294 Parameters: current_time              = 629.56652781829\n",
      "yt : [INFO     ] 2022-07-19 14:34:35,297 Parameters: domain_dimensions         = [256 256 256]\n",
      "yt : [INFO     ] 2022-07-19 14:34:35,300 Parameters: domain_left_edge          = [0. 0. 0.]\n",
      "yt : [INFO     ] 2022-07-19 14:34:35,302 Parameters: domain_right_edge         = [1. 1. 1.]\n",
      "yt : [INFO     ] 2022-07-19 14:34:35,303 Parameters: cosmological_simulation   = 1\n",
      "yt : [INFO     ] 2022-07-19 14:34:35,303 Parameters: current_redshift          = 0.015267938588785\n",
      "yt : [INFO     ] 2022-07-19 14:34:35,304 Parameters: omega_lambda              = 0.715\n",
      "yt : [INFO     ] 2022-07-19 14:34:35,305 Parameters: omega_matter              = 0.285\n",
      "yt : [INFO     ] 2022-07-19 14:34:35,305 Parameters: omega_radiation           = 0\n",
      "yt : [INFO     ] 2022-07-19 14:34:35,306 Parameters: hubble_constant           = 0.695\n"
     ]
    },
    {
     "name": "stdout",
     "output_type": "stream",
     "text": [
      "get_refine_box: using this location:        col1         col2     col3     col4    col5     col6     col7  col8\n",
      "----------------- -------- -------- ------- -------- -------- ------- ----\n",
      "0.015272898578656 0.488921 0.470547 0.50844 0.490921 0.472547 0.51044    9\n"
     ]
    },
    {
     "name": "stderr",
     "output_type": "stream",
     "text": [
      "Parsing Hierarchy : 100%|████████████████| 4456/4456 [00:00<00:00, 16447.30it/s]\n",
      "yt : [INFO     ] 2022-07-19 14:34:35,803 Gathering a field list (this may take a moment.)\n"
     ]
    },
    {
     "name": "stdout",
     "output_type": "stream",
     "text": [
      "Pulling halo center from catalog file\n",
      "Opening snapshot /Volumes/TempestTimeSteps/DD2407/DD2407\n"
     ]
    },
    {
     "name": "stderr",
     "output_type": "stream",
     "text": [
      "yt : [INFO     ] 2022-07-19 14:34:39,199 Parameters: current_time              = 634.56652781829\n",
      "yt : [INFO     ] 2022-07-19 14:34:39,201 Parameters: domain_dimensions         = [256 256 256]\n",
      "yt : [INFO     ] 2022-07-19 14:34:39,204 Parameters: domain_left_edge          = [0. 0. 0.]\n",
      "yt : [INFO     ] 2022-07-19 14:34:39,207 Parameters: domain_right_edge         = [1. 1. 1.]\n",
      "yt : [INFO     ] 2022-07-19 14:34:39,208 Parameters: cosmological_simulation   = 1\n",
      "yt : [INFO     ] 2022-07-19 14:34:39,208 Parameters: current_redshift          = 0.0074866626587569\n",
      "yt : [INFO     ] 2022-07-19 14:34:39,209 Parameters: omega_lambda              = 0.715\n",
      "yt : [INFO     ] 2022-07-19 14:34:39,209 Parameters: omega_matter              = 0.285\n",
      "yt : [INFO     ] 2022-07-19 14:34:39,210 Parameters: omega_radiation           = 0\n",
      "yt : [INFO     ] 2022-07-19 14:34:39,210 Parameters: hubble_constant           = 0.695\n"
     ]
    },
    {
     "name": "stdout",
     "output_type": "stream",
     "text": [
      "get_refine_box: using this location:        col1          col2     col3     col4    col5     col6     col7  col8\n",
      "------------------ -------- -------- ------- -------- -------- ------- ----\n",
      "0.0075008503160188 0.488892 0.470431 0.50849 0.490892 0.472431 0.51049    9\n"
     ]
    },
    {
     "name": "stderr",
     "output_type": "stream",
     "text": [
      "Parsing Hierarchy : 100%|████████████████| 4394/4394 [00:00<00:00, 16407.64it/s]\n",
      "yt : [INFO     ] 2022-07-19 14:34:39,704 Gathering a field list (this may take a moment.)\n"
     ]
    },
    {
     "name": "stdout",
     "output_type": "stream",
     "text": [
      "Pulling halo center from catalog file\n",
      "Opening snapshot /Volumes/TempestTimeSteps/DD2427/DD2427\n"
     ]
    },
    {
     "name": "stderr",
     "output_type": "stream",
     "text": [
      "yt : [INFO     ] 2022-07-19 14:34:42,791 Parameters: current_time              = 639.44480357087\n",
      "yt : [INFO     ] 2022-07-19 14:34:42,793 Parameters: domain_dimensions         = [256 256 256]\n",
      "yt : [INFO     ] 2022-07-19 14:34:42,796 Parameters: domain_left_edge          = [0. 0. 0.]\n",
      "yt : [INFO     ] 2022-07-19 14:34:42,798 Parameters: domain_right_edge         = [1. 1. 1.]\n",
      "yt : [INFO     ] 2022-07-19 14:34:42,798 Parameters: cosmological_simulation   = 1\n",
      "yt : [INFO     ] 2022-07-19 14:34:42,799 Parameters: current_redshift          = 0\n",
      "yt : [INFO     ] 2022-07-19 14:34:42,799 Parameters: omega_lambda              = 0.715\n",
      "yt : [INFO     ] 2022-07-19 14:34:42,800 Parameters: omega_matter              = 0.285\n",
      "yt : [INFO     ] 2022-07-19 14:34:42,801 Parameters: omega_radiation           = 0\n",
      "yt : [INFO     ] 2022-07-19 14:34:42,801 Parameters: hubble_constant           = 0.695\n"
     ]
    },
    {
     "name": "stdout",
     "output_type": "stream",
     "text": [
      "get_refine_box: using this location:         col1          col2     col3     col4    col5     col6     col7  col8\n",
      "------------------- -------- -------- ------- -------- -------- ------- ----\n",
      "4.4408920985006e-16 0.488865 0.470316 0.50854 0.490865 0.472316 0.51054    9\n"
     ]
    },
    {
     "name": "stderr",
     "output_type": "stream",
     "text": [
      "Parsing Hierarchy : 100%|████████████████| 4262/4262 [00:00<00:00, 16797.06it/s]\n",
      "yt : [INFO     ] 2022-07-19 14:34:43,274 Gathering a field list (this may take a moment.)\n"
     ]
    },
    {
     "name": "stdout",
     "output_type": "stream",
     "text": [
      "Pulling halo center from catalog file\n",
      "SUCCESS!\n"
     ]
    }
   ],
   "source": [
    "\"\"\"\n",
    "Now, run through ALL the files with star data in the hard drive. This should take a while.\n",
    "\"\"\"\n",
    "\n",
    "halo = 'Tempest'\n",
    "hnum = '008508'\n",
    "\n",
    "halo_c_v_name = '/Users/bnguyen/FOGGIE/foggie/halo_infos/'+hnum+'/nref11c_nref9f/halo_c_v'\n",
    "trackname = '/Users/bnguyen/FOGGIE/foggie/halo_tracks/'+hnum+'/nref11n_selfshield_15/halo_track_200kpc_nref9'\n",
    "masses_dir = '/Users/bnguyen/FOGGIE/foggie/halo_infos/'+hnum+'/nref11c_nref9f/'\n",
    "\n",
    "def StarParts(pfilter, data):\n",
    "    return data[(\"all\", \"particle_type\")] == 2 # only grab star particles\n",
    "\n",
    "add_particle_filter(\"stars\", function=StarParts, filtered_type='all', requires=[\"particle_type\"])\n",
    "add_particle_filter(\"DM\", function=DMParts, filtered_type='all', requires=[\"particle_type\"])\n",
    "\n",
    "def DMParts(pfilter, data):\n",
    "    return data[(\"all\", \"particle_type\")] == 4 # only grab DM particles\n",
    "\n",
    "all_snaps = np.array([], dtype='object')\n",
    "all_time_idx = np.array([], dtype='object')\n",
    "\n",
    "for snap_name in tslist:\n",
    "    ds, region = fog.foggie_load(snap_name, trackname, find_halo_center=True, halo_c_v_name=halo_c_v_name, disk_relative=False, \\\n",
    "                                particle_type_for_angmom='young_stars', do_filter_particles=False, gravity=False,\\\n",
    "                                region='refine_box',masses_dir=masses_dir)\n",
    "    \n",
    "    snapend = snap_name[-6:]\n",
    "#    print(snapend)\n",
    "    time_idx = timestep_index(sim, snapend)\n",
    "    ads = ds.all_data()\n",
    "    all_snaps = np.append(all_snaps, ds)\n",
    "    all_time_idx = np.append(all_time_idx, time_idx)\n",
    "    \n",
    "print('SUCCESS!')"
   ]
  },
  {
   "cell_type": "code",
   "execution_count": 40,
   "id": "55ec788b",
   "metadata": {},
   "outputs": [
    {
     "name": "stdout",
     "output_type": "stream",
     "text": [
      "[<Halo 'Tempest.9f11c.all.DD/DD2427/DD2427/halo_21' | NDM=517 Nstar=0 Ngas=0>]\n"
     ]
    }
   ],
   "source": [
    "all_sats = sim[-1][1].calculate('Satellites()')\n",
    "\n",
    "sats = np.array([], dtype='object')\n",
    "#starry_idx = np.array([21, 51, 109], dtype='object')\n",
    "starry_idx = np.array([21], dtype='object')\n",
    "\n",
    "for i in range(np.size(all_sats)):\n",
    "    if all_sats[i].halo_number in starry_idx:\n",
    "        sats = np.append(sats, all_sats[i]) # this ensures we're only checking for the verified starry halos\n",
    "        \n",
    "print(sats)"
   ]
  },
  {
   "cell_type": "code",
   "execution_count": 41,
   "id": "f0ab36b2",
   "metadata": {},
   "outputs": [
    {
     "name": "stdout",
     "output_type": "stream",
     "text": [
      "Success!\n"
     ]
    }
   ],
   "source": [
    "\"\"\"\n",
    "First, we find all the properties of the progenitors \n",
    "for the star-forming surviving satellites.\n",
    "\"\"\"\n",
    "\n",
    "all_sat_cen = []\n",
    "all_sat_rvir = []\n",
    "all_sat_t = []\n",
    "\n",
    "for sat_idx in starry_idx:\n",
    "    if isinstance(sim[-1][sat_idx], type(None)) is False:\n",
    "        mvir, cen, rvir, t = sim[-1][sat_idx].calculate_for_progenitors('Mvir', 'Center', 'Rvir', 't()')\n",
    "\n",
    "        all_sat_cen.append(cen) # this compiles an array of all the progenitors' centers\n",
    "        all_sat_rvir.append(rvir) # this compiles an array of all the progenitors' virial radii\n",
    "        all_sat_t.append(t)\n",
    "\n",
    "all_sat_cen = np.array(all_sat_cen[0], dtype='object')\n",
    "all_sat_rvir = np.array(all_sat_rvir[0], dtype='object')\n",
    "all_sat_t = np.array(all_sat_t[0], dtype='object')\n",
    "\n",
    "print('Success!')"
   ]
  },
  {
   "cell_type": "code",
   "execution_count": 42,
   "id": "7360d164",
   "metadata": {},
   "outputs": [
    {
     "name": "stdout",
     "output_type": "stream",
     "text": [
      "[13.759313829436067 13.75655364383975 13.751174245276887 ...\n",
      " 1.4323515363217096 1.4269721377588471 1.4215927391959846]\n",
      "[[70.53161151079136 67.76489208633095 73.2808345323741]\n",
      " [70.5175125901439 67.75192248899282 73.26618512755395]\n",
      " [70.4897773656403 67.72679422158275 73.23738807435971]\n",
      " ...\n",
      " [13.306171357194247 13.470143767266189 13.366887223812952]\n",
      " [13.27261177942446 13.436781680719426 13.332793351942447]\n",
      " [13.2390495323741 13.403416532302158 13.298701434748201]]\n"
     ]
    }
   ],
   "source": [
    "print(all_sat_t)\n",
    "print(all_sat_cen)"
   ]
  },
  {
   "cell_type": "code",
   "execution_count": 43,
   "id": "b4ac9b8d",
   "metadata": {
    "scrolled": false
   },
   "outputs": [
    {
     "name": "stdout",
     "output_type": "stream",
     "text": [
      "There are 130 timesteps available in the star hard drive.\n"
     ]
    }
   ],
   "source": [
    "\"\"\"\n",
    "Now, we have to ensure that all the progenitors line up with the available \n",
    "timesteps in the star hard drive. To do that, we first have to convert \n",
    "all the time indices from the star hard drive to actual time in Gyr.\n",
    "\"\"\"\n",
    "\n",
    "available_timesteps = np.zeros(np.size(all_time_idx))\n",
    "i = 0\n",
    "while i < np.size(all_time_idx):\n",
    "    available_timesteps[i] = sim[all_time_idx[i]].time_gyr\n",
    "    i += 1\n",
    "    \n",
    "print('There are', np.size(available_timesteps), 'timesteps available in the star hard drive.')"
   ]
  },
  {
   "cell_type": "code",
   "execution_count": 44,
   "id": "9f5cb951",
   "metadata": {},
   "outputs": [
    {
     "name": "stdout",
     "output_type": "stream",
     "text": [
      "success!\n"
     ]
    }
   ],
   "source": [
    "all_centers = []\n",
    "all_rvirs = []\n",
    "all_available_snaps = []\n",
    "\n",
    "#for halo in range(np.size(starry_idx)):\n",
    "each_halo_available_centers = []\n",
    "each_halo_available_rvirs = []\n",
    "each_halo_available_snaps = []\n",
    "    \n",
    "# Now, we compare the times in the snapshots to the available timesteps \n",
    "# in order to see how many snapshots are available in the star hard drive.\n",
    "for time in available_timesteps:\n",
    "    center = all_sat_cen[all_sat_t == time]\n",
    "    rvir = all_sat_rvir[all_sat_t == time]\n",
    "        \n",
    "    if np.size(center) != 0 and np.size(rvir) != 0:\n",
    "        center = YTArray(center[0] * 1000, 'kpc')\n",
    "        rvir = YTQuantity(rvir[0], 'kpc')\n",
    "            \n",
    "        each_halo_available_centers.append(center)\n",
    "        each_halo_available_rvirs.append(rvir)\n",
    "        each_halo_available_snaps.append(all_snaps[available_timesteps == time][0])\n",
    "            \n",
    "each_halo_available_centers = np.array(each_halo_available_centers, dtype='object')\n",
    "each_halo_available_rvirs = np.array(each_halo_available_rvirs, dtype='object')\n",
    "each_halo_available_snaps = np.array(each_halo_available_snaps, dtype='object')\n",
    "        \n",
    "all_centers.append(each_halo_available_centers)\n",
    "all_rvirs.append(each_halo_available_rvirs)\n",
    "all_available_snaps.append(each_halo_available_snaps)\n",
    "    \n",
    "all_centers = np.array(all_centers[0], dtype='object')\n",
    "all_rvirs = np.array(all_rvirs[0], dtype='object')\n",
    "all_available_snaps = np.array(all_available_snaps[0], dtype='object')\n",
    "\n",
    "print('success!')"
   ]
  },
  {
   "cell_type": "code",
   "execution_count": 45,
   "id": "1e1f65ca",
   "metadata": {},
   "outputs": [
    {
     "name": "stdout",
     "output_type": "stream",
     "text": [
      "1.2875054431654676 kpc\n"
     ]
    }
   ],
   "source": [
    "print(all_rvirs[0])"
   ]
  },
  {
   "cell_type": "code",
   "execution_count": 46,
   "id": "251cdf66",
   "metadata": {},
   "outputs": [
    {
     "name": "stdout",
     "output_type": "stream",
     "text": [
      " For halo 21 there are 1 snaps in the hard drive.\n"
     ]
    }
   ],
   "source": [
    "print(' For halo', starry_idx[0], 'there are', np.size(all_available_snaps[0]), 'snaps in the hard drive.')\n",
    "      \n",
    "      #\\n', \\\n",
    "      #'For halo', starry_idx[1], 'there are', np.size(all_available_snaps[1]), 'snaps in the hard drive.\\n', \\\n",
    "      #'For halo', starry_idx[2], 'there are', np.size(all_available_snaps[2]), ' snaps in the hard drive.')"
   ]
  },
  {
   "cell_type": "code",
   "execution_count": null,
   "id": "e04fd852",
   "metadata": {
    "scrolled": true
   },
   "outputs": [
    {
     "name": "stderr",
     "output_type": "stream",
     "text": [
      "yt : [WARNING  ] 2022-07-19 14:39:17,219 The Derived Field ('io', 'particle_spherical_position_radius') is deprecated as of yt v4.0.0 and will be removed in yt v4.1.0. Use ('io', 'particle_position_spherical_radius') instead.\n",
      "yt : [WARNING  ] 2022-07-19 14:39:17,233 The Derived Field ('io', 'particle_spherical_position_theta') is deprecated as of yt v4.0.0 and will be removed in yt v4.1.0. Use ('io', 'particle_position_spherical_theta') instead.\n",
      "yt : [WARNING  ] 2022-07-19 14:39:17,236 The Derived Field ('io', 'particle_spherical_position_phi') is deprecated as of yt v4.0.0 and will be removed in yt v4.1.0. Use ('io', 'particle_position_spherical_phi') instead.\n",
      "yt : [WARNING  ] 2022-07-19 14:39:17,239 The Derived Field ('io', 'particle_spherical_velocity_radius') is deprecated as of yt v4.0.0 and will be removed in yt v4.1.0. Use ('io', 'particle_velocity_spherical_radius') instead.\n",
      "yt : [WARNING  ] 2022-07-19 14:39:17,247 The Derived Field ('io', 'particle_spherical_velocity_theta') is deprecated as of yt v4.0.0 and will be removed in yt v4.1.0. Use ('io', 'particle_velocity_spherical_theta') instead.\n",
      "yt : [WARNING  ] 2022-07-19 14:39:17,256 The Derived Field ('io', 'particle_spherical_velocity_phi') is deprecated as of yt v4.0.0 and will be removed in yt v4.1.0. Use ('io', 'particle_velocity_spherical_phi') instead.\n",
      "yt : [WARNING  ] 2022-07-19 14:39:17,266 The Derived Field ('io', 'particle_cylindrical_velocity_theta') is deprecated as of yt v4.0.0 and will be removed in yt v4.1.0. Use ('io', 'particle_velocity_cylindrical_theta') instead.\n",
      "yt : [WARNING  ] 2022-07-19 14:39:17,270 The Derived Field ('io', 'particle_cylindrical_velocity_z') is deprecated as of yt v4.0.0 and will be removed in yt v4.1.0. Use ('io', 'particle_velocity_cylindrical_z') instead.\n",
      "yt : [WARNING  ] 2022-07-19 14:39:17,360 The Derived Field ('all', 'particle_spherical_position_radius') is deprecated as of yt v4.0.0 and will be removed in yt v4.1.0. Use ('all', 'particle_position_spherical_radius') instead.\n",
      "yt : [WARNING  ] 2022-07-19 14:39:17,373 The Derived Field ('all', 'particle_spherical_position_theta') is deprecated as of yt v4.0.0 and will be removed in yt v4.1.0. Use ('all', 'particle_position_spherical_theta') instead.\n",
      "yt : [WARNING  ] 2022-07-19 14:39:17,376 The Derived Field ('all', 'particle_spherical_position_phi') is deprecated as of yt v4.0.0 and will be removed in yt v4.1.0. Use ('all', 'particle_position_spherical_phi') instead.\n",
      "yt : [WARNING  ] 2022-07-19 14:39:17,379 The Derived Field ('all', 'particle_spherical_velocity_radius') is deprecated as of yt v4.0.0 and will be removed in yt v4.1.0. Use ('all', 'particle_velocity_spherical_radius') instead.\n",
      "yt : [WARNING  ] 2022-07-19 14:39:17,388 The Derived Field ('all', 'particle_spherical_velocity_theta') is deprecated as of yt v4.0.0 and will be removed in yt v4.1.0. Use ('all', 'particle_velocity_spherical_theta') instead.\n",
      "yt : [WARNING  ] 2022-07-19 14:39:17,393 The Derived Field ('all', 'particle_spherical_velocity_phi') is deprecated as of yt v4.0.0 and will be removed in yt v4.1.0. Use ('all', 'particle_velocity_spherical_phi') instead.\n",
      "yt : [WARNING  ] 2022-07-19 14:39:17,400 The Derived Field ('all', 'particle_cylindrical_velocity_theta') is deprecated as of yt v4.0.0 and will be removed in yt v4.1.0. Use ('all', 'particle_velocity_cylindrical_theta') instead.\n",
      "yt : [WARNING  ] 2022-07-19 14:39:17,403 The Derived Field ('all', 'particle_cylindrical_velocity_z') is deprecated as of yt v4.0.0 and will be removed in yt v4.1.0. Use ('all', 'particle_velocity_cylindrical_z') instead.\n",
      "yt : [WARNING  ] 2022-07-19 14:39:17,470 The Derived Field ('nbody', 'particle_spherical_position_radius') is deprecated as of yt v4.0.0 and will be removed in yt v4.1.0. Use ('nbody', 'particle_position_spherical_radius') instead.\n",
      "yt : [WARNING  ] 2022-07-19 14:39:17,483 The Derived Field ('nbody', 'particle_spherical_position_theta') is deprecated as of yt v4.0.0 and will be removed in yt v4.1.0. Use ('nbody', 'particle_position_spherical_theta') instead.\n",
      "yt : [WARNING  ] 2022-07-19 14:39:17,485 The Derived Field ('nbody', 'particle_spherical_position_phi') is deprecated as of yt v4.0.0 and will be removed in yt v4.1.0. Use ('nbody', 'particle_position_spherical_phi') instead.\n",
      "yt : [WARNING  ] 2022-07-19 14:39:17,489 The Derived Field ('nbody', 'particle_spherical_velocity_radius') is deprecated as of yt v4.0.0 and will be removed in yt v4.1.0. Use ('nbody', 'particle_velocity_spherical_radius') instead.\n",
      "yt : [WARNING  ] 2022-07-19 14:39:17,497 The Derived Field ('nbody', 'particle_spherical_velocity_theta') is deprecated as of yt v4.0.0 and will be removed in yt v4.1.0. Use ('nbody', 'particle_velocity_spherical_theta') instead.\n",
      "yt : [WARNING  ] 2022-07-19 14:39:17,502 The Derived Field ('nbody', 'particle_spherical_velocity_phi') is deprecated as of yt v4.0.0 and will be removed in yt v4.1.0. Use ('nbody', 'particle_velocity_spherical_phi') instead.\n",
      "yt : [WARNING  ] 2022-07-19 14:39:17,509 The Derived Field ('nbody', 'particle_cylindrical_velocity_theta') is deprecated as of yt v4.0.0 and will be removed in yt v4.1.0. Use ('nbody', 'particle_velocity_cylindrical_theta') instead.\n",
      "yt : [WARNING  ] 2022-07-19 14:39:17,512 The Derived Field ('nbody', 'particle_cylindrical_velocity_z') is deprecated as of yt v4.0.0 and will be removed in yt v4.1.0. Use ('nbody', 'particle_velocity_cylindrical_z') instead.\n",
      "/Users/bnguyen/.local/lib/python3.9/site-packages/unyt/array.py:1778: RuntimeWarning: divide by zero encountered in true_divide\n",
      "  out_arr = func(\n",
      "yt : [WARNING  ] 2022-07-19 14:39:17,858 The Derived Field ('gas', 'cylindrical_radial_velocity') is deprecated as of yt v4.0.0 and will be removed in yt v4.1.0. Use ('gas', 'velocity_cylindrical_radius') instead.\n",
      "yt : [WARNING  ] 2022-07-19 14:39:17,870 The Derived Field ('gas', 'cylindrical_radial_velocity_absolute') is deprecated as of yt v4.0.0 and will be removed in yt v4.1.0. \n",
      "yt : [WARNING  ] 2022-07-19 14:39:17,884 The Derived Field ('gas', 'cylindrical_tangential_velocity') is deprecated as of yt v4.0.0 and will be removed in yt v4.1.0. Use ('gas', 'velocity_cylindrical_theta') instead.\n",
      "yt : [WARNING  ] 2022-07-19 14:39:17,894 The Derived Field ('gas', 'cylindrical_tangential_velocity_absolute') is deprecated as of yt v4.0.0 and will be removed in yt v4.1.0. \n",
      "yt : [WARNING  ] 2022-07-19 14:39:17,933 The Derived Field ('gas', 'kinetic_energy') is deprecated as of yt v4.0.0 and will be removed in yt v4.1.0. Use ('gas', 'kinetic_energy_density') instead.\n",
      "yt : [WARNING  ] 2022-07-19 14:39:17,937 The Derived Field ('gas', 'thermal_energy') is deprecated as of yt v4.0.0 and will be removed in yt v4.1.0. Use ('gas', 'specific_thermal_energy') instead.\n",
      "/Users/bnguyen/.local/lib/python3.9/site-packages/unyt/array.py:1778: RuntimeWarning: invalid value encountered in true_divide\n",
      "  out_arr = func(\n",
      "yt : [WARNING  ] 2022-07-19 14:39:18,109 The Derived Field ('index', 'spherical_r') is deprecated as of yt v4.0.0 and will be removed in yt v4.1.0. Use ('index', 'spherical_radius') instead.\n",
      "yt : [WARNING  ] 2022-07-19 14:39:18,127 The Derived Field ('index', 'cylindrical_r') is deprecated as of yt v4.0.0 and will be removed in yt v4.1.0. Use ('index', 'cylindrical_radius') instead.\n",
      "yt : [WARNING  ] 2022-07-19 14:39:18,141 The Derived Field ('index', 'disk_angle') is deprecated as of yt v4.0.0 and will be removed in yt v4.1.0. Use ('index', 'spherical_theta') instead.\n",
      "yt : [WARNING  ] 2022-07-19 14:39:18,150 The Derived Field ('index', 'height') is deprecated as of yt v4.0.0 and will be removed in yt v4.1.0. Use ('index', 'cylindrical_z') instead.\n",
      "yt : [WARNING  ] 2022-07-19 14:39:18,243 The Derived Field ('stars', 'particle_cylindrical_velocity_theta') is deprecated as of yt v4.0.0 and will be removed in yt v4.1.0. Use ('all', 'particle_velocity_cylindrical_theta') instead.\n",
      "yt : [WARNING  ] 2022-07-19 14:39:18,247 The Derived Field ('stars', 'particle_cylindrical_velocity_z') is deprecated as of yt v4.0.0 and will be removed in yt v4.1.0. Use ('all', 'particle_velocity_cylindrical_z') instead.\n",
      "yt : [WARNING  ] 2022-07-19 14:39:18,285 The Derived Field ('stars', 'particle_spherical_position_phi') is deprecated as of yt v4.0.0 and will be removed in yt v4.1.0. Use ('all', 'particle_position_spherical_phi') instead.\n"
     ]
    },
    {
     "name": "stderr",
     "output_type": "stream",
     "text": [
      "yt : [WARNING  ] 2022-07-19 14:39:18,287 The Derived Field ('stars', 'particle_spherical_position_radius') is deprecated as of yt v4.0.0 and will be removed in yt v4.1.0. Use ('all', 'particle_position_spherical_radius') instead.\n",
      "yt : [WARNING  ] 2022-07-19 14:39:18,301 The Derived Field ('stars', 'particle_spherical_position_theta') is deprecated as of yt v4.0.0 and will be removed in yt v4.1.0. Use ('all', 'particle_position_spherical_theta') instead.\n",
      "yt : [WARNING  ] 2022-07-19 14:39:18,302 The Derived Field ('stars', 'particle_spherical_velocity_phi') is deprecated as of yt v4.0.0 and will be removed in yt v4.1.0. Use ('all', 'particle_velocity_spherical_phi') instead.\n",
      "yt : [WARNING  ] 2022-07-19 14:39:18,305 The Derived Field ('stars', 'particle_spherical_velocity_radius') is deprecated as of yt v4.0.0 and will be removed in yt v4.1.0. Use ('all', 'particle_velocity_spherical_radius') instead.\n",
      "yt : [WARNING  ] 2022-07-19 14:39:18,309 The Derived Field ('stars', 'particle_spherical_velocity_theta') is deprecated as of yt v4.0.0 and will be removed in yt v4.1.0. Use ('all', 'particle_velocity_spherical_theta') instead.\n",
      "yt : [WARNING  ] 2022-07-19 14:39:18,344 The Derived Field ('DM', 'particle_cylindrical_velocity_theta') is deprecated as of yt v4.0.0 and will be removed in yt v4.1.0. Use ('all', 'particle_velocity_cylindrical_theta') instead.\n",
      "yt : [WARNING  ] 2022-07-19 14:39:18,346 The Derived Field ('DM', 'particle_cylindrical_velocity_z') is deprecated as of yt v4.0.0 and will be removed in yt v4.1.0. Use ('all', 'particle_velocity_cylindrical_z') instead.\n",
      "yt : [WARNING  ] 2022-07-19 14:39:18,383 The Derived Field ('DM', 'particle_spherical_position_phi') is deprecated as of yt v4.0.0 and will be removed in yt v4.1.0. Use ('all', 'particle_position_spherical_phi') instead.\n",
      "yt : [WARNING  ] 2022-07-19 14:39:18,385 The Derived Field ('DM', 'particle_spherical_position_radius') is deprecated as of yt v4.0.0 and will be removed in yt v4.1.0. Use ('all', 'particle_position_spherical_radius') instead.\n",
      "yt : [WARNING  ] 2022-07-19 14:39:18,401 The Derived Field ('DM', 'particle_spherical_position_theta') is deprecated as of yt v4.0.0 and will be removed in yt v4.1.0. Use ('all', 'particle_position_spherical_theta') instead.\n",
      "yt : [WARNING  ] 2022-07-19 14:39:18,403 The Derived Field ('DM', 'particle_spherical_velocity_phi') is deprecated as of yt v4.0.0 and will be removed in yt v4.1.0. Use ('all', 'particle_velocity_spherical_phi') instead.\n",
      "yt : [WARNING  ] 2022-07-19 14:39:18,406 The Derived Field ('DM', 'particle_spherical_velocity_radius') is deprecated as of yt v4.0.0 and will be removed in yt v4.1.0. Use ('all', 'particle_velocity_spherical_radius') instead.\n",
      "yt : [WARNING  ] 2022-07-19 14:39:18,410 The Derived Field ('DM', 'particle_spherical_velocity_theta') is deprecated as of yt v4.0.0 and will be removed in yt v4.1.0. Use ('all', 'particle_velocity_spherical_theta') instead.\n"
     ]
    }
   ],
   "source": [
    "\"\"\"\n",
    "Now, we go through each of the satellites and get their respective mass profiles.\n",
    "\"\"\"\n",
    "\n",
    "bin_size = YTQuantity(0.25, 'kpc') # 250 pc is the resolution of the simulation\n",
    "\n",
    "loc_allstars = []\n",
    "mass_allstars = []\n",
    "all_radius_arrays = []\n",
    "\n",
    "starry_rvir = []\n",
    "starry_cen = []\n",
    "starry_spheres = []\n",
    "\n",
    "each_halo_star_loc = []\n",
    "each_halo_star_mass = []\n",
    "each_halo_radius_arrays = []\n",
    "    \n",
    "each_halo_rvir = []\n",
    "each_halo_cen = []\n",
    "each_halo_spheres = []\n",
    "    \n",
    "# this goes through the halo at each timestep to find its Rvir and center position\n",
    "for idx in range(np.size(all_rvirs)):\n",
    "    each_cen = YTArray(all_centers[idx], 'kpc')\n",
    "    each_rvir = YTQuantity(all_rvirs[idx], 'kpc')\n",
    "    ds = all_available_snaps[idx]\n",
    "    \n",
    "    ds.add_particle_filter('stars')\n",
    "    ds.add_particle_filter('DM')\n",
    "            \n",
    "    # this uses yt to create spheres which contain the stars of each respective halo\n",
    "    halo_sphere = ds.sphere(center=each_cen,radius=each_rvir)\n",
    "    stars_loc = halo_sphere['stars','particle_position'].in_units('kpc')\n",
    "    corrected_stars_loc = stars_loc - each_cen # this places the halo center as the origin of its stars' coords\n",
    "    stars_mass = halo_sphere['stars','particle_mass'].in_units('Msun')\n",
    "        \n",
    "    if np.size(corrected_stars_loc) != 0:\n",
    "        radius_array = np.arange(YTQuantity(0.01, 'kpc'), each_rvir, bin_size)\n",
    "\n",
    "        # next, we add all the relevant star location and mass of the halo\n",
    "        # to some numpy arrays. this is meant to break down the for loop\n",
    "        # and help the code run faster.\n",
    "        each_halo_star_loc.append(corrected_stars_loc)\n",
    "        each_halo_star_mass.append(stars_mass)\n",
    "        each_halo_radius_arrays.append(radius_array)\n",
    "            \n",
    "        # finally, add the rvir and mvir into lists for later analyses\n",
    "        each_halo_rvir.append(each_rvir)\n",
    "        each_halo_cen.append(each_cen)\n",
    "        each_halo_spheres.append(halo_sphere)\n",
    "\n",
    "loc_allstars.append(each_halo_star_loc)\n",
    "mass_allstars.append(each_halo_star_mass)\n",
    "all_radius_arrays.append(each_halo_spheres)\n",
    "    \n",
    "starry_rvir.append(each_halo_rvir)\n",
    "starry_cen.append(each_halo_cen)\n",
    "starry_spheres.append(each_halo_spheres)\n",
    "            \n",
    "# with everything done, we remove the irrelevant rvir and mvir (irrelevant as in \n",
    "# not containing stars) for convenience in the upcoming analyses.\n",
    "\n",
    "loc_allstars = np.array(loc_allstars, dtype='object')\n",
    "mass_allstars = np.array(mass_allstars, dtype='object')\n",
    "all_radius_arrays = np.array(all_radius_arrays, dtype='object')\n",
    "\n",
    "starry_rvir = np.array(starry_rvir, dtype='object')\n",
    "starry_cen = YTArray(starry_cen, 'kpc')\n",
    "starry_spheres = np.array(starry_spheres, dtype='object')\n",
    "\n",
    "print('Success!')"
   ]
  },
  {
   "cell_type": "code",
   "execution_count": null,
   "id": "d52de371",
   "metadata": {
    "scrolled": false
   },
   "outputs": [],
   "source": [
    "print(loc_allstars)"
   ]
  },
  {
   "cell_type": "code",
   "execution_count": null,
   "id": "d9a3f512",
   "metadata": {},
   "outputs": [],
   "source": [
    "print(np.shape(starry_cen))"
   ]
  },
  {
   "cell_type": "code",
   "execution_count": null,
   "id": "b04407e6",
   "metadata": {},
   "outputs": [],
   "source": []
  }
 ],
 "metadata": {
  "kernelspec": {
   "display_name": "Python 3 (ipykernel)",
   "language": "python",
   "name": "python3"
  },
  "language_info": {
   "codemirror_mode": {
    "name": "ipython",
    "version": 3
   },
   "file_extension": ".py",
   "mimetype": "text/x-python",
   "name": "python",
   "nbconvert_exporter": "python",
   "pygments_lexer": "ipython3",
   "version": "3.9.13"
  }
 },
 "nbformat": 4,
 "nbformat_minor": 5
}
