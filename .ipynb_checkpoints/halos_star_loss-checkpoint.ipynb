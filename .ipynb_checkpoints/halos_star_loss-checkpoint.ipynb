{
 "cells": [
  {
   "cell_type": "code",
   "execution_count": 1,
   "id": "21144156",
   "metadata": {},
   "outputs": [],
   "source": [
    "import h5py\n",
    "import tangos as db\n",
    "import numpy as np\n",
    "import matplotlib.pyplot as plt\n",
    "from mpl_toolkits.axes_grid1 import AxesGrid\n",
    "import random\n",
    "\n",
    "import foggie.utils.foggie_load as fog\n",
    "import yt\n",
    "from yt.units.yt_array import YTQuantity, YTArray\n",
    "from yt.data_objects.particle_filters import add_particle_filter\n",
    "\n",
    "import glob\n",
    "from tangos.examples.misc import timestep_index"
   ]
  },
  {
   "cell_type": "code",
   "execution_count": 2,
   "id": "e6b744b3",
   "metadata": {},
   "outputs": [],
   "source": [
    "tslist = glob.glob('/Volumes/TempestTimeSteps/DD????/DD????') \n",
    "tslist.sort()"
   ]
  },
  {
   "cell_type": "code",
   "execution_count": 3,
   "id": "64989f60",
   "metadata": {},
   "outputs": [
    {
     "data": {
      "text/plain": [
       "[<Simulation(\"Tempest.9f11c.all.DD\")>]"
      ]
     },
     "execution_count": 3,
     "metadata": {},
     "output_type": "execute_result"
    }
   ],
   "source": [
    "db.all_simulations()"
   ]
  },
  {
   "cell_type": "code",
   "execution_count": 4,
   "id": "ec9c64c7",
   "metadata": {},
   "outputs": [],
   "source": [
    "sim = db.get_simulation('Tempest.9f11c.all.DD')"
   ]
  },
  {
   "cell_type": "code",
   "execution_count": 5,
   "id": "c66e2776",
   "metadata": {
    "scrolled": true
   },
   "outputs": [
    {
     "name": "stderr",
     "output_type": "stream",
     "text": [
      "yt : [INFO     ] 2022-07-19 10:46:06,177 Parameters: current_time              = 44.816527818285\n",
      "yt : [INFO     ] 2022-07-19 10:46:06,179 Parameters: domain_dimensions         = [256 256 256]\n",
      "yt : [INFO     ] 2022-07-19 10:46:06,182 Parameters: domain_left_edge          = [0. 0. 0.]\n",
      "yt : [INFO     ] 2022-07-19 10:46:06,185 Parameters: domain_right_edge         = [1. 1. 1.]\n",
      "yt : [INFO     ] 2022-07-19 10:46:06,186 Parameters: cosmological_simulation   = 1\n",
      "yt : [INFO     ] 2022-07-19 10:46:06,186 Parameters: current_redshift          = 5.9180766004715\n",
      "yt : [INFO     ] 2022-07-19 10:46:06,187 Parameters: omega_lambda              = 0.715\n",
      "yt : [INFO     ] 2022-07-19 10:46:06,187 Parameters: omega_matter              = 0.285\n",
      "yt : [INFO     ] 2022-07-19 10:46:06,188 Parameters: omega_radiation           = 0.0\n",
      "yt : [INFO     ] 2022-07-19 10:46:06,189 Parameters: hubble_constant           = 0.695\n"
     ]
    },
    {
     "name": "stdout",
     "output_type": "stream",
     "text": [
      "Opening snapshot /Volumes/TempestTimeSteps/DD0047/DD0047\n",
      "get_refine_box: using this location:      col1       col2     col3     col4     col5     col6     col7   col8\n",
      "------------- -------- -------- -------- -------- -------- -------- ----\n",
      "5.91807660047 0.495372 0.494815 0.499965 0.497372 0.496815 0.501965    9\n"
     ]
    },
    {
     "name": "stderr",
     "output_type": "stream",
     "text": [
      "Parsing Hierarchy : 100%|█████████████████| 2486/2486 [00:00<00:00, 8188.82it/s]\n",
      "yt : [INFO     ] 2022-07-19 10:46:06,687 Gathering a field list (this may take a moment.)\n",
      "yt : [WARNING  ] 2022-07-19 10:46:09,910 The stars particle filter already exists. Overriding.\n",
      "yt : [WARNING  ] 2022-07-19 10:46:09,910 The DM particle filter already exists. Overriding.\n"
     ]
    },
    {
     "name": "stdout",
     "output_type": "stream",
     "text": [
      "Pulling halo center from catalog file\n",
      "Opening snapshot /Volumes/TempestTimeSteps/DD0067/DD0067\n"
     ]
    },
    {
     "name": "stderr",
     "output_type": "stream",
     "text": [
      "yt : [INFO     ] 2022-07-19 10:46:10,079 Parameters: current_time              = 49.816527818285\n",
      "yt : [INFO     ] 2022-07-19 10:46:10,081 Parameters: domain_dimensions         = [256 256 256]\n",
      "yt : [INFO     ] 2022-07-19 10:46:10,085 Parameters: domain_left_edge          = [0. 0. 0.]\n",
      "yt : [INFO     ] 2022-07-19 10:46:10,088 Parameters: domain_right_edge         = [1. 1. 1.]\n",
      "yt : [INFO     ] 2022-07-19 10:46:10,089 Parameters: cosmological_simulation   = 1\n",
      "yt : [INFO     ] 2022-07-19 10:46:10,089 Parameters: current_redshift          = 5.4457876966805\n",
      "yt : [INFO     ] 2022-07-19 10:46:10,090 Parameters: omega_lambda              = 0.715\n",
      "yt : [INFO     ] 2022-07-19 10:46:10,090 Parameters: omega_matter              = 0.285\n",
      "yt : [INFO     ] 2022-07-19 10:46:10,091 Parameters: omega_radiation           = 0.0\n",
      "yt : [INFO     ] 2022-07-19 10:46:10,092 Parameters: hubble_constant           = 0.695\n"
     ]
    },
    {
     "name": "stdout",
     "output_type": "stream",
     "text": [
      "get_refine_box: using this location:      col1       col2     col3     col4     col5     col6     col7   col8\n",
      "------------- -------- -------- -------- -------- -------- -------- ----\n",
      "5.44578769668 0.495286 0.494378 0.499998 0.497286 0.496378 0.501998    9\n"
     ]
    },
    {
     "name": "stderr",
     "output_type": "stream",
     "text": [
      "Parsing Hierarchy : 100%|█████████████████| 2552/2552 [00:00<00:00, 8324.36it/s]\n",
      "yt : [INFO     ] 2022-07-19 10:46:10,559 Gathering a field list (this may take a moment.)\n",
      "yt : [WARNING  ] 2022-07-19 10:46:14,253 The stars particle filter already exists. Overriding.\n",
      "yt : [WARNING  ] 2022-07-19 10:46:14,254 The DM particle filter already exists. Overriding.\n"
     ]
    },
    {
     "name": "stdout",
     "output_type": "stream",
     "text": [
      "Pulling halo center from catalog file\n",
      "Opening snapshot /Volumes/TempestTimeSteps/DD0087/DD0087\n"
     ]
    },
    {
     "name": "stderr",
     "output_type": "stream",
     "text": [
      "yt : [INFO     ] 2022-07-19 10:46:14,378 Parameters: current_time              = 54.816527818285\n",
      "yt : [INFO     ] 2022-07-19 10:46:14,380 Parameters: domain_dimensions         = [256 256 256]\n",
      "yt : [INFO     ] 2022-07-19 10:46:14,383 Parameters: domain_left_edge          = [0. 0. 0.]\n",
      "yt : [INFO     ] 2022-07-19 10:46:14,385 Parameters: domain_right_edge         = [1. 1. 1.]\n",
      "yt : [INFO     ] 2022-07-19 10:46:14,386 Parameters: cosmological_simulation   = 1\n",
      "yt : [INFO     ] 2022-07-19 10:46:14,386 Parameters: current_redshift          = 5.0462906237837\n",
      "yt : [INFO     ] 2022-07-19 10:46:14,387 Parameters: omega_lambda              = 0.715\n",
      "yt : [INFO     ] 2022-07-19 10:46:14,388 Parameters: omega_matter              = 0.285\n",
      "yt : [INFO     ] 2022-07-19 10:46:14,389 Parameters: omega_radiation           = 0.0\n",
      "yt : [INFO     ] 2022-07-19 10:46:14,389 Parameters: hubble_constant           = 0.695\n"
     ]
    },
    {
     "name": "stdout",
     "output_type": "stream",
     "text": [
      "get_refine_box: using this location:      col1       col2     col3     col4     col5     col6     col7   col8\n",
      "------------- -------- -------- -------- -------- -------- -------- ----\n",
      "5.04629062378 0.495184 0.493952 0.500023 0.497184 0.495952 0.502023    9\n"
     ]
    },
    {
     "name": "stderr",
     "output_type": "stream",
     "text": [
      "Parsing Hierarchy : 100%|█████████████████| 3377/3377 [00:00<00:00, 9005.98it/s]\n",
      "yt : [INFO     ] 2022-07-19 10:46:14,964 Gathering a field list (this may take a moment.)\n",
      "yt : [WARNING  ] 2022-07-19 10:46:17,918 The stars particle filter already exists. Overriding.\n",
      "yt : [WARNING  ] 2022-07-19 10:46:17,918 The DM particle filter already exists. Overriding.\n"
     ]
    },
    {
     "name": "stdout",
     "output_type": "stream",
     "text": [
      "Pulling halo center from catalog file\n",
      "Opening snapshot /Volumes/TempestTimeSteps/DD0107/DD0107\n"
     ]
    },
    {
     "name": "stderr",
     "output_type": "stream",
     "text": [
      "yt : [INFO     ] 2022-07-19 10:46:18,084 Parameters: current_time              = 59.816527818285\n",
      "yt : [INFO     ] 2022-07-19 10:46:18,087 Parameters: domain_dimensions         = [256 256 256]\n",
      "yt : [INFO     ] 2022-07-19 10:46:18,090 Parameters: domain_left_edge          = [0. 0. 0.]\n",
      "yt : [INFO     ] 2022-07-19 10:46:18,093 Parameters: domain_right_edge         = [1. 1. 1.]\n",
      "yt : [INFO     ] 2022-07-19 10:46:18,093 Parameters: cosmological_simulation   = 1\n",
      "yt : [INFO     ] 2022-07-19 10:46:18,094 Parameters: current_redshift          = 4.7031121100648\n",
      "yt : [INFO     ] 2022-07-19 10:46:18,094 Parameters: omega_lambda              = 0.715\n",
      "yt : [INFO     ] 2022-07-19 10:46:18,095 Parameters: omega_matter              = 0.285\n",
      "yt : [INFO     ] 2022-07-19 10:46:18,095 Parameters: omega_radiation           = 0.0\n",
      "yt : [INFO     ] 2022-07-19 10:46:18,096 Parameters: hubble_constant           = 0.695\n"
     ]
    },
    {
     "name": "stdout",
     "output_type": "stream",
     "text": [
      "get_refine_box: using this location:      col1       col2     col3     col4     col5     col6     col7   col8\n",
      "------------- -------- -------- -------- -------- -------- -------- ----\n",
      "4.70311211006 0.495072 0.493546 0.500035 0.497072 0.495546 0.502035    9\n"
     ]
    },
    {
     "name": "stderr",
     "output_type": "stream",
     "text": [
      "Parsing Hierarchy : 100%|████████████████| 2935/2935 [00:00<00:00, 16559.50it/s]\n",
      "yt : [INFO     ] 2022-07-19 10:46:18,445 Gathering a field list (this may take a moment.)\n",
      "yt : [WARNING  ] 2022-07-19 10:46:21,437 The stars particle filter already exists. Overriding.\n",
      "yt : [WARNING  ] 2022-07-19 10:46:21,438 The DM particle filter already exists. Overriding.\n",
      "yt : [INFO     ] 2022-07-19 10:46:21,541 Parameters: current_time              = 64.816527818285\n",
      "yt : [INFO     ] 2022-07-19 10:46:21,543 Parameters: domain_dimensions         = [256 256 256]\n",
      "yt : [INFO     ] 2022-07-19 10:46:21,545 Parameters: domain_left_edge          = [0. 0. 0.]\n",
      "yt : [INFO     ] 2022-07-19 10:46:21,548 Parameters: domain_right_edge         = [1. 1. 1.]\n",
      "yt : [INFO     ] 2022-07-19 10:46:21,549 Parameters: cosmological_simulation   = 1\n",
      "yt : [INFO     ] 2022-07-19 10:46:21,549 Parameters: current_redshift          = 4.4045037292232\n",
      "yt : [INFO     ] 2022-07-19 10:46:21,550 Parameters: omega_lambda              = 0.715\n",
      "yt : [INFO     ] 2022-07-19 10:46:21,550 Parameters: omega_matter              = 0.285\n",
      "yt : [INFO     ] 2022-07-19 10:46:21,551 Parameters: omega_radiation           = 0.0\n",
      "yt : [INFO     ] 2022-07-19 10:46:21,552 Parameters: hubble_constant           = 0.695\n"
     ]
    },
    {
     "name": "stdout",
     "output_type": "stream",
     "text": [
      "Pulling halo center from catalog file\n",
      "Opening snapshot /Volumes/TempestTimeSteps/DD0127/DD0127\n",
      "get_refine_box: using this location:      col1       col2     col3     col4     col5     col6     col7   col8\n",
      "------------- -------- -------- -------- -------- -------- -------- ----\n",
      "4.40450372922 0.494955 0.493147 0.500046 0.496955 0.495147 0.502046    9\n"
     ]
    },
    {
     "name": "stderr",
     "output_type": "stream",
     "text": [
      "Parsing Hierarchy : 100%|████████████████| 3485/3485 [00:00<00:00, 15446.39it/s]\n",
      "yt : [INFO     ] 2022-07-19 10:46:22,052 Gathering a field list (this may take a moment.)\n",
      "yt : [WARNING  ] 2022-07-19 10:46:24,869 The stars particle filter already exists. Overriding.\n"
     ]
    },
    {
     "name": "stdout",
     "output_type": "stream",
     "text": [
      "Pulling halo center from catalog file\n"
     ]
    },
    {
     "name": "stderr",
     "output_type": "stream",
     "text": [
      "yt : [WARNING  ] 2022-07-19 10:46:25,138 The DM particle filter already exists. Overriding.\n",
      "yt : [INFO     ] 2022-07-19 10:46:25,255 Parameters: current_time              = 69.816527818285\n",
      "yt : [INFO     ] 2022-07-19 10:46:25,258 Parameters: domain_dimensions         = [256 256 256]\n",
      "yt : [INFO     ] 2022-07-19 10:46:25,260 Parameters: domain_left_edge          = [0. 0. 0.]\n",
      "yt : [INFO     ] 2022-07-19 10:46:25,262 Parameters: domain_right_edge         = [1. 1. 1.]\n",
      "yt : [INFO     ] 2022-07-19 10:46:25,263 Parameters: cosmological_simulation   = 1\n",
      "yt : [INFO     ] 2022-07-19 10:46:25,263 Parameters: current_redshift          = 4.1418420875174\n",
      "yt : [INFO     ] 2022-07-19 10:46:25,264 Parameters: omega_lambda              = 0.715\n",
      "yt : [INFO     ] 2022-07-19 10:46:25,264 Parameters: omega_matter              = 0.285\n",
      "yt : [INFO     ] 2022-07-19 10:46:25,265 Parameters: omega_radiation           = 0.0\n",
      "yt : [INFO     ] 2022-07-19 10:46:25,265 Parameters: hubble_constant           = 0.695\n"
     ]
    },
    {
     "name": "stdout",
     "output_type": "stream",
     "text": [
      "Opening snapshot /Volumes/TempestTimeSteps/DD0147/DD0147\n",
      "get_refine_box: using this location:      col1       col2     col3     col4    col5     col6     col7  col8\n",
      "------------- -------- -------- ------- -------- -------- ------- ----\n",
      "4.14184208752 0.494868 0.492768 0.50004 0.496868 0.494768 0.50204    9\n"
     ]
    },
    {
     "name": "stderr",
     "output_type": "stream",
     "text": [
      "Parsing Hierarchy : 100%|████████████████| 6292/6292 [00:00<00:00, 17483.85it/s]\n",
      "yt : [INFO     ] 2022-07-19 10:46:26,185 Gathering a field list (this may take a moment.)\n",
      "yt : [WARNING  ] 2022-07-19 10:46:28,867 The stars particle filter already exists. Overriding.\n",
      "yt : [WARNING  ] 2022-07-19 10:46:28,868 The DM particle filter already exists. Overriding.\n",
      "yt : [INFO     ] 2022-07-19 10:46:28,965 Parameters: current_time              = 74.816527818285\n",
      "yt : [INFO     ] 2022-07-19 10:46:28,967 Parameters: domain_dimensions         = [256 256 256]\n",
      "yt : [INFO     ] 2022-07-19 10:46:28,970 Parameters: domain_left_edge          = [0. 0. 0.]\n",
      "yt : [INFO     ] 2022-07-19 10:46:28,972 Parameters: domain_right_edge         = [1. 1. 1.]\n",
      "yt : [INFO     ] 2022-07-19 10:46:28,973 Parameters: cosmological_simulation   = 1\n",
      "yt : [INFO     ] 2022-07-19 10:46:28,973 Parameters: current_redshift          = 3.9086423517129\n",
      "yt : [INFO     ] 2022-07-19 10:46:28,973 Parameters: omega_lambda              = 0.715\n",
      "yt : [INFO     ] 2022-07-19 10:46:28,974 Parameters: omega_matter              = 0.285\n",
      "yt : [INFO     ] 2022-07-19 10:46:28,975 Parameters: omega_radiation           = 0.0\n",
      "yt : [INFO     ] 2022-07-19 10:46:28,976 Parameters: hubble_constant           = 0.695\n"
     ]
    },
    {
     "name": "stdout",
     "output_type": "stream",
     "text": [
      "Pulling halo center from catalog file\n",
      "Opening snapshot /Volumes/TempestTimeSteps/DD0167/DD0167\n",
      "get_refine_box: using this location:      col1       col2     col3     col4     col5     col6     col7   col8\n",
      "------------- -------- -------- -------- -------- -------- -------- ----\n",
      "3.90864235171 0.494765 0.492417 0.500025 0.496765 0.494417 0.502025    9\n"
     ]
    },
    {
     "name": "stderr",
     "output_type": "stream",
     "text": [
      "Parsing Hierarchy : 100%|████████████████| 6349/6349 [00:00<00:00, 18296.19it/s]\n",
      "yt : [INFO     ] 2022-07-19 10:46:29,971 Gathering a field list (this may take a moment.)\n",
      "yt : [WARNING  ] 2022-07-19 10:46:32,664 The stars particle filter already exists. Overriding.\n",
      "yt : [WARNING  ] 2022-07-19 10:46:32,665 The DM particle filter already exists. Overriding.\n",
      "yt : [INFO     ] 2022-07-19 10:46:32,763 Parameters: current_time              = 79.816527818285\n",
      "yt : [INFO     ] 2022-07-19 10:46:32,766 Parameters: domain_dimensions         = [256 256 256]\n",
      "yt : [INFO     ] 2022-07-19 10:46:32,768 Parameters: domain_left_edge          = [0. 0. 0.]\n",
      "yt : [INFO     ] 2022-07-19 10:46:32,770 Parameters: domain_right_edge         = [1. 1. 1.]\n",
      "yt : [INFO     ] 2022-07-19 10:46:32,771 Parameters: cosmological_simulation   = 1\n",
      "yt : [INFO     ] 2022-07-19 10:46:32,771 Parameters: current_redshift          = 3.6999259804031\n",
      "yt : [INFO     ] 2022-07-19 10:46:32,772 Parameters: omega_lambda              = 0.715\n",
      "yt : [INFO     ] 2022-07-19 10:46:32,773 Parameters: omega_matter              = 0.285\n",
      "yt : [INFO     ] 2022-07-19 10:46:32,773 Parameters: omega_radiation           = 0.0\n",
      "yt : [INFO     ] 2022-07-19 10:46:32,774 Parameters: hubble_constant           = 0.695\n"
     ]
    },
    {
     "name": "stdout",
     "output_type": "stream",
     "text": [
      "Pulling halo center from catalog file\n",
      "Opening snapshot /Volumes/TempestTimeSteps/DD0187/DD0187\n",
      "get_refine_box: using this location:     col1       col2     col3     col4     col5     col6     col7   col8\n",
      "------------ -------- -------- -------- -------- -------- -------- ----\n",
      "3.6999259804 0.494633 0.492127 0.500014 0.496633 0.494127 0.502014    9\n"
     ]
    },
    {
     "name": "stderr",
     "output_type": "stream",
     "text": [
      "Parsing Hierarchy : 100%|████████████████| 6152/6152 [00:00<00:00, 18547.38it/s]\n",
      "yt : [INFO     ] 2022-07-19 10:46:33,404 Gathering a field list (this may take a moment.)\n",
      "yt : [WARNING  ] 2022-07-19 10:46:36,095 The stars particle filter already exists. Overriding.\n",
      "yt : [WARNING  ] 2022-07-19 10:46:36,096 The DM particle filter already exists. Overriding.\n"
     ]
    },
    {
     "name": "stdout",
     "output_type": "stream",
     "text": [
      "Pulling halo center from catalog file\n",
      "Opening snapshot /Volumes/TempestTimeSteps/DD0207/DD0207\n"
     ]
    },
    {
     "name": "stderr",
     "output_type": "stream",
     "text": [
      "yt : [INFO     ] 2022-07-19 10:46:36,269 Parameters: current_time              = 84.816527818285\n",
      "yt : [INFO     ] 2022-07-19 10:46:36,272 Parameters: domain_dimensions         = [256 256 256]\n",
      "yt : [INFO     ] 2022-07-19 10:46:36,276 Parameters: domain_left_edge          = [0. 0. 0.]\n",
      "yt : [INFO     ] 2022-07-19 10:46:36,280 Parameters: domain_right_edge         = [1. 1. 1.]\n",
      "yt : [INFO     ] 2022-07-19 10:46:36,281 Parameters: cosmological_simulation   = 1\n",
      "yt : [INFO     ] 2022-07-19 10:46:36,281 Parameters: current_redshift          = 3.5118019373691\n",
      "yt : [INFO     ] 2022-07-19 10:46:36,282 Parameters: omega_lambda              = 0.715\n",
      "yt : [INFO     ] 2022-07-19 10:46:36,283 Parameters: omega_matter              = 0.285\n",
      "yt : [INFO     ] 2022-07-19 10:46:36,283 Parameters: omega_radiation           = 0.0\n",
      "yt : [INFO     ] 2022-07-19 10:46:36,284 Parameters: hubble_constant           = 0.695\n"
     ]
    },
    {
     "name": "stdout",
     "output_type": "stream",
     "text": [
      "get_refine_box: using this location:      col1       col2     col3     col4     col5     col6     col7   col8\n",
      "------------- -------- -------- -------- -------- -------- -------- ----\n",
      "3.51180193737 0.494517 0.491822 0.500016 0.496517 0.493822 0.502016    9\n"
     ]
    },
    {
     "name": "stderr",
     "output_type": "stream",
     "text": [
      "Parsing Hierarchy : 100%|█████████████████| 7873/7873 [00:00<00:00, 9223.51it/s]\n",
      "yt : [INFO     ] 2022-07-19 10:46:37,413 Gathering a field list (this may take a moment.)\n",
      "yt : [WARNING  ] 2022-07-19 10:46:40,065 The stars particle filter already exists. Overriding.\n",
      "yt : [WARNING  ] 2022-07-19 10:46:40,066 The DM particle filter already exists. Overriding.\n",
      "yt : [INFO     ] 2022-07-19 10:46:40,157 Parameters: current_time              = 89.816527818285\n",
      "yt : [INFO     ] 2022-07-19 10:46:40,159 Parameters: domain_dimensions         = [256 256 256]\n",
      "yt : [INFO     ] 2022-07-19 10:46:40,162 Parameters: domain_left_edge          = [0. 0. 0.]\n",
      "yt : [INFO     ] 2022-07-19 10:46:40,164 Parameters: domain_right_edge         = [1. 1. 1.]\n",
      "yt : [INFO     ] 2022-07-19 10:46:40,165 Parameters: cosmological_simulation   = 1\n",
      "yt : [INFO     ] 2022-07-19 10:46:40,166 Parameters: current_redshift          = 3.3411813479609\n",
      "yt : [INFO     ] 2022-07-19 10:46:40,167 Parameters: omega_lambda              = 0.715\n",
      "yt : [INFO     ] 2022-07-19 10:46:40,168 Parameters: omega_matter              = 0.285\n",
      "yt : [INFO     ] 2022-07-19 10:46:40,168 Parameters: omega_radiation           = 0.0\n",
      "yt : [INFO     ] 2022-07-19 10:46:40,169 Parameters: hubble_constant           = 0.695\n"
     ]
    },
    {
     "name": "stdout",
     "output_type": "stream",
     "text": [
      "Pulling halo center from catalog file\n",
      "Opening snapshot /Volumes/TempestTimeSteps/DD0227/DD0227\n",
      "get_refine_box: using this location:      col1       col2     col3     col4     col5     col6     col7   col8\n",
      "------------- -------- -------- -------- -------- -------- -------- ----\n",
      "3.34118134796 0.494362 0.491438 0.500094 0.496362 0.493438 0.502094    9\n"
     ]
    },
    {
     "name": "stderr",
     "output_type": "stream",
     "text": [
      "Parsing Hierarchy : 100%|███████████████| 10646/10646 [00:01<00:00, 9676.33it/s]\n",
      "yt : [INFO     ] 2022-07-19 10:46:41,699 Gathering a field list (this may take a moment.)\n",
      "yt : [WARNING  ] 2022-07-19 10:46:44,343 The stars particle filter already exists. Overriding.\n",
      "yt : [WARNING  ] 2022-07-19 10:46:44,343 The DM particle filter already exists. Overriding.\n",
      "yt : [INFO     ] 2022-07-19 10:46:44,433 Parameters: current_time              = 94.816527818285\n",
      "yt : [INFO     ] 2022-07-19 10:46:44,436 Parameters: domain_dimensions         = [256 256 256]\n",
      "yt : [INFO     ] 2022-07-19 10:46:44,439 Parameters: domain_left_edge          = [0. 0. 0.]\n",
      "yt : [INFO     ] 2022-07-19 10:46:44,442 Parameters: domain_right_edge         = [1. 1. 1.]\n",
      "yt : [INFO     ] 2022-07-19 10:46:44,443 Parameters: cosmological_simulation   = 1\n",
      "yt : [INFO     ] 2022-07-19 10:46:44,443 Parameters: current_redshift          = 3.1855782341013\n",
      "yt : [INFO     ] 2022-07-19 10:46:44,444 Parameters: omega_lambda              = 0.715\n",
      "yt : [INFO     ] 2022-07-19 10:46:44,445 Parameters: omega_matter              = 0.285\n",
      "yt : [INFO     ] 2022-07-19 10:46:44,446 Parameters: omega_radiation           = 0.0\n",
      "yt : [INFO     ] 2022-07-19 10:46:44,446 Parameters: hubble_constant           = 0.695\n"
     ]
    },
    {
     "name": "stdout",
     "output_type": "stream",
     "text": [
      "Pulling halo center from catalog file\n",
      "Opening snapshot /Volumes/TempestTimeSteps/DD0247/DD0247\n",
      "get_refine_box: using this location:     col1       col2     col3     col4     col5     col6     col7   col8\n",
      "------------ -------- -------- -------- -------- -------- -------- ----\n",
      "3.1855782341 0.494234 0.491145 0.500166 0.496234 0.493145 0.502166    9\n"
     ]
    },
    {
     "name": "stderr",
     "output_type": "stream",
     "text": [
      "Parsing Hierarchy : 100%|███████████████| 10738/10738 [00:01<00:00, 9208.53it/s]\n",
      "yt : [INFO     ] 2022-07-19 10:46:46,024 Gathering a field list (this may take a moment.)\n",
      "yt : [WARNING  ] 2022-07-19 10:46:48,668 The stars particle filter already exists. Overriding.\n",
      "yt : [WARNING  ] 2022-07-19 10:46:48,669 The DM particle filter already exists. Overriding.\n",
      "yt : [INFO     ] 2022-07-19 10:46:48,765 Parameters: current_time              = 99.816527818285\n",
      "yt : [INFO     ] 2022-07-19 10:46:48,768 Parameters: domain_dimensions         = [256 256 256]\n",
      "yt : [INFO     ] 2022-07-19 10:46:48,770 Parameters: domain_left_edge          = [0. 0. 0.]\n",
      "yt : [INFO     ] 2022-07-19 10:46:48,773 Parameters: domain_right_edge         = [1. 1. 1.]\n",
      "yt : [INFO     ] 2022-07-19 10:46:48,774 Parameters: cosmological_simulation   = 1\n",
      "yt : [INFO     ] 2022-07-19 10:46:48,774 Parameters: current_redshift          = 3.0429673207448\n",
      "yt : [INFO     ] 2022-07-19 10:46:48,774 Parameters: omega_lambda              = 0.715\n",
      "yt : [INFO     ] 2022-07-19 10:46:48,775 Parameters: omega_matter              = 0.285\n",
      "yt : [INFO     ] 2022-07-19 10:46:48,776 Parameters: omega_radiation           = 0.0\n",
      "yt : [INFO     ] 2022-07-19 10:46:48,776 Parameters: hubble_constant           = 0.695\n"
     ]
    },
    {
     "name": "stdout",
     "output_type": "stream",
     "text": [
      "Pulling halo center from catalog file\n",
      "Opening snapshot /Volumes/TempestTimeSteps/DD0267/DD0267\n",
      "get_refine_box: using this location:      col1       col2     col3     col4     col5     col6     col7   col8\n",
      "------------- -------- -------- -------- -------- -------- -------- ----\n",
      "3.04296732074 0.494074 0.490895 0.500235 0.496074 0.492895 0.502235    9\n"
     ]
    },
    {
     "name": "stderr",
     "output_type": "stream",
     "text": [
      "Parsing Hierarchy : 100%|████████████████| 8498/8498 [00:00<00:00, 18836.06it/s]\n",
      "yt : [INFO     ] 2022-07-19 10:46:49,598 Gathering a field list (this may take a moment.)\n",
      "yt : [WARNING  ] 2022-07-19 10:46:52,324 The stars particle filter already exists. Overriding.\n",
      "yt : [WARNING  ] 2022-07-19 10:46:52,325 The DM particle filter already exists. Overriding.\n"
     ]
    },
    {
     "name": "stdout",
     "output_type": "stream",
     "text": [
      "Pulling halo center from catalog file\n",
      "Opening snapshot /Volumes/TempestTimeSteps/DD0287/DD0287\n"
     ]
    },
    {
     "name": "stderr",
     "output_type": "stream",
     "text": [
      "yt : [INFO     ] 2022-07-19 10:46:52,490 Parameters: current_time              = 104.81652781829\n",
      "yt : [INFO     ] 2022-07-19 10:46:52,493 Parameters: domain_dimensions         = [256 256 256]\n",
      "yt : [INFO     ] 2022-07-19 10:46:52,498 Parameters: domain_left_edge          = [0. 0. 0.]\n",
      "yt : [INFO     ] 2022-07-19 10:46:52,500 Parameters: domain_right_edge         = [1. 1. 1.]\n",
      "yt : [INFO     ] 2022-07-19 10:46:52,501 Parameters: cosmological_simulation   = 1\n",
      "yt : [INFO     ] 2022-07-19 10:46:52,501 Parameters: current_redshift          = 2.9116806075987\n",
      "yt : [INFO     ] 2022-07-19 10:46:52,502 Parameters: omega_lambda              = 0.715\n",
      "yt : [INFO     ] 2022-07-19 10:46:52,502 Parameters: omega_matter              = 0.285\n",
      "yt : [INFO     ] 2022-07-19 10:46:52,503 Parameters: omega_radiation           = 0.0\n",
      "yt : [INFO     ] 2022-07-19 10:46:52,503 Parameters: hubble_constant           = 0.695\n"
     ]
    },
    {
     "name": "stdout",
     "output_type": "stream",
     "text": [
      "get_refine_box: using this location:     col1       col2     col3     col4     col5     col6     col7   col8\n",
      "------------ -------- -------- -------- -------- -------- -------- ----\n",
      "2.9116806076 0.493954 0.490721 0.500203 0.495954 0.492721 0.502203    9\n"
     ]
    },
    {
     "name": "stderr",
     "output_type": "stream",
     "text": [
      "Parsing Hierarchy : 100%|█████████████████| 7384/7384 [00:01<00:00, 6411.11it/s]\n",
      "yt : [INFO     ] 2022-07-19 10:46:53,933 Gathering a field list (this may take a moment.)\n",
      "yt : [WARNING  ] 2022-07-19 10:46:56,633 The stars particle filter already exists. Overriding.\n",
      "yt : [WARNING  ] 2022-07-19 10:46:56,633 The DM particle filter already exists. Overriding.\n",
      "yt : [INFO     ] 2022-07-19 10:46:56,732 Parameters: current_time              = 109.81652781829\n",
      "yt : [INFO     ] 2022-07-19 10:46:56,734 Parameters: domain_dimensions         = [256 256 256]\n",
      "yt : [INFO     ] 2022-07-19 10:46:56,737 Parameters: domain_left_edge          = [0. 0. 0.]\n",
      "yt : [INFO     ] 2022-07-19 10:46:56,739 Parameters: domain_right_edge         = [1. 1. 1.]\n",
      "yt : [INFO     ] 2022-07-19 10:46:56,740 Parameters: cosmological_simulation   = 1\n",
      "yt : [INFO     ] 2022-07-19 10:46:56,740 Parameters: current_redshift          = 2.790330842939\n",
      "yt : [INFO     ] 2022-07-19 10:46:56,741 Parameters: omega_lambda              = 0.715\n",
      "yt : [INFO     ] 2022-07-19 10:46:56,741 Parameters: omega_matter              = 0.285\n",
      "yt : [INFO     ] 2022-07-19 10:46:56,742 Parameters: omega_radiation           = 0.0\n",
      "yt : [INFO     ] 2022-07-19 10:46:56,743 Parameters: hubble_constant           = 0.695\n"
     ]
    },
    {
     "name": "stdout",
     "output_type": "stream",
     "text": [
      "Pulling halo center from catalog file\n",
      "Opening snapshot /Volumes/TempestTimeSteps/DD0307/DD0307\n",
      "get_refine_box: using this location:      col1       col2     col3     col4     col5     col6     col7   col8\n",
      "------------- -------- -------- -------- -------- -------- -------- ----\n",
      "2.79033084294 0.494017 0.490515 0.500182 0.496017 0.492515 0.502182    9\n"
     ]
    },
    {
     "name": "stderr",
     "output_type": "stream",
     "text": [
      "Parsing Hierarchy : 100%|████████████████| 7885/7885 [00:00<00:00, 18541.17it/s]\n",
      "yt : [INFO     ] 2022-07-19 10:46:57,515 Gathering a field list (this may take a moment.)\n",
      "yt : [WARNING  ] 2022-07-19 10:47:00,287 The stars particle filter already exists. Overriding.\n",
      "yt : [WARNING  ] 2022-07-19 10:47:00,287 The DM particle filter already exists. Overriding.\n",
      "yt : [INFO     ] 2022-07-19 10:47:00,384 Parameters: current_time              = 114.81652781829\n",
      "yt : [INFO     ] 2022-07-19 10:47:00,386 Parameters: domain_dimensions         = [256 256 256]\n",
      "yt : [INFO     ] 2022-07-19 10:47:00,389 Parameters: domain_left_edge          = [0. 0. 0.]\n",
      "yt : [INFO     ] 2022-07-19 10:47:00,391 Parameters: domain_right_edge         = [1. 1. 1.]\n",
      "yt : [INFO     ] 2022-07-19 10:47:00,392 Parameters: cosmological_simulation   = 1\n",
      "yt : [INFO     ] 2022-07-19 10:47:00,392 Parameters: current_redshift          = 2.6777540283045\n",
      "yt : [INFO     ] 2022-07-19 10:47:00,392 Parameters: omega_lambda              = 0.715\n",
      "yt : [INFO     ] 2022-07-19 10:47:00,393 Parameters: omega_matter              = 0.285\n",
      "yt : [INFO     ] 2022-07-19 10:47:00,394 Parameters: omega_radiation           = 0.0\n",
      "yt : [INFO     ] 2022-07-19 10:47:00,395 Parameters: hubble_constant           = 0.695\n"
     ]
    },
    {
     "name": "stdout",
     "output_type": "stream",
     "text": [
      "Pulling halo center from catalog file\n",
      "Opening snapshot /Volumes/TempestTimeSteps/DD0327/DD0327\n",
      "get_refine_box: using this location:     col1       col2     col3    col4     col5     col6    col7   col8\n",
      "------------ -------- ------- -------- -------- ------- -------- ----\n",
      "2.6777540283 0.493817 0.49021 0.500325 0.495817 0.49221 0.502325    9\n"
     ]
    },
    {
     "name": "stderr",
     "output_type": "stream",
     "text": [
      "Parsing Hierarchy : 100%|█████████████████| 8723/8723 [00:01<00:00, 6461.24it/s]\n",
      "yt : [INFO     ] 2022-07-19 10:47:02,119 Gathering a field list (this may take a moment.)\n",
      "yt : [WARNING  ] 2022-07-19 10:47:04,971 The stars particle filter already exists. Overriding.\n",
      "yt : [WARNING  ] 2022-07-19 10:47:04,972 The DM particle filter already exists. Overriding.\n"
     ]
    },
    {
     "name": "stdout",
     "output_type": "stream",
     "text": [
      "Pulling halo center from catalog file\n",
      "Opening snapshot /Volumes/TempestTimeSteps/DD0347/DD0347\n"
     ]
    },
    {
     "name": "stderr",
     "output_type": "stream",
     "text": [
      "yt : [INFO     ] 2022-07-19 10:47:05,202 Parameters: current_time              = 119.81652781829\n",
      "yt : [INFO     ] 2022-07-19 10:47:05,204 Parameters: domain_dimensions         = [256 256 256]\n",
      "yt : [INFO     ] 2022-07-19 10:47:05,207 Parameters: domain_left_edge          = [0. 0. 0.]\n",
      "yt : [INFO     ] 2022-07-19 10:47:05,209 Parameters: domain_right_edge         = [1. 1. 1.]\n",
      "yt : [INFO     ] 2022-07-19 10:47:05,210 Parameters: cosmological_simulation   = 1\n",
      "yt : [INFO     ] 2022-07-19 10:47:05,210 Parameters: current_redshift          = 2.5729656200897\n",
      "yt : [INFO     ] 2022-07-19 10:47:05,211 Parameters: omega_lambda              = 0.715\n",
      "yt : [INFO     ] 2022-07-19 10:47:05,211 Parameters: omega_matter              = 0.285\n",
      "yt : [INFO     ] 2022-07-19 10:47:05,212 Parameters: omega_radiation           = 0.0\n",
      "yt : [INFO     ] 2022-07-19 10:47:05,213 Parameters: hubble_constant           = 0.695\n"
     ]
    },
    {
     "name": "stdout",
     "output_type": "stream",
     "text": [
      "get_refine_box: using this location:      col1       col2    col3     col4    col5    col6     col7  col8\n",
      "------------- ------- -------- ------- ------- -------- ------- ----\n",
      "2.57296562009 0.49375 0.489943 0.50041 0.49575 0.491943 0.50241    9\n"
     ]
    },
    {
     "name": "stderr",
     "output_type": "stream",
     "text": [
      "Parsing Hierarchy : 100%|████████████████| 8372/8372 [00:00<00:00, 18953.79it/s]\n",
      "yt : [INFO     ] 2022-07-19 10:47:05,954 Gathering a field list (this may take a moment.)\n",
      "yt : [WARNING  ] 2022-07-19 10:47:08,661 The stars particle filter already exists. Overriding.\n",
      "yt : [WARNING  ] 2022-07-19 10:47:08,661 The DM particle filter already exists. Overriding.\n",
      "yt : [INFO     ] 2022-07-19 10:47:08,765 Parameters: current_time              = 124.81652781829\n",
      "yt : [INFO     ] 2022-07-19 10:47:08,768 Parameters: domain_dimensions         = [256 256 256]\n",
      "yt : [INFO     ] 2022-07-19 10:47:08,772 Parameters: domain_left_edge          = [0. 0. 0.]\n",
      "yt : [INFO     ] 2022-07-19 10:47:08,774 Parameters: domain_right_edge         = [1. 1. 1.]\n",
      "yt : [INFO     ] 2022-07-19 10:47:08,775 Parameters: cosmological_simulation   = 1\n",
      "yt : [INFO     ] 2022-07-19 10:47:08,775 Parameters: current_redshift          = 2.4751267440123\n",
      "yt : [INFO     ] 2022-07-19 10:47:08,776 Parameters: omega_lambda              = 0.715\n",
      "yt : [INFO     ] 2022-07-19 10:47:08,776 Parameters: omega_matter              = 0.285\n",
      "yt : [INFO     ] 2022-07-19 10:47:08,777 Parameters: omega_radiation           = 0.0\n",
      "yt : [INFO     ] 2022-07-19 10:47:08,778 Parameters: hubble_constant           = 0.695\n"
     ]
    },
    {
     "name": "stdout",
     "output_type": "stream",
     "text": [
      "Pulling halo center from catalog file\n",
      "Opening snapshot /Volumes/TempestTimeSteps/DD0367/DD0367\n",
      "get_refine_box: using this location:      col1       col2     col3     col4     col5     col6     col7   col8\n",
      "------------- -------- -------- -------- -------- -------- -------- ----\n",
      "2.47512674401 0.493607 0.489649 0.500506 0.495607 0.491649 0.502506    9\n"
     ]
    },
    {
     "name": "stderr",
     "output_type": "stream",
     "text": [
      "Parsing Hierarchy : 100%|████████████████| 8124/8124 [00:00<00:00, 18659.34it/s]\n",
      "yt : [INFO     ] 2022-07-19 10:47:09,562 Gathering a field list (this may take a moment.)\n",
      "yt : [WARNING  ] 2022-07-19 10:47:12,492 The stars particle filter already exists. Overriding.\n",
      "yt : [WARNING  ] 2022-07-19 10:47:12,493 The DM particle filter already exists. Overriding.\n"
     ]
    },
    {
     "name": "stdout",
     "output_type": "stream",
     "text": [
      "Pulling halo center from catalog file\n",
      "Opening snapshot /Volumes/TempestTimeSteps/DD0387/DD0387\n"
     ]
    },
    {
     "name": "stderr",
     "output_type": "stream",
     "text": [
      "yt : [INFO     ] 2022-07-19 10:47:12,672 Parameters: current_time              = 129.81652781829\n",
      "yt : [INFO     ] 2022-07-19 10:47:12,675 Parameters: domain_dimensions         = [256 256 256]\n",
      "yt : [INFO     ] 2022-07-19 10:47:12,679 Parameters: domain_left_edge          = [0. 0. 0.]\n",
      "yt : [INFO     ] 2022-07-19 10:47:12,683 Parameters: domain_right_edge         = [1. 1. 1.]\n",
      "yt : [INFO     ] 2022-07-19 10:47:12,684 Parameters: cosmological_simulation   = 1\n",
      "yt : [INFO     ] 2022-07-19 10:47:12,685 Parameters: current_redshift          = 2.3835178337957\n",
      "yt : [INFO     ] 2022-07-19 10:47:12,685 Parameters: omega_lambda              = 0.715\n",
      "yt : [INFO     ] 2022-07-19 10:47:12,686 Parameters: omega_matter              = 0.285\n",
      "yt : [INFO     ] 2022-07-19 10:47:12,687 Parameters: omega_radiation           = 0.0\n",
      "yt : [INFO     ] 2022-07-19 10:47:12,687 Parameters: hubble_constant           = 0.695\n"
     ]
    },
    {
     "name": "stdout",
     "output_type": "stream",
     "text": [
      "get_refine_box: using this location:     col1       col2     col3     col4     col5     col6     col7   col8\n",
      "------------ -------- -------- -------- -------- -------- -------- ----\n",
      "2.3835178338 0.493475 0.489323 0.500649 0.495475 0.491323 0.502649    9\n"
     ]
    },
    {
     "name": "stderr",
     "output_type": "stream",
     "text": [
      "Parsing Hierarchy : 100%|█████████████████| 9680/9680 [00:01<00:00, 6093.45it/s]\n",
      "yt : [INFO     ] 2022-07-19 10:47:14,603 Gathering a field list (this may take a moment.)\n",
      "yt : [WARNING  ] 2022-07-19 10:47:17,257 The stars particle filter already exists. Overriding.\n",
      "yt : [WARNING  ] 2022-07-19 10:47:17,257 The DM particle filter already exists. Overriding.\n",
      "yt : [INFO     ] 2022-07-19 10:47:17,355 Parameters: current_time              = 134.81652781829\n",
      "yt : [INFO     ] 2022-07-19 10:47:17,357 Parameters: domain_dimensions         = [256 256 256]\n",
      "yt : [INFO     ] 2022-07-19 10:47:17,360 Parameters: domain_left_edge          = [0. 0. 0.]\n",
      "yt : [INFO     ] 2022-07-19 10:47:17,363 Parameters: domain_right_edge         = [1. 1. 1.]\n",
      "yt : [INFO     ] 2022-07-19 10:47:17,363 Parameters: cosmological_simulation   = 1\n",
      "yt : [INFO     ] 2022-07-19 10:47:17,364 Parameters: current_redshift          = 2.2975178463403\n",
      "yt : [INFO     ] 2022-07-19 10:47:17,364 Parameters: omega_lambda              = 0.715\n",
      "yt : [INFO     ] 2022-07-19 10:47:17,365 Parameters: omega_matter              = 0.285\n",
      "yt : [INFO     ] 2022-07-19 10:47:17,365 Parameters: omega_radiation           = 0.0\n",
      "yt : [INFO     ] 2022-07-19 10:47:17,366 Parameters: hubble_constant           = 0.695\n"
     ]
    },
    {
     "name": "stdout",
     "output_type": "stream",
     "text": [
      "Pulling halo center from catalog file\n",
      "Opening snapshot /Volumes/TempestTimeSteps/DD0407/DD0407\n",
      "get_refine_box: using this location:      col1       col2     col3     col4     col5     col6     col7   col8\n",
      "------------- -------- -------- -------- -------- -------- -------- ----\n",
      "2.29751784634 0.493403 0.489031 0.500769 0.495403 0.491031 0.502769    9\n"
     ]
    },
    {
     "name": "stderr",
     "output_type": "stream",
     "text": [
      "Parsing Hierarchy : 100%|████████████████| 8668/8668 [00:00<00:00, 19062.54it/s]\n",
      "yt : [INFO     ] 2022-07-19 10:47:18,121 Gathering a field list (this may take a moment.)\n",
      "yt : [WARNING  ] 2022-07-19 10:47:20,867 The stars particle filter already exists. Overriding.\n",
      "yt : [WARNING  ] 2022-07-19 10:47:20,868 The DM particle filter already exists. Overriding.\n"
     ]
    },
    {
     "name": "stdout",
     "output_type": "stream",
     "text": [
      "Pulling halo center from catalog file\n",
      "Opening snapshot /Volumes/TempestTimeSteps/DD0427/DD0427\n"
     ]
    },
    {
     "name": "stderr",
     "output_type": "stream",
     "text": [
      "yt : [INFO     ] 2022-07-19 10:47:21,068 Parameters: current_time              = 139.81652781829\n",
      "yt : [INFO     ] 2022-07-19 10:47:21,071 Parameters: domain_dimensions         = [256 256 256]\n",
      "yt : [INFO     ] 2022-07-19 10:47:21,074 Parameters: domain_left_edge          = [0. 0. 0.]\n",
      "yt : [INFO     ] 2022-07-19 10:47:21,078 Parameters: domain_right_edge         = [1. 1. 1.]\n",
      "yt : [INFO     ] 2022-07-19 10:47:21,079 Parameters: cosmological_simulation   = 1\n",
      "yt : [INFO     ] 2022-07-19 10:47:21,080 Parameters: current_redshift          = 2.2165877154761\n",
      "yt : [INFO     ] 2022-07-19 10:47:21,081 Parameters: omega_lambda              = 0.715\n",
      "yt : [INFO     ] 2022-07-19 10:47:21,082 Parameters: omega_matter              = 0.285\n",
      "yt : [INFO     ] 2022-07-19 10:47:21,083 Parameters: omega_radiation           = 0.0\n",
      "yt : [INFO     ] 2022-07-19 10:47:21,083 Parameters: hubble_constant           = 0.695\n"
     ]
    },
    {
     "name": "stdout",
     "output_type": "stream",
     "text": [
      "get_refine_box: using this location:      col1       col2     col3     col4     col5     col6     col7   col8\n",
      "------------- -------- -------- -------- -------- -------- -------- ----\n",
      "2.21658771548 0.493304 0.488734 0.500885 0.495304 0.490734 0.502885    9\n"
     ]
    },
    {
     "name": "stderr",
     "output_type": "stream",
     "text": [
      "Parsing Hierarchy : 100%|████████████████| 8504/8504 [00:00<00:00, 19001.45it/s]\n",
      "yt : [INFO     ] 2022-07-19 10:47:21,841 Gathering a field list (this may take a moment.)\n",
      "yt : [WARNING  ] 2022-07-19 10:47:24,705 The stars particle filter already exists. Overriding.\n",
      "yt : [WARNING  ] 2022-07-19 10:47:24,705 The DM particle filter already exists. Overriding.\n",
      "yt : [INFO     ] 2022-07-19 10:47:24,806 Parameters: current_time              = 144.81652781829\n",
      "yt : [INFO     ] 2022-07-19 10:47:24,808 Parameters: domain_dimensions         = [256 256 256]\n",
      "yt : [INFO     ] 2022-07-19 10:47:24,810 Parameters: domain_left_edge          = [0. 0. 0.]\n",
      "yt : [INFO     ] 2022-07-19 10:47:24,813 Parameters: domain_right_edge         = [1. 1. 1.]\n",
      "yt : [INFO     ] 2022-07-19 10:47:24,814 Parameters: cosmological_simulation   = 1\n",
      "yt : [INFO     ] 2022-07-19 10:47:24,814 Parameters: current_redshift          = 2.1402570627129\n",
      "yt : [INFO     ] 2022-07-19 10:47:24,815 Parameters: omega_lambda              = 0.715\n",
      "yt : [INFO     ] 2022-07-19 10:47:24,816 Parameters: omega_matter              = 0.285\n",
      "yt : [INFO     ] 2022-07-19 10:47:24,816 Parameters: omega_radiation           = 0.0\n",
      "yt : [INFO     ] 2022-07-19 10:47:24,817 Parameters: hubble_constant           = 0.695\n"
     ]
    },
    {
     "name": "stdout",
     "output_type": "stream",
     "text": [
      "Pulling halo center from catalog file\n",
      "Opening snapshot /Volumes/TempestTimeSteps/DD0447/DD0447\n",
      "get_refine_box: using this location:      col1       col2     col3     col4     col5     col6     col7   col8\n",
      "------------- -------- -------- -------- -------- -------- -------- ----\n",
      "2.14025706271 0.493216 0.488457 0.500981 0.495216 0.490457 0.502981    9\n"
     ]
    },
    {
     "name": "stderr",
     "output_type": "stream",
     "text": [
      "Parsing Hierarchy : 100%|█████████████████| 8981/8981 [00:01<00:00, 5051.82it/s]\n",
      "yt : [INFO     ] 2022-07-19 10:47:26,975 Gathering a field list (this may take a moment.)\n",
      "yt : [WARNING  ] 2022-07-19 10:47:29,742 The stars particle filter already exists. Overriding.\n",
      "yt : [WARNING  ] 2022-07-19 10:47:29,742 The DM particle filter already exists. Overriding.\n",
      "yt : [INFO     ] 2022-07-19 10:47:29,838 Parameters: current_time              = 149.81652781829\n",
      "yt : [INFO     ] 2022-07-19 10:47:29,841 Parameters: domain_dimensions         = [256 256 256]\n",
      "yt : [INFO     ] 2022-07-19 10:47:29,844 Parameters: domain_left_edge          = [0. 0. 0.]\n",
      "yt : [INFO     ] 2022-07-19 10:47:29,847 Parameters: domain_right_edge         = [1. 1. 1.]\n",
      "yt : [INFO     ] 2022-07-19 10:47:29,848 Parameters: cosmological_simulation   = 1\n",
      "yt : [INFO     ] 2022-07-19 10:47:29,848 Parameters: current_redshift          = 2.0681134360516\n",
      "yt : [INFO     ] 2022-07-19 10:47:29,849 Parameters: omega_lambda              = 0.715\n",
      "yt : [INFO     ] 2022-07-19 10:47:29,850 Parameters: omega_matter              = 0.285\n",
      "yt : [INFO     ] 2022-07-19 10:47:29,851 Parameters: omega_radiation           = 0.0\n",
      "yt : [INFO     ] 2022-07-19 10:47:29,851 Parameters: hubble_constant           = 0.695\n"
     ]
    },
    {
     "name": "stdout",
     "output_type": "stream",
     "text": [
      "Pulling halo center from catalog file\n",
      "Opening snapshot /Volumes/TempestTimeSteps/DD0467/DD0467\n",
      "get_refine_box: using this location:      col1       col2     col3     col4    col5     col6     col7  col8\n",
      "------------- -------- -------- ------- -------- -------- ------- ----\n",
      "2.06811343605 0.493124 0.488177 0.50108 0.495124 0.490177 0.50308    9\n"
     ]
    },
    {
     "name": "stderr",
     "output_type": "stream",
     "text": [
      "Parsing Hierarchy : 100%|████████████████| 8955/8955 [00:00<00:00, 18774.09it/s]\n",
      "yt : [INFO     ] 2022-07-19 10:47:30,706 Gathering a field list (this may take a moment.)\n",
      "yt : [WARNING  ] 2022-07-19 10:47:33,440 The stars particle filter already exists. Overriding.\n",
      "yt : [WARNING  ] 2022-07-19 10:47:33,441 The DM particle filter already exists. Overriding.\n",
      "yt : [INFO     ] 2022-07-19 10:47:33,545 Parameters: current_time              = 154.8165043678\n",
      "yt : [INFO     ] 2022-07-19 10:47:33,548 Parameters: domain_dimensions         = [256 256 256]\n",
      "yt : [INFO     ] 2022-07-19 10:47:33,550 Parameters: domain_left_edge          = [0. 0. 0.]\n",
      "yt : [INFO     ] 2022-07-19 10:47:33,553 Parameters: domain_right_edge         = [1. 1. 1.]\n",
      "yt : [INFO     ] 2022-07-19 10:47:33,553 Parameters: cosmological_simulation   = 1\n",
      "yt : [INFO     ] 2022-07-19 10:47:33,554 Parameters: current_redshift          = 1.9997938414155\n",
      "yt : [INFO     ] 2022-07-19 10:47:33,554 Parameters: omega_lambda              = 0.715\n",
      "yt : [INFO     ] 2022-07-19 10:47:33,555 Parameters: omega_matter              = 0.285\n",
      "yt : [INFO     ] 2022-07-19 10:47:33,556 Parameters: omega_radiation           = 0.0\n",
      "yt : [INFO     ] 2022-07-19 10:47:33,556 Parameters: hubble_constant           = 0.695\n"
     ]
    },
    {
     "name": "stdout",
     "output_type": "stream",
     "text": [
      "Pulling halo center from catalog file\n",
      "Opening snapshot /Volumes/TempestTimeSteps/DD0487/DD0487\n",
      "get_refine_box: using this location:      col1       col2     col3     col4     col5     col6     col7   col8\n",
      "------------- -------- -------- -------- -------- -------- -------- ----\n",
      "1.99979384142 0.493035 0.487894 0.501194 0.495035 0.489894 0.503194    9\n"
     ]
    },
    {
     "name": "stderr",
     "output_type": "stream",
     "text": [
      "Parsing Hierarchy : 100%|████████████████| 7623/7623 [00:00<00:00, 18621.88it/s]\n",
      "yt : [INFO     ] 2022-07-19 10:47:34,318 Gathering a field list (this may take a moment.)\n",
      "yt : [WARNING  ] 2022-07-19 10:47:37,065 The stars particle filter already exists. Overriding.\n",
      "yt : [WARNING  ] 2022-07-19 10:47:37,066 The DM particle filter already exists. Overriding.\n",
      "yt : [INFO     ] 2022-07-19 10:47:37,162 Parameters: current_time              = 159.81652781829\n",
      "yt : [INFO     ] 2022-07-19 10:47:37,165 Parameters: domain_dimensions         = [256 256 256]\n",
      "yt : [INFO     ] 2022-07-19 10:47:37,167 Parameters: domain_left_edge          = [0. 0. 0.]\n",
      "yt : [INFO     ] 2022-07-19 10:47:37,169 Parameters: domain_right_edge         = [1. 1. 1.]\n",
      "yt : [INFO     ] 2022-07-19 10:47:37,170 Parameters: cosmological_simulation   = 1\n",
      "yt : [INFO     ] 2022-07-19 10:47:37,170 Parameters: current_redshift          = 1.9349759674732\n",
      "yt : [INFO     ] 2022-07-19 10:47:37,171 Parameters: omega_lambda              = 0.715\n",
      "yt : [INFO     ] 2022-07-19 10:47:37,172 Parameters: omega_matter              = 0.285\n",
      "yt : [INFO     ] 2022-07-19 10:47:37,172 Parameters: omega_radiation           = 0.0\n",
      "yt : [INFO     ] 2022-07-19 10:47:37,173 Parameters: hubble_constant           = 0.695\n"
     ]
    },
    {
     "name": "stdout",
     "output_type": "stream",
     "text": [
      "Pulling halo center from catalog file\n",
      "Opening snapshot /Volumes/TempestTimeSteps/DD0507/DD0507\n",
      "get_refine_box: using this location:      col1       col2     col3     col4     col5     col6     col7   col8\n",
      "------------- -------- -------- -------- -------- -------- -------- ----\n",
      "1.93497596747 0.492941 0.487618 0.501303 0.494941 0.489618 0.503303    9\n"
     ]
    },
    {
     "name": "stderr",
     "output_type": "stream",
     "text": [
      "Parsing Hierarchy : 100%|████████████████| 6466/6466 [00:00<00:00, 18906.54it/s]\n",
      "yt : [INFO     ] 2022-07-19 10:47:37,840 Gathering a field list (this may take a moment.)\n",
      "yt : [WARNING  ] 2022-07-19 10:47:40,715 The stars particle filter already exists. Overriding.\n",
      "yt : [WARNING  ] 2022-07-19 10:47:40,715 The DM particle filter already exists. Overriding.\n",
      "yt : [INFO     ] 2022-07-19 10:47:40,816 Parameters: current_time              = 164.81652781829\n",
      "yt : [INFO     ] 2022-07-19 10:47:40,818 Parameters: domain_dimensions         = [256 256 256]\n",
      "yt : [INFO     ] 2022-07-19 10:47:40,821 Parameters: domain_left_edge          = [0. 0. 0.]\n",
      "yt : [INFO     ] 2022-07-19 10:47:40,823 Parameters: domain_right_edge         = [1. 1. 1.]\n",
      "yt : [INFO     ] 2022-07-19 10:47:40,824 Parameters: cosmological_simulation   = 1\n",
      "yt : [INFO     ] 2022-07-19 10:47:40,824 Parameters: current_redshift          = 1.8733753371252\n",
      "yt : [INFO     ] 2022-07-19 10:47:40,825 Parameters: omega_lambda              = 0.715\n",
      "yt : [INFO     ] 2022-07-19 10:47:40,825 Parameters: omega_matter              = 0.285\n",
      "yt : [INFO     ] 2022-07-19 10:47:40,826 Parameters: omega_radiation           = 0.0\n",
      "yt : [INFO     ] 2022-07-19 10:47:40,827 Parameters: hubble_constant           = 0.695\n"
     ]
    },
    {
     "name": "stdout",
     "output_type": "stream",
     "text": [
      "Pulling halo center from catalog file\n",
      "Opening snapshot /Volumes/TempestTimeSteps/DD0527/DD0527\n",
      "get_refine_box: using this location:      col1       col2     col3     col4     col5     col6     col7   col8\n",
      "------------- -------- -------- -------- -------- -------- -------- ----\n",
      "1.87337533713 0.492848 0.487347 0.501397 0.494848 0.489347 0.503397    9\n"
     ]
    },
    {
     "name": "stderr",
     "output_type": "stream",
     "text": [
      "Parsing Hierarchy : 100%|█████████████████| 6005/6005 [00:01<00:00, 3187.86it/s]\n",
      "yt : [INFO     ] 2022-07-19 10:47:43,025 Gathering a field list (this may take a moment.)\n",
      "yt : [WARNING  ] 2022-07-19 10:47:46,582 The stars particle filter already exists. Overriding.\n",
      "yt : [WARNING  ] 2022-07-19 10:47:46,583 The DM particle filter already exists. Overriding.\n"
     ]
    },
    {
     "name": "stdout",
     "output_type": "stream",
     "text": [
      "Pulling halo center from catalog file\n",
      "Opening snapshot /Volumes/TempestTimeSteps/DD0547/DD0547\n"
     ]
    },
    {
     "name": "stderr",
     "output_type": "stream",
     "text": [
      "yt : [INFO     ] 2022-07-19 10:47:46,802 Parameters: current_time              = 169.81652781829\n",
      "yt : [INFO     ] 2022-07-19 10:47:46,804 Parameters: domain_dimensions         = [256 256 256]\n",
      "yt : [INFO     ] 2022-07-19 10:47:46,807 Parameters: domain_left_edge          = [0. 0. 0.]\n",
      "yt : [INFO     ] 2022-07-19 10:47:46,810 Parameters: domain_right_edge         = [1. 1. 1.]\n",
      "yt : [INFO     ] 2022-07-19 10:47:46,810 Parameters: cosmological_simulation   = 1\n",
      "yt : [INFO     ] 2022-07-19 10:47:46,811 Parameters: current_redshift          = 1.8147372203944\n",
      "yt : [INFO     ] 2022-07-19 10:47:46,811 Parameters: omega_lambda              = 0.715\n",
      "yt : [INFO     ] 2022-07-19 10:47:46,811 Parameters: omega_matter              = 0.285\n",
      "yt : [INFO     ] 2022-07-19 10:47:46,812 Parameters: omega_radiation           = 0.0\n",
      "yt : [INFO     ] 2022-07-19 10:47:46,812 Parameters: hubble_constant           = 0.695\n"
     ]
    },
    {
     "name": "stdout",
     "output_type": "stream",
     "text": [
      "get_refine_box: using this location:      col1       col2     col3    col4     col5     col6    col7   col8\n",
      "------------- -------- ------- -------- -------- ------- -------- ----\n",
      "1.81473722039 0.492754 0.48709 0.501477 0.494754 0.48909 0.503477    9\n"
     ]
    },
    {
     "name": "stderr",
     "output_type": "stream",
     "text": [
      "Parsing Hierarchy : 100%|████████████████| 6241/6241 [00:00<00:00, 18461.16it/s]\n",
      "yt : [INFO     ] 2022-07-19 10:47:47,404 Gathering a field list (this may take a moment.)\n",
      "yt : [WARNING  ] 2022-07-19 10:47:50,312 The stars particle filter already exists. Overriding.\n",
      "yt : [WARNING  ] 2022-07-19 10:47:50,312 The DM particle filter already exists. Overriding.\n",
      "yt : [INFO     ] 2022-07-19 10:47:50,409 Parameters: current_time              = 174.81652781829\n",
      "yt : [INFO     ] 2022-07-19 10:47:50,411 Parameters: domain_dimensions         = [256 256 256]\n",
      "yt : [INFO     ] 2022-07-19 10:47:50,413 Parameters: domain_left_edge          = [0. 0. 0.]\n",
      "yt : [INFO     ] 2022-07-19 10:47:50,416 Parameters: domain_right_edge         = [1. 1. 1.]\n",
      "yt : [INFO     ] 2022-07-19 10:47:50,416 Parameters: cosmological_simulation   = 1\n",
      "yt : [INFO     ] 2022-07-19 10:47:50,417 Parameters: current_redshift          = 1.7588340361195\n",
      "yt : [INFO     ] 2022-07-19 10:47:50,419 Parameters: omega_lambda              = 0.715\n",
      "yt : [INFO     ] 2022-07-19 10:47:50,420 Parameters: omega_matter              = 0.285\n",
      "yt : [INFO     ] 2022-07-19 10:47:50,421 Parameters: omega_radiation           = 0.0\n",
      "yt : [INFO     ] 2022-07-19 10:47:50,422 Parameters: hubble_constant           = 0.695\n"
     ]
    },
    {
     "name": "stdout",
     "output_type": "stream",
     "text": [
      "Pulling halo center from catalog file\n",
      "Opening snapshot /Volumes/TempestTimeSteps/DD0567/DD0567\n",
      "get_refine_box: using this location:      col1       col2     col3     col4     col5     col6     col7   col8\n",
      "------------- -------- -------- -------- -------- -------- -------- ----\n",
      "1.75883403612 0.492716 0.486828 0.501538 0.494716 0.488828 0.503538    9\n"
     ]
    },
    {
     "name": "stderr",
     "output_type": "stream",
     "text": [
      "Parsing Hierarchy : 100%|████████████████| 6668/6668 [00:00<00:00, 17866.62it/s]\n",
      "yt : [INFO     ] 2022-07-19 10:47:51,122 Gathering a field list (this may take a moment.)\n",
      "yt : [WARNING  ] 2022-07-19 10:47:53,972 The stars particle filter already exists. Overriding.\n",
      "yt : [WARNING  ] 2022-07-19 10:47:53,973 The DM particle filter already exists. Overriding.\n"
     ]
    },
    {
     "name": "stdout",
     "output_type": "stream",
     "text": [
      "Pulling halo center from catalog file\n",
      "Opening snapshot /Volumes/TempestTimeSteps/DD0587/DD0587\n"
     ]
    },
    {
     "name": "stderr",
     "output_type": "stream",
     "text": [
      "yt : [INFO     ] 2022-07-19 10:47:54,152 Parameters: current_time              = 179.81652781829\n",
      "yt : [INFO     ] 2022-07-19 10:47:54,154 Parameters: domain_dimensions         = [256 256 256]\n",
      "yt : [INFO     ] 2022-07-19 10:47:54,157 Parameters: domain_left_edge          = [0. 0. 0.]\n",
      "yt : [INFO     ] 2022-07-19 10:47:54,159 Parameters: domain_right_edge         = [1. 1. 1.]\n",
      "yt : [INFO     ] 2022-07-19 10:47:54,160 Parameters: cosmological_simulation   = 1\n",
      "yt : [INFO     ] 2022-07-19 10:47:54,160 Parameters: current_redshift          = 1.7054615401925\n",
      "yt : [INFO     ] 2022-07-19 10:47:54,161 Parameters: omega_lambda              = 0.715\n",
      "yt : [INFO     ] 2022-07-19 10:47:54,161 Parameters: omega_matter              = 0.285\n",
      "yt : [INFO     ] 2022-07-19 10:47:54,161 Parameters: omega_radiation           = 0.0\n",
      "yt : [INFO     ] 2022-07-19 10:47:54,162 Parameters: hubble_constant           = 0.695\n"
     ]
    },
    {
     "name": "stdout",
     "output_type": "stream",
     "text": [
      "get_refine_box: using this location:      col1       col2     col3    col4     col5     col6    col7   col8\n",
      "------------- -------- ------- -------- -------- ------- -------- ----\n",
      "1.70546154019 0.492663 0.48654 0.501635 0.494663 0.48854 0.503635    9\n"
     ]
    },
    {
     "name": "stderr",
     "output_type": "stream",
     "text": [
      "Parsing Hierarchy : 100%|████████████████| 7018/7018 [00:00<00:00, 18490.41it/s]\n",
      "yt : [INFO     ] 2022-07-19 10:47:54,803 Gathering a field list (this may take a moment.)\n",
      "yt : [WARNING  ] 2022-07-19 10:47:57,548 The stars particle filter already exists. Overriding.\n",
      "yt : [WARNING  ] 2022-07-19 10:47:57,549 The DM particle filter already exists. Overriding.\n"
     ]
    },
    {
     "name": "stdout",
     "output_type": "stream",
     "text": [
      "Pulling halo center from catalog file\n",
      "Opening snapshot /Volumes/TempestTimeSteps/DD0607/DD0607\n"
     ]
    },
    {
     "name": "stderr",
     "output_type": "stream",
     "text": [
      "yt : [INFO     ] 2022-07-19 10:47:57,762 Parameters: current_time              = 184.81652781829\n",
      "yt : [INFO     ] 2022-07-19 10:47:57,765 Parameters: domain_dimensions         = [256 256 256]\n",
      "yt : [INFO     ] 2022-07-19 10:47:57,767 Parameters: domain_left_edge          = [0. 0. 0.]\n",
      "yt : [INFO     ] 2022-07-19 10:47:57,770 Parameters: domain_right_edge         = [1. 1. 1.]\n",
      "yt : [INFO     ] 2022-07-19 10:47:57,770 Parameters: cosmological_simulation   = 1\n",
      "yt : [INFO     ] 2022-07-19 10:47:57,771 Parameters: current_redshift          = 1.654435864871\n",
      "yt : [INFO     ] 2022-07-19 10:47:57,771 Parameters: omega_lambda              = 0.715\n",
      "yt : [INFO     ] 2022-07-19 10:47:57,772 Parameters: omega_matter              = 0.285\n",
      "yt : [INFO     ] 2022-07-19 10:47:57,772 Parameters: omega_radiation           = 0.0\n",
      "yt : [INFO     ] 2022-07-19 10:47:57,773 Parameters: hubble_constant           = 0.695\n"
     ]
    },
    {
     "name": "stdout",
     "output_type": "stream",
     "text": [
      "get_refine_box: using this location:      col1       col2     col3     col4     col5     col6     col7   col8\n",
      "------------- -------- -------- -------- -------- -------- -------- ----\n",
      "1.65443586487 0.492592 0.486264 0.501763 0.494592 0.488264 0.503763    9\n"
     ]
    },
    {
     "name": "stderr",
     "output_type": "stream",
     "text": [
      "Parsing Hierarchy : 100%|████████████████| 6646/6646 [00:00<00:00, 18910.29it/s]\n",
      "yt : [INFO     ] 2022-07-19 10:47:58,384 Gathering a field list (this may take a moment.)\n",
      "yt : [WARNING  ] 2022-07-19 10:48:01,258 The stars particle filter already exists. Overriding.\n",
      "yt : [WARNING  ] 2022-07-19 10:48:01,258 The DM particle filter already exists. Overriding.\n"
     ]
    },
    {
     "name": "stdout",
     "output_type": "stream",
     "text": [
      "Pulling halo center from catalog file\n",
      "Opening snapshot /Volumes/TempestTimeSteps/DD0627/DD0627\n"
     ]
    },
    {
     "name": "stderr",
     "output_type": "stream",
     "text": [
      "yt : [INFO     ] 2022-07-19 10:48:01,428 Parameters: current_time              = 189.81652781829\n",
      "yt : [INFO     ] 2022-07-19 10:48:01,432 Parameters: domain_dimensions         = [256 256 256]\n",
      "yt : [INFO     ] 2022-07-19 10:48:01,435 Parameters: domain_left_edge          = [0. 0. 0.]\n",
      "yt : [INFO     ] 2022-07-19 10:48:01,438 Parameters: domain_right_edge         = [1. 1. 1.]\n",
      "yt : [INFO     ] 2022-07-19 10:48:01,439 Parameters: cosmological_simulation   = 1\n",
      "yt : [INFO     ] 2022-07-19 10:48:01,439 Parameters: current_redshift          = 1.6055910020775\n",
      "yt : [INFO     ] 2022-07-19 10:48:01,440 Parameters: omega_lambda              = 0.715\n",
      "yt : [INFO     ] 2022-07-19 10:48:01,440 Parameters: omega_matter              = 0.285\n",
      "yt : [INFO     ] 2022-07-19 10:48:01,441 Parameters: omega_radiation           = 0.0\n",
      "yt : [INFO     ] 2022-07-19 10:48:01,441 Parameters: hubble_constant           = 0.695\n"
     ]
    },
    {
     "name": "stdout",
     "output_type": "stream",
     "text": [
      "get_refine_box: using this location:      col1       col2     col3     col4     col5     col6     col7   col8\n",
      "------------- -------- -------- -------- -------- -------- -------- ----\n",
      "1.60559100208 0.492518 0.485987 0.501896 0.494518 0.487987 0.503896    9\n"
     ]
    },
    {
     "name": "stderr",
     "output_type": "stream",
     "text": [
      "Parsing Hierarchy : 100%|████████████████| 7439/7439 [00:00<00:00, 18601.69it/s]\n",
      "yt : [INFO     ] 2022-07-19 10:48:02,108 Gathering a field list (this may take a moment.)\n",
      "yt : [WARNING  ] 2022-07-19 10:48:04,770 The stars particle filter already exists. Overriding.\n",
      "yt : [WARNING  ] 2022-07-19 10:48:04,771 The DM particle filter already exists. Overriding.\n"
     ]
    },
    {
     "name": "stdout",
     "output_type": "stream",
     "text": [
      "Pulling halo center from catalog file\n",
      "Opening snapshot /Volumes/TempestTimeSteps/DD0647/DD0647\n"
     ]
    },
    {
     "name": "stderr",
     "output_type": "stream",
     "text": [
      "yt : [INFO     ] 2022-07-19 10:48:04,941 Parameters: current_time              = 194.81652781829\n",
      "yt : [INFO     ] 2022-07-19 10:48:04,944 Parameters: domain_dimensions         = [256 256 256]\n",
      "yt : [INFO     ] 2022-07-19 10:48:04,946 Parameters: domain_left_edge          = [0. 0. 0.]\n",
      "yt : [INFO     ] 2022-07-19 10:48:04,949 Parameters: domain_right_edge         = [1. 1. 1.]\n",
      "yt : [INFO     ] 2022-07-19 10:48:04,950 Parameters: cosmological_simulation   = 1\n",
      "yt : [INFO     ] 2022-07-19 10:48:04,950 Parameters: current_redshift          = 1.5587766543771\n",
      "yt : [INFO     ] 2022-07-19 10:48:04,951 Parameters: omega_lambda              = 0.715\n",
      "yt : [INFO     ] 2022-07-19 10:48:04,952 Parameters: omega_matter              = 0.285\n",
      "yt : [INFO     ] 2022-07-19 10:48:04,952 Parameters: omega_radiation           = 0.0\n",
      "yt : [INFO     ] 2022-07-19 10:48:04,953 Parameters: hubble_constant           = 0.695\n"
     ]
    },
    {
     "name": "stdout",
     "output_type": "stream",
     "text": [
      "get_refine_box: using this location:      col1       col2     col3     col4     col5     col6     col7   col8\n",
      "------------- -------- -------- -------- -------- -------- -------- ----\n",
      "1.55877665438 0.492451 0.485703 0.502037 0.494451 0.487703 0.504037    9\n"
     ]
    },
    {
     "name": "stderr",
     "output_type": "stream",
     "text": [
      "Parsing Hierarchy : 100%|█████████████████| 7437/7437 [00:02<00:00, 3229.14it/s]\n",
      "yt : [INFO     ] 2022-07-19 10:48:07,528 Gathering a field list (this may take a moment.)\n",
      "yt : [WARNING  ] 2022-07-19 10:48:10,242 The stars particle filter already exists. Overriding.\n",
      "yt : [WARNING  ] 2022-07-19 10:48:10,242 The DM particle filter already exists. Overriding.\n"
     ]
    },
    {
     "name": "stdout",
     "output_type": "stream",
     "text": [
      "Pulling halo center from catalog file\n",
      "Opening snapshot /Volumes/TempestTimeSteps/DD0667/DD0667\n"
     ]
    },
    {
     "name": "stderr",
     "output_type": "stream",
     "text": [
      "yt : [INFO     ] 2022-07-19 10:48:10,401 Parameters: current_time              = 199.81652781829\n",
      "yt : [INFO     ] 2022-07-19 10:48:10,405 Parameters: domain_dimensions         = [256 256 256]\n",
      "yt : [INFO     ] 2022-07-19 10:48:10,408 Parameters: domain_left_edge          = [0. 0. 0.]\n",
      "yt : [INFO     ] 2022-07-19 10:48:10,411 Parameters: domain_right_edge         = [1. 1. 1.]\n",
      "yt : [INFO     ] 2022-07-19 10:48:10,412 Parameters: cosmological_simulation   = 1\n",
      "yt : [INFO     ] 2022-07-19 10:48:10,412 Parameters: current_redshift          = 1.5138563920287\n",
      "yt : [INFO     ] 2022-07-19 10:48:10,413 Parameters: omega_lambda              = 0.715\n",
      "yt : [INFO     ] 2022-07-19 10:48:10,414 Parameters: omega_matter              = 0.285\n",
      "yt : [INFO     ] 2022-07-19 10:48:10,415 Parameters: omega_radiation           = 0.0\n",
      "yt : [INFO     ] 2022-07-19 10:48:10,415 Parameters: hubble_constant           = 0.695\n"
     ]
    },
    {
     "name": "stdout",
     "output_type": "stream",
     "text": [
      "get_refine_box: using this location:      col1       col2     col3     col4     col5     col6     col7   col8\n",
      "------------- -------- -------- -------- -------- -------- -------- ----\n",
      "1.51385639203 0.492384 0.485436 0.502152 0.494384 0.487436 0.504152    9\n"
     ]
    },
    {
     "name": "stderr",
     "output_type": "stream",
     "text": [
      "Parsing Hierarchy : 100%|████████████████| 8266/8266 [00:00<00:00, 18934.96it/s]\n",
      "yt : [INFO     ] 2022-07-19 10:48:11,136 Gathering a field list (this may take a moment.)\n",
      "yt : [WARNING  ] 2022-07-19 10:48:13,830 The stars particle filter already exists. Overriding.\n",
      "yt : [WARNING  ] 2022-07-19 10:48:13,831 The DM particle filter already exists. Overriding.\n"
     ]
    },
    {
     "name": "stdout",
     "output_type": "stream",
     "text": [
      "Pulling halo center from catalog file\n",
      "Opening snapshot /Volumes/TempestTimeSteps/DD0687/DD0687\n"
     ]
    },
    {
     "name": "stderr",
     "output_type": "stream",
     "text": [
      "yt : [INFO     ] 2022-07-19 10:48:14,002 Parameters: current_time              = 204.81652781829\n",
      "yt : [INFO     ] 2022-07-19 10:48:14,005 Parameters: domain_dimensions         = [256 256 256]\n",
      "yt : [INFO     ] 2022-07-19 10:48:14,007 Parameters: domain_left_edge          = [0. 0. 0.]\n",
      "yt : [INFO     ] 2022-07-19 10:48:14,009 Parameters: domain_right_edge         = [1. 1. 1.]\n",
      "yt : [INFO     ] 2022-07-19 10:48:14,010 Parameters: cosmological_simulation   = 1\n",
      "yt : [INFO     ] 2022-07-19 10:48:14,011 Parameters: current_redshift          = 1.4707060660811\n",
      "yt : [INFO     ] 2022-07-19 10:48:14,011 Parameters: omega_lambda              = 0.715\n",
      "yt : [INFO     ] 2022-07-19 10:48:14,012 Parameters: omega_matter              = 0.285\n",
      "yt : [INFO     ] 2022-07-19 10:48:14,013 Parameters: omega_radiation           = 0.0\n",
      "yt : [INFO     ] 2022-07-19 10:48:14,014 Parameters: hubble_constant           = 0.695\n"
     ]
    },
    {
     "name": "stdout",
     "output_type": "stream",
     "text": [
      "get_refine_box: using this location:      col1       col2     col3     col4    col5     col6     col7  col8\n",
      "------------- -------- -------- ------- -------- -------- ------- ----\n",
      "1.47070606608 0.492346 0.485169 0.50227 0.494346 0.487169 0.50427    9\n"
     ]
    },
    {
     "name": "stderr",
     "output_type": "stream",
     "text": [
      "Parsing Hierarchy : 100%|████████████████| 8638/8638 [00:00<00:00, 18228.28it/s]\n",
      "yt : [INFO     ] 2022-07-19 10:48:14,811 Gathering a field list (this may take a moment.)\n",
      "yt : [WARNING  ] 2022-07-19 10:48:17,646 The stars particle filter already exists. Overriding.\n",
      "yt : [WARNING  ] 2022-07-19 10:48:17,646 The DM particle filter already exists. Overriding.\n"
     ]
    },
    {
     "name": "stdout",
     "output_type": "stream",
     "text": [
      "Pulling halo center from catalog file\n",
      "Opening snapshot /Volumes/TempestTimeSteps/DD0707/DD0707\n"
     ]
    },
    {
     "name": "stderr",
     "output_type": "stream",
     "text": [
      "yt : [INFO     ] 2022-07-19 10:48:17,803 Parameters: current_time              = 209.81652781829\n",
      "yt : [INFO     ] 2022-07-19 10:48:17,806 Parameters: domain_dimensions         = [256 256 256]\n",
      "yt : [INFO     ] 2022-07-19 10:48:17,810 Parameters: domain_left_edge          = [0. 0. 0.]\n",
      "yt : [INFO     ] 2022-07-19 10:48:17,812 Parameters: domain_right_edge         = [1. 1. 1.]\n",
      "yt : [INFO     ] 2022-07-19 10:48:17,813 Parameters: cosmological_simulation   = 1\n",
      "yt : [INFO     ] 2022-07-19 10:48:17,814 Parameters: current_redshift          = 1.4292124366682\n",
      "yt : [INFO     ] 2022-07-19 10:48:17,814 Parameters: omega_lambda              = 0.715\n",
      "yt : [INFO     ] 2022-07-19 10:48:17,815 Parameters: omega_matter              = 0.285\n",
      "yt : [INFO     ] 2022-07-19 10:48:17,816 Parameters: omega_radiation           = 0.0\n",
      "yt : [INFO     ] 2022-07-19 10:48:17,816 Parameters: hubble_constant           = 0.695\n"
     ]
    },
    {
     "name": "stdout",
     "output_type": "stream",
     "text": [
      "get_refine_box: using this location:      col1       col2     col3     col4     col5     col6     col7   col8\n",
      "------------- -------- -------- -------- -------- -------- -------- ----\n",
      "1.42921243667 0.492291 0.484911 0.502394 0.494291 0.486911 0.504394    9\n"
     ]
    },
    {
     "name": "stderr",
     "output_type": "stream",
     "text": [
      "Parsing Hierarchy : 100%|████████████████| 8418/8418 [00:00<00:00, 18713.32it/s]\n",
      "yt : [INFO     ] 2022-07-19 10:48:18,560 Gathering a field list (this may take a moment.)\n",
      "yt : [WARNING  ] 2022-07-19 10:48:21,334 The stars particle filter already exists. Overriding.\n",
      "yt : [WARNING  ] 2022-07-19 10:48:21,334 The DM particle filter already exists. Overriding.\n"
     ]
    },
    {
     "name": "stdout",
     "output_type": "stream",
     "text": [
      "Pulling halo center from catalog file\n",
      "Opening snapshot /Volumes/TempestTimeSteps/DD0727/DD0727\n"
     ]
    },
    {
     "name": "stderr",
     "output_type": "stream",
     "text": [
      "yt : [INFO     ] 2022-07-19 10:48:21,511 Parameters: current_time              = 214.81652781829\n",
      "yt : [INFO     ] 2022-07-19 10:48:21,513 Parameters: domain_dimensions         = [256 256 256]\n",
      "yt : [INFO     ] 2022-07-19 10:48:21,516 Parameters: domain_left_edge          = [0. 0. 0.]\n",
      "yt : [INFO     ] 2022-07-19 10:48:21,518 Parameters: domain_right_edge         = [1. 1. 1.]\n",
      "yt : [INFO     ] 2022-07-19 10:48:21,519 Parameters: cosmological_simulation   = 1\n",
      "yt : [INFO     ] 2022-07-19 10:48:21,519 Parameters: current_redshift          = 1.3892719829729\n",
      "yt : [INFO     ] 2022-07-19 10:48:21,520 Parameters: omega_lambda              = 0.715\n",
      "yt : [INFO     ] 2022-07-19 10:48:21,521 Parameters: omega_matter              = 0.285\n",
      "yt : [INFO     ] 2022-07-19 10:48:21,522 Parameters: omega_radiation           = 0.0\n",
      "yt : [INFO     ] 2022-07-19 10:48:21,523 Parameters: hubble_constant           = 0.695\n"
     ]
    },
    {
     "name": "stdout",
     "output_type": "stream",
     "text": [
      "get_refine_box: using this location:      col1       col2     col3     col4     col5     col6     col7   col8\n",
      "------------- -------- -------- -------- -------- -------- -------- ----\n",
      "1.38927198297 0.492228 0.484667 0.502503 0.494228 0.486667 0.504503    9\n"
     ]
    },
    {
     "name": "stderr",
     "output_type": "stream",
     "text": [
      "Parsing Hierarchy : 100%|████████████████| 8146/8146 [00:00<00:00, 18773.31it/s]\n",
      "yt : [INFO     ] 2022-07-19 10:48:22,231 Gathering a field list (this may take a moment.)\n",
      "yt : [WARNING  ] 2022-07-19 10:48:25,104 The stars particle filter already exists. Overriding.\n",
      "yt : [WARNING  ] 2022-07-19 10:48:25,105 The DM particle filter already exists. Overriding.\n"
     ]
    },
    {
     "name": "stdout",
     "output_type": "stream",
     "text": [
      "Pulling halo center from catalog file\n",
      "Opening snapshot /Volumes/TempestTimeSteps/DD0747/DD0747\n"
     ]
    },
    {
     "name": "stderr",
     "output_type": "stream",
     "text": [
      "yt : [INFO     ] 2022-07-19 10:48:25,311 Parameters: current_time              = 219.81652781829\n",
      "yt : [INFO     ] 2022-07-19 10:48:25,313 Parameters: domain_dimensions         = [256 256 256]\n",
      "yt : [INFO     ] 2022-07-19 10:48:25,316 Parameters: domain_left_edge          = [0. 0. 0.]\n",
      "yt : [INFO     ] 2022-07-19 10:48:25,319 Parameters: domain_right_edge         = [1. 1. 1.]\n",
      "yt : [INFO     ] 2022-07-19 10:48:25,320 Parameters: cosmological_simulation   = 1\n",
      "yt : [INFO     ] 2022-07-19 10:48:25,321 Parameters: current_redshift          = 1.3507898672001\n",
      "yt : [INFO     ] 2022-07-19 10:48:25,322 Parameters: omega_lambda              = 0.715\n",
      "yt : [INFO     ] 2022-07-19 10:48:25,322 Parameters: omega_matter              = 0.285\n",
      "yt : [INFO     ] 2022-07-19 10:48:25,323 Parameters: omega_radiation           = 0.0\n",
      "yt : [INFO     ] 2022-07-19 10:48:25,324 Parameters: hubble_constant           = 0.695\n"
     ]
    },
    {
     "name": "stdout",
     "output_type": "stream",
     "text": [
      "get_refine_box: using this location:     col1       col2     col3     col4     col5     col6     col7   col8\n",
      "------------ -------- -------- -------- -------- -------- -------- ----\n",
      "1.3507898672 0.492157 0.484423 0.502606 0.494157 0.486423 0.504606    9\n"
     ]
    },
    {
     "name": "stderr",
     "output_type": "stream",
     "text": [
      "Parsing Hierarchy : 100%|████████████████| 8058/8058 [00:00<00:00, 18732.92it/s]\n",
      "yt : [INFO     ] 2022-07-19 10:48:26,066 Gathering a field list (this may take a moment.)\n",
      "yt : [WARNING  ] 2022-07-19 10:48:28,858 The stars particle filter already exists. Overriding.\n",
      "yt : [WARNING  ] 2022-07-19 10:48:28,859 The DM particle filter already exists. Overriding.\n"
     ]
    },
    {
     "name": "stdout",
     "output_type": "stream",
     "text": [
      "Pulling halo center from catalog file\n",
      "Opening snapshot /Volumes/TempestTimeSteps/DD0767/DD0767\n"
     ]
    },
    {
     "name": "stderr",
     "output_type": "stream",
     "text": [
      "yt : [INFO     ] 2022-07-19 10:48:29,028 Parameters: current_time              = 224.81652781829\n",
      "yt : [INFO     ] 2022-07-19 10:48:29,031 Parameters: domain_dimensions         = [256 256 256]\n",
      "yt : [INFO     ] 2022-07-19 10:48:29,037 Parameters: domain_left_edge          = [0. 0. 0.]\n",
      "yt : [INFO     ] 2022-07-19 10:48:29,039 Parameters: domain_right_edge         = [1. 1. 1.]\n",
      "yt : [INFO     ] 2022-07-19 10:48:29,040 Parameters: cosmological_simulation   = 1\n",
      "yt : [INFO     ] 2022-07-19 10:48:29,041 Parameters: current_redshift          = 1.3136790296363\n",
      "yt : [INFO     ] 2022-07-19 10:48:29,042 Parameters: omega_lambda              = 0.715\n",
      "yt : [INFO     ] 2022-07-19 10:48:29,042 Parameters: omega_matter              = 0.285\n",
      "yt : [INFO     ] 2022-07-19 10:48:29,043 Parameters: omega_radiation           = 0.0\n",
      "yt : [INFO     ] 2022-07-19 10:48:29,043 Parameters: hubble_constant           = 0.695\n"
     ]
    },
    {
     "name": "stdout",
     "output_type": "stream",
     "text": [
      "get_refine_box: using this location:      col1       col2     col3     col4     col5     col6     col7   col8\n",
      "------------- -------- -------- -------- -------- -------- -------- ----\n",
      "1.31367902964 0.492089 0.484183 0.502695 0.494089 0.486183 0.504695    9\n"
     ]
    },
    {
     "name": "stderr",
     "output_type": "stream",
     "text": [
      "Parsing Hierarchy : 100%|█████████████████| 7829/7829 [00:02<00:00, 2866.56it/s]\n",
      "yt : [INFO     ] 2022-07-19 10:48:32,059 Gathering a field list (this may take a moment.)\n",
      "yt : [WARNING  ] 2022-07-19 10:48:34,819 The stars particle filter already exists. Overriding.\n",
      "yt : [WARNING  ] 2022-07-19 10:48:34,820 The DM particle filter already exists. Overriding.\n"
     ]
    },
    {
     "name": "stdout",
     "output_type": "stream",
     "text": [
      "Pulling halo center from catalog file\n",
      "Opening snapshot /Volumes/TempestTimeSteps/DD0787/DD0787\n"
     ]
    },
    {
     "name": "stderr",
     "output_type": "stream",
     "text": [
      "yt : [INFO     ] 2022-07-19 10:48:35,015 Parameters: current_time              = 229.81652781829\n",
      "yt : [INFO     ] 2022-07-19 10:48:35,018 Parameters: domain_dimensions         = [256 256 256]\n",
      "yt : [INFO     ] 2022-07-19 10:48:35,020 Parameters: domain_left_edge          = [0. 0. 0.]\n",
      "yt : [INFO     ] 2022-07-19 10:48:35,022 Parameters: domain_right_edge         = [1. 1. 1.]\n",
      "yt : [INFO     ] 2022-07-19 10:48:35,023 Parameters: cosmological_simulation   = 1\n",
      "yt : [INFO     ] 2022-07-19 10:48:35,023 Parameters: current_redshift          = 1.2778593957079\n",
      "yt : [INFO     ] 2022-07-19 10:48:35,024 Parameters: omega_lambda              = 0.715\n",
      "yt : [INFO     ] 2022-07-19 10:48:35,025 Parameters: omega_matter              = 0.285\n",
      "yt : [INFO     ] 2022-07-19 10:48:35,026 Parameters: omega_radiation           = 0.0\n",
      "yt : [INFO     ] 2022-07-19 10:48:35,026 Parameters: hubble_constant           = 0.695\n"
     ]
    },
    {
     "name": "stdout",
     "output_type": "stream",
     "text": [
      "get_refine_box: using this location:      col1       col2     col3     col4     col5     col6     col7   col8\n",
      "------------- -------- -------- -------- -------- -------- -------- ----\n",
      "1.27785939571 0.492022 0.483956 0.502785 0.494022 0.485956 0.504785    9\n"
     ]
    },
    {
     "name": "stderr",
     "output_type": "stream",
     "text": [
      "Parsing Hierarchy : 100%|████████████████| 8132/8132 [00:00<00:00, 18876.47it/s]\n",
      "yt : [INFO     ] 2022-07-19 10:48:35,753 Gathering a field list (this may take a moment.)\n",
      "yt : [WARNING  ] 2022-07-19 10:48:38,487 The stars particle filter already exists. Overriding.\n",
      "yt : [WARNING  ] 2022-07-19 10:48:38,488 The DM particle filter already exists. Overriding.\n"
     ]
    },
    {
     "name": "stdout",
     "output_type": "stream",
     "text": [
      "Pulling halo center from catalog file\n",
      "Opening snapshot /Volumes/TempestTimeSteps/DD0807/DD0807\n"
     ]
    },
    {
     "name": "stderr",
     "output_type": "stream",
     "text": [
      "yt : [INFO     ] 2022-07-19 10:48:38,689 Parameters: current_time              = 234.81652781829\n",
      "yt : [INFO     ] 2022-07-19 10:48:38,692 Parameters: domain_dimensions         = [256 256 256]\n",
      "yt : [INFO     ] 2022-07-19 10:48:38,696 Parameters: domain_left_edge          = [0. 0. 0.]\n",
      "yt : [INFO     ] 2022-07-19 10:48:38,699 Parameters: domain_right_edge         = [1. 1. 1.]\n",
      "yt : [INFO     ] 2022-07-19 10:48:38,699 Parameters: cosmological_simulation   = 1\n",
      "yt : [INFO     ] 2022-07-19 10:48:38,700 Parameters: current_redshift          = 1.2432571790813\n",
      "yt : [INFO     ] 2022-07-19 10:48:38,700 Parameters: omega_lambda              = 0.715\n",
      "yt : [INFO     ] 2022-07-19 10:48:38,701 Parameters: omega_matter              = 0.285\n",
      "yt : [INFO     ] 2022-07-19 10:48:38,701 Parameters: omega_radiation           = 0.0\n",
      "yt : [INFO     ] 2022-07-19 10:48:38,702 Parameters: hubble_constant           = 0.695\n"
     ]
    },
    {
     "name": "stdout",
     "output_type": "stream",
     "text": [
      "get_refine_box: using this location:      col1       col2     col3     col4     col5     col6     col7   col8\n",
      "------------- -------- -------- -------- -------- -------- -------- ----\n",
      "1.24325717908 0.491957 0.483733 0.502879 0.493957 0.485733 0.504879    9\n"
     ]
    },
    {
     "name": "stderr",
     "output_type": "stream",
     "text": [
      "Parsing Hierarchy : 100%|████████████████| 7374/7374 [00:00<00:00, 18568.78it/s]\n",
      "yt : [INFO     ] 2022-07-19 10:48:39,375 Gathering a field list (this may take a moment.)\n",
      "yt : [WARNING  ] 2022-07-19 10:48:42,185 The stars particle filter already exists. Overriding.\n",
      "yt : [WARNING  ] 2022-07-19 10:48:42,186 The DM particle filter already exists. Overriding.\n"
     ]
    },
    {
     "name": "stdout",
     "output_type": "stream",
     "text": [
      "Pulling halo center from catalog file\n",
      "Opening snapshot /Volumes/TempestTimeSteps/DD0827/DD0827\n"
     ]
    },
    {
     "name": "stderr",
     "output_type": "stream",
     "text": [
      "yt : [INFO     ] 2022-07-19 10:48:42,356 Parameters: current_time              = 239.81652781829\n",
      "yt : [INFO     ] 2022-07-19 10:48:42,358 Parameters: domain_dimensions         = [256 256 256]\n",
      "yt : [INFO     ] 2022-07-19 10:48:42,361 Parameters: domain_left_edge          = [0. 0. 0.]\n",
      "yt : [INFO     ] 2022-07-19 10:48:42,365 Parameters: domain_right_edge         = [1. 1. 1.]\n",
      "yt : [INFO     ] 2022-07-19 10:48:42,366 Parameters: cosmological_simulation   = 1\n",
      "yt : [INFO     ] 2022-07-19 10:48:42,366 Parameters: current_redshift          = 1.2098042674053\n",
      "yt : [INFO     ] 2022-07-19 10:48:42,367 Parameters: omega_lambda              = 0.715\n",
      "yt : [INFO     ] 2022-07-19 10:48:42,367 Parameters: omega_matter              = 0.285\n",
      "yt : [INFO     ] 2022-07-19 10:48:42,368 Parameters: omega_radiation           = 0.0\n",
      "yt : [INFO     ] 2022-07-19 10:48:42,368 Parameters: hubble_constant           = 0.695\n"
     ]
    },
    {
     "name": "stdout",
     "output_type": "stream",
     "text": [
      "get_refine_box: using this location:      col1       col2     col3     col4     col5     col6     col7   col8\n",
      "------------- -------- -------- -------- -------- -------- -------- ----\n",
      "1.20980426741 0.491888 0.483515 0.502974 0.493888 0.485515 0.504974    9\n"
     ]
    },
    {
     "name": "stderr",
     "output_type": "stream",
     "text": [
      "Parsing Hierarchy : 100%|████████████████| 6935/6935 [00:00<00:00, 18704.17it/s]\n",
      "yt : [INFO     ] 2022-07-19 10:48:42,995 Gathering a field list (this may take a moment.)\n",
      "yt : [WARNING  ] 2022-07-19 10:48:45,893 The stars particle filter already exists. Overriding.\n",
      "yt : [WARNING  ] 2022-07-19 10:48:45,894 The DM particle filter already exists. Overriding.\n",
      "yt : [INFO     ] 2022-07-19 10:48:45,999 Parameters: current_time              = 244.81652781829\n",
      "yt : [INFO     ] 2022-07-19 10:48:46,001 Parameters: domain_dimensions         = [256 256 256]\n",
      "yt : [INFO     ] 2022-07-19 10:48:46,003 Parameters: domain_left_edge          = [0. 0. 0.]\n",
      "yt : [INFO     ] 2022-07-19 10:48:46,006 Parameters: domain_right_edge         = [1. 1. 1.]\n",
      "yt : [INFO     ] 2022-07-19 10:48:46,006 Parameters: cosmological_simulation   = 1\n",
      "yt : [INFO     ] 2022-07-19 10:48:46,007 Parameters: current_redshift          = 1.1774376794027\n",
      "yt : [INFO     ] 2022-07-19 10:48:46,007 Parameters: omega_lambda              = 0.715\n",
      "yt : [INFO     ] 2022-07-19 10:48:46,008 Parameters: omega_matter              = 0.285\n",
      "yt : [INFO     ] 2022-07-19 10:48:46,009 Parameters: omega_radiation           = 0.0\n",
      "yt : [INFO     ] 2022-07-19 10:48:46,009 Parameters: hubble_constant           = 0.695\n"
     ]
    },
    {
     "name": "stdout",
     "output_type": "stream",
     "text": [
      "Pulling halo center from catalog file\n",
      "Opening snapshot /Volumes/TempestTimeSteps/DD0847/DD0847\n",
      "get_refine_box: using this location:     col1       col2     col3    col4     col5     col6    col7   col8\n",
      "------------ -------- ------- -------- -------- ------- -------- ----\n",
      "1.1774376794 0.491816 0.48329 0.503077 0.493816 0.48529 0.505077    9\n"
     ]
    },
    {
     "name": "stderr",
     "output_type": "stream",
     "text": [
      "Parsing Hierarchy : 100%|████████████████| 6688/6688 [00:00<00:00, 18722.52it/s]\n",
      "yt : [INFO     ] 2022-07-19 10:48:46,684 Gathering a field list (this may take a moment.)\n",
      "yt : [WARNING  ] 2022-07-19 10:48:49,626 The stars particle filter already exists. Overriding.\n",
      "yt : [WARNING  ] 2022-07-19 10:48:49,626 The DM particle filter already exists. Overriding.\n"
     ]
    },
    {
     "name": "stdout",
     "output_type": "stream",
     "text": [
      "Pulling halo center from catalog file\n",
      "Opening snapshot /Volumes/TempestTimeSteps/DD0867/DD0867\n"
     ]
    },
    {
     "name": "stderr",
     "output_type": "stream",
     "text": [
      "yt : [INFO     ] 2022-07-19 10:48:49,805 Parameters: current_time              = 249.81652781829\n",
      "yt : [INFO     ] 2022-07-19 10:48:49,808 Parameters: domain_dimensions         = [256 256 256]\n",
      "yt : [INFO     ] 2022-07-19 10:48:49,810 Parameters: domain_left_edge          = [0. 0. 0.]\n",
      "yt : [INFO     ] 2022-07-19 10:48:49,815 Parameters: domain_right_edge         = [1. 1. 1.]\n",
      "yt : [INFO     ] 2022-07-19 10:48:49,816 Parameters: cosmological_simulation   = 1\n",
      "yt : [INFO     ] 2022-07-19 10:48:49,816 Parameters: current_redshift          = 1.1460990837584\n",
      "yt : [INFO     ] 2022-07-19 10:48:49,817 Parameters: omega_lambda              = 0.715\n",
      "yt : [INFO     ] 2022-07-19 10:48:49,817 Parameters: omega_matter              = 0.285\n",
      "yt : [INFO     ] 2022-07-19 10:48:49,818 Parameters: omega_radiation           = 0.0\n",
      "yt : [INFO     ] 2022-07-19 10:48:49,818 Parameters: hubble_constant           = 0.695\n"
     ]
    },
    {
     "name": "stdout",
     "output_type": "stream",
     "text": [
      "get_refine_box: using this location:      col1       col2     col3     col4     col5     col6     col7   col8\n",
      "------------- -------- -------- -------- -------- -------- -------- ----\n",
      "1.14609908376 0.491743 0.483059 0.503163 0.493743 0.485059 0.505163    9\n"
     ]
    },
    {
     "name": "stderr",
     "output_type": "stream",
     "text": [
      "Parsing Hierarchy : 100%|████████████████| 7962/7962 [00:00<00:00, 12801.82it/s]\n",
      "yt : [INFO     ] 2022-07-19 10:48:50,827 Gathering a field list (this may take a moment.)\n",
      "yt : [WARNING  ] 2022-07-19 10:48:54,292 The stars particle filter already exists. Overriding.\n",
      "yt : [WARNING  ] 2022-07-19 10:48:54,292 The DM particle filter already exists. Overriding.\n"
     ]
    },
    {
     "name": "stdout",
     "output_type": "stream",
     "text": [
      "Pulling halo center from catalog file\n",
      "Opening snapshot /Volumes/TempestTimeSteps/DD0887/DD0887\n"
     ]
    },
    {
     "name": "stderr",
     "output_type": "stream",
     "text": [
      "yt : [INFO     ] 2022-07-19 10:48:54,550 Parameters: current_time              = 254.81652781829\n",
      "yt : [INFO     ] 2022-07-19 10:48:54,554 Parameters: domain_dimensions         = [256 256 256]\n",
      "yt : [INFO     ] 2022-07-19 10:48:54,558 Parameters: domain_left_edge          = [0. 0. 0.]\n",
      "yt : [INFO     ] 2022-07-19 10:48:54,561 Parameters: domain_right_edge         = [1. 1. 1.]\n",
      "yt : [INFO     ] 2022-07-19 10:48:54,562 Parameters: cosmological_simulation   = 1\n",
      "yt : [INFO     ] 2022-07-19 10:48:54,563 Parameters: current_redshift          = 1.1157343716912\n",
      "yt : [INFO     ] 2022-07-19 10:48:54,564 Parameters: omega_lambda              = 0.715\n",
      "yt : [INFO     ] 2022-07-19 10:48:54,564 Parameters: omega_matter              = 0.285\n",
      "yt : [INFO     ] 2022-07-19 10:48:54,565 Parameters: omega_radiation           = 0.0\n",
      "yt : [INFO     ] 2022-07-19 10:48:54,566 Parameters: hubble_constant           = 0.695\n"
     ]
    },
    {
     "name": "stdout",
     "output_type": "stream",
     "text": [
      "get_refine_box: using this location:      col1       col2     col3     col4     col5     col6     col7   col8\n",
      "------------- -------- -------- -------- -------- -------- -------- ----\n",
      "1.11573437169 0.491684 0.482832 0.503258 0.493684 0.484832 0.505258    9\n"
     ]
    },
    {
     "name": "stderr",
     "output_type": "stream",
     "text": [
      "Parsing Hierarchy : 100%|████████████████| 7394/7394 [00:00<00:00, 13452.73it/s]\n",
      "yt : [INFO     ] 2022-07-19 10:48:55,448 Gathering a field list (this may take a moment.)\n",
      "yt : [WARNING  ] 2022-07-19 10:48:59,065 The stars particle filter already exists. Overriding.\n",
      "yt : [WARNING  ] 2022-07-19 10:48:59,066 The DM particle filter already exists. Overriding.\n"
     ]
    },
    {
     "name": "stdout",
     "output_type": "stream",
     "text": [
      "Pulling halo center from catalog file\n",
      "Opening snapshot /Volumes/TempestTimeSteps/DD0907/DD0907\n"
     ]
    },
    {
     "name": "stderr",
     "output_type": "stream",
     "text": [
      "yt : [INFO     ] 2022-07-19 10:48:59,270 Parameters: current_time              = 259.81652781829\n",
      "yt : [INFO     ] 2022-07-19 10:48:59,273 Parameters: domain_dimensions         = [256 256 256]\n",
      "yt : [INFO     ] 2022-07-19 10:48:59,276 Parameters: domain_left_edge          = [0. 0. 0.]\n",
      "yt : [INFO     ] 2022-07-19 10:48:59,279 Parameters: domain_right_edge         = [1. 1. 1.]\n",
      "yt : [INFO     ] 2022-07-19 10:48:59,279 Parameters: cosmological_simulation   = 1\n",
      "yt : [INFO     ] 2022-07-19 10:48:59,280 Parameters: current_redshift          = 1.0862932762982\n",
      "yt : [INFO     ] 2022-07-19 10:48:59,281 Parameters: omega_lambda              = 0.715\n",
      "yt : [INFO     ] 2022-07-19 10:48:59,282 Parameters: omega_matter              = 0.285\n",
      "yt : [INFO     ] 2022-07-19 10:48:59,283 Parameters: omega_radiation           = 0.0\n",
      "yt : [INFO     ] 2022-07-19 10:48:59,283 Parameters: hubble_constant           = 0.695\n"
     ]
    },
    {
     "name": "stdout",
     "output_type": "stream",
     "text": [
      "get_refine_box: using this location:     col1       col2     col3     col4    col5     col6     col7  col8\n",
      "------------ -------- -------- ------- -------- -------- ------- ----\n",
      "1.0862932763 0.491633 0.482603 0.50335 0.493633 0.484603 0.50535    9\n"
     ]
    },
    {
     "name": "stderr",
     "output_type": "stream",
     "text": [
      "Parsing Hierarchy : 100%|████████████████| 7350/7350 [00:00<00:00, 17341.16it/s]\n",
      "yt : [INFO     ] 2022-07-19 10:49:00,006 Gathering a field list (this may take a moment.)\n",
      "yt : [WARNING  ] 2022-07-19 10:49:03,642 The stars particle filter already exists. Overriding.\n",
      "yt : [WARNING  ] 2022-07-19 10:49:03,642 The DM particle filter already exists. Overriding.\n"
     ]
    },
    {
     "name": "stdout",
     "output_type": "stream",
     "text": [
      "Pulling halo center from catalog file\n",
      "Opening snapshot /Volumes/TempestTimeSteps/DD0927/DD0927\n"
     ]
    },
    {
     "name": "stderr",
     "output_type": "stream",
     "text": [
      "yt : [INFO     ] 2022-07-19 10:49:03,820 Parameters: current_time              = 264.81652781829\n",
      "yt : [INFO     ] 2022-07-19 10:49:03,824 Parameters: domain_dimensions         = [256 256 256]\n",
      "yt : [INFO     ] 2022-07-19 10:49:03,826 Parameters: domain_left_edge          = [0. 0. 0.]\n",
      "yt : [INFO     ] 2022-07-19 10:49:03,828 Parameters: domain_right_edge         = [1. 1. 1.]\n",
      "yt : [INFO     ] 2022-07-19 10:49:03,829 Parameters: cosmological_simulation   = 1\n",
      "yt : [INFO     ] 2022-07-19 10:49:03,829 Parameters: current_redshift          = 1.0577290327654\n",
      "yt : [INFO     ] 2022-07-19 10:49:03,830 Parameters: omega_lambda              = 0.715\n",
      "yt : [INFO     ] 2022-07-19 10:49:03,830 Parameters: omega_matter              = 0.285\n",
      "yt : [INFO     ] 2022-07-19 10:49:03,831 Parameters: omega_radiation           = 0.0\n",
      "yt : [INFO     ] 2022-07-19 10:49:03,831 Parameters: hubble_constant           = 0.695\n"
     ]
    },
    {
     "name": "stdout",
     "output_type": "stream",
     "text": [
      "get_refine_box: using this location:      col1       col2     col3    col4     col5     col6    col7   col8\n",
      "------------- -------- ------- -------- -------- ------- -------- ----\n",
      "1.05772903277 0.491583 0.48238 0.503437 0.493583 0.48438 0.505437    9\n"
     ]
    },
    {
     "name": "stderr",
     "output_type": "stream",
     "text": [
      "Parsing Hierarchy : 100%|█████████████████| 6595/6595 [00:03<00:00, 1884.91it/s]\n",
      "yt : [INFO     ] 2022-07-19 10:49:07,618 Gathering a field list (this may take a moment.)\n",
      "yt : [WARNING  ] 2022-07-19 10:49:10,727 The stars particle filter already exists. Overriding.\n",
      "yt : [WARNING  ] 2022-07-19 10:49:10,727 The DM particle filter already exists. Overriding.\n",
      "yt : [INFO     ] 2022-07-19 10:49:10,827 Parameters: current_time              = 269.81652781829\n",
      "yt : [INFO     ] 2022-07-19 10:49:10,830 Parameters: domain_dimensions         = [256 256 256]\n",
      "yt : [INFO     ] 2022-07-19 10:49:10,833 Parameters: domain_left_edge          = [0. 0. 0.]\n",
      "yt : [INFO     ] 2022-07-19 10:49:10,835 Parameters: domain_right_edge         = [1. 1. 1.]\n",
      "yt : [INFO     ] 2022-07-19 10:49:10,836 Parameters: cosmological_simulation   = 1\n",
      "yt : [INFO     ] 2022-07-19 10:49:10,836 Parameters: current_redshift          = 1.0299980743789\n",
      "yt : [INFO     ] 2022-07-19 10:49:10,837 Parameters: omega_lambda              = 0.715\n",
      "yt : [INFO     ] 2022-07-19 10:49:10,838 Parameters: omega_matter              = 0.285\n",
      "yt : [INFO     ] 2022-07-19 10:49:10,838 Parameters: omega_radiation           = 0.0\n",
      "yt : [INFO     ] 2022-07-19 10:49:10,839 Parameters: hubble_constant           = 0.695\n"
     ]
    },
    {
     "name": "stdout",
     "output_type": "stream",
     "text": [
      "Pulling halo center from catalog file\n",
      "Opening snapshot /Volumes/TempestTimeSteps/DD0947/DD0947\n",
      "get_refine_box: using this location:      col1       col2     col3     col4     col5     col6     col7   col8\n",
      "------------- -------- -------- -------- -------- -------- -------- ----\n",
      "1.02999807438 0.491539 0.482157 0.503523 0.493539 0.484157 0.505523    9\n"
     ]
    },
    {
     "name": "stderr",
     "output_type": "stream",
     "text": [
      "Parsing Hierarchy : 100%|████████████████| 6486/6486 [00:00<00:00, 17606.87it/s]\n",
      "yt : [INFO     ] 2022-07-19 10:49:11,516 Gathering a field list (this may take a moment.)\n",
      "yt : [WARNING  ] 2022-07-19 10:49:14,617 The stars particle filter already exists. Overriding.\n",
      "yt : [WARNING  ] 2022-07-19 10:49:14,618 The DM particle filter already exists. Overriding.\n",
      "yt : [INFO     ] 2022-07-19 10:49:14,714 Parameters: current_time              = 274.56652781829\n",
      "yt : [INFO     ] 2022-07-19 10:49:14,717 Parameters: domain_dimensions         = [256 256 256]\n",
      "yt : [INFO     ] 2022-07-19 10:49:14,719 Parameters: domain_left_edge          = [0. 0. 0.]\n",
      "yt : [INFO     ] 2022-07-19 10:49:14,722 Parameters: domain_right_edge         = [1. 1. 1.]\n",
      "yt : [INFO     ] 2022-07-19 10:49:14,722 Parameters: cosmological_simulation   = 1\n",
      "yt : [INFO     ] 2022-07-19 10:49:14,723 Parameters: current_redshift          = 1.0043884467376\n",
      "yt : [INFO     ] 2022-07-19 10:49:14,723 Parameters: omega_lambda              = 0.715\n",
      "yt : [INFO     ] 2022-07-19 10:49:14,724 Parameters: omega_matter              = 0.285\n",
      "yt : [INFO     ] 2022-07-19 10:49:14,724 Parameters: omega_radiation           = 0.0\n",
      "yt : [INFO     ] 2022-07-19 10:49:14,725 Parameters: hubble_constant           = 0.695\n"
     ]
    },
    {
     "name": "stdout",
     "output_type": "stream",
     "text": [
      "Pulling halo center from catalog file\n",
      "Opening snapshot /Volumes/TempestTimeSteps/DD0967/DD0967\n",
      "get_refine_box: using this location:      col1       col2     col3     col4     col5     col6     col7   col8\n",
      "------------- -------- -------- -------- -------- -------- -------- ----\n",
      "1.00438844674 0.491497 0.481944 0.503607 0.493497 0.483944 0.505607    9\n"
     ]
    },
    {
     "name": "stderr",
     "output_type": "stream",
     "text": [
      "Parsing Hierarchy : 100%|████████████████| 5908/5908 [00:00<00:00, 17749.15it/s]\n",
      "yt : [INFO     ] 2022-07-19 10:49:15,292 Gathering a field list (this may take a moment.)\n",
      "yt : [WARNING  ] 2022-07-19 10:49:18,347 The stars particle filter already exists. Overriding.\n",
      "yt : [WARNING  ] 2022-07-19 10:49:18,347 The DM particle filter already exists. Overriding.\n",
      "yt : [INFO     ] 2022-07-19 10:49:18,455 Parameters: current_time              = 279.56652781829\n",
      "yt : [INFO     ] 2022-07-19 10:49:18,458 Parameters: domain_dimensions         = [256 256 256]\n",
      "yt : [INFO     ] 2022-07-19 10:49:18,460 Parameters: domain_left_edge          = [0. 0. 0.]\n"
     ]
    },
    {
     "name": "stdout",
     "output_type": "stream",
     "text": [
      "Pulling halo center from catalog file\n",
      "Opening snapshot /Volumes/TempestTimeSteps/DD0987/DD0987\n"
     ]
    },
    {
     "name": "stderr",
     "output_type": "stream",
     "text": [
      "yt : [INFO     ] 2022-07-19 10:49:18,465 Parameters: domain_right_edge         = [1. 1. 1.]\n",
      "yt : [INFO     ] 2022-07-19 10:49:18,466 Parameters: cosmological_simulation   = 1\n",
      "yt : [INFO     ] 2022-07-19 10:49:18,466 Parameters: current_redshift          = 0.97816794442974\n",
      "yt : [INFO     ] 2022-07-19 10:49:18,466 Parameters: omega_lambda              = 0.715\n",
      "yt : [INFO     ] 2022-07-19 10:49:18,467 Parameters: omega_matter              = 0.285\n",
      "yt : [INFO     ] 2022-07-19 10:49:18,467 Parameters: omega_radiation           = 0.0\n",
      "yt : [INFO     ] 2022-07-19 10:49:18,468 Parameters: hubble_constant           = 0.695\n"
     ]
    },
    {
     "name": "stdout",
     "output_type": "stream",
     "text": [
      "get_refine_box: using this location:      col1       col2     col3     col4     col5     col6     col7   col8\n",
      "------------- -------- -------- -------- -------- -------- -------- ----\n",
      "0.97816794443 0.491452 0.481724 0.503697 0.493452 0.483724 0.505697    9\n"
     ]
    },
    {
     "name": "stderr",
     "output_type": "stream",
     "text": [
      "Parsing Hierarchy : 100%|████████████████| 5704/5704 [00:00<00:00, 17205.33it/s]\n",
      "yt : [INFO     ] 2022-07-19 10:49:19,125 Gathering a field list (this may take a moment.)\n",
      "yt : [WARNING  ] 2022-07-19 10:49:22,267 The stars particle filter already exists. Overriding.\n",
      "yt : [WARNING  ] 2022-07-19 10:49:22,267 The DM particle filter already exists. Overriding.\n"
     ]
    },
    {
     "name": "stdout",
     "output_type": "stream",
     "text": [
      "Pulling halo center from catalog file\n",
      "Opening snapshot /Volumes/TempestTimeSteps/DD1007/DD1007\n"
     ]
    },
    {
     "name": "stderr",
     "output_type": "stream",
     "text": [
      "yt : [INFO     ] 2022-07-19 10:49:22,456 Parameters: current_time              = 284.56652781829\n",
      "yt : [INFO     ] 2022-07-19 10:49:22,459 Parameters: domain_dimensions         = [256 256 256]\n",
      "yt : [INFO     ] 2022-07-19 10:49:22,461 Parameters: domain_left_edge          = [0. 0. 0.]\n",
      "yt : [INFO     ] 2022-07-19 10:49:22,464 Parameters: domain_right_edge         = [1. 1. 1.]\n",
      "yt : [INFO     ] 2022-07-19 10:49:22,465 Parameters: cosmological_simulation   = 1\n",
      "yt : [INFO     ] 2022-07-19 10:49:22,465 Parameters: current_redshift          = 0.95266834518911\n",
      "yt : [INFO     ] 2022-07-19 10:49:22,466 Parameters: omega_lambda              = 0.715\n",
      "yt : [INFO     ] 2022-07-19 10:49:22,466 Parameters: omega_matter              = 0.285\n",
      "yt : [INFO     ] 2022-07-19 10:49:22,467 Parameters: omega_radiation           = 0.0\n",
      "yt : [INFO     ] 2022-07-19 10:49:22,468 Parameters: hubble_constant           = 0.695\n"
     ]
    },
    {
     "name": "stdout",
     "output_type": "stream",
     "text": [
      "get_refine_box: using this location:      col1        col2     col3     col4     col5     col6     col7   col8\n",
      "-------------- -------- -------- -------- -------- -------- -------- ----\n",
      "0.952668345189 0.491404 0.481507 0.503786 0.493404 0.483507 0.505786    9\n"
     ]
    },
    {
     "name": "stderr",
     "output_type": "stream",
     "text": [
      "Parsing Hierarchy : 100%|████████████████| 5544/5544 [00:00<00:00, 17474.40it/s]\n",
      "yt : [INFO     ] 2022-07-19 10:49:22,991 Gathering a field list (this may take a moment.)\n",
      "yt : [WARNING  ] 2022-07-19 10:49:25,846 The stars particle filter already exists. Overriding.\n",
      "yt : [WARNING  ] 2022-07-19 10:49:25,847 The DM particle filter already exists. Overriding.\n"
     ]
    },
    {
     "name": "stdout",
     "output_type": "stream",
     "text": [
      "Pulling halo center from catalog file\n",
      "Opening snapshot /Volumes/TempestTimeSteps/DD1027/DD1027\n"
     ]
    },
    {
     "name": "stderr",
     "output_type": "stream",
     "text": [
      "yt : [INFO     ] 2022-07-19 10:49:26,031 Parameters: current_time              = 289.56652781829\n",
      "yt : [INFO     ] 2022-07-19 10:49:26,035 Parameters: domain_dimensions         = [256 256 256]\n",
      "yt : [INFO     ] 2022-07-19 10:49:26,037 Parameters: domain_left_edge          = [0. 0. 0.]\n",
      "yt : [INFO     ] 2022-07-19 10:49:26,040 Parameters: domain_right_edge         = [1. 1. 1.]\n",
      "yt : [INFO     ] 2022-07-19 10:49:26,041 Parameters: cosmological_simulation   = 1\n",
      "yt : [INFO     ] 2022-07-19 10:49:26,042 Parameters: current_redshift          = 0.92785630164072\n",
      "yt : [INFO     ] 2022-07-19 10:49:26,043 Parameters: omega_lambda              = 0.715\n",
      "yt : [INFO     ] 2022-07-19 10:49:26,043 Parameters: omega_matter              = 0.285\n",
      "yt : [INFO     ] 2022-07-19 10:49:26,044 Parameters: omega_radiation           = 0.0\n",
      "yt : [INFO     ] 2022-07-19 10:49:26,044 Parameters: hubble_constant           = 0.695\n"
     ]
    },
    {
     "name": "stdout",
     "output_type": "stream",
     "text": [
      "get_refine_box: using this location:      col1        col2     col3     col4     col5     col6     col7   col8\n",
      "-------------- -------- -------- -------- -------- -------- -------- ----\n",
      "0.927856301641 0.491352 0.481291 0.503872 0.493352 0.483291 0.505872    9\n"
     ]
    },
    {
     "name": "stderr",
     "output_type": "stream",
     "text": [
      "Parsing Hierarchy : 100%|████████████████| 5326/5326 [00:00<00:00, 14660.62it/s]\n",
      "yt : [INFO     ] 2022-07-19 10:49:26,645 Gathering a field list (this may take a moment.)\n",
      "yt : [WARNING  ] 2022-07-19 10:49:29,625 The stars particle filter already exists. Overriding.\n",
      "yt : [WARNING  ] 2022-07-19 10:49:29,626 The DM particle filter already exists. Overriding.\n"
     ]
    },
    {
     "name": "stdout",
     "output_type": "stream",
     "text": [
      "Pulling halo center from catalog file\n",
      "Opening snapshot /Volumes/TempestTimeSteps/DD1047/DD1047\n"
     ]
    },
    {
     "name": "stderr",
     "output_type": "stream",
     "text": [
      "yt : [INFO     ] 2022-07-19 10:49:29,820 Parameters: current_time              = 294.56652781829\n",
      "yt : [INFO     ] 2022-07-19 10:49:29,823 Parameters: domain_dimensions         = [256 256 256]\n",
      "yt : [INFO     ] 2022-07-19 10:49:29,825 Parameters: domain_left_edge          = [0. 0. 0.]\n",
      "yt : [INFO     ] 2022-07-19 10:49:29,827 Parameters: domain_right_edge         = [1. 1. 1.]\n",
      "yt : [INFO     ] 2022-07-19 10:49:29,829 Parameters: cosmological_simulation   = 1\n",
      "yt : [INFO     ] 2022-07-19 10:49:29,830 Parameters: current_redshift          = 0.90370055679921\n",
      "yt : [INFO     ] 2022-07-19 10:49:29,831 Parameters: omega_lambda              = 0.715\n",
      "yt : [INFO     ] 2022-07-19 10:49:29,831 Parameters: omega_matter              = 0.285\n",
      "yt : [INFO     ] 2022-07-19 10:49:29,832 Parameters: omega_radiation           = 0.0\n",
      "yt : [INFO     ] 2022-07-19 10:49:29,833 Parameters: hubble_constant           = 0.695\n"
     ]
    },
    {
     "name": "stdout",
     "output_type": "stream",
     "text": [
      "get_refine_box: using this location:      col1        col2     col3    col4     col5     col6    col7   col8\n",
      "-------------- -------- ------- -------- -------- ------- -------- ----\n",
      "0.903700556799 0.491301 0.48108 0.503952 0.493301 0.48308 0.505952    9\n"
     ]
    },
    {
     "name": "stderr",
     "output_type": "stream",
     "text": [
      "Parsing Hierarchy : 100%|████████████████| 5246/5246 [00:00<00:00, 17574.31it/s]\n",
      "yt : [INFO     ] 2022-07-19 10:49:30,356 Gathering a field list (this may take a moment.)\n",
      "yt : [WARNING  ] 2022-07-19 10:49:33,082 The stars particle filter already exists. Overriding.\n",
      "yt : [WARNING  ] 2022-07-19 10:49:33,082 The DM particle filter already exists. Overriding.\n"
     ]
    },
    {
     "name": "stdout",
     "output_type": "stream",
     "text": [
      "Pulling halo center from catalog file\n",
      "Opening snapshot /Volumes/TempestTimeSteps/DD1067/DD1067\n"
     ]
    },
    {
     "name": "stderr",
     "output_type": "stream",
     "text": [
      "yt : [INFO     ] 2022-07-19 10:49:33,261 Parameters: current_time              = 299.56652781829\n",
      "yt : [INFO     ] 2022-07-19 10:49:33,264 Parameters: domain_dimensions         = [256 256 256]\n",
      "yt : [INFO     ] 2022-07-19 10:49:33,267 Parameters: domain_left_edge          = [0. 0. 0.]\n",
      "yt : [INFO     ] 2022-07-19 10:49:33,269 Parameters: domain_right_edge         = [1. 1. 1.]\n",
      "yt : [INFO     ] 2022-07-19 10:49:33,270 Parameters: cosmological_simulation   = 1\n",
      "yt : [INFO     ] 2022-07-19 10:49:33,271 Parameters: current_redshift          = 0.88017178065176\n",
      "yt : [INFO     ] 2022-07-19 10:49:33,271 Parameters: omega_lambda              = 0.715\n",
      "yt : [INFO     ] 2022-07-19 10:49:33,272 Parameters: omega_matter              = 0.285\n",
      "yt : [INFO     ] 2022-07-19 10:49:33,273 Parameters: omega_radiation           = 0.0\n",
      "yt : [INFO     ] 2022-07-19 10:49:33,273 Parameters: hubble_constant           = 0.695\n"
     ]
    },
    {
     "name": "stdout",
     "output_type": "stream",
     "text": [
      "get_refine_box: using this location:      col1        col2     col3     col4     col5     col6     col7   col8\n",
      "-------------- -------- -------- -------- -------- -------- -------- ----\n",
      "0.880171780652 0.491244 0.480872 0.504027 0.493244 0.482872 0.506027    9\n"
     ]
    },
    {
     "name": "stderr",
     "output_type": "stream",
     "text": [
      "Parsing Hierarchy : 100%|████████████████| 5244/5244 [00:00<00:00, 18858.37it/s]\n",
      "yt : [INFO     ] 2022-07-19 10:49:33,746 Gathering a field list (this may take a moment.)\n",
      "yt : [WARNING  ] 2022-07-19 10:49:36,407 The stars particle filter already exists. Overriding.\n",
      "yt : [WARNING  ] 2022-07-19 10:49:36,408 The DM particle filter already exists. Overriding.\n"
     ]
    },
    {
     "name": "stdout",
     "output_type": "stream",
     "text": [
      "Pulling halo center from catalog file\n",
      "Opening snapshot /Volumes/TempestTimeSteps/DD1087/DD1087\n"
     ]
    },
    {
     "name": "stderr",
     "output_type": "stream",
     "text": [
      "yt : [INFO     ] 2022-07-19 10:49:36,612 Parameters: current_time              = 304.56652781829\n",
      "yt : [INFO     ] 2022-07-19 10:49:36,614 Parameters: domain_dimensions         = [256 256 256]\n",
      "yt : [INFO     ] 2022-07-19 10:49:36,617 Parameters: domain_left_edge          = [0. 0. 0.]\n",
      "yt : [INFO     ] 2022-07-19 10:49:36,620 Parameters: domain_right_edge         = [1. 1. 1.]\n",
      "yt : [INFO     ] 2022-07-19 10:49:36,621 Parameters: cosmological_simulation   = 1\n",
      "yt : [INFO     ] 2022-07-19 10:49:36,621 Parameters: current_redshift          = 0.85724242198899\n",
      "yt : [INFO     ] 2022-07-19 10:49:36,622 Parameters: omega_lambda              = 0.715\n",
      "yt : [INFO     ] 2022-07-19 10:49:36,623 Parameters: omega_matter              = 0.285\n",
      "yt : [INFO     ] 2022-07-19 10:49:36,623 Parameters: omega_radiation           = 0.0\n",
      "yt : [INFO     ] 2022-07-19 10:49:36,624 Parameters: hubble_constant           = 0.695\n"
     ]
    },
    {
     "name": "stdout",
     "output_type": "stream",
     "text": [
      "get_refine_box: using this location:      col1        col2     col3     col4     col5     col6     col7   col8\n",
      "-------------- -------- -------- -------- -------- -------- -------- ----\n",
      "0.857242421989 0.491192 0.480668 0.504092 0.493192 0.482668 0.506092    9\n"
     ]
    },
    {
     "name": "stderr",
     "output_type": "stream",
     "text": [
      "Parsing Hierarchy : 100%|████████████████| 5163/5163 [00:00<00:00, 18956.80it/s]\n",
      "yt : [INFO     ] 2022-07-19 10:49:37,095 Gathering a field list (this may take a moment.)\n",
      "yt : [WARNING  ] 2022-07-19 10:49:39,785 The stars particle filter already exists. Overriding.\n",
      "yt : [WARNING  ] 2022-07-19 10:49:39,786 The DM particle filter already exists. Overriding.\n"
     ]
    },
    {
     "name": "stdout",
     "output_type": "stream",
     "text": [
      "Pulling halo center from catalog file\n",
      "Opening snapshot /Volumes/TempestTimeSteps/DD1107/DD1107\n"
     ]
    },
    {
     "name": "stderr",
     "output_type": "stream",
     "text": [
      "yt : [INFO     ] 2022-07-19 10:49:39,976 Parameters: current_time              = 309.56652781829\n",
      "yt : [INFO     ] 2022-07-19 10:49:39,978 Parameters: domain_dimensions         = [256 256 256]\n",
      "yt : [INFO     ] 2022-07-19 10:49:39,981 Parameters: domain_left_edge          = [0. 0. 0.]\n",
      "yt : [INFO     ] 2022-07-19 10:49:39,983 Parameters: domain_right_edge         = [1. 1. 1.]\n",
      "yt : [INFO     ] 2022-07-19 10:49:39,984 Parameters: cosmological_simulation   = 1\n",
      "yt : [INFO     ] 2022-07-19 10:49:39,985 Parameters: current_redshift          = 0.83488657383741\n",
      "yt : [INFO     ] 2022-07-19 10:49:39,985 Parameters: omega_lambda              = 0.715\n",
      "yt : [INFO     ] 2022-07-19 10:49:39,986 Parameters: omega_matter              = 0.285\n",
      "yt : [INFO     ] 2022-07-19 10:49:39,986 Parameters: omega_radiation           = 0.0\n",
      "yt : [INFO     ] 2022-07-19 10:49:39,987 Parameters: hubble_constant           = 0.695\n"
     ]
    },
    {
     "name": "stdout",
     "output_type": "stream",
     "text": [
      "get_refine_box: using this location:       col1         col2     col3     col4     col5     col6     col7   col8\n",
      "---------------- -------- -------- -------- -------- -------- -------- ----\n",
      "0.83488657383741 0.491154 0.480465 0.504151 0.493154 0.482465 0.506151    9\n"
     ]
    },
    {
     "name": "stderr",
     "output_type": "stream",
     "text": [
      "Parsing Hierarchy : 100%|████████████████| 5231/5231 [00:00<00:00, 18381.60it/s]\n",
      "yt : [INFO     ] 2022-07-19 10:49:40,482 Gathering a field list (this may take a moment.)\n",
      "yt : [WARNING  ] 2022-07-19 10:49:43,367 The stars particle filter already exists. Overriding.\n",
      "yt : [WARNING  ] 2022-07-19 10:49:43,367 The DM particle filter already exists. Overriding.\n"
     ]
    },
    {
     "name": "stdout",
     "output_type": "stream",
     "text": [
      "Pulling halo center from catalog file\n",
      "Opening snapshot /Volumes/TempestTimeSteps/DD1127/DD1127\n"
     ]
    },
    {
     "name": "stderr",
     "output_type": "stream",
     "text": [
      "yt : [INFO     ] 2022-07-19 10:49:43,576 Parameters: current_time              = 314.56652781829\n",
      "yt : [INFO     ] 2022-07-19 10:49:43,578 Parameters: domain_dimensions         = [256 256 256]\n",
      "yt : [INFO     ] 2022-07-19 10:49:43,581 Parameters: domain_left_edge          = [0. 0. 0.]\n",
      "yt : [INFO     ] 2022-07-19 10:49:43,584 Parameters: domain_right_edge         = [1. 1. 1.]\n",
      "yt : [INFO     ] 2022-07-19 10:49:43,584 Parameters: cosmological_simulation   = 1\n",
      "yt : [INFO     ] 2022-07-19 10:49:43,585 Parameters: current_redshift          = 0.81307985104783\n",
      "yt : [INFO     ] 2022-07-19 10:49:43,585 Parameters: omega_lambda              = 0.715\n",
      "yt : [INFO     ] 2022-07-19 10:49:43,586 Parameters: omega_matter              = 0.285\n",
      "yt : [INFO     ] 2022-07-19 10:49:43,586 Parameters: omega_radiation           = 0.0\n",
      "yt : [INFO     ] 2022-07-19 10:49:43,587 Parameters: hubble_constant           = 0.695\n"
     ]
    },
    {
     "name": "stdout",
     "output_type": "stream",
     "text": [
      "get_refine_box: using this location:       col1         col2     col3     col4     col5     col6     col7   col8\n",
      "---------------- -------- -------- -------- -------- -------- -------- ----\n",
      "0.81307985104783 0.491127 0.480267 0.504221 0.493127 0.482267 0.506221    9\n"
     ]
    },
    {
     "name": "stderr",
     "output_type": "stream",
     "text": [
      "Parsing Hierarchy : 100%|████████████████| 5553/5553 [00:00<00:00, 15285.65it/s]\n",
      "yt : [INFO     ] 2022-07-19 10:49:44,188 Gathering a field list (this may take a moment.)\n",
      "yt : [WARNING  ] 2022-07-19 10:49:46,880 The stars particle filter already exists. Overriding.\n",
      "yt : [WARNING  ] 2022-07-19 10:49:46,881 The DM particle filter already exists. Overriding.\n"
     ]
    },
    {
     "name": "stdout",
     "output_type": "stream",
     "text": [
      "Pulling halo center from catalog file\n",
      "Opening snapshot /Volumes/TempestTimeSteps/DD1147/DD1147\n"
     ]
    },
    {
     "name": "stderr",
     "output_type": "stream",
     "text": [
      "yt : [INFO     ] 2022-07-19 10:49:47,072 Parameters: current_time              = 319.56652781829\n",
      "yt : [INFO     ] 2022-07-19 10:49:47,075 Parameters: domain_dimensions         = [256 256 256]\n",
      "yt : [INFO     ] 2022-07-19 10:49:47,077 Parameters: domain_left_edge          = [0. 0. 0.]\n",
      "yt : [INFO     ] 2022-07-19 10:49:47,081 Parameters: domain_right_edge         = [1. 1. 1.]\n",
      "yt : [INFO     ] 2022-07-19 10:49:47,081 Parameters: cosmological_simulation   = 1\n",
      "yt : [INFO     ] 2022-07-19 10:49:47,082 Parameters: current_redshift          = 0.79179927876823\n",
      "yt : [INFO     ] 2022-07-19 10:49:47,082 Parameters: omega_lambda              = 0.715\n",
      "yt : [INFO     ] 2022-07-19 10:49:47,083 Parameters: omega_matter              = 0.285\n",
      "yt : [INFO     ] 2022-07-19 10:49:47,084 Parameters: omega_radiation           = 0.0\n",
      "yt : [INFO     ] 2022-07-19 10:49:47,085 Parameters: hubble_constant           = 0.695\n"
     ]
    },
    {
     "name": "stdout",
     "output_type": "stream",
     "text": [
      "get_refine_box: using this location:       col1         col2     col3    col4    col5     col6    col7  col8\n",
      "---------------- -------- -------- ------ -------- -------- ------ ----\n",
      "0.79179927876823 0.491095 0.480072 0.5043 0.493095 0.482072 0.5063    9\n"
     ]
    },
    {
     "name": "stderr",
     "output_type": "stream",
     "text": [
      "Parsing Hierarchy : 100%|████████████████| 5902/5902 [00:00<00:00, 18223.36it/s]\n",
      "yt : [INFO     ] 2022-07-19 10:49:47,631 Gathering a field list (this may take a moment.)\n",
      "yt : [WARNING  ] 2022-07-19 10:49:50,532 The stars particle filter already exists. Overriding.\n",
      "yt : [WARNING  ] 2022-07-19 10:49:50,533 The DM particle filter already exists. Overriding.\n"
     ]
    },
    {
     "name": "stdout",
     "output_type": "stream",
     "text": [
      "Pulling halo center from catalog file\n",
      "Opening snapshot /Volumes/TempestTimeSteps/DD1167/DD1167\n"
     ]
    },
    {
     "name": "stderr",
     "output_type": "stream",
     "text": [
      "yt : [INFO     ] 2022-07-19 10:49:50,726 Parameters: current_time              = 324.56652781829\n",
      "yt : [INFO     ] 2022-07-19 10:49:50,728 Parameters: domain_dimensions         = [256 256 256]\n",
      "yt : [INFO     ] 2022-07-19 10:49:50,731 Parameters: domain_left_edge          = [0. 0. 0.]\n",
      "yt : [INFO     ] 2022-07-19 10:49:50,733 Parameters: domain_right_edge         = [1. 1. 1.]\n",
      "yt : [INFO     ] 2022-07-19 10:49:50,734 Parameters: cosmological_simulation   = 1\n",
      "yt : [INFO     ] 2022-07-19 10:49:50,734 Parameters: current_redshift          = 0.77102319068022\n",
      "yt : [INFO     ] 2022-07-19 10:49:50,735 Parameters: omega_lambda              = 0.715\n",
      "yt : [INFO     ] 2022-07-19 10:49:50,736 Parameters: omega_matter              = 0.285\n",
      "yt : [INFO     ] 2022-07-19 10:49:50,736 Parameters: omega_radiation           = 0.0\n",
      "yt : [INFO     ] 2022-07-19 10:49:50,737 Parameters: hubble_constant           = 0.695\n"
     ]
    },
    {
     "name": "stdout",
     "output_type": "stream",
     "text": [
      "get_refine_box: using this location:       col1         col2     col3     col4     col5     col6     col7   col8\n",
      "---------------- -------- -------- -------- -------- -------- -------- ----\n",
      "0.77102319068022 0.491061 0.479878 0.504383 0.493061 0.481878 0.506383    9\n"
     ]
    },
    {
     "name": "stderr",
     "output_type": "stream",
     "text": [
      "Parsing Hierarchy : 100%|████████████████| 6312/6312 [00:00<00:00, 18255.66it/s]\n",
      "yt : [INFO     ] 2022-07-19 10:49:54,715 Gathering a field list (this may take a moment.)\n",
      "yt : [WARNING  ] 2022-07-19 10:49:57,513 The stars particle filter already exists. Overriding.\n",
      "yt : [WARNING  ] 2022-07-19 10:49:57,514 The DM particle filter already exists. Overriding.\n"
     ]
    },
    {
     "name": "stdout",
     "output_type": "stream",
     "text": [
      "Pulling halo center from catalog file\n",
      "Opening snapshot /Volumes/TempestTimeSteps/DD1187/DD1187\n"
     ]
    },
    {
     "name": "stderr",
     "output_type": "stream",
     "text": [
      "yt : [INFO     ] 2022-07-19 10:49:57,695 Parameters: current_time              = 329.56652781829\n",
      "yt : [INFO     ] 2022-07-19 10:49:57,697 Parameters: domain_dimensions         = [256 256 256]\n",
      "yt : [INFO     ] 2022-07-19 10:49:57,700 Parameters: domain_left_edge          = [0. 0. 0.]\n",
      "yt : [INFO     ] 2022-07-19 10:49:57,702 Parameters: domain_right_edge         = [1. 1. 1.]\n",
      "yt : [INFO     ] 2022-07-19 10:49:57,703 Parameters: cosmological_simulation   = 1\n",
      "yt : [INFO     ] 2022-07-19 10:49:57,703 Parameters: current_redshift          = 0.75073113600866\n",
      "yt : [INFO     ] 2022-07-19 10:49:57,704 Parameters: omega_lambda              = 0.715\n",
      "yt : [INFO     ] 2022-07-19 10:49:57,704 Parameters: omega_matter              = 0.285\n",
      "yt : [INFO     ] 2022-07-19 10:49:57,705 Parameters: omega_radiation           = 0.0\n",
      "yt : [INFO     ] 2022-07-19 10:49:57,706 Parameters: hubble_constant           = 0.695\n"
     ]
    },
    {
     "name": "stdout",
     "output_type": "stream",
     "text": [
      "get_refine_box: using this location:       col1         col2     col3     col4     col5     col6     col7   col8\n",
      "---------------- -------- -------- -------- -------- -------- -------- ----\n",
      "0.75073113600866 0.491021 0.479683 0.504466 0.493021 0.481683 0.506466    9\n"
     ]
    },
    {
     "name": "stderr",
     "output_type": "stream",
     "text": [
      "Parsing Hierarchy : 100%|████████████████| 5990/5990 [00:00<00:00, 18580.32it/s]\n",
      "yt : [INFO     ] 2022-07-19 10:49:58,255 Gathering a field list (this may take a moment.)\n",
      "yt : [WARNING  ] 2022-07-19 10:50:01,145 The stars particle filter already exists. Overriding.\n",
      "yt : [WARNING  ] 2022-07-19 10:50:01,146 The DM particle filter already exists. Overriding.\n"
     ]
    },
    {
     "name": "stdout",
     "output_type": "stream",
     "text": [
      "Pulling halo center from catalog file\n",
      "Opening snapshot /Volumes/TempestTimeSteps/DD1207/DD1207\n"
     ]
    },
    {
     "name": "stderr",
     "output_type": "stream",
     "text": [
      "yt : [INFO     ] 2022-07-19 10:50:01,339 Parameters: current_time              = 334.56652781829\n",
      "yt : [INFO     ] 2022-07-19 10:50:01,342 Parameters: domain_dimensions         = [256 256 256]\n",
      "yt : [INFO     ] 2022-07-19 10:50:01,344 Parameters: domain_left_edge          = [0. 0. 0.]\n",
      "yt : [INFO     ] 2022-07-19 10:50:01,347 Parameters: domain_right_edge         = [1. 1. 1.]\n",
      "yt : [INFO     ] 2022-07-19 10:50:01,347 Parameters: cosmological_simulation   = 1\n",
      "yt : [INFO     ] 2022-07-19 10:50:01,348 Parameters: current_redshift          = 0.7309037944282\n",
      "yt : [INFO     ] 2022-07-19 10:50:01,349 Parameters: omega_lambda              = 0.715\n",
      "yt : [INFO     ] 2022-07-19 10:50:01,349 Parameters: omega_matter              = 0.285\n",
      "yt : [INFO     ] 2022-07-19 10:50:01,350 Parameters: omega_radiation           = 0.0\n",
      "yt : [INFO     ] 2022-07-19 10:50:01,351 Parameters: hubble_constant           = 0.695\n"
     ]
    },
    {
     "name": "stdout",
     "output_type": "stream",
     "text": [
      "get_refine_box: using this location:       col1        col2     col3     col4     col5     col6     col7   col8\n",
      "--------------- -------- -------- -------- -------- -------- -------- ----\n",
      "0.7309037944282 0.490979 0.479485 0.504549 0.492979 0.481485 0.506549    9\n"
     ]
    },
    {
     "name": "stderr",
     "output_type": "stream",
     "text": [
      "Parsing Hierarchy : 100%|████████████████| 5804/5804 [00:00<00:00, 18708.41it/s]\n",
      "yt : [INFO     ] 2022-07-19 10:50:01,880 Gathering a field list (this may take a moment.)\n",
      "yt : [WARNING  ] 2022-07-19 10:50:04,639 The stars particle filter already exists. Overriding.\n",
      "yt : [WARNING  ] 2022-07-19 10:50:04,639 The DM particle filter already exists. Overriding.\n"
     ]
    },
    {
     "name": "stdout",
     "output_type": "stream",
     "text": [
      "Pulling halo center from catalog file\n",
      "Opening snapshot /Volumes/TempestTimeSteps/DD1227/DD1227\n"
     ]
    },
    {
     "name": "stderr",
     "output_type": "stream",
     "text": [
      "yt : [INFO     ] 2022-07-19 10:50:04,819 Parameters: current_time              = 339.56652781829\n",
      "yt : [INFO     ] 2022-07-19 10:50:04,821 Parameters: domain_dimensions         = [256 256 256]\n",
      "yt : [INFO     ] 2022-07-19 10:50:04,824 Parameters: domain_left_edge          = [0. 0. 0.]\n",
      "yt : [INFO     ] 2022-07-19 10:50:04,827 Parameters: domain_right_edge         = [1. 1. 1.]\n",
      "yt : [INFO     ] 2022-07-19 10:50:04,827 Parameters: cosmological_simulation   = 1\n",
      "yt : [INFO     ] 2022-07-19 10:50:04,828 Parameters: current_redshift          = 0.71152289808928\n",
      "yt : [INFO     ] 2022-07-19 10:50:04,828 Parameters: omega_lambda              = 0.715\n",
      "yt : [INFO     ] 2022-07-19 10:50:04,829 Parameters: omega_matter              = 0.285\n",
      "yt : [INFO     ] 2022-07-19 10:50:04,829 Parameters: omega_radiation           = 0.0\n",
      "yt : [INFO     ] 2022-07-19 10:50:04,830 Parameters: hubble_constant           = 0.695\n"
     ]
    },
    {
     "name": "stdout",
     "output_type": "stream",
     "text": [
      "get_refine_box: using this location:       col1         col2     col3     col4     col5     col6     col7   col8\n",
      "---------------- -------- -------- -------- -------- -------- -------- ----\n",
      "0.71152289808928 0.490935 0.479287 0.504633 0.492935 0.481287 0.506633    9\n"
     ]
    },
    {
     "name": "stderr",
     "output_type": "stream",
     "text": [
      "Parsing Hierarchy : 100%|████████████████| 5825/5825 [00:00<00:00, 18824.01it/s]\n",
      "yt : [INFO     ] 2022-07-19 10:50:05,356 Gathering a field list (this may take a moment.)\n",
      "yt : [WARNING  ] 2022-07-19 10:50:08,099 The stars particle filter already exists. Overriding.\n",
      "yt : [WARNING  ] 2022-07-19 10:50:08,099 The DM particle filter already exists. Overriding.\n"
     ]
    },
    {
     "name": "stdout",
     "output_type": "stream",
     "text": [
      "Pulling halo center from catalog file\n",
      "Opening snapshot /Volumes/TempestTimeSteps/DD1247/DD1247\n"
     ]
    },
    {
     "name": "stderr",
     "output_type": "stream",
     "text": [
      "yt : [INFO     ] 2022-07-19 10:50:08,279 Parameters: current_time              = 344.56652781829\n",
      "yt : [INFO     ] 2022-07-19 10:50:08,281 Parameters: domain_dimensions         = [256 256 256]\n",
      "yt : [INFO     ] 2022-07-19 10:50:08,284 Parameters: domain_left_edge          = [0. 0. 0.]\n",
      "yt : [INFO     ] 2022-07-19 10:50:08,286 Parameters: domain_right_edge         = [1. 1. 1.]\n",
      "yt : [INFO     ] 2022-07-19 10:50:08,287 Parameters: cosmological_simulation   = 1\n",
      "yt : [INFO     ] 2022-07-19 10:50:08,287 Parameters: current_redshift          = 0.6925711600732\n",
      "yt : [INFO     ] 2022-07-19 10:50:08,287 Parameters: omega_lambda              = 0.715\n",
      "yt : [INFO     ] 2022-07-19 10:50:08,288 Parameters: omega_matter              = 0.285\n",
      "yt : [INFO     ] 2022-07-19 10:50:08,289 Parameters: omega_radiation           = 0.0\n",
      "yt : [INFO     ] 2022-07-19 10:50:08,289 Parameters: hubble_constant           = 0.695\n"
     ]
    },
    {
     "name": "stdout",
     "output_type": "stream",
     "text": [
      "get_refine_box: using this location:       col1        col2     col3     col4     col5     col6     col7   col8\n",
      "--------------- -------- -------- -------- -------- -------- -------- ----\n",
      "0.6925711600732 0.490889 0.479086 0.504717 0.492889 0.481086 0.506717    9\n"
     ]
    },
    {
     "name": "stderr",
     "output_type": "stream",
     "text": [
      "Parsing Hierarchy : 100%|████████████████| 5729/5729 [00:00<00:00, 18398.68it/s]\n",
      "yt : [INFO     ] 2022-07-19 10:50:08,801 Gathering a field list (this may take a moment.)\n",
      "yt : [WARNING  ] 2022-07-19 10:50:11,731 The stars particle filter already exists. Overriding.\n",
      "yt : [WARNING  ] 2022-07-19 10:50:11,732 The DM particle filter already exists. Overriding.\n"
     ]
    },
    {
     "name": "stdout",
     "output_type": "stream",
     "text": [
      "Pulling halo center from catalog file\n",
      "Opening snapshot /Volumes/TempestTimeSteps/DD1267/DD1267\n"
     ]
    },
    {
     "name": "stderr",
     "output_type": "stream",
     "text": [
      "yt : [INFO     ] 2022-07-19 10:50:11,941 Parameters: current_time              = 349.56652781829\n",
      "yt : [INFO     ] 2022-07-19 10:50:11,945 Parameters: domain_dimensions         = [256 256 256]\n",
      "yt : [INFO     ] 2022-07-19 10:50:11,949 Parameters: domain_left_edge          = [0. 0. 0.]\n",
      "yt : [INFO     ] 2022-07-19 10:50:11,952 Parameters: domain_right_edge         = [1. 1. 1.]\n",
      "yt : [INFO     ] 2022-07-19 10:50:11,953 Parameters: cosmological_simulation   = 1\n",
      "yt : [INFO     ] 2022-07-19 10:50:11,954 Parameters: current_redshift          = 0.67403220866149\n",
      "yt : [INFO     ] 2022-07-19 10:50:11,954 Parameters: omega_lambda              = 0.715\n",
      "yt : [INFO     ] 2022-07-19 10:50:11,955 Parameters: omega_matter              = 0.285\n",
      "yt : [INFO     ] 2022-07-19 10:50:11,956 Parameters: omega_radiation           = 0.0\n",
      "yt : [INFO     ] 2022-07-19 10:50:11,956 Parameters: hubble_constant           = 0.695\n"
     ]
    },
    {
     "name": "stdout",
     "output_type": "stream",
     "text": [
      "get_refine_box: using this location:       col1         col2     col3    col4     col5     col6    col7   col8\n",
      "---------------- -------- ------- -------- -------- ------- -------- ----\n",
      "0.67403220866149 0.490839 0.47889 0.504803 0.492839 0.48089 0.506803    9\n"
     ]
    },
    {
     "name": "stderr",
     "output_type": "stream",
     "text": [
      "Parsing Hierarchy : 100%|████████████████| 5866/5866 [00:00<00:00, 16509.38it/s]\n",
      "yt : [INFO     ] 2022-07-19 10:50:12,567 Gathering a field list (this may take a moment.)\n",
      "yt : [WARNING  ] 2022-07-19 10:50:15,734 The stars particle filter already exists. Overriding.\n",
      "yt : [WARNING  ] 2022-07-19 10:50:15,735 The DM particle filter already exists. Overriding.\n"
     ]
    },
    {
     "name": "stdout",
     "output_type": "stream",
     "text": [
      "Pulling halo center from catalog file\n",
      "Opening snapshot /Volumes/TempestTimeSteps/DD1287/DD1287\n"
     ]
    },
    {
     "name": "stderr",
     "output_type": "stream",
     "text": [
      "yt : [INFO     ] 2022-07-19 10:50:15,928 Parameters: current_time              = 354.56652781829\n",
      "yt : [INFO     ] 2022-07-19 10:50:15,931 Parameters: domain_dimensions         = [256 256 256]\n",
      "yt : [INFO     ] 2022-07-19 10:50:15,934 Parameters: domain_left_edge          = [0. 0. 0.]\n",
      "yt : [INFO     ] 2022-07-19 10:50:15,937 Parameters: domain_right_edge         = [1. 1. 1.]\n",
      "yt : [INFO     ] 2022-07-19 10:50:15,938 Parameters: cosmological_simulation   = 1\n",
      "yt : [INFO     ] 2022-07-19 10:50:15,939 Parameters: current_redshift          = 0.65589052687153\n",
      "yt : [INFO     ] 2022-07-19 10:50:15,940 Parameters: omega_lambda              = 0.715\n",
      "yt : [INFO     ] 2022-07-19 10:50:15,940 Parameters: omega_matter              = 0.285\n",
      "yt : [INFO     ] 2022-07-19 10:50:15,941 Parameters: omega_radiation           = 0.0\n",
      "yt : [INFO     ] 2022-07-19 10:50:15,942 Parameters: hubble_constant           = 0.695\n"
     ]
    },
    {
     "name": "stdout",
     "output_type": "stream",
     "text": [
      "get_refine_box: using this location:       col1         col2     col3     col4     col5     col6     col7   col8\n",
      "---------------- -------- -------- -------- -------- -------- -------- ----\n",
      "0.65589052687153 0.490792 0.478699 0.504887 0.492792 0.480699 0.506887    9\n"
     ]
    },
    {
     "name": "stderr",
     "output_type": "stream",
     "text": [
      "Parsing Hierarchy : 100%|████████████████| 6144/6144 [00:00<00:00, 16498.05it/s]\n",
      "yt : [INFO     ] 2022-07-19 10:50:16,556 Gathering a field list (this may take a moment.)\n",
      "yt : [WARNING  ] 2022-07-19 10:50:19,289 The stars particle filter already exists. Overriding.\n",
      "yt : [WARNING  ] 2022-07-19 10:50:19,289 The DM particle filter already exists. Overriding.\n"
     ]
    },
    {
     "name": "stdout",
     "output_type": "stream",
     "text": [
      "Pulling halo center from catalog file\n",
      "Opening snapshot /Volumes/TempestTimeSteps/DD1307/DD1307\n"
     ]
    },
    {
     "name": "stderr",
     "output_type": "stream",
     "text": [
      "yt : [INFO     ] 2022-07-19 10:50:19,474 Parameters: current_time              = 359.56652781829\n",
      "yt : [INFO     ] 2022-07-19 10:50:19,477 Parameters: domain_dimensions         = [256 256 256]\n",
      "yt : [INFO     ] 2022-07-19 10:50:19,480 Parameters: domain_left_edge          = [0. 0. 0.]\n",
      "yt : [INFO     ] 2022-07-19 10:50:19,487 Parameters: domain_right_edge         = [1. 1. 1.]\n",
      "yt : [INFO     ] 2022-07-19 10:50:19,488 Parameters: cosmological_simulation   = 1\n",
      "yt : [INFO     ] 2022-07-19 10:50:19,488 Parameters: current_redshift          = 0.63813139676917\n",
      "yt : [INFO     ] 2022-07-19 10:50:19,489 Parameters: omega_lambda              = 0.715\n",
      "yt : [INFO     ] 2022-07-19 10:50:19,489 Parameters: omega_matter              = 0.285\n",
      "yt : [INFO     ] 2022-07-19 10:50:19,490 Parameters: omega_radiation           = 0.0\n",
      "yt : [INFO     ] 2022-07-19 10:50:19,490 Parameters: hubble_constant           = 0.695\n"
     ]
    },
    {
     "name": "stdout",
     "output_type": "stream",
     "text": [
      "get_refine_box: using this location:       col1         col2     col3     col4     col5     col6     col7   col8\n",
      "---------------- -------- -------- -------- -------- -------- -------- ----\n",
      "0.63813139676917 0.490748 0.478512 0.504971 0.492748 0.480512 0.506971    9\n"
     ]
    },
    {
     "name": "stderr",
     "output_type": "stream",
     "text": [
      "Parsing Hierarchy : 100%|████████████████| 6120/6120 [00:00<00:00, 19311.46it/s]\n",
      "yt : [INFO     ] 2022-07-19 10:50:20,035 Gathering a field list (this may take a moment.)\n",
      "yt : [WARNING  ] 2022-07-19 10:50:22,969 The stars particle filter already exists. Overriding.\n",
      "yt : [WARNING  ] 2022-07-19 10:50:22,970 The DM particle filter already exists. Overriding.\n"
     ]
    },
    {
     "name": "stdout",
     "output_type": "stream",
     "text": [
      "Pulling halo center from catalog file\n",
      "Opening snapshot /Volumes/TempestTimeSteps/DD1310/DD1310\n"
     ]
    },
    {
     "name": "stderr",
     "output_type": "stream",
     "text": [
      "yt : [INFO     ] 2022-07-19 10:50:23,192 Parameters: current_time              = 360.31652781829\n",
      "yt : [INFO     ] 2022-07-19 10:50:23,194 Parameters: domain_dimensions         = [256 256 256]\n",
      "yt : [INFO     ] 2022-07-19 10:50:23,197 Parameters: domain_left_edge          = [0. 0. 0.]\n",
      "yt : [INFO     ] 2022-07-19 10:50:23,199 Parameters: domain_right_edge         = [1. 1. 1.]\n",
      "yt : [INFO     ] 2022-07-19 10:50:23,200 Parameters: cosmological_simulation   = 1\n",
      "yt : [INFO     ] 2022-07-19 10:50:23,201 Parameters: current_redshift          = 0.63549964938239\n",
      "yt : [INFO     ] 2022-07-19 10:50:23,201 Parameters: omega_lambda              = 0.715\n",
      "yt : [INFO     ] 2022-07-19 10:50:23,202 Parameters: omega_matter              = 0.285\n",
      "yt : [INFO     ] 2022-07-19 10:50:23,203 Parameters: omega_radiation           = 0.0\n",
      "yt : [INFO     ] 2022-07-19 10:50:23,204 Parameters: hubble_constant           = 0.695\n"
     ]
    },
    {
     "name": "stdout",
     "output_type": "stream",
     "text": [
      "get_refine_box: using this location:       col1         col2     col3     col4     col5     col6     col7   col8\n",
      "---------------- -------- -------- -------- -------- -------- -------- ----\n",
      "0.63549964938239 0.490742 0.478486 0.504982 0.492742 0.480486 0.506982    9\n"
     ]
    },
    {
     "name": "stderr",
     "output_type": "stream",
     "text": [
      "Parsing Hierarchy : 100%|████████████████| 6117/6117 [00:00<00:00, 18069.35it/s]\n",
      "yt : [INFO     ] 2022-07-19 10:50:23,778 Gathering a field list (this may take a moment.)\n",
      "yt : [WARNING  ] 2022-07-19 10:50:26,625 The stars particle filter already exists. Overriding.\n",
      "yt : [WARNING  ] 2022-07-19 10:50:26,626 The DM particle filter already exists. Overriding.\n"
     ]
    },
    {
     "name": "stdout",
     "output_type": "stream",
     "text": [
      "Pulling halo center from catalog file\n",
      "Opening snapshot /Volumes/TempestTimeSteps/DD1311/DD1311\n"
     ]
    },
    {
     "name": "stderr",
     "output_type": "stream",
     "text": [
      "yt : [INFO     ] 2022-07-19 10:50:26,812 Parameters: current_time              = 360.56652781829\n",
      "yt : [INFO     ] 2022-07-19 10:50:26,817 Parameters: domain_dimensions         = [256 256 256]\n",
      "yt : [INFO     ] 2022-07-19 10:50:26,819 Parameters: domain_left_edge          = [0. 0. 0.]\n",
      "yt : [INFO     ] 2022-07-19 10:50:26,822 Parameters: domain_right_edge         = [1. 1. 1.]\n",
      "yt : [INFO     ] 2022-07-19 10:50:26,823 Parameters: cosmological_simulation   = 1\n",
      "yt : [INFO     ] 2022-07-19 10:50:26,823 Parameters: current_redshift          = 0.63462423495761\n",
      "yt : [INFO     ] 2022-07-19 10:50:26,824 Parameters: omega_lambda              = 0.715\n",
      "yt : [INFO     ] 2022-07-19 10:50:26,824 Parameters: omega_matter              = 0.285\n",
      "yt : [INFO     ] 2022-07-19 10:50:26,825 Parameters: omega_radiation           = 0.0\n",
      "yt : [INFO     ] 2022-07-19 10:50:26,825 Parameters: hubble_constant           = 0.695\n"
     ]
    },
    {
     "name": "stdout",
     "output_type": "stream",
     "text": [
      "get_refine_box: using this location:       col1         col2    col3     col4     col5    col6     col7   col8\n",
      "---------------- ------- -------- -------- ------- -------- -------- ----\n",
      "0.63462423495761 0.49074 0.478476 0.504986 0.49274 0.480476 0.506986    9\n"
     ]
    },
    {
     "name": "stderr",
     "output_type": "stream",
     "text": [
      "Parsing Hierarchy : 100%|████████████████| 6212/6212 [00:00<00:00, 18593.79it/s]\n",
      "yt : [INFO     ] 2022-07-19 10:50:27,417 Gathering a field list (this may take a moment.)\n",
      "yt : [WARNING  ] 2022-07-19 10:50:30,406 The stars particle filter already exists. Overriding.\n",
      "yt : [WARNING  ] 2022-07-19 10:50:30,407 The DM particle filter already exists. Overriding.\n",
      "yt : [INFO     ] 2022-07-19 10:50:30,507 Parameters: current_time              = 360.81652781829\n",
      "yt : [INFO     ] 2022-07-19 10:50:30,510 Parameters: domain_dimensions         = [256 256 256]\n",
      "yt : [INFO     ] 2022-07-19 10:50:30,514 Parameters: domain_left_edge          = [0. 0. 0.]\n",
      "yt : [INFO     ] 2022-07-19 10:50:30,516 Parameters: domain_right_edge         = [1. 1. 1.]\n",
      "yt : [INFO     ] 2022-07-19 10:50:30,517 Parameters: cosmological_simulation   = 1\n",
      "yt : [INFO     ] 2022-07-19 10:50:30,517 Parameters: current_redshift          = 0.63374973507151\n",
      "yt : [INFO     ] 2022-07-19 10:50:30,518 Parameters: omega_lambda              = 0.715\n",
      "yt : [INFO     ] 2022-07-19 10:50:30,519 Parameters: omega_matter              = 0.285\n",
      "yt : [INFO     ] 2022-07-19 10:50:30,521 Parameters: omega_radiation           = 0.0\n",
      "yt : [INFO     ] 2022-07-19 10:50:30,522 Parameters: hubble_constant           = 0.695\n"
     ]
    },
    {
     "name": "stdout",
     "output_type": "stream",
     "text": [
      "Pulling halo center from catalog file\n",
      "Opening snapshot /Volumes/TempestTimeSteps/DD1312/DD1312\n",
      "get_refine_box: using this location:       col1         col2     col3     col4    col5     col6     col7  col8\n",
      "---------------- -------- -------- ------- -------- -------- ------- ----\n",
      "0.63374973507151 0.490738 0.478466 0.50499 0.492738 0.480466 0.50699    9\n"
     ]
    },
    {
     "name": "stderr",
     "output_type": "stream",
     "text": [
      "Parsing Hierarchy : 100%|████████████████| 6058/6058 [00:00<00:00, 18230.73it/s]\n",
      "yt : [INFO     ] 2022-07-19 10:50:31,147 Gathering a field list (this may take a moment.)\n",
      "yt : [WARNING  ] 2022-07-19 10:50:34,053 The stars particle filter already exists. Overriding.\n",
      "yt : [WARNING  ] 2022-07-19 10:50:34,054 The DM particle filter already exists. Overriding.\n",
      "yt : [INFO     ] 2022-07-19 10:50:34,151 Parameters: current_time              = 361.06652781829\n",
      "yt : [INFO     ] 2022-07-19 10:50:34,153 Parameters: domain_dimensions         = [256 256 256]\n",
      "yt : [INFO     ] 2022-07-19 10:50:34,156 Parameters: domain_left_edge          = [0. 0. 0.]\n",
      "yt : [INFO     ] 2022-07-19 10:50:34,158 Parameters: domain_right_edge         = [1. 1. 1.]\n",
      "yt : [INFO     ] 2022-07-19 10:50:34,159 Parameters: cosmological_simulation   = 1\n",
      "yt : [INFO     ] 2022-07-19 10:50:34,159 Parameters: current_redshift          = 0.63287614804254\n",
      "yt : [INFO     ] 2022-07-19 10:50:34,160 Parameters: omega_lambda              = 0.715\n",
      "yt : [INFO     ] 2022-07-19 10:50:34,160 Parameters: omega_matter              = 0.285\n",
      "yt : [INFO     ] 2022-07-19 10:50:34,161 Parameters: omega_radiation           = 0.0\n",
      "yt : [INFO     ] 2022-07-19 10:50:34,162 Parameters: hubble_constant           = 0.695\n"
     ]
    },
    {
     "name": "stdout",
     "output_type": "stream",
     "text": [
      "Pulling halo center from catalog file\n",
      "Opening snapshot /Volumes/TempestTimeSteps/DD1313/DD1313\n",
      "get_refine_box: using this location:       col1         col2     col3     col4     col5     col6     col7   col8\n",
      "---------------- -------- -------- -------- -------- -------- -------- ----\n",
      "0.63287614804254 0.490735 0.478457 0.504994 0.492735 0.480457 0.506994    9\n"
     ]
    },
    {
     "name": "stderr",
     "output_type": "stream",
     "text": [
      "Parsing Hierarchy : 100%|████████████████| 6082/6082 [00:00<00:00, 10764.81it/s]\n",
      "yt : [INFO     ] 2022-07-19 10:50:35,105 Gathering a field list (this may take a moment.)\n",
      "yt : [WARNING  ] 2022-07-19 10:50:38,044 The stars particle filter already exists. Overriding.\n",
      "yt : [WARNING  ] 2022-07-19 10:50:38,044 The DM particle filter already exists. Overriding.\n",
      "yt : [INFO     ] 2022-07-19 10:50:38,151 Parameters: current_time              = 361.31652781829\n",
      "yt : [INFO     ] 2022-07-19 10:50:38,154 Parameters: domain_dimensions         = [256 256 256]\n",
      "yt : [INFO     ] 2022-07-19 10:50:38,157 Parameters: domain_left_edge          = [0. 0. 0.]\n",
      "yt : [INFO     ] 2022-07-19 10:50:38,159 Parameters: domain_right_edge         = [1. 1. 1.]\n",
      "yt : [INFO     ] 2022-07-19 10:50:38,160 Parameters: cosmological_simulation   = 1\n",
      "yt : [INFO     ] 2022-07-19 10:50:38,160 Parameters: current_redshift          = 0.63200347219345\n",
      "yt : [INFO     ] 2022-07-19 10:50:38,161 Parameters: omega_lambda              = 0.715\n",
      "yt : [INFO     ] 2022-07-19 10:50:38,162 Parameters: omega_matter              = 0.285\n",
      "yt : [INFO     ] 2022-07-19 10:50:38,162 Parameters: omega_radiation           = 0.0\n",
      "yt : [INFO     ] 2022-07-19 10:50:38,163 Parameters: hubble_constant           = 0.695\n"
     ]
    },
    {
     "name": "stdout",
     "output_type": "stream",
     "text": [
      "Pulling halo center from catalog file\n",
      "Opening snapshot /Volumes/TempestTimeSteps/DD1314/DD1314\n",
      "get_refine_box: using this location:       col1         col2     col3    col4   col5     col6    col7 col8\n",
      "---------------- -------- -------- ----- -------- -------- ----- ----\n",
      "0.63200347219345 0.490733 0.478449 0.505 0.492733 0.480449 0.507    9\n"
     ]
    },
    {
     "name": "stderr",
     "output_type": "stream",
     "text": [
      "Parsing Hierarchy : 100%|████████████████| 5996/5996 [00:00<00:00, 17498.14it/s]\n",
      "yt : [INFO     ] 2022-07-19 10:50:38,814 Gathering a field list (this may take a moment.)\n",
      "yt : [WARNING  ] 2022-07-19 10:50:41,713 The stars particle filter already exists. Overriding.\n",
      "yt : [WARNING  ] 2022-07-19 10:50:41,714 The DM particle filter already exists. Overriding.\n",
      "yt : [INFO     ] 2022-07-19 10:50:41,813 Parameters: current_time              = 361.56652781829\n",
      "yt : [INFO     ] 2022-07-19 10:50:41,815 Parameters: domain_dimensions         = [256 256 256]\n",
      "yt : [INFO     ] 2022-07-19 10:50:41,817 Parameters: domain_left_edge          = [0. 0. 0.]\n",
      "yt : [INFO     ] 2022-07-19 10:50:41,820 Parameters: domain_right_edge         = [1. 1. 1.]\n",
      "yt : [INFO     ] 2022-07-19 10:50:41,820 Parameters: cosmological_simulation   = 1\n",
      "yt : [INFO     ] 2022-07-19 10:50:41,821 Parameters: current_redshift          = 0.63113170585127\n",
      "yt : [INFO     ] 2022-07-19 10:50:41,821 Parameters: omega_lambda              = 0.715\n",
      "yt : [INFO     ] 2022-07-19 10:50:41,822 Parameters: omega_matter              = 0.285\n",
      "yt : [INFO     ] 2022-07-19 10:50:41,823 Parameters: omega_radiation           = 0.0\n",
      "yt : [INFO     ] 2022-07-19 10:50:41,824 Parameters: hubble_constant           = 0.695\n"
     ]
    },
    {
     "name": "stdout",
     "output_type": "stream",
     "text": [
      "Pulling halo center from catalog file\n",
      "Opening snapshot /Volumes/TempestTimeSteps/DD1315/DD1315\n",
      "get_refine_box: using this location:       col1         col2     col3    col4     col5     col6    col7   col8\n",
      "---------------- -------- ------- -------- -------- ------- -------- ----\n",
      "0.63113170585127 0.490731 0.47844 0.505003 0.492731 0.48044 0.507003    9\n"
     ]
    },
    {
     "name": "stderr",
     "output_type": "stream",
     "text": [
      "Parsing Hierarchy : 100%|████████████████| 6053/6053 [00:00<00:00, 18010.32it/s]\n",
      "yt : [INFO     ] 2022-07-19 10:50:42,469 Gathering a field list (this may take a moment.)\n",
      "yt : [WARNING  ] 2022-07-19 10:50:46,109 The stars particle filter already exists. Overriding.\n",
      "yt : [WARNING  ] 2022-07-19 10:50:46,109 The DM particle filter already exists. Overriding.\n",
      "yt : [INFO     ] 2022-07-19 10:50:46,207 Parameters: current_time              = 361.81652781829\n",
      "yt : [INFO     ] 2022-07-19 10:50:46,209 Parameters: domain_dimensions         = [256 256 256]\n",
      "yt : [INFO     ] 2022-07-19 10:50:46,212 Parameters: domain_left_edge          = [0. 0. 0.]\n",
      "yt : [INFO     ] 2022-07-19 10:50:46,214 Parameters: domain_right_edge         = [1. 1. 1.]\n",
      "yt : [INFO     ] 2022-07-19 10:50:46,215 Parameters: cosmological_simulation   = 1\n",
      "yt : [INFO     ] 2022-07-19 10:50:46,215 Parameters: current_redshift          = 0.63026084734731\n",
      "yt : [INFO     ] 2022-07-19 10:50:46,216 Parameters: omega_lambda              = 0.715\n",
      "yt : [INFO     ] 2022-07-19 10:50:46,216 Parameters: omega_matter              = 0.285\n",
      "yt : [INFO     ] 2022-07-19 10:50:46,217 Parameters: omega_radiation           = 0.0\n",
      "yt : [INFO     ] 2022-07-19 10:50:46,218 Parameters: hubble_constant           = 0.695\n"
     ]
    },
    {
     "name": "stdout",
     "output_type": "stream",
     "text": [
      "Pulling halo center from catalog file\n",
      "Opening snapshot /Volumes/TempestTimeSteps/DD1316/DD1316\n",
      "get_refine_box: using this location:       col1         col2     col3    col4     col5     col6    col7   col8\n",
      "---------------- -------- ------- -------- -------- ------- -------- ----\n",
      "0.63026084734731 0.490729 0.47843 0.505007 0.492729 0.48043 0.507007    9\n"
     ]
    },
    {
     "name": "stderr",
     "output_type": "stream",
     "text": [
      "Parsing Hierarchy : 100%|████████████████| 5907/5907 [00:00<00:00, 18160.86it/s]\n",
      "yt : [INFO     ] 2022-07-19 10:50:46,870 Gathering a field list (this may take a moment.)\n",
      "yt : [WARNING  ] 2022-07-19 10:50:49,981 The stars particle filter already exists. Overriding.\n",
      "yt : [WARNING  ] 2022-07-19 10:50:49,981 The DM particle filter already exists. Overriding.\n",
      "yt : [INFO     ] 2022-07-19 10:50:50,082 Parameters: current_time              = 362.31652781829\n",
      "yt : [INFO     ] 2022-07-19 10:50:50,084 Parameters: domain_dimensions         = [256 256 256]\n",
      "yt : [INFO     ] 2022-07-19 10:50:50,087 Parameters: domain_left_edge          = [0. 0. 0.]\n",
      "yt : [INFO     ] 2022-07-19 10:50:50,090 Parameters: domain_right_edge         = [1. 1. 1.]\n",
      "yt : [INFO     ] 2022-07-19 10:50:50,090 Parameters: cosmological_simulation   = 1\n",
      "yt : [INFO     ] 2022-07-19 10:50:50,091 Parameters: current_redshift          = 0.62852184720062\n",
      "yt : [INFO     ] 2022-07-19 10:50:50,091 Parameters: omega_lambda              = 0.715\n",
      "yt : [INFO     ] 2022-07-19 10:50:50,092 Parameters: omega_matter              = 0.285\n",
      "yt : [INFO     ] 2022-07-19 10:50:50,093 Parameters: omega_radiation           = 0.0\n",
      "yt : [INFO     ] 2022-07-19 10:50:50,094 Parameters: hubble_constant           = 0.695\n"
     ]
    },
    {
     "name": "stdout",
     "output_type": "stream",
     "text": [
      "Pulling halo center from catalog file\n",
      "Opening snapshot /Volumes/TempestTimeSteps/DD1318/DD1318\n",
      "get_refine_box: using this location:       col1         col2     col3     col4     col5     col6     col7   col8\n",
      "---------------- -------- -------- -------- -------- -------- -------- ----\n",
      "0.62852184720062 0.490725 0.478411 0.505015 0.492725 0.480411 0.507015    9\n"
     ]
    },
    {
     "name": "stderr",
     "output_type": "stream",
     "text": [
      "Parsing Hierarchy : 100%|█████████████████| 6061/6061 [00:04<00:00, 1350.17it/s]\n",
      "yt : [INFO     ] 2022-07-19 10:50:54,900 Gathering a field list (this may take a moment.)\n",
      "yt : [WARNING  ] 2022-07-19 10:50:57,732 The stars particle filter already exists. Overriding.\n",
      "yt : [WARNING  ] 2022-07-19 10:50:57,733 The DM particle filter already exists. Overriding.\n"
     ]
    },
    {
     "name": "stdout",
     "output_type": "stream",
     "text": [
      "Pulling halo center from catalog file\n",
      "Opening snapshot /Volumes/TempestTimeSteps/DD1319/DD1319\n"
     ]
    },
    {
     "name": "stderr",
     "output_type": "stream",
     "text": [
      "yt : [INFO     ] 2022-07-19 10:50:57,907 Parameters: current_time              = 362.56652781829\n",
      "yt : [INFO     ] 2022-07-19 10:50:57,909 Parameters: domain_dimensions         = [256 256 256]\n",
      "yt : [INFO     ] 2022-07-19 10:50:57,912 Parameters: domain_left_edge          = [0. 0. 0.]\n",
      "yt : [INFO     ] 2022-07-19 10:50:57,917 Parameters: domain_right_edge         = [1. 1. 1.]\n",
      "yt : [INFO     ] 2022-07-19 10:50:57,918 Parameters: cosmological_simulation   = 1\n",
      "yt : [INFO     ] 2022-07-19 10:50:57,919 Parameters: current_redshift          = 0.62765370224176\n",
      "yt : [INFO     ] 2022-07-19 10:50:57,919 Parameters: omega_lambda              = 0.715\n",
      "yt : [INFO     ] 2022-07-19 10:50:57,920 Parameters: omega_matter              = 0.285\n",
      "yt : [INFO     ] 2022-07-19 10:50:57,921 Parameters: omega_radiation           = 0.0\n",
      "yt : [INFO     ] 2022-07-19 10:50:57,921 Parameters: hubble_constant           = 0.695\n"
     ]
    },
    {
     "name": "stdout",
     "output_type": "stream",
     "text": [
      "get_refine_box: using this location:       col1         col2     col3     col4     col5     col6     col7   col8\n",
      "---------------- -------- -------- -------- -------- -------- -------- ----\n",
      "0.62765370224176 0.490723 0.478402 0.505019 0.492723 0.480402 0.507019    9\n"
     ]
    },
    {
     "name": "stderr",
     "output_type": "stream",
     "text": [
      "Parsing Hierarchy : 100%|████████████████| 6108/6108 [00:00<00:00, 16312.93it/s]\n",
      "yt : [INFO     ] 2022-07-19 10:50:58,543 Gathering a field list (this may take a moment.)\n",
      "yt : [WARNING  ] 2022-07-19 10:51:01,494 The stars particle filter already exists. Overriding.\n",
      "yt : [WARNING  ] 2022-07-19 10:51:01,495 The DM particle filter already exists. Overriding.\n"
     ]
    },
    {
     "name": "stdout",
     "output_type": "stream",
     "text": [
      "Pulling halo center from catalog file\n",
      "Opening snapshot /Volumes/TempestTimeSteps/DD1320/DD1320\n"
     ]
    },
    {
     "name": "stderr",
     "output_type": "stream",
     "text": [
      "yt : [INFO     ] 2022-07-19 10:51:01,680 Parameters: current_time              = 362.81652781829\n",
      "yt : [INFO     ] 2022-07-19 10:51:01,683 Parameters: domain_dimensions         = [256 256 256]\n",
      "yt : [INFO     ] 2022-07-19 10:51:01,686 Parameters: domain_left_edge          = [0. 0. 0.]\n",
      "yt : [INFO     ] 2022-07-19 10:51:01,689 Parameters: domain_right_edge         = [1. 1. 1.]\n",
      "yt : [INFO     ] 2022-07-19 10:51:01,689 Parameters: cosmological_simulation   = 1\n",
      "yt : [INFO     ] 2022-07-19 10:51:01,690 Parameters: current_redshift          = 0.62678645848885\n",
      "yt : [INFO     ] 2022-07-19 10:51:01,690 Parameters: omega_lambda              = 0.715\n",
      "yt : [INFO     ] 2022-07-19 10:51:01,691 Parameters: omega_matter              = 0.285\n",
      "yt : [INFO     ] 2022-07-19 10:51:01,691 Parameters: omega_radiation           = 0.0\n",
      "yt : [INFO     ] 2022-07-19 10:51:01,691 Parameters: hubble_constant           = 0.695\n"
     ]
    },
    {
     "name": "stdout",
     "output_type": "stream",
     "text": [
      "get_refine_box: using this location:       col1         col2     col3     col4     col5     col6     col7   col8\n",
      "---------------- -------- -------- -------- -------- -------- -------- ----\n",
      "0.62678645848885 0.490721 0.478392 0.505022 0.492721 0.480392 0.507022    9\n"
     ]
    },
    {
     "name": "stderr",
     "output_type": "stream",
     "text": [
      "Parsing Hierarchy : 100%|████████████████| 6021/6021 [00:00<00:00, 14955.89it/s]\n",
      "yt : [INFO     ] 2022-07-19 10:51:02,391 Gathering a field list (this may take a moment.)\n",
      "yt : [WARNING  ] 2022-07-19 10:51:05,500 The stars particle filter already exists. Overriding.\n",
      "yt : [WARNING  ] 2022-07-19 10:51:05,501 The DM particle filter already exists. Overriding.\n"
     ]
    },
    {
     "name": "stdout",
     "output_type": "stream",
     "text": [
      "Pulling halo center from catalog file\n",
      "Opening snapshot /Volumes/TempestTimeSteps/DD1327/DD1327\n"
     ]
    },
    {
     "name": "stderr",
     "output_type": "stream",
     "text": [
      "yt : [INFO     ] 2022-07-19 10:51:05,725 Parameters: current_time              = 364.56652781829\n",
      "yt : [INFO     ] 2022-07-19 10:51:05,727 Parameters: domain_dimensions         = [256 256 256]\n",
      "yt : [INFO     ] 2022-07-19 10:51:05,730 Parameters: domain_left_edge          = [0. 0. 0.]\n",
      "yt : [INFO     ] 2022-07-19 10:51:05,735 Parameters: domain_right_edge         = [1. 1. 1.]\n",
      "yt : [INFO     ] 2022-07-19 10:51:05,736 Parameters: cosmological_simulation   = 1\n",
      "yt : [INFO     ] 2022-07-19 10:51:05,736 Parameters: current_redshift          = 0.62074084812024\n",
      "yt : [INFO     ] 2022-07-19 10:51:05,736 Parameters: omega_lambda              = 0.715\n",
      "yt : [INFO     ] 2022-07-19 10:51:05,737 Parameters: omega_matter              = 0.285\n",
      "yt : [INFO     ] 2022-07-19 10:51:05,738 Parameters: omega_radiation           = 0.0\n",
      "yt : [INFO     ] 2022-07-19 10:51:05,738 Parameters: hubble_constant           = 0.695\n"
     ]
    },
    {
     "name": "stdout",
     "output_type": "stream",
     "text": [
      "get_refine_box: using this location:       col1         col2     col3     col4     col5     col6     col7   col8\n",
      "---------------- -------- -------- -------- -------- -------- -------- ----\n",
      "0.62074084812024 0.490704 0.478329 0.505051 0.492704 0.480329 0.507051    9\n"
     ]
    },
    {
     "name": "stderr",
     "output_type": "stream",
     "text": [
      "Parsing Hierarchy : 100%|████████████████| 6122/6122 [00:00<00:00, 17341.10it/s]\n",
      "yt : [INFO     ] 2022-07-19 10:51:06,339 Gathering a field list (this may take a moment.)\n",
      "yt : [WARNING  ] 2022-07-19 10:51:09,065 The stars particle filter already exists. Overriding.\n",
      "yt : [WARNING  ] 2022-07-19 10:51:09,066 The DM particle filter already exists. Overriding.\n"
     ]
    },
    {
     "name": "stdout",
     "output_type": "stream",
     "text": [
      "Pulling halo center from catalog file\n",
      "Opening snapshot /Volumes/TempestTimeSteps/DD1347/DD1347\n"
     ]
    },
    {
     "name": "stderr",
     "output_type": "stream",
     "text": [
      "yt : [INFO     ] 2022-07-19 10:51:09,271 Parameters: current_time              = 369.56652781829\n",
      "yt : [INFO     ] 2022-07-19 10:51:09,275 Parameters: domain_dimensions         = [256 256 256]\n",
      "yt : [INFO     ] 2022-07-19 10:51:09,279 Parameters: domain_left_edge          = [0. 0. 0.]\n",
      "yt : [INFO     ] 2022-07-19 10:51:09,282 Parameters: domain_right_edge         = [1. 1. 1.]\n",
      "yt : [INFO     ] 2022-07-19 10:51:09,283 Parameters: cosmological_simulation   = 1\n",
      "yt : [INFO     ] 2022-07-19 10:51:09,284 Parameters: current_redshift          = 0.60370561098879\n",
      "yt : [INFO     ] 2022-07-19 10:51:09,285 Parameters: omega_lambda              = 0.715\n",
      "yt : [INFO     ] 2022-07-19 10:51:09,285 Parameters: omega_matter              = 0.285\n",
      "yt : [INFO     ] 2022-07-19 10:51:09,286 Parameters: omega_radiation           = 0.0\n",
      "yt : [INFO     ] 2022-07-19 10:51:09,286 Parameters: hubble_constant           = 0.695\n"
     ]
    },
    {
     "name": "stdout",
     "output_type": "stream",
     "text": [
      "get_refine_box: using this location:       col1         col2    col3     col4     col5    col6     col7   col8\n",
      "---------------- ------- -------- -------- ------- -------- -------- ----\n",
      "0.60370561098879 0.49066 0.478148 0.505129 0.49266 0.480148 0.507129    9\n"
     ]
    },
    {
     "name": "stderr",
     "output_type": "stream",
     "text": [
      "Parsing Hierarchy : 100%|████████████████| 6238/6238 [00:00<00:00, 18586.22it/s]\n",
      "yt : [INFO     ] 2022-07-19 10:51:09,864 Gathering a field list (this may take a moment.)\n",
      "yt : [WARNING  ] 2022-07-19 10:51:12,682 The stars particle filter already exists. Overriding.\n",
      "yt : [WARNING  ] 2022-07-19 10:51:12,682 The DM particle filter already exists. Overriding.\n"
     ]
    },
    {
     "name": "stdout",
     "output_type": "stream",
     "text": [
      "Pulling halo center from catalog file\n",
      "Opening snapshot /Volumes/TempestTimeSteps/DD1367/DD1367\n"
     ]
    },
    {
     "name": "stderr",
     "output_type": "stream",
     "text": [
      "yt : [INFO     ] 2022-07-19 10:51:12,853 Parameters: current_time              = 374.56652781829\n",
      "yt : [INFO     ] 2022-07-19 10:51:12,856 Parameters: domain_dimensions         = [256 256 256]\n",
      "yt : [INFO     ] 2022-07-19 10:51:12,860 Parameters: domain_left_edge          = [0. 0. 0.]\n",
      "yt : [INFO     ] 2022-07-19 10:51:12,863 Parameters: domain_right_edge         = [1. 1. 1.]\n",
      "yt : [INFO     ] 2022-07-19 10:51:12,864 Parameters: cosmological_simulation   = 1\n",
      "yt : [INFO     ] 2022-07-19 10:51:12,865 Parameters: current_redshift          = 0.58701307192989\n",
      "yt : [INFO     ] 2022-07-19 10:51:12,865 Parameters: omega_lambda              = 0.715\n",
      "yt : [INFO     ] 2022-07-19 10:51:12,866 Parameters: omega_matter              = 0.285\n",
      "yt : [INFO     ] 2022-07-19 10:51:12,866 Parameters: omega_radiation           = 0.0\n",
      "yt : [INFO     ] 2022-07-19 10:51:12,867 Parameters: hubble_constant           = 0.695\n"
     ]
    },
    {
     "name": "stdout",
     "output_type": "stream",
     "text": [
      "get_refine_box: using this location:       col1         col2     col3     col4     col5     col6     col7   col8\n",
      "---------------- -------- -------- -------- -------- -------- -------- ----\n",
      "0.58701307192989 0.490616 0.477969 0.505207 0.492616 0.479969 0.507207    9\n"
     ]
    },
    {
     "name": "stderr",
     "output_type": "stream",
     "text": [
      "Parsing Hierarchy : 100%|████████████████| 6198/6198 [00:00<00:00, 18494.36it/s]\n",
      "yt : [INFO     ] 2022-07-19 10:51:13,437 Gathering a field list (this may take a moment.)\n",
      "yt : [WARNING  ] 2022-07-19 10:51:16,499 The stars particle filter already exists. Overriding.\n",
      "yt : [WARNING  ] 2022-07-19 10:51:16,500 The DM particle filter already exists. Overriding.\n"
     ]
    },
    {
     "name": "stdout",
     "output_type": "stream",
     "text": [
      "Pulling halo center from catalog file\n",
      "Opening snapshot /Volumes/TempestTimeSteps/DD1387/DD1387\n"
     ]
    },
    {
     "name": "stderr",
     "output_type": "stream",
     "text": [
      "yt : [INFO     ] 2022-07-19 10:51:16,687 Parameters: current_time              = 379.56652781829\n",
      "yt : [INFO     ] 2022-07-19 10:51:16,690 Parameters: domain_dimensions         = [256 256 256]\n",
      "yt : [INFO     ] 2022-07-19 10:51:16,693 Parameters: domain_left_edge          = [0. 0. 0.]\n",
      "yt : [INFO     ] 2022-07-19 10:51:16,695 Parameters: domain_right_edge         = [1. 1. 1.]\n",
      "yt : [INFO     ] 2022-07-19 10:51:16,696 Parameters: cosmological_simulation   = 1\n",
      "yt : [INFO     ] 2022-07-19 10:51:16,696 Parameters: current_redshift          = 0.57065123346059\n",
      "yt : [INFO     ] 2022-07-19 10:51:16,697 Parameters: omega_lambda              = 0.715\n",
      "yt : [INFO     ] 2022-07-19 10:51:16,697 Parameters: omega_matter              = 0.285\n",
      "yt : [INFO     ] 2022-07-19 10:51:16,698 Parameters: omega_radiation           = 0.0\n",
      "yt : [INFO     ] 2022-07-19 10:51:16,699 Parameters: hubble_constant           = 0.695\n"
     ]
    },
    {
     "name": "stdout",
     "output_type": "stream",
     "text": [
      "get_refine_box: using this location:       col1         col2     col3     col4     col5     col6     col7   col8\n",
      "---------------- -------- -------- -------- -------- -------- -------- ----\n",
      "0.57065123346059 0.490572 0.477791 0.505288 0.492572 0.479791 0.507288    9\n"
     ]
    },
    {
     "name": "stderr",
     "output_type": "stream",
     "text": [
      "Parsing Hierarchy : 100%|████████████████| 6136/6136 [00:00<00:00, 19098.25it/s]\n",
      "yt : [INFO     ] 2022-07-19 10:51:17,263 Gathering a field list (this may take a moment.)\n",
      "yt : [WARNING  ] 2022-07-19 10:51:19,945 The stars particle filter already exists. Overriding.\n",
      "yt : [WARNING  ] 2022-07-19 10:51:19,946 The DM particle filter already exists. Overriding.\n"
     ]
    },
    {
     "name": "stdout",
     "output_type": "stream",
     "text": [
      "Pulling halo center from catalog file\n",
      "Opening snapshot /Volumes/TempestTimeSteps/DD1407/DD1407\n"
     ]
    },
    {
     "name": "stderr",
     "output_type": "stream",
     "text": [
      "yt : [INFO     ] 2022-07-19 10:51:20,134 Parameters: current_time              = 384.56652781829\n",
      "yt : [INFO     ] 2022-07-19 10:51:20,137 Parameters: domain_dimensions         = [256 256 256]\n",
      "yt : [INFO     ] 2022-07-19 10:51:20,140 Parameters: domain_left_edge          = [0. 0. 0.]\n",
      "yt : [INFO     ] 2022-07-19 10:51:20,143 Parameters: domain_right_edge         = [1. 1. 1.]\n",
      "yt : [INFO     ] 2022-07-19 10:51:20,144 Parameters: cosmological_simulation   = 1\n",
      "yt : [INFO     ] 2022-07-19 10:51:20,145 Parameters: current_redshift          = 0.55460867652421\n",
      "yt : [INFO     ] 2022-07-19 10:51:20,146 Parameters: omega_lambda              = 0.715\n",
      "yt : [INFO     ] 2022-07-19 10:51:20,146 Parameters: omega_matter              = 0.285\n",
      "yt : [INFO     ] 2022-07-19 10:51:20,147 Parameters: omega_radiation           = 0.0\n",
      "yt : [INFO     ] 2022-07-19 10:51:20,148 Parameters: hubble_constant           = 0.695\n"
     ]
    },
    {
     "name": "stdout",
     "output_type": "stream",
     "text": [
      "get_refine_box: using this location:       col1         col2     col3     col4     col5     col6     col7   col8\n",
      "---------------- -------- -------- -------- -------- -------- -------- ----\n",
      "0.55460867652421 0.490529 0.477618 0.505368 0.492529 0.479618 0.507368    9\n"
     ]
    },
    {
     "name": "stderr",
     "output_type": "stream",
     "text": [
      "Parsing Hierarchy : 100%|████████████████| 5851/5851 [00:00<00:00, 18369.69it/s]\n",
      "yt : [INFO     ] 2022-07-19 10:51:20,701 Gathering a field list (this may take a moment.)\n",
      "yt : [WARNING  ] 2022-07-19 10:51:23,469 The stars particle filter already exists. Overriding.\n",
      "yt : [WARNING  ] 2022-07-19 10:51:23,469 The DM particle filter already exists. Overriding.\n"
     ]
    },
    {
     "name": "stdout",
     "output_type": "stream",
     "text": [
      "Pulling halo center from catalog file\n",
      "Opening snapshot /Volumes/TempestTimeSteps/DD1427/DD1427\n"
     ]
    },
    {
     "name": "stderr",
     "output_type": "stream",
     "text": [
      "yt : [INFO     ] 2022-07-19 10:51:23,656 Parameters: current_time              = 389.56652781829\n",
      "yt : [INFO     ] 2022-07-19 10:51:23,659 Parameters: domain_dimensions         = [256 256 256]\n",
      "yt : [INFO     ] 2022-07-19 10:51:23,662 Parameters: domain_left_edge          = [0. 0. 0.]\n",
      "yt : [INFO     ] 2022-07-19 10:51:23,665 Parameters: domain_right_edge         = [1. 1. 1.]\n",
      "yt : [INFO     ] 2022-07-19 10:51:23,666 Parameters: cosmological_simulation   = 1\n",
      "yt : [INFO     ] 2022-07-19 10:51:23,667 Parameters: current_redshift          = 0.53887452569124\n",
      "yt : [INFO     ] 2022-07-19 10:51:23,668 Parameters: omega_lambda              = 0.715\n",
      "yt : [INFO     ] 2022-07-19 10:51:23,669 Parameters: omega_matter              = 0.285\n",
      "yt : [INFO     ] 2022-07-19 10:51:23,670 Parameters: omega_radiation           = 0.0\n",
      "yt : [INFO     ] 2022-07-19 10:51:23,671 Parameters: hubble_constant           = 0.695\n"
     ]
    },
    {
     "name": "stdout",
     "output_type": "stream",
     "text": [
      "get_refine_box: using this location:       col1         col2     col3     col4    col5     col6     col7  col8\n",
      "---------------- -------- -------- ------- -------- -------- ------- ----\n",
      "0.53887452569124 0.490487 0.477448 0.50545 0.492487 0.479448 0.50745    9\n"
     ]
    },
    {
     "name": "stderr",
     "output_type": "stream",
     "text": [
      "Parsing Hierarchy : 100%|████████████████| 5833/5833 [00:00<00:00, 17794.60it/s]\n",
      "yt : [INFO     ] 2022-07-19 10:51:24,226 Gathering a field list (this may take a moment.)\n",
      "yt : [WARNING  ] 2022-07-19 10:51:27,018 The stars particle filter already exists. Overriding.\n",
      "yt : [WARNING  ] 2022-07-19 10:51:27,019 The DM particle filter already exists. Overriding.\n"
     ]
    },
    {
     "name": "stdout",
     "output_type": "stream",
     "text": [
      "Pulling halo center from catalog file\n",
      "Opening snapshot /Volumes/TempestTimeSteps/DD1447/DD1447\n"
     ]
    },
    {
     "name": "stderr",
     "output_type": "stream",
     "text": [
      "yt : [INFO     ] 2022-07-19 10:51:27,221 Parameters: current_time              = 394.56652781829\n",
      "yt : [INFO     ] 2022-07-19 10:51:27,226 Parameters: domain_dimensions         = [256 256 256]\n",
      "yt : [INFO     ] 2022-07-19 10:51:27,229 Parameters: domain_left_edge          = [0. 0. 0.]\n",
      "yt : [INFO     ] 2022-07-19 10:51:27,232 Parameters: domain_right_edge         = [1. 1. 1.]\n",
      "yt : [INFO     ] 2022-07-19 10:51:27,233 Parameters: cosmological_simulation   = 1\n",
      "yt : [INFO     ] 2022-07-19 10:51:27,234 Parameters: current_redshift          = 0.52343841686509\n",
      "yt : [INFO     ] 2022-07-19 10:51:27,235 Parameters: omega_lambda              = 0.715\n",
      "yt : [INFO     ] 2022-07-19 10:51:27,235 Parameters: omega_matter              = 0.285\n",
      "yt : [INFO     ] 2022-07-19 10:51:27,236 Parameters: omega_radiation           = 0.0\n",
      "yt : [INFO     ] 2022-07-19 10:51:27,238 Parameters: hubble_constant           = 0.695\n"
     ]
    },
    {
     "name": "stdout",
     "output_type": "stream",
     "text": [
      "get_refine_box: using this location:       col1         col2     col3     col4     col5     col6     col7   col8\n",
      "---------------- -------- -------- -------- -------- -------- -------- ----\n",
      "0.52343841686509 0.490445 0.477276 0.505537 0.492445 0.479276 0.507537    9\n"
     ]
    },
    {
     "name": "stderr",
     "output_type": "stream",
     "text": [
      "Parsing Hierarchy : 100%|████████████████| 6011/6011 [00:00<00:00, 18172.70it/s]\n",
      "yt : [INFO     ] 2022-07-19 10:51:27,826 Gathering a field list (this may take a moment.)\n",
      "yt : [WARNING  ] 2022-07-19 10:51:30,755 The stars particle filter already exists. Overriding.\n",
      "yt : [WARNING  ] 2022-07-19 10:51:30,756 The DM particle filter already exists. Overriding.\n"
     ]
    },
    {
     "name": "stdout",
     "output_type": "stream",
     "text": [
      "Pulling halo center from catalog file\n",
      "Opening snapshot /Volumes/TempestTimeSteps/DD1467/DD1467\n"
     ]
    },
    {
     "name": "stderr",
     "output_type": "stream",
     "text": [
      "yt : [INFO     ] 2022-07-19 10:51:30,926 Parameters: current_time              = 399.56652781829\n",
      "yt : [INFO     ] 2022-07-19 10:51:30,930 Parameters: domain_dimensions         = [256 256 256]\n",
      "yt : [INFO     ] 2022-07-19 10:51:30,933 Parameters: domain_left_edge          = [0. 0. 0.]\n",
      "yt : [INFO     ] 2022-07-19 10:51:30,936 Parameters: domain_right_edge         = [1. 1. 1.]\n",
      "yt : [INFO     ] 2022-07-19 10:51:30,936 Parameters: cosmological_simulation   = 1\n",
      "yt : [INFO     ] 2022-07-19 10:51:30,937 Parameters: current_redshift          = 0.50829046728324\n",
      "yt : [INFO     ] 2022-07-19 10:51:30,938 Parameters: omega_lambda              = 0.715\n",
      "yt : [INFO     ] 2022-07-19 10:51:30,939 Parameters: omega_matter              = 0.285\n",
      "yt : [INFO     ] 2022-07-19 10:51:30,940 Parameters: omega_radiation           = 0.0\n",
      "yt : [INFO     ] 2022-07-19 10:51:30,940 Parameters: hubble_constant           = 0.695\n"
     ]
    },
    {
     "name": "stdout",
     "output_type": "stream",
     "text": [
      "get_refine_box: using this location:       col1         col2     col3     col4     col5     col6     col7   col8\n",
      "---------------- -------- -------- -------- -------- -------- -------- ----\n",
      "0.50829046728324 0.490403 0.477105 0.505623 0.492403 0.479105 0.507623    9\n"
     ]
    },
    {
     "name": "stderr",
     "output_type": "stream",
     "text": [
      "Parsing Hierarchy : 100%|████████████████| 6171/6171 [00:00<00:00, 18499.69it/s]\n",
      "yt : [INFO     ] 2022-07-19 10:51:31,515 Gathering a field list (this may take a moment.)\n",
      "yt : [WARNING  ] 2022-07-19 10:51:34,237 The stars particle filter already exists. Overriding.\n",
      "yt : [WARNING  ] 2022-07-19 10:51:34,238 The DM particle filter already exists. Overriding.\n"
     ]
    },
    {
     "name": "stdout",
     "output_type": "stream",
     "text": [
      "Pulling halo center from catalog file\n",
      "Opening snapshot /Volumes/TempestTimeSteps/DD1487/DD1487\n"
     ]
    },
    {
     "name": "stderr",
     "output_type": "stream",
     "text": [
      "yt : [INFO     ] 2022-07-19 10:51:34,415 Parameters: current_time              = 404.56652781829\n",
      "yt : [INFO     ] 2022-07-19 10:51:34,418 Parameters: domain_dimensions         = [256 256 256]\n",
      "yt : [INFO     ] 2022-07-19 10:51:34,420 Parameters: domain_left_edge          = [0. 0. 0.]\n",
      "yt : [INFO     ] 2022-07-19 10:51:34,424 Parameters: domain_right_edge         = [1. 1. 1.]\n",
      "yt : [INFO     ] 2022-07-19 10:51:34,425 Parameters: cosmological_simulation   = 1\n",
      "yt : [INFO     ] 2022-07-19 10:51:34,425 Parameters: current_redshift          = 0.49342124762432\n",
      "yt : [INFO     ] 2022-07-19 10:51:34,426 Parameters: omega_lambda              = 0.715\n",
      "yt : [INFO     ] 2022-07-19 10:51:34,427 Parameters: omega_matter              = 0.285\n",
      "yt : [INFO     ] 2022-07-19 10:51:34,428 Parameters: omega_radiation           = 0.0\n",
      "yt : [INFO     ] 2022-07-19 10:51:34,428 Parameters: hubble_constant           = 0.695\n"
     ]
    },
    {
     "name": "stdout",
     "output_type": "stream",
     "text": [
      "get_refine_box: using this location:       col1         col2     col3     col4     col5     col6     col7   col8\n",
      "---------------- -------- -------- -------- -------- -------- -------- ----\n",
      "0.49342124762432 0.490359 0.476933 0.505703 0.492359 0.478933 0.507703    9\n"
     ]
    },
    {
     "name": "stderr",
     "output_type": "stream",
     "text": [
      "Parsing Hierarchy : 100%|████████████████| 5910/5910 [00:00<00:00, 18533.68it/s]\n",
      "yt : [INFO     ] 2022-07-19 10:51:34,973 Gathering a field list (this may take a moment.)\n",
      "yt : [WARNING  ] 2022-07-19 10:51:37,771 The stars particle filter already exists. Overriding.\n",
      "yt : [WARNING  ] 2022-07-19 10:51:37,772 The DM particle filter already exists. Overriding.\n"
     ]
    },
    {
     "name": "stdout",
     "output_type": "stream",
     "text": [
      "Pulling halo center from catalog file\n",
      "Opening snapshot /Volumes/TempestTimeSteps/DD1507/DD1507\n"
     ]
    },
    {
     "name": "stderr",
     "output_type": "stream",
     "text": [
      "yt : [INFO     ] 2022-07-19 10:51:37,963 Parameters: current_time              = 409.56652781829\n",
      "yt : [INFO     ] 2022-07-19 10:51:37,966 Parameters: domain_dimensions         = [256 256 256]\n",
      "yt : [INFO     ] 2022-07-19 10:51:37,969 Parameters: domain_left_edge          = [0. 0. 0.]\n",
      "yt : [INFO     ] 2022-07-19 10:51:37,973 Parameters: domain_right_edge         = [1. 1. 1.]\n",
      "yt : [INFO     ] 2022-07-19 10:51:37,973 Parameters: cosmological_simulation   = 1\n",
      "yt : [INFO     ] 2022-07-19 10:51:37,974 Parameters: current_redshift          = 0.47882175604921\n",
      "yt : [INFO     ] 2022-07-19 10:51:37,975 Parameters: omega_lambda              = 0.715\n",
      "yt : [INFO     ] 2022-07-19 10:51:37,976 Parameters: omega_matter              = 0.285\n",
      "yt : [INFO     ] 2022-07-19 10:51:37,976 Parameters: omega_radiation           = 0.0\n",
      "yt : [INFO     ] 2022-07-19 10:51:37,977 Parameters: hubble_constant           = 0.695\n"
     ]
    },
    {
     "name": "stdout",
     "output_type": "stream",
     "text": [
      "get_refine_box: using this location:       col1         col2     col3     col4     col5     col6     col7   col8\n",
      "---------------- -------- -------- -------- -------- -------- -------- ----\n",
      "0.47882175604921 0.490311 0.476767 0.505778 0.492311 0.478767 0.507778    9\n"
     ]
    },
    {
     "name": "stderr",
     "output_type": "stream",
     "text": [
      "Parsing Hierarchy : 100%|████████████████| 5867/5867 [00:00<00:00, 17919.87it/s]\n",
      "yt : [INFO     ] 2022-07-19 10:51:38,537 Gathering a field list (this may take a moment.)\n",
      "yt : [WARNING  ] 2022-07-19 10:51:41,336 The stars particle filter already exists. Overriding.\n",
      "yt : [WARNING  ] 2022-07-19 10:51:41,337 The DM particle filter already exists. Overriding.\n"
     ]
    },
    {
     "name": "stdout",
     "output_type": "stream",
     "text": [
      "Pulling halo center from catalog file\n",
      "Opening snapshot /Volumes/TempestTimeSteps/DD1527/DD1527\n"
     ]
    },
    {
     "name": "stderr",
     "output_type": "stream",
     "text": [
      "yt : [INFO     ] 2022-07-19 10:51:41,522 Parameters: current_time              = 414.56652781829\n",
      "yt : [INFO     ] 2022-07-19 10:51:41,525 Parameters: domain_dimensions         = [256 256 256]\n",
      "yt : [INFO     ] 2022-07-19 10:51:41,528 Parameters: domain_left_edge          = [0. 0. 0.]\n",
      "yt : [INFO     ] 2022-07-19 10:51:41,531 Parameters: domain_right_edge         = [1. 1. 1.]\n",
      "yt : [INFO     ] 2022-07-19 10:51:41,532 Parameters: cosmological_simulation   = 1\n",
      "yt : [INFO     ] 2022-07-19 10:51:41,532 Parameters: current_redshift          = 0.46448339402042\n",
      "yt : [INFO     ] 2022-07-19 10:51:41,533 Parameters: omega_lambda              = 0.715\n",
      "yt : [INFO     ] 2022-07-19 10:51:41,534 Parameters: omega_matter              = 0.285\n",
      "yt : [INFO     ] 2022-07-19 10:51:41,534 Parameters: omega_radiation           = 0.0\n",
      "yt : [INFO     ] 2022-07-19 10:51:41,535 Parameters: hubble_constant           = 0.695\n"
     ]
    },
    {
     "name": "stdout",
     "output_type": "stream",
     "text": [
      "get_refine_box: using this location:       col1         col2     col3     col4     col5     col6     col7   col8\n",
      "---------------- -------- -------- -------- -------- -------- -------- ----\n",
      "0.46448339402042 0.490271 0.476607 0.505839 0.492271 0.478607 0.507839    9\n"
     ]
    },
    {
     "name": "stderr",
     "output_type": "stream",
     "text": [
      "Parsing Hierarchy : 100%|████████████████| 5969/5969 [00:00<00:00, 17816.32it/s]\n",
      "yt : [INFO     ] 2022-07-19 10:51:42,103 Gathering a field list (this may take a moment.)\n",
      "yt : [WARNING  ] 2022-07-19 10:51:45,008 The stars particle filter already exists. Overriding.\n",
      "yt : [WARNING  ] 2022-07-19 10:51:45,008 The DM particle filter already exists. Overriding.\n"
     ]
    },
    {
     "name": "stdout",
     "output_type": "stream",
     "text": [
      "Pulling halo center from catalog file\n",
      "Opening snapshot /Volumes/TempestTimeSteps/DD1547/DD1547\n"
     ]
    },
    {
     "name": "stderr",
     "output_type": "stream",
     "text": [
      "yt : [INFO     ] 2022-07-19 10:51:45,202 Parameters: current_time              = 419.56652781829\n",
      "yt : [INFO     ] 2022-07-19 10:51:45,205 Parameters: domain_dimensions         = [256 256 256]\n",
      "yt : [INFO     ] 2022-07-19 10:51:45,207 Parameters: domain_left_edge          = [0. 0. 0.]\n",
      "yt : [INFO     ] 2022-07-19 10:51:45,210 Parameters: domain_right_edge         = [1. 1. 1.]\n",
      "yt : [INFO     ] 2022-07-19 10:51:45,211 Parameters: cosmological_simulation   = 1\n",
      "yt : [INFO     ] 2022-07-19 10:51:45,211 Parameters: current_redshift          = 0.45039794375812\n",
      "yt : [INFO     ] 2022-07-19 10:51:45,212 Parameters: omega_lambda              = 0.715\n",
      "yt : [INFO     ] 2022-07-19 10:51:45,213 Parameters: omega_matter              = 0.285\n",
      "yt : [INFO     ] 2022-07-19 10:51:45,214 Parameters: omega_radiation           = 0.0\n",
      "yt : [INFO     ] 2022-07-19 10:51:45,215 Parameters: hubble_constant           = 0.695\n"
     ]
    },
    {
     "name": "stdout",
     "output_type": "stream",
     "text": [
      "get_refine_box: using this location:       col1         col2     col3     col4     col5     col6     col7   col8\n",
      "---------------- -------- -------- -------- -------- -------- -------- ----\n",
      "0.45039794375812 0.490235 0.476443 0.505904 0.492235 0.478443 0.507904    9\n"
     ]
    },
    {
     "name": "stderr",
     "output_type": "stream",
     "text": [
      "Parsing Hierarchy : 100%|████████████████| 5953/5953 [00:00<00:00, 18615.82it/s]\n",
      "yt : [INFO     ] 2022-07-19 10:51:45,767 Gathering a field list (this may take a moment.)\n",
      "yt : [WARNING  ] 2022-07-19 10:51:48,514 The stars particle filter already exists. Overriding.\n",
      "yt : [WARNING  ] 2022-07-19 10:51:48,515 The DM particle filter already exists. Overriding.\n"
     ]
    },
    {
     "name": "stdout",
     "output_type": "stream",
     "text": [
      "Pulling halo center from catalog file\n",
      "Opening snapshot /Volumes/TempestTimeSteps/DD1567/DD1567\n"
     ]
    },
    {
     "name": "stderr",
     "output_type": "stream",
     "text": [
      "yt : [INFO     ] 2022-07-19 10:51:48,732 Parameters: current_time              = 424.56652781829\n",
      "yt : [INFO     ] 2022-07-19 10:51:48,735 Parameters: domain_dimensions         = [256 256 256]\n",
      "yt : [INFO     ] 2022-07-19 10:51:48,737 Parameters: domain_left_edge          = [0. 0. 0.]\n",
      "yt : [INFO     ] 2022-07-19 10:51:48,740 Parameters: domain_right_edge         = [1. 1. 1.]\n",
      "yt : [INFO     ] 2022-07-19 10:51:48,740 Parameters: cosmological_simulation   = 1\n",
      "yt : [INFO     ] 2022-07-19 10:51:48,741 Parameters: current_redshift          = 0.43654854251444\n",
      "yt : [INFO     ] 2022-07-19 10:51:48,742 Parameters: omega_lambda              = 0.715\n",
      "yt : [INFO     ] 2022-07-19 10:51:48,742 Parameters: omega_matter              = 0.285\n",
      "yt : [INFO     ] 2022-07-19 10:51:48,743 Parameters: omega_radiation           = 0\n",
      "yt : [INFO     ] 2022-07-19 10:51:48,743 Parameters: hubble_constant           = 0.695\n"
     ]
    },
    {
     "name": "stdout",
     "output_type": "stream",
     "text": [
      "get_refine_box: using this location:       col1         col2     col3     col4     col5     col6     col7   col8\n",
      "---------------- -------- -------- -------- -------- -------- -------- ----\n",
      "0.43655754720396 0.490199 0.476281 0.505972 0.492199 0.478281 0.507972    9\n"
     ]
    },
    {
     "name": "stderr",
     "output_type": "stream",
     "text": [
      "Parsing Hierarchy : 100%|████████████████| 5989/5989 [00:00<00:00, 17174.63it/s]\n",
      "yt : [INFO     ] 2022-07-19 10:51:49,344 Gathering a field list (this may take a moment.)\n",
      "yt : [WARNING  ] 2022-07-19 10:51:52,250 The stars particle filter already exists. Overriding.\n",
      "yt : [WARNING  ] 2022-07-19 10:51:52,250 The DM particle filter already exists. Overriding.\n"
     ]
    },
    {
     "name": "stdout",
     "output_type": "stream",
     "text": [
      "Pulling halo center from catalog file\n",
      "Opening snapshot /Volumes/TempestTimeSteps/DD1587/DD1587\n"
     ]
    },
    {
     "name": "stderr",
     "output_type": "stream",
     "text": [
      "yt : [INFO     ] 2022-07-19 10:51:52,467 Parameters: current_time              = 429.56652781829\n",
      "yt : [INFO     ] 2022-07-19 10:51:52,470 Parameters: domain_dimensions         = [256 256 256]\n",
      "yt : [INFO     ] 2022-07-19 10:51:52,472 Parameters: domain_left_edge          = [0. 0. 0.]\n",
      "yt : [INFO     ] 2022-07-19 10:51:52,474 Parameters: domain_right_edge         = [1. 1. 1.]\n",
      "yt : [INFO     ] 2022-07-19 10:51:52,475 Parameters: cosmological_simulation   = 1\n",
      "yt : [INFO     ] 2022-07-19 10:51:52,475 Parameters: current_redshift          = 0.42294018464771\n",
      "yt : [INFO     ] 2022-07-19 10:51:52,476 Parameters: omega_lambda              = 0.715\n",
      "yt : [INFO     ] 2022-07-19 10:51:52,476 Parameters: omega_matter              = 0.285\n",
      "yt : [INFO     ] 2022-07-19 10:51:52,477 Parameters: omega_radiation           = 0\n",
      "yt : [INFO     ] 2022-07-19 10:51:52,477 Parameters: hubble_constant           = 0.695\n"
     ]
    },
    {
     "name": "stdout",
     "output_type": "stream",
     "text": [
      "get_refine_box: using this location:       col1         col2     col3     col4     col5     col6     col7   col8\n",
      "---------------- -------- -------- -------- -------- -------- -------- ----\n",
      "0.42295468637566 0.490164 0.476115 0.506041 0.492164 0.478115 0.508041    9\n"
     ]
    },
    {
     "name": "stderr",
     "output_type": "stream",
     "text": [
      "Parsing Hierarchy : 100%|████████████████| 5816/5816 [00:00<00:00, 16628.45it/s]\n",
      "yt : [INFO     ] 2022-07-19 10:51:53,077 Gathering a field list (this may take a moment.)\n",
      "yt : [WARNING  ] 2022-07-19 10:51:55,774 The stars particle filter already exists. Overriding.\n",
      "yt : [WARNING  ] 2022-07-19 10:51:55,774 The DM particle filter already exists. Overriding.\n"
     ]
    },
    {
     "name": "stdout",
     "output_type": "stream",
     "text": [
      "Pulling halo center from catalog file\n",
      "Opening snapshot /Volumes/TempestTimeSteps/DD1607/DD1607\n"
     ]
    },
    {
     "name": "stderr",
     "output_type": "stream",
     "text": [
      "yt : [INFO     ] 2022-07-19 10:51:55,972 Parameters: current_time              = 434.56652781829\n",
      "yt : [INFO     ] 2022-07-19 10:51:55,975 Parameters: domain_dimensions         = [256 256 256]\n",
      "yt : [INFO     ] 2022-07-19 10:51:55,978 Parameters: domain_left_edge          = [0. 0. 0.]\n",
      "yt : [INFO     ] 2022-07-19 10:51:55,980 Parameters: domain_right_edge         = [1. 1. 1.]\n",
      "yt : [INFO     ] 2022-07-19 10:51:55,981 Parameters: cosmological_simulation   = 1\n",
      "yt : [INFO     ] 2022-07-19 10:51:55,981 Parameters: current_redshift          = 0.40957366338403\n",
      "yt : [INFO     ] 2022-07-19 10:51:55,982 Parameters: omega_lambda              = 0.715\n",
      "yt : [INFO     ] 2022-07-19 10:51:55,983 Parameters: omega_matter              = 0.285\n",
      "yt : [INFO     ] 2022-07-19 10:51:55,984 Parameters: omega_radiation           = 0\n",
      "yt : [INFO     ] 2022-07-19 10:51:55,984 Parameters: hubble_constant           = 0.695\n"
     ]
    },
    {
     "name": "stdout",
     "output_type": "stream",
     "text": [
      "get_refine_box: using this location:       col1        col2     col3     col4     col5     col6     col7   col8\n",
      "--------------- -------- -------- -------- -------- -------- -------- ----\n",
      "0.4095821650052 0.490128 0.475951 0.506113 0.492128 0.477951 0.508113    9\n"
     ]
    },
    {
     "name": "stderr",
     "output_type": "stream",
     "text": [
      "Parsing Hierarchy : 100%|████████████████| 5789/5789 [00:00<00:00, 18359.18it/s]\n",
      "yt : [INFO     ] 2022-07-19 10:51:56,547 Gathering a field list (this may take a moment.)\n",
      "yt : [WARNING  ] 2022-07-19 10:52:05,029 The stars particle filter already exists. Overriding.\n",
      "yt : [WARNING  ] 2022-07-19 10:52:05,029 The DM particle filter already exists. Overriding.\n"
     ]
    },
    {
     "name": "stdout",
     "output_type": "stream",
     "text": [
      "Pulling halo center from catalog file\n",
      "Opening snapshot /Volumes/TempestTimeSteps/DD1627/DD1627\n"
     ]
    },
    {
     "name": "stderr",
     "output_type": "stream",
     "text": [
      "yt : [INFO     ] 2022-07-19 10:52:05,225 Parameters: current_time              = 439.56652781829\n",
      "yt : [INFO     ] 2022-07-19 10:52:05,229 Parameters: domain_dimensions         = [256 256 256]\n",
      "yt : [INFO     ] 2022-07-19 10:52:05,232 Parameters: domain_left_edge          = [0. 0. 0.]\n",
      "yt : [INFO     ] 2022-07-19 10:52:05,234 Parameters: domain_right_edge         = [1. 1. 1.]\n",
      "yt : [INFO     ] 2022-07-19 10:52:05,235 Parameters: cosmological_simulation   = 1\n",
      "yt : [INFO     ] 2022-07-19 10:52:05,235 Parameters: current_redshift          = 0.39642584964378\n",
      "yt : [INFO     ] 2022-07-19 10:52:05,236 Parameters: omega_lambda              = 0.715\n",
      "yt : [INFO     ] 2022-07-19 10:52:05,236 Parameters: omega_matter              = 0.285\n",
      "yt : [INFO     ] 2022-07-19 10:52:05,237 Parameters: omega_radiation           = 0\n",
      "yt : [INFO     ] 2022-07-19 10:52:05,237 Parameters: hubble_constant           = 0.695\n"
     ]
    },
    {
     "name": "stdout",
     "output_type": "stream",
     "text": [
      "get_refine_box: using this location:       col1         col2     col3     col4     col5     col6     col7   col8\n",
      "---------------- -------- -------- -------- -------- -------- -------- ----\n",
      "0.39643309136323 0.490092 0.475789 0.506186 0.492092 0.477789 0.508186    9\n"
     ]
    },
    {
     "name": "stderr",
     "output_type": "stream",
     "text": [
      "Parsing Hierarchy : 100%|████████████████| 5643/5643 [00:00<00:00, 17704.86it/s]\n",
      "yt : [INFO     ] 2022-07-19 10:52:05,793 Gathering a field list (this may take a moment.)\n",
      "yt : [WARNING  ] 2022-07-19 10:52:08,421 The stars particle filter already exists. Overriding.\n",
      "yt : [WARNING  ] 2022-07-19 10:52:08,422 The DM particle filter already exists. Overriding.\n"
     ]
    },
    {
     "name": "stdout",
     "output_type": "stream",
     "text": [
      "Pulling halo center from catalog file\n",
      "Opening snapshot /Volumes/TempestTimeSteps/DD1647/DD1647\n"
     ]
    },
    {
     "name": "stderr",
     "output_type": "stream",
     "text": [
      "yt : [INFO     ] 2022-07-19 10:52:08,609 Parameters: current_time              = 444.56652781829\n",
      "yt : [INFO     ] 2022-07-19 10:52:08,611 Parameters: domain_dimensions         = [256 256 256]\n",
      "yt : [INFO     ] 2022-07-19 10:52:08,613 Parameters: domain_left_edge          = [0. 0. 0.]\n",
      "yt : [INFO     ] 2022-07-19 10:52:08,615 Parameters: domain_right_edge         = [1. 1. 1.]\n",
      "yt : [INFO     ] 2022-07-19 10:52:08,616 Parameters: cosmological_simulation   = 1\n",
      "yt : [INFO     ] 2022-07-19 10:52:08,616 Parameters: current_redshift          = 0.38348625944323\n",
      "yt : [INFO     ] 2022-07-19 10:52:08,617 Parameters: omega_lambda              = 0.715\n",
      "yt : [INFO     ] 2022-07-19 10:52:08,617 Parameters: omega_matter              = 0.285\n",
      "yt : [INFO     ] 2022-07-19 10:52:08,618 Parameters: omega_radiation           = 0\n",
      "yt : [INFO     ] 2022-07-19 10:52:08,618 Parameters: hubble_constant           = 0.695\n"
     ]
    },
    {
     "name": "stdout",
     "output_type": "stream",
     "text": [
      "get_refine_box: using this location:       col1         col2     col3     col4    col5     col6     col7  col8\n",
      "---------------- -------- -------- ------- -------- -------- ------- ----\n",
      "0.38350086218055 0.490054 0.475624 0.50626 0.492054 0.477624 0.50826    9\n"
     ]
    },
    {
     "name": "stderr",
     "output_type": "stream",
     "text": [
      "Parsing Hierarchy : 100%|████████████████| 5260/5260 [00:00<00:00, 18537.43it/s]\n",
      "yt : [INFO     ] 2022-07-19 10:52:09,112 Gathering a field list (this may take a moment.)\n",
      "yt : [WARNING  ] 2022-07-19 10:52:11,862 The stars particle filter already exists. Overriding.\n",
      "yt : [WARNING  ] 2022-07-19 10:52:11,863 The DM particle filter already exists. Overriding.\n"
     ]
    },
    {
     "name": "stdout",
     "output_type": "stream",
     "text": [
      "Pulling halo center from catalog file\n",
      "Opening snapshot /Volumes/TempestTimeSteps/DD1667/DD1667\n"
     ]
    },
    {
     "name": "stderr",
     "output_type": "stream",
     "text": [
      "yt : [INFO     ] 2022-07-19 10:52:12,041 Parameters: current_time              = 449.56652781829\n",
      "yt : [INFO     ] 2022-07-19 10:52:12,045 Parameters: domain_dimensions         = [256 256 256]\n",
      "yt : [INFO     ] 2022-07-19 10:52:12,048 Parameters: domain_left_edge          = [0. 0. 0.]\n",
      "yt : [INFO     ] 2022-07-19 10:52:12,051 Parameters: domain_right_edge         = [1. 1. 1.]\n",
      "yt : [INFO     ] 2022-07-19 10:52:12,052 Parameters: cosmological_simulation   = 1\n",
      "yt : [INFO     ] 2022-07-19 10:52:12,052 Parameters: current_redshift          = 0.37076988451991\n",
      "yt : [INFO     ] 2022-07-19 10:52:12,052 Parameters: omega_lambda              = 0.715\n",
      "yt : [INFO     ] 2022-07-19 10:52:12,053 Parameters: omega_matter              = 0.285\n",
      "yt : [INFO     ] 2022-07-19 10:52:12,053 Parameters: omega_radiation           = 0\n",
      "yt : [INFO     ] 2022-07-19 10:52:12,054 Parameters: hubble_constant           = 0.695\n"
     ]
    },
    {
     "name": "stdout",
     "output_type": "stream",
     "text": [
      "get_refine_box: using this location:       col1         col2     col3     col4     col5     col6     col7   col8\n",
      "---------------- -------- -------- -------- -------- -------- -------- ----\n",
      "0.37077914758514 0.490008 0.475464 0.506331 0.492008 0.477464 0.508331    9\n"
     ]
    },
    {
     "name": "stderr",
     "output_type": "stream",
     "text": [
      "Parsing Hierarchy : 100%|████████████████| 5350/5350 [00:00<00:00, 17646.21it/s]\n",
      "yt : [INFO     ] 2022-07-19 10:52:12,572 Gathering a field list (this may take a moment.)\n",
      "yt : [WARNING  ] 2022-07-19 10:52:15,659 The stars particle filter already exists. Overriding.\n",
      "yt : [WARNING  ] 2022-07-19 10:52:15,659 The DM particle filter already exists. Overriding.\n"
     ]
    },
    {
     "name": "stdout",
     "output_type": "stream",
     "text": [
      "Pulling halo center from catalog file\n",
      "Opening snapshot /Volumes/TempestTimeSteps/DD1687/DD1687\n"
     ]
    },
    {
     "name": "stderr",
     "output_type": "stream",
     "text": [
      "yt : [INFO     ] 2022-07-19 10:52:15,844 Parameters: current_time              = 454.56652781829\n",
      "yt : [INFO     ] 2022-07-19 10:52:15,847 Parameters: domain_dimensions         = [256 256 256]\n",
      "yt : [INFO     ] 2022-07-19 10:52:15,851 Parameters: domain_left_edge          = [0. 0. 0.]\n",
      "yt : [INFO     ] 2022-07-19 10:52:15,855 Parameters: domain_right_edge         = [1. 1. 1.]\n",
      "yt : [INFO     ] 2022-07-19 10:52:15,855 Parameters: cosmological_simulation   = 1\n",
      "yt : [INFO     ] 2022-07-19 10:52:15,856 Parameters: current_redshift          = 0.35825474228483\n",
      "yt : [INFO     ] 2022-07-19 10:52:15,856 Parameters: omega_lambda              = 0.715\n",
      "yt : [INFO     ] 2022-07-19 10:52:15,857 Parameters: omega_matter              = 0.285\n",
      "yt : [INFO     ] 2022-07-19 10:52:15,858 Parameters: omega_radiation           = 0\n",
      "yt : [INFO     ] 2022-07-19 10:52:15,858 Parameters: hubble_constant           = 0.695\n"
     ]
    },
    {
     "name": "stdout",
     "output_type": "stream",
     "text": [
      "get_refine_box: using this location:       col1         col2    col3     col4     col5    col6     col7   col8\n",
      "---------------- ------- -------- -------- ------- -------- -------- ----\n",
      "0.35826187698009 0.48997 0.475304 0.506398 0.49197 0.477304 0.508398    9\n"
     ]
    },
    {
     "name": "stderr",
     "output_type": "stream",
     "text": [
      "Parsing Hierarchy : 100%|████████████████| 5327/5327 [00:00<00:00, 15251.03it/s]\n",
      "yt : [INFO     ] 2022-07-19 10:52:16,525 Gathering a field list (this may take a moment.)\n",
      "yt : [WARNING  ] 2022-07-19 10:52:19,692 The stars particle filter already exists. Overriding.\n",
      "yt : [WARNING  ] 2022-07-19 10:52:19,693 The DM particle filter already exists. Overriding.\n"
     ]
    },
    {
     "name": "stdout",
     "output_type": "stream",
     "text": [
      "Pulling halo center from catalog file\n",
      "Opening snapshot /Volumes/TempestTimeSteps/DD1707/DD1707\n"
     ]
    },
    {
     "name": "stderr",
     "output_type": "stream",
     "text": [
      "yt : [INFO     ] 2022-07-19 10:52:19,886 Parameters: current_time              = 459.56652781829\n",
      "yt : [INFO     ] 2022-07-19 10:52:19,889 Parameters: domain_dimensions         = [256 256 256]\n",
      "yt : [INFO     ] 2022-07-19 10:52:19,892 Parameters: domain_left_edge          = [0. 0. 0.]\n",
      "yt : [INFO     ] 2022-07-19 10:52:19,895 Parameters: domain_right_edge         = [1. 1. 1.]\n",
      "yt : [INFO     ] 2022-07-19 10:52:19,895 Parameters: cosmological_simulation   = 1\n",
      "yt : [INFO     ] 2022-07-19 10:52:19,896 Parameters: current_redshift          = 0.34592847874001\n",
      "yt : [INFO     ] 2022-07-19 10:52:19,896 Parameters: omega_lambda              = 0.715\n",
      "yt : [INFO     ] 2022-07-19 10:52:19,897 Parameters: omega_matter              = 0.285\n",
      "yt : [INFO     ] 2022-07-19 10:52:19,898 Parameters: omega_radiation           = 0\n",
      "yt : [INFO     ] 2022-07-19 10:52:19,898 Parameters: hubble_constant           = 0.695\n"
     ]
    },
    {
     "name": "stdout",
     "output_type": "stream",
     "text": [
      "get_refine_box: using this location:       col1        col2     col3     col4     col5     col6     col7   col8\n",
      "--------------- -------- -------- -------- -------- -------- -------- ----\n",
      "0.3459432257941 0.489933 0.475144 0.506463 0.491933 0.477144 0.508463    9\n"
     ]
    },
    {
     "name": "stderr",
     "output_type": "stream",
     "text": [
      "Parsing Hierarchy : 100%|████████████████| 5353/5353 [00:00<00:00, 11703.74it/s]\n",
      "yt : [INFO     ] 2022-07-19 10:52:20,667 Gathering a field list (this may take a moment.)\n",
      "yt : [WARNING  ] 2022-07-19 10:52:23,646 The stars particle filter already exists. Overriding.\n",
      "yt : [WARNING  ] 2022-07-19 10:52:23,647 The DM particle filter already exists. Overriding.\n"
     ]
    },
    {
     "name": "stdout",
     "output_type": "stream",
     "text": [
      "Pulling halo center from catalog file\n",
      "Opening snapshot /Volumes/TempestTimeSteps/DD1727/DD1727\n"
     ]
    },
    {
     "name": "stderr",
     "output_type": "stream",
     "text": [
      "yt : [INFO     ] 2022-07-19 10:52:23,827 Parameters: current_time              = 464.56652781829\n",
      "yt : [INFO     ] 2022-07-19 10:52:23,829 Parameters: domain_dimensions         = [256 256 256]\n",
      "yt : [INFO     ] 2022-07-19 10:52:23,832 Parameters: domain_left_edge          = [0. 0. 0.]\n",
      "yt : [INFO     ] 2022-07-19 10:52:23,835 Parameters: domain_right_edge         = [1. 1. 1.]\n",
      "yt : [INFO     ] 2022-07-19 10:52:23,836 Parameters: cosmological_simulation   = 1\n",
      "yt : [INFO     ] 2022-07-19 10:52:23,836 Parameters: current_redshift          = 0.33380915572466\n",
      "yt : [INFO     ] 2022-07-19 10:52:23,837 Parameters: omega_lambda              = 0.715\n",
      "yt : [INFO     ] 2022-07-19 10:52:23,837 Parameters: omega_matter              = 0.285\n",
      "yt : [INFO     ] 2022-07-19 10:52:23,838 Parameters: omega_radiation           = 0\n",
      "yt : [INFO     ] 2022-07-19 10:52:23,839 Parameters: hubble_constant           = 0.695\n"
     ]
    },
    {
     "name": "stdout",
     "output_type": "stream",
     "text": [
      "get_refine_box: using this location:       col1         col2     col3     col4     col5     col6     col7   col8\n",
      "---------------- -------- -------- -------- -------- -------- -------- ----\n",
      "0.33381760304183 0.489899 0.474982 0.506529 0.491899 0.476982 0.508529    9\n"
     ]
    },
    {
     "name": "stderr",
     "output_type": "stream",
     "text": [
      "Parsing Hierarchy : 100%|████████████████| 5384/5384 [00:00<00:00, 13598.57it/s]\n",
      "yt : [INFO     ] 2022-07-19 10:52:24,488 Gathering a field list (this may take a moment.)\n",
      "yt : [WARNING  ] 2022-07-19 10:52:27,201 The stars particle filter already exists. Overriding.\n",
      "yt : [WARNING  ] 2022-07-19 10:52:27,202 The DM particle filter already exists. Overriding.\n"
     ]
    },
    {
     "name": "stdout",
     "output_type": "stream",
     "text": [
      "Pulling halo center from catalog file\n",
      "Opening snapshot /Volumes/TempestTimeSteps/DD1747/DD1747\n"
     ]
    },
    {
     "name": "stderr",
     "output_type": "stream",
     "text": [
      "yt : [INFO     ] 2022-07-19 10:52:27,397 Parameters: current_time              = 469.56652781829\n",
      "yt : [INFO     ] 2022-07-19 10:52:27,399 Parameters: domain_dimensions         = [256 256 256]\n",
      "yt : [INFO     ] 2022-07-19 10:52:27,401 Parameters: domain_left_edge          = [0. 0. 0.]\n",
      "yt : [INFO     ] 2022-07-19 10:52:27,404 Parameters: domain_right_edge         = [1. 1. 1.]\n",
      "yt : [INFO     ] 2022-07-19 10:52:27,404 Parameters: cosmological_simulation   = 1\n",
      "yt : [INFO     ] 2022-07-19 10:52:27,405 Parameters: current_redshift          = 0.32187097991253\n",
      "yt : [INFO     ] 2022-07-19 10:52:27,405 Parameters: omega_lambda              = 0.715\n",
      "yt : [INFO     ] 2022-07-19 10:52:27,406 Parameters: omega_matter              = 0.285\n",
      "yt : [INFO     ] 2022-07-19 10:52:27,406 Parameters: omega_radiation           = 0\n",
      "yt : [INFO     ] 2022-07-19 10:52:27,407 Parameters: hubble_constant           = 0.695\n"
     ]
    },
    {
     "name": "stdout",
     "output_type": "stream",
     "text": [
      "get_refine_box: using this location:       col1         col2     col3     col4     col5     col6     col7   col8\n",
      "---------------- -------- -------- -------- -------- -------- -------- ----\n",
      "0.32187963963644 0.489863 0.474823 0.506592 0.491863 0.476823 0.508592    9\n"
     ]
    },
    {
     "name": "stderr",
     "output_type": "stream",
     "text": [
      "Parsing Hierarchy : 100%|████████████████| 5338/5338 [00:00<00:00, 18567.02it/s]\n",
      "yt : [INFO     ] 2022-07-19 10:52:27,907 Gathering a field list (this may take a moment.)\n",
      "yt : [WARNING  ] 2022-07-19 10:52:30,610 The stars particle filter already exists. Overriding.\n",
      "yt : [WARNING  ] 2022-07-19 10:52:30,611 The DM particle filter already exists. Overriding.\n"
     ]
    },
    {
     "name": "stdout",
     "output_type": "stream",
     "text": [
      "Pulling halo center from catalog file\n",
      "Opening snapshot /Volumes/TempestTimeSteps/DD1767/DD1767\n"
     ]
    },
    {
     "name": "stderr",
     "output_type": "stream",
     "text": [
      "yt : [INFO     ] 2022-07-19 10:52:30,792 Parameters: current_time              = 474.56652781829\n",
      "yt : [INFO     ] 2022-07-19 10:52:30,795 Parameters: domain_dimensions         = [256 256 256]\n",
      "yt : [INFO     ] 2022-07-19 10:52:30,799 Parameters: domain_left_edge          = [0. 0. 0.]\n",
      "yt : [INFO     ] 2022-07-19 10:52:30,802 Parameters: domain_right_edge         = [1. 1. 1.]\n",
      "yt : [INFO     ] 2022-07-19 10:52:30,803 Parameters: cosmological_simulation   = 1\n",
      "yt : [INFO     ] 2022-07-19 10:52:30,803 Parameters: current_redshift          = 0.31010937956297\n",
      "yt : [INFO     ] 2022-07-19 10:52:30,804 Parameters: omega_lambda              = 0.715\n",
      "yt : [INFO     ] 2022-07-19 10:52:30,804 Parameters: omega_matter              = 0.285\n",
      "yt : [INFO     ] 2022-07-19 10:52:30,805 Parameters: omega_radiation           = 0\n",
      "yt : [INFO     ] 2022-07-19 10:52:30,806 Parameters: hubble_constant           = 0.695\n"
     ]
    },
    {
     "name": "stdout",
     "output_type": "stream",
     "text": [
      "get_refine_box: using this location:       col1         col2     col3     col4     col5     col6     col7   col8\n",
      "---------------- -------- -------- -------- -------- -------- -------- ----\n",
      "0.31012417740147 0.489823 0.474669 0.506653 0.491823 0.476669 0.508653    9\n"
     ]
    },
    {
     "name": "stderr",
     "output_type": "stream",
     "text": [
      "Parsing Hierarchy : 100%|████████████████| 5392/5392 [00:00<00:00, 18252.54it/s]\n",
      "yt : [INFO     ] 2022-07-19 10:52:31,307 Gathering a field list (this may take a moment.)\n",
      "yt : [WARNING  ] 2022-07-19 10:52:34,114 The stars particle filter already exists. Overriding.\n",
      "yt : [WARNING  ] 2022-07-19 10:52:34,114 The DM particle filter already exists. Overriding.\n"
     ]
    },
    {
     "name": "stdout",
     "output_type": "stream",
     "text": [
      "Pulling halo center from catalog file\n",
      "Opening snapshot /Volumes/TempestTimeSteps/DD1787/DD1787\n"
     ]
    },
    {
     "name": "stderr",
     "output_type": "stream",
     "text": [
      "yt : [INFO     ] 2022-07-19 10:52:34,328 Parameters: current_time              = 479.56652781829\n",
      "yt : [INFO     ] 2022-07-19 10:52:34,331 Parameters: domain_dimensions         = [256 256 256]\n",
      "yt : [INFO     ] 2022-07-19 10:52:34,333 Parameters: domain_left_edge          = [0. 0. 0.]\n",
      "yt : [INFO     ] 2022-07-19 10:52:34,335 Parameters: domain_right_edge         = [1. 1. 1.]\n",
      "yt : [INFO     ] 2022-07-19 10:52:34,336 Parameters: cosmological_simulation   = 1\n",
      "yt : [INFO     ] 2022-07-19 10:52:34,336 Parameters: current_redshift          = 0.29854043336148\n",
      "yt : [INFO     ] 2022-07-19 10:52:34,337 Parameters: omega_lambda              = 0.715\n",
      "yt : [INFO     ] 2022-07-19 10:52:34,337 Parameters: omega_matter              = 0.285\n",
      "yt : [INFO     ] 2022-07-19 10:52:34,338 Parameters: omega_radiation           = 0\n",
      "yt : [INFO     ] 2022-07-19 10:52:34,338 Parameters: hubble_constant           = 0.695\n"
     ]
    },
    {
     "name": "stdout",
     "output_type": "stream",
     "text": [
      "get_refine_box: using this location:       col1         col2     col3     col4     col5     col6     col7   col8\n",
      "---------------- -------- -------- -------- -------- -------- -------- ----\n",
      "0.29854625873325 0.489788 0.474513 0.506712 0.491788 0.476513 0.508712    9\n"
     ]
    },
    {
     "name": "stderr",
     "output_type": "stream",
     "text": [
      "Parsing Hierarchy : 100%|████████████████| 5500/5500 [00:00<00:00, 19132.58it/s]\n",
      "yt : [INFO     ] 2022-07-19 10:52:34,849 Gathering a field list (this may take a moment.)\n",
      "yt : [WARNING  ] 2022-07-19 10:52:37,628 The stars particle filter already exists. Overriding.\n",
      "yt : [WARNING  ] 2022-07-19 10:52:37,629 The DM particle filter already exists. Overriding.\n"
     ]
    },
    {
     "name": "stdout",
     "output_type": "stream",
     "text": [
      "Pulling halo center from catalog file\n",
      "Opening snapshot /Volumes/TempestTimeSteps/DD1807/DD1807\n"
     ]
    },
    {
     "name": "stderr",
     "output_type": "stream",
     "text": [
      "yt : [INFO     ] 2022-07-19 10:52:37,819 Parameters: current_time              = 484.56652781829\n",
      "yt : [INFO     ] 2022-07-19 10:52:37,822 Parameters: domain_dimensions         = [256 256 256]\n",
      "yt : [INFO     ] 2022-07-19 10:52:37,825 Parameters: domain_left_edge          = [0. 0. 0.]\n",
      "yt : [INFO     ] 2022-07-19 10:52:37,827 Parameters: domain_right_edge         = [1. 1. 1.]\n",
      "yt : [INFO     ] 2022-07-19 10:52:37,828 Parameters: cosmological_simulation   = 1\n",
      "yt : [INFO     ] 2022-07-19 10:52:37,829 Parameters: current_redshift          = 0.28712989799233\n",
      "yt : [INFO     ] 2022-07-19 10:52:37,829 Parameters: omega_lambda              = 0.715\n",
      "yt : [INFO     ] 2022-07-19 10:52:37,830 Parameters: omega_matter              = 0.285\n",
      "yt : [INFO     ] 2022-07-19 10:52:37,831 Parameters: omega_radiation           = 0\n",
      "yt : [INFO     ] 2022-07-19 10:52:37,832 Parameters: hubble_constant           = 0.695\n"
     ]
    },
    {
     "name": "stdout",
     "output_type": "stream",
     "text": [
      "get_refine_box: using this location:       col1         col2     col3     col4     col5     col6     col7   col8\n",
      "---------------- -------- -------- -------- -------- -------- -------- ----\n",
      "0.28714111686912 0.489754 0.474358 0.506773 0.491754 0.476358 0.508773    9\n"
     ]
    },
    {
     "name": "stderr",
     "output_type": "stream",
     "text": [
      "Parsing Hierarchy : 100%|████████████████| 5571/5571 [00:00<00:00, 18251.27it/s]\n",
      "yt : [INFO     ] 2022-07-19 10:52:38,350 Gathering a field list (this may take a moment.)\n",
      "yt : [WARNING  ] 2022-07-19 10:52:41,097 The stars particle filter already exists. Overriding.\n",
      "yt : [WARNING  ] 2022-07-19 10:52:41,097 The DM particle filter already exists. Overriding.\n"
     ]
    },
    {
     "name": "stdout",
     "output_type": "stream",
     "text": [
      "Pulling halo center from catalog file\n",
      "Opening snapshot /Volumes/TempestTimeSteps/DD1827/DD1827\n"
     ]
    },
    {
     "name": "stderr",
     "output_type": "stream",
     "text": [
      "yt : [INFO     ] 2022-07-19 10:52:41,268 Parameters: current_time              = 489.56652781829\n",
      "yt : [INFO     ] 2022-07-19 10:52:41,270 Parameters: domain_dimensions         = [256 256 256]\n",
      "yt : [INFO     ] 2022-07-19 10:52:41,272 Parameters: domain_left_edge          = [0. 0. 0.]\n",
      "yt : [INFO     ] 2022-07-19 10:52:41,275 Parameters: domain_right_edge         = [1. 1. 1.]\n",
      "yt : [INFO     ] 2022-07-19 10:52:41,276 Parameters: cosmological_simulation   = 1\n",
      "yt : [INFO     ] 2022-07-19 10:52:41,276 Parameters: current_redshift          = 0.27589007391511\n",
      "yt : [INFO     ] 2022-07-19 10:52:41,277 Parameters: omega_lambda              = 0.715\n",
      "yt : [INFO     ] 2022-07-19 10:52:41,278 Parameters: omega_matter              = 0.285\n",
      "yt : [INFO     ] 2022-07-19 10:52:41,279 Parameters: omega_radiation           = 0\n",
      "yt : [INFO     ] 2022-07-19 10:52:41,280 Parameters: hubble_constant           = 0.695\n"
     ]
    },
    {
     "name": "stdout",
     "output_type": "stream",
     "text": [
      "get_refine_box: using this location:       col1         col2     col3     col4     col5     col6     col7   col8\n",
      "---------------- -------- -------- -------- -------- -------- -------- ----\n",
      "0.27590416672012 0.489722 0.474205 0.506831 0.491722 0.476205 0.508831    9\n"
     ]
    },
    {
     "name": "stderr",
     "output_type": "stream",
     "text": [
      "Parsing Hierarchy : 100%|████████████████| 5461/5461 [00:00<00:00, 18146.96it/s]\n",
      "yt : [INFO     ] 2022-07-19 10:52:41,804 Gathering a field list (this may take a moment.)\n",
      "yt : [WARNING  ] 2022-07-19 10:52:44,579 The stars particle filter already exists. Overriding.\n",
      "yt : [WARNING  ] 2022-07-19 10:52:44,580 The DM particle filter already exists. Overriding.\n",
      "yt : [INFO     ] 2022-07-19 10:52:44,690 Parameters: current_time              = 494.56652781829\n",
      "yt : [INFO     ] 2022-07-19 10:52:44,692 Parameters: domain_dimensions         = [256 256 256]\n",
      "yt : [INFO     ] 2022-07-19 10:52:44,695 Parameters: domain_left_edge          = [0. 0. 0.]\n",
      "yt : [INFO     ] 2022-07-19 10:52:44,697 Parameters: domain_right_edge         = [1. 1. 1.]\n",
      "yt : [INFO     ] 2022-07-19 10:52:44,697 Parameters: cosmological_simulation   = 1\n",
      "yt : [INFO     ] 2022-07-19 10:52:44,698 Parameters: current_redshift          = 0.26483030656369\n",
      "yt : [INFO     ] 2022-07-19 10:52:44,698 Parameters: omega_lambda              = 0.715\n",
      "yt : [INFO     ] 2022-07-19 10:52:44,699 Parameters: omega_matter              = 0.285\n",
      "yt : [INFO     ] 2022-07-19 10:52:44,700 Parameters: omega_radiation           = 0\n",
      "yt : [INFO     ] 2022-07-19 10:52:44,700 Parameters: hubble_constant           = 0.695\n"
     ]
    },
    {
     "name": "stdout",
     "output_type": "stream",
     "text": [
      "Pulling halo center from catalog file\n",
      "Opening snapshot /Volumes/TempestTimeSteps/DD1847/DD1847\n",
      "get_refine_box: using this location:       col1         col2     col3     col4     col5     col6     col7   col8\n",
      "---------------- -------- -------- -------- -------- -------- -------- ----\n",
      "0.26483099622996 0.489687 0.474055 0.506892 0.491687 0.476055 0.508892    9\n"
     ]
    },
    {
     "name": "stderr",
     "output_type": "stream",
     "text": [
      "Parsing Hierarchy : 100%|████████████████| 5127/5127 [00:00<00:00, 17796.66it/s]\n",
      "yt : [INFO     ] 2022-07-19 10:52:45,180 Gathering a field list (this may take a moment.)\n",
      "yt : [WARNING  ] 2022-07-19 10:52:47,967 The stars particle filter already exists. Overriding.\n",
      "yt : [WARNING  ] 2022-07-19 10:52:47,967 The DM particle filter already exists. Overriding.\n"
     ]
    },
    {
     "name": "stdout",
     "output_type": "stream",
     "text": [
      "Pulling halo center from catalog file\n",
      "Opening snapshot /Volumes/TempestTimeSteps/DD1867/DD1867\n"
     ]
    },
    {
     "name": "stderr",
     "output_type": "stream",
     "text": [
      "yt : [INFO     ] 2022-07-19 10:52:48,144 Parameters: current_time              = 499.56652781829\n",
      "yt : [INFO     ] 2022-07-19 10:52:48,148 Parameters: domain_dimensions         = [256 256 256]\n",
      "yt : [INFO     ] 2022-07-19 10:52:48,150 Parameters: domain_left_edge          = [0. 0. 0.]\n",
      "yt : [INFO     ] 2022-07-19 10:52:48,152 Parameters: domain_right_edge         = [1. 1. 1.]\n",
      "yt : [INFO     ] 2022-07-19 10:52:48,153 Parameters: cosmological_simulation   = 1\n",
      "yt : [INFO     ] 2022-07-19 10:52:48,153 Parameters: current_redshift          = 0.25390358705733\n",
      "yt : [INFO     ] 2022-07-19 10:52:48,154 Parameters: omega_lambda              = 0.715\n",
      "yt : [INFO     ] 2022-07-19 10:52:48,154 Parameters: omega_matter              = 0.285\n",
      "yt : [INFO     ] 2022-07-19 10:52:48,155 Parameters: omega_radiation           = 0\n",
      "yt : [INFO     ] 2022-07-19 10:52:48,156 Parameters: hubble_constant           = 0.695\n"
     ]
    },
    {
     "name": "stdout",
     "output_type": "stream",
     "text": [
      "get_refine_box: using this location:       col1         col2     col3     col4     col5     col6     col7   col8\n",
      "---------------- -------- -------- -------- -------- -------- -------- ----\n",
      "0.25391735822521 0.489653 0.473906 0.506947 0.491653 0.475906 0.508947    9\n"
     ]
    },
    {
     "name": "stderr",
     "output_type": "stream",
     "text": [
      "Parsing Hierarchy : 100%|████████████████| 5143/5143 [00:00<00:00, 17171.22it/s]\n",
      "yt : [INFO     ] 2022-07-19 10:52:48,655 Gathering a field list (this may take a moment.)\n",
      "yt : [WARNING  ] 2022-07-19 10:52:51,275 The stars particle filter already exists. Overriding.\n",
      "yt : [WARNING  ] 2022-07-19 10:52:51,276 The DM particle filter already exists. Overriding.\n",
      "yt : [INFO     ] 2022-07-19 10:52:51,384 Parameters: current_time              = 504.56652781829\n",
      "yt : [INFO     ] 2022-07-19 10:52:51,386 Parameters: domain_dimensions         = [256 256 256]\n",
      "yt : [INFO     ] 2022-07-19 10:52:51,388 Parameters: domain_left_edge          = [0. 0. 0.]\n",
      "yt : [INFO     ] 2022-07-19 10:52:51,391 Parameters: domain_right_edge         = [1. 1. 1.]\n",
      "yt : [INFO     ] 2022-07-19 10:52:51,391 Parameters: cosmological_simulation   = 1\n",
      "yt : [INFO     ] 2022-07-19 10:52:51,392 Parameters: current_redshift          = 0.24314759224344\n",
      "yt : [INFO     ] 2022-07-19 10:52:51,392 Parameters: omega_lambda              = 0.715\n",
      "yt : [INFO     ] 2022-07-19 10:52:51,393 Parameters: omega_matter              = 0.285\n",
      "yt : [INFO     ] 2022-07-19 10:52:51,393 Parameters: omega_radiation           = 0\n",
      "yt : [INFO     ] 2022-07-19 10:52:51,394 Parameters: hubble_constant           = 0.695\n"
     ]
    },
    {
     "name": "stdout",
     "output_type": "stream",
     "text": [
      "Pulling halo center from catalog file\n",
      "Opening snapshot /Volumes/TempestTimeSteps/DD1887/DD1887\n",
      "get_refine_box: using this location:       col1         col2     col3     col4     col5     col6     col7   col8\n",
      "---------------- -------- -------- -------- -------- -------- -------- ----\n",
      "0.24315916272406 0.489623 0.473759 0.507006 0.491623 0.475759 0.509006    9\n"
     ]
    },
    {
     "name": "stderr",
     "output_type": "stream",
     "text": [
      "Parsing Hierarchy : 100%|████████████████| 4839/4839 [00:00<00:00, 17092.16it/s]\n",
      "yt : [INFO     ] 2022-07-19 10:52:51,958 Gathering a field list (this may take a moment.)\n",
      "yt : [WARNING  ] 2022-07-19 10:52:54,669 The stars particle filter already exists. Overriding.\n",
      "yt : [WARNING  ] 2022-07-19 10:52:54,669 The DM particle filter already exists. Overriding.\n"
     ]
    },
    {
     "name": "stdout",
     "output_type": "stream",
     "text": [
      "Pulling halo center from catalog file\n",
      "Opening snapshot /Volumes/TempestTimeSteps/DD1907/DD1907\n"
     ]
    },
    {
     "name": "stderr",
     "output_type": "stream",
     "text": [
      "yt : [INFO     ] 2022-07-19 10:52:54,847 Parameters: current_time              = 509.56652781829\n",
      "yt : [INFO     ] 2022-07-19 10:52:54,849 Parameters: domain_dimensions         = [256 256 256]\n",
      "yt : [INFO     ] 2022-07-19 10:52:54,852 Parameters: domain_left_edge          = [0. 0. 0.]\n",
      "yt : [INFO     ] 2022-07-19 10:52:54,854 Parameters: domain_right_edge         = [1. 1. 1.]\n",
      "yt : [INFO     ] 2022-07-19 10:52:54,855 Parameters: cosmological_simulation   = 1\n",
      "yt : [INFO     ] 2022-07-19 10:52:54,855 Parameters: current_redshift          = 0.23254622398407\n",
      "yt : [INFO     ] 2022-07-19 10:52:54,856 Parameters: omega_lambda              = 0.715\n",
      "yt : [INFO     ] 2022-07-19 10:52:54,856 Parameters: omega_matter              = 0.285\n",
      "yt : [INFO     ] 2022-07-19 10:52:54,857 Parameters: omega_radiation           = 0\n",
      "yt : [INFO     ] 2022-07-19 10:52:54,858 Parameters: hubble_constant           = 0.695\n"
     ]
    },
    {
     "name": "stdout",
     "output_type": "stream",
     "text": [
      "get_refine_box: using this location:       col1        col2     col3     col4     col5     col6     col7   col8\n",
      "--------------- -------- -------- -------- -------- -------- -------- ----\n",
      "0.2325524696738 0.489592 0.473612 0.507067 0.491592 0.475612 0.509067    9\n"
     ]
    },
    {
     "name": "stderr",
     "output_type": "stream",
     "text": [
      "Parsing Hierarchy : 100%|████████████████| 4729/4729 [00:00<00:00, 17940.35it/s]\n",
      "yt : [INFO     ] 2022-07-19 10:52:55,310 Gathering a field list (this may take a moment.)\n",
      "yt : [WARNING  ] 2022-07-19 10:52:57,997 The stars particle filter already exists. Overriding.\n",
      "yt : [WARNING  ] 2022-07-19 10:52:57,997 The DM particle filter already exists. Overriding.\n"
     ]
    },
    {
     "name": "stdout",
     "output_type": "stream",
     "text": [
      "Pulling halo center from catalog file\n",
      "Opening snapshot /Volumes/TempestTimeSteps/DD1927/DD1927\n"
     ]
    },
    {
     "name": "stderr",
     "output_type": "stream",
     "text": [
      "yt : [INFO     ] 2022-07-19 10:52:58,178 Parameters: current_time              = 514.56652781829\n",
      "yt : [INFO     ] 2022-07-19 10:52:58,180 Parameters: domain_dimensions         = [256 256 256]\n",
      "yt : [INFO     ] 2022-07-19 10:52:58,183 Parameters: domain_left_edge          = [0. 0. 0.]\n",
      "yt : [INFO     ] 2022-07-19 10:52:58,186 Parameters: domain_right_edge         = [1. 1. 1.]\n",
      "yt : [INFO     ] 2022-07-19 10:52:58,187 Parameters: cosmological_simulation   = 1\n",
      "yt : [INFO     ] 2022-07-19 10:52:58,187 Parameters: current_redshift          = 0.2220785334236\n",
      "yt : [INFO     ] 2022-07-19 10:52:58,188 Parameters: omega_lambda              = 0.715\n",
      "yt : [INFO     ] 2022-07-19 10:52:58,189 Parameters: omega_matter              = 0.285\n",
      "yt : [INFO     ] 2022-07-19 10:52:58,190 Parameters: omega_radiation           = 0\n",
      "yt : [INFO     ] 2022-07-19 10:52:58,190 Parameters: hubble_constant           = 0.695\n"
     ]
    },
    {
     "name": "stdout",
     "output_type": "stream",
     "text": [
      "get_refine_box: using this location:      col1        col2     col3     col4     col5     col6     col7   col8\n",
      "-------------- -------- -------- -------- -------- -------- -------- ----\n",
      "0.222093482089 0.489563 0.473471 0.507126 0.491563 0.475471 0.509126    9\n"
     ]
    },
    {
     "name": "stderr",
     "output_type": "stream",
     "text": [
      "Parsing Hierarchy : 100%|████████████████| 5012/5012 [00:00<00:00, 18053.53it/s]\n",
      "yt : [INFO     ] 2022-07-19 10:52:58,666 Gathering a field list (this may take a moment.)\n",
      "yt : [WARNING  ] 2022-07-19 10:53:01,390 The stars particle filter already exists. Overriding.\n",
      "yt : [WARNING  ] 2022-07-19 10:53:01,391 The DM particle filter already exists. Overriding.\n"
     ]
    },
    {
     "name": "stdout",
     "output_type": "stream",
     "text": [
      "Pulling halo center from catalog file\n",
      "Opening snapshot /Volumes/TempestTimeSteps/DD1947/DD1947\n"
     ]
    },
    {
     "name": "stderr",
     "output_type": "stream",
     "text": [
      "yt : [INFO     ] 2022-07-19 10:53:01,575 Parameters: current_time              = 519.56652781829\n",
      "yt : [INFO     ] 2022-07-19 10:53:01,577 Parameters: domain_dimensions         = [256 256 256]\n",
      "yt : [INFO     ] 2022-07-19 10:53:01,580 Parameters: domain_left_edge          = [0. 0. 0.]\n",
      "yt : [INFO     ] 2022-07-19 10:53:01,583 Parameters: domain_right_edge         = [1. 1. 1.]\n",
      "yt : [INFO     ] 2022-07-19 10:53:01,583 Parameters: cosmological_simulation   = 1\n",
      "yt : [INFO     ] 2022-07-19 10:53:01,584 Parameters: current_redshift          = 0.21177265783797\n",
      "yt : [INFO     ] 2022-07-19 10:53:01,585 Parameters: omega_lambda              = 0.715\n",
      "yt : [INFO     ] 2022-07-19 10:53:01,585 Parameters: omega_matter              = 0.285\n",
      "yt : [INFO     ] 2022-07-19 10:53:01,586 Parameters: omega_radiation           = 0\n",
      "yt : [INFO     ] 2022-07-19 10:53:01,587 Parameters: hubble_constant           = 0.695\n"
     ]
    },
    {
     "name": "stdout",
     "output_type": "stream",
     "text": [
      "get_refine_box: using this location:       col1         col2     col3    col4     col5     col6    col7   col8\n",
      "---------------- -------- ------- -------- -------- ------- -------- ----\n",
      "0.21177853956479 0.489535 0.47333 0.507189 0.491535 0.47533 0.509189    9\n"
     ]
    },
    {
     "name": "stderr",
     "output_type": "stream",
     "text": [
      "Parsing Hierarchy : 100%|████████████████| 5317/5317 [00:00<00:00, 18106.27it/s]\n",
      "yt : [INFO     ] 2022-07-19 10:53:02,092 Gathering a field list (this may take a moment.)\n",
      "yt : [WARNING  ] 2022-07-19 10:53:04,816 The stars particle filter already exists. Overriding.\n",
      "yt : [WARNING  ] 2022-07-19 10:53:04,817 The DM particle filter already exists. Overriding.\n"
     ]
    },
    {
     "name": "stdout",
     "output_type": "stream",
     "text": [
      "Pulling halo center from catalog file\n",
      "Opening snapshot /Volumes/TempestTimeSteps/DD1967/DD1967\n"
     ]
    },
    {
     "name": "stderr",
     "output_type": "stream",
     "text": [
      "yt : [INFO     ] 2022-07-19 10:53:05,013 Parameters: current_time              = 524.56652781829\n",
      "yt : [INFO     ] 2022-07-19 10:53:05,016 Parameters: domain_dimensions         = [256 256 256]\n",
      "yt : [INFO     ] 2022-07-19 10:53:05,018 Parameters: domain_left_edge          = [0. 0. 0.]\n",
      "yt : [INFO     ] 2022-07-19 10:53:05,021 Parameters: domain_right_edge         = [1. 1. 1.]\n",
      "yt : [INFO     ] 2022-07-19 10:53:05,022 Parameters: cosmological_simulation   = 1\n",
      "yt : [INFO     ] 2022-07-19 10:53:05,022 Parameters: current_redshift          = 0.20159208404487\n",
      "yt : [INFO     ] 2022-07-19 10:53:05,023 Parameters: omega_lambda              = 0.715\n",
      "yt : [INFO     ] 2022-07-19 10:53:05,023 Parameters: omega_matter              = 0.285\n",
      "yt : [INFO     ] 2022-07-19 10:53:05,024 Parameters: omega_radiation           = 0\n",
      "yt : [INFO     ] 2022-07-19 10:53:05,024 Parameters: hubble_constant           = 0.695\n"
     ]
    },
    {
     "name": "stdout",
     "output_type": "stream",
     "text": [
      "get_refine_box: using this location:       col1         col2     col3     col4    col5     col6     col7  col8\n",
      "---------------- -------- -------- ------- -------- -------- ------- ----\n",
      "0.20160411214129 0.489504 0.473191 0.50725 0.491504 0.475191 0.50925    9\n"
     ]
    },
    {
     "name": "stderr",
     "output_type": "stream",
     "text": [
      "Parsing Hierarchy : 100%|████████████████| 5322/5322 [00:00<00:00, 17737.93it/s]\n",
      "yt : [INFO     ] 2022-07-19 10:53:05,551 Gathering a field list (this may take a moment.)\n",
      "yt : [WARNING  ] 2022-07-19 10:53:08,329 The stars particle filter already exists. Overriding.\n",
      "yt : [WARNING  ] 2022-07-19 10:53:08,330 The DM particle filter already exists. Overriding.\n",
      "yt : [INFO     ] 2022-07-19 10:53:08,451 Parameters: current_time              = 529.56652781829\n",
      "yt : [INFO     ] 2022-07-19 10:53:08,454 Parameters: domain_dimensions         = [256 256 256]\n",
      "yt : [INFO     ] 2022-07-19 10:53:08,457 Parameters: domain_left_edge          = [0. 0. 0.]\n",
      "yt : [INFO     ] 2022-07-19 10:53:08,459 Parameters: domain_right_edge         = [1. 1. 1.]\n",
      "yt : [INFO     ] 2022-07-19 10:53:08,460 Parameters: cosmological_simulation   = 1\n",
      "yt : [INFO     ] 2022-07-19 10:53:08,460 Parameters: current_redshift          = 0.191553635351\n",
      "yt : [INFO     ] 2022-07-19 10:53:08,461 Parameters: omega_lambda              = 0.715\n",
      "yt : [INFO     ] 2022-07-19 10:53:08,461 Parameters: omega_matter              = 0.285\n",
      "yt : [INFO     ] 2022-07-19 10:53:08,462 Parameters: omega_radiation           = 0\n",
      "yt : [INFO     ] 2022-07-19 10:53:08,463 Parameters: hubble_constant           = 0.695\n"
     ]
    },
    {
     "name": "stdout",
     "output_type": "stream",
     "text": [
      "Pulling halo center from catalog file\n",
      "Opening snapshot /Volumes/TempestTimeSteps/DD1987/DD1987\n",
      "get_refine_box: using this location:       col1         col2     col3     col4     col5     col6     col7   col8\n",
      "---------------- -------- -------- -------- -------- -------- -------- ----\n",
      "0.19156679449708 0.489476 0.473053 0.507311 0.491476 0.475053 0.509311    9\n"
     ]
    },
    {
     "name": "stderr",
     "output_type": "stream",
     "text": [
      "Parsing Hierarchy : 100%|████████████████| 5118/5118 [00:00<00:00, 18787.85it/s]\n",
      "yt : [INFO     ] 2022-07-19 10:53:08,942 Gathering a field list (this may take a moment.)\n",
      "yt : [WARNING  ] 2022-07-19 10:53:11,732 The stars particle filter already exists. Overriding.\n",
      "yt : [WARNING  ] 2022-07-19 10:53:11,733 The DM particle filter already exists. Overriding.\n"
     ]
    },
    {
     "name": "stdout",
     "output_type": "stream",
     "text": [
      "Pulling halo center from catalog file\n",
      "Opening snapshot /Volumes/TempestTimeSteps/DD2007/DD2007\n"
     ]
    },
    {
     "name": "stderr",
     "output_type": "stream",
     "text": [
      "yt : [INFO     ] 2022-07-19 10:53:11,937 Parameters: current_time              = 534.56652781829\n",
      "yt : [INFO     ] 2022-07-19 10:53:11,941 Parameters: domain_dimensions         = [256 256 256]\n",
      "yt : [INFO     ] 2022-07-19 10:53:11,943 Parameters: domain_left_edge          = [0. 0. 0.]\n",
      "yt : [INFO     ] 2022-07-19 10:53:11,946 Parameters: domain_right_edge         = [1. 1. 1.]\n",
      "yt : [INFO     ] 2022-07-19 10:53:11,947 Parameters: cosmological_simulation   = 1\n",
      "yt : [INFO     ] 2022-07-19 10:53:11,947 Parameters: current_redshift          = 0.18165941968054\n",
      "yt : [INFO     ] 2022-07-19 10:53:11,948 Parameters: omega_lambda              = 0.715\n",
      "yt : [INFO     ] 2022-07-19 10:53:11,949 Parameters: omega_matter              = 0.285\n",
      "yt : [INFO     ] 2022-07-19 10:53:11,949 Parameters: omega_radiation           = 0\n",
      "yt : [INFO     ] 2022-07-19 10:53:11,950 Parameters: hubble_constant           = 0.695\n"
     ]
    },
    {
     "name": "stdout",
     "output_type": "stream",
     "text": [
      "get_refine_box: using this location:       col1         col2     col3     col4     col5     col6     col7   col8\n",
      "---------------- -------- -------- -------- -------- -------- -------- ----\n",
      "0.18166330045117 0.489447 0.472918 0.507372 0.491447 0.474918 0.509372    9\n"
     ]
    },
    {
     "name": "stderr",
     "output_type": "stream",
     "text": [
      "Parsing Hierarchy : 100%|████████████████| 5188/5188 [00:00<00:00, 18138.97it/s]\n",
      "yt : [INFO     ] 2022-07-19 10:53:12,438 Gathering a field list (this may take a moment.)\n",
      "yt : [WARNING  ] 2022-07-19 10:53:15,103 The stars particle filter already exists. Overriding.\n",
      "yt : [WARNING  ] 2022-07-19 10:53:15,105 The DM particle filter already exists. Overriding.\n"
     ]
    },
    {
     "name": "stdout",
     "output_type": "stream",
     "text": [
      "Pulling halo center from catalog file\n",
      "Opening snapshot /Volumes/TempestTimeSteps/DD2027/DD2027\n"
     ]
    },
    {
     "name": "stderr",
     "output_type": "stream",
     "text": [
      "yt : [INFO     ] 2022-07-19 10:53:15,275 Parameters: current_time              = 539.56652781829\n",
      "yt : [INFO     ] 2022-07-19 10:53:15,278 Parameters: domain_dimensions         = [256 256 256]\n",
      "yt : [INFO     ] 2022-07-19 10:53:15,280 Parameters: domain_left_edge          = [0. 0. 0.]\n",
      "yt : [INFO     ] 2022-07-19 10:53:15,283 Parameters: domain_right_edge         = [1. 1. 1.]\n",
      "yt : [INFO     ] 2022-07-19 10:53:15,284 Parameters: cosmological_simulation   = 1\n",
      "yt : [INFO     ] 2022-07-19 10:53:15,284 Parameters: current_redshift          = 0.1718756018899\n",
      "yt : [INFO     ] 2022-07-19 10:53:15,285 Parameters: omega_lambda              = 0.715\n",
      "yt : [INFO     ] 2022-07-19 10:53:15,285 Parameters: omega_matter              = 0.285\n",
      "yt : [INFO     ] 2022-07-19 10:53:15,286 Parameters: omega_radiation           = 0\n",
      "yt : [INFO     ] 2022-07-19 10:53:15,287 Parameters: hubble_constant           = 0.695\n"
     ]
    },
    {
     "name": "stdout",
     "output_type": "stream",
     "text": [
      "get_refine_box: using this location:       col1        col2    col3     col4     col5    col6     col7   col8\n",
      "--------------- ------- -------- -------- ------- -------- -------- ----\n",
      "0.1718904577544 0.48942 0.472783 0.507435 0.49142 0.474783 0.509435    9\n"
     ]
    },
    {
     "name": "stderr",
     "output_type": "stream",
     "text": [
      "Parsing Hierarchy : 100%|████████████████| 5220/5220 [00:00<00:00, 18144.70it/s]\n",
      "yt : [INFO     ] 2022-07-19 10:53:15,772 Gathering a field list (this may take a moment.)\n",
      "yt : [WARNING  ] 2022-07-19 10:53:18,433 The stars particle filter already exists. Overriding.\n",
      "yt : [WARNING  ] 2022-07-19 10:53:18,433 The DM particle filter already exists. Overriding.\n",
      "yt : [INFO     ] 2022-07-19 10:53:18,548 Parameters: current_time              = 544.56652781829\n",
      "yt : [INFO     ] 2022-07-19 10:53:18,550 Parameters: domain_dimensions         = [256 256 256]\n",
      "yt : [INFO     ] 2022-07-19 10:53:18,552 Parameters: domain_left_edge          = [0. 0. 0.]\n",
      "yt : [INFO     ] 2022-07-19 10:53:18,555 Parameters: domain_right_edge         = [1. 1. 1.]\n",
      "yt : [INFO     ] 2022-07-19 10:53:18,555 Parameters: cosmological_simulation   = 1\n",
      "yt : [INFO     ] 2022-07-19 10:53:18,556 Parameters: current_redshift          = 0.1622385268912\n",
      "yt : [INFO     ] 2022-07-19 10:53:18,556 Parameters: omega_lambda              = 0.715\n",
      "yt : [INFO     ] 2022-07-19 10:53:18,557 Parameters: omega_matter              = 0.285\n",
      "yt : [INFO     ] 2022-07-19 10:53:18,557 Parameters: omega_radiation           = 0\n",
      "yt : [INFO     ] 2022-07-19 10:53:18,558 Parameters: hubble_constant           = 0.695\n"
     ]
    },
    {
     "name": "stdout",
     "output_type": "stream",
     "text": [
      "Pulling halo center from catalog file\n",
      "Opening snapshot /Volumes/TempestTimeSteps/DD2047/DD2047\n",
      "get_refine_box: using this location:       col1         col2    col3     col4     col5    col6     col7   col8\n",
      "---------------- ------- -------- -------- ------- -------- -------- ----\n",
      "0.16224520315245 0.48939 0.472649 0.507494 0.49139 0.474649 0.509494    9\n"
     ]
    },
    {
     "name": "stderr",
     "output_type": "stream",
     "text": [
      "Parsing Hierarchy : 100%|████████████████| 5096/5096 [00:00<00:00, 16704.09it/s]\n",
      "yt : [INFO     ] 2022-07-19 10:53:19,063 Gathering a field list (this may take a moment.)\n",
      "yt : [WARNING  ] 2022-07-19 10:53:21,828 The stars particle filter already exists. Overriding.\n",
      "yt : [WARNING  ] 2022-07-19 10:53:21,829 The DM particle filter already exists. Overriding.\n"
     ]
    },
    {
     "name": "stdout",
     "output_type": "stream",
     "text": [
      "Pulling halo center from catalog file\n",
      "Opening snapshot /Volumes/TempestTimeSteps/DD2067/DD2067\n"
     ]
    },
    {
     "name": "stderr",
     "output_type": "stream",
     "text": [
      "yt : [INFO     ] 2022-07-19 10:53:22,030 Parameters: current_time              = 549.56652781829\n",
      "yt : [INFO     ] 2022-07-19 10:53:22,033 Parameters: domain_dimensions         = [256 256 256]\n",
      "yt : [INFO     ] 2022-07-19 10:53:22,035 Parameters: domain_left_edge          = [0. 0. 0.]\n",
      "yt : [INFO     ] 2022-07-19 10:53:22,037 Parameters: domain_right_edge         = [1. 1. 1.]\n",
      "yt : [INFO     ] 2022-07-19 10:53:22,037 Parameters: cosmological_simulation   = 1\n",
      "yt : [INFO     ] 2022-07-19 10:53:22,038 Parameters: current_redshift          = 0.15271267325251\n",
      "yt : [INFO     ] 2022-07-19 10:53:22,039 Parameters: omega_lambda              = 0.715\n",
      "yt : [INFO     ] 2022-07-19 10:53:22,039 Parameters: omega_matter              = 0.285\n",
      "yt : [INFO     ] 2022-07-19 10:53:22,040 Parameters: omega_radiation           = 0\n",
      "yt : [INFO     ] 2022-07-19 10:53:22,041 Parameters: hubble_constant           = 0.695\n"
     ]
    },
    {
     "name": "stdout",
     "output_type": "stream",
     "text": [
      "get_refine_box: using this location:       col1         col2     col3     col4     col5     col6     col7   col8\n",
      "---------------- -------- -------- -------- -------- -------- -------- ----\n",
      "0.15272457770406 0.489359 0.472517 0.507557 0.491359 0.474517 0.509557    9\n"
     ]
    },
    {
     "name": "stderr",
     "output_type": "stream",
     "text": [
      "Parsing Hierarchy : 100%|████████████████| 5279/5279 [00:00<00:00, 17716.43it/s]\n",
      "yt : [INFO     ] 2022-07-19 10:53:22,541 Gathering a field list (this may take a moment.)\n",
      "yt : [WARNING  ] 2022-07-19 10:53:25,285 The stars particle filter already exists. Overriding.\n",
      "yt : [WARNING  ] 2022-07-19 10:53:25,285 The DM particle filter already exists. Overriding.\n"
     ]
    },
    {
     "name": "stdout",
     "output_type": "stream",
     "text": [
      "Pulling halo center from catalog file\n",
      "Opening snapshot /Volumes/TempestTimeSteps/DD2087/DD2087\n"
     ]
    },
    {
     "name": "stderr",
     "output_type": "stream",
     "text": [
      "yt : [INFO     ] 2022-07-19 10:53:25,463 Parameters: current_time              = 554.56652781829\n",
      "yt : [INFO     ] 2022-07-19 10:53:25,466 Parameters: domain_dimensions         = [256 256 256]\n",
      "yt : [INFO     ] 2022-07-19 10:53:25,468 Parameters: domain_left_edge          = [0. 0. 0.]\n",
      "yt : [INFO     ] 2022-07-19 10:53:25,470 Parameters: domain_right_edge         = [1. 1. 1.]\n",
      "yt : [INFO     ] 2022-07-19 10:53:25,471 Parameters: cosmological_simulation   = 1\n",
      "yt : [INFO     ] 2022-07-19 10:53:25,472 Parameters: current_redshift          = 0.1433128745218\n",
      "yt : [INFO     ] 2022-07-19 10:53:25,472 Parameters: omega_lambda              = 0.715\n",
      "yt : [INFO     ] 2022-07-19 10:53:25,473 Parameters: omega_matter              = 0.285\n",
      "yt : [INFO     ] 2022-07-19 10:53:25,474 Parameters: omega_radiation           = 0\n",
      "yt : [INFO     ] 2022-07-19 10:53:25,475 Parameters: hubble_constant           = 0.695\n"
     ]
    },
    {
     "name": "stdout",
     "output_type": "stream",
     "text": [
      "get_refine_box: using this location:       col1         col2     col3     col4     col5     col6     col7   col8\n",
      "---------------- -------- -------- -------- -------- -------- -------- ----\n",
      "0.14332572233908 0.489329 0.472386 0.507616 0.491329 0.474386 0.509616    9\n"
     ]
    },
    {
     "name": "stderr",
     "output_type": "stream",
     "text": [
      "Parsing Hierarchy : 100%|████████████████| 5340/5340 [00:00<00:00, 17131.80it/s]\n",
      "yt : [INFO     ] 2022-07-19 10:53:25,985 Gathering a field list (this may take a moment.)\n",
      "yt : [WARNING  ] 2022-07-19 10:53:38,847 The stars particle filter already exists. Overriding.\n",
      "yt : [WARNING  ] 2022-07-19 10:53:38,847 The DM particle filter already exists. Overriding.\n"
     ]
    },
    {
     "name": "stdout",
     "output_type": "stream",
     "text": [
      "Pulling halo center from catalog file\n",
      "Opening snapshot /Volumes/TempestTimeSteps/DD2107/DD2107\n"
     ]
    },
    {
     "name": "stderr",
     "output_type": "stream",
     "text": [
      "yt : [INFO     ] 2022-07-19 10:53:39,279 Parameters: current_time              = 559.56652781829\n",
      "yt : [INFO     ] 2022-07-19 10:53:39,282 Parameters: domain_dimensions         = [256 256 256]\n",
      "yt : [INFO     ] 2022-07-19 10:53:39,286 Parameters: domain_left_edge          = [0. 0. 0.]\n",
      "yt : [INFO     ] 2022-07-19 10:53:39,288 Parameters: domain_right_edge         = [1. 1. 1.]\n",
      "yt : [INFO     ] 2022-07-19 10:53:39,289 Parameters: cosmological_simulation   = 1\n",
      "yt : [INFO     ] 2022-07-19 10:53:39,289 Parameters: current_redshift          = 0.13404074085693\n",
      "yt : [INFO     ] 2022-07-19 10:53:39,290 Parameters: omega_lambda              = 0.715\n",
      "yt : [INFO     ] 2022-07-19 10:53:39,291 Parameters: omega_matter              = 0.285\n",
      "yt : [INFO     ] 2022-07-19 10:53:39,292 Parameters: omega_radiation           = 0\n",
      "yt : [INFO     ] 2022-07-19 10:53:39,292 Parameters: hubble_constant           = 0.695\n"
     ]
    },
    {
     "name": "stdout",
     "output_type": "stream",
     "text": [
      "get_refine_box: using this location:       col1        col2    col3     col4    col5    col6     col7   col8\n",
      "---------------- ------ -------- -------- ------ -------- -------- ----\n",
      "0.13404587364197 0.4893 0.472256 0.507677 0.4913 0.474256 0.509677    9\n"
     ]
    },
    {
     "name": "stderr",
     "output_type": "stream",
     "text": [
      "Parsing Hierarchy : 100%|████████████████| 5123/5123 [00:00<00:00, 18484.04it/s]\n",
      "yt : [INFO     ] 2022-07-19 10:53:39,778 Gathering a field list (this may take a moment.)\n",
      "yt : [WARNING  ] 2022-07-19 10:53:42,474 The stars particle filter already exists. Overriding.\n",
      "yt : [WARNING  ] 2022-07-19 10:53:42,474 The DM particle filter already exists. Overriding.\n"
     ]
    },
    {
     "name": "stdout",
     "output_type": "stream",
     "text": [
      "Pulling halo center from catalog file\n",
      "Opening snapshot /Volumes/TempestTimeSteps/DD2127/DD2127\n"
     ]
    },
    {
     "name": "stderr",
     "output_type": "stream",
     "text": [
      "yt : [INFO     ] 2022-07-19 10:53:42,660 Parameters: current_time              = 564.56652781829\n",
      "yt : [INFO     ] 2022-07-19 10:53:42,663 Parameters: domain_dimensions         = [256 256 256]\n",
      "yt : [INFO     ] 2022-07-19 10:53:42,665 Parameters: domain_left_edge          = [0. 0. 0.]\n",
      "yt : [INFO     ] 2022-07-19 10:53:42,668 Parameters: domain_right_edge         = [1. 1. 1.]\n",
      "yt : [INFO     ] 2022-07-19 10:53:42,668 Parameters: cosmological_simulation   = 1\n",
      "yt : [INFO     ] 2022-07-19 10:53:42,669 Parameters: current_redshift          = 0.12486754396875\n",
      "yt : [INFO     ] 2022-07-19 10:53:42,669 Parameters: omega_lambda              = 0.715\n",
      "yt : [INFO     ] 2022-07-19 10:53:42,670 Parameters: omega_matter              = 0.285\n",
      "yt : [INFO     ] 2022-07-19 10:53:42,670 Parameters: omega_radiation           = 0\n",
      "yt : [INFO     ] 2022-07-19 10:53:42,671 Parameters: hubble_constant           = 0.695\n"
     ]
    },
    {
     "name": "stdout",
     "output_type": "stream",
     "text": [
      "get_refine_box: using this location:       col1         col2    col3     col4     col5    col6     col7   col8\n",
      "---------------- ------- -------- -------- ------- -------- -------- ----\n",
      "0.12488235984756 0.48927 0.472126 0.507739 0.49127 0.474126 0.509739    9\n"
     ]
    },
    {
     "name": "stderr",
     "output_type": "stream",
     "text": [
      "Parsing Hierarchy : 100%|████████████████| 4705/4705 [00:00<00:00, 18161.76it/s]\n",
      "yt : [INFO     ] 2022-07-19 10:53:43,124 Gathering a field list (this may take a moment.)\n",
      "yt : [WARNING  ] 2022-07-19 10:53:46,109 The stars particle filter already exists. Overriding.\n",
      "yt : [WARNING  ] 2022-07-19 10:53:46,110 The DM particle filter already exists. Overriding.\n"
     ]
    },
    {
     "name": "stdout",
     "output_type": "stream",
     "text": [
      "Pulling halo center from catalog file\n",
      "Opening snapshot /Volumes/TempestTimeSteps/DD2147/DD2147\n"
     ]
    },
    {
     "name": "stderr",
     "output_type": "stream",
     "text": [
      "yt : [INFO     ] 2022-07-19 10:53:46,304 Parameters: current_time              = 569.56652781829\n",
      "yt : [INFO     ] 2022-07-19 10:53:46,307 Parameters: domain_dimensions         = [256 256 256]\n",
      "yt : [INFO     ] 2022-07-19 10:53:46,309 Parameters: domain_left_edge          = [0. 0. 0.]\n",
      "yt : [INFO     ] 2022-07-19 10:53:46,311 Parameters: domain_right_edge         = [1. 1. 1.]\n",
      "yt : [INFO     ] 2022-07-19 10:53:46,312 Parameters: cosmological_simulation   = 1\n",
      "yt : [INFO     ] 2022-07-19 10:53:46,313 Parameters: current_redshift          = 0.11582848603619\n",
      "yt : [INFO     ] 2022-07-19 10:53:46,313 Parameters: omega_lambda              = 0.715\n",
      "yt : [INFO     ] 2022-07-19 10:53:46,314 Parameters: omega_matter              = 0.285\n",
      "yt : [INFO     ] 2022-07-19 10:53:46,315 Parameters: omega_radiation           = 0\n",
      "yt : [INFO     ] 2022-07-19 10:53:46,315 Parameters: hubble_constant           = 0.695\n"
     ]
    },
    {
     "name": "stdout",
     "output_type": "stream",
     "text": [
      "get_refine_box: using this location:       col1         col2     col3     col4     col5     col6     col7   col8\n",
      "---------------- -------- -------- -------- -------- -------- -------- ----\n",
      "0.11583259703646 0.489241 0.471999 0.507798 0.491241 0.473999 0.509798    9\n"
     ]
    },
    {
     "name": "stderr",
     "output_type": "stream",
     "text": [
      "Parsing Hierarchy : 100%|████████████████| 4762/4762 [00:00<00:00, 18085.35it/s]\n",
      "yt : [INFO     ] 2022-07-19 10:53:46,769 Gathering a field list (this may take a moment.)\n",
      "yt : [WARNING  ] 2022-07-19 10:53:49,776 The stars particle filter already exists. Overriding.\n",
      "yt : [WARNING  ] 2022-07-19 10:53:49,777 The DM particle filter already exists. Overriding.\n"
     ]
    },
    {
     "name": "stdout",
     "output_type": "stream",
     "text": [
      "Pulling halo center from catalog file\n",
      "Opening snapshot /Volumes/TempestTimeSteps/DD2167/DD2167\n"
     ]
    },
    {
     "name": "stderr",
     "output_type": "stream",
     "text": [
      "yt : [INFO     ] 2022-07-19 10:53:49,965 Parameters: current_time              = 574.56652781829\n",
      "yt : [INFO     ] 2022-07-19 10:53:49,967 Parameters: domain_dimensions         = [256 256 256]\n",
      "yt : [INFO     ] 2022-07-19 10:53:49,970 Parameters: domain_left_edge          = [0. 0. 0.]\n",
      "yt : [INFO     ] 2022-07-19 10:53:49,972 Parameters: domain_right_edge         = [1. 1. 1.]\n",
      "yt : [INFO     ] 2022-07-19 10:53:49,973 Parameters: cosmological_simulation   = 1\n",
      "yt : [INFO     ] 2022-07-19 10:53:49,973 Parameters: current_redshift          = 0.10688078342035\n",
      "yt : [INFO     ] 2022-07-19 10:53:49,974 Parameters: omega_lambda              = 0.715\n",
      "yt : [INFO     ] 2022-07-19 10:53:49,975 Parameters: omega_matter              = 0.285\n",
      "yt : [INFO     ] 2022-07-19 10:53:49,975 Parameters: omega_radiation           = 0\n",
      "yt : [INFO     ] 2022-07-19 10:53:49,976 Parameters: hubble_constant           = 0.695\n"
     ]
    },
    {
     "name": "stdout",
     "output_type": "stream",
     "text": [
      "get_refine_box: using this location:       col1         col2     col3     col4     col5     col6     col7   col8\n",
      "---------------- -------- -------- -------- -------- -------- -------- ----\n",
      "0.10689408551869 0.489214 0.471873 0.507855 0.491214 0.473873 0.509855    9\n"
     ]
    },
    {
     "name": "stderr",
     "output_type": "stream",
     "text": [
      "Parsing Hierarchy : 100%|████████████████| 4619/4619 [00:00<00:00, 18832.23it/s]\n",
      "yt : [INFO     ] 2022-07-19 10:53:50,395 Gathering a field list (this may take a moment.)\n",
      "yt : [WARNING  ] 2022-07-19 10:53:53,109 The stars particle filter already exists. Overriding.\n",
      "yt : [WARNING  ] 2022-07-19 10:53:53,111 The DM particle filter already exists. Overriding.\n"
     ]
    },
    {
     "name": "stdout",
     "output_type": "stream",
     "text": [
      "Pulling halo center from catalog file\n",
      "Opening snapshot /Volumes/TempestTimeSteps/DD2187/DD2187\n"
     ]
    },
    {
     "name": "stderr",
     "output_type": "stream",
     "text": [
      "yt : [INFO     ] 2022-07-19 10:53:53,287 Parameters: current_time              = 579.56652781829\n",
      "yt : [INFO     ] 2022-07-19 10:53:53,290 Parameters: domain_dimensions         = [256 256 256]\n",
      "yt : [INFO     ] 2022-07-19 10:53:53,292 Parameters: domain_left_edge          = [0. 0. 0.]\n",
      "yt : [INFO     ] 2022-07-19 10:53:53,294 Parameters: domain_right_edge         = [1. 1. 1.]\n",
      "yt : [INFO     ] 2022-07-19 10:53:53,295 Parameters: cosmological_simulation   = 1\n",
      "yt : [INFO     ] 2022-07-19 10:53:53,295 Parameters: current_redshift          = 0.098053769197091\n",
      "yt : [INFO     ] 2022-07-19 10:53:53,296 Parameters: omega_lambda              = 0.715\n",
      "yt : [INFO     ] 2022-07-19 10:53:53,297 Parameters: omega_matter              = 0.285\n",
      "yt : [INFO     ] 2022-07-19 10:53:53,297 Parameters: omega_radiation           = 0\n",
      "yt : [INFO     ] 2022-07-19 10:53:53,298 Parameters: hubble_constant           = 0.695\n"
     ]
    },
    {
     "name": "stdout",
     "output_type": "stream",
     "text": [
      "get_refine_box: using this location:        col1         col2     col3     col4     col5     col6     col7   col8\n",
      "----------------- -------- -------- -------- -------- -------- -------- ----\n",
      "0.098064406394637 0.489188 0.471747 0.507912 0.491188 0.473747 0.509912    9\n"
     ]
    },
    {
     "name": "stderr",
     "output_type": "stream",
     "text": [
      "Parsing Hierarchy : 100%|████████████████| 4729/4729 [00:00<00:00, 17454.77it/s]\n",
      "yt : [INFO     ] 2022-07-19 10:53:53,770 Gathering a field list (this may take a moment.)\n",
      "yt : [WARNING  ] 2022-07-19 10:53:56,432 The stars particle filter already exists. Overriding.\n",
      "yt : [WARNING  ] 2022-07-19 10:53:56,433 The DM particle filter already exists. Overriding.\n"
     ]
    },
    {
     "name": "stdout",
     "output_type": "stream",
     "text": [
      "Pulling halo center from catalog file\n",
      "Opening snapshot /Volumes/TempestTimeSteps/DD2207/DD2207\n"
     ]
    },
    {
     "name": "stderr",
     "output_type": "stream",
     "text": [
      "yt : [INFO     ] 2022-07-19 10:53:56,626 Parameters: current_time              = 584.56652781829\n",
      "yt : [INFO     ] 2022-07-19 10:53:56,629 Parameters: domain_dimensions         = [256 256 256]\n",
      "yt : [INFO     ] 2022-07-19 10:53:56,632 Parameters: domain_left_edge          = [0. 0. 0.]\n",
      "yt : [INFO     ] 2022-07-19 10:53:56,635 Parameters: domain_right_edge         = [1. 1. 1.]\n",
      "yt : [INFO     ] 2022-07-19 10:53:56,635 Parameters: cosmological_simulation   = 1\n",
      "yt : [INFO     ] 2022-07-19 10:53:56,636 Parameters: current_redshift          = 0.089332273252055\n",
      "yt : [INFO     ] 2022-07-19 10:53:56,636 Parameters: omega_lambda              = 0.715\n",
      "yt : [INFO     ] 2022-07-19 10:53:56,637 Parameters: omega_matter              = 0.285\n",
      "yt : [INFO     ] 2022-07-19 10:53:56,637 Parameters: omega_radiation           = 0\n",
      "yt : [INFO     ] 2022-07-19 10:53:56,638 Parameters: hubble_constant           = 0.695\n"
     ]
    },
    {
     "name": "stdout",
     "output_type": "stream",
     "text": [
      "get_refine_box: using this location:        col1         col2     col3     col4     col5     col6     col7   col8\n",
      "----------------- -------- -------- -------- -------- -------- -------- ----\n",
      "0.089341218283104 0.489161 0.471621 0.507969 0.491161 0.473621 0.509969    9\n"
     ]
    },
    {
     "name": "stderr",
     "output_type": "stream",
     "text": [
      "Parsing Hierarchy : 100%|████████████████| 4394/4394 [00:00<00:00, 18015.88it/s]\n",
      "yt : [INFO     ] 2022-07-19 10:53:57,066 Gathering a field list (this may take a moment.)\n",
      "yt : [WARNING  ] 2022-07-19 10:53:59,776 The stars particle filter already exists. Overriding.\n",
      "yt : [WARNING  ] 2022-07-19 10:53:59,776 The DM particle filter already exists. Overriding.\n"
     ]
    },
    {
     "name": "stdout",
     "output_type": "stream",
     "text": [
      "Pulling halo center from catalog file\n",
      "Opening snapshot /Volumes/TempestTimeSteps/DD2227/DD2227\n"
     ]
    },
    {
     "name": "stderr",
     "output_type": "stream",
     "text": [
      "yt : [INFO     ] 2022-07-19 10:53:59,963 Parameters: current_time              = 589.56652781829\n",
      "yt : [INFO     ] 2022-07-19 10:53:59,965 Parameters: domain_dimensions         = [256 256 256]\n",
      "yt : [INFO     ] 2022-07-19 10:53:59,967 Parameters: domain_left_edge          = [0. 0. 0.]\n",
      "yt : [INFO     ] 2022-07-19 10:53:59,970 Parameters: domain_right_edge         = [1. 1. 1.]\n",
      "yt : [INFO     ] 2022-07-19 10:53:59,970 Parameters: cosmological_simulation   = 1\n",
      "yt : [INFO     ] 2022-07-19 10:53:59,971 Parameters: current_redshift          = 0.080708326235905\n",
      "yt : [INFO     ] 2022-07-19 10:53:59,971 Parameters: omega_lambda              = 0.715\n",
      "yt : [INFO     ] 2022-07-19 10:53:59,972 Parameters: omega_matter              = 0.285\n",
      "yt : [INFO     ] 2022-07-19 10:53:59,972 Parameters: omega_radiation           = 0\n",
      "yt : [INFO     ] 2022-07-19 10:53:59,973 Parameters: hubble_constant           = 0.695\n"
     ]
    },
    {
     "name": "stdout",
     "output_type": "stream",
     "text": [
      "get_refine_box: using this location:        col1         col2     col3     col4     col5     col6     col7   col8\n",
      "----------------- -------- -------- -------- -------- -------- -------- ----\n",
      "0.080722254207208 0.489136 0.471499 0.508025 0.491136 0.473499 0.510025    9\n"
     ]
    },
    {
     "name": "stderr",
     "output_type": "stream",
     "text": [
      "Parsing Hierarchy : 100%|████████████████| 4637/4637 [00:00<00:00, 18966.63it/s]\n",
      "yt : [INFO     ] 2022-07-19 10:54:00,405 Gathering a field list (this may take a moment.)\n",
      "yt : [WARNING  ] 2022-07-19 10:54:03,166 The stars particle filter already exists. Overriding.\n",
      "yt : [WARNING  ] 2022-07-19 10:54:03,167 The DM particle filter already exists. Overriding.\n"
     ]
    },
    {
     "name": "stdout",
     "output_type": "stream",
     "text": [
      "Pulling halo center from catalog file\n",
      "Opening snapshot /Volumes/TempestTimeSteps/DD2247/DD2247\n"
     ]
    },
    {
     "name": "stderr",
     "output_type": "stream",
     "text": [
      "yt : [INFO     ] 2022-07-19 10:54:03,367 Parameters: current_time              = 594.56652781829\n",
      "yt : [INFO     ] 2022-07-19 10:54:03,369 Parameters: domain_dimensions         = [256 256 256]\n",
      "yt : [INFO     ] 2022-07-19 10:54:03,372 Parameters: domain_left_edge          = [0. 0. 0.]\n",
      "yt : [INFO     ] 2022-07-19 10:54:03,375 Parameters: domain_right_edge         = [1. 1. 1.]\n",
      "yt : [INFO     ] 2022-07-19 10:54:03,375 Parameters: cosmological_simulation   = 1\n",
      "yt : [INFO     ] 2022-07-19 10:54:03,376 Parameters: current_redshift          = 0.072203010646745\n",
      "yt : [INFO     ] 2022-07-19 10:54:03,377 Parameters: omega_lambda              = 0.715\n",
      "yt : [INFO     ] 2022-07-19 10:54:03,377 Parameters: omega_matter              = 0.285\n",
      "yt : [INFO     ] 2022-07-19 10:54:03,378 Parameters: omega_radiation           = 0\n",
      "yt : [INFO     ] 2022-07-19 10:54:03,379 Parameters: hubble_constant           = 0.695\n"
     ]
    },
    {
     "name": "stdout",
     "output_type": "stream",
     "text": [
      "get_refine_box: using this location:        col1         col2     col3     col4     col5     col6     col7   col8\n",
      "----------------- -------- -------- -------- -------- -------- -------- ----\n",
      "0.072205318629089 0.489111 0.471377 0.508078 0.491111 0.473377 0.510078    9\n"
     ]
    },
    {
     "name": "stderr",
     "output_type": "stream",
     "text": [
      "Parsing Hierarchy : 100%|████████████████| 4661/4661 [00:00<00:00, 18995.50it/s]\n",
      "yt : [INFO     ] 2022-07-19 10:54:03,799 Gathering a field list (this may take a moment.)\n",
      "yt : [WARNING  ] 2022-07-19 10:54:06,510 The stars particle filter already exists. Overriding.\n",
      "yt : [WARNING  ] 2022-07-19 10:54:06,511 The DM particle filter already exists. Overriding.\n"
     ]
    },
    {
     "name": "stdout",
     "output_type": "stream",
     "text": [
      "Pulling halo center from catalog file\n",
      "Opening snapshot /Volumes/TempestTimeSteps/DD2267/DD2267\n"
     ]
    },
    {
     "name": "stderr",
     "output_type": "stream",
     "text": [
      "yt : [INFO     ] 2022-07-19 10:54:06,695 Parameters: current_time              = 599.56652781829\n",
      "yt : [INFO     ] 2022-07-19 10:54:06,697 Parameters: domain_dimensions         = [256 256 256]\n",
      "yt : [INFO     ] 2022-07-19 10:54:06,700 Parameters: domain_left_edge          = [0. 0. 0.]\n",
      "yt : [INFO     ] 2022-07-19 10:54:06,702 Parameters: domain_right_edge         = [1. 1. 1.]\n",
      "yt : [INFO     ] 2022-07-19 10:54:06,704 Parameters: cosmological_simulation   = 1\n",
      "yt : [INFO     ] 2022-07-19 10:54:06,705 Parameters: current_redshift          = 0.063773742616062\n",
      "yt : [INFO     ] 2022-07-19 10:54:06,705 Parameters: omega_lambda              = 0.715\n",
      "yt : [INFO     ] 2022-07-19 10:54:06,706 Parameters: omega_matter              = 0.285\n",
      "yt : [INFO     ] 2022-07-19 10:54:06,707 Parameters: omega_radiation           = 0\n",
      "yt : [INFO     ] 2022-07-19 10:54:06,707 Parameters: hubble_constant           = 0.695\n"
     ]
    },
    {
     "name": "stdout",
     "output_type": "stream",
     "text": [
      "get_refine_box: using this location:       col1         col2     col3     col4     col5     col6     col7   col8\n",
      "---------------- -------- -------- -------- -------- -------- -------- ----\n",
      "0.06378828462523 0.489085 0.471257 0.508131 0.491085 0.473257 0.510131    9\n"
     ]
    },
    {
     "name": "stderr",
     "output_type": "stream",
     "text": [
      "Parsing Hierarchy : 100%|████████████████| 4765/4765 [00:00<00:00, 17842.84it/s]\n",
      "yt : [INFO     ] 2022-07-19 10:54:07,154 Gathering a field list (this may take a moment.)\n",
      "yt : [WARNING  ] 2022-07-19 10:54:09,816 The stars particle filter already exists. Overriding.\n",
      "yt : [WARNING  ] 2022-07-19 10:54:09,816 The DM particle filter already exists. Overriding.\n"
     ]
    },
    {
     "name": "stdout",
     "output_type": "stream",
     "text": [
      "Pulling halo center from catalog file\n",
      "Opening snapshot /Volumes/TempestTimeSteps/DD2287/DD2287\n"
     ]
    },
    {
     "name": "stderr",
     "output_type": "stream",
     "text": [
      "yt : [INFO     ] 2022-07-19 10:54:10,008 Parameters: current_time              = 604.56652781829\n",
      "yt : [INFO     ] 2022-07-19 10:54:10,010 Parameters: domain_dimensions         = [256 256 256]\n",
      "yt : [INFO     ] 2022-07-19 10:54:10,014 Parameters: domain_left_edge          = [0. 0. 0.]\n",
      "yt : [INFO     ] 2022-07-19 10:54:10,017 Parameters: domain_right_edge         = [1. 1. 1.]\n",
      "yt : [INFO     ] 2022-07-19 10:54:10,017 Parameters: cosmological_simulation   = 1\n",
      "yt : [INFO     ] 2022-07-19 10:54:10,018 Parameters: current_redshift          = 0.055464005771674\n",
      "yt : [INFO     ] 2022-07-19 10:54:10,018 Parameters: omega_lambda              = 0.715\n",
      "yt : [INFO     ] 2022-07-19 10:54:10,019 Parameters: omega_matter              = 0.285\n",
      "yt : [INFO     ] 2022-07-19 10:54:10,019 Parameters: omega_radiation           = 0\n",
      "yt : [INFO     ] 2022-07-19 10:54:10,020 Parameters: hubble_constant           = 0.695\n"
     ]
    },
    {
     "name": "stdout",
     "output_type": "stream",
     "text": [
      "get_refine_box: using this location:        col1         col2     col3     col4     col5     col6     col7   col8\n",
      "----------------- -------- -------- -------- -------- -------- -------- ----\n",
      "0.055469091194623 0.489056 0.471136 0.508185 0.491056 0.473136 0.510185    9\n"
     ]
    },
    {
     "name": "stderr",
     "output_type": "stream",
     "text": [
      "Parsing Hierarchy : 100%|████████████████| 4752/4752 [00:00<00:00, 17919.35it/s]\n",
      "yt : [INFO     ] 2022-07-19 10:54:10,462 Gathering a field list (this may take a moment.)\n",
      "yt : [WARNING  ] 2022-07-19 10:54:13,234 The stars particle filter already exists. Overriding.\n",
      "yt : [WARNING  ] 2022-07-19 10:54:13,234 The DM particle filter already exists. Overriding.\n"
     ]
    },
    {
     "name": "stdout",
     "output_type": "stream",
     "text": [
      "Pulling halo center from catalog file\n",
      "Opening snapshot /Volumes/TempestTimeSteps/DD2307/DD2307\n"
     ]
    },
    {
     "name": "stderr",
     "output_type": "stream",
     "text": [
      "yt : [INFO     ] 2022-07-19 10:54:13,447 Parameters: current_time              = 609.56652781829\n",
      "yt : [INFO     ] 2022-07-19 10:54:13,450 Parameters: domain_dimensions         = [256 256 256]\n",
      "yt : [INFO     ] 2022-07-19 10:54:13,452 Parameters: domain_left_edge          = [0. 0. 0.]\n",
      "yt : [INFO     ] 2022-07-19 10:54:13,455 Parameters: domain_right_edge         = [1. 1. 1.]\n",
      "yt : [INFO     ] 2022-07-19 10:54:13,455 Parameters: cosmological_simulation   = 1\n",
      "yt : [INFO     ] 2022-07-19 10:54:13,456 Parameters: current_redshift          = 0.047232768552278\n",
      "yt : [INFO     ] 2022-07-19 10:54:13,456 Parameters: omega_lambda              = 0.715\n",
      "yt : [INFO     ] 2022-07-19 10:54:13,457 Parameters: omega_matter              = 0.285\n",
      "yt : [INFO     ] 2022-07-19 10:54:13,458 Parameters: omega_radiation           = 0\n",
      "yt : [INFO     ] 2022-07-19 10:54:13,459 Parameters: hubble_constant           = 0.695\n"
     ]
    },
    {
     "name": "stdout",
     "output_type": "stream",
     "text": [
      "get_refine_box: using this location:       col1         col2     col3     col4     col5     col6     col7   col8\n",
      "---------------- -------- -------- -------- -------- -------- -------- ----\n",
      "0.04724574069249 0.489029 0.471018 0.508236 0.491029 0.473018 0.510236    9\n"
     ]
    },
    {
     "name": "stderr",
     "output_type": "stream",
     "text": [
      "Parsing Hierarchy : 100%|████████████████| 4568/4568 [00:00<00:00, 14179.82it/s]\n",
      "yt : [INFO     ] 2022-07-19 10:54:13,970 Gathering a field list (this may take a moment.)\n",
      "yt : [WARNING  ] 2022-07-19 10:54:16,707 The stars particle filter already exists. Overriding.\n",
      "yt : [WARNING  ] 2022-07-19 10:54:16,708 The DM particle filter already exists. Overriding.\n"
     ]
    },
    {
     "name": "stdout",
     "output_type": "stream",
     "text": [
      "Pulling halo center from catalog file\n",
      "Opening snapshot /Volumes/TempestTimeSteps/DD2327/DD2327\n"
     ]
    },
    {
     "name": "stderr",
     "output_type": "stream",
     "text": [
      "yt : [INFO     ] 2022-07-19 10:54:16,895 Parameters: current_time              = 614.56652781829\n",
      "yt : [INFO     ] 2022-07-19 10:54:16,898 Parameters: domain_dimensions         = [256 256 256]\n",
      "yt : [INFO     ] 2022-07-19 10:54:16,901 Parameters: domain_left_edge          = [0. 0. 0.]\n",
      "yt : [INFO     ] 2022-07-19 10:54:16,903 Parameters: domain_right_edge         = [1. 1. 1.]\n",
      "yt : [INFO     ] 2022-07-19 10:54:16,905 Parameters: cosmological_simulation   = 1\n",
      "yt : [INFO     ] 2022-07-19 10:54:16,906 Parameters: current_redshift          = 0.0391061686678\n",
      "yt : [INFO     ] 2022-07-19 10:54:16,906 Parameters: omega_lambda              = 0.715\n",
      "yt : [INFO     ] 2022-07-19 10:54:16,907 Parameters: omega_matter              = 0.285\n",
      "yt : [INFO     ] 2022-07-19 10:54:16,907 Parameters: omega_radiation           = 0\n",
      "yt : [INFO     ] 2022-07-19 10:54:16,908 Parameters: hubble_constant           = 0.695\n"
     ]
    },
    {
     "name": "stdout",
     "output_type": "stream",
     "text": [
      "get_refine_box: using this location:        col1         col2     col3     col4    col5     col6     col7  col8\n",
      "----------------- -------- -------- ------- -------- -------- ------- ----\n",
      "0.039116296382769 0.489003 0.470898 0.50829 0.491003 0.472898 0.51029    9\n"
     ]
    },
    {
     "name": "stderr",
     "output_type": "stream",
     "text": [
      "Parsing Hierarchy : 100%|████████████████| 4486/4486 [00:00<00:00, 17877.20it/s]\n",
      "yt : [INFO     ] 2022-07-19 10:54:17,333 Gathering a field list (this may take a moment.)\n",
      "yt : [WARNING  ] 2022-07-19 10:54:20,038 The stars particle filter already exists. Overriding.\n",
      "yt : [WARNING  ] 2022-07-19 10:54:20,039 The DM particle filter already exists. Overriding.\n"
     ]
    },
    {
     "name": "stdout",
     "output_type": "stream",
     "text": [
      "Pulling halo center from catalog file\n",
      "Opening snapshot /Volumes/TempestTimeSteps/DD2347/DD2347\n"
     ]
    },
    {
     "name": "stderr",
     "output_type": "stream",
     "text": [
      "yt : [INFO     ] 2022-07-19 10:54:20,225 Parameters: current_time              = 619.56652781829\n",
      "yt : [INFO     ] 2022-07-19 10:54:20,227 Parameters: domain_dimensions         = [256 256 256]\n",
      "yt : [INFO     ] 2022-07-19 10:54:20,229 Parameters: domain_left_edge          = [0. 0. 0.]\n",
      "yt : [INFO     ] 2022-07-19 10:54:20,231 Parameters: domain_right_edge         = [1. 1. 1.]\n",
      "yt : [INFO     ] 2022-07-19 10:54:20,232 Parameters: cosmological_simulation   = 1\n",
      "yt : [INFO     ] 2022-07-19 10:54:20,232 Parameters: current_redshift          = 0.031069228461955\n",
      "yt : [INFO     ] 2022-07-19 10:54:20,233 Parameters: omega_lambda              = 0.715\n",
      "yt : [INFO     ] 2022-07-19 10:54:20,234 Parameters: omega_matter              = 0.285\n",
      "yt : [INFO     ] 2022-07-19 10:54:20,234 Parameters: omega_radiation           = 0\n",
      "yt : [INFO     ] 2022-07-19 10:54:20,235 Parameters: hubble_constant           = 0.695\n"
     ]
    },
    {
     "name": "stdout",
     "output_type": "stream",
     "text": [
      "get_refine_box: using this location:        col1         col2     col3     col4     col5     col6     col7   col8\n",
      "----------------- -------- -------- -------- -------- -------- -------- ----\n",
      "0.031078880102952 0.488974 0.470782 0.508341 0.490974 0.472782 0.510341    9\n"
     ]
    },
    {
     "name": "stderr",
     "output_type": "stream",
     "text": [
      "Parsing Hierarchy : 100%|████████████████| 4414/4414 [00:00<00:00, 18538.52it/s]\n",
      "yt : [INFO     ] 2022-07-19 10:54:20,659 Gathering a field list (this may take a moment.)\n",
      "yt : [WARNING  ] 2022-07-19 10:54:23,344 The stars particle filter already exists. Overriding.\n",
      "yt : [WARNING  ] 2022-07-19 10:54:23,345 The DM particle filter already exists. Overriding.\n"
     ]
    },
    {
     "name": "stdout",
     "output_type": "stream",
     "text": [
      "Pulling halo center from catalog file\n",
      "Opening snapshot /Volumes/TempestTimeSteps/DD2367/DD2367\n"
     ]
    },
    {
     "name": "stderr",
     "output_type": "stream",
     "text": [
      "yt : [INFO     ] 2022-07-19 10:54:23,545 Parameters: current_time              = 624.56652781829\n",
      "yt : [INFO     ] 2022-07-19 10:54:23,548 Parameters: domain_dimensions         = [256 256 256]\n",
      "yt : [INFO     ] 2022-07-19 10:54:23,551 Parameters: domain_left_edge          = [0. 0. 0.]\n",
      "yt : [INFO     ] 2022-07-19 10:54:23,553 Parameters: domain_right_edge         = [1. 1. 1.]\n",
      "yt : [INFO     ] 2022-07-19 10:54:23,554 Parameters: cosmological_simulation   = 1\n",
      "yt : [INFO     ] 2022-07-19 10:54:23,554 Parameters: current_redshift          = 0.023118635482115\n",
      "yt : [INFO     ] 2022-07-19 10:54:23,555 Parameters: omega_lambda              = 0.715\n",
      "yt : [INFO     ] 2022-07-19 10:54:23,555 Parameters: omega_matter              = 0.285\n",
      "yt : [INFO     ] 2022-07-19 10:54:23,556 Parameters: omega_radiation           = 0\n",
      "yt : [INFO     ] 2022-07-19 10:54:23,556 Parameters: hubble_constant           = 0.695\n"
     ]
    },
    {
     "name": "stdout",
     "output_type": "stream",
     "text": [
      "get_refine_box: using this location:        col1         col2     col3     col4     col5     col6     col7   col8\n",
      "----------------- -------- -------- -------- -------- -------- -------- ----\n",
      "0.023131670035277 0.488947 0.470663 0.508391 0.490947 0.472663 0.510391    9\n"
     ]
    },
    {
     "name": "stderr",
     "output_type": "stream",
     "text": [
      "Parsing Hierarchy : 100%|████████████████| 4336/4336 [00:00<00:00, 18919.03it/s]\n",
      "yt : [INFO     ] 2022-07-19 10:54:23,965 Gathering a field list (this may take a moment.)\n",
      "yt : [WARNING  ] 2022-07-19 10:54:26,717 The stars particle filter already exists. Overriding.\n",
      "yt : [WARNING  ] 2022-07-19 10:54:26,718 The DM particle filter already exists. Overriding.\n"
     ]
    },
    {
     "name": "stdout",
     "output_type": "stream",
     "text": [
      "Pulling halo center from catalog file\n",
      "Opening snapshot /Volumes/TempestTimeSteps/DD2387/DD2387\n"
     ]
    },
    {
     "name": "stderr",
     "output_type": "stream",
     "text": [
      "yt : [INFO     ] 2022-07-19 10:54:26,906 Parameters: current_time              = 629.56652781829\n",
      "yt : [INFO     ] 2022-07-19 10:54:26,908 Parameters: domain_dimensions         = [256 256 256]\n",
      "yt : [INFO     ] 2022-07-19 10:54:26,910 Parameters: domain_left_edge          = [0. 0. 0.]\n",
      "yt : [INFO     ] 2022-07-19 10:54:26,913 Parameters: domain_right_edge         = [1. 1. 1.]\n",
      "yt : [INFO     ] 2022-07-19 10:54:26,913 Parameters: cosmological_simulation   = 1\n",
      "yt : [INFO     ] 2022-07-19 10:54:26,914 Parameters: current_redshift          = 0.015267938588785\n",
      "yt : [INFO     ] 2022-07-19 10:54:26,915 Parameters: omega_lambda              = 0.715\n",
      "yt : [INFO     ] 2022-07-19 10:54:26,916 Parameters: omega_matter              = 0.285\n",
      "yt : [INFO     ] 2022-07-19 10:54:26,916 Parameters: omega_radiation           = 0\n",
      "yt : [INFO     ] 2022-07-19 10:54:26,917 Parameters: hubble_constant           = 0.695\n"
     ]
    },
    {
     "name": "stdout",
     "output_type": "stream",
     "text": [
      "get_refine_box: using this location:        col1         col2     col3     col4    col5     col6     col7  col8\n",
      "----------------- -------- -------- ------- -------- -------- ------- ----\n",
      "0.015272898578656 0.488921 0.470547 0.50844 0.490921 0.472547 0.51044    9\n"
     ]
    },
    {
     "name": "stderr",
     "output_type": "stream",
     "text": [
      "Parsing Hierarchy : 100%|████████████████| 4456/4456 [00:00<00:00, 18795.73it/s]\n",
      "yt : [INFO     ] 2022-07-19 10:54:27,330 Gathering a field list (this may take a moment.)\n",
      "yt : [WARNING  ] 2022-07-19 10:54:29,990 The stars particle filter already exists. Overriding.\n",
      "yt : [WARNING  ] 2022-07-19 10:54:29,991 The DM particle filter already exists. Overriding.\n"
     ]
    },
    {
     "name": "stdout",
     "output_type": "stream",
     "text": [
      "Pulling halo center from catalog file\n",
      "Opening snapshot /Volumes/TempestTimeSteps/DD2407/DD2407\n"
     ]
    },
    {
     "name": "stderr",
     "output_type": "stream",
     "text": [
      "yt : [INFO     ] 2022-07-19 10:54:30,199 Parameters: current_time              = 634.56652781829\n",
      "yt : [INFO     ] 2022-07-19 10:54:30,201 Parameters: domain_dimensions         = [256 256 256]\n",
      "yt : [INFO     ] 2022-07-19 10:54:30,204 Parameters: domain_left_edge          = [0. 0. 0.]\n",
      "yt : [INFO     ] 2022-07-19 10:54:30,207 Parameters: domain_right_edge         = [1. 1. 1.]\n",
      "yt : [INFO     ] 2022-07-19 10:54:30,208 Parameters: cosmological_simulation   = 1\n",
      "yt : [INFO     ] 2022-07-19 10:54:30,209 Parameters: current_redshift          = 0.0074866626587569\n",
      "yt : [INFO     ] 2022-07-19 10:54:30,210 Parameters: omega_lambda              = 0.715\n",
      "yt : [INFO     ] 2022-07-19 10:54:30,211 Parameters: omega_matter              = 0.285\n",
      "yt : [INFO     ] 2022-07-19 10:54:30,211 Parameters: omega_radiation           = 0\n",
      "yt : [INFO     ] 2022-07-19 10:54:30,212 Parameters: hubble_constant           = 0.695\n"
     ]
    },
    {
     "name": "stdout",
     "output_type": "stream",
     "text": [
      "get_refine_box: using this location:        col1          col2     col3     col4    col5     col6     col7  col8\n",
      "------------------ -------- -------- ------- -------- -------- ------- ----\n",
      "0.0075008503160188 0.488892 0.470431 0.50849 0.490892 0.472431 0.51049    9\n"
     ]
    },
    {
     "name": "stderr",
     "output_type": "stream",
     "text": [
      "Parsing Hierarchy : 100%|████████████████| 4394/4394 [00:00<00:00, 18772.96it/s]\n",
      "yt : [INFO     ] 2022-07-19 10:54:30,618 Gathering a field list (this may take a moment.)\n",
      "yt : [WARNING  ] 2022-07-19 10:54:33,354 The stars particle filter already exists. Overriding.\n",
      "yt : [WARNING  ] 2022-07-19 10:54:33,355 The DM particle filter already exists. Overriding.\n"
     ]
    },
    {
     "name": "stdout",
     "output_type": "stream",
     "text": [
      "Pulling halo center from catalog file\n",
      "Opening snapshot /Volumes/TempestTimeSteps/DD2427/DD2427\n"
     ]
    },
    {
     "name": "stderr",
     "output_type": "stream",
     "text": [
      "yt : [INFO     ] 2022-07-19 10:54:33,564 Parameters: current_time              = 639.44480357087\n",
      "yt : [INFO     ] 2022-07-19 10:54:33,566 Parameters: domain_dimensions         = [256 256 256]\n",
      "yt : [INFO     ] 2022-07-19 10:54:33,569 Parameters: domain_left_edge          = [0. 0. 0.]\n",
      "yt : [INFO     ] 2022-07-19 10:54:33,571 Parameters: domain_right_edge         = [1. 1. 1.]\n",
      "yt : [INFO     ] 2022-07-19 10:54:33,572 Parameters: cosmological_simulation   = 1\n",
      "yt : [INFO     ] 2022-07-19 10:54:33,572 Parameters: current_redshift          = 0\n",
      "yt : [INFO     ] 2022-07-19 10:54:33,573 Parameters: omega_lambda              = 0.715\n",
      "yt : [INFO     ] 2022-07-19 10:54:33,573 Parameters: omega_matter              = 0.285\n",
      "yt : [INFO     ] 2022-07-19 10:54:33,573 Parameters: omega_radiation           = 0\n",
      "yt : [INFO     ] 2022-07-19 10:54:33,574 Parameters: hubble_constant           = 0.695\n"
     ]
    },
    {
     "name": "stdout",
     "output_type": "stream",
     "text": [
      "get_refine_box: using this location:         col1          col2     col3     col4    col5     col6     col7  col8\n",
      "------------------- -------- -------- ------- -------- -------- ------- ----\n",
      "4.4408920985006e-16 0.488865 0.470316 0.50854 0.490865 0.472316 0.51054    9\n"
     ]
    },
    {
     "name": "stderr",
     "output_type": "stream",
     "text": [
      "Parsing Hierarchy : 100%|████████████████| 4262/4262 [00:00<00:00, 18435.21it/s]\n",
      "yt : [INFO     ] 2022-07-19 10:54:33,973 Gathering a field list (this may take a moment.)\n"
     ]
    },
    {
     "name": "stdout",
     "output_type": "stream",
     "text": [
      "Pulling halo center from catalog file\n",
      "SUCCESS!\n"
     ]
    }
   ],
   "source": [
    "\"\"\"\n",
    "Now, run through ALL the files with star data in the hard drive. This should take a while.\n",
    "\"\"\"\n",
    "\n",
    "halo = 'Tempest'\n",
    "hnum = '008508'\n",
    "\n",
    "halo_c_v_name = '/Users/bnguyen/FOGGIE/foggie/halo_infos/'+hnum+'/nref11c_nref9f/halo_c_v'\n",
    "trackname = '/Users/bnguyen/FOGGIE/foggie/halo_tracks/'+hnum+'/nref11n_selfshield_15/halo_track_200kpc_nref9'\n",
    "masses_dir = '/Users/bnguyen/FOGGIE/foggie/halo_infos/'+hnum+'/nref11c_nref9f/'\n",
    "\n",
    "def StarParts(pfilter, data):\n",
    "    return data[(\"all\", \"particle_type\")] == 2 # only grab star particles\n",
    "\n",
    "def DMParts(pfilter, data):\n",
    "    return data[(\"all\", \"particle_type\")] == 4 # only grab DM particles\n",
    "\n",
    "all_snaps = np.array([], dtype='object')\n",
    "all_time_idx = np.array([], dtype='object')\n",
    "\n",
    "for snap_name in tslist:\n",
    "    add_particle_filter(\"stars\", function=StarParts, filtered_type='all', requires=[\"particle_type\"])\n",
    "    add_particle_filter(\"DM\", function=DMParts, filtered_type='all', requires=[\"particle_type\"])\n",
    "    ds, region = fog.foggie_load(snap_name, trackname, find_halo_center=True, halo_c_v_name=halo_c_v_name, disk_relative=False, \\\n",
    "                                particle_type_for_angmom='young_stars', do_filter_particles=False, gravity=False,\\\n",
    "                                region='refine_box',masses_dir=masses_dir)\n",
    "    ds.add_particle_filter('stars')\n",
    "    ds.add_particle_filter('DM')\n",
    "    \n",
    "    snapend = snap_name[-6:]\n",
    "#    print(snapend)\n",
    "    time_idx = timestep_index(sim, snapend)\n",
    "    ads = ds.all_data()\n",
    "    all_snaps = np.append(all_snaps, ds)\n",
    "    all_time_idx = np.append(all_time_idx, time_idx)\n",
    "    \n",
    "print('SUCCESS!')"
   ]
  },
  {
   "cell_type": "code",
   "execution_count": 6,
   "id": "55ec788b",
   "metadata": {},
   "outputs": [
    {
     "name": "stdout",
     "output_type": "stream",
     "text": [
      "[<Halo 'Tempest.9f11c.all.DD/DD2427/DD2427/halo_21' | NDM=517 Nstar=0 Ngas=0>]\n"
     ]
    }
   ],
   "source": [
    "all_sats = sim[-1][1].calculate('Satellites()')\n",
    "\n",
    "sats = np.array([], dtype='object')\n",
    "#starry_idx = np.array([21, 51, 109], dtype='object')\n",
    "starry_idx = np.array([21], dtype='object')\n",
    "\n",
    "for i in range(np.size(all_sats)):\n",
    "    if all_sats[i].halo_number in starry_idx:\n",
    "        sats = np.append(sats, all_sats[i]) # this ensures we're only checking for the verified starry halos\n",
    "        \n",
    "print(sats)"
   ]
  },
  {
   "cell_type": "code",
   "execution_count": 16,
   "id": "f0ab36b2",
   "metadata": {},
   "outputs": [
    {
     "name": "stdout",
     "output_type": "stream",
     "text": [
      "Success!\n"
     ]
    }
   ],
   "source": [
    "\"\"\"\n",
    "First, we find all the properties of the progenitors \n",
    "for the star-forming surviving satellites.\n",
    "\"\"\"\n",
    "\n",
    "all_sat_cen = []\n",
    "all_sat_rvir = []\n",
    "all_sat_t = []\n",
    "\n",
    "for sat_idx in starry_idx:\n",
    "    if isinstance(sim[-1][sat_idx], type(None)) is False:\n",
    "        mvir, cen, rvir, t = sim[-1][sat_idx].calculate_for_progenitors('Mvir', 'Center', 'Rvir', 't()')\n",
    "\n",
    "        all_sat_cen.append(cen) # this compiles an array of all the progenitors' centers\n",
    "        all_sat_rvir.append(rvir) # this compiles an array of all the progenitors' virial radii\n",
    "        all_sat_t.append(t)\n",
    "\n",
    "all_sat_cen = np.array(all_sat_cen[0], dtype='object')\n",
    "all_sat_rvir = np.array(all_sat_rvir[0], dtype='object')\n",
    "all_sat_t = np.array(all_sat_t[0], dtype='object')\n",
    "\n",
    "print('Success!')"
   ]
  },
  {
   "cell_type": "code",
   "execution_count": 19,
   "id": "401971fe",
   "metadata": {},
   "outputs": [
    {
     "name": "stdout",
     "output_type": "stream",
     "text": [
      "[13.759313829436067 13.75655364383975 13.751174245276887 ...\n",
      " 1.4323515363217096 1.4269721377588471 1.4215927391959846]\n",
      "[[70.53161151079136 67.76489208633095 73.2808345323741]\n",
      " [70.5175125901439 67.75192248899282 73.26618512755395]\n",
      " [70.4897773656403 67.72679422158275 73.23738807435971]\n",
      " ...\n",
      " [13.306171357194247 13.470143767266189 13.366887223812952]\n",
      " [13.27261177942446 13.436781680719426 13.332793351942447]\n",
      " [13.2390495323741 13.403416532302158 13.298701434748201]]\n"
     ]
    }
   ],
   "source": [
    "print(all_sat_t)\n",
    "print(all_sat_cen)"
   ]
  },
  {
   "cell_type": "code",
   "execution_count": 20,
   "id": "b4ac9b8d",
   "metadata": {
    "scrolled": false
   },
   "outputs": [
    {
     "name": "stdout",
     "output_type": "stream",
     "text": [
      "There are 130 timesteps available in the star hard drive.\n"
     ]
    }
   ],
   "source": [
    "\"\"\"\n",
    "Now, we have to ensure that all the progenitors line up with the available \n",
    "timesteps in the star hard drive. To do that, we first have to convert \n",
    "all the time indices from the star hard drive to actual time in Gyr.\n",
    "\"\"\"\n",
    "\n",
    "available_timesteps = np.zeros(np.size(all_time_idx))\n",
    "i = 0\n",
    "while i < np.size(all_time_idx):\n",
    "    available_timesteps[i] = sim[all_time_idx[i]].time_gyr\n",
    "    i += 1\n",
    "    \n",
    "print('There are', np.size(available_timesteps), 'timesteps available in the star hard drive.')"
   ]
  },
  {
   "cell_type": "code",
   "execution_count": 27,
   "id": "9f5cb951",
   "metadata": {},
   "outputs": [
    {
     "name": "stdout",
     "output_type": "stream",
     "text": [
      "success!\n"
     ]
    }
   ],
   "source": [
    "all_centers = []\n",
    "all_rvirs = []\n",
    "all_available_snaps = []\n",
    "\n",
    "#for halo in range(np.size(starry_idx)):\n",
    "each_halo_available_centers = []\n",
    "each_halo_available_rvirs = []\n",
    "each_halo_available_snaps = []\n",
    "    \n",
    "# Now, we compare the times in the snapshots to the available timesteps \n",
    "# in order to see how many snapshots are available in the star hard drive.\n",
    "for time in available_timesteps:\n",
    "    center = all_sat_cen[all_sat_t == time]\n",
    "    rvir = all_sat_rvir[all_sat_t == time]\n",
    "        \n",
    "    if np.size(center) != 0 and np.size(rvir) != 0:\n",
    "        center = YTArray(center[0] * 1000, 'kpc')\n",
    "        rvir = YTQuantity(rvir[0], 'kpc')\n",
    "            \n",
    "        each_halo_available_centers.append(center)\n",
    "        each_halo_available_rvirs.append(rvir)\n",
    "        each_halo_available_snaps.append(all_snaps[available_timesteps == time][0])\n",
    "            \n",
    "each_halo_available_centers = np.array(each_halo_available_centers, dtype='object')\n",
    "each_halo_available_rvirs = np.array(each_halo_available_rvirs, dtype='object')\n",
    "each_halo_available_snaps = np.array(each_halo_available_snaps, dtype='object')\n",
    "        \n",
    "all_centers.append(each_halo_available_centers)\n",
    "all_rvirs.append(each_halo_available_rvirs)\n",
    "all_available_snaps.append(each_halo_available_snaps)\n",
    "    \n",
    "all_centers = np.array(all_centers[0], dtype='object')\n",
    "all_rvirs = np.array(all_rvirs[0], dtype='object')\n",
    "all_available_snaps = np.array(all_available_snaps[0], dtype='object')\n",
    "\n",
    "print('success!')"
   ]
  },
  {
   "cell_type": "code",
   "execution_count": 30,
   "id": "3e36567d",
   "metadata": {},
   "outputs": [
    {
     "name": "stdout",
     "output_type": "stream",
     "text": [
      "1.2875054431654676 kpc\n"
     ]
    }
   ],
   "source": [
    "print(all_rvirs[0])"
   ]
  },
  {
   "cell_type": "code",
   "execution_count": 31,
   "id": "251cdf66",
   "metadata": {},
   "outputs": [
    {
     "name": "stdout",
     "output_type": "stream",
     "text": [
      " For halo 21 there are 1 snaps in the hard drive.\n"
     ]
    }
   ],
   "source": [
    "print(' For halo', starry_idx[0], 'there are', np.size(all_available_snaps[0]), 'snaps in the hard drive.')\n",
    "      \n",
    "      #\\n', \\\n",
    "      #'For halo', starry_idx[1], 'there are', np.size(all_available_snaps[1]), 'snaps in the hard drive.\\n', \\\n",
    "      #'For halo', starry_idx[2], 'there are', np.size(all_available_snaps[2]), ' snaps in the hard drive.')"
   ]
  },
  {
   "cell_type": "code",
   "execution_count": 33,
   "id": "e04fd852",
   "metadata": {
    "scrolled": true
   },
   "outputs": [
    {
     "name": "stdout",
     "output_type": "stream",
     "text": [
      "Success!\n"
     ]
    }
   ],
   "source": [
    "\"\"\"\n",
    "Now, we go through each of the satellites and get their respective mass profiles.\n",
    "\"\"\"\n",
    "\n",
    "bin_size = YTQuantity(0.25, 'kpc') # 250 pc is the resolution of the simulation\n",
    "\n",
    "loc_allstars = []\n",
    "mass_allstars = []\n",
    "all_radius_arrays = []\n",
    "\n",
    "starry_rvir = []\n",
    "starry_cen = []\n",
    "starry_spheres = []\n",
    "\n",
    "each_halo_star_loc = []\n",
    "each_halo_star_mass = []\n",
    "each_halo_radius_arrays = []\n",
    "    \n",
    "each_halo_rvir = []\n",
    "each_halo_cen = []\n",
    "each_halo_spheres = []\n",
    "    \n",
    "# this goes through the halo at each timestep to find its Rvir and center position\n",
    "for idx in range(np.size(all_rvirs)):\n",
    "    each_cen = YTArray(all_centers[idx], 'kpc')\n",
    "    each_rvir = YTQuantity(all_rvirs[idx], 'kpc')\n",
    "    ds = all_available_snaps[idx]\n",
    "            \n",
    "    # this uses yt to create spheres which contain the stars of each respective halo\n",
    "    halo_sphere = ds.sphere(center=each_cen,radius=each_rvir)\n",
    "    stars_loc = halo_sphere['stars','particle_position'].in_units('kpc')\n",
    "    corrected_stars_loc = stars_loc - each_cen # this places the halo center as the origin of its stars' coords\n",
    "    stars_mass = halo_sphere['stars','particle_mass'].in_units('Msun')\n",
    "        \n",
    "    if np.size(corrected_stars_loc) != 0:\n",
    "        radius_array = np.arange(YTQuantity(0.01, 'kpc'), each_rvir, bin_size)\n",
    "#            print(corrected_stars_loc)\n",
    "\n",
    "        # next, we add all the relevant star location and mass of the halo\n",
    "        # to some numpy arrays. this is meant to break down the for loop\n",
    "        # and help the code run faster.\n",
    "        each_halo_star_loc.append(corrected_stars_loc)\n",
    "        each_halo_star_mass.append(stars_mass)\n",
    "        each_halo_radius_arrays.append(radius_array)\n",
    "            \n",
    "        # finally, add the rvir and mvir into lists for later analyses\n",
    "        each_halo_rvir.append(each_rvir)\n",
    "        each_halo_cen.append(each_cen)\n",
    "        each_halo_spheres.append(halo_sphere)\n",
    "\n",
    "loc_allstars.append(each_halo_star_loc)\n",
    "mass_allstars.append(each_halo_star_mass)\n",
    "all_radius_arrays.append(each_halo_spheres)\n",
    "    \n",
    "starry_rvir.append(each_halo_rvir)\n",
    "starry_cen.append(each_halo_cen)\n",
    "starry_spheres.append(each_halo_spheres)\n",
    "            \n",
    "# with everything done, we remove the irrelevant rvir and mvir (irrelevant as in \n",
    "# not containing stars) for convenience in the upcoming analyses.\n",
    "\n",
    "loc_allstars = np.array(loc_allstars, dtype='object')\n",
    "mass_allstars = np.array(mass_allstars, dtype='object')\n",
    "all_radius_arrays = np.array(all_radius_arrays, dtype='object')\n",
    "\n",
    "starry_rvir = np.array(starry_rvir, dtype='object')\n",
    "starry_cen = YTArray(starry_cen, 'kpc')\n",
    "starry_spheres = np.array(starry_spheres, dtype='object')\n",
    "\n",
    "print('Success!')"
   ]
  },
  {
   "cell_type": "code",
   "execution_count": 34,
   "id": "d52de371",
   "metadata": {
    "scrolled": false
   },
   "outputs": [
    {
     "ename": "AttributeError",
     "evalue": "'float' object has no attribute 'shape'",
     "output_type": "error",
     "traceback": [
      "\u001b[0;31m---------------------------------------------------------------------------\u001b[0m",
      "\u001b[0;31mAttributeError\u001b[0m                            Traceback (most recent call last)",
      "Input \u001b[0;32mIn [34]\u001b[0m, in \u001b[0;36m<cell line: 1>\u001b[0;34m()\u001b[0m\n\u001b[0;32m----> 1\u001b[0m \u001b[38;5;28;43mprint\u001b[39;49m\u001b[43m(\u001b[49m\u001b[43mloc_allstars\u001b[49m\u001b[43m)\u001b[49m\n",
      "File \u001b[0;32m~/miniconda3/lib/python3.9/site-packages/numpy/core/arrayprint.py:1592\u001b[0m, in \u001b[0;36m_array_str_implementation\u001b[0;34m(a, max_line_width, precision, suppress_small, array2string)\u001b[0m\n\u001b[1;32m   1586\u001b[0m \u001b[38;5;28;01mif\u001b[39;00m a\u001b[38;5;241m.\u001b[39mshape \u001b[38;5;241m==\u001b[39m ():\n\u001b[1;32m   1587\u001b[0m     \u001b[38;5;66;03m# obtain a scalar and call str on it, avoiding problems for subclasses\u001b[39;00m\n\u001b[1;32m   1588\u001b[0m     \u001b[38;5;66;03m# for which indexing with () returns a 0d instead of a scalar by using\u001b[39;00m\n\u001b[1;32m   1589\u001b[0m     \u001b[38;5;66;03m# ndarray's getindex. Also guard against recursive 0d object arrays.\u001b[39;00m\n\u001b[1;32m   1590\u001b[0m     \u001b[38;5;28;01mreturn\u001b[39;00m _guarded_repr_or_str(np\u001b[38;5;241m.\u001b[39mndarray\u001b[38;5;241m.\u001b[39m\u001b[38;5;21m__getitem__\u001b[39m(a, ()))\n\u001b[0;32m-> 1592\u001b[0m \u001b[38;5;28;01mreturn\u001b[39;00m \u001b[43marray2string\u001b[49m\u001b[43m(\u001b[49m\u001b[43ma\u001b[49m\u001b[43m,\u001b[49m\u001b[43m \u001b[49m\u001b[43mmax_line_width\u001b[49m\u001b[43m,\u001b[49m\u001b[43m \u001b[49m\u001b[43mprecision\u001b[49m\u001b[43m,\u001b[49m\u001b[43m \u001b[49m\u001b[43msuppress_small\u001b[49m\u001b[43m,\u001b[49m\u001b[43m \u001b[49m\u001b[38;5;124;43m'\u001b[39;49m\u001b[38;5;124;43m \u001b[39;49m\u001b[38;5;124;43m'\u001b[39;49m\u001b[43m,\u001b[49m\u001b[43m \u001b[49m\u001b[38;5;124;43m\"\u001b[39;49m\u001b[38;5;124;43m\"\u001b[39;49m\u001b[43m)\u001b[49m\n",
      "File \u001b[0;32m~/miniconda3/lib/python3.9/site-packages/numpy/core/arrayprint.py:736\u001b[0m, in \u001b[0;36marray2string\u001b[0;34m(a, max_line_width, precision, suppress_small, separator, prefix, style, formatter, threshold, edgeitems, sign, floatmode, suffix, legacy)\u001b[0m\n\u001b[1;32m    733\u001b[0m \u001b[38;5;28;01mif\u001b[39;00m a\u001b[38;5;241m.\u001b[39msize \u001b[38;5;241m==\u001b[39m \u001b[38;5;241m0\u001b[39m:\n\u001b[1;32m    734\u001b[0m     \u001b[38;5;28;01mreturn\u001b[39;00m \u001b[38;5;124m\"\u001b[39m\u001b[38;5;124m[]\u001b[39m\u001b[38;5;124m\"\u001b[39m\n\u001b[0;32m--> 736\u001b[0m \u001b[38;5;28;01mreturn\u001b[39;00m \u001b[43m_array2string\u001b[49m\u001b[43m(\u001b[49m\u001b[43ma\u001b[49m\u001b[43m,\u001b[49m\u001b[43m \u001b[49m\u001b[43moptions\u001b[49m\u001b[43m,\u001b[49m\u001b[43m \u001b[49m\u001b[43mseparator\u001b[49m\u001b[43m,\u001b[49m\u001b[43m \u001b[49m\u001b[43mprefix\u001b[49m\u001b[43m)\u001b[49m\n",
      "File \u001b[0;32m~/miniconda3/lib/python3.9/site-packages/numpy/core/arrayprint.py:513\u001b[0m, in \u001b[0;36m_recursive_guard.<locals>.decorating_function.<locals>.wrapper\u001b[0;34m(self, *args, **kwargs)\u001b[0m\n\u001b[1;32m    511\u001b[0m repr_running\u001b[38;5;241m.\u001b[39madd(key)\n\u001b[1;32m    512\u001b[0m \u001b[38;5;28;01mtry\u001b[39;00m:\n\u001b[0;32m--> 513\u001b[0m     \u001b[38;5;28;01mreturn\u001b[39;00m \u001b[43mf\u001b[49m\u001b[43m(\u001b[49m\u001b[38;5;28;43mself\u001b[39;49m\u001b[43m,\u001b[49m\u001b[43m \u001b[49m\u001b[38;5;241;43m*\u001b[39;49m\u001b[43margs\u001b[49m\u001b[43m,\u001b[49m\u001b[43m \u001b[49m\u001b[38;5;241;43m*\u001b[39;49m\u001b[38;5;241;43m*\u001b[39;49m\u001b[43mkwargs\u001b[49m\u001b[43m)\u001b[49m\n\u001b[1;32m    514\u001b[0m \u001b[38;5;28;01mfinally\u001b[39;00m:\n\u001b[1;32m    515\u001b[0m     repr_running\u001b[38;5;241m.\u001b[39mdiscard(key)\n",
      "File \u001b[0;32m~/miniconda3/lib/python3.9/site-packages/numpy/core/arrayprint.py:546\u001b[0m, in \u001b[0;36m_array2string\u001b[0;34m(a, options, separator, prefix)\u001b[0m\n\u001b[1;32m    543\u001b[0m \u001b[38;5;66;03m# skip over array(\u001b[39;00m\n\u001b[1;32m    544\u001b[0m next_line_prefix \u001b[38;5;241m+\u001b[39m\u001b[38;5;241m=\u001b[39m \u001b[38;5;124m\"\u001b[39m\u001b[38;5;124m \u001b[39m\u001b[38;5;124m\"\u001b[39m\u001b[38;5;241m*\u001b[39m\u001b[38;5;28mlen\u001b[39m(prefix)\n\u001b[0;32m--> 546\u001b[0m lst \u001b[38;5;241m=\u001b[39m \u001b[43m_formatArray\u001b[49m\u001b[43m(\u001b[49m\u001b[43ma\u001b[49m\u001b[43m,\u001b[49m\u001b[43m \u001b[49m\u001b[43mformat_function\u001b[49m\u001b[43m,\u001b[49m\u001b[43m \u001b[49m\u001b[43moptions\u001b[49m\u001b[43m[\u001b[49m\u001b[38;5;124;43m'\u001b[39;49m\u001b[38;5;124;43mlinewidth\u001b[39;49m\u001b[38;5;124;43m'\u001b[39;49m\u001b[43m]\u001b[49m\u001b[43m,\u001b[49m\n\u001b[1;32m    547\u001b[0m \u001b[43m                   \u001b[49m\u001b[43mnext_line_prefix\u001b[49m\u001b[43m,\u001b[49m\u001b[43m \u001b[49m\u001b[43mseparator\u001b[49m\u001b[43m,\u001b[49m\u001b[43m \u001b[49m\u001b[43moptions\u001b[49m\u001b[43m[\u001b[49m\u001b[38;5;124;43m'\u001b[39;49m\u001b[38;5;124;43medgeitems\u001b[39;49m\u001b[38;5;124;43m'\u001b[39;49m\u001b[43m]\u001b[49m\u001b[43m,\u001b[49m\n\u001b[1;32m    548\u001b[0m \u001b[43m                   \u001b[49m\u001b[43msummary_insert\u001b[49m\u001b[43m,\u001b[49m\u001b[43m \u001b[49m\u001b[43moptions\u001b[49m\u001b[43m[\u001b[49m\u001b[38;5;124;43m'\u001b[39;49m\u001b[38;5;124;43mlegacy\u001b[39;49m\u001b[38;5;124;43m'\u001b[39;49m\u001b[43m]\u001b[49m\u001b[43m)\u001b[49m\n\u001b[1;32m    549\u001b[0m \u001b[38;5;28;01mreturn\u001b[39;00m lst\n",
      "File \u001b[0;32m~/miniconda3/lib/python3.9/site-packages/numpy/core/arrayprint.py:889\u001b[0m, in \u001b[0;36m_formatArray\u001b[0;34m(a, format_function, line_width, next_line_prefix, separator, edge_items, summary_insert, legacy)\u001b[0m\n\u001b[1;32m    885\u001b[0m     \u001b[38;5;28;01mreturn\u001b[39;00m s\n\u001b[1;32m    887\u001b[0m \u001b[38;5;28;01mtry\u001b[39;00m:\n\u001b[1;32m    888\u001b[0m     \u001b[38;5;66;03m# invoke the recursive part with an initial index and prefix\u001b[39;00m\n\u001b[0;32m--> 889\u001b[0m     \u001b[38;5;28;01mreturn\u001b[39;00m \u001b[43mrecurser\u001b[49m\u001b[43m(\u001b[49m\u001b[43mindex\u001b[49m\u001b[38;5;241;43m=\u001b[39;49m\u001b[43m(\u001b[49m\u001b[43m)\u001b[49m\u001b[43m,\u001b[49m\n\u001b[1;32m    890\u001b[0m \u001b[43m                    \u001b[49m\u001b[43mhanging_indent\u001b[49m\u001b[38;5;241;43m=\u001b[39;49m\u001b[43mnext_line_prefix\u001b[49m\u001b[43m,\u001b[49m\n\u001b[1;32m    891\u001b[0m \u001b[43m                    \u001b[49m\u001b[43mcurr_width\u001b[49m\u001b[38;5;241;43m=\u001b[39;49m\u001b[43mline_width\u001b[49m\u001b[43m)\u001b[49m\n\u001b[1;32m    892\u001b[0m \u001b[38;5;28;01mfinally\u001b[39;00m:\n\u001b[1;32m    893\u001b[0m     \u001b[38;5;66;03m# recursive closures have a cyclic reference to themselves, which\u001b[39;00m\n\u001b[1;32m    894\u001b[0m     \u001b[38;5;66;03m# requires gc to collect (gh-10620). To avoid this problem, for\u001b[39;00m\n\u001b[1;32m    895\u001b[0m     \u001b[38;5;66;03m# performance and PyPy friendliness, we break the cycle:\u001b[39;00m\n\u001b[1;32m    896\u001b[0m     recurser \u001b[38;5;241m=\u001b[39m \u001b[38;5;28;01mNone\u001b[39;00m\n",
      "File \u001b[0;32m~/miniconda3/lib/python3.9/site-packages/numpy/core/arrayprint.py:880\u001b[0m, in \u001b[0;36m_formatArray.<locals>.recurser\u001b[0;34m(index, hanging_indent, curr_width)\u001b[0m\n\u001b[1;32m    876\u001b[0m         nested \u001b[38;5;241m=\u001b[39m recurser(index \u001b[38;5;241m+\u001b[39m (\u001b[38;5;241m-\u001b[39mi,), next_hanging_indent,\n\u001b[1;32m    877\u001b[0m                           next_width)\n\u001b[1;32m    878\u001b[0m         s \u001b[38;5;241m+\u001b[39m\u001b[38;5;241m=\u001b[39m hanging_indent \u001b[38;5;241m+\u001b[39m nested \u001b[38;5;241m+\u001b[39m line_sep\n\u001b[0;32m--> 880\u001b[0m     nested \u001b[38;5;241m=\u001b[39m \u001b[43mrecurser\u001b[49m\u001b[43m(\u001b[49m\u001b[43mindex\u001b[49m\u001b[43m \u001b[49m\u001b[38;5;241;43m+\u001b[39;49m\u001b[43m \u001b[49m\u001b[43m(\u001b[49m\u001b[38;5;241;43m-\u001b[39;49m\u001b[38;5;241;43m1\u001b[39;49m\u001b[43m,\u001b[49m\u001b[43m)\u001b[49m\u001b[43m,\u001b[49m\u001b[43m \u001b[49m\u001b[43mnext_hanging_indent\u001b[49m\u001b[43m,\u001b[49m\u001b[43m \u001b[49m\u001b[43mnext_width\u001b[49m\u001b[43m)\u001b[49m\n\u001b[1;32m    881\u001b[0m     s \u001b[38;5;241m+\u001b[39m\u001b[38;5;241m=\u001b[39m hanging_indent \u001b[38;5;241m+\u001b[39m nested\n\u001b[1;32m    883\u001b[0m \u001b[38;5;66;03m# remove the hanging indent, and wrap in []\u001b[39;00m\n",
      "File \u001b[0;32m~/miniconda3/lib/python3.9/site-packages/numpy/core/arrayprint.py:845\u001b[0m, in \u001b[0;36m_formatArray.<locals>.recurser\u001b[0;34m(index, hanging_indent, curr_width)\u001b[0m\n\u001b[1;32m    842\u001b[0m         line \u001b[38;5;241m+\u001b[39m\u001b[38;5;241m=\u001b[39m separator\n\u001b[1;32m    844\u001b[0m \u001b[38;5;28;01mfor\u001b[39;00m i \u001b[38;5;129;01min\u001b[39;00m \u001b[38;5;28mrange\u001b[39m(trailing_items, \u001b[38;5;241m1\u001b[39m, \u001b[38;5;241m-\u001b[39m\u001b[38;5;241m1\u001b[39m):\n\u001b[0;32m--> 845\u001b[0m     word \u001b[38;5;241m=\u001b[39m \u001b[43mrecurser\u001b[49m\u001b[43m(\u001b[49m\u001b[43mindex\u001b[49m\u001b[43m \u001b[49m\u001b[38;5;241;43m+\u001b[39;49m\u001b[43m \u001b[49m\u001b[43m(\u001b[49m\u001b[38;5;241;43m-\u001b[39;49m\u001b[43mi\u001b[49m\u001b[43m,\u001b[49m\u001b[43m)\u001b[49m\u001b[43m,\u001b[49m\u001b[43m \u001b[49m\u001b[43mnext_hanging_indent\u001b[49m\u001b[43m,\u001b[49m\u001b[43m \u001b[49m\u001b[43mnext_width\u001b[49m\u001b[43m)\u001b[49m\n\u001b[1;32m    846\u001b[0m     s, line \u001b[38;5;241m=\u001b[39m _extendLine_pretty(\n\u001b[1;32m    847\u001b[0m         s, line, word, elem_width, hanging_indent, legacy)\n\u001b[1;32m    848\u001b[0m     line \u001b[38;5;241m+\u001b[39m\u001b[38;5;241m=\u001b[39m separator\n",
      "File \u001b[0;32m~/miniconda3/lib/python3.9/site-packages/numpy/core/arrayprint.py:799\u001b[0m, in \u001b[0;36m_formatArray.<locals>.recurser\u001b[0;34m(index, hanging_indent, curr_width)\u001b[0m\n\u001b[1;32m    796\u001b[0m axes_left \u001b[38;5;241m=\u001b[39m a\u001b[38;5;241m.\u001b[39mndim \u001b[38;5;241m-\u001b[39m axis\n\u001b[1;32m    798\u001b[0m \u001b[38;5;28;01mif\u001b[39;00m axes_left \u001b[38;5;241m==\u001b[39m \u001b[38;5;241m0\u001b[39m:\n\u001b[0;32m--> 799\u001b[0m     \u001b[38;5;28;01mreturn\u001b[39;00m \u001b[43mformat_function\u001b[49m\u001b[43m(\u001b[49m\u001b[43ma\u001b[49m\u001b[43m[\u001b[49m\u001b[43mindex\u001b[49m\u001b[43m]\u001b[49m\u001b[43m)\u001b[49m\n\u001b[1;32m    801\u001b[0m \u001b[38;5;66;03m# when recursing, add a space to align with the [ added, and reduce the\u001b[39;00m\n\u001b[1;32m    802\u001b[0m \u001b[38;5;66;03m# length of the line by 1\u001b[39;00m\n\u001b[1;32m    803\u001b[0m next_hanging_indent \u001b[38;5;241m=\u001b[39m hanging_indent \u001b[38;5;241m+\u001b[39m \u001b[38;5;124m'\u001b[39m\u001b[38;5;124m \u001b[39m\u001b[38;5;124m'\u001b[39m\n",
      "File \u001b[0;32m~/miniconda3/lib/python3.9/site-packages/numpy/core/arrayprint.py:395\u001b[0m, in \u001b[0;36m_object_format\u001b[0;34m(o)\u001b[0m\n\u001b[1;32m    393\u001b[0m \u001b[38;5;28;01melse\u001b[39;00m:\n\u001b[1;32m    394\u001b[0m     fmt \u001b[38;5;241m=\u001b[39m \u001b[38;5;124m'\u001b[39m\u001b[38;5;132;01m{!r}\u001b[39;00m\u001b[38;5;124m'\u001b[39m\n\u001b[0;32m--> 395\u001b[0m \u001b[38;5;28;01mreturn\u001b[39;00m \u001b[43mfmt\u001b[49m\u001b[38;5;241;43m.\u001b[39;49m\u001b[43mformat\u001b[49m\u001b[43m(\u001b[49m\u001b[43mo\u001b[49m\u001b[43m)\u001b[49m\n",
      "File \u001b[0;32m~/.local/lib/python3.9/site-packages/unyt/array.py:581\u001b[0m, in \u001b[0;36munyt_array.__repr__\u001b[0;34m(self)\u001b[0m\n\u001b[1;32m    580\u001b[0m \u001b[38;5;28;01mdef\u001b[39;00m \u001b[38;5;21m__repr__\u001b[39m(\u001b[38;5;28mself\u001b[39m):\n\u001b[0;32m--> 581\u001b[0m     rep \u001b[38;5;241m=\u001b[39m \u001b[38;5;28;43msuper\u001b[39;49m\u001b[43m(\u001b[49m\u001b[43munyt_array\u001b[49m\u001b[43m,\u001b[49m\u001b[43m \u001b[49m\u001b[38;5;28;43mself\u001b[39;49m\u001b[43m)\u001b[49m\u001b[38;5;241;43m.\u001b[39;49m\u001b[38;5;21;43m__repr__\u001b[39;49m\u001b[43m(\u001b[49m\u001b[43m)\u001b[49m\n\u001b[1;32m    582\u001b[0m     units_repr \u001b[38;5;241m=\u001b[39m \u001b[38;5;28mself\u001b[39m\u001b[38;5;241m.\u001b[39munits\u001b[38;5;241m.\u001b[39m\u001b[38;5;21m__repr__\u001b[39m()\n\u001b[1;32m    583\u001b[0m     \u001b[38;5;28;01mif\u001b[39;00m \u001b[38;5;124m\"\u001b[39m\u001b[38;5;124m=\u001b[39m\u001b[38;5;124m\"\u001b[39m \u001b[38;5;129;01min\u001b[39;00m rep:\n",
      "File \u001b[0;32m~/miniconda3/lib/python3.9/site-packages/numpy/core/arrayprint.py:1488\u001b[0m, in \u001b[0;36m_array_repr_implementation\u001b[0;34m(arr, max_line_width, precision, suppress_small, array2string)\u001b[0m\n\u001b[1;32m   1486\u001b[0m     lst \u001b[38;5;241m=\u001b[39m \u001b[38;5;28mrepr\u001b[39m(arr\u001b[38;5;241m.\u001b[39mitem())\n\u001b[1;32m   1487\u001b[0m \u001b[38;5;28;01melif\u001b[39;00m arr\u001b[38;5;241m.\u001b[39msize \u001b[38;5;241m>\u001b[39m \u001b[38;5;241m0\u001b[39m \u001b[38;5;129;01mor\u001b[39;00m arr\u001b[38;5;241m.\u001b[39mshape \u001b[38;5;241m==\u001b[39m (\u001b[38;5;241m0\u001b[39m,):\n\u001b[0;32m-> 1488\u001b[0m     lst \u001b[38;5;241m=\u001b[39m \u001b[43marray2string\u001b[49m\u001b[43m(\u001b[49m\u001b[43marr\u001b[49m\u001b[43m,\u001b[49m\u001b[43m \u001b[49m\u001b[43mmax_line_width\u001b[49m\u001b[43m,\u001b[49m\u001b[43m \u001b[49m\u001b[43mprecision\u001b[49m\u001b[43m,\u001b[49m\u001b[43m \u001b[49m\u001b[43msuppress_small\u001b[49m\u001b[43m,\u001b[49m\n\u001b[1;32m   1489\u001b[0m \u001b[43m                       \u001b[49m\u001b[38;5;124;43m'\u001b[39;49m\u001b[38;5;124;43m, \u001b[39;49m\u001b[38;5;124;43m'\u001b[39;49m\u001b[43m,\u001b[49m\u001b[43m \u001b[49m\u001b[43mprefix\u001b[49m\u001b[43m,\u001b[49m\u001b[43m \u001b[49m\u001b[43msuffix\u001b[49m\u001b[38;5;241;43m=\u001b[39;49m\u001b[43msuffix\u001b[49m\u001b[43m)\u001b[49m\n\u001b[1;32m   1490\u001b[0m \u001b[38;5;28;01melse\u001b[39;00m:  \u001b[38;5;66;03m# show zero-length shape unless it is (0,)\u001b[39;00m\n\u001b[1;32m   1491\u001b[0m     lst \u001b[38;5;241m=\u001b[39m \u001b[38;5;124m\"\u001b[39m\u001b[38;5;124m[], shape=\u001b[39m\u001b[38;5;132;01m%s\u001b[39;00m\u001b[38;5;124m\"\u001b[39m \u001b[38;5;241m%\u001b[39m (\u001b[38;5;28mrepr\u001b[39m(arr\u001b[38;5;241m.\u001b[39mshape),)\n",
      "File \u001b[0;32m~/miniconda3/lib/python3.9/site-packages/numpy/core/arrayprint.py:736\u001b[0m, in \u001b[0;36marray2string\u001b[0;34m(a, max_line_width, precision, suppress_small, separator, prefix, style, formatter, threshold, edgeitems, sign, floatmode, suffix, legacy)\u001b[0m\n\u001b[1;32m    733\u001b[0m \u001b[38;5;28;01mif\u001b[39;00m a\u001b[38;5;241m.\u001b[39msize \u001b[38;5;241m==\u001b[39m \u001b[38;5;241m0\u001b[39m:\n\u001b[1;32m    734\u001b[0m     \u001b[38;5;28;01mreturn\u001b[39;00m \u001b[38;5;124m\"\u001b[39m\u001b[38;5;124m[]\u001b[39m\u001b[38;5;124m\"\u001b[39m\n\u001b[0;32m--> 736\u001b[0m \u001b[38;5;28;01mreturn\u001b[39;00m \u001b[43m_array2string\u001b[49m\u001b[43m(\u001b[49m\u001b[43ma\u001b[49m\u001b[43m,\u001b[49m\u001b[43m \u001b[49m\u001b[43moptions\u001b[49m\u001b[43m,\u001b[49m\u001b[43m \u001b[49m\u001b[43mseparator\u001b[49m\u001b[43m,\u001b[49m\u001b[43m \u001b[49m\u001b[43mprefix\u001b[49m\u001b[43m)\u001b[49m\n",
      "File \u001b[0;32m~/miniconda3/lib/python3.9/site-packages/numpy/core/arrayprint.py:513\u001b[0m, in \u001b[0;36m_recursive_guard.<locals>.decorating_function.<locals>.wrapper\u001b[0;34m(self, *args, **kwargs)\u001b[0m\n\u001b[1;32m    511\u001b[0m repr_running\u001b[38;5;241m.\u001b[39madd(key)\n\u001b[1;32m    512\u001b[0m \u001b[38;5;28;01mtry\u001b[39;00m:\n\u001b[0;32m--> 513\u001b[0m     \u001b[38;5;28;01mreturn\u001b[39;00m \u001b[43mf\u001b[49m\u001b[43m(\u001b[49m\u001b[38;5;28;43mself\u001b[39;49m\u001b[43m,\u001b[49m\u001b[43m \u001b[49m\u001b[38;5;241;43m*\u001b[39;49m\u001b[43margs\u001b[49m\u001b[43m,\u001b[49m\u001b[43m \u001b[49m\u001b[38;5;241;43m*\u001b[39;49m\u001b[38;5;241;43m*\u001b[39;49m\u001b[43mkwargs\u001b[49m\u001b[43m)\u001b[49m\n\u001b[1;32m    514\u001b[0m \u001b[38;5;28;01mfinally\u001b[39;00m:\n\u001b[1;32m    515\u001b[0m     repr_running\u001b[38;5;241m.\u001b[39mdiscard(key)\n",
      "File \u001b[0;32m~/miniconda3/lib/python3.9/site-packages/numpy/core/arrayprint.py:546\u001b[0m, in \u001b[0;36m_array2string\u001b[0;34m(a, options, separator, prefix)\u001b[0m\n\u001b[1;32m    543\u001b[0m \u001b[38;5;66;03m# skip over array(\u001b[39;00m\n\u001b[1;32m    544\u001b[0m next_line_prefix \u001b[38;5;241m+\u001b[39m\u001b[38;5;241m=\u001b[39m \u001b[38;5;124m\"\u001b[39m\u001b[38;5;124m \u001b[39m\u001b[38;5;124m\"\u001b[39m\u001b[38;5;241m*\u001b[39m\u001b[38;5;28mlen\u001b[39m(prefix)\n\u001b[0;32m--> 546\u001b[0m lst \u001b[38;5;241m=\u001b[39m \u001b[43m_formatArray\u001b[49m\u001b[43m(\u001b[49m\u001b[43ma\u001b[49m\u001b[43m,\u001b[49m\u001b[43m \u001b[49m\u001b[43mformat_function\u001b[49m\u001b[43m,\u001b[49m\u001b[43m \u001b[49m\u001b[43moptions\u001b[49m\u001b[43m[\u001b[49m\u001b[38;5;124;43m'\u001b[39;49m\u001b[38;5;124;43mlinewidth\u001b[39;49m\u001b[38;5;124;43m'\u001b[39;49m\u001b[43m]\u001b[49m\u001b[43m,\u001b[49m\n\u001b[1;32m    547\u001b[0m \u001b[43m                   \u001b[49m\u001b[43mnext_line_prefix\u001b[49m\u001b[43m,\u001b[49m\u001b[43m \u001b[49m\u001b[43mseparator\u001b[49m\u001b[43m,\u001b[49m\u001b[43m \u001b[49m\u001b[43moptions\u001b[49m\u001b[43m[\u001b[49m\u001b[38;5;124;43m'\u001b[39;49m\u001b[38;5;124;43medgeitems\u001b[39;49m\u001b[38;5;124;43m'\u001b[39;49m\u001b[43m]\u001b[49m\u001b[43m,\u001b[49m\n\u001b[1;32m    548\u001b[0m \u001b[43m                   \u001b[49m\u001b[43msummary_insert\u001b[49m\u001b[43m,\u001b[49m\u001b[43m \u001b[49m\u001b[43moptions\u001b[49m\u001b[43m[\u001b[49m\u001b[38;5;124;43m'\u001b[39;49m\u001b[38;5;124;43mlegacy\u001b[39;49m\u001b[38;5;124;43m'\u001b[39;49m\u001b[43m]\u001b[49m\u001b[43m)\u001b[49m\n\u001b[1;32m    549\u001b[0m \u001b[38;5;28;01mreturn\u001b[39;00m lst\n",
      "File \u001b[0;32m~/miniconda3/lib/python3.9/site-packages/numpy/core/arrayprint.py:889\u001b[0m, in \u001b[0;36m_formatArray\u001b[0;34m(a, format_function, line_width, next_line_prefix, separator, edge_items, summary_insert, legacy)\u001b[0m\n\u001b[1;32m    885\u001b[0m     \u001b[38;5;28;01mreturn\u001b[39;00m s\n\u001b[1;32m    887\u001b[0m \u001b[38;5;28;01mtry\u001b[39;00m:\n\u001b[1;32m    888\u001b[0m     \u001b[38;5;66;03m# invoke the recursive part with an initial index and prefix\u001b[39;00m\n\u001b[0;32m--> 889\u001b[0m     \u001b[38;5;28;01mreturn\u001b[39;00m \u001b[43mrecurser\u001b[49m\u001b[43m(\u001b[49m\u001b[43mindex\u001b[49m\u001b[38;5;241;43m=\u001b[39;49m\u001b[43m(\u001b[49m\u001b[43m)\u001b[49m\u001b[43m,\u001b[49m\n\u001b[1;32m    890\u001b[0m \u001b[43m                    \u001b[49m\u001b[43mhanging_indent\u001b[49m\u001b[38;5;241;43m=\u001b[39;49m\u001b[43mnext_line_prefix\u001b[49m\u001b[43m,\u001b[49m\n\u001b[1;32m    891\u001b[0m \u001b[43m                    \u001b[49m\u001b[43mcurr_width\u001b[49m\u001b[38;5;241;43m=\u001b[39;49m\u001b[43mline_width\u001b[49m\u001b[43m)\u001b[49m\n\u001b[1;32m    892\u001b[0m \u001b[38;5;28;01mfinally\u001b[39;00m:\n\u001b[1;32m    893\u001b[0m     \u001b[38;5;66;03m# recursive closures have a cyclic reference to themselves, which\u001b[39;00m\n\u001b[1;32m    894\u001b[0m     \u001b[38;5;66;03m# requires gc to collect (gh-10620). To avoid this problem, for\u001b[39;00m\n\u001b[1;32m    895\u001b[0m     \u001b[38;5;66;03m# performance and PyPy friendliness, we break the cycle:\u001b[39;00m\n\u001b[1;32m    896\u001b[0m     recurser \u001b[38;5;241m=\u001b[39m \u001b[38;5;28;01mNone\u001b[39;00m\n",
      "File \u001b[0;32m~/miniconda3/lib/python3.9/site-packages/numpy/core/arrayprint.py:880\u001b[0m, in \u001b[0;36m_formatArray.<locals>.recurser\u001b[0;34m(index, hanging_indent, curr_width)\u001b[0m\n\u001b[1;32m    876\u001b[0m         nested \u001b[38;5;241m=\u001b[39m recurser(index \u001b[38;5;241m+\u001b[39m (\u001b[38;5;241m-\u001b[39mi,), next_hanging_indent,\n\u001b[1;32m    877\u001b[0m                           next_width)\n\u001b[1;32m    878\u001b[0m         s \u001b[38;5;241m+\u001b[39m\u001b[38;5;241m=\u001b[39m hanging_indent \u001b[38;5;241m+\u001b[39m nested \u001b[38;5;241m+\u001b[39m line_sep\n\u001b[0;32m--> 880\u001b[0m     nested \u001b[38;5;241m=\u001b[39m \u001b[43mrecurser\u001b[49m\u001b[43m(\u001b[49m\u001b[43mindex\u001b[49m\u001b[43m \u001b[49m\u001b[38;5;241;43m+\u001b[39;49m\u001b[43m \u001b[49m\u001b[43m(\u001b[49m\u001b[38;5;241;43m-\u001b[39;49m\u001b[38;5;241;43m1\u001b[39;49m\u001b[43m,\u001b[49m\u001b[43m)\u001b[49m\u001b[43m,\u001b[49m\u001b[43m \u001b[49m\u001b[43mnext_hanging_indent\u001b[49m\u001b[43m,\u001b[49m\u001b[43m \u001b[49m\u001b[43mnext_width\u001b[49m\u001b[43m)\u001b[49m\n\u001b[1;32m    881\u001b[0m     s \u001b[38;5;241m+\u001b[39m\u001b[38;5;241m=\u001b[39m hanging_indent \u001b[38;5;241m+\u001b[39m nested\n\u001b[1;32m    883\u001b[0m \u001b[38;5;66;03m# remove the hanging indent, and wrap in []\u001b[39;00m\n",
      "File \u001b[0;32m~/miniconda3/lib/python3.9/site-packages/numpy/core/arrayprint.py:845\u001b[0m, in \u001b[0;36m_formatArray.<locals>.recurser\u001b[0;34m(index, hanging_indent, curr_width)\u001b[0m\n\u001b[1;32m    842\u001b[0m         line \u001b[38;5;241m+\u001b[39m\u001b[38;5;241m=\u001b[39m separator\n\u001b[1;32m    844\u001b[0m \u001b[38;5;28;01mfor\u001b[39;00m i \u001b[38;5;129;01min\u001b[39;00m \u001b[38;5;28mrange\u001b[39m(trailing_items, \u001b[38;5;241m1\u001b[39m, \u001b[38;5;241m-\u001b[39m\u001b[38;5;241m1\u001b[39m):\n\u001b[0;32m--> 845\u001b[0m     word \u001b[38;5;241m=\u001b[39m \u001b[43mrecurser\u001b[49m\u001b[43m(\u001b[49m\u001b[43mindex\u001b[49m\u001b[43m \u001b[49m\u001b[38;5;241;43m+\u001b[39;49m\u001b[43m \u001b[49m\u001b[43m(\u001b[49m\u001b[38;5;241;43m-\u001b[39;49m\u001b[43mi\u001b[49m\u001b[43m,\u001b[49m\u001b[43m)\u001b[49m\u001b[43m,\u001b[49m\u001b[43m \u001b[49m\u001b[43mnext_hanging_indent\u001b[49m\u001b[43m,\u001b[49m\u001b[43m \u001b[49m\u001b[43mnext_width\u001b[49m\u001b[43m)\u001b[49m\n\u001b[1;32m    846\u001b[0m     s, line \u001b[38;5;241m=\u001b[39m _extendLine_pretty(\n\u001b[1;32m    847\u001b[0m         s, line, word, elem_width, hanging_indent, legacy)\n\u001b[1;32m    848\u001b[0m     line \u001b[38;5;241m+\u001b[39m\u001b[38;5;241m=\u001b[39m separator\n",
      "File \u001b[0;32m~/miniconda3/lib/python3.9/site-packages/numpy/core/arrayprint.py:799\u001b[0m, in \u001b[0;36m_formatArray.<locals>.recurser\u001b[0;34m(index, hanging_indent, curr_width)\u001b[0m\n\u001b[1;32m    796\u001b[0m axes_left \u001b[38;5;241m=\u001b[39m a\u001b[38;5;241m.\u001b[39mndim \u001b[38;5;241m-\u001b[39m axis\n\u001b[1;32m    798\u001b[0m \u001b[38;5;28;01mif\u001b[39;00m axes_left \u001b[38;5;241m==\u001b[39m \u001b[38;5;241m0\u001b[39m:\n\u001b[0;32m--> 799\u001b[0m     \u001b[38;5;28;01mreturn\u001b[39;00m format_function(\u001b[43ma\u001b[49m\u001b[43m[\u001b[49m\u001b[43mindex\u001b[49m\u001b[43m]\u001b[49m)\n\u001b[1;32m    801\u001b[0m \u001b[38;5;66;03m# when recursing, add a space to align with the [ added, and reduce the\u001b[39;00m\n\u001b[1;32m    802\u001b[0m \u001b[38;5;66;03m# length of the line by 1\u001b[39;00m\n\u001b[1;32m    803\u001b[0m next_hanging_indent \u001b[38;5;241m=\u001b[39m hanging_indent \u001b[38;5;241m+\u001b[39m \u001b[38;5;124m'\u001b[39m\u001b[38;5;124m \u001b[39m\u001b[38;5;124m'\u001b[39m\n",
      "File \u001b[0;32m~/.local/lib/python3.9/site-packages/unyt/array.py:1627\u001b[0m, in \u001b[0;36munyt_array.__getitem__\u001b[0;34m(self, item)\u001b[0m\n\u001b[1;32m   1625\u001b[0m \u001b[38;5;28;01mdef\u001b[39;00m \u001b[38;5;21m__getitem__\u001b[39m(\u001b[38;5;28mself\u001b[39m, item):\n\u001b[1;32m   1626\u001b[0m     ret \u001b[38;5;241m=\u001b[39m \u001b[38;5;28msuper\u001b[39m(unyt_array, \u001b[38;5;28mself\u001b[39m)\u001b[38;5;241m.\u001b[39m\u001b[38;5;21m__getitem__\u001b[39m(item)\n\u001b[0;32m-> 1627\u001b[0m     \u001b[38;5;28;01mif\u001b[39;00m \u001b[43mret\u001b[49m\u001b[38;5;241;43m.\u001b[39;49m\u001b[43mshape\u001b[49m \u001b[38;5;241m==\u001b[39m ():\n\u001b[1;32m   1628\u001b[0m         \u001b[38;5;28;01mreturn\u001b[39;00m unyt_quantity(\n\u001b[1;32m   1629\u001b[0m             ret, \u001b[38;5;28mself\u001b[39m\u001b[38;5;241m.\u001b[39munits, bypass_validation\u001b[38;5;241m=\u001b[39m\u001b[38;5;28;01mTrue\u001b[39;00m, name\u001b[38;5;241m=\u001b[39m\u001b[38;5;28mself\u001b[39m\u001b[38;5;241m.\u001b[39mname\n\u001b[1;32m   1630\u001b[0m         )\n\u001b[1;32m   1631\u001b[0m     \u001b[38;5;28;01melse\u001b[39;00m:\n",
      "\u001b[0;31mAttributeError\u001b[0m: 'float' object has no attribute 'shape'"
     ]
    }
   ],
   "source": [
    "print(loc_allstars)"
   ]
  },
  {
   "cell_type": "code",
   "execution_count": 35,
   "id": "d9a3f512",
   "metadata": {},
   "outputs": [
    {
     "name": "stdout",
     "output_type": "stream",
     "text": [
      "(1, 77, 3)\n"
     ]
    }
   ],
   "source": [
    "print(np.shape(starry_cen))"
   ]
  },
  {
   "cell_type": "code",
   "execution_count": null,
   "id": "b04407e6",
   "metadata": {},
   "outputs": [],
   "source": []
  }
 ],
 "metadata": {
  "kernelspec": {
   "display_name": "Python 3 (ipykernel)",
   "language": "python",
   "name": "python3"
  },
  "language_info": {
   "codemirror_mode": {
    "name": "ipython",
    "version": 3
   },
   "file_extension": ".py",
   "mimetype": "text/x-python",
   "name": "python",
   "nbconvert_exporter": "python",
   "pygments_lexer": "ipython3",
   "version": "3.9.13"
  }
 },
 "nbformat": 4,
 "nbformat_minor": 5
}
