{
 "cells": [
  {
   "cell_type": "code",
   "execution_count": 56,
   "id": "3dcfb182",
   "metadata": {},
   "outputs": [],
   "source": [
    "import h5py\n",
    "import tangos as db\n",
    "import numpy as np\n",
    "import matplotlib.pyplot as plt"
   ]
  },
  {
   "cell_type": "code",
   "execution_count": 40,
   "id": "0de832db",
   "metadata": {},
   "outputs": [],
   "source": [
    "# How to read in file that contains data on every star that is in Tempest's stellar halo at z=0\n",
    "f = h5py.File('/Users/bnguyen/Downloads/Tempest_RD0042_allhalostardata.h5','r')\n",
    "pids = f['particle_IDs'][:] # particle index of star - constant across simulation (int)\n",
    "ptind = f['timestep_location'][:] # index of timestep at which star formed (int; 0->DD0044)\n",
    "hids = f['host_IDs'].asstr()[:] # unique ID of halo in which star forms (string, constant across simulation)\n",
    "pp = f['particle_positions'][:] # location at which star forms ([x,y,z], float, Mpc)\n",
    "ct = f['particle_creation_times'][:] # time at which star was formed (float, Gyr)\n",
    "ph = f['particle_hosts'][:] # halo number of halo in which star forms (int, holds only for timestep)\n",
    "f.close()\n",
    "# Note: some star particles form before our first saved timestep or in halos that our halo finder has lost track of.\n",
    "# The vast majority can still be reliably assigned to a halo via other methods and therefore have a 'host_IDs' value.\n",
    "# However, they may have 0s or -1s for 'timestep_location' and/or 'particle_hosts'.\n",
    "# The 'host_IDs' value is the most important means of grouping halo stars. Star particles that formed in the same halo\n",
    "# at different timesteps will have different 'timestep_locations' values and possibly different 'particle_hosts' values,\n",
    "# but they will have the same 'host_IDs' value. The 'host_IDs' value can be understood as follows:\n",
    "#   The number before the underscore is the timestep at which the star-forming halo was last distinguished by the halo\n",
    "#   finder as an independent halo, either before it merged with another, more massive halo or before it lost too many\n",
    "#   particles to be tracked.\n",
    "#   The number after the underscore is the halo number of the halo at this timestep.\n",
    "#   So, for example, a 'host_IDs' value of '1878_101' means that this star formed in a halo that is last \n",
    "#   distinguished at timestep DD1878 and has halo_number = 101 at this timestep. A star with 'host_IDs'='2427_1'\n",
    "#   formed inside of Tempest itself."
   ]
  },
  {
   "cell_type": "code",
   "execution_count": 41,
   "id": "ba7d582b",
   "metadata": {},
   "outputs": [
    {
     "name": "stdout",
     "output_type": "stream",
     "text": [
      "Tempest has 49 independent halos that contribute to its stellar halo.\n",
      "These are: ['0113_6' '0142_77' '0152_77' '0153_75' '0154_40' '0190_55' '0199_30'\n",
      " '0200_22' '0208_111' '0216_75' '0299_171' '0310_12' '0312_251' '0323_33'\n",
      " '0324_14' '0326_1' '0326_2' '0373_57' '0377_65' '0386_39' '0395_35'\n",
      " '0397_46' '0398_24' '0400_62' '0409_28' '0410_28' '0416_51' '0419_83'\n",
      " '0427_16' '0448_94' '0468_7' '0520_296' '0570_6' '0627_4' '0641_51'\n",
      " '0745_57' '0786_3' '0840_159' '0946_68' '0994_85' '1057_92' '1092_39'\n",
      " '1233_7' '1487_28' '1645_5' '1649_6' '1779_14' '1878_101' '2427_51']\n"
     ]
    }
   ],
   "source": [
    "allhosts = np.unique(hids)\n",
    "allhosts = allhosts[allhosts != '']\n",
    "allhosts = allhosts[allhosts != '2427_1'] # This excludes Tempest itself, whose host ID is '2427_1'\n",
    "\n",
    "print ('Tempest has '+str(len(allhosts))+' independent halos that contribute to its stellar halo.')\n",
    "print ('These are:',allhosts[:])"
   ]
  },
  {
   "cell_type": "code",
   "execution_count": 104,
   "id": "8fb833a7",
   "metadata": {},
   "outputs": [],
   "source": [
    "time_index = np.zeros(len(allhosts))\n",
    "halo_number = np.zeros(len(allhosts))\n",
    "\n",
    "i = 0\n",
    "for s in allhosts:\n",
    "    string = s.split('_')\n",
    "    time_index[i] = int(string[0])\n",
    "    halo_number[i] = string[1]\n",
    "    i += 1\n",
    "    \n",
    "# we also have to subtract by 44 because that's the first timestep\n",
    "time_index = time_index.astype(int) - 44 "
   ]
  },
  {
   "cell_type": "code",
   "execution_count": 105,
   "id": "22226e50",
   "metadata": {},
   "outputs": [
    {
     "name": "stdout",
     "output_type": "stream",
     "text": [
      "[  69   98  108  109  110  146  155  156  164  172  255  266  268  279\n",
      "  280  282  282  329  333  342  351  353  354  356  365  366  372  375\n",
      "  383  404  424  476  526  583  597  701  742  796  902  950 1013 1048\n",
      " 1189 1443 1601 1605 1735 1834 2383]\n",
      "<class 'numpy.int64'>\n"
     ]
    }
   ],
   "source": [
    "print(time_index)\n",
    "print(type(time_index[2]))"
   ]
  },
  {
   "cell_type": "code",
   "execution_count": 106,
   "id": "90a72e55",
   "metadata": {},
   "outputs": [
    {
     "data": {
      "text/plain": [
       "[<Simulation(\"Tempest.9f11c.all.DD\")>]"
      ]
     },
     "execution_count": 106,
     "metadata": {},
     "output_type": "execute_result"
    }
   ],
   "source": [
    "db.all_simulations()"
   ]
  },
  {
   "cell_type": "code",
   "execution_count": 107,
   "id": "f73d6726",
   "metadata": {},
   "outputs": [],
   "source": [
    "sim = db.get_simulation('Tempest.9f11c.all.DD')"
   ]
  },
  {
   "cell_type": "code",
   "execution_count": 108,
   "id": "18f0e642",
   "metadata": {},
   "outputs": [
    {
     "name": "stdout",
     "output_type": "stream",
     "text": [
      "[ 1.31938417  1.47538672  1.52918071  1.53456011  1.53993951  1.73359786\n",
      "  1.78201244  1.78739184  1.83042703  1.87346222  2.3199523   2.37912568\n",
      "  2.38988448  2.44905786  2.45443726  2.46519606  2.46519606  2.71802779\n",
      "  2.73954539  2.78795997  2.83637456  2.84713336  2.85251276  2.86327155\n",
      "  2.91168614  2.91706554  2.94934193  2.9654798   3.00851532  3.12148269\n",
      "  3.22907066  3.50879938  3.77776931  4.08439503  4.15970661  4.71916406\n",
      "  4.9397194   5.23020692  5.80042317  6.0532549   6.39215701  6.58043596\n",
      "  7.33893116  8.70529839  9.55524337  9.57676096 10.27608277 10.80864323\n",
      " 13.75931383]\n"
     ]
    }
   ],
   "source": [
    "halo_time = np.zeros(len(allhosts))\n",
    "i = 0\n",
    "for index in time_index:\n",
    "    halo_time[i] = sim[int(index)].time_gyr\n",
    "    i += 1\n",
    "    \n",
    "print(halo_time)"
   ]
  },
  {
   "cell_type": "code",
   "execution_count": null,
   "id": "a503abb5",
   "metadata": {},
   "outputs": [],
   "source": [
    "print(time_index[40])\n",
    "print(halo_number[40])\n",
    "sim[1013][92].calculate('Hosts()')"
   ]
  },
  {
   "cell_type": "code",
   "execution_count": null,
   "id": "f1f40e63",
   "metadata": {},
   "outputs": [],
   "source": [
    "i = 0\n",
    "while i < np.size(halo_number):\n",
    "    halo_idx = int(halo_number[i])\n",
    "    time_idx = int(time_index[i])\n",
    "    host = sim[halo_idx][time_idx].calculate('Hosts()')\n",
    "    print(host)\n",
    "    i += 1"
   ]
  },
  {
   "cell_type": "code",
   "execution_count": null,
   "id": "9db9339d",
   "metadata": {},
   "outputs": [],
   "source": [
    "'''\n",
    "This cell plots the distance of each satellite from the host (Tempest) over time\n",
    "'''\n",
    "\n",
    "fig, ax = plt.subplots(figsize=(8,8))\n",
    "\n",
    "i = 0\n",
    "while i < np.size(sats):\n",
    "    \n",
    "    # this finds the index of each of the satellite halos\n",
    "    \n",
    "    idx = sats[i].halo_number\n",
    "    \n",
    "    # this finds the index of the host for each of the satellite halos. the index should be\n",
    "    # the same for all haloes, but this is coded separately to account for the case where\n",
    "    # the host halo changes index as its mass profile evolves.\n",
    "    \n",
    "    host = sats[i].calculate('Hosts()')\n",
    "    host_idx = host[0].halo_number\n",
    "    \n",
    "    # this uses pre-coded tangos stuff to get M_vir and distance measurements at all available redshifts\n",
    "    \n",
    "    host_rvir, host_mvir, host_x, host_y, host_z, host_t = \\\n",
    "                    sim[-1][host_idx].calculate_for_progenitors('Rvir', 'Mvir', 'X', 'Y', 'Z', 't()')\n",
    "    sat_mvir, sat_x, sat_y, sat_z, sat_t = \\\n",
    "                    sim[-1][idx].calculate_for_progenitors('Mvir', 'X', 'Y', 'Z', 't()')\n",
    "    \n",
    "    # now, we have to correct for the distance of the satellite halos from the host halo, which itself\n",
    "    # is also moving. to do this, we need to subtract the position of the satellite by the position of\n",
    "    # the host. \n",
    "    # because the host halo and satellite halos might not be observed at the exact same amount of redshifts,\n",
    "    # we first need to exclude the non-overlapping redshifts so that it's easier to subtract\n",
    "    \n",
    "    ### this checks for non-overlapping redshifts between host and satellite. \n",
    "    ### if non-overlapping, then array element set to 0\n",
    "    for j in range(np.size(host_t)):\n",
    "        if host_t[j] not in sat_t: \n",
    "            host_t[j] = 0.\n",
    "            host_x[j] = 0.\n",
    "            host_y[j] = 0.\n",
    "            host_z[j] = 0.\n",
    "            host_rvir[j] = 0.\n",
    "    \n",
    "    ### this checks for non-overlapping redshifts between satellite and host. \n",
    "    ### if non-overlapping, then array element set to 0\n",
    "    for k in range(np.size(sat_t)):\n",
    "        if sat_t[k] not in host_t:\n",
    "            sat_t[k] = 0.\n",
    "            sat_x[k] = 0.\n",
    "            sat_y[k] = 0.\n",
    "            sat_z[k] = 0.\n",
    "            \n",
    "    ### this removes all the zeros\n",
    "    host_t = host_t[host_t != 0.]\n",
    "    host_x = host_x[host_x != 0.]\n",
    "    host_y = host_y[host_y != 0.]\n",
    "    host_z = host_z[host_z != 0.]\n",
    "    host_rvir = host_rvir[host_rvir != 0.]\n",
    "    sat_t = sat_t[sat_t != 0.]\n",
    "    sat_x = sat_x[sat_x != 0.]\n",
    "    sat_y = sat_y[sat_y != 0.]\n",
    "    sat_z = sat_z[sat_z != 0.]\n",
    "    \n",
    "    # here comes the actual subtracting correction\n",
    "    sat_x = sat_x - host_x\n",
    "    sat_y = sat_y - host_y\n",
    "    sat_z = sat_z - host_z\n",
    "    \n",
    "    # finally, we get the 3D distance and scale it by the virial radius of the host halo (Tempest)\n",
    "    sat_r = np.sqrt(sat_x**2 + sat_y**2 + sat_z**2)\n",
    "    \n",
    "    # this plots distance vs. time for each halo with regard to their host halo\n",
    "    ratio = sat_r * 1000 / host_rvir\n",
    "    in_rvir = ratio <= 1\n",
    "    out_rvir = ratio > 1\n",
    "    plt.plot(sat_t, (sat_r * 1000 / host_rvir), linewidth=2, label='halo ' + str(idx))\n",
    "    i += 1\n",
    "    \n",
    "plt.legend(loc='upper left', prop={'size': 10})\n",
    "plt.title('distance of satellite from host over time', fontsize=19)\n",
    "plt.xlabel('time (Gyr)', fontsize=18)\n",
    "plt.xticks(fontsize=14)\n",
    "plt.ylabel('distance [r / R$_{vir,host}$]', fontsize=18)\n",
    "plt.yticks(fontsize=14)\n",
    "plt.ylim(0, 3)\n",
    "plt.xlim(2, max(sat_t))\n",
    "plt.tight_layout()\n",
    "plt.style.use('default')\n",
    "plt.savefig('LDB_satellite_over_time.png')"
   ]
  }
 ],
 "metadata": {
  "kernelspec": {
   "display_name": "Python 3 (ipykernel)",
   "language": "python",
   "name": "python3"
  },
  "language_info": {
   "codemirror_mode": {
    "name": "ipython",
    "version": 3
   },
   "file_extension": ".py",
   "mimetype": "text/x-python",
   "name": "python",
   "nbconvert_exporter": "python",
   "pygments_lexer": "ipython3",
   "version": "3.9.13"
  }
 },
 "nbformat": 4,
 "nbformat_minor": 5
}
