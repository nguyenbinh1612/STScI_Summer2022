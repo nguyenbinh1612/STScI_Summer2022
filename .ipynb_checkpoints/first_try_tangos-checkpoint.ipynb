{
 "cells": [
  {
   "cell_type": "code",
   "execution_count": 1,
   "id": "89a6541f",
   "metadata": {},
   "outputs": [],
   "source": [
    "import tangos as db\n",
    "import numpy as np\n",
    "import matplotlib.pyplot as plt"
   ]
  },
  {
   "cell_type": "code",
   "execution_count": 2,
   "id": "c791c284",
   "metadata": {},
   "outputs": [
    {
     "data": {
      "text/plain": [
       "[<Simulation(\"Tempest.9f11c.RD\")>]"
      ]
     },
     "execution_count": 2,
     "metadata": {},
     "output_type": "execute_result"
    }
   ],
   "source": [
    "db.all_simulations()"
   ]
  },
  {
   "cell_type": "code",
   "execution_count": 3,
   "id": "5e994f5c",
   "metadata": {},
   "outputs": [],
   "source": [
    "sim = db.get_simulation('Tempest.9f11c.RD')"
   ]
  },
  {
   "cell_type": "code",
   "execution_count": 4,
   "id": "6ecfacfe",
   "metadata": {},
   "outputs": [
    {
     "data": {
      "text/plain": [
       "<TimeStep 'Tempest.9f11c.RD/RD0042/RD0042' z=0.00 t=13.76 Gyr>"
      ]
     },
     "execution_count": 4,
     "metadata": {},
     "output_type": "execute_result"
    }
   ],
   "source": [
    "sim[30]"
   ]
  },
  {
   "cell_type": "code",
   "execution_count": 5,
   "id": "33f20c0e",
   "metadata": {},
   "outputs": [
    {
     "data": {
      "text/plain": [
       "['consistent_trees_id',\n",
       " 'Mvir',\n",
       " 'Mtot',\n",
       " 'M200c',\n",
       " 'Rvir',\n",
       " 'X',\n",
       " 'Y',\n",
       " 'Z',\n",
       " 'Spin_DM_B',\n",
       " 'X_cu',\n",
       " 'Y_cu',\n",
       " 'Z_cu',\n",
       " 'Center',\n",
       " 'Center_cu',\n",
       " 'M_gas',\n",
       " 'M_coldgas',\n",
       " 'M_star',\n",
       " 'ContamFrac',\n",
       " 'VX',\n",
       " 'VY',\n",
       " 'VZ',\n",
       " 'consistent_trees_link',\n",
       " 'consistent_trees_link',\n",
       " 'consistent_trees_link']"
      ]
     },
     "execution_count": 5,
     "metadata": {},
     "output_type": "execute_result"
    }
   ],
   "source": [
    "sim[30][1].keys()"
   ]
  },
  {
   "cell_type": "code",
   "execution_count": 10,
   "id": "72490c75",
   "metadata": {},
   "outputs": [
    {
     "name": "stdout",
     "output_type": "stream",
     "text": [
      "[<Halo 'Tempest.9f11c.RD/RD0042/RD0042/halo_130' | NDM=75 Nstar=0 Ngas=0>\n",
      " <Halo 'Tempest.9f11c.RD/RD0042/RD0042/halo_91' | NDM=110 Nstar=0 Ngas=0>\n",
      " <Halo 'Tempest.9f11c.RD/RD0042/RD0042/halo_54' | NDM=170 Nstar=0 Ngas=0>\n",
      " <Halo 'Tempest.9f11c.RD/RD0042/RD0042/halo_23' | NDM=514 Nstar=0 Ngas=0>\n",
      " <Halo 'Tempest.9f11c.RD/RD0042/RD0042/halo_119' | NDM=83 Nstar=0 Ngas=0>\n",
      " <Halo 'Tempest.9f11c.RD/RD0042/RD0042/halo_44' | NDM=213 Nstar=0 Ngas=0>\n",
      " <Halo 'Tempest.9f11c.RD/RD0042/RD0042/halo_12' | NDM=1263 Nstar=0 Ngas=0>\n",
      " <Halo 'Tempest.9f11c.RD/RD0042/RD0042/halo_56' | NDM=163 Nstar=0 Ngas=0>\n",
      " <Halo 'Tempest.9f11c.RD/RD0042/RD0042/halo_125' | NDM=78 Nstar=0 Ngas=0>\n",
      " <Halo 'Tempest.9f11c.RD/RD0042/RD0042/halo_103' | NDM=101 Nstar=0 Ngas=0>\n",
      " <Halo 'Tempest.9f11c.RD/RD0042/RD0042/halo_131' | NDM=75 Nstar=0 Ngas=0>\n",
      " <Halo 'Tempest.9f11c.RD/RD0042/RD0042/halo_80' | NDM=134 Nstar=0 Ngas=0>\n",
      " <Halo 'Tempest.9f11c.RD/RD0042/RD0042/halo_110' | NDM=93 Nstar=0 Ngas=0>\n",
      " <Halo 'Tempest.9f11c.RD/RD0042/RD0042/halo_73' | NDM=140 Nstar=0 Ngas=0>\n",
      " <Halo 'Tempest.9f11c.RD/RD0042/RD0042/halo_117' | NDM=86 Nstar=0 Ngas=0>\n",
      " <Halo 'Tempest.9f11c.RD/RD0042/RD0042/halo_107' | NDM=96 Nstar=0 Ngas=0>\n",
      " <Halo 'Tempest.9f11c.RD/RD0042/RD0042/halo_109' | NDM=94 Nstar=0 Ngas=0>\n",
      " <Halo 'Tempest.9f11c.RD/RD0042/RD0042/halo_51' | NDM=182 Nstar=0 Ngas=0>\n",
      " <Halo 'Tempest.9f11c.RD/RD0042/RD0042/halo_105' | NDM=97 Nstar=0 Ngas=0>\n",
      " <Halo 'Tempest.9f11c.RD/RD0042/RD0042/halo_122' | NDM=82 Nstar=0 Ngas=0>\n",
      " <Halo 'Tempest.9f11c.RD/RD0042/RD0042/halo_62' | NDM=159 Nstar=0 Ngas=0>\n",
      " <Halo 'Tempest.9f11c.RD/RD0042/RD0042/halo_29' | NDM=361 Nstar=0 Ngas=0>\n",
      " <Halo 'Tempest.9f11c.RD/RD0042/RD0042/halo_63' | NDM=159 Nstar=0 Ngas=0>]\n"
     ]
    }
   ],
   "source": [
    "sats = sim[30][1].calculate('Satellites()')\n",
    "print(sats)"
   ]
  },
  {
   "cell_type": "code",
   "execution_count": 27,
   "id": "399b520e",
   "metadata": {},
   "outputs": [
    {
     "name": "stdout",
     "output_type": "stream",
     "text": [
      "1\n"
     ]
    },
    {
     "data": {
      "text/plain": [
       "\"ori_Mvir, ori_t = sim[30][1].calculate_for_progenitors('Mvir', 't()')\\nsat_Mvir, sat_t = sim[30][130].calculate_for_progenitors('Mvir', 't()')\\n\\nfor i in range(np.size(ori_t)):\\n    if ori_t[i] not in sat_t:\\n        ori_Mvir[i] = 0\\n        ori_t[i] = 0\\n    \\nori_t = ori_t[ori_t != 0]\\nori_Mvir = ori_Mvir[ori_Mvir != 0]\""
      ]
     },
     "execution_count": 27,
     "metadata": {},
     "output_type": "execute_result"
    }
   ],
   "source": [
    "original = sats[10].calculate('Hosts()')\n",
    "print(original[0].halo_number)\n",
    "\n",
    "'''ori_Mvir, ori_t = sim[30][1].calculate_for_progenitors('Mvir', 't()')\n",
    "sat_Mvir, sat_t = sim[30][130].calculate_for_progenitors('Mvir', 't()')\n",
    "\n",
    "for i in range(np.size(ori_t)):\n",
    "    if ori_t[i] not in sat_t:\n",
    "        ori_Mvir[i] = 0\n",
    "        ori_t[i] = 0\n",
    "    \n",
    "ori_t = ori_t[ori_t != 0]\n",
    "ori_Mvir = ori_Mvir[ori_Mvir != 0]'''"
   ]
  },
  {
   "cell_type": "code",
   "execution_count": null,
   "id": "a3d1b90b",
   "metadata": {},
   "outputs": [],
   "source": [
    "fig, ax = plt.subplots(figsize=(12,10))\n",
    "\n",
    "i = 0\n",
    "while i < np.size(sats):\n",
    "    \n",
    "    # this finds the index of each of the satellite halos\n",
    "    \n",
    "    idx = sats[i].halo_number\n",
    "    \n",
    "    # this finds the index of the host for each of the satellite halos. the index should be\n",
    "    # the same for all haloes, but this is coded separately to account for the case where\n",
    "    # the host halo changes index as its mass profile evolves.\n",
    "    \n",
    "    host = sats[i].calculate('Hosts()')\n",
    "    host_idx = host[0].halo_number\n",
    "    \n",
    "    # this uses pre-coded tangos stuff to get M_vir and distance measurements at all available redshifts\n",
    "    \n",
    "    host_mvir, host_x, host_y, host_z, host_t = sim[30][host_idx].calculate_for_progenitors('Mvir', 'X', 'Y', 'Z', 't()')\n",
    "    sat_mvir, sat_x, sat_y, sat_z, sat_t = sim[30][idx].calculate_for_progenitors('Mvir', 'X', 'Y', 'Z', 't()')\n",
    "    \n",
    "    # now, we have to correct for the distance of the satellite halos from the host halo, which itself\n",
    "    # is also moving. to do this, we need to subtract the position of the satellite by the position of\n",
    "    # the host. \n",
    "    # because the host halo and satellite halos might not be observed at the exact same amount of redshifts,\n",
    "    # we first need to exclude the non-overlapping redshifts so that it's easier to subtract\n",
    "    \n",
    "    ### this checks for non-overlapping redshifts between host and satellite. \n",
    "    ### if non-overlapping, then array element set to 0\n",
    "    for j in range(np.size(host_t)):\n",
    "        if host_t[j] not in sat_t: \n",
    "            host_t[j] = 0.\n",
    "            host_x[j] = 0.\n",
    "            host_y[j] = 0.\n",
    "            host_z[j] = 0.\n",
    "    \n",
    "    ### this checks for non-overlapping redshifts between satellite and host. \n",
    "    ### if non-overlapping, then array element set to 0\n",
    "    for k in range(np.size(sat_t)):\n",
    "        if sat_t[k] not in host_t:\n",
    "            sat_t[k] = 0.\n",
    "            sat_x[k] = 0.\n",
    "            sat_y[k] = 0.\n",
    "            sat_z[k] = 0.\n",
    "            \n",
    "    ### this removes all the zeros\n",
    "    host_t = host_t[host_t != 0.]\n",
    "    host_x = host_x[host_x != 0.]\n",
    "    host_y = host_y[host_y != 0.]\n",
    "    host_z = host_z[host_z != 0.]\n",
    "    sat_t = sat_t[sat_t != 0.]\n",
    "    sat_x = sat_x[sat_x != 0.]\n",
    "    sat_y = sat_y[sat_y != 0.]\n",
    "    sat_z = sat_z[sat_z != 0.]\n",
    "    \n",
    "    # here comes the actual subtracting correction\n",
    "    sat_x = sat_x - host_x\n",
    "    sat_y = sat_y - host_y\n",
    "    sat_z = sat_z - host_z\n",
    "    sat_r = np.sqrt(sat_x**2 + sat_y**2 + sat_z**2)\n",
    "    \n",
    "    # this plots distance vs. time for each halo with regard to their host halo\n",
    "    plt.plot(sat_t, (sat_r * 1000), linewidth=2, label='halo ' + str(idx))\n",
    "    i += 1\n",
    "    \n",
    "ax.invert_xaxis()\n",
    "plt.legend(bbox_to_anchor=[1.01, 1.01], prop={'size': 16})\n",
    "plt.title('distance of satellite from host over time', fontsize=21)\n",
    "plt.xlabel('time (Gyr)', fontsize=18)\n",
    "plt.xticks(fontsize=14)\n",
    "plt.ylabel('distance (kpc)', fontsize=18)\n",
    "plt.yticks(fontsize=14)\n",
    "plt.tight_layout()\n",
    "plt.style.use('default')\n",
    "plt.savefig('satellite_over_time.png')"
   ]
  },
  {
   "cell_type": "code",
   "execution_count": 8,
   "id": "87038879",
   "metadata": {},
   "outputs": [
    {
     "data": {
      "text/plain": [
       "array([<Halo 'Tempest.9f11c.RD/RD0042/RD0042/halo_1' | NDM=281333 Nstar=0 Ngas=0>],\n",
       "      dtype=object)"
      ]
     },
     "execution_count": 8,
     "metadata": {},
     "output_type": "execute_result"
    }
   ],
   "source": [
    "sats[1].calculate('Hosts()')"
   ]
  },
  {
   "cell_type": "code",
   "execution_count": null,
   "id": "b2ffec4d",
   "metadata": {},
   "outputs": [],
   "source": []
  }
 ],
 "metadata": {
  "kernelspec": {
   "display_name": "Python 3 (ipykernel)",
   "language": "python",
   "name": "python3"
  },
  "language_info": {
   "codemirror_mode": {
    "name": "ipython",
    "version": 3
   },
   "file_extension": ".py",
   "mimetype": "text/x-python",
   "name": "python",
   "nbconvert_exporter": "python",
   "pygments_lexer": "ipython3",
   "version": "3.9.13"
  }
 },
 "nbformat": 4,
 "nbformat_minor": 5
}
