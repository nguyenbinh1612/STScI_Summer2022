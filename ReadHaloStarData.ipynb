{
 "cells": [
  {
   "cell_type": "code",
   "execution_count": 26,
   "id": "3dcfb182",
   "metadata": {},
   "outputs": [],
   "source": [
    "import h5py\n",
    "import numpy as np"
   ]
  },
  {
   "cell_type": "code",
   "execution_count": 27,
   "id": "0de832db",
   "metadata": {},
   "outputs": [],
   "source": [
    "# How to read in file that contains data on every star that is in Tempest's stellar halo at z=0\n",
    "f = h5py.File('/Users/Anna/Research/Outputs/allTempest/Tempest_RD0042_allhalostardata.h5','r')\n",
    "pids = f['particle_IDs'][:] # particle index of star - constant across simulation (int)\n",
    "ptind = f['timestep_location'][:] # index of timestep at which star formed (int; 0->DD0044)\n",
    "hids = f['host_IDs'].asstr()[:] # unique ID of halo in which star forms (string, constant across simulation)\n",
    "pp = f['particle_positions'][:] # location at which star forms ([x,y,z], float, Mpc)\n",
    "ct = f['particle_creation_times'][:] # time at which star was formed (float, Gyr)\n",
    "ph = f['particle_hosts'][:] # halo number of halo in which star forms (int, holds only for timestep)\n",
    "f.close()\n",
    "# Note: some star particles form before our first saved timestep or in halos that our halo finder has lost track of.\n",
    "# The vast majority can still be reliably assigned to a halo via other methods and therefore have a 'host_IDs' value.\n",
    "# However, they may have 0s or -1s for 'timestep_location' and/or 'particle_hosts'.\n",
    "# The 'host_IDs' value is the most important means of grouping halo stars. Star particles that formed in the same halo\n",
    "# at different timesteps will have different 'timestep_locations' values and possibly different 'particle_hosts' values,\n",
    "# but they will have the same 'host_IDs' value. The 'host_IDs' value can be understood as follows:\n",
    "#   The number before the underscore is the timestep at which the star-forming halo was last distinguished by the halo\n",
    "#   finder as an independent halo, either before it merged with another, more massive halo or before it lost too many\n",
    "#   particles to be tracked.\n",
    "#   The number after the underscore is the halo number of the halo at this timestep.\n",
    "#   So, for example, a 'host_IDs' value of '1878_101' means that this star formed in a halo that is last \n",
    "#   distinguished at timestep DD1878 and has halo_number = 101 at this timestep. A star with 'host_IDs'='2427_1'\n",
    "#   formed inside of Tempest itself."
   ]
  },
  {
   "cell_type": "code",
   "execution_count": 30,
   "id": "ba7d582b",
   "metadata": {},
   "outputs": [
    {
     "name": "stdout",
     "output_type": "stream",
     "text": [
      "Tempest has 51 independent halos that contribute to its stellar halo.\n",
      "These are: ['' '0113_6' '0142_77' '0152_77' '0153_75' '0154_40' '0190_55' '0199_30'\n",
      " '0200_22' '0208_111' '0216_75' '0299_171' '0310_12' '0312_251' '0323_33'\n",
      " '0324_14' '0326_1' '0326_2' '0373_57' '0377_65' '0386_39' '0395_35'\n",
      " '0397_46' '0398_24' '0400_62' '0409_28' '0410_28' '0416_51' '0419_83'\n",
      " '0427_16' '0448_94' '0468_7' '0520_296' '0570_6' '0627_4' '0641_51'\n",
      " '0745_57' '0786_3' '0840_159' '0946_68' '0994_85' '1057_92' '1092_39'\n",
      " '1233_7' '1487_28' '1645_5' '1649_6' '1779_14' '1878_101' '2427_1'\n",
      " '2427_51']\n"
     ]
    }
   ],
   "source": [
    "allhosts = np.unique(hids)\n",
    "print ('Tempest has '+str(len(allhosts))+' independent halos that contribute to its stellar halo.')\n",
    "print ('These are:',allhosts[:])"
   ]
  },
  {
   "cell_type": "code",
   "execution_count": null,
   "id": "310f47f3",
   "metadata": {},
   "outputs": [],
   "source": []
  }
 ],
 "metadata": {
  "kernelspec": {
   "display_name": "Python 3 (ipykernel)",
   "language": "python",
   "name": "python3"
  },
  "language_info": {
   "codemirror_mode": {
    "name": "ipython",
    "version": 3
   },
   "file_extension": ".py",
   "mimetype": "text/x-python",
   "name": "python",
   "nbconvert_exporter": "python",
   "pygments_lexer": "ipython3",
   "version": "3.9.13"
  }
 },
 "nbformat": 4,
 "nbformat_minor": 5
}
