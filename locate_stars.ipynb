{
 "cells": [
  {
   "cell_type": "code",
   "execution_count": 1,
   "id": "19157e67",
   "metadata": {},
   "outputs": [],
   "source": [
    "import foggie.utils.foggie_load as fog\n",
    "import yt\n",
    "from yt.data_objects.particle_filters import add_particle_filter"
   ]
  },
  {
   "cell_type": "code",
   "execution_count": 4,
   "id": "8577ca8f",
   "metadata": {},
   "outputs": [
    {
     "name": "stderr",
     "output_type": "stream",
     "text": [
      "yt : [WARNING  ] 2022-07-05 17:55:40,837 The stars particle filter already exists. Overriding.\n",
      "yt : [INFO     ] 2022-07-05 17:55:40,935 Parameters: current_time              = 639.44480357087\n",
      "yt : [INFO     ] 2022-07-05 17:55:40,938 Parameters: domain_dimensions         = [256 256 256]\n",
      "yt : [INFO     ] 2022-07-05 17:55:40,940 Parameters: domain_left_edge          = [0. 0. 0.]\n",
      "yt : [INFO     ] 2022-07-05 17:55:40,942 Parameters: domain_right_edge         = [1. 1. 1.]\n",
      "yt : [INFO     ] 2022-07-05 17:55:40,943 Parameters: cosmological_simulation   = 1\n",
      "yt : [INFO     ] 2022-07-05 17:55:40,943 Parameters: current_redshift          = 0\n",
      "yt : [INFO     ] 2022-07-05 17:55:40,944 Parameters: omega_lambda              = 0.715\n",
      "yt : [INFO     ] 2022-07-05 17:55:40,944 Parameters: omega_matter              = 0.285\n",
      "yt : [INFO     ] 2022-07-05 17:55:40,945 Parameters: omega_radiation           = 0\n",
      "yt : [INFO     ] 2022-07-05 17:55:40,945 Parameters: hubble_constant           = 0.695\n"
     ]
    },
    {
     "name": "stdout",
     "output_type": "stream",
     "text": [
      "Opening snapshot /Users/bnguyen/Downloads/DD2427/DD2427\n",
      "get_refine_box: using this location:         col1          col2     col3     col4    col5     col6     col7  col8\n",
      "------------------- -------- -------- ------- -------- -------- ------- ----\n",
      "4.4408920985006e-16 0.488865 0.470316 0.50854 0.490865 0.472316 0.51054    9\n"
     ]
    },
    {
     "name": "stderr",
     "output_type": "stream",
     "text": [
      "Parsing Hierarchy : 100%|█████████████████| 4262/4262 [00:00<00:00, 9478.52it/s]\n",
      "yt : [INFO     ] 2022-07-05 17:55:41,594 Gathering a field list (this may take a moment.)\n"
     ]
    },
    {
     "name": "stdout",
     "output_type": "stream",
     "text": [
      "Pulling halo center from catalog file\n",
      "Star 1 is located at:  [69818.71194398 69507.09411737 71847.73797514] kpc\n",
      "Star 2 is located at:  [69898.14407874 69373.62080121 71872.36291595] kpc\n",
      "end\n"
     ]
    }
   ],
   "source": [
    "halo = 'Tempest'\n",
    "hnum = '008508'\n",
    "\n",
    "snap_name = '/Users/bnguyen/Downloads/DD2427/DD2427'\n",
    "halo_c_v_name = '/Users/bnguyen/FOGGIE/foggie/halo_infos/'+hnum+'/nref11c_nref9f/halo_c_v'\n",
    "trackname = '/Users/bnguyen/FOGGIE/foggie/halo_tracks/'+hnum+'/nref11n_selfshield_15/halo_track_200kpc_nref9'\n",
    "masses_dir = '/Users/bnguyen/FOGGIE/foggie/halo_infos/'+hnum+'/nref11c_nref9f/'\n",
    "\n",
    "def StarParts(pfilter, data):\n",
    "    return data[(\"all\", \"particle_type\")] == 2 # only grab star particles\n",
    "\n",
    "add_particle_filter(\"stars\", function=StarParts, filtered_type='all', requires=[\"particle_type\"])\n",
    "    \n",
    "ds, region = fog.foggie_load(snap_name, trackname, find_halo_center=True, halo_c_v_name=halo_c_v_name, disk_relative=False, \\\n",
    "                            particle_type_for_angmom='young_stars', do_filter_particles=False, gravity=False,\\\n",
    "                            region='refine_box',masses_dir=masses_dir)\n",
    "                            \n",
    "ds.add_particle_filter('stars')\n",
    "ads = ds.all_data()\n",
    "\n",
    "print ('Star 1 is located at: ',ads['stars','particle_position'][0].in_units('kpc'))\n",
    "print ('Star 2 is located at: ',ads['stars','particle_position'][1].in_units('kpc'))\n",
    "print ('end')"
   ]
  },
  {
   "cell_type": "code",
   "execution_count": 7,
   "id": "f8e0cc93",
   "metadata": {},
   "outputs": [
    {
     "name": "stdout",
     "output_type": "stream",
     "text": [
      "[[69818.71194398 69507.09411737 71847.73797514]\n",
      " [69898.14407874 69373.62080121 71872.36291595]\n",
      " [69836.6396077  69417.83438474 71892.88450379]\n",
      " ...\n",
      " [69547.30912724 68059.40079874 74316.10666488]\n",
      " [69548.00862263 68058.67212881 74316.07896597]\n",
      " [69545.20202851 68059.31856328 74319.83316237]] kpc\n"
     ]
    }
   ],
   "source": [
    "print(ads['stars','particle_position'].in_units('kpc'))"
   ]
  },
  {
   "cell_type": "code",
   "execution_count": null,
   "id": "e97f99ac",
   "metadata": {},
   "outputs": [],
   "source": []
  }
 ],
 "metadata": {
  "kernelspec": {
   "display_name": "Python 3 (ipykernel)",
   "language": "python",
   "name": "python3"
  },
  "language_info": {
   "codemirror_mode": {
    "name": "ipython",
    "version": 3
   },
   "file_extension": ".py",
   "mimetype": "text/x-python",
   "name": "python",
   "nbconvert_exporter": "python",
   "pygments_lexer": "ipython3",
   "version": "3.9.13"
  }
 },
 "nbformat": 4,
 "nbformat_minor": 5
}
