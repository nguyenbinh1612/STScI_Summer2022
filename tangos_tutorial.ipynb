{
 "cells": [
  {
   "cell_type": "markdown",
   "id": "0d3f88ca",
   "metadata": {},
   "source": [
    "# **TANGOS: The Agile Numerical Galaxy Organisation System**\n"
   ]
  },
  {
   "cell_type": "markdown",
   "id": "d03abfb5",
   "metadata": {},
   "source": [
    "## Step 1: Installation\n",
    "To install: <br>\n",
    "\\>>git clone https://github.com/anchwr/tangos.git <br>\n",
    "\\>>cd tangos <br>\n",
    "\\>>python setup.py develop <br>\n",
    "This will install my fork of tangos, which works with Enzo outputs. You can install the public version of tangos by typing <br>\n",
    "\\>>pip install tangos <br>\n",
    "but you won't be able to use certain functions (e.g., calculate_all) that need access to the handler class that was used to create the database. <br>\n",
    "More detailed instructions can be found at: https://pynbody.github.io/tangos/index.html <br>"
   ]
  },
  {
   "cell_type": "markdown",
   "id": "1e36ce20",
   "metadata": {},
   "source": [
    "## Step 2: Download a database\n",
    "Basic database containing info for Tempest RDs can be found at: https://github.com/foggie-sims/foggie/blob/master/foggie/halo_infos/008508/nref11c_nref9f/Tempest.9f11c.RD.db <br>(Size as of 8/2/2021: ~10 MB) <br> <br>\n",
    "You'll also need to tell tangos where to find your database. Add the following lines to your .bashrc (.bash_profile, etc):<br>\n",
    "export TANGOS_SIMULATION_FOLDER = /path/to/folder/containing/tangos/database/ <br>\n",
    "export TANGOS_DB_CONNECTION = /path/to/folder/containing/tangos/database/Tempest.9f11c.RD.db <br>\n",
    "So, for me, this is:<br>\n",
    "export TANGOS_SIMULATION_FOLDER=/Users/Anna/Research/Outputs/tangostest/ <br>\n",
    "export TANGOS_DB_CONNECTION=/Users/Anna/Research/Outputs/tangostest/Tempest.9f11c.RD.db\n"
   ]
  },
  {
   "cell_type": "markdown",
   "id": "fe0e75ca",
   "metadata": {},
   "source": [
    "## Step 3: Check that you can load the database\n",
    "(Source your .bashrc and reload this notebook if necessary) <br>\n"
   ]
  },
  {
   "cell_type": "code",
   "execution_count": 1,
   "id": "89a6541f",
   "metadata": {},
   "outputs": [],
   "source": [
    "import tangos as db"
   ]
  },
  {
   "cell_type": "markdown",
   "id": "87101147",
   "metadata": {},
   "source": [
    "Which simulations do we have access to? If all went well, you should see <Simulation(\"Tempest.9f11c.RD\")>"
   ]
  },
  {
   "cell_type": "code",
   "execution_count": 2,
   "id": "c791c284",
   "metadata": {},
   "outputs": [
    {
     "data": {
      "text/plain": [
       "[<Simulation(\"Tempest.9f11c.RD\")>]"
      ]
     },
     "execution_count": 2,
     "metadata": {},
     "output_type": "execute_result"
    }
   ],
   "source": [
    "db.all_simulations()"
   ]
  },
  {
   "cell_type": "markdown",
   "id": "7adac1de",
   "metadata": {},
   "source": [
    "Load the Tempest database:"
   ]
  },
  {
   "cell_type": "code",
   "execution_count": 3,
   "id": "5e994f5c",
   "metadata": {},
   "outputs": [],
   "source": [
    "sim = db.get_simulation('Tempest.9f11c.RD')"
   ]
  },
  {
   "cell_type": "markdown",
   "id": "92c73edd",
   "metadata": {},
   "source": [
    "Check that you can see all of the timesteps (you should see a list showing RD0012-RD0042):"
   ]
  },
  {
   "cell_type": "code",
   "execution_count": 4,
   "id": "261569cb",
   "metadata": {},
   "outputs": [
    {
     "data": {
      "text/plain": [
       "[<TimeStep 'Tempest.9f11c.RD/RD0012/RD0012' z=6.00 t=0.95 Gyr>,\n",
       " <TimeStep 'Tempest.9f11c.RD/RD0013/RD0013' z=5.00 t=1.19 Gyr>,\n",
       " <TimeStep 'Tempest.9f11c.RD/RD0014/RD0014' z=4.00 t=1.57 Gyr>,\n",
       " <TimeStep 'Tempest.9f11c.RD/RD0015/RD0015' z=3.50 t=1.83 Gyr>,\n",
       " <TimeStep 'Tempest.9f11c.RD/RD0016/RD0016' z=3.00 t=2.18 Gyr>,\n",
       " <TimeStep 'Tempest.9f11c.RD/RD0017/RD0017' z=2.75 t=2.40 Gyr>,\n",
       " <TimeStep 'Tempest.9f11c.RD/RD0018/RD0018' z=2.50 t=2.66 Gyr>,\n",
       " <TimeStep 'Tempest.9f11c.RD/RD0019/RD0019' z=2.25 t=2.96 Gyr>,\n",
       " <TimeStep 'Tempest.9f11c.RD/RD0020/RD0020' z=2.00 t=3.33 Gyr>,\n",
       " <TimeStep 'Tempest.9f11c.RD/RD0021/RD0021' z=1.75 t=3.78 Gyr>,\n",
       " <TimeStep 'Tempest.9f11c.RD/RD0022/RD0022' z=1.50 t=4.33 Gyr>,\n",
       " <TimeStep 'Tempest.9f11c.RD/RD0023/RD0023' z=1.40 t=4.59 Gyr>,\n",
       " <TimeStep 'Tempest.9f11c.RD/RD0024/RD0024' z=1.30 t=4.88 Gyr>,\n",
       " <TimeStep 'Tempest.9f11c.RD/RD0025/RD0025' z=1.20 t=5.19 Gyr>,\n",
       " <TimeStep 'Tempest.9f11c.RD/RD0026/RD0026' z=1.10 t=5.54 Gyr>,\n",
       " <TimeStep 'Tempest.9f11c.RD/RD0027/RD0027' z=1.00 t=5.93 Gyr>,\n",
       " <TimeStep 'Tempest.9f11c.RD/RD0028/RD0028' z=0.90 t=6.36 Gyr>,\n",
       " <TimeStep 'Tempest.9f11c.RD/RD0029/RD0029' z=0.80 t=6.83 Gyr>,\n",
       " <TimeStep 'Tempest.9f11c.RD/RD0030/RD0030' z=0.70 t=7.37 Gyr>,\n",
       " <TimeStep 'Tempest.9f11c.RD/RD0031/RD0031' z=0.60 t=7.98 Gyr>,\n",
       " <TimeStep 'Tempest.9f11c.RD/RD0032/RD0032' z=0.50 t=8.66 Gyr>,\n",
       " <TimeStep 'Tempest.9f11c.RD/RD0033/RD0033' z=0.45 t=9.03 Gyr>,\n",
       " <TimeStep 'Tempest.9f11c.RD/RD0034/RD0034' z=0.40 t=9.43 Gyr>,\n",
       " <TimeStep 'Tempest.9f11c.RD/RD0035/RD0035' z=0.35 t=9.85 Gyr>,\n",
       " <TimeStep 'Tempest.9f11c.RD/RD0036/RD0036' z=0.30 t=10.31 Gyr>,\n",
       " <TimeStep 'Tempest.9f11c.RD/RD0037/RD0037' z=0.25 t=10.79 Gyr>,\n",
       " <TimeStep 'Tempest.9f11c.RD/RD0038/RD0038' z=0.20 t=11.30 Gyr>,\n",
       " <TimeStep 'Tempest.9f11c.RD/RD0039/RD0039' z=0.15 t=11.86 Gyr>,\n",
       " <TimeStep 'Tempest.9f11c.RD/RD0040/RD0040' z=0.10 t=12.45 Gyr>,\n",
       " <TimeStep 'Tempest.9f11c.RD/RD0041/RD0041' z=0.05 t=13.08 Gyr>,\n",
       " <TimeStep 'Tempest.9f11c.RD/RD0042/RD0042' z=0.00 t=13.76 Gyr>]"
      ]
     },
     "execution_count": 4,
     "metadata": {},
     "output_type": "execute_result"
    }
   ],
   "source": [
    "sim.timesteps"
   ]
  },
  {
   "cell_type": "markdown",
   "id": "703d1a96",
   "metadata": {},
   "source": [
    "Let's look at RD0042. There are a couple of ways to select an individual timestep. My preferred way is just via indexing. There are 31 timesteps here total, so the most recent is:"
   ]
  },
  {
   "cell_type": "code",
   "execution_count": 5,
   "id": "6ecfacfe",
   "metadata": {},
   "outputs": [
    {
     "data": {
      "text/plain": [
       "<TimeStep 'Tempest.9f11c.RD/RD0042/RD0042' z=0.00 t=13.76 Gyr>"
      ]
     },
     "execution_count": 5,
     "metadata": {},
     "output_type": "execute_result"
    }
   ],
   "source": [
    "sim[30]"
   ]
  },
  {
   "cell_type": "markdown",
   "id": "9e8db03a",
   "metadata": {},
   "source": [
    "However, if you know the name of the timestep, but not its index, you can also access it that way:"
   ]
  },
  {
   "cell_type": "code",
   "execution_count": 6,
   "id": "ab14903f",
   "metadata": {},
   "outputs": [
    {
     "data": {
      "text/plain": [
       "<TimeStep 'Tempest.9f11c.RD/RD0042/RD0042' z=0.00 t=13.76 Gyr>"
      ]
     },
     "execution_count": 6,
     "metadata": {},
     "output_type": "execute_result"
    }
   ],
   "source": [
    "db.get_timestep('Tempest.9f11c.RD/%42')"
   ]
  },
  {
   "cell_type": "markdown",
   "id": "76cbccb7",
   "metadata": {},
   "source": [
    "We can access individual halos in much the same way:"
   ]
  },
  {
   "cell_type": "code",
   "execution_count": 7,
   "id": "788ffbd2",
   "metadata": {},
   "outputs": [
    {
     "data": {
      "text/plain": [
       "<Halo 'Tempest.9f11c.RD/RD0042/RD0042/halo_1' | NDM=281333 Nstar=0 Ngas=0>"
      ]
     },
     "execution_count": 7,
     "metadata": {},
     "output_type": "execute_result"
    }
   ],
   "source": [
    "sim[30][1]"
   ]
  },
  {
   "cell_type": "markdown",
   "id": "1674badc",
   "metadata": {},
   "source": [
    "and"
   ]
  },
  {
   "cell_type": "code",
   "execution_count": 8,
   "id": "473dd01d",
   "metadata": {},
   "outputs": [
    {
     "data": {
      "text/plain": [
       "<Halo 'Tempest.9f11c.RD/RD0042/RD0042/halo_1' | NDM=281333 Nstar=0 Ngas=0>"
      ]
     },
     "execution_count": 8,
     "metadata": {},
     "output_type": "execute_result"
    }
   ],
   "source": [
    "db.get_halo('Tempest.9f11c.RD/%42/halo_1')"
   ]
  },
  {
   "cell_type": "markdown",
   "id": "feb3e6c1",
   "metadata": {},
   "source": [
    "are equivalent. Tangos automatically sorts halos by the number of dark matter particles that they possess, so halo 1 is the most massive halo, halo 2 is the next most massive, and so on."
   ]
  },
  {
   "cell_type": "markdown",
   "id": "d4528e4a",
   "metadata": {},
   "source": [
    "## Step 4: Look at what properties are actually stored in the database"
   ]
  },
  {
   "cell_type": "markdown",
   "id": "064245d9",
   "metadata": {},
   "source": [
    "The utility of tangos comes from the fact that you can calculate the same properties for every halo once, store them, and then rapidly access those properties without having to load the simulation itself into yt (or pynbody). You can check which properties exist for a given halo:"
   ]
  },
  {
   "cell_type": "code",
   "execution_count": 9,
   "id": "33f20c0e",
   "metadata": {},
   "outputs": [
    {
     "data": {
      "text/plain": [
       "['consistent_trees_id',\n",
       " 'Mvir',\n",
       " 'Mtot',\n",
       " 'M200c',\n",
       " 'Rvir',\n",
       " 'X',\n",
       " 'Y',\n",
       " 'Z',\n",
       " 'Spin_DM_B',\n",
       " 'X_cu',\n",
       " 'Y_cu',\n",
       " 'Z_cu',\n",
       " 'Center',\n",
       " 'Center_cu',\n",
       " 'M_gas',\n",
       " 'M_coldgas',\n",
       " 'M_star',\n",
       " 'ContamFrac',\n",
       " 'VX',\n",
       " 'VY',\n",
       " 'VZ',\n",
       " 'consistent_trees_link',\n",
       " 'consistent_trees_link',\n",
       " 'consistent_trees_link']"
      ]
     },
     "execution_count": 9,
     "metadata": {},
     "output_type": "execute_result"
    }
   ],
   "source": [
    "sim[30][1].keys()"
   ]
  },
  {
   "cell_type": "markdown",
   "id": "1dd637b8",
   "metadata": {},
   "source": [
    "These will vary depending on which halo finder was used on the original simulation and which custom properties your db creator has stored in the database. In this case, rockstar and consistent-trees have been used to find the halos and link them across timesteps. Many of the properties (e.g., Mvir, Center) come directly from the rockstar halo catalogs (albeit converted into physical units). Other properties (e.g., M_star, ContamFrac) are custom. Descriptions of each property and the relevant units are available at: https://github.com/foggie-sims/foggie/blob/master/foggie/halo_infos/008508/nref11c_nref9f/tangos.README.txt . I will do my best to keep this up to date!"
   ]
  },
  {
   "cell_type": "markdown",
   "id": "c171d84a",
   "metadata": {},
   "source": [
    "We can calculate a single property for a single halo:"
   ]
  },
  {
   "cell_type": "code",
   "execution_count": 11,
   "id": "2d917873",
   "metadata": {},
   "outputs": [
    {
     "data": {
      "text/plain": [
       "17251749934.381973"
      ]
     },
     "execution_count": 11,
     "metadata": {},
     "output_type": "execute_result"
    }
   ],
   "source": [
    "sim[30][1]['M_coldgas']"
   ]
  },
  {
   "cell_type": "markdown",
   "id": "b66828a7",
   "metadata": {},
   "source": [
    "Or we can calculate multiple properties for every halo in this timestep simultaneously:"
   ]
  },
  {
   "cell_type": "code",
   "execution_count": 12,
   "id": "8ba8f93a",
   "metadata": {},
   "outputs": [
    {
     "name": "stderr",
     "output_type": "stream",
     "text": [
      "/var/folders/h4/tgpyd_z951x_9bzqftct7zxc00057b/T/ipykernel_97568/436268885.py:10: RuntimeWarning: divide by zero encountered in log10\n",
      "  plt.plot(np.log10(Mh),np.log10(Ms),'k.',markersize=13)\n"
     ]
    },
    {
     "data": {
      "image/png": "[encoded data removed]",
      "text/plain": [
       "<Figure size 576x576 with 1 Axes>"
      ]
     },
     "metadata": {
      "needs_background": "light"
     },
     "output_type": "display_data"
    }
   ],
   "source": [
    "import matplotlib.pyplot as plt\n",
    "import numpy as np\n",
    "plt.rcParams['xtick.labelsize'] = 20\n",
    "plt.rcParams['ytick.labelsize'] = 20\n",
    "plt.rcParams['axes.titlesize'] = 20\n",
    "\n",
    "Mh, Ms = sim[30].calculate_all('Mvir','M_star')\n",
    "\n",
    "plt.figure(figsize=(8,8))\n",
    "plt.plot(np.log10(Mh),np.log10(Ms),'k.',markersize=13)\n",
    "plt.xlabel('log$_{10}$(M$_\\mathrm{vir}$/M$_\\odot$)',fontsize=20)\n",
    "plt.ylabel('log$_{10}$(M$_\\star$/M$_\\odot$)',fontsize=20)\n",
    "plt.xlim(6,12)\n",
    "plt.ylim(2,11)\n",
    "plt.show()"
   ]
  },
  {
   "cell_type": "markdown",
   "id": "39cf8f02",
   "metadata": {},
   "source": [
    "Something to note: when we call \"calculate_all\", tangos processes the halos in the order they were read in from the halo catalog, NOT the order they are in the database. Each halo has a few different IDs. The important ones here are halo_number (the number of the halo in the database) and finder_id (the number of the halo in the rockstar halo catalog). You can see that these differ pretty drastically:"
   ]
  },
  {
   "cell_type": "code",
   "execution_count": 13,
   "id": "f23c06c6",
   "metadata": {},
   "outputs": [
    {
     "name": "stdout",
     "output_type": "stream",
     "text": [
      "1\n",
      "182\n"
     ]
    }
   ],
   "source": [
    "print (sim[30][1].halo_number)\n",
    "print (sim[30][1].finder_id)"
   ]
  },
  {
   "cell_type": "markdown",
   "id": "d7471c4c",
   "metadata": {},
   "source": [
    "Because of this, it's a good idea to explicitly tell tangos to sort by halo_number if you decide to call calculate_all but still want to be able to associate the resultant quantities with individual halos:"
   ]
  },
  {
   "cell_type": "code",
   "execution_count": 14,
   "id": "d9db887e",
   "metadata": {},
   "outputs": [
    {
     "data": {
      "text/plain": [
       "[array([2.27194882e+10, 1.69442767e+09, 1.49741016e+09, 1.59730033e+09,\n",
       "        2.88401629e+08, 1.04416608e+08, 1.31866253e+08, 2.90140094e+08,\n",
       "        8.22376238e+07, 9.02207455e+07, 5.00767987e+07, 1.51034933e+07,\n",
       "        1.24996556e+07, 6.61992470e+08, 7.77759838e+07, 1.58147744e+07,\n",
       "        1.76305579e+07, 3.39738144e+06, 1.66307828e+07, 1.84958411e+07,\n",
       "        1.88451066e+07, 1.65517428e+06, 1.18559889e+07, 3.69920389e+07,\n",
       "        2.94355971e+06, 1.02698837e+07, 2.64034482e+06, 6.25229200e+06,\n",
       "        1.21261039e+07, 6.07786019e+05, 4.57284212e+06, 2.33373047e+05,\n",
       "        5.61788149e+05, 5.40442750e+05, 4.88655279e+06, 2.44362184e+06,\n",
       "        2.38787209e+06, 3.35660099e+06, 1.10574368e+06, 9.46720729e+05,\n",
       "        4.62339222e+05, 3.73080781e+06, 2.31156433e+06, 5.99246043e+05,\n",
       "        1.17684332e+05, 5.29542807e+05, 8.77296256e+05, 2.11929221e+05,\n",
       "        6.73667795e+06, 1.46960738e+04, 1.47887638e+05, 1.79860590e+05,\n",
       "        1.89173510e+06, 1.26285096e+06, 1.78241707e+06, 1.52937421e+06,\n",
       "        2.97807420e+05, 7.10652358e+04, 6.12582420e+05, 1.10156591e+05,\n",
       "        3.24727349e+05, 5.40987256e+05, 1.14811070e+06, 5.40063912e+05,\n",
       "        2.97696858e+05, 4.16292711e+05, 2.22633742e+05, 1.36012737e+04,\n",
       "        7.02735231e+05, 1.42949898e+06, 7.31311946e+05, 1.79625216e+06,\n",
       "        1.59305697e+06, 3.43467770e+06, 5.34176754e+05, 2.51149154e+04,\n",
       "        1.79659826e+06, 1.34004354e+07, 1.36104908e+08, 3.61166799e+05,\n",
       "        3.11400245e+05, 2.13683269e+08, 6.76301715e+05, 2.36446433e+06,\n",
       "        5.42020818e+05, 5.78939556e+04, 9.43398550e+05, 5.29607760e+04,\n",
       "        3.46565501e+05, 2.17050755e+05, 1.14867954e+05, 1.40953531e+04,\n",
       "        1.08203176e+05, 1.42560997e+06, 3.04103588e+04, 2.48138057e+06,\n",
       "        2.68653467e+05, 9.48732327e+03, 1.44588242e+05, 3.00788491e+05,\n",
       "        3.57964610e+05, 2.61094543e+04, 2.10032977e+06, 9.59341323e+03,\n",
       "        8.28549811e+05, 3.56814923e+04, 5.78915468e+04, 9.36311835e+08,\n",
       "        4.85668399e+04, 1.00018799e+06, 3.30118068e+05, 1.62266297e+05,\n",
       "        2.66251073e+05, 1.03766154e+06, 1.26569007e+05, 9.30636838e+06,\n",
       "        2.09191911e+06, 2.74949308e+05, 8.22076001e+05, 5.94263280e+04,\n",
       "        7.73694676e+04, 1.86393393e+05, 2.44046142e+05, 5.90039717e+04,\n",
       "        2.11118400e+05, 8.05449235e+05, 1.46449490e+04, 8.14759534e+05,\n",
       "        9.76310919e+03, 4.27708441e+04, 1.14588256e+06, 6.65866196e+05,\n",
       "        1.78937675e+05, 1.37327983e+06, 5.35712562e+05, 8.13844166e+05,\n",
       "        3.50103926e+04, 7.33731466e+05, 2.52858111e+05, 3.14528170e+05,\n",
       "        2.73011963e+04, 3.24499078e+05, 2.92948983e+05, 1.39375411e+06,\n",
       "        7.63990994e+04, 9.77223902e+04, 1.86917251e+06, 7.55543343e+05,\n",
       "        2.00026310e+05, 4.72083136e+05, 1.59101182e+05, 4.88432769e+05,\n",
       "        3.41851961e+05, 3.58540686e+05, 8.70470438e+03, 1.19374827e+05,\n",
       "        5.37321588e+05, 2.30344659e+04, 1.04177152e+06, 8.84995187e+05,\n",
       "        6.28225208e+05, 2.01428716e+05])]"
      ]
     },
     "execution_count": 14,
     "metadata": {},
     "output_type": "execute_result"
    }
   ],
   "source": [
    "sim[22].calculate_all('M_gas',order_by_halo_number=True)"
   ]
  },
  {
   "cell_type": "markdown",
   "id": "f1e51bd0",
   "metadata": {},
   "source": [
    "In addition to the properties listed via halo.keys(), there may be \"live calculations\" available. These are properties that the database doesn't explicitly store, but which can be calculated entirely from existent properties. There are a number that are available by default (a full list can be found at https://pynbody.github.io/tangos/live_calculation.html), but your db creator may also have made some custom live calculations. Because these can be called at any time (and therefore don't need to have been available at the time that the db was created), they should work on any database you have access to so long as the necessary properties are present. For instance, my branch of tangos includes live calculations to identify satellites and hosts:"
   ]
  },
  {
   "cell_type": "code",
   "execution_count": 16,
   "id": "72490c75",
   "metadata": {},
   "outputs": [
    {
     "name": "stdout",
     "output_type": "stream",
     "text": [
      "[<Halo 'Tempest.9f11c.RD/RD0042/RD0042/halo_5' | NDM=6657 Nstar=0 Ngas=0>\n",
      " <Halo 'Tempest.9f11c.RD/RD0042/RD0042/halo_24' | NDM=510 Nstar=0 Ngas=0>]\n"
     ]
    }
   ],
   "source": [
    "sats = sim[30][2].calculate('Satellites()')\n",
    "print (sats)"
   ]
  },
  {
   "cell_type": "markdown",
   "id": "18432062",
   "metadata": {},
   "source": [
    "This calculation requires only the 'Center', 'Rvir', and 'Mvir' properties. Note that what's been returned is actually an array of halo objects. The properties of the halos are directly accessible through these, so the following two lines are equivalent:"
   ]
  },
  {
   "cell_type": "code",
   "execution_count": 17,
   "id": "87038879",
   "metadata": {},
   "outputs": [
    {
     "data": {
      "text/plain": [
       "array([<Halo 'Tempest.9f11c.RD/RD0042/RD0042/halo_2' | NDM=12818 Nstar=0 Ngas=0>],\n",
       "      dtype=object)"
      ]
     },
     "execution_count": 17,
     "metadata": {},
     "output_type": "execute_result"
    }
   ],
   "source": [
    "sats[1].calculate('Hosts()')"
   ]
  },
  {
   "cell_type": "code",
   "execution_count": 18,
   "id": "d9729848",
   "metadata": {},
   "outputs": [
    {
     "data": {
      "text/plain": [
       "array([<Halo 'Tempest.9f11c.RD/RD0042/RD0042/halo_2' | NDM=12818 Nstar=0 Ngas=0>],\n",
       "      dtype=object)"
      ]
     },
     "execution_count": 18,
     "metadata": {},
     "output_type": "execute_result"
    }
   ],
   "source": [
    "sim[30][5].calculate('Hosts()')"
   ]
  },
  {
   "cell_type": "markdown",
   "id": "96cd2ea4",
   "metadata": {},
   "source": [
    "## Step 5: Travel through time"
   ]
  },
  {
   "cell_type": "markdown",
   "id": "4d99ffc6",
   "metadata": {},
   "source": [
    "Tangos links halos across time either through its own bridging program or by reading in output from a merger tree. This allows us to calculate properties for halos at multiple points in time. We can go just one timestep back:"
   ]
  },
  {
   "cell_type": "code",
   "execution_count": 19,
   "id": "ac7e799f",
   "metadata": {},
   "outputs": [
    {
     "data": {
      "text/plain": [
       "11447050359.71223"
      ]
     },
     "execution_count": 19,
     "metadata": {},
     "output_type": "execute_result"
    }
   ],
   "source": [
    "sim[30][3].calculate('earlier(1).Mvir')"
   ]
  },
  {
   "cell_type": "markdown",
   "id": "0712ebc6",
   "metadata": {},
   "source": [
    "Or we can look at the evolution of this property over every available timestep:"
   ]
  },
  {
   "cell_type": "code",
   "execution_count": 21,
   "id": "291d7cfb",
   "metadata": {},
   "outputs": [
    {
     "data": {
      "text/plain": [
       "[array([1.18024460e+10, 1.14470504e+10, 1.14387050e+10, 1.09735252e+10,\n",
       "        9.71438849e+09, 9.34230216e+09, 9.01453237e+09, 8.19266187e+09,\n",
       "        7.90949640e+09, 7.75251799e+09, 7.50676259e+09, 7.36661871e+09,\n",
       "        7.06388489e+09, 6.86402878e+09, 6.81956835e+09, 6.70992806e+09,\n",
       "        6.75151079e+09, 6.66546763e+09, 6.16014388e+09, 4.20805755e+09,\n",
       "        3.57079137e+09, 2.76561151e+09])]"
      ]
     },
     "execution_count": 21,
     "metadata": {},
     "output_type": "execute_result"
    }
   ],
   "source": [
    "sim[30][3].calculate_for_progenitors('Mvir')"
   ]
  },
  {
   "cell_type": "markdown",
   "id": "fde42e0d",
   "metadata": {},
   "source": [
    "Note: the value for the timestep you started with (RD0042) is the first entry while the value for the earliest timestep this halo is traced to (RD0021) is the last entry."
   ]
  },
  {
   "cell_type": "markdown",
   "id": "a9ef1b69",
   "metadata": {},
   "source": [
    "We can also go forwards in time:"
   ]
  },
  {
   "cell_type": "code",
   "execution_count": 22,
   "id": "bf3a3158",
   "metadata": {},
   "outputs": [
    {
     "data": {
      "text/plain": [
       "Text(0, 0.5, 'log$_{10}$(M$_\\\\mathrm{vir}$/M$_\\\\odot$)')"
      ]
     },
     "execution_count": 22,
     "metadata": {},
     "output_type": "execute_result"
    },
    {
     "data": {
      "image/png": "[encoded data removed]",
      "text/plain": [
       "<Figure size 576x576 with 1 Axes>"
      ]
     },
     "metadata": {
      "needs_background": "light"
     },
     "output_type": "display_data"
    }
   ],
   "source": [
    "mv, t = sim[1][18].calculate_for_descendants('Mvir','t()')\n",
    "plt.figure(figsize=(8,8))\n",
    "plt.plot(t,np.log10(mv),'k-')\n",
    "plt.xlim(0,14)\n",
    "plt.ylim(8.4,9.6)\n",
    "plt.xlabel('Time (Gyr)',fontsize=20)\n",
    "plt.ylabel('log$_{10}$(M$_\\mathrm{vir}$/M$_\\odot$)',fontsize=20)"
   ]
  },
  {
   "cell_type": "markdown",
   "id": "83144e52",
   "metadata": {},
   "source": [
    "We can also look at how mass grows by directly looking at mergers. There are a number of ways to do this. If you just want to know if a halo experienced a merger between one timestep and the previous one, you can just look at the halo keys. If you see more than one 'consistent_trees_link' entry, there's been a recent merger!"
   ]
  },
  {
   "cell_type": "code",
   "execution_count": 23,
   "id": "d8b91cf9",
   "metadata": {},
   "outputs": [
    {
     "data": {
      "text/plain": [
       "['consistent_trees_id',\n",
       " 'Mvir',\n",
       " 'Mtot',\n",
       " 'M200c',\n",
       " 'Rvir',\n",
       " 'X',\n",
       " 'Y',\n",
       " 'Z',\n",
       " 'Spin_DM_B',\n",
       " 'X_cu',\n",
       " 'Y_cu',\n",
       " 'Z_cu',\n",
       " 'Center',\n",
       " 'Center_cu',\n",
       " 'M_gas',\n",
       " 'M_coldgas',\n",
       " 'M_star',\n",
       " 'ContamFrac',\n",
       " 'VX',\n",
       " 'VY',\n",
       " 'VZ',\n",
       " 'consistent_trees_link',\n",
       " 'consistent_trees_link']"
      ]
     },
     "execution_count": 23,
     "metadata": {},
     "output_type": "execute_result"
    }
   ],
   "source": [
    "sim[30][4].keys()"
   ]
  },
  {
   "cell_type": "markdown",
   "id": "9e5d98cd",
   "metadata": {},
   "source": [
    "Consistent_trees_link returns halo objects from the previous timestep that are part of the halo in the current timestep, so you can use it directly to access the properties of the merging halos. "
   ]
  },
  {
   "cell_type": "code",
   "execution_count": 24,
   "id": "b72d64af",
   "metadata": {},
   "outputs": [
    {
     "data": {
      "text/plain": [
       "[<Halo 'Tempest.9f11c.RD/RD0041/RD0041/halo_5' | NDM=7591 Nstar=0 Ngas=0>,\n",
       " <Halo 'Tempest.9f11c.RD/RD0041/RD0041/halo_55' | NDM=216 Nstar=0 Ngas=0>]"
      ]
     },
     "execution_count": 24,
     "metadata": {},
     "output_type": "execute_result"
    }
   ],
   "source": [
    "sim[30][4]['consistent_trees_link']"
   ]
  },
  {
   "cell_type": "markdown",
   "id": "29fbda7e",
   "metadata": {},
   "source": [
    "For instance, we can find out the mass ratio of the merging halos:"
   ]
  },
  {
   "cell_type": "code",
   "execution_count": 25,
   "id": "182c9996",
   "metadata": {},
   "outputs": [
    {
     "data": {
      "text/plain": [
       "49.73221117061974"
      ]
     },
     "execution_count": 25,
     "metadata": {},
     "output_type": "execute_result"
    }
   ],
   "source": [
    "sim[30][4]['consistent_trees_link'][0]['Mvir']/sim[30][4]['consistent_trees_link'][1]['Mvir']"
   ]
  },
  {
   "cell_type": "markdown",
   "id": "fc0a65e2",
   "metadata": {},
   "source": [
    "You can also grab the entire merger history of a halo at once"
   ]
  },
  {
   "cell_type": "code",
   "execution_count": 26,
   "id": "aa55c5f3",
   "metadata": {},
   "outputs": [
    {
     "name": "stdout",
     "output_type": "stream",
     "text": [
      "Redshifts of mergers:\n",
      " [0.         0.         0.04999999 0.04999999 0.04999999 0.09999997\n",
      " 0.09999997 0.09999997 0.09999997 0.09999997 0.09999997 0.09999997\n",
      " 0.09999997 0.09999997 0.09999997 0.09999997 0.09999997 0.09999997\n",
      " 0.09999997 0.19999999 0.19999999 0.19999999 0.19999999 0.19999999\n",
      " 0.24999999 0.24999999 0.24999999 0.24999999 0.24999999 0.24999999\n",
      " 0.24999999 0.29999997 0.29999997 0.34999998 0.39999997 0.39999997\n",
      " 0.39999997 0.39999997 0.44999996 0.44999996 0.44999996 0.44999996\n",
      " 0.44999996 0.44999996 0.49999999 0.49999999 0.49999999 0.49999999\n",
      " 0.59999997 0.59999997 0.69999999 0.69999999 0.69999999 0.69999999\n",
      " 0.69999999 0.69999999 0.69999999 0.69999999 0.69999999 0.79999998\n",
      " 0.79999998 0.79999998 0.79999998 0.79999998 0.79999998 0.79999998\n",
      " 0.79999998 0.79999998 0.79999998 0.79999998 0.79999998 0.79999998\n",
      " 0.79999998 0.89999999 0.89999999 0.89999999 0.89999999 0.89999999\n",
      " 0.89999999 0.99999996 0.99999996 0.99999996 0.99999996 0.99999996\n",
      " 0.99999996 1.09999991 1.09999991 1.09999991 1.09999991 1.09999991\n",
      " 1.09999991 1.09999991 1.09999991 1.09999991 1.09999991 1.19999984\n",
      " 1.19999984 1.19999984 1.19999984 1.19999984 1.2999999  1.2999999\n",
      " 1.2999999  1.2999999  1.2999999  1.2999999  1.2999999  1.39999989\n",
      " 1.39999989 1.39999989 1.39999989 1.39999989 1.39999989 1.39999989\n",
      " 1.49999993 1.49999993 1.49999993 1.49999993 1.49999993 1.49999993\n",
      " 1.49999993 1.49999993 1.49999993 1.49999993 1.49999993 1.49999993\n",
      " 1.49999993 1.74999993 1.74999993 1.74999993 1.74999993 1.99999969\n",
      " 1.99999969 1.99999969 1.99999969 1.99999969 1.99999969 2.24999976\n",
      " 2.24999976 2.49999962 2.49999962 2.49999962 2.49999962 2.49999962\n",
      " 2.49999962]\n",
      "Mass ratios of mergers:\n",
      " [1.64022222e+03 3.39356322e+03 2.09008359e+02 2.95758065e+03\n",
      " 2.50050000e+03 1.13405195e+03 2.36005405e+03 8.39634615e+02\n",
      " 1.22414019e+03 2.42561111e+03 1.25342584e+03 2.33898214e+03\n",
      " 1.19619178e+03 1.70107792e+03 1.31641206e+03 1.94048889e+03\n",
      " 8.85020270e+02 2.25832759e+03 1.95497015e+03 7.83104368e+01\n",
      " 2.97282278e+03 2.15461468e+03 1.03005702e+03 1.86391270e+03\n",
      " 3.80842607e+02 9.50595238e+02 1.87148438e+03 1.05065789e+03\n",
      " 1.72338129e+03 3.19400000e+03 1.84269231e+03 1.88645378e+03\n",
      " 2.31430928e+03 1.19262162e+03 5.33595694e+02 6.40928161e+02\n",
      " 1.07232212e+03 7.19493548e+02 2.23691334e+02 1.92404523e+02\n",
      " 8.11770318e+02 2.52451648e+03 2.83618519e+03 2.47022581e+03\n",
      " 4.17322094e+01 1.98949533e+03 1.93523636e+03 8.86983333e+02\n",
      " 3.67644320e+02 1.97425000e+03 1.48877306e+02 3.01379870e+02\n",
      " 1.42807692e+03 8.10698690e+02 1.47341270e+03 1.12515152e+03\n",
      " 1.54708333e+03 1.71898148e+03 1.58675214e+03 1.63976822e+01\n",
      " 1.44021429e+02 9.53333333e+01 4.60868571e+02 3.97300493e+02\n",
      " 7.43336406e+02 7.83029126e+02 8.40125000e+02 9.95703704e+02\n",
      " 1.69793684e+03 1.59706931e+03 1.13594366e+03 1.87562791e+03\n",
      " 1.87562791e+03 5.61330032e+01 1.48306542e+03 1.31147107e+03\n",
      " 1.84520930e+03 1.84520930e+03 1.46933333e+03 8.73089431e+01\n",
      " 8.00138371e+01 2.13863442e+02 4.15320442e+02 7.09179245e+02\n",
      " 1.29608621e+03 4.51603834e+02 4.38981366e+02 3.00110403e+02\n",
      " 1.29680734e+03 6.54407407e+02 1.07084848e+03 1.13993548e+03\n",
      " 1.17793333e+03 6.82859903e+02 5.19676471e+02 2.69114439e+01\n",
      " 1.09210938e+02 8.22294118e+02 1.25811000e+03 1.57263750e+03\n",
      " 2.21680927e+02 5.33746781e+02 1.16227103e+03 4.97452000e+02\n",
      " 9.42143939e+02 1.35177174e+03 9.07759124e+02 8.42015038e+02\n",
      " 9.65413793e+02 4.04288809e+02 5.51665025e+02 1.03692593e+03\n",
      " 9.65413793e+02 7.83132867e+02 1.12369529e+01 2.38720520e+01\n",
      " 2.88923885e+01 5.69993528e+01 8.46769231e+02 5.50400000e+02\n",
      " 7.86285714e+02 6.52325926e+02 7.21836066e+02 8.07926606e+02\n",
      " 7.21836066e+02 5.91033557e+02 1.02400000e+03 5.45778689e+02\n",
      " 4.68908451e+02 5.89247788e+02 8.32312500e+02 4.50470175e+01\n",
      " 2.22888889e+02 4.25112583e+02 4.61812950e+02 5.63087719e+02\n",
      " 5.99925234e+02 9.58505051e+01 2.69579545e+02 2.63088878e+00\n",
      " 5.25922330e+00 4.80230496e+00 2.39690265e+01 7.12763158e+01\n",
      " 3.47243590e+01]\n",
      "Halos involved in mergers:\n",
      " [(<Halo 'Tempest.9f11c.RD/RD0041/RD0041/halo_1' | NDM=295240 Nstar=0 Ngas=0>, <Halo 'Tempest.9f11c.RD/RD0041/RD0041/halo_63' | NDM=180 Nstar=0 Ngas=0>), (<Halo 'Tempest.9f11c.RD/RD0041/RD0041/halo_1' | NDM=295240 Nstar=0 Ngas=0>, <Halo 'Tempest.9f11c.RD/RD0041/RD0041/halo_122' | NDM=87 Nstar=0 Ngas=0>), (<Halo 'Tempest.9f11c.RD/RD0040/RD0040/halo_1' | NDM=275055 Nstar=0 Ngas=0>, <Halo 'Tempest.9f11c.RD/RD0040/RD0040/halo_13' | NDM=1316 Nstar=0 Ngas=0>), (<Halo 'Tempest.9f11c.RD/RD0040/RD0040/halo_1' | NDM=275055 Nstar=0 Ngas=0>, <Halo 'Tempest.9f11c.RD/RD0040/RD0040/halo_125' | NDM=93 Nstar=0 Ngas=0>), (<Halo 'Tempest.9f11c.RD/RD0040/RD0040/halo_1' | NDM=275055 Nstar=0 Ngas=0>, <Halo 'Tempest.9f11c.RD/RD0040/RD0040/halo_105' | NDM=110 Nstar=0 Ngas=0>), (<Halo 'Tempest.9f11c.RD/RD0039/RD0039/halo_1' | NDM=261966 Nstar=0 Ngas=0>, <Halo 'Tempest.9f11c.RD/RD0039/RD0039/halo_54' | NDM=231 Nstar=0 Ngas=0>), (<Halo 'Tempest.9f11c.RD/RD0039/RD0039/halo_1' | NDM=261966 Nstar=0 Ngas=0>, <Halo 'Tempest.9f11c.RD/RD0039/RD0039/halo_108' | NDM=111 Nstar=0 Ngas=0>), (<Halo 'Tempest.9f11c.RD/RD0039/RD0039/halo_1' | NDM=261966 Nstar=0 Ngas=0>, <Halo 'Tempest.9f11c.RD/RD0039/RD0039/halo_37' | NDM=312 Nstar=0 Ngas=0>), (<Halo 'Tempest.9f11c.RD/RD0039/RD0039/halo_1' | NDM=261966 Nstar=0 Ngas=0>, <Halo 'Tempest.9f11c.RD/RD0039/RD0039/halo_60' | NDM=214 Nstar=0 Ngas=0>), (<Halo 'Tempest.9f11c.RD/RD0039/RD0039/halo_1' | NDM=261966 Nstar=0 Ngas=0>, <Halo 'Tempest.9f11c.RD/RD0039/RD0039/halo_111' | NDM=108 Nstar=0 Ngas=0>), (<Halo 'Tempest.9f11c.RD/RD0039/RD0039/halo_1' | NDM=261966 Nstar=0 Ngas=0>, <Halo 'Tempest.9f11c.RD/RD0039/RD0039/halo_63' | NDM=209 Nstar=0 Ngas=0>), (<Halo 'Tempest.9f11c.RD/RD0039/RD0039/halo_1' | NDM=261966 Nstar=0 Ngas=0>, <Halo 'Tempest.9f11c.RD/RD0039/RD0039/halo_107' | NDM=112 Nstar=0 Ngas=0>), (<Halo 'Tempest.9f11c.RD/RD0039/RD0039/halo_1' | NDM=261966 Nstar=0 Ngas=0>, <Halo 'Tempest.9f11c.RD/RD0039/RD0039/halo_59' | NDM=219 Nstar=0 Ngas=0>), (<Halo 'Tempest.9f11c.RD/RD0039/RD0039/halo_1' | NDM=261966 Nstar=0 Ngas=0>, <Halo 'Tempest.9f11c.RD/RD0039/RD0039/halo_85' | NDM=154 Nstar=0 Ngas=0>), (<Halo 'Tempest.9f11c.RD/RD0039/RD0039/halo_1' | NDM=261966 Nstar=0 Ngas=0>, <Halo 'Tempest.9f11c.RD/RD0039/RD0039/halo_68' | NDM=199 Nstar=0 Ngas=0>), (<Halo 'Tempest.9f11c.RD/RD0039/RD0039/halo_1' | NDM=261966 Nstar=0 Ngas=0>, <Halo 'Tempest.9f11c.RD/RD0039/RD0039/halo_93' | NDM=135 Nstar=0 Ngas=0>), (<Halo 'Tempest.9f11c.RD/RD0039/RD0039/halo_1' | NDM=261966 Nstar=0 Ngas=0>, <Halo 'Tempest.9f11c.RD/RD0039/RD0039/halo_44' | NDM=296 Nstar=0 Ngas=0>), (<Halo 'Tempest.9f11c.RD/RD0039/RD0039/halo_1' | NDM=261966 Nstar=0 Ngas=0>, <Halo 'Tempest.9f11c.RD/RD0039/RD0039/halo_104' | NDM=116 Nstar=0 Ngas=0>), (<Halo 'Tempest.9f11c.RD/RD0039/RD0039/halo_1' | NDM=261966 Nstar=0 Ngas=0>, <Halo 'Tempest.9f11c.RD/RD0039/RD0039/halo_94' | NDM=134 Nstar=0 Ngas=0>), (<Halo 'Tempest.9f11c.RD/RD0037/RD0037/halo_1' | NDM=234853 Nstar=0 Ngas=0>, <Halo 'Tempest.9f11c.RD/RD0037/RD0037/halo_7' | NDM=2999 Nstar=0 Ngas=0>), (<Halo 'Tempest.9f11c.RD/RD0037/RD0037/halo_1' | NDM=234853 Nstar=0 Ngas=0>, <Halo 'Tempest.9f11c.RD/RD0037/RD0037/halo_148' | NDM=79 Nstar=0 Ngas=0>), (<Halo 'Tempest.9f11c.RD/RD0037/RD0037/halo_1' | NDM=234853 Nstar=0 Ngas=0>, <Halo 'Tempest.9f11c.RD/RD0037/RD0037/halo_119' | NDM=109 Nstar=0 Ngas=0>), (<Halo 'Tempest.9f11c.RD/RD0037/RD0037/halo_1' | NDM=234853 Nstar=0 Ngas=0>, <Halo 'Tempest.9f11c.RD/RD0037/RD0037/halo_62' | NDM=228 Nstar=0 Ngas=0>), (<Halo 'Tempest.9f11c.RD/RD0037/RD0037/halo_1' | NDM=234853 Nstar=0 Ngas=0>, <Halo 'Tempest.9f11c.RD/RD0037/RD0037/halo_108' | NDM=126 Nstar=0 Ngas=0>), (<Halo 'Tempest.9f11c.RD/RD0036/RD0036/halo_1' | NDM=239550 Nstar=0 Ngas=0>, <Halo 'Tempest.9f11c.RD/RD0036/RD0036/halo_23' | NDM=629 Nstar=0 Ngas=0>), (<Halo 'Tempest.9f11c.RD/RD0036/RD0036/halo_1' | NDM=239550 Nstar=0 Ngas=0>, <Halo 'Tempest.9f11c.RD/RD0036/RD0036/halo_52' | NDM=252 Nstar=0 Ngas=0>), (<Halo 'Tempest.9f11c.RD/RD0036/RD0036/halo_1' | NDM=239550 Nstar=0 Ngas=0>, <Halo 'Tempest.9f11c.RD/RD0036/RD0036/halo_109' | NDM=128 Nstar=0 Ngas=0>), (<Halo 'Tempest.9f11c.RD/RD0036/RD0036/halo_1' | NDM=239550 Nstar=0 Ngas=0>, <Halo 'Tempest.9f11c.RD/RD0036/RD0036/halo_61' | NDM=228 Nstar=0 Ngas=0>), (<Halo 'Tempest.9f11c.RD/RD0036/RD0036/halo_1' | NDM=239550 Nstar=0 Ngas=0>, <Halo 'Tempest.9f11c.RD/RD0036/RD0036/halo_94' | NDM=139 Nstar=0 Ngas=0>), (<Halo 'Tempest.9f11c.RD/RD0036/RD0036/halo_1' | NDM=239550 Nstar=0 Ngas=0>, <Halo 'Tempest.9f11c.RD/RD0036/RD0036/halo_159' | NDM=75 Nstar=0 Ngas=0>), (<Halo 'Tempest.9f11c.RD/RD0036/RD0036/halo_1' | NDM=239550 Nstar=0 Ngas=0>, <Halo 'Tempest.9f11c.RD/RD0036/RD0036/halo_104' | NDM=130 Nstar=0 Ngas=0>), (<Halo 'Tempest.9f11c.RD/RD0035/RD0035/halo_1' | NDM=224488 Nstar=0 Ngas=0>, <Halo 'Tempest.9f11c.RD/RD0035/RD0035/halo_115' | NDM=119 Nstar=0 Ngas=0>), (<Halo 'Tempest.9f11c.RD/RD0035/RD0035/halo_1' | NDM=224488 Nstar=0 Ngas=0>, <Halo 'Tempest.9f11c.RD/RD0035/RD0035/halo_137' | NDM=97 Nstar=0 Ngas=0>), (<Halo 'Tempest.9f11c.RD/RD0034/RD0034/halo_1' | NDM=220635 Nstar=0 Ngas=0>, <Halo 'Tempest.9f11c.RD/RD0034/RD0034/halo_76' | NDM=185 Nstar=0 Ngas=0>), (<Halo 'Tempest.9f11c.RD/RD0033/RD0033/halo_1' | NDM=223043 Nstar=0 Ngas=0>, <Halo 'Tempest.9f11c.RD/RD0033/RD0033/halo_33' | NDM=418 Nstar=0 Ngas=0>), (<Halo 'Tempest.9f11c.RD/RD0033/RD0033/halo_1' | NDM=223043 Nstar=0 Ngas=0>, <Halo 'Tempest.9f11c.RD/RD0033/RD0033/halo_41' | NDM=348 Nstar=0 Ngas=0>), (<Halo 'Tempest.9f11c.RD/RD0033/RD0033/halo_1' | NDM=223043 Nstar=0 Ngas=0>, <Halo 'Tempest.9f11c.RD/RD0033/RD0033/halo_73' | NDM=208 Nstar=0 Ngas=0>), (<Halo 'Tempest.9f11c.RD/RD0033/RD0033/halo_1' | NDM=223043 Nstar=0 Ngas=0>, <Halo 'Tempest.9f11c.RD/RD0033/RD0033/halo_47' | NDM=310 Nstar=0 Ngas=0>), (<Halo 'Tempest.9f11c.RD/RD0032/RD0032/halo_1' | NDM=229731 Nstar=0 Ngas=0>, <Halo 'Tempest.9f11c.RD/RD0032/RD0032/halo_17' | NDM=1027 Nstar=0 Ngas=0>), (<Halo 'Tempest.9f11c.RD/RD0032/RD0032/halo_1' | NDM=229731 Nstar=0 Ngas=0>, <Halo 'Tempest.9f11c.RD/RD0032/RD0032/halo_16' | NDM=1194 Nstar=0 Ngas=0>), (<Halo 'Tempest.9f11c.RD/RD0032/RD0032/halo_1' | NDM=229731 Nstar=0 Ngas=0>, <Halo 'Tempest.9f11c.RD/RD0032/RD0032/halo_58' | NDM=283 Nstar=0 Ngas=0>), (<Halo 'Tempest.9f11c.RD/RD0032/RD0032/halo_1' | NDM=229731 Nstar=0 Ngas=0>, <Halo 'Tempest.9f11c.RD/RD0032/RD0032/halo_142' | NDM=91 Nstar=0 Ngas=0>), (<Halo 'Tempest.9f11c.RD/RD0032/RD0032/halo_1' | NDM=229731 Nstar=0 Ngas=0>, <Halo 'Tempest.9f11c.RD/RD0032/RD0032/halo_155' | NDM=81 Nstar=0 Ngas=0>), (<Halo 'Tempest.9f11c.RD/RD0032/RD0032/halo_1' | NDM=229731 Nstar=0 Ngas=0>, <Halo 'Tempest.9f11c.RD/RD0032/RD0032/halo_141' | NDM=93 Nstar=0 Ngas=0>), (<Halo 'Tempest.9f11c.RD/RD0031/RD0031/halo_1' | NDM=212876 Nstar=0 Ngas=0>, <Halo 'Tempest.9f11c.RD/RD0031/RD0031/halo_6' | NDM=5101 Nstar=0 Ngas=0>), (<Halo 'Tempest.9f11c.RD/RD0031/RD0031/halo_1' | NDM=212876 Nstar=0 Ngas=0>, <Halo 'Tempest.9f11c.RD/RD0031/RD0031/halo_142' | NDM=107 Nstar=0 Ngas=0>), (<Halo 'Tempest.9f11c.RD/RD0031/RD0031/halo_1' | NDM=212876 Nstar=0 Ngas=0>, <Halo 'Tempest.9f11c.RD/RD0031/RD0031/halo_136' | NDM=110 Nstar=0 Ngas=0>), (<Halo 'Tempest.9f11c.RD/RD0031/RD0031/halo_1' | NDM=212876 Nstar=0 Ngas=0>, <Halo 'Tempest.9f11c.RD/RD0031/RD0031/halo_77' | NDM=240 Nstar=0 Ngas=0>), (<Halo 'Tempest.9f11c.RD/RD0030/RD0030/halo_1' | NDM=197425 Nstar=0 Ngas=0>, <Halo 'Tempest.9f11c.RD/RD0030/RD0030/halo_36' | NDM=537 Nstar=0 Ngas=0>), (<Halo 'Tempest.9f11c.RD/RD0030/RD0030/halo_1' | NDM=197425 Nstar=0 Ngas=0>, <Halo 'Tempest.9f11c.RD/RD0030/RD0030/halo_157' | NDM=100 Nstar=0 Ngas=0>), (<Halo 'Tempest.9f11c.RD/RD0029/RD0029/halo_1' | NDM=185650 Nstar=0 Ngas=0>, <Halo 'Tempest.9f11c.RD/RD0029/RD0029/halo_18' | NDM=1247 Nstar=0 Ngas=0>), (<Halo 'Tempest.9f11c.RD/RD0029/RD0029/halo_1' | NDM=185650 Nstar=0 Ngas=0>, <Halo 'Tempest.9f11c.RD/RD0029/RD0029/halo_34' | NDM=616 Nstar=0 Ngas=0>), (<Halo 'Tempest.9f11c.RD/RD0029/RD0029/halo_1' | NDM=185650 Nstar=0 Ngas=0>, <Halo 'Tempest.9f11c.RD/RD0029/RD0029/halo_121' | NDM=130 Nstar=0 Ngas=0>), (<Halo 'Tempest.9f11c.RD/RD0029/RD0029/halo_1' | NDM=185650 Nstar=0 Ngas=0>, <Halo 'Tempest.9f11c.RD/RD0029/RD0029/halo_75' | NDM=229 Nstar=0 Ngas=0>), (<Halo 'Tempest.9f11c.RD/RD0029/RD0029/halo_1' | NDM=185650 Nstar=0 Ngas=0>, <Halo 'Tempest.9f11c.RD/RD0029/RD0029/halo_125' | NDM=126 Nstar=0 Ngas=0>), (<Halo 'Tempest.9f11c.RD/RD0029/RD0029/halo_1' | NDM=185650 Nstar=0 Ngas=0>, <Halo 'Tempest.9f11c.RD/RD0029/RD0029/halo_102' | NDM=165 Nstar=0 Ngas=0>), (<Halo 'Tempest.9f11c.RD/RD0029/RD0029/halo_1' | NDM=185650 Nstar=0 Ngas=0>, <Halo 'Tempest.9f11c.RD/RD0029/RD0029/halo_135' | NDM=120 Nstar=0 Ngas=0>), (<Halo 'Tempest.9f11c.RD/RD0029/RD0029/halo_1' | NDM=185650 Nstar=0 Ngas=0>, <Halo 'Tempest.9f11c.RD/RD0029/RD0029/halo_149' | NDM=108 Nstar=0 Ngas=0>), (<Halo 'Tempest.9f11c.RD/RD0029/RD0029/halo_1' | NDM=185650 Nstar=0 Ngas=0>, <Halo 'Tempest.9f11c.RD/RD0029/RD0029/halo_141' | NDM=117 Nstar=0 Ngas=0>), (<Halo 'Tempest.9f11c.RD/RD0028/RD0028/halo_1' | NDM=161304 Nstar=0 Ngas=0>, <Halo 'Tempest.9f11c.RD/RD0028/RD0028/halo_2' | NDM=9837 Nstar=0 Ngas=0>), (<Halo 'Tempest.9f11c.RD/RD0028/RD0028/halo_1' | NDM=161304 Nstar=0 Ngas=0>, <Halo 'Tempest.9f11c.RD/RD0028/RD0028/halo_21' | NDM=1120 Nstar=0 Ngas=0>), (<Halo 'Tempest.9f11c.RD/RD0028/RD0028/halo_1' | NDM=161304 Nstar=0 Ngas=0>, <Halo 'Tempest.9f11c.RD/RD0028/RD0028/halo_13' | NDM=1692 Nstar=0 Ngas=0>), (<Halo 'Tempest.9f11c.RD/RD0028/RD0028/halo_1' | NDM=161304 Nstar=0 Ngas=0>, <Halo 'Tempest.9f11c.RD/RD0028/RD0028/halo_57' | NDM=350 Nstar=0 Ngas=0>), (<Halo 'Tempest.9f11c.RD/RD0028/RD0028/halo_1' | NDM=161304 Nstar=0 Ngas=0>, <Halo 'Tempest.9f11c.RD/RD0028/RD0028/halo_48' | NDM=406 Nstar=0 Ngas=0>), (<Halo 'Tempest.9f11c.RD/RD0028/RD0028/halo_1' | NDM=161304 Nstar=0 Ngas=0>, <Halo 'Tempest.9f11c.RD/RD0028/RD0028/halo_86' | NDM=217 Nstar=0 Ngas=0>), (<Halo 'Tempest.9f11c.RD/RD0028/RD0028/halo_1' | NDM=161304 Nstar=0 Ngas=0>, <Halo 'Tempest.9f11c.RD/RD0028/RD0028/halo_89' | NDM=206 Nstar=0 Ngas=0>), (<Halo 'Tempest.9f11c.RD/RD0028/RD0028/halo_1' | NDM=161304 Nstar=0 Ngas=0>, <Halo 'Tempest.9f11c.RD/RD0028/RD0028/halo_93' | NDM=192 Nstar=0 Ngas=0>), (<Halo 'Tempest.9f11c.RD/RD0028/RD0028/halo_1' | NDM=161304 Nstar=0 Ngas=0>, <Halo 'Tempest.9f11c.RD/RD0028/RD0028/halo_108' | NDM=162 Nstar=0 Ngas=0>), (<Halo 'Tempest.9f11c.RD/RD0028/RD0028/halo_1' | NDM=161304 Nstar=0 Ngas=0>, <Halo 'Tempest.9f11c.RD/RD0028/RD0028/halo_159' | NDM=95 Nstar=0 Ngas=0>), (<Halo 'Tempest.9f11c.RD/RD0028/RD0028/halo_1' | NDM=161304 Nstar=0 Ngas=0>, <Halo 'Tempest.9f11c.RD/RD0028/RD0028/halo_153' | NDM=101 Nstar=0 Ngas=0>), (<Halo 'Tempest.9f11c.RD/RD0028/RD0028/halo_1' | NDM=161304 Nstar=0 Ngas=0>, <Halo 'Tempest.9f11c.RD/RD0028/RD0028/halo_121' | NDM=142 Nstar=0 Ngas=0>), (<Halo 'Tempest.9f11c.RD/RD0028/RD0028/halo_1' | NDM=161304 Nstar=0 Ngas=0>, <Halo 'Tempest.9f11c.RD/RD0028/RD0028/halo_172' | NDM=86 Nstar=0 Ngas=0>), (<Halo 'Tempest.9f11c.RD/RD0028/RD0028/halo_1' | NDM=161304 Nstar=0 Ngas=0>, <Halo 'Tempest.9f11c.RD/RD0028/RD0028/halo_171' | NDM=86 Nstar=0 Ngas=0>), (<Halo 'Tempest.9f11c.RD/RD0027/RD0027/halo_1' | NDM=158688 Nstar=0 Ngas=0>, <Halo 'Tempest.9f11c.RD/RD0027/RD0027/halo_7' | NDM=2827 Nstar=0 Ngas=0>), (<Halo 'Tempest.9f11c.RD/RD0027/RD0027/halo_1' | NDM=158688 Nstar=0 Ngas=0>, <Halo 'Tempest.9f11c.RD/RD0027/RD0027/halo_168' | NDM=107 Nstar=0 Ngas=0>), (<Halo 'Tempest.9f11c.RD/RD0027/RD0027/halo_1' | NDM=158688 Nstar=0 Ngas=0>, <Halo 'Tempest.9f11c.RD/RD0027/RD0027/halo_152' | NDM=121 Nstar=0 Ngas=0>), (<Halo 'Tempest.9f11c.RD/RD0027/RD0027/halo_1' | NDM=158688 Nstar=0 Ngas=0>, <Halo 'Tempest.9f11c.RD/RD0027/RD0027/halo_195' | NDM=86 Nstar=0 Ngas=0>), (<Halo 'Tempest.9f11c.RD/RD0027/RD0027/halo_1' | NDM=158688 Nstar=0 Ngas=0>, <Halo 'Tempest.9f11c.RD/RD0027/RD0027/halo_194' | NDM=86 Nstar=0 Ngas=0>), (<Halo 'Tempest.9f11c.RD/RD0027/RD0027/halo_1' | NDM=158688 Nstar=0 Ngas=0>, <Halo 'Tempest.9f11c.RD/RD0027/RD0027/halo_165' | NDM=108 Nstar=0 Ngas=0>), (<Halo 'Tempest.9f11c.RD/RD0026/RD0026/halo_1' | NDM=150346 Nstar=0 Ngas=0>, <Halo 'Tempest.9f11c.RD/RD0026/RD0026/halo_12' | NDM=1722 Nstar=0 Ngas=0>), (<Halo 'Tempest.9f11c.RD/RD0026/RD0026/halo_1' | NDM=150346 Nstar=0 Ngas=0>, <Halo 'Tempest.9f11c.RD/RD0026/RD0026/halo_10' | NDM=1879 Nstar=0 Ngas=0>), (<Halo 'Tempest.9f11c.RD/RD0026/RD0026/halo_1' | NDM=150346 Nstar=0 Ngas=0>, <Halo 'Tempest.9f11c.RD/RD0026/RD0026/halo_32' | NDM=703 Nstar=0 Ngas=0>), (<Halo 'Tempest.9f11c.RD/RD0026/RD0026/halo_1' | NDM=150346 Nstar=0 Ngas=0>, <Halo 'Tempest.9f11c.RD/RD0026/RD0026/halo_59' | NDM=362 Nstar=0 Ngas=0>), (<Halo 'Tempest.9f11c.RD/RD0026/RD0026/halo_1' | NDM=150346 Nstar=0 Ngas=0>, <Halo 'Tempest.9f11c.RD/RD0026/RD0026/halo_99' | NDM=212 Nstar=0 Ngas=0>), (<Halo 'Tempest.9f11c.RD/RD0026/RD0026/halo_1' | NDM=150346 Nstar=0 Ngas=0>, <Halo 'Tempest.9f11c.RD/RD0026/RD0026/halo_152' | NDM=116 Nstar=0 Ngas=0>), (<Halo 'Tempest.9f11c.RD/RD0025/RD0025/halo_1' | NDM=141352 Nstar=0 Ngas=0>, <Halo 'Tempest.9f11c.RD/RD0025/RD0025/halo_69' | NDM=313 Nstar=0 Ngas=0>), (<Halo 'Tempest.9f11c.RD/RD0025/RD0025/halo_1' | NDM=141352 Nstar=0 Ngas=0>, <Halo 'Tempest.9f11c.RD/RD0025/RD0025/halo_66' | NDM=322 Nstar=0 Ngas=0>), (<Halo 'Tempest.9f11c.RD/RD0025/RD0025/halo_1' | NDM=141352 Nstar=0 Ngas=0>, <Halo 'Tempest.9f11c.RD/RD0025/RD0025/halo_47' | NDM=471 Nstar=0 Ngas=0>), (<Halo 'Tempest.9f11c.RD/RD0025/RD0025/halo_1' | NDM=141352 Nstar=0 Ngas=0>, <Halo 'Tempest.9f11c.RD/RD0025/RD0025/halo_164' | NDM=109 Nstar=0 Ngas=0>), (<Halo 'Tempest.9f11c.RD/RD0025/RD0025/halo_1' | NDM=141352 Nstar=0 Ngas=0>, <Halo 'Tempest.9f11c.RD/RD0025/RD0025/halo_94' | NDM=216 Nstar=0 Ngas=0>), (<Halo 'Tempest.9f11c.RD/RD0025/RD0025/halo_1' | NDM=141352 Nstar=0 Ngas=0>, <Halo 'Tempest.9f11c.RD/RD0025/RD0025/halo_146' | NDM=132 Nstar=0 Ngas=0>), (<Halo 'Tempest.9f11c.RD/RD0025/RD0025/halo_1' | NDM=141352 Nstar=0 Ngas=0>, <Halo 'Tempest.9f11c.RD/RD0025/RD0025/halo_152' | NDM=124 Nstar=0 Ngas=0>), (<Halo 'Tempest.9f11c.RD/RD0025/RD0025/halo_1' | NDM=141352 Nstar=0 Ngas=0>, <Halo 'Tempest.9f11c.RD/RD0025/RD0025/halo_158' | NDM=120 Nstar=0 Ngas=0>), (<Halo 'Tempest.9f11c.RD/RD0025/RD0025/halo_1' | NDM=141352 Nstar=0 Ngas=0>, <Halo 'Tempest.9f11c.RD/RD0025/RD0025/halo_97' | NDM=207 Nstar=0 Ngas=0>), (<Halo 'Tempest.9f11c.RD/RD0025/RD0025/halo_1' | NDM=141352 Nstar=0 Ngas=0>, <Halo 'Tempest.9f11c.RD/RD0025/RD0025/halo_78' | NDM=272 Nstar=0 Ngas=0>), (<Halo 'Tempest.9f11c.RD/RD0024/RD0024/halo_1' | NDM=125811 Nstar=0 Ngas=0>, <Halo 'Tempest.9f11c.RD/RD0024/RD0024/halo_4' | NDM=4675 Nstar=0 Ngas=0>), (<Halo 'Tempest.9f11c.RD/RD0024/RD0024/halo_1' | NDM=125811 Nstar=0 Ngas=0>, <Halo 'Tempest.9f11c.RD/RD0024/RD0024/halo_22' | NDM=1152 Nstar=0 Ngas=0>), (<Halo 'Tempest.9f11c.RD/RD0024/RD0024/halo_1' | NDM=125811 Nstar=0 Ngas=0>, <Halo 'Tempest.9f11c.RD/RD0024/RD0024/halo_122' | NDM=153 Nstar=0 Ngas=0>), (<Halo 'Tempest.9f11c.RD/RD0024/RD0024/halo_1' | NDM=125811 Nstar=0 Ngas=0>, <Halo 'Tempest.9f11c.RD/RD0024/RD0024/halo_161' | NDM=100 Nstar=0 Ngas=0>), (<Halo 'Tempest.9f11c.RD/RD0024/RD0024/halo_1' | NDM=125811 Nstar=0 Ngas=0>, <Halo 'Tempest.9f11c.RD/RD0024/RD0024/halo_212' | NDM=80 Nstar=0 Ngas=0>), (<Halo 'Tempest.9f11c.RD/RD0023/RD0023/halo_1' | NDM=124363 Nstar=0 Ngas=0>, <Halo 'Tempest.9f11c.RD/RD0023/RD0023/halo_46' | NDM=561 Nstar=0 Ngas=0>), (<Halo 'Tempest.9f11c.RD/RD0023/RD0023/halo_1' | NDM=124363 Nstar=0 Ngas=0>, <Halo 'Tempest.9f11c.RD/RD0023/RD0023/halo_95' | NDM=233 Nstar=0 Ngas=0>), (<Halo 'Tempest.9f11c.RD/RD0023/RD0023/halo_1' | NDM=124363 Nstar=0 Ngas=0>, <Halo 'Tempest.9f11c.RD/RD0023/RD0023/halo_179' | NDM=107 Nstar=0 Ngas=0>), (<Halo 'Tempest.9f11c.RD/RD0023/RD0023/halo_1' | NDM=124363 Nstar=0 Ngas=0>, <Halo 'Tempest.9f11c.RD/RD0023/RD0023/halo_85' | NDM=250 Nstar=0 Ngas=0>), (<Halo 'Tempest.9f11c.RD/RD0023/RD0023/halo_1' | NDM=124363 Nstar=0 Ngas=0>, <Halo 'Tempest.9f11c.RD/RD0023/RD0023/halo_145' | NDM=132 Nstar=0 Ngas=0>), (<Halo 'Tempest.9f11c.RD/RD0023/RD0023/halo_1' | NDM=124363 Nstar=0 Ngas=0>, <Halo 'Tempest.9f11c.RD/RD0023/RD0023/halo_204' | NDM=92 Nstar=0 Ngas=0>), (<Halo 'Tempest.9f11c.RD/RD0023/RD0023/halo_1' | NDM=124363 Nstar=0 Ngas=0>, <Halo 'Tempest.9f11c.RD/RD0023/RD0023/halo_141' | NDM=137 Nstar=0 Ngas=0>), (<Halo 'Tempest.9f11c.RD/RD0022/RD0022/halo_1' | NDM=111988 Nstar=0 Ngas=0>, <Halo 'Tempest.9f11c.RD/RD0022/RD0022/halo_145' | NDM=133 Nstar=0 Ngas=0>), (<Halo 'Tempest.9f11c.RD/RD0022/RD0022/halo_1' | NDM=111988 Nstar=0 Ngas=0>, <Halo 'Tempest.9f11c.RD/RD0022/RD0022/halo_162' | NDM=116 Nstar=0 Ngas=0>), (<Halo 'Tempest.9f11c.RD/RD0022/RD0022/halo_1' | NDM=111988 Nstar=0 Ngas=0>, <Halo 'Tempest.9f11c.RD/RD0022/RD0022/halo_82' | NDM=277 Nstar=0 Ngas=0>), (<Halo 'Tempest.9f11c.RD/RD0022/RD0022/halo_1' | NDM=111988 Nstar=0 Ngas=0>, <Halo 'Tempest.9f11c.RD/RD0022/RD0022/halo_100' | NDM=203 Nstar=0 Ngas=0>), (<Halo 'Tempest.9f11c.RD/RD0022/RD0022/halo_1' | NDM=111988 Nstar=0 Ngas=0>, <Halo 'Tempest.9f11c.RD/RD0022/RD0022/halo_173' | NDM=108 Nstar=0 Ngas=0>), (<Halo 'Tempest.9f11c.RD/RD0022/RD0022/halo_1' | NDM=111988 Nstar=0 Ngas=0>, <Halo 'Tempest.9f11c.RD/RD0022/RD0022/halo_163' | NDM=116 Nstar=0 Ngas=0>), (<Halo 'Tempest.9f11c.RD/RD0022/RD0022/halo_1' | NDM=111988 Nstar=0 Ngas=0>, <Halo 'Tempest.9f11c.RD/RD0022/RD0022/halo_134' | NDM=143 Nstar=0 Ngas=0>), (<Halo 'Tempest.9f11c.RD/RD0021/RD0021/halo_1' | NDM=88064 Nstar=0 Ngas=0>, <Halo 'Tempest.9f11c.RD/RD0021/RD0021/halo_3' | NDM=7837 Nstar=0 Ngas=0>), (<Halo 'Tempest.9f11c.RD/RD0021/RD0021/halo_1' | NDM=88064 Nstar=0 Ngas=0>, <Halo 'Tempest.9f11c.RD/RD0021/RD0021/halo_7' | NDM=3689 Nstar=0 Ngas=0>), (<Halo 'Tempest.9f11c.RD/RD0021/RD0021/halo_1' | NDM=88064 Nstar=0 Ngas=0>, <Halo 'Tempest.9f11c.RD/RD0021/RD0021/halo_9' | NDM=3048 Nstar=0 Ngas=0>), (<Halo 'Tempest.9f11c.RD/RD0021/RD0021/halo_1' | NDM=88064 Nstar=0 Ngas=0>, <Halo 'Tempest.9f11c.RD/RD0021/RD0021/halo_14' | NDM=1545 Nstar=0 Ngas=0>), (<Halo 'Tempest.9f11c.RD/RD0021/RD0021/halo_1' | NDM=88064 Nstar=0 Ngas=0>, <Halo 'Tempest.9f11c.RD/RD0021/RD0021/halo_188' | NDM=104 Nstar=0 Ngas=0>), (<Halo 'Tempest.9f11c.RD/RD0021/RD0021/halo_1' | NDM=88064 Nstar=0 Ngas=0>, <Halo 'Tempest.9f11c.RD/RD0021/RD0021/halo_128' | NDM=160 Nstar=0 Ngas=0>), (<Halo 'Tempest.9f11c.RD/RD0021/RD0021/halo_1' | NDM=88064 Nstar=0 Ngas=0>, <Halo 'Tempest.9f11c.RD/RD0021/RD0021/halo_175' | NDM=112 Nstar=0 Ngas=0>), (<Halo 'Tempest.9f11c.RD/RD0021/RD0021/halo_1' | NDM=88064 Nstar=0 Ngas=0>, <Halo 'Tempest.9f11c.RD/RD0021/RD0021/halo_141' | NDM=135 Nstar=0 Ngas=0>), (<Halo 'Tempest.9f11c.RD/RD0021/RD0021/halo_1' | NDM=88064 Nstar=0 Ngas=0>, <Halo 'Tempest.9f11c.RD/RD0021/RD0021/halo_165' | NDM=122 Nstar=0 Ngas=0>), (<Halo 'Tempest.9f11c.RD/RD0021/RD0021/halo_1' | NDM=88064 Nstar=0 Ngas=0>, <Halo 'Tempest.9f11c.RD/RD0021/RD0021/halo_179' | NDM=109 Nstar=0 Ngas=0>), (<Halo 'Tempest.9f11c.RD/RD0021/RD0021/halo_1' | NDM=88064 Nstar=0 Ngas=0>, <Halo 'Tempest.9f11c.RD/RD0021/RD0021/halo_164' | NDM=122 Nstar=0 Ngas=0>), (<Halo 'Tempest.9f11c.RD/RD0021/RD0021/halo_1' | NDM=88064 Nstar=0 Ngas=0>, <Halo 'Tempest.9f11c.RD/RD0021/RD0021/halo_131' | NDM=149 Nstar=0 Ngas=0>), (<Halo 'Tempest.9f11c.RD/RD0021/RD0021/halo_1' | NDM=88064 Nstar=0 Ngas=0>, <Halo 'Tempest.9f11c.RD/RD0021/RD0021/halo_220' | NDM=86 Nstar=0 Ngas=0>), (<Halo 'Tempest.9f11c.RD/RD0020/RD0020/halo_1' | NDM=66585 Nstar=0 Ngas=0>, <Halo 'Tempest.9f11c.RD/RD0020/RD0020/halo_155' | NDM=122 Nstar=0 Ngas=0>), (<Halo 'Tempest.9f11c.RD/RD0020/RD0020/halo_1' | NDM=66585 Nstar=0 Ngas=0>, <Halo 'Tempest.9f11c.RD/RD0020/RD0020/halo_134' | NDM=142 Nstar=0 Ngas=0>), (<Halo 'Tempest.9f11c.RD/RD0020/RD0020/halo_1' | NDM=66585 Nstar=0 Ngas=0>, <Halo 'Tempest.9f11c.RD/RD0020/RD0020/halo_167' | NDM=113 Nstar=0 Ngas=0>), (<Halo 'Tempest.9f11c.RD/RD0020/RD0020/halo_1' | NDM=66585 Nstar=0 Ngas=0>, <Halo 'Tempest.9f11c.RD/RD0020/RD0020/halo_231' | NDM=80 Nstar=0 Ngas=0>), (<Halo 'Tempest.9f11c.RD/RD0019/RD0019/halo_1' | NDM=64192 Nstar=0 Ngas=0>, <Halo 'Tempest.9f11c.RD/RD0019/RD0019/halo_16' | NDM=1425 Nstar=0 Ngas=0>), (<Halo 'Tempest.9f11c.RD/RD0019/RD0019/halo_1' | NDM=64192 Nstar=0 Ngas=0>, <Halo 'Tempest.9f11c.RD/RD0019/RD0019/halo_72' | NDM=288 Nstar=0 Ngas=0>), (<Halo 'Tempest.9f11c.RD/RD0019/RD0019/halo_1' | NDM=64192 Nstar=0 Ngas=0>, <Halo 'Tempest.9f11c.RD/RD0019/RD0019/halo_131' | NDM=151 Nstar=0 Ngas=0>), (<Halo 'Tempest.9f11c.RD/RD0019/RD0019/halo_1' | NDM=64192 Nstar=0 Ngas=0>, <Halo 'Tempest.9f11c.RD/RD0019/RD0019/halo_145' | NDM=139 Nstar=0 Ngas=0>), (<Halo 'Tempest.9f11c.RD/RD0019/RD0019/halo_1' | NDM=64192 Nstar=0 Ngas=0>, <Halo 'Tempest.9f11c.RD/RD0019/RD0019/halo_175' | NDM=114 Nstar=0 Ngas=0>), (<Halo 'Tempest.9f11c.RD/RD0019/RD0019/halo_1' | NDM=64192 Nstar=0 Ngas=0>, <Halo 'Tempest.9f11c.RD/RD0019/RD0019/halo_188' | NDM=107 Nstar=0 Ngas=0>), (<Halo 'Tempest.9f11c.RD/RD0018/RD0018/halo_1' | NDM=47446 Nstar=0 Ngas=0>, <Halo 'Tempest.9f11c.RD/RD0018/RD0018/halo_49' | NDM=495 Nstar=0 Ngas=0>), (<Halo 'Tempest.9f11c.RD/RD0018/RD0018/halo_1' | NDM=47446 Nstar=0 Ngas=0>, <Halo 'Tempest.9f11c.RD/RD0018/RD0018/halo_106' | NDM=176 Nstar=0 Ngas=0>), (<Halo 'Tempest.9f11c.RD/RD0017/RD0017/halo_3' | NDM=5417 Nstar=0 Ngas=0>, <Halo 'Tempest.9f11c.RD/RD0017/RD0017/halo_11' | NDM=2059 Nstar=0 Ngas=0>), (<Halo 'Tempest.9f11c.RD/RD0017/RD0017/halo_3' | NDM=5417 Nstar=0 Ngas=0>, <Halo 'Tempest.9f11c.RD/RD0017/RD0017/halo_23' | NDM=1030 Nstar=0 Ngas=0>), (<Halo 'Tempest.9f11c.RD/RD0017/RD0017/halo_3' | NDM=5417 Nstar=0 Ngas=0>, <Halo 'Tempest.9f11c.RD/RD0017/RD0017/halo_22' | NDM=1128 Nstar=0 Ngas=0>), (<Halo 'Tempest.9f11c.RD/RD0017/RD0017/halo_3' | NDM=5417 Nstar=0 Ngas=0>, <Halo 'Tempest.9f11c.RD/RD0017/RD0017/halo_84' | NDM=226 Nstar=0 Ngas=0>), (<Halo 'Tempest.9f11c.RD/RD0017/RD0017/halo_3' | NDM=5417 Nstar=0 Ngas=0>, <Halo 'Tempest.9f11c.RD/RD0017/RD0017/halo_239' | NDM=76 Nstar=0 Ngas=0>), (<Halo 'Tempest.9f11c.RD/RD0017/RD0017/halo_3' | NDM=5417 Nstar=0 Ngas=0>, <Halo 'Tempest.9f11c.RD/RD0017/RD0017/halo_118' | NDM=156 Nstar=0 Ngas=0>)]\n"
     ]
    }
   ],
   "source": [
    "import tangos.examples.mergers as tmer\n",
    "\n",
    "z,rat,hobj = tmer.get_mergers_of_major_progenitor(sim[30][1])\n",
    "print ('Redshifts of mergers:\\n',z)\n",
    "print ('Mass ratios of mergers:\\n',rat)\n",
    "print ('Halos involved in mergers:\\n',hobj)"
   ]
  },
  {
   "cell_type": "markdown",
   "id": "1d3bdb76",
   "metadata": {},
   "source": [
    "This is a fairly complex merger history and likely better processed visually. We can do that by launching tangos' web server:<br>\n",
    "\\>>tangos serve <br>\n",
    "You should see something like \"Serving on http://555.5.5.5:6543\". Enter the address into your web browser and click on the simulation you want, followed by the timestep and the halo. Clicking on the circle next to \"merger tree\" will give you a visual representation of your halo's merger history. You can also plot just about every other quantity in the database against time (or any other quantity), too!"
   ]
  },
  {
   "cell_type": "markdown",
   "id": "a1ea2080",
   "metadata": {},
   "source": [
    "## Step 6: Use tangos and yt together"
   ]
  },
  {
   "cell_type": "markdown",
   "id": "2f17001f",
   "metadata": {},
   "source": [
    "Let's go back to the halo that we traced forwards in time a few steps ago. We can see that this halo loses mass, presumably through tidal stripping. Thus far, we've done all of our analysis without accessing the actual simulation data or loading in yt. However, if we want to visualize the tidal debris, we'll need to use both tangos and yt. Using tangos, we can identify when the halo was at its maximum mass, where it was located at that time, and how large it was."
   ]
  },
  {
   "cell_type": "code",
   "execution_count": null,
   "id": "86ff49ea",
   "metadata": {},
   "outputs": [],
   "source": [
    "hn,rvir,cen,mv = sim[1][18].calculate_for_descendants('halo_number()','Rvir','Center_cu','Mvir')\n",
    "maxm = np.argmax(mv)\n",
    "print (sim[int(1+maxm)][int(hn[maxm])])\n",
    "r = rvir[maxm]\n",
    "c = cen[maxm]"
   ]
  },
  {
   "cell_type": "markdown",
   "id": "2acee05c",
   "metadata": {},
   "source": [
    "Using yt, we can read in all of the particles that belonged to the halo at this time by creating a sphere of radius r at point c."
   ]
  },
  {
   "cell_type": "code",
   "execution_count": null,
   "id": "37bb3fc1",
   "metadata": {},
   "outputs": [],
   "source": [
    "import yt\n",
    "from yt.units.yt_array import YTQuantity\n",
    "from yt.data_objects.particle_filters import add_particle_filter\n",
    "\n",
    "ds = yt.load('/Volumes/Rapid/Tempest/nref9f_nref11c/RD0034/RD0034')\n",
    "ad = ds.all_data()\n",
    "\n",
    "halo = ds.sphere(center=c,radius=YTQuantity(r,'kpc'))\n",
    "\n",
    "h_stars = halo['nbody','particle_index'][halo['nbody','particle_type']==2]\n",
    "h_dm = halo['nbody','particle_index'][halo['nbody','particle_type']==4]"
   ]
  },
  {
   "cell_type": "markdown",
   "id": "43495524",
   "metadata": {},
   "source": [
    "Now let's see where they are at z=0 with respect to Tempest:"
   ]
  },
  {
   "cell_type": "code",
   "execution_count": null,
   "id": "86234c03",
   "metadata": {},
   "outputs": [],
   "source": [
    "def HaloStars(pfilter, data):\n",
    "    filter = np.isin(data['nbody','particle_index'],h_stars)\n",
    "    return filter\n",
    "\n",
    "add_particle_filter(\"halo_stars\", function=HaloStars, filtered_type='nbody', \\\n",
    "                    requires=[\"particle_index\"])\n",
    "\n",
    "def HaloDM(pfilter, data):\n",
    "    filter = np.isin(data['nbody','particle_index'],h_dm) \n",
    "    return filter\n",
    "\n",
    "add_particle_filter(\"halo_dm\", function=HaloDM, filtered_type='nbody', \\\n",
    "                    requires=[\"particle_index\"])"
   ]
  },
  {
   "cell_type": "code",
   "execution_count": null,
   "id": "57360a0c",
   "metadata": {},
   "outputs": [],
   "source": [
    "ds = yt.load('/Volumes/Rapid/Tempest/nref9f_nref11c/RD0042/RD0042')\n",
    "ad = ds.all_data()\n",
    "\n",
    "ds.add_particle_filter('halo_stars')\n",
    "ds.add_particle_filter('halo_dm')\n",
    "\n",
    "TempestCenter = sim[30][1]['Center_cu']\n",
    "TempestRadius = sim[30][1]['Rvir']\n",
    "\n",
    "GuessReg = ds.sphere(TempestCenter,radius=(500,'kpc'))\n",
    "\n",
    "xpos_dm = YTQuantity(sim[30][1]['X']*1000,'kpc')-GuessReg['halo_dm','particle_position_x'].in_units('kpc')\n",
    "ypos_dm = YTQuantity(sim[30][1]['Y']*1000,'kpc')-GuessReg['halo_dm','particle_position_y'].in_units('kpc')\n",
    "zpos_dm = YTQuantity(sim[30][1]['Z']*1000,'kpc')-GuessReg['halo_dm','particle_position_z'].in_units('kpc')\n",
    "xpos_stars = YTQuantity(sim[30][1]['X']*1000,'kpc')-GuessReg['halo_stars','particle_position_x'].in_units('kpc')\n",
    "ypos_stars = YTQuantity(sim[30][1]['Y']*1000,'kpc')-GuessReg['halo_stars','particle_position_y'].in_units('kpc')\n",
    "zpos_stars = YTQuantity(sim[30][1]['Z']*1000,'kpc')-GuessReg['halo_stars','particle_position_z'].in_units('kpc')"
   ]
  },
  {
   "cell_type": "code",
   "execution_count": null,
   "id": "fe9dc40a",
   "metadata": {},
   "outputs": [],
   "source": [
    "f1 = plt.figure(figsize=(8,8))\n",
    "plt.plot(xpos_dm,ypos_dm,'k.',markersize=10)\n",
    "plt.plot(xpos_stars,ypos_stars,'r.',markersize=8)\n",
    "Tempcir = plt.Circle((0,0),TempestRadius,color='b',fill=False)\n",
    "f1.gca().add_artist(Tempcir)\n",
    "plt.xlabel('x/kpc', fontsize=20)\n",
    "plt.ylabel('y/kpc', fontsize=20)\n",
    "plt.show()\n",
    "\n",
    "f2 = plt.figure(figsize=(8,8))\n",
    "plt.plot(ypos_dm,zpos_dm,'k.',markersize=10)\n",
    "plt.plot(ypos_stars,zpos_stars,'r.',markersize=8)\n",
    "Tempcir = plt.Circle((0,0),TempestRadius,color='b',fill=False)\n",
    "f2.gca().add_artist(Tempcir)\n",
    "plt.xlabel('y/kpc', fontsize=20)\n",
    "plt.ylabel('z/kpc', fontsize=20)\n",
    "plt.show()\n",
    "\n",
    "f2 = plt.figure(figsize=(8,8))\n",
    "plt.plot(xpos_dm,zpos_dm,'k.',markersize=10)\n",
    "plt.plot(xpos_stars,zpos_stars,'r.',markersize=8)\n",
    "Tempcir = plt.Circle((0,0),TempestRadius,color='b',fill=False)\n",
    "f2.gca().add_artist(Tempcir)\n",
    "plt.xlabel('x/kpc', fontsize=20)\n",
    "plt.ylabel('z/kpc', fontsize=20)\n",
    "plt.show()"
   ]
  },
  {
   "cell_type": "markdown",
   "id": "7850fa65",
   "metadata": {},
   "source": [
    "**There are also plenty of other ways to use tangos! A more complete set of tutorials can be found at** https://pynbody.github.io/tangos/data_exploration.html"
   ]
  }
 ],
 "metadata": {
  "kernelspec": {
   "display_name": "Python 3 (ipykernel)",
   "language": "python",
   "name": "python3"
  },
  "language_info": {
   "codemirror_mode": {
    "name": "ipython",
    "version": 3
   },
   "file_extension": ".py",
   "mimetype": "text/x-python",
   "name": "python",
   "nbconvert_exporter": "python",
   "pygments_lexer": "ipython3",
   "version": "3.9.13"
  }
 },
 "nbformat": 4,
 "nbformat_minor": 5
}
