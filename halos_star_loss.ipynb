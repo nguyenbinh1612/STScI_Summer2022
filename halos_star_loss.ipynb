{
 "cells": [
  {
   "cell_type": "code",
   "execution_count": 1,
   "id": "21144156",
   "metadata": {},
   "outputs": [],
   "source": [
    "import h5py\n",
    "import tangos as db\n",
    "import numpy as np\n",
    "import matplotlib.pyplot as plt\n",
    "from mpl_toolkits.axes_grid1 import AxesGrid\n",
    "import random\n",
    "\n",
    "import foggie.utils.foggie_load as fog\n",
    "import yt\n",
    "from yt.units.yt_array import YTQuantity, YTArray\n",
    "from yt.data_objects.particle_filters import add_particle_filter\n",
    "\n",
    "import glob\n",
    "from tangos.examples.misc import timestep_index"
   ]
  },
  {
   "cell_type": "code",
   "execution_count": 2,
   "id": "e6b744b3",
   "metadata": {},
   "outputs": [],
   "source": [
    "tslist = glob.glob('/Volumes/TempestTimeSteps/DD????/DD????') \n",
    "tslist.sort()"
   ]
  },
  {
   "cell_type": "code",
   "execution_count": 3,
   "id": "64989f60",
   "metadata": {},
   "outputs": [
    {
     "data": {
      "text/plain": [
       "[<Simulation(\"Tempest.9f11c.all.DD\")>]"
      ]
     },
     "execution_count": 3,
     "metadata": {},
     "output_type": "execute_result"
    }
   ],
   "source": [
    "db.all_simulations()"
   ]
  },
  {
   "cell_type": "code",
   "execution_count": 4,
   "id": "ec9c64c7",
   "metadata": {},
   "outputs": [],
   "source": [
    "sim = db.get_simulation('Tempest.9f11c.all.DD')"
   ]
  },
  {
   "cell_type": "code",
   "execution_count": 5,
   "id": "c66e2776",
   "metadata": {
    "scrolled": true
   },
   "outputs": [
    {
     "name": "stderr",
     "output_type": "stream",
     "text": [
      "yt : [INFO     ] 2022-07-15 10:06:52,813 Parameters: current_time              = 44.816527818285\n",
      "yt : [INFO     ] 2022-07-15 10:06:52,817 Parameters: domain_dimensions         = [256 256 256]\n",
      "yt : [INFO     ] 2022-07-15 10:06:52,820 Parameters: domain_left_edge          = [0. 0. 0.]\n",
      "yt : [INFO     ] 2022-07-15 10:06:52,823 Parameters: domain_right_edge         = [1. 1. 1.]\n",
      "yt : [INFO     ] 2022-07-15 10:06:52,824 Parameters: cosmological_simulation   = 1\n",
      "yt : [INFO     ] 2022-07-15 10:06:52,824 Parameters: current_redshift          = 5.9180766004715\n",
      "yt : [INFO     ] 2022-07-15 10:06:52,825 Parameters: omega_lambda              = 0.715\n",
      "yt : [INFO     ] 2022-07-15 10:06:52,826 Parameters: omega_matter              = 0.285\n",
      "yt : [INFO     ] 2022-07-15 10:06:52,827 Parameters: omega_radiation           = 0.0\n",
      "yt : [INFO     ] 2022-07-15 10:06:52,828 Parameters: hubble_constant           = 0.695\n"
     ]
    },
    {
     "name": "stdout",
     "output_type": "stream",
     "text": [
      "Opening snapshot /Volumes/TempestTimeSteps/DD0047/DD0047\n",
      "get_refine_box: using this location:      col1       col2     col3     col4     col5     col6     col7   col8\n",
      "------------- -------- -------- -------- -------- -------- -------- ----\n",
      "5.91807660047 0.495372 0.494815 0.499965 0.497372 0.496815 0.501965    9\n"
     ]
    },
    {
     "name": "stderr",
     "output_type": "stream",
     "text": [
      "Parsing Hierarchy : 100%|█████████████████| 2486/2486 [00:00<00:00, 6554.21it/s]\n",
      "yt : [INFO     ] 2022-07-15 10:06:53,451 Gathering a field list (this may take a moment.)\n",
      "yt : [WARNING  ] 2022-07-15 10:06:56,886 The stars particle filter already exists. Overriding.\n",
      "yt : [WARNING  ] 2022-07-15 10:06:56,886 The DM particle filter already exists. Overriding.\n"
     ]
    },
    {
     "name": "stdout",
     "output_type": "stream",
     "text": [
      "Pulling halo center from catalog file\n",
      "Opening snapshot /Volumes/TempestTimeSteps/DD0067/DD0067\n"
     ]
    },
    {
     "name": "stderr",
     "output_type": "stream",
     "text": [
      "yt : [INFO     ] 2022-07-15 10:06:57,037 Parameters: current_time              = 49.816527818285\n",
      "yt : [INFO     ] 2022-07-15 10:06:57,046 Parameters: domain_dimensions         = [256 256 256]\n",
      "yt : [INFO     ] 2022-07-15 10:06:57,051 Parameters: domain_left_edge          = [0. 0. 0.]\n",
      "yt : [INFO     ] 2022-07-15 10:06:57,057 Parameters: domain_right_edge         = [1. 1. 1.]\n",
      "yt : [INFO     ] 2022-07-15 10:06:57,058 Parameters: cosmological_simulation   = 1\n",
      "yt : [INFO     ] 2022-07-15 10:06:57,059 Parameters: current_redshift          = 5.4457876966805\n",
      "yt : [INFO     ] 2022-07-15 10:06:57,060 Parameters: omega_lambda              = 0.715\n",
      "yt : [INFO     ] 2022-07-15 10:06:57,061 Parameters: omega_matter              = 0.285\n",
      "yt : [INFO     ] 2022-07-15 10:06:57,062 Parameters: omega_radiation           = 0.0\n",
      "yt : [INFO     ] 2022-07-15 10:06:57,064 Parameters: hubble_constant           = 0.695\n"
     ]
    },
    {
     "name": "stdout",
     "output_type": "stream",
     "text": [
      "get_refine_box: using this location:      col1       col2     col3     col4     col5     col6     col7   col8\n",
      "------------- -------- -------- -------- -------- -------- -------- ----\n",
      "5.44578769668 0.495286 0.494378 0.499998 0.497286 0.496378 0.501998    9\n"
     ]
    },
    {
     "name": "stderr",
     "output_type": "stream",
     "text": [
      "Parsing Hierarchy : 100%|█████████████████| 2552/2552 [00:00<00:00, 7365.85it/s]\n",
      "yt : [INFO     ] 2022-07-15 10:06:57,683 Gathering a field list (this may take a moment.)\n",
      "yt : [WARNING  ] 2022-07-15 10:07:02,109 The stars particle filter already exists. Overriding.\n",
      "yt : [WARNING  ] 2022-07-15 10:07:02,111 The DM particle filter already exists. Overriding.\n"
     ]
    },
    {
     "name": "stdout",
     "output_type": "stream",
     "text": [
      "Pulling halo center from catalog file\n",
      "Opening snapshot /Volumes/TempestTimeSteps/DD0087/DD0087\n"
     ]
    },
    {
     "name": "stderr",
     "output_type": "stream",
     "text": [
      "yt : [INFO     ] 2022-07-15 10:07:02,430 Parameters: current_time              = 54.816527818285\n",
      "yt : [INFO     ] 2022-07-15 10:07:02,440 Parameters: domain_dimensions         = [256 256 256]\n",
      "yt : [INFO     ] 2022-07-15 10:07:02,445 Parameters: domain_left_edge          = [0. 0. 0.]\n",
      "yt : [INFO     ] 2022-07-15 10:07:02,454 Parameters: domain_right_edge         = [1. 1. 1.]\n",
      "yt : [INFO     ] 2022-07-15 10:07:02,455 Parameters: cosmological_simulation   = 1\n",
      "yt : [INFO     ] 2022-07-15 10:07:02,456 Parameters: current_redshift          = 5.0462906237837\n",
      "yt : [INFO     ] 2022-07-15 10:07:02,458 Parameters: omega_lambda              = 0.715\n",
      "yt : [INFO     ] 2022-07-15 10:07:02,459 Parameters: omega_matter              = 0.285\n",
      "yt : [INFO     ] 2022-07-15 10:07:02,460 Parameters: omega_radiation           = 0.0\n",
      "yt : [INFO     ] 2022-07-15 10:07:02,461 Parameters: hubble_constant           = 0.695\n"
     ]
    },
    {
     "name": "stdout",
     "output_type": "stream",
     "text": [
      "get_refine_box: using this location:      col1       col2     col3     col4     col5     col6     col7   col8\n",
      "------------- -------- -------- -------- -------- -------- -------- ----\n",
      "5.04629062378 0.495184 0.493952 0.500023 0.497184 0.495952 0.502023    9\n"
     ]
    },
    {
     "name": "stderr",
     "output_type": "stream",
     "text": [
      "Parsing Hierarchy : 100%|█████████████████| 3377/3377 [00:00<00:00, 4578.92it/s]\n",
      "yt : [INFO     ] 2022-07-15 10:07:03,530 Gathering a field list (this may take a moment.)\n",
      "yt : [WARNING  ] 2022-07-15 10:07:07,926 The stars particle filter already exists. Overriding.\n",
      "yt : [WARNING  ] 2022-07-15 10:07:07,927 The DM particle filter already exists. Overriding.\n"
     ]
    },
    {
     "name": "stdout",
     "output_type": "stream",
     "text": [
      "Pulling halo center from catalog file\n",
      "Opening snapshot /Volumes/TempestTimeSteps/DD0107/DD0107\n"
     ]
    },
    {
     "name": "stderr",
     "output_type": "stream",
     "text": [
      "yt : [INFO     ] 2022-07-15 10:07:08,184 Parameters: current_time              = 59.816527818285\n",
      "yt : [INFO     ] 2022-07-15 10:07:08,189 Parameters: domain_dimensions         = [256 256 256]\n",
      "yt : [INFO     ] 2022-07-15 10:07:08,195 Parameters: domain_left_edge          = [0. 0. 0.]\n",
      "yt : [INFO     ] 2022-07-15 10:07:08,201 Parameters: domain_right_edge         = [1. 1. 1.]\n",
      "yt : [INFO     ] 2022-07-15 10:07:08,203 Parameters: cosmological_simulation   = 1\n",
      "yt : [INFO     ] 2022-07-15 10:07:08,204 Parameters: current_redshift          = 4.7031121100648\n",
      "yt : [INFO     ] 2022-07-15 10:07:08,206 Parameters: omega_lambda              = 0.715\n",
      "yt : [INFO     ] 2022-07-15 10:07:08,209 Parameters: omega_matter              = 0.285\n",
      "yt : [INFO     ] 2022-07-15 10:07:08,211 Parameters: omega_radiation           = 0.0\n",
      "yt : [INFO     ] 2022-07-15 10:07:08,212 Parameters: hubble_constant           = 0.695\n"
     ]
    },
    {
     "name": "stdout",
     "output_type": "stream",
     "text": [
      "get_refine_box: using this location:      col1       col2     col3     col4     col5     col6     col7   col8\n",
      "------------- -------- -------- -------- -------- -------- -------- ----\n",
      "4.70311211006 0.495072 0.493546 0.500035 0.497072 0.495546 0.502035    9\n"
     ]
    },
    {
     "name": "stderr",
     "output_type": "stream",
     "text": [
      "Parsing Hierarchy : 100%|█████████████████| 2935/2935 [00:00<00:00, 9255.52it/s]\n",
      "yt : [INFO     ] 2022-07-15 10:07:08,779 Gathering a field list (this may take a moment.)\n",
      "yt : [WARNING  ] 2022-07-15 10:07:12,357 The stars particle filter already exists. Overriding.\n",
      "yt : [WARNING  ] 2022-07-15 10:07:12,358 The DM particle filter already exists. Overriding.\n"
     ]
    },
    {
     "name": "stdout",
     "output_type": "stream",
     "text": [
      "Pulling halo center from catalog file\n",
      "Opening snapshot /Volumes/TempestTimeSteps/DD0127/DD0127\n"
     ]
    },
    {
     "name": "stderr",
     "output_type": "stream",
     "text": [
      "yt : [INFO     ] 2022-07-15 10:07:12,543 Parameters: current_time              = 64.816527818285\n",
      "yt : [INFO     ] 2022-07-15 10:07:12,547 Parameters: domain_dimensions         = [256 256 256]\n",
      "yt : [INFO     ] 2022-07-15 10:07:12,550 Parameters: domain_left_edge          = [0. 0. 0.]\n",
      "yt : [INFO     ] 2022-07-15 10:07:12,553 Parameters: domain_right_edge         = [1. 1. 1.]\n",
      "yt : [INFO     ] 2022-07-15 10:07:12,554 Parameters: cosmological_simulation   = 1\n",
      "yt : [INFO     ] 2022-07-15 10:07:12,555 Parameters: current_redshift          = 4.4045037292232\n",
      "yt : [INFO     ] 2022-07-15 10:07:12,556 Parameters: omega_lambda              = 0.715\n",
      "yt : [INFO     ] 2022-07-15 10:07:12,556 Parameters: omega_matter              = 0.285\n",
      "yt : [INFO     ] 2022-07-15 10:07:12,557 Parameters: omega_radiation           = 0.0\n",
      "yt : [INFO     ] 2022-07-15 10:07:12,558 Parameters: hubble_constant           = 0.695\n"
     ]
    },
    {
     "name": "stdout",
     "output_type": "stream",
     "text": [
      "get_refine_box: using this location:      col1       col2     col3     col4     col5     col6     col7   col8\n",
      "------------- -------- -------- -------- -------- -------- -------- ----\n",
      "4.40450372922 0.494955 0.493147 0.500046 0.496955 0.495147 0.502046    9\n"
     ]
    },
    {
     "name": "stderr",
     "output_type": "stream",
     "text": [
      "Parsing Hierarchy : 100%|████████████████| 3485/3485 [00:00<00:00, 14471.32it/s]\n",
      "yt : [INFO     ] 2022-07-15 10:07:13,031 Gathering a field list (this may take a moment.)\n"
     ]
    },
    {
     "name": "stdout",
     "output_type": "stream",
     "text": [
      "Pulling halo center from catalog file\n"
     ]
    },
    {
     "name": "stderr",
     "output_type": "stream",
     "text": [
      "yt : [WARNING  ] 2022-07-15 10:07:16,531 The stars particle filter already exists. Overriding.\n",
      "yt : [WARNING  ] 2022-07-15 10:07:16,532 The DM particle filter already exists. Overriding.\n",
      "yt : [INFO     ] 2022-07-15 10:07:16,662 Parameters: current_time              = 69.816527818285\n",
      "yt : [INFO     ] 2022-07-15 10:07:16,665 Parameters: domain_dimensions         = [256 256 256]\n",
      "yt : [INFO     ] 2022-07-15 10:07:16,668 Parameters: domain_left_edge          = [0. 0. 0.]\n",
      "yt : [INFO     ] 2022-07-15 10:07:16,671 Parameters: domain_right_edge         = [1. 1. 1.]\n",
      "yt : [INFO     ] 2022-07-15 10:07:16,672 Parameters: cosmological_simulation   = 1\n",
      "yt : [INFO     ] 2022-07-15 10:07:16,672 Parameters: current_redshift          = 4.1418420875174\n",
      "yt : [INFO     ] 2022-07-15 10:07:16,673 Parameters: omega_lambda              = 0.715\n",
      "yt : [INFO     ] 2022-07-15 10:07:16,673 Parameters: omega_matter              = 0.285\n",
      "yt : [INFO     ] 2022-07-15 10:07:16,674 Parameters: omega_radiation           = 0.0\n",
      "yt : [INFO     ] 2022-07-15 10:07:16,675 Parameters: hubble_constant           = 0.695\n"
     ]
    },
    {
     "name": "stdout",
     "output_type": "stream",
     "text": [
      "Opening snapshot /Volumes/TempestTimeSteps/DD0147/DD0147\n",
      "get_refine_box: using this location:      col1       col2     col3     col4    col5     col6     col7  col8\n",
      "------------- -------- -------- ------- -------- -------- ------- ----\n",
      "4.14184208752 0.494868 0.492768 0.50004 0.496868 0.494768 0.50204    9\n"
     ]
    },
    {
     "name": "stderr",
     "output_type": "stream",
     "text": [
      "Parsing Hierarchy : 100%|████████████████| 6292/6292 [00:00<00:00, 12917.21it/s]\n",
      "yt : [INFO     ] 2022-07-15 10:07:17,797 Gathering a field list (this may take a moment.)\n",
      "yt : [WARNING  ] 2022-07-15 10:07:20,992 The stars particle filter already exists. Overriding.\n",
      "yt : [WARNING  ] 2022-07-15 10:07:20,993 The DM particle filter already exists. Overriding.\n"
     ]
    },
    {
     "name": "stdout",
     "output_type": "stream",
     "text": [
      "Pulling halo center from catalog file\n",
      "Opening snapshot /Volumes/TempestTimeSteps/DD0167/DD0167\n"
     ]
    },
    {
     "name": "stderr",
     "output_type": "stream",
     "text": [
      "yt : [INFO     ] 2022-07-15 10:07:21,113 Parameters: current_time              = 74.816527818285\n",
      "yt : [INFO     ] 2022-07-15 10:07:21,116 Parameters: domain_dimensions         = [256 256 256]\n",
      "yt : [INFO     ] 2022-07-15 10:07:21,119 Parameters: domain_left_edge          = [0. 0. 0.]\n",
      "yt : [INFO     ] 2022-07-15 10:07:21,122 Parameters: domain_right_edge         = [1. 1. 1.]\n",
      "yt : [INFO     ] 2022-07-15 10:07:21,123 Parameters: cosmological_simulation   = 1\n",
      "yt : [INFO     ] 2022-07-15 10:07:21,124 Parameters: current_redshift          = 3.9086423517129\n",
      "yt : [INFO     ] 2022-07-15 10:07:21,126 Parameters: omega_lambda              = 0.715\n",
      "yt : [INFO     ] 2022-07-15 10:07:21,127 Parameters: omega_matter              = 0.285\n",
      "yt : [INFO     ] 2022-07-15 10:07:21,128 Parameters: omega_radiation           = 0.0\n",
      "yt : [INFO     ] 2022-07-15 10:07:21,129 Parameters: hubble_constant           = 0.695\n"
     ]
    },
    {
     "name": "stdout",
     "output_type": "stream",
     "text": [
      "get_refine_box: using this location:      col1       col2     col3     col4     col5     col6     col7   col8\n",
      "------------- -------- -------- -------- -------- -------- -------- ----\n",
      "3.90864235171 0.494765 0.492417 0.500025 0.496765 0.494417 0.502025    9\n"
     ]
    },
    {
     "name": "stderr",
     "output_type": "stream",
     "text": [
      "Parsing Hierarchy : 100%|████████████████| 6349/6349 [00:00<00:00, 12053.82it/s]\n",
      "yt : [INFO     ] 2022-07-15 10:07:22,344 Gathering a field list (this may take a moment.)\n",
      "yt : [WARNING  ] 2022-07-15 10:07:26,059 The stars particle filter already exists. Overriding.\n",
      "yt : [WARNING  ] 2022-07-15 10:07:26,061 The DM particle filter already exists. Overriding.\n"
     ]
    },
    {
     "name": "stdout",
     "output_type": "stream",
     "text": [
      "Pulling halo center from catalog file\n",
      "Opening snapshot /Volumes/TempestTimeSteps/DD0187/DD0187\n"
     ]
    },
    {
     "name": "stderr",
     "output_type": "stream",
     "text": [
      "yt : [INFO     ] 2022-07-15 10:07:26,209 Parameters: current_time              = 79.816527818285\n",
      "yt : [INFO     ] 2022-07-15 10:07:26,213 Parameters: domain_dimensions         = [256 256 256]\n",
      "yt : [INFO     ] 2022-07-15 10:07:26,217 Parameters: domain_left_edge          = [0. 0. 0.]\n",
      "yt : [INFO     ] 2022-07-15 10:07:26,221 Parameters: domain_right_edge         = [1. 1. 1.]\n",
      "yt : [INFO     ] 2022-07-15 10:07:26,222 Parameters: cosmological_simulation   = 1\n",
      "yt : [INFO     ] 2022-07-15 10:07:26,223 Parameters: current_redshift          = 3.6999259804031\n",
      "yt : [INFO     ] 2022-07-15 10:07:26,224 Parameters: omega_lambda              = 0.715\n",
      "yt : [INFO     ] 2022-07-15 10:07:26,225 Parameters: omega_matter              = 0.285\n",
      "yt : [INFO     ] 2022-07-15 10:07:26,226 Parameters: omega_radiation           = 0.0\n",
      "yt : [INFO     ] 2022-07-15 10:07:26,228 Parameters: hubble_constant           = 0.695\n"
     ]
    },
    {
     "name": "stdout",
     "output_type": "stream",
     "text": [
      "get_refine_box: using this location:     col1       col2     col3     col4     col5     col6     col7   col8\n",
      "------------ -------- -------- -------- -------- -------- -------- ----\n",
      "3.6999259804 0.494633 0.492127 0.500014 0.496633 0.494127 0.502014    9\n"
     ]
    },
    {
     "name": "stderr",
     "output_type": "stream",
     "text": [
      "Parsing Hierarchy : 100%|████████████████| 6152/6152 [00:00<00:00, 12180.51it/s]\n",
      "yt : [INFO     ] 2022-07-15 10:07:27,148 Gathering a field list (this may take a moment.)\n",
      "yt : [WARNING  ] 2022-07-15 10:07:30,955 The stars particle filter already exists. Overriding.\n",
      "yt : [WARNING  ] 2022-07-15 10:07:30,958 The DM particle filter already exists. Overriding.\n"
     ]
    },
    {
     "name": "stdout",
     "output_type": "stream",
     "text": [
      "Pulling halo center from catalog file\n",
      "Opening snapshot /Volumes/TempestTimeSteps/DD0207/DD0207\n"
     ]
    },
    {
     "name": "stderr",
     "output_type": "stream",
     "text": [
      "yt : [INFO     ] 2022-07-15 10:07:31,109 Parameters: current_time              = 84.816527818285\n",
      "yt : [INFO     ] 2022-07-15 10:07:31,113 Parameters: domain_dimensions         = [256 256 256]\n",
      "yt : [INFO     ] 2022-07-15 10:07:31,117 Parameters: domain_left_edge          = [0. 0. 0.]\n",
      "yt : [INFO     ] 2022-07-15 10:07:31,120 Parameters: domain_right_edge         = [1. 1. 1.]\n",
      "yt : [INFO     ] 2022-07-15 10:07:31,121 Parameters: cosmological_simulation   = 1\n",
      "yt : [INFO     ] 2022-07-15 10:07:31,122 Parameters: current_redshift          = 3.5118019373691\n",
      "yt : [INFO     ] 2022-07-15 10:07:31,123 Parameters: omega_lambda              = 0.715\n",
      "yt : [INFO     ] 2022-07-15 10:07:31,124 Parameters: omega_matter              = 0.285\n",
      "yt : [INFO     ] 2022-07-15 10:07:31,124 Parameters: omega_radiation           = 0.0\n",
      "yt : [INFO     ] 2022-07-15 10:07:31,125 Parameters: hubble_constant           = 0.695\n"
     ]
    },
    {
     "name": "stdout",
     "output_type": "stream",
     "text": [
      "get_refine_box: using this location:      col1       col2     col3     col4     col5     col6     col7   col8\n",
      "------------- -------- -------- -------- -------- -------- -------- ----\n",
      "3.51180193737 0.494517 0.491822 0.500016 0.496517 0.493822 0.502016    9\n"
     ]
    },
    {
     "name": "stderr",
     "output_type": "stream",
     "text": [
      "Parsing Hierarchy : 100%|█████████████████| 7873/7873 [00:01<00:00, 6405.34it/s]\n",
      "yt : [INFO     ] 2022-07-15 10:07:32,859 Gathering a field list (this may take a moment.)\n",
      "yt : [WARNING  ] 2022-07-15 10:07:36,542 The stars particle filter already exists. Overriding.\n",
      "yt : [WARNING  ] 2022-07-15 10:07:36,543 The DM particle filter already exists. Overriding.\n"
     ]
    },
    {
     "name": "stdout",
     "output_type": "stream",
     "text": [
      "Pulling halo center from catalog file\n",
      "Opening snapshot /Volumes/TempestTimeSteps/DD0227/DD0227\n"
     ]
    },
    {
     "name": "stderr",
     "output_type": "stream",
     "text": [
      "yt : [INFO     ] 2022-07-15 10:07:36,679 Parameters: current_time              = 89.816527818285\n",
      "yt : [INFO     ] 2022-07-15 10:07:36,683 Parameters: domain_dimensions         = [256 256 256]\n",
      "yt : [INFO     ] 2022-07-15 10:07:36,686 Parameters: domain_left_edge          = [0. 0. 0.]\n",
      "yt : [INFO     ] 2022-07-15 10:07:36,689 Parameters: domain_right_edge         = [1. 1. 1.]\n",
      "yt : [INFO     ] 2022-07-15 10:07:36,690 Parameters: cosmological_simulation   = 1\n",
      "yt : [INFO     ] 2022-07-15 10:07:36,690 Parameters: current_redshift          = 3.3411813479609\n",
      "yt : [INFO     ] 2022-07-15 10:07:36,691 Parameters: omega_lambda              = 0.715\n",
      "yt : [INFO     ] 2022-07-15 10:07:36,692 Parameters: omega_matter              = 0.285\n",
      "yt : [INFO     ] 2022-07-15 10:07:36,693 Parameters: omega_radiation           = 0.0\n",
      "yt : [INFO     ] 2022-07-15 10:07:36,694 Parameters: hubble_constant           = 0.695\n"
     ]
    },
    {
     "name": "stdout",
     "output_type": "stream",
     "text": [
      "get_refine_box: using this location:      col1       col2     col3     col4     col5     col6     col7   col8\n",
      "------------- -------- -------- -------- -------- -------- -------- ----\n",
      "3.34118134796 0.494362 0.491438 0.500094 0.496362 0.493438 0.502094    9\n"
     ]
    },
    {
     "name": "stderr",
     "output_type": "stream",
     "text": [
      "Parsing Hierarchy : 100%|███████████████| 10646/10646 [00:01<00:00, 7274.34it/s]\n",
      "yt : [INFO     ] 2022-07-15 10:07:38,701 Gathering a field list (this may take a moment.)\n",
      "yt : [WARNING  ] 2022-07-15 10:07:42,332 The stars particle filter already exists. Overriding.\n",
      "yt : [WARNING  ] 2022-07-15 10:07:42,333 The DM particle filter already exists. Overriding.\n"
     ]
    },
    {
     "name": "stdout",
     "output_type": "stream",
     "text": [
      "Pulling halo center from catalog file\n",
      "Opening snapshot /Volumes/TempestTimeSteps/DD0247/DD0247\n"
     ]
    },
    {
     "name": "stderr",
     "output_type": "stream",
     "text": [
      "yt : [INFO     ] 2022-07-15 10:07:42,463 Parameters: current_time              = 94.816527818285\n",
      "yt : [INFO     ] 2022-07-15 10:07:42,466 Parameters: domain_dimensions         = [256 256 256]\n",
      "yt : [INFO     ] 2022-07-15 10:07:42,470 Parameters: domain_left_edge          = [0. 0. 0.]\n",
      "yt : [INFO     ] 2022-07-15 10:07:42,473 Parameters: domain_right_edge         = [1. 1. 1.]\n",
      "yt : [INFO     ] 2022-07-15 10:07:42,473 Parameters: cosmological_simulation   = 1\n",
      "yt : [INFO     ] 2022-07-15 10:07:42,474 Parameters: current_redshift          = 3.1855782341013\n",
      "yt : [INFO     ] 2022-07-15 10:07:42,475 Parameters: omega_lambda              = 0.715\n",
      "yt : [INFO     ] 2022-07-15 10:07:42,475 Parameters: omega_matter              = 0.285\n",
      "yt : [INFO     ] 2022-07-15 10:07:42,476 Parameters: omega_radiation           = 0.0\n",
      "yt : [INFO     ] 2022-07-15 10:07:42,477 Parameters: hubble_constant           = 0.695\n"
     ]
    },
    {
     "name": "stdout",
     "output_type": "stream",
     "text": [
      "get_refine_box: using this location:     col1       col2     col3     col4     col5     col6     col7   col8\n",
      "------------ -------- -------- -------- -------- -------- -------- ----\n",
      "3.1855782341 0.494234 0.491145 0.500166 0.496234 0.493145 0.502166    9\n"
     ]
    },
    {
     "name": "stderr",
     "output_type": "stream",
     "text": [
      "Parsing Hierarchy : 100%|███████████████| 10738/10738 [00:01<00:00, 6863.17it/s]\n",
      "yt : [INFO     ] 2022-07-15 10:07:44,568 Gathering a field list (this may take a moment.)\n",
      "yt : [WARNING  ] 2022-07-15 10:07:48,471 The stars particle filter already exists. Overriding.\n",
      "yt : [WARNING  ] 2022-07-15 10:07:48,471 The DM particle filter already exists. Overriding.\n"
     ]
    },
    {
     "name": "stdout",
     "output_type": "stream",
     "text": [
      "Pulling halo center from catalog file\n",
      "Opening snapshot /Volumes/TempestTimeSteps/DD0267/DD0267\n"
     ]
    },
    {
     "name": "stderr",
     "output_type": "stream",
     "text": [
      "yt : [INFO     ] 2022-07-15 10:07:48,610 Parameters: current_time              = 99.816527818285\n",
      "yt : [INFO     ] 2022-07-15 10:07:48,613 Parameters: domain_dimensions         = [256 256 256]\n",
      "yt : [INFO     ] 2022-07-15 10:07:48,618 Parameters: domain_left_edge          = [0. 0. 0.]\n",
      "yt : [INFO     ] 2022-07-15 10:07:48,622 Parameters: domain_right_edge         = [1. 1. 1.]\n",
      "yt : [INFO     ] 2022-07-15 10:07:48,623 Parameters: cosmological_simulation   = 1\n",
      "yt : [INFO     ] 2022-07-15 10:07:48,624 Parameters: current_redshift          = 3.0429673207448\n",
      "yt : [INFO     ] 2022-07-15 10:07:48,625 Parameters: omega_lambda              = 0.715\n",
      "yt : [INFO     ] 2022-07-15 10:07:48,625 Parameters: omega_matter              = 0.285\n",
      "yt : [INFO     ] 2022-07-15 10:07:48,626 Parameters: omega_radiation           = 0.0\n",
      "yt : [INFO     ] 2022-07-15 10:07:48,627 Parameters: hubble_constant           = 0.695\n"
     ]
    },
    {
     "name": "stdout",
     "output_type": "stream",
     "text": [
      "get_refine_box: using this location:      col1       col2     col3     col4     col5     col6     col7   col8\n",
      "------------- -------- -------- -------- -------- -------- -------- ----\n",
      "3.04296732074 0.494074 0.490895 0.500235 0.496074 0.492895 0.502235    9\n"
     ]
    },
    {
     "name": "stderr",
     "output_type": "stream",
     "text": [
      "Parsing Hierarchy : 100%|████████████████| 8498/8498 [00:00<00:00, 11237.83it/s]\n",
      "yt : [INFO     ] 2022-07-15 10:07:49,883 Gathering a field list (this may take a moment.)\n",
      "yt : [WARNING  ] 2022-07-15 10:07:53,684 The stars particle filter already exists. Overriding.\n",
      "yt : [WARNING  ] 2022-07-15 10:07:53,685 The DM particle filter already exists. Overriding.\n"
     ]
    },
    {
     "name": "stdout",
     "output_type": "stream",
     "text": [
      "Pulling halo center from catalog file\n",
      "Opening snapshot /Volumes/TempestTimeSteps/DD0287/DD0287\n"
     ]
    },
    {
     "name": "stderr",
     "output_type": "stream",
     "text": [
      "yt : [INFO     ] 2022-07-15 10:07:53,817 Parameters: current_time              = 104.81652781829\n",
      "yt : [INFO     ] 2022-07-15 10:07:53,821 Parameters: domain_dimensions         = [256 256 256]\n",
      "yt : [INFO     ] 2022-07-15 10:07:53,824 Parameters: domain_left_edge          = [0. 0. 0.]\n",
      "yt : [INFO     ] 2022-07-15 10:07:53,828 Parameters: domain_right_edge         = [1. 1. 1.]\n",
      "yt : [INFO     ] 2022-07-15 10:07:53,829 Parameters: cosmological_simulation   = 1\n",
      "yt : [INFO     ] 2022-07-15 10:07:53,829 Parameters: current_redshift          = 2.9116806075987\n",
      "yt : [INFO     ] 2022-07-15 10:07:53,830 Parameters: omega_lambda              = 0.715\n",
      "yt : [INFO     ] 2022-07-15 10:07:53,830 Parameters: omega_matter              = 0.285\n",
      "yt : [INFO     ] 2022-07-15 10:07:53,831 Parameters: omega_radiation           = 0.0\n",
      "yt : [INFO     ] 2022-07-15 10:07:53,834 Parameters: hubble_constant           = 0.695\n"
     ]
    },
    {
     "name": "stdout",
     "output_type": "stream",
     "text": [
      "get_refine_box: using this location:     col1       col2     col3     col4     col5     col6     col7   col8\n",
      "------------ -------- -------- -------- -------- -------- -------- ----\n",
      "2.9116806076 0.493954 0.490721 0.500203 0.495954 0.492721 0.502203    9\n"
     ]
    },
    {
     "name": "stderr",
     "output_type": "stream",
     "text": [
      "Parsing Hierarchy : 100%|█████████████████| 7384/7384 [00:01<00:00, 4711.61it/s]\n",
      "yt : [INFO     ] 2022-07-15 10:07:55,858 Gathering a field list (this may take a moment.)\n",
      "yt : [WARNING  ] 2022-07-15 10:07:59,402 The stars particle filter already exists. Overriding.\n",
      "yt : [WARNING  ] 2022-07-15 10:07:59,403 The DM particle filter already exists. Overriding.\n"
     ]
    },
    {
     "name": "stdout",
     "output_type": "stream",
     "text": [
      "Pulling halo center from catalog file\n",
      "Opening snapshot /Volumes/TempestTimeSteps/DD0307/DD0307\n"
     ]
    },
    {
     "name": "stderr",
     "output_type": "stream",
     "text": [
      "yt : [INFO     ] 2022-07-15 10:07:59,518 Parameters: current_time              = 109.81652781829\n",
      "yt : [INFO     ] 2022-07-15 10:07:59,522 Parameters: domain_dimensions         = [256 256 256]\n",
      "yt : [INFO     ] 2022-07-15 10:07:59,525 Parameters: domain_left_edge          = [0. 0. 0.]\n",
      "yt : [INFO     ] 2022-07-15 10:07:59,531 Parameters: domain_right_edge         = [1. 1. 1.]\n",
      "yt : [INFO     ] 2022-07-15 10:07:59,532 Parameters: cosmological_simulation   = 1\n",
      "yt : [INFO     ] 2022-07-15 10:07:59,532 Parameters: current_redshift          = 2.790330842939\n",
      "yt : [INFO     ] 2022-07-15 10:07:59,534 Parameters: omega_lambda              = 0.715\n",
      "yt : [INFO     ] 2022-07-15 10:07:59,535 Parameters: omega_matter              = 0.285\n",
      "yt : [INFO     ] 2022-07-15 10:07:59,537 Parameters: omega_radiation           = 0.0\n",
      "yt : [INFO     ] 2022-07-15 10:07:59,538 Parameters: hubble_constant           = 0.695\n"
     ]
    },
    {
     "name": "stdout",
     "output_type": "stream",
     "text": [
      "get_refine_box: using this location:      col1       col2     col3     col4     col5     col6     col7   col8\n",
      "------------- -------- -------- -------- -------- -------- -------- ----\n",
      "2.79033084294 0.494017 0.490515 0.500182 0.496017 0.492515 0.502182    9\n"
     ]
    },
    {
     "name": "stderr",
     "output_type": "stream",
     "text": [
      "Parsing Hierarchy : 100%|████████████████| 7885/7885 [00:00<00:00, 10942.64it/s]\n",
      "yt : [INFO     ] 2022-07-15 10:08:00,704 Gathering a field list (this may take a moment.)\n",
      "yt : [WARNING  ] 2022-07-15 10:08:04,458 The stars particle filter already exists. Overriding.\n",
      "yt : [WARNING  ] 2022-07-15 10:08:04,459 The DM particle filter already exists. Overriding.\n"
     ]
    },
    {
     "name": "stdout",
     "output_type": "stream",
     "text": [
      "Pulling halo center from catalog file\n",
      "Opening snapshot /Volumes/TempestTimeSteps/DD0327/DD0327\n"
     ]
    },
    {
     "name": "stderr",
     "output_type": "stream",
     "text": [
      "yt : [INFO     ] 2022-07-15 10:08:04,664 Parameters: current_time              = 114.81652781829\n",
      "yt : [INFO     ] 2022-07-15 10:08:04,667 Parameters: domain_dimensions         = [256 256 256]\n",
      "yt : [INFO     ] 2022-07-15 10:08:04,670 Parameters: domain_left_edge          = [0. 0. 0.]\n",
      "yt : [INFO     ] 2022-07-15 10:08:04,675 Parameters: domain_right_edge         = [1. 1. 1.]\n",
      "yt : [INFO     ] 2022-07-15 10:08:04,676 Parameters: cosmological_simulation   = 1\n",
      "yt : [INFO     ] 2022-07-15 10:08:04,676 Parameters: current_redshift          = 2.6777540283045\n",
      "yt : [INFO     ] 2022-07-15 10:08:04,677 Parameters: omega_lambda              = 0.715\n",
      "yt : [INFO     ] 2022-07-15 10:08:04,678 Parameters: omega_matter              = 0.285\n",
      "yt : [INFO     ] 2022-07-15 10:08:04,679 Parameters: omega_radiation           = 0.0\n",
      "yt : [INFO     ] 2022-07-15 10:08:04,680 Parameters: hubble_constant           = 0.695\n"
     ]
    },
    {
     "name": "stdout",
     "output_type": "stream",
     "text": [
      "get_refine_box: using this location:     col1       col2     col3    col4     col5     col6    col7   col8\n",
      "------------ -------- ------- -------- -------- ------- -------- ----\n",
      "2.6777540283 0.493817 0.49021 0.500325 0.495817 0.49221 0.502325    9\n"
     ]
    },
    {
     "name": "stderr",
     "output_type": "stream",
     "text": [
      "Parsing Hierarchy : 100%|█████████████████| 8723/8723 [00:01<00:00, 4583.67it/s]\n",
      "yt : [INFO     ] 2022-07-15 10:08:07,046 Gathering a field list (this may take a moment.)\n",
      "yt : [WARNING  ] 2022-07-15 10:08:10,960 The stars particle filter already exists. Overriding.\n",
      "yt : [WARNING  ] 2022-07-15 10:08:10,961 The DM particle filter already exists. Overriding.\n"
     ]
    },
    {
     "name": "stdout",
     "output_type": "stream",
     "text": [
      "Pulling halo center from catalog file\n",
      "Opening snapshot /Volumes/TempestTimeSteps/DD0347/DD0347\n"
     ]
    },
    {
     "name": "stderr",
     "output_type": "stream",
     "text": [
      "yt : [INFO     ] 2022-07-15 10:08:11,125 Parameters: current_time              = 119.81652781829\n",
      "yt : [INFO     ] 2022-07-15 10:08:11,128 Parameters: domain_dimensions         = [256 256 256]\n",
      "yt : [INFO     ] 2022-07-15 10:08:11,131 Parameters: domain_left_edge          = [0. 0. 0.]\n",
      "yt : [INFO     ] 2022-07-15 10:08:11,135 Parameters: domain_right_edge         = [1. 1. 1.]\n",
      "yt : [INFO     ] 2022-07-15 10:08:11,136 Parameters: cosmological_simulation   = 1\n",
      "yt : [INFO     ] 2022-07-15 10:08:11,137 Parameters: current_redshift          = 2.5729656200897\n",
      "yt : [INFO     ] 2022-07-15 10:08:11,138 Parameters: omega_lambda              = 0.715\n",
      "yt : [INFO     ] 2022-07-15 10:08:11,139 Parameters: omega_matter              = 0.285\n",
      "yt : [INFO     ] 2022-07-15 10:08:11,141 Parameters: omega_radiation           = 0.0\n",
      "yt : [INFO     ] 2022-07-15 10:08:11,142 Parameters: hubble_constant           = 0.695\n"
     ]
    },
    {
     "name": "stdout",
     "output_type": "stream",
     "text": [
      "get_refine_box: using this location:      col1       col2    col3     col4    col5    col6     col7  col8\n",
      "------------- ------- -------- ------- ------- -------- ------- ----\n",
      "2.57296562009 0.49375 0.489943 0.50041 0.49575 0.491943 0.50241    9\n"
     ]
    },
    {
     "name": "stderr",
     "output_type": "stream",
     "text": [
      "Parsing Hierarchy : 100%|████████████████| 8372/8372 [00:00<00:00, 11842.77it/s]\n",
      "yt : [INFO     ] 2022-07-15 10:08:12,330 Gathering a field list (this may take a moment.)\n",
      "yt : [WARNING  ] 2022-07-15 10:08:16,001 The stars particle filter already exists. Overriding.\n",
      "yt : [WARNING  ] 2022-07-15 10:08:16,002 The DM particle filter already exists. Overriding.\n"
     ]
    },
    {
     "name": "stdout",
     "output_type": "stream",
     "text": [
      "Pulling halo center from catalog file\n",
      "Opening snapshot /Volumes/TempestTimeSteps/DD0367/DD0367\n"
     ]
    },
    {
     "name": "stderr",
     "output_type": "stream",
     "text": [
      "yt : [INFO     ] 2022-07-15 10:08:16,141 Parameters: current_time              = 124.81652781829\n",
      "yt : [INFO     ] 2022-07-15 10:08:16,143 Parameters: domain_dimensions         = [256 256 256]\n",
      "yt : [INFO     ] 2022-07-15 10:08:16,147 Parameters: domain_left_edge          = [0. 0. 0.]\n",
      "yt : [INFO     ] 2022-07-15 10:08:16,150 Parameters: domain_right_edge         = [1. 1. 1.]\n",
      "yt : [INFO     ] 2022-07-15 10:08:16,151 Parameters: cosmological_simulation   = 1\n",
      "yt : [INFO     ] 2022-07-15 10:08:16,152 Parameters: current_redshift          = 2.4751267440123\n",
      "yt : [INFO     ] 2022-07-15 10:08:16,152 Parameters: omega_lambda              = 0.715\n",
      "yt : [INFO     ] 2022-07-15 10:08:16,153 Parameters: omega_matter              = 0.285\n",
      "yt : [INFO     ] 2022-07-15 10:08:16,154 Parameters: omega_radiation           = 0.0\n",
      "yt : [INFO     ] 2022-07-15 10:08:16,154 Parameters: hubble_constant           = 0.695\n"
     ]
    },
    {
     "name": "stdout",
     "output_type": "stream",
     "text": [
      "get_refine_box: using this location:      col1       col2     col3     col4     col5     col6     col7   col8\n",
      "------------- -------- -------- -------- -------- -------- -------- ----\n",
      "2.47512674401 0.493607 0.489649 0.500506 0.495607 0.491649 0.502506    9\n"
     ]
    },
    {
     "name": "stderr",
     "output_type": "stream",
     "text": [
      "Parsing Hierarchy : 100%|████████████████| 8124/8124 [00:00<00:00, 12199.96it/s]\n",
      "yt : [INFO     ] 2022-07-15 10:08:17,271 Gathering a field list (this may take a moment.)\n",
      "yt : [WARNING  ] 2022-07-15 10:08:20,969 The stars particle filter already exists. Overriding.\n",
      "yt : [WARNING  ] 2022-07-15 10:08:20,970 The DM particle filter already exists. Overriding.\n"
     ]
    },
    {
     "name": "stdout",
     "output_type": "stream",
     "text": [
      "Pulling halo center from catalog file\n",
      "Opening snapshot /Volumes/TempestTimeSteps/DD0387/DD0387\n"
     ]
    },
    {
     "name": "stderr",
     "output_type": "stream",
     "text": [
      "yt : [INFO     ] 2022-07-15 10:08:21,105 Parameters: current_time              = 129.81652781829\n",
      "yt : [INFO     ] 2022-07-15 10:08:21,108 Parameters: domain_dimensions         = [256 256 256]\n",
      "yt : [INFO     ] 2022-07-15 10:08:21,112 Parameters: domain_left_edge          = [0. 0. 0.]\n",
      "yt : [INFO     ] 2022-07-15 10:08:21,115 Parameters: domain_right_edge         = [1. 1. 1.]\n",
      "yt : [INFO     ] 2022-07-15 10:08:21,116 Parameters: cosmological_simulation   = 1\n",
      "yt : [INFO     ] 2022-07-15 10:08:21,117 Parameters: current_redshift          = 2.3835178337957\n",
      "yt : [INFO     ] 2022-07-15 10:08:21,118 Parameters: omega_lambda              = 0.715\n",
      "yt : [INFO     ] 2022-07-15 10:08:21,119 Parameters: omega_matter              = 0.285\n",
      "yt : [INFO     ] 2022-07-15 10:08:21,120 Parameters: omega_radiation           = 0.0\n",
      "yt : [INFO     ] 2022-07-15 10:08:21,121 Parameters: hubble_constant           = 0.695\n"
     ]
    },
    {
     "name": "stdout",
     "output_type": "stream",
     "text": [
      "get_refine_box: using this location:     col1       col2     col3     col4     col5     col6     col7   col8\n",
      "------------ -------- -------- -------- -------- -------- -------- ----\n",
      "2.3835178338 0.493475 0.489323 0.500649 0.495475 0.491323 0.502649    9\n"
     ]
    },
    {
     "name": "stderr",
     "output_type": "stream",
     "text": [
      "Parsing Hierarchy : 100%|█████████████████| 9680/9680 [00:02<00:00, 4671.95it/s]\n",
      "yt : [INFO     ] 2022-07-15 10:08:23,738 Gathering a field list (this may take a moment.)\n",
      "yt : [WARNING  ] 2022-07-15 10:08:27,745 The stars particle filter already exists. Overriding.\n",
      "yt : [WARNING  ] 2022-07-15 10:08:27,746 The DM particle filter already exists. Overriding.\n"
     ]
    },
    {
     "name": "stdout",
     "output_type": "stream",
     "text": [
      "Pulling halo center from catalog file\n",
      "Opening snapshot /Volumes/TempestTimeSteps/DD0407/DD0407\n"
     ]
    },
    {
     "name": "stderr",
     "output_type": "stream",
     "text": [
      "yt : [INFO     ] 2022-07-15 10:08:27,888 Parameters: current_time              = 134.81652781829\n",
      "yt : [INFO     ] 2022-07-15 10:08:27,891 Parameters: domain_dimensions         = [256 256 256]\n",
      "yt : [INFO     ] 2022-07-15 10:08:27,896 Parameters: domain_left_edge          = [0. 0. 0.]\n",
      "yt : [INFO     ] 2022-07-15 10:08:27,899 Parameters: domain_right_edge         = [1. 1. 1.]\n",
      "yt : [INFO     ] 2022-07-15 10:08:27,900 Parameters: cosmological_simulation   = 1\n",
      "yt : [INFO     ] 2022-07-15 10:08:27,901 Parameters: current_redshift          = 2.2975178463403\n",
      "yt : [INFO     ] 2022-07-15 10:08:27,902 Parameters: omega_lambda              = 0.715\n",
      "yt : [INFO     ] 2022-07-15 10:08:27,903 Parameters: omega_matter              = 0.285\n",
      "yt : [INFO     ] 2022-07-15 10:08:27,904 Parameters: omega_radiation           = 0.0\n",
      "yt : [INFO     ] 2022-07-15 10:08:27,905 Parameters: hubble_constant           = 0.695\n"
     ]
    },
    {
     "name": "stdout",
     "output_type": "stream",
     "text": [
      "get_refine_box: using this location:      col1       col2     col3     col4     col5     col6     col7   col8\n",
      "------------- -------- -------- -------- -------- -------- -------- ----\n",
      "2.29751784634 0.493403 0.489031 0.500769 0.495403 0.491031 0.502769    9\n"
     ]
    },
    {
     "name": "stderr",
     "output_type": "stream",
     "text": [
      "Parsing Hierarchy : 100%|████████████████| 8668/8668 [00:00<00:00, 11416.74it/s]\n",
      "yt : [INFO     ] 2022-07-15 10:08:29,162 Gathering a field list (this may take a moment.)\n",
      "yt : [WARNING  ] 2022-07-15 10:08:32,965 The stars particle filter already exists. Overriding.\n",
      "yt : [WARNING  ] 2022-07-15 10:08:32,967 The DM particle filter already exists. Overriding.\n"
     ]
    },
    {
     "name": "stdout",
     "output_type": "stream",
     "text": [
      "Pulling halo center from catalog file\n",
      "Opening snapshot /Volumes/TempestTimeSteps/DD0427/DD0427\n"
     ]
    },
    {
     "name": "stderr",
     "output_type": "stream",
     "text": [
      "yt : [INFO     ] 2022-07-15 10:08:33,111 Parameters: current_time              = 139.81652781829\n",
      "yt : [INFO     ] 2022-07-15 10:08:33,115 Parameters: domain_dimensions         = [256 256 256]\n",
      "yt : [INFO     ] 2022-07-15 10:08:33,119 Parameters: domain_left_edge          = [0. 0. 0.]\n",
      "yt : [INFO     ] 2022-07-15 10:08:33,123 Parameters: domain_right_edge         = [1. 1. 1.]\n",
      "yt : [INFO     ] 2022-07-15 10:08:33,124 Parameters: cosmological_simulation   = 1\n",
      "yt : [INFO     ] 2022-07-15 10:08:33,125 Parameters: current_redshift          = 2.2165877154761\n",
      "yt : [INFO     ] 2022-07-15 10:08:33,126 Parameters: omega_lambda              = 0.715\n",
      "yt : [INFO     ] 2022-07-15 10:08:33,127 Parameters: omega_matter              = 0.285\n",
      "yt : [INFO     ] 2022-07-15 10:08:33,128 Parameters: omega_radiation           = 0.0\n",
      "yt : [INFO     ] 2022-07-15 10:08:33,129 Parameters: hubble_constant           = 0.695\n"
     ]
    },
    {
     "name": "stdout",
     "output_type": "stream",
     "text": [
      "get_refine_box: using this location:      col1       col2     col3     col4     col5     col6     col7   col8\n",
      "------------- -------- -------- -------- -------- -------- -------- ----\n",
      "2.21658771548 0.493304 0.488734 0.500885 0.495304 0.490734 0.502885    9\n"
     ]
    },
    {
     "name": "stderr",
     "output_type": "stream",
     "text": [
      "Parsing Hierarchy : 100%|████████████████| 8504/8504 [00:00<00:00, 11292.83it/s]\n",
      "yt : [INFO     ] 2022-07-15 10:08:34,393 Gathering a field list (this may take a moment.)\n",
      "yt : [WARNING  ] 2022-07-15 10:08:38,204 The stars particle filter already exists. Overriding.\n",
      "yt : [WARNING  ] 2022-07-15 10:08:38,205 The DM particle filter already exists. Overriding.\n"
     ]
    },
    {
     "name": "stdout",
     "output_type": "stream",
     "text": [
      "Pulling halo center from catalog file\n",
      "Opening snapshot /Volumes/TempestTimeSteps/DD0447/DD0447\n"
     ]
    },
    {
     "name": "stderr",
     "output_type": "stream",
     "text": [
      "yt : [INFO     ] 2022-07-15 10:08:38,334 Parameters: current_time              = 144.81652781829\n",
      "yt : [INFO     ] 2022-07-15 10:08:38,338 Parameters: domain_dimensions         = [256 256 256]\n",
      "yt : [INFO     ] 2022-07-15 10:08:38,342 Parameters: domain_left_edge          = [0. 0. 0.]\n",
      "yt : [INFO     ] 2022-07-15 10:08:38,345 Parameters: domain_right_edge         = [1. 1. 1.]\n",
      "yt : [INFO     ] 2022-07-15 10:08:38,346 Parameters: cosmological_simulation   = 1\n",
      "yt : [INFO     ] 2022-07-15 10:08:38,346 Parameters: current_redshift          = 2.1402570627129\n",
      "yt : [INFO     ] 2022-07-15 10:08:38,347 Parameters: omega_lambda              = 0.715\n",
      "yt : [INFO     ] 2022-07-15 10:08:38,348 Parameters: omega_matter              = 0.285\n",
      "yt : [INFO     ] 2022-07-15 10:08:38,349 Parameters: omega_radiation           = 0.0\n",
      "yt : [INFO     ] 2022-07-15 10:08:38,349 Parameters: hubble_constant           = 0.695\n"
     ]
    },
    {
     "name": "stdout",
     "output_type": "stream",
     "text": [
      "get_refine_box: using this location:      col1       col2     col3     col4     col5     col6     col7   col8\n",
      "------------- -------- -------- -------- -------- -------- -------- ----\n",
      "2.14025706271 0.493216 0.488457 0.500981 0.495216 0.490457 0.502981    9\n"
     ]
    },
    {
     "name": "stderr",
     "output_type": "stream",
     "text": [
      "Parsing Hierarchy : 100%|█████████████████| 8981/8981 [00:02<00:00, 3748.93it/s]\n",
      "yt : [INFO     ] 2022-07-15 10:08:41,208 Gathering a field list (this may take a moment.)\n",
      "yt : [WARNING  ] 2022-07-15 10:08:44,465 The stars particle filter already exists. Overriding.\n",
      "yt : [WARNING  ] 2022-07-15 10:08:44,466 The DM particle filter already exists. Overriding.\n"
     ]
    },
    {
     "name": "stdout",
     "output_type": "stream",
     "text": [
      "Pulling halo center from catalog file\n",
      "Opening snapshot /Volumes/TempestTimeSteps/DD0467/DD0467\n"
     ]
    },
    {
     "name": "stderr",
     "output_type": "stream",
     "text": [
      "yt : [INFO     ] 2022-07-15 10:08:44,585 Parameters: current_time              = 149.81652781829\n",
      "yt : [INFO     ] 2022-07-15 10:08:44,588 Parameters: domain_dimensions         = [256 256 256]\n",
      "yt : [INFO     ] 2022-07-15 10:08:44,592 Parameters: domain_left_edge          = [0. 0. 0.]\n",
      "yt : [INFO     ] 2022-07-15 10:08:44,595 Parameters: domain_right_edge         = [1. 1. 1.]\n",
      "yt : [INFO     ] 2022-07-15 10:08:44,596 Parameters: cosmological_simulation   = 1\n",
      "yt : [INFO     ] 2022-07-15 10:08:44,597 Parameters: current_redshift          = 2.0681134360516\n",
      "yt : [INFO     ] 2022-07-15 10:08:44,597 Parameters: omega_lambda              = 0.715\n",
      "yt : [INFO     ] 2022-07-15 10:08:44,598 Parameters: omega_matter              = 0.285\n",
      "yt : [INFO     ] 2022-07-15 10:08:44,599 Parameters: omega_radiation           = 0.0\n",
      "yt : [INFO     ] 2022-07-15 10:08:44,599 Parameters: hubble_constant           = 0.695\n"
     ]
    },
    {
     "name": "stdout",
     "output_type": "stream",
     "text": [
      "get_refine_box: using this location:      col1       col2     col3     col4    col5     col6     col7  col8\n",
      "------------- -------- -------- ------- -------- -------- ------- ----\n",
      "2.06811343605 0.493124 0.488177 0.50108 0.495124 0.490177 0.50308    9\n"
     ]
    },
    {
     "name": "stderr",
     "output_type": "stream",
     "text": [
      "Parsing Hierarchy : 100%|████████████████| 8955/8955 [00:00<00:00, 12493.67it/s]\n",
      "yt : [INFO     ] 2022-07-15 10:08:45,785 Gathering a field list (this may take a moment.)\n",
      "yt : [WARNING  ] 2022-07-15 10:08:49,227 The stars particle filter already exists. Overriding.\n",
      "yt : [WARNING  ] 2022-07-15 10:08:49,228 The DM particle filter already exists. Overriding.\n"
     ]
    },
    {
     "name": "stdout",
     "output_type": "stream",
     "text": [
      "Pulling halo center from catalog file\n",
      "Opening snapshot /Volumes/TempestTimeSteps/DD0487/DD0487\n"
     ]
    },
    {
     "name": "stderr",
     "output_type": "stream",
     "text": [
      "yt : [INFO     ] 2022-07-15 10:08:49,356 Parameters: current_time              = 154.8165043678\n",
      "yt : [INFO     ] 2022-07-15 10:08:49,359 Parameters: domain_dimensions         = [256 256 256]\n",
      "yt : [INFO     ] 2022-07-15 10:08:49,363 Parameters: domain_left_edge          = [0. 0. 0.]\n",
      "yt : [INFO     ] 2022-07-15 10:08:49,367 Parameters: domain_right_edge         = [1. 1. 1.]\n",
      "yt : [INFO     ] 2022-07-15 10:08:49,368 Parameters: cosmological_simulation   = 1\n",
      "yt : [INFO     ] 2022-07-15 10:08:49,369 Parameters: current_redshift          = 1.9997938414155\n",
      "yt : [INFO     ] 2022-07-15 10:08:49,370 Parameters: omega_lambda              = 0.715\n",
      "yt : [INFO     ] 2022-07-15 10:08:49,371 Parameters: omega_matter              = 0.285\n",
      "yt : [INFO     ] 2022-07-15 10:08:49,372 Parameters: omega_radiation           = 0.0\n",
      "yt : [INFO     ] 2022-07-15 10:08:49,373 Parameters: hubble_constant           = 0.695\n"
     ]
    },
    {
     "name": "stdout",
     "output_type": "stream",
     "text": [
      "get_refine_box: using this location:      col1       col2     col3     col4     col5     col6     col7   col8\n",
      "------------- -------- -------- -------- -------- -------- -------- ----\n",
      "1.99979384142 0.493035 0.487894 0.501194 0.495035 0.489894 0.503194    9\n"
     ]
    },
    {
     "name": "stderr",
     "output_type": "stream",
     "text": [
      "Parsing Hierarchy : 100%|████████████████| 7623/7623 [00:00<00:00, 12233.58it/s]\n",
      "yt : [INFO     ] 2022-07-15 10:08:50,412 Gathering a field list (this may take a moment.)\n",
      "yt : [WARNING  ] 2022-07-15 10:08:53,985 The stars particle filter already exists. Overriding.\n",
      "yt : [WARNING  ] 2022-07-15 10:08:53,986 The DM particle filter already exists. Overriding.\n"
     ]
    },
    {
     "name": "stdout",
     "output_type": "stream",
     "text": [
      "Pulling halo center from catalog file\n",
      "Opening snapshot /Volumes/TempestTimeSteps/DD0507/DD0507\n"
     ]
    },
    {
     "name": "stderr",
     "output_type": "stream",
     "text": [
      "yt : [INFO     ] 2022-07-15 10:08:54,107 Parameters: current_time              = 159.81652781829\n",
      "yt : [INFO     ] 2022-07-15 10:08:54,110 Parameters: domain_dimensions         = [256 256 256]\n",
      "yt : [INFO     ] 2022-07-15 10:08:54,113 Parameters: domain_left_edge          = [0. 0. 0.]\n",
      "yt : [INFO     ] 2022-07-15 10:08:54,117 Parameters: domain_right_edge         = [1. 1. 1.]\n",
      "yt : [INFO     ] 2022-07-15 10:08:54,119 Parameters: cosmological_simulation   = 1\n",
      "yt : [INFO     ] 2022-07-15 10:08:54,120 Parameters: current_redshift          = 1.9349759674732\n",
      "yt : [INFO     ] 2022-07-15 10:08:54,121 Parameters: omega_lambda              = 0.715\n",
      "yt : [INFO     ] 2022-07-15 10:08:54,122 Parameters: omega_matter              = 0.285\n",
      "yt : [INFO     ] 2022-07-15 10:08:54,123 Parameters: omega_radiation           = 0.0\n",
      "yt : [INFO     ] 2022-07-15 10:08:54,124 Parameters: hubble_constant           = 0.695\n"
     ]
    },
    {
     "name": "stdout",
     "output_type": "stream",
     "text": [
      "get_refine_box: using this location:      col1       col2     col3     col4     col5     col6     col7   col8\n",
      "------------- -------- -------- -------- -------- -------- -------- ----\n",
      "1.93497596747 0.492941 0.487618 0.501303 0.494941 0.489618 0.503303    9\n"
     ]
    },
    {
     "name": "stderr",
     "output_type": "stream",
     "text": [
      "Parsing Hierarchy : 100%|████████████████| 6466/6466 [00:00<00:00, 12625.17it/s]\n",
      "yt : [INFO     ] 2022-07-15 10:08:55,029 Gathering a field list (this may take a moment.)\n",
      "yt : [WARNING  ] 2022-07-15 10:08:58,589 The stars particle filter already exists. Overriding.\n",
      "yt : [WARNING  ] 2022-07-15 10:08:58,590 The DM particle filter already exists. Overriding.\n"
     ]
    },
    {
     "name": "stdout",
     "output_type": "stream",
     "text": [
      "Pulling halo center from catalog file\n",
      "Opening snapshot /Volumes/TempestTimeSteps/DD0527/DD0527\n"
     ]
    },
    {
     "name": "stderr",
     "output_type": "stream",
     "text": [
      "yt : [INFO     ] 2022-07-15 10:08:58,718 Parameters: current_time              = 164.81652781829\n",
      "yt : [INFO     ] 2022-07-15 10:08:58,722 Parameters: domain_dimensions         = [256 256 256]\n",
      "yt : [INFO     ] 2022-07-15 10:08:58,725 Parameters: domain_left_edge          = [0. 0. 0.]\n",
      "yt : [INFO     ] 2022-07-15 10:08:58,728 Parameters: domain_right_edge         = [1. 1. 1.]\n",
      "yt : [INFO     ] 2022-07-15 10:08:58,730 Parameters: cosmological_simulation   = 1\n",
      "yt : [INFO     ] 2022-07-15 10:08:58,731 Parameters: current_redshift          = 1.8733753371252\n",
      "yt : [INFO     ] 2022-07-15 10:08:58,732 Parameters: omega_lambda              = 0.715\n",
      "yt : [INFO     ] 2022-07-15 10:08:58,733 Parameters: omega_matter              = 0.285\n",
      "yt : [INFO     ] 2022-07-15 10:08:58,733 Parameters: omega_radiation           = 0.0\n",
      "yt : [INFO     ] 2022-07-15 10:08:58,734 Parameters: hubble_constant           = 0.695\n"
     ]
    },
    {
     "name": "stdout",
     "output_type": "stream",
     "text": [
      "get_refine_box: using this location:      col1       col2     col3     col4     col5     col6     col7   col8\n",
      "------------- -------- -------- -------- -------- -------- -------- ----\n",
      "1.87337533713 0.492848 0.487347 0.501397 0.494848 0.489347 0.503397    9\n"
     ]
    },
    {
     "name": "stderr",
     "output_type": "stream",
     "text": [
      "Parsing Hierarchy : 100%|█████████████████| 6005/6005 [00:02<00:00, 2643.00it/s]\n",
      "yt : [INFO     ] 2022-07-15 10:09:01,360 Gathering a field list (this may take a moment.)\n",
      "yt : [WARNING  ] 2022-07-15 10:09:04,829 The stars particle filter already exists. Overriding.\n",
      "yt : [WARNING  ] 2022-07-15 10:09:04,831 The DM particle filter already exists. Overriding.\n"
     ]
    },
    {
     "name": "stdout",
     "output_type": "stream",
     "text": [
      "Pulling halo center from catalog file\n",
      "Opening snapshot /Volumes/TempestTimeSteps/DD0547/DD0547\n"
     ]
    },
    {
     "name": "stderr",
     "output_type": "stream",
     "text": [
      "yt : [INFO     ] 2022-07-15 10:09:04,952 Parameters: current_time              = 169.81652781829\n",
      "yt : [INFO     ] 2022-07-15 10:09:04,956 Parameters: domain_dimensions         = [256 256 256]\n",
      "yt : [INFO     ] 2022-07-15 10:09:04,959 Parameters: domain_left_edge          = [0. 0. 0.]\n",
      "yt : [INFO     ] 2022-07-15 10:09:04,965 Parameters: domain_right_edge         = [1. 1. 1.]\n",
      "yt : [INFO     ] 2022-07-15 10:09:04,966 Parameters: cosmological_simulation   = 1\n",
      "yt : [INFO     ] 2022-07-15 10:09:04,967 Parameters: current_redshift          = 1.8147372203944\n",
      "yt : [INFO     ] 2022-07-15 10:09:04,968 Parameters: omega_lambda              = 0.715\n",
      "yt : [INFO     ] 2022-07-15 10:09:04,968 Parameters: omega_matter              = 0.285\n",
      "yt : [INFO     ] 2022-07-15 10:09:04,969 Parameters: omega_radiation           = 0.0\n",
      "yt : [INFO     ] 2022-07-15 10:09:04,970 Parameters: hubble_constant           = 0.695\n"
     ]
    },
    {
     "name": "stdout",
     "output_type": "stream",
     "text": [
      "get_refine_box: using this location:      col1       col2     col3    col4     col5     col6    col7   col8\n",
      "------------- -------- ------- -------- -------- ------- -------- ----\n",
      "1.81473722039 0.492754 0.48709 0.501477 0.494754 0.48909 0.503477    9\n"
     ]
    },
    {
     "name": "stderr",
     "output_type": "stream",
     "text": [
      "Parsing Hierarchy : 100%|████████████████| 6241/6241 [00:00<00:00, 12531.78it/s]\n",
      "yt : [INFO     ] 2022-07-15 10:09:05,839 Gathering a field list (this may take a moment.)\n",
      "yt : [WARNING  ] 2022-07-15 10:09:09,420 The stars particle filter already exists. Overriding.\n",
      "yt : [WARNING  ] 2022-07-15 10:09:09,421 The DM particle filter already exists. Overriding.\n"
     ]
    },
    {
     "name": "stdout",
     "output_type": "stream",
     "text": [
      "Pulling halo center from catalog file\n",
      "Opening snapshot /Volumes/TempestTimeSteps/DD0567/DD0567\n"
     ]
    },
    {
     "name": "stderr",
     "output_type": "stream",
     "text": [
      "yt : [INFO     ] 2022-07-15 10:09:09,550 Parameters: current_time              = 174.81652781829\n",
      "yt : [INFO     ] 2022-07-15 10:09:09,553 Parameters: domain_dimensions         = [256 256 256]\n",
      "yt : [INFO     ] 2022-07-15 10:09:09,557 Parameters: domain_left_edge          = [0. 0. 0.]\n",
      "yt : [INFO     ] 2022-07-15 10:09:09,560 Parameters: domain_right_edge         = [1. 1. 1.]\n",
      "yt : [INFO     ] 2022-07-15 10:09:09,561 Parameters: cosmological_simulation   = 1\n",
      "yt : [INFO     ] 2022-07-15 10:09:09,562 Parameters: current_redshift          = 1.7588340361195\n",
      "yt : [INFO     ] 2022-07-15 10:09:09,563 Parameters: omega_lambda              = 0.715\n",
      "yt : [INFO     ] 2022-07-15 10:09:09,564 Parameters: omega_matter              = 0.285\n",
      "yt : [INFO     ] 2022-07-15 10:09:09,566 Parameters: omega_radiation           = 0.0\n",
      "yt : [INFO     ] 2022-07-15 10:09:09,567 Parameters: hubble_constant           = 0.695\n"
     ]
    },
    {
     "name": "stdout",
     "output_type": "stream",
     "text": [
      "get_refine_box: using this location:      col1       col2     col3     col4     col5     col6     col7   col8\n",
      "------------- -------- -------- -------- -------- -------- -------- ----\n",
      "1.75883403612 0.492716 0.486828 0.501538 0.494716 0.488828 0.503538    9\n"
     ]
    },
    {
     "name": "stderr",
     "output_type": "stream",
     "text": [
      "Parsing Hierarchy : 100%|████████████████| 6668/6668 [00:00<00:00, 12488.65it/s]\n",
      "yt : [INFO     ] 2022-07-15 10:09:10,529 Gathering a field list (this may take a moment.)\n",
      "yt : [WARNING  ] 2022-07-15 10:09:14,137 The stars particle filter already exists. Overriding.\n",
      "yt : [WARNING  ] 2022-07-15 10:09:14,138 The DM particle filter already exists. Overriding.\n"
     ]
    },
    {
     "name": "stdout",
     "output_type": "stream",
     "text": [
      "Pulling halo center from catalog file\n",
      "Opening snapshot /Volumes/TempestTimeSteps/DD0587/DD0587\n"
     ]
    },
    {
     "name": "stderr",
     "output_type": "stream",
     "text": [
      "yt : [INFO     ] 2022-07-15 10:09:14,268 Parameters: current_time              = 179.81652781829\n",
      "yt : [INFO     ] 2022-07-15 10:09:14,271 Parameters: domain_dimensions         = [256 256 256]\n",
      "yt : [INFO     ] 2022-07-15 10:09:14,274 Parameters: domain_left_edge          = [0. 0. 0.]\n",
      "yt : [INFO     ] 2022-07-15 10:09:14,278 Parameters: domain_right_edge         = [1. 1. 1.]\n",
      "yt : [INFO     ] 2022-07-15 10:09:14,279 Parameters: cosmological_simulation   = 1\n",
      "yt : [INFO     ] 2022-07-15 10:09:14,280 Parameters: current_redshift          = 1.7054615401925\n",
      "yt : [INFO     ] 2022-07-15 10:09:14,281 Parameters: omega_lambda              = 0.715\n",
      "yt : [INFO     ] 2022-07-15 10:09:14,281 Parameters: omega_matter              = 0.285\n",
      "yt : [INFO     ] 2022-07-15 10:09:14,282 Parameters: omega_radiation           = 0.0\n",
      "yt : [INFO     ] 2022-07-15 10:09:14,283 Parameters: hubble_constant           = 0.695\n"
     ]
    },
    {
     "name": "stdout",
     "output_type": "stream",
     "text": [
      "get_refine_box: using this location:      col1       col2     col3    col4     col5     col6    col7   col8\n",
      "------------- -------- ------- -------- -------- ------- -------- ----\n",
      "1.70546154019 0.492663 0.48654 0.501635 0.494663 0.48854 0.503635    9\n"
     ]
    },
    {
     "name": "stderr",
     "output_type": "stream",
     "text": [
      "Parsing Hierarchy : 100%|████████████████| 7018/7018 [00:00<00:00, 12948.22it/s]\n",
      "yt : [INFO     ] 2022-07-15 10:09:15,232 Gathering a field list (this may take a moment.)\n",
      "yt : [WARNING  ] 2022-07-15 10:09:18,603 The stars particle filter already exists. Overriding.\n",
      "yt : [WARNING  ] 2022-07-15 10:09:18,604 The DM particle filter already exists. Overriding.\n"
     ]
    },
    {
     "name": "stdout",
     "output_type": "stream",
     "text": [
      "Pulling halo center from catalog file\n",
      "Opening snapshot /Volumes/TempestTimeSteps/DD0607/DD0607\n"
     ]
    },
    {
     "name": "stderr",
     "output_type": "stream",
     "text": [
      "yt : [INFO     ] 2022-07-15 10:09:18,821 Parameters: current_time              = 184.81652781829\n",
      "yt : [INFO     ] 2022-07-15 10:09:18,824 Parameters: domain_dimensions         = [256 256 256]\n",
      "yt : [INFO     ] 2022-07-15 10:09:18,827 Parameters: domain_left_edge          = [0. 0. 0.]\n",
      "yt : [INFO     ] 2022-07-15 10:09:18,830 Parameters: domain_right_edge         = [1. 1. 1.]\n",
      "yt : [INFO     ] 2022-07-15 10:09:18,831 Parameters: cosmological_simulation   = 1\n",
      "yt : [INFO     ] 2022-07-15 10:09:18,832 Parameters: current_redshift          = 1.654435864871\n",
      "yt : [INFO     ] 2022-07-15 10:09:18,833 Parameters: omega_lambda              = 0.715\n",
      "yt : [INFO     ] 2022-07-15 10:09:18,834 Parameters: omega_matter              = 0.285\n",
      "yt : [INFO     ] 2022-07-15 10:09:18,835 Parameters: omega_radiation           = 0.0\n",
      "yt : [INFO     ] 2022-07-15 10:09:18,835 Parameters: hubble_constant           = 0.695\n"
     ]
    },
    {
     "name": "stdout",
     "output_type": "stream",
     "text": [
      "get_refine_box: using this location:      col1       col2     col3     col4     col5     col6     col7   col8\n",
      "------------- -------- -------- -------- -------- -------- -------- ----\n",
      "1.65443586487 0.492592 0.486264 0.501763 0.494592 0.488264 0.503763    9\n"
     ]
    },
    {
     "name": "stderr",
     "output_type": "stream",
     "text": [
      "Parsing Hierarchy : 100%|████████████████| 6646/6646 [00:00<00:00, 12477.91it/s]\n",
      "yt : [INFO     ] 2022-07-15 10:09:19,680 Gathering a field list (this may take a moment.)\n",
      "yt : [WARNING  ] 2022-07-15 10:09:23,232 The stars particle filter already exists. Overriding.\n",
      "yt : [WARNING  ] 2022-07-15 10:09:23,232 The DM particle filter already exists. Overriding.\n"
     ]
    },
    {
     "name": "stdout",
     "output_type": "stream",
     "text": [
      "Pulling halo center from catalog file\n",
      "Opening snapshot /Volumes/TempestTimeSteps/DD0627/DD0627\n"
     ]
    },
    {
     "name": "stderr",
     "output_type": "stream",
     "text": [
      "yt : [INFO     ] 2022-07-15 10:09:23,360 Parameters: current_time              = 189.81652781829\n",
      "yt : [INFO     ] 2022-07-15 10:09:23,363 Parameters: domain_dimensions         = [256 256 256]\n",
      "yt : [INFO     ] 2022-07-15 10:09:23,371 Parameters: domain_left_edge          = [0. 0. 0.]\n",
      "yt : [INFO     ] 2022-07-15 10:09:23,374 Parameters: domain_right_edge         = [1. 1. 1.]\n",
      "yt : [INFO     ] 2022-07-15 10:09:23,375 Parameters: cosmological_simulation   = 1\n",
      "yt : [INFO     ] 2022-07-15 10:09:23,376 Parameters: current_redshift          = 1.6055910020775\n",
      "yt : [INFO     ] 2022-07-15 10:09:23,377 Parameters: omega_lambda              = 0.715\n",
      "yt : [INFO     ] 2022-07-15 10:09:23,377 Parameters: omega_matter              = 0.285\n",
      "yt : [INFO     ] 2022-07-15 10:09:23,378 Parameters: omega_radiation           = 0.0\n",
      "yt : [INFO     ] 2022-07-15 10:09:23,378 Parameters: hubble_constant           = 0.695\n"
     ]
    },
    {
     "name": "stdout",
     "output_type": "stream",
     "text": [
      "get_refine_box: using this location:      col1       col2     col3     col4     col5     col6     col7   col8\n",
      "------------- -------- -------- -------- -------- -------- -------- ----\n",
      "1.60559100208 0.492518 0.485987 0.501896 0.494518 0.487987 0.503896    9\n"
     ]
    },
    {
     "name": "stderr",
     "output_type": "stream",
     "text": [
      "Parsing Hierarchy : 100%|████████████████| 7439/7439 [00:00<00:00, 12065.29it/s]\n",
      "yt : [INFO     ] 2022-07-15 10:09:24,409 Gathering a field list (this may take a moment.)\n",
      "yt : [WARNING  ] 2022-07-15 10:09:28,130 The stars particle filter already exists. Overriding.\n",
      "yt : [WARNING  ] 2022-07-15 10:09:28,131 The DM particle filter already exists. Overriding.\n"
     ]
    },
    {
     "name": "stdout",
     "output_type": "stream",
     "text": [
      "Pulling halo center from catalog file\n",
      "Opening snapshot /Volumes/TempestTimeSteps/DD0647/DD0647\n"
     ]
    },
    {
     "name": "stderr",
     "output_type": "stream",
     "text": [
      "yt : [INFO     ] 2022-07-15 10:09:28,326 Parameters: current_time              = 194.81652781829\n",
      "yt : [INFO     ] 2022-07-15 10:09:28,329 Parameters: domain_dimensions         = [256 256 256]\n",
      "yt : [INFO     ] 2022-07-15 10:09:28,331 Parameters: domain_left_edge          = [0. 0. 0.]\n",
      "yt : [INFO     ] 2022-07-15 10:09:28,334 Parameters: domain_right_edge         = [1. 1. 1.]\n",
      "yt : [INFO     ] 2022-07-15 10:09:28,335 Parameters: cosmological_simulation   = 1\n",
      "yt : [INFO     ] 2022-07-15 10:09:28,335 Parameters: current_redshift          = 1.5587766543771\n",
      "yt : [INFO     ] 2022-07-15 10:09:28,336 Parameters: omega_lambda              = 0.715\n",
      "yt : [INFO     ] 2022-07-15 10:09:28,337 Parameters: omega_matter              = 0.285\n",
      "yt : [INFO     ] 2022-07-15 10:09:28,337 Parameters: omega_radiation           = 0.0\n",
      "yt : [INFO     ] 2022-07-15 10:09:28,338 Parameters: hubble_constant           = 0.695\n"
     ]
    },
    {
     "name": "stdout",
     "output_type": "stream",
     "text": [
      "get_refine_box: using this location:      col1       col2     col3     col4     col5     col6     col7   col8\n",
      "------------- -------- -------- -------- -------- -------- -------- ----\n",
      "1.55877665438 0.492451 0.485703 0.502037 0.494451 0.487703 0.504037    9\n"
     ]
    },
    {
     "name": "stderr",
     "output_type": "stream",
     "text": [
      "Parsing Hierarchy : 100%|█████████████████| 7437/7437 [00:02<00:00, 2516.54it/s]\n",
      "yt : [INFO     ] 2022-07-15 10:09:31,653 Gathering a field list (this may take a moment.)\n",
      "yt : [WARNING  ] 2022-07-15 10:09:35,316 The stars particle filter already exists. Overriding.\n",
      "yt : [WARNING  ] 2022-07-15 10:09:35,317 The DM particle filter already exists. Overriding.\n"
     ]
    },
    {
     "name": "stdout",
     "output_type": "stream",
     "text": [
      "Pulling halo center from catalog file\n",
      "Opening snapshot /Volumes/TempestTimeSteps/DD0667/DD0667\n"
     ]
    },
    {
     "name": "stderr",
     "output_type": "stream",
     "text": [
      "yt : [INFO     ] 2022-07-15 10:09:35,448 Parameters: current_time              = 199.81652781829\n",
      "yt : [INFO     ] 2022-07-15 10:09:35,451 Parameters: domain_dimensions         = [256 256 256]\n",
      "yt : [INFO     ] 2022-07-15 10:09:35,454 Parameters: domain_left_edge          = [0. 0. 0.]\n",
      "yt : [INFO     ] 2022-07-15 10:09:35,457 Parameters: domain_right_edge         = [1. 1. 1.]\n",
      "yt : [INFO     ] 2022-07-15 10:09:35,457 Parameters: cosmological_simulation   = 1\n",
      "yt : [INFO     ] 2022-07-15 10:09:35,458 Parameters: current_redshift          = 1.5138563920287\n",
      "yt : [INFO     ] 2022-07-15 10:09:35,458 Parameters: omega_lambda              = 0.715\n",
      "yt : [INFO     ] 2022-07-15 10:09:35,459 Parameters: omega_matter              = 0.285\n",
      "yt : [INFO     ] 2022-07-15 10:09:35,459 Parameters: omega_radiation           = 0.0\n",
      "yt : [INFO     ] 2022-07-15 10:09:35,460 Parameters: hubble_constant           = 0.695\n"
     ]
    },
    {
     "name": "stdout",
     "output_type": "stream",
     "text": [
      "get_refine_box: using this location:      col1       col2     col3     col4     col5     col6     col7   col8\n",
      "------------- -------- -------- -------- -------- -------- -------- ----\n",
      "1.51385639203 0.492384 0.485436 0.502152 0.494384 0.487436 0.504152    9\n"
     ]
    },
    {
     "name": "stderr",
     "output_type": "stream",
     "text": [
      "Parsing Hierarchy : 100%|████████████████| 8266/8266 [00:00<00:00, 12631.17it/s]\n",
      "yt : [INFO     ] 2022-07-15 10:09:36,557 Gathering a field list (this may take a moment.)\n",
      "yt : [WARNING  ] 2022-07-15 10:09:40,100 The stars particle filter already exists. Overriding.\n",
      "yt : [WARNING  ] 2022-07-15 10:09:40,101 The DM particle filter already exists. Overriding.\n"
     ]
    },
    {
     "name": "stdout",
     "output_type": "stream",
     "text": [
      "Pulling halo center from catalog file\n",
      "Opening snapshot /Volumes/TempestTimeSteps/DD0687/DD0687\n"
     ]
    },
    {
     "name": "stderr",
     "output_type": "stream",
     "text": [
      "yt : [INFO     ] 2022-07-15 10:09:40,305 Parameters: current_time              = 204.81652781829\n",
      "yt : [INFO     ] 2022-07-15 10:09:40,307 Parameters: domain_dimensions         = [256 256 256]\n",
      "yt : [INFO     ] 2022-07-15 10:09:40,310 Parameters: domain_left_edge          = [0. 0. 0.]\n",
      "yt : [INFO     ] 2022-07-15 10:09:40,313 Parameters: domain_right_edge         = [1. 1. 1.]\n",
      "yt : [INFO     ] 2022-07-15 10:09:40,314 Parameters: cosmological_simulation   = 1\n",
      "yt : [INFO     ] 2022-07-15 10:09:40,315 Parameters: current_redshift          = 1.4707060660811\n",
      "yt : [INFO     ] 2022-07-15 10:09:40,315 Parameters: omega_lambda              = 0.715\n",
      "yt : [INFO     ] 2022-07-15 10:09:40,316 Parameters: omega_matter              = 0.285\n",
      "yt : [INFO     ] 2022-07-15 10:09:40,316 Parameters: omega_radiation           = 0.0\n",
      "yt : [INFO     ] 2022-07-15 10:09:40,317 Parameters: hubble_constant           = 0.695\n"
     ]
    },
    {
     "name": "stdout",
     "output_type": "stream",
     "text": [
      "get_refine_box: using this location:      col1       col2     col3     col4    col5     col6     col7  col8\n",
      "------------- -------- -------- ------- -------- -------- ------- ----\n",
      "1.47070606608 0.492346 0.485169 0.50227 0.494346 0.487169 0.50427    9\n"
     ]
    },
    {
     "name": "stderr",
     "output_type": "stream",
     "text": [
      "Parsing Hierarchy : 100%|████████████████| 8638/8638 [00:00<00:00, 12145.23it/s]\n",
      "yt : [INFO     ] 2022-07-15 10:09:41,427 Gathering a field list (this may take a moment.)\n",
      "yt : [WARNING  ] 2022-07-15 10:09:45,228 The stars particle filter already exists. Overriding.\n",
      "yt : [WARNING  ] 2022-07-15 10:09:45,229 The DM particle filter already exists. Overriding.\n"
     ]
    },
    {
     "name": "stdout",
     "output_type": "stream",
     "text": [
      "Pulling halo center from catalog file\n",
      "Opening snapshot /Volumes/TempestTimeSteps/DD0707/DD0707\n"
     ]
    },
    {
     "name": "stderr",
     "output_type": "stream",
     "text": [
      "yt : [INFO     ] 2022-07-15 10:09:45,433 Parameters: current_time              = 209.81652781829\n",
      "yt : [INFO     ] 2022-07-15 10:09:45,436 Parameters: domain_dimensions         = [256 256 256]\n",
      "yt : [INFO     ] 2022-07-15 10:09:45,439 Parameters: domain_left_edge          = [0. 0. 0.]\n",
      "yt : [INFO     ] 2022-07-15 10:09:45,442 Parameters: domain_right_edge         = [1. 1. 1.]\n",
      "yt : [INFO     ] 2022-07-15 10:09:45,443 Parameters: cosmological_simulation   = 1\n",
      "yt : [INFO     ] 2022-07-15 10:09:45,443 Parameters: current_redshift          = 1.4292124366682\n",
      "yt : [INFO     ] 2022-07-15 10:09:45,444 Parameters: omega_lambda              = 0.715\n",
      "yt : [INFO     ] 2022-07-15 10:09:45,445 Parameters: omega_matter              = 0.285\n",
      "yt : [INFO     ] 2022-07-15 10:09:45,445 Parameters: omega_radiation           = 0.0\n",
      "yt : [INFO     ] 2022-07-15 10:09:45,446 Parameters: hubble_constant           = 0.695\n"
     ]
    },
    {
     "name": "stdout",
     "output_type": "stream",
     "text": [
      "get_refine_box: using this location:      col1       col2     col3     col4     col5     col6     col7   col8\n",
      "------------- -------- -------- -------- -------- -------- -------- ----\n",
      "1.42921243667 0.492291 0.484911 0.502394 0.494291 0.486911 0.504394    9\n"
     ]
    },
    {
     "name": "stderr",
     "output_type": "stream",
     "text": [
      "Parsing Hierarchy : 100%|████████████████| 8418/8418 [00:00<00:00, 12333.11it/s]\n",
      "yt : [INFO     ] 2022-07-15 10:09:46,527 Gathering a field list (this may take a moment.)\n",
      "yt : [WARNING  ] 2022-07-15 10:09:50,103 The stars particle filter already exists. Overriding.\n",
      "yt : [WARNING  ] 2022-07-15 10:09:50,103 The DM particle filter already exists. Overriding.\n"
     ]
    },
    {
     "name": "stdout",
     "output_type": "stream",
     "text": [
      "Pulling halo center from catalog file\n",
      "Opening snapshot /Volumes/TempestTimeSteps/DD0727/DD0727\n"
     ]
    },
    {
     "name": "stderr",
     "output_type": "stream",
     "text": [
      "yt : [INFO     ] 2022-07-15 10:09:50,300 Parameters: current_time              = 214.81652781829\n",
      "yt : [INFO     ] 2022-07-15 10:09:50,304 Parameters: domain_dimensions         = [256 256 256]\n",
      "yt : [INFO     ] 2022-07-15 10:09:50,307 Parameters: domain_left_edge          = [0. 0. 0.]\n",
      "yt : [INFO     ] 2022-07-15 10:09:50,310 Parameters: domain_right_edge         = [1. 1. 1.]\n",
      "yt : [INFO     ] 2022-07-15 10:09:50,311 Parameters: cosmological_simulation   = 1\n",
      "yt : [INFO     ] 2022-07-15 10:09:50,312 Parameters: current_redshift          = 1.3892719829729\n",
      "yt : [INFO     ] 2022-07-15 10:09:50,313 Parameters: omega_lambda              = 0.715\n",
      "yt : [INFO     ] 2022-07-15 10:09:50,314 Parameters: omega_matter              = 0.285\n",
      "yt : [INFO     ] 2022-07-15 10:09:50,314 Parameters: omega_radiation           = 0.0\n",
      "yt : [INFO     ] 2022-07-15 10:09:50,315 Parameters: hubble_constant           = 0.695\n"
     ]
    },
    {
     "name": "stdout",
     "output_type": "stream",
     "text": [
      "get_refine_box: using this location:      col1       col2     col3     col4     col5     col6     col7   col8\n",
      "------------- -------- -------- -------- -------- -------- -------- ----\n",
      "1.38927198297 0.492228 0.484667 0.502503 0.494228 0.486667 0.504503    9\n"
     ]
    },
    {
     "name": "stderr",
     "output_type": "stream",
     "text": [
      "Parsing Hierarchy : 100%|████████████████| 8146/8146 [00:00<00:00, 12349.57it/s]\n",
      "yt : [INFO     ] 2022-07-15 10:09:51,368 Gathering a field list (this may take a moment.)\n",
      "yt : [WARNING  ] 2022-07-15 10:09:54,979 The stars particle filter already exists. Overriding.\n",
      "yt : [WARNING  ] 2022-07-15 10:09:54,980 The DM particle filter already exists. Overriding.\n"
     ]
    },
    {
     "name": "stdout",
     "output_type": "stream",
     "text": [
      "Pulling halo center from catalog file\n",
      "Opening snapshot /Volumes/TempestTimeSteps/DD0747/DD0747\n"
     ]
    },
    {
     "name": "stderr",
     "output_type": "stream",
     "text": [
      "yt : [INFO     ] 2022-07-15 10:09:55,178 Parameters: current_time              = 219.81652781829\n",
      "yt : [INFO     ] 2022-07-15 10:09:55,181 Parameters: domain_dimensions         = [256 256 256]\n",
      "yt : [INFO     ] 2022-07-15 10:09:55,184 Parameters: domain_left_edge          = [0. 0. 0.]\n",
      "yt : [INFO     ] 2022-07-15 10:09:55,187 Parameters: domain_right_edge         = [1. 1. 1.]\n",
      "yt : [INFO     ] 2022-07-15 10:09:55,188 Parameters: cosmological_simulation   = 1\n",
      "yt : [INFO     ] 2022-07-15 10:09:55,189 Parameters: current_redshift          = 1.3507898672001\n",
      "yt : [INFO     ] 2022-07-15 10:09:55,189 Parameters: omega_lambda              = 0.715\n",
      "yt : [INFO     ] 2022-07-15 10:09:55,190 Parameters: omega_matter              = 0.285\n",
      "yt : [INFO     ] 2022-07-15 10:09:55,191 Parameters: omega_radiation           = 0.0\n",
      "yt : [INFO     ] 2022-07-15 10:09:55,191 Parameters: hubble_constant           = 0.695\n"
     ]
    },
    {
     "name": "stdout",
     "output_type": "stream",
     "text": [
      "get_refine_box: using this location:     col1       col2     col3     col4     col5     col6     col7   col8\n",
      "------------ -------- -------- -------- -------- -------- -------- ----\n",
      "1.3507898672 0.492157 0.484423 0.502606 0.494157 0.486423 0.504606    9\n"
     ]
    },
    {
     "name": "stderr",
     "output_type": "stream",
     "text": [
      "Parsing Hierarchy : 100%|████████████████| 8058/8058 [00:00<00:00, 12360.49it/s]\n",
      "yt : [INFO     ] 2022-07-15 10:09:56,269 Gathering a field list (this may take a moment.)\n",
      "yt : [WARNING  ] 2022-07-15 10:09:59,874 The stars particle filter already exists. Overriding.\n",
      "yt : [WARNING  ] 2022-07-15 10:09:59,875 The DM particle filter already exists. Overriding.\n"
     ]
    },
    {
     "name": "stdout",
     "output_type": "stream",
     "text": [
      "Pulling halo center from catalog file\n",
      "Opening snapshot /Volumes/TempestTimeSteps/DD0767/DD0767\n"
     ]
    },
    {
     "name": "stderr",
     "output_type": "stream",
     "text": [
      "yt : [INFO     ] 2022-07-15 10:10:00,076 Parameters: current_time              = 224.81652781829\n",
      "yt : [INFO     ] 2022-07-15 10:10:00,079 Parameters: domain_dimensions         = [256 256 256]\n",
      "yt : [INFO     ] 2022-07-15 10:10:00,082 Parameters: domain_left_edge          = [0. 0. 0.]\n",
      "yt : [INFO     ] 2022-07-15 10:10:00,086 Parameters: domain_right_edge         = [1. 1. 1.]\n",
      "yt : [INFO     ] 2022-07-15 10:10:00,087 Parameters: cosmological_simulation   = 1\n",
      "yt : [INFO     ] 2022-07-15 10:10:00,088 Parameters: current_redshift          = 1.3136790296363\n",
      "yt : [INFO     ] 2022-07-15 10:10:00,089 Parameters: omega_lambda              = 0.715\n",
      "yt : [INFO     ] 2022-07-15 10:10:00,090 Parameters: omega_matter              = 0.285\n",
      "yt : [INFO     ] 2022-07-15 10:10:00,090 Parameters: omega_radiation           = 0.0\n",
      "yt : [INFO     ] 2022-07-15 10:10:00,091 Parameters: hubble_constant           = 0.695\n"
     ]
    },
    {
     "name": "stdout",
     "output_type": "stream",
     "text": [
      "get_refine_box: using this location:      col1       col2     col3     col4     col5     col6     col7   col8\n",
      "------------- -------- -------- -------- -------- -------- -------- ----\n",
      "1.31367902964 0.492089 0.484183 0.502695 0.494089 0.486183 0.504695    9\n"
     ]
    },
    {
     "name": "stderr",
     "output_type": "stream",
     "text": [
      "Parsing Hierarchy : 100%|█████████████████| 7829/7829 [00:03<00:00, 2230.34it/s]\n",
      "yt : [INFO     ] 2022-07-15 10:10:03,999 Gathering a field list (this may take a moment.)\n",
      "yt : [WARNING  ] 2022-07-15 10:10:07,660 The stars particle filter already exists. Overriding.\n",
      "yt : [WARNING  ] 2022-07-15 10:10:07,661 The DM particle filter already exists. Overriding.\n"
     ]
    },
    {
     "name": "stdout",
     "output_type": "stream",
     "text": [
      "Pulling halo center from catalog file\n",
      "Opening snapshot /Volumes/TempestTimeSteps/DD0787/DD0787\n"
     ]
    },
    {
     "name": "stderr",
     "output_type": "stream",
     "text": [
      "yt : [INFO     ] 2022-07-15 10:10:07,863 Parameters: current_time              = 229.81652781829\n",
      "yt : [INFO     ] 2022-07-15 10:10:07,866 Parameters: domain_dimensions         = [256 256 256]\n",
      "yt : [INFO     ] 2022-07-15 10:10:07,869 Parameters: domain_left_edge          = [0. 0. 0.]\n",
      "yt : [INFO     ] 2022-07-15 10:10:07,873 Parameters: domain_right_edge         = [1. 1. 1.]\n",
      "yt : [INFO     ] 2022-07-15 10:10:07,873 Parameters: cosmological_simulation   = 1\n",
      "yt : [INFO     ] 2022-07-15 10:10:07,874 Parameters: current_redshift          = 1.2778593957079\n",
      "yt : [INFO     ] 2022-07-15 10:10:07,875 Parameters: omega_lambda              = 0.715\n",
      "yt : [INFO     ] 2022-07-15 10:10:07,876 Parameters: omega_matter              = 0.285\n",
      "yt : [INFO     ] 2022-07-15 10:10:07,877 Parameters: omega_radiation           = 0.0\n",
      "yt : [INFO     ] 2022-07-15 10:10:07,877 Parameters: hubble_constant           = 0.695\n"
     ]
    },
    {
     "name": "stdout",
     "output_type": "stream",
     "text": [
      "get_refine_box: using this location:      col1       col2     col3     col4     col5     col6     col7   col8\n",
      "------------- -------- -------- -------- -------- -------- -------- ----\n",
      "1.27785939571 0.492022 0.483956 0.502785 0.494022 0.485956 0.504785    9\n"
     ]
    },
    {
     "name": "stderr",
     "output_type": "stream",
     "text": [
      "Parsing Hierarchy : 100%|████████████████| 8132/8132 [00:00<00:00, 12481.64it/s]\n",
      "yt : [INFO     ] 2022-07-15 10:10:08,911 Gathering a field list (this may take a moment.)\n",
      "yt : [WARNING  ] 2022-07-15 10:10:12,409 The stars particle filter already exists. Overriding.\n",
      "yt : [WARNING  ] 2022-07-15 10:10:12,410 The DM particle filter already exists. Overriding.\n"
     ]
    },
    {
     "name": "stdout",
     "output_type": "stream",
     "text": [
      "Pulling halo center from catalog file\n",
      "Opening snapshot /Volumes/TempestTimeSteps/DD0807/DD0807\n"
     ]
    },
    {
     "name": "stderr",
     "output_type": "stream",
     "text": [
      "yt : [INFO     ] 2022-07-15 10:10:12,615 Parameters: current_time              = 234.81652781829\n",
      "yt : [INFO     ] 2022-07-15 10:10:12,618 Parameters: domain_dimensions         = [256 256 256]\n",
      "yt : [INFO     ] 2022-07-15 10:10:12,621 Parameters: domain_left_edge          = [0. 0. 0.]\n",
      "yt : [INFO     ] 2022-07-15 10:10:12,626 Parameters: domain_right_edge         = [1. 1. 1.]\n",
      "yt : [INFO     ] 2022-07-15 10:10:12,627 Parameters: cosmological_simulation   = 1\n",
      "yt : [INFO     ] 2022-07-15 10:10:12,628 Parameters: current_redshift          = 1.2432571790813\n",
      "yt : [INFO     ] 2022-07-15 10:10:12,629 Parameters: omega_lambda              = 0.715\n",
      "yt : [INFO     ] 2022-07-15 10:10:12,630 Parameters: omega_matter              = 0.285\n",
      "yt : [INFO     ] 2022-07-15 10:10:12,630 Parameters: omega_radiation           = 0.0\n",
      "yt : [INFO     ] 2022-07-15 10:10:12,631 Parameters: hubble_constant           = 0.695\n"
     ]
    },
    {
     "name": "stdout",
     "output_type": "stream",
     "text": [
      "get_refine_box: using this location:      col1       col2     col3     col4     col5     col6     col7   col8\n",
      "------------- -------- -------- -------- -------- -------- -------- ----\n",
      "1.24325717908 0.491957 0.483733 0.502879 0.493957 0.485733 0.504879    9\n"
     ]
    },
    {
     "name": "stderr",
     "output_type": "stream",
     "text": [
      "Parsing Hierarchy : 100%|████████████████| 7374/7374 [00:00<00:00, 12890.72it/s]\n",
      "yt : [INFO     ] 2022-07-15 10:10:13,537 Gathering a field list (this may take a moment.)\n",
      "yt : [WARNING  ] 2022-07-15 10:10:16,973 The stars particle filter already exists. Overriding.\n",
      "yt : [WARNING  ] 2022-07-15 10:10:16,974 The DM particle filter already exists. Overriding.\n"
     ]
    },
    {
     "name": "stdout",
     "output_type": "stream",
     "text": [
      "Pulling halo center from catalog file\n",
      "Opening snapshot /Volumes/TempestTimeSteps/DD0827/DD0827\n"
     ]
    },
    {
     "name": "stderr",
     "output_type": "stream",
     "text": [
      "yt : [INFO     ] 2022-07-15 10:10:17,186 Parameters: current_time              = 239.81652781829\n",
      "yt : [INFO     ] 2022-07-15 10:10:17,188 Parameters: domain_dimensions         = [256 256 256]\n",
      "yt : [INFO     ] 2022-07-15 10:10:17,191 Parameters: domain_left_edge          = [0. 0. 0.]\n",
      "yt : [INFO     ] 2022-07-15 10:10:17,194 Parameters: domain_right_edge         = [1. 1. 1.]\n",
      "yt : [INFO     ] 2022-07-15 10:10:17,194 Parameters: cosmological_simulation   = 1\n",
      "yt : [INFO     ] 2022-07-15 10:10:17,195 Parameters: current_redshift          = 1.2098042674053\n",
      "yt : [INFO     ] 2022-07-15 10:10:17,195 Parameters: omega_lambda              = 0.715\n",
      "yt : [INFO     ] 2022-07-15 10:10:17,196 Parameters: omega_matter              = 0.285\n",
      "yt : [INFO     ] 2022-07-15 10:10:17,197 Parameters: omega_radiation           = 0.0\n",
      "yt : [INFO     ] 2022-07-15 10:10:17,197 Parameters: hubble_constant           = 0.695\n"
     ]
    },
    {
     "name": "stdout",
     "output_type": "stream",
     "text": [
      "get_refine_box: using this location:      col1       col2     col3     col4     col5     col6     col7   col8\n",
      "------------- -------- -------- -------- -------- -------- -------- ----\n",
      "1.20980426741 0.491888 0.483515 0.502974 0.493888 0.485515 0.504974    9\n"
     ]
    },
    {
     "name": "stderr",
     "output_type": "stream",
     "text": [
      "Parsing Hierarchy : 100%|████████████████| 6935/6935 [00:00<00:00, 12873.03it/s]\n",
      "yt : [INFO     ] 2022-07-15 10:10:18,074 Gathering a field list (this may take a moment.)\n",
      "yt : [WARNING  ] 2022-07-15 10:10:21,600 The stars particle filter already exists. Overriding.\n",
      "yt : [WARNING  ] 2022-07-15 10:10:21,602 The DM particle filter already exists. Overriding.\n"
     ]
    },
    {
     "name": "stdout",
     "output_type": "stream",
     "text": [
      "Pulling halo center from catalog file\n",
      "Opening snapshot /Volumes/TempestTimeSteps/DD0847/DD0847\n"
     ]
    },
    {
     "name": "stderr",
     "output_type": "stream",
     "text": [
      "yt : [INFO     ] 2022-07-15 10:10:21,822 Parameters: current_time              = 244.81652781829\n",
      "yt : [INFO     ] 2022-07-15 10:10:21,826 Parameters: domain_dimensions         = [256 256 256]\n",
      "yt : [INFO     ] 2022-07-15 10:10:21,830 Parameters: domain_left_edge          = [0. 0. 0.]\n",
      "yt : [INFO     ] 2022-07-15 10:10:21,833 Parameters: domain_right_edge         = [1. 1. 1.]\n",
      "yt : [INFO     ] 2022-07-15 10:10:21,834 Parameters: cosmological_simulation   = 1\n",
      "yt : [INFO     ] 2022-07-15 10:10:21,835 Parameters: current_redshift          = 1.1774376794027\n",
      "yt : [INFO     ] 2022-07-15 10:10:21,835 Parameters: omega_lambda              = 0.715\n",
      "yt : [INFO     ] 2022-07-15 10:10:21,836 Parameters: omega_matter              = 0.285\n",
      "yt : [INFO     ] 2022-07-15 10:10:21,837 Parameters: omega_radiation           = 0.0\n",
      "yt : [INFO     ] 2022-07-15 10:10:21,837 Parameters: hubble_constant           = 0.695\n"
     ]
    },
    {
     "name": "stdout",
     "output_type": "stream",
     "text": [
      "get_refine_box: using this location:     col1       col2     col3    col4     col5     col6    col7   col8\n",
      "------------ -------- ------- -------- -------- ------- -------- ----\n",
      "1.1774376794 0.491816 0.48329 0.503077 0.493816 0.48529 0.505077    9\n"
     ]
    },
    {
     "name": "stderr",
     "output_type": "stream",
     "text": [
      "Parsing Hierarchy : 100%|████████████████| 6688/6688 [00:00<00:00, 12764.97it/s]\n",
      "yt : [INFO     ] 2022-07-15 10:10:22,683 Gathering a field list (this may take a moment.)\n",
      "yt : [WARNING  ] 2022-07-15 10:10:26,124 The stars particle filter already exists. Overriding.\n",
      "yt : [WARNING  ] 2022-07-15 10:10:26,125 The DM particle filter already exists. Overriding.\n"
     ]
    },
    {
     "name": "stdout",
     "output_type": "stream",
     "text": [
      "Pulling halo center from catalog file\n",
      "Opening snapshot /Volumes/TempestTimeSteps/DD0867/DD0867\n"
     ]
    },
    {
     "name": "stderr",
     "output_type": "stream",
     "text": [
      "yt : [INFO     ] 2022-07-15 10:10:26,314 Parameters: current_time              = 249.81652781829\n",
      "yt : [INFO     ] 2022-07-15 10:10:26,317 Parameters: domain_dimensions         = [256 256 256]\n",
      "yt : [INFO     ] 2022-07-15 10:10:26,320 Parameters: domain_left_edge          = [0. 0. 0.]\n",
      "yt : [INFO     ] 2022-07-15 10:10:26,324 Parameters: domain_right_edge         = [1. 1. 1.]\n",
      "yt : [INFO     ] 2022-07-15 10:10:26,325 Parameters: cosmological_simulation   = 1\n",
      "yt : [INFO     ] 2022-07-15 10:10:26,325 Parameters: current_redshift          = 1.1460990837584\n",
      "yt : [INFO     ] 2022-07-15 10:10:26,326 Parameters: omega_lambda              = 0.715\n",
      "yt : [INFO     ] 2022-07-15 10:10:26,327 Parameters: omega_matter              = 0.285\n",
      "yt : [INFO     ] 2022-07-15 10:10:26,327 Parameters: omega_radiation           = 0.0\n",
      "yt : [INFO     ] 2022-07-15 10:10:26,328 Parameters: hubble_constant           = 0.695\n"
     ]
    },
    {
     "name": "stdout",
     "output_type": "stream",
     "text": [
      "get_refine_box: using this location:      col1       col2     col3     col4     col5     col6     col7   col8\n",
      "------------- -------- -------- -------- -------- -------- -------- ----\n",
      "1.14609908376 0.491743 0.483059 0.503163 0.493743 0.485059 0.505163    9\n"
     ]
    },
    {
     "name": "stderr",
     "output_type": "stream",
     "text": [
      "Parsing Hierarchy : 100%|████████████████| 7962/7962 [00:00<00:00, 13207.15it/s]\n",
      "yt : [INFO     ] 2022-07-15 10:10:27,291 Gathering a field list (this may take a moment.)\n",
      "yt : [WARNING  ] 2022-07-15 10:10:30,684 The stars particle filter already exists. Overriding.\n",
      "yt : [WARNING  ] 2022-07-15 10:10:30,685 The DM particle filter already exists. Overriding.\n"
     ]
    },
    {
     "name": "stdout",
     "output_type": "stream",
     "text": [
      "Pulling halo center from catalog file\n",
      "Opening snapshot /Volumes/TempestTimeSteps/DD0887/DD0887\n"
     ]
    },
    {
     "name": "stderr",
     "output_type": "stream",
     "text": [
      "yt : [INFO     ] 2022-07-15 10:10:30,854 Parameters: current_time              = 254.81652781829\n",
      "yt : [INFO     ] 2022-07-15 10:10:30,856 Parameters: domain_dimensions         = [256 256 256]\n",
      "yt : [INFO     ] 2022-07-15 10:10:30,859 Parameters: domain_left_edge          = [0. 0. 0.]\n",
      "yt : [INFO     ] 2022-07-15 10:10:30,863 Parameters: domain_right_edge         = [1. 1. 1.]\n",
      "yt : [INFO     ] 2022-07-15 10:10:30,863 Parameters: cosmological_simulation   = 1\n",
      "yt : [INFO     ] 2022-07-15 10:10:30,864 Parameters: current_redshift          = 1.1157343716912\n",
      "yt : [INFO     ] 2022-07-15 10:10:30,865 Parameters: omega_lambda              = 0.715\n",
      "yt : [INFO     ] 2022-07-15 10:10:30,865 Parameters: omega_matter              = 0.285\n",
      "yt : [INFO     ] 2022-07-15 10:10:30,866 Parameters: omega_radiation           = 0.0\n",
      "yt : [INFO     ] 2022-07-15 10:10:30,867 Parameters: hubble_constant           = 0.695\n"
     ]
    },
    {
     "name": "stdout",
     "output_type": "stream",
     "text": [
      "get_refine_box: using this location:      col1       col2     col3     col4     col5     col6     col7   col8\n",
      "------------- -------- -------- -------- -------- -------- -------- ----\n",
      "1.11573437169 0.491684 0.482832 0.503258 0.493684 0.484832 0.505258    9\n"
     ]
    },
    {
     "name": "stderr",
     "output_type": "stream",
     "text": [
      "Parsing Hierarchy : 100%|████████████████| 7394/7394 [00:00<00:00, 12880.18it/s]\n",
      "yt : [INFO     ] 2022-07-15 10:10:31,784 Gathering a field list (this may take a moment.)\n",
      "yt : [WARNING  ] 2022-07-15 10:10:35,072 The stars particle filter already exists. Overriding.\n",
      "yt : [WARNING  ] 2022-07-15 10:10:35,073 The DM particle filter already exists. Overriding.\n"
     ]
    },
    {
     "name": "stdout",
     "output_type": "stream",
     "text": [
      "Pulling halo center from catalog file\n",
      "Opening snapshot /Volumes/TempestTimeSteps/DD0907/DD0907\n"
     ]
    },
    {
     "name": "stderr",
     "output_type": "stream",
     "text": [
      "yt : [INFO     ] 2022-07-15 10:10:35,305 Parameters: current_time              = 259.81652781829\n",
      "yt : [INFO     ] 2022-07-15 10:10:35,307 Parameters: domain_dimensions         = [256 256 256]\n",
      "yt : [INFO     ] 2022-07-15 10:10:35,311 Parameters: domain_left_edge          = [0. 0. 0.]\n",
      "yt : [INFO     ] 2022-07-15 10:10:35,314 Parameters: domain_right_edge         = [1. 1. 1.]\n",
      "yt : [INFO     ] 2022-07-15 10:10:35,315 Parameters: cosmological_simulation   = 1\n",
      "yt : [INFO     ] 2022-07-15 10:10:35,316 Parameters: current_redshift          = 1.0862932762982\n",
      "yt : [INFO     ] 2022-07-15 10:10:35,316 Parameters: omega_lambda              = 0.715\n",
      "yt : [INFO     ] 2022-07-15 10:10:35,317 Parameters: omega_matter              = 0.285\n",
      "yt : [INFO     ] 2022-07-15 10:10:35,318 Parameters: omega_radiation           = 0.0\n",
      "yt : [INFO     ] 2022-07-15 10:10:35,318 Parameters: hubble_constant           = 0.695\n"
     ]
    },
    {
     "name": "stdout",
     "output_type": "stream",
     "text": [
      "get_refine_box: using this location:     col1       col2     col3     col4    col5     col6     col7  col8\n",
      "------------ -------- -------- ------- -------- -------- ------- ----\n",
      "1.0862932763 0.491633 0.482603 0.50335 0.493633 0.484603 0.50535    9\n"
     ]
    },
    {
     "name": "stderr",
     "output_type": "stream",
     "text": [
      "Parsing Hierarchy : 100%|████████████████| 7350/7350 [00:00<00:00, 13173.55it/s]\n",
      "yt : [INFO     ] 2022-07-15 10:10:36,236 Gathering a field list (this may take a moment.)\n",
      "yt : [WARNING  ] 2022-07-15 10:10:39,642 The stars particle filter already exists. Overriding.\n",
      "yt : [WARNING  ] 2022-07-15 10:10:39,643 The DM particle filter already exists. Overriding.\n"
     ]
    },
    {
     "name": "stdout",
     "output_type": "stream",
     "text": [
      "Pulling halo center from catalog file\n",
      "Opening snapshot /Volumes/TempestTimeSteps/DD0927/DD0927\n"
     ]
    },
    {
     "name": "stderr",
     "output_type": "stream",
     "text": [
      "yt : [INFO     ] 2022-07-15 10:10:39,836 Parameters: current_time              = 264.81652781829\n",
      "yt : [INFO     ] 2022-07-15 10:10:39,839 Parameters: domain_dimensions         = [256 256 256]\n",
      "yt : [INFO     ] 2022-07-15 10:10:39,842 Parameters: domain_left_edge          = [0. 0. 0.]\n",
      "yt : [INFO     ] 2022-07-15 10:10:39,845 Parameters: domain_right_edge         = [1. 1. 1.]\n",
      "yt : [INFO     ] 2022-07-15 10:10:39,846 Parameters: cosmological_simulation   = 1\n",
      "yt : [INFO     ] 2022-07-15 10:10:39,846 Parameters: current_redshift          = 1.0577290327654\n",
      "yt : [INFO     ] 2022-07-15 10:10:39,847 Parameters: omega_lambda              = 0.715\n",
      "yt : [INFO     ] 2022-07-15 10:10:39,848 Parameters: omega_matter              = 0.285\n",
      "yt : [INFO     ] 2022-07-15 10:10:39,848 Parameters: omega_radiation           = 0.0\n",
      "yt : [INFO     ] 2022-07-15 10:10:39,849 Parameters: hubble_constant           = 0.695\n"
     ]
    },
    {
     "name": "stdout",
     "output_type": "stream",
     "text": [
      "get_refine_box: using this location:      col1       col2     col3    col4     col5     col6    col7   col8\n",
      "------------- -------- ------- -------- -------- ------- -------- ----\n",
      "1.05772903277 0.491583 0.48238 0.503437 0.493583 0.48438 0.505437    9\n"
     ]
    },
    {
     "name": "stderr",
     "output_type": "stream",
     "text": [
      "Parsing Hierarchy : 100%|█████████████████| 6595/6595 [00:03<00:00, 1868.99it/s]\n",
      "yt : [INFO     ] 2022-07-15 10:10:43,713 Gathering a field list (this may take a moment.)\n",
      "yt : [WARNING  ] 2022-07-15 10:10:47,290 The stars particle filter already exists. Overriding.\n",
      "yt : [WARNING  ] 2022-07-15 10:10:47,291 The DM particle filter already exists. Overriding.\n"
     ]
    },
    {
     "name": "stdout",
     "output_type": "stream",
     "text": [
      "Pulling halo center from catalog file\n",
      "Opening snapshot /Volumes/TempestTimeSteps/DD0947/DD0947\n"
     ]
    },
    {
     "name": "stderr",
     "output_type": "stream",
     "text": [
      "yt : [INFO     ] 2022-07-15 10:10:47,426 Parameters: current_time              = 269.81652781829\n",
      "yt : [INFO     ] 2022-07-15 10:10:47,430 Parameters: domain_dimensions         = [256 256 256]\n",
      "yt : [INFO     ] 2022-07-15 10:10:47,435 Parameters: domain_left_edge          = [0. 0. 0.]\n",
      "yt : [INFO     ] 2022-07-15 10:10:47,438 Parameters: domain_right_edge         = [1. 1. 1.]\n",
      "yt : [INFO     ] 2022-07-15 10:10:47,440 Parameters: cosmological_simulation   = 1\n",
      "yt : [INFO     ] 2022-07-15 10:10:47,441 Parameters: current_redshift          = 1.0299980743789\n",
      "yt : [INFO     ] 2022-07-15 10:10:47,441 Parameters: omega_lambda              = 0.715\n",
      "yt : [INFO     ] 2022-07-15 10:10:47,442 Parameters: omega_matter              = 0.285\n",
      "yt : [INFO     ] 2022-07-15 10:10:47,443 Parameters: omega_radiation           = 0.0\n",
      "yt : [INFO     ] 2022-07-15 10:10:47,444 Parameters: hubble_constant           = 0.695\n"
     ]
    },
    {
     "name": "stdout",
     "output_type": "stream",
     "text": [
      "get_refine_box: using this location:      col1       col2     col3     col4     col5     col6     col7   col8\n",
      "------------- -------- -------- -------- -------- -------- -------- ----\n",
      "1.02999807438 0.491539 0.482157 0.503523 0.493539 0.484157 0.505523    9\n"
     ]
    },
    {
     "name": "stderr",
     "output_type": "stream",
     "text": [
      "Parsing Hierarchy : 100%|████████████████| 6486/6486 [00:00<00:00, 11652.20it/s]\n",
      "yt : [INFO     ] 2022-07-15 10:10:48,416 Gathering a field list (this may take a moment.)\n",
      "yt : [WARNING  ] 2022-07-15 10:10:52,177 The stars particle filter already exists. Overriding.\n",
      "yt : [WARNING  ] 2022-07-15 10:10:52,177 The DM particle filter already exists. Overriding.\n"
     ]
    },
    {
     "name": "stdout",
     "output_type": "stream",
     "text": [
      "Pulling halo center from catalog file\n",
      "Opening snapshot /Volumes/TempestTimeSteps/DD0967/DD0967\n"
     ]
    },
    {
     "name": "stderr",
     "output_type": "stream",
     "text": [
      "yt : [INFO     ] 2022-07-15 10:10:52,310 Parameters: current_time              = 274.56652781829\n",
      "yt : [INFO     ] 2022-07-15 10:10:52,313 Parameters: domain_dimensions         = [256 256 256]\n",
      "yt : [INFO     ] 2022-07-15 10:10:52,317 Parameters: domain_left_edge          = [0. 0. 0.]\n",
      "yt : [INFO     ] 2022-07-15 10:10:52,320 Parameters: domain_right_edge         = [1. 1. 1.]\n",
      "yt : [INFO     ] 2022-07-15 10:10:52,321 Parameters: cosmological_simulation   = 1\n",
      "yt : [INFO     ] 2022-07-15 10:10:52,321 Parameters: current_redshift          = 1.0043884467376\n",
      "yt : [INFO     ] 2022-07-15 10:10:52,323 Parameters: omega_lambda              = 0.715\n",
      "yt : [INFO     ] 2022-07-15 10:10:52,323 Parameters: omega_matter              = 0.285\n",
      "yt : [INFO     ] 2022-07-15 10:10:52,324 Parameters: omega_radiation           = 0.0\n",
      "yt : [INFO     ] 2022-07-15 10:10:52,327 Parameters: hubble_constant           = 0.695\n"
     ]
    },
    {
     "name": "stdout",
     "output_type": "stream",
     "text": [
      "get_refine_box: using this location:      col1       col2     col3     col4     col5     col6     col7   col8\n",
      "------------- -------- -------- -------- -------- -------- -------- ----\n",
      "1.00438844674 0.491497 0.481944 0.503607 0.493497 0.483944 0.505607    9\n"
     ]
    },
    {
     "name": "stderr",
     "output_type": "stream",
     "text": [
      "Parsing Hierarchy : 100%|████████████████| 5908/5908 [00:00<00:00, 12228.29it/s]\n",
      "yt : [INFO     ] 2022-07-15 10:10:53,219 Gathering a field list (this may take a moment.)\n",
      "yt : [WARNING  ] 2022-07-15 10:10:56,736 The stars particle filter already exists. Overriding.\n",
      "yt : [WARNING  ] 2022-07-15 10:10:56,737 The DM particle filter already exists. Overriding.\n"
     ]
    },
    {
     "name": "stdout",
     "output_type": "stream",
     "text": [
      "Pulling halo center from catalog file\n",
      "Opening snapshot /Volumes/TempestTimeSteps/DD0987/DD0987\n"
     ]
    },
    {
     "name": "stderr",
     "output_type": "stream",
     "text": [
      "yt : [INFO     ] 2022-07-15 10:10:56,925 Parameters: current_time              = 279.56652781829\n",
      "yt : [INFO     ] 2022-07-15 10:10:56,928 Parameters: domain_dimensions         = [256 256 256]\n",
      "yt : [INFO     ] 2022-07-15 10:10:56,931 Parameters: domain_left_edge          = [0. 0. 0.]\n",
      "yt : [INFO     ] 2022-07-15 10:10:56,935 Parameters: domain_right_edge         = [1. 1. 1.]\n",
      "yt : [INFO     ] 2022-07-15 10:10:56,936 Parameters: cosmological_simulation   = 1\n",
      "yt : [INFO     ] 2022-07-15 10:10:56,937 Parameters: current_redshift          = 0.97816794442974\n",
      "yt : [INFO     ] 2022-07-15 10:10:56,937 Parameters: omega_lambda              = 0.715\n",
      "yt : [INFO     ] 2022-07-15 10:10:56,938 Parameters: omega_matter              = 0.285\n",
      "yt : [INFO     ] 2022-07-15 10:10:56,939 Parameters: omega_radiation           = 0.0\n",
      "yt : [INFO     ] 2022-07-15 10:10:56,939 Parameters: hubble_constant           = 0.695\n"
     ]
    },
    {
     "name": "stdout",
     "output_type": "stream",
     "text": [
      "get_refine_box: using this location:      col1       col2     col3     col4     col5     col6     col7   col8\n",
      "------------- -------- -------- -------- -------- -------- -------- ----\n",
      "0.97816794443 0.491452 0.481724 0.503697 0.493452 0.483724 0.505697    9\n"
     ]
    },
    {
     "name": "stderr",
     "output_type": "stream",
     "text": [
      "Parsing Hierarchy : 100%|████████████████| 5704/5704 [00:00<00:00, 11896.55it/s]\n",
      "yt : [INFO     ] 2022-07-15 10:10:57,730 Gathering a field list (this may take a moment.)\n",
      "yt : [WARNING  ] 2022-07-15 10:11:01,112 The stars particle filter already exists. Overriding.\n",
      "yt : [WARNING  ] 2022-07-15 10:11:01,113 The DM particle filter already exists. Overriding.\n"
     ]
    },
    {
     "name": "stdout",
     "output_type": "stream",
     "text": [
      "Pulling halo center from catalog file\n",
      "Opening snapshot /Volumes/TempestTimeSteps/DD1007/DD1007\n"
     ]
    },
    {
     "name": "stderr",
     "output_type": "stream",
     "text": [
      "yt : [INFO     ] 2022-07-15 10:11:01,367 Parameters: current_time              = 284.56652781829\n",
      "yt : [INFO     ] 2022-07-15 10:11:01,370 Parameters: domain_dimensions         = [256 256 256]\n",
      "yt : [INFO     ] 2022-07-15 10:11:01,374 Parameters: domain_left_edge          = [0. 0. 0.]\n",
      "yt : [INFO     ] 2022-07-15 10:11:01,377 Parameters: domain_right_edge         = [1. 1. 1.]\n",
      "yt : [INFO     ] 2022-07-15 10:11:01,378 Parameters: cosmological_simulation   = 1\n",
      "yt : [INFO     ] 2022-07-15 10:11:01,379 Parameters: current_redshift          = 0.95266834518911\n",
      "yt : [INFO     ] 2022-07-15 10:11:01,379 Parameters: omega_lambda              = 0.715\n",
      "yt : [INFO     ] 2022-07-15 10:11:01,380 Parameters: omega_matter              = 0.285\n",
      "yt : [INFO     ] 2022-07-15 10:11:01,381 Parameters: omega_radiation           = 0.0\n",
      "yt : [INFO     ] 2022-07-15 10:11:01,382 Parameters: hubble_constant           = 0.695\n"
     ]
    },
    {
     "name": "stdout",
     "output_type": "stream",
     "text": [
      "get_refine_box: using this location:      col1        col2     col3     col4     col5     col6     col7   col8\n",
      "-------------- -------- -------- -------- -------- -------- -------- ----\n",
      "0.952668345189 0.491404 0.481507 0.503786 0.493404 0.483507 0.505786    9\n"
     ]
    },
    {
     "name": "stderr",
     "output_type": "stream",
     "text": [
      "Parsing Hierarchy : 100%|████████████████| 5544/5544 [00:00<00:00, 12219.07it/s]\n",
      "yt : [INFO     ] 2022-07-15 10:11:02,141 Gathering a field list (this may take a moment.)\n",
      "yt : [WARNING  ] 2022-07-15 10:11:05,596 The stars particle filter already exists. Overriding.\n",
      "yt : [WARNING  ] 2022-07-15 10:11:05,597 The DM particle filter already exists. Overriding.\n"
     ]
    },
    {
     "name": "stdout",
     "output_type": "stream",
     "text": [
      "Pulling halo center from catalog file\n",
      "Opening snapshot /Volumes/TempestTimeSteps/DD1027/DD1027\n"
     ]
    },
    {
     "name": "stderr",
     "output_type": "stream",
     "text": [
      "yt : [INFO     ] 2022-07-15 10:11:05,794 Parameters: current_time              = 289.56652781829\n",
      "yt : [INFO     ] 2022-07-15 10:11:05,798 Parameters: domain_dimensions         = [256 256 256]\n",
      "yt : [INFO     ] 2022-07-15 10:11:05,802 Parameters: domain_left_edge          = [0. 0. 0.]\n",
      "yt : [INFO     ] 2022-07-15 10:11:05,805 Parameters: domain_right_edge         = [1. 1. 1.]\n",
      "yt : [INFO     ] 2022-07-15 10:11:05,806 Parameters: cosmological_simulation   = 1\n",
      "yt : [INFO     ] 2022-07-15 10:11:05,806 Parameters: current_redshift          = 0.92785630164072\n",
      "yt : [INFO     ] 2022-07-15 10:11:05,808 Parameters: omega_lambda              = 0.715\n",
      "yt : [INFO     ] 2022-07-15 10:11:05,809 Parameters: omega_matter              = 0.285\n",
      "yt : [INFO     ] 2022-07-15 10:11:05,809 Parameters: omega_radiation           = 0.0\n",
      "yt : [INFO     ] 2022-07-15 10:11:05,811 Parameters: hubble_constant           = 0.695\n"
     ]
    },
    {
     "name": "stdout",
     "output_type": "stream",
     "text": [
      "get_refine_box: using this location:      col1        col2     col3     col4     col5     col6     col7   col8\n",
      "-------------- -------- -------- -------- -------- -------- -------- ----\n",
      "0.927856301641 0.491352 0.481291 0.503872 0.493352 0.483291 0.505872    9\n"
     ]
    },
    {
     "name": "stderr",
     "output_type": "stream",
     "text": [
      "Parsing Hierarchy : 100%|████████████████| 5326/5326 [00:00<00:00, 13406.24it/s]\n",
      "yt : [INFO     ] 2022-07-15 10:11:06,482 Gathering a field list (this may take a moment.)\n",
      "yt : [WARNING  ] 2022-07-15 10:11:09,920 The stars particle filter already exists. Overriding.\n",
      "yt : [WARNING  ] 2022-07-15 10:11:09,921 The DM particle filter already exists. Overriding.\n"
     ]
    },
    {
     "name": "stdout",
     "output_type": "stream",
     "text": [
      "Pulling halo center from catalog file\n",
      "Opening snapshot /Volumes/TempestTimeSteps/DD1047/DD1047\n"
     ]
    },
    {
     "name": "stderr",
     "output_type": "stream",
     "text": [
      "yt : [INFO     ] 2022-07-15 10:11:10,136 Parameters: current_time              = 294.56652781829\n",
      "yt : [INFO     ] 2022-07-15 10:11:10,139 Parameters: domain_dimensions         = [256 256 256]\n",
      "yt : [INFO     ] 2022-07-15 10:11:10,143 Parameters: domain_left_edge          = [0. 0. 0.]\n",
      "yt : [INFO     ] 2022-07-15 10:11:10,147 Parameters: domain_right_edge         = [1. 1. 1.]\n",
      "yt : [INFO     ] 2022-07-15 10:11:10,148 Parameters: cosmological_simulation   = 1\n",
      "yt : [INFO     ] 2022-07-15 10:11:10,149 Parameters: current_redshift          = 0.90370055679921\n",
      "yt : [INFO     ] 2022-07-15 10:11:10,150 Parameters: omega_lambda              = 0.715\n",
      "yt : [INFO     ] 2022-07-15 10:11:10,151 Parameters: omega_matter              = 0.285\n",
      "yt : [INFO     ] 2022-07-15 10:11:10,155 Parameters: omega_radiation           = 0.0\n",
      "yt : [INFO     ] 2022-07-15 10:11:10,157 Parameters: hubble_constant           = 0.695\n"
     ]
    },
    {
     "name": "stdout",
     "output_type": "stream",
     "text": [
      "get_refine_box: using this location:      col1        col2     col3    col4     col5     col6    col7   col8\n",
      "-------------- -------- ------- -------- -------- ------- -------- ----\n",
      "0.903700556799 0.491301 0.48108 0.503952 0.493301 0.48308 0.505952    9\n"
     ]
    },
    {
     "name": "stderr",
     "output_type": "stream",
     "text": [
      "Parsing Hierarchy : 100%|████████████████| 5246/5246 [00:00<00:00, 13118.74it/s]\n",
      "yt : [INFO     ] 2022-07-15 10:11:10,846 Gathering a field list (this may take a moment.)\n",
      "yt : [WARNING  ] 2022-07-15 10:11:14,481 The stars particle filter already exists. Overriding.\n",
      "yt : [WARNING  ] 2022-07-15 10:11:14,481 The DM particle filter already exists. Overriding.\n"
     ]
    },
    {
     "name": "stdout",
     "output_type": "stream",
     "text": [
      "Pulling halo center from catalog file\n",
      "Opening snapshot /Volumes/TempestTimeSteps/DD1067/DD1067\n"
     ]
    },
    {
     "name": "stderr",
     "output_type": "stream",
     "text": [
      "yt : [INFO     ] 2022-07-15 10:11:14,709 Parameters: current_time              = 299.56652781829\n",
      "yt : [INFO     ] 2022-07-15 10:11:14,712 Parameters: domain_dimensions         = [256 256 256]\n",
      "yt : [INFO     ] 2022-07-15 10:11:14,715 Parameters: domain_left_edge          = [0. 0. 0.]\n",
      "yt : [INFO     ] 2022-07-15 10:11:14,718 Parameters: domain_right_edge         = [1. 1. 1.]\n",
      "yt : [INFO     ] 2022-07-15 10:11:14,719 Parameters: cosmological_simulation   = 1\n",
      "yt : [INFO     ] 2022-07-15 10:11:14,720 Parameters: current_redshift          = 0.88017178065176\n",
      "yt : [INFO     ] 2022-07-15 10:11:14,721 Parameters: omega_lambda              = 0.715\n",
      "yt : [INFO     ] 2022-07-15 10:11:14,721 Parameters: omega_matter              = 0.285\n",
      "yt : [INFO     ] 2022-07-15 10:11:14,722 Parameters: omega_radiation           = 0.0\n",
      "yt : [INFO     ] 2022-07-15 10:11:14,723 Parameters: hubble_constant           = 0.695\n"
     ]
    },
    {
     "name": "stdout",
     "output_type": "stream",
     "text": [
      "get_refine_box: using this location:      col1        col2     col3     col4     col5     col6     col7   col8\n",
      "-------------- -------- -------- -------- -------- -------- -------- ----\n",
      "0.880171780652 0.491244 0.480872 0.504027 0.493244 0.482872 0.506027    9\n"
     ]
    },
    {
     "name": "stderr",
     "output_type": "stream",
     "text": [
      "Parsing Hierarchy : 100%|████████████████| 5244/5244 [00:00<00:00, 12428.94it/s]\n",
      "yt : [INFO     ] 2022-07-15 10:11:15,433 Gathering a field list (this may take a moment.)\n",
      "yt : [WARNING  ] 2022-07-15 10:11:18,949 The stars particle filter already exists. Overriding.\n",
      "yt : [WARNING  ] 2022-07-15 10:11:18,950 The DM particle filter already exists. Overriding.\n"
     ]
    },
    {
     "name": "stdout",
     "output_type": "stream",
     "text": [
      "Pulling halo center from catalog file\n",
      "Opening snapshot /Volumes/TempestTimeSteps/DD1087/DD1087\n"
     ]
    },
    {
     "name": "stderr",
     "output_type": "stream",
     "text": [
      "yt : [INFO     ] 2022-07-15 10:11:19,164 Parameters: current_time              = 304.56652781829\n",
      "yt : [INFO     ] 2022-07-15 10:11:19,167 Parameters: domain_dimensions         = [256 256 256]\n",
      "yt : [INFO     ] 2022-07-15 10:11:19,172 Parameters: domain_left_edge          = [0. 0. 0.]\n",
      "yt : [INFO     ] 2022-07-15 10:11:19,175 Parameters: domain_right_edge         = [1. 1. 1.]\n",
      "yt : [INFO     ] 2022-07-15 10:11:19,176 Parameters: cosmological_simulation   = 1\n",
      "yt : [INFO     ] 2022-07-15 10:11:19,177 Parameters: current_redshift          = 0.85724242198899\n",
      "yt : [INFO     ] 2022-07-15 10:11:19,178 Parameters: omega_lambda              = 0.715\n",
      "yt : [INFO     ] 2022-07-15 10:11:19,178 Parameters: omega_matter              = 0.285\n",
      "yt : [INFO     ] 2022-07-15 10:11:19,179 Parameters: omega_radiation           = 0.0\n",
      "yt : [INFO     ] 2022-07-15 10:11:19,180 Parameters: hubble_constant           = 0.695\n"
     ]
    },
    {
     "name": "stdout",
     "output_type": "stream",
     "text": [
      "get_refine_box: using this location:      col1        col2     col3     col4     col5     col6     col7   col8\n",
      "-------------- -------- -------- -------- -------- -------- -------- ----\n",
      "0.857242421989 0.491192 0.480668 0.504092 0.493192 0.482668 0.506092    9\n"
     ]
    },
    {
     "name": "stderr",
     "output_type": "stream",
     "text": [
      "Parsing Hierarchy : 100%|████████████████| 5163/5163 [00:00<00:00, 11635.17it/s]\n",
      "yt : [INFO     ] 2022-07-15 10:11:19,904 Gathering a field list (this may take a moment.)\n",
      "yt : [WARNING  ] 2022-07-15 10:11:23,474 The stars particle filter already exists. Overriding.\n",
      "yt : [WARNING  ] 2022-07-15 10:11:23,475 The DM particle filter already exists. Overriding.\n"
     ]
    },
    {
     "name": "stdout",
     "output_type": "stream",
     "text": [
      "Pulling halo center from catalog file\n",
      "Opening snapshot /Volumes/TempestTimeSteps/DD1107/DD1107\n"
     ]
    },
    {
     "name": "stderr",
     "output_type": "stream",
     "text": [
      "yt : [INFO     ] 2022-07-15 10:11:23,684 Parameters: current_time              = 309.56652781829\n",
      "yt : [INFO     ] 2022-07-15 10:11:23,687 Parameters: domain_dimensions         = [256 256 256]\n",
      "yt : [INFO     ] 2022-07-15 10:11:23,691 Parameters: domain_left_edge          = [0. 0. 0.]\n",
      "yt : [INFO     ] 2022-07-15 10:11:23,694 Parameters: domain_right_edge         = [1. 1. 1.]\n",
      "yt : [INFO     ] 2022-07-15 10:11:23,695 Parameters: cosmological_simulation   = 1\n",
      "yt : [INFO     ] 2022-07-15 10:11:23,696 Parameters: current_redshift          = 0.83488657383741\n",
      "yt : [INFO     ] 2022-07-15 10:11:23,696 Parameters: omega_lambda              = 0.715\n",
      "yt : [INFO     ] 2022-07-15 10:11:23,697 Parameters: omega_matter              = 0.285\n",
      "yt : [INFO     ] 2022-07-15 10:11:23,698 Parameters: omega_radiation           = 0.0\n",
      "yt : [INFO     ] 2022-07-15 10:11:23,698 Parameters: hubble_constant           = 0.695\n"
     ]
    },
    {
     "name": "stdout",
     "output_type": "stream",
     "text": [
      "get_refine_box: using this location:       col1         col2     col3     col4     col5     col6     col7   col8\n",
      "---------------- -------- -------- -------- -------- -------- -------- ----\n",
      "0.83488657383741 0.491154 0.480465 0.504151 0.493154 0.482465 0.506151    9\n"
     ]
    },
    {
     "name": "stderr",
     "output_type": "stream",
     "text": [
      "Parsing Hierarchy : 100%|████████████████| 5231/5231 [00:00<00:00, 12369.65it/s]\n",
      "yt : [INFO     ] 2022-07-15 10:11:24,405 Gathering a field list (this may take a moment.)\n",
      "yt : [WARNING  ] 2022-07-15 10:11:27,948 The stars particle filter already exists. Overriding.\n",
      "yt : [WARNING  ] 2022-07-15 10:11:27,949 The DM particle filter already exists. Overriding.\n"
     ]
    },
    {
     "name": "stdout",
     "output_type": "stream",
     "text": [
      "Pulling halo center from catalog file\n",
      "Opening snapshot /Volumes/TempestTimeSteps/DD1127/DD1127\n"
     ]
    },
    {
     "name": "stderr",
     "output_type": "stream",
     "text": [
      "yt : [INFO     ] 2022-07-15 10:11:28,158 Parameters: current_time              = 314.56652781829\n",
      "yt : [INFO     ] 2022-07-15 10:11:28,161 Parameters: domain_dimensions         = [256 256 256]\n",
      "yt : [INFO     ] 2022-07-15 10:11:28,164 Parameters: domain_left_edge          = [0. 0. 0.]\n",
      "yt : [INFO     ] 2022-07-15 10:11:28,168 Parameters: domain_right_edge         = [1. 1. 1.]\n",
      "yt : [INFO     ] 2022-07-15 10:11:28,169 Parameters: cosmological_simulation   = 1\n",
      "yt : [INFO     ] 2022-07-15 10:11:28,169 Parameters: current_redshift          = 0.81307985104783\n",
      "yt : [INFO     ] 2022-07-15 10:11:28,170 Parameters: omega_lambda              = 0.715\n",
      "yt : [INFO     ] 2022-07-15 10:11:28,171 Parameters: omega_matter              = 0.285\n",
      "yt : [INFO     ] 2022-07-15 10:11:28,171 Parameters: omega_radiation           = 0.0\n",
      "yt : [INFO     ] 2022-07-15 10:11:28,172 Parameters: hubble_constant           = 0.695\n"
     ]
    },
    {
     "name": "stdout",
     "output_type": "stream",
     "text": [
      "get_refine_box: using this location:       col1         col2     col3     col4     col5     col6     col7   col8\n",
      "---------------- -------- -------- -------- -------- -------- -------- ----\n",
      "0.81307985104783 0.491127 0.480267 0.504221 0.493127 0.482267 0.506221    9\n"
     ]
    },
    {
     "name": "stderr",
     "output_type": "stream",
     "text": [
      "Parsing Hierarchy : 100%|████████████████| 5553/5553 [00:00<00:00, 12801.10it/s]\n",
      "yt : [INFO     ] 2022-07-15 10:11:28,885 Gathering a field list (this may take a moment.)\n",
      "yt : [WARNING  ] 2022-07-15 10:11:32,322 The stars particle filter already exists. Overriding.\n",
      "yt : [WARNING  ] 2022-07-15 10:11:32,323 The DM particle filter already exists. Overriding.\n"
     ]
    },
    {
     "name": "stdout",
     "output_type": "stream",
     "text": [
      "Pulling halo center from catalog file\n",
      "Opening snapshot /Volumes/TempestTimeSteps/DD1147/DD1147\n"
     ]
    },
    {
     "name": "stderr",
     "output_type": "stream",
     "text": [
      "yt : [INFO     ] 2022-07-15 10:11:32,524 Parameters: current_time              = 319.56652781829\n",
      "yt : [INFO     ] 2022-07-15 10:11:32,527 Parameters: domain_dimensions         = [256 256 256]\n",
      "yt : [INFO     ] 2022-07-15 10:11:32,530 Parameters: domain_left_edge          = [0. 0. 0.]\n",
      "yt : [INFO     ] 2022-07-15 10:11:32,533 Parameters: domain_right_edge         = [1. 1. 1.]\n",
      "yt : [INFO     ] 2022-07-15 10:11:32,534 Parameters: cosmological_simulation   = 1\n",
      "yt : [INFO     ] 2022-07-15 10:11:32,534 Parameters: current_redshift          = 0.79179927876823\n",
      "yt : [INFO     ] 2022-07-15 10:11:32,535 Parameters: omega_lambda              = 0.715\n",
      "yt : [INFO     ] 2022-07-15 10:11:32,536 Parameters: omega_matter              = 0.285\n",
      "yt : [INFO     ] 2022-07-15 10:11:32,537 Parameters: omega_radiation           = 0.0\n",
      "yt : [INFO     ] 2022-07-15 10:11:32,537 Parameters: hubble_constant           = 0.695\n"
     ]
    },
    {
     "name": "stdout",
     "output_type": "stream",
     "text": [
      "get_refine_box: using this location:       col1         col2     col3    col4    col5     col6    col7  col8\n",
      "---------------- -------- -------- ------ -------- -------- ------ ----\n",
      "0.79179927876823 0.491095 0.480072 0.5043 0.493095 0.482072 0.5063    9\n"
     ]
    },
    {
     "name": "stderr",
     "output_type": "stream",
     "text": [
      "Parsing Hierarchy : 100%|████████████████| 5902/5902 [00:00<00:00, 13091.44it/s]\n",
      "yt : [INFO     ] 2022-07-15 10:11:33,271 Gathering a field list (this may take a moment.)\n",
      "yt : [WARNING  ] 2022-07-15 10:11:36,720 The stars particle filter already exists. Overriding.\n",
      "yt : [WARNING  ] 2022-07-15 10:11:36,721 The DM particle filter already exists. Overriding.\n"
     ]
    },
    {
     "name": "stdout",
     "output_type": "stream",
     "text": [
      "Pulling halo center from catalog file\n",
      "Opening snapshot /Volumes/TempestTimeSteps/DD1167/DD1167\n"
     ]
    },
    {
     "name": "stderr",
     "output_type": "stream",
     "text": [
      "yt : [INFO     ] 2022-07-15 10:11:36,925 Parameters: current_time              = 324.56652781829\n",
      "yt : [INFO     ] 2022-07-15 10:11:36,928 Parameters: domain_dimensions         = [256 256 256]\n",
      "yt : [INFO     ] 2022-07-15 10:11:36,931 Parameters: domain_left_edge          = [0. 0. 0.]\n",
      "yt : [INFO     ] 2022-07-15 10:11:36,934 Parameters: domain_right_edge         = [1. 1. 1.]\n",
      "yt : [INFO     ] 2022-07-15 10:11:36,934 Parameters: cosmological_simulation   = 1\n",
      "yt : [INFO     ] 2022-07-15 10:11:36,935 Parameters: current_redshift          = 0.77102319068022\n",
      "yt : [INFO     ] 2022-07-15 10:11:36,936 Parameters: omega_lambda              = 0.715\n",
      "yt : [INFO     ] 2022-07-15 10:11:36,936 Parameters: omega_matter              = 0.285\n",
      "yt : [INFO     ] 2022-07-15 10:11:36,937 Parameters: omega_radiation           = 0.0\n",
      "yt : [INFO     ] 2022-07-15 10:11:36,937 Parameters: hubble_constant           = 0.695\n"
     ]
    },
    {
     "name": "stdout",
     "output_type": "stream",
     "text": [
      "get_refine_box: using this location:       col1         col2     col3     col4     col5     col6     col7   col8\n",
      "---------------- -------- -------- -------- -------- -------- -------- ----\n",
      "0.77102319068022 0.491061 0.479878 0.504383 0.493061 0.481878 0.506383    9\n"
     ]
    },
    {
     "name": "stderr",
     "output_type": "stream",
     "text": [
      "Parsing Hierarchy : 100%|████████████████| 6312/6312 [00:00<00:00, 13267.86it/s]\n",
      "yt : [INFO     ] 2022-07-15 10:11:41,558 Gathering a field list (this may take a moment.)\n",
      "yt : [WARNING  ] 2022-07-15 10:11:45,071 The stars particle filter already exists. Overriding.\n",
      "yt : [WARNING  ] 2022-07-15 10:11:45,072 The DM particle filter already exists. Overriding.\n"
     ]
    },
    {
     "name": "stdout",
     "output_type": "stream",
     "text": [
      "Pulling halo center from catalog file\n",
      "Opening snapshot /Volumes/TempestTimeSteps/DD1187/DD1187\n"
     ]
    },
    {
     "name": "stderr",
     "output_type": "stream",
     "text": [
      "yt : [INFO     ] 2022-07-15 10:11:45,284 Parameters: current_time              = 329.56652781829\n",
      "yt : [INFO     ] 2022-07-15 10:11:45,288 Parameters: domain_dimensions         = [256 256 256]\n",
      "yt : [INFO     ] 2022-07-15 10:11:45,291 Parameters: domain_left_edge          = [0. 0. 0.]\n",
      "yt : [INFO     ] 2022-07-15 10:11:45,294 Parameters: domain_right_edge         = [1. 1. 1.]\n",
      "yt : [INFO     ] 2022-07-15 10:11:45,295 Parameters: cosmological_simulation   = 1\n",
      "yt : [INFO     ] 2022-07-15 10:11:45,296 Parameters: current_redshift          = 0.75073113600866\n",
      "yt : [INFO     ] 2022-07-15 10:11:45,297 Parameters: omega_lambda              = 0.715\n",
      "yt : [INFO     ] 2022-07-15 10:11:45,297 Parameters: omega_matter              = 0.285\n",
      "yt : [INFO     ] 2022-07-15 10:11:45,298 Parameters: omega_radiation           = 0.0\n",
      "yt : [INFO     ] 2022-07-15 10:11:45,298 Parameters: hubble_constant           = 0.695\n"
     ]
    },
    {
     "name": "stdout",
     "output_type": "stream",
     "text": [
      "get_refine_box: using this location:       col1         col2     col3     col4     col5     col6     col7   col8\n",
      "---------------- -------- -------- -------- -------- -------- -------- ----\n",
      "0.75073113600866 0.491021 0.479683 0.504466 0.493021 0.481683 0.506466    9\n"
     ]
    },
    {
     "name": "stderr",
     "output_type": "stream",
     "text": [
      "Parsing Hierarchy : 100%|████████████████| 5990/5990 [00:00<00:00, 13113.28it/s]\n",
      "yt : [INFO     ] 2022-07-15 10:11:46,041 Gathering a field list (this may take a moment.)\n",
      "yt : [WARNING  ] 2022-07-15 10:11:49,383 The stars particle filter already exists. Overriding.\n",
      "yt : [WARNING  ] 2022-07-15 10:11:49,384 The DM particle filter already exists. Overriding.\n"
     ]
    },
    {
     "name": "stdout",
     "output_type": "stream",
     "text": [
      "Pulling halo center from catalog file\n",
      "Opening snapshot /Volumes/TempestTimeSteps/DD1207/DD1207\n"
     ]
    },
    {
     "name": "stderr",
     "output_type": "stream",
     "text": [
      "yt : [INFO     ] 2022-07-15 10:11:49,584 Parameters: current_time              = 334.56652781829\n",
      "yt : [INFO     ] 2022-07-15 10:11:49,587 Parameters: domain_dimensions         = [256 256 256]\n",
      "yt : [INFO     ] 2022-07-15 10:11:49,590 Parameters: domain_left_edge          = [0. 0. 0.]\n",
      "yt : [INFO     ] 2022-07-15 10:11:49,593 Parameters: domain_right_edge         = [1. 1. 1.]\n",
      "yt : [INFO     ] 2022-07-15 10:11:49,594 Parameters: cosmological_simulation   = 1\n",
      "yt : [INFO     ] 2022-07-15 10:11:49,595 Parameters: current_redshift          = 0.7309037944282\n",
      "yt : [INFO     ] 2022-07-15 10:11:49,596 Parameters: omega_lambda              = 0.715\n",
      "yt : [INFO     ] 2022-07-15 10:11:49,597 Parameters: omega_matter              = 0.285\n",
      "yt : [INFO     ] 2022-07-15 10:11:49,597 Parameters: omega_radiation           = 0.0\n",
      "yt : [INFO     ] 2022-07-15 10:11:49,598 Parameters: hubble_constant           = 0.695\n"
     ]
    },
    {
     "name": "stdout",
     "output_type": "stream",
     "text": [
      "get_refine_box: using this location:       col1        col2     col3     col4     col5     col6     col7   col8\n",
      "--------------- -------- -------- -------- -------- -------- -------- ----\n",
      "0.7309037944282 0.490979 0.479485 0.504549 0.492979 0.481485 0.506549    9\n"
     ]
    },
    {
     "name": "stderr",
     "output_type": "stream",
     "text": [
      "Parsing Hierarchy : 100%|████████████████| 5804/5804 [00:00<00:00, 13832.45it/s]\n",
      "yt : [INFO     ] 2022-07-15 10:11:50,291 Gathering a field list (this may take a moment.)\n",
      "yt : [WARNING  ] 2022-07-15 10:11:53,522 The stars particle filter already exists. Overriding.\n",
      "yt : [WARNING  ] 2022-07-15 10:11:53,523 The DM particle filter already exists. Overriding.\n"
     ]
    },
    {
     "name": "stdout",
     "output_type": "stream",
     "text": [
      "Pulling halo center from catalog file\n",
      "Opening snapshot /Volumes/TempestTimeSteps/DD1227/DD1227\n"
     ]
    },
    {
     "name": "stderr",
     "output_type": "stream",
     "text": [
      "yt : [INFO     ] 2022-07-15 10:11:53,724 Parameters: current_time              = 339.56652781829\n",
      "yt : [INFO     ] 2022-07-15 10:11:53,728 Parameters: domain_dimensions         = [256 256 256]\n",
      "yt : [INFO     ] 2022-07-15 10:11:53,730 Parameters: domain_left_edge          = [0. 0. 0.]\n",
      "yt : [INFO     ] 2022-07-15 10:11:53,734 Parameters: domain_right_edge         = [1. 1. 1.]\n",
      "yt : [INFO     ] 2022-07-15 10:11:53,735 Parameters: cosmological_simulation   = 1\n",
      "yt : [INFO     ] 2022-07-15 10:11:53,736 Parameters: current_redshift          = 0.71152289808928\n",
      "yt : [INFO     ] 2022-07-15 10:11:53,736 Parameters: omega_lambda              = 0.715\n",
      "yt : [INFO     ] 2022-07-15 10:11:53,737 Parameters: omega_matter              = 0.285\n",
      "yt : [INFO     ] 2022-07-15 10:11:53,737 Parameters: omega_radiation           = 0.0\n",
      "yt : [INFO     ] 2022-07-15 10:11:53,738 Parameters: hubble_constant           = 0.695\n"
     ]
    },
    {
     "name": "stdout",
     "output_type": "stream",
     "text": [
      "get_refine_box: using this location:       col1         col2     col3     col4     col5     col6     col7   col8\n",
      "---------------- -------- -------- -------- -------- -------- -------- ----\n",
      "0.71152289808928 0.490935 0.479287 0.504633 0.492935 0.481287 0.506633    9\n"
     ]
    },
    {
     "name": "stderr",
     "output_type": "stream",
     "text": [
      "Parsing Hierarchy : 100%|████████████████| 5825/5825 [00:00<00:00, 13467.77it/s]\n",
      "yt : [INFO     ] 2022-07-15 10:11:54,435 Gathering a field list (this may take a moment.)\n",
      "yt : [WARNING  ] 2022-07-15 10:11:57,888 The stars particle filter already exists. Overriding.\n",
      "yt : [WARNING  ] 2022-07-15 10:11:57,888 The DM particle filter already exists. Overriding.\n"
     ]
    },
    {
     "name": "stdout",
     "output_type": "stream",
     "text": [
      "Pulling halo center from catalog file\n",
      "Opening snapshot /Volumes/TempestTimeSteps/DD1247/DD1247\n"
     ]
    },
    {
     "name": "stderr",
     "output_type": "stream",
     "text": [
      "yt : [INFO     ] 2022-07-15 10:11:58,128 Parameters: current_time              = 344.56652781829\n",
      "yt : [INFO     ] 2022-07-15 10:11:58,131 Parameters: domain_dimensions         = [256 256 256]\n",
      "yt : [INFO     ] 2022-07-15 10:11:58,135 Parameters: domain_left_edge          = [0. 0. 0.]\n",
      "yt : [INFO     ] 2022-07-15 10:11:58,137 Parameters: domain_right_edge         = [1. 1. 1.]\n",
      "yt : [INFO     ] 2022-07-15 10:11:58,138 Parameters: cosmological_simulation   = 1\n",
      "yt : [INFO     ] 2022-07-15 10:11:58,139 Parameters: current_redshift          = 0.6925711600732\n",
      "yt : [INFO     ] 2022-07-15 10:11:58,140 Parameters: omega_lambda              = 0.715\n",
      "yt : [INFO     ] 2022-07-15 10:11:58,141 Parameters: omega_matter              = 0.285\n",
      "yt : [INFO     ] 2022-07-15 10:11:58,141 Parameters: omega_radiation           = 0.0\n",
      "yt : [INFO     ] 2022-07-15 10:11:58,142 Parameters: hubble_constant           = 0.695\n"
     ]
    },
    {
     "name": "stdout",
     "output_type": "stream",
     "text": [
      "get_refine_box: using this location:       col1        col2     col3     col4     col5     col6     col7   col8\n",
      "--------------- -------- -------- -------- -------- -------- -------- ----\n",
      "0.6925711600732 0.490889 0.479086 0.504717 0.492889 0.481086 0.506717    9\n"
     ]
    },
    {
     "name": "stderr",
     "output_type": "stream",
     "text": [
      "Parsing Hierarchy : 100%|████████████████| 5729/5729 [00:00<00:00, 13263.60it/s]\n",
      "yt : [INFO     ] 2022-07-15 10:11:58,844 Gathering a field list (this may take a moment.)\n",
      "yt : [WARNING  ] 2022-07-15 10:12:02,085 The stars particle filter already exists. Overriding.\n",
      "yt : [WARNING  ] 2022-07-15 10:12:02,086 The DM particle filter already exists. Overriding.\n"
     ]
    },
    {
     "name": "stdout",
     "output_type": "stream",
     "text": [
      "Pulling halo center from catalog file\n",
      "Opening snapshot /Volumes/TempestTimeSteps/DD1267/DD1267\n"
     ]
    },
    {
     "name": "stderr",
     "output_type": "stream",
     "text": [
      "yt : [INFO     ] 2022-07-15 10:12:02,321 Parameters: current_time              = 349.56652781829\n",
      "yt : [INFO     ] 2022-07-15 10:12:02,325 Parameters: domain_dimensions         = [256 256 256]\n",
      "yt : [INFO     ] 2022-07-15 10:12:02,329 Parameters: domain_left_edge          = [0. 0. 0.]\n",
      "yt : [INFO     ] 2022-07-15 10:12:02,333 Parameters: domain_right_edge         = [1. 1. 1.]\n",
      "yt : [INFO     ] 2022-07-15 10:12:02,333 Parameters: cosmological_simulation   = 1\n",
      "yt : [INFO     ] 2022-07-15 10:12:02,334 Parameters: current_redshift          = 0.67403220866149\n",
      "yt : [INFO     ] 2022-07-15 10:12:02,335 Parameters: omega_lambda              = 0.715\n",
      "yt : [INFO     ] 2022-07-15 10:12:02,335 Parameters: omega_matter              = 0.285\n",
      "yt : [INFO     ] 2022-07-15 10:12:02,336 Parameters: omega_radiation           = 0.0\n",
      "yt : [INFO     ] 2022-07-15 10:12:02,337 Parameters: hubble_constant           = 0.695\n"
     ]
    },
    {
     "name": "stdout",
     "output_type": "stream",
     "text": [
      "get_refine_box: using this location:       col1         col2     col3    col4     col5     col6    col7   col8\n",
      "---------------- -------- ------- -------- -------- ------- -------- ----\n",
      "0.67403220866149 0.490839 0.47889 0.504803 0.492839 0.48089 0.506803    9\n"
     ]
    },
    {
     "name": "stderr",
     "output_type": "stream",
     "text": [
      "Parsing Hierarchy : 100%|████████████████| 5866/5866 [00:00<00:00, 12860.22it/s]\n",
      "yt : [INFO     ] 2022-07-15 10:12:03,079 Gathering a field list (this may take a moment.)\n",
      "yt : [WARNING  ] 2022-07-15 10:12:06,761 The stars particle filter already exists. Overriding.\n",
      "yt : [WARNING  ] 2022-07-15 10:12:06,762 The DM particle filter already exists. Overriding.\n"
     ]
    },
    {
     "name": "stdout",
     "output_type": "stream",
     "text": [
      "Pulling halo center from catalog file\n",
      "Opening snapshot /Volumes/TempestTimeSteps/DD1287/DD1287\n"
     ]
    },
    {
     "name": "stderr",
     "output_type": "stream",
     "text": [
      "yt : [INFO     ] 2022-07-15 10:12:06,960 Parameters: current_time              = 354.56652781829\n",
      "yt : [INFO     ] 2022-07-15 10:12:06,963 Parameters: domain_dimensions         = [256 256 256]\n",
      "yt : [INFO     ] 2022-07-15 10:12:06,966 Parameters: domain_left_edge          = [0. 0. 0.]\n",
      "yt : [INFO     ] 2022-07-15 10:12:06,970 Parameters: domain_right_edge         = [1. 1. 1.]\n",
      "yt : [INFO     ] 2022-07-15 10:12:06,971 Parameters: cosmological_simulation   = 1\n",
      "yt : [INFO     ] 2022-07-15 10:12:06,972 Parameters: current_redshift          = 0.65589052687153\n",
      "yt : [INFO     ] 2022-07-15 10:12:06,972 Parameters: omega_lambda              = 0.715\n",
      "yt : [INFO     ] 2022-07-15 10:12:06,973 Parameters: omega_matter              = 0.285\n",
      "yt : [INFO     ] 2022-07-15 10:12:06,974 Parameters: omega_radiation           = 0.0\n",
      "yt : [INFO     ] 2022-07-15 10:12:06,974 Parameters: hubble_constant           = 0.695\n"
     ]
    },
    {
     "name": "stdout",
     "output_type": "stream",
     "text": [
      "get_refine_box: using this location:       col1         col2     col3     col4     col5     col6     col7   col8\n",
      "---------------- -------- -------- -------- -------- -------- -------- ----\n",
      "0.65589052687153 0.490792 0.478699 0.504887 0.492792 0.480699 0.506887    9\n"
     ]
    },
    {
     "name": "stderr",
     "output_type": "stream",
     "text": [
      "Parsing Hierarchy : 100%|████████████████| 6144/6144 [00:00<00:00, 12489.18it/s]\n",
      "yt : [INFO     ] 2022-07-15 10:12:07,763 Gathering a field list (this may take a moment.)\n",
      "yt : [WARNING  ] 2022-07-15 10:12:10,987 The stars particle filter already exists. Overriding.\n",
      "yt : [WARNING  ] 2022-07-15 10:12:10,987 The DM particle filter already exists. Overriding.\n"
     ]
    },
    {
     "name": "stdout",
     "output_type": "stream",
     "text": [
      "Pulling halo center from catalog file\n",
      "Opening snapshot /Volumes/TempestTimeSteps/DD1307/DD1307\n"
     ]
    },
    {
     "name": "stderr",
     "output_type": "stream",
     "text": [
      "yt : [INFO     ] 2022-07-15 10:12:11,194 Parameters: current_time              = 359.56652781829\n",
      "yt : [INFO     ] 2022-07-15 10:12:11,197 Parameters: domain_dimensions         = [256 256 256]\n",
      "yt : [INFO     ] 2022-07-15 10:12:11,200 Parameters: domain_left_edge          = [0. 0. 0.]\n",
      "yt : [INFO     ] 2022-07-15 10:12:11,203 Parameters: domain_right_edge         = [1. 1. 1.]\n",
      "yt : [INFO     ] 2022-07-15 10:12:11,204 Parameters: cosmological_simulation   = 1\n",
      "yt : [INFO     ] 2022-07-15 10:12:11,205 Parameters: current_redshift          = 0.63813139676917\n",
      "yt : [INFO     ] 2022-07-15 10:12:11,206 Parameters: omega_lambda              = 0.715\n",
      "yt : [INFO     ] 2022-07-15 10:12:11,206 Parameters: omega_matter              = 0.285\n",
      "yt : [INFO     ] 2022-07-15 10:12:11,207 Parameters: omega_radiation           = 0.0\n",
      "yt : [INFO     ] 2022-07-15 10:12:11,207 Parameters: hubble_constant           = 0.695\n"
     ]
    },
    {
     "name": "stdout",
     "output_type": "stream",
     "text": [
      "get_refine_box: using this location:       col1         col2     col3     col4     col5     col6     col7   col8\n",
      "---------------- -------- -------- -------- -------- -------- -------- ----\n",
      "0.63813139676917 0.490748 0.478512 0.504971 0.492748 0.480512 0.506971    9\n"
     ]
    },
    {
     "name": "stderr",
     "output_type": "stream",
     "text": [
      "Parsing Hierarchy : 100%|████████████████| 6120/6120 [00:00<00:00, 13239.62it/s]\n",
      "yt : [INFO     ] 2022-07-15 10:12:11,963 Gathering a field list (this may take a moment.)\n",
      "yt : [WARNING  ] 2022-07-15 10:12:15,255 The stars particle filter already exists. Overriding.\n",
      "yt : [WARNING  ] 2022-07-15 10:12:15,256 The DM particle filter already exists. Overriding.\n"
     ]
    },
    {
     "name": "stdout",
     "output_type": "stream",
     "text": [
      "Pulling halo center from catalog file\n",
      "Opening snapshot /Volumes/TempestTimeSteps/DD1310/DD1310\n"
     ]
    },
    {
     "name": "stderr",
     "output_type": "stream",
     "text": [
      "yt : [INFO     ] 2022-07-15 10:12:15,505 Parameters: current_time              = 360.31652781829\n",
      "yt : [INFO     ] 2022-07-15 10:12:15,508 Parameters: domain_dimensions         = [256 256 256]\n",
      "yt : [INFO     ] 2022-07-15 10:12:15,511 Parameters: domain_left_edge          = [0. 0. 0.]\n",
      "yt : [INFO     ] 2022-07-15 10:12:15,514 Parameters: domain_right_edge         = [1. 1. 1.]\n",
      "yt : [INFO     ] 2022-07-15 10:12:15,515 Parameters: cosmological_simulation   = 1\n",
      "yt : [INFO     ] 2022-07-15 10:12:15,516 Parameters: current_redshift          = 0.63549964938239\n",
      "yt : [INFO     ] 2022-07-15 10:12:15,517 Parameters: omega_lambda              = 0.715\n",
      "yt : [INFO     ] 2022-07-15 10:12:15,517 Parameters: omega_matter              = 0.285\n",
      "yt : [INFO     ] 2022-07-15 10:12:15,518 Parameters: omega_radiation           = 0.0\n",
      "yt : [INFO     ] 2022-07-15 10:12:15,519 Parameters: hubble_constant           = 0.695\n"
     ]
    },
    {
     "name": "stdout",
     "output_type": "stream",
     "text": [
      "get_refine_box: using this location:       col1         col2     col3     col4     col5     col6     col7   col8\n",
      "---------------- -------- -------- -------- -------- -------- -------- ----\n",
      "0.63549964938239 0.490742 0.478486 0.504982 0.492742 0.480486 0.506982    9\n"
     ]
    },
    {
     "name": "stderr",
     "output_type": "stream",
     "text": [
      "Parsing Hierarchy : 100%|████████████████| 6117/6117 [00:00<00:00, 14422.90it/s]\n",
      "yt : [INFO     ] 2022-07-15 10:12:16,220 Gathering a field list (this may take a moment.)\n",
      "yt : [WARNING  ] 2022-07-15 10:12:19,697 The stars particle filter already exists. Overriding.\n",
      "yt : [WARNING  ] 2022-07-15 10:12:19,698 The DM particle filter already exists. Overriding.\n"
     ]
    },
    {
     "name": "stdout",
     "output_type": "stream",
     "text": [
      "Pulling halo center from catalog file\n",
      "Opening snapshot /Volumes/TempestTimeSteps/DD1311/DD1311\n"
     ]
    },
    {
     "name": "stderr",
     "output_type": "stream",
     "text": [
      "yt : [INFO     ] 2022-07-15 10:12:19,883 Parameters: current_time              = 360.56652781829\n",
      "yt : [INFO     ] 2022-07-15 10:12:19,886 Parameters: domain_dimensions         = [256 256 256]\n",
      "yt : [INFO     ] 2022-07-15 10:12:19,889 Parameters: domain_left_edge          = [0. 0. 0.]\n",
      "yt : [INFO     ] 2022-07-15 10:12:19,892 Parameters: domain_right_edge         = [1. 1. 1.]\n",
      "yt : [INFO     ] 2022-07-15 10:12:19,893 Parameters: cosmological_simulation   = 1\n",
      "yt : [INFO     ] 2022-07-15 10:12:19,894 Parameters: current_redshift          = 0.63462423495761\n",
      "yt : [INFO     ] 2022-07-15 10:12:19,895 Parameters: omega_lambda              = 0.715\n",
      "yt : [INFO     ] 2022-07-15 10:12:19,895 Parameters: omega_matter              = 0.285\n",
      "yt : [INFO     ] 2022-07-15 10:12:19,896 Parameters: omega_radiation           = 0.0\n",
      "yt : [INFO     ] 2022-07-15 10:12:19,897 Parameters: hubble_constant           = 0.695\n"
     ]
    },
    {
     "name": "stdout",
     "output_type": "stream",
     "text": [
      "get_refine_box: using this location:       col1         col2    col3     col4     col5    col6     col7   col8\n",
      "---------------- ------- -------- -------- ------- -------- -------- ----\n",
      "0.63462423495761 0.49074 0.478476 0.504986 0.49274 0.480476 0.506986    9\n"
     ]
    },
    {
     "name": "stderr",
     "output_type": "stream",
     "text": [
      "Parsing Hierarchy : 100%|████████████████| 6212/6212 [00:00<00:00, 12831.93it/s]\n",
      "yt : [INFO     ] 2022-07-15 10:12:20,686 Gathering a field list (this may take a moment.)\n",
      "yt : [WARNING  ] 2022-07-15 10:12:24,264 The stars particle filter already exists. Overriding.\n",
      "yt : [WARNING  ] 2022-07-15 10:12:24,265 The DM particle filter already exists. Overriding.\n"
     ]
    },
    {
     "name": "stdout",
     "output_type": "stream",
     "text": [
      "Pulling halo center from catalog file\n",
      "Opening snapshot /Volumes/TempestTimeSteps/DD1312/DD1312\n"
     ]
    },
    {
     "name": "stderr",
     "output_type": "stream",
     "text": [
      "yt : [INFO     ] 2022-07-15 10:12:24,382 Parameters: current_time              = 360.81652781829\n",
      "yt : [INFO     ] 2022-07-15 10:12:24,385 Parameters: domain_dimensions         = [256 256 256]\n",
      "yt : [INFO     ] 2022-07-15 10:12:24,388 Parameters: domain_left_edge          = [0. 0. 0.]\n",
      "yt : [INFO     ] 2022-07-15 10:12:24,392 Parameters: domain_right_edge         = [1. 1. 1.]\n",
      "yt : [INFO     ] 2022-07-15 10:12:24,393 Parameters: cosmological_simulation   = 1\n",
      "yt : [INFO     ] 2022-07-15 10:12:24,394 Parameters: current_redshift          = 0.63374973507151\n",
      "yt : [INFO     ] 2022-07-15 10:12:24,394 Parameters: omega_lambda              = 0.715\n",
      "yt : [INFO     ] 2022-07-15 10:12:24,395 Parameters: omega_matter              = 0.285\n",
      "yt : [INFO     ] 2022-07-15 10:12:24,396 Parameters: omega_radiation           = 0.0\n",
      "yt : [INFO     ] 2022-07-15 10:12:24,396 Parameters: hubble_constant           = 0.695\n"
     ]
    },
    {
     "name": "stdout",
     "output_type": "stream",
     "text": [
      "get_refine_box: using this location:       col1         col2     col3     col4    col5     col6     col7  col8\n",
      "---------------- -------- -------- ------- -------- -------- ------- ----\n",
      "0.63374973507151 0.490738 0.478466 0.50499 0.492738 0.480466 0.50699    9\n"
     ]
    },
    {
     "name": "stderr",
     "output_type": "stream",
     "text": [
      "Parsing Hierarchy : 100%|████████████████| 6058/6058 [00:00<00:00, 12212.60it/s]\n",
      "yt : [INFO     ] 2022-07-15 10:12:25,253 Gathering a field list (this may take a moment.)\n",
      "yt : [WARNING  ] 2022-07-15 10:12:28,764 The stars particle filter already exists. Overriding.\n",
      "yt : [WARNING  ] 2022-07-15 10:12:28,765 The DM particle filter already exists. Overriding.\n"
     ]
    },
    {
     "name": "stdout",
     "output_type": "stream",
     "text": [
      "Pulling halo center from catalog file\n",
      "Opening snapshot /Volumes/TempestTimeSteps/DD1313/DD1313\n"
     ]
    },
    {
     "name": "stderr",
     "output_type": "stream",
     "text": [
      "yt : [INFO     ] 2022-07-15 10:12:28,959 Parameters: current_time              = 361.06652781829\n",
      "yt : [INFO     ] 2022-07-15 10:12:28,962 Parameters: domain_dimensions         = [256 256 256]\n",
      "yt : [INFO     ] 2022-07-15 10:12:28,965 Parameters: domain_left_edge          = [0. 0. 0.]\n",
      "yt : [INFO     ] 2022-07-15 10:12:28,968 Parameters: domain_right_edge         = [1. 1. 1.]\n",
      "yt : [INFO     ] 2022-07-15 10:12:28,969 Parameters: cosmological_simulation   = 1\n",
      "yt : [INFO     ] 2022-07-15 10:12:28,969 Parameters: current_redshift          = 0.63287614804254\n",
      "yt : [INFO     ] 2022-07-15 10:12:28,970 Parameters: omega_lambda              = 0.715\n",
      "yt : [INFO     ] 2022-07-15 10:12:28,970 Parameters: omega_matter              = 0.285\n",
      "yt : [INFO     ] 2022-07-15 10:12:28,971 Parameters: omega_radiation           = 0.0\n",
      "yt : [INFO     ] 2022-07-15 10:12:28,972 Parameters: hubble_constant           = 0.695\n"
     ]
    },
    {
     "name": "stdout",
     "output_type": "stream",
     "text": [
      "get_refine_box: using this location:       col1         col2     col3     col4     col5     col6     col7   col8\n",
      "---------------- -------- -------- -------- -------- -------- -------- ----\n",
      "0.63287614804254 0.490735 0.478457 0.504994 0.492735 0.480457 0.506994    9\n"
     ]
    },
    {
     "name": "stderr",
     "output_type": "stream",
     "text": [
      "Parsing Hierarchy : 100%|████████████████| 6082/6082 [00:00<00:00, 12589.68it/s]\n",
      "yt : [INFO     ] 2022-07-15 10:12:29,774 Gathering a field list (this may take a moment.)\n",
      "yt : [WARNING  ] 2022-07-15 10:12:33,589 The stars particle filter already exists. Overriding.\n",
      "yt : [WARNING  ] 2022-07-15 10:12:33,589 The DM particle filter already exists. Overriding.\n"
     ]
    },
    {
     "name": "stdout",
     "output_type": "stream",
     "text": [
      "Pulling halo center from catalog file\n",
      "Opening snapshot /Volumes/TempestTimeSteps/DD1314/DD1314\n"
     ]
    },
    {
     "name": "stderr",
     "output_type": "stream",
     "text": [
      "yt : [INFO     ] 2022-07-15 10:12:33,709 Parameters: current_time              = 361.31652781829\n",
      "yt : [INFO     ] 2022-07-15 10:12:33,712 Parameters: domain_dimensions         = [256 256 256]\n",
      "yt : [INFO     ] 2022-07-15 10:12:33,715 Parameters: domain_left_edge          = [0. 0. 0.]\n",
      "yt : [INFO     ] 2022-07-15 10:12:33,718 Parameters: domain_right_edge         = [1. 1. 1.]\n",
      "yt : [INFO     ] 2022-07-15 10:12:33,718 Parameters: cosmological_simulation   = 1\n",
      "yt : [INFO     ] 2022-07-15 10:12:33,719 Parameters: current_redshift          = 0.63200347219345\n",
      "yt : [INFO     ] 2022-07-15 10:12:33,720 Parameters: omega_lambda              = 0.715\n",
      "yt : [INFO     ] 2022-07-15 10:12:33,720 Parameters: omega_matter              = 0.285\n",
      "yt : [INFO     ] 2022-07-15 10:12:33,721 Parameters: omega_radiation           = 0.0\n",
      "yt : [INFO     ] 2022-07-15 10:12:33,722 Parameters: hubble_constant           = 0.695\n"
     ]
    },
    {
     "name": "stdout",
     "output_type": "stream",
     "text": [
      "get_refine_box: using this location:       col1         col2     col3    col4   col5     col6    col7 col8\n",
      "---------------- -------- -------- ----- -------- -------- ----- ----\n",
      "0.63200347219345 0.490733 0.478449 0.505 0.492733 0.480449 0.507    9\n"
     ]
    },
    {
     "name": "stderr",
     "output_type": "stream",
     "text": [
      "Parsing Hierarchy : 100%|████████████████| 5996/5996 [00:00<00:00, 13564.57it/s]\n",
      "yt : [INFO     ] 2022-07-15 10:12:34,520 Gathering a field list (this may take a moment.)\n",
      "yt : [WARNING  ] 2022-07-15 10:12:37,941 The stars particle filter already exists. Overriding.\n",
      "yt : [WARNING  ] 2022-07-15 10:12:37,942 The DM particle filter already exists. Overriding.\n"
     ]
    },
    {
     "name": "stdout",
     "output_type": "stream",
     "text": [
      "Pulling halo center from catalog file\n",
      "Opening snapshot /Volumes/TempestTimeSteps/DD1315/DD1315\n"
     ]
    },
    {
     "name": "stderr",
     "output_type": "stream",
     "text": [
      "yt : [INFO     ] 2022-07-15 10:12:38,064 Parameters: current_time              = 361.56652781829\n",
      "yt : [INFO     ] 2022-07-15 10:12:38,067 Parameters: domain_dimensions         = [256 256 256]\n",
      "yt : [INFO     ] 2022-07-15 10:12:38,070 Parameters: domain_left_edge          = [0. 0. 0.]\n",
      "yt : [INFO     ] 2022-07-15 10:12:38,073 Parameters: domain_right_edge         = [1. 1. 1.]\n",
      "yt : [INFO     ] 2022-07-15 10:12:38,074 Parameters: cosmological_simulation   = 1\n",
      "yt : [INFO     ] 2022-07-15 10:12:38,074 Parameters: current_redshift          = 0.63113170585127\n",
      "yt : [INFO     ] 2022-07-15 10:12:38,075 Parameters: omega_lambda              = 0.715\n",
      "yt : [INFO     ] 2022-07-15 10:12:38,075 Parameters: omega_matter              = 0.285\n",
      "yt : [INFO     ] 2022-07-15 10:12:38,076 Parameters: omega_radiation           = 0.0\n",
      "yt : [INFO     ] 2022-07-15 10:12:38,077 Parameters: hubble_constant           = 0.695\n"
     ]
    },
    {
     "name": "stdout",
     "output_type": "stream",
     "text": [
      "get_refine_box: using this location:       col1         col2     col3    col4     col5     col6    col7   col8\n",
      "---------------- -------- ------- -------- -------- ------- -------- ----\n",
      "0.63113170585127 0.490731 0.47844 0.505003 0.492731 0.48044 0.507003    9\n"
     ]
    },
    {
     "name": "stderr",
     "output_type": "stream",
     "text": [
      "Parsing Hierarchy : 100%|████████████████| 6053/6053 [00:00<00:00, 13164.36it/s]\n",
      "yt : [INFO     ] 2022-07-15 10:12:38,892 Gathering a field list (this may take a moment.)\n",
      "yt : [WARNING  ] 2022-07-15 10:12:42,537 The stars particle filter already exists. Overriding.\n",
      "yt : [WARNING  ] 2022-07-15 10:12:42,539 The DM particle filter already exists. Overriding.\n"
     ]
    },
    {
     "name": "stdout",
     "output_type": "stream",
     "text": [
      "Pulling halo center from catalog file\n",
      "Opening snapshot /Volumes/TempestTimeSteps/DD1316/DD1316\n"
     ]
    },
    {
     "name": "stderr",
     "output_type": "stream",
     "text": [
      "yt : [INFO     ] 2022-07-15 10:12:42,663 Parameters: current_time              = 361.81652781829\n",
      "yt : [INFO     ] 2022-07-15 10:12:42,666 Parameters: domain_dimensions         = [256 256 256]\n",
      "yt : [INFO     ] 2022-07-15 10:12:42,669 Parameters: domain_left_edge          = [0. 0. 0.]\n",
      "yt : [INFO     ] 2022-07-15 10:12:42,672 Parameters: domain_right_edge         = [1. 1. 1.]\n",
      "yt : [INFO     ] 2022-07-15 10:12:42,673 Parameters: cosmological_simulation   = 1\n",
      "yt : [INFO     ] 2022-07-15 10:12:42,674 Parameters: current_redshift          = 0.63026084734731\n",
      "yt : [INFO     ] 2022-07-15 10:12:42,675 Parameters: omega_lambda              = 0.715\n",
      "yt : [INFO     ] 2022-07-15 10:12:42,675 Parameters: omega_matter              = 0.285\n",
      "yt : [INFO     ] 2022-07-15 10:12:42,676 Parameters: omega_radiation           = 0.0\n",
      "yt : [INFO     ] 2022-07-15 10:12:42,677 Parameters: hubble_constant           = 0.695\n"
     ]
    },
    {
     "name": "stdout",
     "output_type": "stream",
     "text": [
      "get_refine_box: using this location:       col1         col2     col3    col4     col5     col6    col7   col8\n",
      "---------------- -------- ------- -------- -------- ------- -------- ----\n",
      "0.63026084734731 0.490729 0.47843 0.505007 0.492729 0.48043 0.507007    9\n"
     ]
    },
    {
     "name": "stderr",
     "output_type": "stream",
     "text": [
      "Parsing Hierarchy : 100%|████████████████| 5907/5907 [00:00<00:00, 10971.56it/s]\n",
      "yt : [INFO     ] 2022-07-15 10:12:43,578 Gathering a field list (this may take a moment.)\n",
      "yt : [WARNING  ] 2022-07-15 10:12:47,331 The stars particle filter already exists. Overriding.\n",
      "yt : [WARNING  ] 2022-07-15 10:12:47,331 The DM particle filter already exists. Overriding.\n"
     ]
    },
    {
     "name": "stdout",
     "output_type": "stream",
     "text": [
      "Pulling halo center from catalog file\n",
      "Opening snapshot /Volumes/TempestTimeSteps/DD1318/DD1318\n"
     ]
    },
    {
     "name": "stderr",
     "output_type": "stream",
     "text": [
      "yt : [INFO     ] 2022-07-15 10:12:47,454 Parameters: current_time              = 362.31652781829\n",
      "yt : [INFO     ] 2022-07-15 10:12:47,457 Parameters: domain_dimensions         = [256 256 256]\n",
      "yt : [INFO     ] 2022-07-15 10:12:47,461 Parameters: domain_left_edge          = [0. 0. 0.]\n",
      "yt : [INFO     ] 2022-07-15 10:12:47,464 Parameters: domain_right_edge         = [1. 1. 1.]\n",
      "yt : [INFO     ] 2022-07-15 10:12:47,466 Parameters: cosmological_simulation   = 1\n",
      "yt : [INFO     ] 2022-07-15 10:12:47,467 Parameters: current_redshift          = 0.62852184720062\n",
      "yt : [INFO     ] 2022-07-15 10:12:47,468 Parameters: omega_lambda              = 0.715\n",
      "yt : [INFO     ] 2022-07-15 10:12:47,469 Parameters: omega_matter              = 0.285\n",
      "yt : [INFO     ] 2022-07-15 10:12:47,469 Parameters: omega_radiation           = 0.0\n",
      "yt : [INFO     ] 2022-07-15 10:12:47,470 Parameters: hubble_constant           = 0.695\n"
     ]
    },
    {
     "name": "stdout",
     "output_type": "stream",
     "text": [
      "get_refine_box: using this location:       col1         col2     col3     col4     col5     col6     col7   col8\n",
      "---------------- -------- -------- -------- -------- -------- -------- ----\n",
      "0.62852184720062 0.490725 0.478411 0.505015 0.492725 0.480411 0.507015    9\n"
     ]
    },
    {
     "name": "stderr",
     "output_type": "stream",
     "text": [
      "Parsing Hierarchy : 100%|█████████████████| 6061/6061 [00:05<00:00, 1029.68it/s]\n",
      "yt : [INFO     ] 2022-07-15 10:12:53,736 Gathering a field list (this may take a moment.)\n",
      "yt : [WARNING  ] 2022-07-15 10:12:57,139 The stars particle filter already exists. Overriding.\n",
      "yt : [WARNING  ] 2022-07-15 10:12:57,141 The DM particle filter already exists. Overriding.\n"
     ]
    },
    {
     "name": "stdout",
     "output_type": "stream",
     "text": [
      "Pulling halo center from catalog file\n",
      "Opening snapshot /Volumes/TempestTimeSteps/DD1319/DD1319\n"
     ]
    },
    {
     "name": "stderr",
     "output_type": "stream",
     "text": [
      "yt : [INFO     ] 2022-07-15 10:12:57,425 Parameters: current_time              = 362.56652781829\n",
      "yt : [INFO     ] 2022-07-15 10:12:57,429 Parameters: domain_dimensions         = [256 256 256]\n",
      "yt : [INFO     ] 2022-07-15 10:12:57,432 Parameters: domain_left_edge          = [0. 0. 0.]\n",
      "yt : [INFO     ] 2022-07-15 10:12:57,435 Parameters: domain_right_edge         = [1. 1. 1.]\n",
      "yt : [INFO     ] 2022-07-15 10:12:57,436 Parameters: cosmological_simulation   = 1\n",
      "yt : [INFO     ] 2022-07-15 10:12:57,437 Parameters: current_redshift          = 0.62765370224176\n",
      "yt : [INFO     ] 2022-07-15 10:12:57,438 Parameters: omega_lambda              = 0.715\n",
      "yt : [INFO     ] 2022-07-15 10:12:57,439 Parameters: omega_matter              = 0.285\n",
      "yt : [INFO     ] 2022-07-15 10:12:57,440 Parameters: omega_radiation           = 0.0\n",
      "yt : [INFO     ] 2022-07-15 10:12:57,440 Parameters: hubble_constant           = 0.695\n"
     ]
    },
    {
     "name": "stdout",
     "output_type": "stream",
     "text": [
      "get_refine_box: using this location:       col1         col2     col3     col4     col5     col6     col7   col8\n",
      "---------------- -------- -------- -------- -------- -------- -------- ----\n",
      "0.62765370224176 0.490723 0.478402 0.505019 0.492723 0.480402 0.507019    9\n"
     ]
    },
    {
     "name": "stderr",
     "output_type": "stream",
     "text": [
      "Parsing Hierarchy : 100%|████████████████| 6108/6108 [00:00<00:00, 11442.26it/s]\n",
      "yt : [INFO     ] 2022-07-15 10:12:58,302 Gathering a field list (this may take a moment.)\n",
      "yt : [WARNING  ] 2022-07-15 10:13:01,859 The stars particle filter already exists. Overriding.\n",
      "yt : [WARNING  ] 2022-07-15 10:13:01,860 The DM particle filter already exists. Overriding.\n"
     ]
    },
    {
     "name": "stdout",
     "output_type": "stream",
     "text": [
      "Pulling halo center from catalog file\n",
      "Opening snapshot /Volumes/TempestTimeSteps/DD1320/DD1320\n"
     ]
    },
    {
     "name": "stderr",
     "output_type": "stream",
     "text": [
      "yt : [INFO     ] 2022-07-15 10:13:02,055 Parameters: current_time              = 362.81652781829\n",
      "yt : [INFO     ] 2022-07-15 10:13:02,058 Parameters: domain_dimensions         = [256 256 256]\n",
      "yt : [INFO     ] 2022-07-15 10:13:02,062 Parameters: domain_left_edge          = [0. 0. 0.]\n",
      "yt : [INFO     ] 2022-07-15 10:13:02,065 Parameters: domain_right_edge         = [1. 1. 1.]\n",
      "yt : [INFO     ] 2022-07-15 10:13:02,066 Parameters: cosmological_simulation   = 1\n",
      "yt : [INFO     ] 2022-07-15 10:13:02,066 Parameters: current_redshift          = 0.62678645848885\n",
      "yt : [INFO     ] 2022-07-15 10:13:02,067 Parameters: omega_lambda              = 0.715\n",
      "yt : [INFO     ] 2022-07-15 10:13:02,067 Parameters: omega_matter              = 0.285\n",
      "yt : [INFO     ] 2022-07-15 10:13:02,068 Parameters: omega_radiation           = 0.0\n",
      "yt : [INFO     ] 2022-07-15 10:13:02,069 Parameters: hubble_constant           = 0.695\n"
     ]
    },
    {
     "name": "stdout",
     "output_type": "stream",
     "text": [
      "get_refine_box: using this location:       col1         col2     col3     col4     col5     col6     col7   col8\n",
      "---------------- -------- -------- -------- -------- -------- -------- ----\n",
      "0.62678645848885 0.490721 0.478392 0.505022 0.492721 0.480392 0.507022    9\n"
     ]
    },
    {
     "name": "stderr",
     "output_type": "stream",
     "text": [
      "Parsing Hierarchy : 100%|████████████████| 6021/6021 [00:00<00:00, 12099.11it/s]\n",
      "yt : [INFO     ] 2022-07-15 10:13:02,885 Gathering a field list (this may take a moment.)\n",
      "yt : [WARNING  ] 2022-07-15 10:13:06,671 The stars particle filter already exists. Overriding.\n",
      "yt : [WARNING  ] 2022-07-15 10:13:06,671 The DM particle filter already exists. Overriding.\n"
     ]
    },
    {
     "name": "stdout",
     "output_type": "stream",
     "text": [
      "Pulling halo center from catalog file\n",
      "Opening snapshot /Volumes/TempestTimeSteps/DD1327/DD1327\n"
     ]
    },
    {
     "name": "stderr",
     "output_type": "stream",
     "text": [
      "yt : [INFO     ] 2022-07-15 10:13:06,872 Parameters: current_time              = 364.56652781829\n",
      "yt : [INFO     ] 2022-07-15 10:13:06,875 Parameters: domain_dimensions         = [256 256 256]\n",
      "yt : [INFO     ] 2022-07-15 10:13:06,878 Parameters: domain_left_edge          = [0. 0. 0.]\n",
      "yt : [INFO     ] 2022-07-15 10:13:06,881 Parameters: domain_right_edge         = [1. 1. 1.]\n",
      "yt : [INFO     ] 2022-07-15 10:13:06,882 Parameters: cosmological_simulation   = 1\n",
      "yt : [INFO     ] 2022-07-15 10:13:06,882 Parameters: current_redshift          = 0.62074084812024\n",
      "yt : [INFO     ] 2022-07-15 10:13:06,883 Parameters: omega_lambda              = 0.715\n",
      "yt : [INFO     ] 2022-07-15 10:13:06,884 Parameters: omega_matter              = 0.285\n",
      "yt : [INFO     ] 2022-07-15 10:13:06,885 Parameters: omega_radiation           = 0.0\n",
      "yt : [INFO     ] 2022-07-15 10:13:06,885 Parameters: hubble_constant           = 0.695\n"
     ]
    },
    {
     "name": "stdout",
     "output_type": "stream",
     "text": [
      "get_refine_box: using this location:       col1         col2     col3     col4     col5     col6     col7   col8\n",
      "---------------- -------- -------- -------- -------- -------- -------- ----\n",
      "0.62074084812024 0.490704 0.478329 0.505051 0.492704 0.480329 0.507051    9\n"
     ]
    },
    {
     "name": "stderr",
     "output_type": "stream",
     "text": [
      "Parsing Hierarchy : 100%|████████████████| 6122/6122 [00:00<00:00, 11519.71it/s]\n",
      "yt : [INFO     ] 2022-07-15 10:13:07,736 Gathering a field list (this may take a moment.)\n",
      "yt : [WARNING  ] 2022-07-15 10:13:11,381 The stars particle filter already exists. Overriding.\n",
      "yt : [WARNING  ] 2022-07-15 10:13:11,382 The DM particle filter already exists. Overriding.\n"
     ]
    },
    {
     "name": "stdout",
     "output_type": "stream",
     "text": [
      "Pulling halo center from catalog file\n",
      "Opening snapshot /Volumes/TempestTimeSteps/DD1347/DD1347\n"
     ]
    },
    {
     "name": "stderr",
     "output_type": "stream",
     "text": [
      "yt : [INFO     ] 2022-07-15 10:13:11,600 Parameters: current_time              = 369.56652781829\n",
      "yt : [INFO     ] 2022-07-15 10:13:11,603 Parameters: domain_dimensions         = [256 256 256]\n",
      "yt : [INFO     ] 2022-07-15 10:13:11,606 Parameters: domain_left_edge          = [0. 0. 0.]\n",
      "yt : [INFO     ] 2022-07-15 10:13:11,609 Parameters: domain_right_edge         = [1. 1. 1.]\n",
      "yt : [INFO     ] 2022-07-15 10:13:11,610 Parameters: cosmological_simulation   = 1\n",
      "yt : [INFO     ] 2022-07-15 10:13:11,611 Parameters: current_redshift          = 0.60370561098879\n",
      "yt : [INFO     ] 2022-07-15 10:13:11,611 Parameters: omega_lambda              = 0.715\n",
      "yt : [INFO     ] 2022-07-15 10:13:11,612 Parameters: omega_matter              = 0.285\n",
      "yt : [INFO     ] 2022-07-15 10:13:11,614 Parameters: omega_radiation           = 0.0\n",
      "yt : [INFO     ] 2022-07-15 10:13:11,615 Parameters: hubble_constant           = 0.695\n"
     ]
    },
    {
     "name": "stdout",
     "output_type": "stream",
     "text": [
      "get_refine_box: using this location:       col1         col2    col3     col4     col5    col6     col7   col8\n",
      "---------------- ------- -------- -------- ------- -------- -------- ----\n",
      "0.60370561098879 0.49066 0.478148 0.505129 0.49266 0.480148 0.507129    9\n"
     ]
    },
    {
     "name": "stderr",
     "output_type": "stream",
     "text": [
      "Parsing Hierarchy : 100%|████████████████| 6238/6238 [00:00<00:00, 12321.36it/s]\n",
      "yt : [INFO     ] 2022-07-15 10:13:12,447 Gathering a field list (this may take a moment.)\n",
      "yt : [WARNING  ] 2022-07-15 10:13:16,256 The stars particle filter already exists. Overriding.\n",
      "yt : [WARNING  ] 2022-07-15 10:13:16,259 The DM particle filter already exists. Overriding.\n"
     ]
    },
    {
     "name": "stdout",
     "output_type": "stream",
     "text": [
      "Pulling halo center from catalog file\n",
      "Opening snapshot /Volumes/TempestTimeSteps/DD1367/DD1367\n"
     ]
    },
    {
     "name": "stderr",
     "output_type": "stream",
     "text": [
      "yt : [INFO     ] 2022-07-15 10:13:16,460 Parameters: current_time              = 374.56652781829\n",
      "yt : [INFO     ] 2022-07-15 10:13:16,463 Parameters: domain_dimensions         = [256 256 256]\n",
      "yt : [INFO     ] 2022-07-15 10:13:16,467 Parameters: domain_left_edge          = [0. 0. 0.]\n",
      "yt : [INFO     ] 2022-07-15 10:13:16,471 Parameters: domain_right_edge         = [1. 1. 1.]\n",
      "yt : [INFO     ] 2022-07-15 10:13:16,471 Parameters: cosmological_simulation   = 1\n",
      "yt : [INFO     ] 2022-07-15 10:13:16,472 Parameters: current_redshift          = 0.58701307192989\n",
      "yt : [INFO     ] 2022-07-15 10:13:16,473 Parameters: omega_lambda              = 0.715\n",
      "yt : [INFO     ] 2022-07-15 10:13:16,474 Parameters: omega_matter              = 0.285\n",
      "yt : [INFO     ] 2022-07-15 10:13:16,475 Parameters: omega_radiation           = 0.0\n",
      "yt : [INFO     ] 2022-07-15 10:13:16,475 Parameters: hubble_constant           = 0.695\n"
     ]
    },
    {
     "name": "stdout",
     "output_type": "stream",
     "text": [
      "get_refine_box: using this location:       col1         col2     col3     col4     col5     col6     col7   col8\n",
      "---------------- -------- -------- -------- -------- -------- -------- ----\n",
      "0.58701307192989 0.490616 0.477969 0.505207 0.492616 0.479969 0.507207    9\n"
     ]
    },
    {
     "name": "stderr",
     "output_type": "stream",
     "text": [
      "Parsing Hierarchy : 100%|████████████████| 6198/6198 [00:00<00:00, 12656.29it/s]\n",
      "yt : [INFO     ] 2022-07-15 10:13:17,284 Gathering a field list (this may take a moment.)\n",
      "yt : [WARNING  ] 2022-07-15 10:13:20,737 The stars particle filter already exists. Overriding.\n",
      "yt : [WARNING  ] 2022-07-15 10:13:20,737 The DM particle filter already exists. Overriding.\n"
     ]
    },
    {
     "name": "stdout",
     "output_type": "stream",
     "text": [
      "Pulling halo center from catalog file\n",
      "Opening snapshot /Volumes/TempestTimeSteps/DD1387/DD1387\n"
     ]
    },
    {
     "name": "stderr",
     "output_type": "stream",
     "text": [
      "yt : [INFO     ] 2022-07-15 10:13:20,857 Parameters: current_time              = 379.56652781829\n",
      "yt : [INFO     ] 2022-07-15 10:13:20,860 Parameters: domain_dimensions         = [256 256 256]\n",
      "yt : [INFO     ] 2022-07-15 10:13:20,865 Parameters: domain_left_edge          = [0. 0. 0.]\n",
      "yt : [INFO     ] 2022-07-15 10:13:20,869 Parameters: domain_right_edge         = [1. 1. 1.]\n",
      "yt : [INFO     ] 2022-07-15 10:13:20,870 Parameters: cosmological_simulation   = 1\n",
      "yt : [INFO     ] 2022-07-15 10:13:20,870 Parameters: current_redshift          = 0.57065123346059\n",
      "yt : [INFO     ] 2022-07-15 10:13:20,871 Parameters: omega_lambda              = 0.715\n",
      "yt : [INFO     ] 2022-07-15 10:13:20,872 Parameters: omega_matter              = 0.285\n",
      "yt : [INFO     ] 2022-07-15 10:13:20,873 Parameters: omega_radiation           = 0.0\n",
      "yt : [INFO     ] 2022-07-15 10:13:20,873 Parameters: hubble_constant           = 0.695\n"
     ]
    },
    {
     "name": "stdout",
     "output_type": "stream",
     "text": [
      "get_refine_box: using this location:       col1         col2     col3     col4     col5     col6     col7   col8\n",
      "---------------- -------- -------- -------- -------- -------- -------- ----\n",
      "0.57065123346059 0.490572 0.477791 0.505288 0.492572 0.479791 0.507288    9\n"
     ]
    },
    {
     "name": "stderr",
     "output_type": "stream",
     "text": [
      "Parsing Hierarchy : 100%|████████████████| 6136/6136 [00:00<00:00, 12373.54it/s]\n",
      "yt : [INFO     ] 2022-07-15 10:13:21,681 Gathering a field list (this may take a moment.)\n",
      "yt : [WARNING  ] 2022-07-15 10:13:25,185 The stars particle filter already exists. Overriding.\n",
      "yt : [WARNING  ] 2022-07-15 10:13:25,185 The DM particle filter already exists. Overriding.\n"
     ]
    },
    {
     "name": "stdout",
     "output_type": "stream",
     "text": [
      "Pulling halo center from catalog file\n",
      "Opening snapshot /Volumes/TempestTimeSteps/DD1407/DD1407\n"
     ]
    },
    {
     "name": "stderr",
     "output_type": "stream",
     "text": [
      "yt : [INFO     ] 2022-07-15 10:13:25,416 Parameters: current_time              = 384.56652781829\n",
      "yt : [INFO     ] 2022-07-15 10:13:25,419 Parameters: domain_dimensions         = [256 256 256]\n",
      "yt : [INFO     ] 2022-07-15 10:13:25,423 Parameters: domain_left_edge          = [0. 0. 0.]\n",
      "yt : [INFO     ] 2022-07-15 10:13:25,426 Parameters: domain_right_edge         = [1. 1. 1.]\n",
      "yt : [INFO     ] 2022-07-15 10:13:25,427 Parameters: cosmological_simulation   = 1\n",
      "yt : [INFO     ] 2022-07-15 10:13:25,428 Parameters: current_redshift          = 0.55460867652421\n",
      "yt : [INFO     ] 2022-07-15 10:13:25,429 Parameters: omega_lambda              = 0.715\n",
      "yt : [INFO     ] 2022-07-15 10:13:25,430 Parameters: omega_matter              = 0.285\n",
      "yt : [INFO     ] 2022-07-15 10:13:25,431 Parameters: omega_radiation           = 0.0\n",
      "yt : [INFO     ] 2022-07-15 10:13:25,432 Parameters: hubble_constant           = 0.695\n"
     ]
    },
    {
     "name": "stdout",
     "output_type": "stream",
     "text": [
      "get_refine_box: using this location:       col1         col2     col3     col4     col5     col6     col7   col8\n",
      "---------------- -------- -------- -------- -------- -------- -------- ----\n",
      "0.55460867652421 0.490529 0.477618 0.505368 0.492529 0.479618 0.507368    9\n"
     ]
    },
    {
     "name": "stderr",
     "output_type": "stream",
     "text": [
      "Parsing Hierarchy : 100%|████████████████| 5851/5851 [00:00<00:00, 11808.18it/s]\n",
      "yt : [INFO     ] 2022-07-15 10:13:26,238 Gathering a field list (this may take a moment.)\n",
      "yt : [WARNING  ] 2022-07-15 10:13:29,964 The stars particle filter already exists. Overriding.\n",
      "yt : [WARNING  ] 2022-07-15 10:13:29,965 The DM particle filter already exists. Overriding.\n"
     ]
    },
    {
     "name": "stdout",
     "output_type": "stream",
     "text": [
      "Pulling halo center from catalog file\n",
      "Opening snapshot /Volumes/TempestTimeSteps/DD1427/DD1427\n"
     ]
    },
    {
     "name": "stderr",
     "output_type": "stream",
     "text": [
      "yt : [INFO     ] 2022-07-15 10:13:30,181 Parameters: current_time              = 389.56652781829\n",
      "yt : [INFO     ] 2022-07-15 10:13:30,184 Parameters: domain_dimensions         = [256 256 256]\n",
      "yt : [INFO     ] 2022-07-15 10:13:30,187 Parameters: domain_left_edge          = [0. 0. 0.]\n",
      "yt : [INFO     ] 2022-07-15 10:13:30,190 Parameters: domain_right_edge         = [1. 1. 1.]\n",
      "yt : [INFO     ] 2022-07-15 10:13:30,191 Parameters: cosmological_simulation   = 1\n",
      "yt : [INFO     ] 2022-07-15 10:13:30,191 Parameters: current_redshift          = 0.53887452569124\n",
      "yt : [INFO     ] 2022-07-15 10:13:30,192 Parameters: omega_lambda              = 0.715\n",
      "yt : [INFO     ] 2022-07-15 10:13:30,193 Parameters: omega_matter              = 0.285\n",
      "yt : [INFO     ] 2022-07-15 10:13:30,194 Parameters: omega_radiation           = 0.0\n",
      "yt : [INFO     ] 2022-07-15 10:13:30,194 Parameters: hubble_constant           = 0.695\n"
     ]
    },
    {
     "name": "stdout",
     "output_type": "stream",
     "text": [
      "get_refine_box: using this location:       col1         col2     col3     col4    col5     col6     col7  col8\n",
      "---------------- -------- -------- ------- -------- -------- ------- ----\n",
      "0.53887452569124 0.490487 0.477448 0.50545 0.492487 0.479448 0.50745    9\n"
     ]
    },
    {
     "name": "stderr",
     "output_type": "stream",
     "text": [
      "Parsing Hierarchy : 100%|█████████████████| 5833/5833 [00:00<00:00, 8681.55it/s]\n",
      "yt : [INFO     ] 2022-07-15 10:13:31,189 Gathering a field list (this may take a moment.)\n",
      "yt : [WARNING  ] 2022-07-15 10:13:34,706 The stars particle filter already exists. Overriding.\n",
      "yt : [WARNING  ] 2022-07-15 10:13:34,707 The DM particle filter already exists. Overriding.\n"
     ]
    },
    {
     "name": "stdout",
     "output_type": "stream",
     "text": [
      "Pulling halo center from catalog file\n",
      "Opening snapshot /Volumes/TempestTimeSteps/DD1447/DD1447\n"
     ]
    },
    {
     "name": "stderr",
     "output_type": "stream",
     "text": [
      "yt : [INFO     ] 2022-07-15 10:13:34,917 Parameters: current_time              = 394.56652781829\n",
      "yt : [INFO     ] 2022-07-15 10:13:34,920 Parameters: domain_dimensions         = [256 256 256]\n",
      "yt : [INFO     ] 2022-07-15 10:13:34,923 Parameters: domain_left_edge          = [0. 0. 0.]\n",
      "yt : [INFO     ] 2022-07-15 10:13:34,926 Parameters: domain_right_edge         = [1. 1. 1.]\n",
      "yt : [INFO     ] 2022-07-15 10:13:34,927 Parameters: cosmological_simulation   = 1\n",
      "yt : [INFO     ] 2022-07-15 10:13:34,928 Parameters: current_redshift          = 0.52343841686509\n",
      "yt : [INFO     ] 2022-07-15 10:13:34,929 Parameters: omega_lambda              = 0.715\n",
      "yt : [INFO     ] 2022-07-15 10:13:34,929 Parameters: omega_matter              = 0.285\n",
      "yt : [INFO     ] 2022-07-15 10:13:34,930 Parameters: omega_radiation           = 0.0\n",
      "yt : [INFO     ] 2022-07-15 10:13:34,931 Parameters: hubble_constant           = 0.695\n"
     ]
    },
    {
     "name": "stdout",
     "output_type": "stream",
     "text": [
      "get_refine_box: using this location:       col1         col2     col3     col4     col5     col6     col7   col8\n",
      "---------------- -------- -------- -------- -------- -------- -------- ----\n",
      "0.52343841686509 0.490445 0.477276 0.505537 0.492445 0.479276 0.507537    9\n"
     ]
    },
    {
     "name": "stderr",
     "output_type": "stream",
     "text": [
      "Parsing Hierarchy : 100%|████████████████| 6011/6011 [00:00<00:00, 12078.00it/s]\n",
      "yt : [INFO     ] 2022-07-15 10:13:35,731 Gathering a field list (this may take a moment.)\n",
      "yt : [WARNING  ] 2022-07-15 10:13:39,491 The stars particle filter already exists. Overriding.\n",
      "yt : [WARNING  ] 2022-07-15 10:13:39,492 The DM particle filter already exists. Overriding.\n"
     ]
    },
    {
     "name": "stdout",
     "output_type": "stream",
     "text": [
      "Pulling halo center from catalog file\n",
      "Opening snapshot /Volumes/TempestTimeSteps/DD1467/DD1467\n"
     ]
    },
    {
     "name": "stderr",
     "output_type": "stream",
     "text": [
      "yt : [INFO     ] 2022-07-15 10:13:39,695 Parameters: current_time              = 399.56652781829\n",
      "yt : [INFO     ] 2022-07-15 10:13:39,698 Parameters: domain_dimensions         = [256 256 256]\n",
      "yt : [INFO     ] 2022-07-15 10:13:39,702 Parameters: domain_left_edge          = [0. 0. 0.]\n",
      "yt : [INFO     ] 2022-07-15 10:13:39,705 Parameters: domain_right_edge         = [1. 1. 1.]\n",
      "yt : [INFO     ] 2022-07-15 10:13:39,706 Parameters: cosmological_simulation   = 1\n",
      "yt : [INFO     ] 2022-07-15 10:13:39,706 Parameters: current_redshift          = 0.50829046728324\n",
      "yt : [INFO     ] 2022-07-15 10:13:39,707 Parameters: omega_lambda              = 0.715\n",
      "yt : [INFO     ] 2022-07-15 10:13:39,708 Parameters: omega_matter              = 0.285\n",
      "yt : [INFO     ] 2022-07-15 10:13:39,709 Parameters: omega_radiation           = 0.0\n",
      "yt : [INFO     ] 2022-07-15 10:13:39,709 Parameters: hubble_constant           = 0.695\n"
     ]
    },
    {
     "name": "stdout",
     "output_type": "stream",
     "text": [
      "get_refine_box: using this location:       col1         col2     col3     col4     col5     col6     col7   col8\n",
      "---------------- -------- -------- -------- -------- -------- -------- ----\n",
      "0.50829046728324 0.490403 0.477105 0.505623 0.492403 0.479105 0.507623    9\n"
     ]
    },
    {
     "name": "stderr",
     "output_type": "stream",
     "text": [
      "Parsing Hierarchy : 100%|████████████████| 6171/6171 [00:00<00:00, 11118.56it/s]\n",
      "yt : [INFO     ] 2022-07-15 10:13:40,598 Gathering a field list (this may take a moment.)\n",
      "yt : [WARNING  ] 2022-07-15 10:13:44,252 The stars particle filter already exists. Overriding.\n",
      "yt : [WARNING  ] 2022-07-15 10:13:44,254 The DM particle filter already exists. Overriding.\n"
     ]
    },
    {
     "name": "stdout",
     "output_type": "stream",
     "text": [
      "Pulling halo center from catalog file\n",
      "Opening snapshot /Volumes/TempestTimeSteps/DD1487/DD1487\n"
     ]
    },
    {
     "name": "stderr",
     "output_type": "stream",
     "text": [
      "yt : [INFO     ] 2022-07-15 10:13:44,461 Parameters: current_time              = 404.56652781829\n",
      "yt : [INFO     ] 2022-07-15 10:13:44,464 Parameters: domain_dimensions         = [256 256 256]\n",
      "yt : [INFO     ] 2022-07-15 10:13:44,467 Parameters: domain_left_edge          = [0. 0. 0.]\n",
      "yt : [INFO     ] 2022-07-15 10:13:44,471 Parameters: domain_right_edge         = [1. 1. 1.]\n",
      "yt : [INFO     ] 2022-07-15 10:13:44,472 Parameters: cosmological_simulation   = 1\n",
      "yt : [INFO     ] 2022-07-15 10:13:44,472 Parameters: current_redshift          = 0.49342124762432\n",
      "yt : [INFO     ] 2022-07-15 10:13:44,473 Parameters: omega_lambda              = 0.715\n",
      "yt : [INFO     ] 2022-07-15 10:13:44,473 Parameters: omega_matter              = 0.285\n",
      "yt : [INFO     ] 2022-07-15 10:13:44,474 Parameters: omega_radiation           = 0.0\n",
      "yt : [INFO     ] 2022-07-15 10:13:44,475 Parameters: hubble_constant           = 0.695\n"
     ]
    },
    {
     "name": "stdout",
     "output_type": "stream",
     "text": [
      "get_refine_box: using this location:       col1         col2     col3     col4     col5     col6     col7   col8\n",
      "---------------- -------- -------- -------- -------- -------- -------- ----\n",
      "0.49342124762432 0.490359 0.476933 0.505703 0.492359 0.478933 0.507703    9\n"
     ]
    },
    {
     "name": "stderr",
     "output_type": "stream",
     "text": [
      "Parsing Hierarchy : 100%|████████████████| 5910/5910 [00:00<00:00, 12514.48it/s]\n",
      "yt : [INFO     ] 2022-07-15 10:13:45,249 Gathering a field list (this may take a moment.)\n",
      "yt : [WARNING  ] 2022-07-15 10:13:48,895 The stars particle filter already exists. Overriding.\n",
      "yt : [WARNING  ] 2022-07-15 10:13:48,896 The DM particle filter already exists. Overriding.\n"
     ]
    },
    {
     "name": "stdout",
     "output_type": "stream",
     "text": [
      "Pulling halo center from catalog file\n",
      "Opening snapshot /Volumes/TempestTimeSteps/DD1507/DD1507\n"
     ]
    },
    {
     "name": "stderr",
     "output_type": "stream",
     "text": [
      "yt : [INFO     ] 2022-07-15 10:13:49,100 Parameters: current_time              = 409.56652781829\n",
      "yt : [INFO     ] 2022-07-15 10:13:49,103 Parameters: domain_dimensions         = [256 256 256]\n",
      "yt : [INFO     ] 2022-07-15 10:13:49,106 Parameters: domain_left_edge          = [0. 0. 0.]\n",
      "yt : [INFO     ] 2022-07-15 10:13:49,110 Parameters: domain_right_edge         = [1. 1. 1.]\n",
      "yt : [INFO     ] 2022-07-15 10:13:49,110 Parameters: cosmological_simulation   = 1\n",
      "yt : [INFO     ] 2022-07-15 10:13:49,111 Parameters: current_redshift          = 0.47882175604921\n",
      "yt : [INFO     ] 2022-07-15 10:13:49,112 Parameters: omega_lambda              = 0.715\n",
      "yt : [INFO     ] 2022-07-15 10:13:49,113 Parameters: omega_matter              = 0.285\n",
      "yt : [INFO     ] 2022-07-15 10:13:49,114 Parameters: omega_radiation           = 0.0\n",
      "yt : [INFO     ] 2022-07-15 10:13:49,114 Parameters: hubble_constant           = 0.695\n"
     ]
    },
    {
     "name": "stdout",
     "output_type": "stream",
     "text": [
      "get_refine_box: using this location:       col1         col2     col3     col4     col5     col6     col7   col8\n",
      "---------------- -------- -------- -------- -------- -------- -------- ----\n",
      "0.47882175604921 0.490311 0.476767 0.505778 0.492311 0.478767 0.507778    9\n"
     ]
    },
    {
     "name": "stderr",
     "output_type": "stream",
     "text": [
      "Parsing Hierarchy : 100%|████████████████| 5867/5867 [00:00<00:00, 12940.64it/s]\n",
      "yt : [INFO     ] 2022-07-15 10:13:49,846 Gathering a field list (this may take a moment.)\n",
      "yt : [WARNING  ] 2022-07-15 10:13:53,095 The stars particle filter already exists. Overriding.\n",
      "yt : [WARNING  ] 2022-07-15 10:13:53,096 The DM particle filter already exists. Overriding.\n"
     ]
    },
    {
     "name": "stdout",
     "output_type": "stream",
     "text": [
      "Pulling halo center from catalog file\n",
      "Opening snapshot /Volumes/TempestTimeSteps/DD1527/DD1527\n"
     ]
    },
    {
     "name": "stderr",
     "output_type": "stream",
     "text": [
      "yt : [INFO     ] 2022-07-15 10:13:53,213 Parameters: current_time              = 414.56652781829\n",
      "yt : [INFO     ] 2022-07-15 10:13:53,216 Parameters: domain_dimensions         = [256 256 256]\n",
      "yt : [INFO     ] 2022-07-15 10:13:53,219 Parameters: domain_left_edge          = [0. 0. 0.]\n",
      "yt : [INFO     ] 2022-07-15 10:13:53,221 Parameters: domain_right_edge         = [1. 1. 1.]\n",
      "yt : [INFO     ] 2022-07-15 10:13:53,222 Parameters: cosmological_simulation   = 1\n",
      "yt : [INFO     ] 2022-07-15 10:13:53,222 Parameters: current_redshift          = 0.46448339402042\n",
      "yt : [INFO     ] 2022-07-15 10:13:53,223 Parameters: omega_lambda              = 0.715\n",
      "yt : [INFO     ] 2022-07-15 10:13:53,224 Parameters: omega_matter              = 0.285\n",
      "yt : [INFO     ] 2022-07-15 10:13:53,224 Parameters: omega_radiation           = 0.0\n",
      "yt : [INFO     ] 2022-07-15 10:13:53,225 Parameters: hubble_constant           = 0.695\n"
     ]
    },
    {
     "name": "stdout",
     "output_type": "stream",
     "text": [
      "get_refine_box: using this location:       col1         col2     col3     col4     col5     col6     col7   col8\n",
      "---------------- -------- -------- -------- -------- -------- -------- ----\n",
      "0.46448339402042 0.490271 0.476607 0.505839 0.492271 0.478607 0.507839    9\n"
     ]
    },
    {
     "name": "stderr",
     "output_type": "stream",
     "text": [
      "Parsing Hierarchy : 100%|████████████████| 5969/5969 [00:00<00:00, 13497.81it/s]\n",
      "yt : [INFO     ] 2022-07-15 10:13:54,029 Gathering a field list (this may take a moment.)\n",
      "yt : [WARNING  ] 2022-07-15 10:13:57,506 The stars particle filter already exists. Overriding.\n",
      "yt : [WARNING  ] 2022-07-15 10:13:57,506 The DM particle filter already exists. Overriding.\n"
     ]
    },
    {
     "name": "stdout",
     "output_type": "stream",
     "text": [
      "Pulling halo center from catalog file\n",
      "Opening snapshot /Volumes/TempestTimeSteps/DD1547/DD1547\n"
     ]
    },
    {
     "name": "stderr",
     "output_type": "stream",
     "text": [
      "yt : [INFO     ] 2022-07-15 10:13:57,734 Parameters: current_time              = 419.56652781829\n",
      "yt : [INFO     ] 2022-07-15 10:13:57,737 Parameters: domain_dimensions         = [256 256 256]\n",
      "yt : [INFO     ] 2022-07-15 10:13:57,740 Parameters: domain_left_edge          = [0. 0. 0.]\n",
      "yt : [INFO     ] 2022-07-15 10:13:57,743 Parameters: domain_right_edge         = [1. 1. 1.]\n",
      "yt : [INFO     ] 2022-07-15 10:13:57,744 Parameters: cosmological_simulation   = 1\n",
      "yt : [INFO     ] 2022-07-15 10:13:57,744 Parameters: current_redshift          = 0.45039794375812\n",
      "yt : [INFO     ] 2022-07-15 10:13:57,745 Parameters: omega_lambda              = 0.715\n",
      "yt : [INFO     ] 2022-07-15 10:13:57,745 Parameters: omega_matter              = 0.285\n",
      "yt : [INFO     ] 2022-07-15 10:13:57,746 Parameters: omega_radiation           = 0.0\n",
      "yt : [INFO     ] 2022-07-15 10:13:57,746 Parameters: hubble_constant           = 0.695\n"
     ]
    },
    {
     "name": "stdout",
     "output_type": "stream",
     "text": [
      "get_refine_box: using this location:       col1         col2     col3     col4     col5     col6     col7   col8\n",
      "---------------- -------- -------- -------- -------- -------- -------- ----\n",
      "0.45039794375812 0.490235 0.476443 0.505904 0.492235 0.478443 0.507904    9\n"
     ]
    },
    {
     "name": "stderr",
     "output_type": "stream",
     "text": [
      "Parsing Hierarchy : 100%|████████████████| 5953/5953 [00:00<00:00, 13680.85it/s]\n",
      "yt : [INFO     ] 2022-07-15 10:13:58,444 Gathering a field list (this may take a moment.)\n",
      "yt : [WARNING  ] 2022-07-15 10:14:01,813 The stars particle filter already exists. Overriding.\n",
      "yt : [WARNING  ] 2022-07-15 10:14:01,815 The DM particle filter already exists. Overriding.\n"
     ]
    },
    {
     "name": "stdout",
     "output_type": "stream",
     "text": [
      "Pulling halo center from catalog file\n",
      "Opening snapshot /Volumes/TempestTimeSteps/DD1567/DD1567\n"
     ]
    },
    {
     "name": "stderr",
     "output_type": "stream",
     "text": [
      "yt : [INFO     ] 2022-07-15 10:14:02,030 Parameters: current_time              = 424.56652781829\n",
      "yt : [INFO     ] 2022-07-15 10:14:02,033 Parameters: domain_dimensions         = [256 256 256]\n",
      "yt : [INFO     ] 2022-07-15 10:14:02,036 Parameters: domain_left_edge          = [0. 0. 0.]\n",
      "yt : [INFO     ] 2022-07-15 10:14:02,039 Parameters: domain_right_edge         = [1. 1. 1.]\n",
      "yt : [INFO     ] 2022-07-15 10:14:02,039 Parameters: cosmological_simulation   = 1\n",
      "yt : [INFO     ] 2022-07-15 10:14:02,040 Parameters: current_redshift          = 0.43654854251444\n",
      "yt : [INFO     ] 2022-07-15 10:14:02,042 Parameters: omega_lambda              = 0.715\n",
      "yt : [INFO     ] 2022-07-15 10:14:02,043 Parameters: omega_matter              = 0.285\n",
      "yt : [INFO     ] 2022-07-15 10:14:02,043 Parameters: omega_radiation           = 0\n",
      "yt : [INFO     ] 2022-07-15 10:14:02,044 Parameters: hubble_constant           = 0.695\n"
     ]
    },
    {
     "name": "stdout",
     "output_type": "stream",
     "text": [
      "get_refine_box: using this location:       col1         col2     col3     col4     col5     col6     col7   col8\n",
      "---------------- -------- -------- -------- -------- -------- -------- ----\n",
      "0.43655754720396 0.490199 0.476281 0.505972 0.492199 0.478281 0.507972    9\n"
     ]
    },
    {
     "name": "stderr",
     "output_type": "stream",
     "text": [
      "Parsing Hierarchy : 100%|████████████████| 5989/5989 [00:00<00:00, 13750.24it/s]\n",
      "yt : [INFO     ] 2022-07-15 10:14:02,765 Gathering a field list (this may take a moment.)\n",
      "yt : [WARNING  ] 2022-07-15 10:14:06,036 The stars particle filter already exists. Overriding.\n",
      "yt : [WARNING  ] 2022-07-15 10:14:06,037 The DM particle filter already exists. Overriding.\n"
     ]
    },
    {
     "name": "stdout",
     "output_type": "stream",
     "text": [
      "Pulling halo center from catalog file\n",
      "Opening snapshot /Volumes/TempestTimeSteps/DD1587/DD1587\n"
     ]
    },
    {
     "name": "stderr",
     "output_type": "stream",
     "text": [
      "yt : [INFO     ] 2022-07-15 10:14:06,230 Parameters: current_time              = 429.56652781829\n",
      "yt : [INFO     ] 2022-07-15 10:14:06,233 Parameters: domain_dimensions         = [256 256 256]\n",
      "yt : [INFO     ] 2022-07-15 10:14:06,235 Parameters: domain_left_edge          = [0. 0. 0.]\n",
      "yt : [INFO     ] 2022-07-15 10:14:06,237 Parameters: domain_right_edge         = [1. 1. 1.]\n",
      "yt : [INFO     ] 2022-07-15 10:14:06,238 Parameters: cosmological_simulation   = 1\n",
      "yt : [INFO     ] 2022-07-15 10:14:06,239 Parameters: current_redshift          = 0.42294018464771\n",
      "yt : [INFO     ] 2022-07-15 10:14:06,239 Parameters: omega_lambda              = 0.715\n",
      "yt : [INFO     ] 2022-07-15 10:14:06,240 Parameters: omega_matter              = 0.285\n",
      "yt : [INFO     ] 2022-07-15 10:14:06,240 Parameters: omega_radiation           = 0\n",
      "yt : [INFO     ] 2022-07-15 10:14:06,241 Parameters: hubble_constant           = 0.695\n"
     ]
    },
    {
     "name": "stdout",
     "output_type": "stream",
     "text": [
      "get_refine_box: using this location:       col1         col2     col3     col4     col5     col6     col7   col8\n",
      "---------------- -------- -------- -------- -------- -------- -------- ----\n",
      "0.42295468637566 0.490164 0.476115 0.506041 0.492164 0.478115 0.508041    9\n"
     ]
    },
    {
     "name": "stderr",
     "output_type": "stream",
     "text": [
      "Parsing Hierarchy : 100%|████████████████| 5816/5816 [00:00<00:00, 13049.70it/s]\n",
      "yt : [INFO     ] 2022-07-15 10:14:06,962 Gathering a field list (this may take a moment.)\n",
      "yt : [WARNING  ] 2022-07-15 10:14:10,169 The stars particle filter already exists. Overriding.\n",
      "yt : [WARNING  ] 2022-07-15 10:14:10,170 The DM particle filter already exists. Overriding.\n"
     ]
    },
    {
     "name": "stdout",
     "output_type": "stream",
     "text": [
      "Pulling halo center from catalog file\n",
      "Opening snapshot /Volumes/TempestTimeSteps/DD1607/DD1607\n"
     ]
    },
    {
     "name": "stderr",
     "output_type": "stream",
     "text": [
      "yt : [INFO     ] 2022-07-15 10:14:10,406 Parameters: current_time              = 434.56652781829\n",
      "yt : [INFO     ] 2022-07-15 10:14:10,409 Parameters: domain_dimensions         = [256 256 256]\n",
      "yt : [INFO     ] 2022-07-15 10:14:10,411 Parameters: domain_left_edge          = [0. 0. 0.]\n",
      "yt : [INFO     ] 2022-07-15 10:14:10,414 Parameters: domain_right_edge         = [1. 1. 1.]\n",
      "yt : [INFO     ] 2022-07-15 10:14:10,415 Parameters: cosmological_simulation   = 1\n",
      "yt : [INFO     ] 2022-07-15 10:14:10,416 Parameters: current_redshift          = 0.40957366338403\n",
      "yt : [INFO     ] 2022-07-15 10:14:10,417 Parameters: omega_lambda              = 0.715\n",
      "yt : [INFO     ] 2022-07-15 10:14:10,417 Parameters: omega_matter              = 0.285\n",
      "yt : [INFO     ] 2022-07-15 10:14:10,418 Parameters: omega_radiation           = 0\n",
      "yt : [INFO     ] 2022-07-15 10:14:10,418 Parameters: hubble_constant           = 0.695\n"
     ]
    },
    {
     "name": "stdout",
     "output_type": "stream",
     "text": [
      "get_refine_box: using this location:       col1        col2     col3     col4     col5     col6     col7   col8\n",
      "--------------- -------- -------- -------- -------- -------- -------- ----\n",
      "0.4095821650052 0.490128 0.475951 0.506113 0.492128 0.477951 0.508113    9\n"
     ]
    },
    {
     "name": "stderr",
     "output_type": "stream",
     "text": [
      "Parsing Hierarchy : 100%|████████████████| 5789/5789 [00:00<00:00, 12823.07it/s]\n",
      "yt : [INFO     ] 2022-07-15 10:14:11,159 Gathering a field list (this may take a moment.)\n",
      "yt : [WARNING  ] 2022-07-15 10:14:20,012 The stars particle filter already exists. Overriding.\n",
      "yt : [WARNING  ] 2022-07-15 10:14:20,013 The DM particle filter already exists. Overriding.\n"
     ]
    },
    {
     "name": "stdout",
     "output_type": "stream",
     "text": [
      "Pulling halo center from catalog file\n",
      "Opening snapshot /Volumes/TempestTimeSteps/DD1627/DD1627\n"
     ]
    },
    {
     "name": "stderr",
     "output_type": "stream",
     "text": [
      "yt : [INFO     ] 2022-07-15 10:14:20,212 Parameters: current_time              = 439.56652781829\n",
      "yt : [INFO     ] 2022-07-15 10:14:20,215 Parameters: domain_dimensions         = [256 256 256]\n",
      "yt : [INFO     ] 2022-07-15 10:14:20,217 Parameters: domain_left_edge          = [0. 0. 0.]\n",
      "yt : [INFO     ] 2022-07-15 10:14:20,220 Parameters: domain_right_edge         = [1. 1. 1.]\n",
      "yt : [INFO     ] 2022-07-15 10:14:20,221 Parameters: cosmological_simulation   = 1\n",
      "yt : [INFO     ] 2022-07-15 10:14:20,222 Parameters: current_redshift          = 0.39642584964378\n",
      "yt : [INFO     ] 2022-07-15 10:14:20,223 Parameters: omega_lambda              = 0.715\n",
      "yt : [INFO     ] 2022-07-15 10:14:20,223 Parameters: omega_matter              = 0.285\n",
      "yt : [INFO     ] 2022-07-15 10:14:20,224 Parameters: omega_radiation           = 0\n",
      "yt : [INFO     ] 2022-07-15 10:14:20,225 Parameters: hubble_constant           = 0.695\n"
     ]
    },
    {
     "name": "stdout",
     "output_type": "stream",
     "text": [
      "get_refine_box: using this location:       col1         col2     col3     col4     col5     col6     col7   col8\n",
      "---------------- -------- -------- -------- -------- -------- -------- ----\n",
      "0.39643309136323 0.490092 0.475789 0.506186 0.492092 0.477789 0.508186    9\n"
     ]
    },
    {
     "name": "stderr",
     "output_type": "stream",
     "text": [
      "Parsing Hierarchy : 100%|████████████████| 5643/5643 [00:00<00:00, 13007.23it/s]\n",
      "yt : [INFO     ] 2022-07-15 10:14:20,941 Gathering a field list (this may take a moment.)\n",
      "yt : [WARNING  ] 2022-07-15 10:14:24,118 The stars particle filter already exists. Overriding.\n",
      "yt : [WARNING  ] 2022-07-15 10:14:24,118 The DM particle filter already exists. Overriding.\n"
     ]
    },
    {
     "name": "stdout",
     "output_type": "stream",
     "text": [
      "Pulling halo center from catalog file\n",
      "Opening snapshot /Volumes/TempestTimeSteps/DD1647/DD1647\n"
     ]
    },
    {
     "name": "stderr",
     "output_type": "stream",
     "text": [
      "yt : [INFO     ] 2022-07-15 10:14:24,322 Parameters: current_time              = 444.56652781829\n",
      "yt : [INFO     ] 2022-07-15 10:14:24,325 Parameters: domain_dimensions         = [256 256 256]\n",
      "yt : [INFO     ] 2022-07-15 10:14:24,328 Parameters: domain_left_edge          = [0. 0. 0.]\n",
      "yt : [INFO     ] 2022-07-15 10:14:24,331 Parameters: domain_right_edge         = [1. 1. 1.]\n",
      "yt : [INFO     ] 2022-07-15 10:14:24,332 Parameters: cosmological_simulation   = 1\n",
      "yt : [INFO     ] 2022-07-15 10:14:24,332 Parameters: current_redshift          = 0.38348625944323\n",
      "yt : [INFO     ] 2022-07-15 10:14:24,334 Parameters: omega_lambda              = 0.715\n",
      "yt : [INFO     ] 2022-07-15 10:14:24,335 Parameters: omega_matter              = 0.285\n",
      "yt : [INFO     ] 2022-07-15 10:14:24,335 Parameters: omega_radiation           = 0\n",
      "yt : [INFO     ] 2022-07-15 10:14:24,336 Parameters: hubble_constant           = 0.695\n"
     ]
    },
    {
     "name": "stdout",
     "output_type": "stream",
     "text": [
      "get_refine_box: using this location:       col1         col2     col3     col4    col5     col6     col7  col8\n",
      "---------------- -------- -------- ------- -------- -------- ------- ----\n",
      "0.38350086218055 0.490054 0.475624 0.50626 0.492054 0.477624 0.50826    9\n"
     ]
    },
    {
     "name": "stderr",
     "output_type": "stream",
     "text": [
      "Parsing Hierarchy : 100%|████████████████| 5260/5260 [00:00<00:00, 12496.82it/s]\n",
      "yt : [INFO     ] 2022-07-15 10:14:25,026 Gathering a field list (this may take a moment.)\n",
      "yt : [WARNING  ] 2022-07-15 10:14:28,281 The stars particle filter already exists. Overriding.\n",
      "yt : [WARNING  ] 2022-07-15 10:14:28,281 The DM particle filter already exists. Overriding.\n"
     ]
    },
    {
     "name": "stdout",
     "output_type": "stream",
     "text": [
      "Pulling halo center from catalog file\n",
      "Opening snapshot /Volumes/TempestTimeSteps/DD1667/DD1667\n"
     ]
    },
    {
     "name": "stderr",
     "output_type": "stream",
     "text": [
      "yt : [INFO     ] 2022-07-15 10:14:28,477 Parameters: current_time              = 449.56652781829\n",
      "yt : [INFO     ] 2022-07-15 10:14:28,480 Parameters: domain_dimensions         = [256 256 256]\n",
      "yt : [INFO     ] 2022-07-15 10:14:28,484 Parameters: domain_left_edge          = [0. 0. 0.]\n",
      "yt : [INFO     ] 2022-07-15 10:14:28,488 Parameters: domain_right_edge         = [1. 1. 1.]\n",
      "yt : [INFO     ] 2022-07-15 10:14:28,489 Parameters: cosmological_simulation   = 1\n",
      "yt : [INFO     ] 2022-07-15 10:14:28,489 Parameters: current_redshift          = 0.37076988451991\n",
      "yt : [INFO     ] 2022-07-15 10:14:28,490 Parameters: omega_lambda              = 0.715\n",
      "yt : [INFO     ] 2022-07-15 10:14:28,491 Parameters: omega_matter              = 0.285\n",
      "yt : [INFO     ] 2022-07-15 10:14:28,491 Parameters: omega_radiation           = 0\n",
      "yt : [INFO     ] 2022-07-15 10:14:28,492 Parameters: hubble_constant           = 0.695\n"
     ]
    },
    {
     "name": "stdout",
     "output_type": "stream",
     "text": [
      "get_refine_box: using this location:       col1         col2     col3     col4     col5     col6     col7   col8\n",
      "---------------- -------- -------- -------- -------- -------- -------- ----\n",
      "0.37077914758514 0.490008 0.475464 0.506331 0.492008 0.477464 0.508331    9\n"
     ]
    },
    {
     "name": "stderr",
     "output_type": "stream",
     "text": [
      "Parsing Hierarchy : 100%|████████████████| 5350/5350 [00:00<00:00, 12806.06it/s]\n",
      "yt : [INFO     ] 2022-07-15 10:14:29,170 Gathering a field list (this may take a moment.)\n",
      "yt : [WARNING  ] 2022-07-15 10:14:32,721 The stars particle filter already exists. Overriding.\n",
      "yt : [WARNING  ] 2022-07-15 10:14:32,722 The DM particle filter already exists. Overriding.\n"
     ]
    },
    {
     "name": "stdout",
     "output_type": "stream",
     "text": [
      "Pulling halo center from catalog file\n",
      "Opening snapshot /Volumes/TempestTimeSteps/DD1687/DD1687\n"
     ]
    },
    {
     "name": "stderr",
     "output_type": "stream",
     "text": [
      "yt : [INFO     ] 2022-07-15 10:14:32,916 Parameters: current_time              = 454.56652781829\n",
      "yt : [INFO     ] 2022-07-15 10:14:32,919 Parameters: domain_dimensions         = [256 256 256]\n",
      "yt : [INFO     ] 2022-07-15 10:14:32,922 Parameters: domain_left_edge          = [0. 0. 0.]\n",
      "yt : [INFO     ] 2022-07-15 10:14:32,925 Parameters: domain_right_edge         = [1. 1. 1.]\n",
      "yt : [INFO     ] 2022-07-15 10:14:32,926 Parameters: cosmological_simulation   = 1\n",
      "yt : [INFO     ] 2022-07-15 10:14:32,926 Parameters: current_redshift          = 0.35825474228483\n",
      "yt : [INFO     ] 2022-07-15 10:14:32,927 Parameters: omega_lambda              = 0.715\n",
      "yt : [INFO     ] 2022-07-15 10:14:32,927 Parameters: omega_matter              = 0.285\n",
      "yt : [INFO     ] 2022-07-15 10:14:32,928 Parameters: omega_radiation           = 0\n",
      "yt : [INFO     ] 2022-07-15 10:14:32,929 Parameters: hubble_constant           = 0.695\n"
     ]
    },
    {
     "name": "stdout",
     "output_type": "stream",
     "text": [
      "get_refine_box: using this location:       col1         col2    col3     col4     col5    col6     col7   col8\n",
      "---------------- ------- -------- -------- ------- -------- -------- ----\n",
      "0.35826187698009 0.48997 0.475304 0.506398 0.49197 0.477304 0.508398    9\n"
     ]
    },
    {
     "name": "stderr",
     "output_type": "stream",
     "text": [
      "Parsing Hierarchy : 100%|████████████████| 5327/5327 [00:00<00:00, 13309.25it/s]\n",
      "yt : [INFO     ] 2022-07-15 10:14:33,587 Gathering a field list (this may take a moment.)\n",
      "yt : [WARNING  ] 2022-07-15 10:14:36,918 The stars particle filter already exists. Overriding.\n",
      "yt : [WARNING  ] 2022-07-15 10:14:36,919 The DM particle filter already exists. Overriding.\n"
     ]
    },
    {
     "name": "stdout",
     "output_type": "stream",
     "text": [
      "Pulling halo center from catalog file\n",
      "Opening snapshot /Volumes/TempestTimeSteps/DD1707/DD1707\n"
     ]
    },
    {
     "name": "stderr",
     "output_type": "stream",
     "text": [
      "yt : [INFO     ] 2022-07-15 10:14:37,100 Parameters: current_time              = 459.56652781829\n",
      "yt : [INFO     ] 2022-07-15 10:14:37,102 Parameters: domain_dimensions         = [256 256 256]\n",
      "yt : [INFO     ] 2022-07-15 10:14:37,105 Parameters: domain_left_edge          = [0. 0. 0.]\n",
      "yt : [INFO     ] 2022-07-15 10:14:37,108 Parameters: domain_right_edge         = [1. 1. 1.]\n",
      "yt : [INFO     ] 2022-07-15 10:14:37,109 Parameters: cosmological_simulation   = 1\n",
      "yt : [INFO     ] 2022-07-15 10:14:37,109 Parameters: current_redshift          = 0.34592847874001\n",
      "yt : [INFO     ] 2022-07-15 10:14:37,110 Parameters: omega_lambda              = 0.715\n",
      "yt : [INFO     ] 2022-07-15 10:14:37,110 Parameters: omega_matter              = 0.285\n",
      "yt : [INFO     ] 2022-07-15 10:14:37,111 Parameters: omega_radiation           = 0\n",
      "yt : [INFO     ] 2022-07-15 10:14:37,112 Parameters: hubble_constant           = 0.695\n"
     ]
    },
    {
     "name": "stdout",
     "output_type": "stream",
     "text": [
      "get_refine_box: using this location:       col1        col2     col3     col4     col5     col6     col7   col8\n",
      "--------------- -------- -------- -------- -------- -------- -------- ----\n",
      "0.3459432257941 0.489933 0.475144 0.506463 0.491933 0.477144 0.508463    9\n"
     ]
    },
    {
     "name": "stderr",
     "output_type": "stream",
     "text": [
      "Parsing Hierarchy : 100%|████████████████| 5353/5353 [00:00<00:00, 12965.09it/s]\n",
      "yt : [INFO     ] 2022-07-15 10:14:37,789 Gathering a field list (this may take a moment.)\n",
      "yt : [WARNING  ] 2022-07-15 10:14:41,167 The stars particle filter already exists. Overriding.\n",
      "yt : [WARNING  ] 2022-07-15 10:14:41,167 The DM particle filter already exists. Overriding.\n"
     ]
    },
    {
     "name": "stdout",
     "output_type": "stream",
     "text": [
      "Pulling halo center from catalog file\n",
      "Opening snapshot /Volumes/TempestTimeSteps/DD1727/DD1727\n"
     ]
    },
    {
     "name": "stderr",
     "output_type": "stream",
     "text": [
      "yt : [INFO     ] 2022-07-15 10:14:41,361 Parameters: current_time              = 464.56652781829\n",
      "yt : [INFO     ] 2022-07-15 10:14:41,364 Parameters: domain_dimensions         = [256 256 256]\n",
      "yt : [INFO     ] 2022-07-15 10:14:41,369 Parameters: domain_left_edge          = [0. 0. 0.]\n",
      "yt : [INFO     ] 2022-07-15 10:14:41,372 Parameters: domain_right_edge         = [1. 1. 1.]\n",
      "yt : [INFO     ] 2022-07-15 10:14:41,372 Parameters: cosmological_simulation   = 1\n",
      "yt : [INFO     ] 2022-07-15 10:14:41,373 Parameters: current_redshift          = 0.33380915572466\n",
      "yt : [INFO     ] 2022-07-15 10:14:41,374 Parameters: omega_lambda              = 0.715\n",
      "yt : [INFO     ] 2022-07-15 10:14:41,374 Parameters: omega_matter              = 0.285\n",
      "yt : [INFO     ] 2022-07-15 10:14:41,375 Parameters: omega_radiation           = 0\n",
      "yt : [INFO     ] 2022-07-15 10:14:41,376 Parameters: hubble_constant           = 0.695\n"
     ]
    },
    {
     "name": "stdout",
     "output_type": "stream",
     "text": [
      "get_refine_box: using this location:       col1         col2     col3     col4     col5     col6     col7   col8\n",
      "---------------- -------- -------- -------- -------- -------- -------- ----\n",
      "0.33381760304183 0.489899 0.474982 0.506529 0.491899 0.476982 0.508529    9\n"
     ]
    },
    {
     "name": "stderr",
     "output_type": "stream",
     "text": [
      "Parsing Hierarchy : 100%|████████████████| 5384/5384 [00:00<00:00, 13214.21it/s]\n",
      "yt : [INFO     ] 2022-07-15 10:14:42,048 Gathering a field list (this may take a moment.)\n",
      "yt : [WARNING  ] 2022-07-15 10:14:45,188 The stars particle filter already exists. Overriding.\n",
      "yt : [WARNING  ] 2022-07-15 10:14:45,189 The DM particle filter already exists. Overriding.\n"
     ]
    },
    {
     "name": "stdout",
     "output_type": "stream",
     "text": [
      "Pulling halo center from catalog file\n",
      "Opening snapshot /Volumes/TempestTimeSteps/DD1747/DD1747\n"
     ]
    },
    {
     "name": "stderr",
     "output_type": "stream",
     "text": [
      "yt : [INFO     ] 2022-07-15 10:14:45,412 Parameters: current_time              = 469.56652781829\n",
      "yt : [INFO     ] 2022-07-15 10:14:45,415 Parameters: domain_dimensions         = [256 256 256]\n",
      "yt : [INFO     ] 2022-07-15 10:14:45,418 Parameters: domain_left_edge          = [0. 0. 0.]\n",
      "yt : [INFO     ] 2022-07-15 10:14:45,421 Parameters: domain_right_edge         = [1. 1. 1.]\n",
      "yt : [INFO     ] 2022-07-15 10:14:45,421 Parameters: cosmological_simulation   = 1\n",
      "yt : [INFO     ] 2022-07-15 10:14:45,422 Parameters: current_redshift          = 0.32187097991253\n",
      "yt : [INFO     ] 2022-07-15 10:14:45,423 Parameters: omega_lambda              = 0.715\n",
      "yt : [INFO     ] 2022-07-15 10:14:45,424 Parameters: omega_matter              = 0.285\n",
      "yt : [INFO     ] 2022-07-15 10:14:45,424 Parameters: omega_radiation           = 0\n",
      "yt : [INFO     ] 2022-07-15 10:14:45,425 Parameters: hubble_constant           = 0.695\n"
     ]
    },
    {
     "name": "stdout",
     "output_type": "stream",
     "text": [
      "get_refine_box: using this location:       col1         col2     col3     col4     col5     col6     col7   col8\n",
      "---------------- -------- -------- -------- -------- -------- -------- ----\n",
      "0.32187963963644 0.489863 0.474823 0.506592 0.491863 0.476823 0.508592    9\n"
     ]
    },
    {
     "name": "stderr",
     "output_type": "stream",
     "text": [
      "Parsing Hierarchy : 100%|████████████████| 5338/5338 [00:00<00:00, 13253.71it/s]\n",
      "yt : [INFO     ] 2022-07-15 10:14:46,102 Gathering a field list (this may take a moment.)\n",
      "yt : [WARNING  ] 2022-07-15 10:14:49,298 The stars particle filter already exists. Overriding.\n",
      "yt : [WARNING  ] 2022-07-15 10:14:49,301 The DM particle filter already exists. Overriding.\n"
     ]
    },
    {
     "name": "stdout",
     "output_type": "stream",
     "text": [
      "Pulling halo center from catalog file\n",
      "Opening snapshot /Volumes/TempestTimeSteps/DD1767/DD1767\n"
     ]
    },
    {
     "name": "stderr",
     "output_type": "stream",
     "text": [
      "yt : [INFO     ] 2022-07-15 10:14:49,496 Parameters: current_time              = 474.56652781829\n",
      "yt : [INFO     ] 2022-07-15 10:14:49,500 Parameters: domain_dimensions         = [256 256 256]\n",
      "yt : [INFO     ] 2022-07-15 10:14:49,503 Parameters: domain_left_edge          = [0. 0. 0.]\n",
      "yt : [INFO     ] 2022-07-15 10:14:49,505 Parameters: domain_right_edge         = [1. 1. 1.]\n",
      "yt : [INFO     ] 2022-07-15 10:14:49,506 Parameters: cosmological_simulation   = 1\n",
      "yt : [INFO     ] 2022-07-15 10:14:49,507 Parameters: current_redshift          = 0.31010937956297\n",
      "yt : [INFO     ] 2022-07-15 10:14:49,508 Parameters: omega_lambda              = 0.715\n",
      "yt : [INFO     ] 2022-07-15 10:14:49,511 Parameters: omega_matter              = 0.285\n",
      "yt : [INFO     ] 2022-07-15 10:14:49,511 Parameters: omega_radiation           = 0\n",
      "yt : [INFO     ] 2022-07-15 10:14:49,512 Parameters: hubble_constant           = 0.695\n"
     ]
    },
    {
     "name": "stdout",
     "output_type": "stream",
     "text": [
      "get_refine_box: using this location:       col1         col2     col3     col4     col5     col6     col7   col8\n",
      "---------------- -------- -------- -------- -------- -------- -------- ----\n",
      "0.31012417740147 0.489823 0.474669 0.506653 0.491823 0.476669 0.508653    9\n"
     ]
    },
    {
     "name": "stderr",
     "output_type": "stream",
     "text": [
      "Parsing Hierarchy : 100%|████████████████| 5392/5392 [00:00<00:00, 12468.55it/s]\n",
      "yt : [INFO     ] 2022-07-15 10:14:50,213 Gathering a field list (this may take a moment.)\n",
      "yt : [WARNING  ] 2022-07-15 10:14:53,489 The stars particle filter already exists. Overriding.\n",
      "yt : [WARNING  ] 2022-07-15 10:14:53,489 The DM particle filter already exists. Overriding.\n"
     ]
    },
    {
     "name": "stdout",
     "output_type": "stream",
     "text": [
      "Pulling halo center from catalog file\n",
      "Opening snapshot /Volumes/TempestTimeSteps/DD1787/DD1787\n"
     ]
    },
    {
     "name": "stderr",
     "output_type": "stream",
     "text": [
      "yt : [INFO     ] 2022-07-15 10:14:53,686 Parameters: current_time              = 479.56652781829\n",
      "yt : [INFO     ] 2022-07-15 10:14:53,689 Parameters: domain_dimensions         = [256 256 256]\n",
      "yt : [INFO     ] 2022-07-15 10:14:53,692 Parameters: domain_left_edge          = [0. 0. 0.]\n",
      "yt : [INFO     ] 2022-07-15 10:14:53,695 Parameters: domain_right_edge         = [1. 1. 1.]\n",
      "yt : [INFO     ] 2022-07-15 10:14:53,696 Parameters: cosmological_simulation   = 1\n",
      "yt : [INFO     ] 2022-07-15 10:14:53,697 Parameters: current_redshift          = 0.29854043336148\n",
      "yt : [INFO     ] 2022-07-15 10:14:53,698 Parameters: omega_lambda              = 0.715\n",
      "yt : [INFO     ] 2022-07-15 10:14:53,698 Parameters: omega_matter              = 0.285\n",
      "yt : [INFO     ] 2022-07-15 10:14:53,699 Parameters: omega_radiation           = 0\n",
      "yt : [INFO     ] 2022-07-15 10:14:53,700 Parameters: hubble_constant           = 0.695\n"
     ]
    },
    {
     "name": "stdout",
     "output_type": "stream",
     "text": [
      "get_refine_box: using this location:       col1         col2     col3     col4     col5     col6     col7   col8\n",
      "---------------- -------- -------- -------- -------- -------- -------- ----\n",
      "0.29854625873325 0.489788 0.474513 0.506712 0.491788 0.476513 0.508712    9\n"
     ]
    },
    {
     "name": "stderr",
     "output_type": "stream",
     "text": [
      "Parsing Hierarchy : 100%|████████████████| 5500/5500 [00:00<00:00, 12914.26it/s]\n",
      "yt : [INFO     ] 2022-07-15 10:14:54,385 Gathering a field list (this may take a moment.)\n",
      "yt : [WARNING  ] 2022-07-15 10:14:57,696 The stars particle filter already exists. Overriding.\n",
      "yt : [WARNING  ] 2022-07-15 10:14:57,697 The DM particle filter already exists. Overriding.\n"
     ]
    },
    {
     "name": "stdout",
     "output_type": "stream",
     "text": [
      "Pulling halo center from catalog file\n",
      "Opening snapshot /Volumes/TempestTimeSteps/DD1807/DD1807\n"
     ]
    },
    {
     "name": "stderr",
     "output_type": "stream",
     "text": [
      "yt : [INFO     ] 2022-07-15 10:14:57,892 Parameters: current_time              = 484.56652781829\n",
      "yt : [INFO     ] 2022-07-15 10:14:57,895 Parameters: domain_dimensions         = [256 256 256]\n",
      "yt : [INFO     ] 2022-07-15 10:14:57,899 Parameters: domain_left_edge          = [0. 0. 0.]\n",
      "yt : [INFO     ] 2022-07-15 10:14:57,902 Parameters: domain_right_edge         = [1. 1. 1.]\n",
      "yt : [INFO     ] 2022-07-15 10:14:57,903 Parameters: cosmological_simulation   = 1\n",
      "yt : [INFO     ] 2022-07-15 10:14:57,904 Parameters: current_redshift          = 0.28712989799233\n",
      "yt : [INFO     ] 2022-07-15 10:14:57,905 Parameters: omega_lambda              = 0.715\n",
      "yt : [INFO     ] 2022-07-15 10:14:57,905 Parameters: omega_matter              = 0.285\n",
      "yt : [INFO     ] 2022-07-15 10:14:57,906 Parameters: omega_radiation           = 0\n",
      "yt : [INFO     ] 2022-07-15 10:14:57,906 Parameters: hubble_constant           = 0.695\n"
     ]
    },
    {
     "name": "stdout",
     "output_type": "stream",
     "text": [
      "get_refine_box: using this location:       col1         col2     col3     col4     col5     col6     col7   col8\n",
      "---------------- -------- -------- -------- -------- -------- -------- ----\n",
      "0.28714111686912 0.489754 0.474358 0.506773 0.491754 0.476358 0.508773    9\n"
     ]
    },
    {
     "name": "stderr",
     "output_type": "stream",
     "text": [
      "Parsing Hierarchy : 100%|████████████████| 5571/5571 [00:00<00:00, 12764.58it/s]\n",
      "yt : [INFO     ] 2022-07-15 10:14:58,619 Gathering a field list (this may take a moment.)\n",
      "yt : [WARNING  ] 2022-07-15 10:15:02,007 The stars particle filter already exists. Overriding.\n",
      "yt : [WARNING  ] 2022-07-15 10:15:02,009 The DM particle filter already exists. Overriding.\n"
     ]
    },
    {
     "name": "stdout",
     "output_type": "stream",
     "text": [
      "Pulling halo center from catalog file\n",
      "Opening snapshot /Volumes/TempestTimeSteps/DD1827/DD1827\n"
     ]
    },
    {
     "name": "stderr",
     "output_type": "stream",
     "text": [
      "yt : [INFO     ] 2022-07-15 10:15:02,205 Parameters: current_time              = 489.56652781829\n",
      "yt : [INFO     ] 2022-07-15 10:15:02,207 Parameters: domain_dimensions         = [256 256 256]\n",
      "yt : [INFO     ] 2022-07-15 10:15:02,211 Parameters: domain_left_edge          = [0. 0. 0.]\n",
      "yt : [INFO     ] 2022-07-15 10:15:02,214 Parameters: domain_right_edge         = [1. 1. 1.]\n",
      "yt : [INFO     ] 2022-07-15 10:15:02,215 Parameters: cosmological_simulation   = 1\n",
      "yt : [INFO     ] 2022-07-15 10:15:02,216 Parameters: current_redshift          = 0.27589007391511\n",
      "yt : [INFO     ] 2022-07-15 10:15:02,218 Parameters: omega_lambda              = 0.715\n",
      "yt : [INFO     ] 2022-07-15 10:15:02,219 Parameters: omega_matter              = 0.285\n",
      "yt : [INFO     ] 2022-07-15 10:15:02,219 Parameters: omega_radiation           = 0\n",
      "yt : [INFO     ] 2022-07-15 10:15:02,220 Parameters: hubble_constant           = 0.695\n"
     ]
    },
    {
     "name": "stdout",
     "output_type": "stream",
     "text": [
      "get_refine_box: using this location:       col1         col2     col3     col4     col5     col6     col7   col8\n",
      "---------------- -------- -------- -------- -------- -------- -------- ----\n",
      "0.27590416672012 0.489722 0.474205 0.506831 0.491722 0.476205 0.508831    9\n"
     ]
    },
    {
     "name": "stderr",
     "output_type": "stream",
     "text": [
      "Parsing Hierarchy : 100%|████████████████| 5461/5461 [00:00<00:00, 12402.71it/s]\n",
      "yt : [INFO     ] 2022-07-15 10:15:02,956 Gathering a field list (this may take a moment.)\n",
      "yt : [WARNING  ] 2022-07-15 10:15:06,496 The stars particle filter already exists. Overriding.\n",
      "yt : [WARNING  ] 2022-07-15 10:15:06,497 The DM particle filter already exists. Overriding.\n"
     ]
    },
    {
     "name": "stdout",
     "output_type": "stream",
     "text": [
      "Pulling halo center from catalog file\n",
      "Opening snapshot /Volumes/TempestTimeSteps/DD1847/DD1847\n"
     ]
    },
    {
     "name": "stderr",
     "output_type": "stream",
     "text": [
      "yt : [INFO     ] 2022-07-15 10:15:06,699 Parameters: current_time              = 494.56652781829\n",
      "yt : [INFO     ] 2022-07-15 10:15:06,702 Parameters: domain_dimensions         = [256 256 256]\n",
      "yt : [INFO     ] 2022-07-15 10:15:06,705 Parameters: domain_left_edge          = [0. 0. 0.]\n",
      "yt : [INFO     ] 2022-07-15 10:15:06,708 Parameters: domain_right_edge         = [1. 1. 1.]\n",
      "yt : [INFO     ] 2022-07-15 10:15:06,709 Parameters: cosmological_simulation   = 1\n",
      "yt : [INFO     ] 2022-07-15 10:15:06,709 Parameters: current_redshift          = 0.26483030656369\n",
      "yt : [INFO     ] 2022-07-15 10:15:06,710 Parameters: omega_lambda              = 0.715\n",
      "yt : [INFO     ] 2022-07-15 10:15:06,711 Parameters: omega_matter              = 0.285\n",
      "yt : [INFO     ] 2022-07-15 10:15:06,711 Parameters: omega_radiation           = 0\n",
      "yt : [INFO     ] 2022-07-15 10:15:06,712 Parameters: hubble_constant           = 0.695\n"
     ]
    },
    {
     "name": "stdout",
     "output_type": "stream",
     "text": [
      "get_refine_box: using this location:       col1         col2     col3     col4     col5     col6     col7   col8\n",
      "---------------- -------- -------- -------- -------- -------- -------- ----\n",
      "0.26483099622996 0.489687 0.474055 0.506892 0.491687 0.476055 0.508892    9\n"
     ]
    },
    {
     "name": "stderr",
     "output_type": "stream",
     "text": [
      "Parsing Hierarchy : 100%|████████████████| 5127/5127 [00:00<00:00, 11943.74it/s]\n",
      "yt : [INFO     ] 2022-07-15 10:15:07,423 Gathering a field list (this may take a moment.)\n",
      "yt : [WARNING  ] 2022-07-15 10:15:10,952 The stars particle filter already exists. Overriding.\n",
      "yt : [WARNING  ] 2022-07-15 10:15:10,953 The DM particle filter already exists. Overriding.\n"
     ]
    },
    {
     "name": "stdout",
     "output_type": "stream",
     "text": [
      "Pulling halo center from catalog file\n",
      "Opening snapshot /Volumes/TempestTimeSteps/DD1867/DD1867\n"
     ]
    },
    {
     "name": "stderr",
     "output_type": "stream",
     "text": [
      "yt : [INFO     ] 2022-07-15 10:15:11,150 Parameters: current_time              = 499.56652781829\n",
      "yt : [INFO     ] 2022-07-15 10:15:11,154 Parameters: domain_dimensions         = [256 256 256]\n",
      "yt : [INFO     ] 2022-07-15 10:15:11,157 Parameters: domain_left_edge          = [0. 0. 0.]\n",
      "yt : [INFO     ] 2022-07-15 10:15:11,161 Parameters: domain_right_edge         = [1. 1. 1.]\n",
      "yt : [INFO     ] 2022-07-15 10:15:11,162 Parameters: cosmological_simulation   = 1\n",
      "yt : [INFO     ] 2022-07-15 10:15:11,163 Parameters: current_redshift          = 0.25390358705733\n",
      "yt : [INFO     ] 2022-07-15 10:15:11,164 Parameters: omega_lambda              = 0.715\n",
      "yt : [INFO     ] 2022-07-15 10:15:11,164 Parameters: omega_matter              = 0.285\n",
      "yt : [INFO     ] 2022-07-15 10:15:11,165 Parameters: omega_radiation           = 0\n",
      "yt : [INFO     ] 2022-07-15 10:15:11,165 Parameters: hubble_constant           = 0.695\n"
     ]
    },
    {
     "name": "stdout",
     "output_type": "stream",
     "text": [
      "get_refine_box: using this location:       col1         col2     col3     col4     col5     col6     col7   col8\n",
      "---------------- -------- -------- -------- -------- -------- -------- ----\n",
      "0.25391735822521 0.489653 0.473906 0.506947 0.491653 0.475906 0.508947    9\n"
     ]
    },
    {
     "name": "stderr",
     "output_type": "stream",
     "text": [
      "Parsing Hierarchy : 100%|████████████████| 5143/5143 [00:00<00:00, 12397.34it/s]\n",
      "yt : [INFO     ] 2022-07-15 10:15:11,849 Gathering a field list (this may take a moment.)\n",
      "yt : [WARNING  ] 2022-07-15 10:15:15,282 The stars particle filter already exists. Overriding.\n",
      "yt : [WARNING  ] 2022-07-15 10:15:15,283 The DM particle filter already exists. Overriding.\n"
     ]
    },
    {
     "name": "stdout",
     "output_type": "stream",
     "text": [
      "Pulling halo center from catalog file\n",
      "Opening snapshot /Volumes/TempestTimeSteps/DD1887/DD1887\n"
     ]
    },
    {
     "name": "stderr",
     "output_type": "stream",
     "text": [
      "yt : [INFO     ] 2022-07-15 10:15:15,412 Parameters: current_time              = 504.56652781829\n",
      "yt : [INFO     ] 2022-07-15 10:15:15,416 Parameters: domain_dimensions         = [256 256 256]\n",
      "yt : [INFO     ] 2022-07-15 10:15:15,418 Parameters: domain_left_edge          = [0. 0. 0.]\n",
      "yt : [INFO     ] 2022-07-15 10:15:15,421 Parameters: domain_right_edge         = [1. 1. 1.]\n",
      "yt : [INFO     ] 2022-07-15 10:15:15,422 Parameters: cosmological_simulation   = 1\n",
      "yt : [INFO     ] 2022-07-15 10:15:15,423 Parameters: current_redshift          = 0.24314759224344\n",
      "yt : [INFO     ] 2022-07-15 10:15:15,424 Parameters: omega_lambda              = 0.715\n",
      "yt : [INFO     ] 2022-07-15 10:15:15,424 Parameters: omega_matter              = 0.285\n",
      "yt : [INFO     ] 2022-07-15 10:15:15,425 Parameters: omega_radiation           = 0\n",
      "yt : [INFO     ] 2022-07-15 10:15:15,426 Parameters: hubble_constant           = 0.695\n"
     ]
    },
    {
     "name": "stdout",
     "output_type": "stream",
     "text": [
      "get_refine_box: using this location:       col1         col2     col3     col4     col5     col6     col7   col8\n",
      "---------------- -------- -------- -------- -------- -------- -------- ----\n",
      "0.24315916272406 0.489623 0.473759 0.507006 0.491623 0.475759 0.509006    9\n"
     ]
    },
    {
     "name": "stderr",
     "output_type": "stream",
     "text": [
      "Parsing Hierarchy : 100%|████████████████| 4839/4839 [00:00<00:00, 11470.57it/s]\n",
      "yt : [INFO     ] 2022-07-15 10:15:16,190 Gathering a field list (this may take a moment.)\n",
      "yt : [WARNING  ] 2022-07-15 10:15:19,732 The stars particle filter already exists. Overriding.\n",
      "yt : [WARNING  ] 2022-07-15 10:15:19,732 The DM particle filter already exists. Overriding.\n"
     ]
    },
    {
     "name": "stdout",
     "output_type": "stream",
     "text": [
      "Pulling halo center from catalog file\n",
      "Opening snapshot /Volumes/TempestTimeSteps/DD1907/DD1907\n"
     ]
    },
    {
     "name": "stderr",
     "output_type": "stream",
     "text": [
      "yt : [INFO     ] 2022-07-15 10:15:19,934 Parameters: current_time              = 509.56652781829\n",
      "yt : [INFO     ] 2022-07-15 10:15:19,937 Parameters: domain_dimensions         = [256 256 256]\n",
      "yt : [INFO     ] 2022-07-15 10:15:19,940 Parameters: domain_left_edge          = [0. 0. 0.]\n",
      "yt : [INFO     ] 2022-07-15 10:15:19,943 Parameters: domain_right_edge         = [1. 1. 1.]\n",
      "yt : [INFO     ] 2022-07-15 10:15:19,944 Parameters: cosmological_simulation   = 1\n",
      "yt : [INFO     ] 2022-07-15 10:15:19,945 Parameters: current_redshift          = 0.23254622398407\n",
      "yt : [INFO     ] 2022-07-15 10:15:19,946 Parameters: omega_lambda              = 0.715\n",
      "yt : [INFO     ] 2022-07-15 10:15:19,946 Parameters: omega_matter              = 0.285\n",
      "yt : [INFO     ] 2022-07-15 10:15:19,947 Parameters: omega_radiation           = 0\n",
      "yt : [INFO     ] 2022-07-15 10:15:19,948 Parameters: hubble_constant           = 0.695\n"
     ]
    },
    {
     "name": "stdout",
     "output_type": "stream",
     "text": [
      "get_refine_box: using this location:       col1        col2     col3     col4     col5     col6     col7   col8\n",
      "--------------- -------- -------- -------- -------- -------- -------- ----\n",
      "0.2325524696738 0.489592 0.473612 0.507067 0.491592 0.475612 0.509067    9\n"
     ]
    },
    {
     "name": "stderr",
     "output_type": "stream",
     "text": [
      "Parsing Hierarchy : 100%|████████████████| 4729/4729 [00:00<00:00, 12252.72it/s]\n",
      "yt : [INFO     ] 2022-07-15 10:15:20,598 Gathering a field list (this may take a moment.)\n",
      "yt : [WARNING  ] 2022-07-15 10:15:24,089 The stars particle filter already exists. Overriding.\n",
      "yt : [WARNING  ] 2022-07-15 10:15:24,090 The DM particle filter already exists. Overriding.\n"
     ]
    },
    {
     "name": "stdout",
     "output_type": "stream",
     "text": [
      "Pulling halo center from catalog file\n",
      "Opening snapshot /Volumes/TempestTimeSteps/DD1927/DD1927\n"
     ]
    },
    {
     "name": "stderr",
     "output_type": "stream",
     "text": [
      "yt : [INFO     ] 2022-07-15 10:15:24,301 Parameters: current_time              = 514.56652781829\n",
      "yt : [INFO     ] 2022-07-15 10:15:24,304 Parameters: domain_dimensions         = [256 256 256]\n",
      "yt : [INFO     ] 2022-07-15 10:15:24,307 Parameters: domain_left_edge          = [0. 0. 0.]\n",
      "yt : [INFO     ] 2022-07-15 10:15:24,310 Parameters: domain_right_edge         = [1. 1. 1.]\n",
      "yt : [INFO     ] 2022-07-15 10:15:24,311 Parameters: cosmological_simulation   = 1\n",
      "yt : [INFO     ] 2022-07-15 10:15:24,311 Parameters: current_redshift          = 0.2220785334236\n",
      "yt : [INFO     ] 2022-07-15 10:15:24,312 Parameters: omega_lambda              = 0.715\n",
      "yt : [INFO     ] 2022-07-15 10:15:24,313 Parameters: omega_matter              = 0.285\n",
      "yt : [INFO     ] 2022-07-15 10:15:24,314 Parameters: omega_radiation           = 0\n",
      "yt : [INFO     ] 2022-07-15 10:15:24,314 Parameters: hubble_constant           = 0.695\n"
     ]
    },
    {
     "name": "stdout",
     "output_type": "stream",
     "text": [
      "get_refine_box: using this location:      col1        col2     col3     col4     col5     col6     col7   col8\n",
      "-------------- -------- -------- -------- -------- -------- -------- ----\n",
      "0.222093482089 0.489563 0.473471 0.507126 0.491563 0.475471 0.509126    9\n"
     ]
    },
    {
     "name": "stderr",
     "output_type": "stream",
     "text": [
      "Parsing Hierarchy : 100%|████████████████| 5012/5012 [00:00<00:00, 12374.45it/s]\n",
      "yt : [INFO     ] 2022-07-15 10:15:24,988 Gathering a field list (this may take a moment.)\n",
      "yt : [WARNING  ] 2022-07-15 10:15:28,424 The stars particle filter already exists. Overriding.\n",
      "yt : [WARNING  ] 2022-07-15 10:15:28,424 The DM particle filter already exists. Overriding.\n"
     ]
    },
    {
     "name": "stdout",
     "output_type": "stream",
     "text": [
      "Pulling halo center from catalog file\n",
      "Opening snapshot /Volumes/TempestTimeSteps/DD1947/DD1947\n"
     ]
    },
    {
     "name": "stderr",
     "output_type": "stream",
     "text": [
      "yt : [INFO     ] 2022-07-15 10:15:28,640 Parameters: current_time              = 519.56652781829\n",
      "yt : [INFO     ] 2022-07-15 10:15:28,645 Parameters: domain_dimensions         = [256 256 256]\n",
      "yt : [INFO     ] 2022-07-15 10:15:28,648 Parameters: domain_left_edge          = [0. 0. 0.]\n",
      "yt : [INFO     ] 2022-07-15 10:15:28,651 Parameters: domain_right_edge         = [1. 1. 1.]\n",
      "yt : [INFO     ] 2022-07-15 10:15:28,652 Parameters: cosmological_simulation   = 1\n",
      "yt : [INFO     ] 2022-07-15 10:15:28,652 Parameters: current_redshift          = 0.21177265783797\n",
      "yt : [INFO     ] 2022-07-15 10:15:28,653 Parameters: omega_lambda              = 0.715\n",
      "yt : [INFO     ] 2022-07-15 10:15:28,653 Parameters: omega_matter              = 0.285\n",
      "yt : [INFO     ] 2022-07-15 10:15:28,654 Parameters: omega_radiation           = 0\n",
      "yt : [INFO     ] 2022-07-15 10:15:28,655 Parameters: hubble_constant           = 0.695\n"
     ]
    },
    {
     "name": "stdout",
     "output_type": "stream",
     "text": [
      "get_refine_box: using this location:       col1         col2     col3    col4     col5     col6    col7   col8\n",
      "---------------- -------- ------- -------- -------- ------- -------- ----\n",
      "0.21177853956479 0.489535 0.47333 0.507189 0.491535 0.47533 0.509189    9\n"
     ]
    },
    {
     "name": "stderr",
     "output_type": "stream",
     "text": [
      "Parsing Hierarchy : 100%|████████████████| 5317/5317 [00:00<00:00, 12050.46it/s]\n",
      "yt : [INFO     ] 2022-07-15 10:15:29,382 Gathering a field list (this may take a moment.)\n",
      "yt : [WARNING  ] 2022-07-15 10:15:33,180 The stars particle filter already exists. Overriding.\n",
      "yt : [WARNING  ] 2022-07-15 10:15:33,181 The DM particle filter already exists. Overriding.\n"
     ]
    },
    {
     "name": "stdout",
     "output_type": "stream",
     "text": [
      "Pulling halo center from catalog file\n",
      "Opening snapshot /Volumes/TempestTimeSteps/DD1967/DD1967\n"
     ]
    },
    {
     "name": "stderr",
     "output_type": "stream",
     "text": [
      "yt : [INFO     ] 2022-07-15 10:15:33,388 Parameters: current_time              = 524.56652781829\n",
      "yt : [INFO     ] 2022-07-15 10:15:33,391 Parameters: domain_dimensions         = [256 256 256]\n",
      "yt : [INFO     ] 2022-07-15 10:15:33,395 Parameters: domain_left_edge          = [0. 0. 0.]\n",
      "yt : [INFO     ] 2022-07-15 10:15:33,398 Parameters: domain_right_edge         = [1. 1. 1.]\n",
      "yt : [INFO     ] 2022-07-15 10:15:33,399 Parameters: cosmological_simulation   = 1\n",
      "yt : [INFO     ] 2022-07-15 10:15:33,400 Parameters: current_redshift          = 0.20159208404487\n",
      "yt : [INFO     ] 2022-07-15 10:15:33,400 Parameters: omega_lambda              = 0.715\n",
      "yt : [INFO     ] 2022-07-15 10:15:33,401 Parameters: omega_matter              = 0.285\n",
      "yt : [INFO     ] 2022-07-15 10:15:33,401 Parameters: omega_radiation           = 0\n",
      "yt : [INFO     ] 2022-07-15 10:15:33,402 Parameters: hubble_constant           = 0.695\n"
     ]
    },
    {
     "name": "stdout",
     "output_type": "stream",
     "text": [
      "get_refine_box: using this location:       col1         col2     col3     col4    col5     col6     col7  col8\n",
      "---------------- -------- -------- ------- -------- -------- ------- ----\n",
      "0.20160411214129 0.489504 0.473191 0.50725 0.491504 0.475191 0.50925    9\n"
     ]
    },
    {
     "name": "stderr",
     "output_type": "stream",
     "text": [
      "Parsing Hierarchy : 100%|████████████████| 5322/5322 [00:00<00:00, 12077.01it/s]\n",
      "yt : [INFO     ] 2022-07-15 10:15:34,132 Gathering a field list (this may take a moment.)\n",
      "yt : [WARNING  ] 2022-07-15 10:15:37,606 The stars particle filter already exists. Overriding.\n",
      "yt : [WARNING  ] 2022-07-15 10:15:37,607 The DM particle filter already exists. Overriding.\n"
     ]
    },
    {
     "name": "stdout",
     "output_type": "stream",
     "text": [
      "Pulling halo center from catalog file\n",
      "Opening snapshot /Volumes/TempestTimeSteps/DD1987/DD1987\n"
     ]
    },
    {
     "name": "stderr",
     "output_type": "stream",
     "text": [
      "yt : [INFO     ] 2022-07-15 10:15:38,335 Parameters: current_time              = 529.56652781829\n",
      "yt : [INFO     ] 2022-07-15 10:15:38,337 Parameters: domain_dimensions         = [256 256 256]\n",
      "yt : [INFO     ] 2022-07-15 10:15:38,341 Parameters: domain_left_edge          = [0. 0. 0.]\n",
      "yt : [INFO     ] 2022-07-15 10:15:38,344 Parameters: domain_right_edge         = [1. 1. 1.]\n",
      "yt : [INFO     ] 2022-07-15 10:15:38,345 Parameters: cosmological_simulation   = 1\n",
      "yt : [INFO     ] 2022-07-15 10:15:38,346 Parameters: current_redshift          = 0.191553635351\n",
      "yt : [INFO     ] 2022-07-15 10:15:38,347 Parameters: omega_lambda              = 0.715\n",
      "yt : [INFO     ] 2022-07-15 10:15:38,348 Parameters: omega_matter              = 0.285\n",
      "yt : [INFO     ] 2022-07-15 10:15:38,349 Parameters: omega_radiation           = 0\n",
      "yt : [INFO     ] 2022-07-15 10:15:38,350 Parameters: hubble_constant           = 0.695\n"
     ]
    },
    {
     "name": "stdout",
     "output_type": "stream",
     "text": [
      "get_refine_box: using this location:       col1         col2     col3     col4     col5     col6     col7   col8\n",
      "---------------- -------- -------- -------- -------- -------- -------- ----\n",
      "0.19156679449708 0.489476 0.473053 0.507311 0.491476 0.475053 0.509311    9\n"
     ]
    },
    {
     "name": "stderr",
     "output_type": "stream",
     "text": [
      "Parsing Hierarchy : 100%|████████████████| 5118/5118 [00:00<00:00, 12538.75it/s]\n",
      "yt : [INFO     ] 2022-07-15 10:15:39,058 Gathering a field list (this may take a moment.)\n",
      "yt : [WARNING  ] 2022-07-15 10:15:42,448 The stars particle filter already exists. Overriding.\n",
      "yt : [WARNING  ] 2022-07-15 10:15:42,449 The DM particle filter already exists. Overriding.\n"
     ]
    },
    {
     "name": "stdout",
     "output_type": "stream",
     "text": [
      "Pulling halo center from catalog file\n",
      "Opening snapshot /Volumes/TempestTimeSteps/DD2007/DD2007\n"
     ]
    },
    {
     "name": "stderr",
     "output_type": "stream",
     "text": [
      "yt : [INFO     ] 2022-07-15 10:15:42,661 Parameters: current_time              = 534.56652781829\n",
      "yt : [INFO     ] 2022-07-15 10:15:42,664 Parameters: domain_dimensions         = [256 256 256]\n",
      "yt : [INFO     ] 2022-07-15 10:15:42,667 Parameters: domain_left_edge          = [0. 0. 0.]\n",
      "yt : [INFO     ] 2022-07-15 10:15:42,671 Parameters: domain_right_edge         = [1. 1. 1.]\n",
      "yt : [INFO     ] 2022-07-15 10:15:42,672 Parameters: cosmological_simulation   = 1\n",
      "yt : [INFO     ] 2022-07-15 10:15:42,673 Parameters: current_redshift          = 0.18165941968054\n",
      "yt : [INFO     ] 2022-07-15 10:15:42,673 Parameters: omega_lambda              = 0.715\n",
      "yt : [INFO     ] 2022-07-15 10:15:42,674 Parameters: omega_matter              = 0.285\n",
      "yt : [INFO     ] 2022-07-15 10:15:42,675 Parameters: omega_radiation           = 0\n",
      "yt : [INFO     ] 2022-07-15 10:15:42,675 Parameters: hubble_constant           = 0.695\n"
     ]
    },
    {
     "name": "stdout",
     "output_type": "stream",
     "text": [
      "get_refine_box: using this location:       col1         col2     col3     col4     col5     col6     col7   col8\n",
      "---------------- -------- -------- -------- -------- -------- -------- ----\n",
      "0.18166330045117 0.489447 0.472918 0.507372 0.491447 0.474918 0.509372    9\n"
     ]
    },
    {
     "name": "stderr",
     "output_type": "stream",
     "text": [
      "Parsing Hierarchy : 100%|████████████████| 5188/5188 [00:00<00:00, 12298.80it/s]\n",
      "yt : [INFO     ] 2022-07-15 10:15:43,374 Gathering a field list (this may take a moment.)\n",
      "yt : [WARNING  ] 2022-07-15 10:15:46,804 The stars particle filter already exists. Overriding.\n",
      "yt : [WARNING  ] 2022-07-15 10:15:46,805 The DM particle filter already exists. Overriding.\n"
     ]
    },
    {
     "name": "stdout",
     "output_type": "stream",
     "text": [
      "Pulling halo center from catalog file\n",
      "Opening snapshot /Volumes/TempestTimeSteps/DD2027/DD2027\n"
     ]
    },
    {
     "name": "stderr",
     "output_type": "stream",
     "text": [
      "yt : [INFO     ] 2022-07-15 10:15:47,006 Parameters: current_time              = 539.56652781829\n",
      "yt : [INFO     ] 2022-07-15 10:15:47,012 Parameters: domain_dimensions         = [256 256 256]\n",
      "yt : [INFO     ] 2022-07-15 10:15:47,015 Parameters: domain_left_edge          = [0. 0. 0.]\n",
      "yt : [INFO     ] 2022-07-15 10:15:47,018 Parameters: domain_right_edge         = [1. 1. 1.]\n",
      "yt : [INFO     ] 2022-07-15 10:15:47,019 Parameters: cosmological_simulation   = 1\n",
      "yt : [INFO     ] 2022-07-15 10:15:47,020 Parameters: current_redshift          = 0.1718756018899\n",
      "yt : [INFO     ] 2022-07-15 10:15:47,021 Parameters: omega_lambda              = 0.715\n",
      "yt : [INFO     ] 2022-07-15 10:15:47,021 Parameters: omega_matter              = 0.285\n",
      "yt : [INFO     ] 2022-07-15 10:15:47,022 Parameters: omega_radiation           = 0\n",
      "yt : [INFO     ] 2022-07-15 10:15:47,023 Parameters: hubble_constant           = 0.695\n"
     ]
    },
    {
     "name": "stdout",
     "output_type": "stream",
     "text": [
      "get_refine_box: using this location:       col1        col2    col3     col4     col5    col6     col7   col8\n",
      "--------------- ------- -------- -------- ------- -------- -------- ----\n",
      "0.1718904577544 0.48942 0.472783 0.507435 0.49142 0.474783 0.509435    9\n"
     ]
    },
    {
     "name": "stderr",
     "output_type": "stream",
     "text": [
      "Parsing Hierarchy : 100%|████████████████| 5220/5220 [00:00<00:00, 11968.29it/s]\n",
      "yt : [INFO     ] 2022-07-15 10:15:47,739 Gathering a field list (this may take a moment.)\n",
      "yt : [WARNING  ] 2022-07-15 10:15:51,167 The stars particle filter already exists. Overriding.\n",
      "yt : [WARNING  ] 2022-07-15 10:15:51,168 The DM particle filter already exists. Overriding.\n"
     ]
    },
    {
     "name": "stdout",
     "output_type": "stream",
     "text": [
      "Pulling halo center from catalog file\n",
      "Opening snapshot /Volumes/TempestTimeSteps/DD2047/DD2047\n"
     ]
    },
    {
     "name": "stderr",
     "output_type": "stream",
     "text": [
      "yt : [INFO     ] 2022-07-15 10:15:51,393 Parameters: current_time              = 544.56652781829\n",
      "yt : [INFO     ] 2022-07-15 10:15:51,396 Parameters: domain_dimensions         = [256 256 256]\n",
      "yt : [INFO     ] 2022-07-15 10:15:51,399 Parameters: domain_left_edge          = [0. 0. 0.]\n",
      "yt : [INFO     ] 2022-07-15 10:15:51,403 Parameters: domain_right_edge         = [1. 1. 1.]\n",
      "yt : [INFO     ] 2022-07-15 10:15:51,404 Parameters: cosmological_simulation   = 1\n",
      "yt : [INFO     ] 2022-07-15 10:15:51,405 Parameters: current_redshift          = 0.1622385268912\n",
      "yt : [INFO     ] 2022-07-15 10:15:51,405 Parameters: omega_lambda              = 0.715\n",
      "yt : [INFO     ] 2022-07-15 10:15:51,406 Parameters: omega_matter              = 0.285\n",
      "yt : [INFO     ] 2022-07-15 10:15:51,407 Parameters: omega_radiation           = 0\n",
      "yt : [INFO     ] 2022-07-15 10:15:51,408 Parameters: hubble_constant           = 0.695\n"
     ]
    },
    {
     "name": "stdout",
     "output_type": "stream",
     "text": [
      "get_refine_box: using this location:       col1         col2    col3     col4     col5    col6     col7   col8\n",
      "---------------- ------- -------- -------- ------- -------- -------- ----\n",
      "0.16224520315245 0.48939 0.472649 0.507494 0.49139 0.474649 0.509494    9\n"
     ]
    },
    {
     "name": "stderr",
     "output_type": "stream",
     "text": [
      "Parsing Hierarchy : 100%|████████████████| 5096/5096 [00:00<00:00, 11612.88it/s]\n",
      "yt : [INFO     ] 2022-07-15 10:15:52,130 Gathering a field list (this may take a moment.)\n",
      "yt : [WARNING  ] 2022-07-15 10:15:55,487 The stars particle filter already exists. Overriding.\n",
      "yt : [WARNING  ] 2022-07-15 10:15:55,488 The DM particle filter already exists. Overriding.\n"
     ]
    },
    {
     "name": "stdout",
     "output_type": "stream",
     "text": [
      "Pulling halo center from catalog file\n",
      "Opening snapshot /Volumes/TempestTimeSteps/DD2067/DD2067\n"
     ]
    },
    {
     "name": "stderr",
     "output_type": "stream",
     "text": [
      "yt : [INFO     ] 2022-07-15 10:15:55,699 Parameters: current_time              = 549.56652781829\n",
      "yt : [INFO     ] 2022-07-15 10:15:55,702 Parameters: domain_dimensions         = [256 256 256]\n",
      "yt : [INFO     ] 2022-07-15 10:15:55,706 Parameters: domain_left_edge          = [0. 0. 0.]\n",
      "yt : [INFO     ] 2022-07-15 10:15:55,709 Parameters: domain_right_edge         = [1. 1. 1.]\n",
      "yt : [INFO     ] 2022-07-15 10:15:55,710 Parameters: cosmological_simulation   = 1\n",
      "yt : [INFO     ] 2022-07-15 10:15:55,710 Parameters: current_redshift          = 0.15271267325251\n",
      "yt : [INFO     ] 2022-07-15 10:15:55,711 Parameters: omega_lambda              = 0.715\n",
      "yt : [INFO     ] 2022-07-15 10:15:55,711 Parameters: omega_matter              = 0.285\n",
      "yt : [INFO     ] 2022-07-15 10:15:55,712 Parameters: omega_radiation           = 0\n",
      "yt : [INFO     ] 2022-07-15 10:15:55,713 Parameters: hubble_constant           = 0.695\n"
     ]
    },
    {
     "name": "stdout",
     "output_type": "stream",
     "text": [
      "get_refine_box: using this location:       col1         col2     col3     col4     col5     col6     col7   col8\n",
      "---------------- -------- -------- -------- -------- -------- -------- ----\n",
      "0.15272457770406 0.489359 0.472517 0.507557 0.491359 0.474517 0.509557    9\n"
     ]
    },
    {
     "name": "stderr",
     "output_type": "stream",
     "text": [
      "Parsing Hierarchy : 100%|████████████████| 5279/5279 [00:00<00:00, 12403.31it/s]\n",
      "yt : [INFO     ] 2022-07-15 10:15:56,411 Gathering a field list (this may take a moment.)\n",
      "yt : [WARNING  ] 2022-07-15 10:15:59,826 The stars particle filter already exists. Overriding.\n",
      "yt : [WARNING  ] 2022-07-15 10:15:59,827 The DM particle filter already exists. Overriding.\n"
     ]
    },
    {
     "name": "stdout",
     "output_type": "stream",
     "text": [
      "Pulling halo center from catalog file\n",
      "Opening snapshot /Volumes/TempestTimeSteps/DD2087/DD2087\n"
     ]
    },
    {
     "name": "stderr",
     "output_type": "stream",
     "text": [
      "yt : [INFO     ] 2022-07-15 10:16:00,025 Parameters: current_time              = 554.56652781829\n",
      "yt : [INFO     ] 2022-07-15 10:16:00,028 Parameters: domain_dimensions         = [256 256 256]\n",
      "yt : [INFO     ] 2022-07-15 10:16:00,031 Parameters: domain_left_edge          = [0. 0. 0.]\n",
      "yt : [INFO     ] 2022-07-15 10:16:00,034 Parameters: domain_right_edge         = [1. 1. 1.]\n",
      "yt : [INFO     ] 2022-07-15 10:16:00,035 Parameters: cosmological_simulation   = 1\n",
      "yt : [INFO     ] 2022-07-15 10:16:00,036 Parameters: current_redshift          = 0.1433128745218\n",
      "yt : [INFO     ] 2022-07-15 10:16:00,036 Parameters: omega_lambda              = 0.715\n",
      "yt : [INFO     ] 2022-07-15 10:16:00,037 Parameters: omega_matter              = 0.285\n",
      "yt : [INFO     ] 2022-07-15 10:16:00,038 Parameters: omega_radiation           = 0\n",
      "yt : [INFO     ] 2022-07-15 10:16:00,038 Parameters: hubble_constant           = 0.695\n"
     ]
    },
    {
     "name": "stdout",
     "output_type": "stream",
     "text": [
      "get_refine_box: using this location:       col1         col2     col3     col4     col5     col6     col7   col8\n",
      "---------------- -------- -------- -------- -------- -------- -------- ----\n",
      "0.14332572233908 0.489329 0.472386 0.507616 0.491329 0.474386 0.509616    9\n"
     ]
    },
    {
     "name": "stderr",
     "output_type": "stream",
     "text": [
      "Parsing Hierarchy : 100%|████████████████| 5340/5340 [00:00<00:00, 10483.05it/s]\n",
      "yt : [INFO     ] 2022-07-15 10:16:00,812 Gathering a field list (this may take a moment.)\n",
      "yt : [WARNING  ] 2022-07-15 10:16:15,608 The stars particle filter already exists. Overriding.\n",
      "yt : [WARNING  ] 2022-07-15 10:16:15,609 The DM particle filter already exists. Overriding.\n"
     ]
    },
    {
     "name": "stdout",
     "output_type": "stream",
     "text": [
      "Pulling halo center from catalog file\n",
      "Opening snapshot /Volumes/TempestTimeSteps/DD2107/DD2107\n"
     ]
    },
    {
     "name": "stderr",
     "output_type": "stream",
     "text": [
      "yt : [INFO     ] 2022-07-15 10:16:16,054 Parameters: current_time              = 559.56652781829\n",
      "yt : [INFO     ] 2022-07-15 10:16:16,057 Parameters: domain_dimensions         = [256 256 256]\n",
      "yt : [INFO     ] 2022-07-15 10:16:16,061 Parameters: domain_left_edge          = [0. 0. 0.]\n",
      "yt : [INFO     ] 2022-07-15 10:16:16,064 Parameters: domain_right_edge         = [1. 1. 1.]\n",
      "yt : [INFO     ] 2022-07-15 10:16:16,065 Parameters: cosmological_simulation   = 1\n",
      "yt : [INFO     ] 2022-07-15 10:16:16,065 Parameters: current_redshift          = 0.13404074085693\n",
      "yt : [INFO     ] 2022-07-15 10:16:16,066 Parameters: omega_lambda              = 0.715\n",
      "yt : [INFO     ] 2022-07-15 10:16:16,066 Parameters: omega_matter              = 0.285\n",
      "yt : [INFO     ] 2022-07-15 10:16:16,067 Parameters: omega_radiation           = 0\n",
      "yt : [INFO     ] 2022-07-15 10:16:16,068 Parameters: hubble_constant           = 0.695\n"
     ]
    },
    {
     "name": "stdout",
     "output_type": "stream",
     "text": [
      "get_refine_box: using this location:       col1        col2    col3     col4    col5    col6     col7   col8\n",
      "---------------- ------ -------- -------- ------ -------- -------- ----\n",
      "0.13404587364197 0.4893 0.472256 0.507677 0.4913 0.474256 0.509677    9\n"
     ]
    },
    {
     "name": "stderr",
     "output_type": "stream",
     "text": [
      "Parsing Hierarchy : 100%|████████████████| 5123/5123 [00:00<00:00, 12480.48it/s]\n",
      "yt : [INFO     ] 2022-07-15 10:16:16,756 Gathering a field list (this may take a moment.)\n",
      "yt : [WARNING  ] 2022-07-15 10:16:20,044 The stars particle filter already exists. Overriding.\n",
      "yt : [WARNING  ] 2022-07-15 10:16:20,047 The DM particle filter already exists. Overriding.\n"
     ]
    },
    {
     "name": "stdout",
     "output_type": "stream",
     "text": [
      "Pulling halo center from catalog file\n",
      "Opening snapshot /Volumes/TempestTimeSteps/DD2127/DD2127\n"
     ]
    },
    {
     "name": "stderr",
     "output_type": "stream",
     "text": [
      "yt : [INFO     ] 2022-07-15 10:16:20,243 Parameters: current_time              = 564.56652781829\n",
      "yt : [INFO     ] 2022-07-15 10:16:20,247 Parameters: domain_dimensions         = [256 256 256]\n",
      "yt : [INFO     ] 2022-07-15 10:16:20,250 Parameters: domain_left_edge          = [0. 0. 0.]\n",
      "yt : [INFO     ] 2022-07-15 10:16:20,252 Parameters: domain_right_edge         = [1. 1. 1.]\n",
      "yt : [INFO     ] 2022-07-15 10:16:20,253 Parameters: cosmological_simulation   = 1\n",
      "yt : [INFO     ] 2022-07-15 10:16:20,253 Parameters: current_redshift          = 0.12486754396875\n",
      "yt : [INFO     ] 2022-07-15 10:16:20,254 Parameters: omega_lambda              = 0.715\n",
      "yt : [INFO     ] 2022-07-15 10:16:20,255 Parameters: omega_matter              = 0.285\n",
      "yt : [INFO     ] 2022-07-15 10:16:20,256 Parameters: omega_radiation           = 0\n",
      "yt : [INFO     ] 2022-07-15 10:16:20,257 Parameters: hubble_constant           = 0.695\n"
     ]
    },
    {
     "name": "stdout",
     "output_type": "stream",
     "text": [
      "get_refine_box: using this location:       col1         col2    col3     col4     col5    col6     col7   col8\n",
      "---------------- ------- -------- -------- ------- -------- -------- ----\n",
      "0.12488235984756 0.48927 0.472126 0.507739 0.49127 0.474126 0.509739    9\n"
     ]
    },
    {
     "name": "stderr",
     "output_type": "stream",
     "text": [
      "Parsing Hierarchy : 100%|████████████████| 4705/4705 [00:00<00:00, 10124.38it/s]\n",
      "yt : [INFO     ] 2022-07-15 10:16:21,014 Gathering a field list (this may take a moment.)\n",
      "yt : [WARNING  ] 2022-07-15 10:16:24,639 The stars particle filter already exists. Overriding.\n",
      "yt : [WARNING  ] 2022-07-15 10:16:24,640 The DM particle filter already exists. Overriding.\n"
     ]
    },
    {
     "name": "stdout",
     "output_type": "stream",
     "text": [
      "Pulling halo center from catalog file\n",
      "Opening snapshot /Volumes/TempestTimeSteps/DD2147/DD2147\n"
     ]
    },
    {
     "name": "stderr",
     "output_type": "stream",
     "text": [
      "yt : [INFO     ] 2022-07-15 10:16:24,831 Parameters: current_time              = 569.56652781829\n",
      "yt : [INFO     ] 2022-07-15 10:16:24,835 Parameters: domain_dimensions         = [256 256 256]\n",
      "yt : [INFO     ] 2022-07-15 10:16:24,838 Parameters: domain_left_edge          = [0. 0. 0.]\n",
      "yt : [INFO     ] 2022-07-15 10:16:24,841 Parameters: domain_right_edge         = [1. 1. 1.]\n",
      "yt : [INFO     ] 2022-07-15 10:16:24,842 Parameters: cosmological_simulation   = 1\n",
      "yt : [INFO     ] 2022-07-15 10:16:24,843 Parameters: current_redshift          = 0.11582848603619\n",
      "yt : [INFO     ] 2022-07-15 10:16:24,843 Parameters: omega_lambda              = 0.715\n",
      "yt : [INFO     ] 2022-07-15 10:16:24,844 Parameters: omega_matter              = 0.285\n",
      "yt : [INFO     ] 2022-07-15 10:16:24,845 Parameters: omega_radiation           = 0\n",
      "yt : [INFO     ] 2022-07-15 10:16:24,845 Parameters: hubble_constant           = 0.695\n"
     ]
    },
    {
     "name": "stdout",
     "output_type": "stream",
     "text": [
      "get_refine_box: using this location:       col1         col2     col3     col4     col5     col6     col7   col8\n",
      "---------------- -------- -------- -------- -------- -------- -------- ----\n",
      "0.11583259703646 0.489241 0.471999 0.507798 0.491241 0.473999 0.509798    9\n"
     ]
    },
    {
     "name": "stderr",
     "output_type": "stream",
     "text": [
      "Parsing Hierarchy : 100%|████████████████| 4762/4762 [00:00<00:00, 12993.64it/s]\n",
      "yt : [INFO     ] 2022-07-15 10:16:25,466 Gathering a field list (this may take a moment.)\n",
      "yt : [WARNING  ] 2022-07-15 10:16:28,877 The stars particle filter already exists. Overriding.\n",
      "yt : [WARNING  ] 2022-07-15 10:16:28,878 The DM particle filter already exists. Overriding.\n"
     ]
    },
    {
     "name": "stdout",
     "output_type": "stream",
     "text": [
      "Pulling halo center from catalog file\n",
      "Opening snapshot /Volumes/TempestTimeSteps/DD2167/DD2167\n"
     ]
    },
    {
     "name": "stderr",
     "output_type": "stream",
     "text": [
      "yt : [INFO     ] 2022-07-15 10:16:29,089 Parameters: current_time              = 574.56652781829\n",
      "yt : [INFO     ] 2022-07-15 10:16:29,092 Parameters: domain_dimensions         = [256 256 256]\n",
      "yt : [INFO     ] 2022-07-15 10:16:29,095 Parameters: domain_left_edge          = [0. 0. 0.]\n",
      "yt : [INFO     ] 2022-07-15 10:16:29,098 Parameters: domain_right_edge         = [1. 1. 1.]\n",
      "yt : [INFO     ] 2022-07-15 10:16:29,099 Parameters: cosmological_simulation   = 1\n",
      "yt : [INFO     ] 2022-07-15 10:16:29,100 Parameters: current_redshift          = 0.10688078342035\n",
      "yt : [INFO     ] 2022-07-15 10:16:29,100 Parameters: omega_lambda              = 0.715\n",
      "yt : [INFO     ] 2022-07-15 10:16:29,101 Parameters: omega_matter              = 0.285\n",
      "yt : [INFO     ] 2022-07-15 10:16:29,102 Parameters: omega_radiation           = 0\n",
      "yt : [INFO     ] 2022-07-15 10:16:29,103 Parameters: hubble_constant           = 0.695\n"
     ]
    },
    {
     "name": "stdout",
     "output_type": "stream",
     "text": [
      "get_refine_box: using this location:       col1         col2     col3     col4     col5     col6     col7   col8\n",
      "---------------- -------- -------- -------- -------- -------- -------- ----\n",
      "0.10689408551869 0.489214 0.471873 0.507855 0.491214 0.473873 0.509855    9\n"
     ]
    },
    {
     "name": "stderr",
     "output_type": "stream",
     "text": [
      "Parsing Hierarchy : 100%|████████████████| 4619/4619 [00:00<00:00, 12123.23it/s]\n",
      "yt : [INFO     ] 2022-07-15 10:16:29,736 Gathering a field list (this may take a moment.)\n",
      "yt : [WARNING  ] 2022-07-15 10:16:33,284 The stars particle filter already exists. Overriding.\n",
      "yt : [WARNING  ] 2022-07-15 10:16:33,284 The DM particle filter already exists. Overriding.\n"
     ]
    },
    {
     "name": "stdout",
     "output_type": "stream",
     "text": [
      "Pulling halo center from catalog file\n",
      "Opening snapshot /Volumes/TempestTimeSteps/DD2187/DD2187\n"
     ]
    },
    {
     "name": "stderr",
     "output_type": "stream",
     "text": [
      "yt : [INFO     ] 2022-07-15 10:16:33,527 Parameters: current_time              = 579.56652781829\n",
      "yt : [INFO     ] 2022-07-15 10:16:33,531 Parameters: domain_dimensions         = [256 256 256]\n",
      "yt : [INFO     ] 2022-07-15 10:16:33,534 Parameters: domain_left_edge          = [0. 0. 0.]\n",
      "yt : [INFO     ] 2022-07-15 10:16:33,538 Parameters: domain_right_edge         = [1. 1. 1.]\n",
      "yt : [INFO     ] 2022-07-15 10:16:33,539 Parameters: cosmological_simulation   = 1\n",
      "yt : [INFO     ] 2022-07-15 10:16:33,539 Parameters: current_redshift          = 0.098053769197091\n",
      "yt : [INFO     ] 2022-07-15 10:16:33,540 Parameters: omega_lambda              = 0.715\n",
      "yt : [INFO     ] 2022-07-15 10:16:33,541 Parameters: omega_matter              = 0.285\n",
      "yt : [INFO     ] 2022-07-15 10:16:33,541 Parameters: omega_radiation           = 0\n",
      "yt : [INFO     ] 2022-07-15 10:16:33,542 Parameters: hubble_constant           = 0.695\n"
     ]
    },
    {
     "name": "stdout",
     "output_type": "stream",
     "text": [
      "get_refine_box: using this location:        col1         col2     col3     col4     col5     col6     col7   col8\n",
      "----------------- -------- -------- -------- -------- -------- -------- ----\n",
      "0.098064406394637 0.489188 0.471747 0.507912 0.491188 0.473747 0.509912    9\n"
     ]
    },
    {
     "name": "stderr",
     "output_type": "stream",
     "text": [
      "Parsing Hierarchy : 100%|████████████████| 4729/4729 [00:00<00:00, 12137.75it/s]\n",
      "yt : [INFO     ] 2022-07-15 10:16:34,203 Gathering a field list (this may take a moment.)\n",
      "yt : [WARNING  ] 2022-07-15 10:16:37,771 The stars particle filter already exists. Overriding.\n",
      "yt : [WARNING  ] 2022-07-15 10:16:37,773 The DM particle filter already exists. Overriding.\n"
     ]
    },
    {
     "name": "stdout",
     "output_type": "stream",
     "text": [
      "Pulling halo center from catalog file\n",
      "Opening snapshot /Volumes/TempestTimeSteps/DD2207/DD2207\n"
     ]
    },
    {
     "name": "stderr",
     "output_type": "stream",
     "text": [
      "yt : [INFO     ] 2022-07-15 10:16:37,986 Parameters: current_time              = 584.56652781829\n",
      "yt : [INFO     ] 2022-07-15 10:16:37,989 Parameters: domain_dimensions         = [256 256 256]\n",
      "yt : [INFO     ] 2022-07-15 10:16:37,993 Parameters: domain_left_edge          = [0. 0. 0.]\n",
      "yt : [INFO     ] 2022-07-15 10:16:37,996 Parameters: domain_right_edge         = [1. 1. 1.]\n",
      "yt : [INFO     ] 2022-07-15 10:16:37,997 Parameters: cosmological_simulation   = 1\n",
      "yt : [INFO     ] 2022-07-15 10:16:37,998 Parameters: current_redshift          = 0.089332273252055\n",
      "yt : [INFO     ] 2022-07-15 10:16:37,999 Parameters: omega_lambda              = 0.715\n",
      "yt : [INFO     ] 2022-07-15 10:16:38,000 Parameters: omega_matter              = 0.285\n",
      "yt : [INFO     ] 2022-07-15 10:16:38,001 Parameters: omega_radiation           = 0\n",
      "yt : [INFO     ] 2022-07-15 10:16:38,001 Parameters: hubble_constant           = 0.695\n"
     ]
    },
    {
     "name": "stdout",
     "output_type": "stream",
     "text": [
      "get_refine_box: using this location:        col1         col2     col3     col4     col5     col6     col7   col8\n",
      "----------------- -------- -------- -------- -------- -------- -------- ----\n",
      "0.089341218283104 0.489161 0.471621 0.507969 0.491161 0.473621 0.509969    9\n"
     ]
    },
    {
     "name": "stderr",
     "output_type": "stream",
     "text": [
      "Parsing Hierarchy : 100%|████████████████| 4394/4394 [00:00<00:00, 12236.45it/s]\n",
      "yt : [INFO     ] 2022-07-15 10:16:38,615 Gathering a field list (this may take a moment.)\n",
      "yt : [WARNING  ] 2022-07-15 10:16:42,264 The stars particle filter already exists. Overriding.\n",
      "yt : [WARNING  ] 2022-07-15 10:16:42,265 The DM particle filter already exists. Overriding.\n"
     ]
    },
    {
     "name": "stdout",
     "output_type": "stream",
     "text": [
      "Pulling halo center from catalog file\n",
      "Opening snapshot /Volumes/TempestTimeSteps/DD2227/DD2227\n"
     ]
    },
    {
     "name": "stderr",
     "output_type": "stream",
     "text": [
      "yt : [INFO     ] 2022-07-15 10:16:42,473 Parameters: current_time              = 589.56652781829\n",
      "yt : [INFO     ] 2022-07-15 10:16:42,477 Parameters: domain_dimensions         = [256 256 256]\n",
      "yt : [INFO     ] 2022-07-15 10:16:42,480 Parameters: domain_left_edge          = [0. 0. 0.]\n",
      "yt : [INFO     ] 2022-07-15 10:16:42,483 Parameters: domain_right_edge         = [1. 1. 1.]\n",
      "yt : [INFO     ] 2022-07-15 10:16:42,484 Parameters: cosmological_simulation   = 1\n",
      "yt : [INFO     ] 2022-07-15 10:16:42,485 Parameters: current_redshift          = 0.080708326235905\n",
      "yt : [INFO     ] 2022-07-15 10:16:42,486 Parameters: omega_lambda              = 0.715\n",
      "yt : [INFO     ] 2022-07-15 10:16:42,487 Parameters: omega_matter              = 0.285\n",
      "yt : [INFO     ] 2022-07-15 10:16:42,488 Parameters: omega_radiation           = 0\n",
      "yt : [INFO     ] 2022-07-15 10:16:42,489 Parameters: hubble_constant           = 0.695\n"
     ]
    },
    {
     "name": "stdout",
     "output_type": "stream",
     "text": [
      "get_refine_box: using this location:        col1         col2     col3     col4     col5     col6     col7   col8\n",
      "----------------- -------- -------- -------- -------- -------- -------- ----\n",
      "0.080722254207208 0.489136 0.471499 0.508025 0.491136 0.473499 0.510025    9\n"
     ]
    },
    {
     "name": "stderr",
     "output_type": "stream",
     "text": [
      "Parsing Hierarchy : 100%|████████████████| 4637/4637 [00:00<00:00, 10900.33it/s]\n",
      "yt : [INFO     ] 2022-07-15 10:16:43,178 Gathering a field list (this may take a moment.)\n",
      "yt : [WARNING  ] 2022-07-15 10:16:46,927 The stars particle filter already exists. Overriding.\n",
      "yt : [WARNING  ] 2022-07-15 10:16:46,928 The DM particle filter already exists. Overriding.\n"
     ]
    },
    {
     "name": "stdout",
     "output_type": "stream",
     "text": [
      "Pulling halo center from catalog file\n",
      "Opening snapshot /Volumes/TempestTimeSteps/DD2247/DD2247\n"
     ]
    },
    {
     "name": "stderr",
     "output_type": "stream",
     "text": [
      "yt : [INFO     ] 2022-07-15 10:16:47,137 Parameters: current_time              = 594.56652781829\n",
      "yt : [INFO     ] 2022-07-15 10:16:47,141 Parameters: domain_dimensions         = [256 256 256]\n",
      "yt : [INFO     ] 2022-07-15 10:16:47,144 Parameters: domain_left_edge          = [0. 0. 0.]\n",
      "yt : [INFO     ] 2022-07-15 10:16:47,147 Parameters: domain_right_edge         = [1. 1. 1.]\n",
      "yt : [INFO     ] 2022-07-15 10:16:47,149 Parameters: cosmological_simulation   = 1\n",
      "yt : [INFO     ] 2022-07-15 10:16:47,150 Parameters: current_redshift          = 0.072203010646745\n",
      "yt : [INFO     ] 2022-07-15 10:16:47,151 Parameters: omega_lambda              = 0.715\n",
      "yt : [INFO     ] 2022-07-15 10:16:47,152 Parameters: omega_matter              = 0.285\n",
      "yt : [INFO     ] 2022-07-15 10:16:47,153 Parameters: omega_radiation           = 0\n",
      "yt : [INFO     ] 2022-07-15 10:16:47,153 Parameters: hubble_constant           = 0.695\n"
     ]
    },
    {
     "name": "stdout",
     "output_type": "stream",
     "text": [
      "get_refine_box: using this location:        col1         col2     col3     col4     col5     col6     col7   col8\n",
      "----------------- -------- -------- -------- -------- -------- -------- ----\n",
      "0.072205318629089 0.489111 0.471377 0.508078 0.491111 0.473377 0.510078    9\n"
     ]
    },
    {
     "name": "stderr",
     "output_type": "stream",
     "text": [
      "Parsing Hierarchy : 100%|████████████████| 4661/4661 [00:00<00:00, 11636.73it/s]\n",
      "yt : [INFO     ] 2022-07-15 10:16:47,809 Gathering a field list (this may take a moment.)\n",
      "yt : [WARNING  ] 2022-07-15 10:16:51,296 The stars particle filter already exists. Overriding.\n",
      "yt : [WARNING  ] 2022-07-15 10:16:51,297 The DM particle filter already exists. Overriding.\n"
     ]
    },
    {
     "name": "stdout",
     "output_type": "stream",
     "text": [
      "Pulling halo center from catalog file\n",
      "Opening snapshot /Volumes/TempestTimeSteps/DD2267/DD2267\n"
     ]
    },
    {
     "name": "stderr",
     "output_type": "stream",
     "text": [
      "yt : [INFO     ] 2022-07-15 10:16:51,518 Parameters: current_time              = 599.56652781829\n",
      "yt : [INFO     ] 2022-07-15 10:16:51,522 Parameters: domain_dimensions         = [256 256 256]\n",
      "yt : [INFO     ] 2022-07-15 10:16:51,525 Parameters: domain_left_edge          = [0. 0. 0.]\n",
      "yt : [INFO     ] 2022-07-15 10:16:51,529 Parameters: domain_right_edge         = [1. 1. 1.]\n",
      "yt : [INFO     ] 2022-07-15 10:16:51,530 Parameters: cosmological_simulation   = 1\n",
      "yt : [INFO     ] 2022-07-15 10:16:51,531 Parameters: current_redshift          = 0.063773742616062\n",
      "yt : [INFO     ] 2022-07-15 10:16:51,532 Parameters: omega_lambda              = 0.715\n",
      "yt : [INFO     ] 2022-07-15 10:16:51,534 Parameters: omega_matter              = 0.285\n",
      "yt : [INFO     ] 2022-07-15 10:16:51,535 Parameters: omega_radiation           = 0\n",
      "yt : [INFO     ] 2022-07-15 10:16:51,535 Parameters: hubble_constant           = 0.695\n"
     ]
    },
    {
     "name": "stdout",
     "output_type": "stream",
     "text": [
      "get_refine_box: using this location:       col1         col2     col3     col4     col5     col6     col7   col8\n",
      "---------------- -------- -------- -------- -------- -------- -------- ----\n",
      "0.06378828462523 0.489085 0.471257 0.508131 0.491085 0.473257 0.510131    9\n"
     ]
    },
    {
     "name": "stderr",
     "output_type": "stream",
     "text": [
      "Parsing Hierarchy : 100%|████████████████| 4765/4765 [00:00<00:00, 11855.68it/s]\n",
      "yt : [INFO     ] 2022-07-15 10:16:52,208 Gathering a field list (this may take a moment.)\n",
      "yt : [WARNING  ] 2022-07-15 10:16:55,776 The stars particle filter already exists. Overriding.\n",
      "yt : [WARNING  ] 2022-07-15 10:16:55,776 The DM particle filter already exists. Overriding.\n"
     ]
    },
    {
     "name": "stdout",
     "output_type": "stream",
     "text": [
      "Pulling halo center from catalog file\n",
      "Opening snapshot /Volumes/TempestTimeSteps/DD2287/DD2287\n"
     ]
    },
    {
     "name": "stderr",
     "output_type": "stream",
     "text": [
      "yt : [INFO     ] 2022-07-15 10:16:55,994 Parameters: current_time              = 604.56652781829\n",
      "yt : [INFO     ] 2022-07-15 10:16:55,997 Parameters: domain_dimensions         = [256 256 256]\n",
      "yt : [INFO     ] 2022-07-15 10:16:56,003 Parameters: domain_left_edge          = [0. 0. 0.]\n",
      "yt : [INFO     ] 2022-07-15 10:16:56,006 Parameters: domain_right_edge         = [1. 1. 1.]\n",
      "yt : [INFO     ] 2022-07-15 10:16:56,007 Parameters: cosmological_simulation   = 1\n",
      "yt : [INFO     ] 2022-07-15 10:16:56,008 Parameters: current_redshift          = 0.055464005771674\n",
      "yt : [INFO     ] 2022-07-15 10:16:56,010 Parameters: omega_lambda              = 0.715\n",
      "yt : [INFO     ] 2022-07-15 10:16:56,011 Parameters: omega_matter              = 0.285\n",
      "yt : [INFO     ] 2022-07-15 10:16:56,012 Parameters: omega_radiation           = 0\n",
      "yt : [INFO     ] 2022-07-15 10:16:56,013 Parameters: hubble_constant           = 0.695\n"
     ]
    },
    {
     "name": "stdout",
     "output_type": "stream",
     "text": [
      "get_refine_box: using this location:        col1         col2     col3     col4     col5     col6     col7   col8\n",
      "----------------- -------- -------- -------- -------- -------- -------- ----\n",
      "0.055469091194623 0.489056 0.471136 0.508185 0.491056 0.473136 0.510185    9\n"
     ]
    },
    {
     "name": "stderr",
     "output_type": "stream",
     "text": [
      "Parsing Hierarchy : 100%|████████████████| 4752/4752 [00:00<00:00, 10755.68it/s]\n",
      "yt : [INFO     ] 2022-07-15 10:16:56,750 Gathering a field list (this may take a moment.)\n",
      "yt : [WARNING  ] 2022-07-15 10:17:00,361 The stars particle filter already exists. Overriding.\n",
      "yt : [WARNING  ] 2022-07-15 10:17:00,362 The DM particle filter already exists. Overriding.\n"
     ]
    },
    {
     "name": "stdout",
     "output_type": "stream",
     "text": [
      "Pulling halo center from catalog file\n",
      "Opening snapshot /Volumes/TempestTimeSteps/DD2307/DD2307\n"
     ]
    },
    {
     "name": "stderr",
     "output_type": "stream",
     "text": [
      "yt : [INFO     ] 2022-07-15 10:17:00,609 Parameters: current_time              = 609.56652781829\n",
      "yt : [INFO     ] 2022-07-15 10:17:00,612 Parameters: domain_dimensions         = [256 256 256]\n",
      "yt : [INFO     ] 2022-07-15 10:17:00,615 Parameters: domain_left_edge          = [0. 0. 0.]\n",
      "yt : [INFO     ] 2022-07-15 10:17:00,618 Parameters: domain_right_edge         = [1. 1. 1.]\n",
      "yt : [INFO     ] 2022-07-15 10:17:00,619 Parameters: cosmological_simulation   = 1\n",
      "yt : [INFO     ] 2022-07-15 10:17:00,620 Parameters: current_redshift          = 0.047232768552278\n",
      "yt : [INFO     ] 2022-07-15 10:17:00,620 Parameters: omega_lambda              = 0.715\n",
      "yt : [INFO     ] 2022-07-15 10:17:00,621 Parameters: omega_matter              = 0.285\n",
      "yt : [INFO     ] 2022-07-15 10:17:00,622 Parameters: omega_radiation           = 0\n",
      "yt : [INFO     ] 2022-07-15 10:17:00,622 Parameters: hubble_constant           = 0.695\n"
     ]
    },
    {
     "name": "stdout",
     "output_type": "stream",
     "text": [
      "get_refine_box: using this location:       col1         col2     col3     col4     col5     col6     col7   col8\n",
      "---------------- -------- -------- -------- -------- -------- -------- ----\n",
      "0.04724574069249 0.489029 0.471018 0.508236 0.491029 0.473018 0.510236    9\n"
     ]
    },
    {
     "name": "stderr",
     "output_type": "stream",
     "text": [
      "Parsing Hierarchy : 100%|████████████████| 4568/4568 [00:00<00:00, 12102.97it/s]\n",
      "yt : [INFO     ] 2022-07-15 10:17:01,259 Gathering a field list (this may take a moment.)\n",
      "yt : [WARNING  ] 2022-07-15 10:17:04,726 The stars particle filter already exists. Overriding.\n",
      "yt : [WARNING  ] 2022-07-15 10:17:04,727 The DM particle filter already exists. Overriding.\n"
     ]
    },
    {
     "name": "stdout",
     "output_type": "stream",
     "text": [
      "Pulling halo center from catalog file\n",
      "Opening snapshot /Volumes/TempestTimeSteps/DD2327/DD2327\n"
     ]
    },
    {
     "name": "stderr",
     "output_type": "stream",
     "text": [
      "yt : [INFO     ] 2022-07-15 10:17:04,940 Parameters: current_time              = 614.56652781829\n",
      "yt : [INFO     ] 2022-07-15 10:17:04,944 Parameters: domain_dimensions         = [256 256 256]\n",
      "yt : [INFO     ] 2022-07-15 10:17:04,949 Parameters: domain_left_edge          = [0. 0. 0.]\n",
      "yt : [INFO     ] 2022-07-15 10:17:04,952 Parameters: domain_right_edge         = [1. 1. 1.]\n",
      "yt : [INFO     ] 2022-07-15 10:17:04,953 Parameters: cosmological_simulation   = 1\n",
      "yt : [INFO     ] 2022-07-15 10:17:04,954 Parameters: current_redshift          = 0.0391061686678\n",
      "yt : [INFO     ] 2022-07-15 10:17:04,955 Parameters: omega_lambda              = 0.715\n",
      "yt : [INFO     ] 2022-07-15 10:17:04,955 Parameters: omega_matter              = 0.285\n",
      "yt : [INFO     ] 2022-07-15 10:17:04,956 Parameters: omega_radiation           = 0\n",
      "yt : [INFO     ] 2022-07-15 10:17:04,957 Parameters: hubble_constant           = 0.695\n"
     ]
    },
    {
     "name": "stdout",
     "output_type": "stream",
     "text": [
      "get_refine_box: using this location:        col1         col2     col3     col4    col5     col6     col7  col8\n",
      "----------------- -------- -------- ------- -------- -------- ------- ----\n",
      "0.039116296382769 0.489003 0.470898 0.50829 0.491003 0.472898 0.51029    9\n"
     ]
    },
    {
     "name": "stderr",
     "output_type": "stream",
     "text": [
      "Parsing Hierarchy : 100%|████████████████| 4486/4486 [00:00<00:00, 11631.79it/s]\n",
      "yt : [INFO     ] 2022-07-15 10:17:05,605 Gathering a field list (this may take a moment.)\n",
      "yt : [WARNING  ] 2022-07-15 10:17:09,117 The stars particle filter already exists. Overriding.\n",
      "yt : [WARNING  ] 2022-07-15 10:17:09,120 The DM particle filter already exists. Overriding.\n"
     ]
    },
    {
     "name": "stdout",
     "output_type": "stream",
     "text": [
      "Pulling halo center from catalog file\n",
      "Opening snapshot /Volumes/TempestTimeSteps/DD2347/DD2347\n"
     ]
    },
    {
     "name": "stderr",
     "output_type": "stream",
     "text": [
      "yt : [INFO     ] 2022-07-15 10:17:09,327 Parameters: current_time              = 619.56652781829\n",
      "yt : [INFO     ] 2022-07-15 10:17:09,332 Parameters: domain_dimensions         = [256 256 256]\n",
      "yt : [INFO     ] 2022-07-15 10:17:09,335 Parameters: domain_left_edge          = [0. 0. 0.]\n",
      "yt : [INFO     ] 2022-07-15 10:17:09,338 Parameters: domain_right_edge         = [1. 1. 1.]\n",
      "yt : [INFO     ] 2022-07-15 10:17:09,339 Parameters: cosmological_simulation   = 1\n",
      "yt : [INFO     ] 2022-07-15 10:17:09,340 Parameters: current_redshift          = 0.031069228461955\n",
      "yt : [INFO     ] 2022-07-15 10:17:09,341 Parameters: omega_lambda              = 0.715\n",
      "yt : [INFO     ] 2022-07-15 10:17:09,341 Parameters: omega_matter              = 0.285\n",
      "yt : [INFO     ] 2022-07-15 10:17:09,342 Parameters: omega_radiation           = 0\n",
      "yt : [INFO     ] 2022-07-15 10:17:09,343 Parameters: hubble_constant           = 0.695\n"
     ]
    },
    {
     "name": "stdout",
     "output_type": "stream",
     "text": [
      "get_refine_box: using this location:        col1         col2     col3     col4     col5     col6     col7   col8\n",
      "----------------- -------- -------- -------- -------- -------- -------- ----\n",
      "0.031078880102952 0.488974 0.470782 0.508341 0.490974 0.472782 0.510341    9\n"
     ]
    },
    {
     "name": "stderr",
     "output_type": "stream",
     "text": [
      "Parsing Hierarchy : 100%|████████████████| 4414/4414 [00:00<00:00, 11591.97it/s]\n",
      "yt : [INFO     ] 2022-07-15 10:17:09,989 Gathering a field list (this may take a moment.)\n",
      "yt : [WARNING  ] 2022-07-15 10:17:13,461 The stars particle filter already exists. Overriding.\n",
      "yt : [WARNING  ] 2022-07-15 10:17:13,462 The DM particle filter already exists. Overriding.\n"
     ]
    },
    {
     "name": "stdout",
     "output_type": "stream",
     "text": [
      "Pulling halo center from catalog file\n",
      "Opening snapshot /Volumes/TempestTimeSteps/DD2367/DD2367\n"
     ]
    },
    {
     "name": "stderr",
     "output_type": "stream",
     "text": [
      "yt : [INFO     ] 2022-07-15 10:17:13,694 Parameters: current_time              = 624.56652781829\n",
      "yt : [INFO     ] 2022-07-15 10:17:13,697 Parameters: domain_dimensions         = [256 256 256]\n",
      "yt : [INFO     ] 2022-07-15 10:17:13,700 Parameters: domain_left_edge          = [0. 0. 0.]\n",
      "yt : [INFO     ] 2022-07-15 10:17:13,703 Parameters: domain_right_edge         = [1. 1. 1.]\n",
      "yt : [INFO     ] 2022-07-15 10:17:13,704 Parameters: cosmological_simulation   = 1\n",
      "yt : [INFO     ] 2022-07-15 10:17:13,704 Parameters: current_redshift          = 0.023118635482115\n",
      "yt : [INFO     ] 2022-07-15 10:17:13,705 Parameters: omega_lambda              = 0.715\n",
      "yt : [INFO     ] 2022-07-15 10:17:13,706 Parameters: omega_matter              = 0.285\n",
      "yt : [INFO     ] 2022-07-15 10:17:13,707 Parameters: omega_radiation           = 0\n",
      "yt : [INFO     ] 2022-07-15 10:17:13,707 Parameters: hubble_constant           = 0.695\n"
     ]
    },
    {
     "name": "stdout",
     "output_type": "stream",
     "text": [
      "get_refine_box: using this location:        col1         col2     col3     col4     col5     col6     col7   col8\n",
      "----------------- -------- -------- -------- -------- -------- -------- ----\n",
      "0.023131670035277 0.488947 0.470663 0.508391 0.490947 0.472663 0.510391    9\n"
     ]
    },
    {
     "name": "stderr",
     "output_type": "stream",
     "text": [
      "Parsing Hierarchy : 100%|████████████████| 4336/4336 [00:00<00:00, 11565.29it/s]\n",
      "yt : [INFO     ] 2022-07-15 10:17:14,334 Gathering a field list (this may take a moment.)\n",
      "yt : [WARNING  ] 2022-07-15 10:17:17,799 The stars particle filter already exists. Overriding.\n",
      "yt : [WARNING  ] 2022-07-15 10:17:17,800 The DM particle filter already exists. Overriding.\n"
     ]
    },
    {
     "name": "stdout",
     "output_type": "stream",
     "text": [
      "Pulling halo center from catalog file\n",
      "Opening snapshot /Volumes/TempestTimeSteps/DD2387/DD2387\n"
     ]
    },
    {
     "name": "stderr",
     "output_type": "stream",
     "text": [
      "yt : [INFO     ] 2022-07-15 10:17:18,020 Parameters: current_time              = 629.56652781829\n",
      "yt : [INFO     ] 2022-07-15 10:17:18,023 Parameters: domain_dimensions         = [256 256 256]\n",
      "yt : [INFO     ] 2022-07-15 10:17:18,026 Parameters: domain_left_edge          = [0. 0. 0.]\n",
      "yt : [INFO     ] 2022-07-15 10:17:18,030 Parameters: domain_right_edge         = [1. 1. 1.]\n",
      "yt : [INFO     ] 2022-07-15 10:17:18,031 Parameters: cosmological_simulation   = 1\n",
      "yt : [INFO     ] 2022-07-15 10:17:18,031 Parameters: current_redshift          = 0.015267938588785\n",
      "yt : [INFO     ] 2022-07-15 10:17:18,032 Parameters: omega_lambda              = 0.715\n",
      "yt : [INFO     ] 2022-07-15 10:17:18,032 Parameters: omega_matter              = 0.285\n",
      "yt : [INFO     ] 2022-07-15 10:17:18,033 Parameters: omega_radiation           = 0\n",
      "yt : [INFO     ] 2022-07-15 10:17:18,034 Parameters: hubble_constant           = 0.695\n"
     ]
    },
    {
     "name": "stdout",
     "output_type": "stream",
     "text": [
      "get_refine_box: using this location:        col1         col2     col3     col4    col5     col6     col7  col8\n",
      "----------------- -------- -------- ------- -------- -------- ------- ----\n",
      "0.015272898578656 0.488921 0.470547 0.50844 0.490921 0.472547 0.51044    9\n"
     ]
    },
    {
     "name": "stderr",
     "output_type": "stream",
     "text": [
      "Parsing Hierarchy : 100%|████████████████| 4456/4456 [00:00<00:00, 12030.63it/s]\n",
      "yt : [INFO     ] 2022-07-15 10:17:18,658 Gathering a field list (this may take a moment.)\n",
      "yt : [WARNING  ] 2022-07-15 10:17:22,228 The stars particle filter already exists. Overriding.\n",
      "yt : [WARNING  ] 2022-07-15 10:17:22,229 The DM particle filter already exists. Overriding.\n"
     ]
    },
    {
     "name": "stdout",
     "output_type": "stream",
     "text": [
      "Pulling halo center from catalog file\n",
      "Opening snapshot /Volumes/TempestTimeSteps/DD2407/DD2407\n"
     ]
    },
    {
     "name": "stderr",
     "output_type": "stream",
     "text": [
      "yt : [INFO     ] 2022-07-15 10:17:22,450 Parameters: current_time              = 634.56652781829\n",
      "yt : [INFO     ] 2022-07-15 10:17:22,452 Parameters: domain_dimensions         = [256 256 256]\n",
      "yt : [INFO     ] 2022-07-15 10:17:22,455 Parameters: domain_left_edge          = [0. 0. 0.]\n",
      "yt : [INFO     ] 2022-07-15 10:17:22,458 Parameters: domain_right_edge         = [1. 1. 1.]\n",
      "yt : [INFO     ] 2022-07-15 10:17:22,458 Parameters: cosmological_simulation   = 1\n",
      "yt : [INFO     ] 2022-07-15 10:17:22,459 Parameters: current_redshift          = 0.0074866626587569\n",
      "yt : [INFO     ] 2022-07-15 10:17:22,460 Parameters: omega_lambda              = 0.715\n",
      "yt : [INFO     ] 2022-07-15 10:17:22,460 Parameters: omega_matter              = 0.285\n",
      "yt : [INFO     ] 2022-07-15 10:17:22,461 Parameters: omega_radiation           = 0\n",
      "yt : [INFO     ] 2022-07-15 10:17:22,462 Parameters: hubble_constant           = 0.695\n"
     ]
    },
    {
     "name": "stdout",
     "output_type": "stream",
     "text": [
      "get_refine_box: using this location:        col1          col2     col3     col4    col5     col6     col7  col8\n",
      "------------------ -------- -------- ------- -------- -------- ------- ----\n",
      "0.0075008503160188 0.488892 0.470431 0.50849 0.490892 0.472431 0.51049    9\n"
     ]
    },
    {
     "name": "stderr",
     "output_type": "stream",
     "text": [
      "Parsing Hierarchy : 100%|████████████████| 4394/4394 [00:00<00:00, 12436.71it/s]\n",
      "yt : [INFO     ] 2022-07-15 10:17:23,093 Gathering a field list (this may take a moment.)\n",
      "yt : [WARNING  ] 2022-07-15 10:17:26,627 The stars particle filter already exists. Overriding.\n",
      "yt : [WARNING  ] 2022-07-15 10:17:26,628 The DM particle filter already exists. Overriding.\n"
     ]
    },
    {
     "name": "stdout",
     "output_type": "stream",
     "text": [
      "Pulling halo center from catalog file\n",
      "Opening snapshot /Volumes/TempestTimeSteps/DD2427/DD2427\n"
     ]
    },
    {
     "name": "stderr",
     "output_type": "stream",
     "text": [
      "yt : [INFO     ] 2022-07-15 10:17:26,873 Parameters: current_time              = 639.44480357087\n",
      "yt : [INFO     ] 2022-07-15 10:17:26,876 Parameters: domain_dimensions         = [256 256 256]\n",
      "yt : [INFO     ] 2022-07-15 10:17:26,879 Parameters: domain_left_edge          = [0. 0. 0.]\n",
      "yt : [INFO     ] 2022-07-15 10:17:26,882 Parameters: domain_right_edge         = [1. 1. 1.]\n",
      "yt : [INFO     ] 2022-07-15 10:17:26,883 Parameters: cosmological_simulation   = 1\n",
      "yt : [INFO     ] 2022-07-15 10:17:26,884 Parameters: current_redshift          = 0\n",
      "yt : [INFO     ] 2022-07-15 10:17:26,885 Parameters: omega_lambda              = 0.715\n",
      "yt : [INFO     ] 2022-07-15 10:17:26,886 Parameters: omega_matter              = 0.285\n",
      "yt : [INFO     ] 2022-07-15 10:17:26,887 Parameters: omega_radiation           = 0\n",
      "yt : [INFO     ] 2022-07-15 10:17:26,888 Parameters: hubble_constant           = 0.695\n"
     ]
    },
    {
     "name": "stdout",
     "output_type": "stream",
     "text": [
      "get_refine_box: using this location:         col1          col2     col3     col4    col5     col6     col7  col8\n",
      "------------------- -------- -------- ------- -------- -------- ------- ----\n",
      "4.4408920985006e-16 0.488865 0.470316 0.50854 0.490865 0.472316 0.51054    9\n"
     ]
    },
    {
     "name": "stderr",
     "output_type": "stream",
     "text": [
      "Parsing Hierarchy : 100%|████████████████| 4262/4262 [00:00<00:00, 12296.06it/s]\n",
      "yt : [INFO     ] 2022-07-15 10:17:27,483 Gathering a field list (this may take a moment.)\n"
     ]
    },
    {
     "name": "stdout",
     "output_type": "stream",
     "text": [
      "Pulling halo center from catalog file\n",
      "SUCCESS!\n"
     ]
    }
   ],
   "source": [
    "\"\"\"\n",
    "Now, run through ALL the files with star data in the hard drive. This should take a while.\n",
    "\"\"\"\n",
    "\n",
    "halo = 'Tempest'\n",
    "hnum = '008508'\n",
    "\n",
    "halo_c_v_name = '/Users/bnguyen/FOGGIE/foggie/halo_infos/'+hnum+'/nref11c_nref9f/halo_c_v'\n",
    "trackname = '/Users/bnguyen/FOGGIE/foggie/halo_tracks/'+hnum+'/nref11n_selfshield_15/halo_track_200kpc_nref9'\n",
    "masses_dir = '/Users/bnguyen/FOGGIE/foggie/halo_infos/'+hnum+'/nref11c_nref9f/'\n",
    "\n",
    "def StarParts(pfilter, data):\n",
    "    return data[(\"all\", \"particle_type\")] == 2 # only grab star particles\n",
    "\n",
    "def DMParts(pfilter, data):\n",
    "    return data[(\"all\", \"particle_type\")] == 4 # only grab DM particles\n",
    "\n",
    "all_snaps = np.array([], dtype='object')\n",
    "all_time_idx = np.array([], dtype='object')\n",
    "\n",
    "for snap_name in tslist:\n",
    "    add_particle_filter(\"stars\", function=StarParts, filtered_type='all', requires=[\"particle_type\"])\n",
    "    add_particle_filter(\"DM\", function=DMParts, filtered_type='all', requires=[\"particle_type\"])\n",
    "    ds, region = fog.foggie_load(snap_name, trackname, find_halo_center=True, halo_c_v_name=halo_c_v_name, disk_relative=False, \\\n",
    "                                particle_type_for_angmom='young_stars', do_filter_particles=False, gravity=False,\\\n",
    "                                region='refine_box',masses_dir=masses_dir)\n",
    "    ds.add_particle_filter('stars')\n",
    "    ds.add_particle_filter('DM')\n",
    "    \n",
    "    snapend = snap_name[-6:]\n",
    "#    print(snapend)\n",
    "    time_idx = timestep_index(sim, snapend)\n",
    "    ads = ds.all_data()\n",
    "    all_snaps = np.append(all_snaps, ds)\n",
    "    all_time_idx = np.append(all_time_idx, time_idx)\n",
    "    \n",
    "print('SUCCESS!')"
   ]
  },
  {
   "cell_type": "code",
   "execution_count": 6,
   "id": "55ec788b",
   "metadata": {},
   "outputs": [
    {
     "name": "stdout",
     "output_type": "stream",
     "text": [
      "[<Halo 'Tempest.9f11c.all.DD/DD2427/DD2427/halo_21' | NDM=517 Nstar=0 Ngas=0>]\n"
     ]
    }
   ],
   "source": [
    "all_sats = sim[-1][1].calculate('Satellites()')\n",
    "\n",
    "sats = np.array([], dtype='object')\n",
    "#starry_idx = np.array([21, 51, 109], dtype='object')\n",
    "starry_idx = np.array([21], dtype='object')\n",
    "\n",
    "for i in range(np.size(all_sats)):\n",
    "    if all_sats[i].halo_number in starry_idx:\n",
    "        sats = np.append(sats, all_sats[i]) # this ensures we're only checking for the verified starry halos\n",
    "        \n",
    "print(sats)"
   ]
  },
  {
   "cell_type": "code",
   "execution_count": 7,
   "id": "f0ab36b2",
   "metadata": {},
   "outputs": [
    {
     "name": "stdout",
     "output_type": "stream",
     "text": [
      "Success!\n"
     ]
    }
   ],
   "source": [
    "\"\"\"\n",
    "First, we find all the properties of the progenitors \n",
    "for the star-forming surviving satellites.\n",
    "\"\"\"\n",
    "\n",
    "all_sat_cen = []\n",
    "all_sat_rvir = []\n",
    "all_sat_t = []\n",
    "\n",
    "for sat_idx in starry_idx:\n",
    "    if isinstance(sim[-1][sat_idx], type(None)) is False:\n",
    "        mvir, cen, rvir, t = sim[-1][sat_idx].calculate_for_progenitors('Mvir', 'Center', 'Rvir', 't()')\n",
    "\n",
    "        all_sat_cen.append(cen) # this compiles an array of all the progenitors' centers\n",
    "        all_sat_rvir.append(rvir) # this compiles an array of all the progenitors' virial radii\n",
    "        all_sat_t.append(t)\n",
    "\n",
    "all_sat_cen = np.array(all_sat_cen, dtype='object')\n",
    "all_sat_rvir = np.array(all_sat_rvir, dtype='object')\n",
    "all_sat_t = np.array(all_sat_t, dtype='object')\n",
    "\n",
    "print('Success!')"
   ]
  },
  {
   "cell_type": "code",
   "execution_count": 8,
   "id": "b4ac9b8d",
   "metadata": {
    "scrolled": false
   },
   "outputs": [
    {
     "name": "stdout",
     "output_type": "stream",
     "text": [
      "There are 130 timesteps available in the star hard drive.\n"
     ]
    }
   ],
   "source": [
    "\"\"\"\n",
    "Now, we have to ensure that all the progenitors line up with the available \n",
    "timesteps in the star hard drive. To do that, we first have to convert \n",
    "all the time indices from the star hard drive to actual time in Gyr.\n",
    "\"\"\"\n",
    "\n",
    "available_timesteps = np.zeros(np.size(all_time_idx))\n",
    "i = 0\n",
    "while i < np.size(all_time_idx):\n",
    "    available_timesteps[i] = sim[all_time_idx[i]].time_gyr\n",
    "    i += 1\n",
    "    \n",
    "print('There are', np.size(available_timesteps), 'timesteps available in the star hard drive.')"
   ]
  },
  {
   "cell_type": "code",
   "execution_count": 9,
   "id": "9f5cb951",
   "metadata": {},
   "outputs": [],
   "source": [
    "all_centers = []\n",
    "all_rvirs = []\n",
    "all_available_snaps = []\n",
    "\n",
    "for halo in range(np.size(starry_idx)):\n",
    "    each_halo_available_centers = []\n",
    "    each_halo_available_rvirs = []\n",
    "    each_halo_available_snaps = []\n",
    "    \n",
    "    # Now, we compare the times in the snapshots to the available timesteps \n",
    "    # in order to see how many snapshots are available in the star hard drive.\n",
    "    for time in available_timesteps:\n",
    "        center = all_sat_cen[halo][all_sat_t[halo] == time]\n",
    "        rvir = all_sat_rvir[halo][all_sat_t[halo] == time]\n",
    "        \n",
    "        if np.size(center) != 0 and np.size(rvir) != 0:\n",
    "            center = YTArray(center[0] * 1000, 'kpc')\n",
    "            rvir = YTQuantity(rvir[0], 'kpc')\n",
    "            \n",
    "            each_halo_available_centers.append(center)\n",
    "            each_halo_available_rvirs.append(rvir)\n",
    "            each_halo_available_snaps.append(all_snaps[available_timesteps == time][0])\n",
    "            \n",
    "    each_halo_available_centers = np.array(each_halo_available_centers, dtype='object')\n",
    "    each_halo_available_rvirs = np.array(each_halo_available_rvirs, dtype='object')\n",
    "    each_halo_available_snaps = np.array(each_halo_available_snaps, dtype='object')\n",
    "        \n",
    "    all_centers.append(each_halo_available_centers)\n",
    "    all_rvirs.append(each_halo_available_rvirs)\n",
    "    all_available_snaps.append(each_halo_available_snaps)\n",
    "    \n",
    "all_centers = np.array(all_centers, dtype='object')\n",
    "all_rvirs = np.array(all_rvirs, dtype='object')\n",
    "all_available_snaps = np.array(all_available_snaps, dtype='object')"
   ]
  },
  {
   "cell_type": "code",
   "execution_count": 10,
   "id": "251cdf66",
   "metadata": {},
   "outputs": [
    {
     "name": "stdout",
     "output_type": "stream",
     "text": [
      " For halo 21 there are 125 snaps in the hard drive.\n"
     ]
    }
   ],
   "source": [
    "print(' For halo', starry_idx[0], 'there are', np.size(all_available_snaps[0]), 'snaps in the hard drive.')\n",
    "      \n",
    "      #\\n', \\\n",
    "      #'For halo', starry_idx[1], 'there are', np.size(all_available_snaps[1]), 'snaps in the hard drive.\\n', \\\n",
    "      #'For halo', starry_idx[2], 'there are', np.size(all_available_snaps[2]), ' snaps in the hard drive.')"
   ]
  },
  {
   "cell_type": "code",
   "execution_count": 11,
   "id": "e04fd852",
   "metadata": {
    "scrolled": true
   },
   "outputs": [
    {
     "name": "stdout",
     "output_type": "stream",
     "text": [
      "Success!\n"
     ]
    }
   ],
   "source": [
    "\"\"\"\n",
    "Now, we go through each of the satellites and get their respective mass profiles.\n",
    "\"\"\"\n",
    "\n",
    "bin_size = YTQuantity(0.25, 'kpc') # 250 pc is the resolution of the simulation\n",
    "\n",
    "loc_allstars = []\n",
    "mass_allstars = []\n",
    "all_radius_arrays = []\n",
    "\n",
    "starry_rvir = []\n",
    "starry_cen = []\n",
    "starry_spheres = []\n",
    "\n",
    "for halo in range(np.size(starry_idx)):\n",
    "    each_halo_star_loc = []\n",
    "    each_halo_star_mass = []\n",
    "    each_halo_radius_arrays = []\n",
    "    \n",
    "    each_halo_rvir = []\n",
    "    each_halo_cen = []\n",
    "    each_halo_spheres = []\n",
    "    \n",
    "    # this goes through the halo at each timestep to find its Rvir and center position\n",
    "    for idx in range(np.size(all_rvirs[halo])):\n",
    "        each_cen = YTArray(all_centers[halo][idx], 'kpc')\n",
    "        each_rvir = YTQuantity(all_rvirs[halo][idx], 'kpc')\n",
    "        ds = all_available_snaps[halo][idx]\n",
    "            \n",
    "        # this uses yt to create spheres which contain the stars of each respective halo\n",
    "        halo_sphere = ds.sphere(center=each_cen,radius=each_rvir)\n",
    "        stars_loc = halo_sphere['stars','particle_position'].in_units('kpc')\n",
    "        corrected_stars_loc = stars_loc - each_cen # this places the halo center as the origin of its stars' coords\n",
    "        stars_mass = halo_sphere['stars','particle_mass'].in_units('Msun')\n",
    "        \n",
    "        if np.size(corrected_stars_loc) != 0:\n",
    "            radius_array = np.arange(YTQuantity(0.01, 'kpc'), each_rvir, bin_size)\n",
    "#            print(corrected_stars_loc)\n",
    "\n",
    "            # next, we add all the relevant star location and mass of the halo\n",
    "            # to some numpy arrays. this is meant to break down the for loop\n",
    "            # and help the code run faster.\n",
    "            each_halo_star_loc.append(corrected_stars_loc)\n",
    "            each_halo_star_mass.append(stars_mass)\n",
    "            each_halo_radius_arrays.append(radius_array)\n",
    "            \n",
    "            # finally, add the rvir and mvir into lists for later analyses\n",
    "            each_halo_rvir.append(each_rvir)\n",
    "            each_halo_cen.append(each_cen)\n",
    "            each_halo_spheres.append(halo_sphere)\n",
    "\n",
    "    loc_allstars.append(each_halo_star_loc)\n",
    "    mass_allstars.append(each_halo_star_mass)\n",
    "    all_radius_arrays.append(each_halo_spheres)\n",
    "    \n",
    "    starry_rvir.append(each_halo_rvir)\n",
    "    starry_cen.append(each_halo_cen)\n",
    "    starry_spheres.append(each_halo_spheres)\n",
    "            \n",
    "# with everything done, we remove the irrelevant rvir and mvir (irrelevant as in \n",
    "# not containing stars) for convenience in the upcoming analyses.\n",
    "\n",
    "loc_allstars = np.array(loc_allstars, dtype='object')\n",
    "mass_allstars = np.array(mass_allstars, dtype='object')\n",
    "all_radius_arrays = np.array(all_radius_arrays, dtype='object')\n",
    "\n",
    "starry_rvir = np.array(starry_rvir, dtype='object')\n",
    "starry_cen = YTArray(starry_cen, 'kpc')\n",
    "starry_spheres = np.array(starry_spheres, dtype='object')\n",
    "\n",
    "print('Success!')"
   ]
  },
  {
   "cell_type": "code",
   "execution_count": 16,
   "id": "d52de371",
   "metadata": {
    "scrolled": false
   },
   "outputs": [
    {
     "ename": "AttributeError",
     "evalue": "'float' object has no attribute 'shape'",
     "output_type": "error",
     "traceback": [
      "\u001b[0;31m---------------------------------------------------------------------------\u001b[0m",
      "\u001b[0;31mAttributeError\u001b[0m                            Traceback (most recent call last)",
      "Input \u001b[0;32mIn [16]\u001b[0m, in \u001b[0;36m<cell line: 1>\u001b[0;34m()\u001b[0m\n\u001b[0;32m----> 1\u001b[0m \u001b[38;5;28;43mprint\u001b[39;49m\u001b[43m(\u001b[49m\u001b[43mloc_allstars\u001b[49m\u001b[43m)\u001b[49m\n",
      "File \u001b[0;32m~/miniconda3/lib/python3.9/site-packages/numpy/core/arrayprint.py:1592\u001b[0m, in \u001b[0;36m_array_str_implementation\u001b[0;34m(a, max_line_width, precision, suppress_small, array2string)\u001b[0m\n\u001b[1;32m   1586\u001b[0m \u001b[38;5;28;01mif\u001b[39;00m a\u001b[38;5;241m.\u001b[39mshape \u001b[38;5;241m==\u001b[39m ():\n\u001b[1;32m   1587\u001b[0m     \u001b[38;5;66;03m# obtain a scalar and call str on it, avoiding problems for subclasses\u001b[39;00m\n\u001b[1;32m   1588\u001b[0m     \u001b[38;5;66;03m# for which indexing with () returns a 0d instead of a scalar by using\u001b[39;00m\n\u001b[1;32m   1589\u001b[0m     \u001b[38;5;66;03m# ndarray's getindex. Also guard against recursive 0d object arrays.\u001b[39;00m\n\u001b[1;32m   1590\u001b[0m     \u001b[38;5;28;01mreturn\u001b[39;00m _guarded_repr_or_str(np\u001b[38;5;241m.\u001b[39mndarray\u001b[38;5;241m.\u001b[39m\u001b[38;5;21m__getitem__\u001b[39m(a, ()))\n\u001b[0;32m-> 1592\u001b[0m \u001b[38;5;28;01mreturn\u001b[39;00m \u001b[43marray2string\u001b[49m\u001b[43m(\u001b[49m\u001b[43ma\u001b[49m\u001b[43m,\u001b[49m\u001b[43m \u001b[49m\u001b[43mmax_line_width\u001b[49m\u001b[43m,\u001b[49m\u001b[43m \u001b[49m\u001b[43mprecision\u001b[49m\u001b[43m,\u001b[49m\u001b[43m \u001b[49m\u001b[43msuppress_small\u001b[49m\u001b[43m,\u001b[49m\u001b[43m \u001b[49m\u001b[38;5;124;43m'\u001b[39;49m\u001b[38;5;124;43m \u001b[39;49m\u001b[38;5;124;43m'\u001b[39;49m\u001b[43m,\u001b[49m\u001b[43m \u001b[49m\u001b[38;5;124;43m\"\u001b[39;49m\u001b[38;5;124;43m\"\u001b[39;49m\u001b[43m)\u001b[49m\n",
      "File \u001b[0;32m~/miniconda3/lib/python3.9/site-packages/numpy/core/arrayprint.py:736\u001b[0m, in \u001b[0;36marray2string\u001b[0;34m(a, max_line_width, precision, suppress_small, separator, prefix, style, formatter, threshold, edgeitems, sign, floatmode, suffix, legacy)\u001b[0m\n\u001b[1;32m    733\u001b[0m \u001b[38;5;28;01mif\u001b[39;00m a\u001b[38;5;241m.\u001b[39msize \u001b[38;5;241m==\u001b[39m \u001b[38;5;241m0\u001b[39m:\n\u001b[1;32m    734\u001b[0m     \u001b[38;5;28;01mreturn\u001b[39;00m \u001b[38;5;124m\"\u001b[39m\u001b[38;5;124m[]\u001b[39m\u001b[38;5;124m\"\u001b[39m\n\u001b[0;32m--> 736\u001b[0m \u001b[38;5;28;01mreturn\u001b[39;00m \u001b[43m_array2string\u001b[49m\u001b[43m(\u001b[49m\u001b[43ma\u001b[49m\u001b[43m,\u001b[49m\u001b[43m \u001b[49m\u001b[43moptions\u001b[49m\u001b[43m,\u001b[49m\u001b[43m \u001b[49m\u001b[43mseparator\u001b[49m\u001b[43m,\u001b[49m\u001b[43m \u001b[49m\u001b[43mprefix\u001b[49m\u001b[43m)\u001b[49m\n",
      "File \u001b[0;32m~/miniconda3/lib/python3.9/site-packages/numpy/core/arrayprint.py:513\u001b[0m, in \u001b[0;36m_recursive_guard.<locals>.decorating_function.<locals>.wrapper\u001b[0;34m(self, *args, **kwargs)\u001b[0m\n\u001b[1;32m    511\u001b[0m repr_running\u001b[38;5;241m.\u001b[39madd(key)\n\u001b[1;32m    512\u001b[0m \u001b[38;5;28;01mtry\u001b[39;00m:\n\u001b[0;32m--> 513\u001b[0m     \u001b[38;5;28;01mreturn\u001b[39;00m \u001b[43mf\u001b[49m\u001b[43m(\u001b[49m\u001b[38;5;28;43mself\u001b[39;49m\u001b[43m,\u001b[49m\u001b[43m \u001b[49m\u001b[38;5;241;43m*\u001b[39;49m\u001b[43margs\u001b[49m\u001b[43m,\u001b[49m\u001b[43m \u001b[49m\u001b[38;5;241;43m*\u001b[39;49m\u001b[38;5;241;43m*\u001b[39;49m\u001b[43mkwargs\u001b[49m\u001b[43m)\u001b[49m\n\u001b[1;32m    514\u001b[0m \u001b[38;5;28;01mfinally\u001b[39;00m:\n\u001b[1;32m    515\u001b[0m     repr_running\u001b[38;5;241m.\u001b[39mdiscard(key)\n",
      "File \u001b[0;32m~/miniconda3/lib/python3.9/site-packages/numpy/core/arrayprint.py:546\u001b[0m, in \u001b[0;36m_array2string\u001b[0;34m(a, options, separator, prefix)\u001b[0m\n\u001b[1;32m    543\u001b[0m \u001b[38;5;66;03m# skip over array(\u001b[39;00m\n\u001b[1;32m    544\u001b[0m next_line_prefix \u001b[38;5;241m+\u001b[39m\u001b[38;5;241m=\u001b[39m \u001b[38;5;124m\"\u001b[39m\u001b[38;5;124m \u001b[39m\u001b[38;5;124m\"\u001b[39m\u001b[38;5;241m*\u001b[39m\u001b[38;5;28mlen\u001b[39m(prefix)\n\u001b[0;32m--> 546\u001b[0m lst \u001b[38;5;241m=\u001b[39m \u001b[43m_formatArray\u001b[49m\u001b[43m(\u001b[49m\u001b[43ma\u001b[49m\u001b[43m,\u001b[49m\u001b[43m \u001b[49m\u001b[43mformat_function\u001b[49m\u001b[43m,\u001b[49m\u001b[43m \u001b[49m\u001b[43moptions\u001b[49m\u001b[43m[\u001b[49m\u001b[38;5;124;43m'\u001b[39;49m\u001b[38;5;124;43mlinewidth\u001b[39;49m\u001b[38;5;124;43m'\u001b[39;49m\u001b[43m]\u001b[49m\u001b[43m,\u001b[49m\n\u001b[1;32m    547\u001b[0m \u001b[43m                   \u001b[49m\u001b[43mnext_line_prefix\u001b[49m\u001b[43m,\u001b[49m\u001b[43m \u001b[49m\u001b[43mseparator\u001b[49m\u001b[43m,\u001b[49m\u001b[43m \u001b[49m\u001b[43moptions\u001b[49m\u001b[43m[\u001b[49m\u001b[38;5;124;43m'\u001b[39;49m\u001b[38;5;124;43medgeitems\u001b[39;49m\u001b[38;5;124;43m'\u001b[39;49m\u001b[43m]\u001b[49m\u001b[43m,\u001b[49m\n\u001b[1;32m    548\u001b[0m \u001b[43m                   \u001b[49m\u001b[43msummary_insert\u001b[49m\u001b[43m,\u001b[49m\u001b[43m \u001b[49m\u001b[43moptions\u001b[49m\u001b[43m[\u001b[49m\u001b[38;5;124;43m'\u001b[39;49m\u001b[38;5;124;43mlegacy\u001b[39;49m\u001b[38;5;124;43m'\u001b[39;49m\u001b[43m]\u001b[49m\u001b[43m)\u001b[49m\n\u001b[1;32m    549\u001b[0m \u001b[38;5;28;01mreturn\u001b[39;00m lst\n",
      "File \u001b[0;32m~/miniconda3/lib/python3.9/site-packages/numpy/core/arrayprint.py:889\u001b[0m, in \u001b[0;36m_formatArray\u001b[0;34m(a, format_function, line_width, next_line_prefix, separator, edge_items, summary_insert, legacy)\u001b[0m\n\u001b[1;32m    885\u001b[0m     \u001b[38;5;28;01mreturn\u001b[39;00m s\n\u001b[1;32m    887\u001b[0m \u001b[38;5;28;01mtry\u001b[39;00m:\n\u001b[1;32m    888\u001b[0m     \u001b[38;5;66;03m# invoke the recursive part with an initial index and prefix\u001b[39;00m\n\u001b[0;32m--> 889\u001b[0m     \u001b[38;5;28;01mreturn\u001b[39;00m \u001b[43mrecurser\u001b[49m\u001b[43m(\u001b[49m\u001b[43mindex\u001b[49m\u001b[38;5;241;43m=\u001b[39;49m\u001b[43m(\u001b[49m\u001b[43m)\u001b[49m\u001b[43m,\u001b[49m\n\u001b[1;32m    890\u001b[0m \u001b[43m                    \u001b[49m\u001b[43mhanging_indent\u001b[49m\u001b[38;5;241;43m=\u001b[39;49m\u001b[43mnext_line_prefix\u001b[49m\u001b[43m,\u001b[49m\n\u001b[1;32m    891\u001b[0m \u001b[43m                    \u001b[49m\u001b[43mcurr_width\u001b[49m\u001b[38;5;241;43m=\u001b[39;49m\u001b[43mline_width\u001b[49m\u001b[43m)\u001b[49m\n\u001b[1;32m    892\u001b[0m \u001b[38;5;28;01mfinally\u001b[39;00m:\n\u001b[1;32m    893\u001b[0m     \u001b[38;5;66;03m# recursive closures have a cyclic reference to themselves, which\u001b[39;00m\n\u001b[1;32m    894\u001b[0m     \u001b[38;5;66;03m# requires gc to collect (gh-10620). To avoid this problem, for\u001b[39;00m\n\u001b[1;32m    895\u001b[0m     \u001b[38;5;66;03m# performance and PyPy friendliness, we break the cycle:\u001b[39;00m\n\u001b[1;32m    896\u001b[0m     recurser \u001b[38;5;241m=\u001b[39m \u001b[38;5;28;01mNone\u001b[39;00m\n",
      "File \u001b[0;32m~/miniconda3/lib/python3.9/site-packages/numpy/core/arrayprint.py:880\u001b[0m, in \u001b[0;36m_formatArray.<locals>.recurser\u001b[0;34m(index, hanging_indent, curr_width)\u001b[0m\n\u001b[1;32m    876\u001b[0m         nested \u001b[38;5;241m=\u001b[39m recurser(index \u001b[38;5;241m+\u001b[39m (\u001b[38;5;241m-\u001b[39mi,), next_hanging_indent,\n\u001b[1;32m    877\u001b[0m                           next_width)\n\u001b[1;32m    878\u001b[0m         s \u001b[38;5;241m+\u001b[39m\u001b[38;5;241m=\u001b[39m hanging_indent \u001b[38;5;241m+\u001b[39m nested \u001b[38;5;241m+\u001b[39m line_sep\n\u001b[0;32m--> 880\u001b[0m     nested \u001b[38;5;241m=\u001b[39m \u001b[43mrecurser\u001b[49m\u001b[43m(\u001b[49m\u001b[43mindex\u001b[49m\u001b[43m \u001b[49m\u001b[38;5;241;43m+\u001b[39;49m\u001b[43m \u001b[49m\u001b[43m(\u001b[49m\u001b[38;5;241;43m-\u001b[39;49m\u001b[38;5;241;43m1\u001b[39;49m\u001b[43m,\u001b[49m\u001b[43m)\u001b[49m\u001b[43m,\u001b[49m\u001b[43m \u001b[49m\u001b[43mnext_hanging_indent\u001b[49m\u001b[43m,\u001b[49m\u001b[43m \u001b[49m\u001b[43mnext_width\u001b[49m\u001b[43m)\u001b[49m\n\u001b[1;32m    881\u001b[0m     s \u001b[38;5;241m+\u001b[39m\u001b[38;5;241m=\u001b[39m hanging_indent \u001b[38;5;241m+\u001b[39m nested\n\u001b[1;32m    883\u001b[0m \u001b[38;5;66;03m# remove the hanging indent, and wrap in []\u001b[39;00m\n",
      "File \u001b[0;32m~/miniconda3/lib/python3.9/site-packages/numpy/core/arrayprint.py:845\u001b[0m, in \u001b[0;36m_formatArray.<locals>.recurser\u001b[0;34m(index, hanging_indent, curr_width)\u001b[0m\n\u001b[1;32m    842\u001b[0m         line \u001b[38;5;241m+\u001b[39m\u001b[38;5;241m=\u001b[39m separator\n\u001b[1;32m    844\u001b[0m \u001b[38;5;28;01mfor\u001b[39;00m i \u001b[38;5;129;01min\u001b[39;00m \u001b[38;5;28mrange\u001b[39m(trailing_items, \u001b[38;5;241m1\u001b[39m, \u001b[38;5;241m-\u001b[39m\u001b[38;5;241m1\u001b[39m):\n\u001b[0;32m--> 845\u001b[0m     word \u001b[38;5;241m=\u001b[39m \u001b[43mrecurser\u001b[49m\u001b[43m(\u001b[49m\u001b[43mindex\u001b[49m\u001b[43m \u001b[49m\u001b[38;5;241;43m+\u001b[39;49m\u001b[43m \u001b[49m\u001b[43m(\u001b[49m\u001b[38;5;241;43m-\u001b[39;49m\u001b[43mi\u001b[49m\u001b[43m,\u001b[49m\u001b[43m)\u001b[49m\u001b[43m,\u001b[49m\u001b[43m \u001b[49m\u001b[43mnext_hanging_indent\u001b[49m\u001b[43m,\u001b[49m\u001b[43m \u001b[49m\u001b[43mnext_width\u001b[49m\u001b[43m)\u001b[49m\n\u001b[1;32m    846\u001b[0m     s, line \u001b[38;5;241m=\u001b[39m _extendLine_pretty(\n\u001b[1;32m    847\u001b[0m         s, line, word, elem_width, hanging_indent, legacy)\n\u001b[1;32m    848\u001b[0m     line \u001b[38;5;241m+\u001b[39m\u001b[38;5;241m=\u001b[39m separator\n",
      "File \u001b[0;32m~/miniconda3/lib/python3.9/site-packages/numpy/core/arrayprint.py:799\u001b[0m, in \u001b[0;36m_formatArray.<locals>.recurser\u001b[0;34m(index, hanging_indent, curr_width)\u001b[0m\n\u001b[1;32m    796\u001b[0m axes_left \u001b[38;5;241m=\u001b[39m a\u001b[38;5;241m.\u001b[39mndim \u001b[38;5;241m-\u001b[39m axis\n\u001b[1;32m    798\u001b[0m \u001b[38;5;28;01mif\u001b[39;00m axes_left \u001b[38;5;241m==\u001b[39m \u001b[38;5;241m0\u001b[39m:\n\u001b[0;32m--> 799\u001b[0m     \u001b[38;5;28;01mreturn\u001b[39;00m \u001b[43mformat_function\u001b[49m\u001b[43m(\u001b[49m\u001b[43ma\u001b[49m\u001b[43m[\u001b[49m\u001b[43mindex\u001b[49m\u001b[43m]\u001b[49m\u001b[43m)\u001b[49m\n\u001b[1;32m    801\u001b[0m \u001b[38;5;66;03m# when recursing, add a space to align with the [ added, and reduce the\u001b[39;00m\n\u001b[1;32m    802\u001b[0m \u001b[38;5;66;03m# length of the line by 1\u001b[39;00m\n\u001b[1;32m    803\u001b[0m next_hanging_indent \u001b[38;5;241m=\u001b[39m hanging_indent \u001b[38;5;241m+\u001b[39m \u001b[38;5;124m'\u001b[39m\u001b[38;5;124m \u001b[39m\u001b[38;5;124m'\u001b[39m\n",
      "File \u001b[0;32m~/miniconda3/lib/python3.9/site-packages/numpy/core/arrayprint.py:395\u001b[0m, in \u001b[0;36m_object_format\u001b[0;34m(o)\u001b[0m\n\u001b[1;32m    393\u001b[0m \u001b[38;5;28;01melse\u001b[39;00m:\n\u001b[1;32m    394\u001b[0m     fmt \u001b[38;5;241m=\u001b[39m \u001b[38;5;124m'\u001b[39m\u001b[38;5;132;01m{!r}\u001b[39;00m\u001b[38;5;124m'\u001b[39m\n\u001b[0;32m--> 395\u001b[0m \u001b[38;5;28;01mreturn\u001b[39;00m \u001b[43mfmt\u001b[49m\u001b[38;5;241;43m.\u001b[39;49m\u001b[43mformat\u001b[49m\u001b[43m(\u001b[49m\u001b[43mo\u001b[49m\u001b[43m)\u001b[49m\n",
      "File \u001b[0;32m~/.local/lib/python3.9/site-packages/unyt/array.py:581\u001b[0m, in \u001b[0;36munyt_array.__repr__\u001b[0;34m(self)\u001b[0m\n\u001b[1;32m    580\u001b[0m \u001b[38;5;28;01mdef\u001b[39;00m \u001b[38;5;21m__repr__\u001b[39m(\u001b[38;5;28mself\u001b[39m):\n\u001b[0;32m--> 581\u001b[0m     rep \u001b[38;5;241m=\u001b[39m \u001b[38;5;28;43msuper\u001b[39;49m\u001b[43m(\u001b[49m\u001b[43munyt_array\u001b[49m\u001b[43m,\u001b[49m\u001b[43m \u001b[49m\u001b[38;5;28;43mself\u001b[39;49m\u001b[43m)\u001b[49m\u001b[38;5;241;43m.\u001b[39;49m\u001b[38;5;21;43m__repr__\u001b[39;49m\u001b[43m(\u001b[49m\u001b[43m)\u001b[49m\n\u001b[1;32m    582\u001b[0m     units_repr \u001b[38;5;241m=\u001b[39m \u001b[38;5;28mself\u001b[39m\u001b[38;5;241m.\u001b[39munits\u001b[38;5;241m.\u001b[39m\u001b[38;5;21m__repr__\u001b[39m()\n\u001b[1;32m    583\u001b[0m     \u001b[38;5;28;01mif\u001b[39;00m \u001b[38;5;124m\"\u001b[39m\u001b[38;5;124m=\u001b[39m\u001b[38;5;124m\"\u001b[39m \u001b[38;5;129;01min\u001b[39;00m rep:\n",
      "File \u001b[0;32m~/miniconda3/lib/python3.9/site-packages/numpy/core/arrayprint.py:1488\u001b[0m, in \u001b[0;36m_array_repr_implementation\u001b[0;34m(arr, max_line_width, precision, suppress_small, array2string)\u001b[0m\n\u001b[1;32m   1486\u001b[0m     lst \u001b[38;5;241m=\u001b[39m \u001b[38;5;28mrepr\u001b[39m(arr\u001b[38;5;241m.\u001b[39mitem())\n\u001b[1;32m   1487\u001b[0m \u001b[38;5;28;01melif\u001b[39;00m arr\u001b[38;5;241m.\u001b[39msize \u001b[38;5;241m>\u001b[39m \u001b[38;5;241m0\u001b[39m \u001b[38;5;129;01mor\u001b[39;00m arr\u001b[38;5;241m.\u001b[39mshape \u001b[38;5;241m==\u001b[39m (\u001b[38;5;241m0\u001b[39m,):\n\u001b[0;32m-> 1488\u001b[0m     lst \u001b[38;5;241m=\u001b[39m \u001b[43marray2string\u001b[49m\u001b[43m(\u001b[49m\u001b[43marr\u001b[49m\u001b[43m,\u001b[49m\u001b[43m \u001b[49m\u001b[43mmax_line_width\u001b[49m\u001b[43m,\u001b[49m\u001b[43m \u001b[49m\u001b[43mprecision\u001b[49m\u001b[43m,\u001b[49m\u001b[43m \u001b[49m\u001b[43msuppress_small\u001b[49m\u001b[43m,\u001b[49m\n\u001b[1;32m   1489\u001b[0m \u001b[43m                       \u001b[49m\u001b[38;5;124;43m'\u001b[39;49m\u001b[38;5;124;43m, \u001b[39;49m\u001b[38;5;124;43m'\u001b[39;49m\u001b[43m,\u001b[49m\u001b[43m \u001b[49m\u001b[43mprefix\u001b[49m\u001b[43m,\u001b[49m\u001b[43m \u001b[49m\u001b[43msuffix\u001b[49m\u001b[38;5;241;43m=\u001b[39;49m\u001b[43msuffix\u001b[49m\u001b[43m)\u001b[49m\n\u001b[1;32m   1490\u001b[0m \u001b[38;5;28;01melse\u001b[39;00m:  \u001b[38;5;66;03m# show zero-length shape unless it is (0,)\u001b[39;00m\n\u001b[1;32m   1491\u001b[0m     lst \u001b[38;5;241m=\u001b[39m \u001b[38;5;124m\"\u001b[39m\u001b[38;5;124m[], shape=\u001b[39m\u001b[38;5;132;01m%s\u001b[39;00m\u001b[38;5;124m\"\u001b[39m \u001b[38;5;241m%\u001b[39m (\u001b[38;5;28mrepr\u001b[39m(arr\u001b[38;5;241m.\u001b[39mshape),)\n",
      "File \u001b[0;32m~/miniconda3/lib/python3.9/site-packages/numpy/core/arrayprint.py:736\u001b[0m, in \u001b[0;36marray2string\u001b[0;34m(a, max_line_width, precision, suppress_small, separator, prefix, style, formatter, threshold, edgeitems, sign, floatmode, suffix, legacy)\u001b[0m\n\u001b[1;32m    733\u001b[0m \u001b[38;5;28;01mif\u001b[39;00m a\u001b[38;5;241m.\u001b[39msize \u001b[38;5;241m==\u001b[39m \u001b[38;5;241m0\u001b[39m:\n\u001b[1;32m    734\u001b[0m     \u001b[38;5;28;01mreturn\u001b[39;00m \u001b[38;5;124m\"\u001b[39m\u001b[38;5;124m[]\u001b[39m\u001b[38;5;124m\"\u001b[39m\n\u001b[0;32m--> 736\u001b[0m \u001b[38;5;28;01mreturn\u001b[39;00m \u001b[43m_array2string\u001b[49m\u001b[43m(\u001b[49m\u001b[43ma\u001b[49m\u001b[43m,\u001b[49m\u001b[43m \u001b[49m\u001b[43moptions\u001b[49m\u001b[43m,\u001b[49m\u001b[43m \u001b[49m\u001b[43mseparator\u001b[49m\u001b[43m,\u001b[49m\u001b[43m \u001b[49m\u001b[43mprefix\u001b[49m\u001b[43m)\u001b[49m\n",
      "File \u001b[0;32m~/miniconda3/lib/python3.9/site-packages/numpy/core/arrayprint.py:513\u001b[0m, in \u001b[0;36m_recursive_guard.<locals>.decorating_function.<locals>.wrapper\u001b[0;34m(self, *args, **kwargs)\u001b[0m\n\u001b[1;32m    511\u001b[0m repr_running\u001b[38;5;241m.\u001b[39madd(key)\n\u001b[1;32m    512\u001b[0m \u001b[38;5;28;01mtry\u001b[39;00m:\n\u001b[0;32m--> 513\u001b[0m     \u001b[38;5;28;01mreturn\u001b[39;00m \u001b[43mf\u001b[49m\u001b[43m(\u001b[49m\u001b[38;5;28;43mself\u001b[39;49m\u001b[43m,\u001b[49m\u001b[43m \u001b[49m\u001b[38;5;241;43m*\u001b[39;49m\u001b[43margs\u001b[49m\u001b[43m,\u001b[49m\u001b[43m \u001b[49m\u001b[38;5;241;43m*\u001b[39;49m\u001b[38;5;241;43m*\u001b[39;49m\u001b[43mkwargs\u001b[49m\u001b[43m)\u001b[49m\n\u001b[1;32m    514\u001b[0m \u001b[38;5;28;01mfinally\u001b[39;00m:\n\u001b[1;32m    515\u001b[0m     repr_running\u001b[38;5;241m.\u001b[39mdiscard(key)\n",
      "File \u001b[0;32m~/miniconda3/lib/python3.9/site-packages/numpy/core/arrayprint.py:546\u001b[0m, in \u001b[0;36m_array2string\u001b[0;34m(a, options, separator, prefix)\u001b[0m\n\u001b[1;32m    543\u001b[0m \u001b[38;5;66;03m# skip over array(\u001b[39;00m\n\u001b[1;32m    544\u001b[0m next_line_prefix \u001b[38;5;241m+\u001b[39m\u001b[38;5;241m=\u001b[39m \u001b[38;5;124m\"\u001b[39m\u001b[38;5;124m \u001b[39m\u001b[38;5;124m\"\u001b[39m\u001b[38;5;241m*\u001b[39m\u001b[38;5;28mlen\u001b[39m(prefix)\n\u001b[0;32m--> 546\u001b[0m lst \u001b[38;5;241m=\u001b[39m \u001b[43m_formatArray\u001b[49m\u001b[43m(\u001b[49m\u001b[43ma\u001b[49m\u001b[43m,\u001b[49m\u001b[43m \u001b[49m\u001b[43mformat_function\u001b[49m\u001b[43m,\u001b[49m\u001b[43m \u001b[49m\u001b[43moptions\u001b[49m\u001b[43m[\u001b[49m\u001b[38;5;124;43m'\u001b[39;49m\u001b[38;5;124;43mlinewidth\u001b[39;49m\u001b[38;5;124;43m'\u001b[39;49m\u001b[43m]\u001b[49m\u001b[43m,\u001b[49m\n\u001b[1;32m    547\u001b[0m \u001b[43m                   \u001b[49m\u001b[43mnext_line_prefix\u001b[49m\u001b[43m,\u001b[49m\u001b[43m \u001b[49m\u001b[43mseparator\u001b[49m\u001b[43m,\u001b[49m\u001b[43m \u001b[49m\u001b[43moptions\u001b[49m\u001b[43m[\u001b[49m\u001b[38;5;124;43m'\u001b[39;49m\u001b[38;5;124;43medgeitems\u001b[39;49m\u001b[38;5;124;43m'\u001b[39;49m\u001b[43m]\u001b[49m\u001b[43m,\u001b[49m\n\u001b[1;32m    548\u001b[0m \u001b[43m                   \u001b[49m\u001b[43msummary_insert\u001b[49m\u001b[43m,\u001b[49m\u001b[43m \u001b[49m\u001b[43moptions\u001b[49m\u001b[43m[\u001b[49m\u001b[38;5;124;43m'\u001b[39;49m\u001b[38;5;124;43mlegacy\u001b[39;49m\u001b[38;5;124;43m'\u001b[39;49m\u001b[43m]\u001b[49m\u001b[43m)\u001b[49m\n\u001b[1;32m    549\u001b[0m \u001b[38;5;28;01mreturn\u001b[39;00m lst\n",
      "File \u001b[0;32m~/miniconda3/lib/python3.9/site-packages/numpy/core/arrayprint.py:889\u001b[0m, in \u001b[0;36m_formatArray\u001b[0;34m(a, format_function, line_width, next_line_prefix, separator, edge_items, summary_insert, legacy)\u001b[0m\n\u001b[1;32m    885\u001b[0m     \u001b[38;5;28;01mreturn\u001b[39;00m s\n\u001b[1;32m    887\u001b[0m \u001b[38;5;28;01mtry\u001b[39;00m:\n\u001b[1;32m    888\u001b[0m     \u001b[38;5;66;03m# invoke the recursive part with an initial index and prefix\u001b[39;00m\n\u001b[0;32m--> 889\u001b[0m     \u001b[38;5;28;01mreturn\u001b[39;00m \u001b[43mrecurser\u001b[49m\u001b[43m(\u001b[49m\u001b[43mindex\u001b[49m\u001b[38;5;241;43m=\u001b[39;49m\u001b[43m(\u001b[49m\u001b[43m)\u001b[49m\u001b[43m,\u001b[49m\n\u001b[1;32m    890\u001b[0m \u001b[43m                    \u001b[49m\u001b[43mhanging_indent\u001b[49m\u001b[38;5;241;43m=\u001b[39;49m\u001b[43mnext_line_prefix\u001b[49m\u001b[43m,\u001b[49m\n\u001b[1;32m    891\u001b[0m \u001b[43m                    \u001b[49m\u001b[43mcurr_width\u001b[49m\u001b[38;5;241;43m=\u001b[39;49m\u001b[43mline_width\u001b[49m\u001b[43m)\u001b[49m\n\u001b[1;32m    892\u001b[0m \u001b[38;5;28;01mfinally\u001b[39;00m:\n\u001b[1;32m    893\u001b[0m     \u001b[38;5;66;03m# recursive closures have a cyclic reference to themselves, which\u001b[39;00m\n\u001b[1;32m    894\u001b[0m     \u001b[38;5;66;03m# requires gc to collect (gh-10620). To avoid this problem, for\u001b[39;00m\n\u001b[1;32m    895\u001b[0m     \u001b[38;5;66;03m# performance and PyPy friendliness, we break the cycle:\u001b[39;00m\n\u001b[1;32m    896\u001b[0m     recurser \u001b[38;5;241m=\u001b[39m \u001b[38;5;28;01mNone\u001b[39;00m\n",
      "File \u001b[0;32m~/miniconda3/lib/python3.9/site-packages/numpy/core/arrayprint.py:880\u001b[0m, in \u001b[0;36m_formatArray.<locals>.recurser\u001b[0;34m(index, hanging_indent, curr_width)\u001b[0m\n\u001b[1;32m    876\u001b[0m         nested \u001b[38;5;241m=\u001b[39m recurser(index \u001b[38;5;241m+\u001b[39m (\u001b[38;5;241m-\u001b[39mi,), next_hanging_indent,\n\u001b[1;32m    877\u001b[0m                           next_width)\n\u001b[1;32m    878\u001b[0m         s \u001b[38;5;241m+\u001b[39m\u001b[38;5;241m=\u001b[39m hanging_indent \u001b[38;5;241m+\u001b[39m nested \u001b[38;5;241m+\u001b[39m line_sep\n\u001b[0;32m--> 880\u001b[0m     nested \u001b[38;5;241m=\u001b[39m \u001b[43mrecurser\u001b[49m\u001b[43m(\u001b[49m\u001b[43mindex\u001b[49m\u001b[43m \u001b[49m\u001b[38;5;241;43m+\u001b[39;49m\u001b[43m \u001b[49m\u001b[43m(\u001b[49m\u001b[38;5;241;43m-\u001b[39;49m\u001b[38;5;241;43m1\u001b[39;49m\u001b[43m,\u001b[49m\u001b[43m)\u001b[49m\u001b[43m,\u001b[49m\u001b[43m \u001b[49m\u001b[43mnext_hanging_indent\u001b[49m\u001b[43m,\u001b[49m\u001b[43m \u001b[49m\u001b[43mnext_width\u001b[49m\u001b[43m)\u001b[49m\n\u001b[1;32m    881\u001b[0m     s \u001b[38;5;241m+\u001b[39m\u001b[38;5;241m=\u001b[39m hanging_indent \u001b[38;5;241m+\u001b[39m nested\n\u001b[1;32m    883\u001b[0m \u001b[38;5;66;03m# remove the hanging indent, and wrap in []\u001b[39;00m\n",
      "File \u001b[0;32m~/miniconda3/lib/python3.9/site-packages/numpy/core/arrayprint.py:845\u001b[0m, in \u001b[0;36m_formatArray.<locals>.recurser\u001b[0;34m(index, hanging_indent, curr_width)\u001b[0m\n\u001b[1;32m    842\u001b[0m         line \u001b[38;5;241m+\u001b[39m\u001b[38;5;241m=\u001b[39m separator\n\u001b[1;32m    844\u001b[0m \u001b[38;5;28;01mfor\u001b[39;00m i \u001b[38;5;129;01min\u001b[39;00m \u001b[38;5;28mrange\u001b[39m(trailing_items, \u001b[38;5;241m1\u001b[39m, \u001b[38;5;241m-\u001b[39m\u001b[38;5;241m1\u001b[39m):\n\u001b[0;32m--> 845\u001b[0m     word \u001b[38;5;241m=\u001b[39m \u001b[43mrecurser\u001b[49m\u001b[43m(\u001b[49m\u001b[43mindex\u001b[49m\u001b[43m \u001b[49m\u001b[38;5;241;43m+\u001b[39;49m\u001b[43m \u001b[49m\u001b[43m(\u001b[49m\u001b[38;5;241;43m-\u001b[39;49m\u001b[43mi\u001b[49m\u001b[43m,\u001b[49m\u001b[43m)\u001b[49m\u001b[43m,\u001b[49m\u001b[43m \u001b[49m\u001b[43mnext_hanging_indent\u001b[49m\u001b[43m,\u001b[49m\u001b[43m \u001b[49m\u001b[43mnext_width\u001b[49m\u001b[43m)\u001b[49m\n\u001b[1;32m    846\u001b[0m     s, line \u001b[38;5;241m=\u001b[39m _extendLine_pretty(\n\u001b[1;32m    847\u001b[0m         s, line, word, elem_width, hanging_indent, legacy)\n\u001b[1;32m    848\u001b[0m     line \u001b[38;5;241m+\u001b[39m\u001b[38;5;241m=\u001b[39m separator\n",
      "File \u001b[0;32m~/miniconda3/lib/python3.9/site-packages/numpy/core/arrayprint.py:799\u001b[0m, in \u001b[0;36m_formatArray.<locals>.recurser\u001b[0;34m(index, hanging_indent, curr_width)\u001b[0m\n\u001b[1;32m    796\u001b[0m axes_left \u001b[38;5;241m=\u001b[39m a\u001b[38;5;241m.\u001b[39mndim \u001b[38;5;241m-\u001b[39m axis\n\u001b[1;32m    798\u001b[0m \u001b[38;5;28;01mif\u001b[39;00m axes_left \u001b[38;5;241m==\u001b[39m \u001b[38;5;241m0\u001b[39m:\n\u001b[0;32m--> 799\u001b[0m     \u001b[38;5;28;01mreturn\u001b[39;00m format_function(\u001b[43ma\u001b[49m\u001b[43m[\u001b[49m\u001b[43mindex\u001b[49m\u001b[43m]\u001b[49m)\n\u001b[1;32m    801\u001b[0m \u001b[38;5;66;03m# when recursing, add a space to align with the [ added, and reduce the\u001b[39;00m\n\u001b[1;32m    802\u001b[0m \u001b[38;5;66;03m# length of the line by 1\u001b[39;00m\n\u001b[1;32m    803\u001b[0m next_hanging_indent \u001b[38;5;241m=\u001b[39m hanging_indent \u001b[38;5;241m+\u001b[39m \u001b[38;5;124m'\u001b[39m\u001b[38;5;124m \u001b[39m\u001b[38;5;124m'\u001b[39m\n",
      "File \u001b[0;32m~/.local/lib/python3.9/site-packages/unyt/array.py:1627\u001b[0m, in \u001b[0;36munyt_array.__getitem__\u001b[0;34m(self, item)\u001b[0m\n\u001b[1;32m   1625\u001b[0m \u001b[38;5;28;01mdef\u001b[39;00m \u001b[38;5;21m__getitem__\u001b[39m(\u001b[38;5;28mself\u001b[39m, item):\n\u001b[1;32m   1626\u001b[0m     ret \u001b[38;5;241m=\u001b[39m \u001b[38;5;28msuper\u001b[39m(unyt_array, \u001b[38;5;28mself\u001b[39m)\u001b[38;5;241m.\u001b[39m\u001b[38;5;21m__getitem__\u001b[39m(item)\n\u001b[0;32m-> 1627\u001b[0m     \u001b[38;5;28;01mif\u001b[39;00m \u001b[43mret\u001b[49m\u001b[38;5;241;43m.\u001b[39;49m\u001b[43mshape\u001b[49m \u001b[38;5;241m==\u001b[39m ():\n\u001b[1;32m   1628\u001b[0m         \u001b[38;5;28;01mreturn\u001b[39;00m unyt_quantity(\n\u001b[1;32m   1629\u001b[0m             ret, \u001b[38;5;28mself\u001b[39m\u001b[38;5;241m.\u001b[39munits, bypass_validation\u001b[38;5;241m=\u001b[39m\u001b[38;5;28;01mTrue\u001b[39;00m, name\u001b[38;5;241m=\u001b[39m\u001b[38;5;28mself\u001b[39m\u001b[38;5;241m.\u001b[39mname\n\u001b[1;32m   1630\u001b[0m         )\n\u001b[1;32m   1631\u001b[0m     \u001b[38;5;28;01melse\u001b[39;00m:\n",
      "\u001b[0;31mAttributeError\u001b[0m: 'float' object has no attribute 'shape'"
     ]
    }
   ],
   "source": [
    "print(loc_allstars)"
   ]
  },
  {
   "cell_type": "code",
   "execution_count": 15,
   "id": "d9a3f512",
   "metadata": {},
   "outputs": [
    {
     "name": "stdout",
     "output_type": "stream",
     "text": [
      "(1, 77, 3)\n"
     ]
    }
   ],
   "source": [
    "print(np.shape(starry_cen))"
   ]
  },
  {
   "cell_type": "code",
   "execution_count": null,
   "id": "b04407e6",
   "metadata": {},
   "outputs": [],
   "source": []
  }
 ],
 "metadata": {
  "kernelspec": {
   "display_name": "Python 3 (ipykernel)",
   "language": "python",
   "name": "python3"
  },
  "language_info": {
   "codemirror_mode": {
    "name": "ipython",
    "version": 3
   },
   "file_extension": ".py",
   "mimetype": "text/x-python",
   "name": "python",
   "nbconvert_exporter": "python",
   "pygments_lexer": "ipython3",
   "version": "3.9.13"
  }
 },
 "nbformat": 4,
 "nbformat_minor": 5
}
