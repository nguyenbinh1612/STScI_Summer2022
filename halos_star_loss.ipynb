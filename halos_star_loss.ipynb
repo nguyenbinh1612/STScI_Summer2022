{
 "cells": [
  {
   "cell_type": "code",
   "execution_count": 1,
   "id": "21144156",
   "metadata": {},
   "outputs": [],
   "source": [
    "import h5py\n",
    "import tangos as db\n",
    "import numpy as np\n",
    "import matplotlib.pyplot as plt\n",
    "from mpl_toolkits.axes_grid1 import AxesGrid\n",
    "import random\n",
    "\n",
    "import foggie.utils.foggie_load as fog\n",
    "import yt\n",
    "from yt.units.yt_array import YTQuantity, YTArray\n",
    "from yt.data_objects.particle_filters import add_particle_filter\n",
    "\n",
    "import glob\n",
    "from tangos.examples.misc import timestep_index"
   ]
  },
  {
   "cell_type": "code",
   "execution_count": 2,
   "id": "e6b744b3",
   "metadata": {},
   "outputs": [],
   "source": [
    "tslist = glob.glob('/Volumes/TempestTimeSteps/DD????/DD????') \n",
    "tslist.sort()"
   ]
  },
  {
   "cell_type": "code",
   "execution_count": 3,
   "id": "64989f60",
   "metadata": {},
   "outputs": [
    {
     "data": {
      "text/plain": [
       "[<Simulation(\"Tempest.9f11c.all.DD\")>]"
      ]
     },
     "execution_count": 3,
     "metadata": {},
     "output_type": "execute_result"
    }
   ],
   "source": [
    "db.all_simulations()"
   ]
  },
  {
   "cell_type": "code",
   "execution_count": 4,
   "id": "ec9c64c7",
   "metadata": {},
   "outputs": [],
   "source": [
    "sim = db.get_simulation('Tempest.9f11c.all.DD')"
   ]
  },
  {
   "cell_type": "code",
   "execution_count": 7,
   "id": "c66e2776",
   "metadata": {},
   "outputs": [
    {
     "name": "stderr",
     "output_type": "stream",
     "text": [
      "yt : [WARNING  ] 2022-07-13 09:33:41,293 The stars particle filter already exists. Overriding.\n",
      "yt : [WARNING  ] 2022-07-13 09:33:41,295 The DM particle filter already exists. Overriding.\n",
      "yt : [INFO     ] 2022-07-13 09:33:41,392 Parameters: current_time              = 44.816527818285\n",
      "yt : [INFO     ] 2022-07-13 09:33:41,395 Parameters: domain_dimensions         = [256 256 256]\n",
      "yt : [INFO     ] 2022-07-13 09:33:41,399 Parameters: domain_left_edge          = [0. 0. 0.]\n",
      "yt : [INFO     ] 2022-07-13 09:33:41,403 Parameters: domain_right_edge         = [1. 1. 1.]\n",
      "yt : [INFO     ] 2022-07-13 09:33:41,404 Parameters: cosmological_simulation   = 1\n",
      "yt : [INFO     ] 2022-07-13 09:33:41,405 Parameters: current_redshift          = 5.9180766004715\n",
      "yt : [INFO     ] 2022-07-13 09:33:41,405 Parameters: omega_lambda              = 0.715\n",
      "yt : [INFO     ] 2022-07-13 09:33:41,406 Parameters: omega_matter              = 0.285\n",
      "yt : [INFO     ] 2022-07-13 09:33:41,407 Parameters: omega_radiation           = 0.0\n",
      "yt : [INFO     ] 2022-07-13 09:33:41,407 Parameters: hubble_constant           = 0.695\n"
     ]
    },
    {
     "name": "stdout",
     "output_type": "stream",
     "text": [
      "Opening snapshot /Volumes/TempestTimeSteps/DD0047/DD0047\n",
      "get_refine_box: using this location:      col1       col2     col3     col4     col5     col6     col7   col8\n",
      "------------- -------- -------- -------- -------- -------- -------- ----\n",
      "5.91807660047 0.495372 0.494815 0.499965 0.497372 0.496815 0.501965    9\n"
     ]
    },
    {
     "name": "stderr",
     "output_type": "stream",
     "text": [
      "Parsing Hierarchy : 100%|████████████████| 2486/2486 [00:00<00:00, 17053.11it/s]\n",
      "yt : [INFO     ] 2022-07-13 09:33:41,925 Gathering a field list (this may take a moment.)\n",
      "yt : [WARNING  ] 2022-07-13 09:33:44,677 The stars particle filter already exists. Overriding.\n",
      "yt : [WARNING  ] 2022-07-13 09:33:44,678 The DM particle filter already exists. Overriding.\n"
     ]
    },
    {
     "name": "stdout",
     "output_type": "stream",
     "text": [
      "Pulling halo center from catalog file\n",
      "Opening snapshot /Volumes/TempestTimeSteps/DD0067/DD0067\n"
     ]
    },
    {
     "name": "stderr",
     "output_type": "stream",
     "text": [
      "yt : [INFO     ] 2022-07-13 09:33:44,848 Parameters: current_time              = 49.816527818285\n",
      "yt : [INFO     ] 2022-07-13 09:33:44,851 Parameters: domain_dimensions         = [256 256 256]\n",
      "yt : [INFO     ] 2022-07-13 09:33:44,854 Parameters: domain_left_edge          = [0. 0. 0.]\n",
      "yt : [INFO     ] 2022-07-13 09:33:44,857 Parameters: domain_right_edge         = [1. 1. 1.]\n",
      "yt : [INFO     ] 2022-07-13 09:33:44,858 Parameters: cosmological_simulation   = 1\n",
      "yt : [INFO     ] 2022-07-13 09:33:44,859 Parameters: current_redshift          = 5.4457876966805\n",
      "yt : [INFO     ] 2022-07-13 09:33:44,860 Parameters: omega_lambda              = 0.715\n",
      "yt : [INFO     ] 2022-07-13 09:33:44,860 Parameters: omega_matter              = 0.285\n",
      "yt : [INFO     ] 2022-07-13 09:33:44,861 Parameters: omega_radiation           = 0.0\n",
      "yt : [INFO     ] 2022-07-13 09:33:44,862 Parameters: hubble_constant           = 0.695\n"
     ]
    },
    {
     "name": "stdout",
     "output_type": "stream",
     "text": [
      "get_refine_box: using this location:      col1       col2     col3     col4     col5     col6     col7   col8\n",
      "------------- -------- -------- -------- -------- -------- -------- ----\n",
      "5.44578769668 0.495286 0.494378 0.499998 0.497286 0.496378 0.501998    9\n"
     ]
    },
    {
     "name": "stderr",
     "output_type": "stream",
     "text": [
      "Parsing Hierarchy : 100%|████████████████| 2552/2552 [00:00<00:00, 17009.67it/s]\n",
      "yt : [INFO     ] 2022-07-13 09:33:45,200 Gathering a field list (this may take a moment.)\n",
      "yt : [WARNING  ] 2022-07-13 09:33:48,385 The stars particle filter already exists. Overriding.\n",
      "yt : [WARNING  ] 2022-07-13 09:33:48,386 The DM particle filter already exists. Overriding.\n",
      "yt : [INFO     ] 2022-07-13 09:33:48,489 Parameters: current_time              = 54.816527818285\n",
      "yt : [INFO     ] 2022-07-13 09:33:48,491 Parameters: domain_dimensions         = [256 256 256]\n",
      "yt : [INFO     ] 2022-07-13 09:33:48,494 Parameters: domain_left_edge          = [0. 0. 0.]\n",
      "yt : [INFO     ] 2022-07-13 09:33:48,497 Parameters: domain_right_edge         = [1. 1. 1.]\n",
      "yt : [INFO     ] 2022-07-13 09:33:48,497 Parameters: cosmological_simulation   = 1\n",
      "yt : [INFO     ] 2022-07-13 09:33:48,498 Parameters: current_redshift          = 5.0462906237837\n",
      "yt : [INFO     ] 2022-07-13 09:33:48,498 Parameters: omega_lambda              = 0.715\n",
      "yt : [INFO     ] 2022-07-13 09:33:48,499 Parameters: omega_matter              = 0.285\n",
      "yt : [INFO     ] 2022-07-13 09:33:48,500 Parameters: omega_radiation           = 0.0\n",
      "yt : [INFO     ] 2022-07-13 09:33:48,500 Parameters: hubble_constant           = 0.695\n"
     ]
    },
    {
     "name": "stdout",
     "output_type": "stream",
     "text": [
      "Pulling halo center from catalog file\n",
      "Opening snapshot /Volumes/TempestTimeSteps/DD0087/DD0087\n",
      "get_refine_box: using this location:      col1       col2     col3     col4     col5     col6     col7   col8\n",
      "------------- -------- -------- -------- -------- -------- -------- ----\n",
      "5.04629062378 0.495184 0.493952 0.500023 0.497184 0.495952 0.502023    9\n"
     ]
    },
    {
     "name": "stderr",
     "output_type": "stream",
     "text": [
      "Parsing Hierarchy : 100%|████████████████| 3377/3377 [00:00<00:00, 16680.01it/s]\n",
      "yt : [INFO     ] 2022-07-13 09:33:48,946 Gathering a field list (this may take a moment.)\n",
      "yt : [WARNING  ] 2022-07-13 09:33:51,935 The stars particle filter already exists. Overriding.\n",
      "yt : [WARNING  ] 2022-07-13 09:33:51,935 The DM particle filter already exists. Overriding.\n"
     ]
    },
    {
     "name": "stdout",
     "output_type": "stream",
     "text": [
      "Pulling halo center from catalog file\n",
      "Opening snapshot /Volumes/TempestTimeSteps/DD0107/DD0107\n"
     ]
    },
    {
     "name": "stderr",
     "output_type": "stream",
     "text": [
      "yt : [INFO     ] 2022-07-13 09:33:52,109 Parameters: current_time              = 59.816527818285\n",
      "yt : [INFO     ] 2022-07-13 09:33:52,111 Parameters: domain_dimensions         = [256 256 256]\n",
      "yt : [INFO     ] 2022-07-13 09:33:52,115 Parameters: domain_left_edge          = [0. 0. 0.]\n",
      "yt : [INFO     ] 2022-07-13 09:33:52,118 Parameters: domain_right_edge         = [1. 1. 1.]\n",
      "yt : [INFO     ] 2022-07-13 09:33:52,119 Parameters: cosmological_simulation   = 1\n",
      "yt : [INFO     ] 2022-07-13 09:33:52,120 Parameters: current_redshift          = 4.7031121100648\n",
      "yt : [INFO     ] 2022-07-13 09:33:52,121 Parameters: omega_lambda              = 0.715\n",
      "yt : [INFO     ] 2022-07-13 09:33:52,121 Parameters: omega_matter              = 0.285\n",
      "yt : [INFO     ] 2022-07-13 09:33:52,122 Parameters: omega_radiation           = 0.0\n",
      "yt : [INFO     ] 2022-07-13 09:33:52,123 Parameters: hubble_constant           = 0.695\n"
     ]
    },
    {
     "name": "stdout",
     "output_type": "stream",
     "text": [
      "get_refine_box: using this location:      col1       col2     col3     col4     col5     col6     col7   col8\n",
      "------------- -------- -------- -------- -------- -------- -------- ----\n",
      "4.70311211006 0.495072 0.493546 0.500035 0.497072 0.495546 0.502035    9\n"
     ]
    },
    {
     "name": "stderr",
     "output_type": "stream",
     "text": [
      "Parsing Hierarchy : 100%|████████████████| 2935/2935 [00:00<00:00, 16800.50it/s]\n",
      "yt : [INFO     ] 2022-07-13 09:33:52,488 Gathering a field list (this may take a moment.)\n",
      "yt : [WARNING  ] 2022-07-13 09:33:55,151 The stars particle filter already exists. Overriding.\n",
      "yt : [WARNING  ] 2022-07-13 09:33:55,152 The DM particle filter already exists. Overriding.\n",
      "yt : [INFO     ] 2022-07-13 09:33:55,258 Parameters: current_time              = 64.816527818285\n",
      "yt : [INFO     ] 2022-07-13 09:33:55,260 Parameters: domain_dimensions         = [256 256 256]\n",
      "yt : [INFO     ] 2022-07-13 09:33:55,263 Parameters: domain_left_edge          = [0. 0. 0.]\n",
      "yt : [INFO     ] 2022-07-13 09:33:55,266 Parameters: domain_right_edge         = [1. 1. 1.]\n",
      "yt : [INFO     ] 2022-07-13 09:33:55,266 Parameters: cosmological_simulation   = 1\n",
      "yt : [INFO     ] 2022-07-13 09:33:55,267 Parameters: current_redshift          = 4.4045037292232\n",
      "yt : [INFO     ] 2022-07-13 09:33:55,267 Parameters: omega_lambda              = 0.715\n",
      "yt : [INFO     ] 2022-07-13 09:33:55,268 Parameters: omega_matter              = 0.285\n",
      "yt : [INFO     ] 2022-07-13 09:33:55,268 Parameters: omega_radiation           = 0.0\n",
      "yt : [INFO     ] 2022-07-13 09:33:55,269 Parameters: hubble_constant           = 0.695\n"
     ]
    },
    {
     "name": "stdout",
     "output_type": "stream",
     "text": [
      "Pulling halo center from catalog file\n",
      "Opening snapshot /Volumes/TempestTimeSteps/DD0127/DD0127\n",
      "get_refine_box: using this location:      col1       col2     col3     col4     col5     col6     col7   col8\n",
      "------------- -------- -------- -------- -------- -------- -------- ----\n",
      "4.40450372922 0.494955 0.493147 0.500046 0.496955 0.495147 0.502046    9\n"
     ]
    },
    {
     "name": "stderr",
     "output_type": "stream",
     "text": [
      "Parsing Hierarchy : 100%|█████████████████| 3485/3485 [00:00<00:00, 6838.85it/s]\n",
      "yt : [INFO     ] 2022-07-13 09:33:56,053 Gathering a field list (this may take a moment.)\n",
      "yt : [WARNING  ] 2022-07-13 09:33:58,967 The stars particle filter already exists. Overriding.\n",
      "yt : [WARNING  ] 2022-07-13 09:33:58,968 The DM particle filter already exists. Overriding.\n",
      "yt : [INFO     ] 2022-07-13 09:33:59,085 Parameters: current_time              = 69.816527818285\n",
      "yt : [INFO     ] 2022-07-13 09:33:59,087 Parameters: domain_dimensions         = [256 256 256]\n",
      "yt : [INFO     ] 2022-07-13 09:33:59,090 Parameters: domain_left_edge          = [0. 0. 0.]\n",
      "yt : [INFO     ] 2022-07-13 09:33:59,092 Parameters: domain_right_edge         = [1. 1. 1.]\n",
      "yt : [INFO     ] 2022-07-13 09:33:59,093 Parameters: cosmological_simulation   = 1\n",
      "yt : [INFO     ] 2022-07-13 09:33:59,093 Parameters: current_redshift          = 4.1418420875174\n",
      "yt : [INFO     ] 2022-07-13 09:33:59,094 Parameters: omega_lambda              = 0.715\n",
      "yt : [INFO     ] 2022-07-13 09:33:59,094 Parameters: omega_matter              = 0.285\n",
      "yt : [INFO     ] 2022-07-13 09:33:59,095 Parameters: omega_radiation           = 0.0\n",
      "yt : [INFO     ] 2022-07-13 09:33:59,095 Parameters: hubble_constant           = 0.695\n"
     ]
    },
    {
     "name": "stdout",
     "output_type": "stream",
     "text": [
      "Pulling halo center from catalog file\n",
      "Opening snapshot /Volumes/TempestTimeSteps/DD0147/DD0147\n",
      "get_refine_box: using this location:      col1       col2     col3     col4    col5     col6     col7  col8\n",
      "------------- -------- -------- ------- -------- -------- ------- ----\n",
      "4.14184208752 0.494868 0.492768 0.50004 0.496868 0.494768 0.50204    9\n"
     ]
    },
    {
     "name": "stderr",
     "output_type": "stream",
     "text": [
      "Parsing Hierarchy : 100%|█████████████████| 6292/6292 [00:00<00:00, 9298.10it/s]\n",
      "yt : [INFO     ] 2022-07-13 09:34:00,083 Gathering a field list (this may take a moment.)\n",
      "yt : [WARNING  ] 2022-07-13 09:34:03,326 The stars particle filter already exists. Overriding.\n",
      "yt : [WARNING  ] 2022-07-13 09:34:03,327 The DM particle filter already exists. Overriding.\n"
     ]
    },
    {
     "name": "stdout",
     "output_type": "stream",
     "text": [
      "Pulling halo center from catalog file\n",
      "Opening snapshot /Volumes/TempestTimeSteps/DD0167/DD0167\n"
     ]
    },
    {
     "name": "stderr",
     "output_type": "stream",
     "text": [
      "yt : [INFO     ] 2022-07-13 09:34:03,446 Parameters: current_time              = 74.816527818285\n",
      "yt : [INFO     ] 2022-07-13 09:34:03,450 Parameters: domain_dimensions         = [256 256 256]\n",
      "yt : [INFO     ] 2022-07-13 09:34:03,454 Parameters: domain_left_edge          = [0. 0. 0.]\n",
      "yt : [INFO     ] 2022-07-13 09:34:03,458 Parameters: domain_right_edge         = [1. 1. 1.]\n",
      "yt : [INFO     ] 2022-07-13 09:34:03,459 Parameters: cosmological_simulation   = 1\n",
      "yt : [INFO     ] 2022-07-13 09:34:03,460 Parameters: current_redshift          = 3.9086423517129\n",
      "yt : [INFO     ] 2022-07-13 09:34:03,461 Parameters: omega_lambda              = 0.715\n",
      "yt : [INFO     ] 2022-07-13 09:34:03,462 Parameters: omega_matter              = 0.285\n",
      "yt : [INFO     ] 2022-07-13 09:34:03,463 Parameters: omega_radiation           = 0.0\n",
      "yt : [INFO     ] 2022-07-13 09:34:03,463 Parameters: hubble_constant           = 0.695\n"
     ]
    },
    {
     "name": "stdout",
     "output_type": "stream",
     "text": [
      "get_refine_box: using this location:      col1       col2     col3     col4     col5     col6     col7   col8\n",
      "------------- -------- -------- -------- -------- -------- -------- ----\n",
      "3.90864235171 0.494765 0.492417 0.500025 0.496765 0.494417 0.502025    9\n"
     ]
    },
    {
     "name": "stderr",
     "output_type": "stream",
     "text": [
      "Parsing Hierarchy : 100%|█████████████████| 6349/6349 [00:00<00:00, 7944.78it/s]\n",
      "yt : [INFO     ] 2022-07-13 09:34:04,605 Gathering a field list (this may take a moment.)\n",
      "yt : [WARNING  ] 2022-07-13 09:34:07,713 The stars particle filter already exists. Overriding.\n",
      "yt : [WARNING  ] 2022-07-13 09:34:07,714 The DM particle filter already exists. Overriding.\n"
     ]
    },
    {
     "name": "stdout",
     "output_type": "stream",
     "text": [
      "Pulling halo center from catalog file\n",
      "Opening snapshot /Volumes/TempestTimeSteps/DD0187/DD0187\n"
     ]
    },
    {
     "name": "stderr",
     "output_type": "stream",
     "text": [
      "yt : [INFO     ] 2022-07-13 09:34:07,850 Parameters: current_time              = 79.816527818285\n",
      "yt : [INFO     ] 2022-07-13 09:34:07,854 Parameters: domain_dimensions         = [256 256 256]\n",
      "yt : [INFO     ] 2022-07-13 09:34:07,858 Parameters: domain_left_edge          = [0. 0. 0.]\n",
      "yt : [INFO     ] 2022-07-13 09:34:07,862 Parameters: domain_right_edge         = [1. 1. 1.]\n",
      "yt : [INFO     ] 2022-07-13 09:34:07,863 Parameters: cosmological_simulation   = 1\n",
      "yt : [INFO     ] 2022-07-13 09:34:07,863 Parameters: current_redshift          = 3.6999259804031\n",
      "yt : [INFO     ] 2022-07-13 09:34:07,866 Parameters: omega_lambda              = 0.715\n",
      "yt : [INFO     ] 2022-07-13 09:34:07,867 Parameters: omega_matter              = 0.285\n",
      "yt : [INFO     ] 2022-07-13 09:34:07,867 Parameters: omega_radiation           = 0.0\n",
      "yt : [INFO     ] 2022-07-13 09:34:07,868 Parameters: hubble_constant           = 0.695\n"
     ]
    },
    {
     "name": "stdout",
     "output_type": "stream",
     "text": [
      "get_refine_box: using this location:     col1       col2     col3     col4     col5     col6     col7   col8\n",
      "------------ -------- -------- -------- -------- -------- -------- ----\n",
      "3.6999259804 0.494633 0.492127 0.500014 0.496633 0.494127 0.502014    9\n"
     ]
    },
    {
     "name": "stderr",
     "output_type": "stream",
     "text": [
      "Parsing Hierarchy : 100%|█████████████████| 6152/6152 [00:00<00:00, 8053.78it/s]\n",
      "yt : [INFO     ] 2022-07-13 09:34:09,021 Gathering a field list (this may take a moment.)\n",
      "yt : [WARNING  ] 2022-07-13 09:34:11,885 The stars particle filter already exists. Overriding.\n",
      "yt : [WARNING  ] 2022-07-13 09:34:11,886 The DM particle filter already exists. Overriding.\n",
      "yt : [INFO     ] 2022-07-13 09:34:11,986 Parameters: current_time              = 84.816527818285\n"
     ]
    },
    {
     "name": "stdout",
     "output_type": "stream",
     "text": [
      "Pulling halo center from catalog file\n",
      "Opening snapshot /Volumes/TempestTimeSteps/DD0207/DD0207\n"
     ]
    },
    {
     "name": "stderr",
     "output_type": "stream",
     "text": [
      "yt : [INFO     ] 2022-07-13 09:34:11,988 Parameters: domain_dimensions         = [256 256 256]\n",
      "yt : [INFO     ] 2022-07-13 09:34:11,991 Parameters: domain_left_edge          = [0. 0. 0.]\n",
      "yt : [INFO     ] 2022-07-13 09:34:11,994 Parameters: domain_right_edge         = [1. 1. 1.]\n",
      "yt : [INFO     ] 2022-07-13 09:34:11,994 Parameters: cosmological_simulation   = 1\n",
      "yt : [INFO     ] 2022-07-13 09:34:11,995 Parameters: current_redshift          = 3.5118019373691\n",
      "yt : [INFO     ] 2022-07-13 09:34:11,995 Parameters: omega_lambda              = 0.715\n",
      "yt : [INFO     ] 2022-07-13 09:34:11,996 Parameters: omega_matter              = 0.285\n",
      "yt : [INFO     ] 2022-07-13 09:34:11,996 Parameters: omega_radiation           = 0.0\n",
      "yt : [INFO     ] 2022-07-13 09:34:11,997 Parameters: hubble_constant           = 0.695\n"
     ]
    },
    {
     "name": "stdout",
     "output_type": "stream",
     "text": [
      "get_refine_box: using this location:      col1       col2     col3     col4     col5     col6     col7   col8\n",
      "------------- -------- -------- -------- -------- -------- -------- ----\n",
      "3.51180193737 0.494517 0.491822 0.500016 0.496517 0.493822 0.502016    9\n"
     ]
    },
    {
     "name": "stderr",
     "output_type": "stream",
     "text": [
      "Parsing Hierarchy : 100%|█████████████████| 7873/7873 [00:00<00:00, 8405.06it/s]\n",
      "yt : [INFO     ] 2022-07-13 09:34:13,292 Gathering a field list (this may take a moment.)\n",
      "yt : [WARNING  ] 2022-07-13 09:34:16,446 The stars particle filter already exists. Overriding.\n",
      "yt : [WARNING  ] 2022-07-13 09:34:16,446 The DM particle filter already exists. Overriding.\n"
     ]
    },
    {
     "name": "stdout",
     "output_type": "stream",
     "text": [
      "Pulling halo center from catalog file\n",
      "Opening snapshot /Volumes/TempestTimeSteps/DD0227/DD0227\n"
     ]
    },
    {
     "name": "stderr",
     "output_type": "stream",
     "text": [
      "yt : [INFO     ] 2022-07-13 09:34:16,583 Parameters: current_time              = 89.816527818285\n",
      "yt : [INFO     ] 2022-07-13 09:34:16,587 Parameters: domain_dimensions         = [256 256 256]\n",
      "yt : [INFO     ] 2022-07-13 09:34:16,590 Parameters: domain_left_edge          = [0. 0. 0.]\n",
      "yt : [INFO     ] 2022-07-13 09:34:16,593 Parameters: domain_right_edge         = [1. 1. 1.]\n",
      "yt : [INFO     ] 2022-07-13 09:34:16,594 Parameters: cosmological_simulation   = 1\n",
      "yt : [INFO     ] 2022-07-13 09:34:16,595 Parameters: current_redshift          = 3.3411813479609\n",
      "yt : [INFO     ] 2022-07-13 09:34:16,598 Parameters: omega_lambda              = 0.715\n",
      "yt : [INFO     ] 2022-07-13 09:34:16,599 Parameters: omega_matter              = 0.285\n",
      "yt : [INFO     ] 2022-07-13 09:34:16,600 Parameters: omega_radiation           = 0.0\n",
      "yt : [INFO     ] 2022-07-13 09:34:16,601 Parameters: hubble_constant           = 0.695\n"
     ]
    },
    {
     "name": "stdout",
     "output_type": "stream",
     "text": [
      "get_refine_box: using this location:      col1       col2     col3     col4     col5     col6     col7   col8\n",
      "------------- -------- -------- -------- -------- -------- -------- ----\n",
      "3.34118134796 0.494362 0.491438 0.500094 0.496362 0.493438 0.502094    9\n"
     ]
    },
    {
     "name": "stderr",
     "output_type": "stream",
     "text": [
      "Parsing Hierarchy : 100%|███████████████| 10646/10646 [00:01<00:00, 8714.75it/s]\n",
      "yt : [INFO     ] 2022-07-13 09:34:18,215 Gathering a field list (this may take a moment.)\n",
      "yt : [WARNING  ] 2022-07-13 09:34:20,971 The stars particle filter already exists. Overriding.\n",
      "yt : [WARNING  ] 2022-07-13 09:34:20,971 The DM particle filter already exists. Overriding.\n",
      "yt : [INFO     ] 2022-07-13 09:34:21,067 Parameters: current_time              = 94.816527818285\n",
      "yt : [INFO     ] 2022-07-13 09:34:21,069 Parameters: domain_dimensions         = [256 256 256]\n",
      "yt : [INFO     ] 2022-07-13 09:34:21,072 Parameters: domain_left_edge          = [0. 0. 0.]\n",
      "yt : [INFO     ] 2022-07-13 09:34:21,075 Parameters: domain_right_edge         = [1. 1. 1.]\n",
      "yt : [INFO     ] 2022-07-13 09:34:21,075 Parameters: cosmological_simulation   = 1\n",
      "yt : [INFO     ] 2022-07-13 09:34:21,076 Parameters: current_redshift          = 3.1855782341013\n",
      "yt : [INFO     ] 2022-07-13 09:34:21,076 Parameters: omega_lambda              = 0.715\n",
      "yt : [INFO     ] 2022-07-13 09:34:21,077 Parameters: omega_matter              = 0.285\n",
      "yt : [INFO     ] 2022-07-13 09:34:21,078 Parameters: omega_radiation           = 0.0\n",
      "yt : [INFO     ] 2022-07-13 09:34:21,079 Parameters: hubble_constant           = 0.695\n"
     ]
    },
    {
     "name": "stdout",
     "output_type": "stream",
     "text": [
      "Pulling halo center from catalog file\n",
      "Opening snapshot /Volumes/TempestTimeSteps/DD0247/DD0247\n",
      "get_refine_box: using this location:     col1       col2     col3     col4     col5     col6     col7   col8\n",
      "------------ -------- -------- -------- -------- -------- -------- ----\n",
      "3.1855782341 0.494234 0.491145 0.500166 0.496234 0.493145 0.502166    9\n"
     ]
    },
    {
     "name": "stderr",
     "output_type": "stream",
     "text": [
      "Parsing Hierarchy : 100%|██████████████| 10738/10738 [00:00<00:00, 18871.70it/s]\n",
      "yt : [INFO     ] 2022-07-13 09:34:22,060 Gathering a field list (this may take a moment.)\n",
      "yt : [WARNING  ] 2022-07-13 09:34:25,511 The stars particle filter already exists. Overriding.\n",
      "yt : [WARNING  ] 2022-07-13 09:34:25,512 The DM particle filter already exists. Overriding.\n",
      "yt : [INFO     ] 2022-07-13 09:34:25,604 Parameters: current_time              = 99.816527818285\n",
      "yt : [INFO     ] 2022-07-13 09:34:25,607 Parameters: domain_dimensions         = [256 256 256]\n",
      "yt : [INFO     ] 2022-07-13 09:34:25,609 Parameters: domain_left_edge          = [0. 0. 0.]\n",
      "yt : [INFO     ] 2022-07-13 09:34:25,612 Parameters: domain_right_edge         = [1. 1. 1.]\n",
      "yt : [INFO     ] 2022-07-13 09:34:25,612 Parameters: cosmological_simulation   = 1\n",
      "yt : [INFO     ] 2022-07-13 09:34:25,613 Parameters: current_redshift          = 3.0429673207448\n",
      "yt : [INFO     ] 2022-07-13 09:34:25,613 Parameters: omega_lambda              = 0.715\n",
      "yt : [INFO     ] 2022-07-13 09:34:25,614 Parameters: omega_matter              = 0.285\n",
      "yt : [INFO     ] 2022-07-13 09:34:25,614 Parameters: omega_radiation           = 0.0\n",
      "yt : [INFO     ] 2022-07-13 09:34:25,615 Parameters: hubble_constant           = 0.695\n"
     ]
    },
    {
     "name": "stdout",
     "output_type": "stream",
     "text": [
      "Pulling halo center from catalog file\n",
      "Opening snapshot /Volumes/TempestTimeSteps/DD0267/DD0267\n",
      "get_refine_box: using this location:      col1       col2     col3     col4     col5     col6     col7   col8\n",
      "------------- -------- -------- -------- -------- -------- -------- ----\n",
      "3.04296732074 0.494074 0.490895 0.500235 0.496074 0.492895 0.502235    9\n"
     ]
    },
    {
     "name": "stderr",
     "output_type": "stream",
     "text": [
      "Parsing Hierarchy : 100%|████████████████| 8498/8498 [00:00<00:00, 18316.71it/s]\n",
      "yt : [INFO     ] 2022-07-13 09:34:26,439 Gathering a field list (this may take a moment.)\n",
      "yt : [WARNING  ] 2022-07-13 09:34:29,252 The stars particle filter already exists. Overriding.\n",
      "yt : [WARNING  ] 2022-07-13 09:34:29,253 The DM particle filter already exists. Overriding.\n"
     ]
    },
    {
     "name": "stdout",
     "output_type": "stream",
     "text": [
      "Pulling halo center from catalog file\n",
      "Opening snapshot /Volumes/TempestTimeSteps/DD0287/DD0287\n"
     ]
    },
    {
     "name": "stderr",
     "output_type": "stream",
     "text": [
      "yt : [INFO     ] 2022-07-13 09:34:29,424 Parameters: current_time              = 104.81652781829\n",
      "yt : [INFO     ] 2022-07-13 09:34:29,428 Parameters: domain_dimensions         = [256 256 256]\n",
      "yt : [INFO     ] 2022-07-13 09:34:29,432 Parameters: domain_left_edge          = [0. 0. 0.]\n",
      "yt : [INFO     ] 2022-07-13 09:34:29,436 Parameters: domain_right_edge         = [1. 1. 1.]\n",
      "yt : [INFO     ] 2022-07-13 09:34:29,437 Parameters: cosmological_simulation   = 1\n",
      "yt : [INFO     ] 2022-07-13 09:34:29,437 Parameters: current_redshift          = 2.9116806075987\n",
      "yt : [INFO     ] 2022-07-13 09:34:29,437 Parameters: omega_lambda              = 0.715\n",
      "yt : [INFO     ] 2022-07-13 09:34:29,438 Parameters: omega_matter              = 0.285\n",
      "yt : [INFO     ] 2022-07-13 09:34:29,438 Parameters: omega_radiation           = 0.0\n",
      "yt : [INFO     ] 2022-07-13 09:34:29,439 Parameters: hubble_constant           = 0.695\n"
     ]
    },
    {
     "name": "stdout",
     "output_type": "stream",
     "text": [
      "get_refine_box: using this location:     col1       col2     col3     col4     col5     col6     col7   col8\n",
      "------------ -------- -------- -------- -------- -------- -------- ----\n",
      "2.9116806076 0.493954 0.490721 0.500203 0.495954 0.492721 0.502203    9\n"
     ]
    },
    {
     "name": "stderr",
     "output_type": "stream",
     "text": [
      "Parsing Hierarchy : 100%|████████████████| 7384/7384 [00:00<00:00, 19506.02it/s]\n",
      "yt : [INFO     ] 2022-07-13 09:34:30,099 Gathering a field list (this may take a moment.)\n",
      "yt : [WARNING  ] 2022-07-13 09:34:33,739 The stars particle filter already exists. Overriding.\n",
      "yt : [WARNING  ] 2022-07-13 09:34:33,740 The DM particle filter already exists. Overriding.\n",
      "yt : [INFO     ] 2022-07-13 09:34:33,848 Parameters: current_time              = 109.81652781829\n",
      "yt : [INFO     ] 2022-07-13 09:34:33,850 Parameters: domain_dimensions         = [256 256 256]\n",
      "yt : [INFO     ] 2022-07-13 09:34:33,852 Parameters: domain_left_edge          = [0. 0. 0.]\n",
      "yt : [INFO     ] 2022-07-13 09:34:33,855 Parameters: domain_right_edge         = [1. 1. 1.]\n",
      "yt : [INFO     ] 2022-07-13 09:34:33,855 Parameters: cosmological_simulation   = 1\n",
      "yt : [INFO     ] 2022-07-13 09:34:33,856 Parameters: current_redshift          = 2.790330842939\n",
      "yt : [INFO     ] 2022-07-13 09:34:33,856 Parameters: omega_lambda              = 0.715\n",
      "yt : [INFO     ] 2022-07-13 09:34:33,857 Parameters: omega_matter              = 0.285\n",
      "yt : [INFO     ] 2022-07-13 09:34:33,857 Parameters: omega_radiation           = 0.0\n",
      "yt : [INFO     ] 2022-07-13 09:34:33,857 Parameters: hubble_constant           = 0.695\n"
     ]
    },
    {
     "name": "stdout",
     "output_type": "stream",
     "text": [
      "Pulling halo center from catalog file\n",
      "Opening snapshot /Volumes/TempestTimeSteps/DD0307/DD0307\n",
      "get_refine_box: using this location:      col1       col2     col3     col4     col5     col6     col7   col8\n",
      "------------- -------- -------- -------- -------- -------- -------- ----\n",
      "2.79033084294 0.494017 0.490515 0.500182 0.496017 0.492515 0.502182    9\n"
     ]
    },
    {
     "name": "stderr",
     "output_type": "stream",
     "text": [
      "Parsing Hierarchy : 100%|████████████████| 7885/7885 [00:00<00:00, 17523.20it/s]\n",
      "yt : [INFO     ] 2022-07-13 09:34:34,668 Gathering a field list (this may take a moment.)\n",
      "yt : [WARNING  ] 2022-07-13 09:34:37,625 The stars particle filter already exists. Overriding.\n",
      "yt : [WARNING  ] 2022-07-13 09:34:37,626 The DM particle filter already exists. Overriding.\n"
     ]
    },
    {
     "name": "stdout",
     "output_type": "stream",
     "text": [
      "Pulling halo center from catalog file\n",
      "Opening snapshot /Volumes/TempestTimeSteps/DD0327/DD0327\n"
     ]
    },
    {
     "name": "stderr",
     "output_type": "stream",
     "text": [
      "yt : [INFO     ] 2022-07-13 09:34:37,806 Parameters: current_time              = 114.81652781829\n",
      "yt : [INFO     ] 2022-07-13 09:34:37,809 Parameters: domain_dimensions         = [256 256 256]\n",
      "yt : [INFO     ] 2022-07-13 09:34:37,812 Parameters: domain_left_edge          = [0. 0. 0.]\n",
      "yt : [INFO     ] 2022-07-13 09:34:37,816 Parameters: domain_right_edge         = [1. 1. 1.]\n",
      "yt : [INFO     ] 2022-07-13 09:34:37,817 Parameters: cosmological_simulation   = 1\n",
      "yt : [INFO     ] 2022-07-13 09:34:37,817 Parameters: current_redshift          = 2.6777540283045\n",
      "yt : [INFO     ] 2022-07-13 09:34:37,818 Parameters: omega_lambda              = 0.715\n",
      "yt : [INFO     ] 2022-07-13 09:34:37,819 Parameters: omega_matter              = 0.285\n",
      "yt : [INFO     ] 2022-07-13 09:34:37,820 Parameters: omega_radiation           = 0.0\n",
      "yt : [INFO     ] 2022-07-13 09:34:37,820 Parameters: hubble_constant           = 0.695\n"
     ]
    },
    {
     "name": "stdout",
     "output_type": "stream",
     "text": [
      "get_refine_box: using this location:     col1       col2     col3    col4     col5     col6    col7   col8\n",
      "------------ -------- ------- -------- -------- ------- -------- ----\n",
      "2.6777540283 0.493817 0.49021 0.500325 0.495817 0.49221 0.502325    9\n"
     ]
    },
    {
     "name": "stderr",
     "output_type": "stream",
     "text": [
      "Parsing Hierarchy : 100%|████████████████| 8723/8723 [00:00<00:00, 18807.97it/s]\n",
      "yt : [INFO     ] 2022-07-13 09:34:38,606 Gathering a field list (this may take a moment.)\n",
      "yt : [WARNING  ] 2022-07-13 09:34:41,518 The stars particle filter already exists. Overriding.\n",
      "yt : [WARNING  ] 2022-07-13 09:34:41,519 The DM particle filter already exists. Overriding.\n",
      "yt : [INFO     ] 2022-07-13 09:34:41,617 Parameters: current_time              = 119.81652781829\n",
      "yt : [INFO     ] 2022-07-13 09:34:41,619 Parameters: domain_dimensions         = [256 256 256]\n",
      "yt : [INFO     ] 2022-07-13 09:34:41,621 Parameters: domain_left_edge          = [0. 0. 0.]\n",
      "yt : [INFO     ] 2022-07-13 09:34:41,623 Parameters: domain_right_edge         = [1. 1. 1.]\n",
      "yt : [INFO     ] 2022-07-13 09:34:41,624 Parameters: cosmological_simulation   = 1\n",
      "yt : [INFO     ] 2022-07-13 09:34:41,624 Parameters: current_redshift          = 2.5729656200897\n",
      "yt : [INFO     ] 2022-07-13 09:34:41,625 Parameters: omega_lambda              = 0.715\n",
      "yt : [INFO     ] 2022-07-13 09:34:41,626 Parameters: omega_matter              = 0.285\n",
      "yt : [INFO     ] 2022-07-13 09:34:41,626 Parameters: omega_radiation           = 0.0\n",
      "yt : [INFO     ] 2022-07-13 09:34:41,627 Parameters: hubble_constant           = 0.695\n"
     ]
    },
    {
     "name": "stdout",
     "output_type": "stream",
     "text": [
      "Pulling halo center from catalog file\n",
      "Opening snapshot /Volumes/TempestTimeSteps/DD0347/DD0347\n",
      "get_refine_box: using this location:      col1       col2    col3     col4    col5    col6     col7  col8\n",
      "------------- ------- -------- ------- ------- -------- ------- ----\n",
      "2.57296562009 0.49375 0.489943 0.50041 0.49575 0.491943 0.50241    9\n"
     ]
    },
    {
     "name": "stderr",
     "output_type": "stream",
     "text": [
      "Parsing Hierarchy : 100%|█████████████████| 8372/8372 [00:01<00:00, 5846.12it/s]\n",
      "yt : [INFO     ] 2022-07-13 09:34:43,433 Gathering a field list (this may take a moment.)\n",
      "yt : [WARNING  ] 2022-07-13 09:34:46,468 The stars particle filter already exists. Overriding.\n",
      "yt : [WARNING  ] 2022-07-13 09:34:46,468 The DM particle filter already exists. Overriding.\n"
     ]
    },
    {
     "name": "stdout",
     "output_type": "stream",
     "text": [
      "Pulling halo center from catalog file\n",
      "Opening snapshot /Volumes/TempestTimeSteps/DD0367/DD0367\n"
     ]
    },
    {
     "name": "stderr",
     "output_type": "stream",
     "text": [
      "yt : [INFO     ] 2022-07-13 09:34:46,672 Parameters: current_time              = 124.81652781829\n",
      "yt : [INFO     ] 2022-07-13 09:34:46,675 Parameters: domain_dimensions         = [256 256 256]\n",
      "yt : [INFO     ] 2022-07-13 09:34:46,678 Parameters: domain_left_edge          = [0. 0. 0.]\n",
      "yt : [INFO     ] 2022-07-13 09:34:46,682 Parameters: domain_right_edge         = [1. 1. 1.]\n",
      "yt : [INFO     ] 2022-07-13 09:34:46,682 Parameters: cosmological_simulation   = 1\n",
      "yt : [INFO     ] 2022-07-13 09:34:46,683 Parameters: current_redshift          = 2.4751267440123\n",
      "yt : [INFO     ] 2022-07-13 09:34:46,684 Parameters: omega_lambda              = 0.715\n",
      "yt : [INFO     ] 2022-07-13 09:34:46,684 Parameters: omega_matter              = 0.285\n",
      "yt : [INFO     ] 2022-07-13 09:34:46,685 Parameters: omega_radiation           = 0.0\n",
      "yt : [INFO     ] 2022-07-13 09:34:46,686 Parameters: hubble_constant           = 0.695\n"
     ]
    },
    {
     "name": "stdout",
     "output_type": "stream",
     "text": [
      "get_refine_box: using this location:      col1       col2     col3     col4     col5     col6     col7   col8\n",
      "------------- -------- -------- -------- -------- -------- -------- ----\n",
      "2.47512674401 0.493607 0.489649 0.500506 0.495607 0.491649 0.502506    9\n"
     ]
    },
    {
     "name": "stderr",
     "output_type": "stream",
     "text": [
      "Parsing Hierarchy : 100%|████████████████| 8124/8124 [00:00<00:00, 16351.04it/s]\n",
      "yt : [INFO     ] 2022-07-13 09:34:47,525 Gathering a field list (this may take a moment.)\n",
      "yt : [WARNING  ] 2022-07-13 09:34:50,478 The stars particle filter already exists. Overriding.\n",
      "yt : [WARNING  ] 2022-07-13 09:34:50,479 The DM particle filter already exists. Overriding.\n",
      "yt : [INFO     ] 2022-07-13 09:34:50,578 Parameters: current_time              = 129.81652781829\n",
      "yt : [INFO     ] 2022-07-13 09:34:50,580 Parameters: domain_dimensions         = [256 256 256]\n",
      "yt : [INFO     ] 2022-07-13 09:34:50,582 Parameters: domain_left_edge          = [0. 0. 0.]\n",
      "yt : [INFO     ] 2022-07-13 09:34:50,585 Parameters: domain_right_edge         = [1. 1. 1.]\n",
      "yt : [INFO     ] 2022-07-13 09:34:50,585 Parameters: cosmological_simulation   = 1\n",
      "yt : [INFO     ] 2022-07-13 09:34:50,586 Parameters: current_redshift          = 2.3835178337957\n",
      "yt : [INFO     ] 2022-07-13 09:34:50,586 Parameters: omega_lambda              = 0.715\n",
      "yt : [INFO     ] 2022-07-13 09:34:50,587 Parameters: omega_matter              = 0.285\n",
      "yt : [INFO     ] 2022-07-13 09:34:50,587 Parameters: omega_radiation           = 0.0\n",
      "yt : [INFO     ] 2022-07-13 09:34:50,588 Parameters: hubble_constant           = 0.695\n"
     ]
    },
    {
     "name": "stdout",
     "output_type": "stream",
     "text": [
      "Pulling halo center from catalog file\n",
      "Opening snapshot /Volumes/TempestTimeSteps/DD0387/DD0387\n",
      "get_refine_box: using this location:     col1       col2     col3     col4     col5     col6     col7   col8\n",
      "------------ -------- -------- -------- -------- -------- -------- ----\n",
      "2.3835178338 0.493475 0.489323 0.500649 0.495475 0.491323 0.502649    9\n"
     ]
    },
    {
     "name": "stderr",
     "output_type": "stream",
     "text": [
      "Parsing Hierarchy : 100%|████████████████| 9680/9680 [00:00<00:00, 17561.49it/s]\n",
      "yt : [INFO     ] 2022-07-13 09:34:51,545 Gathering a field list (this may take a moment.)\n",
      "yt : [WARNING  ] 2022-07-13 09:34:54,585 The stars particle filter already exists. Overriding.\n",
      "yt : [WARNING  ] 2022-07-13 09:34:54,585 The DM particle filter already exists. Overriding.\n"
     ]
    },
    {
     "name": "stdout",
     "output_type": "stream",
     "text": [
      "Pulling halo center from catalog file\n",
      "Opening snapshot /Volumes/TempestTimeSteps/DD0407/DD0407\n"
     ]
    },
    {
     "name": "stderr",
     "output_type": "stream",
     "text": [
      "yt : [INFO     ] 2022-07-13 09:34:54,770 Parameters: current_time              = 134.81652781829\n",
      "yt : [INFO     ] 2022-07-13 09:34:54,772 Parameters: domain_dimensions         = [256 256 256]\n",
      "yt : [INFO     ] 2022-07-13 09:34:54,775 Parameters: domain_left_edge          = [0. 0. 0.]\n",
      "yt : [INFO     ] 2022-07-13 09:34:54,777 Parameters: domain_right_edge         = [1. 1. 1.]\n",
      "yt : [INFO     ] 2022-07-13 09:34:54,778 Parameters: cosmological_simulation   = 1\n",
      "yt : [INFO     ] 2022-07-13 09:34:54,779 Parameters: current_redshift          = 2.2975178463403\n",
      "yt : [INFO     ] 2022-07-13 09:34:54,779 Parameters: omega_lambda              = 0.715\n",
      "yt : [INFO     ] 2022-07-13 09:34:54,780 Parameters: omega_matter              = 0.285\n",
      "yt : [INFO     ] 2022-07-13 09:34:54,780 Parameters: omega_radiation           = 0.0\n",
      "yt : [INFO     ] 2022-07-13 09:34:54,781 Parameters: hubble_constant           = 0.695\n"
     ]
    },
    {
     "name": "stdout",
     "output_type": "stream",
     "text": [
      "get_refine_box: using this location:      col1       col2     col3     col4     col5     col6     col7   col8\n",
      "------------- -------- -------- -------- -------- -------- -------- ----\n",
      "2.29751784634 0.493403 0.489031 0.500769 0.495403 0.491031 0.502769    9\n"
     ]
    },
    {
     "name": "stderr",
     "output_type": "stream",
     "text": [
      "Parsing Hierarchy : 100%|█████████████████| 8668/8668 [00:01<00:00, 5222.16it/s]\n",
      "yt : [INFO     ] 2022-07-13 09:34:56,795 Gathering a field list (this may take a moment.)\n",
      "yt : [WARNING  ] 2022-07-13 09:34:59,754 The stars particle filter already exists. Overriding.\n",
      "yt : [WARNING  ] 2022-07-13 09:34:59,754 The DM particle filter already exists. Overriding.\n",
      "yt : [INFO     ] 2022-07-13 09:34:59,849 Parameters: current_time              = 139.81652781829\n",
      "yt : [INFO     ] 2022-07-13 09:34:59,851 Parameters: domain_dimensions         = [256 256 256]\n",
      "yt : [INFO     ] 2022-07-13 09:34:59,853 Parameters: domain_left_edge          = [0. 0. 0.]\n",
      "yt : [INFO     ] 2022-07-13 09:34:59,855 Parameters: domain_right_edge         = [1. 1. 1.]\n",
      "yt : [INFO     ] 2022-07-13 09:34:59,856 Parameters: cosmological_simulation   = 1\n",
      "yt : [INFO     ] 2022-07-13 09:34:59,856 Parameters: current_redshift          = 2.2165877154761\n",
      "yt : [INFO     ] 2022-07-13 09:34:59,857 Parameters: omega_lambda              = 0.715\n",
      "yt : [INFO     ] 2022-07-13 09:34:59,858 Parameters: omega_matter              = 0.285\n",
      "yt : [INFO     ] 2022-07-13 09:34:59,858 Parameters: omega_radiation           = 0.0\n",
      "yt : [INFO     ] 2022-07-13 09:34:59,859 Parameters: hubble_constant           = 0.695\n"
     ]
    },
    {
     "name": "stdout",
     "output_type": "stream",
     "text": [
      "Pulling halo center from catalog file\n",
      "Opening snapshot /Volumes/TempestTimeSteps/DD0427/DD0427\n",
      "get_refine_box: using this location:      col1       col2     col3     col4     col5     col6     col7   col8\n",
      "------------- -------- -------- -------- -------- -------- -------- ----\n",
      "2.21658771548 0.493304 0.488734 0.500885 0.495304 0.490734 0.502885    9\n"
     ]
    },
    {
     "name": "stderr",
     "output_type": "stream",
     "text": [
      "Parsing Hierarchy : 100%|████████████████| 8504/8504 [00:00<00:00, 17989.24it/s]\n",
      "yt : [INFO     ] 2022-07-13 09:35:00,699 Gathering a field list (this may take a moment.)\n",
      "yt : [WARNING  ] 2022-07-13 09:35:03,627 The stars particle filter already exists. Overriding.\n",
      "yt : [WARNING  ] 2022-07-13 09:35:03,627 The DM particle filter already exists. Overriding.\n",
      "yt : [INFO     ] 2022-07-13 09:35:03,727 Parameters: current_time              = 144.81652781829\n",
      "yt : [INFO     ] 2022-07-13 09:35:03,730 Parameters: domain_dimensions         = [256 256 256]\n",
      "yt : [INFO     ] 2022-07-13 09:35:03,733 Parameters: domain_left_edge          = [0. 0. 0.]\n",
      "yt : [INFO     ] 2022-07-13 09:35:03,735 Parameters: domain_right_edge         = [1. 1. 1.]\n",
      "yt : [INFO     ] 2022-07-13 09:35:03,736 Parameters: cosmological_simulation   = 1\n",
      "yt : [INFO     ] 2022-07-13 09:35:03,736 Parameters: current_redshift          = 2.1402570627129\n",
      "yt : [INFO     ] 2022-07-13 09:35:03,736 Parameters: omega_lambda              = 0.715\n",
      "yt : [INFO     ] 2022-07-13 09:35:03,737 Parameters: omega_matter              = 0.285\n",
      "yt : [INFO     ] 2022-07-13 09:35:03,737 Parameters: omega_radiation           = 0.0\n",
      "yt : [INFO     ] 2022-07-13 09:35:03,738 Parameters: hubble_constant           = 0.695\n"
     ]
    },
    {
     "name": "stdout",
     "output_type": "stream",
     "text": [
      "Pulling halo center from catalog file\n",
      "Opening snapshot /Volumes/TempestTimeSteps/DD0447/DD0447\n",
      "get_refine_box: using this location:      col1       col2     col3     col4     col5     col6     col7   col8\n",
      "------------- -------- -------- -------- -------- -------- -------- ----\n",
      "2.14025706271 0.493216 0.488457 0.500981 0.495216 0.490457 0.502981    9\n"
     ]
    },
    {
     "name": "stderr",
     "output_type": "stream",
     "text": [
      "Parsing Hierarchy : 100%|████████████████| 8981/8981 [00:00<00:00, 16950.44it/s]\n",
      "yt : [INFO     ] 2022-07-13 09:35:04,653 Gathering a field list (this may take a moment.)\n",
      "yt : [WARNING  ] 2022-07-13 09:35:07,371 The stars particle filter already exists. Overriding.\n",
      "yt : [WARNING  ] 2022-07-13 09:35:07,373 The DM particle filter already exists. Overriding.\n",
      "yt : [INFO     ] 2022-07-13 09:35:07,465 Parameters: current_time              = 149.81652781829\n",
      "yt : [INFO     ] 2022-07-13 09:35:07,467 Parameters: domain_dimensions         = [256 256 256]\n",
      "yt : [INFO     ] 2022-07-13 09:35:07,469 Parameters: domain_left_edge          = [0. 0. 0.]\n",
      "yt : [INFO     ] 2022-07-13 09:35:07,472 Parameters: domain_right_edge         = [1. 1. 1.]\n",
      "yt : [INFO     ] 2022-07-13 09:35:07,473 Parameters: cosmological_simulation   = 1\n",
      "yt : [INFO     ] 2022-07-13 09:35:07,473 Parameters: current_redshift          = 2.0681134360516\n",
      "yt : [INFO     ] 2022-07-13 09:35:07,474 Parameters: omega_lambda              = 0.715\n",
      "yt : [INFO     ] 2022-07-13 09:35:07,475 Parameters: omega_matter              = 0.285\n",
      "yt : [INFO     ] 2022-07-13 09:35:07,476 Parameters: omega_radiation           = 0.0\n",
      "yt : [INFO     ] 2022-07-13 09:35:07,477 Parameters: hubble_constant           = 0.695\n"
     ]
    },
    {
     "name": "stdout",
     "output_type": "stream",
     "text": [
      "Pulling halo center from catalog file\n",
      "Opening snapshot /Volumes/TempestTimeSteps/DD0467/DD0467\n",
      "get_refine_box: using this location:      col1       col2     col3     col4    col5     col6     col7  col8\n",
      "------------- -------- -------- ------- -------- -------- ------- ----\n",
      "2.06811343605 0.493124 0.488177 0.50108 0.495124 0.490177 0.50308    9\n"
     ]
    },
    {
     "name": "stderr",
     "output_type": "stream",
     "text": [
      "Parsing Hierarchy : 100%|█████████████████| 8955/8955 [00:01<00:00, 4878.93it/s]\n",
      "yt : [INFO     ] 2022-07-13 09:35:09,702 Gathering a field list (this may take a moment.)\n",
      "yt : [WARNING  ] 2022-07-13 09:35:12,993 The stars particle filter already exists. Overriding.\n",
      "yt : [WARNING  ] 2022-07-13 09:35:12,994 The DM particle filter already exists. Overriding.\n",
      "yt : [INFO     ] 2022-07-13 09:35:13,089 Parameters: current_time              = 154.8165043678\n",
      "yt : [INFO     ] 2022-07-13 09:35:13,092 Parameters: domain_dimensions         = [256 256 256]\n",
      "yt : [INFO     ] 2022-07-13 09:35:13,095 Parameters: domain_left_edge          = [0. 0. 0.]\n",
      "yt : [INFO     ] 2022-07-13 09:35:13,097 Parameters: domain_right_edge         = [1. 1. 1.]\n",
      "yt : [INFO     ] 2022-07-13 09:35:13,098 Parameters: cosmological_simulation   = 1\n",
      "yt : [INFO     ] 2022-07-13 09:35:13,098 Parameters: current_redshift          = 1.9997938414155\n",
      "yt : [INFO     ] 2022-07-13 09:35:13,099 Parameters: omega_lambda              = 0.715\n",
      "yt : [INFO     ] 2022-07-13 09:35:13,100 Parameters: omega_matter              = 0.285\n",
      "yt : [INFO     ] 2022-07-13 09:35:13,100 Parameters: omega_radiation           = 0.0\n",
      "yt : [INFO     ] 2022-07-13 09:35:13,102 Parameters: hubble_constant           = 0.695\n"
     ]
    },
    {
     "name": "stdout",
     "output_type": "stream",
     "text": [
      "Pulling halo center from catalog file\n",
      "Opening snapshot /Volumes/TempestTimeSteps/DD0487/DD0487\n",
      "get_refine_box: using this location:      col1       col2     col3     col4     col5     col6     col7   col8\n",
      "------------- -------- -------- -------- -------- -------- -------- ----\n",
      "1.99979384142 0.493035 0.487894 0.501194 0.495035 0.489894 0.503194    9\n"
     ]
    },
    {
     "name": "stderr",
     "output_type": "stream",
     "text": [
      "Parsing Hierarchy : 100%|████████████████| 7623/7623 [00:00<00:00, 19077.34it/s]\n",
      "yt : [INFO     ] 2022-07-13 09:35:13,835 Gathering a field list (this may take a moment.)\n",
      "yt : [WARNING  ] 2022-07-13 09:35:16,915 The stars particle filter already exists. Overriding.\n",
      "yt : [WARNING  ] 2022-07-13 09:35:16,915 The DM particle filter already exists. Overriding.\n",
      "yt : [INFO     ] 2022-07-13 09:35:17,015 Parameters: current_time              = 159.81652781829\n",
      "yt : [INFO     ] 2022-07-13 09:35:17,017 Parameters: domain_dimensions         = [256 256 256]\n",
      "yt : [INFO     ] 2022-07-13 09:35:17,019 Parameters: domain_left_edge          = [0. 0. 0.]\n",
      "yt : [INFO     ] 2022-07-13 09:35:17,022 Parameters: domain_right_edge         = [1. 1. 1.]\n",
      "yt : [INFO     ] 2022-07-13 09:35:17,023 Parameters: cosmological_simulation   = 1\n",
      "yt : [INFO     ] 2022-07-13 09:35:17,023 Parameters: current_redshift          = 1.9349759674732\n",
      "yt : [INFO     ] 2022-07-13 09:35:17,024 Parameters: omega_lambda              = 0.715\n",
      "yt : [INFO     ] 2022-07-13 09:35:17,025 Parameters: omega_matter              = 0.285\n",
      "yt : [INFO     ] 2022-07-13 09:35:17,026 Parameters: omega_radiation           = 0.0\n",
      "yt : [INFO     ] 2022-07-13 09:35:17,027 Parameters: hubble_constant           = 0.695\n"
     ]
    },
    {
     "name": "stdout",
     "output_type": "stream",
     "text": [
      "Pulling halo center from catalog file\n",
      "Opening snapshot /Volumes/TempestTimeSteps/DD0507/DD0507\n",
      "get_refine_box: using this location:      col1       col2     col3     col4     col5     col6     col7   col8\n",
      "------------- -------- -------- -------- -------- -------- -------- ----\n",
      "1.93497596747 0.492941 0.487618 0.501303 0.494941 0.489618 0.503303    9\n"
     ]
    },
    {
     "name": "stderr",
     "output_type": "stream",
     "text": [
      "Parsing Hierarchy : 100%|████████████████| 6466/6466 [00:00<00:00, 18846.64it/s]\n",
      "yt : [INFO     ] 2022-07-13 09:35:17,703 Gathering a field list (this may take a moment.)\n",
      "yt : [WARNING  ] 2022-07-13 09:35:20,469 The stars particle filter already exists. Overriding.\n",
      "yt : [WARNING  ] 2022-07-13 09:35:20,470 The DM particle filter already exists. Overriding.\n",
      "yt : [INFO     ] 2022-07-13 09:35:20,561 Parameters: current_time              = 164.81652781829\n",
      "yt : [INFO     ] 2022-07-13 09:35:20,564 Parameters: domain_dimensions         = [256 256 256]\n",
      "yt : [INFO     ] 2022-07-13 09:35:20,568 Parameters: domain_left_edge          = [0. 0. 0.]\n",
      "yt : [INFO     ] 2022-07-13 09:35:20,570 Parameters: domain_right_edge         = [1. 1. 1.]\n",
      "yt : [INFO     ] 2022-07-13 09:35:20,571 Parameters: cosmological_simulation   = 1\n",
      "yt : [INFO     ] 2022-07-13 09:35:20,571 Parameters: current_redshift          = 1.8733753371252\n",
      "yt : [INFO     ] 2022-07-13 09:35:20,572 Parameters: omega_lambda              = 0.715\n",
      "yt : [INFO     ] 2022-07-13 09:35:20,572 Parameters: omega_matter              = 0.285\n",
      "yt : [INFO     ] 2022-07-13 09:35:20,573 Parameters: omega_radiation           = 0.0\n",
      "yt : [INFO     ] 2022-07-13 09:35:20,574 Parameters: hubble_constant           = 0.695\n"
     ]
    },
    {
     "name": "stdout",
     "output_type": "stream",
     "text": [
      "Pulling halo center from catalog file\n",
      "Opening snapshot /Volumes/TempestTimeSteps/DD0527/DD0527\n",
      "get_refine_box: using this location:      col1       col2     col3     col4     col5     col6     col7   col8\n",
      "------------- -------- -------- -------- -------- -------- -------- ----\n",
      "1.87337533713 0.492848 0.487347 0.501397 0.494848 0.489347 0.503397    9\n"
     ]
    },
    {
     "name": "stderr",
     "output_type": "stream",
     "text": [
      "Parsing Hierarchy : 100%|████████████████| 6005/6005 [00:00<00:00, 18286.30it/s]\n",
      "yt : [INFO     ] 2022-07-13 09:35:21,198 Gathering a field list (this may take a moment.)\n",
      "yt : [WARNING  ] 2022-07-13 09:35:23,974 The stars particle filter already exists. Overriding.\n",
      "yt : [WARNING  ] 2022-07-13 09:35:23,975 The DM particle filter already exists. Overriding.\n",
      "yt : [INFO     ] 2022-07-13 09:35:24,067 Parameters: current_time              = 169.81652781829\n",
      "yt : [INFO     ] 2022-07-13 09:35:24,069 Parameters: domain_dimensions         = [256 256 256]\n",
      "yt : [INFO     ] 2022-07-13 09:35:24,071 Parameters: domain_left_edge          = [0. 0. 0.]\n",
      "yt : [INFO     ] 2022-07-13 09:35:24,074 Parameters: domain_right_edge         = [1. 1. 1.]\n",
      "yt : [INFO     ] 2022-07-13 09:35:24,075 Parameters: cosmological_simulation   = 1\n",
      "yt : [INFO     ] 2022-07-13 09:35:24,075 Parameters: current_redshift          = 1.8147372203944\n",
      "yt : [INFO     ] 2022-07-13 09:35:24,076 Parameters: omega_lambda              = 0.715\n",
      "yt : [INFO     ] 2022-07-13 09:35:24,077 Parameters: omega_matter              = 0.285\n",
      "yt : [INFO     ] 2022-07-13 09:35:24,077 Parameters: omega_radiation           = 0.0\n",
      "yt : [INFO     ] 2022-07-13 09:35:24,078 Parameters: hubble_constant           = 0.695\n"
     ]
    },
    {
     "name": "stdout",
     "output_type": "stream",
     "text": [
      "Pulling halo center from catalog file\n",
      "Opening snapshot /Volumes/TempestTimeSteps/DD0547/DD0547\n",
      "get_refine_box: using this location:      col1       col2     col3    col4     col5     col6    col7   col8\n",
      "------------- -------- ------- -------- -------- ------- -------- ----\n",
      "1.81473722039 0.492754 0.48709 0.501477 0.494754 0.48909 0.503477    9\n"
     ]
    },
    {
     "name": "stderr",
     "output_type": "stream",
     "text": [
      "Parsing Hierarchy : 100%|████████████████| 6241/6241 [00:00<00:00, 18818.26it/s]\n",
      "yt : [INFO     ] 2022-07-13 09:35:24,712 Gathering a field list (this may take a moment.)\n",
      "yt : [WARNING  ] 2022-07-13 09:35:27,635 The stars particle filter already exists. Overriding.\n",
      "yt : [WARNING  ] 2022-07-13 09:35:27,635 The DM particle filter already exists. Overriding.\n",
      "yt : [INFO     ] 2022-07-13 09:35:27,726 Parameters: current_time              = 174.81652781829\n",
      "yt : [INFO     ] 2022-07-13 09:35:27,728 Parameters: domain_dimensions         = [256 256 256]\n",
      "yt : [INFO     ] 2022-07-13 09:35:27,732 Parameters: domain_left_edge          = [0. 0. 0.]\n",
      "yt : [INFO     ] 2022-07-13 09:35:27,734 Parameters: domain_right_edge         = [1. 1. 1.]\n",
      "yt : [INFO     ] 2022-07-13 09:35:27,735 Parameters: cosmological_simulation   = 1\n",
      "yt : [INFO     ] 2022-07-13 09:35:27,735 Parameters: current_redshift          = 1.7588340361195\n",
      "yt : [INFO     ] 2022-07-13 09:35:27,736 Parameters: omega_lambda              = 0.715\n",
      "yt : [INFO     ] 2022-07-13 09:35:27,737 Parameters: omega_matter              = 0.285\n",
      "yt : [INFO     ] 2022-07-13 09:35:27,737 Parameters: omega_radiation           = 0.0\n",
      "yt : [INFO     ] 2022-07-13 09:35:27,738 Parameters: hubble_constant           = 0.695\n"
     ]
    },
    {
     "name": "stdout",
     "output_type": "stream",
     "text": [
      "Pulling halo center from catalog file\n",
      "Opening snapshot /Volumes/TempestTimeSteps/DD0567/DD0567\n",
      "get_refine_box: using this location:      col1       col2     col3     col4     col5     col6     col7   col8\n",
      "------------- -------- -------- -------- -------- -------- -------- ----\n",
      "1.75883403612 0.492716 0.486828 0.501538 0.494716 0.488828 0.503538    9\n"
     ]
    },
    {
     "name": "stderr",
     "output_type": "stream",
     "text": [
      "Parsing Hierarchy : 100%|█████████████████| 6668/6668 [00:02<00:00, 2983.19it/s]\n",
      "yt : [INFO     ] 2022-07-13 09:35:30,300 Gathering a field list (this may take a moment.)\n",
      "yt : [WARNING  ] 2022-07-13 09:35:33,172 The stars particle filter already exists. Overriding.\n",
      "yt : [WARNING  ] 2022-07-13 09:35:33,172 The DM particle filter already exists. Overriding.\n",
      "yt : [INFO     ] 2022-07-13 09:35:33,265 Parameters: current_time              = 179.81652781829\n",
      "yt : [INFO     ] 2022-07-13 09:35:33,267 Parameters: domain_dimensions         = [256 256 256]\n",
      "yt : [INFO     ] 2022-07-13 09:35:33,271 Parameters: domain_left_edge          = [0. 0. 0.]\n",
      "yt : [INFO     ] 2022-07-13 09:35:33,274 Parameters: domain_right_edge         = [1. 1. 1.]\n",
      "yt : [INFO     ] 2022-07-13 09:35:33,274 Parameters: cosmological_simulation   = 1\n",
      "yt : [INFO     ] 2022-07-13 09:35:33,275 Parameters: current_redshift          = 1.7054615401925\n",
      "yt : [INFO     ] 2022-07-13 09:35:33,275 Parameters: omega_lambda              = 0.715\n",
      "yt : [INFO     ] 2022-07-13 09:35:33,276 Parameters: omega_matter              = 0.285\n",
      "yt : [INFO     ] 2022-07-13 09:35:33,276 Parameters: omega_radiation           = 0.0\n",
      "yt : [INFO     ] 2022-07-13 09:35:33,277 Parameters: hubble_constant           = 0.695\n"
     ]
    },
    {
     "name": "stdout",
     "output_type": "stream",
     "text": [
      "Pulling halo center from catalog file\n",
      "Opening snapshot /Volumes/TempestTimeSteps/DD0587/DD0587\n",
      "get_refine_box: using this location:      col1       col2     col3    col4     col5     col6    col7   col8\n",
      "------------- -------- ------- -------- -------- ------- -------- ----\n",
      "1.70546154019 0.492663 0.48654 0.501635 0.494663 0.48854 0.503635    9\n"
     ]
    },
    {
     "name": "stderr",
     "output_type": "stream",
     "text": [
      "Parsing Hierarchy : 100%|████████████████| 7018/7018 [00:00<00:00, 18515.04it/s]\n",
      "yt : [INFO     ] 2022-07-13 09:35:33,979 Gathering a field list (this may take a moment.)\n",
      "yt : [WARNING  ] 2022-07-13 09:35:36,636 The stars particle filter already exists. Overriding.\n",
      "yt : [WARNING  ] 2022-07-13 09:35:36,637 The DM particle filter already exists. Overriding.\n"
     ]
    },
    {
     "name": "stdout",
     "output_type": "stream",
     "text": [
      "Pulling halo center from catalog file\n",
      "Opening snapshot /Volumes/TempestTimeSteps/DD0607/DD0607\n"
     ]
    },
    {
     "name": "stderr",
     "output_type": "stream",
     "text": [
      "yt : [INFO     ] 2022-07-13 09:35:36,792 Parameters: current_time              = 184.81652781829\n",
      "yt : [INFO     ] 2022-07-13 09:35:36,795 Parameters: domain_dimensions         = [256 256 256]\n",
      "yt : [INFO     ] 2022-07-13 09:35:36,797 Parameters: domain_left_edge          = [0. 0. 0.]\n",
      "yt : [INFO     ] 2022-07-13 09:35:36,800 Parameters: domain_right_edge         = [1. 1. 1.]\n",
      "yt : [INFO     ] 2022-07-13 09:35:36,801 Parameters: cosmological_simulation   = 1\n",
      "yt : [INFO     ] 2022-07-13 09:35:36,801 Parameters: current_redshift          = 1.654435864871\n",
      "yt : [INFO     ] 2022-07-13 09:35:36,801 Parameters: omega_lambda              = 0.715\n",
      "yt : [INFO     ] 2022-07-13 09:35:36,802 Parameters: omega_matter              = 0.285\n",
      "yt : [INFO     ] 2022-07-13 09:35:36,803 Parameters: omega_radiation           = 0.0\n",
      "yt : [INFO     ] 2022-07-13 09:35:36,804 Parameters: hubble_constant           = 0.695\n"
     ]
    },
    {
     "name": "stdout",
     "output_type": "stream",
     "text": [
      "get_refine_box: using this location:      col1       col2     col3     col4     col5     col6     col7   col8\n",
      "------------- -------- -------- -------- -------- -------- -------- ----\n",
      "1.65443586487 0.492592 0.486264 0.501763 0.494592 0.488264 0.503763    9\n"
     ]
    },
    {
     "name": "stderr",
     "output_type": "stream",
     "text": [
      "Parsing Hierarchy : 100%|████████████████| 6646/6646 [00:00<00:00, 19143.23it/s]\n",
      "yt : [INFO     ] 2022-07-13 09:35:37,386 Gathering a field list (this may take a moment.)\n",
      "yt : [WARNING  ] 2022-07-13 09:35:40,072 The stars particle filter already exists. Overriding.\n",
      "yt : [WARNING  ] 2022-07-13 09:35:40,073 The DM particle filter already exists. Overriding.\n",
      "yt : [INFO     ] 2022-07-13 09:35:40,164 Parameters: current_time              = 189.81652781829\n",
      "yt : [INFO     ] 2022-07-13 09:35:40,166 Parameters: domain_dimensions         = [256 256 256]\n",
      "yt : [INFO     ] 2022-07-13 09:35:40,168 Parameters: domain_left_edge          = [0. 0. 0.]\n",
      "yt : [INFO     ] 2022-07-13 09:35:40,170 Parameters: domain_right_edge         = [1. 1. 1.]\n",
      "yt : [INFO     ] 2022-07-13 09:35:40,171 Parameters: cosmological_simulation   = 1\n",
      "yt : [INFO     ] 2022-07-13 09:35:40,171 Parameters: current_redshift          = 1.6055910020775\n",
      "yt : [INFO     ] 2022-07-13 09:35:40,172 Parameters: omega_lambda              = 0.715\n",
      "yt : [INFO     ] 2022-07-13 09:35:40,172 Parameters: omega_matter              = 0.285\n",
      "yt : [INFO     ] 2022-07-13 09:35:40,173 Parameters: omega_radiation           = 0.0\n",
      "yt : [INFO     ] 2022-07-13 09:35:40,174 Parameters: hubble_constant           = 0.695\n"
     ]
    },
    {
     "name": "stdout",
     "output_type": "stream",
     "text": [
      "Pulling halo center from catalog file\n",
      "Opening snapshot /Volumes/TempestTimeSteps/DD0627/DD0627\n",
      "get_refine_box: using this location:      col1       col2     col3     col4     col5     col6     col7   col8\n",
      "------------- -------- -------- -------- -------- -------- -------- ----\n",
      "1.60559100208 0.492518 0.485987 0.501896 0.494518 0.487987 0.503896    9\n"
     ]
    },
    {
     "name": "stderr",
     "output_type": "stream",
     "text": [
      "Parsing Hierarchy : 100%|████████████████| 7439/7439 [00:00<00:00, 18428.14it/s]\n",
      "yt : [INFO     ] 2022-07-13 09:35:40,916 Gathering a field list (this may take a moment.)\n",
      "yt : [WARNING  ] 2022-07-13 09:35:43,630 The stars particle filter already exists. Overriding.\n",
      "yt : [WARNING  ] 2022-07-13 09:35:43,630 The DM particle filter already exists. Overriding.\n"
     ]
    },
    {
     "name": "stdout",
     "output_type": "stream",
     "text": [
      "Pulling halo center from catalog file\n",
      "Opening snapshot /Volumes/TempestTimeSteps/DD0647/DD0647\n"
     ]
    },
    {
     "name": "stderr",
     "output_type": "stream",
     "text": [
      "yt : [INFO     ] 2022-07-13 09:35:43,794 Parameters: current_time              = 194.81652781829\n",
      "yt : [INFO     ] 2022-07-13 09:35:43,797 Parameters: domain_dimensions         = [256 256 256]\n",
      "yt : [INFO     ] 2022-07-13 09:35:43,799 Parameters: domain_left_edge          = [0. 0. 0.]\n",
      "yt : [INFO     ] 2022-07-13 09:35:43,802 Parameters: domain_right_edge         = [1. 1. 1.]\n",
      "yt : [INFO     ] 2022-07-13 09:35:43,803 Parameters: cosmological_simulation   = 1\n",
      "yt : [INFO     ] 2022-07-13 09:35:43,803 Parameters: current_redshift          = 1.5587766543771\n",
      "yt : [INFO     ] 2022-07-13 09:35:43,804 Parameters: omega_lambda              = 0.715\n",
      "yt : [INFO     ] 2022-07-13 09:35:43,805 Parameters: omega_matter              = 0.285\n",
      "yt : [INFO     ] 2022-07-13 09:35:43,806 Parameters: omega_radiation           = 0.0\n",
      "yt : [INFO     ] 2022-07-13 09:35:43,807 Parameters: hubble_constant           = 0.695\n"
     ]
    },
    {
     "name": "stdout",
     "output_type": "stream",
     "text": [
      "get_refine_box: using this location:      col1       col2     col3     col4     col5     col6     col7   col8\n",
      "------------- -------- -------- -------- -------- -------- -------- ----\n",
      "1.55877665438 0.492451 0.485703 0.502037 0.494451 0.487703 0.504037    9\n"
     ]
    },
    {
     "name": "stderr",
     "output_type": "stream",
     "text": [
      "Parsing Hierarchy : 100%|████████████████| 7437/7437 [00:00<00:00, 19696.95it/s]\n",
      "yt : [INFO     ] 2022-07-13 09:35:44,444 Gathering a field list (this may take a moment.)\n",
      "yt : [WARNING  ] 2022-07-13 09:35:47,494 The stars particle filter already exists. Overriding.\n",
      "yt : [WARNING  ] 2022-07-13 09:35:47,494 The DM particle filter already exists. Overriding.\n"
     ]
    },
    {
     "name": "stdout",
     "output_type": "stream",
     "text": [
      "Pulling halo center from catalog file\n",
      "Opening snapshot /Volumes/TempestTimeSteps/DD0667/DD0667\n"
     ]
    },
    {
     "name": "stderr",
     "output_type": "stream",
     "text": [
      "yt : [INFO     ] 2022-07-13 09:35:47,668 Parameters: current_time              = 199.81652781829\n",
      "yt : [INFO     ] 2022-07-13 09:35:47,670 Parameters: domain_dimensions         = [256 256 256]\n",
      "yt : [INFO     ] 2022-07-13 09:35:47,674 Parameters: domain_left_edge          = [0. 0. 0.]\n",
      "yt : [INFO     ] 2022-07-13 09:35:47,677 Parameters: domain_right_edge         = [1. 1. 1.]\n",
      "yt : [INFO     ] 2022-07-13 09:35:47,678 Parameters: cosmological_simulation   = 1\n",
      "yt : [INFO     ] 2022-07-13 09:35:47,679 Parameters: current_redshift          = 1.5138563920287\n",
      "yt : [INFO     ] 2022-07-13 09:35:47,680 Parameters: omega_lambda              = 0.715\n",
      "yt : [INFO     ] 2022-07-13 09:35:47,681 Parameters: omega_matter              = 0.285\n",
      "yt : [INFO     ] 2022-07-13 09:35:47,681 Parameters: omega_radiation           = 0.0\n",
      "yt : [INFO     ] 2022-07-13 09:35:47,682 Parameters: hubble_constant           = 0.695\n"
     ]
    },
    {
     "name": "stdout",
     "output_type": "stream",
     "text": [
      "get_refine_box: using this location:      col1       col2     col3     col4     col5     col6     col7   col8\n",
      "------------- -------- -------- -------- -------- -------- -------- ----\n",
      "1.51385639203 0.492384 0.485436 0.502152 0.494384 0.487436 0.504152    9\n"
     ]
    },
    {
     "name": "stderr",
     "output_type": "stream",
     "text": [
      "Parsing Hierarchy : 100%|████████████████| 8266/8266 [00:00<00:00, 19436.20it/s]\n",
      "yt : [INFO     ] 2022-07-13 09:35:48,384 Gathering a field list (this may take a moment.)\n",
      "yt : [WARNING  ] 2022-07-13 09:35:51,180 The stars particle filter already exists. Overriding.\n",
      "yt : [WARNING  ] 2022-07-13 09:35:51,181 The DM particle filter already exists. Overriding.\n"
     ]
    },
    {
     "name": "stdout",
     "output_type": "stream",
     "text": [
      "Pulling halo center from catalog file\n",
      "Opening snapshot /Volumes/TempestTimeSteps/DD0687/DD0687\n"
     ]
    },
    {
     "name": "stderr",
     "output_type": "stream",
     "text": [
      "yt : [INFO     ] 2022-07-13 09:35:51,344 Parameters: current_time              = 204.81652781829\n",
      "yt : [INFO     ] 2022-07-13 09:35:51,346 Parameters: domain_dimensions         = [256 256 256]\n",
      "yt : [INFO     ] 2022-07-13 09:35:51,349 Parameters: domain_left_edge          = [0. 0. 0.]\n",
      "yt : [INFO     ] 2022-07-13 09:35:51,352 Parameters: domain_right_edge         = [1. 1. 1.]\n",
      "yt : [INFO     ] 2022-07-13 09:35:51,352 Parameters: cosmological_simulation   = 1\n",
      "yt : [INFO     ] 2022-07-13 09:35:51,353 Parameters: current_redshift          = 1.4707060660811\n",
      "yt : [INFO     ] 2022-07-13 09:35:51,353 Parameters: omega_lambda              = 0.715\n",
      "yt : [INFO     ] 2022-07-13 09:35:51,354 Parameters: omega_matter              = 0.285\n",
      "yt : [INFO     ] 2022-07-13 09:35:51,355 Parameters: omega_radiation           = 0.0\n",
      "yt : [INFO     ] 2022-07-13 09:35:51,355 Parameters: hubble_constant           = 0.695\n"
     ]
    },
    {
     "name": "stdout",
     "output_type": "stream",
     "text": [
      "get_refine_box: using this location:      col1       col2     col3     col4    col5     col6     col7  col8\n",
      "------------- -------- -------- ------- -------- -------- ------- ----\n",
      "1.47070606608 0.492346 0.485169 0.50227 0.494346 0.487169 0.50427    9\n"
     ]
    },
    {
     "name": "stderr",
     "output_type": "stream",
     "text": [
      "Parsing Hierarchy : 100%|█████████████████| 8638/8638 [00:02<00:00, 3404.68it/s]\n",
      "yt : [INFO     ] 2022-07-13 09:35:54,194 Gathering a field list (this may take a moment.)\n",
      "yt : [WARNING  ] 2022-07-13 09:35:57,006 The stars particle filter already exists. Overriding.\n",
      "yt : [WARNING  ] 2022-07-13 09:35:57,007 The DM particle filter already exists. Overriding.\n"
     ]
    },
    {
     "name": "stdout",
     "output_type": "stream",
     "text": [
      "Pulling halo center from catalog file\n",
      "Opening snapshot /Volumes/TempestTimeSteps/DD0707/DD0707\n"
     ]
    },
    {
     "name": "stderr",
     "output_type": "stream",
     "text": [
      "yt : [INFO     ] 2022-07-13 09:35:57,183 Parameters: current_time              = 209.81652781829\n",
      "yt : [INFO     ] 2022-07-13 09:35:57,185 Parameters: domain_dimensions         = [256 256 256]\n",
      "yt : [INFO     ] 2022-07-13 09:35:57,188 Parameters: domain_left_edge          = [0. 0. 0.]\n",
      "yt : [INFO     ] 2022-07-13 09:35:57,191 Parameters: domain_right_edge         = [1. 1. 1.]\n",
      "yt : [INFO     ] 2022-07-13 09:35:57,192 Parameters: cosmological_simulation   = 1\n",
      "yt : [INFO     ] 2022-07-13 09:35:57,192 Parameters: current_redshift          = 1.4292124366682\n",
      "yt : [INFO     ] 2022-07-13 09:35:57,193 Parameters: omega_lambda              = 0.715\n",
      "yt : [INFO     ] 2022-07-13 09:35:57,194 Parameters: omega_matter              = 0.285\n",
      "yt : [INFO     ] 2022-07-13 09:35:57,194 Parameters: omega_radiation           = 0.0\n",
      "yt : [INFO     ] 2022-07-13 09:35:57,195 Parameters: hubble_constant           = 0.695\n"
     ]
    },
    {
     "name": "stdout",
     "output_type": "stream",
     "text": [
      "get_refine_box: using this location:      col1       col2     col3     col4     col5     col6     col7   col8\n",
      "------------- -------- -------- -------- -------- -------- -------- ----\n",
      "1.42921243667 0.492291 0.484911 0.502394 0.494291 0.486911 0.504394    9\n"
     ]
    },
    {
     "name": "stderr",
     "output_type": "stream",
     "text": [
      "Parsing Hierarchy : 100%|████████████████| 8418/8418 [00:00<00:00, 19523.86it/s]\n",
      "yt : [INFO     ] 2022-07-13 09:35:57,921 Gathering a field list (this may take a moment.)\n",
      "yt : [WARNING  ] 2022-07-13 09:36:00,668 The stars particle filter already exists. Overriding.\n",
      "yt : [WARNING  ] 2022-07-13 09:36:00,669 The DM particle filter already exists. Overriding.\n"
     ]
    },
    {
     "name": "stdout",
     "output_type": "stream",
     "text": [
      "Pulling halo center from catalog file\n",
      "Opening snapshot /Volumes/TempestTimeSteps/DD0727/DD0727\n"
     ]
    },
    {
     "name": "stderr",
     "output_type": "stream",
     "text": [
      "yt : [INFO     ] 2022-07-13 09:36:00,843 Parameters: current_time              = 214.81652781829\n",
      "yt : [INFO     ] 2022-07-13 09:36:00,847 Parameters: domain_dimensions         = [256 256 256]\n",
      "yt : [INFO     ] 2022-07-13 09:36:00,851 Parameters: domain_left_edge          = [0. 0. 0.]\n",
      "yt : [INFO     ] 2022-07-13 09:36:00,854 Parameters: domain_right_edge         = [1. 1. 1.]\n",
      "yt : [INFO     ] 2022-07-13 09:36:00,855 Parameters: cosmological_simulation   = 1\n",
      "yt : [INFO     ] 2022-07-13 09:36:00,856 Parameters: current_redshift          = 1.3892719829729\n",
      "yt : [INFO     ] 2022-07-13 09:36:00,856 Parameters: omega_lambda              = 0.715\n",
      "yt : [INFO     ] 2022-07-13 09:36:00,857 Parameters: omega_matter              = 0.285\n",
      "yt : [INFO     ] 2022-07-13 09:36:00,857 Parameters: omega_radiation           = 0.0\n",
      "yt : [INFO     ] 2022-07-13 09:36:00,857 Parameters: hubble_constant           = 0.695\n"
     ]
    },
    {
     "name": "stdout",
     "output_type": "stream",
     "text": [
      "get_refine_box: using this location:      col1       col2     col3     col4     col5     col6     col7   col8\n",
      "------------- -------- -------- -------- -------- -------- -------- ----\n",
      "1.38927198297 0.492228 0.484667 0.502503 0.494228 0.486667 0.504503    9\n"
     ]
    },
    {
     "name": "stderr",
     "output_type": "stream",
     "text": [
      "Parsing Hierarchy : 100%|████████████████| 8146/8146 [00:00<00:00, 18978.89it/s]\n",
      "yt : [INFO     ] 2022-07-13 09:36:01,569 Gathering a field list (this may take a moment.)\n",
      "yt : [WARNING  ] 2022-07-13 09:36:04,288 The stars particle filter already exists. Overriding.\n",
      "yt : [WARNING  ] 2022-07-13 09:36:04,289 The DM particle filter already exists. Overriding.\n",
      "yt : [INFO     ] 2022-07-13 09:36:04,384 Parameters: current_time              = 219.81652781829\n",
      "yt : [INFO     ] 2022-07-13 09:36:04,388 Parameters: domain_dimensions         = [256 256 256]\n",
      "yt : [INFO     ] 2022-07-13 09:36:04,391 Parameters: domain_left_edge          = [0. 0. 0.]\n",
      "yt : [INFO     ] 2022-07-13 09:36:04,394 Parameters: domain_right_edge         = [1. 1. 1.]\n",
      "yt : [INFO     ] 2022-07-13 09:36:04,396 Parameters: cosmological_simulation   = 1\n",
      "yt : [INFO     ] 2022-07-13 09:36:04,396 Parameters: current_redshift          = 1.3507898672001\n",
      "yt : [INFO     ] 2022-07-13 09:36:04,397 Parameters: omega_lambda              = 0.715\n",
      "yt : [INFO     ] 2022-07-13 09:36:04,397 Parameters: omega_matter              = 0.285\n",
      "yt : [INFO     ] 2022-07-13 09:36:04,398 Parameters: omega_radiation           = 0.0\n",
      "yt : [INFO     ] 2022-07-13 09:36:04,398 Parameters: hubble_constant           = 0.695\n"
     ]
    },
    {
     "name": "stdout",
     "output_type": "stream",
     "text": [
      "Pulling halo center from catalog file\n",
      "Opening snapshot /Volumes/TempestTimeSteps/DD0747/DD0747\n",
      "get_refine_box: using this location:     col1       col2     col3     col4     col5     col6     col7   col8\n",
      "------------ -------- -------- -------- -------- -------- -------- ----\n",
      "1.3507898672 0.492157 0.484423 0.502606 0.494157 0.486423 0.504606    9\n"
     ]
    },
    {
     "name": "stderr",
     "output_type": "stream",
     "text": [
      "Parsing Hierarchy : 100%|████████████████| 8058/8058 [00:00<00:00, 19045.91it/s]\n",
      "yt : [INFO     ] 2022-07-13 09:36:05,168 Gathering a field list (this may take a moment.)\n",
      "yt : [WARNING  ] 2022-07-13 09:36:07,932 The stars particle filter already exists. Overriding.\n",
      "yt : [WARNING  ] 2022-07-13 09:36:07,932 The DM particle filter already exists. Overriding.\n"
     ]
    },
    {
     "name": "stdout",
     "output_type": "stream",
     "text": [
      "Pulling halo center from catalog file\n",
      "Opening snapshot /Volumes/TempestTimeSteps/DD0767/DD0767\n"
     ]
    },
    {
     "name": "stderr",
     "output_type": "stream",
     "text": [
      "yt : [INFO     ] 2022-07-13 09:36:08,105 Parameters: current_time              = 224.81652781829\n",
      "yt : [INFO     ] 2022-07-13 09:36:08,108 Parameters: domain_dimensions         = [256 256 256]\n",
      "yt : [INFO     ] 2022-07-13 09:36:08,111 Parameters: domain_left_edge          = [0. 0. 0.]\n",
      "yt : [INFO     ] 2022-07-13 09:36:08,114 Parameters: domain_right_edge         = [1. 1. 1.]\n",
      "yt : [INFO     ] 2022-07-13 09:36:08,115 Parameters: cosmological_simulation   = 1\n",
      "yt : [INFO     ] 2022-07-13 09:36:08,116 Parameters: current_redshift          = 1.3136790296363\n",
      "yt : [INFO     ] 2022-07-13 09:36:08,116 Parameters: omega_lambda              = 0.715\n",
      "yt : [INFO     ] 2022-07-13 09:36:08,117 Parameters: omega_matter              = 0.285\n",
      "yt : [INFO     ] 2022-07-13 09:36:08,118 Parameters: omega_radiation           = 0.0\n",
      "yt : [INFO     ] 2022-07-13 09:36:08,118 Parameters: hubble_constant           = 0.695\n"
     ]
    },
    {
     "name": "stdout",
     "output_type": "stream",
     "text": [
      "get_refine_box: using this location:      col1       col2     col3     col4     col5     col6     col7   col8\n",
      "------------- -------- -------- -------- -------- -------- -------- ----\n",
      "1.31367902964 0.492089 0.484183 0.502695 0.494089 0.486183 0.504695    9\n"
     ]
    },
    {
     "name": "stderr",
     "output_type": "stream",
     "text": [
      "Parsing Hierarchy : 100%|████████████████| 7829/7829 [00:00<00:00, 18992.56it/s]\n",
      "yt : [INFO     ] 2022-07-13 09:36:08,799 Gathering a field list (this may take a moment.)\n",
      "yt : [WARNING  ] 2022-07-13 09:36:11,572 The stars particle filter already exists. Overriding.\n",
      "yt : [WARNING  ] 2022-07-13 09:36:11,573 The DM particle filter already exists. Overriding.\n"
     ]
    },
    {
     "name": "stdout",
     "output_type": "stream",
     "text": [
      "Pulling halo center from catalog file\n",
      "Opening snapshot /Volumes/TempestTimeSteps/DD0787/DD0787\n"
     ]
    },
    {
     "name": "stderr",
     "output_type": "stream",
     "text": [
      "yt : [INFO     ] 2022-07-13 09:36:11,747 Parameters: current_time              = 229.81652781829\n",
      "yt : [INFO     ] 2022-07-13 09:36:11,750 Parameters: domain_dimensions         = [256 256 256]\n",
      "yt : [INFO     ] 2022-07-13 09:36:11,752 Parameters: domain_left_edge          = [0. 0. 0.]\n",
      "yt : [INFO     ] 2022-07-13 09:36:11,755 Parameters: domain_right_edge         = [1. 1. 1.]\n",
      "yt : [INFO     ] 2022-07-13 09:36:11,755 Parameters: cosmological_simulation   = 1\n",
      "yt : [INFO     ] 2022-07-13 09:36:11,756 Parameters: current_redshift          = 1.2778593957079\n",
      "yt : [INFO     ] 2022-07-13 09:36:11,757 Parameters: omega_lambda              = 0.715\n",
      "yt : [INFO     ] 2022-07-13 09:36:11,758 Parameters: omega_matter              = 0.285\n",
      "yt : [INFO     ] 2022-07-13 09:36:11,759 Parameters: omega_radiation           = 0.0\n",
      "yt : [INFO     ] 2022-07-13 09:36:11,760 Parameters: hubble_constant           = 0.695\n"
     ]
    },
    {
     "name": "stdout",
     "output_type": "stream",
     "text": [
      "get_refine_box: using this location:      col1       col2     col3     col4     col5     col6     col7   col8\n",
      "------------- -------- -------- -------- -------- -------- -------- ----\n",
      "1.27785939571 0.492022 0.483956 0.502785 0.494022 0.485956 0.504785    9\n"
     ]
    },
    {
     "name": "stderr",
     "output_type": "stream",
     "text": [
      "Parsing Hierarchy : 100%|████████████████| 8132/8132 [00:00<00:00, 19391.87it/s]\n",
      "yt : [INFO     ] 2022-07-13 09:36:12,465 Gathering a field list (this may take a moment.)\n",
      "yt : [WARNING  ] 2022-07-13 09:36:15,116 The stars particle filter already exists. Overriding.\n",
      "yt : [WARNING  ] 2022-07-13 09:36:15,117 The DM particle filter already exists. Overriding.\n",
      "yt : [INFO     ] 2022-07-13 09:36:15,197 Parameters: current_time              = 234.81652781829\n",
      "yt : [INFO     ] 2022-07-13 09:36:15,200 Parameters: domain_dimensions         = [256 256 256]\n",
      "yt : [INFO     ] 2022-07-13 09:36:15,202 Parameters: domain_left_edge          = [0. 0. 0.]\n",
      "yt : [INFO     ] 2022-07-13 09:36:15,204 Parameters: domain_right_edge         = [1. 1. 1.]\n",
      "yt : [INFO     ] 2022-07-13 09:36:15,205 Parameters: cosmological_simulation   = 1\n",
      "yt : [INFO     ] 2022-07-13 09:36:15,206 Parameters: current_redshift          = 1.2432571790813\n",
      "yt : [INFO     ] 2022-07-13 09:36:15,207 Parameters: omega_lambda              = 0.715\n",
      "yt : [INFO     ] 2022-07-13 09:36:15,207 Parameters: omega_matter              = 0.285\n",
      "yt : [INFO     ] 2022-07-13 09:36:15,208 Parameters: omega_radiation           = 0.0\n",
      "yt : [INFO     ] 2022-07-13 09:36:15,209 Parameters: hubble_constant           = 0.695\n"
     ]
    },
    {
     "name": "stdout",
     "output_type": "stream",
     "text": [
      "Pulling halo center from catalog file\n",
      "Opening snapshot /Volumes/TempestTimeSteps/DD0807/DD0807\n",
      "get_refine_box: using this location:      col1       col2     col3     col4     col5     col6     col7   col8\n",
      "------------- -------- -------- -------- -------- -------- -------- ----\n",
      "1.24325717908 0.491957 0.483733 0.502879 0.493957 0.485733 0.504879    9\n"
     ]
    },
    {
     "name": "stderr",
     "output_type": "stream",
     "text": [
      "Parsing Hierarchy : 100%|████████████████| 7374/7374 [00:00<00:00, 18866.63it/s]\n",
      "yt : [INFO     ] 2022-07-13 09:36:15,857 Gathering a field list (this may take a moment.)\n",
      "yt : [WARNING  ] 2022-07-13 09:36:18,682 The stars particle filter already exists. Overriding.\n",
      "yt : [WARNING  ] 2022-07-13 09:36:18,682 The DM particle filter already exists. Overriding.\n"
     ]
    },
    {
     "name": "stdout",
     "output_type": "stream",
     "text": [
      "Pulling halo center from catalog file\n",
      "Opening snapshot /Volumes/TempestTimeSteps/DD0827/DD0827\n"
     ]
    },
    {
     "name": "stderr",
     "output_type": "stream",
     "text": [
      "yt : [INFO     ] 2022-07-13 09:36:18,852 Parameters: current_time              = 239.81652781829\n",
      "yt : [INFO     ] 2022-07-13 09:36:18,855 Parameters: domain_dimensions         = [256 256 256]\n",
      "yt : [INFO     ] 2022-07-13 09:36:18,857 Parameters: domain_left_edge          = [0. 0. 0.]\n",
      "yt : [INFO     ] 2022-07-13 09:36:18,860 Parameters: domain_right_edge         = [1. 1. 1.]\n",
      "yt : [INFO     ] 2022-07-13 09:36:18,865 Parameters: cosmological_simulation   = 1\n",
      "yt : [INFO     ] 2022-07-13 09:36:18,866 Parameters: current_redshift          = 1.2098042674053\n",
      "yt : [INFO     ] 2022-07-13 09:36:18,867 Parameters: omega_lambda              = 0.715\n",
      "yt : [INFO     ] 2022-07-13 09:36:18,867 Parameters: omega_matter              = 0.285\n",
      "yt : [INFO     ] 2022-07-13 09:36:18,868 Parameters: omega_radiation           = 0.0\n",
      "yt : [INFO     ] 2022-07-13 09:36:18,869 Parameters: hubble_constant           = 0.695\n"
     ]
    },
    {
     "name": "stdout",
     "output_type": "stream",
     "text": [
      "get_refine_box: using this location:      col1       col2     col3     col4     col5     col6     col7   col8\n",
      "------------- -------- -------- -------- -------- -------- -------- ----\n",
      "1.20980426741 0.491888 0.483515 0.502974 0.493888 0.485515 0.504974    9\n"
     ]
    },
    {
     "name": "stderr",
     "output_type": "stream",
     "text": [
      "Parsing Hierarchy : 100%|█████████████████| 6935/6935 [00:03<00:00, 2268.88it/s]\n",
      "yt : [INFO     ] 2022-07-13 09:36:22,224 Gathering a field list (this may take a moment.)\n",
      "yt : [WARNING  ] 2022-07-13 09:36:25,118 The stars particle filter already exists. Overriding.\n",
      "yt : [WARNING  ] 2022-07-13 09:36:25,119 The DM particle filter already exists. Overriding.\n"
     ]
    },
    {
     "name": "stdout",
     "output_type": "stream",
     "text": [
      "Pulling halo center from catalog file\n",
      "Opening snapshot /Volumes/TempestTimeSteps/DD0847/DD0847\n"
     ]
    },
    {
     "name": "stderr",
     "output_type": "stream",
     "text": [
      "yt : [INFO     ] 2022-07-13 09:36:25,300 Parameters: current_time              = 244.81652781829\n",
      "yt : [INFO     ] 2022-07-13 09:36:25,303 Parameters: domain_dimensions         = [256 256 256]\n",
      "yt : [INFO     ] 2022-07-13 09:36:25,306 Parameters: domain_left_edge          = [0. 0. 0.]\n",
      "yt : [INFO     ] 2022-07-13 09:36:25,309 Parameters: domain_right_edge         = [1. 1. 1.]\n",
      "yt : [INFO     ] 2022-07-13 09:36:25,310 Parameters: cosmological_simulation   = 1\n",
      "yt : [INFO     ] 2022-07-13 09:36:25,310 Parameters: current_redshift          = 1.1774376794027\n",
      "yt : [INFO     ] 2022-07-13 09:36:25,311 Parameters: omega_lambda              = 0.715\n",
      "yt : [INFO     ] 2022-07-13 09:36:25,312 Parameters: omega_matter              = 0.285\n",
      "yt : [INFO     ] 2022-07-13 09:36:25,312 Parameters: omega_radiation           = 0.0\n",
      "yt : [INFO     ] 2022-07-13 09:36:25,313 Parameters: hubble_constant           = 0.695\n"
     ]
    },
    {
     "name": "stdout",
     "output_type": "stream",
     "text": [
      "get_refine_box: using this location:     col1       col2     col3    col4     col5     col6    col7   col8\n",
      "------------ -------- ------- -------- -------- ------- -------- ----\n",
      "1.1774376794 0.491816 0.48329 0.503077 0.493816 0.48529 0.505077    9\n"
     ]
    },
    {
     "name": "stderr",
     "output_type": "stream",
     "text": [
      "Parsing Hierarchy : 100%|████████████████| 6688/6688 [00:00<00:00, 17149.03it/s]\n",
      "yt : [INFO     ] 2022-07-13 09:36:25,980 Gathering a field list (this may take a moment.)\n",
      "yt : [WARNING  ] 2022-07-13 09:36:28,828 The stars particle filter already exists. Overriding.\n",
      "yt : [WARNING  ] 2022-07-13 09:36:28,829 The DM particle filter already exists. Overriding.\n"
     ]
    },
    {
     "name": "stdout",
     "output_type": "stream",
     "text": [
      "Pulling halo center from catalog file\n",
      "Opening snapshot /Volumes/TempestTimeSteps/DD0867/DD0867\n"
     ]
    },
    {
     "name": "stderr",
     "output_type": "stream",
     "text": [
      "yt : [INFO     ] 2022-07-13 09:36:29,013 Parameters: current_time              = 249.81652781829\n",
      "yt : [INFO     ] 2022-07-13 09:36:29,015 Parameters: domain_dimensions         = [256 256 256]\n",
      "yt : [INFO     ] 2022-07-13 09:36:29,018 Parameters: domain_left_edge          = [0. 0. 0.]\n",
      "yt : [INFO     ] 2022-07-13 09:36:29,020 Parameters: domain_right_edge         = [1. 1. 1.]\n",
      "yt : [INFO     ] 2022-07-13 09:36:29,021 Parameters: cosmological_simulation   = 1\n",
      "yt : [INFO     ] 2022-07-13 09:36:29,021 Parameters: current_redshift          = 1.1460990837584\n",
      "yt : [INFO     ] 2022-07-13 09:36:29,022 Parameters: omega_lambda              = 0.715\n",
      "yt : [INFO     ] 2022-07-13 09:36:29,023 Parameters: omega_matter              = 0.285\n",
      "yt : [INFO     ] 2022-07-13 09:36:29,023 Parameters: omega_radiation           = 0.0\n",
      "yt : [INFO     ] 2022-07-13 09:36:29,024 Parameters: hubble_constant           = 0.695\n"
     ]
    },
    {
     "name": "stdout",
     "output_type": "stream",
     "text": [
      "get_refine_box: using this location:      col1       col2     col3     col4     col5     col6     col7   col8\n",
      "------------- -------- -------- -------- -------- -------- -------- ----\n",
      "1.14609908376 0.491743 0.483059 0.503163 0.493743 0.485059 0.505163    9\n"
     ]
    },
    {
     "name": "stderr",
     "output_type": "stream",
     "text": [
      "Parsing Hierarchy : 100%|████████████████| 7962/7962 [00:00<00:00, 18272.57it/s]\n",
      "yt : [INFO     ] 2022-07-13 09:36:29,752 Gathering a field list (this may take a moment.)\n",
      "yt : [WARNING  ] 2022-07-13 09:36:32,717 The stars particle filter already exists. Overriding.\n",
      "yt : [WARNING  ] 2022-07-13 09:36:32,718 The DM particle filter already exists. Overriding.\n"
     ]
    },
    {
     "name": "stdout",
     "output_type": "stream",
     "text": [
      "Pulling halo center from catalog file\n",
      "Opening snapshot /Volumes/TempestTimeSteps/DD0887/DD0887\n"
     ]
    },
    {
     "name": "stderr",
     "output_type": "stream",
     "text": [
      "yt : [INFO     ] 2022-07-13 09:36:32,884 Parameters: current_time              = 254.81652781829\n",
      "yt : [INFO     ] 2022-07-13 09:36:32,886 Parameters: domain_dimensions         = [256 256 256]\n",
      "yt : [INFO     ] 2022-07-13 09:36:32,890 Parameters: domain_left_edge          = [0. 0. 0.]\n",
      "yt : [INFO     ] 2022-07-13 09:36:32,893 Parameters: domain_right_edge         = [1. 1. 1.]\n",
      "yt : [INFO     ] 2022-07-13 09:36:32,894 Parameters: cosmological_simulation   = 1\n",
      "yt : [INFO     ] 2022-07-13 09:36:32,895 Parameters: current_redshift          = 1.1157343716912\n",
      "yt : [INFO     ] 2022-07-13 09:36:32,895 Parameters: omega_lambda              = 0.715\n",
      "yt : [INFO     ] 2022-07-13 09:36:32,896 Parameters: omega_matter              = 0.285\n",
      "yt : [INFO     ] 2022-07-13 09:36:32,896 Parameters: omega_radiation           = 0.0\n",
      "yt : [INFO     ] 2022-07-13 09:36:32,897 Parameters: hubble_constant           = 0.695\n"
     ]
    },
    {
     "name": "stdout",
     "output_type": "stream",
     "text": [
      "get_refine_box: using this location:      col1       col2     col3     col4     col5     col6     col7   col8\n",
      "------------- -------- -------- -------- -------- -------- -------- ----\n",
      "1.11573437169 0.491684 0.482832 0.503258 0.493684 0.484832 0.505258    9\n"
     ]
    },
    {
     "name": "stderr",
     "output_type": "stream",
     "text": [
      "Parsing Hierarchy : 100%|████████████████| 7394/7394 [00:00<00:00, 16819.14it/s]\n",
      "yt : [INFO     ] 2022-07-13 09:36:33,625 Gathering a field list (this may take a moment.)\n",
      "yt : [WARNING  ] 2022-07-13 09:36:36,485 The stars particle filter already exists. Overriding.\n",
      "yt : [WARNING  ] 2022-07-13 09:36:36,486 The DM particle filter already exists. Overriding.\n"
     ]
    },
    {
     "name": "stdout",
     "output_type": "stream",
     "text": [
      "Pulling halo center from catalog file\n",
      "Opening snapshot /Volumes/TempestTimeSteps/DD0907/DD0907\n"
     ]
    },
    {
     "name": "stderr",
     "output_type": "stream",
     "text": [
      "yt : [INFO     ] 2022-07-13 09:36:36,659 Parameters: current_time              = 259.81652781829\n",
      "yt : [INFO     ] 2022-07-13 09:36:36,661 Parameters: domain_dimensions         = [256 256 256]\n",
      "yt : [INFO     ] 2022-07-13 09:36:36,664 Parameters: domain_left_edge          = [0. 0. 0.]\n",
      "yt : [INFO     ] 2022-07-13 09:36:36,668 Parameters: domain_right_edge         = [1. 1. 1.]\n",
      "yt : [INFO     ] 2022-07-13 09:36:36,669 Parameters: cosmological_simulation   = 1\n",
      "yt : [INFO     ] 2022-07-13 09:36:36,670 Parameters: current_redshift          = 1.0862932762982\n",
      "yt : [INFO     ] 2022-07-13 09:36:36,671 Parameters: omega_lambda              = 0.715\n",
      "yt : [INFO     ] 2022-07-13 09:36:36,672 Parameters: omega_matter              = 0.285\n",
      "yt : [INFO     ] 2022-07-13 09:36:36,673 Parameters: omega_radiation           = 0.0\n",
      "yt : [INFO     ] 2022-07-13 09:36:36,674 Parameters: hubble_constant           = 0.695\n"
     ]
    },
    {
     "name": "stdout",
     "output_type": "stream",
     "text": [
      "get_refine_box: using this location:     col1       col2     col3     col4    col5     col6     col7  col8\n",
      "------------ -------- -------- ------- -------- -------- ------- ----\n",
      "1.0862932763 0.491633 0.482603 0.50335 0.493633 0.484603 0.50535    9\n"
     ]
    },
    {
     "name": "stderr",
     "output_type": "stream",
     "text": [
      "Parsing Hierarchy : 100%|████████████████| 7350/7350 [00:00<00:00, 18083.71it/s]\n",
      "yt : [INFO     ] 2022-07-13 09:36:37,378 Gathering a field list (this may take a moment.)\n",
      "yt : [WARNING  ] 2022-07-13 09:36:40,305 The stars particle filter already exists. Overriding.\n",
      "yt : [WARNING  ] 2022-07-13 09:36:40,305 The DM particle filter already exists. Overriding.\n",
      "yt : [INFO     ] 2022-07-13 09:36:40,407 Parameters: current_time              = 264.81652781829\n",
      "yt : [INFO     ] 2022-07-13 09:36:40,409 Parameters: domain_dimensions         = [256 256 256]\n",
      "yt : [INFO     ] 2022-07-13 09:36:40,412 Parameters: domain_left_edge          = [0. 0. 0.]\n",
      "yt : [INFO     ] 2022-07-13 09:36:40,414 Parameters: domain_right_edge         = [1. 1. 1.]\n",
      "yt : [INFO     ] 2022-07-13 09:36:40,415 Parameters: cosmological_simulation   = 1\n",
      "yt : [INFO     ] 2022-07-13 09:36:40,415 Parameters: current_redshift          = 1.0577290327654\n",
      "yt : [INFO     ] 2022-07-13 09:36:40,416 Parameters: omega_lambda              = 0.715\n",
      "yt : [INFO     ] 2022-07-13 09:36:40,416 Parameters: omega_matter              = 0.285\n",
      "yt : [INFO     ] 2022-07-13 09:36:40,417 Parameters: omega_radiation           = 0.0\n",
      "yt : [INFO     ] 2022-07-13 09:36:40,418 Parameters: hubble_constant           = 0.695\n"
     ]
    },
    {
     "name": "stdout",
     "output_type": "stream",
     "text": [
      "Pulling halo center from catalog file\n",
      "Opening snapshot /Volumes/TempestTimeSteps/DD0927/DD0927\n",
      "get_refine_box: using this location:      col1       col2     col3    col4     col5     col6    col7   col8\n",
      "------------- -------- ------- -------- -------- ------- -------- ----\n",
      "1.05772903277 0.491583 0.48238 0.503437 0.493583 0.48438 0.505437    9\n"
     ]
    },
    {
     "name": "stderr",
     "output_type": "stream",
     "text": [
      "Parsing Hierarchy : 100%|████████████████| 6595/6595 [00:00<00:00, 17251.56it/s]\n",
      "yt : [INFO     ] 2022-07-13 09:36:41,129 Gathering a field list (this may take a moment.)\n",
      "yt : [WARNING  ] 2022-07-13 09:36:44,288 The stars particle filter already exists. Overriding.\n",
      "yt : [WARNING  ] 2022-07-13 09:36:44,289 The DM particle filter already exists. Overriding.\n",
      "yt : [INFO     ] 2022-07-13 09:36:44,380 Parameters: current_time              = 269.81652781829\n",
      "yt : [INFO     ] 2022-07-13 09:36:44,382 Parameters: domain_dimensions         = [256 256 256]\n",
      "yt : [INFO     ] 2022-07-13 09:36:44,385 Parameters: domain_left_edge          = [0. 0. 0.]\n",
      "yt : [INFO     ] 2022-07-13 09:36:44,387 Parameters: domain_right_edge         = [1. 1. 1.]\n",
      "yt : [INFO     ] 2022-07-13 09:36:44,388 Parameters: cosmological_simulation   = 1\n",
      "yt : [INFO     ] 2022-07-13 09:36:44,388 Parameters: current_redshift          = 1.0299980743789\n",
      "yt : [INFO     ] 2022-07-13 09:36:44,389 Parameters: omega_lambda              = 0.715\n",
      "yt : [INFO     ] 2022-07-13 09:36:44,389 Parameters: omega_matter              = 0.285\n",
      "yt : [INFO     ] 2022-07-13 09:36:44,390 Parameters: omega_radiation           = 0.0\n",
      "yt : [INFO     ] 2022-07-13 09:36:44,391 Parameters: hubble_constant           = 0.695\n"
     ]
    },
    {
     "name": "stdout",
     "output_type": "stream",
     "text": [
      "Pulling halo center from catalog file\n",
      "Opening snapshot /Volumes/TempestTimeSteps/DD0947/DD0947\n",
      "get_refine_box: using this location:      col1       col2     col3     col4     col5     col6     col7   col8\n",
      "------------- -------- -------- -------- -------- -------- -------- ----\n",
      "1.02999807438 0.491539 0.482157 0.503523 0.493539 0.484157 0.505523    9\n"
     ]
    },
    {
     "name": "stderr",
     "output_type": "stream",
     "text": [
      "Parsing Hierarchy : 100%|████████████████| 6486/6486 [00:00<00:00, 11748.40it/s]\n",
      "yt : [INFO     ] 2022-07-13 09:36:45,237 Gathering a field list (this may take a moment.)\n",
      "yt : [WARNING  ] 2022-07-13 09:36:48,103 The stars particle filter already exists. Overriding.\n",
      "yt : [WARNING  ] 2022-07-13 09:36:48,103 The DM particle filter already exists. Overriding.\n",
      "yt : [INFO     ] 2022-07-13 09:36:48,193 Parameters: current_time              = 274.56652781829\n",
      "yt : [INFO     ] 2022-07-13 09:36:48,195 Parameters: domain_dimensions         = [256 256 256]\n",
      "yt : [INFO     ] 2022-07-13 09:36:48,197 Parameters: domain_left_edge          = [0. 0. 0.]\n",
      "yt : [INFO     ] 2022-07-13 09:36:48,200 Parameters: domain_right_edge         = [1. 1. 1.]\n",
      "yt : [INFO     ] 2022-07-13 09:36:48,200 Parameters: cosmological_simulation   = 1\n",
      "yt : [INFO     ] 2022-07-13 09:36:48,201 Parameters: current_redshift          = 1.0043884467376\n",
      "yt : [INFO     ] 2022-07-13 09:36:48,201 Parameters: omega_lambda              = 0.715\n",
      "yt : [INFO     ] 2022-07-13 09:36:48,202 Parameters: omega_matter              = 0.285\n",
      "yt : [INFO     ] 2022-07-13 09:36:48,203 Parameters: omega_radiation           = 0.0\n",
      "yt : [INFO     ] 2022-07-13 09:36:48,204 Parameters: hubble_constant           = 0.695\n"
     ]
    },
    {
     "name": "stdout",
     "output_type": "stream",
     "text": [
      "Pulling halo center from catalog file\n",
      "Opening snapshot /Volumes/TempestTimeSteps/DD0967/DD0967\n",
      "get_refine_box: using this location:      col1       col2     col3     col4     col5     col6     col7   col8\n",
      "------------- -------- -------- -------- -------- -------- -------- ----\n",
      "1.00438844674 0.491497 0.481944 0.503607 0.493497 0.483944 0.505607    9\n"
     ]
    },
    {
     "name": "stderr",
     "output_type": "stream",
     "text": [
      "Parsing Hierarchy : 100%|████████████████| 5908/5908 [00:00<00:00, 18040.91it/s]\n",
      "yt : [INFO     ] 2022-07-13 09:36:48,826 Gathering a field list (this may take a moment.)\n",
      "yt : [WARNING  ] 2022-07-13 09:36:51,694 The stars particle filter already exists. Overriding.\n",
      "yt : [WARNING  ] 2022-07-13 09:36:51,695 The DM particle filter already exists. Overriding.\n",
      "yt : [INFO     ] 2022-07-13 09:36:51,791 Parameters: current_time              = 279.56652781829\n",
      "yt : [INFO     ] 2022-07-13 09:36:51,794 Parameters: domain_dimensions         = [256 256 256]\n",
      "yt : [INFO     ] 2022-07-13 09:36:51,796 Parameters: domain_left_edge          = [0. 0. 0.]\n",
      "yt : [INFO     ] 2022-07-13 09:36:51,800 Parameters: domain_right_edge         = [1. 1. 1.]\n",
      "yt : [INFO     ] 2022-07-13 09:36:51,800 Parameters: cosmological_simulation   = 1\n",
      "yt : [INFO     ] 2022-07-13 09:36:51,801 Parameters: current_redshift          = 0.97816794442974\n",
      "yt : [INFO     ] 2022-07-13 09:36:51,801 Parameters: omega_lambda              = 0.715\n",
      "yt : [INFO     ] 2022-07-13 09:36:51,802 Parameters: omega_matter              = 0.285\n",
      "yt : [INFO     ] 2022-07-13 09:36:51,803 Parameters: omega_radiation           = 0.0\n",
      "yt : [INFO     ] 2022-07-13 09:36:51,803 Parameters: hubble_constant           = 0.695\n"
     ]
    },
    {
     "name": "stdout",
     "output_type": "stream",
     "text": [
      "Pulling halo center from catalog file\n",
      "Opening snapshot /Volumes/TempestTimeSteps/DD0987/DD0987\n",
      "get_refine_box: using this location:      col1       col2     col3     col4     col5     col6     col7   col8\n",
      "------------- -------- -------- -------- -------- -------- -------- ----\n",
      "0.97816794443 0.491452 0.481724 0.503697 0.493452 0.483724 0.505697    9\n"
     ]
    },
    {
     "name": "stderr",
     "output_type": "stream",
     "text": [
      "Parsing Hierarchy : 100%|████████████████| 5704/5704 [00:00<00:00, 18360.31it/s]\n",
      "yt : [INFO     ] 2022-07-13 09:36:52,410 Gathering a field list (this may take a moment.)\n",
      "yt : [WARNING  ] 2022-07-13 09:36:55,255 The stars particle filter already exists. Overriding.\n",
      "yt : [WARNING  ] 2022-07-13 09:36:55,255 The DM particle filter already exists. Overriding.\n"
     ]
    },
    {
     "name": "stdout",
     "output_type": "stream",
     "text": [
      "Pulling halo center from catalog file\n",
      "Opening snapshot /Volumes/TempestTimeSteps/DD1007/DD1007\n"
     ]
    },
    {
     "name": "stderr",
     "output_type": "stream",
     "text": [
      "yt : [INFO     ] 2022-07-13 09:36:55,411 Parameters: current_time              = 284.56652781829\n",
      "yt : [INFO     ] 2022-07-13 09:36:55,414 Parameters: domain_dimensions         = [256 256 256]\n",
      "yt : [INFO     ] 2022-07-13 09:36:55,417 Parameters: domain_left_edge          = [0. 0. 0.]\n",
      "yt : [INFO     ] 2022-07-13 09:36:55,420 Parameters: domain_right_edge         = [1. 1. 1.]\n",
      "yt : [INFO     ] 2022-07-13 09:36:55,421 Parameters: cosmological_simulation   = 1\n",
      "yt : [INFO     ] 2022-07-13 09:36:55,422 Parameters: current_redshift          = 0.95266834518911\n",
      "yt : [INFO     ] 2022-07-13 09:36:55,422 Parameters: omega_lambda              = 0.715\n",
      "yt : [INFO     ] 2022-07-13 09:36:55,423 Parameters: omega_matter              = 0.285\n",
      "yt : [INFO     ] 2022-07-13 09:36:55,424 Parameters: omega_radiation           = 0.0\n",
      "yt : [INFO     ] 2022-07-13 09:36:55,425 Parameters: hubble_constant           = 0.695\n"
     ]
    },
    {
     "name": "stdout",
     "output_type": "stream",
     "text": [
      "get_refine_box: using this location:      col1        col2     col3     col4     col5     col6     col7   col8\n",
      "-------------- -------- -------- -------- -------- -------- -------- ----\n",
      "0.952668345189 0.491404 0.481507 0.503786 0.493404 0.483507 0.505786    9\n"
     ]
    },
    {
     "name": "stderr",
     "output_type": "stream",
     "text": [
      "Parsing Hierarchy : 100%|█████████████████| 5544/5544 [00:03<00:00, 1645.69it/s]\n",
      "yt : [INFO     ] 2022-07-13 09:36:59,032 Gathering a field list (this may take a moment.)\n",
      "yt : [WARNING  ] 2022-07-13 09:37:01,743 The stars particle filter already exists. Overriding.\n",
      "yt : [WARNING  ] 2022-07-13 09:37:01,744 The DM particle filter already exists. Overriding.\n"
     ]
    },
    {
     "name": "stdout",
     "output_type": "stream",
     "text": [
      "Pulling halo center from catalog file\n",
      "Opening snapshot /Volumes/TempestTimeSteps/DD1027/DD1027\n"
     ]
    },
    {
     "name": "stderr",
     "output_type": "stream",
     "text": [
      "yt : [INFO     ] 2022-07-13 09:37:01,919 Parameters: current_time              = 289.56652781829\n",
      "yt : [INFO     ] 2022-07-13 09:37:01,922 Parameters: domain_dimensions         = [256 256 256]\n",
      "yt : [INFO     ] 2022-07-13 09:37:01,924 Parameters: domain_left_edge          = [0. 0. 0.]\n",
      "yt : [INFO     ] 2022-07-13 09:37:01,928 Parameters: domain_right_edge         = [1. 1. 1.]\n",
      "yt : [INFO     ] 2022-07-13 09:37:01,929 Parameters: cosmological_simulation   = 1\n",
      "yt : [INFO     ] 2022-07-13 09:37:01,929 Parameters: current_redshift          = 0.92785630164072\n",
      "yt : [INFO     ] 2022-07-13 09:37:01,930 Parameters: omega_lambda              = 0.715\n",
      "yt : [INFO     ] 2022-07-13 09:37:01,931 Parameters: omega_matter              = 0.285\n",
      "yt : [INFO     ] 2022-07-13 09:37:01,932 Parameters: omega_radiation           = 0.0\n",
      "yt : [INFO     ] 2022-07-13 09:37:01,932 Parameters: hubble_constant           = 0.695\n"
     ]
    },
    {
     "name": "stdout",
     "output_type": "stream",
     "text": [
      "get_refine_box: using this location:      col1        col2     col3     col4     col5     col6     col7   col8\n",
      "-------------- -------- -------- -------- -------- -------- -------- ----\n",
      "0.927856301641 0.491352 0.481291 0.503872 0.493352 0.483291 0.505872    9\n"
     ]
    },
    {
     "name": "stderr",
     "output_type": "stream",
     "text": [
      "Parsing Hierarchy : 100%|████████████████| 5326/5326 [00:00<00:00, 18082.42it/s]\n",
      "yt : [INFO     ] 2022-07-13 09:37:02,446 Gathering a field list (this may take a moment.)\n",
      "yt : [WARNING  ] 2022-07-13 09:37:05,301 The stars particle filter already exists. Overriding.\n",
      "yt : [WARNING  ] 2022-07-13 09:37:05,302 The DM particle filter already exists. Overriding.\n"
     ]
    },
    {
     "name": "stdout",
     "output_type": "stream",
     "text": [
      "Pulling halo center from catalog file\n",
      "Opening snapshot /Volumes/TempestTimeSteps/DD1047/DD1047\n"
     ]
    },
    {
     "name": "stderr",
     "output_type": "stream",
     "text": [
      "yt : [INFO     ] 2022-07-13 09:37:05,495 Parameters: current_time              = 294.56652781829\n",
      "yt : [INFO     ] 2022-07-13 09:37:05,535 Parameters: domain_dimensions         = [256 256 256]\n",
      "yt : [INFO     ] 2022-07-13 09:37:05,548 Parameters: domain_left_edge          = [0. 0. 0.]\n",
      "yt : [INFO     ] 2022-07-13 09:37:05,559 Parameters: domain_right_edge         = [1. 1. 1.]\n",
      "yt : [INFO     ] 2022-07-13 09:37:05,560 Parameters: cosmological_simulation   = 1\n",
      "yt : [INFO     ] 2022-07-13 09:37:05,560 Parameters: current_redshift          = 0.90370055679921\n",
      "yt : [INFO     ] 2022-07-13 09:37:05,561 Parameters: omega_lambda              = 0.715\n",
      "yt : [INFO     ] 2022-07-13 09:37:05,562 Parameters: omega_matter              = 0.285\n",
      "yt : [INFO     ] 2022-07-13 09:37:05,563 Parameters: omega_radiation           = 0.0\n",
      "yt : [INFO     ] 2022-07-13 09:37:05,563 Parameters: hubble_constant           = 0.695\n"
     ]
    },
    {
     "name": "stdout",
     "output_type": "stream",
     "text": [
      "get_refine_box: using this location:      col1        col2     col3    col4     col5     col6    col7   col8\n",
      "-------------- -------- ------- -------- -------- ------- -------- ----\n",
      "0.903700556799 0.491301 0.48108 0.503952 0.493301 0.48308 0.505952    9\n"
     ]
    },
    {
     "name": "stderr",
     "output_type": "stream",
     "text": [
      "Parsing Hierarchy : 100%|████████████████| 5246/5246 [00:00<00:00, 17654.98it/s]\n",
      "yt : [INFO     ] 2022-07-13 09:37:06,109 Gathering a field list (this may take a moment.)\n",
      "yt : [WARNING  ] 2022-07-13 09:37:08,927 The stars particle filter already exists. Overriding.\n",
      "yt : [WARNING  ] 2022-07-13 09:37:08,928 The DM particle filter already exists. Overriding.\n"
     ]
    },
    {
     "name": "stdout",
     "output_type": "stream",
     "text": [
      "Pulling halo center from catalog file\n",
      "Opening snapshot /Volumes/TempestTimeSteps/DD1067/DD1067\n"
     ]
    },
    {
     "name": "stderr",
     "output_type": "stream",
     "text": [
      "yt : [INFO     ] 2022-07-13 09:37:09,122 Parameters: current_time              = 299.56652781829\n",
      "yt : [INFO     ] 2022-07-13 09:37:09,125 Parameters: domain_dimensions         = [256 256 256]\n",
      "yt : [INFO     ] 2022-07-13 09:37:09,127 Parameters: domain_left_edge          = [0. 0. 0.]\n",
      "yt : [INFO     ] 2022-07-13 09:37:09,130 Parameters: domain_right_edge         = [1. 1. 1.]\n",
      "yt : [INFO     ] 2022-07-13 09:37:09,131 Parameters: cosmological_simulation   = 1\n",
      "yt : [INFO     ] 2022-07-13 09:37:09,131 Parameters: current_redshift          = 0.88017178065176\n",
      "yt : [INFO     ] 2022-07-13 09:37:09,132 Parameters: omega_lambda              = 0.715\n",
      "yt : [INFO     ] 2022-07-13 09:37:09,132 Parameters: omega_matter              = 0.285\n",
      "yt : [INFO     ] 2022-07-13 09:37:09,133 Parameters: omega_radiation           = 0.0\n",
      "yt : [INFO     ] 2022-07-13 09:37:09,134 Parameters: hubble_constant           = 0.695\n"
     ]
    },
    {
     "name": "stdout",
     "output_type": "stream",
     "text": [
      "get_refine_box: using this location:      col1        col2     col3     col4     col5     col6     col7   col8\n",
      "-------------- -------- -------- -------- -------- -------- -------- ----\n",
      "0.880171780652 0.491244 0.480872 0.504027 0.493244 0.482872 0.506027    9\n"
     ]
    },
    {
     "name": "stderr",
     "output_type": "stream",
     "text": [
      "Parsing Hierarchy : 100%|████████████████| 5244/5244 [00:00<00:00, 18431.96it/s]\n",
      "yt : [INFO     ] 2022-07-13 09:37:09,647 Gathering a field list (this may take a moment.)\n",
      "yt : [WARNING  ] 2022-07-13 09:37:12,458 The stars particle filter already exists. Overriding.\n",
      "yt : [WARNING  ] 2022-07-13 09:37:12,459 The DM particle filter already exists. Overriding.\n"
     ]
    },
    {
     "name": "stdout",
     "output_type": "stream",
     "text": [
      "Pulling halo center from catalog file\n",
      "Opening snapshot /Volumes/TempestTimeSteps/DD1087/DD1087\n"
     ]
    },
    {
     "name": "stderr",
     "output_type": "stream",
     "text": [
      "yt : [INFO     ] 2022-07-13 09:37:12,646 Parameters: current_time              = 304.56652781829\n",
      "yt : [INFO     ] 2022-07-13 09:37:12,649 Parameters: domain_dimensions         = [256 256 256]\n",
      "yt : [INFO     ] 2022-07-13 09:37:12,651 Parameters: domain_left_edge          = [0. 0. 0.]\n",
      "yt : [INFO     ] 2022-07-13 09:37:12,654 Parameters: domain_right_edge         = [1. 1. 1.]\n",
      "yt : [INFO     ] 2022-07-13 09:37:12,655 Parameters: cosmological_simulation   = 1\n",
      "yt : [INFO     ] 2022-07-13 09:37:12,655 Parameters: current_redshift          = 0.85724242198899\n",
      "yt : [INFO     ] 2022-07-13 09:37:12,655 Parameters: omega_lambda              = 0.715\n",
      "yt : [INFO     ] 2022-07-13 09:37:12,656 Parameters: omega_matter              = 0.285\n",
      "yt : [INFO     ] 2022-07-13 09:37:12,657 Parameters: omega_radiation           = 0.0\n",
      "yt : [INFO     ] 2022-07-13 09:37:12,657 Parameters: hubble_constant           = 0.695\n"
     ]
    },
    {
     "name": "stdout",
     "output_type": "stream",
     "text": [
      "get_refine_box: using this location:      col1        col2     col3     col4     col5     col6     col7   col8\n",
      "-------------- -------- -------- -------- -------- -------- -------- ----\n",
      "0.857242421989 0.491192 0.480668 0.504092 0.493192 0.482668 0.506092    9\n"
     ]
    },
    {
     "name": "stderr",
     "output_type": "stream",
     "text": [
      "Parsing Hierarchy : 100%|████████████████| 5163/5163 [00:00<00:00, 17500.93it/s]\n",
      "yt : [INFO     ] 2022-07-13 09:37:13,193 Gathering a field list (this may take a moment.)\n",
      "yt : [WARNING  ] 2022-07-13 09:37:15,891 The stars particle filter already exists. Overriding.\n",
      "yt : [WARNING  ] 2022-07-13 09:37:15,892 The DM particle filter already exists. Overriding.\n"
     ]
    },
    {
     "name": "stdout",
     "output_type": "stream",
     "text": [
      "Pulling halo center from catalog file\n",
      "Opening snapshot /Volumes/TempestTimeSteps/DD1107/DD1107\n"
     ]
    },
    {
     "name": "stderr",
     "output_type": "stream",
     "text": [
      "yt : [INFO     ] 2022-07-13 09:37:16,060 Parameters: current_time              = 309.56652781829\n",
      "yt : [INFO     ] 2022-07-13 09:37:16,063 Parameters: domain_dimensions         = [256 256 256]\n",
      "yt : [INFO     ] 2022-07-13 09:37:16,065 Parameters: domain_left_edge          = [0. 0. 0.]\n",
      "yt : [INFO     ] 2022-07-13 09:37:16,068 Parameters: domain_right_edge         = [1. 1. 1.]\n",
      "yt : [INFO     ] 2022-07-13 09:37:16,069 Parameters: cosmological_simulation   = 1\n",
      "yt : [INFO     ] 2022-07-13 09:37:16,069 Parameters: current_redshift          = 0.83488657383741\n",
      "yt : [INFO     ] 2022-07-13 09:37:16,069 Parameters: omega_lambda              = 0.715\n",
      "yt : [INFO     ] 2022-07-13 09:37:16,070 Parameters: omega_matter              = 0.285\n",
      "yt : [INFO     ] 2022-07-13 09:37:16,070 Parameters: omega_radiation           = 0.0\n",
      "yt : [INFO     ] 2022-07-13 09:37:16,071 Parameters: hubble_constant           = 0.695\n"
     ]
    },
    {
     "name": "stdout",
     "output_type": "stream",
     "text": [
      "get_refine_box: using this location:       col1         col2     col3     col4     col5     col6     col7   col8\n",
      "---------------- -------- -------- -------- -------- -------- -------- ----\n",
      "0.83488657383741 0.491154 0.480465 0.504151 0.493154 0.482465 0.506151    9\n"
     ]
    },
    {
     "name": "stderr",
     "output_type": "stream",
     "text": [
      "Parsing Hierarchy : 100%|████████████████| 5231/5231 [00:00<00:00, 18506.66it/s]\n",
      "yt : [INFO     ] 2022-07-13 09:37:16,565 Gathering a field list (this may take a moment.)\n",
      "yt : [WARNING  ] 2022-07-13 09:37:19,334 The stars particle filter already exists. Overriding.\n",
      "yt : [WARNING  ] 2022-07-13 09:37:19,335 The DM particle filter already exists. Overriding.\n"
     ]
    },
    {
     "name": "stdout",
     "output_type": "stream",
     "text": [
      "Pulling halo center from catalog file\n",
      "Opening snapshot /Volumes/TempestTimeSteps/DD1127/DD1127\n"
     ]
    },
    {
     "name": "stderr",
     "output_type": "stream",
     "text": [
      "yt : [INFO     ] 2022-07-13 09:37:19,514 Parameters: current_time              = 314.56652781829\n",
      "yt : [INFO     ] 2022-07-13 09:37:19,517 Parameters: domain_dimensions         = [256 256 256]\n",
      "yt : [INFO     ] 2022-07-13 09:37:19,520 Parameters: domain_left_edge          = [0. 0. 0.]\n",
      "yt : [INFO     ] 2022-07-13 09:37:19,522 Parameters: domain_right_edge         = [1. 1. 1.]\n",
      "yt : [INFO     ] 2022-07-13 09:37:19,523 Parameters: cosmological_simulation   = 1\n",
      "yt : [INFO     ] 2022-07-13 09:37:19,524 Parameters: current_redshift          = 0.81307985104783\n",
      "yt : [INFO     ] 2022-07-13 09:37:19,524 Parameters: omega_lambda              = 0.715\n",
      "yt : [INFO     ] 2022-07-13 09:37:19,525 Parameters: omega_matter              = 0.285\n",
      "yt : [INFO     ] 2022-07-13 09:37:19,526 Parameters: omega_radiation           = 0.0\n",
      "yt : [INFO     ] 2022-07-13 09:37:19,527 Parameters: hubble_constant           = 0.695\n"
     ]
    },
    {
     "name": "stdout",
     "output_type": "stream",
     "text": [
      "get_refine_box: using this location:       col1         col2     col3     col4     col5     col6     col7   col8\n",
      "---------------- -------- -------- -------- -------- -------- -------- ----\n",
      "0.81307985104783 0.491127 0.480267 0.504221 0.493127 0.482267 0.506221    9\n"
     ]
    },
    {
     "name": "stderr",
     "output_type": "stream",
     "text": [
      "Parsing Hierarchy : 100%|████████████████| 5553/5553 [00:00<00:00, 19166.65it/s]\n",
      "yt : [INFO     ] 2022-07-13 09:37:20,031 Gathering a field list (this may take a moment.)\n",
      "yt : [WARNING  ] 2022-07-13 09:37:22,689 The stars particle filter already exists. Overriding.\n",
      "yt : [WARNING  ] 2022-07-13 09:37:22,689 The DM particle filter already exists. Overriding.\n"
     ]
    },
    {
     "name": "stdout",
     "output_type": "stream",
     "text": [
      "Pulling halo center from catalog file\n",
      "Opening snapshot /Volumes/TempestTimeSteps/DD1147/DD1147\n"
     ]
    },
    {
     "name": "stderr",
     "output_type": "stream",
     "text": [
      "yt : [INFO     ] 2022-07-13 09:37:22,866 Parameters: current_time              = 319.56652781829\n",
      "yt : [INFO     ] 2022-07-13 09:37:22,870 Parameters: domain_dimensions         = [256 256 256]\n",
      "yt : [INFO     ] 2022-07-13 09:37:22,872 Parameters: domain_left_edge          = [0. 0. 0.]\n",
      "yt : [INFO     ] 2022-07-13 09:37:22,875 Parameters: domain_right_edge         = [1. 1. 1.]\n",
      "yt : [INFO     ] 2022-07-13 09:37:22,875 Parameters: cosmological_simulation   = 1\n",
      "yt : [INFO     ] 2022-07-13 09:37:22,876 Parameters: current_redshift          = 0.79179927876823\n",
      "yt : [INFO     ] 2022-07-13 09:37:22,877 Parameters: omega_lambda              = 0.715\n",
      "yt : [INFO     ] 2022-07-13 09:37:22,877 Parameters: omega_matter              = 0.285\n",
      "yt : [INFO     ] 2022-07-13 09:37:22,878 Parameters: omega_radiation           = 0.0\n",
      "yt : [INFO     ] 2022-07-13 09:37:22,879 Parameters: hubble_constant           = 0.695\n"
     ]
    },
    {
     "name": "stdout",
     "output_type": "stream",
     "text": [
      "get_refine_box: using this location:       col1         col2     col3    col4    col5     col6    col7  col8\n",
      "---------------- -------- -------- ------ -------- -------- ------ ----\n",
      "0.79179927876823 0.491095 0.480072 0.5043 0.493095 0.482072 0.5063    9\n"
     ]
    },
    {
     "name": "stderr",
     "output_type": "stream",
     "text": [
      "Parsing Hierarchy : 100%|████████████████| 5902/5902 [00:00<00:00, 18684.56it/s]\n",
      "yt : [INFO     ] 2022-07-13 09:37:23,419 Gathering a field list (this may take a moment.)\n",
      "yt : [WARNING  ] 2022-07-13 09:37:26,141 The stars particle filter already exists. Overriding.\n",
      "yt : [WARNING  ] 2022-07-13 09:37:26,142 The DM particle filter already exists. Overriding.\n",
      "yt : [INFO     ] 2022-07-13 09:37:26,236 Parameters: current_time              = 324.56652781829\n",
      "yt : [INFO     ] 2022-07-13 09:37:26,238 Parameters: domain_dimensions         = [256 256 256]\n",
      "yt : [INFO     ] 2022-07-13 09:37:26,241 Parameters: domain_left_edge          = [0. 0. 0.]\n",
      "yt : [INFO     ] 2022-07-13 09:37:26,245 Parameters: domain_right_edge         = [1. 1. 1.]\n",
      "yt : [INFO     ] 2022-07-13 09:37:26,246 Parameters: cosmological_simulation   = 1\n",
      "yt : [INFO     ] 2022-07-13 09:37:26,246 Parameters: current_redshift          = 0.77102319068022\n",
      "yt : [INFO     ] 2022-07-13 09:37:26,247 Parameters: omega_lambda              = 0.715\n",
      "yt : [INFO     ] 2022-07-13 09:37:26,247 Parameters: omega_matter              = 0.285\n",
      "yt : [INFO     ] 2022-07-13 09:37:26,248 Parameters: omega_radiation           = 0.0\n",
      "yt : [INFO     ] 2022-07-13 09:37:26,249 Parameters: hubble_constant           = 0.695\n"
     ]
    },
    {
     "name": "stdout",
     "output_type": "stream",
     "text": [
      "Pulling halo center from catalog file\n",
      "Opening snapshot /Volumes/TempestTimeSteps/DD1167/DD1167\n",
      "get_refine_box: using this location:       col1         col2     col3     col4     col5     col6     col7   col8\n",
      "---------------- -------- -------- -------- -------- -------- -------- ----\n",
      "0.77102319068022 0.491061 0.479878 0.504383 0.493061 0.481878 0.506383    9\n"
     ]
    },
    {
     "name": "stderr",
     "output_type": "stream",
     "text": [
      "Parsing Hierarchy : 100%|████████████████| 6312/6312 [00:00<00:00, 15889.08it/s]\n",
      "yt : [INFO     ] 2022-07-13 09:37:26,975 Gathering a field list (this may take a moment.)\n",
      "yt : [WARNING  ] 2022-07-13 09:37:29,701 The stars particle filter already exists. Overriding.\n",
      "yt : [WARNING  ] 2022-07-13 09:37:29,702 The DM particle filter already exists. Overriding.\n"
     ]
    },
    {
     "name": "stdout",
     "output_type": "stream",
     "text": [
      "Pulling halo center from catalog file\n",
      "Opening snapshot /Volumes/TempestTimeSteps/DD1187/DD1187\n"
     ]
    },
    {
     "name": "stderr",
     "output_type": "stream",
     "text": [
      "yt : [INFO     ] 2022-07-13 09:37:29,899 Parameters: current_time              = 329.56652781829\n",
      "yt : [INFO     ] 2022-07-13 09:37:29,901 Parameters: domain_dimensions         = [256 256 256]\n",
      "yt : [INFO     ] 2022-07-13 09:37:29,903 Parameters: domain_left_edge          = [0. 0. 0.]\n",
      "yt : [INFO     ] 2022-07-13 09:37:29,906 Parameters: domain_right_edge         = [1. 1. 1.]\n",
      "yt : [INFO     ] 2022-07-13 09:37:29,907 Parameters: cosmological_simulation   = 1\n",
      "yt : [INFO     ] 2022-07-13 09:37:29,908 Parameters: current_redshift          = 0.75073113600866\n",
      "yt : [INFO     ] 2022-07-13 09:37:29,908 Parameters: omega_lambda              = 0.715\n",
      "yt : [INFO     ] 2022-07-13 09:37:29,909 Parameters: omega_matter              = 0.285\n",
      "yt : [INFO     ] 2022-07-13 09:37:29,909 Parameters: omega_radiation           = 0.0\n",
      "yt : [INFO     ] 2022-07-13 09:37:29,910 Parameters: hubble_constant           = 0.695\n"
     ]
    },
    {
     "name": "stdout",
     "output_type": "stream",
     "text": [
      "get_refine_box: using this location:       col1         col2     col3     col4     col5     col6     col7   col8\n",
      "---------------- -------- -------- -------- -------- -------- -------- ----\n",
      "0.75073113600866 0.491021 0.479683 0.504466 0.493021 0.481683 0.506466    9\n"
     ]
    },
    {
     "name": "stderr",
     "output_type": "stream",
     "text": [
      "Parsing Hierarchy : 100%|████████████████| 5990/5990 [00:00<00:00, 17289.36it/s]\n",
      "yt : [INFO     ] 2022-07-13 09:37:30,493 Gathering a field list (this may take a moment.)\n",
      "yt : [WARNING  ] 2022-07-13 09:37:33,395 The stars particle filter already exists. Overriding.\n",
      "yt : [WARNING  ] 2022-07-13 09:37:33,395 The DM particle filter already exists. Overriding.\n"
     ]
    },
    {
     "name": "stdout",
     "output_type": "stream",
     "text": [
      "Pulling halo center from catalog file\n",
      "Opening snapshot /Volumes/TempestTimeSteps/DD1207/DD1207\n"
     ]
    },
    {
     "name": "stderr",
     "output_type": "stream",
     "text": [
      "yt : [INFO     ] 2022-07-13 09:37:33,585 Parameters: current_time              = 334.56652781829\n",
      "yt : [INFO     ] 2022-07-13 09:37:33,588 Parameters: domain_dimensions         = [256 256 256]\n",
      "yt : [INFO     ] 2022-07-13 09:37:33,592 Parameters: domain_left_edge          = [0. 0. 0.]\n",
      "yt : [INFO     ] 2022-07-13 09:37:33,594 Parameters: domain_right_edge         = [1. 1. 1.]\n",
      "yt : [INFO     ] 2022-07-13 09:37:33,595 Parameters: cosmological_simulation   = 1\n",
      "yt : [INFO     ] 2022-07-13 09:37:33,595 Parameters: current_redshift          = 0.7309037944282\n",
      "yt : [INFO     ] 2022-07-13 09:37:33,596 Parameters: omega_lambda              = 0.715\n",
      "yt : [INFO     ] 2022-07-13 09:37:33,596 Parameters: omega_matter              = 0.285\n",
      "yt : [INFO     ] 2022-07-13 09:37:33,597 Parameters: omega_radiation           = 0.0\n",
      "yt : [INFO     ] 2022-07-13 09:37:33,597 Parameters: hubble_constant           = 0.695\n"
     ]
    },
    {
     "name": "stdout",
     "output_type": "stream",
     "text": [
      "get_refine_box: using this location:       col1        col2     col3     col4     col5     col6     col7   col8\n",
      "--------------- -------- -------- -------- -------- -------- -------- ----\n",
      "0.7309037944282 0.490979 0.479485 0.504549 0.492979 0.481485 0.506549    9\n"
     ]
    },
    {
     "name": "stderr",
     "output_type": "stream",
     "text": [
      "Parsing Hierarchy : 100%|████████████████| 5804/5804 [00:00<00:00, 16891.55it/s]\n",
      "yt : [INFO     ] 2022-07-13 09:37:34,206 Gathering a field list (this may take a moment.)\n",
      "yt : [WARNING  ] 2022-07-13 09:37:37,402 The stars particle filter already exists. Overriding.\n",
      "yt : [WARNING  ] 2022-07-13 09:37:37,403 The DM particle filter already exists. Overriding.\n"
     ]
    },
    {
     "name": "stdout",
     "output_type": "stream",
     "text": [
      "Pulling halo center from catalog file\n",
      "Opening snapshot /Volumes/TempestTimeSteps/DD1227/DD1227\n"
     ]
    },
    {
     "name": "stderr",
     "output_type": "stream",
     "text": [
      "yt : [INFO     ] 2022-07-13 09:37:37,514 Parameters: current_time              = 339.56652781829\n",
      "yt : [INFO     ] 2022-07-13 09:37:37,517 Parameters: domain_dimensions         = [256 256 256]\n",
      "yt : [INFO     ] 2022-07-13 09:37:37,520 Parameters: domain_left_edge          = [0. 0. 0.]\n",
      "yt : [INFO     ] 2022-07-13 09:37:37,523 Parameters: domain_right_edge         = [1. 1. 1.]\n",
      "yt : [INFO     ] 2022-07-13 09:37:37,523 Parameters: cosmological_simulation   = 1\n",
      "yt : [INFO     ] 2022-07-13 09:37:37,524 Parameters: current_redshift          = 0.71152289808928\n",
      "yt : [INFO     ] 2022-07-13 09:37:37,525 Parameters: omega_lambda              = 0.715\n",
      "yt : [INFO     ] 2022-07-13 09:37:37,526 Parameters: omega_matter              = 0.285\n",
      "yt : [INFO     ] 2022-07-13 09:37:37,527 Parameters: omega_radiation           = 0.0\n",
      "yt : [INFO     ] 2022-07-13 09:37:37,528 Parameters: hubble_constant           = 0.695\n"
     ]
    },
    {
     "name": "stdout",
     "output_type": "stream",
     "text": [
      "get_refine_box: using this location:       col1         col2     col3     col4     col5     col6     col7   col8\n",
      "---------------- -------- -------- -------- -------- -------- -------- ----\n",
      "0.71152289808928 0.490935 0.479287 0.504633 0.492935 0.481287 0.506633    9\n"
     ]
    },
    {
     "name": "stderr",
     "output_type": "stream",
     "text": [
      "Parsing Hierarchy : 100%|████████████████| 5825/5825 [00:00<00:00, 15189.17it/s]\n",
      "yt : [INFO     ] 2022-07-13 09:37:38,323 Gathering a field list (this may take a moment.)\n",
      "yt : [WARNING  ] 2022-07-13 09:37:41,513 The stars particle filter already exists. Overriding.\n",
      "yt : [WARNING  ] 2022-07-13 09:37:41,514 The DM particle filter already exists. Overriding.\n"
     ]
    },
    {
     "name": "stdout",
     "output_type": "stream",
     "text": [
      "Pulling halo center from catalog file\n",
      "Opening snapshot /Volumes/TempestTimeSteps/DD1247/DD1247\n"
     ]
    },
    {
     "name": "stderr",
     "output_type": "stream",
     "text": [
      "yt : [INFO     ] 2022-07-13 09:37:41,698 Parameters: current_time              = 344.56652781829\n",
      "yt : [INFO     ] 2022-07-13 09:37:41,700 Parameters: domain_dimensions         = [256 256 256]\n",
      "yt : [INFO     ] 2022-07-13 09:37:41,703 Parameters: domain_left_edge          = [0. 0. 0.]\n",
      "yt : [INFO     ] 2022-07-13 09:37:41,705 Parameters: domain_right_edge         = [1. 1. 1.]\n",
      "yt : [INFO     ] 2022-07-13 09:37:41,706 Parameters: cosmological_simulation   = 1\n",
      "yt : [INFO     ] 2022-07-13 09:37:41,707 Parameters: current_redshift          = 0.6925711600732\n",
      "yt : [INFO     ] 2022-07-13 09:37:41,707 Parameters: omega_lambda              = 0.715\n",
      "yt : [INFO     ] 2022-07-13 09:37:41,707 Parameters: omega_matter              = 0.285\n",
      "yt : [INFO     ] 2022-07-13 09:37:41,708 Parameters: omega_radiation           = 0.0\n",
      "yt : [INFO     ] 2022-07-13 09:37:41,709 Parameters: hubble_constant           = 0.695\n"
     ]
    },
    {
     "name": "stdout",
     "output_type": "stream",
     "text": [
      "get_refine_box: using this location:       col1        col2     col3     col4     col5     col6     col7   col8\n",
      "--------------- -------- -------- -------- -------- -------- -------- ----\n",
      "0.6925711600732 0.490889 0.479086 0.504717 0.492889 0.481086 0.506717    9\n"
     ]
    },
    {
     "name": "stderr",
     "output_type": "stream",
     "text": [
      "Parsing Hierarchy : 100%|████████████████| 5729/5729 [00:00<00:00, 15764.14it/s]\n",
      "yt : [INFO     ] 2022-07-13 09:37:42,324 Gathering a field list (this may take a moment.)\n",
      "yt : [WARNING  ] 2022-07-13 09:37:45,174 The stars particle filter already exists. Overriding.\n",
      "yt : [WARNING  ] 2022-07-13 09:37:45,175 The DM particle filter already exists. Overriding.\n"
     ]
    },
    {
     "name": "stdout",
     "output_type": "stream",
     "text": [
      "Pulling halo center from catalog file\n",
      "Opening snapshot /Volumes/TempestTimeSteps/DD1267/DD1267\n"
     ]
    },
    {
     "name": "stderr",
     "output_type": "stream",
     "text": [
      "yt : [INFO     ] 2022-07-13 09:37:45,303 Parameters: current_time              = 349.56652781829\n",
      "yt : [INFO     ] 2022-07-13 09:37:45,306 Parameters: domain_dimensions         = [256 256 256]\n",
      "yt : [INFO     ] 2022-07-13 09:37:45,309 Parameters: domain_left_edge          = [0. 0. 0.]\n",
      "yt : [INFO     ] 2022-07-13 09:37:45,312 Parameters: domain_right_edge         = [1. 1. 1.]\n",
      "yt : [INFO     ] 2022-07-13 09:37:45,312 Parameters: cosmological_simulation   = 1\n",
      "yt : [INFO     ] 2022-07-13 09:37:45,313 Parameters: current_redshift          = 0.67403220866149\n",
      "yt : [INFO     ] 2022-07-13 09:37:45,313 Parameters: omega_lambda              = 0.715\n",
      "yt : [INFO     ] 2022-07-13 09:37:45,314 Parameters: omega_matter              = 0.285\n",
      "yt : [INFO     ] 2022-07-13 09:37:45,314 Parameters: omega_radiation           = 0.0\n",
      "yt : [INFO     ] 2022-07-13 09:37:45,315 Parameters: hubble_constant           = 0.695\n"
     ]
    },
    {
     "name": "stdout",
     "output_type": "stream",
     "text": [
      "get_refine_box: using this location:       col1         col2     col3    col4     col5     col6    col7   col8\n",
      "---------------- -------- ------- -------- -------- ------- -------- ----\n",
      "0.67403220866149 0.490839 0.47889 0.504803 0.492839 0.48089 0.506803    9\n"
     ]
    },
    {
     "name": "stderr",
     "output_type": "stream",
     "text": [
      "Parsing Hierarchy : 100%|████████████████| 5866/5866 [00:00<00:00, 16392.08it/s]\n",
      "yt : [INFO     ] 2022-07-13 09:37:45,940 Gathering a field list (this may take a moment.)\n",
      "yt : [WARNING  ] 2022-07-13 09:37:49,022 The stars particle filter already exists. Overriding.\n",
      "yt : [WARNING  ] 2022-07-13 09:37:49,023 The DM particle filter already exists. Overriding.\n"
     ]
    },
    {
     "name": "stdout",
     "output_type": "stream",
     "text": [
      "Pulling halo center from catalog file\n",
      "Opening snapshot /Volumes/TempestTimeSteps/DD1287/DD1287\n"
     ]
    },
    {
     "name": "stderr",
     "output_type": "stream",
     "text": [
      "yt : [INFO     ] 2022-07-13 09:37:49,211 Parameters: current_time              = 354.56652781829\n",
      "yt : [INFO     ] 2022-07-13 09:37:49,214 Parameters: domain_dimensions         = [256 256 256]\n",
      "yt : [INFO     ] 2022-07-13 09:37:49,216 Parameters: domain_left_edge          = [0. 0. 0.]\n",
      "yt : [INFO     ] 2022-07-13 09:37:49,219 Parameters: domain_right_edge         = [1. 1. 1.]\n",
      "yt : [INFO     ] 2022-07-13 09:37:49,220 Parameters: cosmological_simulation   = 1\n",
      "yt : [INFO     ] 2022-07-13 09:37:49,220 Parameters: current_redshift          = 0.65589052687153\n",
      "yt : [INFO     ] 2022-07-13 09:37:49,221 Parameters: omega_lambda              = 0.715\n",
      "yt : [INFO     ] 2022-07-13 09:37:49,221 Parameters: omega_matter              = 0.285\n",
      "yt : [INFO     ] 2022-07-13 09:37:49,222 Parameters: omega_radiation           = 0.0\n",
      "yt : [INFO     ] 2022-07-13 09:37:49,222 Parameters: hubble_constant           = 0.695\n"
     ]
    },
    {
     "name": "stdout",
     "output_type": "stream",
     "text": [
      "get_refine_box: using this location:       col1         col2     col3     col4     col5     col6     col7   col8\n",
      "---------------- -------- -------- -------- -------- -------- -------- ----\n",
      "0.65589052687153 0.490792 0.478699 0.504887 0.492792 0.480699 0.506887    9\n"
     ]
    },
    {
     "name": "stderr",
     "output_type": "stream",
     "text": [
      "Parsing Hierarchy : 100%|█████████████████| 6144/6144 [00:04<00:00, 1449.08it/s]\n",
      "yt : [INFO     ] 2022-07-13 09:37:53,729 Gathering a field list (this may take a moment.)\n",
      "yt : [WARNING  ] 2022-07-13 09:37:56,922 The stars particle filter already exists. Overriding.\n",
      "yt : [WARNING  ] 2022-07-13 09:37:56,923 The DM particle filter already exists. Overriding.\n"
     ]
    },
    {
     "name": "stdout",
     "output_type": "stream",
     "text": [
      "Pulling halo center from catalog file\n",
      "Opening snapshot /Volumes/TempestTimeSteps/DD1307/DD1307\n"
     ]
    },
    {
     "name": "stderr",
     "output_type": "stream",
     "text": [
      "yt : [INFO     ] 2022-07-13 09:37:57,104 Parameters: current_time              = 359.56652781829\n",
      "yt : [INFO     ] 2022-07-13 09:37:57,106 Parameters: domain_dimensions         = [256 256 256]\n",
      "yt : [INFO     ] 2022-07-13 09:37:57,108 Parameters: domain_left_edge          = [0. 0. 0.]\n",
      "yt : [INFO     ] 2022-07-13 09:37:57,111 Parameters: domain_right_edge         = [1. 1. 1.]\n",
      "yt : [INFO     ] 2022-07-13 09:37:57,112 Parameters: cosmological_simulation   = 1\n",
      "yt : [INFO     ] 2022-07-13 09:37:57,112 Parameters: current_redshift          = 0.63813139676917\n",
      "yt : [INFO     ] 2022-07-13 09:37:57,113 Parameters: omega_lambda              = 0.715\n",
      "yt : [INFO     ] 2022-07-13 09:37:57,114 Parameters: omega_matter              = 0.285\n",
      "yt : [INFO     ] 2022-07-13 09:37:57,114 Parameters: omega_radiation           = 0.0\n",
      "yt : [INFO     ] 2022-07-13 09:37:57,115 Parameters: hubble_constant           = 0.695\n"
     ]
    },
    {
     "name": "stdout",
     "output_type": "stream",
     "text": [
      "get_refine_box: using this location:       col1         col2     col3     col4     col5     col6     col7   col8\n",
      "---------------- -------- -------- -------- -------- -------- -------- ----\n",
      "0.63813139676917 0.490748 0.478512 0.504971 0.492748 0.480512 0.506971    9\n"
     ]
    },
    {
     "name": "stderr",
     "output_type": "stream",
     "text": [
      "Parsing Hierarchy : 100%|████████████████| 6120/6120 [00:00<00:00, 18533.54it/s]\n",
      "yt : [INFO     ] 2022-07-13 09:37:57,690 Gathering a field list (this may take a moment.)\n",
      "yt : [WARNING  ] 2022-07-13 09:38:00,383 The stars particle filter already exists. Overriding.\n",
      "yt : [WARNING  ] 2022-07-13 09:38:00,384 The DM particle filter already exists. Overriding.\n"
     ]
    },
    {
     "name": "stdout",
     "output_type": "stream",
     "text": [
      "Pulling halo center from catalog file\n",
      "Opening snapshot /Volumes/TempestTimeSteps/DD1310/DD1310\n"
     ]
    },
    {
     "name": "stderr",
     "output_type": "stream",
     "text": [
      "yt : [INFO     ] 2022-07-13 09:38:00,591 Parameters: current_time              = 360.31652781829\n",
      "yt : [INFO     ] 2022-07-13 09:38:00,593 Parameters: domain_dimensions         = [256 256 256]\n",
      "yt : [INFO     ] 2022-07-13 09:38:00,595 Parameters: domain_left_edge          = [0. 0. 0.]\n",
      "yt : [INFO     ] 2022-07-13 09:38:00,598 Parameters: domain_right_edge         = [1. 1. 1.]\n",
      "yt : [INFO     ] 2022-07-13 09:38:00,598 Parameters: cosmological_simulation   = 1\n",
      "yt : [INFO     ] 2022-07-13 09:38:00,599 Parameters: current_redshift          = 0.63549964938239\n",
      "yt : [INFO     ] 2022-07-13 09:38:00,599 Parameters: omega_lambda              = 0.715\n",
      "yt : [INFO     ] 2022-07-13 09:38:00,600 Parameters: omega_matter              = 0.285\n",
      "yt : [INFO     ] 2022-07-13 09:38:00,600 Parameters: omega_radiation           = 0.0\n",
      "yt : [INFO     ] 2022-07-13 09:38:00,601 Parameters: hubble_constant           = 0.695\n"
     ]
    },
    {
     "name": "stdout",
     "output_type": "stream",
     "text": [
      "get_refine_box: using this location:       col1         col2     col3     col4     col5     col6     col7   col8\n",
      "---------------- -------- -------- -------- -------- -------- -------- ----\n",
      "0.63549964938239 0.490742 0.478486 0.504982 0.492742 0.480486 0.506982    9\n"
     ]
    },
    {
     "name": "stderr",
     "output_type": "stream",
     "text": [
      "Parsing Hierarchy : 100%|████████████████| 6117/6117 [00:00<00:00, 18468.44it/s]\n",
      "yt : [INFO     ] 2022-07-13 09:38:01,163 Gathering a field list (this may take a moment.)\n",
      "yt : [WARNING  ] 2022-07-13 09:38:04,298 The stars particle filter already exists. Overriding.\n",
      "yt : [WARNING  ] 2022-07-13 09:38:04,299 The DM particle filter already exists. Overriding.\n",
      "yt : [INFO     ] 2022-07-13 09:38:04,399 Parameters: current_time              = 360.56652781829\n",
      "yt : [INFO     ] 2022-07-13 09:38:04,401 Parameters: domain_dimensions         = [256 256 256]\n",
      "yt : [INFO     ] 2022-07-13 09:38:04,404 Parameters: domain_left_edge          = [0. 0. 0.]\n",
      "yt : [INFO     ] 2022-07-13 09:38:04,407 Parameters: domain_right_edge         = [1. 1. 1.]\n",
      "yt : [INFO     ] 2022-07-13 09:38:04,408 Parameters: cosmological_simulation   = 1\n",
      "yt : [INFO     ] 2022-07-13 09:38:04,409 Parameters: current_redshift          = 0.63462423495761\n",
      "yt : [INFO     ] 2022-07-13 09:38:04,409 Parameters: omega_lambda              = 0.715\n",
      "yt : [INFO     ] 2022-07-13 09:38:04,410 Parameters: omega_matter              = 0.285\n",
      "yt : [INFO     ] 2022-07-13 09:38:04,410 Parameters: omega_radiation           = 0.0\n",
      "yt : [INFO     ] 2022-07-13 09:38:04,411 Parameters: hubble_constant           = 0.695\n"
     ]
    },
    {
     "name": "stdout",
     "output_type": "stream",
     "text": [
      "Pulling halo center from catalog file\n",
      "Opening snapshot /Volumes/TempestTimeSteps/DD1311/DD1311\n",
      "get_refine_box: using this location:       col1         col2    col3     col4     col5    col6     col7   col8\n",
      "---------------- ------- -------- -------- ------- -------- -------- ----\n",
      "0.63462423495761 0.49074 0.478476 0.504986 0.49274 0.480476 0.506986    9\n"
     ]
    },
    {
     "name": "stderr",
     "output_type": "stream",
     "text": [
      "Parsing Hierarchy : 100%|████████████████| 6212/6212 [00:00<00:00, 17664.24it/s]\n",
      "yt : [INFO     ] 2022-07-13 09:38:05,106 Gathering a field list (this may take a moment.)\n",
      "yt : [WARNING  ] 2022-07-13 09:38:08,099 The stars particle filter already exists. Overriding.\n",
      "yt : [WARNING  ] 2022-07-13 09:38:08,100 The DM particle filter already exists. Overriding.\n",
      "yt : [INFO     ] 2022-07-13 09:38:08,198 Parameters: current_time              = 360.81652781829\n",
      "yt : [INFO     ] 2022-07-13 09:38:08,201 Parameters: domain_dimensions         = [256 256 256]\n",
      "yt : [INFO     ] 2022-07-13 09:38:08,204 Parameters: domain_left_edge          = [0. 0. 0.]\n",
      "yt : [INFO     ] 2022-07-13 09:38:08,208 Parameters: domain_right_edge         = [1. 1. 1.]\n",
      "yt : [INFO     ] 2022-07-13 09:38:08,209 Parameters: cosmological_simulation   = 1\n",
      "yt : [INFO     ] 2022-07-13 09:38:08,209 Parameters: current_redshift          = 0.63374973507151\n",
      "yt : [INFO     ] 2022-07-13 09:38:08,210 Parameters: omega_lambda              = 0.715\n",
      "yt : [INFO     ] 2022-07-13 09:38:08,210 Parameters: omega_matter              = 0.285\n",
      "yt : [INFO     ] 2022-07-13 09:38:08,211 Parameters: omega_radiation           = 0.0\n",
      "yt : [INFO     ] 2022-07-13 09:38:08,212 Parameters: hubble_constant           = 0.695\n"
     ]
    },
    {
     "name": "stdout",
     "output_type": "stream",
     "text": [
      "Pulling halo center from catalog file\n",
      "Opening snapshot /Volumes/TempestTimeSteps/DD1312/DD1312\n",
      "get_refine_box: using this location:       col1         col2     col3     col4    col5     col6     col7  col8\n",
      "---------------- -------- -------- ------- -------- -------- ------- ----\n",
      "0.63374973507151 0.490738 0.478466 0.50499 0.492738 0.480466 0.50699    9\n"
     ]
    },
    {
     "name": "stderr",
     "output_type": "stream",
     "text": [
      "Parsing Hierarchy : 100%|████████████████| 6058/6058 [00:00<00:00, 17675.83it/s]\n",
      "yt : [INFO     ] 2022-07-13 09:38:08,867 Gathering a field list (this may take a moment.)\n",
      "yt : [WARNING  ] 2022-07-13 09:38:12,024 The stars particle filter already exists. Overriding.\n",
      "yt : [WARNING  ] 2022-07-13 09:38:12,024 The DM particle filter already exists. Overriding.\n",
      "yt : [INFO     ] 2022-07-13 09:38:12,120 Parameters: current_time              = 361.06652781829\n",
      "yt : [INFO     ] 2022-07-13 09:38:12,123 Parameters: domain_dimensions         = [256 256 256]\n",
      "yt : [INFO     ] 2022-07-13 09:38:12,126 Parameters: domain_left_edge          = [0. 0. 0.]\n",
      "yt : [INFO     ] 2022-07-13 09:38:12,128 Parameters: domain_right_edge         = [1. 1. 1.]\n",
      "yt : [INFO     ] 2022-07-13 09:38:12,129 Parameters: cosmological_simulation   = 1\n",
      "yt : [INFO     ] 2022-07-13 09:38:12,129 Parameters: current_redshift          = 0.63287614804254\n",
      "yt : [INFO     ] 2022-07-13 09:38:12,129 Parameters: omega_lambda              = 0.715\n",
      "yt : [INFO     ] 2022-07-13 09:38:12,130 Parameters: omega_matter              = 0.285\n",
      "yt : [INFO     ] 2022-07-13 09:38:12,130 Parameters: omega_radiation           = 0.0\n",
      "yt : [INFO     ] 2022-07-13 09:38:12,131 Parameters: hubble_constant           = 0.695\n"
     ]
    },
    {
     "name": "stdout",
     "output_type": "stream",
     "text": [
      "Pulling halo center from catalog file\n",
      "Opening snapshot /Volumes/TempestTimeSteps/DD1313/DD1313\n",
      "get_refine_box: using this location:       col1         col2     col3     col4     col5     col6     col7   col8\n",
      "---------------- -------- -------- -------- -------- -------- -------- ----\n",
      "0.63287614804254 0.490735 0.478457 0.504994 0.492735 0.480457 0.506994    9\n"
     ]
    },
    {
     "name": "stderr",
     "output_type": "stream",
     "text": [
      "Parsing Hierarchy : 100%|████████████████| 6082/6082 [00:00<00:00, 17756.21it/s]\n",
      "yt : [INFO     ] 2022-07-13 09:38:12,806 Gathering a field list (this may take a moment.)\n",
      "yt : [WARNING  ] 2022-07-13 09:38:15,990 The stars particle filter already exists. Overriding.\n",
      "yt : [WARNING  ] 2022-07-13 09:38:15,990 The DM particle filter already exists. Overriding.\n",
      "yt : [INFO     ] 2022-07-13 09:38:16,086 Parameters: current_time              = 361.31652781829\n",
      "yt : [INFO     ] 2022-07-13 09:38:16,089 Parameters: domain_dimensions         = [256 256 256]\n",
      "yt : [INFO     ] 2022-07-13 09:38:16,092 Parameters: domain_left_edge          = [0. 0. 0.]\n",
      "yt : [INFO     ] 2022-07-13 09:38:16,094 Parameters: domain_right_edge         = [1. 1. 1.]\n",
      "yt : [INFO     ] 2022-07-13 09:38:16,095 Parameters: cosmological_simulation   = 1\n",
      "yt : [INFO     ] 2022-07-13 09:38:16,095 Parameters: current_redshift          = 0.63200347219345\n",
      "yt : [INFO     ] 2022-07-13 09:38:16,096 Parameters: omega_lambda              = 0.715\n",
      "yt : [INFO     ] 2022-07-13 09:38:16,096 Parameters: omega_matter              = 0.285\n",
      "yt : [INFO     ] 2022-07-13 09:38:16,097 Parameters: omega_radiation           = 0.0\n",
      "yt : [INFO     ] 2022-07-13 09:38:16,098 Parameters: hubble_constant           = 0.695\n"
     ]
    },
    {
     "name": "stdout",
     "output_type": "stream",
     "text": [
      "Pulling halo center from catalog file\n",
      "Opening snapshot /Volumes/TempestTimeSteps/DD1314/DD1314\n",
      "get_refine_box: using this location:       col1         col2     col3    col4   col5     col6    col7 col8\n",
      "---------------- -------- -------- ----- -------- -------- ----- ----\n",
      "0.63200347219345 0.490733 0.478449 0.505 0.492733 0.480449 0.507    9\n"
     ]
    },
    {
     "name": "stderr",
     "output_type": "stream",
     "text": [
      "Parsing Hierarchy : 100%|████████████████| 5996/5996 [00:00<00:00, 16869.66it/s]\n",
      "yt : [INFO     ] 2022-07-13 09:38:16,802 Gathering a field list (this may take a moment.)\n",
      "yt : [WARNING  ] 2022-07-13 09:38:19,914 The stars particle filter already exists. Overriding.\n",
      "yt : [WARNING  ] 2022-07-13 09:38:19,915 The DM particle filter already exists. Overriding.\n",
      "yt : [INFO     ] 2022-07-13 09:38:20,012 Parameters: current_time              = 361.56652781829\n",
      "yt : [INFO     ] 2022-07-13 09:38:20,014 Parameters: domain_dimensions         = [256 256 256]\n",
      "yt : [INFO     ] 2022-07-13 09:38:20,017 Parameters: domain_left_edge          = [0. 0. 0.]\n",
      "yt : [INFO     ] 2022-07-13 09:38:20,019 Parameters: domain_right_edge         = [1. 1. 1.]\n",
      "yt : [INFO     ] 2022-07-13 09:38:20,020 Parameters: cosmological_simulation   = 1\n",
      "yt : [INFO     ] 2022-07-13 09:38:20,020 Parameters: current_redshift          = 0.63113170585127\n",
      "yt : [INFO     ] 2022-07-13 09:38:20,021 Parameters: omega_lambda              = 0.715\n",
      "yt : [INFO     ] 2022-07-13 09:38:20,021 Parameters: omega_matter              = 0.285\n",
      "yt : [INFO     ] 2022-07-13 09:38:20,022 Parameters: omega_radiation           = 0.0\n",
      "yt : [INFO     ] 2022-07-13 09:38:20,022 Parameters: hubble_constant           = 0.695\n"
     ]
    },
    {
     "name": "stdout",
     "output_type": "stream",
     "text": [
      "Pulling halo center from catalog file\n",
      "Opening snapshot /Volumes/TempestTimeSteps/DD1315/DD1315\n",
      "get_refine_box: using this location:       col1         col2     col3    col4     col5     col6    col7   col8\n",
      "---------------- -------- ------- -------- -------- ------- -------- ----\n",
      "0.63113170585127 0.490731 0.47844 0.505003 0.492731 0.48044 0.507003    9\n"
     ]
    },
    {
     "name": "stderr",
     "output_type": "stream",
     "text": [
      "Parsing Hierarchy : 100%|████████████████| 6053/6053 [00:00<00:00, 17695.22it/s]\n",
      "yt : [INFO     ] 2022-07-13 09:38:20,704 Gathering a field list (this may take a moment.)\n",
      "yt : [WARNING  ] 2022-07-13 09:38:23,829 The stars particle filter already exists. Overriding.\n",
      "yt : [WARNING  ] 2022-07-13 09:38:23,829 The DM particle filter already exists. Overriding.\n",
      "yt : [INFO     ] 2022-07-13 09:38:23,939 Parameters: current_time              = 361.81652781829\n",
      "yt : [INFO     ] 2022-07-13 09:38:23,941 Parameters: domain_dimensions         = [256 256 256]\n",
      "yt : [INFO     ] 2022-07-13 09:38:23,944 Parameters: domain_left_edge          = [0. 0. 0.]\n",
      "yt : [INFO     ] 2022-07-13 09:38:23,947 Parameters: domain_right_edge         = [1. 1. 1.]\n",
      "yt : [INFO     ] 2022-07-13 09:38:23,948 Parameters: cosmological_simulation   = 1\n",
      "yt : [INFO     ] 2022-07-13 09:38:23,948 Parameters: current_redshift          = 0.63026084734731\n",
      "yt : [INFO     ] 2022-07-13 09:38:23,949 Parameters: omega_lambda              = 0.715\n",
      "yt : [INFO     ] 2022-07-13 09:38:23,949 Parameters: omega_matter              = 0.285\n",
      "yt : [INFO     ] 2022-07-13 09:38:23,950 Parameters: omega_radiation           = 0.0\n",
      "yt : [INFO     ] 2022-07-13 09:38:23,950 Parameters: hubble_constant           = 0.695\n"
     ]
    },
    {
     "name": "stdout",
     "output_type": "stream",
     "text": [
      "Pulling halo center from catalog file\n",
      "Opening snapshot /Volumes/TempestTimeSteps/DD1316/DD1316\n",
      "get_refine_box: using this location:       col1         col2     col3    col4     col5     col6    col7   col8\n",
      "---------------- -------- ------- -------- -------- ------- -------- ----\n",
      "0.63026084734731 0.490729 0.47843 0.505007 0.492729 0.48043 0.507007    9\n"
     ]
    },
    {
     "name": "stderr",
     "output_type": "stream",
     "text": [
      "Parsing Hierarchy : 100%|████████████████| 5907/5907 [00:00<00:00, 14497.45it/s]\n",
      "yt : [INFO     ] 2022-07-13 09:38:24,687 Gathering a field list (this may take a moment.)\n",
      "yt : [WARNING  ] 2022-07-13 09:38:27,757 The stars particle filter already exists. Overriding.\n",
      "yt : [WARNING  ] 2022-07-13 09:38:27,758 The DM particle filter already exists. Overriding.\n",
      "yt : [INFO     ] 2022-07-13 09:38:27,845 Parameters: current_time              = 362.31652781829\n",
      "yt : [INFO     ] 2022-07-13 09:38:27,847 Parameters: domain_dimensions         = [256 256 256]\n",
      "yt : [INFO     ] 2022-07-13 09:38:27,850 Parameters: domain_left_edge          = [0. 0. 0.]\n",
      "yt : [INFO     ] 2022-07-13 09:38:27,853 Parameters: domain_right_edge         = [1. 1. 1.]\n",
      "yt : [INFO     ] 2022-07-13 09:38:27,853 Parameters: cosmological_simulation   = 1\n",
      "yt : [INFO     ] 2022-07-13 09:38:27,854 Parameters: current_redshift          = 0.62852184720062\n",
      "yt : [INFO     ] 2022-07-13 09:38:27,854 Parameters: omega_lambda              = 0.715\n",
      "yt : [INFO     ] 2022-07-13 09:38:27,855 Parameters: omega_matter              = 0.285\n",
      "yt : [INFO     ] 2022-07-13 09:38:27,856 Parameters: omega_radiation           = 0.0\n",
      "yt : [INFO     ] 2022-07-13 09:38:27,856 Parameters: hubble_constant           = 0.695\n"
     ]
    },
    {
     "name": "stdout",
     "output_type": "stream",
     "text": [
      "Pulling halo center from catalog file\n",
      "Opening snapshot /Volumes/TempestTimeSteps/DD1318/DD1318\n",
      "get_refine_box: using this location:       col1         col2     col3     col4     col5     col6     col7   col8\n",
      "---------------- -------- -------- -------- -------- -------- -------- ----\n",
      "0.62852184720062 0.490725 0.478411 0.505015 0.492725 0.480411 0.507015    9\n"
     ]
    },
    {
     "name": "stderr",
     "output_type": "stream",
     "text": [
      "Parsing Hierarchy : 100%|████████████████| 6061/6061 [00:00<00:00, 17645.36it/s]\n",
      "yt : [INFO     ] 2022-07-13 09:38:28,505 Gathering a field list (this may take a moment.)\n",
      "yt : [WARNING  ] 2022-07-13 09:38:31,548 The stars particle filter already exists. Overriding.\n",
      "yt : [WARNING  ] 2022-07-13 09:38:31,549 The DM particle filter already exists. Overriding.\n",
      "yt : [INFO     ] 2022-07-13 09:38:31,640 Parameters: current_time              = 362.56652781829\n",
      "yt : [INFO     ] 2022-07-13 09:38:31,642 Parameters: domain_dimensions         = [256 256 256]\n",
      "yt : [INFO     ] 2022-07-13 09:38:31,644 Parameters: domain_left_edge          = [0. 0. 0.]\n",
      "yt : [INFO     ] 2022-07-13 09:38:31,647 Parameters: domain_right_edge         = [1. 1. 1.]\n",
      "yt : [INFO     ] 2022-07-13 09:38:31,647 Parameters: cosmological_simulation   = 1\n",
      "yt : [INFO     ] 2022-07-13 09:38:31,648 Parameters: current_redshift          = 0.62765370224176\n",
      "yt : [INFO     ] 2022-07-13 09:38:31,648 Parameters: omega_lambda              = 0.715\n",
      "yt : [INFO     ] 2022-07-13 09:38:31,649 Parameters: omega_matter              = 0.285\n",
      "yt : [INFO     ] 2022-07-13 09:38:31,649 Parameters: omega_radiation           = 0.0\n",
      "yt : [INFO     ] 2022-07-13 09:38:31,650 Parameters: hubble_constant           = 0.695\n"
     ]
    },
    {
     "name": "stdout",
     "output_type": "stream",
     "text": [
      "Pulling halo center from catalog file\n",
      "Opening snapshot /Volumes/TempestTimeSteps/DD1319/DD1319\n",
      "get_refine_box: using this location:       col1         col2     col3     col4     col5     col6     col7   col8\n",
      "---------------- -------- -------- -------- -------- -------- -------- ----\n",
      "0.62765370224176 0.490723 0.478402 0.505019 0.492723 0.480402 0.507019    9\n"
     ]
    },
    {
     "name": "stderr",
     "output_type": "stream",
     "text": [
      "Parsing Hierarchy : 100%|████████████████| 6108/6108 [00:00<00:00, 16093.46it/s]\n",
      "yt : [INFO     ] 2022-07-13 09:38:32,317 Gathering a field list (this may take a moment.)\n",
      "yt : [WARNING  ] 2022-07-13 09:38:35,308 The stars particle filter already exists. Overriding.\n",
      "yt : [WARNING  ] 2022-07-13 09:38:35,309 The DM particle filter already exists. Overriding.\n"
     ]
    },
    {
     "name": "stdout",
     "output_type": "stream",
     "text": [
      "Pulling halo center from catalog file\n",
      "Opening snapshot /Volumes/TempestTimeSteps/DD1320/DD1320\n"
     ]
    },
    {
     "name": "stderr",
     "output_type": "stream",
     "text": [
      "yt : [INFO     ] 2022-07-13 09:38:35,491 Parameters: current_time              = 362.81652781829\n",
      "yt : [INFO     ] 2022-07-13 09:38:35,493 Parameters: domain_dimensions         = [256 256 256]\n",
      "yt : [INFO     ] 2022-07-13 09:38:35,496 Parameters: domain_left_edge          = [0. 0. 0.]\n",
      "yt : [INFO     ] 2022-07-13 09:38:35,498 Parameters: domain_right_edge         = [1. 1. 1.]\n",
      "yt : [INFO     ] 2022-07-13 09:38:35,498 Parameters: cosmological_simulation   = 1\n",
      "yt : [INFO     ] 2022-07-13 09:38:35,499 Parameters: current_redshift          = 0.62678645848885\n",
      "yt : [INFO     ] 2022-07-13 09:38:35,499 Parameters: omega_lambda              = 0.715\n",
      "yt : [INFO     ] 2022-07-13 09:38:35,500 Parameters: omega_matter              = 0.285\n",
      "yt : [INFO     ] 2022-07-13 09:38:35,501 Parameters: omega_radiation           = 0.0\n",
      "yt : [INFO     ] 2022-07-13 09:38:35,501 Parameters: hubble_constant           = 0.695\n"
     ]
    },
    {
     "name": "stdout",
     "output_type": "stream",
     "text": [
      "get_refine_box: using this location:       col1         col2     col3     col4     col5     col6     col7   col8\n",
      "---------------- -------- -------- -------- -------- -------- -------- ----\n",
      "0.62678645848885 0.490721 0.478392 0.505022 0.492721 0.480392 0.507022    9\n"
     ]
    },
    {
     "name": "stderr",
     "output_type": "stream",
     "text": [
      "Parsing Hierarchy : 100%|████████████████| 6021/6021 [00:00<00:00, 15808.95it/s]\n",
      "yt : [INFO     ] 2022-07-13 09:38:36,122 Gathering a field list (this may take a moment.)\n",
      "yt : [WARNING  ] 2022-07-13 09:38:39,309 The stars particle filter already exists. Overriding.\n",
      "yt : [WARNING  ] 2022-07-13 09:38:39,310 The DM particle filter already exists. Overriding.\n"
     ]
    },
    {
     "name": "stdout",
     "output_type": "stream",
     "text": [
      "Pulling halo center from catalog file\n",
      "Opening snapshot /Volumes/TempestTimeSteps/DD1327/DD1327\n"
     ]
    },
    {
     "name": "stderr",
     "output_type": "stream",
     "text": [
      "yt : [INFO     ] 2022-07-13 09:38:39,475 Parameters: current_time              = 364.56652781829\n",
      "yt : [INFO     ] 2022-07-13 09:38:39,477 Parameters: domain_dimensions         = [256 256 256]\n",
      "yt : [INFO     ] 2022-07-13 09:38:39,480 Parameters: domain_left_edge          = [0. 0. 0.]\n",
      "yt : [INFO     ] 2022-07-13 09:38:39,482 Parameters: domain_right_edge         = [1. 1. 1.]\n",
      "yt : [INFO     ] 2022-07-13 09:38:39,483 Parameters: cosmological_simulation   = 1\n",
      "yt : [INFO     ] 2022-07-13 09:38:39,483 Parameters: current_redshift          = 0.62074084812024\n",
      "yt : [INFO     ] 2022-07-13 09:38:39,484 Parameters: omega_lambda              = 0.715\n",
      "yt : [INFO     ] 2022-07-13 09:38:39,485 Parameters: omega_matter              = 0.285\n",
      "yt : [INFO     ] 2022-07-13 09:38:39,486 Parameters: omega_radiation           = 0.0\n",
      "yt : [INFO     ] 2022-07-13 09:38:39,487 Parameters: hubble_constant           = 0.695\n"
     ]
    },
    {
     "name": "stdout",
     "output_type": "stream",
     "text": [
      "get_refine_box: using this location:       col1         col2     col3     col4     col5     col6     col7   col8\n",
      "---------------- -------- -------- -------- -------- -------- -------- ----\n",
      "0.62074084812024 0.490704 0.478329 0.505051 0.492704 0.480329 0.507051    9\n"
     ]
    },
    {
     "name": "stderr",
     "output_type": "stream",
     "text": [
      "Parsing Hierarchy : 100%|████████████████| 6122/6122 [00:00<00:00, 17991.16it/s]\n",
      "yt : [INFO     ] 2022-07-13 09:38:40,060 Gathering a field list (this may take a moment.)\n",
      "yt : [WARNING  ] 2022-07-13 09:38:42,836 The stars particle filter already exists. Overriding.\n",
      "yt : [WARNING  ] 2022-07-13 09:38:42,836 The DM particle filter already exists. Overriding.\n"
     ]
    },
    {
     "name": "stdout",
     "output_type": "stream",
     "text": [
      "Pulling halo center from catalog file\n",
      "Opening snapshot /Volumes/TempestTimeSteps/DD1347/DD1347\n"
     ]
    },
    {
     "name": "stderr",
     "output_type": "stream",
     "text": [
      "yt : [INFO     ] 2022-07-13 09:38:43,019 Parameters: current_time              = 369.56652781829\n",
      "yt : [INFO     ] 2022-07-13 09:38:43,021 Parameters: domain_dimensions         = [256 256 256]\n",
      "yt : [INFO     ] 2022-07-13 09:38:43,024 Parameters: domain_left_edge          = [0. 0. 0.]\n",
      "yt : [INFO     ] 2022-07-13 09:38:43,027 Parameters: domain_right_edge         = [1. 1. 1.]\n",
      "yt : [INFO     ] 2022-07-13 09:38:43,027 Parameters: cosmological_simulation   = 1\n",
      "yt : [INFO     ] 2022-07-13 09:38:43,028 Parameters: current_redshift          = 0.60370561098879\n",
      "yt : [INFO     ] 2022-07-13 09:38:43,028 Parameters: omega_lambda              = 0.715\n",
      "yt : [INFO     ] 2022-07-13 09:38:43,029 Parameters: omega_matter              = 0.285\n",
      "yt : [INFO     ] 2022-07-13 09:38:43,030 Parameters: omega_radiation           = 0.0\n",
      "yt : [INFO     ] 2022-07-13 09:38:43,030 Parameters: hubble_constant           = 0.695\n"
     ]
    },
    {
     "name": "stdout",
     "output_type": "stream",
     "text": [
      "get_refine_box: using this location:       col1         col2    col3     col4     col5    col6     col7   col8\n",
      "---------------- ------- -------- -------- ------- -------- -------- ----\n",
      "0.60370561098879 0.49066 0.478148 0.505129 0.49266 0.480148 0.507129    9\n"
     ]
    },
    {
     "name": "stderr",
     "output_type": "stream",
     "text": [
      "Parsing Hierarchy : 100%|████████████████| 6238/6238 [00:00<00:00, 17553.44it/s]\n",
      "yt : [INFO     ] 2022-07-13 09:38:43,616 Gathering a field list (this may take a moment.)\n",
      "yt : [WARNING  ] 2022-07-13 09:38:46,573 The stars particle filter already exists. Overriding.\n",
      "yt : [WARNING  ] 2022-07-13 09:38:46,574 The DM particle filter already exists. Overriding.\n"
     ]
    },
    {
     "name": "stdout",
     "output_type": "stream",
     "text": [
      "Pulling halo center from catalog file\n",
      "Opening snapshot /Volumes/TempestTimeSteps/DD1367/DD1367\n"
     ]
    },
    {
     "name": "stderr",
     "output_type": "stream",
     "text": [
      "yt : [INFO     ] 2022-07-13 09:38:46,746 Parameters: current_time              = 374.56652781829\n",
      "yt : [INFO     ] 2022-07-13 09:38:46,748 Parameters: domain_dimensions         = [256 256 256]\n",
      "yt : [INFO     ] 2022-07-13 09:38:46,751 Parameters: domain_left_edge          = [0. 0. 0.]\n",
      "yt : [INFO     ] 2022-07-13 09:38:46,753 Parameters: domain_right_edge         = [1. 1. 1.]\n",
      "yt : [INFO     ] 2022-07-13 09:38:46,753 Parameters: cosmological_simulation   = 1\n",
      "yt : [INFO     ] 2022-07-13 09:38:46,754 Parameters: current_redshift          = 0.58701307192989\n",
      "yt : [INFO     ] 2022-07-13 09:38:46,754 Parameters: omega_lambda              = 0.715\n",
      "yt : [INFO     ] 2022-07-13 09:38:46,755 Parameters: omega_matter              = 0.285\n",
      "yt : [INFO     ] 2022-07-13 09:38:46,756 Parameters: omega_radiation           = 0.0\n",
      "yt : [INFO     ] 2022-07-13 09:38:46,756 Parameters: hubble_constant           = 0.695\n"
     ]
    },
    {
     "name": "stdout",
     "output_type": "stream",
     "text": [
      "get_refine_box: using this location:       col1         col2     col3     col4     col5     col6     col7   col8\n",
      "---------------- -------- -------- -------- -------- -------- -------- ----\n",
      "0.58701307192989 0.490616 0.477969 0.505207 0.492616 0.479969 0.507207    9\n"
     ]
    },
    {
     "name": "stderr",
     "output_type": "stream",
     "text": [
      "Parsing Hierarchy : 100%|████████████████| 6198/6198 [00:00<00:00, 18896.16it/s]\n",
      "yt : [INFO     ] 2022-07-13 09:38:47,309 Gathering a field list (this may take a moment.)\n",
      "yt : [WARNING  ] 2022-07-13 09:38:50,047 The stars particle filter already exists. Overriding.\n",
      "yt : [WARNING  ] 2022-07-13 09:38:50,047 The DM particle filter already exists. Overriding.\n"
     ]
    },
    {
     "name": "stdout",
     "output_type": "stream",
     "text": [
      "Pulling halo center from catalog file\n",
      "Opening snapshot /Volumes/TempestTimeSteps/DD1387/DD1387\n"
     ]
    },
    {
     "name": "stderr",
     "output_type": "stream",
     "text": [
      "yt : [INFO     ] 2022-07-13 09:38:50,228 Parameters: current_time              = 379.56652781829\n",
      "yt : [INFO     ] 2022-07-13 09:38:50,231 Parameters: domain_dimensions         = [256 256 256]\n",
      "yt : [INFO     ] 2022-07-13 09:38:50,233 Parameters: domain_left_edge          = [0. 0. 0.]\n",
      "yt : [INFO     ] 2022-07-13 09:38:50,236 Parameters: domain_right_edge         = [1. 1. 1.]\n",
      "yt : [INFO     ] 2022-07-13 09:38:50,237 Parameters: cosmological_simulation   = 1\n",
      "yt : [INFO     ] 2022-07-13 09:38:50,237 Parameters: current_redshift          = 0.57065123346059\n",
      "yt : [INFO     ] 2022-07-13 09:38:50,238 Parameters: omega_lambda              = 0.715\n",
      "yt : [INFO     ] 2022-07-13 09:38:50,239 Parameters: omega_matter              = 0.285\n",
      "yt : [INFO     ] 2022-07-13 09:38:50,239 Parameters: omega_radiation           = 0.0\n",
      "yt : [INFO     ] 2022-07-13 09:38:50,240 Parameters: hubble_constant           = 0.695\n"
     ]
    },
    {
     "name": "stdout",
     "output_type": "stream",
     "text": [
      "get_refine_box: using this location:       col1         col2     col3     col4     col5     col6     col7   col8\n",
      "---------------- -------- -------- -------- -------- -------- -------- ----\n",
      "0.57065123346059 0.490572 0.477791 0.505288 0.492572 0.479791 0.507288    9\n"
     ]
    },
    {
     "name": "stderr",
     "output_type": "stream",
     "text": [
      "Parsing Hierarchy : 100%|█████████████████| 6136/6136 [00:05<00:00, 1214.23it/s]\n",
      "yt : [INFO     ] 2022-07-13 09:38:55,523 Gathering a field list (this may take a moment.)\n",
      "yt : [WARNING  ] 2022-07-13 09:38:58,249 The stars particle filter already exists. Overriding.\n",
      "yt : [WARNING  ] 2022-07-13 09:38:58,249 The DM particle filter already exists. Overriding.\n",
      "yt : [INFO     ] 2022-07-13 09:38:58,343 Parameters: current_time              = 384.56652781829\n",
      "yt : [INFO     ] 2022-07-13 09:38:58,345 Parameters: domain_dimensions         = [256 256 256]\n",
      "yt : [INFO     ] 2022-07-13 09:38:58,347 Parameters: domain_left_edge          = [0. 0. 0.]\n",
      "yt : [INFO     ] 2022-07-13 09:38:58,349 Parameters: domain_right_edge         = [1. 1. 1.]\n",
      "yt : [INFO     ] 2022-07-13 09:38:58,349 Parameters: cosmological_simulation   = 1\n",
      "yt : [INFO     ] 2022-07-13 09:38:58,350 Parameters: current_redshift          = 0.55460867652421\n",
      "yt : [INFO     ] 2022-07-13 09:38:58,350 Parameters: omega_lambda              = 0.715\n",
      "yt : [INFO     ] 2022-07-13 09:38:58,351 Parameters: omega_matter              = 0.285\n",
      "yt : [INFO     ] 2022-07-13 09:38:58,351 Parameters: omega_radiation           = 0.0\n",
      "yt : [INFO     ] 2022-07-13 09:38:58,352 Parameters: hubble_constant           = 0.695\n"
     ]
    },
    {
     "name": "stdout",
     "output_type": "stream",
     "text": [
      "Pulling halo center from catalog file\n",
      "Opening snapshot /Volumes/TempestTimeSteps/DD1407/DD1407\n",
      "get_refine_box: using this location:       col1         col2     col3     col4     col5     col6     col7   col8\n",
      "---------------- -------- -------- -------- -------- -------- -------- ----\n",
      "0.55460867652421 0.490529 0.477618 0.505368 0.492529 0.479618 0.507368    9\n"
     ]
    },
    {
     "name": "stderr",
     "output_type": "stream",
     "text": [
      "Parsing Hierarchy : 100%|████████████████| 5851/5851 [00:00<00:00, 17880.05it/s]\n",
      "yt : [INFO     ] 2022-07-13 09:38:58,973 Gathering a field list (this may take a moment.)\n",
      "yt : [WARNING  ] 2022-07-13 09:39:01,683 The stars particle filter already exists. Overriding.\n",
      "yt : [WARNING  ] 2022-07-13 09:39:01,683 The DM particle filter already exists. Overriding.\n"
     ]
    },
    {
     "name": "stdout",
     "output_type": "stream",
     "text": [
      "Pulling halo center from catalog file\n",
      "Opening snapshot /Volumes/TempestTimeSteps/DD1427/DD1427\n"
     ]
    },
    {
     "name": "stderr",
     "output_type": "stream",
     "text": [
      "yt : [INFO     ] 2022-07-13 09:39:01,869 Parameters: current_time              = 389.56652781829\n",
      "yt : [INFO     ] 2022-07-13 09:39:01,872 Parameters: domain_dimensions         = [256 256 256]\n",
      "yt : [INFO     ] 2022-07-13 09:39:01,874 Parameters: domain_left_edge          = [0. 0. 0.]\n",
      "yt : [INFO     ] 2022-07-13 09:39:01,877 Parameters: domain_right_edge         = [1. 1. 1.]\n",
      "yt : [INFO     ] 2022-07-13 09:39:01,877 Parameters: cosmological_simulation   = 1\n",
      "yt : [INFO     ] 2022-07-13 09:39:01,878 Parameters: current_redshift          = 0.53887452569124\n",
      "yt : [INFO     ] 2022-07-13 09:39:01,878 Parameters: omega_lambda              = 0.715\n",
      "yt : [INFO     ] 2022-07-13 09:39:01,879 Parameters: omega_matter              = 0.285\n",
      "yt : [INFO     ] 2022-07-13 09:39:01,879 Parameters: omega_radiation           = 0.0\n",
      "yt : [INFO     ] 2022-07-13 09:39:01,880 Parameters: hubble_constant           = 0.695\n"
     ]
    },
    {
     "name": "stdout",
     "output_type": "stream",
     "text": [
      "get_refine_box: using this location:       col1         col2     col3     col4    col5     col6     col7  col8\n",
      "---------------- -------- -------- ------- -------- -------- ------- ----\n",
      "0.53887452569124 0.490487 0.477448 0.50545 0.492487 0.479448 0.50745    9\n"
     ]
    },
    {
     "name": "stderr",
     "output_type": "stream",
     "text": [
      "Parsing Hierarchy : 100%|████████████████| 5833/5833 [00:00<00:00, 19047.47it/s]\n",
      "yt : [INFO     ] 2022-07-13 09:39:02,398 Gathering a field list (this may take a moment.)\n",
      "yt : [WARNING  ] 2022-07-13 09:39:05,107 The stars particle filter already exists. Overriding.\n",
      "yt : [WARNING  ] 2022-07-13 09:39:05,107 The DM particle filter already exists. Overriding.\n"
     ]
    },
    {
     "name": "stdout",
     "output_type": "stream",
     "text": [
      "Pulling halo center from catalog file\n",
      "Opening snapshot /Volumes/TempestTimeSteps/DD1447/DD1447\n"
     ]
    },
    {
     "name": "stderr",
     "output_type": "stream",
     "text": [
      "yt : [INFO     ] 2022-07-13 09:39:05,283 Parameters: current_time              = 394.56652781829\n",
      "yt : [INFO     ] 2022-07-13 09:39:05,285 Parameters: domain_dimensions         = [256 256 256]\n",
      "yt : [INFO     ] 2022-07-13 09:39:05,287 Parameters: domain_left_edge          = [0. 0. 0.]\n",
      "yt : [INFO     ] 2022-07-13 09:39:05,290 Parameters: domain_right_edge         = [1. 1. 1.]\n",
      "yt : [INFO     ] 2022-07-13 09:39:05,291 Parameters: cosmological_simulation   = 1\n",
      "yt : [INFO     ] 2022-07-13 09:39:05,291 Parameters: current_redshift          = 0.52343841686509\n",
      "yt : [INFO     ] 2022-07-13 09:39:05,291 Parameters: omega_lambda              = 0.715\n",
      "yt : [INFO     ] 2022-07-13 09:39:05,292 Parameters: omega_matter              = 0.285\n",
      "yt : [INFO     ] 2022-07-13 09:39:05,292 Parameters: omega_radiation           = 0.0\n",
      "yt : [INFO     ] 2022-07-13 09:39:05,293 Parameters: hubble_constant           = 0.695\n"
     ]
    },
    {
     "name": "stdout",
     "output_type": "stream",
     "text": [
      "get_refine_box: using this location:       col1         col2     col3     col4     col5     col6     col7   col8\n",
      "---------------- -------- -------- -------- -------- -------- -------- ----\n",
      "0.52343841686509 0.490445 0.477276 0.505537 0.492445 0.479276 0.507537    9\n"
     ]
    },
    {
     "name": "stderr",
     "output_type": "stream",
     "text": [
      "Parsing Hierarchy : 100%|████████████████| 6011/6011 [00:00<00:00, 19240.18it/s]\n",
      "yt : [INFO     ] 2022-07-13 09:39:05,836 Gathering a field list (this may take a moment.)\n",
      "yt : [WARNING  ] 2022-07-13 09:39:08,604 The stars particle filter already exists. Overriding.\n",
      "yt : [WARNING  ] 2022-07-13 09:39:08,605 The DM particle filter already exists. Overriding.\n"
     ]
    },
    {
     "name": "stdout",
     "output_type": "stream",
     "text": [
      "Pulling halo center from catalog file\n",
      "Opening snapshot /Volumes/TempestTimeSteps/DD1467/DD1467\n"
     ]
    },
    {
     "name": "stderr",
     "output_type": "stream",
     "text": [
      "yt : [INFO     ] 2022-07-13 09:39:08,791 Parameters: current_time              = 399.56652781829\n",
      "yt : [INFO     ] 2022-07-13 09:39:08,793 Parameters: domain_dimensions         = [256 256 256]\n",
      "yt : [INFO     ] 2022-07-13 09:39:08,795 Parameters: domain_left_edge          = [0. 0. 0.]\n",
      "yt : [INFO     ] 2022-07-13 09:39:08,798 Parameters: domain_right_edge         = [1. 1. 1.]\n",
      "yt : [INFO     ] 2022-07-13 09:39:08,798 Parameters: cosmological_simulation   = 1\n",
      "yt : [INFO     ] 2022-07-13 09:39:08,798 Parameters: current_redshift          = 0.50829046728324\n",
      "yt : [INFO     ] 2022-07-13 09:39:08,799 Parameters: omega_lambda              = 0.715\n",
      "yt : [INFO     ] 2022-07-13 09:39:08,800 Parameters: omega_matter              = 0.285\n",
      "yt : [INFO     ] 2022-07-13 09:39:08,801 Parameters: omega_radiation           = 0.0\n",
      "yt : [INFO     ] 2022-07-13 09:39:08,802 Parameters: hubble_constant           = 0.695\n"
     ]
    },
    {
     "name": "stdout",
     "output_type": "stream",
     "text": [
      "get_refine_box: using this location:       col1         col2     col3     col4     col5     col6     col7   col8\n",
      "---------------- -------- -------- -------- -------- -------- -------- ----\n",
      "0.50829046728324 0.490403 0.477105 0.505623 0.492403 0.479105 0.507623    9\n"
     ]
    },
    {
     "name": "stderr",
     "output_type": "stream",
     "text": [
      "Parsing Hierarchy : 100%|████████████████| 6171/6171 [00:00<00:00, 17988.99it/s]\n",
      "yt : [INFO     ] 2022-07-13 09:39:09,374 Gathering a field list (this may take a moment.)\n",
      "yt : [WARNING  ] 2022-07-13 09:39:12,169 The stars particle filter already exists. Overriding.\n",
      "yt : [WARNING  ] 2022-07-13 09:39:12,170 The DM particle filter already exists. Overriding.\n"
     ]
    },
    {
     "name": "stdout",
     "output_type": "stream",
     "text": [
      "Pulling halo center from catalog file\n",
      "Opening snapshot /Volumes/TempestTimeSteps/DD1487/DD1487\n"
     ]
    },
    {
     "name": "stderr",
     "output_type": "stream",
     "text": [
      "yt : [INFO     ] 2022-07-13 09:39:12,364 Parameters: current_time              = 404.56652781829\n",
      "yt : [INFO     ] 2022-07-13 09:39:12,366 Parameters: domain_dimensions         = [256 256 256]\n",
      "yt : [INFO     ] 2022-07-13 09:39:12,368 Parameters: domain_left_edge          = [0. 0. 0.]\n",
      "yt : [INFO     ] 2022-07-13 09:39:12,370 Parameters: domain_right_edge         = [1. 1. 1.]\n",
      "yt : [INFO     ] 2022-07-13 09:39:12,370 Parameters: cosmological_simulation   = 1\n",
      "yt : [INFO     ] 2022-07-13 09:39:12,371 Parameters: current_redshift          = 0.49342124762432\n",
      "yt : [INFO     ] 2022-07-13 09:39:12,372 Parameters: omega_lambda              = 0.715\n",
      "yt : [INFO     ] 2022-07-13 09:39:12,372 Parameters: omega_matter              = 0.285\n",
      "yt : [INFO     ] 2022-07-13 09:39:12,373 Parameters: omega_radiation           = 0.0\n",
      "yt : [INFO     ] 2022-07-13 09:39:12,374 Parameters: hubble_constant           = 0.695\n"
     ]
    },
    {
     "name": "stdout",
     "output_type": "stream",
     "text": [
      "get_refine_box: using this location:       col1         col2     col3     col4     col5     col6     col7   col8\n",
      "---------------- -------- -------- -------- -------- -------- -------- ----\n",
      "0.49342124762432 0.490359 0.476933 0.505703 0.492359 0.478933 0.507703    9\n"
     ]
    },
    {
     "name": "stderr",
     "output_type": "stream",
     "text": [
      "Parsing Hierarchy : 100%|████████████████| 5910/5910 [00:00<00:00, 18307.65it/s]\n",
      "yt : [INFO     ] 2022-07-13 09:39:12,906 Gathering a field list (this may take a moment.)\n",
      "yt : [WARNING  ] 2022-07-13 09:39:15,661 The stars particle filter already exists. Overriding.\n",
      "yt : [WARNING  ] 2022-07-13 09:39:15,662 The DM particle filter already exists. Overriding.\n",
      "yt : [INFO     ] 2022-07-13 09:39:15,769 Parameters: current_time              = 409.56652781829\n",
      "yt : [INFO     ] 2022-07-13 09:39:15,772 Parameters: domain_dimensions         = [256 256 256]\n",
      "yt : [INFO     ] 2022-07-13 09:39:15,775 Parameters: domain_left_edge          = [0. 0. 0.]\n",
      "yt : [INFO     ] 2022-07-13 09:39:15,777 Parameters: domain_right_edge         = [1. 1. 1.]\n",
      "yt : [INFO     ] 2022-07-13 09:39:15,778 Parameters: cosmological_simulation   = 1\n",
      "yt : [INFO     ] 2022-07-13 09:39:15,778 Parameters: current_redshift          = 0.47882175604921\n",
      "yt : [INFO     ] 2022-07-13 09:39:15,779 Parameters: omega_lambda              = 0.715\n",
      "yt : [INFO     ] 2022-07-13 09:39:15,780 Parameters: omega_matter              = 0.285\n",
      "yt : [INFO     ] 2022-07-13 09:39:15,780 Parameters: omega_radiation           = 0.0\n",
      "yt : [INFO     ] 2022-07-13 09:39:15,781 Parameters: hubble_constant           = 0.695\n"
     ]
    },
    {
     "name": "stdout",
     "output_type": "stream",
     "text": [
      "Pulling halo center from catalog file\n",
      "Opening snapshot /Volumes/TempestTimeSteps/DD1507/DD1507\n",
      "get_refine_box: using this location:       col1         col2     col3     col4     col5     col6     col7   col8\n",
      "---------------- -------- -------- -------- -------- -------- -------- ----\n",
      "0.47882175604921 0.490311 0.476767 0.505778 0.492311 0.478767 0.507778    9\n"
     ]
    },
    {
     "name": "stderr",
     "output_type": "stream",
     "text": [
      "Parsing Hierarchy : 100%|████████████████| 5867/5867 [00:00<00:00, 18227.51it/s]\n",
      "yt : [INFO     ] 2022-07-13 09:39:16,314 Gathering a field list (this may take a moment.)\n",
      "yt : [WARNING  ] 2022-07-13 09:39:18,975 The stars particle filter already exists. Overriding.\n",
      "yt : [WARNING  ] 2022-07-13 09:39:18,975 The DM particle filter already exists. Overriding.\n"
     ]
    },
    {
     "name": "stdout",
     "output_type": "stream",
     "text": [
      "Pulling halo center from catalog file\n",
      "Opening snapshot /Volumes/TempestTimeSteps/DD1527/DD1527\n"
     ]
    },
    {
     "name": "stderr",
     "output_type": "stream",
     "text": [
      "yt : [INFO     ] 2022-07-13 09:39:19,151 Parameters: current_time              = 414.56652781829\n",
      "yt : [INFO     ] 2022-07-13 09:39:19,154 Parameters: domain_dimensions         = [256 256 256]\n",
      "yt : [INFO     ] 2022-07-13 09:39:19,155 Parameters: domain_left_edge          = [0. 0. 0.]\n",
      "yt : [INFO     ] 2022-07-13 09:39:19,158 Parameters: domain_right_edge         = [1. 1. 1.]\n",
      "yt : [INFO     ] 2022-07-13 09:39:19,158 Parameters: cosmological_simulation   = 1\n",
      "yt : [INFO     ] 2022-07-13 09:39:19,158 Parameters: current_redshift          = 0.46448339402042\n",
      "yt : [INFO     ] 2022-07-13 09:39:19,159 Parameters: omega_lambda              = 0.715\n",
      "yt : [INFO     ] 2022-07-13 09:39:19,160 Parameters: omega_matter              = 0.285\n",
      "yt : [INFO     ] 2022-07-13 09:39:19,160 Parameters: omega_radiation           = 0.0\n",
      "yt : [INFO     ] 2022-07-13 09:39:19,161 Parameters: hubble_constant           = 0.695\n"
     ]
    },
    {
     "name": "stdout",
     "output_type": "stream",
     "text": [
      "get_refine_box: using this location:       col1         col2     col3     col4     col5     col6     col7   col8\n",
      "---------------- -------- -------- -------- -------- -------- -------- ----\n",
      "0.46448339402042 0.490271 0.476607 0.505839 0.492271 0.478607 0.507839    9\n"
     ]
    },
    {
     "name": "stderr",
     "output_type": "stream",
     "text": [
      "Parsing Hierarchy : 100%|████████████████| 5969/5969 [00:00<00:00, 18198.01it/s]\n",
      "yt : [INFO     ] 2022-07-13 09:39:19,704 Gathering a field list (this may take a moment.)\n",
      "yt : [WARNING  ] 2022-07-13 09:39:22,421 The stars particle filter already exists. Overriding.\n",
      "yt : [WARNING  ] 2022-07-13 09:39:22,422 The DM particle filter already exists. Overriding.\n",
      "yt : [INFO     ] 2022-07-13 09:39:22,517 Parameters: current_time              = 419.56652781829\n",
      "yt : [INFO     ] 2022-07-13 09:39:22,519 Parameters: domain_dimensions         = [256 256 256]\n",
      "yt : [INFO     ] 2022-07-13 09:39:22,521 Parameters: domain_left_edge          = [0. 0. 0.]\n",
      "yt : [INFO     ] 2022-07-13 09:39:22,523 Parameters: domain_right_edge         = [1. 1. 1.]\n",
      "yt : [INFO     ] 2022-07-13 09:39:22,524 Parameters: cosmological_simulation   = 1\n",
      "yt : [INFO     ] 2022-07-13 09:39:22,524 Parameters: current_redshift          = 0.45039794375812\n",
      "yt : [INFO     ] 2022-07-13 09:39:22,525 Parameters: omega_lambda              = 0.715\n",
      "yt : [INFO     ] 2022-07-13 09:39:22,525 Parameters: omega_matter              = 0.285\n",
      "yt : [INFO     ] 2022-07-13 09:39:22,526 Parameters: omega_radiation           = 0.0\n",
      "yt : [INFO     ] 2022-07-13 09:39:22,527 Parameters: hubble_constant           = 0.695\n"
     ]
    },
    {
     "name": "stdout",
     "output_type": "stream",
     "text": [
      "Pulling halo center from catalog file\n",
      "Opening snapshot /Volumes/TempestTimeSteps/DD1547/DD1547\n",
      "get_refine_box: using this location:       col1         col2     col3     col4     col5     col6     col7   col8\n",
      "---------------- -------- -------- -------- -------- -------- -------- ----\n",
      "0.45039794375812 0.490235 0.476443 0.505904 0.492235 0.478443 0.507904    9\n"
     ]
    },
    {
     "name": "stderr",
     "output_type": "stream",
     "text": [
      "Parsing Hierarchy : 100%|████████████████| 5953/5953 [00:00<00:00, 17808.21it/s]\n",
      "yt : [INFO     ] 2022-07-13 09:39:23,155 Gathering a field list (this may take a moment.)\n",
      "yt : [WARNING  ] 2022-07-13 09:39:25,972 The stars particle filter already exists. Overriding.\n",
      "yt : [WARNING  ] 2022-07-13 09:39:25,972 The DM particle filter already exists. Overriding.\n"
     ]
    },
    {
     "name": "stdout",
     "output_type": "stream",
     "text": [
      "Pulling halo center from catalog file\n",
      "Opening snapshot /Volumes/TempestTimeSteps/DD1567/DD1567\n"
     ]
    },
    {
     "name": "stderr",
     "output_type": "stream",
     "text": [
      "yt : [INFO     ] 2022-07-13 09:39:26,148 Parameters: current_time              = 424.56652781829\n",
      "yt : [INFO     ] 2022-07-13 09:39:26,150 Parameters: domain_dimensions         = [256 256 256]\n",
      "yt : [INFO     ] 2022-07-13 09:39:26,152 Parameters: domain_left_edge          = [0. 0. 0.]\n",
      "yt : [INFO     ] 2022-07-13 09:39:26,154 Parameters: domain_right_edge         = [1. 1. 1.]\n",
      "yt : [INFO     ] 2022-07-13 09:39:26,154 Parameters: cosmological_simulation   = 1\n",
      "yt : [INFO     ] 2022-07-13 09:39:26,154 Parameters: current_redshift          = 0.43654854251444\n",
      "yt : [INFO     ] 2022-07-13 09:39:26,155 Parameters: omega_lambda              = 0.715\n",
      "yt : [INFO     ] 2022-07-13 09:39:26,155 Parameters: omega_matter              = 0.285\n",
      "yt : [INFO     ] 2022-07-13 09:39:26,156 Parameters: omega_radiation           = 0\n",
      "yt : [INFO     ] 2022-07-13 09:39:26,157 Parameters: hubble_constant           = 0.695\n"
     ]
    },
    {
     "name": "stdout",
     "output_type": "stream",
     "text": [
      "get_refine_box: using this location:       col1         col2     col3     col4     col5     col6     col7   col8\n",
      "---------------- -------- -------- -------- -------- -------- -------- ----\n",
      "0.43655754720396 0.490199 0.476281 0.505972 0.492199 0.478281 0.507972    9\n"
     ]
    },
    {
     "name": "stderr",
     "output_type": "stream",
     "text": [
      "Parsing Hierarchy : 100%|████████████████| 5989/5989 [00:00<00:00, 18743.56it/s]\n",
      "yt : [INFO     ] 2022-07-13 09:39:26,681 Gathering a field list (this may take a moment.)\n",
      "yt : [WARNING  ] 2022-07-13 09:39:29,437 The stars particle filter already exists. Overriding.\n",
      "yt : [WARNING  ] 2022-07-13 09:39:29,437 The DM particle filter already exists. Overriding.\n"
     ]
    },
    {
     "name": "stdout",
     "output_type": "stream",
     "text": [
      "Pulling halo center from catalog file\n",
      "Opening snapshot /Volumes/TempestTimeSteps/DD1587/DD1587\n"
     ]
    },
    {
     "name": "stderr",
     "output_type": "stream",
     "text": [
      "yt : [INFO     ] 2022-07-13 09:39:29,621 Parameters: current_time              = 429.56652781829\n",
      "yt : [INFO     ] 2022-07-13 09:39:29,624 Parameters: domain_dimensions         = [256 256 256]\n",
      "yt : [INFO     ] 2022-07-13 09:39:29,627 Parameters: domain_left_edge          = [0. 0. 0.]\n",
      "yt : [INFO     ] 2022-07-13 09:39:29,629 Parameters: domain_right_edge         = [1. 1. 1.]\n",
      "yt : [INFO     ] 2022-07-13 09:39:29,630 Parameters: cosmological_simulation   = 1\n",
      "yt : [INFO     ] 2022-07-13 09:39:29,630 Parameters: current_redshift          = 0.42294018464771\n",
      "yt : [INFO     ] 2022-07-13 09:39:29,631 Parameters: omega_lambda              = 0.715\n",
      "yt : [INFO     ] 2022-07-13 09:39:29,632 Parameters: omega_matter              = 0.285\n",
      "yt : [INFO     ] 2022-07-13 09:39:29,632 Parameters: omega_radiation           = 0\n",
      "yt : [INFO     ] 2022-07-13 09:39:29,633 Parameters: hubble_constant           = 0.695\n"
     ]
    },
    {
     "name": "stdout",
     "output_type": "stream",
     "text": [
      "get_refine_box: using this location:       col1         col2     col3     col4     col5     col6     col7   col8\n",
      "---------------- -------- -------- -------- -------- -------- -------- ----\n",
      "0.42295468637566 0.490164 0.476115 0.506041 0.492164 0.478115 0.508041    9\n"
     ]
    },
    {
     "name": "stderr",
     "output_type": "stream",
     "text": [
      "Parsing Hierarchy : 100%|████████████████| 5816/5816 [00:00<00:00, 18353.95it/s]\n",
      "yt : [INFO     ] 2022-07-13 09:39:30,149 Gathering a field list (this may take a moment.)\n",
      "yt : [WARNING  ] 2022-07-13 09:39:32,764 The stars particle filter already exists. Overriding.\n",
      "yt : [WARNING  ] 2022-07-13 09:39:32,765 The DM particle filter already exists. Overriding.\n"
     ]
    },
    {
     "name": "stdout",
     "output_type": "stream",
     "text": [
      "Pulling halo center from catalog file\n",
      "Opening snapshot /Volumes/TempestTimeSteps/DD1607/DD1607\n"
     ]
    },
    {
     "name": "stderr",
     "output_type": "stream",
     "text": [
      "yt : [INFO     ] 2022-07-13 09:39:32,923 Parameters: current_time              = 434.56652781829\n",
      "yt : [INFO     ] 2022-07-13 09:39:32,926 Parameters: domain_dimensions         = [256 256 256]\n",
      "yt : [INFO     ] 2022-07-13 09:39:32,928 Parameters: domain_left_edge          = [0. 0. 0.]\n",
      "yt : [INFO     ] 2022-07-13 09:39:32,930 Parameters: domain_right_edge         = [1. 1. 1.]\n",
      "yt : [INFO     ] 2022-07-13 09:39:32,931 Parameters: cosmological_simulation   = 1\n",
      "yt : [INFO     ] 2022-07-13 09:39:32,931 Parameters: current_redshift          = 0.40957366338403\n",
      "yt : [INFO     ] 2022-07-13 09:39:32,932 Parameters: omega_lambda              = 0.715\n",
      "yt : [INFO     ] 2022-07-13 09:39:32,932 Parameters: omega_matter              = 0.285\n",
      "yt : [INFO     ] 2022-07-13 09:39:32,933 Parameters: omega_radiation           = 0\n",
      "yt : [INFO     ] 2022-07-13 09:39:32,934 Parameters: hubble_constant           = 0.695\n"
     ]
    },
    {
     "name": "stdout",
     "output_type": "stream",
     "text": [
      "get_refine_box: using this location:       col1        col2     col3     col4     col5     col6     col7   col8\n",
      "--------------- -------- -------- -------- -------- -------- -------- ----\n",
      "0.4095821650052 0.490128 0.475951 0.506113 0.492128 0.477951 0.508113    9\n"
     ]
    },
    {
     "name": "stderr",
     "output_type": "stream",
     "text": [
      "Parsing Hierarchy : 100%|████████████████| 5789/5789 [00:00<00:00, 18741.89it/s]\n",
      "yt : [INFO     ] 2022-07-13 09:39:33,455 Gathering a field list (this may take a moment.)\n",
      "yt : [WARNING  ] 2022-07-13 09:39:36,233 The stars particle filter already exists. Overriding.\n",
      "yt : [WARNING  ] 2022-07-13 09:39:36,234 The DM particle filter already exists. Overriding.\n"
     ]
    },
    {
     "name": "stdout",
     "output_type": "stream",
     "text": [
      "Pulling halo center from catalog file\n",
      "Opening snapshot /Volumes/TempestTimeSteps/DD1627/DD1627\n"
     ]
    },
    {
     "name": "stderr",
     "output_type": "stream",
     "text": [
      "yt : [INFO     ] 2022-07-13 09:39:36,404 Parameters: current_time              = 439.56652781829\n",
      "yt : [INFO     ] 2022-07-13 09:39:36,408 Parameters: domain_dimensions         = [256 256 256]\n",
      "yt : [INFO     ] 2022-07-13 09:39:36,410 Parameters: domain_left_edge          = [0. 0. 0.]\n",
      "yt : [INFO     ] 2022-07-13 09:39:36,412 Parameters: domain_right_edge         = [1. 1. 1.]\n",
      "yt : [INFO     ] 2022-07-13 09:39:36,413 Parameters: cosmological_simulation   = 1\n",
      "yt : [INFO     ] 2022-07-13 09:39:36,413 Parameters: current_redshift          = 0.39642584964378\n",
      "yt : [INFO     ] 2022-07-13 09:39:36,414 Parameters: omega_lambda              = 0.715\n",
      "yt : [INFO     ] 2022-07-13 09:39:36,414 Parameters: omega_matter              = 0.285\n",
      "yt : [INFO     ] 2022-07-13 09:39:36,415 Parameters: omega_radiation           = 0\n",
      "yt : [INFO     ] 2022-07-13 09:39:36,415 Parameters: hubble_constant           = 0.695\n"
     ]
    },
    {
     "name": "stdout",
     "output_type": "stream",
     "text": [
      "get_refine_box: using this location:       col1         col2     col3     col4     col5     col6     col7   col8\n",
      "---------------- -------- -------- -------- -------- -------- -------- ----\n",
      "0.39643309136323 0.490092 0.475789 0.506186 0.492092 0.477789 0.508186    9\n"
     ]
    },
    {
     "name": "stderr",
     "output_type": "stream",
     "text": [
      "Parsing Hierarchy : 100%|████████████████| 5643/5643 [00:00<00:00, 17331.56it/s]\n",
      "yt : [INFO     ] 2022-07-13 09:39:36,946 Gathering a field list (this may take a moment.)\n",
      "yt : [WARNING  ] 2022-07-13 09:39:39,545 The stars particle filter already exists. Overriding.\n",
      "yt : [WARNING  ] 2022-07-13 09:39:39,546 The DM particle filter already exists. Overriding.\n"
     ]
    },
    {
     "name": "stdout",
     "output_type": "stream",
     "text": [
      "Pulling halo center from catalog file\n",
      "Opening snapshot /Volumes/TempestTimeSteps/DD1647/DD1647\n"
     ]
    },
    {
     "name": "stderr",
     "output_type": "stream",
     "text": [
      "yt : [INFO     ] 2022-07-13 09:39:39,729 Parameters: current_time              = 444.56652781829\n",
      "yt : [INFO     ] 2022-07-13 09:39:39,731 Parameters: domain_dimensions         = [256 256 256]\n",
      "yt : [INFO     ] 2022-07-13 09:39:39,734 Parameters: domain_left_edge          = [0. 0. 0.]\n",
      "yt : [INFO     ] 2022-07-13 09:39:39,736 Parameters: domain_right_edge         = [1. 1. 1.]\n",
      "yt : [INFO     ] 2022-07-13 09:39:39,737 Parameters: cosmological_simulation   = 1\n",
      "yt : [INFO     ] 2022-07-13 09:39:39,737 Parameters: current_redshift          = 0.38348625944323\n",
      "yt : [INFO     ] 2022-07-13 09:39:39,737 Parameters: omega_lambda              = 0.715\n",
      "yt : [INFO     ] 2022-07-13 09:39:39,738 Parameters: omega_matter              = 0.285\n",
      "yt : [INFO     ] 2022-07-13 09:39:39,739 Parameters: omega_radiation           = 0\n",
      "yt : [INFO     ] 2022-07-13 09:39:39,740 Parameters: hubble_constant           = 0.695\n"
     ]
    },
    {
     "name": "stdout",
     "output_type": "stream",
     "text": [
      "get_refine_box: using this location:       col1         col2     col3     col4    col5     col6     col7  col8\n",
      "---------------- -------- -------- ------- -------- -------- ------- ----\n",
      "0.38350086218055 0.490054 0.475624 0.50626 0.492054 0.477624 0.50826    9\n"
     ]
    },
    {
     "name": "stderr",
     "output_type": "stream",
     "text": [
      "Parsing Hierarchy : 100%|████████████████| 5260/5260 [00:00<00:00, 16623.01it/s]\n",
      "yt : [INFO     ] 2022-07-13 09:39:40,256 Gathering a field list (this may take a moment.)\n",
      "yt : [WARNING  ] 2022-07-13 09:39:42,969 The stars particle filter already exists. Overriding.\n",
      "yt : [WARNING  ] 2022-07-13 09:39:42,969 The DM particle filter already exists. Overriding.\n"
     ]
    },
    {
     "name": "stdout",
     "output_type": "stream",
     "text": [
      "Pulling halo center from catalog file\n",
      "Opening snapshot /Volumes/TempestTimeSteps/DD1667/DD1667\n"
     ]
    },
    {
     "name": "stderr",
     "output_type": "stream",
     "text": [
      "yt : [INFO     ] 2022-07-13 09:39:43,136 Parameters: current_time              = 449.56652781829\n",
      "yt : [INFO     ] 2022-07-13 09:39:43,138 Parameters: domain_dimensions         = [256 256 256]\n",
      "yt : [INFO     ] 2022-07-13 09:39:43,141 Parameters: domain_left_edge          = [0. 0. 0.]\n",
      "yt : [INFO     ] 2022-07-13 09:39:43,143 Parameters: domain_right_edge         = [1. 1. 1.]\n",
      "yt : [INFO     ] 2022-07-13 09:39:43,144 Parameters: cosmological_simulation   = 1\n",
      "yt : [INFO     ] 2022-07-13 09:39:43,144 Parameters: current_redshift          = 0.37076988451991\n",
      "yt : [INFO     ] 2022-07-13 09:39:43,145 Parameters: omega_lambda              = 0.715\n",
      "yt : [INFO     ] 2022-07-13 09:39:43,146 Parameters: omega_matter              = 0.285\n",
      "yt : [INFO     ] 2022-07-13 09:39:43,146 Parameters: omega_radiation           = 0\n",
      "yt : [INFO     ] 2022-07-13 09:39:43,147 Parameters: hubble_constant           = 0.695\n"
     ]
    },
    {
     "name": "stdout",
     "output_type": "stream",
     "text": [
      "get_refine_box: using this location:       col1         col2     col3     col4     col5     col6     col7   col8\n",
      "---------------- -------- -------- -------- -------- -------- -------- ----\n",
      "0.37077914758514 0.490008 0.475464 0.506331 0.492008 0.477464 0.508331    9\n"
     ]
    },
    {
     "name": "stderr",
     "output_type": "stream",
     "text": [
      "Parsing Hierarchy : 100%|████████████████| 5350/5350 [00:00<00:00, 19640.10it/s]\n",
      "yt : [INFO     ] 2022-07-13 09:39:43,624 Gathering a field list (this may take a moment.)\n",
      "yt : [WARNING  ] 2022-07-13 09:39:46,717 The stars particle filter already exists. Overriding.\n",
      "yt : [WARNING  ] 2022-07-13 09:39:46,718 The DM particle filter already exists. Overriding.\n"
     ]
    },
    {
     "name": "stdout",
     "output_type": "stream",
     "text": [
      "Pulling halo center from catalog file\n",
      "Opening snapshot /Volumes/TempestTimeSteps/DD1687/DD1687\n"
     ]
    },
    {
     "name": "stderr",
     "output_type": "stream",
     "text": [
      "yt : [INFO     ] 2022-07-13 09:39:46,864 Parameters: current_time              = 454.56652781829\n",
      "yt : [INFO     ] 2022-07-13 09:39:46,866 Parameters: domain_dimensions         = [256 256 256]\n",
      "yt : [INFO     ] 2022-07-13 09:39:46,869 Parameters: domain_left_edge          = [0. 0. 0.]\n",
      "yt : [INFO     ] 2022-07-13 09:39:46,872 Parameters: domain_right_edge         = [1. 1. 1.]\n",
      "yt : [INFO     ] 2022-07-13 09:39:46,873 Parameters: cosmological_simulation   = 1\n",
      "yt : [INFO     ] 2022-07-13 09:39:46,874 Parameters: current_redshift          = 0.35825474228483\n",
      "yt : [INFO     ] 2022-07-13 09:39:46,874 Parameters: omega_lambda              = 0.715\n",
      "yt : [INFO     ] 2022-07-13 09:39:46,875 Parameters: omega_matter              = 0.285\n",
      "yt : [INFO     ] 2022-07-13 09:39:46,876 Parameters: omega_radiation           = 0\n",
      "yt : [INFO     ] 2022-07-13 09:39:46,877 Parameters: hubble_constant           = 0.695\n"
     ]
    },
    {
     "name": "stdout",
     "output_type": "stream",
     "text": [
      "get_refine_box: using this location:       col1         col2    col3     col4     col5    col6     col7   col8\n",
      "---------------- ------- -------- -------- ------- -------- -------- ----\n",
      "0.35826187698009 0.48997 0.475304 0.506398 0.49197 0.477304 0.508398    9\n"
     ]
    },
    {
     "name": "stderr",
     "output_type": "stream",
     "text": [
      "Parsing Hierarchy : 100%|████████████████| 5327/5327 [00:00<00:00, 13970.26it/s]\n",
      "yt : [INFO     ] 2022-07-13 09:39:47,495 Gathering a field list (this may take a moment.)\n",
      "yt : [WARNING  ] 2022-07-13 09:39:50,525 The stars particle filter already exists. Overriding.\n",
      "yt : [WARNING  ] 2022-07-13 09:39:50,526 The DM particle filter already exists. Overriding.\n"
     ]
    },
    {
     "name": "stdout",
     "output_type": "stream",
     "text": [
      "Pulling halo center from catalog file\n",
      "Opening snapshot /Volumes/TempestTimeSteps/DD1707/DD1707\n"
     ]
    },
    {
     "name": "stderr",
     "output_type": "stream",
     "text": [
      "yt : [INFO     ] 2022-07-13 09:39:50,687 Parameters: current_time              = 459.56652781829\n",
      "yt : [INFO     ] 2022-07-13 09:39:50,689 Parameters: domain_dimensions         = [256 256 256]\n",
      "yt : [INFO     ] 2022-07-13 09:39:50,692 Parameters: domain_left_edge          = [0. 0. 0.]\n",
      "yt : [INFO     ] 2022-07-13 09:39:50,695 Parameters: domain_right_edge         = [1. 1. 1.]\n",
      "yt : [INFO     ] 2022-07-13 09:39:50,695 Parameters: cosmological_simulation   = 1\n",
      "yt : [INFO     ] 2022-07-13 09:39:50,696 Parameters: current_redshift          = 0.34592847874001\n",
      "yt : [INFO     ] 2022-07-13 09:39:50,696 Parameters: omega_lambda              = 0.715\n",
      "yt : [INFO     ] 2022-07-13 09:39:50,696 Parameters: omega_matter              = 0.285\n",
      "yt : [INFO     ] 2022-07-13 09:39:50,697 Parameters: omega_radiation           = 0\n",
      "yt : [INFO     ] 2022-07-13 09:39:50,697 Parameters: hubble_constant           = 0.695\n"
     ]
    },
    {
     "name": "stdout",
     "output_type": "stream",
     "text": [
      "get_refine_box: using this location:       col1        col2     col3     col4     col5     col6     col7   col8\n",
      "--------------- -------- -------- -------- -------- -------- -------- ----\n",
      "0.3459432257941 0.489933 0.475144 0.506463 0.491933 0.477144 0.508463    9\n"
     ]
    },
    {
     "name": "stderr",
     "output_type": "stream",
     "text": [
      "Parsing Hierarchy : 100%|████████████████| 5353/5353 [00:00<00:00, 16349.48it/s]\n",
      "yt : [INFO     ] 2022-07-13 09:39:51,249 Gathering a field list (this may take a moment.)\n",
      "yt : [WARNING  ] 2022-07-13 09:39:54,027 The stars particle filter already exists. Overriding.\n",
      "yt : [WARNING  ] 2022-07-13 09:39:54,027 The DM particle filter already exists. Overriding.\n"
     ]
    },
    {
     "name": "stdout",
     "output_type": "stream",
     "text": [
      "Pulling halo center from catalog file\n",
      "Opening snapshot /Volumes/TempestTimeSteps/DD1727/DD1727\n"
     ]
    },
    {
     "name": "stderr",
     "output_type": "stream",
     "text": [
      "yt : [INFO     ] 2022-07-13 09:39:54,208 Parameters: current_time              = 464.56652781829\n",
      "yt : [INFO     ] 2022-07-13 09:39:54,211 Parameters: domain_dimensions         = [256 256 256]\n",
      "yt : [INFO     ] 2022-07-13 09:39:54,213 Parameters: domain_left_edge          = [0. 0. 0.]\n",
      "yt : [INFO     ] 2022-07-13 09:39:54,215 Parameters: domain_right_edge         = [1. 1. 1.]\n",
      "yt : [INFO     ] 2022-07-13 09:39:54,216 Parameters: cosmological_simulation   = 1\n",
      "yt : [INFO     ] 2022-07-13 09:39:54,216 Parameters: current_redshift          = 0.33380915572466\n",
      "yt : [INFO     ] 2022-07-13 09:39:54,217 Parameters: omega_lambda              = 0.715\n",
      "yt : [INFO     ] 2022-07-13 09:39:54,218 Parameters: omega_matter              = 0.285\n",
      "yt : [INFO     ] 2022-07-13 09:39:54,218 Parameters: omega_radiation           = 0\n",
      "yt : [INFO     ] 2022-07-13 09:39:54,219 Parameters: hubble_constant           = 0.695\n"
     ]
    },
    {
     "name": "stdout",
     "output_type": "stream",
     "text": [
      "get_refine_box: using this location:       col1         col2     col3     col4     col5     col6     col7   col8\n",
      "---------------- -------- -------- -------- -------- -------- -------- ----\n",
      "0.33381760304183 0.489899 0.474982 0.506529 0.491899 0.476982 0.508529    9\n"
     ]
    },
    {
     "name": "stderr",
     "output_type": "stream",
     "text": [
      "Parsing Hierarchy : 100%|████████████████| 5384/5384 [00:00<00:00, 16918.99it/s]\n",
      "yt : [INFO     ] 2022-07-13 09:39:54,748 Gathering a field list (this may take a moment.)\n",
      "yt : [WARNING  ] 2022-07-13 09:39:57,461 The stars particle filter already exists. Overriding.\n",
      "yt : [WARNING  ] 2022-07-13 09:39:57,461 The DM particle filter already exists. Overriding.\n"
     ]
    },
    {
     "name": "stdout",
     "output_type": "stream",
     "text": [
      "Pulling halo center from catalog file\n",
      "Opening snapshot /Volumes/TempestTimeSteps/DD1747/DD1747\n"
     ]
    },
    {
     "name": "stderr",
     "output_type": "stream",
     "text": [
      "yt : [INFO     ] 2022-07-13 09:39:57,635 Parameters: current_time              = 469.56652781829\n",
      "yt : [INFO     ] 2022-07-13 09:39:57,637 Parameters: domain_dimensions         = [256 256 256]\n",
      "yt : [INFO     ] 2022-07-13 09:39:57,640 Parameters: domain_left_edge          = [0. 0. 0.]\n",
      "yt : [INFO     ] 2022-07-13 09:39:57,642 Parameters: domain_right_edge         = [1. 1. 1.]\n",
      "yt : [INFO     ] 2022-07-13 09:39:57,643 Parameters: cosmological_simulation   = 1\n",
      "yt : [INFO     ] 2022-07-13 09:39:57,643 Parameters: current_redshift          = 0.32187097991253\n",
      "yt : [INFO     ] 2022-07-13 09:39:57,644 Parameters: omega_lambda              = 0.715\n",
      "yt : [INFO     ] 2022-07-13 09:39:57,645 Parameters: omega_matter              = 0.285\n",
      "yt : [INFO     ] 2022-07-13 09:39:57,645 Parameters: omega_radiation           = 0\n",
      "yt : [INFO     ] 2022-07-13 09:39:57,646 Parameters: hubble_constant           = 0.695\n"
     ]
    },
    {
     "name": "stdout",
     "output_type": "stream",
     "text": [
      "get_refine_box: using this location:       col1         col2     col3     col4     col5     col6     col7   col8\n",
      "---------------- -------- -------- -------- -------- -------- -------- ----\n",
      "0.32187963963644 0.489863 0.474823 0.506592 0.491863 0.476823 0.508592    9\n"
     ]
    },
    {
     "name": "stderr",
     "output_type": "stream",
     "text": [
      "Parsing Hierarchy : 100%|████████████████| 5338/5338 [00:00<00:00, 18106.82it/s]\n",
      "yt : [INFO     ] 2022-07-13 09:39:58,143 Gathering a field list (this may take a moment.)\n",
      "yt : [WARNING  ] 2022-07-13 09:40:00,823 The stars particle filter already exists. Overriding.\n",
      "yt : [WARNING  ] 2022-07-13 09:40:00,824 The DM particle filter already exists. Overriding.\n"
     ]
    },
    {
     "name": "stdout",
     "output_type": "stream",
     "text": [
      "Pulling halo center from catalog file\n",
      "Opening snapshot /Volumes/TempestTimeSteps/DD1767/DD1767\n"
     ]
    },
    {
     "name": "stderr",
     "output_type": "stream",
     "text": [
      "yt : [INFO     ] 2022-07-13 09:40:01,010 Parameters: current_time              = 474.56652781829\n",
      "yt : [INFO     ] 2022-07-13 09:40:01,013 Parameters: domain_dimensions         = [256 256 256]\n",
      "yt : [INFO     ] 2022-07-13 09:40:01,015 Parameters: domain_left_edge          = [0. 0. 0.]\n",
      "yt : [INFO     ] 2022-07-13 09:40:01,018 Parameters: domain_right_edge         = [1. 1. 1.]\n",
      "yt : [INFO     ] 2022-07-13 09:40:01,018 Parameters: cosmological_simulation   = 1\n",
      "yt : [INFO     ] 2022-07-13 09:40:01,018 Parameters: current_redshift          = 0.31010937956297\n",
      "yt : [INFO     ] 2022-07-13 09:40:01,019 Parameters: omega_lambda              = 0.715\n",
      "yt : [INFO     ] 2022-07-13 09:40:01,019 Parameters: omega_matter              = 0.285\n",
      "yt : [INFO     ] 2022-07-13 09:40:01,020 Parameters: omega_radiation           = 0\n",
      "yt : [INFO     ] 2022-07-13 09:40:01,021 Parameters: hubble_constant           = 0.695\n"
     ]
    },
    {
     "name": "stdout",
     "output_type": "stream",
     "text": [
      "get_refine_box: using this location:       col1         col2     col3     col4     col5     col6     col7   col8\n",
      "---------------- -------- -------- -------- -------- -------- -------- ----\n",
      "0.31012417740147 0.489823 0.474669 0.506653 0.491823 0.476669 0.508653    9\n"
     ]
    },
    {
     "name": "stderr",
     "output_type": "stream",
     "text": [
      "Parsing Hierarchy : 100%|████████████████| 5392/5392 [00:00<00:00, 17744.43it/s]\n",
      "yt : [INFO     ] 2022-07-13 09:40:01,534 Gathering a field list (this may take a moment.)\n",
      "yt : [WARNING  ] 2022-07-13 09:40:04,323 The stars particle filter already exists. Overriding.\n",
      "yt : [WARNING  ] 2022-07-13 09:40:04,324 The DM particle filter already exists. Overriding.\n"
     ]
    },
    {
     "name": "stdout",
     "output_type": "stream",
     "text": [
      "Pulling halo center from catalog file\n",
      "Opening snapshot /Volumes/TempestTimeSteps/DD1787/DD1787\n"
     ]
    },
    {
     "name": "stderr",
     "output_type": "stream",
     "text": [
      "yt : [INFO     ] 2022-07-13 09:40:04,504 Parameters: current_time              = 479.56652781829\n",
      "yt : [INFO     ] 2022-07-13 09:40:04,507 Parameters: domain_dimensions         = [256 256 256]\n",
      "yt : [INFO     ] 2022-07-13 09:40:04,509 Parameters: domain_left_edge          = [0. 0. 0.]\n",
      "yt : [INFO     ] 2022-07-13 09:40:04,512 Parameters: domain_right_edge         = [1. 1. 1.]\n",
      "yt : [INFO     ] 2022-07-13 09:40:04,513 Parameters: cosmological_simulation   = 1\n",
      "yt : [INFO     ] 2022-07-13 09:40:04,513 Parameters: current_redshift          = 0.29854043336148\n",
      "yt : [INFO     ] 2022-07-13 09:40:04,514 Parameters: omega_lambda              = 0.715\n",
      "yt : [INFO     ] 2022-07-13 09:40:04,514 Parameters: omega_matter              = 0.285\n",
      "yt : [INFO     ] 2022-07-13 09:40:04,515 Parameters: omega_radiation           = 0\n",
      "yt : [INFO     ] 2022-07-13 09:40:04,516 Parameters: hubble_constant           = 0.695\n"
     ]
    },
    {
     "name": "stdout",
     "output_type": "stream",
     "text": [
      "get_refine_box: using this location:       col1         col2     col3     col4     col5     col6     col7   col8\n",
      "---------------- -------- -------- -------- -------- -------- -------- ----\n",
      "0.29854625873325 0.489788 0.474513 0.506712 0.491788 0.476513 0.508712    9\n"
     ]
    },
    {
     "name": "stderr",
     "output_type": "stream",
     "text": [
      "Parsing Hierarchy : 100%|██████████████████| 5500/5500 [00:06<00:00, 910.34it/s]\n",
      "yt : [INFO     ] 2022-07-13 09:40:10,768 Gathering a field list (this may take a moment.)\n",
      "yt : [WARNING  ] 2022-07-13 09:40:13,448 The stars particle filter already exists. Overriding.\n",
      "yt : [WARNING  ] 2022-07-13 09:40:13,448 The DM particle filter already exists. Overriding.\n"
     ]
    },
    {
     "name": "stdout",
     "output_type": "stream",
     "text": [
      "Pulling halo center from catalog file\n",
      "Opening snapshot /Volumes/TempestTimeSteps/DD1807/DD1807\n"
     ]
    },
    {
     "name": "stderr",
     "output_type": "stream",
     "text": [
      "yt : [INFO     ] 2022-07-13 09:40:13,632 Parameters: current_time              = 484.56652781829\n",
      "yt : [INFO     ] 2022-07-13 09:40:13,634 Parameters: domain_dimensions         = [256 256 256]\n",
      "yt : [INFO     ] 2022-07-13 09:40:13,637 Parameters: domain_left_edge          = [0. 0. 0.]\n",
      "yt : [INFO     ] 2022-07-13 09:40:13,640 Parameters: domain_right_edge         = [1. 1. 1.]\n",
      "yt : [INFO     ] 2022-07-13 09:40:13,641 Parameters: cosmological_simulation   = 1\n",
      "yt : [INFO     ] 2022-07-13 09:40:13,641 Parameters: current_redshift          = 0.28712989799233\n",
      "yt : [INFO     ] 2022-07-13 09:40:13,642 Parameters: omega_lambda              = 0.715\n",
      "yt : [INFO     ] 2022-07-13 09:40:13,643 Parameters: omega_matter              = 0.285\n",
      "yt : [INFO     ] 2022-07-13 09:40:13,643 Parameters: omega_radiation           = 0\n",
      "yt : [INFO     ] 2022-07-13 09:40:13,644 Parameters: hubble_constant           = 0.695\n"
     ]
    },
    {
     "name": "stdout",
     "output_type": "stream",
     "text": [
      "get_refine_box: using this location:       col1         col2     col3     col4     col5     col6     col7   col8\n",
      "---------------- -------- -------- -------- -------- -------- -------- ----\n",
      "0.28714111686912 0.489754 0.474358 0.506773 0.491754 0.476358 0.508773    9\n"
     ]
    },
    {
     "name": "stderr",
     "output_type": "stream",
     "text": [
      "Parsing Hierarchy : 100%|████████████████| 5571/5571 [00:00<00:00, 19247.12it/s]\n",
      "yt : [INFO     ] 2022-07-13 09:40:14,163 Gathering a field list (this may take a moment.)\n",
      "yt : [WARNING  ] 2022-07-13 09:40:17,061 The stars particle filter already exists. Overriding.\n",
      "yt : [WARNING  ] 2022-07-13 09:40:17,062 The DM particle filter already exists. Overriding.\n"
     ]
    },
    {
     "name": "stdout",
     "output_type": "stream",
     "text": [
      "Pulling halo center from catalog file\n",
      "Opening snapshot /Volumes/TempestTimeSteps/DD1827/DD1827\n"
     ]
    },
    {
     "name": "stderr",
     "output_type": "stream",
     "text": [
      "yt : [INFO     ] 2022-07-13 09:40:17,245 Parameters: current_time              = 489.56652781829\n",
      "yt : [INFO     ] 2022-07-13 09:40:17,248 Parameters: domain_dimensions         = [256 256 256]\n",
      "yt : [INFO     ] 2022-07-13 09:40:17,250 Parameters: domain_left_edge          = [0. 0. 0.]\n",
      "yt : [INFO     ] 2022-07-13 09:40:17,252 Parameters: domain_right_edge         = [1. 1. 1.]\n",
      "yt : [INFO     ] 2022-07-13 09:40:17,253 Parameters: cosmological_simulation   = 1\n",
      "yt : [INFO     ] 2022-07-13 09:40:17,253 Parameters: current_redshift          = 0.27589007391511\n",
      "yt : [INFO     ] 2022-07-13 09:40:17,253 Parameters: omega_lambda              = 0.715\n",
      "yt : [INFO     ] 2022-07-13 09:40:17,254 Parameters: omega_matter              = 0.285\n",
      "yt : [INFO     ] 2022-07-13 09:40:17,254 Parameters: omega_radiation           = 0\n",
      "yt : [INFO     ] 2022-07-13 09:40:17,255 Parameters: hubble_constant           = 0.695\n"
     ]
    },
    {
     "name": "stdout",
     "output_type": "stream",
     "text": [
      "get_refine_box: using this location:       col1         col2     col3     col4     col5     col6     col7   col8\n",
      "---------------- -------- -------- -------- -------- -------- -------- ----\n",
      "0.27590416672012 0.489722 0.474205 0.506831 0.491722 0.476205 0.508831    9\n"
     ]
    },
    {
     "name": "stderr",
     "output_type": "stream",
     "text": [
      "Parsing Hierarchy : 100%|████████████████| 5461/5461 [00:00<00:00, 18246.52it/s]\n",
      "yt : [INFO     ] 2022-07-13 09:40:17,756 Gathering a field list (this may take a moment.)\n",
      "yt : [WARNING  ] 2022-07-13 09:40:20,446 The stars particle filter already exists. Overriding.\n",
      "yt : [WARNING  ] 2022-07-13 09:40:20,447 The DM particle filter already exists. Overriding.\n"
     ]
    },
    {
     "name": "stdout",
     "output_type": "stream",
     "text": [
      "Pulling halo center from catalog file\n",
      "Opening snapshot /Volumes/TempestTimeSteps/DD1847/DD1847\n"
     ]
    },
    {
     "name": "stderr",
     "output_type": "stream",
     "text": [
      "yt : [INFO     ] 2022-07-13 09:40:20,630 Parameters: current_time              = 494.56652781829\n",
      "yt : [INFO     ] 2022-07-13 09:40:20,633 Parameters: domain_dimensions         = [256 256 256]\n",
      "yt : [INFO     ] 2022-07-13 09:40:20,635 Parameters: domain_left_edge          = [0. 0. 0.]\n",
      "yt : [INFO     ] 2022-07-13 09:40:20,638 Parameters: domain_right_edge         = [1. 1. 1.]\n",
      "yt : [INFO     ] 2022-07-13 09:40:20,638 Parameters: cosmological_simulation   = 1\n",
      "yt : [INFO     ] 2022-07-13 09:40:20,639 Parameters: current_redshift          = 0.26483030656369\n",
      "yt : [INFO     ] 2022-07-13 09:40:20,640 Parameters: omega_lambda              = 0.715\n",
      "yt : [INFO     ] 2022-07-13 09:40:20,640 Parameters: omega_matter              = 0.285\n",
      "yt : [INFO     ] 2022-07-13 09:40:20,641 Parameters: omega_radiation           = 0\n",
      "yt : [INFO     ] 2022-07-13 09:40:20,642 Parameters: hubble_constant           = 0.695\n"
     ]
    },
    {
     "name": "stdout",
     "output_type": "stream",
     "text": [
      "get_refine_box: using this location:       col1         col2     col3     col4     col5     col6     col7   col8\n",
      "---------------- -------- -------- -------- -------- -------- -------- ----\n",
      "0.26483099622996 0.489687 0.474055 0.506892 0.491687 0.476055 0.508892    9\n"
     ]
    },
    {
     "name": "stderr",
     "output_type": "stream",
     "text": [
      "Parsing Hierarchy : 100%|████████████████| 5127/5127 [00:00<00:00, 18583.68it/s]\n",
      "yt : [INFO     ] 2022-07-13 09:40:21,109 Gathering a field list (this may take a moment.)\n",
      "yt : [WARNING  ] 2022-07-13 09:40:23,812 The stars particle filter already exists. Overriding.\n",
      "yt : [WARNING  ] 2022-07-13 09:40:23,812 The DM particle filter already exists. Overriding.\n"
     ]
    },
    {
     "name": "stdout",
     "output_type": "stream",
     "text": [
      "Pulling halo center from catalog file\n",
      "Opening snapshot /Volumes/TempestTimeSteps/DD1867/DD1867\n"
     ]
    },
    {
     "name": "stderr",
     "output_type": "stream",
     "text": [
      "yt : [INFO     ] 2022-07-13 09:40:23,988 Parameters: current_time              = 499.56652781829\n",
      "yt : [INFO     ] 2022-07-13 09:40:23,991 Parameters: domain_dimensions         = [256 256 256]\n",
      "yt : [INFO     ] 2022-07-13 09:40:23,994 Parameters: domain_left_edge          = [0. 0. 0.]\n",
      "yt : [INFO     ] 2022-07-13 09:40:23,996 Parameters: domain_right_edge         = [1. 1. 1.]\n",
      "yt : [INFO     ] 2022-07-13 09:40:23,997 Parameters: cosmological_simulation   = 1\n",
      "yt : [INFO     ] 2022-07-13 09:40:23,997 Parameters: current_redshift          = 0.25390358705733\n",
      "yt : [INFO     ] 2022-07-13 09:40:23,998 Parameters: omega_lambda              = 0.715\n",
      "yt : [INFO     ] 2022-07-13 09:40:23,998 Parameters: omega_matter              = 0.285\n",
      "yt : [INFO     ] 2022-07-13 09:40:23,999 Parameters: omega_radiation           = 0\n",
      "yt : [INFO     ] 2022-07-13 09:40:24,000 Parameters: hubble_constant           = 0.695\n"
     ]
    },
    {
     "name": "stdout",
     "output_type": "stream",
     "text": [
      "get_refine_box: using this location:       col1         col2     col3     col4     col5     col6     col7   col8\n",
      "---------------- -------- -------- -------- -------- -------- -------- ----\n",
      "0.25391735822521 0.489653 0.473906 0.506947 0.491653 0.475906 0.508947    9\n"
     ]
    },
    {
     "name": "stderr",
     "output_type": "stream",
     "text": [
      "Parsing Hierarchy : 100%|████████████████| 5143/5143 [00:00<00:00, 18400.64it/s]\n",
      "yt : [INFO     ] 2022-07-13 09:40:24,472 Gathering a field list (this may take a moment.)\n",
      "yt : [WARNING  ] 2022-07-13 09:40:27,136 The stars particle filter already exists. Overriding.\n",
      "yt : [WARNING  ] 2022-07-13 09:40:27,136 The DM particle filter already exists. Overriding.\n"
     ]
    },
    {
     "name": "stdout",
     "output_type": "stream",
     "text": [
      "Pulling halo center from catalog file\n",
      "Opening snapshot /Volumes/TempestTimeSteps/DD1887/DD1887\n"
     ]
    },
    {
     "name": "stderr",
     "output_type": "stream",
     "text": [
      "yt : [INFO     ] 2022-07-13 09:40:27,326 Parameters: current_time              = 504.56652781829\n",
      "yt : [INFO     ] 2022-07-13 09:40:27,328 Parameters: domain_dimensions         = [256 256 256]\n",
      "yt : [INFO     ] 2022-07-13 09:40:27,331 Parameters: domain_left_edge          = [0. 0. 0.]\n",
      "yt : [INFO     ] 2022-07-13 09:40:27,334 Parameters: domain_right_edge         = [1. 1. 1.]\n",
      "yt : [INFO     ] 2022-07-13 09:40:27,335 Parameters: cosmological_simulation   = 1\n",
      "yt : [INFO     ] 2022-07-13 09:40:27,335 Parameters: current_redshift          = 0.24314759224344\n",
      "yt : [INFO     ] 2022-07-13 09:40:27,336 Parameters: omega_lambda              = 0.715\n",
      "yt : [INFO     ] 2022-07-13 09:40:27,337 Parameters: omega_matter              = 0.285\n",
      "yt : [INFO     ] 2022-07-13 09:40:27,337 Parameters: omega_radiation           = 0\n",
      "yt : [INFO     ] 2022-07-13 09:40:27,338 Parameters: hubble_constant           = 0.695\n"
     ]
    },
    {
     "name": "stdout",
     "output_type": "stream",
     "text": [
      "get_refine_box: using this location:       col1         col2     col3     col4     col5     col6     col7   col8\n",
      "---------------- -------- -------- -------- -------- -------- -------- ----\n",
      "0.24315916272406 0.489623 0.473759 0.507006 0.491623 0.475759 0.509006    9\n"
     ]
    },
    {
     "name": "stderr",
     "output_type": "stream",
     "text": [
      "Parsing Hierarchy : 100%|████████████████| 4839/4839 [00:00<00:00, 18432.39it/s]\n",
      "yt : [INFO     ] 2022-07-13 09:40:27,799 Gathering a field list (this may take a moment.)\n",
      "yt : [WARNING  ] 2022-07-13 09:40:30,503 The stars particle filter already exists. Overriding.\n",
      "yt : [WARNING  ] 2022-07-13 09:40:30,503 The DM particle filter already exists. Overriding.\n"
     ]
    },
    {
     "name": "stdout",
     "output_type": "stream",
     "text": [
      "Pulling halo center from catalog file\n",
      "Opening snapshot /Volumes/TempestTimeSteps/DD1907/DD1907\n"
     ]
    },
    {
     "name": "stderr",
     "output_type": "stream",
     "text": [
      "yt : [INFO     ] 2022-07-13 09:40:30,679 Parameters: current_time              = 509.56652781829\n",
      "yt : [INFO     ] 2022-07-13 09:40:30,681 Parameters: domain_dimensions         = [256 256 256]\n",
      "yt : [INFO     ] 2022-07-13 09:40:30,683 Parameters: domain_left_edge          = [0. 0. 0.]\n",
      "yt : [INFO     ] 2022-07-13 09:40:30,686 Parameters: domain_right_edge         = [1. 1. 1.]\n",
      "yt : [INFO     ] 2022-07-13 09:40:30,687 Parameters: cosmological_simulation   = 1\n",
      "yt : [INFO     ] 2022-07-13 09:40:30,687 Parameters: current_redshift          = 0.23254622398407\n",
      "yt : [INFO     ] 2022-07-13 09:40:30,687 Parameters: omega_lambda              = 0.715\n",
      "yt : [INFO     ] 2022-07-13 09:40:30,688 Parameters: omega_matter              = 0.285\n",
      "yt : [INFO     ] 2022-07-13 09:40:30,689 Parameters: omega_radiation           = 0\n",
      "yt : [INFO     ] 2022-07-13 09:40:30,689 Parameters: hubble_constant           = 0.695\n"
     ]
    },
    {
     "name": "stdout",
     "output_type": "stream",
     "text": [
      "get_refine_box: using this location:       col1        col2     col3     col4     col5     col6     col7   col8\n",
      "--------------- -------- -------- -------- -------- -------- -------- ----\n",
      "0.2325524696738 0.489592 0.473612 0.507067 0.491592 0.475612 0.509067    9\n"
     ]
    },
    {
     "name": "stderr",
     "output_type": "stream",
     "text": [
      "Parsing Hierarchy : 100%|████████████████| 4729/4729 [00:00<00:00, 18164.98it/s]\n",
      "yt : [INFO     ] 2022-07-13 09:40:31,135 Gathering a field list (this may take a moment.)\n",
      "yt : [WARNING  ] 2022-07-13 09:40:33,777 The stars particle filter already exists. Overriding.\n",
      "yt : [WARNING  ] 2022-07-13 09:40:33,777 The DM particle filter already exists. Overriding.\n"
     ]
    },
    {
     "name": "stdout",
     "output_type": "stream",
     "text": [
      "Pulling halo center from catalog file\n",
      "Opening snapshot /Volumes/TempestTimeSteps/DD1927/DD1927\n"
     ]
    },
    {
     "name": "stderr",
     "output_type": "stream",
     "text": [
      "yt : [INFO     ] 2022-07-13 09:40:33,961 Parameters: current_time              = 514.56652781829\n",
      "yt : [INFO     ] 2022-07-13 09:40:33,963 Parameters: domain_dimensions         = [256 256 256]\n",
      "yt : [INFO     ] 2022-07-13 09:40:33,966 Parameters: domain_left_edge          = [0. 0. 0.]\n",
      "yt : [INFO     ] 2022-07-13 09:40:33,968 Parameters: domain_right_edge         = [1. 1. 1.]\n",
      "yt : [INFO     ] 2022-07-13 09:40:33,969 Parameters: cosmological_simulation   = 1\n",
      "yt : [INFO     ] 2022-07-13 09:40:33,969 Parameters: current_redshift          = 0.2220785334236\n",
      "yt : [INFO     ] 2022-07-13 09:40:33,970 Parameters: omega_lambda              = 0.715\n",
      "yt : [INFO     ] 2022-07-13 09:40:33,971 Parameters: omega_matter              = 0.285\n",
      "yt : [INFO     ] 2022-07-13 09:40:33,971 Parameters: omega_radiation           = 0\n",
      "yt : [INFO     ] 2022-07-13 09:40:33,972 Parameters: hubble_constant           = 0.695\n"
     ]
    },
    {
     "name": "stdout",
     "output_type": "stream",
     "text": [
      "get_refine_box: using this location:      col1        col2     col3     col4     col5     col6     col7   col8\n",
      "-------------- -------- -------- -------- -------- -------- -------- ----\n",
      "0.222093482089 0.489563 0.473471 0.507126 0.491563 0.475471 0.509126    9\n"
     ]
    },
    {
     "name": "stderr",
     "output_type": "stream",
     "text": [
      "Parsing Hierarchy : 100%|████████████████| 5012/5012 [00:00<00:00, 18703.58it/s]\n",
      "yt : [INFO     ] 2022-07-13 09:40:34,428 Gathering a field list (this may take a moment.)\n",
      "yt : [WARNING  ] 2022-07-13 09:40:37,101 The stars particle filter already exists. Overriding.\n",
      "yt : [WARNING  ] 2022-07-13 09:40:37,101 The DM particle filter already exists. Overriding.\n"
     ]
    },
    {
     "name": "stdout",
     "output_type": "stream",
     "text": [
      "Pulling halo center from catalog file\n",
      "Opening snapshot /Volumes/TempestTimeSteps/DD1947/DD1947\n"
     ]
    },
    {
     "name": "stderr",
     "output_type": "stream",
     "text": [
      "yt : [INFO     ] 2022-07-13 09:40:37,294 Parameters: current_time              = 519.56652781829\n",
      "yt : [INFO     ] 2022-07-13 09:40:37,296 Parameters: domain_dimensions         = [256 256 256]\n",
      "yt : [INFO     ] 2022-07-13 09:40:37,298 Parameters: domain_left_edge          = [0. 0. 0.]\n",
      "yt : [INFO     ] 2022-07-13 09:40:37,300 Parameters: domain_right_edge         = [1. 1. 1.]\n",
      "yt : [INFO     ] 2022-07-13 09:40:37,301 Parameters: cosmological_simulation   = 1\n",
      "yt : [INFO     ] 2022-07-13 09:40:37,302 Parameters: current_redshift          = 0.21177265783797\n",
      "yt : [INFO     ] 2022-07-13 09:40:37,302 Parameters: omega_lambda              = 0.715\n",
      "yt : [INFO     ] 2022-07-13 09:40:37,303 Parameters: omega_matter              = 0.285\n",
      "yt : [INFO     ] 2022-07-13 09:40:37,304 Parameters: omega_radiation           = 0\n",
      "yt : [INFO     ] 2022-07-13 09:40:37,304 Parameters: hubble_constant           = 0.695\n"
     ]
    },
    {
     "name": "stdout",
     "output_type": "stream",
     "text": [
      "get_refine_box: using this location:       col1         col2     col3    col4     col5     col6    col7   col8\n",
      "---------------- -------- ------- -------- -------- ------- -------- ----\n",
      "0.21177853956479 0.489535 0.47333 0.507189 0.491535 0.47533 0.509189    9\n"
     ]
    },
    {
     "name": "stderr",
     "output_type": "stream",
     "text": [
      "Parsing Hierarchy : 100%|████████████████| 5317/5317 [00:00<00:00, 17440.90it/s]\n",
      "yt : [INFO     ] 2022-07-13 09:40:37,817 Gathering a field list (this may take a moment.)\n",
      "yt : [WARNING  ] 2022-07-13 09:40:40,587 The stars particle filter already exists. Overriding.\n",
      "yt : [WARNING  ] 2022-07-13 09:40:40,587 The DM particle filter already exists. Overriding.\n"
     ]
    },
    {
     "name": "stdout",
     "output_type": "stream",
     "text": [
      "Pulling halo center from catalog file\n",
      "Opening snapshot /Volumes/TempestTimeSteps/DD1967/DD1967\n"
     ]
    },
    {
     "name": "stderr",
     "output_type": "stream",
     "text": [
      "yt : [INFO     ] 2022-07-13 09:40:40,765 Parameters: current_time              = 524.56652781829\n",
      "yt : [INFO     ] 2022-07-13 09:40:40,767 Parameters: domain_dimensions         = [256 256 256]\n",
      "yt : [INFO     ] 2022-07-13 09:40:40,770 Parameters: domain_left_edge          = [0. 0. 0.]\n",
      "yt : [INFO     ] 2022-07-13 09:40:40,772 Parameters: domain_right_edge         = [1. 1. 1.]\n",
      "yt : [INFO     ] 2022-07-13 09:40:40,772 Parameters: cosmological_simulation   = 1\n",
      "yt : [INFO     ] 2022-07-13 09:40:40,773 Parameters: current_redshift          = 0.20159208404487\n",
      "yt : [INFO     ] 2022-07-13 09:40:40,773 Parameters: omega_lambda              = 0.715\n",
      "yt : [INFO     ] 2022-07-13 09:40:40,774 Parameters: omega_matter              = 0.285\n",
      "yt : [INFO     ] 2022-07-13 09:40:40,775 Parameters: omega_radiation           = 0\n",
      "yt : [INFO     ] 2022-07-13 09:40:40,775 Parameters: hubble_constant           = 0.695\n"
     ]
    },
    {
     "name": "stdout",
     "output_type": "stream",
     "text": [
      "get_refine_box: using this location:       col1         col2     col3     col4    col5     col6     col7  col8\n",
      "---------------- -------- -------- ------- -------- -------- ------- ----\n",
      "0.20160411214129 0.489504 0.473191 0.50725 0.491504 0.475191 0.50925    9\n"
     ]
    },
    {
     "name": "stderr",
     "output_type": "stream",
     "text": [
      "Parsing Hierarchy : 100%|████████████████| 5322/5322 [00:00<00:00, 18471.67it/s]\n",
      "yt : [INFO     ] 2022-07-13 09:40:41,258 Gathering a field list (this may take a moment.)\n",
      "yt : [WARNING  ] 2022-07-13 09:40:43,968 The stars particle filter already exists. Overriding.\n",
      "yt : [WARNING  ] 2022-07-13 09:40:43,969 The DM particle filter already exists. Overriding.\n"
     ]
    },
    {
     "name": "stdout",
     "output_type": "stream",
     "text": [
      "Pulling halo center from catalog file\n",
      "Opening snapshot /Volumes/TempestTimeSteps/DD1987/DD1987\n"
     ]
    },
    {
     "name": "stderr",
     "output_type": "stream",
     "text": [
      "yt : [INFO     ] 2022-07-13 09:40:44,145 Parameters: current_time              = 529.56652781829\n",
      "yt : [INFO     ] 2022-07-13 09:40:44,147 Parameters: domain_dimensions         = [256 256 256]\n",
      "yt : [INFO     ] 2022-07-13 09:40:44,149 Parameters: domain_left_edge          = [0. 0. 0.]\n",
      "yt : [INFO     ] 2022-07-13 09:40:44,152 Parameters: domain_right_edge         = [1. 1. 1.]\n",
      "yt : [INFO     ] 2022-07-13 09:40:44,152 Parameters: cosmological_simulation   = 1\n",
      "yt : [INFO     ] 2022-07-13 09:40:44,153 Parameters: current_redshift          = 0.191553635351\n",
      "yt : [INFO     ] 2022-07-13 09:40:44,153 Parameters: omega_lambda              = 0.715\n",
      "yt : [INFO     ] 2022-07-13 09:40:44,154 Parameters: omega_matter              = 0.285\n",
      "yt : [INFO     ] 2022-07-13 09:40:44,154 Parameters: omega_radiation           = 0\n",
      "yt : [INFO     ] 2022-07-13 09:40:44,155 Parameters: hubble_constant           = 0.695\n"
     ]
    },
    {
     "name": "stdout",
     "output_type": "stream",
     "text": [
      "get_refine_box: using this location:       col1         col2     col3     col4     col5     col6     col7   col8\n",
      "---------------- -------- -------- -------- -------- -------- -------- ----\n",
      "0.19156679449708 0.489476 0.473053 0.507311 0.491476 0.475053 0.509311    9\n"
     ]
    },
    {
     "name": "stderr",
     "output_type": "stream",
     "text": [
      "Parsing Hierarchy : 100%|████████████████| 5118/5118 [00:00<00:00, 18964.57it/s]\n",
      "yt : [INFO     ] 2022-07-13 09:40:44,626 Gathering a field list (this may take a moment.)\n",
      "yt : [WARNING  ] 2022-07-13 09:40:47,314 The stars particle filter already exists. Overriding.\n",
      "yt : [WARNING  ] 2022-07-13 09:40:47,315 The DM particle filter already exists. Overriding.\n"
     ]
    },
    {
     "name": "stdout",
     "output_type": "stream",
     "text": [
      "Pulling halo center from catalog file\n",
      "Opening snapshot /Volumes/TempestTimeSteps/DD2007/DD2007\n"
     ]
    },
    {
     "name": "stderr",
     "output_type": "stream",
     "text": [
      "yt : [INFO     ] 2022-07-13 09:40:47,496 Parameters: current_time              = 534.56652781829\n",
      "yt : [INFO     ] 2022-07-13 09:40:47,498 Parameters: domain_dimensions         = [256 256 256]\n",
      "yt : [INFO     ] 2022-07-13 09:40:47,500 Parameters: domain_left_edge          = [0. 0. 0.]\n",
      "yt : [INFO     ] 2022-07-13 09:40:47,502 Parameters: domain_right_edge         = [1. 1. 1.]\n",
      "yt : [INFO     ] 2022-07-13 09:40:47,503 Parameters: cosmological_simulation   = 1\n",
      "yt : [INFO     ] 2022-07-13 09:40:47,503 Parameters: current_redshift          = 0.18165941968054\n",
      "yt : [INFO     ] 2022-07-13 09:40:47,504 Parameters: omega_lambda              = 0.715\n",
      "yt : [INFO     ] 2022-07-13 09:40:47,505 Parameters: omega_matter              = 0.285\n",
      "yt : [INFO     ] 2022-07-13 09:40:47,506 Parameters: omega_radiation           = 0\n",
      "yt : [INFO     ] 2022-07-13 09:40:47,506 Parameters: hubble_constant           = 0.695\n"
     ]
    },
    {
     "name": "stdout",
     "output_type": "stream",
     "text": [
      "get_refine_box: using this location:       col1         col2     col3     col4     col5     col6     col7   col8\n",
      "---------------- -------- -------- -------- -------- -------- -------- ----\n",
      "0.18166330045117 0.489447 0.472918 0.507372 0.491447 0.474918 0.509372    9\n"
     ]
    },
    {
     "name": "stderr",
     "output_type": "stream",
     "text": [
      "Parsing Hierarchy : 100%|████████████████| 5188/5188 [00:00<00:00, 18591.26it/s]\n",
      "yt : [INFO     ] 2022-07-13 09:40:47,978 Gathering a field list (this may take a moment.)\n",
      "yt : [WARNING  ] 2022-07-13 09:40:50,647 The stars particle filter already exists. Overriding.\n",
      "yt : [WARNING  ] 2022-07-13 09:40:50,648 The DM particle filter already exists. Overriding.\n"
     ]
    },
    {
     "name": "stdout",
     "output_type": "stream",
     "text": [
      "Pulling halo center from catalog file\n",
      "Opening snapshot /Volumes/TempestTimeSteps/DD2027/DD2027\n"
     ]
    },
    {
     "name": "stderr",
     "output_type": "stream",
     "text": [
      "yt : [INFO     ] 2022-07-13 09:40:50,825 Parameters: current_time              = 539.56652781829\n",
      "yt : [INFO     ] 2022-07-13 09:40:50,828 Parameters: domain_dimensions         = [256 256 256]\n",
      "yt : [INFO     ] 2022-07-13 09:40:50,832 Parameters: domain_left_edge          = [0. 0. 0.]\n",
      "yt : [INFO     ] 2022-07-13 09:40:50,834 Parameters: domain_right_edge         = [1. 1. 1.]\n",
      "yt : [INFO     ] 2022-07-13 09:40:50,835 Parameters: cosmological_simulation   = 1\n",
      "yt : [INFO     ] 2022-07-13 09:40:50,835 Parameters: current_redshift          = 0.1718756018899\n",
      "yt : [INFO     ] 2022-07-13 09:40:50,836 Parameters: omega_lambda              = 0.715\n",
      "yt : [INFO     ] 2022-07-13 09:40:50,837 Parameters: omega_matter              = 0.285\n",
      "yt : [INFO     ] 2022-07-13 09:40:50,837 Parameters: omega_radiation           = 0\n",
      "yt : [INFO     ] 2022-07-13 09:40:50,838 Parameters: hubble_constant           = 0.695\n"
     ]
    },
    {
     "name": "stdout",
     "output_type": "stream",
     "text": [
      "get_refine_box: using this location:       col1        col2    col3     col4     col5    col6     col7   col8\n",
      "--------------- ------- -------- -------- ------- -------- -------- ----\n",
      "0.1718904577544 0.48942 0.472783 0.507435 0.49142 0.474783 0.509435    9\n"
     ]
    },
    {
     "name": "stderr",
     "output_type": "stream",
     "text": [
      "Parsing Hierarchy : 100%|████████████████| 5220/5220 [00:00<00:00, 18118.26it/s]\n",
      "yt : [INFO     ] 2022-07-13 09:40:51,324 Gathering a field list (this may take a moment.)\n",
      "yt : [WARNING  ] 2022-07-13 09:40:53,930 The stars particle filter already exists. Overriding.\n",
      "yt : [WARNING  ] 2022-07-13 09:40:53,931 The DM particle filter already exists. Overriding.\n"
     ]
    },
    {
     "name": "stdout",
     "output_type": "stream",
     "text": [
      "Pulling halo center from catalog file\n",
      "Opening snapshot /Volumes/TempestTimeSteps/DD2047/DD2047\n"
     ]
    },
    {
     "name": "stderr",
     "output_type": "stream",
     "text": [
      "yt : [INFO     ] 2022-07-13 09:40:54,111 Parameters: current_time              = 544.56652781829\n",
      "yt : [INFO     ] 2022-07-13 09:40:54,113 Parameters: domain_dimensions         = [256 256 256]\n",
      "yt : [INFO     ] 2022-07-13 09:40:54,115 Parameters: domain_left_edge          = [0. 0. 0.]\n",
      "yt : [INFO     ] 2022-07-13 09:40:54,119 Parameters: domain_right_edge         = [1. 1. 1.]\n",
      "yt : [INFO     ] 2022-07-13 09:40:54,120 Parameters: cosmological_simulation   = 1\n",
      "yt : [INFO     ] 2022-07-13 09:40:54,120 Parameters: current_redshift          = 0.1622385268912\n",
      "yt : [INFO     ] 2022-07-13 09:40:54,121 Parameters: omega_lambda              = 0.715\n",
      "yt : [INFO     ] 2022-07-13 09:40:54,121 Parameters: omega_matter              = 0.285\n",
      "yt : [INFO     ] 2022-07-13 09:40:54,122 Parameters: omega_radiation           = 0\n",
      "yt : [INFO     ] 2022-07-13 09:40:54,123 Parameters: hubble_constant           = 0.695\n"
     ]
    },
    {
     "name": "stdout",
     "output_type": "stream",
     "text": [
      "get_refine_box: using this location:       col1         col2    col3     col4     col5    col6     col7   col8\n",
      "---------------- ------- -------- -------- ------- -------- -------- ----\n",
      "0.16224520315245 0.48939 0.472649 0.507494 0.49139 0.474649 0.509494    9\n"
     ]
    },
    {
     "name": "stderr",
     "output_type": "stream",
     "text": [
      "Parsing Hierarchy : 100%|████████████████| 5096/5096 [00:00<00:00, 18513.28it/s]\n",
      "yt : [INFO     ] 2022-07-13 09:40:54,602 Gathering a field list (this may take a moment.)\n",
      "yt : [WARNING  ] 2022-07-13 09:40:57,326 The stars particle filter already exists. Overriding.\n",
      "yt : [WARNING  ] 2022-07-13 09:40:57,327 The DM particle filter already exists. Overriding.\n"
     ]
    },
    {
     "name": "stdout",
     "output_type": "stream",
     "text": [
      "Pulling halo center from catalog file\n",
      "Opening snapshot /Volumes/TempestTimeSteps/DD2067/DD2067\n"
     ]
    },
    {
     "name": "stderr",
     "output_type": "stream",
     "text": [
      "yt : [INFO     ] 2022-07-13 09:40:57,510 Parameters: current_time              = 549.56652781829\n",
      "yt : [INFO     ] 2022-07-13 09:40:57,513 Parameters: domain_dimensions         = [256 256 256]\n",
      "yt : [INFO     ] 2022-07-13 09:40:57,516 Parameters: domain_left_edge          = [0. 0. 0.]\n",
      "yt : [INFO     ] 2022-07-13 09:40:57,518 Parameters: domain_right_edge         = [1. 1. 1.]\n",
      "yt : [INFO     ] 2022-07-13 09:40:57,519 Parameters: cosmological_simulation   = 1\n",
      "yt : [INFO     ] 2022-07-13 09:40:57,519 Parameters: current_redshift          = 0.15271267325251\n",
      "yt : [INFO     ] 2022-07-13 09:40:57,520 Parameters: omega_lambda              = 0.715\n",
      "yt : [INFO     ] 2022-07-13 09:40:57,520 Parameters: omega_matter              = 0.285\n",
      "yt : [INFO     ] 2022-07-13 09:40:57,521 Parameters: omega_radiation           = 0\n",
      "yt : [INFO     ] 2022-07-13 09:40:57,522 Parameters: hubble_constant           = 0.695\n"
     ]
    },
    {
     "name": "stdout",
     "output_type": "stream",
     "text": [
      "get_refine_box: using this location:       col1         col2     col3     col4     col5     col6     col7   col8\n",
      "---------------- -------- -------- -------- -------- -------- -------- ----\n",
      "0.15272457770406 0.489359 0.472517 0.507557 0.491359 0.474517 0.509557    9\n"
     ]
    },
    {
     "name": "stderr",
     "output_type": "stream",
     "text": [
      "Parsing Hierarchy : 100%|████████████████| 5279/5279 [00:00<00:00, 18935.87it/s]\n",
      "yt : [INFO     ] 2022-07-13 09:40:57,996 Gathering a field list (this may take a moment.)\n",
      "yt : [WARNING  ] 2022-07-13 09:41:00,670 The stars particle filter already exists. Overriding.\n",
      "yt : [WARNING  ] 2022-07-13 09:41:00,671 The DM particle filter already exists. Overriding.\n"
     ]
    },
    {
     "name": "stdout",
     "output_type": "stream",
     "text": [
      "Pulling halo center from catalog file\n",
      "Opening snapshot /Volumes/TempestTimeSteps/DD2087/DD2087\n"
     ]
    },
    {
     "name": "stderr",
     "output_type": "stream",
     "text": [
      "yt : [INFO     ] 2022-07-13 09:41:00,863 Parameters: current_time              = 554.56652781829\n",
      "yt : [INFO     ] 2022-07-13 09:41:00,865 Parameters: domain_dimensions         = [256 256 256]\n",
      "yt : [INFO     ] 2022-07-13 09:41:00,868 Parameters: domain_left_edge          = [0. 0. 0.]\n",
      "yt : [INFO     ] 2022-07-13 09:41:00,870 Parameters: domain_right_edge         = [1. 1. 1.]\n",
      "yt : [INFO     ] 2022-07-13 09:41:00,871 Parameters: cosmological_simulation   = 1\n",
      "yt : [INFO     ] 2022-07-13 09:41:00,871 Parameters: current_redshift          = 0.1433128745218\n",
      "yt : [INFO     ] 2022-07-13 09:41:00,872 Parameters: omega_lambda              = 0.715\n",
      "yt : [INFO     ] 2022-07-13 09:41:00,873 Parameters: omega_matter              = 0.285\n",
      "yt : [INFO     ] 2022-07-13 09:41:00,874 Parameters: omega_radiation           = 0\n",
      "yt : [INFO     ] 2022-07-13 09:41:00,874 Parameters: hubble_constant           = 0.695\n"
     ]
    },
    {
     "name": "stdout",
     "output_type": "stream",
     "text": [
      "get_refine_box: using this location:       col1         col2     col3     col4     col5     col6     col7   col8\n",
      "---------------- -------- -------- -------- -------- -------- -------- ----\n",
      "0.14332572233908 0.489329 0.472386 0.507616 0.491329 0.474386 0.509616    9\n"
     ]
    },
    {
     "name": "stderr",
     "output_type": "stream",
     "text": [
      "Parsing Hierarchy : 100%|████████████████| 5340/5340 [00:00<00:00, 18380.40it/s]\n",
      "yt : [INFO     ] 2022-07-13 09:41:01,368 Gathering a field list (this may take a moment.)\n",
      "yt : [WARNING  ] 2022-07-13 09:41:04,013 The stars particle filter already exists. Overriding.\n",
      "yt : [WARNING  ] 2022-07-13 09:41:04,014 The DM particle filter already exists. Overriding.\n"
     ]
    },
    {
     "name": "stdout",
     "output_type": "stream",
     "text": [
      "Pulling halo center from catalog file\n",
      "Opening snapshot /Volumes/TempestTimeSteps/DD2107/DD2107\n"
     ]
    },
    {
     "name": "stderr",
     "output_type": "stream",
     "text": [
      "yt : [INFO     ] 2022-07-13 09:41:04,203 Parameters: current_time              = 559.56652781829\n",
      "yt : [INFO     ] 2022-07-13 09:41:04,205 Parameters: domain_dimensions         = [256 256 256]\n",
      "yt : [INFO     ] 2022-07-13 09:41:04,207 Parameters: domain_left_edge          = [0. 0. 0.]\n",
      "yt : [INFO     ] 2022-07-13 09:41:04,209 Parameters: domain_right_edge         = [1. 1. 1.]\n",
      "yt : [INFO     ] 2022-07-13 09:41:04,210 Parameters: cosmological_simulation   = 1\n",
      "yt : [INFO     ] 2022-07-13 09:41:04,210 Parameters: current_redshift          = 0.13404074085693\n",
      "yt : [INFO     ] 2022-07-13 09:41:04,211 Parameters: omega_lambda              = 0.715\n",
      "yt : [INFO     ] 2022-07-13 09:41:04,212 Parameters: omega_matter              = 0.285\n",
      "yt : [INFO     ] 2022-07-13 09:41:04,212 Parameters: omega_radiation           = 0\n",
      "yt : [INFO     ] 2022-07-13 09:41:04,213 Parameters: hubble_constant           = 0.695\n"
     ]
    },
    {
     "name": "stdout",
     "output_type": "stream",
     "text": [
      "get_refine_box: using this location:       col1        col2    col3     col4    col5    col6     col7   col8\n",
      "---------------- ------ -------- -------- ------ -------- -------- ----\n",
      "0.13404587364197 0.4893 0.472256 0.507677 0.4913 0.474256 0.509677    9\n"
     ]
    },
    {
     "name": "stderr",
     "output_type": "stream",
     "text": [
      "Parsing Hierarchy : 100%|████████████████| 5123/5123 [00:00<00:00, 18085.23it/s]\n",
      "yt : [INFO     ] 2022-07-13 09:41:04,701 Gathering a field list (this may take a moment.)\n",
      "yt : [WARNING  ] 2022-07-13 09:41:07,368 The stars particle filter already exists. Overriding.\n",
      "yt : [WARNING  ] 2022-07-13 09:41:07,369 The DM particle filter already exists. Overriding.\n"
     ]
    },
    {
     "name": "stdout",
     "output_type": "stream",
     "text": [
      "Pulling halo center from catalog file\n",
      "Opening snapshot /Volumes/TempestTimeSteps/DD2127/DD2127\n"
     ]
    },
    {
     "name": "stderr",
     "output_type": "stream",
     "text": [
      "yt : [INFO     ] 2022-07-13 09:41:07,555 Parameters: current_time              = 564.56652781829\n",
      "yt : [INFO     ] 2022-07-13 09:41:07,557 Parameters: domain_dimensions         = [256 256 256]\n",
      "yt : [INFO     ] 2022-07-13 09:41:07,560 Parameters: domain_left_edge          = [0. 0. 0.]\n",
      "yt : [INFO     ] 2022-07-13 09:41:07,562 Parameters: domain_right_edge         = [1. 1. 1.]\n",
      "yt : [INFO     ] 2022-07-13 09:41:07,563 Parameters: cosmological_simulation   = 1\n",
      "yt : [INFO     ] 2022-07-13 09:41:07,563 Parameters: current_redshift          = 0.12486754396875\n",
      "yt : [INFO     ] 2022-07-13 09:41:07,564 Parameters: omega_lambda              = 0.715\n",
      "yt : [INFO     ] 2022-07-13 09:41:07,564 Parameters: omega_matter              = 0.285\n",
      "yt : [INFO     ] 2022-07-13 09:41:07,565 Parameters: omega_radiation           = 0\n",
      "yt : [INFO     ] 2022-07-13 09:41:07,566 Parameters: hubble_constant           = 0.695\n"
     ]
    },
    {
     "name": "stdout",
     "output_type": "stream",
     "text": [
      "get_refine_box: using this location:       col1         col2    col3     col4     col5    col6     col7   col8\n",
      "---------------- ------- -------- -------- ------- -------- -------- ----\n",
      "0.12488235984756 0.48927 0.472126 0.507739 0.49127 0.474126 0.509739    9\n"
     ]
    },
    {
     "name": "stderr",
     "output_type": "stream",
     "text": [
      "Parsing Hierarchy : 100%|████████████████| 4705/4705 [00:00<00:00, 17938.03it/s]\n",
      "yt : [INFO     ] 2022-07-13 09:41:08,018 Gathering a field list (this may take a moment.)\n",
      "yt : [WARNING  ] 2022-07-13 09:41:10,724 The stars particle filter already exists. Overriding.\n",
      "yt : [WARNING  ] 2022-07-13 09:41:10,725 The DM particle filter already exists. Overriding.\n"
     ]
    },
    {
     "name": "stdout",
     "output_type": "stream",
     "text": [
      "Pulling halo center from catalog file\n",
      "Opening snapshot /Volumes/TempestTimeSteps/DD2147/DD2147\n"
     ]
    },
    {
     "name": "stderr",
     "output_type": "stream",
     "text": [
      "yt : [INFO     ] 2022-07-13 09:41:10,920 Parameters: current_time              = 569.56652781829\n",
      "yt : [INFO     ] 2022-07-13 09:41:10,922 Parameters: domain_dimensions         = [256 256 256]\n",
      "yt : [INFO     ] 2022-07-13 09:41:10,925 Parameters: domain_left_edge          = [0. 0. 0.]\n",
      "yt : [INFO     ] 2022-07-13 09:41:10,928 Parameters: domain_right_edge         = [1. 1. 1.]\n",
      "yt : [INFO     ] 2022-07-13 09:41:10,928 Parameters: cosmological_simulation   = 1\n",
      "yt : [INFO     ] 2022-07-13 09:41:10,929 Parameters: current_redshift          = 0.11582848603619\n",
      "yt : [INFO     ] 2022-07-13 09:41:10,929 Parameters: omega_lambda              = 0.715\n",
      "yt : [INFO     ] 2022-07-13 09:41:10,930 Parameters: omega_matter              = 0.285\n",
      "yt : [INFO     ] 2022-07-13 09:41:10,931 Parameters: omega_radiation           = 0\n",
      "yt : [INFO     ] 2022-07-13 09:41:10,931 Parameters: hubble_constant           = 0.695\n"
     ]
    },
    {
     "name": "stdout",
     "output_type": "stream",
     "text": [
      "get_refine_box: using this location:       col1         col2     col3     col4     col5     col6     col7   col8\n",
      "---------------- -------- -------- -------- -------- -------- -------- ----\n",
      "0.11583259703646 0.489241 0.471999 0.507798 0.491241 0.473999 0.509798    9\n"
     ]
    },
    {
     "name": "stderr",
     "output_type": "stream",
     "text": [
      "Parsing Hierarchy : 100%|████████████████| 4762/4762 [00:00<00:00, 16829.12it/s]\n",
      "yt : [INFO     ] 2022-07-13 09:41:11,405 Gathering a field list (this may take a moment.)\n",
      "yt : [WARNING  ] 2022-07-13 09:41:14,138 The stars particle filter already exists. Overriding.\n",
      "yt : [WARNING  ] 2022-07-13 09:41:14,139 The DM particle filter already exists. Overriding.\n"
     ]
    },
    {
     "name": "stdout",
     "output_type": "stream",
     "text": [
      "Pulling halo center from catalog file\n",
      "Opening snapshot /Volumes/TempestTimeSteps/DD2167/DD2167\n"
     ]
    },
    {
     "name": "stderr",
     "output_type": "stream",
     "text": [
      "yt : [INFO     ] 2022-07-13 09:41:14,318 Parameters: current_time              = 574.56652781829\n",
      "yt : [INFO     ] 2022-07-13 09:41:14,320 Parameters: domain_dimensions         = [256 256 256]\n",
      "yt : [INFO     ] 2022-07-13 09:41:14,323 Parameters: domain_left_edge          = [0. 0. 0.]\n",
      "yt : [INFO     ] 2022-07-13 09:41:14,325 Parameters: domain_right_edge         = [1. 1. 1.]\n",
      "yt : [INFO     ] 2022-07-13 09:41:14,326 Parameters: cosmological_simulation   = 1\n",
      "yt : [INFO     ] 2022-07-13 09:41:14,326 Parameters: current_redshift          = 0.10688078342035\n",
      "yt : [INFO     ] 2022-07-13 09:41:14,327 Parameters: omega_lambda              = 0.715\n",
      "yt : [INFO     ] 2022-07-13 09:41:14,328 Parameters: omega_matter              = 0.285\n",
      "yt : [INFO     ] 2022-07-13 09:41:14,328 Parameters: omega_radiation           = 0\n",
      "yt : [INFO     ] 2022-07-13 09:41:14,329 Parameters: hubble_constant           = 0.695\n"
     ]
    },
    {
     "name": "stdout",
     "output_type": "stream",
     "text": [
      "get_refine_box: using this location:       col1         col2     col3     col4     col5     col6     col7   col8\n",
      "---------------- -------- -------- -------- -------- -------- -------- ----\n",
      "0.10689408551869 0.489214 0.471873 0.507855 0.491214 0.473873 0.509855    9\n"
     ]
    },
    {
     "name": "stderr",
     "output_type": "stream",
     "text": [
      "Parsing Hierarchy : 100%|████████████████| 4619/4619 [00:00<00:00, 14611.44it/s]\n",
      "yt : [INFO     ] 2022-07-13 09:41:14,830 Gathering a field list (this may take a moment.)\n",
      "yt : [WARNING  ] 2022-07-13 09:41:17,462 The stars particle filter already exists. Overriding.\n",
      "yt : [WARNING  ] 2022-07-13 09:41:17,463 The DM particle filter already exists. Overriding.\n"
     ]
    },
    {
     "name": "stdout",
     "output_type": "stream",
     "text": [
      "Pulling halo center from catalog file\n",
      "Opening snapshot /Volumes/TempestTimeSteps/DD2187/DD2187\n"
     ]
    },
    {
     "name": "stderr",
     "output_type": "stream",
     "text": [
      "yt : [INFO     ] 2022-07-13 09:41:17,638 Parameters: current_time              = 579.56652781829\n",
      "yt : [INFO     ] 2022-07-13 09:41:17,641 Parameters: domain_dimensions         = [256 256 256]\n",
      "yt : [INFO     ] 2022-07-13 09:41:17,643 Parameters: domain_left_edge          = [0. 0. 0.]\n",
      "yt : [INFO     ] 2022-07-13 09:41:17,646 Parameters: domain_right_edge         = [1. 1. 1.]\n",
      "yt : [INFO     ] 2022-07-13 09:41:17,646 Parameters: cosmological_simulation   = 1\n",
      "yt : [INFO     ] 2022-07-13 09:41:17,647 Parameters: current_redshift          = 0.098053769197091\n",
      "yt : [INFO     ] 2022-07-13 09:41:17,647 Parameters: omega_lambda              = 0.715\n",
      "yt : [INFO     ] 2022-07-13 09:41:17,648 Parameters: omega_matter              = 0.285\n",
      "yt : [INFO     ] 2022-07-13 09:41:17,648 Parameters: omega_radiation           = 0\n",
      "yt : [INFO     ] 2022-07-13 09:41:17,649 Parameters: hubble_constant           = 0.695\n"
     ]
    },
    {
     "name": "stdout",
     "output_type": "stream",
     "text": [
      "get_refine_box: using this location:        col1         col2     col3     col4     col5     col6     col7   col8\n",
      "----------------- -------- -------- -------- -------- -------- -------- ----\n",
      "0.098064406394637 0.489188 0.471747 0.507912 0.491188 0.473747 0.509912    9\n"
     ]
    },
    {
     "name": "stderr",
     "output_type": "stream",
     "text": [
      "Parsing Hierarchy : 100%|████████████████| 4729/4729 [00:00<00:00, 18577.73it/s]\n",
      "yt : [INFO     ] 2022-07-13 09:41:18,122 Gathering a field list (this may take a moment.)\n",
      "yt : [WARNING  ] 2022-07-13 09:41:20,742 The stars particle filter already exists. Overriding.\n",
      "yt : [WARNING  ] 2022-07-13 09:41:20,742 The DM particle filter already exists. Overriding.\n"
     ]
    },
    {
     "name": "stdout",
     "output_type": "stream",
     "text": [
      "Pulling halo center from catalog file\n",
      "Opening snapshot /Volumes/TempestTimeSteps/DD2207/DD2207\n"
     ]
    },
    {
     "name": "stderr",
     "output_type": "stream",
     "text": [
      "yt : [INFO     ] 2022-07-13 09:41:20,922 Parameters: current_time              = 584.56652781829\n",
      "yt : [INFO     ] 2022-07-13 09:41:20,925 Parameters: domain_dimensions         = [256 256 256]\n",
      "yt : [INFO     ] 2022-07-13 09:41:20,928 Parameters: domain_left_edge          = [0. 0. 0.]\n",
      "yt : [INFO     ] 2022-07-13 09:41:20,931 Parameters: domain_right_edge         = [1. 1. 1.]\n",
      "yt : [INFO     ] 2022-07-13 09:41:20,931 Parameters: cosmological_simulation   = 1\n",
      "yt : [INFO     ] 2022-07-13 09:41:20,932 Parameters: current_redshift          = 0.089332273252055\n",
      "yt : [INFO     ] 2022-07-13 09:41:20,933 Parameters: omega_lambda              = 0.715\n",
      "yt : [INFO     ] 2022-07-13 09:41:20,934 Parameters: omega_matter              = 0.285\n",
      "yt : [INFO     ] 2022-07-13 09:41:20,934 Parameters: omega_radiation           = 0\n",
      "yt : [INFO     ] 2022-07-13 09:41:20,935 Parameters: hubble_constant           = 0.695\n"
     ]
    },
    {
     "name": "stdout",
     "output_type": "stream",
     "text": [
      "get_refine_box: using this location:        col1         col2     col3     col4     col5     col6     col7   col8\n",
      "----------------- -------- -------- -------- -------- -------- -------- ----\n",
      "0.089341218283104 0.489161 0.471621 0.507969 0.491161 0.473621 0.509969    9\n"
     ]
    },
    {
     "name": "stderr",
     "output_type": "stream",
     "text": [
      "Parsing Hierarchy : 100%|████████████████| 4394/4394 [00:00<00:00, 17216.99it/s]\n",
      "yt : [INFO     ] 2022-07-13 09:41:21,368 Gathering a field list (this may take a moment.)\n",
      "yt : [WARNING  ] 2022-07-13 09:41:24,308 The stars particle filter already exists. Overriding.\n",
      "yt : [WARNING  ] 2022-07-13 09:41:24,308 The DM particle filter already exists. Overriding.\n"
     ]
    },
    {
     "name": "stdout",
     "output_type": "stream",
     "text": [
      "Pulling halo center from catalog file\n",
      "Opening snapshot /Volumes/TempestTimeSteps/DD2227/DD2227\n"
     ]
    },
    {
     "name": "stderr",
     "output_type": "stream",
     "text": [
      "yt : [INFO     ] 2022-07-13 09:41:24,495 Parameters: current_time              = 589.56652781829\n",
      "yt : [INFO     ] 2022-07-13 09:41:24,497 Parameters: domain_dimensions         = [256 256 256]\n",
      "yt : [INFO     ] 2022-07-13 09:41:24,500 Parameters: domain_left_edge          = [0. 0. 0.]\n",
      "yt : [INFO     ] 2022-07-13 09:41:24,503 Parameters: domain_right_edge         = [1. 1. 1.]\n",
      "yt : [INFO     ] 2022-07-13 09:41:24,503 Parameters: cosmological_simulation   = 1\n",
      "yt : [INFO     ] 2022-07-13 09:41:24,503 Parameters: current_redshift          = 0.080708326235905\n",
      "yt : [INFO     ] 2022-07-13 09:41:24,504 Parameters: omega_lambda              = 0.715\n",
      "yt : [INFO     ] 2022-07-13 09:41:24,505 Parameters: omega_matter              = 0.285\n",
      "yt : [INFO     ] 2022-07-13 09:41:24,505 Parameters: omega_radiation           = 0\n",
      "yt : [INFO     ] 2022-07-13 09:41:24,506 Parameters: hubble_constant           = 0.695\n"
     ]
    },
    {
     "name": "stdout",
     "output_type": "stream",
     "text": [
      "get_refine_box: using this location:        col1         col2     col3     col4     col5     col6     col7   col8\n",
      "----------------- -------- -------- -------- -------- -------- -------- ----\n",
      "0.080722254207208 0.489136 0.471499 0.508025 0.491136 0.473499 0.510025    9\n"
     ]
    },
    {
     "name": "stderr",
     "output_type": "stream",
     "text": [
      "Parsing Hierarchy : 100%|████████████████| 4637/4637 [00:00<00:00, 17428.22it/s]\n",
      "yt : [INFO     ] 2022-07-13 09:41:24,963 Gathering a field list (this may take a moment.)\n",
      "yt : [WARNING  ] 2022-07-13 09:41:27,715 The stars particle filter already exists. Overriding.\n",
      "yt : [WARNING  ] 2022-07-13 09:41:27,716 The DM particle filter already exists. Overriding.\n"
     ]
    },
    {
     "name": "stdout",
     "output_type": "stream",
     "text": [
      "Pulling halo center from catalog file\n",
      "Opening snapshot /Volumes/TempestTimeSteps/DD2247/DD2247\n"
     ]
    },
    {
     "name": "stderr",
     "output_type": "stream",
     "text": [
      "yt : [INFO     ] 2022-07-13 09:41:27,902 Parameters: current_time              = 594.56652781829\n",
      "yt : [INFO     ] 2022-07-13 09:41:27,905 Parameters: domain_dimensions         = [256 256 256]\n",
      "yt : [INFO     ] 2022-07-13 09:41:27,907 Parameters: domain_left_edge          = [0. 0. 0.]\n",
      "yt : [INFO     ] 2022-07-13 09:41:27,909 Parameters: domain_right_edge         = [1. 1. 1.]\n",
      "yt : [INFO     ] 2022-07-13 09:41:27,909 Parameters: cosmological_simulation   = 1\n",
      "yt : [INFO     ] 2022-07-13 09:41:27,910 Parameters: current_redshift          = 0.072203010646745\n",
      "yt : [INFO     ] 2022-07-13 09:41:27,910 Parameters: omega_lambda              = 0.715\n",
      "yt : [INFO     ] 2022-07-13 09:41:27,911 Parameters: omega_matter              = 0.285\n",
      "yt : [INFO     ] 2022-07-13 09:41:27,911 Parameters: omega_radiation           = 0\n",
      "yt : [INFO     ] 2022-07-13 09:41:27,912 Parameters: hubble_constant           = 0.695\n"
     ]
    },
    {
     "name": "stdout",
     "output_type": "stream",
     "text": [
      "get_refine_box: using this location:        col1         col2     col3     col4     col5     col6     col7   col8\n",
      "----------------- -------- -------- -------- -------- -------- -------- ----\n",
      "0.072205318629089 0.489111 0.471377 0.508078 0.491111 0.473377 0.510078    9\n"
     ]
    },
    {
     "name": "stderr",
     "output_type": "stream",
     "text": [
      "Parsing Hierarchy : 100%|████████████████| 4661/4661 [00:00<00:00, 17682.50it/s]\n",
      "yt : [INFO     ] 2022-07-13 09:41:28,370 Gathering a field list (this may take a moment.)\n",
      "yt : [WARNING  ] 2022-07-13 09:41:31,098 The stars particle filter already exists. Overriding.\n",
      "yt : [WARNING  ] 2022-07-13 09:41:31,100 The DM particle filter already exists. Overriding.\n"
     ]
    },
    {
     "name": "stdout",
     "output_type": "stream",
     "text": [
      "Pulling halo center from catalog file\n",
      "Opening snapshot /Volumes/TempestTimeSteps/DD2267/DD2267\n"
     ]
    },
    {
     "name": "stderr",
     "output_type": "stream",
     "text": [
      "yt : [INFO     ] 2022-07-13 09:41:31,282 Parameters: current_time              = 599.56652781829\n",
      "yt : [INFO     ] 2022-07-13 09:41:31,285 Parameters: domain_dimensions         = [256 256 256]\n",
      "yt : [INFO     ] 2022-07-13 09:41:31,288 Parameters: domain_left_edge          = [0. 0. 0.]\n",
      "yt : [INFO     ] 2022-07-13 09:41:31,291 Parameters: domain_right_edge         = [1. 1. 1.]\n",
      "yt : [INFO     ] 2022-07-13 09:41:31,292 Parameters: cosmological_simulation   = 1\n",
      "yt : [INFO     ] 2022-07-13 09:41:31,292 Parameters: current_redshift          = 0.063773742616062\n",
      "yt : [INFO     ] 2022-07-13 09:41:31,292 Parameters: omega_lambda              = 0.715\n",
      "yt : [INFO     ] 2022-07-13 09:41:31,293 Parameters: omega_matter              = 0.285\n",
      "yt : [INFO     ] 2022-07-13 09:41:31,293 Parameters: omega_radiation           = 0\n",
      "yt : [INFO     ] 2022-07-13 09:41:31,294 Parameters: hubble_constant           = 0.695\n"
     ]
    },
    {
     "name": "stdout",
     "output_type": "stream",
     "text": [
      "get_refine_box: using this location:       col1         col2     col3     col4     col5     col6     col7   col8\n",
      "---------------- -------- -------- -------- -------- -------- -------- ----\n",
      "0.06378828462523 0.489085 0.471257 0.508131 0.491085 0.473257 0.510131    9\n"
     ]
    },
    {
     "name": "stderr",
     "output_type": "stream",
     "text": [
      "Parsing Hierarchy : 100%|████████████████| 4765/4765 [00:00<00:00, 18043.02it/s]\n",
      "yt : [INFO     ] 2022-07-13 09:41:31,746 Gathering a field list (this may take a moment.)\n",
      "yt : [WARNING  ] 2022-07-13 09:41:34,398 The stars particle filter already exists. Overriding.\n",
      "yt : [WARNING  ] 2022-07-13 09:41:34,398 The DM particle filter already exists. Overriding.\n"
     ]
    },
    {
     "name": "stdout",
     "output_type": "stream",
     "text": [
      "Pulling halo center from catalog file\n",
      "Opening snapshot /Volumes/TempestTimeSteps/DD2287/DD2287\n"
     ]
    },
    {
     "name": "stderr",
     "output_type": "stream",
     "text": [
      "yt : [INFO     ] 2022-07-13 09:41:34,583 Parameters: current_time              = 604.56652781829\n",
      "yt : [INFO     ] 2022-07-13 09:41:34,585 Parameters: domain_dimensions         = [256 256 256]\n",
      "yt : [INFO     ] 2022-07-13 09:41:34,588 Parameters: domain_left_edge          = [0. 0. 0.]\n",
      "yt : [INFO     ] 2022-07-13 09:41:34,591 Parameters: domain_right_edge         = [1. 1. 1.]\n",
      "yt : [INFO     ] 2022-07-13 09:41:34,591 Parameters: cosmological_simulation   = 1\n",
      "yt : [INFO     ] 2022-07-13 09:41:34,592 Parameters: current_redshift          = 0.055464005771674\n",
      "yt : [INFO     ] 2022-07-13 09:41:34,593 Parameters: omega_lambda              = 0.715\n",
      "yt : [INFO     ] 2022-07-13 09:41:34,593 Parameters: omega_matter              = 0.285\n",
      "yt : [INFO     ] 2022-07-13 09:41:34,594 Parameters: omega_radiation           = 0\n",
      "yt : [INFO     ] 2022-07-13 09:41:34,595 Parameters: hubble_constant           = 0.695\n"
     ]
    },
    {
     "name": "stdout",
     "output_type": "stream",
     "text": [
      "get_refine_box: using this location:        col1         col2     col3     col4     col5     col6     col7   col8\n",
      "----------------- -------- -------- -------- -------- -------- -------- ----\n",
      "0.055469091194623 0.489056 0.471136 0.508185 0.491056 0.473136 0.510185    9\n"
     ]
    },
    {
     "name": "stderr",
     "output_type": "stream",
     "text": [
      "Parsing Hierarchy : 100%|████████████████| 4752/4752 [00:00<00:00, 16583.73it/s]\n",
      "yt : [INFO     ] 2022-07-13 09:41:35,068 Gathering a field list (this may take a moment.)\n",
      "yt : [WARNING  ] 2022-07-13 09:41:37,885 The stars particle filter already exists. Overriding.\n",
      "yt : [WARNING  ] 2022-07-13 09:41:37,885 The DM particle filter already exists. Overriding.\n"
     ]
    },
    {
     "name": "stdout",
     "output_type": "stream",
     "text": [
      "Pulling halo center from catalog file\n",
      "Opening snapshot /Volumes/TempestTimeSteps/DD2307/DD2307\n"
     ]
    },
    {
     "name": "stderr",
     "output_type": "stream",
     "text": [
      "yt : [INFO     ] 2022-07-13 09:41:38,073 Parameters: current_time              = 609.56652781829\n",
      "yt : [INFO     ] 2022-07-13 09:41:38,075 Parameters: domain_dimensions         = [256 256 256]\n",
      "yt : [INFO     ] 2022-07-13 09:41:38,078 Parameters: domain_left_edge          = [0. 0. 0.]\n",
      "yt : [INFO     ] 2022-07-13 09:41:38,080 Parameters: domain_right_edge         = [1. 1. 1.]\n",
      "yt : [INFO     ] 2022-07-13 09:41:38,081 Parameters: cosmological_simulation   = 1\n",
      "yt : [INFO     ] 2022-07-13 09:41:38,081 Parameters: current_redshift          = 0.047232768552278\n",
      "yt : [INFO     ] 2022-07-13 09:41:38,082 Parameters: omega_lambda              = 0.715\n",
      "yt : [INFO     ] 2022-07-13 09:41:38,082 Parameters: omega_matter              = 0.285\n",
      "yt : [INFO     ] 2022-07-13 09:41:38,082 Parameters: omega_radiation           = 0\n",
      "yt : [INFO     ] 2022-07-13 09:41:38,083 Parameters: hubble_constant           = 0.695\n"
     ]
    },
    {
     "name": "stdout",
     "output_type": "stream",
     "text": [
      "get_refine_box: using this location:       col1         col2     col3     col4     col5     col6     col7   col8\n",
      "---------------- -------- -------- -------- -------- -------- -------- ----\n",
      "0.04724574069249 0.489029 0.471018 0.508236 0.491029 0.473018 0.510236    9\n"
     ]
    },
    {
     "name": "stderr",
     "output_type": "stream",
     "text": [
      "Parsing Hierarchy : 100%|████████████████| 4568/4568 [00:00<00:00, 17246.33it/s]\n",
      "yt : [INFO     ] 2022-07-13 09:41:38,530 Gathering a field list (this may take a moment.)\n",
      "yt : [WARNING  ] 2022-07-13 09:41:41,251 The stars particle filter already exists. Overriding.\n",
      "yt : [WARNING  ] 2022-07-13 09:41:41,252 The DM particle filter already exists. Overriding.\n"
     ]
    },
    {
     "name": "stdout",
     "output_type": "stream",
     "text": [
      "Pulling halo center from catalog file\n",
      "Opening snapshot /Volumes/TempestTimeSteps/DD2327/DD2327\n"
     ]
    },
    {
     "name": "stderr",
     "output_type": "stream",
     "text": [
      "yt : [INFO     ] 2022-07-13 09:41:41,440 Parameters: current_time              = 614.56652781829\n",
      "yt : [INFO     ] 2022-07-13 09:41:41,442 Parameters: domain_dimensions         = [256 256 256]\n",
      "yt : [INFO     ] 2022-07-13 09:41:41,446 Parameters: domain_left_edge          = [0. 0. 0.]\n",
      "yt : [INFO     ] 2022-07-13 09:41:41,449 Parameters: domain_right_edge         = [1. 1. 1.]\n",
      "yt : [INFO     ] 2022-07-13 09:41:41,449 Parameters: cosmological_simulation   = 1\n",
      "yt : [INFO     ] 2022-07-13 09:41:41,450 Parameters: current_redshift          = 0.0391061686678\n",
      "yt : [INFO     ] 2022-07-13 09:41:41,450 Parameters: omega_lambda              = 0.715\n",
      "yt : [INFO     ] 2022-07-13 09:41:41,451 Parameters: omega_matter              = 0.285\n",
      "yt : [INFO     ] 2022-07-13 09:41:41,452 Parameters: omega_radiation           = 0\n",
      "yt : [INFO     ] 2022-07-13 09:41:41,452 Parameters: hubble_constant           = 0.695\n"
     ]
    },
    {
     "name": "stdout",
     "output_type": "stream",
     "text": [
      "get_refine_box: using this location:        col1         col2     col3     col4    col5     col6     col7  col8\n",
      "----------------- -------- -------- ------- -------- -------- ------- ----\n",
      "0.039116296382769 0.489003 0.470898 0.50829 0.491003 0.472898 0.51029    9\n"
     ]
    },
    {
     "name": "stderr",
     "output_type": "stream",
     "text": [
      "Parsing Hierarchy : 100%|████████████████| 4486/4486 [00:00<00:00, 17046.73it/s]\n",
      "yt : [INFO     ] 2022-07-13 09:41:41,908 Gathering a field list (this may take a moment.)\n",
      "yt : [WARNING  ] 2022-07-13 09:41:51,941 The stars particle filter already exists. Overriding.\n",
      "yt : [WARNING  ] 2022-07-13 09:41:51,942 The DM particle filter already exists. Overriding.\n"
     ]
    },
    {
     "name": "stdout",
     "output_type": "stream",
     "text": [
      "Pulling halo center from catalog file\n",
      "Opening snapshot /Volumes/TempestTimeSteps/DD2347/DD2347\n"
     ]
    },
    {
     "name": "stderr",
     "output_type": "stream",
     "text": [
      "yt : [INFO     ] 2022-07-13 09:41:52,109 Parameters: current_time              = 619.56652781829\n",
      "yt : [INFO     ] 2022-07-13 09:41:52,111 Parameters: domain_dimensions         = [256 256 256]\n",
      "yt : [INFO     ] 2022-07-13 09:41:52,114 Parameters: domain_left_edge          = [0. 0. 0.]\n",
      "yt : [INFO     ] 2022-07-13 09:41:52,116 Parameters: domain_right_edge         = [1. 1. 1.]\n",
      "yt : [INFO     ] 2022-07-13 09:41:52,116 Parameters: cosmological_simulation   = 1\n",
      "yt : [INFO     ] 2022-07-13 09:41:52,117 Parameters: current_redshift          = 0.031069228461955\n",
      "yt : [INFO     ] 2022-07-13 09:41:52,117 Parameters: omega_lambda              = 0.715\n",
      "yt : [INFO     ] 2022-07-13 09:41:52,118 Parameters: omega_matter              = 0.285\n",
      "yt : [INFO     ] 2022-07-13 09:41:52,118 Parameters: omega_radiation           = 0\n",
      "yt : [INFO     ] 2022-07-13 09:41:52,119 Parameters: hubble_constant           = 0.695\n"
     ]
    },
    {
     "name": "stdout",
     "output_type": "stream",
     "text": [
      "get_refine_box: using this location:        col1         col2     col3     col4     col5     col6     col7   col8\n",
      "----------------- -------- -------- -------- -------- -------- -------- ----\n",
      "0.031078880102952 0.488974 0.470782 0.508341 0.490974 0.472782 0.510341    9\n"
     ]
    },
    {
     "name": "stderr",
     "output_type": "stream",
     "text": [
      "Parsing Hierarchy : 100%|████████████████| 4414/4414 [00:00<00:00, 19403.62it/s]\n",
      "yt : [INFO     ] 2022-07-13 09:41:52,524 Gathering a field list (this may take a moment.)\n",
      "yt : [WARNING  ] 2022-07-13 09:41:55,109 The stars particle filter already exists. Overriding.\n",
      "yt : [WARNING  ] 2022-07-13 09:41:55,110 The DM particle filter already exists. Overriding.\n"
     ]
    },
    {
     "name": "stdout",
     "output_type": "stream",
     "text": [
      "Pulling halo center from catalog file\n",
      "Opening snapshot /Volumes/TempestTimeSteps/DD2367/DD2367\n"
     ]
    },
    {
     "name": "stderr",
     "output_type": "stream",
     "text": [
      "yt : [INFO     ] 2022-07-13 09:41:55,306 Parameters: current_time              = 624.56652781829\n",
      "yt : [INFO     ] 2022-07-13 09:41:55,308 Parameters: domain_dimensions         = [256 256 256]\n",
      "yt : [INFO     ] 2022-07-13 09:41:55,310 Parameters: domain_left_edge          = [0. 0. 0.]\n",
      "yt : [INFO     ] 2022-07-13 09:41:55,313 Parameters: domain_right_edge         = [1. 1. 1.]\n",
      "yt : [INFO     ] 2022-07-13 09:41:55,314 Parameters: cosmological_simulation   = 1\n",
      "yt : [INFO     ] 2022-07-13 09:41:55,315 Parameters: current_redshift          = 0.023118635482115\n",
      "yt : [INFO     ] 2022-07-13 09:41:55,315 Parameters: omega_lambda              = 0.715\n",
      "yt : [INFO     ] 2022-07-13 09:41:55,316 Parameters: omega_matter              = 0.285\n",
      "yt : [INFO     ] 2022-07-13 09:41:55,317 Parameters: omega_radiation           = 0\n",
      "yt : [INFO     ] 2022-07-13 09:41:55,317 Parameters: hubble_constant           = 0.695\n"
     ]
    },
    {
     "name": "stdout",
     "output_type": "stream",
     "text": [
      "get_refine_box: using this location:        col1         col2     col3     col4     col5     col6     col7   col8\n",
      "----------------- -------- -------- -------- -------- -------- -------- ----\n",
      "0.023131670035277 0.488947 0.470663 0.508391 0.490947 0.472663 0.510391    9\n"
     ]
    },
    {
     "name": "stderr",
     "output_type": "stream",
     "text": [
      "Parsing Hierarchy : 100%|████████████████| 4336/4336 [00:00<00:00, 18862.57it/s]\n",
      "yt : [INFO     ] 2022-07-13 09:41:55,746 Gathering a field list (this may take a moment.)\n",
      "yt : [WARNING  ] 2022-07-13 09:41:58,275 The stars particle filter already exists. Overriding.\n",
      "yt : [WARNING  ] 2022-07-13 09:41:58,276 The DM particle filter already exists. Overriding.\n"
     ]
    },
    {
     "name": "stdout",
     "output_type": "stream",
     "text": [
      "Pulling halo center from catalog file\n",
      "Opening snapshot /Volumes/TempestTimeSteps/DD2387/DD2387\n"
     ]
    },
    {
     "name": "stderr",
     "output_type": "stream",
     "text": [
      "yt : [INFO     ] 2022-07-13 09:41:58,462 Parameters: current_time              = 629.56652781829\n",
      "yt : [INFO     ] 2022-07-13 09:41:58,465 Parameters: domain_dimensions         = [256 256 256]\n",
      "yt : [INFO     ] 2022-07-13 09:41:58,467 Parameters: domain_left_edge          = [0. 0. 0.]\n",
      "yt : [INFO     ] 2022-07-13 09:41:58,469 Parameters: domain_right_edge         = [1. 1. 1.]\n",
      "yt : [INFO     ] 2022-07-13 09:41:58,470 Parameters: cosmological_simulation   = 1\n",
      "yt : [INFO     ] 2022-07-13 09:41:58,471 Parameters: current_redshift          = 0.015267938588785\n",
      "yt : [INFO     ] 2022-07-13 09:41:58,471 Parameters: omega_lambda              = 0.715\n",
      "yt : [INFO     ] 2022-07-13 09:41:58,472 Parameters: omega_matter              = 0.285\n",
      "yt : [INFO     ] 2022-07-13 09:41:58,472 Parameters: omega_radiation           = 0\n",
      "yt : [INFO     ] 2022-07-13 09:41:58,473 Parameters: hubble_constant           = 0.695\n"
     ]
    },
    {
     "name": "stdout",
     "output_type": "stream",
     "text": [
      "get_refine_box: using this location:        col1         col2     col3     col4    col5     col6     col7  col8\n",
      "----------------- -------- -------- ------- -------- -------- ------- ----\n",
      "0.015272898578656 0.488921 0.470547 0.50844 0.490921 0.472547 0.51044    9\n"
     ]
    },
    {
     "name": "stderr",
     "output_type": "stream",
     "text": [
      "Parsing Hierarchy : 100%|████████████████| 4456/4456 [00:00<00:00, 17193.41it/s]\n",
      "yt : [INFO     ] 2022-07-13 09:41:58,925 Gathering a field list (this may take a moment.)\n",
      "yt : [WARNING  ] 2022-07-13 09:42:01,608 The stars particle filter already exists. Overriding.\n",
      "yt : [WARNING  ] 2022-07-13 09:42:01,609 The DM particle filter already exists. Overriding.\n"
     ]
    },
    {
     "name": "stdout",
     "output_type": "stream",
     "text": [
      "Pulling halo center from catalog file\n",
      "Opening snapshot /Volumes/TempestTimeSteps/DD2407/DD2407\n"
     ]
    },
    {
     "name": "stderr",
     "output_type": "stream",
     "text": [
      "yt : [INFO     ] 2022-07-13 09:42:01,786 Parameters: current_time              = 634.56652781829\n",
      "yt : [INFO     ] 2022-07-13 09:42:01,788 Parameters: domain_dimensions         = [256 256 256]\n",
      "yt : [INFO     ] 2022-07-13 09:42:01,792 Parameters: domain_left_edge          = [0. 0. 0.]\n",
      "yt : [INFO     ] 2022-07-13 09:42:01,794 Parameters: domain_right_edge         = [1. 1. 1.]\n",
      "yt : [INFO     ] 2022-07-13 09:42:01,795 Parameters: cosmological_simulation   = 1\n",
      "yt : [INFO     ] 2022-07-13 09:42:01,796 Parameters: current_redshift          = 0.0074866626587569\n",
      "yt : [INFO     ] 2022-07-13 09:42:01,797 Parameters: omega_lambda              = 0.715\n",
      "yt : [INFO     ] 2022-07-13 09:42:01,798 Parameters: omega_matter              = 0.285\n",
      "yt : [INFO     ] 2022-07-13 09:42:01,798 Parameters: omega_radiation           = 0\n",
      "yt : [INFO     ] 2022-07-13 09:42:01,799 Parameters: hubble_constant           = 0.695\n"
     ]
    },
    {
     "name": "stdout",
     "output_type": "stream",
     "text": [
      "get_refine_box: using this location:        col1          col2     col3     col4    col5     col6     col7  col8\n",
      "------------------ -------- -------- ------- -------- -------- ------- ----\n",
      "0.0075008503160188 0.488892 0.470431 0.50849 0.490892 0.472431 0.51049    9\n"
     ]
    },
    {
     "name": "stderr",
     "output_type": "stream",
     "text": [
      "Parsing Hierarchy : 100%|████████████████| 4394/4394 [00:00<00:00, 18201.90it/s]\n",
      "yt : [INFO     ] 2022-07-13 09:42:02,224 Gathering a field list (this may take a moment.)\n",
      "yt : [WARNING  ] 2022-07-13 09:42:04,991 The stars particle filter already exists. Overriding.\n",
      "yt : [WARNING  ] 2022-07-13 09:42:04,992 The DM particle filter already exists. Overriding.\n"
     ]
    },
    {
     "name": "stdout",
     "output_type": "stream",
     "text": [
      "Pulling halo center from catalog file\n",
      "Opening snapshot /Volumes/TempestTimeSteps/DD2427/DD2427\n"
     ]
    },
    {
     "name": "stderr",
     "output_type": "stream",
     "text": [
      "yt : [INFO     ] 2022-07-13 09:42:05,174 Parameters: current_time              = 639.44480357087\n",
      "yt : [INFO     ] 2022-07-13 09:42:05,177 Parameters: domain_dimensions         = [256 256 256]\n",
      "yt : [INFO     ] 2022-07-13 09:42:05,179 Parameters: domain_left_edge          = [0. 0. 0.]\n",
      "yt : [INFO     ] 2022-07-13 09:42:05,182 Parameters: domain_right_edge         = [1. 1. 1.]\n",
      "yt : [INFO     ] 2022-07-13 09:42:05,182 Parameters: cosmological_simulation   = 1\n",
      "yt : [INFO     ] 2022-07-13 09:42:05,183 Parameters: current_redshift          = 0\n",
      "yt : [INFO     ] 2022-07-13 09:42:05,183 Parameters: omega_lambda              = 0.715\n",
      "yt : [INFO     ] 2022-07-13 09:42:05,184 Parameters: omega_matter              = 0.285\n",
      "yt : [INFO     ] 2022-07-13 09:42:05,184 Parameters: omega_radiation           = 0\n",
      "yt : [INFO     ] 2022-07-13 09:42:05,185 Parameters: hubble_constant           = 0.695\n"
     ]
    },
    {
     "name": "stdout",
     "output_type": "stream",
     "text": [
      "get_refine_box: using this location:         col1          col2     col3     col4    col5     col6     col7  col8\n",
      "------------------- -------- -------- ------- -------- -------- ------- ----\n",
      "4.4408920985006e-16 0.488865 0.470316 0.50854 0.490865 0.472316 0.51054    9\n"
     ]
    },
    {
     "name": "stderr",
     "output_type": "stream",
     "text": [
      "Parsing Hierarchy : 100%|████████████████| 4262/4262 [00:00<00:00, 18841.98it/s]\n",
      "yt : [INFO     ] 2022-07-13 09:42:05,586 Gathering a field list (this may take a moment.)\n"
     ]
    },
    {
     "name": "stdout",
     "output_type": "stream",
     "text": [
      "Pulling halo center from catalog file\n",
      "SUCCESS!\n"
     ]
    }
   ],
   "source": [
    "\"\"\"\n",
    "Now, run through ALL the files with star data in the hard drive. This should take a while.\n",
    "\"\"\"\n",
    "\n",
    "halo = 'Tempest'\n",
    "hnum = '008508'\n",
    "\n",
    "halo_c_v_name = '/Users/bnguyen/FOGGIE/foggie/halo_infos/'+hnum+'/nref11c_nref9f/halo_c_v'\n",
    "trackname = '/Users/bnguyen/FOGGIE/foggie/halo_tracks/'+hnum+'/nref11n_selfshield_15/halo_track_200kpc_nref9'\n",
    "masses_dir = '/Users/bnguyen/FOGGIE/foggie/halo_infos/'+hnum+'/nref11c_nref9f/'\n",
    "\n",
    "def StarParts(pfilter, data):\n",
    "    return data[(\"all\", \"particle_type\")] == 2 # only grab star particles\n",
    "\n",
    "def DMParts(pfilter, data):\n",
    "    return data[(\"all\", \"particle_type\")] == 4 # only grab DM particles\n",
    "\n",
    "all_snaps = np.array([], dtype='object')\n",
    "all_time_idx = np.array([], dtype='object')\n",
    "\n",
    "for snap_name in tslist:\n",
    "    add_particle_filter(\"stars\", function=StarParts, filtered_type='all', requires=[\"particle_type\"])\n",
    "    add_particle_filter(\"DM\", function=DMParts, filtered_type='all', requires=[\"particle_type\"])\n",
    "    ds, region = fog.foggie_load(snap_name, trackname, find_halo_center=True, halo_c_v_name=halo_c_v_name, disk_relative=False, \\\n",
    "                                particle_type_for_angmom='young_stars', do_filter_particles=False, gravity=False,\\\n",
    "                                region='refine_box',masses_dir=masses_dir)\n",
    "    ds.add_particle_filter('stars')\n",
    "    ds.add_particle_filter('DM')\n",
    "    \n",
    "    snapend = snap_name[-6:]\n",
    "#    print(snapend)\n",
    "    time_idx = timestep_index(sim, snapend)\n",
    "    ads = ds.all_data()\n",
    "    all_snaps = np.append(all_snaps, ds)\n",
    "    all_time_idx = np.append(all_time_idx, time_idx)\n",
    "    \n",
    "print('SUCCESS!')"
   ]
  },
  {
   "cell_type": "code",
   "execution_count": 79,
   "id": "97f66858",
   "metadata": {},
   "outputs": [
    {
     "name": "stdout",
     "output_type": "stream",
     "text": [
      "[<Halo 'Tempest.9f11c.all.DD/DD2427/DD2427/halo_21' | NDM=517 Nstar=0 Ngas=0>\n",
      " <Halo 'Tempest.9f11c.all.DD/DD2427/DD2427/halo_109' | NDM=84 Nstar=0 Ngas=0>\n",
      " <Halo 'Tempest.9f11c.all.DD/DD2427/DD2427/halo_51' | NDM=182 Nstar=0 Ngas=0>]\n"
     ]
    }
   ],
   "source": [
    "all_sats = sim[-1][1].calculate('Satellites()')\n",
    "\n",
    "sats = np.array([], dtype='object')\n",
    "starry_idx = np.array([21, 51, 109], dtype='object')\n",
    "\n",
    "for i in range(np.size(all_sats)):\n",
    "    if all_sats[i].halo_number in starry_idx:\n",
    "        sats = np.append(sats, all_sats[i]) # this ensures we're only checking for the verified starry halos\n",
    "        \n",
    "print(sats)"
   ]
  },
  {
   "cell_type": "code",
   "execution_count": 80,
   "id": "0445db5d",
   "metadata": {},
   "outputs": [
    {
     "name": "stdout",
     "output_type": "stream",
     "text": [
      "Success!\n"
     ]
    }
   ],
   "source": [
    "\"\"\"\n",
    "First, we find all the properties of the progenitors \n",
    "for the star-forming surviving satellites.\n",
    "\"\"\"\n",
    "\n",
    "all_sat_cen = []\n",
    "all_sat_rvir = []\n",
    "all_sat_t = []\n",
    "\n",
    "for sat_idx in starry_idx:\n",
    "    if isinstance(sim[-1][sat_idx], type(None)) is False:\n",
    "        mvir, cen, rvir, t = sim[-1][sat_idx].calculate_for_progenitors('Mvir', 'Center', 'Rvir', 't()')\n",
    "\n",
    "        all_sat_cen.append(cen) # this compiles an array of all the progenitors' centers\n",
    "        all_sat_rvir.append(rvir) # this compiles an array of all the progenitors' virial radii\n",
    "        all_sat_t.append(t)\n",
    "\n",
    "all_sat_cen = np.array(all_sat_cen, dtype='object')\n",
    "all_sat_rvir = np.array(all_sat_rvir, dtype='object')\n",
    "all_sat_t = np.array(all_sat_t, dtype='object')\n",
    "\n",
    "print('Success!')"
   ]
  },
  {
   "cell_type": "code",
   "execution_count": 149,
   "id": "7648cfca",
   "metadata": {
    "scrolled": false
   },
   "outputs": [
    {
     "name": "stdout",
     "output_type": "stream",
     "text": [
      "There are 130 timesteps available in the star hard drive.\n"
     ]
    }
   ],
   "source": [
    "\"\"\"\n",
    "Now, we have to ensure that all the progenitors line up with the available \n",
    "timesteps in the star hard drive. To do that, we first have to convert \n",
    "all the time indices from the star hard drive to actual time in Gyr.\n",
    "\"\"\"\n",
    "\n",
    "available_timesteps = np.zeros(np.size(all_time_idx))\n",
    "i = 0\n",
    "while i < np.size(all_time_idx):\n",
    "    available_timesteps[i] = sim[all_time_idx[i]].time_gyr\n",
    "    i += 1\n",
    "    \n",
    "print('There are', np.size(available_timesteps), 'timesteps available in the star hard drive.')"
   ]
  },
  {
   "cell_type": "code",
   "execution_count": 157,
   "id": "c1c3cb40",
   "metadata": {},
   "outputs": [],
   "source": [
    "all_centers = []\n",
    "all_rvirs = []\n",
    "all_available_snaps = []\n",
    "\n",
    "for halo in range(np.size(starry_idx)):\n",
    "    each_halo_available_centers = []\n",
    "    each_halo_available_rvirs = []\n",
    "    each_halo_available_snaps = []\n",
    "    \n",
    "    # Now, we compare the times in the snapshots to the available timesteps \n",
    "    # in order to see how many snapshots are available in the star hard drive.\n",
    "    for time in available_timesteps:\n",
    "        center = all_sat_cen[halo][all_sat_t[halo] == time]\n",
    "        rvir = all_sat_rvir[halo][all_sat_t[halo] == time]\n",
    "        if np.size(center) != 0 and np.size(rvir) != 0:\n",
    "            each_halo_available_centers.append(center)\n",
    "            each_halo_available_rvirs.append(rvir)\n",
    "            each_halo_available_snaps.append(all_snaps[available_timesteps == time])\n",
    "            \n",
    "    each_halo_available_centers = np.array(each_halo_available_centers, dtype='object')\n",
    "    each_halo_available_rvirs = np.array(each_halo_available_rvirs, dtype='object')\n",
    "    each_halo_available_snaps = np.array(each_halo_available_snaps, dtype='object')\n",
    "        \n",
    "    all_centers.append(each_halo_available_centers)\n",
    "    all_rvirs.append(each_halo_available_rvirs)\n",
    "    all_available_snaps.append(each_halo_available_snaps)\n",
    "    \n",
    "all_centers = np.array(all_centers, dtype='object')\n",
    "all_rvirs = np.array(all_rvirs, dtype='object')\n",
    "all_available_snaps = np.array(all_available_snaps, dtype='object')"
   ]
  },
  {
   "cell_type": "code",
   "execution_count": 161,
   "id": "75b47eb7",
   "metadata": {},
   "outputs": [
    {
     "name": "stdout",
     "output_type": "stream",
     "text": [
      " For halo 21 there are 125 snaps in the hard drive.\n",
      " For halo 51 there are 123 snaps in the hard drive.\n",
      " For halo 109 there are 9  snaps in the hard drive.\n"
     ]
    }
   ],
   "source": [
    "print(' For halo', starry_idx[0], 'there are', np.size(all_available_snaps[0]), 'snaps in the hard drive.\\n', \\\n",
    "      'For halo', starry_idx[1], 'there are', np.size(all_available_snaps[1]), 'snaps in the hard drive.\\n', \\\n",
    "      'For halo', starry_idx[2], 'there are', np.size(all_available_snaps[2]), ' snaps in the hard drive.')"
   ]
  },
  {
   "cell_type": "code",
   "execution_count": 187,
   "id": "26b98b65",
   "metadata": {},
   "outputs": [
    {
     "name": "stdout",
     "output_type": "stream",
     "text": [
      "YTSphere (DD0147): , center=[4.23915804e+22 4.28895178e+22 4.26013173e+22] cm cm, radius=3.972826681342645e+21 cm\n",
      "[] kpc\n",
      "YTSphere (DD0167): , center=[4.44044974e+22 4.48874317e+22 4.46487911e+22] cm cm, radius=7.033312652899455e+21 cm\n",
      "[] kpc\n",
      "YTSphere (DD0187): , center=[4.63778919e+22 4.68402919e+22 4.66575103e+22] cm cm, radius=8.43578595926373e+21 cm\n",
      "[] kpc\n",
      "YTSphere (DD0207): , center=[4.83126337e+22 4.87527389e+22 4.86297330e+22] cm cm, radius=1.0002837750935032e+22 cm\n",
      "[] kpc\n",
      "YTSphere (DD0227): , center=[5.02121675e+22 5.06256950e+22 5.05700691e+22] cm cm, radius=1.2267554051147268e+22 cm\n",
      "[] kpc\n",
      "YTSphere (DD0247): , center=[5.20802650e+22 5.24659942e+22 5.24775882e+22] cm cm, radius=1.4040020247389594e+22 cm\n",
      "[] kpc\n",
      "YTSphere (DD0267): , center=[5.39179221e+22 5.42709473e+22 5.43583389e+22] cm cm, radius=1.5500519258922183e+22 cm\n",
      "[] kpc\n",
      "YTSphere (DD0287): , center=[5.57296032e+22 5.60500758e+22 5.62103177e+22] cm cm, radius=1.733173661867149e+22 cm\n",
      "[] kpc\n",
      "YTSphere (DD0307): , center=[5.75153697e+22 5.77972561e+22 5.80386957e+22] cm cm, radius=1.891268634212586e+22 cm\n",
      "[] kpc\n",
      "YTSphere (DD0327): , center=[5.92784203e+22 5.95230856e+22 5.98411131e+22] cm cm, radius=2.068434138254942e+22 cm\n",
      "[] kpc\n",
      "YTSphere (DD0347): , center=[6.10200941e+22 6.12227278e+22 6.16229253e+22] cm cm, radius=2.240688599510612e+22 cm\n",
      "[] kpc\n",
      "YTSphere (DD0367): , center=[6.27397958e+22 6.28998917e+22 6.33930706e+22] cm cm, radius=2.4151736664547746e+22 cm\n",
      "[] kpc\n",
      "YTSphere (DD0387): , center=[6.44409657e+22 6.45479748e+22 6.51338807e+22] cm cm, radius=2.5611323270078503e+22 cm\n",
      "[] kpc\n",
      "YTSphere (DD0407): , center=[6.61255567e+22 6.61880033e+22 6.68703650e+22] cm cm, radius=2.7124818234646314e+22 cm\n",
      "[] kpc\n",
      "YTSphere (DD0427): , center=[6.77934090e+22 6.78057350e+22 6.85822712e+22] cm cm, radius=2.899985002721212e+22 cm\n",
      "[] kpc\n",
      "YTSphere (DD0447): , center=[6.94447809e+22 6.94012346e+22 7.02840927e+22] cm cm, radius=3.0622354242102345e+22 cm\n",
      "[] kpc\n",
      "YTSphere (DD0467): , center=[7.10782882e+22 7.09887425e+22 7.19670155e+22] cm cm, radius=3.213107776792892e+22 cm\n",
      "[] kpc\n",
      "YTSphere (DD0487): , center=[7.27034925e+22 7.25512998e+22 7.36378430e+22] cm cm, radius=3.3702034602234263e+22 cm\n",
      "[] kpc\n",
      "YTSphere (DD0507): , center=[7.43153451e+22 7.41022169e+22 7.52963794e+22] cm cm, radius=3.506805829555527e+22 cm\n",
      "[] kpc\n",
      "YTSphere (DD0527): , center=[7.59092700e+22 7.56398558e+22 7.69447750e+22] cm cm, radius=3.6268014728513883e+22 cm\n",
      "[] kpc\n",
      "YTSphere (DD0547): , center=[7.74943943e+22 7.71632455e+22 7.85815509e+22] cm cm, radius=3.746836100464612e+22 cm\n",
      "[] kpc\n",
      "YTSphere (DD0567): , center=[7.90685963e+22 7.86721424e+22 8.02073776e+22] cm cm, radius=3.857842326728386e+22 cm\n",
      "[] kpc\n",
      "YTSphere (DD0587): , center=[8.06308744e+22 8.01726902e+22 8.18259935e+22] cm cm, radius=3.962998241937352e+22 cm\n",
      "[] kpc\n",
      "YTSphere (DD0607): , center=[8.21833267e+22 8.16596170e+22 8.34352221e+22] cm cm, radius=4.092532268282003e+22 cm\n",
      "[] kpc\n",
      "YTSphere (DD0627): , center=[8.37267497e+22 8.31360038e+22 8.50355614e+22] cm cm, radius=4.267908607666439e+22 cm\n",
      "[] kpc\n",
      "YTSphere (DD0647): , center=[8.52615335e+22 8.46006548e+22 8.66277106e+22] cm cm, radius=4.426506575648375e+22 cm\n",
      "[] kpc\n",
      "YTSphere (DD0667): , center=[8.67870644e+22 8.60577900e+22 8.82131516e+22] cm cm, radius=4.508248278356611e+22 cm\n",
      "[] kpc\n",
      "YTSphere (DD0687): , center=[8.83052479e+22 8.75035578e+22 8.97923091e+22] cm cm, radius=4.592381580982167e+22 cm\n",
      "[] kpc\n",
      "YTSphere (DD0707): , center=[8.98151807e+22 8.89420065e+22 9.13644320e+22] cm cm, radius=4.709566158682299e+22 cm\n",
      "[] kpc\n",
      "YTSphere (DD0727): , center=[9.13195212e+22 9.03733451e+22 9.29320790e+22] cm cm, radius=4.797405293485231e+22 cm\n",
      "[] kpc\n",
      "YTSphere (DD0747): , center=[9.28167751e+22 9.17954298e+22 9.44940305e+22] cm cm, radius=4.8793330385765504e+22 cm\n",
      "[] kpc\n",
      "YTSphere (DD0767): , center=[9.43094953e+22 9.32098246e+22 9.60522813e+22] cm cm, radius=4.963735417170972e+22 cm\n",
      "[] kpc\n",
      "YTSphere (DD0787): , center=[9.57962198e+22 9.46158116e+22 9.76053369e+22] cm cm, radius=5.001448673345337e+22 cm\n",
      "[] kpc\n",
      "YTSphere (DD0807): , center=[9.72765114e+22 9.60169780e+22 9.91557472e+22] cm cm, radius=4.965576441635441e+22 cm\n",
      "[] kpc\n",
      "YTSphere (DD0827): , center=[9.87539553e+22 9.74105378e+22 1.00704337e+23] cm cm, radius=5.0646629262747975e+22 cm\n",
      "[] kpc\n",
      "YTSphere (DD0847): , center=[1.00229008e+23 9.87980295e+22 1.02248281e+23] cm cm, radius=5.134026566561719e+22 cm\n",
      "[] kpc\n",
      "YTSphere (DD0867): , center=[1.01699836e+23 1.00179979e+23 1.03789499e+23] cm cm, radius=5.1823169567421855e+22 cm\n",
      "[] kpc\n",
      "YTSphere (DD0887): , center=[1.03168517e+23 1.01555249e+23 1.05329593e+23] cm cm, radius=5.27788278848549e+22 cm\n",
      "[] kpc\n",
      "YTSphere (DD0907): , center=[1.04634918e+23 1.02924549e+23 1.06867967e+23] cm cm, radius=5.355556154946083e+22 cm\n",
      "[] kpc\n",
      "YTSphere (DD0927): , center=[1.06099196e+23 1.04287452e+23 1.08406441e+23] cm cm, radius=5.41825180537022e+22 cm\n",
      "[] kpc\n",
      "YTSphere (DD0947): , center=[1.07561155e+23 1.05645600e+23 1.09943438e+23] cm cm, radius=5.4517993013540746e+22 cm\n",
      "[] kpc\n",
      "YTSphere (DD0967): , center=[1.08954139e+23 1.06931288e+23 1.11403209e+23] cm cm, radius=5.499526938532813e+22 cm\n",
      "[] kpc\n",
      "YTSphere (DD0987): , center=[1.10422748e+23 1.08280391e+23 1.12941157e+23] cm cm, radius=5.477709185907237e+22 cm\n",
      "[] kpc\n",
      "YTSphere (DD1007): , center=[1.11891776e+23 1.09630536e+23 1.14482933e+23] cm cm, radius=5.3014115999437015e+22 cm\n",
      "[] kpc\n",
      "YTSphere (DD1027): , center=[1.13365197e+23 1.10977254e+23 1.16026320e+23] cm cm, radius=5.322660025076382e+22 cm\n",
      "[] kpc\n",
      "YTSphere (DD1047): , center=[1.14839037e+23 1.12331773e+23 1.17574018e+23] cm cm, radius=5.41562111072658e+22 cm\n",
      "[] kpc\n",
      "YTSphere (DD1067): , center=[1.16310520e+23 1.13688455e+23 1.19127613e+23] cm cm, radius=5.349023699142216e+22 cm\n",
      "[] kpc\n",
      "YTSphere (DD1087): , center=[1.17774873e+23 1.15053354e+23 1.20687469e+23] cm cm, radius=5.169559355978413e+22 cm\n",
      "[] kpc\n",
      "YTSphere (DD1107): , center=[1.19224786e+23 1.16424039e+23 1.22250297e+23] cm cm, radius=5.3419119133662846e+22 cm\n",
      "[] kpc\n",
      "YTSphere (DD1127): , center=[1.20660742e+23 1.17798809e+23 1.23808129e+23] cm cm, radius=5.317517016588543e+22 cm\n",
      "[] kpc\n",
      "YTSphere (DD1147): , center=[1.22084625e+23 1.19174877e+23 1.25359435e+23] cm cm, radius=5.669584178911504e+22 cm\n",
      "[] kpc\n",
      "YTSphere (DD1167): , center=[1.23499993e+23 1.20549393e+23 1.26904296e+23] cm cm, radius=5.223678251462792e+22 cm\n",
      "[] kpc\n",
      "YTSphere (DD1187): , center=[1.24908599e+23 1.21923164e+23 1.28442061e+23] cm cm, radius=5.656256459034241e+22 cm\n",
      "[] kpc\n",
      "YTSphere (DD1207): , center=[1.26312217e+23 1.23295251e+23 1.29974827e+23] cm cm, radius=5.5658645786871705e+22 cm\n",
      "[] kpc\n",
      "YTSphere (DD1227): , center=[1.27714532e+23 1.24665712e+23 1.31503883e+23] cm cm, radius=5.326420530576689e+22 cm\n",
      "[] kpc\n",
      "YTSphere (DD1247): , center=[1.29112626e+23 1.26033840e+23 1.33028661e+23] cm cm, radius=5.202440663052183e+22 cm\n",
      "[] kpc\n",
      "YTSphere (DD1267): , center=[1.30508058e+23 1.27401621e+23 1.34551561e+23] cm cm, radius=5.199055083805313e+22 cm\n",
      "[] kpc\n",
      "YTSphere (DD1287): , center=[1.31904004e+23 1.28767231e+23 1.36068922e+23] cm cm, radius=5.190328570054982e+22 cm\n",
      "[] kpc\n",
      "YTSphere (DD1307): , center=[1.33299244e+23 1.30131744e+23 1.37584742e+23] cm cm, radius=5.214073896183339e+22 cm\n",
      "[] kpc\n",
      "YTSphere (DD1310): , center=[1.33509168e+23 1.30335433e+23 1.37811713e+23] cm cm, radius=5.227347871992806e+22 cm\n",
      "[] kpc\n",
      "YTSphere (DD1311): , center=[1.33579158e+23 1.30403617e+23 1.37887480e+23] cm cm, radius=5.220093890202262e+22 cm\n",
      "[] kpc\n",
      "YTSphere (DD1312): , center=[1.33649120e+23 1.30472582e+23 1.37962986e+23] cm cm, radius=5.225610247918103e+22 cm\n",
      "[] kpc\n",
      "YTSphere (DD1313): , center=[1.33718834e+23 1.30540273e+23 1.38038730e+23] cm cm, radius=5.22133250737822e+22 cm\n",
      "[] kpc\n",
      "YTSphere (DD1314): , center=[1.33790615e+23 1.30608366e+23 1.38115219e+23] cm cm, radius=5.201276974119572e+22 cm\n",
      "[] kpc\n",
      "YTSphere (DD1315): , center=[1.33858476e+23 1.30676897e+23 1.38190396e+23] cm cm, radius=5.238621189471008e+22 cm\n",
      "[] kpc\n",
      "YTSphere (DD1316): , center=[1.33929465e+23 1.30744877e+23 1.38265446e+23] cm cm, radius=5.2218155504463054e+22 cm\n",
      "[] kpc\n",
      "YTSphere (DD1318): , center=[1.34068007e+23 1.30881462e+23 1.38417369e+23] cm cm, radius=5.220030524592185e+22 cm\n",
      "[] kpc\n",
      "YTSphere (DD1319): , center=[1.34138065e+23 1.30949333e+23 1.38493098e+23] cm cm, radius=5.22226478025987e+22 cm\n",
      "[] kpc\n"
     ]
    },
    {
     "name": "stdout",
     "output_type": "stream",
     "text": [
      "YTSphere (DD1320): , center=[1.34208040e+23 1.31017305e+23 1.38568809e+23] cm cm, radius=5.224506954353407e+22 cm\n",
      "[] kpc\n",
      "YTSphere (DD1327): , center=[1.34697954e+23 1.31494003e+23 1.39099289e+23] cm cm, radius=5.217697466416322e+22 cm\n",
      "[] kpc\n",
      "YTSphere (DD1347): , center=[1.36091358e+23 1.32856917e+23 1.40612174e+23] cm cm, radius=5.222735266174138e+22 cm\n",
      "[] kpc\n",
      "YTSphere (DD1367): , center=[1.37489152e+23 1.34219597e+23 1.42124411e+23] cm cm, radius=5.287183502879381e+22 cm\n",
      "[] kpc\n",
      "YTSphere (DD1387): , center=[1.38888126e+23 1.35581939e+23 1.43635894e+23] cm cm, radius=5.304099840476305e+22 cm\n",
      "[] kpc\n",
      "YTSphere (DD1407): , center=[1.40287151e+23 1.36942906e+23 1.45146857e+23] cm cm, radius=5.327133132073428e+22 cm\n",
      "[] kpc\n",
      "YTSphere (DD1427): , center=[1.41686687e+23 1.38303315e+23 1.46656294e+23] cm cm, radius=5.401508517455844e+22 cm\n",
      "[] kpc\n",
      "YTSphere (DD1447): , center=[1.43088675e+23 1.39663912e+23 1.48165609e+23] cm cm, radius=5.409898211960908e+22 cm\n",
      "[] kpc\n",
      "YTSphere (DD1467): , center=[1.44492793e+23 1.41024511e+23 1.49675610e+23] cm cm, radius=5.4418556840382676e+22 cm\n",
      "[] kpc\n",
      "YTSphere (DD1487): , center=[1.45897267e+23 1.42386190e+23 1.51186061e+23] cm cm, radius=5.477009363555506e+22 cm\n",
      "[] kpc\n",
      "YTSphere (DD1507): , center=[1.47306219e+23 1.43746666e+23 1.52697247e+23] cm cm, radius=5.515472145909687e+22 cm\n",
      "[] kpc\n",
      "YTSphere (DD1527): , center=[1.48716976e+23 1.45108746e+23 1.54208628e+23] cm cm, radius=5.553407837259313e+22 cm\n",
      "[] kpc\n",
      "YTSphere (DD1547): , center=[1.50129634e+23 1.46471274e+23 1.55721268e+23] cm cm, radius=5.598765792599171e+22 cm\n",
      "[] kpc\n",
      "YTSphere (DD1567): , center=[1.51546468e+23 1.47835623e+23 1.57236390e+23] cm cm, radius=5.654596714353805e+22 cm\n",
      "[] kpc\n",
      "YTSphere (DD1587): , center=[1.52966018e+23 1.49199780e+23 1.58753413e+23] cm cm, radius=5.692135275002919e+22 cm\n",
      "[] kpc\n",
      "YTSphere (DD1607): , center=[1.54387191e+23 1.50565459e+23 1.60271702e+23] cm cm, radius=5.740441242305393e+22 cm\n",
      "[] kpc\n",
      "YTSphere (DD1627): , center=[1.55811548e+23 1.51934086e+23 1.61791560e+23] cm cm, radius=5.76969351372301e+22 cm\n",
      "[] kpc\n",
      "YTSphere (DD1647): , center=[1.57241199e+23 1.53301989e+23 1.63313792e+23] cm cm, radius=5.8137105641170046e+22 cm\n",
      "[] kpc\n",
      "YTSphere (DD1667): , center=[1.58673154e+23 1.54671136e+23 1.64837480e+23] cm cm, radius=5.846263200798217e+22 cm\n",
      "[] kpc\n",
      "YTSphere (DD1687): , center=[1.60110278e+23 1.56040069e+23 1.66364353e+23] cm cm, radius=5.89392185021793e+22 cm\n",
      "[] kpc\n",
      "YTSphere (DD1707): , center=[1.61550061e+23 1.57417438e+23 1.67894798e+23] cm cm, radius=5.929759674624877e+22 cm\n",
      "[] kpc\n",
      "YTSphere (DD1727): , center=[1.62994345e+23 1.58790391e+23 1.69425018e+23] cm cm, radius=5.9533406393619955e+22 cm\n",
      "[] kpc\n",
      "YTSphere (DD1747): , center=[1.64442100e+23 1.60168137e+23 1.70960239e+23] cm cm, radius=6.004419618973896e+22 cm\n",
      "[] kpc\n",
      "YTSphere (DD1767): , center=[1.65896696e+23 1.61548099e+23 1.72498332e+23] cm cm, radius=6.043078190456475e+22 cm\n",
      "[] kpc\n",
      "YTSphere (DD1787): , center=[1.67354215e+23 1.62928789e+23 1.74039076e+23] cm cm, radius=6.089734348072354e+22 cm\n",
      "[] kpc\n",
      "YTSphere (DD1807): , center=[1.68817103e+23 1.64313950e+23 1.75584854e+23] cm cm, radius=6.108191908363874e+22 cm\n",
      "[] kpc\n",
      "YTSphere (DD1827): , center=[1.70285346e+23 1.65700900e+23 1.77133603e+23] cm cm, radius=6.154700019165262e+22 cm\n",
      "[] kpc\n",
      "YTSphere (DD1847): , center=[1.71755415e+23 1.67087042e+23 1.78683594e+23] cm cm, radius=6.1965799590135e+22 cm\n",
      "[] kpc\n",
      "YTSphere (DD1867): , center=[1.73236589e+23 1.68480835e+23 1.80241459e+23] cm cm, radius=6.230390773402642e+22 cm\n",
      "[] kpc\n",
      "YTSphere (DD1887): , center=[1.74719532e+23 1.69875518e+23 1.81800980e+23] cm cm, radius=6.26787493466596e+22 cm\n",
      "[] kpc\n",
      "YTSphere (DD1907): , center=[1.76208665e+23 1.71271547e+23 1.83364856e+23] cm cm, radius=6.288647175370451e+22 cm\n",
      "[] kpc\n",
      "YTSphere (DD1927): , center=[1.77705169e+23 1.72674286e+23 1.84933406e+23] cm cm, radius=6.33378995908688e+22 cm\n",
      "[] kpc\n",
      "YTSphere (DD1947): , center=[1.79205938e+23 1.74075259e+23 1.86504330e+23] cm cm, radius=6.378861948923936e+22 cm\n",
      "[] kpc\n",
      "YTSphere (DD1967): , center=[1.80713103e+23 1.75483603e+23 1.88083790e+23] cm cm, radius=6.407413088241786e+22 cm\n",
      "[] kpc\n",
      "YTSphere (DD1987): , center=[1.82226889e+23 1.76894052e+23 1.89666711e+23] cm cm, radius=6.434936315988289e+22 cm\n",
      "[] kpc\n",
      "YTSphere (DD2007): , center=[1.83745762e+23 1.78307324e+23 1.91251607e+23] cm cm, radius=6.467031809757874e+22 cm\n",
      "[] kpc\n",
      "YTSphere (DD2027): , center=[1.85275127e+23 1.79725667e+23 1.92846172e+23] cm cm, radius=6.498289412865352e+22 cm\n",
      "[] kpc\n",
      "YTSphere (DD2047): , center=[1.86807796e+23 1.81145697e+23 1.94442424e+23] cm cm, radius=6.53383815900899e+22 cm\n",
      "[] kpc\n",
      "YTSphere (DD2067): , center=[1.88348095e+23 1.82572805e+23 1.96045311e+23] cm cm, radius=6.552010434866687e+22 cm\n",
      "[] kpc\n",
      "YTSphere (DD2087): , center=[1.89897426e+23 1.84000407e+23 1.97653611e+23] cm cm, radius=6.591507269956578e+22 cm\n",
      "[] kpc\n",
      "YTSphere (DD2107): , center=[1.91451817e+23 1.85433994e+23 1.99265161e+23] cm cm, radius=6.621524059951217e+22 cm\n",
      "[] kpc\n",
      "YTSphere (DD2127): , center=[1.93018018e+23 1.86871628e+23 2.00887224e+23] cm cm, radius=6.660917997683384e+22 cm\n",
      "[] kpc\n",
      "YTSphere (DD2147): , center=[1.94588619e+23 1.88312306e+23 2.02510386e+23] cm cm, radius=6.694977807162066e+22 cm\n",
      "[] kpc\n",
      "YTSphere (DD2167): , center=[1.96169770e+23 1.89760450e+23 2.04142783e+23] cm cm, radius=6.7250345133930954e+22 cm\n",
      "[] kpc\n",
      "YTSphere (DD2187): , center=[1.97759150e+23 1.91208831e+23 2.05781250e+23] cm cm, radius=6.758874669690147e+22 cm\n",
      "[] kpc\n",
      "YTSphere (DD2207): , center=[1.99358260e+23 1.92664564e+23 2.07425193e+23] cm cm, radius=6.792614388291891e+22 cm\n",
      "[] kpc\n",
      "YTSphere (DD2227): , center=[2.00967703e+23 1.94125982e+23 2.09076861e+23] cm cm, radius=6.802856758691173e+22 cm\n",
      "[] kpc\n",
      "YTSphere (DD2247): , center=[2.02586083e+23 1.95590669e+23 2.10734514e+23] cm cm, radius=6.831560602198743e+22 cm\n",
      "[] kpc\n",
      "YTSphere (DD2267): , center=[2.04218678e+23 1.97064780e+23 2.12403135e+23] cm cm, radius=6.845631255561377e+22 cm\n",
      "[] kpc\n",
      "YTSphere (DD2287): , center=[2.05858795e+23 1.98540425e+23 2.14076307e+23] cm cm, radius=6.868819247493024e+22 cm\n",
      "[] kpc\n",
      "YTSphere (DD2307): , center=[2.07512338e+23 2.00026725e+23 2.15759930e+23] cm cm, radius=6.877444927071782e+22 cm\n",
      "[] kpc\n",
      "YTSphere (DD2327): , center=[2.09182279e+23 2.01519256e+23 2.17457585e+23] cm cm, radius=6.870986000078781e+22 cm\n",
      "[] kpc\n",
      "YTSphere (DD2347): , center=[2.10862665e+23 2.03019258e+23 2.19166860e+23] cm cm, radius=6.843587218819075e+22 cm\n",
      "[] kpc\n",
      "YTSphere (DD2367): , center=[2.12556730e+23 2.04531125e+23 2.20892131e+23] cm cm, radius=6.814319358735909e+22 cm\n",
      "[] kpc\n",
      "YTSphere (DD2387): , center=[2.14260371e+23 2.06051705e+23 2.22629704e+23] cm cm, radius=6.809288279095482e+22 cm\n",
      "[] kpc\n",
      "YTSphere (DD2407): , center=[2.15971145e+23 2.07590718e+23 2.24392556e+23] cm cm, radius=6.803266510478964e+22 cm\n",
      "[] kpc\n",
      "YTSphere (DD2427): , center=[2.17637812e+23 2.09100608e+23 2.26121028e+23] cm cm, radius=6.805805991161364e+22 cm\n",
      "[] kpc\n",
      "YTSphere (DD0047): , center=[3.16890633e+22 3.22202709e+22 3.15741540e+22] cm cm, radius=8.553538532509599e+21 cm\n",
      "[] kpc\n",
      "YTSphere (DD0067): , center=[3.40071026e+22 3.45451405e+22 3.39077165e+22] cm cm, radius=1.056128259178075e+22 cm\n",
      "[] kpc\n",
      "YTSphere (DD0087): , center=[3.62510211e+22 3.67902741e+22 3.61697113e+22] cm cm, radius=1.2475874360391438e+22 cm\n",
      "[] kpc\n",
      "YTSphere (DD0107): , center=[3.84282586e+22 3.89655426e+22 3.83674350e+22] cm cm, radius=1.4176339950895985e+22 cm\n",
      "[] kpc\n",
      "YTSphere (DD0127): , center=[4.05487580e+22 4.10790888e+22 4.05099008e+22] cm cm, radius=1.5522337885305094e+22 cm\n",
      "[] kpc\n",
      "YTSphere (DD0147): , center=[4.26165576e+22 4.31369107e+22 4.26009719e+22] cm cm, radius=1.6766865572334599e+22 cm\n",
      "[] kpc\n",
      "YTSphere (DD0167): , center=[4.46372498e+22 4.51449580e+22 4.46488092e+22] cm cm, radius=1.8336721632231307e+22 cm\n",
      "[] kpc\n",
      "YTSphere (DD0187): , center=[4.66159454e+22 4.71081022e+22 4.66546574e+22] cm cm, radius=1.961391084794993e+22 cm\n",
      "[] kpc\n",
      "YTSphere (DD0207): , center=[4.85559689e+22 4.90288133e+22 4.86256886e+22] cm cm, radius=2.083030688753495e+22 cm\n",
      "[] kpc\n",
      "YTSphere (DD0227): , center=[5.04603617e+22 5.09103391e+22 5.05597703e+22] cm cm, radius=2.2395573039768476e+22 cm\n",
      "[] kpc\n",
      "YTSphere (DD0247): , center=[5.23317358e+22 5.27579325e+22 5.24645092e+22] cm cm, radius=2.387312599635465e+22 cm\n"
     ]
    },
    {
     "name": "stdout",
     "output_type": "stream",
     "text": [
      "[] kpc\n",
      "YTSphere (DD0267): , center=[5.41749463e+22 5.45732926e+22 5.43404718e+22] cm cm, radius=2.554208837713574e+22 cm\n",
      "[] kpc\n",
      "YTSphere (DD0287): , center=[5.59909867e+22 5.63571891e+22 5.61902392e+22] cm cm, radius=2.863311851206455e+22 cm\n",
      "[] kpc\n",
      "YTSphere (DD0307): , center=[5.77805878e+22 5.81124910e+22 5.80152100e+22] cm cm, radius=3.0755078198863895e+22 cm\n",
      "[] kpc\n",
      "YTSphere (DD0327): , center=[5.95463485e+22 5.98430929e+22 5.98148080e+22] cm cm, radius=3.81804403470229e+22 cm\n",
      "[] kpc\n",
      "YTSphere (DD0347): , center=[6.12901522e+22 6.15500955e+22 6.15924687e+22] cm cm, radius=4.129095024020525e+22 cm\n",
      "[] kpc\n",
      "YTSphere (DD0367): , center=[6.30122182e+22 6.32322847e+22 6.33477797e+22] cm cm, radius=4.349714486252605e+22 cm\n",
      "[] kpc\n",
      "YTSphere (DD0387): , center=[6.47112637e+22 6.48977390e+22 6.50890825e+22] cm cm, radius=4.545032298932827e+22 cm\n",
      "[] kpc\n",
      "YTSphere (DD0407): , center=[6.63887264e+22 6.65430656e+22 6.68164142e+22] cm cm, radius=4.711230590928766e+22 cm\n",
      "[] kpc\n",
      "YTSphere (DD0427): , center=[6.80502392e+22 6.81699654e+22 6.85289369e+22] cm cm, radius=4.8372191537536835e+22 cm\n",
      "[] kpc\n",
      "YTSphere (DD0447): , center=[6.96966564e+22 6.97803274e+22 7.02274260e+22] cm cm, radius=4.980957292346208e+22 cm\n",
      "[] kpc\n",
      "YTSphere (DD0467): , center=[7.13280985e+22 7.13750274e+22 7.19132563e+22] cm cm, radius=5.0828864465794595e+22 cm\n",
      "[] kpc\n",
      "YTSphere (DD0487): , center=[7.29455534e+22 7.29512219e+22 7.35880248e+22] cm cm, radius=5.175410592292511e+22 cm\n",
      "[] kpc\n",
      "YTSphere (DD0507): , center=[7.45510886e+22 7.45092919e+22 7.52450828e+22] cm cm, radius=5.2493171034167175e+22 cm\n",
      "[] kpc\n",
      "YTSphere (DD0527): , center=[7.61418013e+22 7.60572192e+22 7.68890565e+22] cm cm, radius=5.372987713678483e+22 cm\n",
      "[] kpc\n",
      "YTSphere (DD0547): , center=[7.77217692e+22 7.75902971e+22 7.85224161e+22] cm cm, radius=5.511259297391325e+22 cm\n",
      "[] kpc\n",
      "YTSphere (DD0567): , center=[7.92890077e+22 7.91108569e+22 8.01474790e+22] cm cm, radius=5.6406379756311496e+22 cm\n",
      "[] kpc\n",
      "YTSphere (DD0587): , center=[8.08461816e+22 8.06194526e+22 8.17618444e+22] cm cm, radius=5.776862980358551e+22 cm\n",
      "[] kpc\n",
      "YTSphere (DD0607): , center=[8.23923857e+22 8.21168072e+22 8.33676822e+22] cm cm, radius=5.922363190915856e+22 cm\n",
      "[] kpc\n",
      "YTSphere (DD0627): , center=[8.39294869e+22 8.36022584e+22 8.49644381e+22] cm cm, radius=6.0485468058584095e+22 cm\n",
      "[] kpc\n",
      "YTSphere (DD0647): , center=[8.54580030e+22 8.50768803e+22 8.65533253e+22] cm cm, radius=6.185240872648567e+22 cm\n",
      "[] kpc\n",
      "YTSphere (DD0667): , center=[8.69774719e+22 8.65416769e+22 8.81351059e+22] cm cm, radius=6.281099340730022e+22 cm\n",
      "[] kpc\n",
      "YTSphere (DD0687): , center=[8.84897087e+22 8.79975497e+22 8.97096476e+22] cm cm, radius=6.387751919673387e+22 cm\n",
      "[] kpc\n",
      "YTSphere (DD0707): , center=[8.99942202e+22 8.94449293e+22 9.12765937e+22] cm cm, radius=6.505261886292266e+22 cm\n",
      "[] kpc\n",
      "YTSphere (DD0727): , center=[9.14913151e+22 9.08843598e+22 9.28389814e+22] cm cm, radius=6.64504835166874e+22 cm\n",
      "[] kpc\n",
      "YTSphere (DD0747): , center=[9.29811823e+22 9.23154891e+22 9.43946119e+22] cm cm, radius=6.769118460833062e+22 cm\n",
      "[] kpc\n",
      "YTSphere (DD0767): , center=[9.44645653e+22 9.37392040e+22 9.59458566e+22] cm cm, radius=6.890548241379955e+22 cm\n",
      "[] kpc\n",
      "YTSphere (DD0787): , center=[9.59424819e+22 9.51556016e+22 9.74932429e+22] cm cm, radius=6.984096214470385e+22 cm\n",
      "[] kpc\n",
      "YTSphere (DD0807): , center=[9.74141043e+22 9.65651330e+22 9.90349774e+22] cm cm, radius=7.11279390009544e+22 cm\n",
      "[] kpc\n",
      "YTSphere (DD0827): , center=[9.88810943e+22 9.79689205e+22 1.00573320e+23] cm cm, radius=7.273923222106186e+22 cm\n",
      "[] kpc\n",
      "YTSphere (DD0847): , center=[1.00342642e+23 9.93660777e+22 1.02108629e+23] cm cm, radius=7.4317884069280565e+22 cm\n",
      "[] kpc\n",
      "YTSphere (DD0867): , center=[1.01801000e+23 1.00757234e+23 1.03640712e+23] cm cm, radius=7.584801859682186e+22 cm\n",
      "[] kpc\n",
      "YTSphere (DD0887): , center=[1.03254009e+23 1.02143201e+23 1.05167863e+23] cm cm, radius=7.725757732928384e+22 cm\n",
      "[] kpc\n",
      "YTSphere (DD0907): , center=[1.04704294e+23 1.03523203e+23 1.06693102e+23] cm cm, radius=7.856915411293388e+22 cm\n",
      "[] kpc\n",
      "YTSphere (DD0927): , center=[1.06150418e+23 1.04897976e+23 1.08216332e+23] cm cm, radius=7.994467421654086e+22 cm\n",
      "[] kpc\n",
      "YTSphere (DD0947): , center=[1.07592715e+23 1.06268378e+23 1.09736232e+23] cm cm, radius=8.13712813442766e+22 cm\n",
      "[] kpc\n",
      "YTSphere (DD0967): , center=[1.08960164e+23 1.07565214e+23 1.11178116e+23] cm cm, radius=8.246189337348945e+22 cm\n",
      "[] kpc\n",
      "YTSphere (DD0987): , center=[1.10397858e+23 1.08927185e+23 1.12694563e+23] cm cm, radius=8.372550334798149e+22 cm\n",
      "[] kpc\n",
      "YTSphere (DD1007): , center=[1.11832591e+23 1.10284891e+23 1.14209904e+23] cm cm, radius=8.521684909688197e+22 cm\n",
      "[] kpc\n",
      "YTSphere (DD1027): , center=[1.13264833e+23 1.11638280e+23 1.15723915e+23] cm cm, radius=8.658304184093615e+22 cm\n",
      "[] kpc\n",
      "YTSphere (DD1047): , center=[1.14694744e+23 1.12987777e+23 1.17236967e+23] cm cm, radius=8.774234418317703e+22 cm\n",
      "[] kpc\n",
      "YTSphere (DD1067): , center=[1.16122601e+23 1.14334012e+23 1.18750097e+23] cm cm, radius=8.912835533304953e+22 cm\n",
      "[] kpc\n",
      "YTSphere (DD1087): , center=[1.17549923e+23 1.15677431e+23 1.20263314e+23] cm cm, radius=9.059697594121153e+22 cm\n",
      "[] kpc\n",
      "YTSphere (DD1107): , center=[1.18973213e+23 1.17017923e+23 1.21775266e+23] cm cm, radius=9.230084334251496e+22 cm\n",
      "[] kpc\n",
      "YTSphere (DD1127): , center=[1.20397891e+23 1.18355391e+23 1.23287544e+23] cm cm, radius=9.35530371180054e+22 cm\n",
      "[] kpc\n",
      "YTSphere (DD1147): , center=[1.21819370e+23 1.19690396e+23 1.24799637e+23] cm cm, radius=9.510014456825469e+22 cm\n",
      "[] kpc\n",
      "YTSphere (DD1167): , center=[1.23240952e+23 1.21022349e+23 1.26312787e+23] cm cm, radius=9.586478683876624e+22 cm\n",
      "[] kpc\n",
      "YTSphere (DD1187): , center=[1.24662533e+23 1.22351720e+23 1.27826806e+23] cm cm, radius=9.689737403301623e+22 cm\n",
      "[] kpc\n",
      "YTSphere (DD1207): , center=[1.26083800e+23 1.23678723e+23 1.29342649e+23] cm cm, radius=9.821766928545576e+22 cm\n",
      "[] kpc\n",
      "YTSphere (DD1227): , center=[1.27503970e+23 1.25002942e+23 1.30859099e+23] cm cm, radius=9.957368726741643e+22 cm\n",
      "[] kpc\n",
      "YTSphere (DD1247): , center=[1.28925545e+23 1.26324587e+23 1.32378126e+23] cm cm, radius=1.0058366723376996e+23 cm\n",
      "[] kpc\n",
      "YTSphere (DD1267): , center=[1.30347416e+23 1.27643923e+23 1.33898994e+23] cm cm, radius=1.0185140661295484e+23 cm\n",
      "[] kpc\n",
      "YTSphere (DD1287): , center=[1.31770291e+23 1.28960333e+23 1.35420654e+23] cm cm, radius=1.027984282342742e+23 cm\n",
      "[] kpc\n",
      "YTSphere (DD1307): , center=[1.33194735e+23 1.30273981e+23 1.36945382e+23] cm cm, radius=1.0340334093314626e+23 cm\n",
      "[] kpc\n",
      "YTSphere (DD1310): , center=[1.33408319e+23 1.30471030e+23 1.37174284e+23] cm cm, radius=1.0407732138779196e+23 cm\n",
      "[] kpc\n",
      "YTSphere (DD1311): , center=[1.33479449e+23 1.30536353e+23 1.37250797e+23] cm cm, radius=1.0358432836809596e+23 cm\n",
      "[] kpc\n",
      "YTSphere (DD1312): , center=[1.33550608e+23 1.30601966e+23 1.37327211e+23] cm cm, radius=1.0370236988951832e+23 cm\n",
      "[] kpc\n",
      "YTSphere (DD1313): , center=[1.33622064e+23 1.30667415e+23 1.37403377e+23] cm cm, radius=1.0377136652819338e+23 cm\n",
      "[] kpc\n",
      "YTSphere (DD1314): , center=[1.33693358e+23 1.30733154e+23 1.37479852e+23] cm cm, radius=1.0357394056105465e+23 cm\n",
      "[] kpc\n",
      "YTSphere (DD1315): , center=[1.33764488e+23 1.30798403e+23 1.37556187e+23] cm cm, radius=1.0432602772006901e+23 cm\n",
      "[] kpc\n",
      "YTSphere (DD1316): , center=[1.33835917e+23 1.30864079e+23 1.37632559e+23] cm cm, radius=1.0412312190477395e+23 cm\n",
      "[] kpc\n",
      "YTSphere (DD1318): , center=[1.33978475e+23 1.30994985e+23 1.37785332e+23] cm cm, radius=1.0383354183925311e+23 cm\n",
      "[] kpc\n",
      "YTSphere (DD1319): , center=[1.34049713e+23 1.31060461e+23 1.37861598e+23] cm cm, radius=1.0431709166439189e+23 cm\n",
      "[] kpc\n",
      "YTSphere (DD1320): , center=[1.34121060e+23 1.31126009e+23 1.37937982e+23] cm cm, radius=1.0448195148801728e+23 cm\n",
      "[] kpc\n",
      "YTSphere (DD1327): , center=[1.34619389e+23 1.31584183e+23 1.38472382e+23] cm cm, radius=1.0412384139154952e+23 cm\n",
      "[] kpc\n",
      "YTSphere (DD1347): , center=[1.36045679e+23 1.32890748e+23 1.40003800e+23] cm cm, radius=1.0412248786684833e+23 cm\n",
      "[] kpc\n",
      "YTSphere (DD1367): , center=[1.37475220e+23 1.34192265e+23 1.41538090e+23] cm cm, radius=1.0202286257632957e+23 cm\n",
      "[] kpc\n",
      "YTSphere (DD1387): , center=[1.38907885e+23 1.35488035e+23 1.43076256e+23] cm cm, radius=1.0277470795141629e+23 cm\n",
      "[] kpc\n",
      "YTSphere (DD1407): , center=[1.40342841e+23 1.36772408e+23 1.44618570e+23] cm cm, radius=9.397379280055549e+22 cm\n",
      "[] kpc\n",
      "YTSphere (DD1427): , center=[1.41788416e+23 1.38029604e+23 1.46158092e+23] cm cm, radius=6.383889486472889e+22 cm\n"
     ]
    },
    {
     "name": "stdout",
     "output_type": "stream",
     "text": [
      "[] kpc\n",
      "YTSphere (DD1447): , center=[1.43237656e+23 1.39284085e+23 1.47640765e+23] cm cm, radius=6.072620214546649e+22 cm\n",
      "[] kpc\n",
      "YTSphere (DD1487): , center=[1.46126241e+23 1.41880942e+23 1.50585026e+23] cm cm, radius=6.752986359070907e+22 cm\n",
      "[] kpc\n",
      "YTSphere (DD1507): , center=[1.47568317e+23 1.43200793e+23 1.52064999e+23] cm cm, radius=6.9964924548625195e+22 cm\n",
      "[] kpc\n",
      "YTSphere (DD1527): , center=[1.49010744e+23 1.44529849e+23 1.53549089e+23] cm cm, radius=6.81518769415817e+22 cm\n",
      "[] kpc\n",
      "YTSphere (DD1547): , center=[1.50453897e+23 1.45866583e+23 1.55040447e+23] cm cm, radius=7.037486362594584e+22 cm\n",
      "[] kpc\n",
      "YTSphere (DD1567): , center=[1.51898799e+23 1.47211040e+23 1.56536643e+23] cm cm, radius=7.054029045059645e+22 cm\n",
      "[] kpc\n",
      "YTSphere (DD1587): , center=[1.53344870e+23 1.48561454e+23 1.58039173e+23] cm cm, radius=6.9171159848456785e+22 cm\n",
      "[] kpc\n",
      "YTSphere (DD1607): , center=[1.54792439e+23 1.49917049e+23 1.59546469e+23] cm cm, radius=7.110587711662232e+22 cm\n",
      "[] kpc\n",
      "YTSphere (DD1627): , center=[1.56241978e+23 1.51278617e+23 1.61058481e+23] cm cm, radius=6.907289997555101e+22 cm\n",
      "[] kpc\n",
      "YTSphere (DD1647): , center=[1.57693915e+23 1.52646808e+23 1.62576777e+23] cm cm, radius=7.215791677752862e+22 cm\n",
      "[] kpc\n",
      "YTSphere (DD1667): , center=[1.59146005e+23 1.54019529e+23 1.64100592e+23] cm cm, radius=7.198191322689173e+22 cm\n",
      "[] kpc\n",
      "YTSphere (DD1687): , center=[1.60602130e+23 1.55398736e+23 1.65631037e+23] cm cm, radius=7.239348190160086e+22 cm\n",
      "[] kpc\n",
      "YTSphere (DD1707): , center=[1.62060240e+23 1.56786098e+23 1.67169577e+23] cm cm, radius=7.130819697728416e+22 cm\n",
      "[] kpc\n",
      "YTSphere (DD1727): , center=[1.63519910e+23 1.58176283e+23 1.68712481e+23] cm cm, radius=7.17030532359501e+22 cm\n",
      "[] kpc\n",
      "YTSphere (DD1747): , center=[1.64981144e+23 1.59574715e+23 1.70264509e+23] cm cm, radius=7.192741854915588e+22 cm\n",
      "[] kpc\n",
      "YTSphere (DD1767): , center=[1.66445832e+23 1.60980391e+23 1.71825467e+23] cm cm, radius=7.166835888950961e+22 cm\n",
      "[] kpc\n",
      "YTSphere (DD1787): , center=[1.67910022e+23 1.62391583e+23 1.73392526e+23] cm cm, radius=7.243675924892533e+22 cm\n",
      "[] kpc\n",
      "YTSphere (DD1807): , center=[1.69378768e+23 1.63811752e+23 1.74972069e+23] cm cm, radius=7.189232875204418e+22 cm\n",
      "[] kpc\n",
      "YTSphere (DD1827): , center=[1.70846149e+23 1.65239515e+23 1.76560865e+23] cm cm, radius=7.1721898623291236e+22 cm\n",
      "[] kpc\n",
      "YTSphere (DD1847): , center=[1.72311609e+23 1.66672556e+23 1.78162784e+23] cm cm, radius=7.103970158642453e+22 cm\n",
      "[] kpc\n",
      "YTSphere (DD1907): , center=[1.76656629e+23 1.70916987e+23 1.83084716e+23] cm cm, radius=4.984666033496178e+22 cm\n",
      "[] kpc\n",
      "YTSphere (DD1927): , center=[1.78125872e+23 1.72284573e+23 1.84700821e+23] cm cm, radius=5.721627742667159e+22 cm\n",
      "[] kpc\n",
      "YTSphere (DD1947): , center=[1.79610030e+23 1.73661421e+23 1.86305747e+23] cm cm, radius=5.72888486119326e+22 cm\n",
      "[] kpc\n",
      "YTSphere (DD1967): , center=[1.81109387e+23 1.75051885e+23 1.87910534e+23] cm cm, radius=5.62851759259484e+22 cm\n",
      "[] kpc\n",
      "YTSphere (DD1987): , center=[1.82619059e+23 1.76452959e+23 1.89514128e+23] cm cm, radius=5.5596806468362045e+22 cm\n",
      "[] kpc\n",
      "YTSphere (DD2007): , center=[1.84138060e+23 1.77864716e+23 1.91116796e+23] cm cm, radius=5.407102880212965e+22 cm\n",
      "[] kpc\n",
      "YTSphere (DD2027): , center=[1.85670775e+23 1.79291563e+23 1.92724140e+23] cm cm, radius=5.479900773535707e+22 cm\n",
      "[] kpc\n",
      "YTSphere (DD2047): , center=[1.87210393e+23 1.80727056e+23 1.94330726e+23] cm cm, radius=5.4913425827732834e+22 cm\n",
      "[] kpc\n",
      "YTSphere (DD2067): , center=[1.88762531e+23 1.82176742e+23 1.95940971e+23] cm cm, radius=5.533639052244413e+22 cm\n",
      "[] kpc\n",
      "YTSphere (DD2087): , center=[1.90324705e+23 1.83640658e+23 1.97553422e+23] cm cm, radius=5.593888430760251e+22 cm\n",
      "[] kpc\n",
      "YTSphere (DD2107): , center=[1.91897546e+23 1.85119890e+23 1.99167598e+23] cm cm, radius=5.580120760745266e+22 cm\n",
      "[] kpc\n",
      "YTSphere (DD2127): , center=[1.93486209e+23 1.86627152e+23 2.00789300e+23] cm cm, radius=5.366704314677705e+22 cm\n",
      "[] kpc\n",
      "YTSphere (DD2187): , center=[1.98168742e+23 1.91219182e+23 2.05844650e+23] cm cm, radius=5.044087192174239e+22 cm\n",
      "[] kpc\n",
      "YTSphere (DD2207): , center=[1.99723853e+23 1.92710089e+23 2.07541922e+23] cm cm, radius=4.99480915207711e+22 cm\n",
      "[] kpc\n",
      "YTSphere (DD2227): , center=[2.01289584e+23 1.94195699e+23 2.09237781e+23] cm cm, radius=4.985365466919341e+22 cm\n",
      "[] kpc\n",
      "YTSphere (DD2247): , center=[2.02862070e+23 1.95675556e+23 2.10928388e+23] cm cm, radius=5.03526348180002e+22 cm\n",
      "[] kpc\n",
      "YTSphere (DD2267): , center=[2.04450191e+23 1.97157603e+23 2.12622335e+23] cm cm, radius=5.076418300292221e+22 cm\n",
      "[] kpc\n",
      "YTSphere (DD2287): , center=[2.06046111e+23 1.98633894e+23 2.14309264e+23] cm cm, radius=5.066327332770285e+22 cm\n",
      "[] kpc\n",
      "YTSphere (DD2307): , center=[2.07659494e+23 2.00112746e+23 2.15995566e+23] cm cm, radius=5.107420727187385e+22 cm\n",
      "[] kpc\n",
      "YTSphere (DD2327): , center=[2.09290336e+23 2.01589115e+23 2.17672460e+23] cm cm, radius=5.006791489890129e+22 cm\n",
      "[] kpc\n",
      "YTSphere (DD2387): , center=[2.14326973e+23 2.06226365e+23 2.22743622e+23] cm cm, radius=4.893014357125383e+22 cm\n",
      "[] kpc\n",
      "YTSphere (DD2407): , center=[2.15984366e+23 2.07801629e+23 2.24492151e+23] cm cm, radius=4.894667776388771e+22 cm\n",
      "[] kpc\n",
      "YTSphere (DD2427): , center=[2.17590617e+23 2.09328504e+23 2.26204186e+23] cm cm, radius=4.9357521823824706e+22 cm\n",
      "[] kpc\n",
      "YTSphere (DD2247): , center=[2.02963272e+23 1.95550172e+23 2.10771078e+23] cm cm, radius=3.863405286611363e+22 cm\n",
      "[] kpc\n",
      "YTSphere (DD2267): , center=[2.04569933e+23 1.97093871e+23 2.12437818e+23] cm cm, radius=3.882335199319102e+22 cm\n",
      "[] kpc\n",
      "YTSphere (DD2287): , center=[2.06156406e+23 1.98616900e+23 2.14146766e+23] cm cm, radius=3.900701872864403e+22 cm\n",
      "[] kpc\n",
      "YTSphere (DD2307): , center=[2.07740046e+23 2.00108210e+23 2.15893095e+23] cm cm, radius=3.933481323719146e+22 cm\n",
      "[] kpc\n",
      "YTSphere (DD2327): , center=[2.09370279e+23 2.01536731e+23 2.17604225e+23] cm cm, radius=3.951853088410463e+22 cm\n",
      "[] kpc\n",
      "YTSphere (DD2347): , center=[2.11022936e+23 2.03047678e+23 2.19293845e+23] cm cm, radius=3.970167630875975e+22 cm\n",
      "[] kpc\n",
      "YTSphere (DD2367): , center=[2.12657493e+23 2.04599950e+23 2.21011511e+23] cm cm, radius=3.973247662776921e+22 cm\n",
      "[] kpc\n",
      "YTSphere (DD2407): , center=[2.15845595e+23 2.07664400e+23 2.24553494e+23] cm cm, radius=3.885062673687171e+22 cm\n",
      "[] kpc\n",
      "YTSphere (DD2427): , center=[2.17458399e+23 2.09131687e+23 2.26253601e+23] cm cm, radius=3.901273223585029e+22 cm\n",
      "[] kpc\n",
      "Success!\n"
     ]
    }
   ],
   "source": [
    "\"\"\"\n",
    "Now, we go through each of the satellites and get their respective mass profiles.\n",
    "\"\"\"\n",
    "\n",
    "bin_size = YTQuantity(0.25, 'kpc') # 250 pc is the resolution of the simulation\n",
    "\n",
    "starry_rvir = []\n",
    "starry_cen = []\n",
    "starry_spheres = []\n",
    "\n",
    "loc_allstars = []\n",
    "mass_allstars = []\n",
    "all_radius_arrays = []\n",
    "\n",
    "for halo in range(np.size(starry_idx)):\n",
    "    \n",
    "    # this goes through the halo at each timestep to find its Rvir and center position\n",
    "    for idx in range(np.size(all_rvirs[halo])):\n",
    "        each_cen = YTArray(all_centers[halo][idx][0], 'kpc')\n",
    "        each_rvir = YTQuantity(all_rvirs[halo][idx][0], 'kpc')\n",
    "        ds = all_available_snaps[halo][idx][0]\n",
    "            \n",
    "        # this uses yt to create spheres which contain the stars of each respective halo\n",
    "        halo_sphere = ds.sphere(center=each_cen,radius=each_rvir)\n",
    "        print(halo_sphere)\n",
    "        stars_loc = halo_sphere['stars','particle_position'].in_units('kpc')\n",
    "#        print(stars_loc)\n",
    "        corrected_stars_loc = stars_loc - each_cen # this places the halo center as the origin of its stars' coords\n",
    "        print(corrected_stars_loc)\n",
    "        stars_mass = halo_sphere['stars','particle_mass'].in_units('Msun')\n",
    "        \n",
    "        # if the halo in question does not have stars, we save their indices to keep ourselves informed\n",
    "        if np.size(corrected_stars_loc) != 0:\n",
    "            \n",
    "            center_position = np.sqrt(np.sum(each_cen ** 2))\n",
    "            radius_array = np.arange(YTQuantity(0.01, 'kpc'), each_rvir, bin_size)\n",
    "\n",
    "            # next, we add all the relevant star location and mass of the halo\n",
    "            # to some numpy arrays. this is meant to break down the for loop\n",
    "            # and help the code run faster.\n",
    "            loc_allstars.append(corrected_stars_loc)\n",
    "            mass_allstars.append(stars_mass)\n",
    "            all_radius_arrays.append(radius_array)\n",
    "            \n",
    "            # finally, add the rvir and mvir into lists for later analyses\n",
    "            starry_rvir.append(each_rvir)\n",
    "            starry_cen.append(each_cen)\n",
    "            starry_spheres.append(halo_sphere)\n",
    "            \n",
    "# with everything done, we remove the irrelevant rvir and mvir (irrelevant as in \n",
    "# not containing stars) for convenience in the upcoming analyses.\n",
    "\n",
    "starry_rvir = np.array(starry_rvir, dtype='object')\n",
    "starry_cen = YTArray(starry_cen, 'kpc')\n",
    "starry_spheres = np.array(starry_spheres, dtype='object')\n",
    "\n",
    "loc_allstars = np.array(loc_allstars, dtype='object')\n",
    "mass_allstars = np.array(mass_allstars, dtype='object')\n",
    "all_radius_arrays = np.array(all_radius_arrays, dtype='object')\n",
    "\n",
    "print('Success!')"
   ]
  },
  {
   "cell_type": "code",
   "execution_count": 172,
   "id": "00f96292",
   "metadata": {},
   "outputs": [
    {
     "name": "stdout",
     "output_type": "stream",
     "text": [
      "[]\n"
     ]
    }
   ],
   "source": [
    "print(starry_rvir)"
   ]
  },
  {
   "cell_type": "code",
   "execution_count": null,
   "id": "6b6e9310",
   "metadata": {},
   "outputs": [],
   "source": []
  }
 ],
 "metadata": {
  "kernelspec": {
   "display_name": "Python 3 (ipykernel)",
   "language": "python",
   "name": "python3"
  },
  "language_info": {
   "codemirror_mode": {
    "name": "ipython",
    "version": 3
   },
   "file_extension": ".py",
   "mimetype": "text/x-python",
   "name": "python",
   "nbconvert_exporter": "python",
   "pygments_lexer": "ipython3",
   "version": "3.9.13"
  }
 },
 "nbformat": 4,
 "nbformat_minor": 5
}
