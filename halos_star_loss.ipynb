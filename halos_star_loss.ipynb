{
 "cells": [
  {
   "cell_type": "code",
   "execution_count": 1,
   "id": "21144156",
   "metadata": {},
   "outputs": [],
   "source": [
    "import h5py\n",
    "import tangos as db\n",
    "import numpy as np\n",
    "import matplotlib.pyplot as plt\n",
    "from mpl_toolkits.axes_grid1 import AxesGrid\n",
    "import random\n",
    "\n",
    "import foggie.utils.foggie_load as fog\n",
    "import yt\n",
    "from yt.units.yt_array import YTQuantity, YTArray\n",
    "from yt.data_objects.particle_filters import add_particle_filter\n",
    "\n",
    "import glob\n",
    "from tangos.examples.misc import timestep_index"
   ]
  },
  {
   "cell_type": "code",
   "execution_count": 2,
   "id": "64989f60",
   "metadata": {},
   "outputs": [
    {
     "data": {
      "text/plain": [
       "[<Simulation(\"Tempest.9f11c.all.DD\")>]"
      ]
     },
     "execution_count": 2,
     "metadata": {},
     "output_type": "execute_result"
    }
   ],
   "source": [
    "db.all_simulations()"
   ]
  },
  {
   "cell_type": "code",
   "execution_count": 3,
   "id": "ec9c64c7",
   "metadata": {},
   "outputs": [],
   "source": [
    "sim = db.get_simulation('Tempest.9f11c.all.DD')"
   ]
  },
  {
   "cell_type": "code",
   "execution_count": 4,
   "id": "55ec788b",
   "metadata": {},
   "outputs": [
    {
     "name": "stdout",
     "output_type": "stream",
     "text": [
      "[<Halo 'Tempest.9f11c.all.DD/DD2427/DD2427/halo_21' | NDM=517 Nstar=0 Ngas=0>]\n"
     ]
    }
   ],
   "source": [
    "all_sats = sim[-1][1].calculate('Satellites()')\n",
    "\n",
    "sats = np.array([], dtype='object')\n",
    "#starry_idx = np.array([21, 51, 109], dtype='object')\n",
    "starry_idx = np.array([21], dtype='object')\n",
    "\n",
    "for i in range(np.size(all_sats)):\n",
    "    if all_sats[i].halo_number in starry_idx:\n",
    "        sats = np.append(sats, all_sats[i]) # this ensures we're only checking for the verified starry halos\n",
    "        \n",
    "print(sats)"
   ]
  },
  {
   "cell_type": "code",
   "execution_count": 5,
   "id": "f0ab36b2",
   "metadata": {},
   "outputs": [
    {
     "name": "stdout",
     "output_type": "stream",
     "text": [
      "Success!\n"
     ]
    }
   ],
   "source": [
    "\"\"\"\n",
    "First, we find all the properties of the progenitors \n",
    "for the star-forming surviving satellites.\n",
    "\"\"\"\n",
    "\n",
    "all_sat_cen = []\n",
    "all_sat_rvir = []\n",
    "all_sat_t = []\n",
    "\n",
    "for sat_idx in starry_idx:\n",
    "    if isinstance(sim[-1][sat_idx], type(None)) is False:\n",
    "        mvir, cen, rvir, t = sim[-1][sat_idx].calculate_for_progenitors('Mvir', 'Center', 'Rvir', 't()')\n",
    "\n",
    "        all_sat_cen.append(cen) # this compiles an array of all the progenitors' centers\n",
    "        all_sat_rvir.append(rvir) # this compiles an array of all the progenitors' virial radii\n",
    "        all_sat_t.append(t)\n",
    "\n",
    "all_sat_cen = np.array(all_sat_cen[0], dtype='object')\n",
    "all_sat_rvir = np.array(all_sat_rvir[0], dtype='object')\n",
    "all_sat_t = np.array(all_sat_t[0], dtype='object')\n",
    "\n",
    "print('Success!')"
   ]
  },
  {
   "cell_type": "code",
   "execution_count": 151,
   "id": "e6b744b3",
   "metadata": {},
   "outputs": [],
   "source": [
    "tslist = glob.glob('/Volumes/TempestTimeSteps/DD????/DD????') \n",
    "tslist.sort()"
   ]
  },
  {
   "cell_type": "code",
   "execution_count": 152,
   "id": "c66e2776",
   "metadata": {
    "scrolled": true
   },
   "outputs": [
    {
     "name": "stderr",
     "output_type": "stream",
     "text": [
      "yt : [WARNING  ] 2022-07-19 18:01:10,579 The stars particle filter already exists. Overriding.\n"
     ]
    },
    {
     "name": "stdout",
     "output_type": "stream",
     "text": [
      "Opening snapshot /Volumes/TempestTimeSteps/DD0047/DD0047\n"
     ]
    },
    {
     "name": "stderr",
     "output_type": "stream",
     "text": [
      "yt : [INFO     ] 2022-07-19 18:01:10,819 Parameters: current_time              = 44.816527818285\n",
      "yt : [INFO     ] 2022-07-19 18:01:10,822 Parameters: domain_dimensions         = [256 256 256]\n",
      "yt : [INFO     ] 2022-07-19 18:01:10,828 Parameters: domain_left_edge          = [0. 0. 0.]\n",
      "yt : [INFO     ] 2022-07-19 18:01:10,834 Parameters: domain_right_edge         = [1. 1. 1.]\n",
      "yt : [INFO     ] 2022-07-19 18:01:10,835 Parameters: cosmological_simulation   = 1\n",
      "yt : [INFO     ] 2022-07-19 18:01:10,836 Parameters: current_redshift          = 5.9180766004715\n",
      "yt : [INFO     ] 2022-07-19 18:01:10,837 Parameters: omega_lambda              = 0.715\n",
      "yt : [INFO     ] 2022-07-19 18:01:10,838 Parameters: omega_matter              = 0.285\n",
      "yt : [INFO     ] 2022-07-19 18:01:10,838 Parameters: omega_radiation           = 0.0\n",
      "yt : [INFO     ] 2022-07-19 18:01:10,839 Parameters: hubble_constant           = 0.695\n"
     ]
    },
    {
     "name": "stdout",
     "output_type": "stream",
     "text": [
      "get_refine_box: using this location:      col1       col2     col3     col4     col5     col6     col7   col8\n",
      "------------- -------- -------- -------- -------- -------- -------- ----\n",
      "5.91807660047 0.495372 0.494815 0.499965 0.497372 0.496815 0.501965    9\n"
     ]
    },
    {
     "name": "stderr",
     "output_type": "stream",
     "text": [
      "Parsing Hierarchy : 100%|████████████████| 2486/2486 [00:00<00:00, 10770.19it/s]\n",
      "yt : [INFO     ] 2022-07-19 18:01:11,295 Gathering a field list (this may take a moment.)\n"
     ]
    },
    {
     "name": "stdout",
     "output_type": "stream",
     "text": [
      "Pulling halo center from catalog file\n",
      "Opening snapshot /Volumes/TempestTimeSteps/DD0067/DD0067\n"
     ]
    },
    {
     "name": "stderr",
     "output_type": "stream",
     "text": [
      "yt : [INFO     ] 2022-07-19 18:01:15,267 Parameters: current_time              = 49.816527818285\n",
      "yt : [INFO     ] 2022-07-19 18:01:15,271 Parameters: domain_dimensions         = [256 256 256]\n",
      "yt : [INFO     ] 2022-07-19 18:01:15,274 Parameters: domain_left_edge          = [0. 0. 0.]\n",
      "yt : [INFO     ] 2022-07-19 18:01:15,277 Parameters: domain_right_edge         = [1. 1. 1.]\n",
      "yt : [INFO     ] 2022-07-19 18:01:15,278 Parameters: cosmological_simulation   = 1\n",
      "yt : [INFO     ] 2022-07-19 18:01:15,279 Parameters: current_redshift          = 5.4457876966805\n",
      "yt : [INFO     ] 2022-07-19 18:01:15,280 Parameters: omega_lambda              = 0.715\n",
      "yt : [INFO     ] 2022-07-19 18:01:15,280 Parameters: omega_matter              = 0.285\n",
      "yt : [INFO     ] 2022-07-19 18:01:15,281 Parameters: omega_radiation           = 0.0\n",
      "yt : [INFO     ] 2022-07-19 18:01:15,282 Parameters: hubble_constant           = 0.695\n"
     ]
    },
    {
     "name": "stdout",
     "output_type": "stream",
     "text": [
      "get_refine_box: using this location:      col1       col2     col3     col4     col5     col6     col7   col8\n",
      "------------- -------- -------- -------- -------- -------- -------- ----\n",
      "5.44578769668 0.495286 0.494378 0.499998 0.497286 0.496378 0.501998    9\n"
     ]
    },
    {
     "name": "stderr",
     "output_type": "stream",
     "text": [
      "Parsing Hierarchy : 100%|████████████████| 2552/2552 [00:00<00:00, 12802.24it/s]\n",
      "yt : [INFO     ] 2022-07-19 18:01:15,780 Gathering a field list (this may take a moment.)\n"
     ]
    },
    {
     "name": "stdout",
     "output_type": "stream",
     "text": [
      "Pulling halo center from catalog file\n",
      "Opening snapshot /Volumes/TempestTimeSteps/DD0087/DD0087\n"
     ]
    },
    {
     "name": "stderr",
     "output_type": "stream",
     "text": [
      "yt : [INFO     ] 2022-07-19 18:01:19,811 Parameters: current_time              = 54.816527818285\n",
      "yt : [INFO     ] 2022-07-19 18:01:19,815 Parameters: domain_dimensions         = [256 256 256]\n",
      "yt : [INFO     ] 2022-07-19 18:01:19,818 Parameters: domain_left_edge          = [0. 0. 0.]\n",
      "yt : [INFO     ] 2022-07-19 18:01:19,821 Parameters: domain_right_edge         = [1. 1. 1.]\n",
      "yt : [INFO     ] 2022-07-19 18:01:19,822 Parameters: cosmological_simulation   = 1\n",
      "yt : [INFO     ] 2022-07-19 18:01:19,822 Parameters: current_redshift          = 5.0462906237837\n",
      "yt : [INFO     ] 2022-07-19 18:01:19,823 Parameters: omega_lambda              = 0.715\n",
      "yt : [INFO     ] 2022-07-19 18:01:19,824 Parameters: omega_matter              = 0.285\n",
      "yt : [INFO     ] 2022-07-19 18:01:19,824 Parameters: omega_radiation           = 0.0\n",
      "yt : [INFO     ] 2022-07-19 18:01:19,825 Parameters: hubble_constant           = 0.695\n"
     ]
    },
    {
     "name": "stdout",
     "output_type": "stream",
     "text": [
      "get_refine_box: using this location:      col1       col2     col3     col4     col5     col6     col7   col8\n",
      "------------- -------- -------- -------- -------- -------- -------- ----\n",
      "5.04629062378 0.495184 0.493952 0.500023 0.497184 0.495952 0.502023    9\n"
     ]
    },
    {
     "name": "stderr",
     "output_type": "stream",
     "text": [
      "Parsing Hierarchy : 100%|██████████████████| 3377/3377 [00:03<00:00, 958.38it/s]\n",
      "yt : [INFO     ] 2022-07-19 18:01:23,572 Gathering a field list (this may take a moment.)\n"
     ]
    },
    {
     "name": "stdout",
     "output_type": "stream",
     "text": [
      "Pulling halo center from catalog file\n",
      "Opening snapshot /Volumes/TempestTimeSteps/DD0107/DD0107\n"
     ]
    },
    {
     "name": "stderr",
     "output_type": "stream",
     "text": [
      "yt : [INFO     ] 2022-07-19 18:01:27,276 Parameters: current_time              = 59.816527818285\n",
      "yt : [INFO     ] 2022-07-19 18:01:27,279 Parameters: domain_dimensions         = [256 256 256]\n",
      "yt : [INFO     ] 2022-07-19 18:01:27,282 Parameters: domain_left_edge          = [0. 0. 0.]\n",
      "yt : [INFO     ] 2022-07-19 18:01:27,285 Parameters: domain_right_edge         = [1. 1. 1.]\n",
      "yt : [INFO     ] 2022-07-19 18:01:27,286 Parameters: cosmological_simulation   = 1\n",
      "yt : [INFO     ] 2022-07-19 18:01:27,287 Parameters: current_redshift          = 4.7031121100648\n",
      "yt : [INFO     ] 2022-07-19 18:01:27,288 Parameters: omega_lambda              = 0.715\n",
      "yt : [INFO     ] 2022-07-19 18:01:27,288 Parameters: omega_matter              = 0.285\n",
      "yt : [INFO     ] 2022-07-19 18:01:27,289 Parameters: omega_radiation           = 0.0\n",
      "yt : [INFO     ] 2022-07-19 18:01:27,290 Parameters: hubble_constant           = 0.695\n"
     ]
    },
    {
     "name": "stdout",
     "output_type": "stream",
     "text": [
      "get_refine_box: using this location:      col1       col2     col3     col4     col5     col6     col7   col8\n",
      "------------- -------- -------- -------- -------- -------- -------- ----\n",
      "4.70311211006 0.495072 0.493546 0.500035 0.497072 0.495546 0.502035    9\n"
     ]
    },
    {
     "name": "stderr",
     "output_type": "stream",
     "text": [
      "Parsing Hierarchy : 100%|████████████████| 2935/2935 [00:00<00:00, 13463.93it/s]\n",
      "yt : [INFO     ] 2022-07-19 18:01:27,711 Gathering a field list (this may take a moment.)\n",
      "yt : [INFO     ] 2022-07-19 18:01:31,279 Parameters: current_time              = 64.816527818285\n",
      "yt : [INFO     ] 2022-07-19 18:01:31,282 Parameters: domain_dimensions         = [256 256 256]\n",
      "yt : [INFO     ] 2022-07-19 18:01:31,285 Parameters: domain_left_edge          = [0. 0. 0.]\n",
      "yt : [INFO     ] 2022-07-19 18:01:31,288 Parameters: domain_right_edge         = [1. 1. 1.]\n",
      "yt : [INFO     ] 2022-07-19 18:01:31,288 Parameters: cosmological_simulation   = 1\n",
      "yt : [INFO     ] 2022-07-19 18:01:31,289 Parameters: current_redshift          = 4.4045037292232\n",
      "yt : [INFO     ] 2022-07-19 18:01:31,290 Parameters: omega_lambda              = 0.715\n",
      "yt : [INFO     ] 2022-07-19 18:01:31,290 Parameters: omega_matter              = 0.285\n",
      "yt : [INFO     ] 2022-07-19 18:01:31,291 Parameters: omega_radiation           = 0.0\n",
      "yt : [INFO     ] 2022-07-19 18:01:31,292 Parameters: hubble_constant           = 0.695\n"
     ]
    },
    {
     "name": "stdout",
     "output_type": "stream",
     "text": [
      "Pulling halo center from catalog file\n",
      "Opening snapshot /Volumes/TempestTimeSteps/DD0127/DD0127\n",
      "get_refine_box: using this location:      col1       col2     col3     col4     col5     col6     col7   col8\n",
      "------------- -------- -------- -------- -------- -------- -------- ----\n",
      "4.40450372922 0.494955 0.493147 0.500046 0.496955 0.495147 0.502046    9\n"
     ]
    },
    {
     "name": "stderr",
     "output_type": "stream",
     "text": [
      "Parsing Hierarchy : 100%|████████████████| 3485/3485 [00:00<00:00, 13936.72it/s]\n",
      "yt : [INFO     ] 2022-07-19 18:01:31,842 Gathering a field list (this may take a moment.)\n",
      "yt : [INFO     ] 2022-07-19 18:01:35,401 Parameters: current_time              = 69.816527818285\n",
      "yt : [INFO     ] 2022-07-19 18:01:35,404 Parameters: domain_dimensions         = [256 256 256]\n",
      "yt : [INFO     ] 2022-07-19 18:01:35,407 Parameters: domain_left_edge          = [0. 0. 0.]\n",
      "yt : [INFO     ] 2022-07-19 18:01:35,410 Parameters: domain_right_edge         = [1. 1. 1.]\n",
      "yt : [INFO     ] 2022-07-19 18:01:35,411 Parameters: cosmological_simulation   = 1\n",
      "yt : [INFO     ] 2022-07-19 18:01:35,411 Parameters: current_redshift          = 4.1418420875174\n",
      "yt : [INFO     ] 2022-07-19 18:01:35,412 Parameters: omega_lambda              = 0.715\n",
      "yt : [INFO     ] 2022-07-19 18:01:35,413 Parameters: omega_matter              = 0.285\n",
      "yt : [INFO     ] 2022-07-19 18:01:35,413 Parameters: omega_radiation           = 0.0\n",
      "yt : [INFO     ] 2022-07-19 18:01:35,414 Parameters: hubble_constant           = 0.695\n"
     ]
    },
    {
     "name": "stdout",
     "output_type": "stream",
     "text": [
      "Pulling halo center from catalog file\n",
      "Opening snapshot /Volumes/TempestTimeSteps/DD0147/DD0147\n",
      "get_refine_box: using this location:      col1       col2     col3     col4    col5     col6     col7  col8\n",
      "------------- -------- -------- ------- -------- -------- ------- ----\n",
      "4.14184208752 0.494868 0.492768 0.50004 0.496868 0.494768 0.50204    9\n"
     ]
    },
    {
     "name": "stderr",
     "output_type": "stream",
     "text": [
      "Parsing Hierarchy : 100%|████████████████| 6292/6292 [00:00<00:00, 14420.90it/s]\n",
      "yt : [INFO     ] 2022-07-19 18:01:36,156 Gathering a field list (this may take a moment.)\n",
      "yt : [INFO     ] 2022-07-19 18:01:39,627 Parameters: current_time              = 74.816527818285\n",
      "yt : [INFO     ] 2022-07-19 18:01:39,630 Parameters: domain_dimensions         = [256 256 256]\n",
      "yt : [INFO     ] 2022-07-19 18:01:39,633 Parameters: domain_left_edge          = [0. 0. 0.]\n",
      "yt : [INFO     ] 2022-07-19 18:01:39,636 Parameters: domain_right_edge         = [1. 1. 1.]\n",
      "yt : [INFO     ] 2022-07-19 18:01:39,637 Parameters: cosmological_simulation   = 1\n",
      "yt : [INFO     ] 2022-07-19 18:01:39,638 Parameters: current_redshift          = 3.9086423517129\n",
      "yt : [INFO     ] 2022-07-19 18:01:39,638 Parameters: omega_lambda              = 0.715\n",
      "yt : [INFO     ] 2022-07-19 18:01:39,639 Parameters: omega_matter              = 0.285\n",
      "yt : [INFO     ] 2022-07-19 18:01:39,639 Parameters: omega_radiation           = 0.0\n",
      "yt : [INFO     ] 2022-07-19 18:01:39,640 Parameters: hubble_constant           = 0.695\n"
     ]
    },
    {
     "name": "stdout",
     "output_type": "stream",
     "text": [
      "Pulling halo center from catalog file\n",
      "Opening snapshot /Volumes/TempestTimeSteps/DD0167/DD0167\n",
      "get_refine_box: using this location:      col1       col2     col3     col4     col5     col6     col7   col8\n",
      "------------- -------- -------- -------- -------- -------- -------- ----\n",
      "3.90864235171 0.494765 0.492417 0.500025 0.496765 0.494417 0.502025    9\n"
     ]
    },
    {
     "name": "stderr",
     "output_type": "stream",
     "text": [
      "Parsing Hierarchy : 100%|████████████████| 6349/6349 [00:00<00:00, 14195.67it/s]\n",
      "yt : [INFO     ] 2022-07-19 18:01:40,470 Gathering a field list (this may take a moment.)\n",
      "yt : [INFO     ] 2022-07-19 18:01:43,919 Parameters: current_time              = 79.816527818285\n",
      "yt : [INFO     ] 2022-07-19 18:01:43,922 Parameters: domain_dimensions         = [256 256 256]\n",
      "yt : [INFO     ] 2022-07-19 18:01:43,925 Parameters: domain_left_edge          = [0. 0. 0.]\n",
      "yt : [INFO     ] 2022-07-19 18:01:43,927 Parameters: domain_right_edge         = [1. 1. 1.]\n",
      "yt : [INFO     ] 2022-07-19 18:01:43,928 Parameters: cosmological_simulation   = 1\n",
      "yt : [INFO     ] 2022-07-19 18:01:43,929 Parameters: current_redshift          = 3.6999259804031\n",
      "yt : [INFO     ] 2022-07-19 18:01:43,929 Parameters: omega_lambda              = 0.715\n",
      "yt : [INFO     ] 2022-07-19 18:01:43,930 Parameters: omega_matter              = 0.285\n",
      "yt : [INFO     ] 2022-07-19 18:01:43,931 Parameters: omega_radiation           = 0.0\n",
      "yt : [INFO     ] 2022-07-19 18:01:43,931 Parameters: hubble_constant           = 0.695\n"
     ]
    },
    {
     "name": "stdout",
     "output_type": "stream",
     "text": [
      "Pulling halo center from catalog file\n",
      "Opening snapshot /Volumes/TempestTimeSteps/DD0187/DD0187\n",
      "get_refine_box: using this location:     col1       col2     col3     col4     col5     col6     col7   col8\n",
      "------------ -------- -------- -------- -------- -------- -------- ----\n",
      "3.6999259804 0.494633 0.492127 0.500014 0.496633 0.494127 0.502014    9\n"
     ]
    },
    {
     "name": "stderr",
     "output_type": "stream",
     "text": [
      "Parsing Hierarchy : 100%|████████████████| 6152/6152 [00:00<00:00, 14449.32it/s]\n",
      "yt : [INFO     ] 2022-07-19 18:01:44,728 Gathering a field list (this may take a moment.)\n"
     ]
    },
    {
     "name": "stdout",
     "output_type": "stream",
     "text": [
      "Pulling halo center from catalog file\n",
      "Opening snapshot /Volumes/TempestTimeSteps/DD0207/DD0207\n"
     ]
    },
    {
     "name": "stderr",
     "output_type": "stream",
     "text": [
      "yt : [INFO     ] 2022-07-19 18:01:49,067 Parameters: current_time              = 84.816527818285\n",
      "yt : [INFO     ] 2022-07-19 18:01:49,071 Parameters: domain_dimensions         = [256 256 256]\n",
      "yt : [INFO     ] 2022-07-19 18:01:49,075 Parameters: domain_left_edge          = [0. 0. 0.]\n",
      "yt : [INFO     ] 2022-07-19 18:01:49,081 Parameters: domain_right_edge         = [1. 1. 1.]\n",
      "yt : [INFO     ] 2022-07-19 18:01:49,082 Parameters: cosmological_simulation   = 1\n",
      "yt : [INFO     ] 2022-07-19 18:01:49,083 Parameters: current_redshift          = 3.5118019373691\n",
      "yt : [INFO     ] 2022-07-19 18:01:49,084 Parameters: omega_lambda              = 0.715\n",
      "yt : [INFO     ] 2022-07-19 18:01:49,084 Parameters: omega_matter              = 0.285\n",
      "yt : [INFO     ] 2022-07-19 18:01:49,085 Parameters: omega_radiation           = 0.0\n",
      "yt : [INFO     ] 2022-07-19 18:01:49,086 Parameters: hubble_constant           = 0.695\n"
     ]
    },
    {
     "name": "stdout",
     "output_type": "stream",
     "text": [
      "get_refine_box: using this location:      col1       col2     col3     col4     col5     col6     col7   col8\n",
      "------------- -------- -------- -------- -------- -------- -------- ----\n",
      "3.51180193737 0.494517 0.491822 0.500016 0.496517 0.493822 0.502016    9\n"
     ]
    },
    {
     "name": "stderr",
     "output_type": "stream",
     "text": [
      "Parsing Hierarchy : 100%|█████████████████| 7873/7873 [00:03<00:00, 2506.60it/s]\n",
      "yt : [INFO     ] 2022-07-19 18:01:52,708 Gathering a field list (this may take a moment.)\n",
      "yt : [INFO     ] 2022-07-19 18:01:56,299 Parameters: current_time              = 89.816527818285\n",
      "yt : [INFO     ] 2022-07-19 18:01:56,302 Parameters: domain_dimensions         = [256 256 256]\n",
      "yt : [INFO     ] 2022-07-19 18:01:56,305 Parameters: domain_left_edge          = [0. 0. 0.]\n",
      "yt : [INFO     ] 2022-07-19 18:01:56,308 Parameters: domain_right_edge         = [1. 1. 1.]\n",
      "yt : [INFO     ] 2022-07-19 18:01:56,309 Parameters: cosmological_simulation   = 1\n",
      "yt : [INFO     ] 2022-07-19 18:01:56,310 Parameters: current_redshift          = 3.3411813479609\n",
      "yt : [INFO     ] 2022-07-19 18:01:56,310 Parameters: omega_lambda              = 0.715\n",
      "yt : [INFO     ] 2022-07-19 18:01:56,311 Parameters: omega_matter              = 0.285\n",
      "yt : [INFO     ] 2022-07-19 18:01:56,312 Parameters: omega_radiation           = 0.0\n",
      "yt : [INFO     ] 2022-07-19 18:01:56,312 Parameters: hubble_constant           = 0.695\n"
     ]
    },
    {
     "name": "stdout",
     "output_type": "stream",
     "text": [
      "Pulling halo center from catalog file\n",
      "Opening snapshot /Volumes/TempestTimeSteps/DD0227/DD0227\n",
      "get_refine_box: using this location:      col1       col2     col3     col4     col5     col6     col7   col8\n",
      "------------- -------- -------- -------- -------- -------- -------- ----\n",
      "3.34118134796 0.494362 0.491438 0.500094 0.496362 0.493438 0.502094    9\n"
     ]
    },
    {
     "name": "stderr",
     "output_type": "stream",
     "text": [
      "Parsing Hierarchy : 100%|██████████████| 10646/10646 [00:00<00:00, 12873.43it/s]\n",
      "yt : [INFO     ] 2022-07-19 18:01:57,610 Gathering a field list (this may take a moment.)\n",
      "yt : [INFO     ] 2022-07-19 18:02:01,159 Parameters: current_time              = 94.816527818285\n",
      "yt : [INFO     ] 2022-07-19 18:02:01,162 Parameters: domain_dimensions         = [256 256 256]\n",
      "yt : [INFO     ] 2022-07-19 18:02:01,165 Parameters: domain_left_edge          = [0. 0. 0.]\n",
      "yt : [INFO     ] 2022-07-19 18:02:01,168 Parameters: domain_right_edge         = [1. 1. 1.]\n",
      "yt : [INFO     ] 2022-07-19 18:02:01,169 Parameters: cosmological_simulation   = 1\n",
      "yt : [INFO     ] 2022-07-19 18:02:01,170 Parameters: current_redshift          = 3.1855782341013\n",
      "yt : [INFO     ] 2022-07-19 18:02:01,170 Parameters: omega_lambda              = 0.715\n",
      "yt : [INFO     ] 2022-07-19 18:02:01,171 Parameters: omega_matter              = 0.285\n",
      "yt : [INFO     ] 2022-07-19 18:02:01,172 Parameters: omega_radiation           = 0.0\n",
      "yt : [INFO     ] 2022-07-19 18:02:01,172 Parameters: hubble_constant           = 0.695\n"
     ]
    },
    {
     "name": "stdout",
     "output_type": "stream",
     "text": [
      "Pulling halo center from catalog file\n",
      "Opening snapshot /Volumes/TempestTimeSteps/DD0247/DD0247\n",
      "get_refine_box: using this location:     col1       col2     col3     col4     col5     col6     col7   col8\n",
      "------------ -------- -------- -------- -------- -------- -------- ----\n",
      "3.1855782341 0.494234 0.491145 0.500166 0.496234 0.493145 0.502166    9\n"
     ]
    },
    {
     "name": "stderr",
     "output_type": "stream",
     "text": [
      "Parsing Hierarchy : 100%|██████████████| 10738/10738 [00:00<00:00, 12748.13it/s]\n",
      "yt : [INFO     ] 2022-07-19 18:02:02,530 Gathering a field list (this may take a moment.)\n",
      "yt : [INFO     ] 2022-07-19 18:02:05,958 Parameters: current_time              = 99.816527818285\n",
      "yt : [INFO     ] 2022-07-19 18:02:05,961 Parameters: domain_dimensions         = [256 256 256]\n",
      "yt : [INFO     ] 2022-07-19 18:02:05,964 Parameters: domain_left_edge          = [0. 0. 0.]\n",
      "yt : [INFO     ] 2022-07-19 18:02:05,968 Parameters: domain_right_edge         = [1. 1. 1.]\n",
      "yt : [INFO     ] 2022-07-19 18:02:05,969 Parameters: cosmological_simulation   = 1\n",
      "yt : [INFO     ] 2022-07-19 18:02:05,969 Parameters: current_redshift          = 3.0429673207448\n",
      "yt : [INFO     ] 2022-07-19 18:02:05,970 Parameters: omega_lambda              = 0.715\n",
      "yt : [INFO     ] 2022-07-19 18:02:05,970 Parameters: omega_matter              = 0.285\n",
      "yt : [INFO     ] 2022-07-19 18:02:05,971 Parameters: omega_radiation           = 0.0\n"
     ]
    },
    {
     "name": "stdout",
     "output_type": "stream",
     "text": [
      "Pulling halo center from catalog file\n",
      "Opening snapshot /Volumes/TempestTimeSteps/DD0267/DD0267\n"
     ]
    },
    {
     "name": "stderr",
     "output_type": "stream",
     "text": [
      "yt : [INFO     ] 2022-07-19 18:02:05,971 Parameters: hubble_constant           = 0.695\n"
     ]
    },
    {
     "name": "stdout",
     "output_type": "stream",
     "text": [
      "get_refine_box: using this location:      col1       col2     col3     col4     col5     col6     col7   col8\n",
      "------------- -------- -------- -------- -------- -------- -------- ----\n",
      "3.04296732074 0.494074 0.490895 0.500235 0.496074 0.492895 0.502235    9\n"
     ]
    },
    {
     "name": "stderr",
     "output_type": "stream",
     "text": [
      "Parsing Hierarchy : 100%|████████████████| 8498/8498 [00:00<00:00, 12497.12it/s]\n",
      "yt : [INFO     ] 2022-07-19 18:02:07,139 Gathering a field list (this may take a moment.)\n",
      "yt : [INFO     ] 2022-07-19 18:02:11,006 Parameters: current_time              = 104.81652781829\n",
      "yt : [INFO     ] 2022-07-19 18:02:11,009 Parameters: domain_dimensions         = [256 256 256]\n",
      "yt : [INFO     ] 2022-07-19 18:02:11,012 Parameters: domain_left_edge          = [0. 0. 0.]\n",
      "yt : [INFO     ] 2022-07-19 18:02:11,015 Parameters: domain_right_edge         = [1. 1. 1.]\n",
      "yt : [INFO     ] 2022-07-19 18:02:11,016 Parameters: cosmological_simulation   = 1\n",
      "yt : [INFO     ] 2022-07-19 18:02:11,017 Parameters: current_redshift          = 2.9116806075987\n",
      "yt : [INFO     ] 2022-07-19 18:02:11,017 Parameters: omega_lambda              = 0.715\n",
      "yt : [INFO     ] 2022-07-19 18:02:11,018 Parameters: omega_matter              = 0.285\n",
      "yt : [INFO     ] 2022-07-19 18:02:11,019 Parameters: omega_radiation           = 0.0\n",
      "yt : [INFO     ] 2022-07-19 18:02:11,019 Parameters: hubble_constant           = 0.695\n"
     ]
    },
    {
     "name": "stdout",
     "output_type": "stream",
     "text": [
      "Pulling halo center from catalog file\n",
      "Opening snapshot /Volumes/TempestTimeSteps/DD0287/DD0287\n",
      "get_refine_box: using this location:     col1       col2     col3     col4     col5     col6     col7   col8\n",
      "------------ -------- -------- -------- -------- -------- -------- ----\n",
      "2.9116806076 0.493954 0.490721 0.500203 0.495954 0.492721 0.502203    9\n"
     ]
    },
    {
     "name": "stderr",
     "output_type": "stream",
     "text": [
      "Parsing Hierarchy : 100%|█████████████████| 7384/7384 [00:03<00:00, 2407.40it/s]\n",
      "yt : [INFO     ] 2022-07-19 18:02:14,545 Gathering a field list (this may take a moment.)\n",
      "yt : [INFO     ] 2022-07-19 18:02:18,150 Parameters: current_time              = 109.81652781829\n",
      "yt : [INFO     ] 2022-07-19 18:02:18,153 Parameters: domain_dimensions         = [256 256 256]\n",
      "yt : [INFO     ] 2022-07-19 18:02:18,156 Parameters: domain_left_edge          = [0. 0. 0.]\n",
      "yt : [INFO     ] 2022-07-19 18:02:18,159 Parameters: domain_right_edge         = [1. 1. 1.]\n",
      "yt : [INFO     ] 2022-07-19 18:02:18,160 Parameters: cosmological_simulation   = 1\n",
      "yt : [INFO     ] 2022-07-19 18:02:18,160 Parameters: current_redshift          = 2.790330842939\n",
      "yt : [INFO     ] 2022-07-19 18:02:18,161 Parameters: omega_lambda              = 0.715\n",
      "yt : [INFO     ] 2022-07-19 18:02:18,161 Parameters: omega_matter              = 0.285\n",
      "yt : [INFO     ] 2022-07-19 18:02:18,162 Parameters: omega_radiation           = 0.0\n",
      "yt : [INFO     ] 2022-07-19 18:02:18,163 Parameters: hubble_constant           = 0.695\n"
     ]
    },
    {
     "name": "stdout",
     "output_type": "stream",
     "text": [
      "Pulling halo center from catalog file\n",
      "Opening snapshot /Volumes/TempestTimeSteps/DD0307/DD0307\n",
      "get_refine_box: using this location:      col1       col2     col3     col4     col5     col6     col7   col8\n",
      "------------- -------- -------- -------- -------- -------- -------- ----\n",
      "2.79033084294 0.494017 0.490515 0.500182 0.496017 0.492515 0.502182    9\n"
     ]
    },
    {
     "name": "stderr",
     "output_type": "stream",
     "text": [
      "Parsing Hierarchy : 100%|████████████████| 7885/7885 [00:00<00:00, 13070.63it/s]\n",
      "yt : [INFO     ] 2022-07-19 18:02:19,206 Gathering a field list (this may take a moment.)\n",
      "yt : [INFO     ] 2022-07-19 18:02:22,752 Parameters: current_time              = 114.81652781829\n",
      "yt : [INFO     ] 2022-07-19 18:02:22,755 Parameters: domain_dimensions         = [256 256 256]\n",
      "yt : [INFO     ] 2022-07-19 18:02:22,757 Parameters: domain_left_edge          = [0. 0. 0.]\n",
      "yt : [INFO     ] 2022-07-19 18:02:22,760 Parameters: domain_right_edge         = [1. 1. 1.]\n",
      "yt : [INFO     ] 2022-07-19 18:02:22,761 Parameters: cosmological_simulation   = 1\n",
      "yt : [INFO     ] 2022-07-19 18:02:22,762 Parameters: current_redshift          = 2.6777540283045\n",
      "yt : [INFO     ] 2022-07-19 18:02:22,762 Parameters: omega_lambda              = 0.715\n",
      "yt : [INFO     ] 2022-07-19 18:02:22,763 Parameters: omega_matter              = 0.285\n",
      "yt : [INFO     ] 2022-07-19 18:02:22,764 Parameters: omega_radiation           = 0.0\n",
      "yt : [INFO     ] 2022-07-19 18:02:22,764 Parameters: hubble_constant           = 0.695\n"
     ]
    },
    {
     "name": "stdout",
     "output_type": "stream",
     "text": [
      "Pulling halo center from catalog file\n",
      "Opening snapshot /Volumes/TempestTimeSteps/DD0327/DD0327\n",
      "get_refine_box: using this location:     col1       col2     col3    col4     col5     col6    col7   col8\n",
      "------------ -------- ------- -------- -------- ------- -------- ----\n",
      "2.6777540283 0.493817 0.49021 0.500325 0.495817 0.49221 0.502325    9\n"
     ]
    },
    {
     "name": "stderr",
     "output_type": "stream",
     "text": [
      "Parsing Hierarchy : 100%|████████████████| 8723/8723 [00:00<00:00, 12515.05it/s]\n",
      "yt : [INFO     ] 2022-07-19 18:02:23,937 Gathering a field list (this may take a moment.)\n",
      "yt : [INFO     ] 2022-07-19 18:02:27,534 Parameters: current_time              = 119.81652781829\n",
      "yt : [INFO     ] 2022-07-19 18:02:27,537 Parameters: domain_dimensions         = [256 256 256]\n",
      "yt : [INFO     ] 2022-07-19 18:02:27,540 Parameters: domain_left_edge          = [0. 0. 0.]\n",
      "yt : [INFO     ] 2022-07-19 18:02:27,543 Parameters: domain_right_edge         = [1. 1. 1.]\n",
      "yt : [INFO     ] 2022-07-19 18:02:27,544 Parameters: cosmological_simulation   = 1\n",
      "yt : [INFO     ] 2022-07-19 18:02:27,544 Parameters: current_redshift          = 2.5729656200897\n",
      "yt : [INFO     ] 2022-07-19 18:02:27,545 Parameters: omega_lambda              = 0.715\n",
      "yt : [INFO     ] 2022-07-19 18:02:27,545 Parameters: omega_matter              = 0.285\n",
      "yt : [INFO     ] 2022-07-19 18:02:27,546 Parameters: omega_radiation           = 0.0\n",
      "yt : [INFO     ] 2022-07-19 18:02:27,547 Parameters: hubble_constant           = 0.695\n"
     ]
    },
    {
     "name": "stdout",
     "output_type": "stream",
     "text": [
      "Pulling halo center from catalog file\n",
      "Opening snapshot /Volumes/TempestTimeSteps/DD0347/DD0347\n",
      "get_refine_box: using this location:      col1       col2    col3     col4    col5    col6     col7  col8\n",
      "------------- ------- -------- ------- ------- -------- ------- ----\n",
      "2.57296562009 0.49375 0.489943 0.50041 0.49575 0.491943 0.50241    9\n"
     ]
    },
    {
     "name": "stderr",
     "output_type": "stream",
     "text": [
      "Parsing Hierarchy : 100%|████████████████| 8372/8372 [00:00<00:00, 12338.00it/s]\n",
      "yt : [INFO     ] 2022-07-19 18:02:28,673 Gathering a field list (this may take a moment.)\n",
      "yt : [INFO     ] 2022-07-19 18:02:32,258 Parameters: current_time              = 124.81652781829\n",
      "yt : [INFO     ] 2022-07-19 18:02:32,261 Parameters: domain_dimensions         = [256 256 256]\n",
      "yt : [INFO     ] 2022-07-19 18:02:32,265 Parameters: domain_left_edge          = [0. 0. 0.]\n",
      "yt : [INFO     ] 2022-07-19 18:02:32,268 Parameters: domain_right_edge         = [1. 1. 1.]\n",
      "yt : [INFO     ] 2022-07-19 18:02:32,269 Parameters: cosmological_simulation   = 1\n",
      "yt : [INFO     ] 2022-07-19 18:02:32,269 Parameters: current_redshift          = 2.4751267440123\n",
      "yt : [INFO     ] 2022-07-19 18:02:32,270 Parameters: omega_lambda              = 0.715\n",
      "yt : [INFO     ] 2022-07-19 18:02:32,270 Parameters: omega_matter              = 0.285\n",
      "yt : [INFO     ] 2022-07-19 18:02:32,271 Parameters: omega_radiation           = 0.0\n",
      "yt : [INFO     ] 2022-07-19 18:02:32,272 Parameters: hubble_constant           = 0.695\n"
     ]
    },
    {
     "name": "stdout",
     "output_type": "stream",
     "text": [
      "Pulling halo center from catalog file\n",
      "Opening snapshot /Volumes/TempestTimeSteps/DD0367/DD0367\n",
      "get_refine_box: using this location:      col1       col2     col3     col4     col5     col6     col7   col8\n",
      "------------- -------- -------- -------- -------- -------- -------- ----\n",
      "2.47512674401 0.493607 0.489649 0.500506 0.495607 0.491649 0.502506    9\n"
     ]
    },
    {
     "name": "stderr",
     "output_type": "stream",
     "text": [
      "Parsing Hierarchy : 100%|████████████████| 8124/8124 [00:00<00:00, 12554.24it/s]\n",
      "yt : [INFO     ] 2022-07-19 18:02:33,360 Gathering a field list (this may take a moment.)\n",
      "yt : [INFO     ] 2022-07-19 18:02:37,204 Parameters: current_time              = 129.81652781829\n",
      "yt : [INFO     ] 2022-07-19 18:02:37,207 Parameters: domain_dimensions         = [256 256 256]\n",
      "yt : [INFO     ] 2022-07-19 18:02:37,210 Parameters: domain_left_edge          = [0. 0. 0.]\n",
      "yt : [INFO     ] 2022-07-19 18:02:37,214 Parameters: domain_right_edge         = [1. 1. 1.]\n",
      "yt : [INFO     ] 2022-07-19 18:02:37,215 Parameters: cosmological_simulation   = 1\n",
      "yt : [INFO     ] 2022-07-19 18:02:37,215 Parameters: current_redshift          = 2.3835178337957\n",
      "yt : [INFO     ] 2022-07-19 18:02:37,216 Parameters: omega_lambda              = 0.715\n",
      "yt : [INFO     ] 2022-07-19 18:02:37,217 Parameters: omega_matter              = 0.285\n",
      "yt : [INFO     ] 2022-07-19 18:02:37,218 Parameters: omega_radiation           = 0.0\n",
      "yt : [INFO     ] 2022-07-19 18:02:37,218 Parameters: hubble_constant           = 0.695\n"
     ]
    },
    {
     "name": "stdout",
     "output_type": "stream",
     "text": [
      "Pulling halo center from catalog file\n",
      "Opening snapshot /Volumes/TempestTimeSteps/DD0387/DD0387\n",
      "get_refine_box: using this location:     col1       col2     col3     col4     col5     col6     col7   col8\n",
      "------------ -------- -------- -------- -------- -------- -------- ----\n",
      "2.3835178338 0.493475 0.489323 0.500649 0.495475 0.491323 0.502649    9\n"
     ]
    },
    {
     "name": "stderr",
     "output_type": "stream",
     "text": [
      "Parsing Hierarchy : 100%|█████████████████| 9680/9680 [00:03<00:00, 2627.19it/s]\n",
      "yt : [INFO     ] 2022-07-19 18:02:41,414 Gathering a field list (this may take a moment.)\n",
      "yt : [INFO     ] 2022-07-19 18:02:45,063 Parameters: current_time              = 134.81652781829\n",
      "yt : [INFO     ] 2022-07-19 18:02:45,066 Parameters: domain_dimensions         = [256 256 256]\n",
      "yt : [INFO     ] 2022-07-19 18:02:45,069 Parameters: domain_left_edge          = [0. 0. 0.]\n",
      "yt : [INFO     ] 2022-07-19 18:02:45,072 Parameters: domain_right_edge         = [1. 1. 1.]\n",
      "yt : [INFO     ] 2022-07-19 18:02:45,073 Parameters: cosmological_simulation   = 1\n",
      "yt : [INFO     ] 2022-07-19 18:02:45,073 Parameters: current_redshift          = 2.2975178463403\n",
      "yt : [INFO     ] 2022-07-19 18:02:45,074 Parameters: omega_lambda              = 0.715\n",
      "yt : [INFO     ] 2022-07-19 18:02:45,074 Parameters: omega_matter              = 0.285\n",
      "yt : [INFO     ] 2022-07-19 18:02:45,075 Parameters: omega_radiation           = 0.0\n",
      "yt : [INFO     ] 2022-07-19 18:02:45,076 Parameters: hubble_constant           = 0.695\n"
     ]
    },
    {
     "name": "stdout",
     "output_type": "stream",
     "text": [
      "Pulling halo center from catalog file\n",
      "Opening snapshot /Volumes/TempestTimeSteps/DD0407/DD0407\n",
      "get_refine_box: using this location:      col1       col2     col3     col4     col5     col6     col7   col8\n",
      "------------- -------- -------- -------- -------- -------- -------- ----\n",
      "2.29751784634 0.493403 0.489031 0.500769 0.495403 0.491031 0.502769    9\n"
     ]
    },
    {
     "name": "stderr",
     "output_type": "stream",
     "text": [
      "Parsing Hierarchy : 100%|████████████████| 8668/8668 [00:00<00:00, 12503.35it/s]\n",
      "yt : [INFO     ] 2022-07-19 18:02:46,241 Gathering a field list (this may take a moment.)\n",
      "yt : [INFO     ] 2022-07-19 18:02:49,842 Parameters: current_time              = 139.81652781829\n",
      "yt : [INFO     ] 2022-07-19 18:02:49,845 Parameters: domain_dimensions         = [256 256 256]\n",
      "yt : [INFO     ] 2022-07-19 18:02:49,848 Parameters: domain_left_edge          = [0. 0. 0.]\n",
      "yt : [INFO     ] 2022-07-19 18:02:49,851 Parameters: domain_right_edge         = [1. 1. 1.]\n",
      "yt : [INFO     ] 2022-07-19 18:02:49,851 Parameters: cosmological_simulation   = 1\n",
      "yt : [INFO     ] 2022-07-19 18:02:49,852 Parameters: current_redshift          = 2.2165877154761\n",
      "yt : [INFO     ] 2022-07-19 18:02:49,853 Parameters: omega_lambda              = 0.715\n",
      "yt : [INFO     ] 2022-07-19 18:02:49,853 Parameters: omega_matter              = 0.285\n",
      "yt : [INFO     ] 2022-07-19 18:02:49,854 Parameters: omega_radiation           = 0.0\n",
      "yt : [INFO     ] 2022-07-19 18:02:49,854 Parameters: hubble_constant           = 0.695\n"
     ]
    },
    {
     "name": "stdout",
     "output_type": "stream",
     "text": [
      "Pulling halo center from catalog file\n",
      "Opening snapshot /Volumes/TempestTimeSteps/DD0427/DD0427\n",
      "get_refine_box: using this location:      col1       col2     col3     col4     col5     col6     col7   col8\n",
      "------------- -------- -------- -------- -------- -------- -------- ----\n",
      "2.21658771548 0.493304 0.488734 0.500885 0.495304 0.490734 0.502885    9\n"
     ]
    },
    {
     "name": "stderr",
     "output_type": "stream",
     "text": [
      "Parsing Hierarchy : 100%|████████████████| 8504/8504 [00:00<00:00, 12760.40it/s]\n",
      "yt : [INFO     ] 2022-07-19 18:02:50,969 Gathering a field list (this may take a moment.)\n",
      "yt : [INFO     ] 2022-07-19 18:02:54,438 Parameters: current_time              = 144.81652781829\n",
      "yt : [INFO     ] 2022-07-19 18:02:54,441 Parameters: domain_dimensions         = [256 256 256]\n",
      "yt : [INFO     ] 2022-07-19 18:02:54,443 Parameters: domain_left_edge          = [0. 0. 0.]\n",
      "yt : [INFO     ] 2022-07-19 18:02:54,448 Parameters: domain_right_edge         = [1. 1. 1.]\n",
      "yt : [INFO     ] 2022-07-19 18:02:54,449 Parameters: cosmological_simulation   = 1\n",
      "yt : [INFO     ] 2022-07-19 18:02:54,449 Parameters: current_redshift          = 2.1402570627129\n",
      "yt : [INFO     ] 2022-07-19 18:02:54,450 Parameters: omega_lambda              = 0.715\n",
      "yt : [INFO     ] 2022-07-19 18:02:54,450 Parameters: omega_matter              = 0.285\n",
      "yt : [INFO     ] 2022-07-19 18:02:54,451 Parameters: omega_radiation           = 0.0\n",
      "yt : [INFO     ] 2022-07-19 18:02:54,452 Parameters: hubble_constant           = 0.695\n"
     ]
    },
    {
     "name": "stdout",
     "output_type": "stream",
     "text": [
      "Pulling halo center from catalog file\n",
      "Opening snapshot /Volumes/TempestTimeSteps/DD0447/DD0447\n",
      "get_refine_box: using this location:      col1       col2     col3     col4     col5     col6     col7   col8\n",
      "------------- -------- -------- -------- -------- -------- -------- ----\n",
      "2.14025706271 0.493216 0.488457 0.500981 0.495216 0.490457 0.502981    9\n"
     ]
    },
    {
     "name": "stderr",
     "output_type": "stream",
     "text": [
      "Parsing Hierarchy : 100%|████████████████| 8981/8981 [00:00<00:00, 12284.23it/s]\n",
      "yt : [INFO     ] 2022-07-19 18:02:55,663 Gathering a field list (this may take a moment.)\n",
      "yt : [INFO     ] 2022-07-19 18:02:59,237 Parameters: current_time              = 149.81652781829\n",
      "yt : [INFO     ] 2022-07-19 18:02:59,240 Parameters: domain_dimensions         = [256 256 256]\n",
      "yt : [INFO     ] 2022-07-19 18:02:59,243 Parameters: domain_left_edge          = [0. 0. 0.]\n",
      "yt : [INFO     ] 2022-07-19 18:02:59,246 Parameters: domain_right_edge         = [1. 1. 1.]\n",
      "yt : [INFO     ] 2022-07-19 18:02:59,246 Parameters: cosmological_simulation   = 1\n",
      "yt : [INFO     ] 2022-07-19 18:02:59,247 Parameters: current_redshift          = 2.0681134360516\n",
      "yt : [INFO     ] 2022-07-19 18:02:59,248 Parameters: omega_lambda              = 0.715\n",
      "yt : [INFO     ] 2022-07-19 18:02:59,248 Parameters: omega_matter              = 0.285\n",
      "yt : [INFO     ] 2022-07-19 18:02:59,249 Parameters: omega_radiation           = 0.0\n",
      "yt : [INFO     ] 2022-07-19 18:02:59,250 Parameters: hubble_constant           = 0.695\n"
     ]
    },
    {
     "name": "stdout",
     "output_type": "stream",
     "text": [
      "Pulling halo center from catalog file\n",
      "Opening snapshot /Volumes/TempestTimeSteps/DD0467/DD0467\n",
      "get_refine_box: using this location:      col1       col2     col3     col4    col5     col6     col7  col8\n",
      "------------- -------- -------- ------- -------- -------- ------- ----\n",
      "2.06811343605 0.493124 0.488177 0.50108 0.495124 0.490177 0.50308    9\n"
     ]
    },
    {
     "name": "stderr",
     "output_type": "stream",
     "text": [
      "Parsing Hierarchy : 100%|████████████████| 8955/8955 [00:00<00:00, 12394.27it/s]\n",
      "yt : [INFO     ] 2022-07-19 18:03:00,446 Gathering a field list (this may take a moment.)\n",
      "yt : [INFO     ] 2022-07-19 18:03:04,011 Parameters: current_time              = 154.8165043678\n",
      "yt : [INFO     ] 2022-07-19 18:03:04,014 Parameters: domain_dimensions         = [256 256 256]\n",
      "yt : [INFO     ] 2022-07-19 18:03:04,016 Parameters: domain_left_edge          = [0. 0. 0.]\n",
      "yt : [INFO     ] 2022-07-19 18:03:04,021 Parameters: domain_right_edge         = [1. 1. 1.]\n",
      "yt : [INFO     ] 2022-07-19 18:03:04,022 Parameters: cosmological_simulation   = 1\n",
      "yt : [INFO     ] 2022-07-19 18:03:04,023 Parameters: current_redshift          = 1.9997938414155\n",
      "yt : [INFO     ] 2022-07-19 18:03:04,024 Parameters: omega_lambda              = 0.715\n",
      "yt : [INFO     ] 2022-07-19 18:03:04,024 Parameters: omega_matter              = 0.285\n",
      "yt : [INFO     ] 2022-07-19 18:03:04,025 Parameters: omega_radiation           = 0.0\n",
      "yt : [INFO     ] 2022-07-19 18:03:04,025 Parameters: hubble_constant           = 0.695\n"
     ]
    },
    {
     "name": "stdout",
     "output_type": "stream",
     "text": [
      "Pulling halo center from catalog file\n",
      "Opening snapshot /Volumes/TempestTimeSteps/DD0487/DD0487\n",
      "get_refine_box: using this location:      col1       col2     col3     col4     col5     col6     col7   col8\n",
      "------------- -------- -------- -------- -------- -------- -------- ----\n",
      "1.99979384142 0.493035 0.487894 0.501194 0.495035 0.489894 0.503194    9\n"
     ]
    },
    {
     "name": "stderr",
     "output_type": "stream",
     "text": [
      "Parsing Hierarchy : 100%|████████████████| 7623/7623 [00:00<00:00, 12183.45it/s]\n",
      "yt : [INFO     ] 2022-07-19 18:03:05,037 Gathering a field list (this may take a moment.)\n",
      "yt : [INFO     ] 2022-07-19 18:03:08,680 Parameters: current_time              = 159.81652781829\n",
      "yt : [INFO     ] 2022-07-19 18:03:08,683 Parameters: domain_dimensions         = [256 256 256]\n",
      "yt : [INFO     ] 2022-07-19 18:03:08,686 Parameters: domain_left_edge          = [0. 0. 0.]\n",
      "yt : [INFO     ] 2022-07-19 18:03:08,689 Parameters: domain_right_edge         = [1. 1. 1.]\n",
      "yt : [INFO     ] 2022-07-19 18:03:08,690 Parameters: cosmological_simulation   = 1\n",
      "yt : [INFO     ] 2022-07-19 18:03:08,691 Parameters: current_redshift          = 1.9349759674732\n",
      "yt : [INFO     ] 2022-07-19 18:03:08,691 Parameters: omega_lambda              = 0.715\n",
      "yt : [INFO     ] 2022-07-19 18:03:08,692 Parameters: omega_matter              = 0.285\n",
      "yt : [INFO     ] 2022-07-19 18:03:08,693 Parameters: omega_radiation           = 0.0\n",
      "yt : [INFO     ] 2022-07-19 18:03:08,694 Parameters: hubble_constant           = 0.695\n"
     ]
    },
    {
     "name": "stdout",
     "output_type": "stream",
     "text": [
      "Pulling halo center from catalog file\n",
      "Opening snapshot /Volumes/TempestTimeSteps/DD0507/DD0507\n",
      "get_refine_box: using this location:      col1       col2     col3     col4     col5     col6     col7   col8\n",
      "------------- -------- -------- -------- -------- -------- -------- ----\n",
      "1.93497596747 0.492941 0.487618 0.501303 0.494941 0.489618 0.503303    9\n"
     ]
    },
    {
     "name": "stderr",
     "output_type": "stream",
     "text": [
      "Parsing Hierarchy : 100%|████████████████| 6466/6466 [00:00<00:00, 11921.80it/s]\n",
      "yt : [INFO     ] 2022-07-19 18:03:09,705 Gathering a field list (this may take a moment.)\n"
     ]
    },
    {
     "name": "stdout",
     "output_type": "stream",
     "text": [
      "Pulling halo center from catalog file\n",
      "Opening snapshot /Volumes/TempestTimeSteps/DD0527/DD0527\n"
     ]
    },
    {
     "name": "stderr",
     "output_type": "stream",
     "text": [
      "yt : [INFO     ] 2022-07-19 18:03:13,714 Parameters: current_time              = 164.81652781829\n",
      "yt : [INFO     ] 2022-07-19 18:03:13,717 Parameters: domain_dimensions         = [256 256 256]\n",
      "yt : [INFO     ] 2022-07-19 18:03:13,720 Parameters: domain_left_edge          = [0. 0. 0.]\n",
      "yt : [INFO     ] 2022-07-19 18:03:13,723 Parameters: domain_right_edge         = [1. 1. 1.]\n",
      "yt : [INFO     ] 2022-07-19 18:03:13,724 Parameters: cosmological_simulation   = 1\n",
      "yt : [INFO     ] 2022-07-19 18:03:13,725 Parameters: current_redshift          = 1.8733753371252\n",
      "yt : [INFO     ] 2022-07-19 18:03:13,726 Parameters: omega_lambda              = 0.715\n",
      "yt : [INFO     ] 2022-07-19 18:03:13,726 Parameters: omega_matter              = 0.285\n",
      "yt : [INFO     ] 2022-07-19 18:03:13,727 Parameters: omega_radiation           = 0.0\n",
      "yt : [INFO     ] 2022-07-19 18:03:13,728 Parameters: hubble_constant           = 0.695\n"
     ]
    },
    {
     "name": "stdout",
     "output_type": "stream",
     "text": [
      "get_refine_box: using this location:      col1       col2     col3     col4     col5     col6     col7   col8\n",
      "------------- -------- -------- -------- -------- -------- -------- ----\n",
      "1.87337533713 0.492848 0.487347 0.501397 0.494848 0.489347 0.503397    9\n"
     ]
    },
    {
     "name": "stderr",
     "output_type": "stream",
     "text": [
      "Parsing Hierarchy : 100%|█████████████████| 6005/6005 [00:03<00:00, 1509.43it/s]\n",
      "yt : [INFO     ] 2022-07-19 18:03:18,084 Gathering a field list (this may take a moment.)\n",
      "yt : [INFO     ] 2022-07-19 18:03:21,883 Parameters: current_time              = 169.81652781829\n",
      "yt : [INFO     ] 2022-07-19 18:03:21,888 Parameters: domain_dimensions         = [256 256 256]\n",
      "yt : [INFO     ] 2022-07-19 18:03:21,891 Parameters: domain_left_edge          = [0. 0. 0.]\n",
      "yt : [INFO     ] 2022-07-19 18:03:21,894 Parameters: domain_right_edge         = [1. 1. 1.]\n",
      "yt : [INFO     ] 2022-07-19 18:03:21,894 Parameters: cosmological_simulation   = 1\n",
      "yt : [INFO     ] 2022-07-19 18:03:21,895 Parameters: current_redshift          = 1.8147372203944\n",
      "yt : [INFO     ] 2022-07-19 18:03:21,896 Parameters: omega_lambda              = 0.715\n",
      "yt : [INFO     ] 2022-07-19 18:03:21,896 Parameters: omega_matter              = 0.285\n",
      "yt : [INFO     ] 2022-07-19 18:03:21,897 Parameters: omega_radiation           = 0.0\n",
      "yt : [INFO     ] 2022-07-19 18:03:21,898 Parameters: hubble_constant           = 0.695\n"
     ]
    },
    {
     "name": "stdout",
     "output_type": "stream",
     "text": [
      "Pulling halo center from catalog file\n",
      "Opening snapshot /Volumes/TempestTimeSteps/DD0547/DD0547\n",
      "get_refine_box: using this location:      col1       col2     col3    col4     col5     col6    col7   col8\n",
      "------------- -------- ------- -------- -------- ------- -------- ----\n",
      "1.81473722039 0.492754 0.48709 0.501477 0.494754 0.48909 0.503477    9\n"
     ]
    },
    {
     "name": "stderr",
     "output_type": "stream",
     "text": [
      "Parsing Hierarchy : 100%|█████████████████| 6241/6241 [00:00<00:00, 9859.10it/s]\n",
      "yt : [INFO     ] 2022-07-19 18:03:22,965 Gathering a field list (this may take a moment.)\n",
      "yt : [INFO     ] 2022-07-19 18:03:26,787 Parameters: current_time              = 174.81652781829\n",
      "yt : [INFO     ] 2022-07-19 18:03:26,790 Parameters: domain_dimensions         = [256 256 256]\n",
      "yt : [INFO     ] 2022-07-19 18:03:26,793 Parameters: domain_left_edge          = [0. 0. 0.]\n",
      "yt : [INFO     ] 2022-07-19 18:03:26,796 Parameters: domain_right_edge         = [1. 1. 1.]\n",
      "yt : [INFO     ] 2022-07-19 18:03:26,797 Parameters: cosmological_simulation   = 1\n",
      "yt : [INFO     ] 2022-07-19 18:03:26,798 Parameters: current_redshift          = 1.7588340361195\n",
      "yt : [INFO     ] 2022-07-19 18:03:26,798 Parameters: omega_lambda              = 0.715\n",
      "yt : [INFO     ] 2022-07-19 18:03:26,799 Parameters: omega_matter              = 0.285\n",
      "yt : [INFO     ] 2022-07-19 18:03:26,800 Parameters: omega_radiation           = 0.0\n",
      "yt : [INFO     ] 2022-07-19 18:03:26,800 Parameters: hubble_constant           = 0.695\n"
     ]
    },
    {
     "name": "stdout",
     "output_type": "stream",
     "text": [
      "Pulling halo center from catalog file\n",
      "Opening snapshot /Volumes/TempestTimeSteps/DD0567/DD0567\n",
      "get_refine_box: using this location:      col1       col2     col3     col4     col5     col6     col7   col8\n",
      "------------- -------- -------- -------- -------- -------- -------- ----\n",
      "1.75883403612 0.492716 0.486828 0.501538 0.494716 0.488828 0.503538    9\n"
     ]
    },
    {
     "name": "stderr",
     "output_type": "stream",
     "text": [
      "Parsing Hierarchy : 100%|█████████████████| 6668/6668 [00:00<00:00, 9096.90it/s]\n",
      "yt : [INFO     ] 2022-07-19 18:03:27,981 Gathering a field list (this may take a moment.)\n",
      "yt : [INFO     ] 2022-07-19 18:03:31,817 Parameters: current_time              = 179.81652781829\n",
      "yt : [INFO     ] 2022-07-19 18:03:31,820 Parameters: domain_dimensions         = [256 256 256]\n",
      "yt : [INFO     ] 2022-07-19 18:03:31,823 Parameters: domain_left_edge          = [0. 0. 0.]\n",
      "yt : [INFO     ] 2022-07-19 18:03:31,826 Parameters: domain_right_edge         = [1. 1. 1.]\n",
      "yt : [INFO     ] 2022-07-19 18:03:31,827 Parameters: cosmological_simulation   = 1\n",
      "yt : [INFO     ] 2022-07-19 18:03:31,828 Parameters: current_redshift          = 1.7054615401925\n",
      "yt : [INFO     ] 2022-07-19 18:03:31,828 Parameters: omega_lambda              = 0.715\n",
      "yt : [INFO     ] 2022-07-19 18:03:31,829 Parameters: omega_matter              = 0.285\n",
      "yt : [INFO     ] 2022-07-19 18:03:31,830 Parameters: omega_radiation           = 0.0\n",
      "yt : [INFO     ] 2022-07-19 18:03:31,830 Parameters: hubble_constant           = 0.695\n"
     ]
    },
    {
     "name": "stdout",
     "output_type": "stream",
     "text": [
      "Pulling halo center from catalog file\n",
      "Opening snapshot /Volumes/TempestTimeSteps/DD0587/DD0587\n",
      "get_refine_box: using this location:      col1       col2     col3    col4     col5     col6    col7   col8\n",
      "------------- -------- ------- -------- -------- ------- -------- ----\n",
      "1.70546154019 0.492663 0.48654 0.501635 0.494663 0.48854 0.503635    9\n"
     ]
    },
    {
     "name": "stderr",
     "output_type": "stream",
     "text": [
      "Parsing Hierarchy : 100%|████████████████| 7018/7018 [00:00<00:00, 11409.47it/s]\n",
      "yt : [INFO     ] 2022-07-19 18:03:32,857 Gathering a field list (this may take a moment.)\n"
     ]
    },
    {
     "name": "stdout",
     "output_type": "stream",
     "text": [
      "Pulling halo center from catalog file\n",
      "Opening snapshot /Volumes/TempestTimeSteps/DD0607/DD0607\n"
     ]
    },
    {
     "name": "stderr",
     "output_type": "stream",
     "text": [
      "yt : [INFO     ] 2022-07-19 18:03:37,027 Parameters: current_time              = 184.81652781829\n",
      "yt : [INFO     ] 2022-07-19 18:03:37,030 Parameters: domain_dimensions         = [256 256 256]\n",
      "yt : [INFO     ] 2022-07-19 18:03:37,033 Parameters: domain_left_edge          = [0. 0. 0.]\n",
      "yt : [INFO     ] 2022-07-19 18:03:37,036 Parameters: domain_right_edge         = [1. 1. 1.]\n",
      "yt : [INFO     ] 2022-07-19 18:03:37,038 Parameters: cosmological_simulation   = 1\n",
      "yt : [INFO     ] 2022-07-19 18:03:37,039 Parameters: current_redshift          = 1.654435864871\n",
      "yt : [INFO     ] 2022-07-19 18:03:37,040 Parameters: omega_lambda              = 0.715\n",
      "yt : [INFO     ] 2022-07-19 18:03:37,041 Parameters: omega_matter              = 0.285\n",
      "yt : [INFO     ] 2022-07-19 18:03:37,042 Parameters: omega_radiation           = 0.0\n",
      "yt : [INFO     ] 2022-07-19 18:03:37,043 Parameters: hubble_constant           = 0.695\n"
     ]
    },
    {
     "name": "stdout",
     "output_type": "stream",
     "text": [
      "get_refine_box: using this location:      col1       col2     col3     col4     col5     col6     col7   col8\n",
      "------------- -------- -------- -------- -------- -------- -------- ----\n",
      "1.65443586487 0.492592 0.486264 0.501763 0.494592 0.488264 0.503763    9\n"
     ]
    },
    {
     "name": "stderr",
     "output_type": "stream",
     "text": [
      "Parsing Hierarchy : 100%|████████████████| 6646/6646 [00:00<00:00, 10699.76it/s]\n",
      "yt : [INFO     ] 2022-07-19 18:03:38,016 Gathering a field list (this may take a moment.)\n"
     ]
    },
    {
     "name": "stdout",
     "output_type": "stream",
     "text": [
      "Pulling halo center from catalog file\n",
      "Opening snapshot /Volumes/TempestTimeSteps/DD0627/DD0627\n"
     ]
    },
    {
     "name": "stderr",
     "output_type": "stream",
     "text": [
      "yt : [INFO     ] 2022-07-19 18:03:41,741 Parameters: current_time              = 189.81652781829\n",
      "yt : [INFO     ] 2022-07-19 18:03:41,744 Parameters: domain_dimensions         = [256 256 256]\n",
      "yt : [INFO     ] 2022-07-19 18:03:41,747 Parameters: domain_left_edge          = [0. 0. 0.]\n",
      "yt : [INFO     ] 2022-07-19 18:03:41,752 Parameters: domain_right_edge         = [1. 1. 1.]\n",
      "yt : [INFO     ] 2022-07-19 18:03:41,753 Parameters: cosmological_simulation   = 1\n",
      "yt : [INFO     ] 2022-07-19 18:03:41,754 Parameters: current_redshift          = 1.6055910020775\n",
      "yt : [INFO     ] 2022-07-19 18:03:41,755 Parameters: omega_lambda              = 0.715\n",
      "yt : [INFO     ] 2022-07-19 18:03:41,756 Parameters: omega_matter              = 0.285\n",
      "yt : [INFO     ] 2022-07-19 18:03:41,757 Parameters: omega_radiation           = 0.0\n",
      "yt : [INFO     ] 2022-07-19 18:03:41,758 Parameters: hubble_constant           = 0.695\n"
     ]
    },
    {
     "name": "stdout",
     "output_type": "stream",
     "text": [
      "get_refine_box: using this location:      col1       col2     col3     col4     col5     col6     col7   col8\n",
      "------------- -------- -------- -------- -------- -------- -------- ----\n",
      "1.60559100208 0.492518 0.485987 0.501896 0.494518 0.487987 0.503896    9\n"
     ]
    },
    {
     "name": "stderr",
     "output_type": "stream",
     "text": [
      "Parsing Hierarchy : 100%|████████████████| 7439/7439 [00:00<00:00, 10389.35it/s]\n",
      "yt : [INFO     ] 2022-07-19 18:03:42,841 Gathering a field list (this may take a moment.)\n"
     ]
    },
    {
     "name": "stdout",
     "output_type": "stream",
     "text": [
      "Pulling halo center from catalog file\n",
      "Opening snapshot /Volumes/TempestTimeSteps/DD0647/DD0647\n"
     ]
    },
    {
     "name": "stderr",
     "output_type": "stream",
     "text": [
      "yt : [INFO     ] 2022-07-19 18:03:46,682 Parameters: current_time              = 194.81652781829\n",
      "yt : [INFO     ] 2022-07-19 18:03:46,685 Parameters: domain_dimensions         = [256 256 256]\n",
      "yt : [INFO     ] 2022-07-19 18:03:46,688 Parameters: domain_left_edge          = [0. 0. 0.]\n",
      "yt : [INFO     ] 2022-07-19 18:03:46,692 Parameters: domain_right_edge         = [1. 1. 1.]\n",
      "yt : [INFO     ] 2022-07-19 18:03:46,693 Parameters: cosmological_simulation   = 1\n",
      "yt : [INFO     ] 2022-07-19 18:03:46,693 Parameters: current_redshift          = 1.5587766543771\n",
      "yt : [INFO     ] 2022-07-19 18:03:46,694 Parameters: omega_lambda              = 0.715\n",
      "yt : [INFO     ] 2022-07-19 18:03:46,695 Parameters: omega_matter              = 0.285\n",
      "yt : [INFO     ] 2022-07-19 18:03:46,695 Parameters: omega_radiation           = 0.0\n",
      "yt : [INFO     ] 2022-07-19 18:03:46,696 Parameters: hubble_constant           = 0.695\n"
     ]
    },
    {
     "name": "stdout",
     "output_type": "stream",
     "text": [
      "get_refine_box: using this location:      col1       col2     col3     col4     col5     col6     col7   col8\n",
      "------------- -------- -------- -------- -------- -------- -------- ----\n",
      "1.55877665438 0.492451 0.485703 0.502037 0.494451 0.487703 0.504037    9\n"
     ]
    },
    {
     "name": "stderr",
     "output_type": "stream",
     "text": [
      "Parsing Hierarchy : 100%|████████████████| 7437/7437 [00:00<00:00, 10765.81it/s]\n",
      "yt : [INFO     ] 2022-07-19 18:03:47,768 Gathering a field list (this may take a moment.)\n",
      "yt : [INFO     ] 2022-07-19 18:03:51,392 Parameters: current_time              = 199.81652781829\n",
      "yt : [INFO     ] 2022-07-19 18:03:51,395 Parameters: domain_dimensions         = [256 256 256]\n",
      "yt : [INFO     ] 2022-07-19 18:03:51,398 Parameters: domain_left_edge          = [0. 0. 0.]\n",
      "yt : [INFO     ] 2022-07-19 18:03:51,401 Parameters: domain_right_edge         = [1. 1. 1.]\n",
      "yt : [INFO     ] 2022-07-19 18:03:51,402 Parameters: cosmological_simulation   = 1\n",
      "yt : [INFO     ] 2022-07-19 18:03:51,403 Parameters: current_redshift          = 1.5138563920287\n",
      "yt : [INFO     ] 2022-07-19 18:03:51,403 Parameters: omega_lambda              = 0.715\n",
      "yt : [INFO     ] 2022-07-19 18:03:51,404 Parameters: omega_matter              = 0.285\n",
      "yt : [INFO     ] 2022-07-19 18:03:51,405 Parameters: omega_radiation           = 0.0\n",
      "yt : [INFO     ] 2022-07-19 18:03:51,405 Parameters: hubble_constant           = 0.695\n"
     ]
    },
    {
     "name": "stdout",
     "output_type": "stream",
     "text": [
      "Pulling halo center from catalog file\n",
      "Opening snapshot /Volumes/TempestTimeSteps/DD0667/DD0667\n",
      "get_refine_box: using this location:      col1       col2     col3     col4     col5     col6     col7   col8\n",
      "------------- -------- -------- -------- -------- -------- -------- ----\n",
      "1.51385639203 0.492384 0.485436 0.502152 0.494384 0.487436 0.504152    9\n"
     ]
    },
    {
     "name": "stderr",
     "output_type": "stream",
     "text": [
      "Parsing Hierarchy : 100%|████████████████| 8266/8266 [00:00<00:00, 10708.63it/s]\n",
      "yt : [INFO     ] 2022-07-19 18:03:52,640 Gathering a field list (this may take a moment.)\n"
     ]
    },
    {
     "name": "stdout",
     "output_type": "stream",
     "text": [
      "Pulling halo center from catalog file\n",
      "Opening snapshot /Volumes/TempestTimeSteps/DD0687/DD0687\n"
     ]
    },
    {
     "name": "stderr",
     "output_type": "stream",
     "text": [
      "yt : [INFO     ] 2022-07-19 18:03:56,418 Parameters: current_time              = 204.81652781829\n",
      "yt : [INFO     ] 2022-07-19 18:03:56,421 Parameters: domain_dimensions         = [256 256 256]\n",
      "yt : [INFO     ] 2022-07-19 18:03:56,424 Parameters: domain_left_edge          = [0. 0. 0.]\n",
      "yt : [INFO     ] 2022-07-19 18:03:56,428 Parameters: domain_right_edge         = [1. 1. 1.]\n",
      "yt : [INFO     ] 2022-07-19 18:03:56,429 Parameters: cosmological_simulation   = 1\n",
      "yt : [INFO     ] 2022-07-19 18:03:56,429 Parameters: current_redshift          = 1.4707060660811\n",
      "yt : [INFO     ] 2022-07-19 18:03:56,430 Parameters: omega_lambda              = 0.715\n",
      "yt : [INFO     ] 2022-07-19 18:03:56,431 Parameters: omega_matter              = 0.285\n",
      "yt : [INFO     ] 2022-07-19 18:03:56,431 Parameters: omega_radiation           = 0.0\n",
      "yt : [INFO     ] 2022-07-19 18:03:56,432 Parameters: hubble_constant           = 0.695\n"
     ]
    },
    {
     "name": "stdout",
     "output_type": "stream",
     "text": [
      "get_refine_box: using this location:      col1       col2     col3     col4    col5     col6     col7  col8\n",
      "------------- -------- -------- ------- -------- -------- ------- ----\n",
      "1.47070606608 0.492346 0.485169 0.50227 0.494346 0.487169 0.50427    9\n"
     ]
    },
    {
     "name": "stderr",
     "output_type": "stream",
     "text": [
      "Parsing Hierarchy : 100%|████████████████| 8638/8638 [00:00<00:00, 12041.09it/s]\n",
      "yt : [INFO     ] 2022-07-19 18:03:57,548 Gathering a field list (this may take a moment.)\n",
      "yt : [INFO     ] 2022-07-19 18:04:01,474 Parameters: current_time              = 209.81652781829\n",
      "yt : [INFO     ] 2022-07-19 18:04:01,477 Parameters: domain_dimensions         = [256 256 256]\n",
      "yt : [INFO     ] 2022-07-19 18:04:01,480 Parameters: domain_left_edge          = [0. 0. 0.]\n",
      "yt : [INFO     ] 2022-07-19 18:04:01,483 Parameters: domain_right_edge         = [1. 1. 1.]\n",
      "yt : [INFO     ] 2022-07-19 18:04:01,484 Parameters: cosmological_simulation   = 1\n",
      "yt : [INFO     ] 2022-07-19 18:04:01,485 Parameters: current_redshift          = 1.4292124366682\n",
      "yt : [INFO     ] 2022-07-19 18:04:01,485 Parameters: omega_lambda              = 0.715\n",
      "yt : [INFO     ] 2022-07-19 18:04:01,486 Parameters: omega_matter              = 0.285\n",
      "yt : [INFO     ] 2022-07-19 18:04:01,487 Parameters: omega_radiation           = 0.0\n",
      "yt : [INFO     ] 2022-07-19 18:04:01,487 Parameters: hubble_constant           = 0.695\n"
     ]
    },
    {
     "name": "stdout",
     "output_type": "stream",
     "text": [
      "Pulling halo center from catalog file\n",
      "Opening snapshot /Volumes/TempestTimeSteps/DD0707/DD0707\n",
      "get_refine_box: using this location:      col1       col2     col3     col4     col5     col6     col7   col8\n",
      "------------- -------- -------- -------- -------- -------- -------- ----\n",
      "1.42921243667 0.492291 0.484911 0.502394 0.494291 0.486911 0.504394    9\n"
     ]
    },
    {
     "name": "stderr",
     "output_type": "stream",
     "text": [
      "Parsing Hierarchy : 100%|█████████████████| 8418/8418 [00:04<00:00, 1721.82it/s]\n",
      "yt : [INFO     ] 2022-07-19 18:04:06,846 Gathering a field list (this may take a moment.)\n"
     ]
    },
    {
     "name": "stdout",
     "output_type": "stream",
     "text": [
      "Pulling halo center from catalog file\n",
      "Opening snapshot /Volumes/TempestTimeSteps/DD0727/DD0727\n"
     ]
    },
    {
     "name": "stderr",
     "output_type": "stream",
     "text": [
      "yt : [INFO     ] 2022-07-19 18:04:10,521 Parameters: current_time              = 214.81652781829\n",
      "yt : [INFO     ] 2022-07-19 18:04:10,525 Parameters: domain_dimensions         = [256 256 256]\n",
      "yt : [INFO     ] 2022-07-19 18:04:10,530 Parameters: domain_left_edge          = [0. 0. 0.]\n",
      "yt : [INFO     ] 2022-07-19 18:04:10,535 Parameters: domain_right_edge         = [1. 1. 1.]\n",
      "yt : [INFO     ] 2022-07-19 18:04:10,536 Parameters: cosmological_simulation   = 1\n",
      "yt : [INFO     ] 2022-07-19 18:04:10,538 Parameters: current_redshift          = 1.3892719829729\n",
      "yt : [INFO     ] 2022-07-19 18:04:10,541 Parameters: omega_lambda              = 0.715\n",
      "yt : [INFO     ] 2022-07-19 18:04:10,543 Parameters: omega_matter              = 0.285\n",
      "yt : [INFO     ] 2022-07-19 18:04:10,545 Parameters: omega_radiation           = 0.0\n",
      "yt : [INFO     ] 2022-07-19 18:04:10,547 Parameters: hubble_constant           = 0.695\n"
     ]
    },
    {
     "name": "stdout",
     "output_type": "stream",
     "text": [
      "get_refine_box: using this location:      col1       col2     col3     col4     col5     col6     col7   col8\n",
      "------------- -------- -------- -------- -------- -------- -------- ----\n",
      "1.38927198297 0.492228 0.484667 0.502503 0.494228 0.486667 0.504503    9\n"
     ]
    },
    {
     "name": "stderr",
     "output_type": "stream",
     "text": [
      "Parsing Hierarchy : 100%|████████████████| 8146/8146 [00:00<00:00, 11656.19it/s]\n",
      "yt : [INFO     ] 2022-07-19 18:04:11,659 Gathering a field list (this may take a moment.)\n",
      "yt : [INFO     ] 2022-07-19 18:04:15,288 Parameters: current_time              = 219.81652781829\n",
      "yt : [INFO     ] 2022-07-19 18:04:15,291 Parameters: domain_dimensions         = [256 256 256]\n",
      "yt : [INFO     ] 2022-07-19 18:04:15,294 Parameters: domain_left_edge          = [0. 0. 0.]\n",
      "yt : [INFO     ] 2022-07-19 18:04:15,297 Parameters: domain_right_edge         = [1. 1. 1.]\n",
      "yt : [INFO     ] 2022-07-19 18:04:15,298 Parameters: cosmological_simulation   = 1\n",
      "yt : [INFO     ] 2022-07-19 18:04:15,299 Parameters: current_redshift          = 1.3507898672001\n",
      "yt : [INFO     ] 2022-07-19 18:04:15,299 Parameters: omega_lambda              = 0.715\n"
     ]
    },
    {
     "name": "stdout",
     "output_type": "stream",
     "text": [
      "Pulling halo center from catalog file\n",
      "Opening snapshot /Volumes/TempestTimeSteps/DD0747/DD0747\n"
     ]
    },
    {
     "name": "stderr",
     "output_type": "stream",
     "text": [
      "yt : [INFO     ] 2022-07-19 18:04:15,300 Parameters: omega_matter              = 0.285\n",
      "yt : [INFO     ] 2022-07-19 18:04:15,301 Parameters: omega_radiation           = 0.0\n",
      "yt : [INFO     ] 2022-07-19 18:04:15,301 Parameters: hubble_constant           = 0.695\n"
     ]
    },
    {
     "name": "stdout",
     "output_type": "stream",
     "text": [
      "get_refine_box: using this location:     col1       col2     col3     col4     col5     col6     col7   col8\n",
      "------------ -------- -------- -------- -------- -------- -------- ----\n",
      "1.3507898672 0.492157 0.484423 0.502606 0.494157 0.486423 0.504606    9\n"
     ]
    },
    {
     "name": "stderr",
     "output_type": "stream",
     "text": [
      "Parsing Hierarchy : 100%|████████████████| 8058/8058 [00:00<00:00, 11319.20it/s]\n",
      "yt : [INFO     ] 2022-07-19 18:04:16,448 Gathering a field list (this may take a moment.)\n"
     ]
    },
    {
     "name": "stdout",
     "output_type": "stream",
     "text": [
      "Pulling halo center from catalog file\n",
      "Opening snapshot /Volumes/TempestTimeSteps/DD0767/DD0767\n"
     ]
    },
    {
     "name": "stderr",
     "output_type": "stream",
     "text": [
      "yt : [INFO     ] 2022-07-19 18:04:20,147 Parameters: current_time              = 224.81652781829\n",
      "yt : [INFO     ] 2022-07-19 18:04:20,150 Parameters: domain_dimensions         = [256 256 256]\n",
      "yt : [INFO     ] 2022-07-19 18:04:20,153 Parameters: domain_left_edge          = [0. 0. 0.]\n",
      "yt : [INFO     ] 2022-07-19 18:04:20,156 Parameters: domain_right_edge         = [1. 1. 1.]\n",
      "yt : [INFO     ] 2022-07-19 18:04:20,157 Parameters: cosmological_simulation   = 1\n",
      "yt : [INFO     ] 2022-07-19 18:04:20,158 Parameters: current_redshift          = 1.3136790296363\n",
      "yt : [INFO     ] 2022-07-19 18:04:20,159 Parameters: omega_lambda              = 0.715\n",
      "yt : [INFO     ] 2022-07-19 18:04:20,159 Parameters: omega_matter              = 0.285\n",
      "yt : [INFO     ] 2022-07-19 18:04:20,160 Parameters: omega_radiation           = 0.0\n",
      "yt : [INFO     ] 2022-07-19 18:04:20,161 Parameters: hubble_constant           = 0.695\n"
     ]
    },
    {
     "name": "stdout",
     "output_type": "stream",
     "text": [
      "get_refine_box: using this location:      col1       col2     col3     col4     col5     col6     col7   col8\n",
      "------------- -------- -------- -------- -------- -------- -------- ----\n",
      "1.31367902964 0.492089 0.484183 0.502695 0.494089 0.486183 0.504695    9\n"
     ]
    },
    {
     "name": "stderr",
     "output_type": "stream",
     "text": [
      "Parsing Hierarchy : 100%|████████████████| 7829/7829 [00:00<00:00, 11769.71it/s]\n",
      "yt : [INFO     ] 2022-07-19 18:04:21,201 Gathering a field list (this may take a moment.)\n"
     ]
    },
    {
     "name": "stdout",
     "output_type": "stream",
     "text": [
      "Pulling halo center from catalog file\n",
      "Opening snapshot /Volumes/TempestTimeSteps/DD0787/DD0787\n"
     ]
    },
    {
     "name": "stderr",
     "output_type": "stream",
     "text": [
      "yt : [INFO     ] 2022-07-19 18:04:25,007 Parameters: current_time              = 229.81652781829\n",
      "yt : [INFO     ] 2022-07-19 18:04:25,010 Parameters: domain_dimensions         = [256 256 256]\n",
      "yt : [INFO     ] 2022-07-19 18:04:25,013 Parameters: domain_left_edge          = [0. 0. 0.]\n",
      "yt : [INFO     ] 2022-07-19 18:04:25,016 Parameters: domain_right_edge         = [1. 1. 1.]\n",
      "yt : [INFO     ] 2022-07-19 18:04:25,018 Parameters: cosmological_simulation   = 1\n",
      "yt : [INFO     ] 2022-07-19 18:04:25,019 Parameters: current_redshift          = 1.2778593957079\n",
      "yt : [INFO     ] 2022-07-19 18:04:25,020 Parameters: omega_lambda              = 0.715\n",
      "yt : [INFO     ] 2022-07-19 18:04:25,021 Parameters: omega_matter              = 0.285\n",
      "yt : [INFO     ] 2022-07-19 18:04:25,022 Parameters: omega_radiation           = 0.0\n",
      "yt : [INFO     ] 2022-07-19 18:04:25,024 Parameters: hubble_constant           = 0.695\n"
     ]
    },
    {
     "name": "stdout",
     "output_type": "stream",
     "text": [
      "get_refine_box: using this location:      col1       col2     col3     col4     col5     col6     col7   col8\n",
      "------------- -------- -------- -------- -------- -------- -------- ----\n",
      "1.27785939571 0.492022 0.483956 0.502785 0.494022 0.485956 0.504785    9\n"
     ]
    },
    {
     "name": "stderr",
     "output_type": "stream",
     "text": [
      "Parsing Hierarchy : 100%|████████████████| 8132/8132 [00:00<00:00, 11478.61it/s]\n",
      "yt : [INFO     ] 2022-07-19 18:04:26,110 Gathering a field list (this may take a moment.)\n",
      "yt : [INFO     ] 2022-07-19 18:04:29,724 Parameters: current_time              = 234.81652781829\n",
      "yt : [INFO     ] 2022-07-19 18:04:29,726 Parameters: domain_dimensions         = [256 256 256]\n",
      "yt : [INFO     ] 2022-07-19 18:04:29,729 Parameters: domain_left_edge          = [0. 0. 0.]\n",
      "yt : [INFO     ] 2022-07-19 18:04:29,732 Parameters: domain_right_edge         = [1. 1. 1.]\n",
      "yt : [INFO     ] 2022-07-19 18:04:29,733 Parameters: cosmological_simulation   = 1\n",
      "yt : [INFO     ] 2022-07-19 18:04:29,734 Parameters: current_redshift          = 1.2432571790813\n",
      "yt : [INFO     ] 2022-07-19 18:04:29,735 Parameters: omega_lambda              = 0.715\n",
      "yt : [INFO     ] 2022-07-19 18:04:29,735 Parameters: omega_matter              = 0.285\n",
      "yt : [INFO     ] 2022-07-19 18:04:29,736 Parameters: omega_radiation           = 0.0\n",
      "yt : [INFO     ] 2022-07-19 18:04:29,736 Parameters: hubble_constant           = 0.695\n"
     ]
    },
    {
     "name": "stdout",
     "output_type": "stream",
     "text": [
      "Pulling halo center from catalog file\n",
      "Opening snapshot /Volumes/TempestTimeSteps/DD0807/DD0807\n",
      "get_refine_box: using this location:      col1       col2     col3     col4     col5     col6     col7   col8\n",
      "------------- -------- -------- -------- -------- -------- -------- ----\n",
      "1.24325717908 0.491957 0.483733 0.502879 0.493957 0.485733 0.504879    9\n"
     ]
    },
    {
     "name": "stderr",
     "output_type": "stream",
     "text": [
      "Parsing Hierarchy : 100%|████████████████| 7374/7374 [00:00<00:00, 11759.32it/s]\n",
      "yt : [INFO     ] 2022-07-19 18:04:30,796 Gathering a field list (this may take a moment.)\n",
      "yt : [INFO     ] 2022-07-19 18:04:34,555 Parameters: current_time              = 239.81652781829\n",
      "yt : [INFO     ] 2022-07-19 18:04:34,558 Parameters: domain_dimensions         = [256 256 256]\n",
      "yt : [INFO     ] 2022-07-19 18:04:34,561 Parameters: domain_left_edge          = [0. 0. 0.]\n"
     ]
    },
    {
     "name": "stdout",
     "output_type": "stream",
     "text": [
      "Pulling halo center from catalog file\n",
      "Opening snapshot /Volumes/TempestTimeSteps/DD0827/DD0827\n"
     ]
    },
    {
     "name": "stderr",
     "output_type": "stream",
     "text": [
      "yt : [INFO     ] 2022-07-19 18:04:34,565 Parameters: domain_right_edge         = [1. 1. 1.]\n",
      "yt : [INFO     ] 2022-07-19 18:04:34,566 Parameters: cosmological_simulation   = 1\n",
      "yt : [INFO     ] 2022-07-19 18:04:34,566 Parameters: current_redshift          = 1.2098042674053\n",
      "yt : [INFO     ] 2022-07-19 18:04:34,567 Parameters: omega_lambda              = 0.715\n",
      "yt : [INFO     ] 2022-07-19 18:04:34,568 Parameters: omega_matter              = 0.285\n",
      "yt : [INFO     ] 2022-07-19 18:04:34,568 Parameters: omega_radiation           = 0.0\n",
      "yt : [INFO     ] 2022-07-19 18:04:34,569 Parameters: hubble_constant           = 0.695\n"
     ]
    },
    {
     "name": "stdout",
     "output_type": "stream",
     "text": [
      "get_refine_box: using this location:      col1       col2     col3     col4     col5     col6     col7   col8\n",
      "------------- -------- -------- -------- -------- -------- -------- ----\n",
      "1.20980426741 0.491888 0.483515 0.502974 0.493888 0.485515 0.504974    9\n"
     ]
    },
    {
     "name": "stderr",
     "output_type": "stream",
     "text": [
      "Parsing Hierarchy : 100%|████████████████| 6935/6935 [00:00<00:00, 11950.30it/s]\n",
      "yt : [INFO     ] 2022-07-19 18:04:35,495 Gathering a field list (this may take a moment.)\n",
      "yt : [INFO     ] 2022-07-19 18:04:39,087 Parameters: current_time              = 244.81652781829\n",
      "yt : [INFO     ] 2022-07-19 18:04:39,090 Parameters: domain_dimensions         = [256 256 256]\n",
      "yt : [INFO     ] 2022-07-19 18:04:39,093 Parameters: domain_left_edge          = [0. 0. 0.]\n",
      "yt : [INFO     ] 2022-07-19 18:04:39,096 Parameters: domain_right_edge         = [1. 1. 1.]\n",
      "yt : [INFO     ] 2022-07-19 18:04:39,097 Parameters: cosmological_simulation   = 1\n",
      "yt : [INFO     ] 2022-07-19 18:04:39,097 Parameters: current_redshift          = 1.1774376794027\n",
      "yt : [INFO     ] 2022-07-19 18:04:39,098 Parameters: omega_lambda              = 0.715\n",
      "yt : [INFO     ] 2022-07-19 18:04:39,098 Parameters: omega_matter              = 0.285\n",
      "yt : [INFO     ] 2022-07-19 18:04:39,099 Parameters: omega_radiation           = 0.0\n",
      "yt : [INFO     ] 2022-07-19 18:04:39,100 Parameters: hubble_constant           = 0.695\n"
     ]
    },
    {
     "name": "stdout",
     "output_type": "stream",
     "text": [
      "Pulling halo center from catalog file\n",
      "Opening snapshot /Volumes/TempestTimeSteps/DD0847/DD0847\n",
      "get_refine_box: using this location:     col1       col2     col3    col4     col5     col6    col7   col8\n",
      "------------ -------- ------- -------- -------- ------- -------- ----\n",
      "1.1774376794 0.491816 0.48329 0.503077 0.493816 0.48529 0.505077    9\n"
     ]
    },
    {
     "name": "stderr",
     "output_type": "stream",
     "text": [
      "Parsing Hierarchy : 100%|████████████████| 6688/6688 [00:00<00:00, 12053.84it/s]\n",
      "yt : [INFO     ] 2022-07-19 18:04:40,050 Gathering a field list (this may take a moment.)\n"
     ]
    },
    {
     "name": "stdout",
     "output_type": "stream",
     "text": [
      "Pulling halo center from catalog file\n",
      "Opening snapshot /Volumes/TempestTimeSteps/DD0867/DD0867\n"
     ]
    },
    {
     "name": "stderr",
     "output_type": "stream",
     "text": [
      "yt : [INFO     ] 2022-07-19 18:04:43,884 Parameters: current_time              = 249.81652781829\n",
      "yt : [INFO     ] 2022-07-19 18:04:43,888 Parameters: domain_dimensions         = [256 256 256]\n",
      "yt : [INFO     ] 2022-07-19 18:04:43,891 Parameters: domain_left_edge          = [0. 0. 0.]\n",
      "yt : [INFO     ] 2022-07-19 18:04:43,894 Parameters: domain_right_edge         = [1. 1. 1.]\n",
      "yt : [INFO     ] 2022-07-19 18:04:43,895 Parameters: cosmological_simulation   = 1\n",
      "yt : [INFO     ] 2022-07-19 18:04:43,895 Parameters: current_redshift          = 1.1460990837584\n",
      "yt : [INFO     ] 2022-07-19 18:04:43,896 Parameters: omega_lambda              = 0.715\n",
      "yt : [INFO     ] 2022-07-19 18:04:43,897 Parameters: omega_matter              = 0.285\n",
      "yt : [INFO     ] 2022-07-19 18:04:43,898 Parameters: omega_radiation           = 0.0\n",
      "yt : [INFO     ] 2022-07-19 18:04:43,898 Parameters: hubble_constant           = 0.695\n"
     ]
    },
    {
     "name": "stdout",
     "output_type": "stream",
     "text": [
      "get_refine_box: using this location:      col1       col2     col3     col4     col5     col6     col7   col8\n",
      "------------- -------- -------- -------- -------- -------- -------- ----\n",
      "1.14609908376 0.491743 0.483059 0.503163 0.493743 0.485059 0.505163    9\n"
     ]
    },
    {
     "name": "stderr",
     "output_type": "stream",
     "text": [
      "Parsing Hierarchy : 100%|████████████████| 7962/7962 [00:00<00:00, 11892.72it/s]\n",
      "yt : [INFO     ] 2022-07-19 18:04:44,955 Gathering a field list (this may take a moment.)\n",
      "yt : [INFO     ] 2022-07-19 18:04:48,712 Parameters: current_time              = 254.81652781829\n",
      "yt : [INFO     ] 2022-07-19 18:04:48,715 Parameters: domain_dimensions         = [256 256 256]\n",
      "yt : [INFO     ] 2022-07-19 18:04:48,718 Parameters: domain_left_edge          = [0. 0. 0.]\n"
     ]
    },
    {
     "name": "stdout",
     "output_type": "stream",
     "text": [
      "Pulling halo center from catalog file\n",
      "Opening snapshot /Volumes/TempestTimeSteps/DD0887/DD0887\n"
     ]
    },
    {
     "name": "stderr",
     "output_type": "stream",
     "text": [
      "yt : [INFO     ] 2022-07-19 18:04:48,723 Parameters: domain_right_edge         = [1. 1. 1.]\n",
      "yt : [INFO     ] 2022-07-19 18:04:48,724 Parameters: cosmological_simulation   = 1\n",
      "yt : [INFO     ] 2022-07-19 18:04:48,725 Parameters: current_redshift          = 1.1157343716912\n",
      "yt : [INFO     ] 2022-07-19 18:04:48,726 Parameters: omega_lambda              = 0.715\n",
      "yt : [INFO     ] 2022-07-19 18:04:48,726 Parameters: omega_matter              = 0.285\n",
      "yt : [INFO     ] 2022-07-19 18:04:48,727 Parameters: omega_radiation           = 0.0\n",
      "yt : [INFO     ] 2022-07-19 18:04:48,727 Parameters: hubble_constant           = 0.695\n"
     ]
    },
    {
     "name": "stdout",
     "output_type": "stream",
     "text": [
      "get_refine_box: using this location:      col1       col2     col3     col4     col5     col6     col7   col8\n",
      "------------- -------- -------- -------- -------- -------- -------- ----\n",
      "1.11573437169 0.491684 0.482832 0.503258 0.493684 0.484832 0.505258    9\n"
     ]
    },
    {
     "name": "stderr",
     "output_type": "stream",
     "text": [
      "Parsing Hierarchy : 100%|████████████████| 7394/7394 [00:00<00:00, 11907.19it/s]\n",
      "yt : [INFO     ] 2022-07-19 18:04:49,786 Gathering a field list (this may take a moment.)\n"
     ]
    },
    {
     "name": "stdout",
     "output_type": "stream",
     "text": [
      "Pulling halo center from catalog file\n",
      "Opening snapshot /Volumes/TempestTimeSteps/DD0907/DD0907\n"
     ]
    },
    {
     "name": "stderr",
     "output_type": "stream",
     "text": [
      "yt : [INFO     ] 2022-07-19 18:04:53,656 Parameters: current_time              = 259.81652781829\n",
      "yt : [INFO     ] 2022-07-19 18:04:53,661 Parameters: domain_dimensions         = [256 256 256]\n",
      "yt : [INFO     ] 2022-07-19 18:04:53,664 Parameters: domain_left_edge          = [0. 0. 0.]\n",
      "yt : [INFO     ] 2022-07-19 18:04:53,668 Parameters: domain_right_edge         = [1. 1. 1.]\n",
      "yt : [INFO     ] 2022-07-19 18:04:53,669 Parameters: cosmological_simulation   = 1\n",
      "yt : [INFO     ] 2022-07-19 18:04:53,670 Parameters: current_redshift          = 1.0862932762982\n",
      "yt : [INFO     ] 2022-07-19 18:04:53,671 Parameters: omega_lambda              = 0.715\n",
      "yt : [INFO     ] 2022-07-19 18:04:53,672 Parameters: omega_matter              = 0.285\n",
      "yt : [INFO     ] 2022-07-19 18:04:53,673 Parameters: omega_radiation           = 0.0\n",
      "yt : [INFO     ] 2022-07-19 18:04:53,674 Parameters: hubble_constant           = 0.695\n"
     ]
    },
    {
     "name": "stdout",
     "output_type": "stream",
     "text": [
      "get_refine_box: using this location:     col1       col2     col3     col4    col5     col6     col7  col8\n",
      "------------ -------- -------- ------- -------- -------- ------- ----\n",
      "1.0862932763 0.491633 0.482603 0.50335 0.493633 0.484603 0.50535    9\n"
     ]
    },
    {
     "name": "stderr",
     "output_type": "stream",
     "text": [
      "Parsing Hierarchy : 100%|████████████████| 7350/7350 [00:00<00:00, 11577.39it/s]\n",
      "yt : [INFO     ] 2022-07-19 18:04:54,676 Gathering a field list (this may take a moment.)\n",
      "yt : [INFO     ] 2022-07-19 18:04:58,436 Parameters: current_time              = 264.81652781829\n",
      "yt : [INFO     ] 2022-07-19 18:04:58,439 Parameters: domain_dimensions         = [256 256 256]\n",
      "yt : [INFO     ] 2022-07-19 18:04:58,442 Parameters: domain_left_edge          = [0. 0. 0.]\n"
     ]
    },
    {
     "name": "stdout",
     "output_type": "stream",
     "text": [
      "Pulling halo center from catalog file\n",
      "Opening snapshot /Volumes/TempestTimeSteps/DD0927/DD0927\n"
     ]
    },
    {
     "name": "stderr",
     "output_type": "stream",
     "text": [
      "yt : [INFO     ] 2022-07-19 18:04:58,445 Parameters: domain_right_edge         = [1. 1. 1.]\n",
      "yt : [INFO     ] 2022-07-19 18:04:58,446 Parameters: cosmological_simulation   = 1\n",
      "yt : [INFO     ] 2022-07-19 18:04:58,447 Parameters: current_redshift          = 1.0577290327654\n",
      "yt : [INFO     ] 2022-07-19 18:04:58,448 Parameters: omega_lambda              = 0.715\n",
      "yt : [INFO     ] 2022-07-19 18:04:58,448 Parameters: omega_matter              = 0.285\n",
      "yt : [INFO     ] 2022-07-19 18:04:58,449 Parameters: omega_radiation           = 0.0\n",
      "yt : [INFO     ] 2022-07-19 18:04:58,449 Parameters: hubble_constant           = 0.695\n"
     ]
    },
    {
     "name": "stdout",
     "output_type": "stream",
     "text": [
      "get_refine_box: using this location:      col1       col2     col3    col4     col5     col6    col7   col8\n",
      "------------- -------- ------- -------- -------- ------- -------- ----\n",
      "1.05772903277 0.491583 0.48238 0.503437 0.493583 0.48438 0.505437    9\n"
     ]
    },
    {
     "name": "stderr",
     "output_type": "stream",
     "text": [
      "Parsing Hierarchy : 100%|█████████████████| 6595/6595 [00:05<00:00, 1180.33it/s]\n",
      "yt : [INFO     ] 2022-07-19 18:05:04,382 Gathering a field list (this may take a moment.)\n",
      "yt : [INFO     ] 2022-07-19 18:05:08,080 Parameters: current_time              = 269.81652781829\n",
      "yt : [INFO     ] 2022-07-19 18:05:08,085 Parameters: domain_dimensions         = [256 256 256]\n",
      "yt : [INFO     ] 2022-07-19 18:05:08,089 Parameters: domain_left_edge          = [0. 0. 0.]\n",
      "yt : [INFO     ] 2022-07-19 18:05:08,093 Parameters: domain_right_edge         = [1. 1. 1.]\n",
      "yt : [INFO     ] 2022-07-19 18:05:08,094 Parameters: cosmological_simulation   = 1\n",
      "yt : [INFO     ] 2022-07-19 18:05:08,095 Parameters: current_redshift          = 1.0299980743789\n",
      "yt : [INFO     ] 2022-07-19 18:05:08,095 Parameters: omega_lambda              = 0.715\n",
      "yt : [INFO     ] 2022-07-19 18:05:08,096 Parameters: omega_matter              = 0.285\n",
      "yt : [INFO     ] 2022-07-19 18:05:08,097 Parameters: omega_radiation           = 0.0\n",
      "yt : [INFO     ] 2022-07-19 18:05:08,097 Parameters: hubble_constant           = 0.695\n"
     ]
    },
    {
     "name": "stdout",
     "output_type": "stream",
     "text": [
      "Pulling halo center from catalog file\n",
      "Opening snapshot /Volumes/TempestTimeSteps/DD0947/DD0947\n",
      "get_refine_box: using this location:      col1       col2     col3     col4     col5     col6     col7   col8\n",
      "------------- -------- -------- -------- -------- -------- -------- ----\n",
      "1.02999807438 0.491539 0.482157 0.503523 0.493539 0.484157 0.505523    9\n"
     ]
    },
    {
     "name": "stderr",
     "output_type": "stream",
     "text": [
      "Parsing Hierarchy : 100%|████████████████| 6486/6486 [00:00<00:00, 11812.30it/s]\n",
      "yt : [INFO     ] 2022-07-19 18:05:09,056 Gathering a field list (this may take a moment.)\n",
      "yt : [INFO     ] 2022-07-19 18:05:12,901 Parameters: current_time              = 274.56652781829\n",
      "yt : [INFO     ] 2022-07-19 18:05:12,904 Parameters: domain_dimensions         = [256 256 256]\n",
      "yt : [INFO     ] 2022-07-19 18:05:12,907 Parameters: domain_left_edge          = [0. 0. 0.]\n",
      "yt : [INFO     ] 2022-07-19 18:05:12,910 Parameters: domain_right_edge         = [1. 1. 1.]\n",
      "yt : [INFO     ] 2022-07-19 18:05:12,911 Parameters: cosmological_simulation   = 1\n",
      "yt : [INFO     ] 2022-07-19 18:05:12,913 Parameters: current_redshift          = 1.0043884467376\n",
      "yt : [INFO     ] 2022-07-19 18:05:12,914 Parameters: omega_lambda              = 0.715\n",
      "yt : [INFO     ] 2022-07-19 18:05:12,915 Parameters: omega_matter              = 0.285\n"
     ]
    },
    {
     "name": "stdout",
     "output_type": "stream",
     "text": [
      "Pulling halo center from catalog file\n",
      "Opening snapshot /Volumes/TempestTimeSteps/DD0967/DD0967\n"
     ]
    },
    {
     "name": "stderr",
     "output_type": "stream",
     "text": [
      "yt : [INFO     ] 2022-07-19 18:05:12,916 Parameters: omega_radiation           = 0.0\n",
      "yt : [INFO     ] 2022-07-19 18:05:12,916 Parameters: hubble_constant           = 0.695\n"
     ]
    },
    {
     "name": "stdout",
     "output_type": "stream",
     "text": [
      "get_refine_box: using this location:      col1       col2     col3     col4     col5     col6     col7   col8\n",
      "------------- -------- -------- -------- -------- -------- -------- ----\n",
      "1.00438844674 0.491497 0.481944 0.503607 0.493497 0.483944 0.505607    9\n"
     ]
    },
    {
     "name": "stderr",
     "output_type": "stream",
     "text": [
      "Parsing Hierarchy : 100%|████████████████| 5908/5908 [00:00<00:00, 11490.85it/s]\n",
      "yt : [INFO     ] 2022-07-19 18:05:13,819 Gathering a field list (this may take a moment.)\n"
     ]
    },
    {
     "name": "stdout",
     "output_type": "stream",
     "text": [
      "Pulling halo center from catalog file\n",
      "Opening snapshot /Volumes/TempestTimeSteps/DD0987/DD0987\n"
     ]
    },
    {
     "name": "stderr",
     "output_type": "stream",
     "text": [
      "yt : [INFO     ] 2022-07-19 18:05:17,656 Parameters: current_time              = 279.56652781829\n",
      "yt : [INFO     ] 2022-07-19 18:05:17,659 Parameters: domain_dimensions         = [256 256 256]\n",
      "yt : [INFO     ] 2022-07-19 18:05:17,663 Parameters: domain_left_edge          = [0. 0. 0.]\n",
      "yt : [INFO     ] 2022-07-19 18:05:17,666 Parameters: domain_right_edge         = [1. 1. 1.]\n",
      "yt : [INFO     ] 2022-07-19 18:05:17,666 Parameters: cosmological_simulation   = 1\n",
      "yt : [INFO     ] 2022-07-19 18:05:17,667 Parameters: current_redshift          = 0.97816794442974\n",
      "yt : [INFO     ] 2022-07-19 18:05:17,668 Parameters: omega_lambda              = 0.715\n",
      "yt : [INFO     ] 2022-07-19 18:05:17,668 Parameters: omega_matter              = 0.285\n",
      "yt : [INFO     ] 2022-07-19 18:05:17,669 Parameters: omega_radiation           = 0.0\n",
      "yt : [INFO     ] 2022-07-19 18:05:17,670 Parameters: hubble_constant           = 0.695\n"
     ]
    },
    {
     "name": "stdout",
     "output_type": "stream",
     "text": [
      "get_refine_box: using this location:      col1       col2     col3     col4     col5     col6     col7   col8\n",
      "------------- -------- -------- -------- -------- -------- -------- ----\n",
      "0.97816794443 0.491452 0.481724 0.503697 0.493452 0.483724 0.505697    9\n"
     ]
    },
    {
     "name": "stderr",
     "output_type": "stream",
     "text": [
      "Parsing Hierarchy : 100%|████████████████| 5704/5704 [00:00<00:00, 11879.65it/s]\n",
      "yt : [INFO     ] 2022-07-19 18:05:18,449 Gathering a field list (this may take a moment.)\n"
     ]
    },
    {
     "name": "stdout",
     "output_type": "stream",
     "text": [
      "Pulling halo center from catalog file\n",
      "Opening snapshot /Volumes/TempestTimeSteps/DD1007/DD1007\n"
     ]
    },
    {
     "name": "stderr",
     "output_type": "stream",
     "text": [
      "yt : [INFO     ] 2022-07-19 18:05:22,254 Parameters: current_time              = 284.56652781829\n",
      "yt : [INFO     ] 2022-07-19 18:05:22,258 Parameters: domain_dimensions         = [256 256 256]\n",
      "yt : [INFO     ] 2022-07-19 18:05:22,261 Parameters: domain_left_edge          = [0. 0. 0.]\n",
      "yt : [INFO     ] 2022-07-19 18:05:22,264 Parameters: domain_right_edge         = [1. 1. 1.]\n",
      "yt : [INFO     ] 2022-07-19 18:05:22,265 Parameters: cosmological_simulation   = 1\n",
      "yt : [INFO     ] 2022-07-19 18:05:22,266 Parameters: current_redshift          = 0.95266834518911\n",
      "yt : [INFO     ] 2022-07-19 18:05:22,267 Parameters: omega_lambda              = 0.715\n",
      "yt : [INFO     ] 2022-07-19 18:05:22,267 Parameters: omega_matter              = 0.285\n",
      "yt : [INFO     ] 2022-07-19 18:05:22,268 Parameters: omega_radiation           = 0.0\n",
      "yt : [INFO     ] 2022-07-19 18:05:22,269 Parameters: hubble_constant           = 0.695\n"
     ]
    },
    {
     "name": "stdout",
     "output_type": "stream",
     "text": [
      "get_refine_box: using this location:      col1        col2     col3     col4     col5     col6     col7   col8\n",
      "-------------- -------- -------- -------- -------- -------- -------- ----\n",
      "0.952668345189 0.491404 0.481507 0.503786 0.493404 0.483507 0.505786    9\n"
     ]
    },
    {
     "name": "stderr",
     "output_type": "stream",
     "text": [
      "Parsing Hierarchy : 100%|████████████████| 5544/5544 [00:00<00:00, 11849.44it/s]\n",
      "yt : [INFO     ] 2022-07-19 18:05:23,040 Gathering a field list (this may take a moment.)\n"
     ]
    },
    {
     "name": "stdout",
     "output_type": "stream",
     "text": [
      "Pulling halo center from catalog file\n",
      "Opening snapshot /Volumes/TempestTimeSteps/DD1027/DD1027\n"
     ]
    },
    {
     "name": "stderr",
     "output_type": "stream",
     "text": [
      "yt : [INFO     ] 2022-07-19 18:05:26,715 Parameters: current_time              = 289.56652781829\n",
      "yt : [INFO     ] 2022-07-19 18:05:26,718 Parameters: domain_dimensions         = [256 256 256]\n",
      "yt : [INFO     ] 2022-07-19 18:05:26,722 Parameters: domain_left_edge          = [0. 0. 0.]\n",
      "yt : [INFO     ] 2022-07-19 18:05:26,725 Parameters: domain_right_edge         = [1. 1. 1.]\n",
      "yt : [INFO     ] 2022-07-19 18:05:26,726 Parameters: cosmological_simulation   = 1\n",
      "yt : [INFO     ] 2022-07-19 18:05:26,726 Parameters: current_redshift          = 0.92785630164072\n",
      "yt : [INFO     ] 2022-07-19 18:05:26,727 Parameters: omega_lambda              = 0.715\n",
      "yt : [INFO     ] 2022-07-19 18:05:26,728 Parameters: omega_matter              = 0.285\n",
      "yt : [INFO     ] 2022-07-19 18:05:26,729 Parameters: omega_radiation           = 0.0\n",
      "yt : [INFO     ] 2022-07-19 18:05:26,729 Parameters: hubble_constant           = 0.695\n"
     ]
    },
    {
     "name": "stdout",
     "output_type": "stream",
     "text": [
      "get_refine_box: using this location:      col1        col2     col3     col4     col5     col6     col7   col8\n",
      "-------------- -------- -------- -------- -------- -------- -------- ----\n",
      "0.927856301641 0.491352 0.481291 0.503872 0.493352 0.483291 0.505872    9\n"
     ]
    },
    {
     "name": "stderr",
     "output_type": "stream",
     "text": [
      "Parsing Hierarchy : 100%|████████████████| 5326/5326 [00:00<00:00, 11991.23it/s]\n",
      "yt : [INFO     ] 2022-07-19 18:05:27,469 Gathering a field list (this may take a moment.)\n"
     ]
    },
    {
     "name": "stdout",
     "output_type": "stream",
     "text": [
      "Pulling halo center from catalog file\n",
      "Opening snapshot /Volumes/TempestTimeSteps/DD1047/DD1047\n"
     ]
    },
    {
     "name": "stderr",
     "output_type": "stream",
     "text": [
      "yt : [INFO     ] 2022-07-19 18:05:31,261 Parameters: current_time              = 294.56652781829\n",
      "yt : [INFO     ] 2022-07-19 18:05:31,265 Parameters: domain_dimensions         = [256 256 256]\n",
      "yt : [INFO     ] 2022-07-19 18:05:31,268 Parameters: domain_left_edge          = [0. 0. 0.]\n",
      "yt : [INFO     ] 2022-07-19 18:05:31,272 Parameters: domain_right_edge         = [1. 1. 1.]\n",
      "yt : [INFO     ] 2022-07-19 18:05:31,273 Parameters: cosmological_simulation   = 1\n",
      "yt : [INFO     ] 2022-07-19 18:05:31,274 Parameters: current_redshift          = 0.90370055679921\n",
      "yt : [INFO     ] 2022-07-19 18:05:31,275 Parameters: omega_lambda              = 0.715\n",
      "yt : [INFO     ] 2022-07-19 18:05:31,276 Parameters: omega_matter              = 0.285\n",
      "yt : [INFO     ] 2022-07-19 18:05:31,277 Parameters: omega_radiation           = 0.0\n",
      "yt : [INFO     ] 2022-07-19 18:05:31,278 Parameters: hubble_constant           = 0.695\n"
     ]
    },
    {
     "name": "stdout",
     "output_type": "stream",
     "text": [
      "get_refine_box: using this location:      col1        col2     col3    col4     col5     col6    col7   col8\n",
      "-------------- -------- ------- -------- -------- ------- -------- ----\n",
      "0.903700556799 0.491301 0.48108 0.503952 0.493301 0.48308 0.505952    9\n"
     ]
    },
    {
     "name": "stderr",
     "output_type": "stream",
     "text": [
      "Parsing Hierarchy : 100%|████████████████| 5246/5246 [00:00<00:00, 11831.62it/s]\n",
      "yt : [INFO     ] 2022-07-19 18:05:32,008 Gathering a field list (this may take a moment.)\n"
     ]
    },
    {
     "name": "stdout",
     "output_type": "stream",
     "text": [
      "Pulling halo center from catalog file\n",
      "Opening snapshot /Volumes/TempestTimeSteps/DD1067/DD1067\n"
     ]
    },
    {
     "name": "stderr",
     "output_type": "stream",
     "text": [
      "yt : [INFO     ] 2022-07-19 18:05:35,791 Parameters: current_time              = 299.56652781829\n",
      "yt : [INFO     ] 2022-07-19 18:05:35,794 Parameters: domain_dimensions         = [256 256 256]\n",
      "yt : [INFO     ] 2022-07-19 18:05:35,797 Parameters: domain_left_edge          = [0. 0. 0.]\n",
      "yt : [INFO     ] 2022-07-19 18:05:35,800 Parameters: domain_right_edge         = [1. 1. 1.]\n",
      "yt : [INFO     ] 2022-07-19 18:05:35,801 Parameters: cosmological_simulation   = 1\n",
      "yt : [INFO     ] 2022-07-19 18:05:35,802 Parameters: current_redshift          = 0.88017178065176\n",
      "yt : [INFO     ] 2022-07-19 18:05:35,803 Parameters: omega_lambda              = 0.715\n",
      "yt : [INFO     ] 2022-07-19 18:05:35,803 Parameters: omega_matter              = 0.285\n",
      "yt : [INFO     ] 2022-07-19 18:05:35,804 Parameters: omega_radiation           = 0.0\n",
      "yt : [INFO     ] 2022-07-19 18:05:35,804 Parameters: hubble_constant           = 0.695\n"
     ]
    },
    {
     "name": "stdout",
     "output_type": "stream",
     "text": [
      "get_refine_box: using this location:      col1        col2     col3     col4     col5     col6     col7   col8\n",
      "-------------- -------- -------- -------- -------- -------- -------- ----\n",
      "0.880171780652 0.491244 0.480872 0.504027 0.493244 0.482872 0.506027    9\n"
     ]
    },
    {
     "name": "stderr",
     "output_type": "stream",
     "text": [
      "Parsing Hierarchy : 100%|████████████████| 5244/5244 [00:00<00:00, 11228.33it/s]\n",
      "yt : [INFO     ] 2022-07-19 18:05:36,567 Gathering a field list (this may take a moment.)\n"
     ]
    },
    {
     "name": "stdout",
     "output_type": "stream",
     "text": [
      "Pulling halo center from catalog file\n",
      "Opening snapshot /Volumes/TempestTimeSteps/DD1087/DD1087\n"
     ]
    },
    {
     "name": "stderr",
     "output_type": "stream",
     "text": [
      "yt : [INFO     ] 2022-07-19 18:05:40,383 Parameters: current_time              = 304.56652781829\n",
      "yt : [INFO     ] 2022-07-19 18:05:40,386 Parameters: domain_dimensions         = [256 256 256]\n",
      "yt : [INFO     ] 2022-07-19 18:05:40,389 Parameters: domain_left_edge          = [0. 0. 0.]\n",
      "yt : [INFO     ] 2022-07-19 18:05:40,392 Parameters: domain_right_edge         = [1. 1. 1.]\n",
      "yt : [INFO     ] 2022-07-19 18:05:40,393 Parameters: cosmological_simulation   = 1\n",
      "yt : [INFO     ] 2022-07-19 18:05:40,394 Parameters: current_redshift          = 0.85724242198899\n",
      "yt : [INFO     ] 2022-07-19 18:05:40,395 Parameters: omega_lambda              = 0.715\n",
      "yt : [INFO     ] 2022-07-19 18:05:40,395 Parameters: omega_matter              = 0.285\n",
      "yt : [INFO     ] 2022-07-19 18:05:40,396 Parameters: omega_radiation           = 0.0\n",
      "yt : [INFO     ] 2022-07-19 18:05:40,397 Parameters: hubble_constant           = 0.695\n"
     ]
    },
    {
     "name": "stdout",
     "output_type": "stream",
     "text": [
      "get_refine_box: using this location:      col1        col2     col3     col4     col5     col6     col7   col8\n",
      "-------------- -------- -------- -------- -------- -------- -------- ----\n",
      "0.857242421989 0.491192 0.480668 0.504092 0.493192 0.482668 0.506092    9\n"
     ]
    },
    {
     "name": "stderr",
     "output_type": "stream",
     "text": [
      "Parsing Hierarchy : 100%|████████████████| 5163/5163 [00:00<00:00, 11818.37it/s]\n",
      "yt : [INFO     ] 2022-07-19 18:05:41,120 Gathering a field list (this may take a moment.)\n"
     ]
    },
    {
     "name": "stdout",
     "output_type": "stream",
     "text": [
      "Pulling halo center from catalog file\n",
      "Opening snapshot /Volumes/TempestTimeSteps/DD1107/DD1107\n"
     ]
    },
    {
     "name": "stderr",
     "output_type": "stream",
     "text": [
      "yt : [INFO     ] 2022-07-19 18:05:44,983 Parameters: current_time              = 309.56652781829\n",
      "yt : [INFO     ] 2022-07-19 18:05:44,986 Parameters: domain_dimensions         = [256 256 256]\n",
      "yt : [INFO     ] 2022-07-19 18:05:44,989 Parameters: domain_left_edge          = [0. 0. 0.]\n",
      "yt : [INFO     ] 2022-07-19 18:05:44,992 Parameters: domain_right_edge         = [1. 1. 1.]\n",
      "yt : [INFO     ] 2022-07-19 18:05:44,993 Parameters: cosmological_simulation   = 1\n",
      "yt : [INFO     ] 2022-07-19 18:05:44,994 Parameters: current_redshift          = 0.83488657383741\n",
      "yt : [INFO     ] 2022-07-19 18:05:44,994 Parameters: omega_lambda              = 0.715\n",
      "yt : [INFO     ] 2022-07-19 18:05:44,995 Parameters: omega_matter              = 0.285\n",
      "yt : [INFO     ] 2022-07-19 18:05:44,996 Parameters: omega_radiation           = 0.0\n",
      "yt : [INFO     ] 2022-07-19 18:05:44,997 Parameters: hubble_constant           = 0.695\n"
     ]
    },
    {
     "name": "stdout",
     "output_type": "stream",
     "text": [
      "get_refine_box: using this location:       col1         col2     col3     col4     col5     col6     col7   col8\n",
      "---------------- -------- -------- -------- -------- -------- -------- ----\n",
      "0.83488657383741 0.491154 0.480465 0.504151 0.493154 0.482465 0.506151    9\n"
     ]
    },
    {
     "name": "stderr",
     "output_type": "stream",
     "text": [
      "Parsing Hierarchy : 100%|████████████████| 5231/5231 [00:00<00:00, 11876.11it/s]\n",
      "yt : [INFO     ] 2022-07-19 18:05:45,724 Gathering a field list (this may take a moment.)\n"
     ]
    },
    {
     "name": "stdout",
     "output_type": "stream",
     "text": [
      "Pulling halo center from catalog file\n",
      "Opening snapshot /Volumes/TempestTimeSteps/DD1127/DD1127\n"
     ]
    },
    {
     "name": "stderr",
     "output_type": "stream",
     "text": [
      "yt : [INFO     ] 2022-07-19 18:05:49,525 Parameters: current_time              = 314.56652781829\n",
      "yt : [INFO     ] 2022-07-19 18:05:49,528 Parameters: domain_dimensions         = [256 256 256]\n",
      "yt : [INFO     ] 2022-07-19 18:05:49,532 Parameters: domain_left_edge          = [0. 0. 0.]\n",
      "yt : [INFO     ] 2022-07-19 18:05:49,535 Parameters: domain_right_edge         = [1. 1. 1.]\n",
      "yt : [INFO     ] 2022-07-19 18:05:49,536 Parameters: cosmological_simulation   = 1\n",
      "yt : [INFO     ] 2022-07-19 18:05:49,536 Parameters: current_redshift          = 0.81307985104783\n",
      "yt : [INFO     ] 2022-07-19 18:05:49,537 Parameters: omega_lambda              = 0.715\n",
      "yt : [INFO     ] 2022-07-19 18:05:49,538 Parameters: omega_matter              = 0.285\n",
      "yt : [INFO     ] 2022-07-19 18:05:49,539 Parameters: omega_radiation           = 0.0\n",
      "yt : [INFO     ] 2022-07-19 18:05:49,539 Parameters: hubble_constant           = 0.695\n"
     ]
    },
    {
     "name": "stdout",
     "output_type": "stream",
     "text": [
      "get_refine_box: using this location:       col1         col2     col3     col4     col5     col6     col7   col8\n",
      "---------------- -------- -------- -------- -------- -------- -------- ----\n",
      "0.81307985104783 0.491127 0.480267 0.504221 0.493127 0.482267 0.506221    9\n"
     ]
    },
    {
     "name": "stderr",
     "output_type": "stream",
     "text": [
      "Parsing Hierarchy : 100%|████████████████| 5553/5553 [00:00<00:00, 11946.46it/s]\n",
      "yt : [INFO     ] 2022-07-19 18:05:50,308 Gathering a field list (this may take a moment.)\n"
     ]
    },
    {
     "name": "stdout",
     "output_type": "stream",
     "text": [
      "Pulling halo center from catalog file\n",
      "Opening snapshot /Volumes/TempestTimeSteps/DD1147/DD1147\n"
     ]
    },
    {
     "name": "stderr",
     "output_type": "stream",
     "text": [
      "yt : [INFO     ] 2022-07-19 18:05:54,171 Parameters: current_time              = 319.56652781829\n",
      "yt : [INFO     ] 2022-07-19 18:05:54,174 Parameters: domain_dimensions         = [256 256 256]\n",
      "yt : [INFO     ] 2022-07-19 18:05:54,177 Parameters: domain_left_edge          = [0. 0. 0.]\n",
      "yt : [INFO     ] 2022-07-19 18:05:54,181 Parameters: domain_right_edge         = [1. 1. 1.]\n",
      "yt : [INFO     ] 2022-07-19 18:05:54,182 Parameters: cosmological_simulation   = 1\n",
      "yt : [INFO     ] 2022-07-19 18:05:54,182 Parameters: current_redshift          = 0.79179927876823\n",
      "yt : [INFO     ] 2022-07-19 18:05:54,183 Parameters: omega_lambda              = 0.715\n",
      "yt : [INFO     ] 2022-07-19 18:05:54,184 Parameters: omega_matter              = 0.285\n",
      "yt : [INFO     ] 2022-07-19 18:05:54,185 Parameters: omega_radiation           = 0.0\n",
      "yt : [INFO     ] 2022-07-19 18:05:54,185 Parameters: hubble_constant           = 0.695\n"
     ]
    },
    {
     "name": "stdout",
     "output_type": "stream",
     "text": [
      "get_refine_box: using this location:       col1         col2     col3    col4    col5     col6    col7  col8\n",
      "---------------- -------- -------- ------ -------- -------- ------ ----\n",
      "0.79179927876823 0.491095 0.480072 0.5043 0.493095 0.482072 0.5063    9\n"
     ]
    },
    {
     "name": "stderr",
     "output_type": "stream",
     "text": [
      "Parsing Hierarchy : 100%|████████████████| 5902/5902 [00:00<00:00, 11029.16it/s]\n",
      "yt : [INFO     ] 2022-07-19 18:05:55,048 Gathering a field list (this may take a moment.)\n"
     ]
    },
    {
     "name": "stdout",
     "output_type": "stream",
     "text": [
      "Pulling halo center from catalog file\n",
      "Opening snapshot /Volumes/TempestTimeSteps/DD1167/DD1167\n"
     ]
    },
    {
     "name": "stderr",
     "output_type": "stream",
     "text": [
      "yt : [INFO     ] 2022-07-19 18:05:58,993 Parameters: current_time              = 324.56652781829\n",
      "yt : [INFO     ] 2022-07-19 18:05:58,996 Parameters: domain_dimensions         = [256 256 256]\n",
      "yt : [INFO     ] 2022-07-19 18:05:59,000 Parameters: domain_left_edge          = [0. 0. 0.]\n",
      "yt : [INFO     ] 2022-07-19 18:05:59,003 Parameters: domain_right_edge         = [1. 1. 1.]\n",
      "yt : [INFO     ] 2022-07-19 18:05:59,004 Parameters: cosmological_simulation   = 1\n",
      "yt : [INFO     ] 2022-07-19 18:05:59,005 Parameters: current_redshift          = 0.77102319068022\n",
      "yt : [INFO     ] 2022-07-19 18:05:59,005 Parameters: omega_lambda              = 0.715\n",
      "yt : [INFO     ] 2022-07-19 18:05:59,006 Parameters: omega_matter              = 0.285\n",
      "yt : [INFO     ] 2022-07-19 18:05:59,007 Parameters: omega_radiation           = 0.0\n",
      "yt : [INFO     ] 2022-07-19 18:05:59,007 Parameters: hubble_constant           = 0.695\n"
     ]
    },
    {
     "name": "stdout",
     "output_type": "stream",
     "text": [
      "get_refine_box: using this location:       col1         col2     col3     col4     col5     col6     col7   col8\n",
      "---------------- -------- -------- -------- -------- -------- -------- ----\n",
      "0.77102319068022 0.491061 0.479878 0.504383 0.493061 0.481878 0.506383    9\n"
     ]
    },
    {
     "name": "stderr",
     "output_type": "stream",
     "text": [
      "Parsing Hierarchy : 100%|████████████████| 6312/6312 [00:00<00:00, 12027.97it/s]\n",
      "yt : [INFO     ] 2022-07-19 18:05:59,849 Gathering a field list (this may take a moment.)\n"
     ]
    },
    {
     "name": "stdout",
     "output_type": "stream",
     "text": [
      "Pulling halo center from catalog file\n",
      "Opening snapshot /Volumes/TempestTimeSteps/DD1187/DD1187\n"
     ]
    },
    {
     "name": "stderr",
     "output_type": "stream",
     "text": [
      "yt : [INFO     ] 2022-07-19 18:06:03,693 Parameters: current_time              = 329.56652781829\n",
      "yt : [INFO     ] 2022-07-19 18:06:03,696 Parameters: domain_dimensions         = [256 256 256]\n",
      "yt : [INFO     ] 2022-07-19 18:06:03,700 Parameters: domain_left_edge          = [0. 0. 0.]\n",
      "yt : [INFO     ] 2022-07-19 18:06:03,704 Parameters: domain_right_edge         = [1. 1. 1.]\n",
      "yt : [INFO     ] 2022-07-19 18:06:03,705 Parameters: cosmological_simulation   = 1\n",
      "yt : [INFO     ] 2022-07-19 18:06:03,705 Parameters: current_redshift          = 0.75073113600866\n",
      "yt : [INFO     ] 2022-07-19 18:06:03,706 Parameters: omega_lambda              = 0.715\n",
      "yt : [INFO     ] 2022-07-19 18:06:03,707 Parameters: omega_matter              = 0.285\n",
      "yt : [INFO     ] 2022-07-19 18:06:03,708 Parameters: omega_radiation           = 0.0\n",
      "yt : [INFO     ] 2022-07-19 18:06:03,708 Parameters: hubble_constant           = 0.695\n"
     ]
    },
    {
     "name": "stdout",
     "output_type": "stream",
     "text": [
      "get_refine_box: using this location:       col1         col2     col3     col4     col5     col6     col7   col8\n",
      "---------------- -------- -------- -------- -------- -------- -------- ----\n",
      "0.75073113600866 0.491021 0.479683 0.504466 0.493021 0.481683 0.506466    9\n"
     ]
    },
    {
     "name": "stderr",
     "output_type": "stream",
     "text": [
      "Parsing Hierarchy : 100%|████████████████| 5990/5990 [00:00<00:00, 11904.29it/s]\n",
      "yt : [INFO     ] 2022-07-19 18:06:04,621 Gathering a field list (this may take a moment.)\n"
     ]
    },
    {
     "name": "stdout",
     "output_type": "stream",
     "text": [
      "Pulling halo center from catalog file\n",
      "Opening snapshot /Volumes/TempestTimeSteps/DD1207/DD1207\n"
     ]
    },
    {
     "name": "stderr",
     "output_type": "stream",
     "text": [
      "yt : [INFO     ] 2022-07-19 18:06:08,395 Parameters: current_time              = 334.56652781829\n",
      "yt : [INFO     ] 2022-07-19 18:06:08,398 Parameters: domain_dimensions         = [256 256 256]\n",
      "yt : [INFO     ] 2022-07-19 18:06:08,401 Parameters: domain_left_edge          = [0. 0. 0.]\n",
      "yt : [INFO     ] 2022-07-19 18:06:08,404 Parameters: domain_right_edge         = [1. 1. 1.]\n",
      "yt : [INFO     ] 2022-07-19 18:06:08,405 Parameters: cosmological_simulation   = 1\n",
      "yt : [INFO     ] 2022-07-19 18:06:08,406 Parameters: current_redshift          = 0.7309037944282\n",
      "yt : [INFO     ] 2022-07-19 18:06:08,407 Parameters: omega_lambda              = 0.715\n",
      "yt : [INFO     ] 2022-07-19 18:06:08,407 Parameters: omega_matter              = 0.285\n",
      "yt : [INFO     ] 2022-07-19 18:06:08,408 Parameters: omega_radiation           = 0.0\n",
      "yt : [INFO     ] 2022-07-19 18:06:08,409 Parameters: hubble_constant           = 0.695\n"
     ]
    },
    {
     "name": "stdout",
     "output_type": "stream",
     "text": [
      "get_refine_box: using this location:       col1        col2     col3     col4     col5     col6     col7   col8\n",
      "--------------- -------- -------- -------- -------- -------- -------- ----\n",
      "0.7309037944282 0.490979 0.479485 0.504549 0.492979 0.481485 0.506549    9\n"
     ]
    },
    {
     "name": "stderr",
     "output_type": "stream",
     "text": [
      "Parsing Hierarchy : 100%|████████████████| 5804/5804 [00:00<00:00, 11997.64it/s]\n",
      "yt : [INFO     ] 2022-07-19 18:06:09,199 Gathering a field list (this may take a moment.)\n"
     ]
    },
    {
     "name": "stdout",
     "output_type": "stream",
     "text": [
      "Pulling halo center from catalog file\n",
      "Opening snapshot /Volumes/TempestTimeSteps/DD1227/DD1227\n"
     ]
    },
    {
     "name": "stderr",
     "output_type": "stream",
     "text": [
      "yt : [INFO     ] 2022-07-19 18:06:13,046 Parameters: current_time              = 339.56652781829\n",
      "yt : [INFO     ] 2022-07-19 18:06:13,049 Parameters: domain_dimensions         = [256 256 256]\n",
      "yt : [INFO     ] 2022-07-19 18:06:13,053 Parameters: domain_left_edge          = [0. 0. 0.]\n",
      "yt : [INFO     ] 2022-07-19 18:06:13,057 Parameters: domain_right_edge         = [1. 1. 1.]\n",
      "yt : [INFO     ] 2022-07-19 18:06:13,058 Parameters: cosmological_simulation   = 1\n",
      "yt : [INFO     ] 2022-07-19 18:06:13,059 Parameters: current_redshift          = 0.71152289808928\n",
      "yt : [INFO     ] 2022-07-19 18:06:13,059 Parameters: omega_lambda              = 0.715\n",
      "yt : [INFO     ] 2022-07-19 18:06:13,060 Parameters: omega_matter              = 0.285\n",
      "yt : [INFO     ] 2022-07-19 18:06:13,061 Parameters: omega_radiation           = 0.0\n",
      "yt : [INFO     ] 2022-07-19 18:06:13,061 Parameters: hubble_constant           = 0.695\n"
     ]
    },
    {
     "name": "stdout",
     "output_type": "stream",
     "text": [
      "get_refine_box: using this location:       col1         col2     col3     col4     col5     col6     col7   col8\n",
      "---------------- -------- -------- -------- -------- -------- -------- ----\n",
      "0.71152289808928 0.490935 0.479287 0.504633 0.492935 0.481287 0.506633    9\n"
     ]
    },
    {
     "name": "stderr",
     "output_type": "stream",
     "text": [
      "Parsing Hierarchy : 100%|████████████████| 5825/5825 [00:00<00:00, 11818.72it/s]\n",
      "yt : [INFO     ] 2022-07-19 18:06:13,862 Gathering a field list (this may take a moment.)\n"
     ]
    },
    {
     "name": "stdout",
     "output_type": "stream",
     "text": [
      "Pulling halo center from catalog file\n",
      "Opening snapshot /Volumes/TempestTimeSteps/DD1247/DD1247\n"
     ]
    },
    {
     "name": "stderr",
     "output_type": "stream",
     "text": [
      "yt : [INFO     ] 2022-07-19 18:06:17,697 Parameters: current_time              = 344.56652781829\n",
      "yt : [INFO     ] 2022-07-19 18:06:17,700 Parameters: domain_dimensions         = [256 256 256]\n",
      "yt : [INFO     ] 2022-07-19 18:06:17,703 Parameters: domain_left_edge          = [0. 0. 0.]\n",
      "yt : [INFO     ] 2022-07-19 18:06:17,706 Parameters: domain_right_edge         = [1. 1. 1.]\n",
      "yt : [INFO     ] 2022-07-19 18:06:17,707 Parameters: cosmological_simulation   = 1\n",
      "yt : [INFO     ] 2022-07-19 18:06:17,708 Parameters: current_redshift          = 0.6925711600732\n",
      "yt : [INFO     ] 2022-07-19 18:06:17,709 Parameters: omega_lambda              = 0.715\n",
      "yt : [INFO     ] 2022-07-19 18:06:17,709 Parameters: omega_matter              = 0.285\n",
      "yt : [INFO     ] 2022-07-19 18:06:17,710 Parameters: omega_radiation           = 0.0\n",
      "yt : [INFO     ] 2022-07-19 18:06:17,710 Parameters: hubble_constant           = 0.695\n"
     ]
    },
    {
     "name": "stdout",
     "output_type": "stream",
     "text": [
      "get_refine_box: using this location:       col1        col2     col3     col4     col5     col6     col7   col8\n",
      "--------------- -------- -------- -------- -------- -------- -------- ----\n",
      "0.6925711600732 0.490889 0.479086 0.504717 0.492889 0.481086 0.506717    9\n"
     ]
    },
    {
     "name": "stderr",
     "output_type": "stream",
     "text": [
      "Parsing Hierarchy : 100%|██████████████████| 5729/5729 [00:06<00:00, 852.41it/s]\n",
      "yt : [INFO     ] 2022-07-19 18:06:24,731 Gathering a field list (this may take a moment.)\n"
     ]
    },
    {
     "name": "stdout",
     "output_type": "stream",
     "text": [
      "Pulling halo center from catalog file\n",
      "Opening snapshot /Volumes/TempestTimeSteps/DD1267/DD1267\n"
     ]
    },
    {
     "name": "stderr",
     "output_type": "stream",
     "text": [
      "yt : [INFO     ] 2022-07-19 18:06:28,488 Parameters: current_time              = 349.56652781829\n",
      "yt : [INFO     ] 2022-07-19 18:06:28,491 Parameters: domain_dimensions         = [256 256 256]\n",
      "yt : [INFO     ] 2022-07-19 18:06:28,496 Parameters: domain_left_edge          = [0. 0. 0.]\n",
      "yt : [INFO     ] 2022-07-19 18:06:28,499 Parameters: domain_right_edge         = [1. 1. 1.]\n",
      "yt : [INFO     ] 2022-07-19 18:06:28,500 Parameters: cosmological_simulation   = 1\n",
      "yt : [INFO     ] 2022-07-19 18:06:28,500 Parameters: current_redshift          = 0.67403220866149\n",
      "yt : [INFO     ] 2022-07-19 18:06:28,501 Parameters: omega_lambda              = 0.715\n",
      "yt : [INFO     ] 2022-07-19 18:06:28,501 Parameters: omega_matter              = 0.285\n",
      "yt : [INFO     ] 2022-07-19 18:06:28,502 Parameters: omega_radiation           = 0.0\n",
      "yt : [INFO     ] 2022-07-19 18:06:28,503 Parameters: hubble_constant           = 0.695\n"
     ]
    },
    {
     "name": "stdout",
     "output_type": "stream",
     "text": [
      "get_refine_box: using this location:       col1         col2     col3    col4     col5     col6    col7   col8\n",
      "---------------- -------- ------- -------- -------- ------- -------- ----\n",
      "0.67403220866149 0.490839 0.47889 0.504803 0.492839 0.48089 0.506803    9\n"
     ]
    },
    {
     "name": "stderr",
     "output_type": "stream",
     "text": [
      "Parsing Hierarchy : 100%|████████████████| 5866/5866 [00:00<00:00, 12896.93it/s]\n",
      "yt : [INFO     ] 2022-07-19 18:06:29,282 Gathering a field list (this may take a moment.)\n"
     ]
    },
    {
     "name": "stdout",
     "output_type": "stream",
     "text": [
      "Pulling halo center from catalog file\n",
      "Opening snapshot /Volumes/TempestTimeSteps/DD1287/DD1287\n"
     ]
    },
    {
     "name": "stderr",
     "output_type": "stream",
     "text": [
      "yt : [INFO     ] 2022-07-19 18:06:33,137 Parameters: current_time              = 354.56652781829\n",
      "yt : [INFO     ] 2022-07-19 18:06:33,140 Parameters: domain_dimensions         = [256 256 256]\n",
      "yt : [INFO     ] 2022-07-19 18:06:33,144 Parameters: domain_left_edge          = [0. 0. 0.]\n",
      "yt : [INFO     ] 2022-07-19 18:06:33,147 Parameters: domain_right_edge         = [1. 1. 1.]\n",
      "yt : [INFO     ] 2022-07-19 18:06:33,149 Parameters: cosmological_simulation   = 1\n",
      "yt : [INFO     ] 2022-07-19 18:06:33,149 Parameters: current_redshift          = 0.65589052687153\n",
      "yt : [INFO     ] 2022-07-19 18:06:33,150 Parameters: omega_lambda              = 0.715\n",
      "yt : [INFO     ] 2022-07-19 18:06:33,152 Parameters: omega_matter              = 0.285\n",
      "yt : [INFO     ] 2022-07-19 18:06:33,153 Parameters: omega_radiation           = 0.0\n",
      "yt : [INFO     ] 2022-07-19 18:06:33,153 Parameters: hubble_constant           = 0.695\n"
     ]
    },
    {
     "name": "stdout",
     "output_type": "stream",
     "text": [
      "get_refine_box: using this location:       col1         col2     col3     col4     col5     col6     col7   col8\n",
      "---------------- -------- -------- -------- -------- -------- -------- ----\n",
      "0.65589052687153 0.490792 0.478699 0.504887 0.492792 0.480699 0.506887    9\n"
     ]
    },
    {
     "name": "stderr",
     "output_type": "stream",
     "text": [
      "Parsing Hierarchy : 100%|████████████████| 6144/6144 [00:00<00:00, 12373.05it/s]\n",
      "yt : [INFO     ] 2022-07-19 18:06:33,972 Gathering a field list (this may take a moment.)\n",
      "yt : [INFO     ] 2022-07-19 18:06:37,593 Parameters: current_time              = 359.56652781829\n",
      "yt : [INFO     ] 2022-07-19 18:06:37,596 Parameters: domain_dimensions         = [256 256 256]\n",
      "yt : [INFO     ] 2022-07-19 18:06:37,599 Parameters: domain_left_edge          = [0. 0. 0.]\n"
     ]
    },
    {
     "name": "stdout",
     "output_type": "stream",
     "text": [
      "Pulling halo center from catalog file\n",
      "Opening snapshot /Volumes/TempestTimeSteps/DD1307/DD1307\n"
     ]
    },
    {
     "name": "stderr",
     "output_type": "stream",
     "text": [
      "yt : [INFO     ] 2022-07-19 18:06:37,602 Parameters: domain_right_edge         = [1. 1. 1.]\n",
      "yt : [INFO     ] 2022-07-19 18:06:37,603 Parameters: cosmological_simulation   = 1\n",
      "yt : [INFO     ] 2022-07-19 18:06:37,603 Parameters: current_redshift          = 0.63813139676917\n",
      "yt : [INFO     ] 2022-07-19 18:06:37,604 Parameters: omega_lambda              = 0.715\n",
      "yt : [INFO     ] 2022-07-19 18:06:37,605 Parameters: omega_matter              = 0.285\n",
      "yt : [INFO     ] 2022-07-19 18:06:37,605 Parameters: omega_radiation           = 0.0\n",
      "yt : [INFO     ] 2022-07-19 18:06:37,606 Parameters: hubble_constant           = 0.695\n"
     ]
    },
    {
     "name": "stdout",
     "output_type": "stream",
     "text": [
      "get_refine_box: using this location:       col1         col2     col3     col4     col5     col6     col7   col8\n",
      "---------------- -------- -------- -------- -------- -------- -------- ----\n",
      "0.63813139676917 0.490748 0.478512 0.504971 0.492748 0.480512 0.506971    9\n"
     ]
    },
    {
     "name": "stderr",
     "output_type": "stream",
     "text": [
      "Parsing Hierarchy : 100%|████████████████| 6120/6120 [00:00<00:00, 12831.02it/s]\n",
      "yt : [INFO     ] 2022-07-19 18:06:38,476 Gathering a field list (this may take a moment.)\n"
     ]
    },
    {
     "name": "stdout",
     "output_type": "stream",
     "text": [
      "Pulling halo center from catalog file\n",
      "Opening snapshot /Volumes/TempestTimeSteps/DD1310/DD1310\n"
     ]
    },
    {
     "name": "stderr",
     "output_type": "stream",
     "text": [
      "yt : [INFO     ] 2022-07-19 18:06:42,317 Parameters: current_time              = 360.31652781829\n",
      "yt : [INFO     ] 2022-07-19 18:06:42,320 Parameters: domain_dimensions         = [256 256 256]\n",
      "yt : [INFO     ] 2022-07-19 18:06:42,323 Parameters: domain_left_edge          = [0. 0. 0.]\n",
      "yt : [INFO     ] 2022-07-19 18:06:42,326 Parameters: domain_right_edge         = [1. 1. 1.]\n",
      "yt : [INFO     ] 2022-07-19 18:06:42,327 Parameters: cosmological_simulation   = 1\n",
      "yt : [INFO     ] 2022-07-19 18:06:42,327 Parameters: current_redshift          = 0.63549964938239\n",
      "yt : [INFO     ] 2022-07-19 18:06:42,328 Parameters: omega_lambda              = 0.715\n",
      "yt : [INFO     ] 2022-07-19 18:06:42,329 Parameters: omega_matter              = 0.285\n",
      "yt : [INFO     ] 2022-07-19 18:06:42,330 Parameters: omega_radiation           = 0.0\n",
      "yt : [INFO     ] 2022-07-19 18:06:42,330 Parameters: hubble_constant           = 0.695\n"
     ]
    },
    {
     "name": "stdout",
     "output_type": "stream",
     "text": [
      "get_refine_box: using this location:       col1         col2     col3     col4     col5     col6     col7   col8\n",
      "---------------- -------- -------- -------- -------- -------- -------- ----\n",
      "0.63549964938239 0.490742 0.478486 0.504982 0.492742 0.480486 0.506982    9\n"
     ]
    },
    {
     "name": "stderr",
     "output_type": "stream",
     "text": [
      "Parsing Hierarchy : 100%|████████████████| 6117/6117 [00:00<00:00, 12723.15it/s]\n",
      "yt : [INFO     ] 2022-07-19 18:06:43,143 Gathering a field list (this may take a moment.)\n",
      "yt : [INFO     ] 2022-07-19 18:06:46,964 Parameters: current_time              = 360.56652781829\n",
      "yt : [INFO     ] 2022-07-19 18:06:46,967 Parameters: domain_dimensions         = [256 256 256]\n",
      "yt : [INFO     ] 2022-07-19 18:06:46,970 Parameters: domain_left_edge          = [0. 0. 0.]\n",
      "yt : [INFO     ] 2022-07-19 18:06:46,972 Parameters: domain_right_edge         = [1. 1. 1.]\n",
      "yt : [INFO     ] 2022-07-19 18:06:46,973 Parameters: cosmological_simulation   = 1\n",
      "yt : [INFO     ] 2022-07-19 18:06:46,974 Parameters: current_redshift          = 0.63462423495761\n",
      "yt : [INFO     ] 2022-07-19 18:06:46,974 Parameters: omega_lambda              = 0.715\n",
      "yt : [INFO     ] 2022-07-19 18:06:46,975 Parameters: omega_matter              = 0.285\n"
     ]
    },
    {
     "name": "stdout",
     "output_type": "stream",
     "text": [
      "Pulling halo center from catalog file\n",
      "Opening snapshot /Volumes/TempestTimeSteps/DD1311/DD1311\n"
     ]
    },
    {
     "name": "stderr",
     "output_type": "stream",
     "text": [
      "yt : [INFO     ] 2022-07-19 18:06:46,976 Parameters: omega_radiation           = 0.0\n",
      "yt : [INFO     ] 2022-07-19 18:06:46,976 Parameters: hubble_constant           = 0.695\n"
     ]
    },
    {
     "name": "stdout",
     "output_type": "stream",
     "text": [
      "get_refine_box: using this location:       col1         col2    col3     col4     col5    col6     col7   col8\n",
      "---------------- ------- -------- -------- ------- -------- -------- ----\n",
      "0.63462423495761 0.49074 0.478476 0.504986 0.49274 0.480476 0.506986    9\n"
     ]
    },
    {
     "name": "stderr",
     "output_type": "stream",
     "text": [
      "Parsing Hierarchy : 100%|████████████████| 6212/6212 [00:00<00:00, 12374.75it/s]\n",
      "yt : [INFO     ] 2022-07-19 18:06:47,897 Gathering a field list (this may take a moment.)\n",
      "yt : [INFO     ] 2022-07-19 18:06:51,736 Parameters: current_time              = 360.81652781829\n",
      "yt : [INFO     ] 2022-07-19 18:06:51,739 Parameters: domain_dimensions         = [256 256 256]\n",
      "yt : [INFO     ] 2022-07-19 18:06:51,742 Parameters: domain_left_edge          = [0. 0. 0.]\n"
     ]
    },
    {
     "name": "stdout",
     "output_type": "stream",
     "text": [
      "Pulling halo center from catalog file\n",
      "Opening snapshot /Volumes/TempestTimeSteps/DD1312/DD1312\n"
     ]
    },
    {
     "name": "stderr",
     "output_type": "stream",
     "text": [
      "yt : [INFO     ] 2022-07-19 18:06:51,746 Parameters: domain_right_edge         = [1. 1. 1.]\n",
      "yt : [INFO     ] 2022-07-19 18:06:51,747 Parameters: cosmological_simulation   = 1\n",
      "yt : [INFO     ] 2022-07-19 18:06:51,747 Parameters: current_redshift          = 0.63374973507151\n",
      "yt : [INFO     ] 2022-07-19 18:06:51,748 Parameters: omega_lambda              = 0.715\n",
      "yt : [INFO     ] 2022-07-19 18:06:51,748 Parameters: omega_matter              = 0.285\n",
      "yt : [INFO     ] 2022-07-19 18:06:51,749 Parameters: omega_radiation           = 0.0\n",
      "yt : [INFO     ] 2022-07-19 18:06:51,750 Parameters: hubble_constant           = 0.695\n"
     ]
    },
    {
     "name": "stdout",
     "output_type": "stream",
     "text": [
      "get_refine_box: using this location:       col1         col2     col3     col4    col5     col6     col7  col8\n",
      "---------------- -------- -------- ------- -------- -------- ------- ----\n",
      "0.63374973507151 0.490738 0.478466 0.50499 0.492738 0.480466 0.50699    9\n"
     ]
    },
    {
     "name": "stderr",
     "output_type": "stream",
     "text": [
      "Parsing Hierarchy : 100%|████████████████| 6058/6058 [00:00<00:00, 12941.04it/s]\n",
      "yt : [INFO     ] 2022-07-19 18:06:52,606 Gathering a field list (this may take a moment.)\n",
      "yt : [INFO     ] 2022-07-19 18:06:56,322 Parameters: current_time              = 361.06652781829\n",
      "yt : [INFO     ] 2022-07-19 18:06:56,325 Parameters: domain_dimensions         = [256 256 256]\n",
      "yt : [INFO     ] 2022-07-19 18:06:56,329 Parameters: domain_left_edge          = [0. 0. 0.]\n"
     ]
    },
    {
     "name": "stdout",
     "output_type": "stream",
     "text": [
      "Pulling halo center from catalog file\n",
      "Opening snapshot /Volumes/TempestTimeSteps/DD1313/DD1313\n"
     ]
    },
    {
     "name": "stderr",
     "output_type": "stream",
     "text": [
      "yt : [INFO     ] 2022-07-19 18:06:56,332 Parameters: domain_right_edge         = [1. 1. 1.]\n",
      "yt : [INFO     ] 2022-07-19 18:06:56,333 Parameters: cosmological_simulation   = 1\n",
      "yt : [INFO     ] 2022-07-19 18:06:56,334 Parameters: current_redshift          = 0.63287614804254\n",
      "yt : [INFO     ] 2022-07-19 18:06:56,335 Parameters: omega_lambda              = 0.715\n",
      "yt : [INFO     ] 2022-07-19 18:06:56,335 Parameters: omega_matter              = 0.285\n",
      "yt : [INFO     ] 2022-07-19 18:06:56,336 Parameters: omega_radiation           = 0.0\n",
      "yt : [INFO     ] 2022-07-19 18:06:56,337 Parameters: hubble_constant           = 0.695\n"
     ]
    },
    {
     "name": "stdout",
     "output_type": "stream",
     "text": [
      "get_refine_box: using this location:       col1         col2     col3     col4     col5     col6     col7   col8\n",
      "---------------- -------- -------- -------- -------- -------- -------- ----\n",
      "0.63287614804254 0.490735 0.478457 0.504994 0.492735 0.480457 0.506994    9\n"
     ]
    },
    {
     "name": "stderr",
     "output_type": "stream",
     "text": [
      "Parsing Hierarchy : 100%|████████████████| 6082/6082 [00:00<00:00, 12351.19it/s]\n",
      "yt : [INFO     ] 2022-07-19 18:06:57,216 Gathering a field list (this may take a moment.)\n",
      "yt : [INFO     ] 2022-07-19 18:07:01,066 Parameters: current_time              = 361.31652781829\n",
      "yt : [INFO     ] 2022-07-19 18:07:01,069 Parameters: domain_dimensions         = [256 256 256]\n",
      "yt : [INFO     ] 2022-07-19 18:07:01,072 Parameters: domain_left_edge          = [0. 0. 0.]\n"
     ]
    },
    {
     "name": "stdout",
     "output_type": "stream",
     "text": [
      "Pulling halo center from catalog file\n",
      "Opening snapshot /Volumes/TempestTimeSteps/DD1314/DD1314\n"
     ]
    },
    {
     "name": "stderr",
     "output_type": "stream",
     "text": [
      "yt : [INFO     ] 2022-07-19 18:07:01,076 Parameters: domain_right_edge         = [1. 1. 1.]\n",
      "yt : [INFO     ] 2022-07-19 18:07:01,076 Parameters: cosmological_simulation   = 1\n",
      "yt : [INFO     ] 2022-07-19 18:07:01,077 Parameters: current_redshift          = 0.63200347219345\n",
      "yt : [INFO     ] 2022-07-19 18:07:01,078 Parameters: omega_lambda              = 0.715\n",
      "yt : [INFO     ] 2022-07-19 18:07:01,078 Parameters: omega_matter              = 0.285\n",
      "yt : [INFO     ] 2022-07-19 18:07:01,079 Parameters: omega_radiation           = 0.0\n",
      "yt : [INFO     ] 2022-07-19 18:07:01,079 Parameters: hubble_constant           = 0.695\n"
     ]
    },
    {
     "name": "stdout",
     "output_type": "stream",
     "text": [
      "get_refine_box: using this location:       col1         col2     col3    col4   col5     col6    col7 col8\n",
      "---------------- -------- -------- ----- -------- -------- ----- ----\n",
      "0.63200347219345 0.490733 0.478449 0.505 0.492733 0.480449 0.507    9\n"
     ]
    },
    {
     "name": "stderr",
     "output_type": "stream",
     "text": [
      "Parsing Hierarchy : 100%|████████████████| 5996/5996 [00:00<00:00, 12858.73it/s]\n",
      "yt : [INFO     ] 2022-07-19 18:07:01,932 Gathering a field list (this may take a moment.)\n",
      "yt : [INFO     ] 2022-07-19 18:07:05,719 Parameters: current_time              = 361.56652781829\n",
      "yt : [INFO     ] 2022-07-19 18:07:05,722 Parameters: domain_dimensions         = [256 256 256]\n",
      "yt : [INFO     ] 2022-07-19 18:07:05,725 Parameters: domain_left_edge          = [0. 0. 0.]\n",
      "yt : [INFO     ] 2022-07-19 18:07:05,728 Parameters: domain_right_edge         = [1. 1. 1.]\n",
      "yt : [INFO     ] 2022-07-19 18:07:05,729 Parameters: cosmological_simulation   = 1\n",
      "yt : [INFO     ] 2022-07-19 18:07:05,730 Parameters: current_redshift          = 0.63113170585127\n",
      "yt : [INFO     ] 2022-07-19 18:07:05,730 Parameters: omega_lambda              = 0.715\n"
     ]
    },
    {
     "name": "stdout",
     "output_type": "stream",
     "text": [
      "Pulling halo center from catalog file\n",
      "Opening snapshot /Volumes/TempestTimeSteps/DD1315/DD1315\n"
     ]
    },
    {
     "name": "stderr",
     "output_type": "stream",
     "text": [
      "yt : [INFO     ] 2022-07-19 18:07:05,731 Parameters: omega_matter              = 0.285\n",
      "yt : [INFO     ] 2022-07-19 18:07:05,732 Parameters: omega_radiation           = 0.0\n",
      "yt : [INFO     ] 2022-07-19 18:07:05,732 Parameters: hubble_constant           = 0.695\n"
     ]
    },
    {
     "name": "stdout",
     "output_type": "stream",
     "text": [
      "get_refine_box: using this location:       col1         col2     col3    col4     col5     col6    col7   col8\n",
      "---------------- -------- ------- -------- -------- ------- -------- ----\n",
      "0.63113170585127 0.490731 0.47844 0.505003 0.492731 0.48044 0.507003    9\n"
     ]
    },
    {
     "name": "stderr",
     "output_type": "stream",
     "text": [
      "Parsing Hierarchy : 100%|████████████████| 6053/6053 [00:00<00:00, 13195.04it/s]\n",
      "yt : [INFO     ] 2022-07-19 18:07:06,501 Gathering a field list (this may take a moment.)\n",
      "yt : [INFO     ] 2022-07-19 18:07:10,377 Parameters: current_time              = 361.81652781829\n",
      "yt : [INFO     ] 2022-07-19 18:07:10,380 Parameters: domain_dimensions         = [256 256 256]\n",
      "yt : [INFO     ] 2022-07-19 18:07:10,384 Parameters: domain_left_edge          = [0. 0. 0.]\n",
      "yt : [INFO     ] 2022-07-19 18:07:10,387 Parameters: domain_right_edge         = [1. 1. 1.]\n",
      "yt : [INFO     ] 2022-07-19 18:07:10,387 Parameters: cosmological_simulation   = 1\n",
      "yt : [INFO     ] 2022-07-19 18:07:10,388 Parameters: current_redshift          = 0.63026084734731\n",
      "yt : [INFO     ] 2022-07-19 18:07:10,389 Parameters: omega_lambda              = 0.715\n",
      "yt : [INFO     ] 2022-07-19 18:07:10,389 Parameters: omega_matter              = 0.285\n",
      "yt : [INFO     ] 2022-07-19 18:07:10,390 Parameters: omega_radiation           = 0.0\n",
      "yt : [INFO     ] 2022-07-19 18:07:10,391 Parameters: hubble_constant           = 0.695\n"
     ]
    },
    {
     "name": "stdout",
     "output_type": "stream",
     "text": [
      "Pulling halo center from catalog file\n",
      "Opening snapshot /Volumes/TempestTimeSteps/DD1316/DD1316\n",
      "get_refine_box: using this location:       col1         col2     col3    col4     col5     col6    col7   col8\n",
      "---------------- -------- ------- -------- -------- ------- -------- ----\n",
      "0.63026084734731 0.490729 0.47843 0.505007 0.492729 0.48043 0.507007    9\n"
     ]
    },
    {
     "name": "stderr",
     "output_type": "stream",
     "text": [
      "Parsing Hierarchy : 100%|████████████████| 5907/5907 [00:00<00:00, 12869.30it/s]\n",
      "yt : [INFO     ] 2022-07-19 18:07:11,245 Gathering a field list (this may take a moment.)\n",
      "yt : [INFO     ] 2022-07-19 18:07:15,248 Parameters: current_time              = 362.31652781829\n",
      "yt : [INFO     ] 2022-07-19 18:07:15,251 Parameters: domain_dimensions         = [256 256 256]\n"
     ]
    },
    {
     "name": "stdout",
     "output_type": "stream",
     "text": [
      "Pulling halo center from catalog file\n",
      "Opening snapshot /Volumes/TempestTimeSteps/DD1318/DD1318\n"
     ]
    },
    {
     "name": "stderr",
     "output_type": "stream",
     "text": [
      "yt : [INFO     ] 2022-07-19 18:07:15,254 Parameters: domain_left_edge          = [0. 0. 0.]\n",
      "yt : [INFO     ] 2022-07-19 18:07:15,258 Parameters: domain_right_edge         = [1. 1. 1.]\n",
      "yt : [INFO     ] 2022-07-19 18:07:15,259 Parameters: cosmological_simulation   = 1\n",
      "yt : [INFO     ] 2022-07-19 18:07:15,259 Parameters: current_redshift          = 0.62852184720062\n",
      "yt : [INFO     ] 2022-07-19 18:07:15,262 Parameters: omega_lambda              = 0.715\n",
      "yt : [INFO     ] 2022-07-19 18:07:15,263 Parameters: omega_matter              = 0.285\n",
      "yt : [INFO     ] 2022-07-19 18:07:15,263 Parameters: omega_radiation           = 0.0\n",
      "yt : [INFO     ] 2022-07-19 18:07:15,264 Parameters: hubble_constant           = 0.695\n"
     ]
    },
    {
     "name": "stdout",
     "output_type": "stream",
     "text": [
      "get_refine_box: using this location:       col1         col2     col3     col4     col5     col6     col7   col8\n",
      "---------------- -------- -------- -------- -------- -------- -------- ----\n",
      "0.62852184720062 0.490725 0.478411 0.505015 0.492725 0.480411 0.507015    9\n"
     ]
    },
    {
     "name": "stderr",
     "output_type": "stream",
     "text": [
      "Parsing Hierarchy : 100%|████████████████| 6061/6061 [00:00<00:00, 12833.38it/s]\n",
      "yt : [INFO     ] 2022-07-19 18:07:16,135 Gathering a field list (this may take a moment.)\n"
     ]
    },
    {
     "name": "stdout",
     "output_type": "stream",
     "text": [
      "Pulling halo center from catalog file\n",
      "Opening snapshot /Volumes/TempestTimeSteps/DD1319/DD1319\n"
     ]
    },
    {
     "name": "stderr",
     "output_type": "stream",
     "text": [
      "yt : [INFO     ] 2022-07-19 18:07:20,035 Parameters: current_time              = 362.56652781829\n",
      "yt : [INFO     ] 2022-07-19 18:07:20,038 Parameters: domain_dimensions         = [256 256 256]\n",
      "yt : [INFO     ] 2022-07-19 18:07:20,041 Parameters: domain_left_edge          = [0. 0. 0.]\n",
      "yt : [INFO     ] 2022-07-19 18:07:20,044 Parameters: domain_right_edge         = [1. 1. 1.]\n",
      "yt : [INFO     ] 2022-07-19 18:07:20,045 Parameters: cosmological_simulation   = 1\n",
      "yt : [INFO     ] 2022-07-19 18:07:20,046 Parameters: current_redshift          = 0.62765370224176\n",
      "yt : [INFO     ] 2022-07-19 18:07:20,047 Parameters: omega_lambda              = 0.715\n",
      "yt : [INFO     ] 2022-07-19 18:07:20,047 Parameters: omega_matter              = 0.285\n",
      "yt : [INFO     ] 2022-07-19 18:07:20,048 Parameters: omega_radiation           = 0.0\n",
      "yt : [INFO     ] 2022-07-19 18:07:20,049 Parameters: hubble_constant           = 0.695\n"
     ]
    },
    {
     "name": "stdout",
     "output_type": "stream",
     "text": [
      "get_refine_box: using this location:       col1         col2     col3     col4     col5     col6     col7   col8\n",
      "---------------- -------- -------- -------- -------- -------- -------- ----\n",
      "0.62765370224176 0.490723 0.478402 0.505019 0.492723 0.480402 0.507019    9\n"
     ]
    },
    {
     "name": "stderr",
     "output_type": "stream",
     "text": [
      "Parsing Hierarchy : 100%|████████████████| 6108/6108 [00:00<00:00, 12171.11it/s]\n",
      "yt : [INFO     ] 2022-07-19 18:07:20,889 Gathering a field list (this may take a moment.)\n"
     ]
    },
    {
     "name": "stdout",
     "output_type": "stream",
     "text": [
      "Pulling halo center from catalog file\n",
      "Opening snapshot /Volumes/TempestTimeSteps/DD1320/DD1320\n"
     ]
    },
    {
     "name": "stderr",
     "output_type": "stream",
     "text": [
      "yt : [INFO     ] 2022-07-19 18:07:24,911 Parameters: current_time              = 362.81652781829\n",
      "yt : [INFO     ] 2022-07-19 18:07:24,917 Parameters: domain_dimensions         = [256 256 256]\n",
      "yt : [INFO     ] 2022-07-19 18:07:24,920 Parameters: domain_left_edge          = [0. 0. 0.]\n",
      "yt : [INFO     ] 2022-07-19 18:07:24,923 Parameters: domain_right_edge         = [1. 1. 1.]\n",
      "yt : [INFO     ] 2022-07-19 18:07:24,924 Parameters: cosmological_simulation   = 1\n",
      "yt : [INFO     ] 2022-07-19 18:07:24,924 Parameters: current_redshift          = 0.62678645848885\n",
      "yt : [INFO     ] 2022-07-19 18:07:24,925 Parameters: omega_lambda              = 0.715\n",
      "yt : [INFO     ] 2022-07-19 18:07:24,926 Parameters: omega_matter              = 0.285\n",
      "yt : [INFO     ] 2022-07-19 18:07:24,927 Parameters: omega_radiation           = 0.0\n",
      "yt : [INFO     ] 2022-07-19 18:07:24,928 Parameters: hubble_constant           = 0.695\n"
     ]
    },
    {
     "name": "stdout",
     "output_type": "stream",
     "text": [
      "get_refine_box: using this location:       col1         col2     col3     col4     col5     col6     col7   col8\n",
      "---------------- -------- -------- -------- -------- -------- -------- ----\n",
      "0.62678645848885 0.490721 0.478392 0.505022 0.492721 0.480392 0.507022    9\n"
     ]
    },
    {
     "name": "stderr",
     "output_type": "stream",
     "text": [
      "Parsing Hierarchy : 100%|█████████████████| 6021/6021 [00:00<00:00, 8000.90it/s]\n",
      "yt : [INFO     ] 2022-07-19 18:07:26,070 Gathering a field list (this may take a moment.)\n"
     ]
    },
    {
     "name": "stdout",
     "output_type": "stream",
     "text": [
      "Pulling halo center from catalog file\n",
      "Opening snapshot /Volumes/TempestTimeSteps/DD1327/DD1327\n"
     ]
    },
    {
     "name": "stderr",
     "output_type": "stream",
     "text": [
      "yt : [INFO     ] 2022-07-19 18:07:30,047 Parameters: current_time              = 364.56652781829\n",
      "yt : [INFO     ] 2022-07-19 18:07:30,050 Parameters: domain_dimensions         = [256 256 256]\n",
      "yt : [INFO     ] 2022-07-19 18:07:30,053 Parameters: domain_left_edge          = [0. 0. 0.]\n",
      "yt : [INFO     ] 2022-07-19 18:07:30,056 Parameters: domain_right_edge         = [1. 1. 1.]\n",
      "yt : [INFO     ] 2022-07-19 18:07:30,057 Parameters: cosmological_simulation   = 1\n",
      "yt : [INFO     ] 2022-07-19 18:07:30,058 Parameters: current_redshift          = 0.62074084812024\n",
      "yt : [INFO     ] 2022-07-19 18:07:30,059 Parameters: omega_lambda              = 0.715\n",
      "yt : [INFO     ] 2022-07-19 18:07:30,059 Parameters: omega_matter              = 0.285\n",
      "yt : [INFO     ] 2022-07-19 18:07:30,060 Parameters: omega_radiation           = 0.0\n",
      "yt : [INFO     ] 2022-07-19 18:07:30,060 Parameters: hubble_constant           = 0.695\n"
     ]
    },
    {
     "name": "stdout",
     "output_type": "stream",
     "text": [
      "get_refine_box: using this location:       col1         col2     col3     col4     col5     col6     col7   col8\n",
      "---------------- -------- -------- -------- -------- -------- -------- ----\n",
      "0.62074084812024 0.490704 0.478329 0.505051 0.492704 0.480329 0.507051    9\n"
     ]
    },
    {
     "name": "stderr",
     "output_type": "stream",
     "text": [
      "Parsing Hierarchy : 100%|████████████████| 6122/6122 [00:00<00:00, 13372.83it/s]\n",
      "yt : [INFO     ] 2022-07-19 18:07:30,831 Gathering a field list (this may take a moment.)\n"
     ]
    },
    {
     "name": "stdout",
     "output_type": "stream",
     "text": [
      "Pulling halo center from catalog file\n",
      "Opening snapshot /Volumes/TempestTimeSteps/DD1347/DD1347\n"
     ]
    },
    {
     "name": "stderr",
     "output_type": "stream",
     "text": [
      "yt : [INFO     ] 2022-07-19 18:07:34,524 Parameters: current_time              = 369.56652781829\n",
      "yt : [INFO     ] 2022-07-19 18:07:34,528 Parameters: domain_dimensions         = [256 256 256]\n",
      "yt : [INFO     ] 2022-07-19 18:07:34,531 Parameters: domain_left_edge          = [0. 0. 0.]\n",
      "yt : [INFO     ] 2022-07-19 18:07:34,534 Parameters: domain_right_edge         = [1. 1. 1.]\n",
      "yt : [INFO     ] 2022-07-19 18:07:34,534 Parameters: cosmological_simulation   = 1\n",
      "yt : [INFO     ] 2022-07-19 18:07:34,535 Parameters: current_redshift          = 0.60370561098879\n",
      "yt : [INFO     ] 2022-07-19 18:07:34,536 Parameters: omega_lambda              = 0.715\n",
      "yt : [INFO     ] 2022-07-19 18:07:34,536 Parameters: omega_matter              = 0.285\n",
      "yt : [INFO     ] 2022-07-19 18:07:34,539 Parameters: omega_radiation           = 0.0\n",
      "yt : [INFO     ] 2022-07-19 18:07:34,540 Parameters: hubble_constant           = 0.695\n"
     ]
    },
    {
     "name": "stdout",
     "output_type": "stream",
     "text": [
      "get_refine_box: using this location:       col1         col2    col3     col4     col5    col6     col7   col8\n",
      "---------------- ------- -------- -------- ------- -------- -------- ----\n",
      "0.60370561098879 0.49066 0.478148 0.505129 0.49266 0.480148 0.507129    9\n"
     ]
    },
    {
     "name": "stderr",
     "output_type": "stream",
     "text": [
      "Parsing Hierarchy : 100%|████████████████| 6238/6238 [00:00<00:00, 13169.47it/s]\n",
      "yt : [INFO     ] 2022-07-19 18:07:35,342 Gathering a field list (this may take a moment.)\n"
     ]
    },
    {
     "name": "stdout",
     "output_type": "stream",
     "text": [
      "Pulling halo center from catalog file\n",
      "Opening snapshot /Volumes/TempestTimeSteps/DD1367/DD1367\n"
     ]
    },
    {
     "name": "stderr",
     "output_type": "stream",
     "text": [
      "yt : [INFO     ] 2022-07-19 18:07:39,190 Parameters: current_time              = 374.56652781829\n",
      "yt : [INFO     ] 2022-07-19 18:07:39,193 Parameters: domain_dimensions         = [256 256 256]\n",
      "yt : [INFO     ] 2022-07-19 18:07:39,196 Parameters: domain_left_edge          = [0. 0. 0.]\n",
      "yt : [INFO     ] 2022-07-19 18:07:39,199 Parameters: domain_right_edge         = [1. 1. 1.]\n",
      "yt : [INFO     ] 2022-07-19 18:07:39,200 Parameters: cosmological_simulation   = 1\n",
      "yt : [INFO     ] 2022-07-19 18:07:39,200 Parameters: current_redshift          = 0.58701307192989\n",
      "yt : [INFO     ] 2022-07-19 18:07:39,201 Parameters: omega_lambda              = 0.715\n",
      "yt : [INFO     ] 2022-07-19 18:07:39,201 Parameters: omega_matter              = 0.285\n",
      "yt : [INFO     ] 2022-07-19 18:07:39,202 Parameters: omega_radiation           = 0.0\n",
      "yt : [INFO     ] 2022-07-19 18:07:39,203 Parameters: hubble_constant           = 0.695\n"
     ]
    },
    {
     "name": "stdout",
     "output_type": "stream",
     "text": [
      "get_refine_box: using this location:       col1         col2     col3     col4     col5     col6     col7   col8\n",
      "---------------- -------- -------- -------- -------- -------- -------- ----\n",
      "0.58701307192989 0.490616 0.477969 0.505207 0.492616 0.479969 0.507207    9\n"
     ]
    },
    {
     "name": "stderr",
     "output_type": "stream",
     "text": [
      "Parsing Hierarchy : 100%|████████████████| 6198/6198 [00:00<00:00, 12988.45it/s]\n",
      "yt : [INFO     ] 2022-07-19 18:07:39,990 Gathering a field list (this may take a moment.)\n"
     ]
    },
    {
     "name": "stdout",
     "output_type": "stream",
     "text": [
      "Pulling halo center from catalog file\n",
      "Opening snapshot /Volumes/TempestTimeSteps/DD1387/DD1387\n"
     ]
    },
    {
     "name": "stderr",
     "output_type": "stream",
     "text": [
      "yt : [INFO     ] 2022-07-19 18:07:43,758 Parameters: current_time              = 379.56652781829\n",
      "yt : [INFO     ] 2022-07-19 18:07:43,761 Parameters: domain_dimensions         = [256 256 256]\n",
      "yt : [INFO     ] 2022-07-19 18:07:43,764 Parameters: domain_left_edge          = [0. 0. 0.]\n",
      "yt : [INFO     ] 2022-07-19 18:07:43,767 Parameters: domain_right_edge         = [1. 1. 1.]\n",
      "yt : [INFO     ] 2022-07-19 18:07:43,768 Parameters: cosmological_simulation   = 1\n",
      "yt : [INFO     ] 2022-07-19 18:07:43,768 Parameters: current_redshift          = 0.57065123346059\n",
      "yt : [INFO     ] 2022-07-19 18:07:43,769 Parameters: omega_lambda              = 0.715\n",
      "yt : [INFO     ] 2022-07-19 18:07:43,770 Parameters: omega_matter              = 0.285\n",
      "yt : [INFO     ] 2022-07-19 18:07:43,771 Parameters: omega_radiation           = 0.0\n",
      "yt : [INFO     ] 2022-07-19 18:07:43,771 Parameters: hubble_constant           = 0.695\n"
     ]
    },
    {
     "name": "stdout",
     "output_type": "stream",
     "text": [
      "get_refine_box: using this location:       col1         col2     col3     col4     col5     col6     col7   col8\n",
      "---------------- -------- -------- -------- -------- -------- -------- ----\n",
      "0.57065123346059 0.490572 0.477791 0.505288 0.492572 0.479791 0.507288    9\n"
     ]
    },
    {
     "name": "stderr",
     "output_type": "stream",
     "text": [
      "Parsing Hierarchy : 100%|████████████████| 6136/6136 [00:00<00:00, 13093.21it/s]\n",
      "yt : [INFO     ] 2022-07-19 18:07:44,545 Gathering a field list (this may take a moment.)\n"
     ]
    },
    {
     "name": "stdout",
     "output_type": "stream",
     "text": [
      "Pulling halo center from catalog file\n",
      "Opening snapshot /Volumes/TempestTimeSteps/DD1407/DD1407\n"
     ]
    },
    {
     "name": "stderr",
     "output_type": "stream",
     "text": [
      "yt : [INFO     ] 2022-07-19 18:07:48,361 Parameters: current_time              = 384.56652781829\n",
      "yt : [INFO     ] 2022-07-19 18:07:48,364 Parameters: domain_dimensions         = [256 256 256]\n",
      "yt : [INFO     ] 2022-07-19 18:07:48,367 Parameters: domain_left_edge          = [0. 0. 0.]\n",
      "yt : [INFO     ] 2022-07-19 18:07:48,370 Parameters: domain_right_edge         = [1. 1. 1.]\n",
      "yt : [INFO     ] 2022-07-19 18:07:48,371 Parameters: cosmological_simulation   = 1\n",
      "yt : [INFO     ] 2022-07-19 18:07:48,371 Parameters: current_redshift          = 0.55460867652421\n",
      "yt : [INFO     ] 2022-07-19 18:07:48,372 Parameters: omega_lambda              = 0.715\n",
      "yt : [INFO     ] 2022-07-19 18:07:48,373 Parameters: omega_matter              = 0.285\n",
      "yt : [INFO     ] 2022-07-19 18:07:48,374 Parameters: omega_radiation           = 0.0\n",
      "yt : [INFO     ] 2022-07-19 18:07:48,374 Parameters: hubble_constant           = 0.695\n"
     ]
    },
    {
     "name": "stdout",
     "output_type": "stream",
     "text": [
      "get_refine_box: using this location:       col1         col2     col3     col4     col5     col6     col7   col8\n",
      "---------------- -------- -------- -------- -------- -------- -------- ----\n",
      "0.55460867652421 0.490529 0.477618 0.505368 0.492529 0.479618 0.507368    9\n"
     ]
    },
    {
     "name": "stderr",
     "output_type": "stream",
     "text": [
      "Parsing Hierarchy : 100%|████████████████| 5851/5851 [00:00<00:00, 11143.53it/s]\n",
      "yt : [INFO     ] 2022-07-19 18:07:49,209 Gathering a field list (this may take a moment.)\n",
      "yt : [INFO     ] 2022-07-19 18:07:52,812 Parameters: current_time              = 389.56652781829\n"
     ]
    },
    {
     "name": "stdout",
     "output_type": "stream",
     "text": [
      "Pulling halo center from catalog file\n",
      "Opening snapshot /Volumes/TempestTimeSteps/DD1427/DD1427\n"
     ]
    },
    {
     "name": "stderr",
     "output_type": "stream",
     "text": [
      "yt : [INFO     ] 2022-07-19 18:07:52,816 Parameters: domain_dimensions         = [256 256 256]\n",
      "yt : [INFO     ] 2022-07-19 18:07:52,821 Parameters: domain_left_edge          = [0. 0. 0.]\n",
      "yt : [INFO     ] 2022-07-19 18:07:52,824 Parameters: domain_right_edge         = [1. 1. 1.]\n",
      "yt : [INFO     ] 2022-07-19 18:07:52,825 Parameters: cosmological_simulation   = 1\n",
      "yt : [INFO     ] 2022-07-19 18:07:52,825 Parameters: current_redshift          = 0.53887452569124\n",
      "yt : [INFO     ] 2022-07-19 18:07:52,826 Parameters: omega_lambda              = 0.715\n",
      "yt : [INFO     ] 2022-07-19 18:07:52,827 Parameters: omega_matter              = 0.285\n",
      "yt : [INFO     ] 2022-07-19 18:07:52,827 Parameters: omega_radiation           = 0.0\n",
      "yt : [INFO     ] 2022-07-19 18:07:52,828 Parameters: hubble_constant           = 0.695\n"
     ]
    },
    {
     "name": "stdout",
     "output_type": "stream",
     "text": [
      "get_refine_box: using this location:       col1         col2     col3     col4    col5     col6     col7  col8\n",
      "---------------- -------- -------- ------- -------- -------- ------- ----\n",
      "0.53887452569124 0.490487 0.477448 0.50545 0.492487 0.479448 0.50745    9\n"
     ]
    },
    {
     "name": "stderr",
     "output_type": "stream",
     "text": [
      "Parsing Hierarchy : 100%|████████████████| 5833/5833 [00:00<00:00, 12893.46it/s]\n",
      "yt : [INFO     ] 2022-07-19 18:07:53,671 Gathering a field list (this may take a moment.)\n"
     ]
    },
    {
     "name": "stdout",
     "output_type": "stream",
     "text": [
      "Pulling halo center from catalog file\n",
      "Opening snapshot /Volumes/TempestTimeSteps/DD1447/DD1447\n"
     ]
    },
    {
     "name": "stderr",
     "output_type": "stream",
     "text": [
      "yt : [INFO     ] 2022-07-19 18:07:57,481 Parameters: current_time              = 394.56652781829\n",
      "yt : [INFO     ] 2022-07-19 18:07:57,484 Parameters: domain_dimensions         = [256 256 256]\n",
      "yt : [INFO     ] 2022-07-19 18:07:57,487 Parameters: domain_left_edge          = [0. 0. 0.]\n",
      "yt : [INFO     ] 2022-07-19 18:07:57,490 Parameters: domain_right_edge         = [1. 1. 1.]\n",
      "yt : [INFO     ] 2022-07-19 18:07:57,491 Parameters: cosmological_simulation   = 1\n",
      "yt : [INFO     ] 2022-07-19 18:07:57,492 Parameters: current_redshift          = 0.52343841686509\n",
      "yt : [INFO     ] 2022-07-19 18:07:57,492 Parameters: omega_lambda              = 0.715\n",
      "yt : [INFO     ] 2022-07-19 18:07:57,493 Parameters: omega_matter              = 0.285\n",
      "yt : [INFO     ] 2022-07-19 18:07:57,494 Parameters: omega_radiation           = 0.0\n",
      "yt : [INFO     ] 2022-07-19 18:07:57,494 Parameters: hubble_constant           = 0.695\n"
     ]
    },
    {
     "name": "stdout",
     "output_type": "stream",
     "text": [
      "get_refine_box: using this location:       col1         col2     col3     col4     col5     col6     col7   col8\n",
      "---------------- -------- -------- -------- -------- -------- -------- ----\n",
      "0.52343841686509 0.490445 0.477276 0.505537 0.492445 0.479276 0.507537    9\n"
     ]
    },
    {
     "name": "stderr",
     "output_type": "stream",
     "text": [
      "Parsing Hierarchy : 100%|██████████████████| 6011/6011 [00:10<00:00, 584.09it/s]\n",
      "yt : [INFO     ] 2022-07-19 18:08:08,100 Gathering a field list (this may take a moment.)\n"
     ]
    },
    {
     "name": "stdout",
     "output_type": "stream",
     "text": [
      "Pulling halo center from catalog file\n",
      "Opening snapshot /Volumes/TempestTimeSteps/DD1467/DD1467\n"
     ]
    },
    {
     "name": "stderr",
     "output_type": "stream",
     "text": [
      "yt : [INFO     ] 2022-07-19 18:08:11,909 Parameters: current_time              = 399.56652781829\n",
      "yt : [INFO     ] 2022-07-19 18:08:11,912 Parameters: domain_dimensions         = [256 256 256]\n",
      "yt : [INFO     ] 2022-07-19 18:08:11,915 Parameters: domain_left_edge          = [0. 0. 0.]\n",
      "yt : [INFO     ] 2022-07-19 18:08:11,917 Parameters: domain_right_edge         = [1. 1. 1.]\n",
      "yt : [INFO     ] 2022-07-19 18:08:11,918 Parameters: cosmological_simulation   = 1\n",
      "yt : [INFO     ] 2022-07-19 18:08:11,919 Parameters: current_redshift          = 0.50829046728324\n",
      "yt : [INFO     ] 2022-07-19 18:08:11,920 Parameters: omega_lambda              = 0.715\n",
      "yt : [INFO     ] 2022-07-19 18:08:11,920 Parameters: omega_matter              = 0.285\n",
      "yt : [INFO     ] 2022-07-19 18:08:11,921 Parameters: omega_radiation           = 0.0\n",
      "yt : [INFO     ] 2022-07-19 18:08:11,922 Parameters: hubble_constant           = 0.695\n"
     ]
    },
    {
     "name": "stdout",
     "output_type": "stream",
     "text": [
      "get_refine_box: using this location:       col1         col2     col3     col4     col5     col6     col7   col8\n",
      "---------------- -------- -------- -------- -------- -------- -------- ----\n",
      "0.50829046728324 0.490403 0.477105 0.505623 0.492403 0.479105 0.507623    9\n"
     ]
    },
    {
     "name": "stderr",
     "output_type": "stream",
     "text": [
      "Parsing Hierarchy : 100%|████████████████| 6171/6171 [00:00<00:00, 13041.46it/s]\n",
      "yt : [INFO     ] 2022-07-19 18:08:12,706 Gathering a field list (this may take a moment.)\n"
     ]
    },
    {
     "name": "stdout",
     "output_type": "stream",
     "text": [
      "Pulling halo center from catalog file\n",
      "Opening snapshot /Volumes/TempestTimeSteps/DD1487/DD1487\n"
     ]
    },
    {
     "name": "stderr",
     "output_type": "stream",
     "text": [
      "yt : [INFO     ] 2022-07-19 18:08:16,344 Parameters: current_time              = 404.56652781829\n",
      "yt : [INFO     ] 2022-07-19 18:08:16,347 Parameters: domain_dimensions         = [256 256 256]\n",
      "yt : [INFO     ] 2022-07-19 18:08:16,350 Parameters: domain_left_edge          = [0. 0. 0.]\n",
      "yt : [INFO     ] 2022-07-19 18:08:16,353 Parameters: domain_right_edge         = [1. 1. 1.]\n",
      "yt : [INFO     ] 2022-07-19 18:08:16,354 Parameters: cosmological_simulation   = 1\n",
      "yt : [INFO     ] 2022-07-19 18:08:16,354 Parameters: current_redshift          = 0.49342124762432\n",
      "yt : [INFO     ] 2022-07-19 18:08:16,355 Parameters: omega_lambda              = 0.715\n",
      "yt : [INFO     ] 2022-07-19 18:08:16,355 Parameters: omega_matter              = 0.285\n",
      "yt : [INFO     ] 2022-07-19 18:08:16,356 Parameters: omega_radiation           = 0.0\n",
      "yt : [INFO     ] 2022-07-19 18:08:16,357 Parameters: hubble_constant           = 0.695\n"
     ]
    },
    {
     "name": "stdout",
     "output_type": "stream",
     "text": [
      "get_refine_box: using this location:       col1         col2     col3     col4     col5     col6     col7   col8\n",
      "---------------- -------- -------- -------- -------- -------- -------- ----\n",
      "0.49342124762432 0.490359 0.476933 0.505703 0.492359 0.478933 0.507703    9\n"
     ]
    },
    {
     "name": "stderr",
     "output_type": "stream",
     "text": [
      "Parsing Hierarchy : 100%|████████████████| 5910/5910 [00:00<00:00, 13499.65it/s]\n",
      "yt : [INFO     ] 2022-07-19 18:08:17,097 Gathering a field list (this may take a moment.)\n"
     ]
    },
    {
     "name": "stdout",
     "output_type": "stream",
     "text": [
      "Pulling halo center from catalog file\n",
      "Opening snapshot /Volumes/TempestTimeSteps/DD1507/DD1507\n"
     ]
    },
    {
     "name": "stderr",
     "output_type": "stream",
     "text": [
      "yt : [INFO     ] 2022-07-19 18:08:20,941 Parameters: current_time              = 409.56652781829\n",
      "yt : [INFO     ] 2022-07-19 18:08:20,944 Parameters: domain_dimensions         = [256 256 256]\n",
      "yt : [INFO     ] 2022-07-19 18:08:20,947 Parameters: domain_left_edge          = [0. 0. 0.]\n",
      "yt : [INFO     ] 2022-07-19 18:08:20,950 Parameters: domain_right_edge         = [1. 1. 1.]\n",
      "yt : [INFO     ] 2022-07-19 18:08:20,951 Parameters: cosmological_simulation   = 1\n",
      "yt : [INFO     ] 2022-07-19 18:08:20,952 Parameters: current_redshift          = 0.47882175604921\n",
      "yt : [INFO     ] 2022-07-19 18:08:20,952 Parameters: omega_lambda              = 0.715\n",
      "yt : [INFO     ] 2022-07-19 18:08:20,953 Parameters: omega_matter              = 0.285\n",
      "yt : [INFO     ] 2022-07-19 18:08:20,953 Parameters: omega_radiation           = 0.0\n",
      "yt : [INFO     ] 2022-07-19 18:08:20,954 Parameters: hubble_constant           = 0.695\n"
     ]
    },
    {
     "name": "stdout",
     "output_type": "stream",
     "text": [
      "get_refine_box: using this location:       col1         col2     col3     col4     col5     col6     col7   col8\n",
      "---------------- -------- -------- -------- -------- -------- -------- ----\n",
      "0.47882175604921 0.490311 0.476767 0.505778 0.492311 0.478767 0.507778    9\n"
     ]
    },
    {
     "name": "stderr",
     "output_type": "stream",
     "text": [
      "Parsing Hierarchy : 100%|████████████████| 5867/5867 [00:00<00:00, 13061.78it/s]\n",
      "yt : [INFO     ] 2022-07-19 18:08:21,700 Gathering a field list (this may take a moment.)\n"
     ]
    },
    {
     "name": "stdout",
     "output_type": "stream",
     "text": [
      "Pulling halo center from catalog file\n",
      "Opening snapshot /Volumes/TempestTimeSteps/DD1527/DD1527\n"
     ]
    },
    {
     "name": "stderr",
     "output_type": "stream",
     "text": [
      "yt : [INFO     ] 2022-07-19 18:08:25,467 Parameters: current_time              = 414.56652781829\n",
      "yt : [INFO     ] 2022-07-19 18:08:25,470 Parameters: domain_dimensions         = [256 256 256]\n",
      "yt : [INFO     ] 2022-07-19 18:08:25,473 Parameters: domain_left_edge          = [0. 0. 0.]\n",
      "yt : [INFO     ] 2022-07-19 18:08:25,476 Parameters: domain_right_edge         = [1. 1. 1.]\n",
      "yt : [INFO     ] 2022-07-19 18:08:25,477 Parameters: cosmological_simulation   = 1\n",
      "yt : [INFO     ] 2022-07-19 18:08:25,478 Parameters: current_redshift          = 0.46448339402042\n",
      "yt : [INFO     ] 2022-07-19 18:08:25,478 Parameters: omega_lambda              = 0.715\n",
      "yt : [INFO     ] 2022-07-19 18:08:25,479 Parameters: omega_matter              = 0.285\n",
      "yt : [INFO     ] 2022-07-19 18:08:25,480 Parameters: omega_radiation           = 0.0\n",
      "yt : [INFO     ] 2022-07-19 18:08:25,480 Parameters: hubble_constant           = 0.695\n"
     ]
    },
    {
     "name": "stdout",
     "output_type": "stream",
     "text": [
      "get_refine_box: using this location:       col1         col2     col3     col4     col5     col6     col7   col8\n",
      "---------------- -------- -------- -------- -------- -------- -------- ----\n",
      "0.46448339402042 0.490271 0.476607 0.505839 0.492271 0.478607 0.507839    9\n"
     ]
    },
    {
     "name": "stderr",
     "output_type": "stream",
     "text": [
      "Parsing Hierarchy : 100%|████████████████| 5969/5969 [00:00<00:00, 13205.83it/s]\n",
      "yt : [INFO     ] 2022-07-19 18:08:26,228 Gathering a field list (this may take a moment.)\n"
     ]
    },
    {
     "name": "stdout",
     "output_type": "stream",
     "text": [
      "Pulling halo center from catalog file\n",
      "Opening snapshot /Volumes/TempestTimeSteps/DD1547/DD1547\n"
     ]
    },
    {
     "name": "stderr",
     "output_type": "stream",
     "text": [
      "yt : [INFO     ] 2022-07-19 18:08:29,970 Parameters: current_time              = 419.56652781829\n",
      "yt : [INFO     ] 2022-07-19 18:08:29,973 Parameters: domain_dimensions         = [256 256 256]\n",
      "yt : [INFO     ] 2022-07-19 18:08:29,976 Parameters: domain_left_edge          = [0. 0. 0.]\n",
      "yt : [INFO     ] 2022-07-19 18:08:29,979 Parameters: domain_right_edge         = [1. 1. 1.]\n",
      "yt : [INFO     ] 2022-07-19 18:08:29,980 Parameters: cosmological_simulation   = 1\n",
      "yt : [INFO     ] 2022-07-19 18:08:29,981 Parameters: current_redshift          = 0.45039794375812\n",
      "yt : [INFO     ] 2022-07-19 18:08:29,981 Parameters: omega_lambda              = 0.715\n",
      "yt : [INFO     ] 2022-07-19 18:08:29,982 Parameters: omega_matter              = 0.285\n",
      "yt : [INFO     ] 2022-07-19 18:08:29,983 Parameters: omega_radiation           = 0.0\n",
      "yt : [INFO     ] 2022-07-19 18:08:29,983 Parameters: hubble_constant           = 0.695\n"
     ]
    },
    {
     "name": "stdout",
     "output_type": "stream",
     "text": [
      "get_refine_box: using this location:       col1         col2     col3     col4     col5     col6     col7   col8\n",
      "---------------- -------- -------- -------- -------- -------- -------- ----\n",
      "0.45039794375812 0.490235 0.476443 0.505904 0.492235 0.478443 0.507904    9\n"
     ]
    },
    {
     "name": "stderr",
     "output_type": "stream",
     "text": [
      "Parsing Hierarchy : 100%|████████████████| 5953/5953 [00:00<00:00, 13402.76it/s]\n",
      "yt : [INFO     ] 2022-07-19 18:08:30,727 Gathering a field list (this may take a moment.)\n",
      "yt : [INFO     ] 2022-07-19 18:08:34,509 Parameters: current_time              = 424.56652781829\n",
      "yt : [INFO     ] 2022-07-19 18:08:34,512 Parameters: domain_dimensions         = [256 256 256]\n"
     ]
    },
    {
     "name": "stdout",
     "output_type": "stream",
     "text": [
      "Pulling halo center from catalog file\n",
      "Opening snapshot /Volumes/TempestTimeSteps/DD1567/DD1567\n"
     ]
    },
    {
     "name": "stderr",
     "output_type": "stream",
     "text": [
      "yt : [INFO     ] 2022-07-19 18:08:34,516 Parameters: domain_left_edge          = [0. 0. 0.]\n",
      "yt : [INFO     ] 2022-07-19 18:08:34,519 Parameters: domain_right_edge         = [1. 1. 1.]\n",
      "yt : [INFO     ] 2022-07-19 18:08:34,520 Parameters: cosmological_simulation   = 1\n",
      "yt : [INFO     ] 2022-07-19 18:08:34,521 Parameters: current_redshift          = 0.43654854251444\n",
      "yt : [INFO     ] 2022-07-19 18:08:34,521 Parameters: omega_lambda              = 0.715\n",
      "yt : [INFO     ] 2022-07-19 18:08:34,522 Parameters: omega_matter              = 0.285\n",
      "yt : [INFO     ] 2022-07-19 18:08:34,523 Parameters: omega_radiation           = 0\n",
      "yt : [INFO     ] 2022-07-19 18:08:34,523 Parameters: hubble_constant           = 0.695\n"
     ]
    },
    {
     "name": "stdout",
     "output_type": "stream",
     "text": [
      "get_refine_box: using this location:       col1         col2     col3     col4     col5     col6     col7   col8\n",
      "---------------- -------- -------- -------- -------- -------- -------- ----\n",
      "0.43655754720396 0.490199 0.476281 0.505972 0.492199 0.478281 0.507972    9\n"
     ]
    },
    {
     "name": "stderr",
     "output_type": "stream",
     "text": [
      "Parsing Hierarchy : 100%|████████████████| 5989/5989 [00:00<00:00, 13088.08it/s]\n",
      "yt : [INFO     ] 2022-07-19 18:08:35,276 Gathering a field list (this may take a moment.)\n"
     ]
    },
    {
     "name": "stdout",
     "output_type": "stream",
     "text": [
      "Pulling halo center from catalog file\n",
      "Opening snapshot /Volumes/TempestTimeSteps/DD1587/DD1587\n"
     ]
    },
    {
     "name": "stderr",
     "output_type": "stream",
     "text": [
      "yt : [INFO     ] 2022-07-19 18:08:39,059 Parameters: current_time              = 429.56652781829\n",
      "yt : [INFO     ] 2022-07-19 18:08:39,062 Parameters: domain_dimensions         = [256 256 256]\n",
      "yt : [INFO     ] 2022-07-19 18:08:39,065 Parameters: domain_left_edge          = [0. 0. 0.]\n",
      "yt : [INFO     ] 2022-07-19 18:08:39,068 Parameters: domain_right_edge         = [1. 1. 1.]\n",
      "yt : [INFO     ] 2022-07-19 18:08:39,068 Parameters: cosmological_simulation   = 1\n",
      "yt : [INFO     ] 2022-07-19 18:08:39,069 Parameters: current_redshift          = 0.42294018464771\n",
      "yt : [INFO     ] 2022-07-19 18:08:39,070 Parameters: omega_lambda              = 0.715\n",
      "yt : [INFO     ] 2022-07-19 18:08:39,070 Parameters: omega_matter              = 0.285\n",
      "yt : [INFO     ] 2022-07-19 18:08:39,071 Parameters: omega_radiation           = 0\n",
      "yt : [INFO     ] 2022-07-19 18:08:39,072 Parameters: hubble_constant           = 0.695\n"
     ]
    },
    {
     "name": "stdout",
     "output_type": "stream",
     "text": [
      "get_refine_box: using this location:       col1         col2     col3     col4     col5     col6     col7   col8\n",
      "---------------- -------- -------- -------- -------- -------- -------- ----\n",
      "0.42295468637566 0.490164 0.476115 0.506041 0.492164 0.478115 0.508041    9\n"
     ]
    },
    {
     "name": "stderr",
     "output_type": "stream",
     "text": [
      "Parsing Hierarchy : 100%|████████████████| 5816/5816 [00:00<00:00, 13271.87it/s]\n",
      "yt : [INFO     ] 2022-07-19 18:08:39,825 Gathering a field list (this may take a moment.)\n"
     ]
    },
    {
     "name": "stdout",
     "output_type": "stream",
     "text": [
      "Pulling halo center from catalog file\n",
      "Opening snapshot /Volumes/TempestTimeSteps/DD1607/DD1607\n"
     ]
    },
    {
     "name": "stderr",
     "output_type": "stream",
     "text": [
      "yt : [INFO     ] 2022-07-19 18:08:43,486 Parameters: current_time              = 434.56652781829\n",
      "yt : [INFO     ] 2022-07-19 18:08:43,489 Parameters: domain_dimensions         = [256 256 256]\n",
      "yt : [INFO     ] 2022-07-19 18:08:43,493 Parameters: domain_left_edge          = [0. 0. 0.]\n",
      "yt : [INFO     ] 2022-07-19 18:08:43,496 Parameters: domain_right_edge         = [1. 1. 1.]\n",
      "yt : [INFO     ] 2022-07-19 18:08:43,497 Parameters: cosmological_simulation   = 1\n",
      "yt : [INFO     ] 2022-07-19 18:08:43,497 Parameters: current_redshift          = 0.40957366338403\n",
      "yt : [INFO     ] 2022-07-19 18:08:43,498 Parameters: omega_lambda              = 0.715\n",
      "yt : [INFO     ] 2022-07-19 18:08:43,499 Parameters: omega_matter              = 0.285\n",
      "yt : [INFO     ] 2022-07-19 18:08:43,499 Parameters: omega_radiation           = 0\n",
      "yt : [INFO     ] 2022-07-19 18:08:43,500 Parameters: hubble_constant           = 0.695\n"
     ]
    },
    {
     "name": "stdout",
     "output_type": "stream",
     "text": [
      "get_refine_box: using this location:       col1        col2     col3     col4     col5     col6     col7   col8\n",
      "--------------- -------- -------- -------- -------- -------- -------- ----\n",
      "0.4095821650052 0.490128 0.475951 0.506113 0.492128 0.477951 0.508113    9\n"
     ]
    },
    {
     "name": "stderr",
     "output_type": "stream",
     "text": [
      "Parsing Hierarchy : 100%|████████████████| 5789/5789 [00:00<00:00, 12882.91it/s]\n",
      "yt : [INFO     ] 2022-07-19 18:08:44,260 Gathering a field list (this may take a moment.)\n"
     ]
    },
    {
     "name": "stdout",
     "output_type": "stream",
     "text": [
      "Pulling halo center from catalog file\n",
      "Opening snapshot /Volumes/TempestTimeSteps/DD1627/DD1627\n"
     ]
    },
    {
     "name": "stderr",
     "output_type": "stream",
     "text": [
      "yt : [INFO     ] 2022-07-19 18:08:47,890 Parameters: current_time              = 439.56652781829\n",
      "yt : [INFO     ] 2022-07-19 18:08:47,893 Parameters: domain_dimensions         = [256 256 256]\n",
      "yt : [INFO     ] 2022-07-19 18:08:47,896 Parameters: domain_left_edge          = [0. 0. 0.]\n",
      "yt : [INFO     ] 2022-07-19 18:08:47,899 Parameters: domain_right_edge         = [1. 1. 1.]\n",
      "yt : [INFO     ] 2022-07-19 18:08:47,900 Parameters: cosmological_simulation   = 1\n",
      "yt : [INFO     ] 2022-07-19 18:08:47,900 Parameters: current_redshift          = 0.39642584964378\n",
      "yt : [INFO     ] 2022-07-19 18:08:47,901 Parameters: omega_lambda              = 0.715\n",
      "yt : [INFO     ] 2022-07-19 18:08:47,902 Parameters: omega_matter              = 0.285\n",
      "yt : [INFO     ] 2022-07-19 18:08:47,902 Parameters: omega_radiation           = 0\n",
      "yt : [INFO     ] 2022-07-19 18:08:47,903 Parameters: hubble_constant           = 0.695\n"
     ]
    },
    {
     "name": "stdout",
     "output_type": "stream",
     "text": [
      "get_refine_box: using this location:       col1         col2     col3     col4     col5     col6     col7   col8\n",
      "---------------- -------- -------- -------- -------- -------- -------- ----\n",
      "0.39643309136323 0.490092 0.475789 0.506186 0.492092 0.477789 0.508186    9\n"
     ]
    },
    {
     "name": "stderr",
     "output_type": "stream",
     "text": [
      "Parsing Hierarchy : 100%|████████████████| 5643/5643 [00:00<00:00, 13003.95it/s]\n",
      "yt : [INFO     ] 2022-07-19 18:08:48,636 Gathering a field list (this may take a moment.)\n"
     ]
    },
    {
     "name": "stdout",
     "output_type": "stream",
     "text": [
      "Pulling halo center from catalog file\n",
      "Opening snapshot /Volumes/TempestTimeSteps/DD1647/DD1647\n"
     ]
    },
    {
     "name": "stderr",
     "output_type": "stream",
     "text": [
      "yt : [INFO     ] 2022-07-19 18:08:52,237 Parameters: current_time              = 444.56652781829\n",
      "yt : [INFO     ] 2022-07-19 18:08:52,240 Parameters: domain_dimensions         = [256 256 256]\n",
      "yt : [INFO     ] 2022-07-19 18:08:52,243 Parameters: domain_left_edge          = [0. 0. 0.]\n",
      "yt : [INFO     ] 2022-07-19 18:08:52,246 Parameters: domain_right_edge         = [1. 1. 1.]\n",
      "yt : [INFO     ] 2022-07-19 18:08:52,248 Parameters: cosmological_simulation   = 1\n",
      "yt : [INFO     ] 2022-07-19 18:08:52,249 Parameters: current_redshift          = 0.38348625944323\n",
      "yt : [INFO     ] 2022-07-19 18:08:52,249 Parameters: omega_lambda              = 0.715\n",
      "yt : [INFO     ] 2022-07-19 18:08:52,250 Parameters: omega_matter              = 0.285\n",
      "yt : [INFO     ] 2022-07-19 18:08:52,251 Parameters: omega_radiation           = 0\n",
      "yt : [INFO     ] 2022-07-19 18:08:52,252 Parameters: hubble_constant           = 0.695\n"
     ]
    },
    {
     "name": "stdout",
     "output_type": "stream",
     "text": [
      "get_refine_box: using this location:       col1         col2     col3     col4    col5     col6     col7  col8\n",
      "---------------- -------- -------- ------- -------- -------- ------- ----\n",
      "0.38350086218055 0.490054 0.475624 0.50626 0.492054 0.477624 0.50826    9\n"
     ]
    },
    {
     "name": "stderr",
     "output_type": "stream",
     "text": [
      "Parsing Hierarchy : 100%|████████████████| 5260/5260 [00:00<00:00, 13059.72it/s]\n",
      "yt : [INFO     ] 2022-07-19 18:08:52,941 Gathering a field list (this may take a moment.)\n"
     ]
    },
    {
     "name": "stdout",
     "output_type": "stream",
     "text": [
      "Pulling halo center from catalog file\n",
      "Opening snapshot /Volumes/TempestTimeSteps/DD1667/DD1667\n"
     ]
    },
    {
     "name": "stderr",
     "output_type": "stream",
     "text": [
      "yt : [INFO     ] 2022-07-19 18:08:56,620 Parameters: current_time              = 449.56652781829\n",
      "yt : [INFO     ] 2022-07-19 18:08:56,622 Parameters: domain_dimensions         = [256 256 256]\n",
      "yt : [INFO     ] 2022-07-19 18:08:56,625 Parameters: domain_left_edge          = [0. 0. 0.]\n",
      "yt : [INFO     ] 2022-07-19 18:08:56,628 Parameters: domain_right_edge         = [1. 1. 1.]\n",
      "yt : [INFO     ] 2022-07-19 18:08:56,629 Parameters: cosmological_simulation   = 1\n",
      "yt : [INFO     ] 2022-07-19 18:08:56,630 Parameters: current_redshift          = 0.37076988451991\n",
      "yt : [INFO     ] 2022-07-19 18:08:56,630 Parameters: omega_lambda              = 0.715\n",
      "yt : [INFO     ] 2022-07-19 18:08:56,631 Parameters: omega_matter              = 0.285\n",
      "yt : [INFO     ] 2022-07-19 18:08:56,632 Parameters: omega_radiation           = 0\n",
      "yt : [INFO     ] 2022-07-19 18:08:56,632 Parameters: hubble_constant           = 0.695\n"
     ]
    },
    {
     "name": "stdout",
     "output_type": "stream",
     "text": [
      "get_refine_box: using this location:       col1         col2     col3     col4     col5     col6     col7   col8\n",
      "---------------- -------- -------- -------- -------- -------- -------- ----\n",
      "0.37077914758514 0.490008 0.475464 0.506331 0.492008 0.477464 0.508331    9\n"
     ]
    },
    {
     "name": "stderr",
     "output_type": "stream",
     "text": [
      "Parsing Hierarchy : 100%|████████████████| 5350/5350 [00:00<00:00, 13300.72it/s]\n",
      "yt : [INFO     ] 2022-07-19 18:08:57,315 Gathering a field list (this may take a moment.)\n"
     ]
    },
    {
     "name": "stdout",
     "output_type": "stream",
     "text": [
      "Pulling halo center from catalog file\n",
      "Opening snapshot /Volumes/TempestTimeSteps/DD1687/DD1687\n"
     ]
    },
    {
     "name": "stderr",
     "output_type": "stream",
     "text": [
      "yt : [INFO     ] 2022-07-19 18:09:00,972 Parameters: current_time              = 454.56652781829\n",
      "yt : [INFO     ] 2022-07-19 18:09:00,975 Parameters: domain_dimensions         = [256 256 256]\n",
      "yt : [INFO     ] 2022-07-19 18:09:00,978 Parameters: domain_left_edge          = [0. 0. 0.]\n",
      "yt : [INFO     ] 2022-07-19 18:09:00,981 Parameters: domain_right_edge         = [1. 1. 1.]\n",
      "yt : [INFO     ] 2022-07-19 18:09:00,982 Parameters: cosmological_simulation   = 1\n",
      "yt : [INFO     ] 2022-07-19 18:09:00,983 Parameters: current_redshift          = 0.35825474228483\n",
      "yt : [INFO     ] 2022-07-19 18:09:00,984 Parameters: omega_lambda              = 0.715\n",
      "yt : [INFO     ] 2022-07-19 18:09:00,984 Parameters: omega_matter              = 0.285\n",
      "yt : [INFO     ] 2022-07-19 18:09:00,985 Parameters: omega_radiation           = 0\n",
      "yt : [INFO     ] 2022-07-19 18:09:00,985 Parameters: hubble_constant           = 0.695\n"
     ]
    },
    {
     "name": "stdout",
     "output_type": "stream",
     "text": [
      "get_refine_box: using this location:       col1         col2    col3     col4     col5    col6     col7   col8\n",
      "---------------- ------- -------- -------- ------- -------- -------- ----\n",
      "0.35826187698009 0.48997 0.475304 0.506398 0.49197 0.477304 0.508398    9\n"
     ]
    },
    {
     "name": "stderr",
     "output_type": "stream",
     "text": [
      "Parsing Hierarchy : 100%|████████████████| 5327/5327 [00:00<00:00, 13196.23it/s]\n",
      "yt : [INFO     ] 2022-07-19 18:09:01,681 Gathering a field list (this may take a moment.)\n"
     ]
    },
    {
     "name": "stdout",
     "output_type": "stream",
     "text": [
      "Pulling halo center from catalog file\n",
      "Opening snapshot /Volumes/TempestTimeSteps/DD1707/DD1707\n"
     ]
    },
    {
     "name": "stderr",
     "output_type": "stream",
     "text": [
      "yt : [INFO     ] 2022-07-19 18:09:05,400 Parameters: current_time              = 459.56652781829\n",
      "yt : [INFO     ] 2022-07-19 18:09:05,403 Parameters: domain_dimensions         = [256 256 256]\n",
      "yt : [INFO     ] 2022-07-19 18:09:05,406 Parameters: domain_left_edge          = [0. 0. 0.]\n",
      "yt : [INFO     ] 2022-07-19 18:09:05,410 Parameters: domain_right_edge         = [1. 1. 1.]\n",
      "yt : [INFO     ] 2022-07-19 18:09:05,411 Parameters: cosmological_simulation   = 1\n",
      "yt : [INFO     ] 2022-07-19 18:09:05,411 Parameters: current_redshift          = 0.34592847874001\n",
      "yt : [INFO     ] 2022-07-19 18:09:05,412 Parameters: omega_lambda              = 0.715\n",
      "yt : [INFO     ] 2022-07-19 18:09:05,413 Parameters: omega_matter              = 0.285\n",
      "yt : [INFO     ] 2022-07-19 18:09:05,413 Parameters: omega_radiation           = 0\n",
      "yt : [INFO     ] 2022-07-19 18:09:05,414 Parameters: hubble_constant           = 0.695\n"
     ]
    },
    {
     "name": "stdout",
     "output_type": "stream",
     "text": [
      "get_refine_box: using this location:       col1        col2     col3     col4     col5     col6     col7   col8\n",
      "--------------- -------- -------- -------- -------- -------- -------- ----\n",
      "0.3459432257941 0.489933 0.475144 0.506463 0.491933 0.477144 0.508463    9\n"
     ]
    },
    {
     "name": "stderr",
     "output_type": "stream",
     "text": [
      "Parsing Hierarchy : 100%|████████████████| 5353/5353 [00:00<00:00, 13082.42it/s]\n",
      "yt : [INFO     ] 2022-07-19 18:09:06,104 Gathering a field list (this may take a moment.)\n"
     ]
    },
    {
     "name": "stdout",
     "output_type": "stream",
     "text": [
      "Pulling halo center from catalog file\n",
      "Opening snapshot /Volumes/TempestTimeSteps/DD1727/DD1727\n"
     ]
    },
    {
     "name": "stderr",
     "output_type": "stream",
     "text": [
      "yt : [INFO     ] 2022-07-19 18:09:09,798 Parameters: current_time              = 464.56652781829\n",
      "yt : [INFO     ] 2022-07-19 18:09:09,801 Parameters: domain_dimensions         = [256 256 256]\n",
      "yt : [INFO     ] 2022-07-19 18:09:09,803 Parameters: domain_left_edge          = [0. 0. 0.]\n",
      "yt : [INFO     ] 2022-07-19 18:09:09,806 Parameters: domain_right_edge         = [1. 1. 1.]\n",
      "yt : [INFO     ] 2022-07-19 18:09:09,807 Parameters: cosmological_simulation   = 1\n",
      "yt : [INFO     ] 2022-07-19 18:09:09,808 Parameters: current_redshift          = 0.33380915572466\n",
      "yt : [INFO     ] 2022-07-19 18:09:09,808 Parameters: omega_lambda              = 0.715\n",
      "yt : [INFO     ] 2022-07-19 18:09:09,809 Parameters: omega_matter              = 0.285\n",
      "yt : [INFO     ] 2022-07-19 18:09:09,810 Parameters: omega_radiation           = 0\n",
      "yt : [INFO     ] 2022-07-19 18:09:09,810 Parameters: hubble_constant           = 0.695\n"
     ]
    },
    {
     "name": "stdout",
     "output_type": "stream",
     "text": [
      "get_refine_box: using this location:       col1         col2     col3     col4     col5     col6     col7   col8\n",
      "---------------- -------- -------- -------- -------- -------- -------- ----\n",
      "0.33381760304183 0.489899 0.474982 0.506529 0.491899 0.476982 0.508529    9\n"
     ]
    },
    {
     "name": "stderr",
     "output_type": "stream",
     "text": [
      "Parsing Hierarchy : 100%|████████████████| 5384/5384 [00:00<00:00, 13012.35it/s]\n",
      "yt : [INFO     ] 2022-07-19 18:09:10,504 Gathering a field list (this may take a moment.)\n"
     ]
    },
    {
     "name": "stdout",
     "output_type": "stream",
     "text": [
      "Pulling halo center from catalog file\n",
      "Opening snapshot /Volumes/TempestTimeSteps/DD1747/DD1747\n"
     ]
    },
    {
     "name": "stderr",
     "output_type": "stream",
     "text": [
      "yt : [INFO     ] 2022-07-19 18:09:14,127 Parameters: current_time              = 469.56652781829\n",
      "yt : [INFO     ] 2022-07-19 18:09:14,130 Parameters: domain_dimensions         = [256 256 256]\n",
      "yt : [INFO     ] 2022-07-19 18:09:14,132 Parameters: domain_left_edge          = [0. 0. 0.]\n",
      "yt : [INFO     ] 2022-07-19 18:09:14,135 Parameters: domain_right_edge         = [1. 1. 1.]\n",
      "yt : [INFO     ] 2022-07-19 18:09:14,136 Parameters: cosmological_simulation   = 1\n",
      "yt : [INFO     ] 2022-07-19 18:09:14,137 Parameters: current_redshift          = 0.32187097991253\n",
      "yt : [INFO     ] 2022-07-19 18:09:14,137 Parameters: omega_lambda              = 0.715\n",
      "yt : [INFO     ] 2022-07-19 18:09:14,138 Parameters: omega_matter              = 0.285\n",
      "yt : [INFO     ] 2022-07-19 18:09:14,139 Parameters: omega_radiation           = 0\n",
      "yt : [INFO     ] 2022-07-19 18:09:14,139 Parameters: hubble_constant           = 0.695\n"
     ]
    },
    {
     "name": "stdout",
     "output_type": "stream",
     "text": [
      "get_refine_box: using this location:       col1         col2     col3     col4     col5     col6     col7   col8\n",
      "---------------- -------- -------- -------- -------- -------- -------- ----\n",
      "0.32187963963644 0.489863 0.474823 0.506592 0.491863 0.476823 0.508592    9\n"
     ]
    },
    {
     "name": "stderr",
     "output_type": "stream",
     "text": [
      "Parsing Hierarchy : 100%|████████████████| 5338/5338 [00:00<00:00, 12925.38it/s]\n",
      "yt : [INFO     ] 2022-07-19 18:09:14,847 Gathering a field list (this may take a moment.)\n"
     ]
    },
    {
     "name": "stdout",
     "output_type": "stream",
     "text": [
      "Pulling halo center from catalog file\n",
      "Opening snapshot /Volumes/TempestTimeSteps/DD1767/DD1767\n"
     ]
    },
    {
     "name": "stderr",
     "output_type": "stream",
     "text": [
      "yt : [INFO     ] 2022-07-19 18:09:18,544 Parameters: current_time              = 474.56652781829\n",
      "yt : [INFO     ] 2022-07-19 18:09:18,547 Parameters: domain_dimensions         = [256 256 256]\n",
      "yt : [INFO     ] 2022-07-19 18:09:18,552 Parameters: domain_left_edge          = [0. 0. 0.]\n",
      "yt : [INFO     ] 2022-07-19 18:09:18,555 Parameters: domain_right_edge         = [1. 1. 1.]\n",
      "yt : [INFO     ] 2022-07-19 18:09:18,556 Parameters: cosmological_simulation   = 1\n",
      "yt : [INFO     ] 2022-07-19 18:09:18,556 Parameters: current_redshift          = 0.31010937956297\n",
      "yt : [INFO     ] 2022-07-19 18:09:18,557 Parameters: omega_lambda              = 0.715\n",
      "yt : [INFO     ] 2022-07-19 18:09:18,558 Parameters: omega_matter              = 0.285\n",
      "yt : [INFO     ] 2022-07-19 18:09:18,558 Parameters: omega_radiation           = 0\n",
      "yt : [INFO     ] 2022-07-19 18:09:18,559 Parameters: hubble_constant           = 0.695\n"
     ]
    },
    {
     "name": "stdout",
     "output_type": "stream",
     "text": [
      "get_refine_box: using this location:       col1         col2     col3     col4     col5     col6     col7   col8\n",
      "---------------- -------- -------- -------- -------- -------- -------- ----\n",
      "0.31012417740147 0.489823 0.474669 0.506653 0.491823 0.476669 0.508653    9\n"
     ]
    },
    {
     "name": "stderr",
     "output_type": "stream",
     "text": [
      "Parsing Hierarchy : 100%|████████████████| 5392/5392 [00:00<00:00, 13252.23it/s]\n",
      "yt : [INFO     ] 2022-07-19 18:09:19,245 Gathering a field list (this may take a moment.)\n"
     ]
    },
    {
     "name": "stdout",
     "output_type": "stream",
     "text": [
      "Pulling halo center from catalog file\n",
      "Opening snapshot /Volumes/TempestTimeSteps/DD1787/DD1787\n"
     ]
    },
    {
     "name": "stderr",
     "output_type": "stream",
     "text": [
      "yt : [INFO     ] 2022-07-19 18:09:22,852 Parameters: current_time              = 479.56652781829\n",
      "yt : [INFO     ] 2022-07-19 18:09:22,855 Parameters: domain_dimensions         = [256 256 256]\n",
      "yt : [INFO     ] 2022-07-19 18:09:22,858 Parameters: domain_left_edge          = [0. 0. 0.]\n",
      "yt : [INFO     ] 2022-07-19 18:09:22,861 Parameters: domain_right_edge         = [1. 1. 1.]\n",
      "yt : [INFO     ] 2022-07-19 18:09:22,862 Parameters: cosmological_simulation   = 1\n",
      "yt : [INFO     ] 2022-07-19 18:09:22,863 Parameters: current_redshift          = 0.29854043336148\n",
      "yt : [INFO     ] 2022-07-19 18:09:22,863 Parameters: omega_lambda              = 0.715\n",
      "yt : [INFO     ] 2022-07-19 18:09:22,864 Parameters: omega_matter              = 0.285\n",
      "yt : [INFO     ] 2022-07-19 18:09:22,865 Parameters: omega_radiation           = 0\n",
      "yt : [INFO     ] 2022-07-19 18:09:22,865 Parameters: hubble_constant           = 0.695\n"
     ]
    },
    {
     "name": "stdout",
     "output_type": "stream",
     "text": [
      "get_refine_box: using this location:       col1         col2     col3     col4     col5     col6     col7   col8\n",
      "---------------- -------- -------- -------- -------- -------- -------- ----\n",
      "0.29854625873325 0.489788 0.474513 0.506712 0.491788 0.476513 0.508712    9\n"
     ]
    },
    {
     "name": "stderr",
     "output_type": "stream",
     "text": [
      "Parsing Hierarchy : 100%|████████████████| 5500/5500 [00:00<00:00, 13276.98it/s]\n",
      "yt : [INFO     ] 2022-07-19 18:09:23,573 Gathering a field list (this may take a moment.)\n"
     ]
    },
    {
     "name": "stdout",
     "output_type": "stream",
     "text": [
      "Pulling halo center from catalog file\n",
      "Opening snapshot /Volumes/TempestTimeSteps/DD1807/DD1807\n"
     ]
    },
    {
     "name": "stderr",
     "output_type": "stream",
     "text": [
      "yt : [INFO     ] 2022-07-19 18:09:27,235 Parameters: current_time              = 484.56652781829\n",
      "yt : [INFO     ] 2022-07-19 18:09:27,238 Parameters: domain_dimensions         = [256 256 256]\n",
      "yt : [INFO     ] 2022-07-19 18:09:27,242 Parameters: domain_left_edge          = [0. 0. 0.]\n",
      "yt : [INFO     ] 2022-07-19 18:09:27,245 Parameters: domain_right_edge         = [1. 1. 1.]\n",
      "yt : [INFO     ] 2022-07-19 18:09:27,246 Parameters: cosmological_simulation   = 1\n",
      "yt : [INFO     ] 2022-07-19 18:09:27,246 Parameters: current_redshift          = 0.28712989799233\n",
      "yt : [INFO     ] 2022-07-19 18:09:27,247 Parameters: omega_lambda              = 0.715\n",
      "yt : [INFO     ] 2022-07-19 18:09:27,248 Parameters: omega_matter              = 0.285\n",
      "yt : [INFO     ] 2022-07-19 18:09:27,248 Parameters: omega_radiation           = 0\n",
      "yt : [INFO     ] 2022-07-19 18:09:27,249 Parameters: hubble_constant           = 0.695\n"
     ]
    },
    {
     "name": "stdout",
     "output_type": "stream",
     "text": [
      "get_refine_box: using this location:       col1         col2     col3     col4     col5     col6     col7   col8\n",
      "---------------- -------- -------- -------- -------- -------- -------- ----\n",
      "0.28714111686912 0.489754 0.474358 0.506773 0.491754 0.476358 0.508773    9\n"
     ]
    },
    {
     "name": "stderr",
     "output_type": "stream",
     "text": [
      "Parsing Hierarchy : 100%|████████████████| 5571/5571 [00:00<00:00, 12764.56it/s]\n",
      "yt : [INFO     ] 2022-07-19 18:09:27,974 Gathering a field list (this may take a moment.)\n"
     ]
    },
    {
     "name": "stdout",
     "output_type": "stream",
     "text": [
      "Pulling halo center from catalog file\n",
      "Opening snapshot /Volumes/TempestTimeSteps/DD1827/DD1827\n"
     ]
    },
    {
     "name": "stderr",
     "output_type": "stream",
     "text": [
      "yt : [INFO     ] 2022-07-19 18:09:31,636 Parameters: current_time              = 489.56652781829\n",
      "yt : [INFO     ] 2022-07-19 18:09:31,639 Parameters: domain_dimensions         = [256 256 256]\n",
      "yt : [INFO     ] 2022-07-19 18:09:31,642 Parameters: domain_left_edge          = [0. 0. 0.]\n",
      "yt : [INFO     ] 2022-07-19 18:09:31,646 Parameters: domain_right_edge         = [1. 1. 1.]\n",
      "yt : [INFO     ] 2022-07-19 18:09:31,647 Parameters: cosmological_simulation   = 1\n",
      "yt : [INFO     ] 2022-07-19 18:09:31,648 Parameters: current_redshift          = 0.27589007391511\n",
      "yt : [INFO     ] 2022-07-19 18:09:31,648 Parameters: omega_lambda              = 0.715\n",
      "yt : [INFO     ] 2022-07-19 18:09:31,649 Parameters: omega_matter              = 0.285\n",
      "yt : [INFO     ] 2022-07-19 18:09:31,650 Parameters: omega_radiation           = 0\n",
      "yt : [INFO     ] 2022-07-19 18:09:31,650 Parameters: hubble_constant           = 0.695\n"
     ]
    },
    {
     "name": "stdout",
     "output_type": "stream",
     "text": [
      "get_refine_box: using this location:       col1         col2     col3     col4     col5     col6     col7   col8\n",
      "---------------- -------- -------- -------- -------- -------- -------- ----\n",
      "0.27590416672012 0.489722 0.474205 0.506831 0.491722 0.476205 0.508831    9\n"
     ]
    },
    {
     "name": "stderr",
     "output_type": "stream",
     "text": [
      "Parsing Hierarchy : 100%|████████████████| 5461/5461 [00:00<00:00, 12011.46it/s]\n",
      "yt : [INFO     ] 2022-07-19 18:09:32,407 Gathering a field list (this may take a moment.)\n"
     ]
    },
    {
     "name": "stdout",
     "output_type": "stream",
     "text": [
      "Pulling halo center from catalog file\n",
      "Opening snapshot /Volumes/TempestTimeSteps/DD1847/DD1847\n"
     ]
    },
    {
     "name": "stderr",
     "output_type": "stream",
     "text": [
      "yt : [INFO     ] 2022-07-19 18:09:36,424 Parameters: current_time              = 494.56652781829\n",
      "yt : [INFO     ] 2022-07-19 18:09:36,427 Parameters: domain_dimensions         = [256 256 256]\n",
      "yt : [INFO     ] 2022-07-19 18:09:36,430 Parameters: domain_left_edge          = [0. 0. 0.]\n",
      "yt : [INFO     ] 2022-07-19 18:09:36,433 Parameters: domain_right_edge         = [1. 1. 1.]\n",
      "yt : [INFO     ] 2022-07-19 18:09:36,434 Parameters: cosmological_simulation   = 1\n",
      "yt : [INFO     ] 2022-07-19 18:09:36,435 Parameters: current_redshift          = 0.26483030656369\n",
      "yt : [INFO     ] 2022-07-19 18:09:36,435 Parameters: omega_lambda              = 0.715\n",
      "yt : [INFO     ] 2022-07-19 18:09:36,436 Parameters: omega_matter              = 0.285\n",
      "yt : [INFO     ] 2022-07-19 18:09:36,437 Parameters: omega_radiation           = 0\n",
      "yt : [INFO     ] 2022-07-19 18:09:36,437 Parameters: hubble_constant           = 0.695\n"
     ]
    },
    {
     "name": "stdout",
     "output_type": "stream",
     "text": [
      "get_refine_box: using this location:       col1         col2     col3     col4     col5     col6     col7   col8\n",
      "---------------- -------- -------- -------- -------- -------- -------- ----\n",
      "0.26483099622996 0.489687 0.474055 0.506892 0.491687 0.476055 0.508892    9\n"
     ]
    },
    {
     "name": "stderr",
     "output_type": "stream",
     "text": [
      "Parsing Hierarchy : 100%|████████████████| 5127/5127 [00:00<00:00, 12972.53it/s]\n",
      "yt : [INFO     ] 2022-07-19 18:09:37,113 Gathering a field list (this may take a moment.)\n"
     ]
    },
    {
     "name": "stdout",
     "output_type": "stream",
     "text": [
      "Pulling halo center from catalog file\n",
      "Opening snapshot /Volumes/TempestTimeSteps/DD1867/DD1867\n"
     ]
    },
    {
     "name": "stderr",
     "output_type": "stream",
     "text": [
      "yt : [INFO     ] 2022-07-19 18:09:40,931 Parameters: current_time              = 499.56652781829\n",
      "yt : [INFO     ] 2022-07-19 18:09:40,934 Parameters: domain_dimensions         = [256 256 256]\n",
      "yt : [INFO     ] 2022-07-19 18:09:40,937 Parameters: domain_left_edge          = [0. 0. 0.]\n",
      "yt : [INFO     ] 2022-07-19 18:09:40,940 Parameters: domain_right_edge         = [1. 1. 1.]\n",
      "yt : [INFO     ] 2022-07-19 18:09:40,941 Parameters: cosmological_simulation   = 1\n",
      "yt : [INFO     ] 2022-07-19 18:09:40,942 Parameters: current_redshift          = 0.25390358705733\n",
      "yt : [INFO     ] 2022-07-19 18:09:40,943 Parameters: omega_lambda              = 0.715\n",
      "yt : [INFO     ] 2022-07-19 18:09:40,943 Parameters: omega_matter              = 0.285\n",
      "yt : [INFO     ] 2022-07-19 18:09:40,944 Parameters: omega_radiation           = 0\n",
      "yt : [INFO     ] 2022-07-19 18:09:40,944 Parameters: hubble_constant           = 0.695\n"
     ]
    },
    {
     "name": "stdout",
     "output_type": "stream",
     "text": [
      "get_refine_box: using this location:       col1         col2     col3     col4     col5     col6     col7   col8\n",
      "---------------- -------- -------- -------- -------- -------- -------- ----\n",
      "0.25391735822521 0.489653 0.473906 0.506947 0.491653 0.475906 0.508947    9\n"
     ]
    },
    {
     "name": "stderr",
     "output_type": "stream",
     "text": [
      "Parsing Hierarchy : 100%|████████████████| 5143/5143 [00:00<00:00, 13074.94it/s]\n",
      "yt : [INFO     ] 2022-07-19 18:09:41,616 Gathering a field list (this may take a moment.)\n",
      "yt : [INFO     ] 2022-07-19 18:09:45,183 Parameters: current_time              = 504.56652781829\n",
      "yt : [INFO     ] 2022-07-19 18:09:45,186 Parameters: domain_dimensions         = [256 256 256]\n"
     ]
    },
    {
     "name": "stdout",
     "output_type": "stream",
     "text": [
      "Pulling halo center from catalog file\n",
      "Opening snapshot /Volumes/TempestTimeSteps/DD1887/DD1887\n"
     ]
    },
    {
     "name": "stderr",
     "output_type": "stream",
     "text": [
      "yt : [INFO     ] 2022-07-19 18:09:45,190 Parameters: domain_left_edge          = [0. 0. 0.]\n",
      "yt : [INFO     ] 2022-07-19 18:09:45,193 Parameters: domain_right_edge         = [1. 1. 1.]\n",
      "yt : [INFO     ] 2022-07-19 18:09:45,194 Parameters: cosmological_simulation   = 1\n",
      "yt : [INFO     ] 2022-07-19 18:09:45,194 Parameters: current_redshift          = 0.24314759224344\n",
      "yt : [INFO     ] 2022-07-19 18:09:45,195 Parameters: omega_lambda              = 0.715\n",
      "yt : [INFO     ] 2022-07-19 18:09:45,195 Parameters: omega_matter              = 0.285\n",
      "yt : [INFO     ] 2022-07-19 18:09:45,196 Parameters: omega_radiation           = 0\n",
      "yt : [INFO     ] 2022-07-19 18:09:45,197 Parameters: hubble_constant           = 0.695\n"
     ]
    },
    {
     "name": "stdout",
     "output_type": "stream",
     "text": [
      "get_refine_box: using this location:       col1         col2     col3     col4     col5     col6     col7   col8\n",
      "---------------- -------- -------- -------- -------- -------- -------- ----\n",
      "0.24315916272406 0.489623 0.473759 0.507006 0.491623 0.475759 0.509006    9\n"
     ]
    },
    {
     "name": "stderr",
     "output_type": "stream",
     "text": [
      "Parsing Hierarchy : 100%|████████████████| 4839/4839 [00:00<00:00, 13061.42it/s]\n",
      "yt : [INFO     ] 2022-07-19 18:09:45,920 Gathering a field list (this may take a moment.)\n"
     ]
    },
    {
     "name": "stdout",
     "output_type": "stream",
     "text": [
      "Pulling halo center from catalog file\n",
      "Opening snapshot /Volumes/TempestTimeSteps/DD1907/DD1907\n"
     ]
    },
    {
     "name": "stderr",
     "output_type": "stream",
     "text": [
      "yt : [INFO     ] 2022-07-19 18:09:49,614 Parameters: current_time              = 509.56652781829\n",
      "yt : [INFO     ] 2022-07-19 18:09:49,617 Parameters: domain_dimensions         = [256 256 256]\n",
      "yt : [INFO     ] 2022-07-19 18:09:49,620 Parameters: domain_left_edge          = [0. 0. 0.]\n",
      "yt : [INFO     ] 2022-07-19 18:09:49,623 Parameters: domain_right_edge         = [1. 1. 1.]\n",
      "yt : [INFO     ] 2022-07-19 18:09:49,624 Parameters: cosmological_simulation   = 1\n",
      "yt : [INFO     ] 2022-07-19 18:09:49,624 Parameters: current_redshift          = 0.23254622398407\n",
      "yt : [INFO     ] 2022-07-19 18:09:49,625 Parameters: omega_lambda              = 0.715\n",
      "yt : [INFO     ] 2022-07-19 18:09:49,626 Parameters: omega_matter              = 0.285\n",
      "yt : [INFO     ] 2022-07-19 18:09:49,626 Parameters: omega_radiation           = 0\n",
      "yt : [INFO     ] 2022-07-19 18:09:49,629 Parameters: hubble_constant           = 0.695\n"
     ]
    },
    {
     "name": "stdout",
     "output_type": "stream",
     "text": [
      "get_refine_box: using this location:       col1        col2     col3     col4     col5     col6     col7   col8\n",
      "--------------- -------- -------- -------- -------- -------- -------- ----\n",
      "0.2325524696738 0.489592 0.473612 0.507067 0.491592 0.475612 0.509067    9\n"
     ]
    },
    {
     "name": "stderr",
     "output_type": "stream",
     "text": [
      "Parsing Hierarchy : 100%|████████████████| 4729/4729 [00:00<00:00, 12774.55it/s]\n",
      "yt : [INFO     ] 2022-07-19 18:09:50,264 Gathering a field list (this may take a moment.)\n"
     ]
    },
    {
     "name": "stdout",
     "output_type": "stream",
     "text": [
      "Pulling halo center from catalog file\n",
      "Opening snapshot /Volumes/TempestTimeSteps/DD1927/DD1927\n"
     ]
    },
    {
     "name": "stderr",
     "output_type": "stream",
     "text": [
      "yt : [INFO     ] 2022-07-19 18:09:53,996 Parameters: current_time              = 514.56652781829\n",
      "yt : [INFO     ] 2022-07-19 18:09:53,999 Parameters: domain_dimensions         = [256 256 256]\n",
      "yt : [INFO     ] 2022-07-19 18:09:54,002 Parameters: domain_left_edge          = [0. 0. 0.]\n",
      "yt : [INFO     ] 2022-07-19 18:09:54,005 Parameters: domain_right_edge         = [1. 1. 1.]\n",
      "yt : [INFO     ] 2022-07-19 18:09:54,005 Parameters: cosmological_simulation   = 1\n",
      "yt : [INFO     ] 2022-07-19 18:09:54,006 Parameters: current_redshift          = 0.2220785334236\n",
      "yt : [INFO     ] 2022-07-19 18:09:54,007 Parameters: omega_lambda              = 0.715\n",
      "yt : [INFO     ] 2022-07-19 18:09:54,007 Parameters: omega_matter              = 0.285\n",
      "yt : [INFO     ] 2022-07-19 18:09:54,008 Parameters: omega_radiation           = 0\n",
      "yt : [INFO     ] 2022-07-19 18:09:54,009 Parameters: hubble_constant           = 0.695\n"
     ]
    },
    {
     "name": "stdout",
     "output_type": "stream",
     "text": [
      "get_refine_box: using this location:      col1        col2     col3     col4     col5     col6     col7   col8\n",
      "-------------- -------- -------- -------- -------- -------- -------- ----\n",
      "0.222093482089 0.489563 0.473471 0.507126 0.491563 0.475471 0.509126    9\n"
     ]
    },
    {
     "name": "stderr",
     "output_type": "stream",
     "text": [
      "Parsing Hierarchy : 100%|████████████████| 5012/5012 [00:00<00:00, 12902.23it/s]\n",
      "yt : [INFO     ] 2022-07-19 18:09:54,662 Gathering a field list (this may take a moment.)\n"
     ]
    },
    {
     "name": "stdout",
     "output_type": "stream",
     "text": [
      "Pulling halo center from catalog file\n",
      "Opening snapshot /Volumes/TempestTimeSteps/DD1947/DD1947\n"
     ]
    },
    {
     "name": "stderr",
     "output_type": "stream",
     "text": [
      "yt : [INFO     ] 2022-07-19 18:09:58,351 Parameters: current_time              = 519.56652781829\n",
      "yt : [INFO     ] 2022-07-19 18:09:58,354 Parameters: domain_dimensions         = [256 256 256]\n",
      "yt : [INFO     ] 2022-07-19 18:09:58,357 Parameters: domain_left_edge          = [0. 0. 0.]\n",
      "yt : [INFO     ] 2022-07-19 18:09:58,360 Parameters: domain_right_edge         = [1. 1. 1.]\n",
      "yt : [INFO     ] 2022-07-19 18:09:58,361 Parameters: cosmological_simulation   = 1\n",
      "yt : [INFO     ] 2022-07-19 18:09:58,362 Parameters: current_redshift          = 0.21177265783797\n",
      "yt : [INFO     ] 2022-07-19 18:09:58,362 Parameters: omega_lambda              = 0.715\n",
      "yt : [INFO     ] 2022-07-19 18:09:58,363 Parameters: omega_matter              = 0.285\n",
      "yt : [INFO     ] 2022-07-19 18:09:58,364 Parameters: omega_radiation           = 0\n",
      "yt : [INFO     ] 2022-07-19 18:09:58,364 Parameters: hubble_constant           = 0.695\n"
     ]
    },
    {
     "name": "stdout",
     "output_type": "stream",
     "text": [
      "get_refine_box: using this location:       col1         col2     col3    col4     col5     col6    col7   col8\n",
      "---------------- -------- ------- -------- -------- ------- -------- ----\n",
      "0.21177853956479 0.489535 0.47333 0.507189 0.491535 0.47533 0.509189    9\n"
     ]
    },
    {
     "name": "stderr",
     "output_type": "stream",
     "text": [
      "Parsing Hierarchy : 100%|████████████████| 5317/5317 [00:00<00:00, 13214.93it/s]\n",
      "yt : [INFO     ] 2022-07-19 18:09:59,050 Gathering a field list (this may take a moment.)\n"
     ]
    },
    {
     "name": "stdout",
     "output_type": "stream",
     "text": [
      "Pulling halo center from catalog file\n",
      "Opening snapshot /Volumes/TempestTimeSteps/DD1967/DD1967\n"
     ]
    },
    {
     "name": "stderr",
     "output_type": "stream",
     "text": [
      "yt : [INFO     ] 2022-07-19 18:10:11,658 Parameters: current_time              = 524.56652781829\n",
      "yt : [INFO     ] 2022-07-19 18:10:11,660 Parameters: domain_dimensions         = [256 256 256]\n",
      "yt : [INFO     ] 2022-07-19 18:10:11,663 Parameters: domain_left_edge          = [0. 0. 0.]\n",
      "yt : [INFO     ] 2022-07-19 18:10:11,666 Parameters: domain_right_edge         = [1. 1. 1.]\n",
      "yt : [INFO     ] 2022-07-19 18:10:11,667 Parameters: cosmological_simulation   = 1\n",
      "yt : [INFO     ] 2022-07-19 18:10:11,667 Parameters: current_redshift          = 0.20159208404487\n",
      "yt : [INFO     ] 2022-07-19 18:10:11,668 Parameters: omega_lambda              = 0.715\n",
      "yt : [INFO     ] 2022-07-19 18:10:11,669 Parameters: omega_matter              = 0.285\n",
      "yt : [INFO     ] 2022-07-19 18:10:11,670 Parameters: omega_radiation           = 0\n",
      "yt : [INFO     ] 2022-07-19 18:10:11,670 Parameters: hubble_constant           = 0.695\n"
     ]
    },
    {
     "name": "stdout",
     "output_type": "stream",
     "text": [
      "get_refine_box: using this location:       col1         col2     col3     col4    col5     col6     col7  col8\n",
      "---------------- -------- -------- ------- -------- -------- ------- ----\n",
      "0.20160411214129 0.489504 0.473191 0.50725 0.491504 0.475191 0.50925    9\n"
     ]
    },
    {
     "name": "stderr",
     "output_type": "stream",
     "text": [
      "Parsing Hierarchy : 100%|████████████████| 5322/5322 [00:00<00:00, 12404.38it/s]\n",
      "yt : [INFO     ] 2022-07-19 18:10:12,399 Gathering a field list (this may take a moment.)\n"
     ]
    },
    {
     "name": "stdout",
     "output_type": "stream",
     "text": [
      "Pulling halo center from catalog file\n",
      "Opening snapshot /Volumes/TempestTimeSteps/DD1987/DD1987\n"
     ]
    },
    {
     "name": "stderr",
     "output_type": "stream",
     "text": [
      "yt : [INFO     ] 2022-07-19 18:10:16,200 Parameters: current_time              = 529.56652781829\n",
      "yt : [INFO     ] 2022-07-19 18:10:16,203 Parameters: domain_dimensions         = [256 256 256]\n",
      "yt : [INFO     ] 2022-07-19 18:10:16,206 Parameters: domain_left_edge          = [0. 0. 0.]\n",
      "yt : [INFO     ] 2022-07-19 18:10:16,209 Parameters: domain_right_edge         = [1. 1. 1.]\n",
      "yt : [INFO     ] 2022-07-19 18:10:16,210 Parameters: cosmological_simulation   = 1\n",
      "yt : [INFO     ] 2022-07-19 18:10:16,210 Parameters: current_redshift          = 0.191553635351\n",
      "yt : [INFO     ] 2022-07-19 18:10:16,211 Parameters: omega_lambda              = 0.715\n",
      "yt : [INFO     ] 2022-07-19 18:10:16,212 Parameters: omega_matter              = 0.285\n",
      "yt : [INFO     ] 2022-07-19 18:10:16,212 Parameters: omega_radiation           = 0\n",
      "yt : [INFO     ] 2022-07-19 18:10:16,213 Parameters: hubble_constant           = 0.695\n"
     ]
    },
    {
     "name": "stdout",
     "output_type": "stream",
     "text": [
      "get_refine_box: using this location:       col1         col2     col3     col4     col5     col6     col7   col8\n",
      "---------------- -------- -------- -------- -------- -------- -------- ----\n",
      "0.19156679449708 0.489476 0.473053 0.507311 0.491476 0.475053 0.509311    9\n"
     ]
    },
    {
     "name": "stderr",
     "output_type": "stream",
     "text": [
      "Parsing Hierarchy : 100%|████████████████| 5118/5118 [00:00<00:00, 13370.74it/s]\n",
      "yt : [INFO     ] 2022-07-19 18:10:16,889 Gathering a field list (this may take a moment.)\n"
     ]
    },
    {
     "name": "stdout",
     "output_type": "stream",
     "text": [
      "Pulling halo center from catalog file\n",
      "Opening snapshot /Volumes/TempestTimeSteps/DD2007/DD2007\n"
     ]
    },
    {
     "name": "stderr",
     "output_type": "stream",
     "text": [
      "yt : [INFO     ] 2022-07-19 18:10:20,644 Parameters: current_time              = 534.56652781829\n",
      "yt : [INFO     ] 2022-07-19 18:10:20,647 Parameters: domain_dimensions         = [256 256 256]\n",
      "yt : [INFO     ] 2022-07-19 18:10:20,650 Parameters: domain_left_edge          = [0. 0. 0.]\n",
      "yt : [INFO     ] 2022-07-19 18:10:20,653 Parameters: domain_right_edge         = [1. 1. 1.]\n",
      "yt : [INFO     ] 2022-07-19 18:10:20,654 Parameters: cosmological_simulation   = 1\n",
      "yt : [INFO     ] 2022-07-19 18:10:20,655 Parameters: current_redshift          = 0.18165941968054\n",
      "yt : [INFO     ] 2022-07-19 18:10:20,655 Parameters: omega_lambda              = 0.715\n",
      "yt : [INFO     ] 2022-07-19 18:10:20,656 Parameters: omega_matter              = 0.285\n",
      "yt : [INFO     ] 2022-07-19 18:10:20,657 Parameters: omega_radiation           = 0\n",
      "yt : [INFO     ] 2022-07-19 18:10:20,657 Parameters: hubble_constant           = 0.695\n"
     ]
    },
    {
     "name": "stdout",
     "output_type": "stream",
     "text": [
      "get_refine_box: using this location:       col1         col2     col3     col4     col5     col6     col7   col8\n",
      "---------------- -------- -------- -------- -------- -------- -------- ----\n",
      "0.18166330045117 0.489447 0.472918 0.507372 0.491447 0.474918 0.509372    9\n"
     ]
    },
    {
     "name": "stderr",
     "output_type": "stream",
     "text": [
      "Parsing Hierarchy : 100%|████████████████| 5188/5188 [00:00<00:00, 13232.84it/s]\n",
      "yt : [INFO     ] 2022-07-19 18:10:21,331 Gathering a field list (this may take a moment.)\n"
     ]
    },
    {
     "name": "stdout",
     "output_type": "stream",
     "text": [
      "Pulling halo center from catalog file\n",
      "Opening snapshot /Volumes/TempestTimeSteps/DD2027/DD2027\n"
     ]
    },
    {
     "name": "stderr",
     "output_type": "stream",
     "text": [
      "yt : [INFO     ] 2022-07-19 18:10:24,992 Parameters: current_time              = 539.56652781829\n",
      "yt : [INFO     ] 2022-07-19 18:10:24,995 Parameters: domain_dimensions         = [256 256 256]\n",
      "yt : [INFO     ] 2022-07-19 18:10:24,998 Parameters: domain_left_edge          = [0. 0. 0.]\n",
      "yt : [INFO     ] 2022-07-19 18:10:25,001 Parameters: domain_right_edge         = [1. 1. 1.]\n",
      "yt : [INFO     ] 2022-07-19 18:10:25,002 Parameters: cosmological_simulation   = 1\n",
      "yt : [INFO     ] 2022-07-19 18:10:25,002 Parameters: current_redshift          = 0.1718756018899\n",
      "yt : [INFO     ] 2022-07-19 18:10:25,003 Parameters: omega_lambda              = 0.715\n",
      "yt : [INFO     ] 2022-07-19 18:10:25,004 Parameters: omega_matter              = 0.285\n",
      "yt : [INFO     ] 2022-07-19 18:10:25,004 Parameters: omega_radiation           = 0\n",
      "yt : [INFO     ] 2022-07-19 18:10:25,005 Parameters: hubble_constant           = 0.695\n"
     ]
    },
    {
     "name": "stdout",
     "output_type": "stream",
     "text": [
      "get_refine_box: using this location:       col1        col2    col3     col4     col5    col6     col7   col8\n",
      "--------------- ------- -------- -------- ------- -------- -------- ----\n",
      "0.1718904577544 0.48942 0.472783 0.507435 0.49142 0.474783 0.509435    9\n"
     ]
    },
    {
     "name": "stderr",
     "output_type": "stream",
     "text": [
      "Parsing Hierarchy : 100%|████████████████| 5220/5220 [00:00<00:00, 12969.72it/s]\n",
      "yt : [INFO     ] 2022-07-19 18:10:25,679 Gathering a field list (this may take a moment.)\n"
     ]
    },
    {
     "name": "stdout",
     "output_type": "stream",
     "text": [
      "Pulling halo center from catalog file\n",
      "Opening snapshot /Volumes/TempestTimeSteps/DD2047/DD2047\n"
     ]
    },
    {
     "name": "stderr",
     "output_type": "stream",
     "text": [
      "yt : [INFO     ] 2022-07-19 18:10:29,369 Parameters: current_time              = 544.56652781829\n",
      "yt : [INFO     ] 2022-07-19 18:10:29,374 Parameters: domain_dimensions         = [256 256 256]\n",
      "yt : [INFO     ] 2022-07-19 18:10:29,377 Parameters: domain_left_edge          = [0. 0. 0.]\n",
      "yt : [INFO     ] 2022-07-19 18:10:29,380 Parameters: domain_right_edge         = [1. 1. 1.]\n",
      "yt : [INFO     ] 2022-07-19 18:10:29,381 Parameters: cosmological_simulation   = 1\n",
      "yt : [INFO     ] 2022-07-19 18:10:29,381 Parameters: current_redshift          = 0.1622385268912\n",
      "yt : [INFO     ] 2022-07-19 18:10:29,382 Parameters: omega_lambda              = 0.715\n",
      "yt : [INFO     ] 2022-07-19 18:10:29,383 Parameters: omega_matter              = 0.285\n",
      "yt : [INFO     ] 2022-07-19 18:10:29,383 Parameters: omega_radiation           = 0\n",
      "yt : [INFO     ] 2022-07-19 18:10:29,384 Parameters: hubble_constant           = 0.695\n"
     ]
    },
    {
     "name": "stdout",
     "output_type": "stream",
     "text": [
      "get_refine_box: using this location:       col1         col2    col3     col4     col5    col6     col7   col8\n",
      "---------------- ------- -------- -------- ------- -------- -------- ----\n",
      "0.16224520315245 0.48939 0.472649 0.507494 0.49139 0.474649 0.509494    9\n"
     ]
    },
    {
     "name": "stderr",
     "output_type": "stream",
     "text": [
      "Parsing Hierarchy : 100%|████████████████| 5096/5096 [00:00<00:00, 13035.02it/s]\n",
      "yt : [INFO     ] 2022-07-19 18:10:30,054 Gathering a field list (this may take a moment.)\n"
     ]
    },
    {
     "name": "stdout",
     "output_type": "stream",
     "text": [
      "Pulling halo center from catalog file\n",
      "Opening snapshot /Volumes/TempestTimeSteps/DD2067/DD2067\n"
     ]
    },
    {
     "name": "stderr",
     "output_type": "stream",
     "text": [
      "yt : [INFO     ] 2022-07-19 18:10:33,728 Parameters: current_time              = 549.56652781829\n",
      "yt : [INFO     ] 2022-07-19 18:10:33,731 Parameters: domain_dimensions         = [256 256 256]\n",
      "yt : [INFO     ] 2022-07-19 18:10:33,734 Parameters: domain_left_edge          = [0. 0. 0.]\n",
      "yt : [INFO     ] 2022-07-19 18:10:33,737 Parameters: domain_right_edge         = [1. 1. 1.]\n",
      "yt : [INFO     ] 2022-07-19 18:10:33,738 Parameters: cosmological_simulation   = 1\n",
      "yt : [INFO     ] 2022-07-19 18:10:33,739 Parameters: current_redshift          = 0.15271267325251\n",
      "yt : [INFO     ] 2022-07-19 18:10:33,740 Parameters: omega_lambda              = 0.715\n",
      "yt : [INFO     ] 2022-07-19 18:10:33,740 Parameters: omega_matter              = 0.285\n",
      "yt : [INFO     ] 2022-07-19 18:10:33,741 Parameters: omega_radiation           = 0\n",
      "yt : [INFO     ] 2022-07-19 18:10:33,742 Parameters: hubble_constant           = 0.695\n"
     ]
    },
    {
     "name": "stdout",
     "output_type": "stream",
     "text": [
      "get_refine_box: using this location:       col1         col2     col3     col4     col5     col6     col7   col8\n",
      "---------------- -------- -------- -------- -------- -------- -------- ----\n",
      "0.15272457770406 0.489359 0.472517 0.507557 0.491359 0.474517 0.509557    9\n"
     ]
    },
    {
     "name": "stderr",
     "output_type": "stream",
     "text": [
      "Parsing Hierarchy : 100%|████████████████| 5279/5279 [00:00<00:00, 12805.34it/s]\n",
      "yt : [INFO     ] 2022-07-19 18:10:34,447 Gathering a field list (this may take a moment.)\n"
     ]
    },
    {
     "name": "stdout",
     "output_type": "stream",
     "text": [
      "Pulling halo center from catalog file\n",
      "Opening snapshot /Volumes/TempestTimeSteps/DD2087/DD2087\n"
     ]
    },
    {
     "name": "stderr",
     "output_type": "stream",
     "text": [
      "yt : [INFO     ] 2022-07-19 18:10:38,117 Parameters: current_time              = 554.56652781829\n",
      "yt : [INFO     ] 2022-07-19 18:10:38,120 Parameters: domain_dimensions         = [256 256 256]\n",
      "yt : [INFO     ] 2022-07-19 18:10:38,124 Parameters: domain_left_edge          = [0. 0. 0.]\n",
      "yt : [INFO     ] 2022-07-19 18:10:38,129 Parameters: domain_right_edge         = [1. 1. 1.]\n",
      "yt : [INFO     ] 2022-07-19 18:10:38,130 Parameters: cosmological_simulation   = 1\n",
      "yt : [INFO     ] 2022-07-19 18:10:38,130 Parameters: current_redshift          = 0.1433128745218\n",
      "yt : [INFO     ] 2022-07-19 18:10:38,131 Parameters: omega_lambda              = 0.715\n",
      "yt : [INFO     ] 2022-07-19 18:10:38,132 Parameters: omega_matter              = 0.285\n",
      "yt : [INFO     ] 2022-07-19 18:10:38,133 Parameters: omega_radiation           = 0\n",
      "yt : [INFO     ] 2022-07-19 18:10:38,133 Parameters: hubble_constant           = 0.695\n"
     ]
    },
    {
     "name": "stdout",
     "output_type": "stream",
     "text": [
      "get_refine_box: using this location:       col1         col2     col3     col4     col5     col6     col7   col8\n",
      "---------------- -------- -------- -------- -------- -------- -------- ----\n",
      "0.14332572233908 0.489329 0.472386 0.507616 0.491329 0.474386 0.509616    9\n"
     ]
    },
    {
     "name": "stderr",
     "output_type": "stream",
     "text": [
      "Parsing Hierarchy : 100%|████████████████| 5340/5340 [00:00<00:00, 12868.56it/s]\n",
      "yt : [INFO     ] 2022-07-19 18:10:38,829 Gathering a field list (this may take a moment.)\n"
     ]
    },
    {
     "name": "stdout",
     "output_type": "stream",
     "text": [
      "Pulling halo center from catalog file\n",
      "Opening snapshot /Volumes/TempestTimeSteps/DD2107/DD2107\n"
     ]
    },
    {
     "name": "stderr",
     "output_type": "stream",
     "text": [
      "yt : [INFO     ] 2022-07-19 18:10:43,481 Parameters: current_time              = 559.56652781829\n",
      "yt : [INFO     ] 2022-07-19 18:10:43,484 Parameters: domain_dimensions         = [256 256 256]\n",
      "yt : [INFO     ] 2022-07-19 18:10:43,488 Parameters: domain_left_edge          = [0. 0. 0.]\n",
      "yt : [INFO     ] 2022-07-19 18:10:43,492 Parameters: domain_right_edge         = [1. 1. 1.]\n",
      "yt : [INFO     ] 2022-07-19 18:10:43,494 Parameters: cosmological_simulation   = 1\n",
      "yt : [INFO     ] 2022-07-19 18:10:43,497 Parameters: current_redshift          = 0.13404074085693\n",
      "yt : [INFO     ] 2022-07-19 18:10:43,498 Parameters: omega_lambda              = 0.715\n",
      "yt : [INFO     ] 2022-07-19 18:10:43,499 Parameters: omega_matter              = 0.285\n",
      "yt : [INFO     ] 2022-07-19 18:10:43,499 Parameters: omega_radiation           = 0\n",
      "yt : [INFO     ] 2022-07-19 18:10:43,500 Parameters: hubble_constant           = 0.695\n"
     ]
    },
    {
     "name": "stdout",
     "output_type": "stream",
     "text": [
      "get_refine_box: using this location:       col1        col2    col3     col4    col5    col6     col7   col8\n",
      "---------------- ------ -------- -------- ------ -------- -------- ----\n",
      "0.13404587364197 0.4893 0.472256 0.507677 0.4913 0.474256 0.509677    9\n"
     ]
    },
    {
     "name": "stderr",
     "output_type": "stream",
     "text": [
      "Parsing Hierarchy : 100%|████████████████| 5123/5123 [00:00<00:00, 11227.09it/s]\n",
      "yt : [INFO     ] 2022-07-19 18:10:44,269 Gathering a field list (this may take a moment.)\n"
     ]
    },
    {
     "name": "stdout",
     "output_type": "stream",
     "text": [
      "Pulling halo center from catalog file\n",
      "Opening snapshot /Volumes/TempestTimeSteps/DD2127/DD2127\n"
     ]
    },
    {
     "name": "stderr",
     "output_type": "stream",
     "text": [
      "yt : [INFO     ] 2022-07-19 18:10:48,190 Parameters: current_time              = 564.56652781829\n",
      "yt : [INFO     ] 2022-07-19 18:10:48,193 Parameters: domain_dimensions         = [256 256 256]\n",
      "yt : [INFO     ] 2022-07-19 18:10:48,196 Parameters: domain_left_edge          = [0. 0. 0.]\n",
      "yt : [INFO     ] 2022-07-19 18:10:48,199 Parameters: domain_right_edge         = [1. 1. 1.]\n",
      "yt : [INFO     ] 2022-07-19 18:10:48,200 Parameters: cosmological_simulation   = 1\n",
      "yt : [INFO     ] 2022-07-19 18:10:48,200 Parameters: current_redshift          = 0.12486754396875\n",
      "yt : [INFO     ] 2022-07-19 18:10:48,201 Parameters: omega_lambda              = 0.715\n",
      "yt : [INFO     ] 2022-07-19 18:10:48,202 Parameters: omega_matter              = 0.285\n",
      "yt : [INFO     ] 2022-07-19 18:10:48,202 Parameters: omega_radiation           = 0\n",
      "yt : [INFO     ] 2022-07-19 18:10:48,203 Parameters: hubble_constant           = 0.695\n"
     ]
    },
    {
     "name": "stdout",
     "output_type": "stream",
     "text": [
      "get_refine_box: using this location:       col1         col2    col3     col4     col5    col6     col7   col8\n",
      "---------------- ------- -------- -------- ------- -------- -------- ----\n",
      "0.12488235984756 0.48927 0.472126 0.507739 0.49127 0.474126 0.509739    9\n"
     ]
    },
    {
     "name": "stderr",
     "output_type": "stream",
     "text": [
      "Parsing Hierarchy : 100%|████████████████| 4705/4705 [00:00<00:00, 12354.17it/s]\n",
      "yt : [INFO     ] 2022-07-19 18:10:48,856 Gathering a field list (this may take a moment.)\n"
     ]
    },
    {
     "name": "stdout",
     "output_type": "stream",
     "text": [
      "Pulling halo center from catalog file\n",
      "Opening snapshot /Volumes/TempestTimeSteps/DD2147/DD2147\n"
     ]
    },
    {
     "name": "stderr",
     "output_type": "stream",
     "text": [
      "yt : [INFO     ] 2022-07-19 18:10:53,256 Parameters: current_time              = 569.56652781829\n",
      "yt : [INFO     ] 2022-07-19 18:10:53,259 Parameters: domain_dimensions         = [256 256 256]\n",
      "yt : [INFO     ] 2022-07-19 18:10:53,262 Parameters: domain_left_edge          = [0. 0. 0.]\n",
      "yt : [INFO     ] 2022-07-19 18:10:53,266 Parameters: domain_right_edge         = [1. 1. 1.]\n",
      "yt : [INFO     ] 2022-07-19 18:10:53,267 Parameters: cosmological_simulation   = 1\n",
      "yt : [INFO     ] 2022-07-19 18:10:53,267 Parameters: current_redshift          = 0.11582848603619\n",
      "yt : [INFO     ] 2022-07-19 18:10:53,268 Parameters: omega_lambda              = 0.715\n",
      "yt : [INFO     ] 2022-07-19 18:10:53,269 Parameters: omega_matter              = 0.285\n",
      "yt : [INFO     ] 2022-07-19 18:10:53,270 Parameters: omega_radiation           = 0\n",
      "yt : [INFO     ] 2022-07-19 18:10:53,271 Parameters: hubble_constant           = 0.695\n"
     ]
    },
    {
     "name": "stdout",
     "output_type": "stream",
     "text": [
      "get_refine_box: using this location:       col1         col2     col3     col4     col5     col6     col7   col8\n",
      "---------------- -------- -------- -------- -------- -------- -------- ----\n",
      "0.11583259703646 0.489241 0.471999 0.507798 0.491241 0.473999 0.509798    9\n"
     ]
    },
    {
     "name": "stderr",
     "output_type": "stream",
     "text": [
      "Parsing Hierarchy : 100%|█████████████████| 4762/4762 [00:00<00:00, 8300.16it/s]\n",
      "yt : [INFO     ] 2022-07-19 18:10:54,168 Gathering a field list (this may take a moment.)\n"
     ]
    },
    {
     "name": "stdout",
     "output_type": "stream",
     "text": [
      "Pulling halo center from catalog file\n",
      "Opening snapshot /Volumes/TempestTimeSteps/DD2167/DD2167\n"
     ]
    },
    {
     "name": "stderr",
     "output_type": "stream",
     "text": [
      "yt : [INFO     ] 2022-07-19 18:10:58,393 Parameters: current_time              = 574.56652781829\n",
      "yt : [INFO     ] 2022-07-19 18:10:58,396 Parameters: domain_dimensions         = [256 256 256]\n",
      "yt : [INFO     ] 2022-07-19 18:10:58,399 Parameters: domain_left_edge          = [0. 0. 0.]\n",
      "yt : [INFO     ] 2022-07-19 18:10:58,402 Parameters: domain_right_edge         = [1. 1. 1.]\n",
      "yt : [INFO     ] 2022-07-19 18:10:58,403 Parameters: cosmological_simulation   = 1\n",
      "yt : [INFO     ] 2022-07-19 18:10:58,404 Parameters: current_redshift          = 0.10688078342035\n",
      "yt : [INFO     ] 2022-07-19 18:10:58,405 Parameters: omega_lambda              = 0.715\n",
      "yt : [INFO     ] 2022-07-19 18:10:58,405 Parameters: omega_matter              = 0.285\n",
      "yt : [INFO     ] 2022-07-19 18:10:58,406 Parameters: omega_radiation           = 0\n",
      "yt : [INFO     ] 2022-07-19 18:10:58,407 Parameters: hubble_constant           = 0.695\n"
     ]
    },
    {
     "name": "stdout",
     "output_type": "stream",
     "text": [
      "get_refine_box: using this location:       col1         col2     col3     col4     col5     col6     col7   col8\n",
      "---------------- -------- -------- -------- -------- -------- -------- ----\n",
      "0.10689408551869 0.489214 0.471873 0.507855 0.491214 0.473873 0.509855    9\n"
     ]
    },
    {
     "name": "stderr",
     "output_type": "stream",
     "text": [
      "Parsing Hierarchy : 100%|████████████████| 4619/4619 [00:00<00:00, 11929.64it/s]\n",
      "yt : [INFO     ] 2022-07-19 18:10:59,076 Gathering a field list (this may take a moment.)\n"
     ]
    },
    {
     "name": "stdout",
     "output_type": "stream",
     "text": [
      "Pulling halo center from catalog file\n",
      "Opening snapshot /Volumes/TempestTimeSteps/DD2187/DD2187\n"
     ]
    },
    {
     "name": "stderr",
     "output_type": "stream",
     "text": [
      "yt : [INFO     ] 2022-07-19 18:11:03,065 Parameters: current_time              = 579.56652781829\n",
      "yt : [INFO     ] 2022-07-19 18:11:03,068 Parameters: domain_dimensions         = [256 256 256]\n",
      "yt : [INFO     ] 2022-07-19 18:11:03,071 Parameters: domain_left_edge          = [0. 0. 0.]\n",
      "yt : [INFO     ] 2022-07-19 18:11:03,074 Parameters: domain_right_edge         = [1. 1. 1.]\n",
      "yt : [INFO     ] 2022-07-19 18:11:03,075 Parameters: cosmological_simulation   = 1\n",
      "yt : [INFO     ] 2022-07-19 18:11:03,076 Parameters: current_redshift          = 0.098053769197091\n",
      "yt : [INFO     ] 2022-07-19 18:11:03,077 Parameters: omega_lambda              = 0.715\n",
      "yt : [INFO     ] 2022-07-19 18:11:03,079 Parameters: omega_matter              = 0.285\n",
      "yt : [INFO     ] 2022-07-19 18:11:03,079 Parameters: omega_radiation           = 0\n",
      "yt : [INFO     ] 2022-07-19 18:11:03,080 Parameters: hubble_constant           = 0.695\n"
     ]
    },
    {
     "name": "stdout",
     "output_type": "stream",
     "text": [
      "get_refine_box: using this location:        col1         col2     col3     col4     col5     col6     col7   col8\n",
      "----------------- -------- -------- -------- -------- -------- -------- ----\n",
      "0.098064406394637 0.489188 0.471747 0.507912 0.491188 0.473747 0.509912    9\n"
     ]
    },
    {
     "name": "stderr",
     "output_type": "stream",
     "text": [
      "Parsing Hierarchy : 100%|████████████████| 4729/4729 [00:00<00:00, 11528.19it/s]\n",
      "yt : [INFO     ] 2022-07-19 18:11:03,806 Gathering a field list (this may take a moment.)\n"
     ]
    },
    {
     "name": "stdout",
     "output_type": "stream",
     "text": [
      "Pulling halo center from catalog file\n",
      "Opening snapshot /Volumes/TempestTimeSteps/DD2207/DD2207\n"
     ]
    },
    {
     "name": "stderr",
     "output_type": "stream",
     "text": [
      "yt : [INFO     ] 2022-07-19 18:11:07,618 Parameters: current_time              = 584.56652781829\n",
      "yt : [INFO     ] 2022-07-19 18:11:07,621 Parameters: domain_dimensions         = [256 256 256]\n",
      "yt : [INFO     ] 2022-07-19 18:11:07,625 Parameters: domain_left_edge          = [0. 0. 0.]\n",
      "yt : [INFO     ] 2022-07-19 18:11:07,628 Parameters: domain_right_edge         = [1. 1. 1.]\n",
      "yt : [INFO     ] 2022-07-19 18:11:07,629 Parameters: cosmological_simulation   = 1\n",
      "yt : [INFO     ] 2022-07-19 18:11:07,629 Parameters: current_redshift          = 0.089332273252055\n",
      "yt : [INFO     ] 2022-07-19 18:11:07,630 Parameters: omega_lambda              = 0.715\n",
      "yt : [INFO     ] 2022-07-19 18:11:07,631 Parameters: omega_matter              = 0.285\n",
      "yt : [INFO     ] 2022-07-19 18:11:07,631 Parameters: omega_radiation           = 0\n",
      "yt : [INFO     ] 2022-07-19 18:11:07,632 Parameters: hubble_constant           = 0.695\n"
     ]
    },
    {
     "name": "stdout",
     "output_type": "stream",
     "text": [
      "get_refine_box: using this location:        col1         col2     col3     col4     col5     col6     col7   col8\n",
      "----------------- -------- -------- -------- -------- -------- -------- ----\n",
      "0.089341218283104 0.489161 0.471621 0.507969 0.491161 0.473621 0.509969    9\n"
     ]
    },
    {
     "name": "stderr",
     "output_type": "stream",
     "text": [
      "Parsing Hierarchy : 100%|████████████████| 4394/4394 [00:00<00:00, 12652.07it/s]\n",
      "yt : [INFO     ] 2022-07-19 18:11:08,245 Gathering a field list (this may take a moment.)\n"
     ]
    },
    {
     "name": "stdout",
     "output_type": "stream",
     "text": [
      "Pulling halo center from catalog file\n",
      "Opening snapshot /Volumes/TempestTimeSteps/DD2227/DD2227\n"
     ]
    },
    {
     "name": "stderr",
     "output_type": "stream",
     "text": [
      "yt : [INFO     ] 2022-07-19 18:11:12,568 Parameters: current_time              = 589.56652781829\n",
      "yt : [INFO     ] 2022-07-19 18:11:12,571 Parameters: domain_dimensions         = [256 256 256]\n",
      "yt : [INFO     ] 2022-07-19 18:11:12,574 Parameters: domain_left_edge          = [0. 0. 0.]\n",
      "yt : [INFO     ] 2022-07-19 18:11:12,578 Parameters: domain_right_edge         = [1. 1. 1.]\n",
      "yt : [INFO     ] 2022-07-19 18:11:12,579 Parameters: cosmological_simulation   = 1\n",
      "yt : [INFO     ] 2022-07-19 18:11:12,579 Parameters: current_redshift          = 0.080708326235905\n",
      "yt : [INFO     ] 2022-07-19 18:11:12,580 Parameters: omega_lambda              = 0.715\n",
      "yt : [INFO     ] 2022-07-19 18:11:12,580 Parameters: omega_matter              = 0.285\n",
      "yt : [INFO     ] 2022-07-19 18:11:12,581 Parameters: omega_radiation           = 0\n",
      "yt : [INFO     ] 2022-07-19 18:11:12,584 Parameters: hubble_constant           = 0.695\n"
     ]
    },
    {
     "name": "stdout",
     "output_type": "stream",
     "text": [
      "get_refine_box: using this location:        col1         col2     col3     col4     col5     col6     col7   col8\n",
      "----------------- -------- -------- -------- -------- -------- -------- ----\n",
      "0.080722254207208 0.489136 0.471499 0.508025 0.491136 0.473499 0.510025    9\n"
     ]
    },
    {
     "name": "stderr",
     "output_type": "stream",
     "text": [
      "Parsing Hierarchy : 100%|████████████████| 4637/4637 [00:00<00:00, 10324.81it/s]\n",
      "yt : [INFO     ] 2022-07-19 18:11:13,285 Gathering a field list (this may take a moment.)\n"
     ]
    },
    {
     "name": "stdout",
     "output_type": "stream",
     "text": [
      "Pulling halo center from catalog file\n",
      "Opening snapshot /Volumes/TempestTimeSteps/DD2247/DD2247\n"
     ]
    },
    {
     "name": "stderr",
     "output_type": "stream",
     "text": [
      "yt : [INFO     ] 2022-07-19 18:11:17,190 Parameters: current_time              = 594.56652781829\n",
      "yt : [INFO     ] 2022-07-19 18:11:17,193 Parameters: domain_dimensions         = [256 256 256]\n",
      "yt : [INFO     ] 2022-07-19 18:11:17,196 Parameters: domain_left_edge          = [0. 0. 0.]\n",
      "yt : [INFO     ] 2022-07-19 18:11:17,199 Parameters: domain_right_edge         = [1. 1. 1.]\n",
      "yt : [INFO     ] 2022-07-19 18:11:17,200 Parameters: cosmological_simulation   = 1\n",
      "yt : [INFO     ] 2022-07-19 18:11:17,201 Parameters: current_redshift          = 0.072203010646745\n",
      "yt : [INFO     ] 2022-07-19 18:11:17,202 Parameters: omega_lambda              = 0.715\n",
      "yt : [INFO     ] 2022-07-19 18:11:17,203 Parameters: omega_matter              = 0.285\n",
      "yt : [INFO     ] 2022-07-19 18:11:17,204 Parameters: omega_radiation           = 0\n",
      "yt : [INFO     ] 2022-07-19 18:11:17,204 Parameters: hubble_constant           = 0.695\n"
     ]
    },
    {
     "name": "stdout",
     "output_type": "stream",
     "text": [
      "get_refine_box: using this location:        col1         col2     col3     col4     col5     col6     col7   col8\n",
      "----------------- -------- -------- -------- -------- -------- -------- ----\n",
      "0.072205318629089 0.489111 0.471377 0.508078 0.491111 0.473377 0.510078    9\n"
     ]
    },
    {
     "name": "stderr",
     "output_type": "stream",
     "text": [
      "Parsing Hierarchy : 100%|████████████████| 4661/4661 [00:00<00:00, 12696.64it/s]\n",
      "yt : [INFO     ] 2022-07-19 18:11:17,846 Gathering a field list (this may take a moment.)\n"
     ]
    },
    {
     "name": "stdout",
     "output_type": "stream",
     "text": [
      "Pulling halo center from catalog file\n",
      "Opening snapshot /Volumes/TempestTimeSteps/DD2267/DD2267\n"
     ]
    },
    {
     "name": "stderr",
     "output_type": "stream",
     "text": [
      "yt : [INFO     ] 2022-07-19 18:11:21,483 Parameters: current_time              = 599.56652781829\n",
      "yt : [INFO     ] 2022-07-19 18:11:21,488 Parameters: domain_dimensions         = [256 256 256]\n",
      "yt : [INFO     ] 2022-07-19 18:11:21,491 Parameters: domain_left_edge          = [0. 0. 0.]\n",
      "yt : [INFO     ] 2022-07-19 18:11:21,494 Parameters: domain_right_edge         = [1. 1. 1.]\n",
      "yt : [INFO     ] 2022-07-19 18:11:21,495 Parameters: cosmological_simulation   = 1\n",
      "yt : [INFO     ] 2022-07-19 18:11:21,496 Parameters: current_redshift          = 0.063773742616062\n",
      "yt : [INFO     ] 2022-07-19 18:11:21,497 Parameters: omega_lambda              = 0.715\n",
      "yt : [INFO     ] 2022-07-19 18:11:21,497 Parameters: omega_matter              = 0.285\n",
      "yt : [INFO     ] 2022-07-19 18:11:21,498 Parameters: omega_radiation           = 0\n",
      "yt : [INFO     ] 2022-07-19 18:11:21,498 Parameters: hubble_constant           = 0.695\n"
     ]
    },
    {
     "name": "stdout",
     "output_type": "stream",
     "text": [
      "get_refine_box: using this location:       col1         col2     col3     col4     col5     col6     col7   col8\n",
      "---------------- -------- -------- -------- -------- -------- -------- ----\n",
      "0.06378828462523 0.489085 0.471257 0.508131 0.491085 0.473257 0.510131    9\n"
     ]
    },
    {
     "name": "stderr",
     "output_type": "stream",
     "text": [
      "Parsing Hierarchy : 100%|████████████████| 4765/4765 [00:00<00:00, 12792.35it/s]\n",
      "yt : [INFO     ] 2022-07-19 18:11:22,142 Gathering a field list (this may take a moment.)\n"
     ]
    },
    {
     "name": "stdout",
     "output_type": "stream",
     "text": [
      "Pulling halo center from catalog file\n",
      "Opening snapshot /Volumes/TempestTimeSteps/DD2287/DD2287\n"
     ]
    },
    {
     "name": "stderr",
     "output_type": "stream",
     "text": [
      "yt : [INFO     ] 2022-07-19 18:11:25,896 Parameters: current_time              = 604.56652781829\n",
      "yt : [INFO     ] 2022-07-19 18:11:25,899 Parameters: domain_dimensions         = [256 256 256]\n",
      "yt : [INFO     ] 2022-07-19 18:11:25,903 Parameters: domain_left_edge          = [0. 0. 0.]\n",
      "yt : [INFO     ] 2022-07-19 18:11:25,907 Parameters: domain_right_edge         = [1. 1. 1.]\n",
      "yt : [INFO     ] 2022-07-19 18:11:25,908 Parameters: cosmological_simulation   = 1\n",
      "yt : [INFO     ] 2022-07-19 18:11:25,909 Parameters: current_redshift          = 0.055464005771674\n",
      "yt : [INFO     ] 2022-07-19 18:11:25,909 Parameters: omega_lambda              = 0.715\n",
      "yt : [INFO     ] 2022-07-19 18:11:25,910 Parameters: omega_matter              = 0.285\n",
      "yt : [INFO     ] 2022-07-19 18:11:25,911 Parameters: omega_radiation           = 0\n",
      "yt : [INFO     ] 2022-07-19 18:11:25,912 Parameters: hubble_constant           = 0.695\n"
     ]
    },
    {
     "name": "stdout",
     "output_type": "stream",
     "text": [
      "get_refine_box: using this location:        col1         col2     col3     col4     col5     col6     col7   col8\n",
      "----------------- -------- -------- -------- -------- -------- -------- ----\n",
      "0.055469091194623 0.489056 0.471136 0.508185 0.491056 0.473136 0.510185    9\n"
     ]
    },
    {
     "name": "stderr",
     "output_type": "stream",
     "text": [
      "Parsing Hierarchy : 100%|████████████████| 4752/4752 [00:00<00:00, 11212.84it/s]\n",
      "yt : [INFO     ] 2022-07-19 18:11:26,649 Gathering a field list (this may take a moment.)\n"
     ]
    },
    {
     "name": "stdout",
     "output_type": "stream",
     "text": [
      "Pulling halo center from catalog file\n",
      "Opening snapshot /Volumes/TempestTimeSteps/DD2307/DD2307\n"
     ]
    },
    {
     "name": "stderr",
     "output_type": "stream",
     "text": [
      "yt : [INFO     ] 2022-07-19 18:11:30,628 Parameters: current_time              = 609.56652781829\n",
      "yt : [INFO     ] 2022-07-19 18:11:30,631 Parameters: domain_dimensions         = [256 256 256]\n",
      "yt : [INFO     ] 2022-07-19 18:11:30,634 Parameters: domain_left_edge          = [0. 0. 0.]\n",
      "yt : [INFO     ] 2022-07-19 18:11:30,637 Parameters: domain_right_edge         = [1. 1. 1.]\n",
      "yt : [INFO     ] 2022-07-19 18:11:30,638 Parameters: cosmological_simulation   = 1\n",
      "yt : [INFO     ] 2022-07-19 18:11:30,639 Parameters: current_redshift          = 0.047232768552278\n",
      "yt : [INFO     ] 2022-07-19 18:11:30,640 Parameters: omega_lambda              = 0.715\n",
      "yt : [INFO     ] 2022-07-19 18:11:30,640 Parameters: omega_matter              = 0.285\n",
      "yt : [INFO     ] 2022-07-19 18:11:30,641 Parameters: omega_radiation           = 0\n",
      "yt : [INFO     ] 2022-07-19 18:11:30,642 Parameters: hubble_constant           = 0.695\n"
     ]
    },
    {
     "name": "stdout",
     "output_type": "stream",
     "text": [
      "get_refine_box: using this location:       col1         col2     col3     col4     col5     col6     col7   col8\n",
      "---------------- -------- -------- -------- -------- -------- -------- ----\n",
      "0.04724574069249 0.489029 0.471018 0.508236 0.491029 0.473018 0.510236    9\n"
     ]
    },
    {
     "name": "stderr",
     "output_type": "stream",
     "text": [
      "Parsing Hierarchy : 100%|████████████████| 4568/4568 [00:00<00:00, 12673.58it/s]\n",
      "yt : [INFO     ] 2022-07-19 18:11:31,279 Gathering a field list (this may take a moment.)\n"
     ]
    },
    {
     "name": "stdout",
     "output_type": "stream",
     "text": [
      "Pulling halo center from catalog file\n",
      "Opening snapshot /Volumes/TempestTimeSteps/DD2327/DD2327\n"
     ]
    },
    {
     "name": "stderr",
     "output_type": "stream",
     "text": [
      "yt : [INFO     ] 2022-07-19 18:11:35,080 Parameters: current_time              = 614.56652781829\n",
      "yt : [INFO     ] 2022-07-19 18:11:35,083 Parameters: domain_dimensions         = [256 256 256]\n",
      "yt : [INFO     ] 2022-07-19 18:11:35,086 Parameters: domain_left_edge          = [0. 0. 0.]\n",
      "yt : [INFO     ] 2022-07-19 18:11:35,089 Parameters: domain_right_edge         = [1. 1. 1.]\n",
      "yt : [INFO     ] 2022-07-19 18:11:35,090 Parameters: cosmological_simulation   = 1\n",
      "yt : [INFO     ] 2022-07-19 18:11:35,090 Parameters: current_redshift          = 0.0391061686678\n",
      "yt : [INFO     ] 2022-07-19 18:11:35,091 Parameters: omega_lambda              = 0.715\n",
      "yt : [INFO     ] 2022-07-19 18:11:35,092 Parameters: omega_matter              = 0.285\n",
      "yt : [INFO     ] 2022-07-19 18:11:35,092 Parameters: omega_radiation           = 0\n",
      "yt : [INFO     ] 2022-07-19 18:11:35,093 Parameters: hubble_constant           = 0.695\n"
     ]
    },
    {
     "name": "stdout",
     "output_type": "stream",
     "text": [
      "get_refine_box: using this location:        col1         col2     col3     col4    col5     col6     col7  col8\n",
      "----------------- -------- -------- ------- -------- -------- ------- ----\n",
      "0.039116296382769 0.489003 0.470898 0.50829 0.491003 0.472898 0.51029    9\n"
     ]
    },
    {
     "name": "stderr",
     "output_type": "stream",
     "text": [
      "Parsing Hierarchy : 100%|████████████████| 4486/4486 [00:00<00:00, 12787.33it/s]\n",
      "yt : [INFO     ] 2022-07-19 18:11:35,702 Gathering a field list (this may take a moment.)\n"
     ]
    },
    {
     "name": "stdout",
     "output_type": "stream",
     "text": [
      "Pulling halo center from catalog file\n",
      "Opening snapshot /Volumes/TempestTimeSteps/DD2347/DD2347\n"
     ]
    },
    {
     "name": "stderr",
     "output_type": "stream",
     "text": [
      "yt : [INFO     ] 2022-07-19 18:11:39,428 Parameters: current_time              = 619.56652781829\n",
      "yt : [INFO     ] 2022-07-19 18:11:39,431 Parameters: domain_dimensions         = [256 256 256]\n",
      "yt : [INFO     ] 2022-07-19 18:11:39,434 Parameters: domain_left_edge          = [0. 0. 0.]\n",
      "yt : [INFO     ] 2022-07-19 18:11:39,438 Parameters: domain_right_edge         = [1. 1. 1.]\n",
      "yt : [INFO     ] 2022-07-19 18:11:39,439 Parameters: cosmological_simulation   = 1\n",
      "yt : [INFO     ] 2022-07-19 18:11:39,439 Parameters: current_redshift          = 0.031069228461955\n",
      "yt : [INFO     ] 2022-07-19 18:11:39,440 Parameters: omega_lambda              = 0.715\n",
      "yt : [INFO     ] 2022-07-19 18:11:39,441 Parameters: omega_matter              = 0.285\n",
      "yt : [INFO     ] 2022-07-19 18:11:39,441 Parameters: omega_radiation           = 0\n",
      "yt : [INFO     ] 2022-07-19 18:11:39,442 Parameters: hubble_constant           = 0.695\n"
     ]
    },
    {
     "name": "stdout",
     "output_type": "stream",
     "text": [
      "get_refine_box: using this location:        col1         col2     col3     col4     col5     col6     col7   col8\n",
      "----------------- -------- -------- -------- -------- -------- -------- ----\n",
      "0.031078880102952 0.488974 0.470782 0.508341 0.490974 0.472782 0.510341    9\n"
     ]
    },
    {
     "name": "stderr",
     "output_type": "stream",
     "text": [
      "Parsing Hierarchy : 100%|████████████████| 4414/4414 [00:00<00:00, 12909.73it/s]\n",
      "yt : [INFO     ] 2022-07-19 18:11:40,053 Gathering a field list (this may take a moment.)\n"
     ]
    },
    {
     "name": "stdout",
     "output_type": "stream",
     "text": [
      "Pulling halo center from catalog file\n",
      "Opening snapshot /Volumes/TempestTimeSteps/DD2367/DD2367\n"
     ]
    },
    {
     "name": "stderr",
     "output_type": "stream",
     "text": [
      "yt : [INFO     ] 2022-07-19 18:11:43,777 Parameters: current_time              = 624.56652781829\n",
      "yt : [INFO     ] 2022-07-19 18:11:43,780 Parameters: domain_dimensions         = [256 256 256]\n",
      "yt : [INFO     ] 2022-07-19 18:11:43,784 Parameters: domain_left_edge          = [0. 0. 0.]\n",
      "yt : [INFO     ] 2022-07-19 18:11:43,787 Parameters: domain_right_edge         = [1. 1. 1.]\n",
      "yt : [INFO     ] 2022-07-19 18:11:43,788 Parameters: cosmological_simulation   = 1\n",
      "yt : [INFO     ] 2022-07-19 18:11:43,788 Parameters: current_redshift          = 0.023118635482115\n",
      "yt : [INFO     ] 2022-07-19 18:11:43,789 Parameters: omega_lambda              = 0.715\n",
      "yt : [INFO     ] 2022-07-19 18:11:43,790 Parameters: omega_matter              = 0.285\n",
      "yt : [INFO     ] 2022-07-19 18:11:43,790 Parameters: omega_radiation           = 0\n",
      "yt : [INFO     ] 2022-07-19 18:11:43,791 Parameters: hubble_constant           = 0.695\n"
     ]
    },
    {
     "name": "stdout",
     "output_type": "stream",
     "text": [
      "get_refine_box: using this location:        col1         col2     col3     col4     col5     col6     col7   col8\n",
      "----------------- -------- -------- -------- -------- -------- -------- ----\n",
      "0.023131670035277 0.488947 0.470663 0.508391 0.490947 0.472663 0.510391    9\n"
     ]
    },
    {
     "name": "stderr",
     "output_type": "stream",
     "text": [
      "Parsing Hierarchy : 100%|████████████████| 4336/4336 [00:00<00:00, 13128.49it/s]\n",
      "yt : [INFO     ] 2022-07-19 18:11:44,383 Gathering a field list (this may take a moment.)\n"
     ]
    },
    {
     "name": "stdout",
     "output_type": "stream",
     "text": [
      "Pulling halo center from catalog file\n",
      "Opening snapshot /Volumes/TempestTimeSteps/DD2387/DD2387\n"
     ]
    },
    {
     "name": "stderr",
     "output_type": "stream",
     "text": [
      "yt : [INFO     ] 2022-07-19 18:11:48,051 Parameters: current_time              = 629.56652781829\n",
      "yt : [INFO     ] 2022-07-19 18:11:48,054 Parameters: domain_dimensions         = [256 256 256]\n",
      "yt : [INFO     ] 2022-07-19 18:11:48,057 Parameters: domain_left_edge          = [0. 0. 0.]\n",
      "yt : [INFO     ] 2022-07-19 18:11:48,060 Parameters: domain_right_edge         = [1. 1. 1.]\n",
      "yt : [INFO     ] 2022-07-19 18:11:48,061 Parameters: cosmological_simulation   = 1\n",
      "yt : [INFO     ] 2022-07-19 18:11:48,061 Parameters: current_redshift          = 0.015267938588785\n",
      "yt : [INFO     ] 2022-07-19 18:11:48,062 Parameters: omega_lambda              = 0.715\n",
      "yt : [INFO     ] 2022-07-19 18:11:48,063 Parameters: omega_matter              = 0.285\n",
      "yt : [INFO     ] 2022-07-19 18:11:48,063 Parameters: omega_radiation           = 0\n",
      "yt : [INFO     ] 2022-07-19 18:11:48,064 Parameters: hubble_constant           = 0.695\n"
     ]
    },
    {
     "name": "stdout",
     "output_type": "stream",
     "text": [
      "get_refine_box: using this location:        col1         col2     col3     col4    col5     col6     col7  col8\n",
      "----------------- -------- -------- ------- -------- -------- ------- ----\n",
      "0.015272898578656 0.488921 0.470547 0.50844 0.490921 0.472547 0.51044    9\n"
     ]
    },
    {
     "name": "stderr",
     "output_type": "stream",
     "text": [
      "Parsing Hierarchy : 100%|████████████████| 4456/4456 [00:00<00:00, 13016.04it/s]\n",
      "yt : [INFO     ] 2022-07-19 18:11:48,670 Gathering a field list (this may take a moment.)\n"
     ]
    },
    {
     "name": "stdout",
     "output_type": "stream",
     "text": [
      "Pulling halo center from catalog file\n",
      "Opening snapshot /Volumes/TempestTimeSteps/DD2407/DD2407\n"
     ]
    },
    {
     "name": "stderr",
     "output_type": "stream",
     "text": [
      "yt : [INFO     ] 2022-07-19 18:11:52,469 Parameters: current_time              = 634.56652781829\n",
      "yt : [INFO     ] 2022-07-19 18:11:52,472 Parameters: domain_dimensions         = [256 256 256]\n",
      "yt : [INFO     ] 2022-07-19 18:11:52,475 Parameters: domain_left_edge          = [0. 0. 0.]\n",
      "yt : [INFO     ] 2022-07-19 18:11:52,477 Parameters: domain_right_edge         = [1. 1. 1.]\n",
      "yt : [INFO     ] 2022-07-19 18:11:52,478 Parameters: cosmological_simulation   = 1\n",
      "yt : [INFO     ] 2022-07-19 18:11:52,479 Parameters: current_redshift          = 0.0074866626587569\n",
      "yt : [INFO     ] 2022-07-19 18:11:52,480 Parameters: omega_lambda              = 0.715\n",
      "yt : [INFO     ] 2022-07-19 18:11:52,480 Parameters: omega_matter              = 0.285\n",
      "yt : [INFO     ] 2022-07-19 18:11:52,481 Parameters: omega_radiation           = 0\n",
      "yt : [INFO     ] 2022-07-19 18:11:52,482 Parameters: hubble_constant           = 0.695\n"
     ]
    },
    {
     "name": "stdout",
     "output_type": "stream",
     "text": [
      "get_refine_box: using this location:        col1          col2     col3     col4    col5     col6     col7  col8\n",
      "------------------ -------- -------- ------- -------- -------- ------- ----\n",
      "0.0075008503160188 0.488892 0.470431 0.50849 0.490892 0.472431 0.51049    9\n"
     ]
    },
    {
     "name": "stderr",
     "output_type": "stream",
     "text": [
      "Parsing Hierarchy : 100%|████████████████| 4394/4394 [00:00<00:00, 13064.36it/s]\n",
      "yt : [INFO     ] 2022-07-19 18:11:53,079 Gathering a field list (this may take a moment.)\n"
     ]
    },
    {
     "name": "stdout",
     "output_type": "stream",
     "text": [
      "Pulling halo center from catalog file\n",
      "Opening snapshot /Volumes/TempestTimeSteps/DD2427/DD2427\n"
     ]
    },
    {
     "name": "stderr",
     "output_type": "stream",
     "text": [
      "yt : [INFO     ] 2022-07-19 18:11:56,784 Parameters: current_time              = 639.44480357087\n",
      "yt : [INFO     ] 2022-07-19 18:11:56,787 Parameters: domain_dimensions         = [256 256 256]\n",
      "yt : [INFO     ] 2022-07-19 18:11:56,790 Parameters: domain_left_edge          = [0. 0. 0.]\n",
      "yt : [INFO     ] 2022-07-19 18:11:56,793 Parameters: domain_right_edge         = [1. 1. 1.]\n",
      "yt : [INFO     ] 2022-07-19 18:11:56,794 Parameters: cosmological_simulation   = 1\n",
      "yt : [INFO     ] 2022-07-19 18:11:56,794 Parameters: current_redshift          = 0\n",
      "yt : [INFO     ] 2022-07-19 18:11:56,795 Parameters: omega_lambda              = 0.715\n",
      "yt : [INFO     ] 2022-07-19 18:11:56,795 Parameters: omega_matter              = 0.285\n",
      "yt : [INFO     ] 2022-07-19 18:11:56,796 Parameters: omega_radiation           = 0\n",
      "yt : [INFO     ] 2022-07-19 18:11:56,797 Parameters: hubble_constant           = 0.695\n"
     ]
    },
    {
     "name": "stdout",
     "output_type": "stream",
     "text": [
      "get_refine_box: using this location:         col1          col2     col3     col4    col5     col6     col7  col8\n",
      "------------------- -------- -------- ------- -------- -------- ------- ----\n",
      "4.4408920985006e-16 0.488865 0.470316 0.50854 0.490865 0.472316 0.51054    9\n"
     ]
    },
    {
     "name": "stderr",
     "output_type": "stream",
     "text": [
      "Parsing Hierarchy : 100%|████████████████| 4262/4262 [00:00<00:00, 12984.24it/s]\n",
      "yt : [INFO     ] 2022-07-19 18:11:57,376 Gathering a field list (this may take a moment.)\n"
     ]
    },
    {
     "name": "stdout",
     "output_type": "stream",
     "text": [
      "Pulling halo center from catalog file\n",
      "SUCCESS!\n"
     ]
    }
   ],
   "source": [
    "\"\"\"\n",
    "Now, run through ALL the files with star data in the hard drive. This should take a while.\n",
    "\"\"\"\n",
    "\n",
    "halo = 'Tempest'\n",
    "hnum = '008508'\n",
    "\n",
    "halo_c_v_name = '/Users/bnguyen/FOGGIE/foggie/halo_infos/'+hnum+'/nref11c_nref9f/halo_c_v'\n",
    "trackname = '/Users/bnguyen/FOGGIE/foggie/halo_tracks/'+hnum+'/nref11n_selfshield_15/halo_track_200kpc_nref9'\n",
    "masses_dir = '/Users/bnguyen/FOGGIE/foggie/halo_infos/'+hnum+'/nref11c_nref9f/'\n",
    "\n",
    "def StarParts(pfilter, data):\n",
    "    return data[(\"all\", \"particle_type\")] == 2 # only grab star particles\n",
    "\n",
    "add_particle_filter(\"stars\", function=StarParts, filtered_type='all', requires=[\"particle_type\"])\n",
    "#add_particle_filter(\"DM\", function=DMParts, filtered_type='all', requires=[\"particle_type\"])\n",
    "\n",
    "def DMParts(pfilter, data):\n",
    "    return data[(\"all\", \"particle_type\")] == 4 # only grab DM particles\n",
    "\n",
    "all_snaps = np.array([], dtype='object')\n",
    "all_time_idx = np.array([], dtype='object')\n",
    "\n",
    "for snap_name in tslist:\n",
    "    ds, region = fog.foggie_load(snap_name, trackname, find_halo_center=True, halo_c_v_name=halo_c_v_name, disk_relative=False, \\\n",
    "                                particle_type_for_angmom='young_stars', do_filter_particles=False, gravity=False,\\\n",
    "                                region='refine_box',masses_dir=masses_dir)\n",
    "    \n",
    "    snapend = snap_name[-6:]\n",
    "#    print(snapend)\n",
    "    time_idx = timestep_index(sim, snapend)\n",
    "    ads = ds.all_data()\n",
    "    all_snaps = np.append(all_snaps, ds)\n",
    "    all_time_idx = np.append(all_time_idx, time_idx)\n",
    "    \n",
    "print('SUCCESS!')"
   ]
  },
  {
   "cell_type": "code",
   "execution_count": 155,
   "id": "e04fd852",
   "metadata": {
    "scrolled": true
   },
   "outputs": [
    {
     "name": "stdout",
     "output_type": "stream",
     "text": [
      "Success!\n"
     ]
    }
   ],
   "source": [
    "\"\"\"\n",
    "Now, we go through each of the satellites and get their respective mass profiles.\n",
    "\"\"\"\n",
    "\n",
    "bin_size = YTQuantity(0.25, 'kpc') # 250 pc is the resolution of the simulation\n",
    "\n",
    "all_radius_arrays = []\n",
    "starry_spheres = []\n",
    "\n",
    "each_halo_radius_arrays = []    \n",
    "each_halo_spheres = []\n",
    "    \n",
    "# this goes through the halo at each timestep to find its Rvir and center position\n",
    "for idx in range(np.size(all_rvirs)):\n",
    "    each_cen = YTArray(all_centers[idx], 'kpc')\n",
    "    each_rvir = YTQuantity(all_rvirs[idx], 'kpc')\n",
    "    ds = all_available_snaps[idx]\n",
    "    \n",
    "    ds.add_particle_filter('stars')\n",
    "    ds.add_particle_filter('DM')\n",
    "            \n",
    "    # this uses yt to create spheres which contain the stars of each respective halo\n",
    "    halo_sphere = ds.sphere(center=each_cen,radius=each_rvir)\n",
    "    stars_loc = halo_sphere['stars','particle_position'].in_units('kpc')\n",
    "    corrected_stars_loc = stars_loc - each_cen # this places the halo center as the origin of its stars' coords\n",
    "    stars_mass = halo_sphere['stars','particle_mass'].in_units('Msun')\n",
    "        \n",
    "    if np.size(corrected_stars_loc) != 0:\n",
    "        radius_array = np.arange(YTQuantity(0.01, 'kpc'), each_rvir, bin_size)\n",
    "\n",
    "        title = \"star_timesteps/star_location_\" + str(tslist[idx][-6:] + '.txt')\n",
    "        with open(title, \"w\") as f:\n",
    "            for i in range(np.size(stars_mass)):\n",
    "                f.write(str(corrected_stars_loc[i].value[0]) + ' ' + str(corrected_stars_loc[i].value[1]) + ' ' \\\n",
    "                    + str(corrected_stars_loc[i].value[2]) + ' ' + str(stars_mass[i].value) + ' ' \\\n",
    "                    + str(each_rvir.value) + ' ' + str(each_cen.value[0]) + ' ' + str(each_cen.value[1]) \\\n",
    "                    + ' ' + str(each_cen.value[2]) + '\\n')\n",
    "\n",
    "        each_halo_radius_arrays.append(radius_array)    \n",
    "        each_halo_spheres.append(halo_sphere)\n",
    "\n",
    "print('Success!')"
   ]
  },
  {
   "cell_type": "code",
   "execution_count": 160,
   "id": "6d9b05c4",
   "metadata": {},
   "outputs": [
    {
     "name": "stdout",
     "output_type": "stream",
     "text": [
      "[YTSphere (DD2007): , center=[1.83745762e+26 1.78307324e+26 1.91251607e+26] cm cm, radius=6.467031809757874e+22 cm, YTSphere (DD2027): , center=[1.85275127e+26 1.79725667e+26 1.92846172e+26] cm cm, radius=6.498289412865352e+22 cm, YTSphere (DD2047): , center=[1.86807796e+26 1.81145697e+26 1.94442424e+26] cm cm, radius=6.53383815900899e+22 cm, YTSphere (DD2067): , center=[1.88348095e+26 1.82572805e+26 1.96045311e+26] cm cm, radius=6.552010434866687e+22 cm, YTSphere (DD2087): , center=[1.89897426e+26 1.84000407e+26 1.97653611e+26] cm cm, radius=6.591507269956578e+22 cm, YTSphere (DD2107): , center=[1.91451817e+26 1.85433994e+26 1.99265161e+26] cm cm, radius=6.621524059951217e+22 cm, YTSphere (DD2127): , center=[1.93018018e+26 1.86871628e+26 2.00887224e+26] cm cm, radius=6.660917997683384e+22 cm, YTSphere (DD2147): , center=[1.94588619e+26 1.88312306e+26 2.02510386e+26] cm cm, radius=6.694977807162066e+22 cm, YTSphere (DD2167): , center=[1.96169770e+26 1.89760450e+26 2.04142783e+26] cm cm, radius=6.7250345133930954e+22 cm, YTSphere (DD2187): , center=[1.97759150e+26 1.91208831e+26 2.05781250e+26] cm cm, radius=6.758874669690147e+22 cm, YTSphere (DD2207): , center=[1.99358260e+26 1.92664564e+26 2.07425193e+26] cm cm, radius=6.792614388291891e+22 cm, YTSphere (DD2227): , center=[2.00967703e+26 1.94125982e+26 2.09076861e+26] cm cm, radius=6.802856758691173e+22 cm, YTSphere (DD2247): , center=[2.02586083e+26 1.95590669e+26 2.10734514e+26] cm cm, radius=6.831560602198743e+22 cm, YTSphere (DD2267): , center=[2.04218678e+26 1.97064780e+26 2.12403135e+26] cm cm, radius=6.845631255561377e+22 cm, YTSphere (DD2287): , center=[2.05858795e+26 1.98540425e+26 2.14076307e+26] cm cm, radius=6.868819247493024e+22 cm, YTSphere (DD2307): , center=[2.07512338e+26 2.00026725e+26 2.15759930e+26] cm cm, radius=6.877444927071782e+22 cm, YTSphere (DD2327): , center=[2.09182279e+26 2.01519256e+26 2.17457585e+26] cm cm, radius=6.870986000078781e+22 cm, YTSphere (DD2347): , center=[2.10862665e+26 2.03019258e+26 2.19166860e+26] cm cm, radius=6.843587218819075e+22 cm, YTSphere (DD2367): , center=[2.12556730e+26 2.04531125e+26 2.20892131e+26] cm cm, radius=6.814319358735909e+22 cm, YTSphere (DD2387): , center=[2.14260371e+26 2.06051705e+26 2.22629704e+26] cm cm, radius=6.809288279095482e+22 cm, YTSphere (DD2407): , center=[2.15971145e+26 2.07590718e+26 2.24392556e+26] cm cm, radius=6.803266510478964e+22 cm, YTSphere (DD2427): , center=[2.17637812e+26 2.09100608e+26 2.26121028e+26] cm cm, radius=6.805805991161364e+22 cm]\n"
     ]
    }
   ],
   "source": [
    "#print(each_halo_radius_arrays)\n",
    "print(each_halo_spheres)"
   ]
  },
  {
   "cell_type": "code",
   "execution_count": 154,
   "id": "b4ac9b8d",
   "metadata": {
    "scrolled": false
   },
   "outputs": [
    {
     "name": "stdout",
     "output_type": "stream",
     "text": [
      "There are 130 timesteps available in the star hard drive.\n"
     ]
    }
   ],
   "source": [
    "\"\"\"\n",
    "Now, we have to ensure that all the progenitors line up with the available \n",
    "timesteps in the star hard drive. To do that, we first have to convert \n",
    "all the time indices from the star hard drive to actual time in Gyr.\n",
    "\"\"\"\n",
    "\n",
    "available_timesteps = np.zeros(np.size(all_time_idx))\n",
    "i = 0\n",
    "while i < np.size(all_time_idx):\n",
    "    available_timesteps[i] = sim[all_time_idx[i]].time_gyr\n",
    "    i += 1\n",
    "    \n",
    "print('There are', np.size(available_timesteps), 'timesteps available in the star hard drive.')"
   ]
  },
  {
   "cell_type": "code",
   "execution_count": 111,
   "id": "9f5cb951",
   "metadata": {},
   "outputs": [
    {
     "name": "stdout",
     "output_type": "stream",
     "text": [
      "success!\n"
     ]
    }
   ],
   "source": [
    "all_centers = []\n",
    "all_rvirs = []\n",
    "all_available_snaps = []\n",
    "\n",
    "#for halo in range(np.size(starry_idx)):\n",
    "each_halo_available_centers = []\n",
    "each_halo_available_rvirs = []\n",
    "each_halo_available_snaps = []\n",
    "    \n",
    "# Now, we compare the times in the snapshots to the available timesteps \n",
    "# in order to see how many snapshots are available in the star hard drive.\n",
    "for time in available_timesteps:\n",
    "    center = all_sat_cen[all_sat_t == time]\n",
    "    rvir = all_sat_rvir[all_sat_t == time]\n",
    "        \n",
    "    if np.size(center) != 0 and np.size(rvir) != 0:\n",
    "        center = YTArray(center[0] * 1000, 'kpc')\n",
    "        rvir = YTQuantity(rvir[0], 'kpc')\n",
    "            \n",
    "        each_halo_available_centers.append(center)\n",
    "        each_halo_available_rvirs.append(rvir)\n",
    "        each_halo_available_snaps.append(all_snaps[available_timesteps == time][0])\n",
    "            \n",
    "each_halo_available_centers = np.array(each_halo_available_centers, dtype='object')\n",
    "each_halo_available_rvirs = np.array(each_halo_available_rvirs, dtype='object')\n",
    "each_halo_available_snaps = np.array(each_halo_available_snaps, dtype='object')\n",
    "        \n",
    "all_centers.append(each_halo_available_centers)\n",
    "all_rvirs.append(each_halo_available_rvirs)\n",
    "all_available_snaps.append(each_halo_available_snaps)\n",
    "    \n",
    "all_centers = np.array(all_centers[0], dtype='object')\n",
    "all_rvirs = np.array(all_rvirs[0], dtype='object')\n",
    "all_available_snaps = np.array(all_available_snaps[0], dtype='object')\n",
    "\n",
    "print('success!')"
   ]
  },
  {
   "cell_type": "code",
   "execution_count": null,
   "id": "13e02c11",
   "metadata": {},
   "outputs": [],
   "source": []
  }
 ],
 "metadata": {
  "kernelspec": {
   "display_name": "Python 3 (ipykernel)",
   "language": "python",
   "name": "python3"
  },
  "language_info": {
   "codemirror_mode": {
    "name": "ipython",
    "version": 3
   },
   "file_extension": ".py",
   "mimetype": "text/x-python",
   "name": "python",
   "nbconvert_exporter": "python",
   "pygments_lexer": "ipython3",
   "version": "3.9.13"
  }
 },
 "nbformat": 4,
 "nbformat_minor": 5
}
