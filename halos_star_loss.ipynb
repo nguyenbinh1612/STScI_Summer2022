{
 "cells": [
  {
   "cell_type": "code",
   "execution_count": 1,
   "id": "21144156",
   "metadata": {},
   "outputs": [],
   "source": [
    "import h5py\n",
    "import tangos as db\n",
    "import numpy as np\n",
    "import matplotlib.pyplot as plt\n",
    "from mpl_toolkits.axes_grid1 import AxesGrid\n",
    "import random\n",
    "\n",
    "import foggie.utils.foggie_load as fog\n",
    "import yt\n",
    "from yt.units.yt_array import YTQuantity, YTArray\n",
    "from yt.data_objects.particle_filters import add_particle_filter\n",
    "\n",
    "import glob\n",
    "from tangos.examples.misc import timestep_index"
   ]
  },
  {
   "cell_type": "code",
   "execution_count": 2,
   "id": "e6b744b3",
   "metadata": {},
   "outputs": [],
   "source": [
    "tslist = glob.glob('/Volumes/TempestTimeSteps/DD????/DD????') \n",
    "tslist.sort()"
   ]
  },
  {
   "cell_type": "code",
   "execution_count": 3,
   "id": "64989f60",
   "metadata": {},
   "outputs": [
    {
     "data": {
      "text/plain": [
       "[<Simulation(\"Tempest.9f11c.all.DD\")>]"
      ]
     },
     "execution_count": 3,
     "metadata": {},
     "output_type": "execute_result"
    }
   ],
   "source": [
    "db.all_simulations()"
   ]
  },
  {
   "cell_type": "code",
   "execution_count": 4,
   "id": "ec9c64c7",
   "metadata": {},
   "outputs": [],
   "source": [
    "sim = db.get_simulation('Tempest.9f11c.all.DD')"
   ]
  },
  {
   "cell_type": "code",
   "execution_count": 5,
   "id": "c66e2776",
   "metadata": {
    "scrolled": true
   },
   "outputs": [
    {
     "name": "stdout",
     "output_type": "stream",
     "text": [
      "Opening snapshot /Volumes/TempestTimeSteps/DD0047/DD0047\n"
     ]
    },
    {
     "name": "stderr",
     "output_type": "stream",
     "text": [
      "yt : [INFO     ] 2022-07-13 19:16:15,917 Parameters: current_time              = 44.816527818285\n",
      "yt : [INFO     ] 2022-07-13 19:16:15,919 Parameters: domain_dimensions         = [256 256 256]\n",
      "yt : [INFO     ] 2022-07-13 19:16:15,922 Parameters: domain_left_edge          = [0. 0. 0.]\n",
      "yt : [INFO     ] 2022-07-13 19:16:15,925 Parameters: domain_right_edge         = [1. 1. 1.]\n",
      "yt : [INFO     ] 2022-07-13 19:16:15,926 Parameters: cosmological_simulation   = 1\n",
      "yt : [INFO     ] 2022-07-13 19:16:15,927 Parameters: current_redshift          = 5.9180766004715\n",
      "yt : [INFO     ] 2022-07-13 19:16:15,928 Parameters: omega_lambda              = 0.715\n",
      "yt : [INFO     ] 2022-07-13 19:16:15,928 Parameters: omega_matter              = 0.285\n",
      "yt : [INFO     ] 2022-07-13 19:16:15,930 Parameters: omega_radiation           = 0.0\n",
      "yt : [INFO     ] 2022-07-13 19:16:15,931 Parameters: hubble_constant           = 0.695\n"
     ]
    },
    {
     "name": "stdout",
     "output_type": "stream",
     "text": [
      "get_refine_box: using this location:      col1       col2     col3     col4     col5     col6     col7   col8\n",
      "------------- -------- -------- -------- -------- -------- -------- ----\n",
      "5.91807660047 0.495372 0.494815 0.499965 0.497372 0.496815 0.501965    9\n"
     ]
    },
    {
     "name": "stderr",
     "output_type": "stream",
     "text": [
      "Parsing Hierarchy : 100%|█████████████████| 2486/2486 [00:00<00:00, 8476.61it/s]\n",
      "yt : [INFO     ] 2022-07-13 19:16:16,402 Gathering a field list (this may take a moment.)\n",
      "yt : [WARNING  ] 2022-07-13 19:16:19,200 The stars particle filter already exists. Overriding.\n",
      "yt : [WARNING  ] 2022-07-13 19:16:19,200 The DM particle filter already exists. Overriding.\n",
      "yt : [INFO     ] 2022-07-13 19:16:19,293 Parameters: current_time              = 49.816527818285\n",
      "yt : [INFO     ] 2022-07-13 19:16:19,295 Parameters: domain_dimensions         = [256 256 256]\n"
     ]
    },
    {
     "name": "stdout",
     "output_type": "stream",
     "text": [
      "Pulling halo center from catalog file\n",
      "Opening snapshot /Volumes/TempestTimeSteps/DD0067/DD0067\n"
     ]
    },
    {
     "name": "stderr",
     "output_type": "stream",
     "text": [
      "yt : [INFO     ] 2022-07-13 19:16:19,298 Parameters: domain_left_edge          = [0. 0. 0.]\n",
      "yt : [INFO     ] 2022-07-13 19:16:19,301 Parameters: domain_right_edge         = [1. 1. 1.]\n",
      "yt : [INFO     ] 2022-07-13 19:16:19,302 Parameters: cosmological_simulation   = 1\n",
      "yt : [INFO     ] 2022-07-13 19:16:19,302 Parameters: current_redshift          = 5.4457876966805\n",
      "yt : [INFO     ] 2022-07-13 19:16:19,302 Parameters: omega_lambda              = 0.715\n",
      "yt : [INFO     ] 2022-07-13 19:16:19,303 Parameters: omega_matter              = 0.285\n",
      "yt : [INFO     ] 2022-07-13 19:16:19,303 Parameters: omega_radiation           = 0.0\n",
      "yt : [INFO     ] 2022-07-13 19:16:19,305 Parameters: hubble_constant           = 0.695\n"
     ]
    },
    {
     "name": "stdout",
     "output_type": "stream",
     "text": [
      "get_refine_box: using this location:      col1       col2     col3     col4     col5     col6     col7   col8\n",
      "------------- -------- -------- -------- -------- -------- -------- ----\n",
      "5.44578769668 0.495286 0.494378 0.499998 0.497286 0.496378 0.501998    9\n"
     ]
    },
    {
     "name": "stderr",
     "output_type": "stream",
     "text": [
      "Parsing Hierarchy : 100%|█████████████████| 2552/2552 [00:00<00:00, 8385.91it/s]\n",
      "yt : [INFO     ] 2022-07-13 19:16:19,829 Gathering a field list (this may take a moment.)\n",
      "yt : [WARNING  ] 2022-07-13 19:16:22,889 The stars particle filter already exists. Overriding.\n",
      "yt : [WARNING  ] 2022-07-13 19:16:22,890 The DM particle filter already exists. Overriding.\n"
     ]
    },
    {
     "name": "stdout",
     "output_type": "stream",
     "text": [
      "Pulling halo center from catalog file\n",
      "Opening snapshot /Volumes/TempestTimeSteps/DD0087/DD0087\n"
     ]
    },
    {
     "name": "stderr",
     "output_type": "stream",
     "text": [
      "yt : [INFO     ] 2022-07-13 19:16:23,018 Parameters: current_time              = 54.816527818285\n",
      "yt : [INFO     ] 2022-07-13 19:16:23,021 Parameters: domain_dimensions         = [256 256 256]\n",
      "yt : [INFO     ] 2022-07-13 19:16:23,024 Parameters: domain_left_edge          = [0. 0. 0.]\n",
      "yt : [INFO     ] 2022-07-13 19:16:23,027 Parameters: domain_right_edge         = [1. 1. 1.]\n",
      "yt : [INFO     ] 2022-07-13 19:16:23,028 Parameters: cosmological_simulation   = 1\n",
      "yt : [INFO     ] 2022-07-13 19:16:23,029 Parameters: current_redshift          = 5.0462906237837\n",
      "yt : [INFO     ] 2022-07-13 19:16:23,030 Parameters: omega_lambda              = 0.715\n",
      "yt : [INFO     ] 2022-07-13 19:16:23,030 Parameters: omega_matter              = 0.285\n",
      "yt : [INFO     ] 2022-07-13 19:16:23,031 Parameters: omega_radiation           = 0.0\n",
      "yt : [INFO     ] 2022-07-13 19:16:23,032 Parameters: hubble_constant           = 0.695\n"
     ]
    },
    {
     "name": "stdout",
     "output_type": "stream",
     "text": [
      "get_refine_box: using this location:      col1       col2     col3     col4     col5     col6     col7   col8\n",
      "------------- -------- -------- -------- -------- -------- -------- ----\n",
      "5.04629062378 0.495184 0.493952 0.500023 0.497184 0.495952 0.502023    9\n"
     ]
    },
    {
     "name": "stderr",
     "output_type": "stream",
     "text": [
      "Parsing Hierarchy : 100%|█████████████████| 3377/3377 [00:00<00:00, 8248.54it/s]\n",
      "yt : [INFO     ] 2022-07-13 19:16:23,725 Gathering a field list (this may take a moment.)\n",
      "yt : [WARNING  ] 2022-07-13 19:16:26,826 The stars particle filter already exists. Overriding.\n",
      "yt : [WARNING  ] 2022-07-13 19:16:26,826 The DM particle filter already exists. Overriding.\n"
     ]
    },
    {
     "name": "stdout",
     "output_type": "stream",
     "text": [
      "Pulling halo center from catalog file\n",
      "Opening snapshot /Volumes/TempestTimeSteps/DD0107/DD0107\n"
     ]
    },
    {
     "name": "stderr",
     "output_type": "stream",
     "text": [
      "yt : [INFO     ] 2022-07-13 19:16:27,025 Parameters: current_time              = 59.816527818285\n",
      "yt : [INFO     ] 2022-07-13 19:16:27,028 Parameters: domain_dimensions         = [256 256 256]\n",
      "yt : [INFO     ] 2022-07-13 19:16:27,031 Parameters: domain_left_edge          = [0. 0. 0.]\n",
      "yt : [INFO     ] 2022-07-13 19:16:27,035 Parameters: domain_right_edge         = [1. 1. 1.]\n",
      "yt : [INFO     ] 2022-07-13 19:16:27,035 Parameters: cosmological_simulation   = 1\n",
      "yt : [INFO     ] 2022-07-13 19:16:27,036 Parameters: current_redshift          = 4.7031121100648\n",
      "yt : [INFO     ] 2022-07-13 19:16:27,036 Parameters: omega_lambda              = 0.715\n",
      "yt : [INFO     ] 2022-07-13 19:16:27,037 Parameters: omega_matter              = 0.285\n",
      "yt : [INFO     ] 2022-07-13 19:16:27,037 Parameters: omega_radiation           = 0.0\n",
      "yt : [INFO     ] 2022-07-13 19:16:27,038 Parameters: hubble_constant           = 0.695\n"
     ]
    },
    {
     "name": "stdout",
     "output_type": "stream",
     "text": [
      "get_refine_box: using this location:      col1       col2     col3     col4     col5     col6     col7   col8\n",
      "------------- -------- -------- -------- -------- -------- -------- ----\n",
      "4.70311211006 0.495072 0.493546 0.500035 0.497072 0.495546 0.502035    9\n"
     ]
    },
    {
     "name": "stderr",
     "output_type": "stream",
     "text": [
      "Parsing Hierarchy : 100%|████████████████| 2935/2935 [00:00<00:00, 15822.11it/s]\n",
      "yt : [INFO     ] 2022-07-13 19:16:27,603 Gathering a field list (this may take a moment.)\n",
      "yt : [WARNING  ] 2022-07-13 19:16:30,477 The stars particle filter already exists. Overriding.\n",
      "yt : [WARNING  ] 2022-07-13 19:16:30,478 The DM particle filter already exists. Overriding.\n"
     ]
    },
    {
     "name": "stdout",
     "output_type": "stream",
     "text": [
      "Pulling halo center from catalog file\n",
      "Opening snapshot /Volumes/TempestTimeSteps/DD0127/DD0127\n"
     ]
    },
    {
     "name": "stderr",
     "output_type": "stream",
     "text": [
      "yt : [INFO     ] 2022-07-13 19:16:30,690 Parameters: current_time              = 64.816527818285\n",
      "yt : [INFO     ] 2022-07-13 19:16:30,693 Parameters: domain_dimensions         = [256 256 256]\n",
      "yt : [INFO     ] 2022-07-13 19:16:30,696 Parameters: domain_left_edge          = [0. 0. 0.]\n",
      "yt : [INFO     ] 2022-07-13 19:16:30,699 Parameters: domain_right_edge         = [1. 1. 1.]\n",
      "yt : [INFO     ] 2022-07-13 19:16:30,701 Parameters: cosmological_simulation   = 1\n",
      "yt : [INFO     ] 2022-07-13 19:16:30,702 Parameters: current_redshift          = 4.4045037292232\n",
      "yt : [INFO     ] 2022-07-13 19:16:30,703 Parameters: omega_lambda              = 0.715\n",
      "yt : [INFO     ] 2022-07-13 19:16:30,704 Parameters: omega_matter              = 0.285\n",
      "yt : [INFO     ] 2022-07-13 19:16:30,705 Parameters: omega_radiation           = 0.0\n",
      "yt : [INFO     ] 2022-07-13 19:16:30,705 Parameters: hubble_constant           = 0.695\n"
     ]
    },
    {
     "name": "stdout",
     "output_type": "stream",
     "text": [
      "get_refine_box: using this location:      col1       col2     col3     col4     col5     col6     col7   col8\n",
      "------------- -------- -------- -------- -------- -------- -------- ----\n",
      "4.40450372922 0.494955 0.493147 0.500046 0.496955 0.495147 0.502046    9\n"
     ]
    },
    {
     "name": "stderr",
     "output_type": "stream",
     "text": [
      "Parsing Hierarchy : 100%|████████████████| 3485/3485 [00:00<00:00, 16957.31it/s]\n",
      "yt : [INFO     ] 2022-07-13 19:16:31,097 Gathering a field list (this may take a moment.)\n",
      "yt : [WARNING  ] 2022-07-13 19:16:34,019 The stars particle filter already exists. Overriding.\n",
      "yt : [WARNING  ] 2022-07-13 19:16:34,019 The DM particle filter already exists. Overriding.\n",
      "yt : [INFO     ] 2022-07-13 19:16:34,116 Parameters: current_time              = 69.816527818285\n",
      "yt : [INFO     ] 2022-07-13 19:16:34,119 Parameters: domain_dimensions         = [256 256 256]\n",
      "yt : [INFO     ] 2022-07-13 19:16:34,121 Parameters: domain_left_edge          = [0. 0. 0.]\n",
      "yt : [INFO     ] 2022-07-13 19:16:34,124 Parameters: domain_right_edge         = [1. 1. 1.]\n",
      "yt : [INFO     ] 2022-07-13 19:16:34,125 Parameters: cosmological_simulation   = 1\n",
      "yt : [INFO     ] 2022-07-13 19:16:34,125 Parameters: current_redshift          = 4.1418420875174\n",
      "yt : [INFO     ] 2022-07-13 19:16:34,126 Parameters: omega_lambda              = 0.715\n",
      "yt : [INFO     ] 2022-07-13 19:16:34,126 Parameters: omega_matter              = 0.285\n",
      "yt : [INFO     ] 2022-07-13 19:16:34,128 Parameters: omega_radiation           = 0.0\n",
      "yt : [INFO     ] 2022-07-13 19:16:34,128 Parameters: hubble_constant           = 0.695\n"
     ]
    },
    {
     "name": "stdout",
     "output_type": "stream",
     "text": [
      "Pulling halo center from catalog file\n",
      "Opening snapshot /Volumes/TempestTimeSteps/DD0147/DD0147\n",
      "get_refine_box: using this location:      col1       col2     col3     col4    col5     col6     col7  col8\n",
      "------------- -------- -------- ------- -------- -------- ------- ----\n",
      "4.14184208752 0.494868 0.492768 0.50004 0.496868 0.494768 0.50204    9\n"
     ]
    },
    {
     "name": "stderr",
     "output_type": "stream",
     "text": [
      "Parsing Hierarchy : 100%|████████████████| 6292/6292 [00:00<00:00, 18662.76it/s]\n",
      "yt : [INFO     ] 2022-07-13 19:16:35,052 Gathering a field list (this may take a moment.)\n",
      "yt : [WARNING  ] 2022-07-13 19:16:37,589 The stars particle filter already exists. Overriding.\n",
      "yt : [WARNING  ] 2022-07-13 19:16:37,590 The DM particle filter already exists. Overriding.\n",
      "yt : [INFO     ] 2022-07-13 19:16:37,689 Parameters: current_time              = 74.816527818285\n",
      "yt : [INFO     ] 2022-07-13 19:16:37,691 Parameters: domain_dimensions         = [256 256 256]\n",
      "yt : [INFO     ] 2022-07-13 19:16:37,693 Parameters: domain_left_edge          = [0. 0. 0.]\n",
      "yt : [INFO     ] 2022-07-13 19:16:37,696 Parameters: domain_right_edge         = [1. 1. 1.]\n",
      "yt : [INFO     ] 2022-07-13 19:16:37,697 Parameters: cosmological_simulation   = 1\n",
      "yt : [INFO     ] 2022-07-13 19:16:37,697 Parameters: current_redshift          = 3.9086423517129\n",
      "yt : [INFO     ] 2022-07-13 19:16:37,698 Parameters: omega_lambda              = 0.715\n",
      "yt : [INFO     ] 2022-07-13 19:16:37,698 Parameters: omega_matter              = 0.285\n",
      "yt : [INFO     ] 2022-07-13 19:16:37,699 Parameters: omega_radiation           = 0.0\n",
      "yt : [INFO     ] 2022-07-13 19:16:37,700 Parameters: hubble_constant           = 0.695\n"
     ]
    },
    {
     "name": "stdout",
     "output_type": "stream",
     "text": [
      "Pulling halo center from catalog file\n",
      "Opening snapshot /Volumes/TempestTimeSteps/DD0167/DD0167\n",
      "get_refine_box: using this location:      col1       col2     col3     col4     col5     col6     col7   col8\n",
      "------------- -------- -------- -------- -------- -------- -------- ----\n",
      "3.90864235171 0.494765 0.492417 0.500025 0.496765 0.494417 0.502025    9\n"
     ]
    },
    {
     "name": "stderr",
     "output_type": "stream",
     "text": [
      "Parsing Hierarchy : 100%|████████████████| 6349/6349 [00:00<00:00, 18724.24it/s]\n",
      "yt : [INFO     ] 2022-07-13 19:16:38,694 Gathering a field list (this may take a moment.)\n",
      "yt : [WARNING  ] 2022-07-13 19:16:41,389 The stars particle filter already exists. Overriding.\n",
      "yt : [WARNING  ] 2022-07-13 19:16:41,390 The DM particle filter already exists. Overriding.\n",
      "yt : [INFO     ] 2022-07-13 19:16:41,487 Parameters: current_time              = 79.816527818285\n",
      "yt : [INFO     ] 2022-07-13 19:16:41,490 Parameters: domain_dimensions         = [256 256 256]\n",
      "yt : [INFO     ] 2022-07-13 19:16:41,492 Parameters: domain_left_edge          = [0. 0. 0.]\n",
      "yt : [INFO     ] 2022-07-13 19:16:41,495 Parameters: domain_right_edge         = [1. 1. 1.]\n",
      "yt : [INFO     ] 2022-07-13 19:16:41,496 Parameters: cosmological_simulation   = 1\n",
      "yt : [INFO     ] 2022-07-13 19:16:41,497 Parameters: current_redshift          = 3.6999259804031\n",
      "yt : [INFO     ] 2022-07-13 19:16:41,498 Parameters: omega_lambda              = 0.715\n",
      "yt : [INFO     ] 2022-07-13 19:16:41,499 Parameters: omega_matter              = 0.285\n",
      "yt : [INFO     ] 2022-07-13 19:16:41,499 Parameters: omega_radiation           = 0.0\n",
      "yt : [INFO     ] 2022-07-13 19:16:41,500 Parameters: hubble_constant           = 0.695\n"
     ]
    },
    {
     "name": "stdout",
     "output_type": "stream",
     "text": [
      "Pulling halo center from catalog file\n",
      "Opening snapshot /Volumes/TempestTimeSteps/DD0187/DD0187\n",
      "get_refine_box: using this location:     col1       col2     col3     col4     col5     col6     col7   col8\n",
      "------------ -------- -------- -------- -------- -------- -------- ----\n",
      "3.6999259804 0.494633 0.492127 0.500014 0.496633 0.494127 0.502014    9\n"
     ]
    },
    {
     "name": "stderr",
     "output_type": "stream",
     "text": [
      "Parsing Hierarchy : 100%|████████████████| 6152/6152 [00:00<00:00, 18970.62it/s]\n",
      "yt : [INFO     ] 2022-07-13 19:16:42,113 Gathering a field list (this may take a moment.)\n",
      "yt : [WARNING  ] 2022-07-13 19:16:44,779 The stars particle filter already exists. Overriding.\n",
      "yt : [WARNING  ] 2022-07-13 19:16:44,779 The DM particle filter already exists. Overriding.\n",
      "yt : [INFO     ] 2022-07-13 19:16:44,883 Parameters: current_time              = 84.816527818285\n",
      "yt : [INFO     ] 2022-07-13 19:16:44,885 Parameters: domain_dimensions         = [256 256 256]\n",
      "yt : [INFO     ] 2022-07-13 19:16:44,887 Parameters: domain_left_edge          = [0. 0. 0.]\n",
      "yt : [INFO     ] 2022-07-13 19:16:44,890 Parameters: domain_right_edge         = [1. 1. 1.]\n",
      "yt : [INFO     ] 2022-07-13 19:16:44,890 Parameters: cosmological_simulation   = 1\n",
      "yt : [INFO     ] 2022-07-13 19:16:44,891 Parameters: current_redshift          = 3.5118019373691\n",
      "yt : [INFO     ] 2022-07-13 19:16:44,891 Parameters: omega_lambda              = 0.715\n",
      "yt : [INFO     ] 2022-07-13 19:16:44,892 Parameters: omega_matter              = 0.285\n",
      "yt : [INFO     ] 2022-07-13 19:16:44,893 Parameters: omega_radiation           = 0.0\n",
      "yt : [INFO     ] 2022-07-13 19:16:44,894 Parameters: hubble_constant           = 0.695\n"
     ]
    },
    {
     "name": "stdout",
     "output_type": "stream",
     "text": [
      "Pulling halo center from catalog file\n",
      "Opening snapshot /Volumes/TempestTimeSteps/DD0207/DD0207\n",
      "get_refine_box: using this location:      col1       col2     col3     col4     col5     col6     col7   col8\n",
      "------------- -------- -------- -------- -------- -------- -------- ----\n",
      "3.51180193737 0.494517 0.491822 0.500016 0.496517 0.493822 0.502016    9\n"
     ]
    },
    {
     "name": "stderr",
     "output_type": "stream",
     "text": [
      "Parsing Hierarchy : 100%|█████████████████| 7873/7873 [00:00<00:00, 8697.80it/s]\n",
      "yt : [INFO     ] 2022-07-13 19:16:46,157 Gathering a field list (this may take a moment.)\n",
      "yt : [WARNING  ] 2022-07-13 19:16:48,808 The stars particle filter already exists. Overriding.\n",
      "yt : [WARNING  ] 2022-07-13 19:16:48,808 The DM particle filter already exists. Overriding.\n"
     ]
    },
    {
     "name": "stdout",
     "output_type": "stream",
     "text": [
      "Pulling halo center from catalog file\n",
      "Opening snapshot /Volumes/TempestTimeSteps/DD0227/DD0227\n"
     ]
    },
    {
     "name": "stderr",
     "output_type": "stream",
     "text": [
      "yt : [INFO     ] 2022-07-13 19:16:48,983 Parameters: current_time              = 89.816527818285\n",
      "yt : [INFO     ] 2022-07-13 19:16:48,985 Parameters: domain_dimensions         = [256 256 256]\n",
      "yt : [INFO     ] 2022-07-13 19:16:48,988 Parameters: domain_left_edge          = [0. 0. 0.]\n",
      "yt : [INFO     ] 2022-07-13 19:16:48,991 Parameters: domain_right_edge         = [1. 1. 1.]\n",
      "yt : [INFO     ] 2022-07-13 19:16:48,992 Parameters: cosmological_simulation   = 1\n",
      "yt : [INFO     ] 2022-07-13 19:16:48,993 Parameters: current_redshift          = 3.3411813479609\n",
      "yt : [INFO     ] 2022-07-13 19:16:48,994 Parameters: omega_lambda              = 0.715\n",
      "yt : [INFO     ] 2022-07-13 19:16:48,995 Parameters: omega_matter              = 0.285\n",
      "yt : [INFO     ] 2022-07-13 19:16:48,996 Parameters: omega_radiation           = 0.0\n",
      "yt : [INFO     ] 2022-07-13 19:16:48,996 Parameters: hubble_constant           = 0.695\n"
     ]
    },
    {
     "name": "stdout",
     "output_type": "stream",
     "text": [
      "get_refine_box: using this location:      col1       col2     col3     col4     col5     col6     col7   col8\n",
      "------------- -------- -------- -------- -------- -------- -------- ----\n",
      "3.34118134796 0.494362 0.491438 0.500094 0.496362 0.493438 0.502094    9\n"
     ]
    },
    {
     "name": "stderr",
     "output_type": "stream",
     "text": [
      "Parsing Hierarchy : 100%|██████████████| 10646/10646 [00:01<00:00, 10375.58it/s]\n",
      "yt : [INFO     ] 2022-07-13 19:16:50,358 Gathering a field list (this may take a moment.)\n",
      "yt : [WARNING  ] 2022-07-13 19:16:52,947 The stars particle filter already exists. Overriding.\n",
      "yt : [WARNING  ] 2022-07-13 19:16:52,948 The DM particle filter already exists. Overriding.\n",
      "yt : [INFO     ] 2022-07-13 19:16:53,042 Parameters: current_time              = 94.816527818285\n",
      "yt : [INFO     ] 2022-07-13 19:16:53,044 Parameters: domain_dimensions         = [256 256 256]\n",
      "yt : [INFO     ] 2022-07-13 19:16:53,046 Parameters: domain_left_edge          = [0. 0. 0.]\n",
      "yt : [INFO     ] 2022-07-13 19:16:53,049 Parameters: domain_right_edge         = [1. 1. 1.]\n",
      "yt : [INFO     ] 2022-07-13 19:16:53,049 Parameters: cosmological_simulation   = 1\n",
      "yt : [INFO     ] 2022-07-13 19:16:53,050 Parameters: current_redshift          = 3.1855782341013\n",
      "yt : [INFO     ] 2022-07-13 19:16:53,050 Parameters: omega_lambda              = 0.715\n",
      "yt : [INFO     ] 2022-07-13 19:16:53,051 Parameters: omega_matter              = 0.285\n",
      "yt : [INFO     ] 2022-07-13 19:16:53,052 Parameters: omega_radiation           = 0.0\n",
      "yt : [INFO     ] 2022-07-13 19:16:53,053 Parameters: hubble_constant           = 0.695\n"
     ]
    },
    {
     "name": "stdout",
     "output_type": "stream",
     "text": [
      "Pulling halo center from catalog file\n",
      "Opening snapshot /Volumes/TempestTimeSteps/DD0247/DD0247\n",
      "get_refine_box: using this location:     col1       col2     col3     col4     col5     col6     col7   col8\n",
      "------------ -------- -------- -------- -------- -------- -------- ----\n",
      "3.1855782341 0.494234 0.491145 0.500166 0.496234 0.493145 0.502166    9\n"
     ]
    },
    {
     "name": "stderr",
     "output_type": "stream",
     "text": [
      "Parsing Hierarchy : 100%|███████████████| 10738/10738 [00:01<00:00, 9435.47it/s]\n",
      "yt : [INFO     ] 2022-07-13 19:16:54,610 Gathering a field list (this may take a moment.)\n",
      "yt : [WARNING  ] 2022-07-13 19:16:57,362 The stars particle filter already exists. Overriding.\n",
      "yt : [WARNING  ] 2022-07-13 19:16:57,363 The DM particle filter already exists. Overriding.\n",
      "yt : [INFO     ] 2022-07-13 19:16:57,459 Parameters: current_time              = 99.816527818285\n",
      "yt : [INFO     ] 2022-07-13 19:16:57,462 Parameters: domain_dimensions         = [256 256 256]\n",
      "yt : [INFO     ] 2022-07-13 19:16:57,464 Parameters: domain_left_edge          = [0. 0. 0.]\n",
      "yt : [INFO     ] 2022-07-13 19:16:57,467 Parameters: domain_right_edge         = [1. 1. 1.]\n",
      "yt : [INFO     ] 2022-07-13 19:16:57,467 Parameters: cosmological_simulation   = 1\n",
      "yt : [INFO     ] 2022-07-13 19:16:57,467 Parameters: current_redshift          = 3.0429673207448\n",
      "yt : [INFO     ] 2022-07-13 19:16:57,468 Parameters: omega_lambda              = 0.715\n",
      "yt : [INFO     ] 2022-07-13 19:16:57,469 Parameters: omega_matter              = 0.285\n",
      "yt : [INFO     ] 2022-07-13 19:16:57,469 Parameters: omega_radiation           = 0.0\n",
      "yt : [INFO     ] 2022-07-13 19:16:57,470 Parameters: hubble_constant           = 0.695\n"
     ]
    },
    {
     "name": "stdout",
     "output_type": "stream",
     "text": [
      "Pulling halo center from catalog file\n",
      "Opening snapshot /Volumes/TempestTimeSteps/DD0267/DD0267\n",
      "get_refine_box: using this location:      col1       col2     col3     col4     col5     col6     col7   col8\n",
      "------------- -------- -------- -------- -------- -------- -------- ----\n",
      "3.04296732074 0.494074 0.490895 0.500235 0.496074 0.492895 0.502235    9\n"
     ]
    },
    {
     "name": "stderr",
     "output_type": "stream",
     "text": [
      "Parsing Hierarchy : 100%|████████████████| 8498/8498 [00:00<00:00, 18862.06it/s]\n",
      "yt : [INFO     ] 2022-07-13 19:16:58,292 Gathering a field list (this may take a moment.)\n",
      "yt : [WARNING  ] 2022-07-13 19:17:01,005 The stars particle filter already exists. Overriding.\n",
      "yt : [WARNING  ] 2022-07-13 19:17:01,006 The DM particle filter already exists. Overriding.\n"
     ]
    },
    {
     "name": "stdout",
     "output_type": "stream",
     "text": [
      "Pulling halo center from catalog file\n",
      "Opening snapshot /Volumes/TempestTimeSteps/DD0287/DD0287\n"
     ]
    },
    {
     "name": "stderr",
     "output_type": "stream",
     "text": [
      "yt : [INFO     ] 2022-07-13 19:17:01,187 Parameters: current_time              = 104.81652781829\n",
      "yt : [INFO     ] 2022-07-13 19:17:01,190 Parameters: domain_dimensions         = [256 256 256]\n",
      "yt : [INFO     ] 2022-07-13 19:17:01,192 Parameters: domain_left_edge          = [0. 0. 0.]\n",
      "yt : [INFO     ] 2022-07-13 19:17:01,195 Parameters: domain_right_edge         = [1. 1. 1.]\n",
      "yt : [INFO     ] 2022-07-13 19:17:01,196 Parameters: cosmological_simulation   = 1\n",
      "yt : [INFO     ] 2022-07-13 19:17:01,196 Parameters: current_redshift          = 2.9116806075987\n",
      "yt : [INFO     ] 2022-07-13 19:17:01,196 Parameters: omega_lambda              = 0.715\n",
      "yt : [INFO     ] 2022-07-13 19:17:01,197 Parameters: omega_matter              = 0.285\n",
      "yt : [INFO     ] 2022-07-13 19:17:01,197 Parameters: omega_radiation           = 0.0\n",
      "yt : [INFO     ] 2022-07-13 19:17:01,198 Parameters: hubble_constant           = 0.695\n"
     ]
    },
    {
     "name": "stdout",
     "output_type": "stream",
     "text": [
      "get_refine_box: using this location:     col1       col2     col3     col4     col5     col6     col7   col8\n",
      "------------ -------- -------- -------- -------- -------- -------- ----\n",
      "2.9116806076 0.493954 0.490721 0.500203 0.495954 0.492721 0.502203    9\n"
     ]
    },
    {
     "name": "stderr",
     "output_type": "stream",
     "text": [
      "Parsing Hierarchy : 100%|█████████████████| 7384/7384 [00:01<00:00, 6682.43it/s]\n",
      "yt : [INFO     ] 2022-07-13 19:17:02,571 Gathering a field list (this may take a moment.)\n",
      "yt : [WARNING  ] 2022-07-13 19:17:05,665 The stars particle filter already exists. Overriding.\n",
      "yt : [WARNING  ] 2022-07-13 19:17:05,666 The DM particle filter already exists. Overriding.\n",
      "yt : [INFO     ] 2022-07-13 19:17:05,774 Parameters: current_time              = 109.81652781829\n",
      "yt : [INFO     ] 2022-07-13 19:17:05,777 Parameters: domain_dimensions         = [256 256 256]\n"
     ]
    },
    {
     "name": "stdout",
     "output_type": "stream",
     "text": [
      "Pulling halo center from catalog file\n",
      "Opening snapshot /Volumes/TempestTimeSteps/DD0307/DD0307\n"
     ]
    },
    {
     "name": "stderr",
     "output_type": "stream",
     "text": [
      "yt : [INFO     ] 2022-07-13 19:17:05,780 Parameters: domain_left_edge          = [0. 0. 0.]\n",
      "yt : [INFO     ] 2022-07-13 19:17:05,785 Parameters: domain_right_edge         = [1. 1. 1.]\n",
      "yt : [INFO     ] 2022-07-13 19:17:05,786 Parameters: cosmological_simulation   = 1\n",
      "yt : [INFO     ] 2022-07-13 19:17:05,787 Parameters: current_redshift          = 2.790330842939\n",
      "yt : [INFO     ] 2022-07-13 19:17:05,787 Parameters: omega_lambda              = 0.715\n",
      "yt : [INFO     ] 2022-07-13 19:17:05,788 Parameters: omega_matter              = 0.285\n",
      "yt : [INFO     ] 2022-07-13 19:17:05,788 Parameters: omega_radiation           = 0.0\n",
      "yt : [INFO     ] 2022-07-13 19:17:05,789 Parameters: hubble_constant           = 0.695\n"
     ]
    },
    {
     "name": "stdout",
     "output_type": "stream",
     "text": [
      "get_refine_box: using this location:      col1       col2     col3     col4     col5     col6     col7   col8\n",
      "------------- -------- -------- -------- -------- -------- -------- ----\n",
      "2.79033084294 0.494017 0.490515 0.500182 0.496017 0.492515 0.502182    9\n"
     ]
    },
    {
     "name": "stderr",
     "output_type": "stream",
     "text": [
      "Parsing Hierarchy : 100%|████████████████| 7885/7885 [00:00<00:00, 15657.20it/s]\n",
      "yt : [INFO     ] 2022-07-13 19:17:06,723 Gathering a field list (this may take a moment.)\n",
      "yt : [WARNING  ] 2022-07-13 19:17:09,509 The stars particle filter already exists. Overriding.\n",
      "yt : [WARNING  ] 2022-07-13 19:17:09,510 The DM particle filter already exists. Overriding.\n"
     ]
    },
    {
     "name": "stdout",
     "output_type": "stream",
     "text": [
      "Pulling halo center from catalog file\n",
      "Opening snapshot /Volumes/TempestTimeSteps/DD0327/DD0327\n"
     ]
    },
    {
     "name": "stderr",
     "output_type": "stream",
     "text": [
      "yt : [INFO     ] 2022-07-13 19:17:09,675 Parameters: current_time              = 114.81652781829\n",
      "yt : [INFO     ] 2022-07-13 19:17:09,677 Parameters: domain_dimensions         = [256 256 256]\n",
      "yt : [INFO     ] 2022-07-13 19:17:09,680 Parameters: domain_left_edge          = [0. 0. 0.]\n",
      "yt : [INFO     ] 2022-07-13 19:17:09,683 Parameters: domain_right_edge         = [1. 1. 1.]\n",
      "yt : [INFO     ] 2022-07-13 19:17:09,684 Parameters: cosmological_simulation   = 1\n",
      "yt : [INFO     ] 2022-07-13 19:17:09,686 Parameters: current_redshift          = 2.6777540283045\n",
      "yt : [INFO     ] 2022-07-13 19:17:09,687 Parameters: omega_lambda              = 0.715\n",
      "yt : [INFO     ] 2022-07-13 19:17:09,688 Parameters: omega_matter              = 0.285\n",
      "yt : [INFO     ] 2022-07-13 19:17:09,688 Parameters: omega_radiation           = 0.0\n",
      "yt : [INFO     ] 2022-07-13 19:17:09,689 Parameters: hubble_constant           = 0.695\n"
     ]
    },
    {
     "name": "stdout",
     "output_type": "stream",
     "text": [
      "get_refine_box: using this location:     col1       col2     col3    col4     col5     col6    col7   col8\n",
      "------------ -------- ------- -------- -------- ------- -------- ----\n",
      "2.6777540283 0.493817 0.49021 0.500325 0.495817 0.49221 0.502325    9\n"
     ]
    },
    {
     "name": "stderr",
     "output_type": "stream",
     "text": [
      "Parsing Hierarchy : 100%|█████████████████| 8723/8723 [00:01<00:00, 6666.54it/s]\n",
      "yt : [INFO     ] 2022-07-13 19:17:11,529 Gathering a field list (this may take a moment.)\n",
      "yt : [WARNING  ] 2022-07-13 19:17:14,652 The stars particle filter already exists. Overriding.\n",
      "yt : [WARNING  ] 2022-07-13 19:17:14,652 The DM particle filter already exists. Overriding.\n",
      "yt : [INFO     ] 2022-07-13 19:17:14,751 Parameters: current_time              = 119.81652781829\n",
      "yt : [INFO     ] 2022-07-13 19:17:14,753 Parameters: domain_dimensions         = [256 256 256]\n",
      "yt : [INFO     ] 2022-07-13 19:17:14,755 Parameters: domain_left_edge          = [0. 0. 0.]\n",
      "yt : [INFO     ] 2022-07-13 19:17:14,757 Parameters: domain_right_edge         = [1. 1. 1.]\n",
      "yt : [INFO     ] 2022-07-13 19:17:14,758 Parameters: cosmological_simulation   = 1\n",
      "yt : [INFO     ] 2022-07-13 19:17:14,758 Parameters: current_redshift          = 2.5729656200897\n",
      "yt : [INFO     ] 2022-07-13 19:17:14,759 Parameters: omega_lambda              = 0.715\n",
      "yt : [INFO     ] 2022-07-13 19:17:14,760 Parameters: omega_matter              = 0.285\n",
      "yt : [INFO     ] 2022-07-13 19:17:14,760 Parameters: omega_radiation           = 0.0\n",
      "yt : [INFO     ] 2022-07-13 19:17:14,761 Parameters: hubble_constant           = 0.695\n"
     ]
    },
    {
     "name": "stdout",
     "output_type": "stream",
     "text": [
      "Pulling halo center from catalog file\n",
      "Opening snapshot /Volumes/TempestTimeSteps/DD0347/DD0347\n",
      "get_refine_box: using this location:      col1       col2    col3     col4    col5    col6     col7  col8\n",
      "------------- ------- -------- ------- ------- -------- ------- ----\n",
      "2.57296562009 0.49375 0.489943 0.50041 0.49575 0.491943 0.50241    9\n"
     ]
    },
    {
     "name": "stderr",
     "output_type": "stream",
     "text": [
      "Parsing Hierarchy : 100%|████████████████| 8372/8372 [00:00<00:00, 17837.24it/s]\n",
      "yt : [INFO     ] 2022-07-13 19:17:15,587 Gathering a field list (this may take a moment.)\n",
      "yt : [WARNING  ] 2022-07-13 19:17:18,323 The stars particle filter already exists. Overriding.\n",
      "yt : [WARNING  ] 2022-07-13 19:17:18,324 The DM particle filter already exists. Overriding.\n",
      "yt : [INFO     ] 2022-07-13 19:17:18,417 Parameters: current_time              = 124.81652781829\n",
      "yt : [INFO     ] 2022-07-13 19:17:18,419 Parameters: domain_dimensions         = [256 256 256]\n",
      "yt : [INFO     ] 2022-07-13 19:17:18,422 Parameters: domain_left_edge          = [0. 0. 0.]\n",
      "yt : [INFO     ] 2022-07-13 19:17:18,425 Parameters: domain_right_edge         = [1. 1. 1.]\n",
      "yt : [INFO     ] 2022-07-13 19:17:18,426 Parameters: cosmological_simulation   = 1\n",
      "yt : [INFO     ] 2022-07-13 19:17:18,426 Parameters: current_redshift          = 2.4751267440123\n",
      "yt : [INFO     ] 2022-07-13 19:17:18,427 Parameters: omega_lambda              = 0.715\n",
      "yt : [INFO     ] 2022-07-13 19:17:18,427 Parameters: omega_matter              = 0.285\n",
      "yt : [INFO     ] 2022-07-13 19:17:18,428 Parameters: omega_radiation           = 0.0\n",
      "yt : [INFO     ] 2022-07-13 19:17:18,429 Parameters: hubble_constant           = 0.695\n"
     ]
    },
    {
     "name": "stdout",
     "output_type": "stream",
     "text": [
      "Pulling halo center from catalog file\n",
      "Opening snapshot /Volumes/TempestTimeSteps/DD0367/DD0367\n",
      "get_refine_box: using this location:      col1       col2     col3     col4     col5     col6     col7   col8\n",
      "------------- -------- -------- -------- -------- -------- -------- ----\n",
      "2.47512674401 0.493607 0.489649 0.500506 0.495607 0.491649 0.502506    9\n"
     ]
    },
    {
     "name": "stderr",
     "output_type": "stream",
     "text": [
      "Parsing Hierarchy : 100%|████████████████| 8124/8124 [00:00<00:00, 18772.01it/s]\n",
      "yt : [INFO     ] 2022-07-13 19:17:19,217 Gathering a field list (this may take a moment.)\n",
      "yt : [WARNING  ] 2022-07-13 19:17:22,006 The stars particle filter already exists. Overriding.\n",
      "yt : [WARNING  ] 2022-07-13 19:17:22,007 The DM particle filter already exists. Overriding.\n"
     ]
    },
    {
     "name": "stdout",
     "output_type": "stream",
     "text": [
      "Pulling halo center from catalog file\n",
      "Opening snapshot /Volumes/TempestTimeSteps/DD0387/DD0387\n"
     ]
    },
    {
     "name": "stderr",
     "output_type": "stream",
     "text": [
      "yt : [INFO     ] 2022-07-13 19:17:22,195 Parameters: current_time              = 129.81652781829\n",
      "yt : [INFO     ] 2022-07-13 19:17:22,199 Parameters: domain_dimensions         = [256 256 256]\n",
      "yt : [INFO     ] 2022-07-13 19:17:22,203 Parameters: domain_left_edge          = [0. 0. 0.]\n",
      "yt : [INFO     ] 2022-07-13 19:17:22,208 Parameters: domain_right_edge         = [1. 1. 1.]\n",
      "yt : [INFO     ] 2022-07-13 19:17:22,209 Parameters: cosmological_simulation   = 1\n",
      "yt : [INFO     ] 2022-07-13 19:17:22,210 Parameters: current_redshift          = 2.3835178337957\n",
      "yt : [INFO     ] 2022-07-13 19:17:22,212 Parameters: omega_lambda              = 0.715\n",
      "yt : [INFO     ] 2022-07-13 19:17:22,213 Parameters: omega_matter              = 0.285\n",
      "yt : [INFO     ] 2022-07-13 19:17:22,214 Parameters: omega_radiation           = 0.0\n",
      "yt : [INFO     ] 2022-07-13 19:17:22,216 Parameters: hubble_constant           = 0.695\n"
     ]
    },
    {
     "name": "stdout",
     "output_type": "stream",
     "text": [
      "get_refine_box: using this location:     col1       col2     col3     col4     col5     col6     col7   col8\n",
      "------------ -------- -------- -------- -------- -------- -------- ----\n",
      "2.3835178338 0.493475 0.489323 0.500649 0.495475 0.491323 0.502649    9\n"
     ]
    },
    {
     "name": "stderr",
     "output_type": "stream",
     "text": [
      "Parsing Hierarchy : 100%|█████████████████| 9680/9680 [00:02<00:00, 4071.30it/s]\n",
      "yt : [INFO     ] 2022-07-13 19:17:25,269 Gathering a field list (this may take a moment.)\n",
      "yt : [WARNING  ] 2022-07-13 19:17:30,011 The stars particle filter already exists. Overriding.\n",
      "yt : [WARNING  ] 2022-07-13 19:17:30,012 The DM particle filter already exists. Overriding.\n"
     ]
    },
    {
     "name": "stdout",
     "output_type": "stream",
     "text": [
      "Pulling halo center from catalog file\n",
      "Opening snapshot /Volumes/TempestTimeSteps/DD0407/DD0407\n"
     ]
    },
    {
     "name": "stderr",
     "output_type": "stream",
     "text": [
      "yt : [INFO     ] 2022-07-13 19:17:30,198 Parameters: current_time              = 134.81652781829\n",
      "yt : [INFO     ] 2022-07-13 19:17:30,203 Parameters: domain_dimensions         = [256 256 256]\n",
      "yt : [INFO     ] 2022-07-13 19:17:30,207 Parameters: domain_left_edge          = [0. 0. 0.]\n",
      "yt : [INFO     ] 2022-07-13 19:17:30,211 Parameters: domain_right_edge         = [1. 1. 1.]\n",
      "yt : [INFO     ] 2022-07-13 19:17:30,212 Parameters: cosmological_simulation   = 1\n",
      "yt : [INFO     ] 2022-07-13 19:17:30,213 Parameters: current_redshift          = 2.2975178463403\n",
      "yt : [INFO     ] 2022-07-13 19:17:30,214 Parameters: omega_lambda              = 0.715\n",
      "yt : [INFO     ] 2022-07-13 19:17:30,215 Parameters: omega_matter              = 0.285\n",
      "yt : [INFO     ] 2022-07-13 19:17:30,217 Parameters: omega_radiation           = 0.0\n",
      "yt : [INFO     ] 2022-07-13 19:17:30,218 Parameters: hubble_constant           = 0.695\n"
     ]
    },
    {
     "name": "stdout",
     "output_type": "stream",
     "text": [
      "get_refine_box: using this location:      col1       col2     col3     col4     col5     col6     col7   col8\n",
      "------------- -------- -------- -------- -------- -------- -------- ----\n",
      "2.29751784634 0.493403 0.489031 0.500769 0.495403 0.491031 0.502769    9\n"
     ]
    },
    {
     "name": "stderr",
     "output_type": "stream",
     "text": [
      "Parsing Hierarchy : 100%|█████████████████| 8668/8668 [00:00<00:00, 8668.28it/s]\n",
      "yt : [INFO     ] 2022-07-13 19:17:31,867 Gathering a field list (this may take a moment.)\n",
      "yt : [WARNING  ] 2022-07-13 19:17:36,600 The stars particle filter already exists. Overriding.\n",
      "yt : [WARNING  ] 2022-07-13 19:17:36,601 The DM particle filter already exists. Overriding.\n"
     ]
    },
    {
     "name": "stdout",
     "output_type": "stream",
     "text": [
      "Pulling halo center from catalog file\n",
      "Opening snapshot /Volumes/TempestTimeSteps/DD0427/DD0427\n"
     ]
    },
    {
     "name": "stderr",
     "output_type": "stream",
     "text": [
      "yt : [INFO     ] 2022-07-13 19:17:36,858 Parameters: current_time              = 139.81652781829\n",
      "yt : [INFO     ] 2022-07-13 19:17:36,862 Parameters: domain_dimensions         = [256 256 256]\n",
      "yt : [INFO     ] 2022-07-13 19:17:36,868 Parameters: domain_left_edge          = [0. 0. 0.]\n",
      "yt : [INFO     ] 2022-07-13 19:17:36,873 Parameters: domain_right_edge         = [1. 1. 1.]\n",
      "yt : [INFO     ] 2022-07-13 19:17:36,874 Parameters: cosmological_simulation   = 1\n",
      "yt : [INFO     ] 2022-07-13 19:17:36,875 Parameters: current_redshift          = 2.2165877154761\n",
      "yt : [INFO     ] 2022-07-13 19:17:36,876 Parameters: omega_lambda              = 0.715\n",
      "yt : [INFO     ] 2022-07-13 19:17:36,877 Parameters: omega_matter              = 0.285\n",
      "yt : [INFO     ] 2022-07-13 19:17:36,878 Parameters: omega_radiation           = 0.0\n",
      "yt : [INFO     ] 2022-07-13 19:17:36,879 Parameters: hubble_constant           = 0.695\n"
     ]
    },
    {
     "name": "stdout",
     "output_type": "stream",
     "text": [
      "get_refine_box: using this location:      col1       col2     col3     col4     col5     col6     col7   col8\n",
      "------------- -------- -------- -------- -------- -------- -------- ----\n",
      "2.21658771548 0.493304 0.488734 0.500885 0.495304 0.490734 0.502885    9\n"
     ]
    },
    {
     "name": "stderr",
     "output_type": "stream",
     "text": [
      "Parsing Hierarchy : 100%|█████████████████| 8504/8504 [00:00<00:00, 8654.24it/s]\n",
      "yt : [INFO     ] 2022-07-13 19:17:38,406 Gathering a field list (this may take a moment.)\n",
      "yt : [WARNING  ] 2022-07-13 19:17:43,293 The stars particle filter already exists. Overriding.\n",
      "yt : [WARNING  ] 2022-07-13 19:17:43,295 The DM particle filter already exists. Overriding.\n"
     ]
    },
    {
     "name": "stdout",
     "output_type": "stream",
     "text": [
      "Pulling halo center from catalog file\n",
      "Opening snapshot /Volumes/TempestTimeSteps/DD0447/DD0447\n"
     ]
    },
    {
     "name": "stderr",
     "output_type": "stream",
     "text": [
      "yt : [INFO     ] 2022-07-13 19:17:43,545 Parameters: current_time              = 144.81652781829\n",
      "yt : [INFO     ] 2022-07-13 19:17:43,549 Parameters: domain_dimensions         = [256 256 256]\n",
      "yt : [INFO     ] 2022-07-13 19:17:43,553 Parameters: domain_left_edge          = [0. 0. 0.]\n",
      "yt : [INFO     ] 2022-07-13 19:17:43,559 Parameters: domain_right_edge         = [1. 1. 1.]\n",
      "yt : [INFO     ] 2022-07-13 19:17:43,560 Parameters: cosmological_simulation   = 1\n",
      "yt : [INFO     ] 2022-07-13 19:17:43,561 Parameters: current_redshift          = 2.1402570627129\n",
      "yt : [INFO     ] 2022-07-13 19:17:43,562 Parameters: omega_lambda              = 0.715\n",
      "yt : [INFO     ] 2022-07-13 19:17:43,563 Parameters: omega_matter              = 0.285\n",
      "yt : [INFO     ] 2022-07-13 19:17:43,563 Parameters: omega_radiation           = 0.0\n",
      "yt : [INFO     ] 2022-07-13 19:17:43,565 Parameters: hubble_constant           = 0.695\n"
     ]
    },
    {
     "name": "stdout",
     "output_type": "stream",
     "text": [
      "get_refine_box: using this location:      col1       col2     col3     col4     col5     col6     col7   col8\n",
      "------------- -------- -------- -------- -------- -------- -------- ----\n",
      "2.14025706271 0.493216 0.488457 0.500981 0.495216 0.490457 0.502981    9\n"
     ]
    },
    {
     "name": "stderr",
     "output_type": "stream",
     "text": [
      "Parsing Hierarchy : 100%|█████████████████| 8981/8981 [00:02<00:00, 3640.73it/s]\n",
      "yt : [INFO     ] 2022-07-13 19:17:46,607 Gathering a field list (this may take a moment.)\n",
      "yt : [WARNING  ] 2022-07-13 19:17:51,175 The stars particle filter already exists. Overriding.\n",
      "yt : [WARNING  ] 2022-07-13 19:17:51,176 The DM particle filter already exists. Overriding.\n"
     ]
    },
    {
     "name": "stdout",
     "output_type": "stream",
     "text": [
      "Pulling halo center from catalog file\n",
      "Opening snapshot /Volumes/TempestTimeSteps/DD0467/DD0467\n"
     ]
    },
    {
     "name": "stderr",
     "output_type": "stream",
     "text": [
      "yt : [INFO     ] 2022-07-13 19:17:51,362 Parameters: current_time              = 149.81652781829\n",
      "yt : [INFO     ] 2022-07-13 19:17:51,366 Parameters: domain_dimensions         = [256 256 256]\n",
      "yt : [INFO     ] 2022-07-13 19:17:51,370 Parameters: domain_left_edge          = [0. 0. 0.]\n",
      "yt : [INFO     ] 2022-07-13 19:17:51,374 Parameters: domain_right_edge         = [1. 1. 1.]\n",
      "yt : [INFO     ] 2022-07-13 19:17:51,376 Parameters: cosmological_simulation   = 1\n",
      "yt : [INFO     ] 2022-07-13 19:17:51,377 Parameters: current_redshift          = 2.0681134360516\n",
      "yt : [INFO     ] 2022-07-13 19:17:51,378 Parameters: omega_lambda              = 0.715\n",
      "yt : [INFO     ] 2022-07-13 19:17:51,380 Parameters: omega_matter              = 0.285\n",
      "yt : [INFO     ] 2022-07-13 19:17:51,381 Parameters: omega_radiation           = 0.0\n",
      "yt : [INFO     ] 2022-07-13 19:17:51,382 Parameters: hubble_constant           = 0.695\n"
     ]
    },
    {
     "name": "stdout",
     "output_type": "stream",
     "text": [
      "get_refine_box: using this location:      col1       col2     col3     col4    col5     col6     col7  col8\n",
      "------------- -------- -------- ------- -------- -------- ------- ----\n",
      "2.06811343605 0.493124 0.488177 0.50108 0.495124 0.490177 0.50308    9\n"
     ]
    },
    {
     "name": "stderr",
     "output_type": "stream",
     "text": [
      "Parsing Hierarchy : 100%|█████████████████| 8955/8955 [00:01<00:00, 8618.63it/s]\n",
      "yt : [INFO     ] 2022-07-13 19:17:53,065 Gathering a field list (this may take a moment.)\n",
      "yt : [WARNING  ] 2022-07-13 19:17:57,739 The stars particle filter already exists. Overriding.\n",
      "yt : [WARNING  ] 2022-07-13 19:17:57,740 The DM particle filter already exists. Overriding.\n"
     ]
    },
    {
     "name": "stdout",
     "output_type": "stream",
     "text": [
      "Pulling halo center from catalog file\n",
      "Opening snapshot /Volumes/TempestTimeSteps/DD0487/DD0487\n"
     ]
    },
    {
     "name": "stderr",
     "output_type": "stream",
     "text": [
      "yt : [INFO     ] 2022-07-13 19:17:57,927 Parameters: current_time              = 154.8165043678\n",
      "yt : [INFO     ] 2022-07-13 19:17:57,931 Parameters: domain_dimensions         = [256 256 256]\n",
      "yt : [INFO     ] 2022-07-13 19:17:57,936 Parameters: domain_left_edge          = [0. 0. 0.]\n",
      "yt : [INFO     ] 2022-07-13 19:17:57,940 Parameters: domain_right_edge         = [1. 1. 1.]\n",
      "yt : [INFO     ] 2022-07-13 19:17:57,941 Parameters: cosmological_simulation   = 1\n",
      "yt : [INFO     ] 2022-07-13 19:17:57,942 Parameters: current_redshift          = 1.9997938414155\n",
      "yt : [INFO     ] 2022-07-13 19:17:57,943 Parameters: omega_lambda              = 0.715\n",
      "yt : [INFO     ] 2022-07-13 19:17:57,944 Parameters: omega_matter              = 0.285\n",
      "yt : [INFO     ] 2022-07-13 19:17:57,945 Parameters: omega_radiation           = 0.0\n",
      "yt : [INFO     ] 2022-07-13 19:17:57,946 Parameters: hubble_constant           = 0.695\n"
     ]
    },
    {
     "name": "stdout",
     "output_type": "stream",
     "text": [
      "get_refine_box: using this location:      col1       col2     col3     col4     col5     col6     col7   col8\n",
      "------------- -------- -------- -------- -------- -------- -------- ----\n",
      "1.99979384142 0.493035 0.487894 0.501194 0.495035 0.489894 0.503194    9\n"
     ]
    },
    {
     "name": "stderr",
     "output_type": "stream",
     "text": [
      "Parsing Hierarchy : 100%|█████████████████| 7623/7623 [00:00<00:00, 8616.69it/s]\n",
      "yt : [INFO     ] 2022-07-13 19:17:59,420 Gathering a field list (this may take a moment.)\n",
      "yt : [WARNING  ] 2022-07-13 19:18:04,192 The stars particle filter already exists. Overriding.\n",
      "yt : [WARNING  ] 2022-07-13 19:18:04,193 The DM particle filter already exists. Overriding.\n"
     ]
    },
    {
     "name": "stdout",
     "output_type": "stream",
     "text": [
      "Pulling halo center from catalog file\n",
      "Opening snapshot /Volumes/TempestTimeSteps/DD0507/DD0507\n"
     ]
    },
    {
     "name": "stderr",
     "output_type": "stream",
     "text": [
      "yt : [INFO     ] 2022-07-13 19:18:04,380 Parameters: current_time              = 159.81652781829\n",
      "yt : [INFO     ] 2022-07-13 19:18:04,384 Parameters: domain_dimensions         = [256 256 256]\n",
      "yt : [INFO     ] 2022-07-13 19:18:04,389 Parameters: domain_left_edge          = [0. 0. 0.]\n",
      "yt : [INFO     ] 2022-07-13 19:18:04,394 Parameters: domain_right_edge         = [1. 1. 1.]\n",
      "yt : [INFO     ] 2022-07-13 19:18:04,395 Parameters: cosmological_simulation   = 1\n",
      "yt : [INFO     ] 2022-07-13 19:18:04,396 Parameters: current_redshift          = 1.9349759674732\n",
      "yt : [INFO     ] 2022-07-13 19:18:04,397 Parameters: omega_lambda              = 0.715\n",
      "yt : [INFO     ] 2022-07-13 19:18:04,398 Parameters: omega_matter              = 0.285\n",
      "yt : [INFO     ] 2022-07-13 19:18:04,399 Parameters: omega_radiation           = 0.0\n",
      "yt : [INFO     ] 2022-07-13 19:18:04,400 Parameters: hubble_constant           = 0.695\n"
     ]
    },
    {
     "name": "stdout",
     "output_type": "stream",
     "text": [
      "get_refine_box: using this location:      col1       col2     col3     col4     col5     col6     col7   col8\n",
      "------------- -------- -------- -------- -------- -------- -------- ----\n",
      "1.93497596747 0.492941 0.487618 0.501303 0.494941 0.489618 0.503303    9\n"
     ]
    },
    {
     "name": "stderr",
     "output_type": "stream",
     "text": [
      "Parsing Hierarchy : 100%|█████████████████| 6466/6466 [00:00<00:00, 8596.71it/s]\n",
      "yt : [INFO     ] 2022-07-13 19:18:05,684 Gathering a field list (this may take a moment.)\n",
      "yt : [WARNING  ] 2022-07-13 19:18:10,487 The stars particle filter already exists. Overriding.\n",
      "yt : [WARNING  ] 2022-07-13 19:18:10,488 The DM particle filter already exists. Overriding.\n"
     ]
    },
    {
     "name": "stdout",
     "output_type": "stream",
     "text": [
      "Pulling halo center from catalog file\n",
      "Opening snapshot /Volumes/TempestTimeSteps/DD0527/DD0527\n"
     ]
    },
    {
     "name": "stderr",
     "output_type": "stream",
     "text": [
      "yt : [INFO     ] 2022-07-13 19:18:10,671 Parameters: current_time              = 164.81652781829\n",
      "yt : [INFO     ] 2022-07-13 19:18:10,676 Parameters: domain_dimensions         = [256 256 256]\n",
      "yt : [INFO     ] 2022-07-13 19:18:10,680 Parameters: domain_left_edge          = [0. 0. 0.]\n",
      "yt : [INFO     ] 2022-07-13 19:18:10,684 Parameters: domain_right_edge         = [1. 1. 1.]\n",
      "yt : [INFO     ] 2022-07-13 19:18:10,685 Parameters: cosmological_simulation   = 1\n",
      "yt : [INFO     ] 2022-07-13 19:18:10,686 Parameters: current_redshift          = 1.8733753371252\n",
      "yt : [INFO     ] 2022-07-13 19:18:10,687 Parameters: omega_lambda              = 0.715\n",
      "yt : [INFO     ] 2022-07-13 19:18:10,688 Parameters: omega_matter              = 0.285\n",
      "yt : [INFO     ] 2022-07-13 19:18:10,689 Parameters: omega_radiation           = 0.0\n",
      "yt : [INFO     ] 2022-07-13 19:18:10,690 Parameters: hubble_constant           = 0.695\n"
     ]
    },
    {
     "name": "stdout",
     "output_type": "stream",
     "text": [
      "get_refine_box: using this location:      col1       col2     col3     col4     col5     col6     col7   col8\n",
      "------------- -------- -------- -------- -------- -------- -------- ----\n",
      "1.87337533713 0.492848 0.487347 0.501397 0.494848 0.489347 0.503397    9\n"
     ]
    },
    {
     "name": "stderr",
     "output_type": "stream",
     "text": [
      "Parsing Hierarchy : 100%|█████████████████| 6005/6005 [00:02<00:00, 2457.72it/s]\n",
      "yt : [INFO     ] 2022-07-13 19:18:13,645 Gathering a field list (this may take a moment.)\n",
      "yt : [WARNING  ] 2022-07-13 19:18:18,418 The stars particle filter already exists. Overriding.\n",
      "yt : [WARNING  ] 2022-07-13 19:18:18,419 The DM particle filter already exists. Overriding.\n"
     ]
    },
    {
     "name": "stdout",
     "output_type": "stream",
     "text": [
      "Pulling halo center from catalog file\n",
      "Opening snapshot /Volumes/TempestTimeSteps/DD0547/DD0547\n"
     ]
    },
    {
     "name": "stderr",
     "output_type": "stream",
     "text": [
      "yt : [INFO     ] 2022-07-13 19:18:18,603 Parameters: current_time              = 169.81652781829\n",
      "yt : [INFO     ] 2022-07-13 19:18:18,607 Parameters: domain_dimensions         = [256 256 256]\n",
      "yt : [INFO     ] 2022-07-13 19:18:18,612 Parameters: domain_left_edge          = [0. 0. 0.]\n",
      "yt : [INFO     ] 2022-07-13 19:18:18,616 Parameters: domain_right_edge         = [1. 1. 1.]\n",
      "yt : [INFO     ] 2022-07-13 19:18:18,617 Parameters: cosmological_simulation   = 1\n",
      "yt : [INFO     ] 2022-07-13 19:18:18,618 Parameters: current_redshift          = 1.8147372203944\n",
      "yt : [INFO     ] 2022-07-13 19:18:18,619 Parameters: omega_lambda              = 0.715\n",
      "yt : [INFO     ] 2022-07-13 19:18:18,620 Parameters: omega_matter              = 0.285\n",
      "yt : [INFO     ] 2022-07-13 19:18:18,621 Parameters: omega_radiation           = 0.0\n",
      "yt : [INFO     ] 2022-07-13 19:18:18,622 Parameters: hubble_constant           = 0.695\n"
     ]
    },
    {
     "name": "stdout",
     "output_type": "stream",
     "text": [
      "get_refine_box: using this location:      col1       col2     col3    col4     col5     col6    col7   col8\n",
      "------------- -------- ------- -------- -------- ------- -------- ----\n",
      "1.81473722039 0.492754 0.48709 0.501477 0.494754 0.48909 0.503477    9\n"
     ]
    },
    {
     "name": "stderr",
     "output_type": "stream",
     "text": [
      "Parsing Hierarchy : 100%|█████████████████| 6241/6241 [00:00<00:00, 8532.23it/s]\n",
      "yt : [INFO     ] 2022-07-13 19:18:19,884 Gathering a field list (this may take a moment.)\n",
      "yt : [WARNING  ] 2022-07-13 19:18:24,770 The stars particle filter already exists. Overriding.\n",
      "yt : [WARNING  ] 2022-07-13 19:18:24,771 The DM particle filter already exists. Overriding.\n"
     ]
    },
    {
     "name": "stdout",
     "output_type": "stream",
     "text": [
      "Pulling halo center from catalog file\n",
      "Opening snapshot /Volumes/TempestTimeSteps/DD0567/DD0567\n"
     ]
    },
    {
     "name": "stderr",
     "output_type": "stream",
     "text": [
      "yt : [INFO     ] 2022-07-13 19:18:24,955 Parameters: current_time              = 174.81652781829\n",
      "yt : [INFO     ] 2022-07-13 19:18:24,959 Parameters: domain_dimensions         = [256 256 256]\n",
      "yt : [INFO     ] 2022-07-13 19:18:24,963 Parameters: domain_left_edge          = [0. 0. 0.]\n",
      "yt : [INFO     ] 2022-07-13 19:18:24,968 Parameters: domain_right_edge         = [1. 1. 1.]\n",
      "yt : [INFO     ] 2022-07-13 19:18:24,969 Parameters: cosmological_simulation   = 1\n",
      "yt : [INFO     ] 2022-07-13 19:18:24,969 Parameters: current_redshift          = 1.7588340361195\n",
      "yt : [INFO     ] 2022-07-13 19:18:24,971 Parameters: omega_lambda              = 0.715\n",
      "yt : [INFO     ] 2022-07-13 19:18:24,972 Parameters: omega_matter              = 0.285\n",
      "yt : [INFO     ] 2022-07-13 19:18:24,973 Parameters: omega_radiation           = 0.0\n",
      "yt : [INFO     ] 2022-07-13 19:18:24,974 Parameters: hubble_constant           = 0.695\n"
     ]
    },
    {
     "name": "stdout",
     "output_type": "stream",
     "text": [
      "get_refine_box: using this location:      col1       col2     col3     col4     col5     col6     col7   col8\n",
      "------------- -------- -------- -------- -------- -------- -------- ----\n",
      "1.75883403612 0.492716 0.486828 0.501538 0.494716 0.488828 0.503538    9\n"
     ]
    },
    {
     "name": "stderr",
     "output_type": "stream",
     "text": [
      "Parsing Hierarchy : 100%|█████████████████| 6668/6668 [00:00<00:00, 8584.12it/s]\n",
      "yt : [INFO     ] 2022-07-13 19:18:26,303 Gathering a field list (this may take a moment.)\n",
      "yt : [WARNING  ] 2022-07-13 19:18:30,885 The stars particle filter already exists. Overriding.\n",
      "yt : [WARNING  ] 2022-07-13 19:18:30,887 The DM particle filter already exists. Overriding.\n"
     ]
    },
    {
     "name": "stdout",
     "output_type": "stream",
     "text": [
      "Pulling halo center from catalog file\n",
      "Opening snapshot /Volumes/TempestTimeSteps/DD0587/DD0587\n"
     ]
    },
    {
     "name": "stderr",
     "output_type": "stream",
     "text": [
      "yt : [INFO     ] 2022-07-13 19:18:31,086 Parameters: current_time              = 179.81652781829\n",
      "yt : [INFO     ] 2022-07-13 19:18:31,103 Parameters: domain_dimensions         = [256 256 256]\n",
      "yt : [INFO     ] 2022-07-13 19:18:31,127 Parameters: domain_left_edge          = [0. 0. 0.]\n",
      "yt : [INFO     ] 2022-07-13 19:18:31,132 Parameters: domain_right_edge         = [1. 1. 1.]\n",
      "yt : [INFO     ] 2022-07-13 19:18:31,133 Parameters: cosmological_simulation   = 1\n",
      "yt : [INFO     ] 2022-07-13 19:18:31,134 Parameters: current_redshift          = 1.7054615401925\n",
      "yt : [INFO     ] 2022-07-13 19:18:31,135 Parameters: omega_lambda              = 0.715\n",
      "yt : [INFO     ] 2022-07-13 19:18:31,136 Parameters: omega_matter              = 0.285\n",
      "yt : [INFO     ] 2022-07-13 19:18:31,137 Parameters: omega_radiation           = 0.0\n",
      "yt : [INFO     ] 2022-07-13 19:18:31,138 Parameters: hubble_constant           = 0.695\n"
     ]
    },
    {
     "name": "stdout",
     "output_type": "stream",
     "text": [
      "get_refine_box: using this location:      col1       col2     col3    col4     col5     col6    col7   col8\n",
      "------------- -------- ------- -------- -------- ------- -------- ----\n",
      "1.70546154019 0.492663 0.48654 0.501635 0.494663 0.48854 0.503635    9\n"
     ]
    },
    {
     "name": "stderr",
     "output_type": "stream",
     "text": [
      "Parsing Hierarchy : 100%|█████████████████| 7018/7018 [00:00<00:00, 8031.81it/s]\n",
      "yt : [INFO     ] 2022-07-13 19:18:32,569 Gathering a field list (this may take a moment.)\n",
      "yt : [WARNING  ] 2022-07-13 19:18:37,235 The stars particle filter already exists. Overriding.\n",
      "yt : [WARNING  ] 2022-07-13 19:18:37,236 The DM particle filter already exists. Overriding.\n"
     ]
    },
    {
     "name": "stdout",
     "output_type": "stream",
     "text": [
      "Pulling halo center from catalog file\n",
      "Opening snapshot /Volumes/TempestTimeSteps/DD0607/DD0607\n"
     ]
    },
    {
     "name": "stderr",
     "output_type": "stream",
     "text": [
      "yt : [INFO     ] 2022-07-13 19:18:37,479 Parameters: current_time              = 184.81652781829\n",
      "yt : [INFO     ] 2022-07-13 19:18:37,483 Parameters: domain_dimensions         = [256 256 256]\n",
      "yt : [INFO     ] 2022-07-13 19:18:37,487 Parameters: domain_left_edge          = [0. 0. 0.]\n",
      "yt : [INFO     ] 2022-07-13 19:18:37,491 Parameters: domain_right_edge         = [1. 1. 1.]\n",
      "yt : [INFO     ] 2022-07-13 19:18:37,493 Parameters: cosmological_simulation   = 1\n",
      "yt : [INFO     ] 2022-07-13 19:18:37,494 Parameters: current_redshift          = 1.654435864871\n",
      "yt : [INFO     ] 2022-07-13 19:18:37,495 Parameters: omega_lambda              = 0.715\n",
      "yt : [INFO     ] 2022-07-13 19:18:37,496 Parameters: omega_matter              = 0.285\n",
      "yt : [INFO     ] 2022-07-13 19:18:37,497 Parameters: omega_radiation           = 0.0\n",
      "yt : [INFO     ] 2022-07-13 19:18:37,500 Parameters: hubble_constant           = 0.695\n"
     ]
    },
    {
     "name": "stdout",
     "output_type": "stream",
     "text": [
      "get_refine_box: using this location:      col1       col2     col3     col4     col5     col6     col7   col8\n",
      "------------- -------- -------- -------- -------- -------- -------- ----\n",
      "1.65443586487 0.492592 0.486264 0.501763 0.494592 0.488264 0.503763    9\n"
     ]
    },
    {
     "name": "stderr",
     "output_type": "stream",
     "text": [
      "Parsing Hierarchy : 100%|█████████████████| 6646/6646 [00:00<00:00, 8609.73it/s]\n",
      "yt : [INFO     ] 2022-07-13 19:18:38,727 Gathering a field list (this may take a moment.)\n",
      "yt : [WARNING  ] 2022-07-13 19:18:43,414 The stars particle filter already exists. Overriding.\n",
      "yt : [WARNING  ] 2022-07-13 19:18:43,415 The DM particle filter already exists. Overriding.\n"
     ]
    },
    {
     "name": "stdout",
     "output_type": "stream",
     "text": [
      "Pulling halo center from catalog file\n",
      "Opening snapshot /Volumes/TempestTimeSteps/DD0627/DD0627\n"
     ]
    },
    {
     "name": "stderr",
     "output_type": "stream",
     "text": [
      "yt : [INFO     ] 2022-07-13 19:18:43,664 Parameters: current_time              = 189.81652781829\n",
      "yt : [INFO     ] 2022-07-13 19:18:43,668 Parameters: domain_dimensions         = [256 256 256]\n",
      "yt : [INFO     ] 2022-07-13 19:18:43,672 Parameters: domain_left_edge          = [0. 0. 0.]\n",
      "yt : [INFO     ] 2022-07-13 19:18:43,676 Parameters: domain_right_edge         = [1. 1. 1.]\n",
      "yt : [INFO     ] 2022-07-13 19:18:43,677 Parameters: cosmological_simulation   = 1\n",
      "yt : [INFO     ] 2022-07-13 19:18:43,678 Parameters: current_redshift          = 1.6055910020775\n",
      "yt : [INFO     ] 2022-07-13 19:18:43,679 Parameters: omega_lambda              = 0.715\n",
      "yt : [INFO     ] 2022-07-13 19:18:43,681 Parameters: omega_matter              = 0.285\n",
      "yt : [INFO     ] 2022-07-13 19:18:43,682 Parameters: omega_radiation           = 0.0\n",
      "yt : [INFO     ] 2022-07-13 19:18:43,683 Parameters: hubble_constant           = 0.695\n"
     ]
    },
    {
     "name": "stdout",
     "output_type": "stream",
     "text": [
      "get_refine_box: using this location:      col1       col2     col3     col4     col5     col6     col7   col8\n",
      "------------- -------- -------- -------- -------- -------- -------- ----\n",
      "1.60559100208 0.492518 0.485987 0.501896 0.494518 0.487987 0.503896    9\n"
     ]
    },
    {
     "name": "stderr",
     "output_type": "stream",
     "text": [
      "Parsing Hierarchy : 100%|█████████████████| 7439/7439 [00:00<00:00, 8572.56it/s]\n",
      "yt : [INFO     ] 2022-07-13 19:18:45,054 Gathering a field list (this may take a moment.)\n",
      "yt : [WARNING  ] 2022-07-13 19:18:49,942 The stars particle filter already exists. Overriding.\n",
      "yt : [WARNING  ] 2022-07-13 19:18:49,944 The DM particle filter already exists. Overriding.\n"
     ]
    },
    {
     "name": "stdout",
     "output_type": "stream",
     "text": [
      "Pulling halo center from catalog file\n",
      "Opening snapshot /Volumes/TempestTimeSteps/DD0647/DD0647\n"
     ]
    },
    {
     "name": "stderr",
     "output_type": "stream",
     "text": [
      "yt : [INFO     ] 2022-07-13 19:18:50,184 Parameters: current_time              = 194.81652781829\n",
      "yt : [INFO     ] 2022-07-13 19:18:50,188 Parameters: domain_dimensions         = [256 256 256]\n",
      "yt : [INFO     ] 2022-07-13 19:18:50,192 Parameters: domain_left_edge          = [0. 0. 0.]\n",
      "yt : [INFO     ] 2022-07-13 19:18:50,196 Parameters: domain_right_edge         = [1. 1. 1.]\n",
      "yt : [INFO     ] 2022-07-13 19:18:50,197 Parameters: cosmological_simulation   = 1\n",
      "yt : [INFO     ] 2022-07-13 19:18:50,198 Parameters: current_redshift          = 1.5587766543771\n",
      "yt : [INFO     ] 2022-07-13 19:18:50,199 Parameters: omega_lambda              = 0.715\n",
      "yt : [INFO     ] 2022-07-13 19:18:50,200 Parameters: omega_matter              = 0.285\n",
      "yt : [INFO     ] 2022-07-13 19:18:50,202 Parameters: omega_radiation           = 0.0\n",
      "yt : [INFO     ] 2022-07-13 19:18:50,203 Parameters: hubble_constant           = 0.695\n"
     ]
    },
    {
     "name": "stdout",
     "output_type": "stream",
     "text": [
      "get_refine_box: using this location:      col1       col2     col3     col4     col5     col6     col7   col8\n",
      "------------- -------- -------- -------- -------- -------- -------- ----\n",
      "1.55877665438 0.492451 0.485703 0.502037 0.494451 0.487703 0.504037    9\n"
     ]
    },
    {
     "name": "stderr",
     "output_type": "stream",
     "text": [
      "Parsing Hierarchy : 100%|█████████████████| 7437/7437 [00:03<00:00, 2433.86it/s]\n",
      "yt : [INFO     ] 2022-07-13 19:18:53,766 Gathering a field list (this may take a moment.)\n",
      "yt : [WARNING  ] 2022-07-13 19:18:58,513 The stars particle filter already exists. Overriding.\n",
      "yt : [WARNING  ] 2022-07-13 19:18:58,514 The DM particle filter already exists. Overriding.\n"
     ]
    },
    {
     "name": "stdout",
     "output_type": "stream",
     "text": [
      "Pulling halo center from catalog file\n",
      "Opening snapshot /Volumes/TempestTimeSteps/DD0667/DD0667\n"
     ]
    },
    {
     "name": "stderr",
     "output_type": "stream",
     "text": [
      "yt : [INFO     ] 2022-07-13 19:18:58,755 Parameters: current_time              = 199.81652781829\n",
      "yt : [INFO     ] 2022-07-13 19:18:58,759 Parameters: domain_dimensions         = [256 256 256]\n",
      "yt : [INFO     ] 2022-07-13 19:18:58,763 Parameters: domain_left_edge          = [0. 0. 0.]\n",
      "yt : [INFO     ] 2022-07-13 19:18:58,767 Parameters: domain_right_edge         = [1. 1. 1.]\n",
      "yt : [INFO     ] 2022-07-13 19:18:58,768 Parameters: cosmological_simulation   = 1\n",
      "yt : [INFO     ] 2022-07-13 19:18:58,769 Parameters: current_redshift          = 1.5138563920287\n",
      "yt : [INFO     ] 2022-07-13 19:18:58,770 Parameters: omega_lambda              = 0.715\n",
      "yt : [INFO     ] 2022-07-13 19:18:58,771 Parameters: omega_matter              = 0.285\n",
      "yt : [INFO     ] 2022-07-13 19:18:58,773 Parameters: omega_radiation           = 0.0\n",
      "yt : [INFO     ] 2022-07-13 19:18:58,774 Parameters: hubble_constant           = 0.695\n"
     ]
    },
    {
     "name": "stdout",
     "output_type": "stream",
     "text": [
      "get_refine_box: using this location:      col1       col2     col3     col4     col5     col6     col7   col8\n",
      "------------- -------- -------- -------- -------- -------- -------- ----\n",
      "1.51385639203 0.492384 0.485436 0.502152 0.494384 0.487436 0.504152    9\n"
     ]
    },
    {
     "name": "stderr",
     "output_type": "stream",
     "text": [
      "Parsing Hierarchy : 100%|█████████████████| 8266/8266 [00:00<00:00, 8560.11it/s]\n",
      "yt : [INFO     ] 2022-07-13 19:19:00,279 Gathering a field list (this may take a moment.)\n",
      "yt : [WARNING  ] 2022-07-13 19:19:04,881 The stars particle filter already exists. Overriding.\n",
      "yt : [WARNING  ] 2022-07-13 19:19:04,882 The DM particle filter already exists. Overriding.\n"
     ]
    },
    {
     "name": "stdout",
     "output_type": "stream",
     "text": [
      "Pulling halo center from catalog file\n",
      "Opening snapshot /Volumes/TempestTimeSteps/DD0687/DD0687\n"
     ]
    },
    {
     "name": "stderr",
     "output_type": "stream",
     "text": [
      "yt : [INFO     ] 2022-07-13 19:19:05,131 Parameters: current_time              = 204.81652781829\n",
      "yt : [INFO     ] 2022-07-13 19:19:05,135 Parameters: domain_dimensions         = [256 256 256]\n",
      "yt : [INFO     ] 2022-07-13 19:19:05,139 Parameters: domain_left_edge          = [0. 0. 0.]\n",
      "yt : [INFO     ] 2022-07-13 19:19:05,143 Parameters: domain_right_edge         = [1. 1. 1.]\n",
      "yt : [INFO     ] 2022-07-13 19:19:05,145 Parameters: cosmological_simulation   = 1\n",
      "yt : [INFO     ] 2022-07-13 19:19:05,145 Parameters: current_redshift          = 1.4707060660811\n",
      "yt : [INFO     ] 2022-07-13 19:19:05,148 Parameters: omega_lambda              = 0.715\n",
      "yt : [INFO     ] 2022-07-13 19:19:05,149 Parameters: omega_matter              = 0.285\n",
      "yt : [INFO     ] 2022-07-13 19:19:05,150 Parameters: omega_radiation           = 0.0\n",
      "yt : [INFO     ] 2022-07-13 19:19:05,151 Parameters: hubble_constant           = 0.695\n"
     ]
    },
    {
     "name": "stdout",
     "output_type": "stream",
     "text": [
      "get_refine_box: using this location:      col1       col2     col3     col4    col5     col6     col7  col8\n",
      "------------- -------- -------- ------- -------- -------- ------- ----\n",
      "1.47070606608 0.492346 0.485169 0.50227 0.494346 0.487169 0.50427    9\n"
     ]
    },
    {
     "name": "stderr",
     "output_type": "stream",
     "text": [
      "Parsing Hierarchy : 100%|█████████████████| 8638/8638 [00:01<00:00, 8478.45it/s]\n",
      "yt : [INFO     ] 2022-07-13 19:19:06,719 Gathering a field list (this may take a moment.)\n",
      "yt : [WARNING  ] 2022-07-13 19:19:11,496 The stars particle filter already exists. Overriding.\n",
      "yt : [WARNING  ] 2022-07-13 19:19:11,497 The DM particle filter already exists. Overriding.\n"
     ]
    },
    {
     "name": "stdout",
     "output_type": "stream",
     "text": [
      "Pulling halo center from catalog file\n",
      "Opening snapshot /Volumes/TempestTimeSteps/DD0707/DD0707\n"
     ]
    },
    {
     "name": "stderr",
     "output_type": "stream",
     "text": [
      "yt : [INFO     ] 2022-07-13 19:19:11,768 Parameters: current_time              = 209.81652781829\n",
      "yt : [INFO     ] 2022-07-13 19:19:11,772 Parameters: domain_dimensions         = [256 256 256]\n",
      "yt : [INFO     ] 2022-07-13 19:19:11,777 Parameters: domain_left_edge          = [0. 0. 0.]\n",
      "yt : [INFO     ] 2022-07-13 19:19:11,781 Parameters: domain_right_edge         = [1. 1. 1.]\n",
      "yt : [INFO     ] 2022-07-13 19:19:11,782 Parameters: cosmological_simulation   = 1\n",
      "yt : [INFO     ] 2022-07-13 19:19:11,783 Parameters: current_redshift          = 1.4292124366682\n",
      "yt : [INFO     ] 2022-07-13 19:19:11,784 Parameters: omega_lambda              = 0.715\n",
      "yt : [INFO     ] 2022-07-13 19:19:11,786 Parameters: omega_matter              = 0.285\n",
      "yt : [INFO     ] 2022-07-13 19:19:11,787 Parameters: omega_radiation           = 0.0\n",
      "yt : [INFO     ] 2022-07-13 19:19:11,788 Parameters: hubble_constant           = 0.695\n"
     ]
    },
    {
     "name": "stdout",
     "output_type": "stream",
     "text": [
      "get_refine_box: using this location:      col1       col2     col3     col4     col5     col6     col7   col8\n",
      "------------- -------- -------- -------- -------- -------- -------- ----\n",
      "1.42921243667 0.492291 0.484911 0.502394 0.494291 0.486911 0.504394    9\n"
     ]
    },
    {
     "name": "stderr",
     "output_type": "stream",
     "text": [
      "Parsing Hierarchy : 100%|█████████████████| 8418/8418 [00:01<00:00, 7592.49it/s]\n",
      "yt : [INFO     ] 2022-07-13 19:19:13,473 Gathering a field list (this may take a moment.)\n",
      "yt : [WARNING  ] 2022-07-13 19:19:18,050 The stars particle filter already exists. Overriding.\n",
      "yt : [WARNING  ] 2022-07-13 19:19:18,052 The DM particle filter already exists. Overriding.\n"
     ]
    },
    {
     "name": "stdout",
     "output_type": "stream",
     "text": [
      "Pulling halo center from catalog file\n",
      "Opening snapshot /Volumes/TempestTimeSteps/DD0727/DD0727\n"
     ]
    },
    {
     "name": "stderr",
     "output_type": "stream",
     "text": [
      "yt : [INFO     ] 2022-07-13 19:19:18,313 Parameters: current_time              = 214.81652781829\n",
      "yt : [INFO     ] 2022-07-13 19:19:18,317 Parameters: domain_dimensions         = [256 256 256]\n",
      "yt : [INFO     ] 2022-07-13 19:19:18,321 Parameters: domain_left_edge          = [0. 0. 0.]\n",
      "yt : [INFO     ] 2022-07-13 19:19:18,326 Parameters: domain_right_edge         = [1. 1. 1.]\n",
      "yt : [INFO     ] 2022-07-13 19:19:18,327 Parameters: cosmological_simulation   = 1\n",
      "yt : [INFO     ] 2022-07-13 19:19:18,328 Parameters: current_redshift          = 1.3892719829729\n",
      "yt : [INFO     ] 2022-07-13 19:19:18,329 Parameters: omega_lambda              = 0.715\n",
      "yt : [INFO     ] 2022-07-13 19:19:18,330 Parameters: omega_matter              = 0.285\n",
      "yt : [INFO     ] 2022-07-13 19:19:18,331 Parameters: omega_radiation           = 0.0\n",
      "yt : [INFO     ] 2022-07-13 19:19:18,332 Parameters: hubble_constant           = 0.695\n"
     ]
    },
    {
     "name": "stdout",
     "output_type": "stream",
     "text": [
      "get_refine_box: using this location:      col1       col2     col3     col4     col5     col6     col7   col8\n",
      "------------- -------- -------- -------- -------- -------- -------- ----\n",
      "1.38927198297 0.492228 0.484667 0.502503 0.494228 0.486667 0.504503    9\n"
     ]
    },
    {
     "name": "stderr",
     "output_type": "stream",
     "text": [
      "Parsing Hierarchy : 100%|█████████████████| 8146/8146 [00:00<00:00, 8560.88it/s]\n",
      "yt : [INFO     ] 2022-07-13 19:19:19,815 Gathering a field list (this may take a moment.)\n",
      "yt : [WARNING  ] 2022-07-13 19:19:24,486 The stars particle filter already exists. Overriding.\n",
      "yt : [WARNING  ] 2022-07-13 19:19:24,489 The DM particle filter already exists. Overriding.\n"
     ]
    },
    {
     "name": "stdout",
     "output_type": "stream",
     "text": [
      "Pulling halo center from catalog file\n",
      "Opening snapshot /Volumes/TempestTimeSteps/DD0747/DD0747\n"
     ]
    },
    {
     "name": "stderr",
     "output_type": "stream",
     "text": [
      "yt : [INFO     ] 2022-07-13 19:19:24,763 Parameters: current_time              = 219.81652781829\n",
      "yt : [INFO     ] 2022-07-13 19:19:24,767 Parameters: domain_dimensions         = [256 256 256]\n",
      "yt : [INFO     ] 2022-07-13 19:19:24,771 Parameters: domain_left_edge          = [0. 0. 0.]\n",
      "yt : [INFO     ] 2022-07-13 19:19:24,775 Parameters: domain_right_edge         = [1. 1. 1.]\n",
      "yt : [INFO     ] 2022-07-13 19:19:24,776 Parameters: cosmological_simulation   = 1\n",
      "yt : [INFO     ] 2022-07-13 19:19:24,777 Parameters: current_redshift          = 1.3507898672001\n",
      "yt : [INFO     ] 2022-07-13 19:19:24,778 Parameters: omega_lambda              = 0.715\n",
      "yt : [INFO     ] 2022-07-13 19:19:24,779 Parameters: omega_matter              = 0.285\n",
      "yt : [INFO     ] 2022-07-13 19:19:24,780 Parameters: omega_radiation           = 0.0\n",
      "yt : [INFO     ] 2022-07-13 19:19:24,781 Parameters: hubble_constant           = 0.695\n"
     ]
    },
    {
     "name": "stdout",
     "output_type": "stream",
     "text": [
      "get_refine_box: using this location:     col1       col2     col3     col4     col5     col6     col7   col8\n",
      "------------ -------- -------- -------- -------- -------- -------- ----\n",
      "1.3507898672 0.492157 0.484423 0.502606 0.494157 0.486423 0.504606    9\n"
     ]
    },
    {
     "name": "stderr",
     "output_type": "stream",
     "text": [
      "Parsing Hierarchy : 100%|█████████████████| 8058/8058 [00:00<00:00, 8566.72it/s]\n",
      "yt : [INFO     ] 2022-07-13 19:19:26,264 Gathering a field list (this may take a moment.)\n",
      "yt : [WARNING  ] 2022-07-13 19:19:30,857 The stars particle filter already exists. Overriding.\n",
      "yt : [WARNING  ] 2022-07-13 19:19:30,858 The DM particle filter already exists. Overriding.\n"
     ]
    },
    {
     "name": "stdout",
     "output_type": "stream",
     "text": [
      "Pulling halo center from catalog file\n",
      "Opening snapshot /Volumes/TempestTimeSteps/DD0767/DD0767\n"
     ]
    },
    {
     "name": "stderr",
     "output_type": "stream",
     "text": [
      "yt : [INFO     ] 2022-07-13 19:19:31,107 Parameters: current_time              = 224.81652781829\n",
      "yt : [INFO     ] 2022-07-13 19:19:31,111 Parameters: domain_dimensions         = [256 256 256]\n",
      "yt : [INFO     ] 2022-07-13 19:19:31,115 Parameters: domain_left_edge          = [0. 0. 0.]\n",
      "yt : [INFO     ] 2022-07-13 19:19:31,120 Parameters: domain_right_edge         = [1. 1. 1.]\n",
      "yt : [INFO     ] 2022-07-13 19:19:31,121 Parameters: cosmological_simulation   = 1\n",
      "yt : [INFO     ] 2022-07-13 19:19:31,122 Parameters: current_redshift          = 1.3136790296363\n",
      "yt : [INFO     ] 2022-07-13 19:19:31,123 Parameters: omega_lambda              = 0.715\n",
      "yt : [INFO     ] 2022-07-13 19:19:31,124 Parameters: omega_matter              = 0.285\n",
      "yt : [INFO     ] 2022-07-13 19:19:31,125 Parameters: omega_radiation           = 0.0\n",
      "yt : [INFO     ] 2022-07-13 19:19:31,126 Parameters: hubble_constant           = 0.695\n"
     ]
    },
    {
     "name": "stdout",
     "output_type": "stream",
     "text": [
      "get_refine_box: using this location:      col1       col2     col3     col4     col5     col6     col7   col8\n",
      "------------- -------- -------- -------- -------- -------- -------- ----\n",
      "1.31367902964 0.492089 0.484183 0.502695 0.494089 0.486183 0.504695    9\n"
     ]
    },
    {
     "name": "stderr",
     "output_type": "stream",
     "text": [
      "Parsing Hierarchy : 100%|█████████████████| 7829/7829 [00:03<00:00, 2243.54it/s]\n",
      "yt : [INFO     ] 2022-07-13 19:19:35,143 Gathering a field list (this may take a moment.)\n",
      "yt : [WARNING  ] 2022-07-13 19:19:39,765 The stars particle filter already exists. Overriding.\n",
      "yt : [WARNING  ] 2022-07-13 19:19:39,766 The DM particle filter already exists. Overriding.\n"
     ]
    },
    {
     "name": "stdout",
     "output_type": "stream",
     "text": [
      "Pulling halo center from catalog file\n",
      "Opening snapshot /Volumes/TempestTimeSteps/DD0787/DD0787\n"
     ]
    },
    {
     "name": "stderr",
     "output_type": "stream",
     "text": [
      "yt : [INFO     ] 2022-07-13 19:19:40,010 Parameters: current_time              = 229.81652781829\n",
      "yt : [INFO     ] 2022-07-13 19:19:40,015 Parameters: domain_dimensions         = [256 256 256]\n",
      "yt : [INFO     ] 2022-07-13 19:19:40,019 Parameters: domain_left_edge          = [0. 0. 0.]\n",
      "yt : [INFO     ] 2022-07-13 19:19:40,023 Parameters: domain_right_edge         = [1. 1. 1.]\n",
      "yt : [INFO     ] 2022-07-13 19:19:40,025 Parameters: cosmological_simulation   = 1\n",
      "yt : [INFO     ] 2022-07-13 19:19:40,025 Parameters: current_redshift          = 1.2778593957079\n",
      "yt : [INFO     ] 2022-07-13 19:19:40,027 Parameters: omega_lambda              = 0.715\n",
      "yt : [INFO     ] 2022-07-13 19:19:40,028 Parameters: omega_matter              = 0.285\n",
      "yt : [INFO     ] 2022-07-13 19:19:40,029 Parameters: omega_radiation           = 0.0\n",
      "yt : [INFO     ] 2022-07-13 19:19:40,030 Parameters: hubble_constant           = 0.695\n"
     ]
    },
    {
     "name": "stdout",
     "output_type": "stream",
     "text": [
      "get_refine_box: using this location:      col1       col2     col3     col4     col5     col6     col7   col8\n",
      "------------- -------- -------- -------- -------- -------- -------- ----\n",
      "1.27785939571 0.492022 0.483956 0.502785 0.494022 0.485956 0.504785    9\n"
     ]
    },
    {
     "name": "stderr",
     "output_type": "stream",
     "text": [
      "Parsing Hierarchy : 100%|█████████████████| 8132/8132 [00:00<00:00, 8570.39it/s]\n",
      "yt : [INFO     ] 2022-07-13 19:19:41,529 Gathering a field list (this may take a moment.)\n",
      "yt : [WARNING  ] 2022-07-13 19:19:46,280 The stars particle filter already exists. Overriding.\n",
      "yt : [WARNING  ] 2022-07-13 19:19:46,281 The DM particle filter already exists. Overriding.\n"
     ]
    },
    {
     "name": "stdout",
     "output_type": "stream",
     "text": [
      "Pulling halo center from catalog file\n",
      "Opening snapshot /Volumes/TempestTimeSteps/DD0807/DD0807\n"
     ]
    },
    {
     "name": "stderr",
     "output_type": "stream",
     "text": [
      "yt : [INFO     ] 2022-07-13 19:19:46,475 Parameters: current_time              = 234.81652781829\n",
      "yt : [INFO     ] 2022-07-13 19:19:46,479 Parameters: domain_dimensions         = [256 256 256]\n",
      "yt : [INFO     ] 2022-07-13 19:19:46,483 Parameters: domain_left_edge          = [0. 0. 0.]\n",
      "yt : [INFO     ] 2022-07-13 19:19:46,487 Parameters: domain_right_edge         = [1. 1. 1.]\n",
      "yt : [INFO     ] 2022-07-13 19:19:46,489 Parameters: cosmological_simulation   = 1\n",
      "yt : [INFO     ] 2022-07-13 19:19:46,489 Parameters: current_redshift          = 1.2432571790813\n",
      "yt : [INFO     ] 2022-07-13 19:19:46,491 Parameters: omega_lambda              = 0.715\n",
      "yt : [INFO     ] 2022-07-13 19:19:46,492 Parameters: omega_matter              = 0.285\n",
      "yt : [INFO     ] 2022-07-13 19:19:46,493 Parameters: omega_radiation           = 0.0\n",
      "yt : [INFO     ] 2022-07-13 19:19:46,495 Parameters: hubble_constant           = 0.695\n"
     ]
    },
    {
     "name": "stdout",
     "output_type": "stream",
     "text": [
      "get_refine_box: using this location:      col1       col2     col3     col4     col5     col6     col7   col8\n",
      "------------- -------- -------- -------- -------- -------- -------- ----\n",
      "1.24325717908 0.491957 0.483733 0.502879 0.493957 0.485733 0.504879    9\n"
     ]
    },
    {
     "name": "stderr",
     "output_type": "stream",
     "text": [
      "Parsing Hierarchy : 100%|█████████████████| 7374/7374 [00:00<00:00, 8534.48it/s]\n",
      "yt : [INFO     ] 2022-07-13 19:19:47,859 Gathering a field list (this may take a moment.)\n",
      "yt : [WARNING  ] 2022-07-13 19:19:52,514 The stars particle filter already exists. Overriding.\n",
      "yt : [WARNING  ] 2022-07-13 19:19:52,515 The DM particle filter already exists. Overriding.\n"
     ]
    },
    {
     "name": "stdout",
     "output_type": "stream",
     "text": [
      "Pulling halo center from catalog file\n",
      "Opening snapshot /Volumes/TempestTimeSteps/DD0827/DD0827\n"
     ]
    },
    {
     "name": "stderr",
     "output_type": "stream",
     "text": [
      "yt : [INFO     ] 2022-07-13 19:19:52,700 Parameters: current_time              = 239.81652781829\n",
      "yt : [INFO     ] 2022-07-13 19:19:52,704 Parameters: domain_dimensions         = [256 256 256]\n",
      "yt : [INFO     ] 2022-07-13 19:19:52,708 Parameters: domain_left_edge          = [0. 0. 0.]\n",
      "yt : [INFO     ] 2022-07-13 19:19:52,713 Parameters: domain_right_edge         = [1. 1. 1.]\n",
      "yt : [INFO     ] 2022-07-13 19:19:52,714 Parameters: cosmological_simulation   = 1\n",
      "yt : [INFO     ] 2022-07-13 19:19:52,715 Parameters: current_redshift          = 1.2098042674053\n",
      "yt : [INFO     ] 2022-07-13 19:19:52,716 Parameters: omega_lambda              = 0.715\n",
      "yt : [INFO     ] 2022-07-13 19:19:52,717 Parameters: omega_matter              = 0.285\n",
      "yt : [INFO     ] 2022-07-13 19:19:52,718 Parameters: omega_radiation           = 0.0\n",
      "yt : [INFO     ] 2022-07-13 19:19:52,719 Parameters: hubble_constant           = 0.695\n"
     ]
    },
    {
     "name": "stdout",
     "output_type": "stream",
     "text": [
      "get_refine_box: using this location:      col1       col2     col3     col4     col5     col6     col7   col8\n",
      "------------- -------- -------- -------- -------- -------- -------- ----\n",
      "1.20980426741 0.491888 0.483515 0.502974 0.493888 0.485515 0.504974    9\n"
     ]
    },
    {
     "name": "stderr",
     "output_type": "stream",
     "text": [
      "Parsing Hierarchy : 100%|█████████████████| 6935/6935 [00:00<00:00, 8527.46it/s]\n",
      "yt : [INFO     ] 2022-07-13 19:19:54,079 Gathering a field list (this may take a moment.)\n",
      "yt : [WARNING  ] 2022-07-13 19:19:58,824 The stars particle filter already exists. Overriding.\n",
      "yt : [WARNING  ] 2022-07-13 19:19:58,825 The DM particle filter already exists. Overriding.\n"
     ]
    },
    {
     "name": "stdout",
     "output_type": "stream",
     "text": [
      "Pulling halo center from catalog file\n",
      "Opening snapshot /Volumes/TempestTimeSteps/DD0847/DD0847\n"
     ]
    },
    {
     "name": "stderr",
     "output_type": "stream",
     "text": [
      "yt : [INFO     ] 2022-07-13 19:19:59,073 Parameters: current_time              = 244.81652781829\n",
      "yt : [INFO     ] 2022-07-13 19:19:59,078 Parameters: domain_dimensions         = [256 256 256]\n",
      "yt : [INFO     ] 2022-07-13 19:19:59,082 Parameters: domain_left_edge          = [0. 0. 0.]\n",
      "yt : [INFO     ] 2022-07-13 19:19:59,086 Parameters: domain_right_edge         = [1. 1. 1.]\n",
      "yt : [INFO     ] 2022-07-13 19:19:59,087 Parameters: cosmological_simulation   = 1\n",
      "yt : [INFO     ] 2022-07-13 19:19:59,088 Parameters: current_redshift          = 1.1774376794027\n",
      "yt : [INFO     ] 2022-07-13 19:19:59,090 Parameters: omega_lambda              = 0.715\n",
      "yt : [INFO     ] 2022-07-13 19:19:59,091 Parameters: omega_matter              = 0.285\n",
      "yt : [INFO     ] 2022-07-13 19:19:59,092 Parameters: omega_radiation           = 0.0\n",
      "yt : [INFO     ] 2022-07-13 19:19:59,093 Parameters: hubble_constant           = 0.695\n"
     ]
    },
    {
     "name": "stdout",
     "output_type": "stream",
     "text": [
      "get_refine_box: using this location:     col1       col2     col3    col4     col5     col6    col7   col8\n",
      "------------ -------- ------- -------- -------- ------- -------- ----\n",
      "1.1774376794 0.491816 0.48329 0.503077 0.493816 0.48529 0.505077    9\n"
     ]
    },
    {
     "name": "stderr",
     "output_type": "stream",
     "text": [
      "Parsing Hierarchy : 100%|█████████████████| 6688/6688 [00:00<00:00, 8647.43it/s]\n",
      "yt : [INFO     ] 2022-07-13 19:20:00,328 Gathering a field list (this may take a moment.)\n",
      "yt : [WARNING  ] 2022-07-13 19:20:05,113 The stars particle filter already exists. Overriding.\n",
      "yt : [WARNING  ] 2022-07-13 19:20:05,114 The DM particle filter already exists. Overriding.\n"
     ]
    },
    {
     "name": "stdout",
     "output_type": "stream",
     "text": [
      "Pulling halo center from catalog file\n",
      "Opening snapshot /Volumes/TempestTimeSteps/DD0867/DD0867\n"
     ]
    },
    {
     "name": "stderr",
     "output_type": "stream",
     "text": [
      "yt : [INFO     ] 2022-07-13 19:20:05,362 Parameters: current_time              = 249.81652781829\n",
      "yt : [INFO     ] 2022-07-13 19:20:05,366 Parameters: domain_dimensions         = [256 256 256]\n",
      "yt : [INFO     ] 2022-07-13 19:20:05,371 Parameters: domain_left_edge          = [0. 0. 0.]\n",
      "yt : [INFO     ] 2022-07-13 19:20:05,375 Parameters: domain_right_edge         = [1. 1. 1.]\n",
      "yt : [INFO     ] 2022-07-13 19:20:05,377 Parameters: cosmological_simulation   = 1\n",
      "yt : [INFO     ] 2022-07-13 19:20:05,378 Parameters: current_redshift          = 1.1460990837584\n",
      "yt : [INFO     ] 2022-07-13 19:20:05,379 Parameters: omega_lambda              = 0.715\n",
      "yt : [INFO     ] 2022-07-13 19:20:05,380 Parameters: omega_matter              = 0.285\n",
      "yt : [INFO     ] 2022-07-13 19:20:05,382 Parameters: omega_radiation           = 0.0\n",
      "yt : [INFO     ] 2022-07-13 19:20:05,383 Parameters: hubble_constant           = 0.695\n"
     ]
    },
    {
     "name": "stdout",
     "output_type": "stream",
     "text": [
      "get_refine_box: using this location:      col1       col2     col3     col4     col5     col6     col7   col8\n",
      "------------- -------- -------- -------- -------- -------- -------- ----\n",
      "1.14609908376 0.491743 0.483059 0.503163 0.493743 0.485059 0.505163    9\n"
     ]
    },
    {
     "name": "stderr",
     "output_type": "stream",
     "text": [
      "Parsing Hierarchy : 100%|█████████████████| 7962/7962 [00:00<00:00, 8527.45it/s]\n",
      "yt : [INFO     ] 2022-07-13 19:20:06,853 Gathering a field list (this may take a moment.)\n",
      "yt : [WARNING  ] 2022-07-13 19:20:11,455 The stars particle filter already exists. Overriding.\n",
      "yt : [WARNING  ] 2022-07-13 19:20:11,456 The DM particle filter already exists. Overriding.\n"
     ]
    },
    {
     "name": "stdout",
     "output_type": "stream",
     "text": [
      "Pulling halo center from catalog file\n",
      "Opening snapshot /Volumes/TempestTimeSteps/DD0887/DD0887\n"
     ]
    },
    {
     "name": "stderr",
     "output_type": "stream",
     "text": [
      "yt : [INFO     ] 2022-07-13 19:20:11,639 Parameters: current_time              = 254.81652781829\n",
      "yt : [INFO     ] 2022-07-13 19:20:11,644 Parameters: domain_dimensions         = [256 256 256]\n",
      "yt : [INFO     ] 2022-07-13 19:20:11,648 Parameters: domain_left_edge          = [0. 0. 0.]\n",
      "yt : [INFO     ] 2022-07-13 19:20:11,652 Parameters: domain_right_edge         = [1. 1. 1.]\n",
      "yt : [INFO     ] 2022-07-13 19:20:11,653 Parameters: cosmological_simulation   = 1\n",
      "yt : [INFO     ] 2022-07-13 19:20:11,654 Parameters: current_redshift          = 1.1157343716912\n",
      "yt : [INFO     ] 2022-07-13 19:20:11,655 Parameters: omega_lambda              = 0.715\n",
      "yt : [INFO     ] 2022-07-13 19:20:11,656 Parameters: omega_matter              = 0.285\n",
      "yt : [INFO     ] 2022-07-13 19:20:11,657 Parameters: omega_radiation           = 0.0\n",
      "yt : [INFO     ] 2022-07-13 19:20:11,658 Parameters: hubble_constant           = 0.695\n"
     ]
    },
    {
     "name": "stdout",
     "output_type": "stream",
     "text": [
      "get_refine_box: using this location:      col1       col2     col3     col4     col5     col6     col7   col8\n",
      "------------- -------- -------- -------- -------- -------- -------- ----\n",
      "1.11573437169 0.491684 0.482832 0.503258 0.493684 0.484832 0.505258    9\n"
     ]
    },
    {
     "name": "stderr",
     "output_type": "stream",
     "text": [
      "Parsing Hierarchy : 100%|█████████████████| 7394/7394 [00:00<00:00, 8515.68it/s]\n",
      "yt : [INFO     ] 2022-07-13 19:20:13,093 Gathering a field list (this may take a moment.)\n",
      "yt : [WARNING  ] 2022-07-13 19:20:17,849 The stars particle filter already exists. Overriding.\n",
      "yt : [WARNING  ] 2022-07-13 19:20:17,850 The DM particle filter already exists. Overriding.\n"
     ]
    },
    {
     "name": "stdout",
     "output_type": "stream",
     "text": [
      "Pulling halo center from catalog file\n",
      "Opening snapshot /Volumes/TempestTimeSteps/DD0907/DD0907\n"
     ]
    },
    {
     "name": "stderr",
     "output_type": "stream",
     "text": [
      "yt : [INFO     ] 2022-07-13 19:20:18,132 Parameters: current_time              = 259.81652781829\n",
      "yt : [INFO     ] 2022-07-13 19:20:18,136 Parameters: domain_dimensions         = [256 256 256]\n",
      "yt : [INFO     ] 2022-07-13 19:20:18,140 Parameters: domain_left_edge          = [0. 0. 0.]\n",
      "yt : [INFO     ] 2022-07-13 19:20:18,144 Parameters: domain_right_edge         = [1. 1. 1.]\n",
      "yt : [INFO     ] 2022-07-13 19:20:18,145 Parameters: cosmological_simulation   = 1\n",
      "yt : [INFO     ] 2022-07-13 19:20:18,146 Parameters: current_redshift          = 1.0862932762982\n",
      "yt : [INFO     ] 2022-07-13 19:20:18,147 Parameters: omega_lambda              = 0.715\n",
      "yt : [INFO     ] 2022-07-13 19:20:18,148 Parameters: omega_matter              = 0.285\n",
      "yt : [INFO     ] 2022-07-13 19:20:18,149 Parameters: omega_radiation           = 0.0\n",
      "yt : [INFO     ] 2022-07-13 19:20:18,151 Parameters: hubble_constant           = 0.695\n"
     ]
    },
    {
     "name": "stdout",
     "output_type": "stream",
     "text": [
      "get_refine_box: using this location:     col1       col2     col3     col4    col5     col6     col7  col8\n",
      "------------ -------- -------- ------- -------- -------- ------- ----\n",
      "1.0862932763 0.491633 0.482603 0.50335 0.493633 0.484603 0.50535    9\n"
     ]
    },
    {
     "name": "stderr",
     "output_type": "stream",
     "text": [
      "Parsing Hierarchy : 100%|█████████████████| 7350/7350 [00:00<00:00, 8468.68it/s]\n",
      "yt : [INFO     ] 2022-07-13 19:20:19,523 Gathering a field list (this may take a moment.)\n",
      "yt : [WARNING  ] 2022-07-13 19:20:24,216 The stars particle filter already exists. Overriding.\n",
      "yt : [WARNING  ] 2022-07-13 19:20:24,217 The DM particle filter already exists. Overriding.\n"
     ]
    },
    {
     "name": "stdout",
     "output_type": "stream",
     "text": [
      "Pulling halo center from catalog file\n",
      "Opening snapshot /Volumes/TempestTimeSteps/DD0927/DD0927\n"
     ]
    },
    {
     "name": "stderr",
     "output_type": "stream",
     "text": [
      "yt : [INFO     ] 2022-07-13 19:20:24,406 Parameters: current_time              = 264.81652781829\n",
      "yt : [INFO     ] 2022-07-13 19:20:24,410 Parameters: domain_dimensions         = [256 256 256]\n",
      "yt : [INFO     ] 2022-07-13 19:20:24,415 Parameters: domain_left_edge          = [0. 0. 0.]\n",
      "yt : [INFO     ] 2022-07-13 19:20:24,419 Parameters: domain_right_edge         = [1. 1. 1.]\n",
      "yt : [INFO     ] 2022-07-13 19:20:24,420 Parameters: cosmological_simulation   = 1\n",
      "yt : [INFO     ] 2022-07-13 19:20:24,421 Parameters: current_redshift          = 1.0577290327654\n",
      "yt : [INFO     ] 2022-07-13 19:20:24,422 Parameters: omega_lambda              = 0.715\n",
      "yt : [INFO     ] 2022-07-13 19:20:24,423 Parameters: omega_matter              = 0.285\n",
      "yt : [INFO     ] 2022-07-13 19:20:24,424 Parameters: omega_radiation           = 0.0\n",
      "yt : [INFO     ] 2022-07-13 19:20:24,425 Parameters: hubble_constant           = 0.695\n"
     ]
    },
    {
     "name": "stdout",
     "output_type": "stream",
     "text": [
      "get_refine_box: using this location:      col1       col2     col3    col4     col5     col6    col7   col8\n",
      "------------- -------- ------- -------- -------- ------- -------- ----\n",
      "1.05772903277 0.491583 0.48238 0.503437 0.493583 0.48438 0.505437    9\n"
     ]
    },
    {
     "name": "stderr",
     "output_type": "stream",
     "text": [
      "Parsing Hierarchy : 100%|█████████████████| 6595/6595 [00:03<00:00, 1686.82it/s]\n",
      "yt : [INFO     ] 2022-07-13 19:20:28,886 Gathering a field list (this may take a moment.)\n",
      "yt : [WARNING  ] 2022-07-13 19:20:33,831 The stars particle filter already exists. Overriding.\n",
      "yt : [WARNING  ] 2022-07-13 19:20:33,832 The DM particle filter already exists. Overriding.\n"
     ]
    },
    {
     "name": "stdout",
     "output_type": "stream",
     "text": [
      "Pulling halo center from catalog file\n",
      "Opening snapshot /Volumes/TempestTimeSteps/DD0947/DD0947\n"
     ]
    },
    {
     "name": "stderr",
     "output_type": "stream",
     "text": [
      "yt : [INFO     ] 2022-07-13 19:20:34,017 Parameters: current_time              = 269.81652781829\n",
      "yt : [INFO     ] 2022-07-13 19:20:34,021 Parameters: domain_dimensions         = [256 256 256]\n",
      "yt : [INFO     ] 2022-07-13 19:20:34,025 Parameters: domain_left_edge          = [0. 0. 0.]\n",
      "yt : [INFO     ] 2022-07-13 19:20:34,030 Parameters: domain_right_edge         = [1. 1. 1.]\n",
      "yt : [INFO     ] 2022-07-13 19:20:34,031 Parameters: cosmological_simulation   = 1\n",
      "yt : [INFO     ] 2022-07-13 19:20:34,031 Parameters: current_redshift          = 1.0299980743789\n",
      "yt : [INFO     ] 2022-07-13 19:20:34,032 Parameters: omega_lambda              = 0.715\n",
      "yt : [INFO     ] 2022-07-13 19:20:34,034 Parameters: omega_matter              = 0.285\n",
      "yt : [INFO     ] 2022-07-13 19:20:34,035 Parameters: omega_radiation           = 0.0\n",
      "yt : [INFO     ] 2022-07-13 19:20:34,036 Parameters: hubble_constant           = 0.695\n"
     ]
    },
    {
     "name": "stdout",
     "output_type": "stream",
     "text": [
      "get_refine_box: using this location:      col1       col2     col3     col4     col5     col6     col7   col8\n",
      "------------- -------- -------- -------- -------- -------- -------- ----\n",
      "1.02999807438 0.491539 0.482157 0.503523 0.493539 0.484157 0.505523    9\n"
     ]
    },
    {
     "name": "stderr",
     "output_type": "stream",
     "text": [
      "Parsing Hierarchy : 100%|█████████████████| 6486/6486 [00:00<00:00, 8583.46it/s]\n",
      "yt : [INFO     ] 2022-07-13 19:20:35,324 Gathering a field list (this may take a moment.)\n",
      "yt : [WARNING  ] 2022-07-13 19:20:40,066 The stars particle filter already exists. Overriding.\n",
      "yt : [WARNING  ] 2022-07-13 19:20:40,067 The DM particle filter already exists. Overriding.\n"
     ]
    },
    {
     "name": "stdout",
     "output_type": "stream",
     "text": [
      "Pulling halo center from catalog file\n",
      "Opening snapshot /Volumes/TempestTimeSteps/DD0967/DD0967\n"
     ]
    },
    {
     "name": "stderr",
     "output_type": "stream",
     "text": [
      "yt : [INFO     ] 2022-07-13 19:20:40,254 Parameters: current_time              = 274.56652781829\n",
      "yt : [INFO     ] 2022-07-13 19:20:40,258 Parameters: domain_dimensions         = [256 256 256]\n",
      "yt : [INFO     ] 2022-07-13 19:20:40,263 Parameters: domain_left_edge          = [0. 0. 0.]\n",
      "yt : [INFO     ] 2022-07-13 19:20:40,268 Parameters: domain_right_edge         = [1. 1. 1.]\n",
      "yt : [INFO     ] 2022-07-13 19:20:40,269 Parameters: cosmological_simulation   = 1\n",
      "yt : [INFO     ] 2022-07-13 19:20:40,270 Parameters: current_redshift          = 1.0043884467376\n",
      "yt : [INFO     ] 2022-07-13 19:20:40,271 Parameters: omega_lambda              = 0.715\n",
      "yt : [INFO     ] 2022-07-13 19:20:40,272 Parameters: omega_matter              = 0.285\n",
      "yt : [INFO     ] 2022-07-13 19:20:40,273 Parameters: omega_radiation           = 0.0\n",
      "yt : [INFO     ] 2022-07-13 19:20:40,274 Parameters: hubble_constant           = 0.695\n"
     ]
    },
    {
     "name": "stdout",
     "output_type": "stream",
     "text": [
      "get_refine_box: using this location:      col1       col2     col3     col4     col5     col6     col7   col8\n",
      "------------- -------- -------- -------- -------- -------- -------- ----\n",
      "1.00438844674 0.491497 0.481944 0.503607 0.493497 0.483944 0.505607    9\n"
     ]
    },
    {
     "name": "stderr",
     "output_type": "stream",
     "text": [
      "Parsing Hierarchy : 100%|█████████████████| 5908/5908 [00:00<00:00, 8505.22it/s]\n",
      "yt : [INFO     ] 2022-07-13 19:20:41,484 Gathering a field list (this may take a moment.)\n",
      "yt : [WARNING  ] 2022-07-13 19:20:46,252 The stars particle filter already exists. Overriding.\n",
      "yt : [WARNING  ] 2022-07-13 19:20:46,254 The DM particle filter already exists. Overriding.\n"
     ]
    },
    {
     "name": "stdout",
     "output_type": "stream",
     "text": [
      "Pulling halo center from catalog file\n",
      "Opening snapshot /Volumes/TempestTimeSteps/DD0987/DD0987\n"
     ]
    },
    {
     "name": "stderr",
     "output_type": "stream",
     "text": [
      "yt : [INFO     ] 2022-07-13 19:20:46,494 Parameters: current_time              = 279.56652781829\n",
      "yt : [INFO     ] 2022-07-13 19:20:46,498 Parameters: domain_dimensions         = [256 256 256]\n",
      "yt : [INFO     ] 2022-07-13 19:20:46,503 Parameters: domain_left_edge          = [0. 0. 0.]\n",
      "yt : [INFO     ] 2022-07-13 19:20:46,507 Parameters: domain_right_edge         = [1. 1. 1.]\n",
      "yt : [INFO     ] 2022-07-13 19:20:46,508 Parameters: cosmological_simulation   = 1\n",
      "yt : [INFO     ] 2022-07-13 19:20:46,509 Parameters: current_redshift          = 0.97816794442974\n",
      "yt : [INFO     ] 2022-07-13 19:20:46,511 Parameters: omega_lambda              = 0.715\n",
      "yt : [INFO     ] 2022-07-13 19:20:46,512 Parameters: omega_matter              = 0.285\n",
      "yt : [INFO     ] 2022-07-13 19:20:46,513 Parameters: omega_radiation           = 0.0\n",
      "yt : [INFO     ] 2022-07-13 19:20:46,514 Parameters: hubble_constant           = 0.695\n"
     ]
    },
    {
     "name": "stdout",
     "output_type": "stream",
     "text": [
      "get_refine_box: using this location:      col1       col2     col3     col4     col5     col6     col7   col8\n",
      "------------- -------- -------- -------- -------- -------- -------- ----\n",
      "0.97816794443 0.491452 0.481724 0.503697 0.493452 0.483724 0.505697    9\n"
     ]
    },
    {
     "name": "stderr",
     "output_type": "stream",
     "text": [
      "Parsing Hierarchy : 100%|█████████████████| 5704/5704 [00:01<00:00, 4529.99it/s]\n",
      "yt : [INFO     ] 2022-07-13 19:20:48,479 Gathering a field list (this may take a moment.)\n",
      "yt : [WARNING  ] 2022-07-13 19:20:53,222 The stars particle filter already exists. Overriding.\n",
      "yt : [WARNING  ] 2022-07-13 19:20:53,224 The DM particle filter already exists. Overriding.\n"
     ]
    },
    {
     "name": "stdout",
     "output_type": "stream",
     "text": [
      "Pulling halo center from catalog file\n",
      "Opening snapshot /Volumes/TempestTimeSteps/DD1007/DD1007\n"
     ]
    },
    {
     "name": "stderr",
     "output_type": "stream",
     "text": [
      "yt : [INFO     ] 2022-07-13 19:20:53,482 Parameters: current_time              = 284.56652781829\n",
      "yt : [INFO     ] 2022-07-13 19:20:53,486 Parameters: domain_dimensions         = [256 256 256]\n",
      "yt : [INFO     ] 2022-07-13 19:20:53,491 Parameters: domain_left_edge          = [0. 0. 0.]\n",
      "yt : [INFO     ] 2022-07-13 19:20:53,496 Parameters: domain_right_edge         = [1. 1. 1.]\n",
      "yt : [INFO     ] 2022-07-13 19:20:53,497 Parameters: cosmological_simulation   = 1\n",
      "yt : [INFO     ] 2022-07-13 19:20:53,498 Parameters: current_redshift          = 0.95266834518911\n",
      "yt : [INFO     ] 2022-07-13 19:20:53,500 Parameters: omega_lambda              = 0.715\n",
      "yt : [INFO     ] 2022-07-13 19:20:53,501 Parameters: omega_matter              = 0.285\n",
      "yt : [INFO     ] 2022-07-13 19:20:53,502 Parameters: omega_radiation           = 0.0\n",
      "yt : [INFO     ] 2022-07-13 19:20:53,503 Parameters: hubble_constant           = 0.695\n"
     ]
    },
    {
     "name": "stdout",
     "output_type": "stream",
     "text": [
      "get_refine_box: using this location:      col1        col2     col3     col4     col5     col6     col7   col8\n",
      "-------------- -------- -------- -------- -------- -------- -------- ----\n",
      "0.952668345189 0.491404 0.481507 0.503786 0.493404 0.483507 0.505786    9\n"
     ]
    },
    {
     "name": "stderr",
     "output_type": "stream",
     "text": [
      "Parsing Hierarchy : 100%|█████████████████| 5544/5544 [00:00<00:00, 7994.89it/s]\n",
      "yt : [INFO     ] 2022-07-13 19:20:54,643 Gathering a field list (this may take a moment.)\n",
      "yt : [WARNING  ] 2022-07-13 19:20:59,286 The stars particle filter already exists. Overriding.\n",
      "yt : [WARNING  ] 2022-07-13 19:20:59,287 The DM particle filter already exists. Overriding.\n"
     ]
    },
    {
     "name": "stdout",
     "output_type": "stream",
     "text": [
      "Pulling halo center from catalog file\n",
      "Opening snapshot /Volumes/TempestTimeSteps/DD1027/DD1027\n"
     ]
    },
    {
     "name": "stderr",
     "output_type": "stream",
     "text": [
      "yt : [INFO     ] 2022-07-13 19:20:59,542 Parameters: current_time              = 289.56652781829\n",
      "yt : [INFO     ] 2022-07-13 19:20:59,546 Parameters: domain_dimensions         = [256 256 256]\n",
      "yt : [INFO     ] 2022-07-13 19:20:59,550 Parameters: domain_left_edge          = [0. 0. 0.]\n",
      "yt : [INFO     ] 2022-07-13 19:20:59,554 Parameters: domain_right_edge         = [1. 1. 1.]\n",
      "yt : [INFO     ] 2022-07-13 19:20:59,556 Parameters: cosmological_simulation   = 1\n",
      "yt : [INFO     ] 2022-07-13 19:20:59,556 Parameters: current_redshift          = 0.92785630164072\n",
      "yt : [INFO     ] 2022-07-13 19:20:59,557 Parameters: omega_lambda              = 0.715\n",
      "yt : [INFO     ] 2022-07-13 19:20:59,559 Parameters: omega_matter              = 0.285\n",
      "yt : [INFO     ] 2022-07-13 19:20:59,560 Parameters: omega_radiation           = 0.0\n",
      "yt : [INFO     ] 2022-07-13 19:20:59,561 Parameters: hubble_constant           = 0.695\n"
     ]
    },
    {
     "name": "stdout",
     "output_type": "stream",
     "text": [
      "get_refine_box: using this location:      col1        col2     col3     col4     col5     col6     col7   col8\n",
      "-------------- -------- -------- -------- -------- -------- -------- ----\n",
      "0.927856301641 0.491352 0.481291 0.503872 0.493352 0.483291 0.505872    9\n"
     ]
    },
    {
     "name": "stderr",
     "output_type": "stream",
     "text": [
      "Parsing Hierarchy : 100%|█████████████████| 5326/5326 [00:00<00:00, 8525.76it/s]\n",
      "yt : [INFO     ] 2022-07-13 19:21:00,585 Gathering a field list (this may take a moment.)\n",
      "yt : [WARNING  ] 2022-07-13 19:21:05,180 The stars particle filter already exists. Overriding.\n",
      "yt : [WARNING  ] 2022-07-13 19:21:05,181 The DM particle filter already exists. Overriding.\n"
     ]
    },
    {
     "name": "stdout",
     "output_type": "stream",
     "text": [
      "Pulling halo center from catalog file\n",
      "Opening snapshot /Volumes/TempestTimeSteps/DD1047/DD1047\n"
     ]
    },
    {
     "name": "stderr",
     "output_type": "stream",
     "text": [
      "yt : [INFO     ] 2022-07-13 19:21:05,434 Parameters: current_time              = 294.56652781829\n",
      "yt : [INFO     ] 2022-07-13 19:21:05,438 Parameters: domain_dimensions         = [256 256 256]\n",
      "yt : [INFO     ] 2022-07-13 19:21:05,442 Parameters: domain_left_edge          = [0. 0. 0.]\n",
      "yt : [INFO     ] 2022-07-13 19:21:05,447 Parameters: domain_right_edge         = [1. 1. 1.]\n",
      "yt : [INFO     ] 2022-07-13 19:21:05,448 Parameters: cosmological_simulation   = 1\n",
      "yt : [INFO     ] 2022-07-13 19:21:05,448 Parameters: current_redshift          = 0.90370055679921\n",
      "yt : [INFO     ] 2022-07-13 19:21:05,450 Parameters: omega_lambda              = 0.715\n",
      "yt : [INFO     ] 2022-07-13 19:21:05,451 Parameters: omega_matter              = 0.285\n",
      "yt : [INFO     ] 2022-07-13 19:21:05,452 Parameters: omega_radiation           = 0.0\n",
      "yt : [INFO     ] 2022-07-13 19:21:05,453 Parameters: hubble_constant           = 0.695\n"
     ]
    },
    {
     "name": "stdout",
     "output_type": "stream",
     "text": [
      "get_refine_box: using this location:      col1        col2     col3    col4     col5     col6    col7   col8\n",
      "-------------- -------- ------- -------- -------- ------- -------- ----\n",
      "0.903700556799 0.491301 0.48108 0.503952 0.493301 0.48308 0.505952    9\n"
     ]
    },
    {
     "name": "stderr",
     "output_type": "stream",
     "text": [
      "Parsing Hierarchy : 100%|█████████████████| 5246/5246 [00:00<00:00, 8576.81it/s]\n",
      "yt : [INFO     ] 2022-07-13 19:21:06,457 Gathering a field list (this may take a moment.)\n",
      "yt : [WARNING  ] 2022-07-13 19:21:11,142 The stars particle filter already exists. Overriding.\n",
      "yt : [WARNING  ] 2022-07-13 19:21:11,143 The DM particle filter already exists. Overriding.\n"
     ]
    },
    {
     "name": "stdout",
     "output_type": "stream",
     "text": [
      "Pulling halo center from catalog file\n",
      "Opening snapshot /Volumes/TempestTimeSteps/DD1067/DD1067\n"
     ]
    },
    {
     "name": "stderr",
     "output_type": "stream",
     "text": [
      "yt : [INFO     ] 2022-07-13 19:21:11,392 Parameters: current_time              = 299.56652781829\n",
      "yt : [INFO     ] 2022-07-13 19:21:11,397 Parameters: domain_dimensions         = [256 256 256]\n",
      "yt : [INFO     ] 2022-07-13 19:21:11,401 Parameters: domain_left_edge          = [0. 0. 0.]\n",
      "yt : [INFO     ] 2022-07-13 19:21:11,405 Parameters: domain_right_edge         = [1. 1. 1.]\n",
      "yt : [INFO     ] 2022-07-13 19:21:11,406 Parameters: cosmological_simulation   = 1\n",
      "yt : [INFO     ] 2022-07-13 19:21:11,407 Parameters: current_redshift          = 0.88017178065176\n",
      "yt : [INFO     ] 2022-07-13 19:21:11,408 Parameters: omega_lambda              = 0.715\n",
      "yt : [INFO     ] 2022-07-13 19:21:11,409 Parameters: omega_matter              = 0.285\n",
      "yt : [INFO     ] 2022-07-13 19:21:11,411 Parameters: omega_radiation           = 0.0\n",
      "yt : [INFO     ] 2022-07-13 19:21:11,412 Parameters: hubble_constant           = 0.695\n"
     ]
    },
    {
     "name": "stdout",
     "output_type": "stream",
     "text": [
      "get_refine_box: using this location:      col1        col2     col3     col4     col5     col6     col7   col8\n",
      "-------------- -------- -------- -------- -------- -------- -------- ----\n",
      "0.880171780652 0.491244 0.480872 0.504027 0.493244 0.482872 0.506027    9\n"
     ]
    },
    {
     "name": "stderr",
     "output_type": "stream",
     "text": [
      "Parsing Hierarchy : 100%|█████████████████| 5244/5244 [00:00<00:00, 8485.09it/s]\n",
      "yt : [INFO     ] 2022-07-13 19:21:12,427 Gathering a field list (this may take a moment.)\n",
      "yt : [WARNING  ] 2022-07-13 19:21:17,076 The stars particle filter already exists. Overriding.\n",
      "yt : [WARNING  ] 2022-07-13 19:21:17,077 The DM particle filter already exists. Overriding.\n"
     ]
    },
    {
     "name": "stdout",
     "output_type": "stream",
     "text": [
      "Pulling halo center from catalog file\n",
      "Opening snapshot /Volumes/TempestTimeSteps/DD1087/DD1087\n"
     ]
    },
    {
     "name": "stderr",
     "output_type": "stream",
     "text": [
      "yt : [INFO     ] 2022-07-13 19:21:17,340 Parameters: current_time              = 304.56652781829\n",
      "yt : [INFO     ] 2022-07-13 19:21:17,344 Parameters: domain_dimensions         = [256 256 256]\n",
      "yt : [INFO     ] 2022-07-13 19:21:17,348 Parameters: domain_left_edge          = [0. 0. 0.]\n",
      "yt : [INFO     ] 2022-07-13 19:21:17,352 Parameters: domain_right_edge         = [1. 1. 1.]\n",
      "yt : [INFO     ] 2022-07-13 19:21:17,354 Parameters: cosmological_simulation   = 1\n",
      "yt : [INFO     ] 2022-07-13 19:21:17,354 Parameters: current_redshift          = 0.85724242198899\n",
      "yt : [INFO     ] 2022-07-13 19:21:17,355 Parameters: omega_lambda              = 0.715\n",
      "yt : [INFO     ] 2022-07-13 19:21:17,356 Parameters: omega_matter              = 0.285\n",
      "yt : [INFO     ] 2022-07-13 19:21:17,357 Parameters: omega_radiation           = 0.0\n",
      "yt : [INFO     ] 2022-07-13 19:21:17,359 Parameters: hubble_constant           = 0.695\n"
     ]
    },
    {
     "name": "stdout",
     "output_type": "stream",
     "text": [
      "get_refine_box: using this location:      col1        col2     col3     col4     col5     col6     col7   col8\n",
      "-------------- -------- -------- -------- -------- -------- -------- ----\n",
      "0.857242421989 0.491192 0.480668 0.504092 0.493192 0.482668 0.506092    9\n"
     ]
    },
    {
     "name": "stderr",
     "output_type": "stream",
     "text": [
      "Parsing Hierarchy : 100%|█████████████████| 5163/5163 [00:00<00:00, 8426.80it/s]\n",
      "yt : [INFO     ] 2022-07-13 19:21:18,369 Gathering a field list (this may take a moment.)\n",
      "yt : [WARNING  ] 2022-07-13 19:21:22,947 The stars particle filter already exists. Overriding.\n",
      "yt : [WARNING  ] 2022-07-13 19:21:22,948 The DM particle filter already exists. Overriding.\n"
     ]
    },
    {
     "name": "stdout",
     "output_type": "stream",
     "text": [
      "Pulling halo center from catalog file\n",
      "Opening snapshot /Volumes/TempestTimeSteps/DD1107/DD1107\n"
     ]
    },
    {
     "name": "stderr",
     "output_type": "stream",
     "text": [
      "yt : [INFO     ] 2022-07-13 19:21:23,211 Parameters: current_time              = 309.56652781829\n",
      "yt : [INFO     ] 2022-07-13 19:21:23,215 Parameters: domain_dimensions         = [256 256 256]\n",
      "yt : [INFO     ] 2022-07-13 19:21:23,220 Parameters: domain_left_edge          = [0. 0. 0.]\n",
      "yt : [INFO     ] 2022-07-13 19:21:23,224 Parameters: domain_right_edge         = [1. 1. 1.]\n",
      "yt : [INFO     ] 2022-07-13 19:21:23,225 Parameters: cosmological_simulation   = 1\n",
      "yt : [INFO     ] 2022-07-13 19:21:23,226 Parameters: current_redshift          = 0.83488657383741\n",
      "yt : [INFO     ] 2022-07-13 19:21:23,227 Parameters: omega_lambda              = 0.715\n",
      "yt : [INFO     ] 2022-07-13 19:21:23,228 Parameters: omega_matter              = 0.285\n",
      "yt : [INFO     ] 2022-07-13 19:21:23,229 Parameters: omega_radiation           = 0.0\n",
      "yt : [INFO     ] 2022-07-13 19:21:23,232 Parameters: hubble_constant           = 0.695\n"
     ]
    },
    {
     "name": "stdout",
     "output_type": "stream",
     "text": [
      "get_refine_box: using this location:       col1         col2     col3     col4     col5     col6     col7   col8\n",
      "---------------- -------- -------- -------- -------- -------- -------- ----\n",
      "0.83488657383741 0.491154 0.480465 0.504151 0.493154 0.482465 0.506151    9\n"
     ]
    },
    {
     "name": "stderr",
     "output_type": "stream",
     "text": [
      "Parsing Hierarchy : 100%|█████████████████| 5231/5231 [00:00<00:00, 8408.80it/s]\n",
      "yt : [INFO     ] 2022-07-13 19:21:24,249 Gathering a field list (this may take a moment.)\n",
      "yt : [WARNING  ] 2022-07-13 19:21:28,973 The stars particle filter already exists. Overriding.\n",
      "yt : [WARNING  ] 2022-07-13 19:21:28,974 The DM particle filter already exists. Overriding.\n"
     ]
    },
    {
     "name": "stdout",
     "output_type": "stream",
     "text": [
      "Pulling halo center from catalog file\n",
      "Opening snapshot /Volumes/TempestTimeSteps/DD1127/DD1127\n"
     ]
    },
    {
     "name": "stderr",
     "output_type": "stream",
     "text": [
      "yt : [INFO     ] 2022-07-13 19:21:29,237 Parameters: current_time              = 314.56652781829\n",
      "yt : [INFO     ] 2022-07-13 19:21:29,242 Parameters: domain_dimensions         = [256 256 256]\n",
      "yt : [INFO     ] 2022-07-13 19:21:29,246 Parameters: domain_left_edge          = [0. 0. 0.]\n",
      "yt : [INFO     ] 2022-07-13 19:21:29,250 Parameters: domain_right_edge         = [1. 1. 1.]\n",
      "yt : [INFO     ] 2022-07-13 19:21:29,251 Parameters: cosmological_simulation   = 1\n",
      "yt : [INFO     ] 2022-07-13 19:21:29,252 Parameters: current_redshift          = 0.81307985104783\n",
      "yt : [INFO     ] 2022-07-13 19:21:29,253 Parameters: omega_lambda              = 0.715\n",
      "yt : [INFO     ] 2022-07-13 19:21:29,254 Parameters: omega_matter              = 0.285\n",
      "yt : [INFO     ] 2022-07-13 19:21:29,255 Parameters: omega_radiation           = 0.0\n",
      "yt : [INFO     ] 2022-07-13 19:21:29,256 Parameters: hubble_constant           = 0.695\n"
     ]
    },
    {
     "name": "stdout",
     "output_type": "stream",
     "text": [
      "get_refine_box: using this location:       col1         col2     col3     col4     col5     col6     col7   col8\n",
      "---------------- -------- -------- -------- -------- -------- -------- ----\n",
      "0.81307985104783 0.491127 0.480267 0.504221 0.493127 0.482267 0.506221    9\n"
     ]
    },
    {
     "name": "stderr",
     "output_type": "stream",
     "text": [
      "Parsing Hierarchy : 100%|█████████████████| 5553/5553 [00:00<00:00, 8487.41it/s]\n",
      "yt : [INFO     ] 2022-07-13 19:21:30,329 Gathering a field list (this may take a moment.)\n",
      "yt : [WARNING  ] 2022-07-13 19:21:34,974 The stars particle filter already exists. Overriding.\n",
      "yt : [WARNING  ] 2022-07-13 19:21:34,975 The DM particle filter already exists. Overriding.\n"
     ]
    },
    {
     "name": "stdout",
     "output_type": "stream",
     "text": [
      "Pulling halo center from catalog file\n",
      "Opening snapshot /Volumes/TempestTimeSteps/DD1147/DD1147\n"
     ]
    },
    {
     "name": "stderr",
     "output_type": "stream",
     "text": [
      "yt : [INFO     ] 2022-07-13 19:21:35,232 Parameters: current_time              = 319.56652781829\n",
      "yt : [INFO     ] 2022-07-13 19:21:35,236 Parameters: domain_dimensions         = [256 256 256]\n",
      "yt : [INFO     ] 2022-07-13 19:21:35,241 Parameters: domain_left_edge          = [0. 0. 0.]\n",
      "yt : [INFO     ] 2022-07-13 19:21:35,245 Parameters: domain_right_edge         = [1. 1. 1.]\n",
      "yt : [INFO     ] 2022-07-13 19:21:35,246 Parameters: cosmological_simulation   = 1\n",
      "yt : [INFO     ] 2022-07-13 19:21:35,247 Parameters: current_redshift          = 0.79179927876823\n",
      "yt : [INFO     ] 2022-07-13 19:21:35,248 Parameters: omega_lambda              = 0.715\n",
      "yt : [INFO     ] 2022-07-13 19:21:35,249 Parameters: omega_matter              = 0.285\n",
      "yt : [INFO     ] 2022-07-13 19:21:35,250 Parameters: omega_radiation           = 0.0\n",
      "yt : [INFO     ] 2022-07-13 19:21:35,252 Parameters: hubble_constant           = 0.695\n"
     ]
    },
    {
     "name": "stdout",
     "output_type": "stream",
     "text": [
      "get_refine_box: using this location:       col1         col2     col3    col4    col5     col6    col7  col8\n",
      "---------------- -------- -------- ------ -------- -------- ------ ----\n",
      "0.79179927876823 0.491095 0.480072 0.5043 0.493095 0.482072 0.5063    9\n"
     ]
    },
    {
     "name": "stderr",
     "output_type": "stream",
     "text": [
      "Parsing Hierarchy : 100%|█████████████████| 5902/5902 [00:00<00:00, 8570.18it/s]\n",
      "yt : [INFO     ] 2022-07-13 19:21:36,372 Gathering a field list (this may take a moment.)\n",
      "yt : [WARNING  ] 2022-07-13 19:21:41,058 The stars particle filter already exists. Overriding.\n",
      "yt : [WARNING  ] 2022-07-13 19:21:41,059 The DM particle filter already exists. Overriding.\n"
     ]
    },
    {
     "name": "stdout",
     "output_type": "stream",
     "text": [
      "Pulling halo center from catalog file\n",
      "Opening snapshot /Volumes/TempestTimeSteps/DD1167/DD1167\n"
     ]
    },
    {
     "name": "stderr",
     "output_type": "stream",
     "text": [
      "yt : [INFO     ] 2022-07-13 19:21:41,314 Parameters: current_time              = 324.56652781829\n",
      "yt : [INFO     ] 2022-07-13 19:21:41,319 Parameters: domain_dimensions         = [256 256 256]\n",
      "yt : [INFO     ] 2022-07-13 19:21:41,324 Parameters: domain_left_edge          = [0. 0. 0.]\n",
      "yt : [INFO     ] 2022-07-13 19:21:41,328 Parameters: domain_right_edge         = [1. 1. 1.]\n",
      "yt : [INFO     ] 2022-07-13 19:21:41,329 Parameters: cosmological_simulation   = 1\n",
      "yt : [INFO     ] 2022-07-13 19:21:41,330 Parameters: current_redshift          = 0.77102319068022\n",
      "yt : [INFO     ] 2022-07-13 19:21:41,331 Parameters: omega_lambda              = 0.715\n",
      "yt : [INFO     ] 2022-07-13 19:21:41,332 Parameters: omega_matter              = 0.285\n",
      "yt : [INFO     ] 2022-07-13 19:21:41,333 Parameters: omega_radiation           = 0.0\n",
      "yt : [INFO     ] 2022-07-13 19:21:41,334 Parameters: hubble_constant           = 0.695\n"
     ]
    },
    {
     "name": "stdout",
     "output_type": "stream",
     "text": [
      "get_refine_box: using this location:       col1         col2     col3     col4     col5     col6     col7   col8\n",
      "---------------- -------- -------- -------- -------- -------- -------- ----\n",
      "0.77102319068022 0.491061 0.479878 0.504383 0.493061 0.481878 0.506383    9\n"
     ]
    },
    {
     "name": "stderr",
     "output_type": "stream",
     "text": [
      "Parsing Hierarchy : 100%|█████████████████| 6312/6312 [00:04<00:00, 1350.37it/s]\n",
      "yt : [INFO     ] 2022-07-13 19:21:46,504 Gathering a field list (this may take a moment.)\n",
      "yt : [WARNING  ] 2022-07-13 19:21:51,265 The stars particle filter already exists. Overriding.\n",
      "yt : [WARNING  ] 2022-07-13 19:21:51,266 The DM particle filter already exists. Overriding.\n"
     ]
    },
    {
     "name": "stdout",
     "output_type": "stream",
     "text": [
      "Pulling halo center from catalog file\n",
      "Opening snapshot /Volumes/TempestTimeSteps/DD1187/DD1187\n"
     ]
    },
    {
     "name": "stderr",
     "output_type": "stream",
     "text": [
      "yt : [INFO     ] 2022-07-13 19:21:51,525 Parameters: current_time              = 329.56652781829\n",
      "yt : [INFO     ] 2022-07-13 19:21:51,529 Parameters: domain_dimensions         = [256 256 256]\n",
      "yt : [INFO     ] 2022-07-13 19:21:51,534 Parameters: domain_left_edge          = [0. 0. 0.]\n",
      "yt : [INFO     ] 2022-07-13 19:21:51,538 Parameters: domain_right_edge         = [1. 1. 1.]\n",
      "yt : [INFO     ] 2022-07-13 19:21:51,540 Parameters: cosmological_simulation   = 1\n",
      "yt : [INFO     ] 2022-07-13 19:21:51,541 Parameters: current_redshift          = 0.75073113600866\n",
      "yt : [INFO     ] 2022-07-13 19:21:51,542 Parameters: omega_lambda              = 0.715\n",
      "yt : [INFO     ] 2022-07-13 19:21:51,543 Parameters: omega_matter              = 0.285\n",
      "yt : [INFO     ] 2022-07-13 19:21:51,544 Parameters: omega_radiation           = 0.0\n",
      "yt : [INFO     ] 2022-07-13 19:21:51,545 Parameters: hubble_constant           = 0.695\n"
     ]
    },
    {
     "name": "stdout",
     "output_type": "stream",
     "text": [
      "get_refine_box: using this location:       col1         col2     col3     col4     col5     col6     col7   col8\n",
      "---------------- -------- -------- -------- -------- -------- -------- ----\n",
      "0.75073113600866 0.491021 0.479683 0.504466 0.493021 0.481683 0.506466    9\n"
     ]
    },
    {
     "name": "stderr",
     "output_type": "stream",
     "text": [
      "Parsing Hierarchy : 100%|█████████████████| 5990/5990 [00:00<00:00, 8418.40it/s]\n",
      "yt : [INFO     ] 2022-07-13 19:21:52,691 Gathering a field list (this may take a moment.)\n",
      "yt : [WARNING  ] 2022-07-13 19:21:57,417 The stars particle filter already exists. Overriding.\n",
      "yt : [WARNING  ] 2022-07-13 19:21:57,419 The DM particle filter already exists. Overriding.\n"
     ]
    },
    {
     "name": "stdout",
     "output_type": "stream",
     "text": [
      "Pulling halo center from catalog file\n",
      "Opening snapshot /Volumes/TempestTimeSteps/DD1207/DD1207\n"
     ]
    },
    {
     "name": "stderr",
     "output_type": "stream",
     "text": [
      "yt : [INFO     ] 2022-07-13 19:21:57,677 Parameters: current_time              = 334.56652781829\n",
      "yt : [INFO     ] 2022-07-13 19:21:57,681 Parameters: domain_dimensions         = [256 256 256]\n",
      "yt : [INFO     ] 2022-07-13 19:21:57,685 Parameters: domain_left_edge          = [0. 0. 0.]\n",
      "yt : [INFO     ] 2022-07-13 19:21:57,689 Parameters: domain_right_edge         = [1. 1. 1.]\n",
      "yt : [INFO     ] 2022-07-13 19:21:57,690 Parameters: cosmological_simulation   = 1\n",
      "yt : [INFO     ] 2022-07-13 19:21:57,691 Parameters: current_redshift          = 0.7309037944282\n",
      "yt : [INFO     ] 2022-07-13 19:21:57,692 Parameters: omega_lambda              = 0.715\n",
      "yt : [INFO     ] 2022-07-13 19:21:57,693 Parameters: omega_matter              = 0.285\n",
      "yt : [INFO     ] 2022-07-13 19:21:57,695 Parameters: omega_radiation           = 0.0\n",
      "yt : [INFO     ] 2022-07-13 19:21:57,696 Parameters: hubble_constant           = 0.695\n"
     ]
    },
    {
     "name": "stdout",
     "output_type": "stream",
     "text": [
      "get_refine_box: using this location:       col1        col2     col3     col4     col5     col6     col7   col8\n",
      "--------------- -------- -------- -------- -------- -------- -------- ----\n",
      "0.7309037944282 0.490979 0.479485 0.504549 0.492979 0.481485 0.506549    9\n"
     ]
    },
    {
     "name": "stderr",
     "output_type": "stream",
     "text": [
      "Parsing Hierarchy : 100%|█████████████████| 5804/5804 [00:00<00:00, 8592.48it/s]\n",
      "yt : [INFO     ] 2022-07-13 19:21:58,798 Gathering a field list (this may take a moment.)\n",
      "yt : [WARNING  ] 2022-07-13 19:22:03,522 The stars particle filter already exists. Overriding.\n",
      "yt : [WARNING  ] 2022-07-13 19:22:03,523 The DM particle filter already exists. Overriding.\n"
     ]
    },
    {
     "name": "stdout",
     "output_type": "stream",
     "text": [
      "Pulling halo center from catalog file\n",
      "Opening snapshot /Volumes/TempestTimeSteps/DD1227/DD1227\n"
     ]
    },
    {
     "name": "stderr",
     "output_type": "stream",
     "text": [
      "yt : [INFO     ] 2022-07-13 19:22:03,775 Parameters: current_time              = 339.56652781829\n",
      "yt : [INFO     ] 2022-07-13 19:22:03,780 Parameters: domain_dimensions         = [256 256 256]\n",
      "yt : [INFO     ] 2022-07-13 19:22:03,784 Parameters: domain_left_edge          = [0. 0. 0.]\n",
      "yt : [INFO     ] 2022-07-13 19:22:03,788 Parameters: domain_right_edge         = [1. 1. 1.]\n",
      "yt : [INFO     ] 2022-07-13 19:22:03,789 Parameters: cosmological_simulation   = 1\n",
      "yt : [INFO     ] 2022-07-13 19:22:03,790 Parameters: current_redshift          = 0.71152289808928\n",
      "yt : [INFO     ] 2022-07-13 19:22:03,791 Parameters: omega_lambda              = 0.715\n",
      "yt : [INFO     ] 2022-07-13 19:22:03,793 Parameters: omega_matter              = 0.285\n",
      "yt : [INFO     ] 2022-07-13 19:22:03,794 Parameters: omega_radiation           = 0.0\n",
      "yt : [INFO     ] 2022-07-13 19:22:03,795 Parameters: hubble_constant           = 0.695\n"
     ]
    },
    {
     "name": "stdout",
     "output_type": "stream",
     "text": [
      "get_refine_box: using this location:       col1         col2     col3     col4     col5     col6     col7   col8\n",
      "---------------- -------- -------- -------- -------- -------- -------- ----\n",
      "0.71152289808928 0.490935 0.479287 0.504633 0.492935 0.481287 0.506633    9\n"
     ]
    },
    {
     "name": "stderr",
     "output_type": "stream",
     "text": [
      "Parsing Hierarchy : 100%|█████████████████| 5825/5825 [00:00<00:00, 8102.89it/s]\n",
      "yt : [INFO     ] 2022-07-13 19:22:04,950 Gathering a field list (this may take a moment.)\n",
      "yt : [WARNING  ] 2022-07-13 19:22:09,740 The stars particle filter already exists. Overriding.\n",
      "yt : [WARNING  ] 2022-07-13 19:22:09,742 The DM particle filter already exists. Overriding.\n"
     ]
    },
    {
     "name": "stdout",
     "output_type": "stream",
     "text": [
      "Pulling halo center from catalog file\n",
      "Opening snapshot /Volumes/TempestTimeSteps/DD1247/DD1247\n"
     ]
    },
    {
     "name": "stderr",
     "output_type": "stream",
     "text": [
      "yt : [INFO     ] 2022-07-13 19:22:10,011 Parameters: current_time              = 344.56652781829\n",
      "yt : [INFO     ] 2022-07-13 19:22:10,015 Parameters: domain_dimensions         = [256 256 256]\n",
      "yt : [INFO     ] 2022-07-13 19:22:10,019 Parameters: domain_left_edge          = [0. 0. 0.]\n",
      "yt : [INFO     ] 2022-07-13 19:22:10,024 Parameters: domain_right_edge         = [1. 1. 1.]\n",
      "yt : [INFO     ] 2022-07-13 19:22:10,025 Parameters: cosmological_simulation   = 1\n",
      "yt : [INFO     ] 2022-07-13 19:22:10,026 Parameters: current_redshift          = 0.6925711600732\n",
      "yt : [INFO     ] 2022-07-13 19:22:10,027 Parameters: omega_lambda              = 0.715\n",
      "yt : [INFO     ] 2022-07-13 19:22:10,028 Parameters: omega_matter              = 0.285\n",
      "yt : [INFO     ] 2022-07-13 19:22:10,029 Parameters: omega_radiation           = 0.0\n",
      "yt : [INFO     ] 2022-07-13 19:22:10,030 Parameters: hubble_constant           = 0.695\n"
     ]
    },
    {
     "name": "stdout",
     "output_type": "stream",
     "text": [
      "get_refine_box: using this location:       col1        col2     col3     col4     col5     col6     col7   col8\n",
      "--------------- -------- -------- -------- -------- -------- -------- ----\n",
      "0.6925711600732 0.490889 0.479086 0.504717 0.492889 0.481086 0.506717    9\n"
     ]
    },
    {
     "name": "stderr",
     "output_type": "stream",
     "text": [
      "Parsing Hierarchy : 100%|█████████████████| 5729/5729 [00:00<00:00, 8360.56it/s]\n",
      "yt : [INFO     ] 2022-07-13 19:22:11,155 Gathering a field list (this may take a moment.)\n",
      "yt : [WARNING  ] 2022-07-13 19:22:15,955 The stars particle filter already exists. Overriding.\n",
      "yt : [WARNING  ] 2022-07-13 19:22:15,957 The DM particle filter already exists. Overriding.\n"
     ]
    },
    {
     "name": "stdout",
     "output_type": "stream",
     "text": [
      "Pulling halo center from catalog file\n",
      "Opening snapshot /Volumes/TempestTimeSteps/DD1267/DD1267\n"
     ]
    },
    {
     "name": "stderr",
     "output_type": "stream",
     "text": [
      "yt : [INFO     ] 2022-07-13 19:22:16,152 Parameters: current_time              = 349.56652781829\n",
      "yt : [INFO     ] 2022-07-13 19:22:16,157 Parameters: domain_dimensions         = [256 256 256]\n",
      "yt : [INFO     ] 2022-07-13 19:22:16,164 Parameters: domain_left_edge          = [0. 0. 0.]\n",
      "yt : [INFO     ] 2022-07-13 19:22:16,169 Parameters: domain_right_edge         = [1. 1. 1.]\n",
      "yt : [INFO     ] 2022-07-13 19:22:16,170 Parameters: cosmological_simulation   = 1\n",
      "yt : [INFO     ] 2022-07-13 19:22:16,171 Parameters: current_redshift          = 0.67403220866149\n",
      "yt : [INFO     ] 2022-07-13 19:22:16,172 Parameters: omega_lambda              = 0.715\n",
      "yt : [INFO     ] 2022-07-13 19:22:16,173 Parameters: omega_matter              = 0.285\n",
      "yt : [INFO     ] 2022-07-13 19:22:16,174 Parameters: omega_radiation           = 0.0\n",
      "yt : [INFO     ] 2022-07-13 19:22:16,175 Parameters: hubble_constant           = 0.695\n"
     ]
    },
    {
     "name": "stdout",
     "output_type": "stream",
     "text": [
      "get_refine_box: using this location:       col1         col2     col3    col4     col5     col6    col7   col8\n",
      "---------------- -------- ------- -------- -------- ------- -------- ----\n",
      "0.67403220866149 0.490839 0.47889 0.504803 0.492839 0.48089 0.506803    9\n"
     ]
    },
    {
     "name": "stderr",
     "output_type": "stream",
     "text": [
      "Parsing Hierarchy : 100%|█████████████████| 5866/5866 [00:00<00:00, 8542.84it/s]\n",
      "yt : [INFO     ] 2022-07-13 19:22:17,288 Gathering a field list (this may take a moment.)\n",
      "yt : [WARNING  ] 2022-07-13 19:22:21,951 The stars particle filter already exists. Overriding.\n",
      "yt : [WARNING  ] 2022-07-13 19:22:21,952 The DM particle filter already exists. Overriding.\n"
     ]
    },
    {
     "name": "stdout",
     "output_type": "stream",
     "text": [
      "Pulling halo center from catalog file\n",
      "Opening snapshot /Volumes/TempestTimeSteps/DD1287/DD1287\n"
     ]
    },
    {
     "name": "stderr",
     "output_type": "stream",
     "text": [
      "yt : [INFO     ] 2022-07-13 19:22:22,225 Parameters: current_time              = 354.56652781829\n",
      "yt : [INFO     ] 2022-07-13 19:22:22,229 Parameters: domain_dimensions         = [256 256 256]\n",
      "yt : [INFO     ] 2022-07-13 19:22:22,233 Parameters: domain_left_edge          = [0. 0. 0.]\n",
      "yt : [INFO     ] 2022-07-13 19:22:22,237 Parameters: domain_right_edge         = [1. 1. 1.]\n",
      "yt : [INFO     ] 2022-07-13 19:22:22,238 Parameters: cosmological_simulation   = 1\n",
      "yt : [INFO     ] 2022-07-13 19:22:22,239 Parameters: current_redshift          = 0.65589052687153\n",
      "yt : [INFO     ] 2022-07-13 19:22:22,240 Parameters: omega_lambda              = 0.715\n",
      "yt : [INFO     ] 2022-07-13 19:22:22,241 Parameters: omega_matter              = 0.285\n",
      "yt : [INFO     ] 2022-07-13 19:22:22,243 Parameters: omega_radiation           = 0.0\n",
      "yt : [INFO     ] 2022-07-13 19:22:22,244 Parameters: hubble_constant           = 0.695\n"
     ]
    },
    {
     "name": "stdout",
     "output_type": "stream",
     "text": [
      "get_refine_box: using this location:       col1         col2     col3     col4     col5     col6     col7   col8\n",
      "---------------- -------- -------- -------- -------- -------- -------- ----\n",
      "0.65589052687153 0.490792 0.478699 0.504887 0.492792 0.480699 0.506887    9\n"
     ]
    },
    {
     "name": "stderr",
     "output_type": "stream",
     "text": [
      "Parsing Hierarchy : 100%|█████████████████| 6144/6144 [00:00<00:00, 8477.98it/s]\n",
      "yt : [INFO     ] 2022-07-13 19:22:23,415 Gathering a field list (this may take a moment.)\n",
      "yt : [WARNING  ] 2022-07-13 19:22:27,946 The stars particle filter already exists. Overriding.\n",
      "yt : [WARNING  ] 2022-07-13 19:22:27,947 The DM particle filter already exists. Overriding.\n"
     ]
    },
    {
     "name": "stdout",
     "output_type": "stream",
     "text": [
      "Pulling halo center from catalog file\n",
      "Opening snapshot /Volumes/TempestTimeSteps/DD1307/DD1307\n"
     ]
    },
    {
     "name": "stderr",
     "output_type": "stream",
     "text": [
      "yt : [INFO     ] 2022-07-13 19:22:28,210 Parameters: current_time              = 359.56652781829\n",
      "yt : [INFO     ] 2022-07-13 19:22:28,215 Parameters: domain_dimensions         = [256 256 256]\n",
      "yt : [INFO     ] 2022-07-13 19:22:28,219 Parameters: domain_left_edge          = [0. 0. 0.]\n",
      "yt : [INFO     ] 2022-07-13 19:22:28,223 Parameters: domain_right_edge         = [1. 1. 1.]\n",
      "yt : [INFO     ] 2022-07-13 19:22:28,224 Parameters: cosmological_simulation   = 1\n",
      "yt : [INFO     ] 2022-07-13 19:22:28,225 Parameters: current_redshift          = 0.63813139676917\n",
      "yt : [INFO     ] 2022-07-13 19:22:28,226 Parameters: omega_lambda              = 0.715\n",
      "yt : [INFO     ] 2022-07-13 19:22:28,227 Parameters: omega_matter              = 0.285\n",
      "yt : [INFO     ] 2022-07-13 19:22:28,229 Parameters: omega_radiation           = 0.0\n",
      "yt : [INFO     ] 2022-07-13 19:22:28,230 Parameters: hubble_constant           = 0.695\n"
     ]
    },
    {
     "name": "stdout",
     "output_type": "stream",
     "text": [
      "get_refine_box: using this location:       col1         col2     col3     col4     col5     col6     col7   col8\n",
      "---------------- -------- -------- -------- -------- -------- -------- ----\n",
      "0.63813139676917 0.490748 0.478512 0.504971 0.492748 0.480512 0.506971    9\n"
     ]
    },
    {
     "name": "stderr",
     "output_type": "stream",
     "text": [
      "Parsing Hierarchy : 100%|█████████████████| 6120/6120 [00:00<00:00, 8540.93it/s]\n",
      "yt : [INFO     ] 2022-07-13 19:22:29,383 Gathering a field list (this may take a moment.)\n",
      "yt : [WARNING  ] 2022-07-13 19:22:34,032 The stars particle filter already exists. Overriding.\n",
      "yt : [WARNING  ] 2022-07-13 19:22:34,034 The DM particle filter already exists. Overriding.\n"
     ]
    },
    {
     "name": "stdout",
     "output_type": "stream",
     "text": [
      "Pulling halo center from catalog file\n",
      "Opening snapshot /Volumes/TempestTimeSteps/DD1310/DD1310\n"
     ]
    },
    {
     "name": "stderr",
     "output_type": "stream",
     "text": [
      "yt : [INFO     ] 2022-07-13 19:22:34,306 Parameters: current_time              = 360.31652781829\n",
      "yt : [INFO     ] 2022-07-13 19:22:34,310 Parameters: domain_dimensions         = [256 256 256]\n",
      "yt : [INFO     ] 2022-07-13 19:22:34,314 Parameters: domain_left_edge          = [0. 0. 0.]\n",
      "yt : [INFO     ] 2022-07-13 19:22:34,318 Parameters: domain_right_edge         = [1. 1. 1.]\n",
      "yt : [INFO     ] 2022-07-13 19:22:34,319 Parameters: cosmological_simulation   = 1\n",
      "yt : [INFO     ] 2022-07-13 19:22:34,320 Parameters: current_redshift          = 0.63549964938239\n",
      "yt : [INFO     ] 2022-07-13 19:22:34,321 Parameters: omega_lambda              = 0.715\n",
      "yt : [INFO     ] 2022-07-13 19:22:34,322 Parameters: omega_matter              = 0.285\n",
      "yt : [INFO     ] 2022-07-13 19:22:34,324 Parameters: omega_radiation           = 0.0\n",
      "yt : [INFO     ] 2022-07-13 19:22:34,325 Parameters: hubble_constant           = 0.695\n"
     ]
    },
    {
     "name": "stdout",
     "output_type": "stream",
     "text": [
      "get_refine_box: using this location:       col1         col2     col3     col4     col5     col6     col7   col8\n",
      "---------------- -------- -------- -------- -------- -------- -------- ----\n",
      "0.63549964938239 0.490742 0.478486 0.504982 0.492742 0.480486 0.506982    9\n"
     ]
    },
    {
     "name": "stderr",
     "output_type": "stream",
     "text": [
      "Parsing Hierarchy : 100%|█████████████████| 6117/6117 [00:00<00:00, 8351.34it/s]\n",
      "yt : [INFO     ] 2022-07-13 19:22:35,500 Gathering a field list (this may take a moment.)\n",
      "yt : [WARNING  ] 2022-07-13 19:22:40,165 The stars particle filter already exists. Overriding.\n",
      "yt : [WARNING  ] 2022-07-13 19:22:40,166 The DM particle filter already exists. Overriding.\n"
     ]
    },
    {
     "name": "stdout",
     "output_type": "stream",
     "text": [
      "Pulling halo center from catalog file\n",
      "Opening snapshot /Volumes/TempestTimeSteps/DD1311/DD1311\n"
     ]
    },
    {
     "name": "stderr",
     "output_type": "stream",
     "text": [
      "yt : [INFO     ] 2022-07-13 19:22:40,405 Parameters: current_time              = 360.56652781829\n",
      "yt : [INFO     ] 2022-07-13 19:22:40,409 Parameters: domain_dimensions         = [256 256 256]\n",
      "yt : [INFO     ] 2022-07-13 19:22:40,414 Parameters: domain_left_edge          = [0. 0. 0.]\n",
      "yt : [INFO     ] 2022-07-13 19:22:40,418 Parameters: domain_right_edge         = [1. 1. 1.]\n",
      "yt : [INFO     ] 2022-07-13 19:22:40,419 Parameters: cosmological_simulation   = 1\n",
      "yt : [INFO     ] 2022-07-13 19:22:40,420 Parameters: current_redshift          = 0.63462423495761\n",
      "yt : [INFO     ] 2022-07-13 19:22:40,421 Parameters: omega_lambda              = 0.715\n",
      "yt : [INFO     ] 2022-07-13 19:22:40,423 Parameters: omega_matter              = 0.285\n",
      "yt : [INFO     ] 2022-07-13 19:22:40,424 Parameters: omega_radiation           = 0.0\n",
      "yt : [INFO     ] 2022-07-13 19:22:40,425 Parameters: hubble_constant           = 0.695\n"
     ]
    },
    {
     "name": "stdout",
     "output_type": "stream",
     "text": [
      "get_refine_box: using this location:       col1         col2    col3     col4     col5    col6     col7   col8\n",
      "---------------- ------- -------- -------- ------- -------- -------- ----\n",
      "0.63462423495761 0.49074 0.478476 0.504986 0.49274 0.480476 0.506986    9\n"
     ]
    },
    {
     "name": "stderr",
     "output_type": "stream",
     "text": [
      "Parsing Hierarchy : 100%|█████████████████| 6212/6212 [00:00<00:00, 8424.58it/s]\n",
      "yt : [INFO     ] 2022-07-13 19:22:41,634 Gathering a field list (this may take a moment.)\n",
      "yt : [WARNING  ] 2022-07-13 19:22:46,265 The stars particle filter already exists. Overriding.\n",
      "yt : [WARNING  ] 2022-07-13 19:22:46,266 The DM particle filter already exists. Overriding.\n"
     ]
    },
    {
     "name": "stdout",
     "output_type": "stream",
     "text": [
      "Pulling halo center from catalog file\n",
      "Opening snapshot /Volumes/TempestTimeSteps/DD1312/DD1312\n"
     ]
    },
    {
     "name": "stderr",
     "output_type": "stream",
     "text": [
      "yt : [INFO     ] 2022-07-13 19:22:46,493 Parameters: current_time              = 360.81652781829\n",
      "yt : [INFO     ] 2022-07-13 19:22:46,498 Parameters: domain_dimensions         = [256 256 256]\n",
      "yt : [INFO     ] 2022-07-13 19:22:46,502 Parameters: domain_left_edge          = [0. 0. 0.]\n",
      "yt : [INFO     ] 2022-07-13 19:22:46,506 Parameters: domain_right_edge         = [1. 1. 1.]\n",
      "yt : [INFO     ] 2022-07-13 19:22:46,507 Parameters: cosmological_simulation   = 1\n",
      "yt : [INFO     ] 2022-07-13 19:22:46,508 Parameters: current_redshift          = 0.63374973507151\n",
      "yt : [INFO     ] 2022-07-13 19:22:46,509 Parameters: omega_lambda              = 0.715\n",
      "yt : [INFO     ] 2022-07-13 19:22:46,510 Parameters: omega_matter              = 0.285\n",
      "yt : [INFO     ] 2022-07-13 19:22:46,512 Parameters: omega_radiation           = 0.0\n",
      "yt : [INFO     ] 2022-07-13 19:22:46,513 Parameters: hubble_constant           = 0.695\n"
     ]
    },
    {
     "name": "stdout",
     "output_type": "stream",
     "text": [
      "get_refine_box: using this location:       col1         col2     col3     col4    col5     col6     col7  col8\n",
      "---------------- -------- -------- ------- -------- -------- ------- ----\n",
      "0.63374973507151 0.490738 0.478466 0.50499 0.492738 0.480466 0.50699    9\n"
     ]
    },
    {
     "name": "stderr",
     "output_type": "stream",
     "text": [
      "Parsing Hierarchy : 100%|█████████████████| 6058/6058 [00:00<00:00, 8567.02it/s]\n",
      "yt : [INFO     ] 2022-07-13 19:22:47,660 Gathering a field list (this may take a moment.)\n",
      "yt : [WARNING  ] 2022-07-13 19:22:52,484 The stars particle filter already exists. Overriding.\n",
      "yt : [WARNING  ] 2022-07-13 19:22:52,485 The DM particle filter already exists. Overriding.\n"
     ]
    },
    {
     "name": "stdout",
     "output_type": "stream",
     "text": [
      "Pulling halo center from catalog file\n",
      "Opening snapshot /Volumes/TempestTimeSteps/DD1313/DD1313\n"
     ]
    },
    {
     "name": "stderr",
     "output_type": "stream",
     "text": [
      "yt : [INFO     ] 2022-07-13 19:22:52,670 Parameters: current_time              = 361.06652781829\n",
      "yt : [INFO     ] 2022-07-13 19:22:52,674 Parameters: domain_dimensions         = [256 256 256]\n",
      "yt : [INFO     ] 2022-07-13 19:22:52,679 Parameters: domain_left_edge          = [0. 0. 0.]\n",
      "yt : [INFO     ] 2022-07-13 19:22:52,683 Parameters: domain_right_edge         = [1. 1. 1.]\n",
      "yt : [INFO     ] 2022-07-13 19:22:52,684 Parameters: cosmological_simulation   = 1\n",
      "yt : [INFO     ] 2022-07-13 19:22:52,685 Parameters: current_redshift          = 0.63287614804254\n",
      "yt : [INFO     ] 2022-07-13 19:22:52,686 Parameters: omega_lambda              = 0.715\n",
      "yt : [INFO     ] 2022-07-13 19:22:52,687 Parameters: omega_matter              = 0.285\n",
      "yt : [INFO     ] 2022-07-13 19:22:52,688 Parameters: omega_radiation           = 0.0\n",
      "yt : [INFO     ] 2022-07-13 19:22:52,689 Parameters: hubble_constant           = 0.695\n"
     ]
    },
    {
     "name": "stdout",
     "output_type": "stream",
     "text": [
      "get_refine_box: using this location:       col1         col2     col3     col4     col5     col6     col7   col8\n",
      "---------------- -------- -------- -------- -------- -------- -------- ----\n",
      "0.63287614804254 0.490735 0.478457 0.504994 0.492735 0.480457 0.506994    9\n"
     ]
    },
    {
     "name": "stderr",
     "output_type": "stream",
     "text": [
      "Parsing Hierarchy : 100%|█████████████████| 6082/6082 [00:00<00:00, 8452.53it/s]\n",
      "yt : [INFO     ] 2022-07-13 19:22:53,915 Gathering a field list (this may take a moment.)\n",
      "yt : [WARNING  ] 2022-07-13 19:22:58,778 The stars particle filter already exists. Overriding.\n",
      "yt : [WARNING  ] 2022-07-13 19:22:58,779 The DM particle filter already exists. Overriding.\n"
     ]
    },
    {
     "name": "stdout",
     "output_type": "stream",
     "text": [
      "Pulling halo center from catalog file\n",
      "Opening snapshot /Volumes/TempestTimeSteps/DD1314/DD1314\n"
     ]
    },
    {
     "name": "stderr",
     "output_type": "stream",
     "text": [
      "yt : [INFO     ] 2022-07-13 19:22:58,962 Parameters: current_time              = 361.31652781829\n",
      "yt : [INFO     ] 2022-07-13 19:22:58,966 Parameters: domain_dimensions         = [256 256 256]\n",
      "yt : [INFO     ] 2022-07-13 19:22:58,970 Parameters: domain_left_edge          = [0. 0. 0.]\n",
      "yt : [INFO     ] 2022-07-13 19:22:58,974 Parameters: domain_right_edge         = [1. 1. 1.]\n",
      "yt : [INFO     ] 2022-07-13 19:22:58,975 Parameters: cosmological_simulation   = 1\n",
      "yt : [INFO     ] 2022-07-13 19:22:58,976 Parameters: current_redshift          = 0.63200347219345\n",
      "yt : [INFO     ] 2022-07-13 19:22:58,977 Parameters: omega_lambda              = 0.715\n",
      "yt : [INFO     ] 2022-07-13 19:22:58,978 Parameters: omega_matter              = 0.285\n",
      "yt : [INFO     ] 2022-07-13 19:22:58,979 Parameters: omega_radiation           = 0.0\n",
      "yt : [INFO     ] 2022-07-13 19:22:58,981 Parameters: hubble_constant           = 0.695\n"
     ]
    },
    {
     "name": "stdout",
     "output_type": "stream",
     "text": [
      "get_refine_box: using this location:       col1         col2     col3    col4   col5     col6    col7 col8\n",
      "---------------- -------- -------- ----- -------- -------- ----- ----\n",
      "0.63200347219345 0.490733 0.478449 0.505 0.492733 0.480449 0.507    9\n"
     ]
    },
    {
     "name": "stderr",
     "output_type": "stream",
     "text": [
      "Parsing Hierarchy : 100%|█████████████████| 5996/5996 [00:00<00:00, 8373.41it/s]\n",
      "yt : [INFO     ] 2022-07-13 19:23:00,211 Gathering a field list (this may take a moment.)\n",
      "yt : [WARNING  ] 2022-07-13 19:23:05,163 The stars particle filter already exists. Overriding.\n",
      "yt : [WARNING  ] 2022-07-13 19:23:05,166 The DM particle filter already exists. Overriding.\n"
     ]
    },
    {
     "name": "stdout",
     "output_type": "stream",
     "text": [
      "Pulling halo center from catalog file\n",
      "Opening snapshot /Volumes/TempestTimeSteps/DD1315/DD1315\n"
     ]
    },
    {
     "name": "stderr",
     "output_type": "stream",
     "text": [
      "yt : [INFO     ] 2022-07-13 19:23:05,350 Parameters: current_time              = 361.56652781829\n",
      "yt : [INFO     ] 2022-07-13 19:23:05,355 Parameters: domain_dimensions         = [256 256 256]\n",
      "yt : [INFO     ] 2022-07-13 19:23:05,359 Parameters: domain_left_edge          = [0. 0. 0.]\n",
      "yt : [INFO     ] 2022-07-13 19:23:05,363 Parameters: domain_right_edge         = [1. 1. 1.]\n",
      "yt : [INFO     ] 2022-07-13 19:23:05,364 Parameters: cosmological_simulation   = 1\n",
      "yt : [INFO     ] 2022-07-13 19:23:05,365 Parameters: current_redshift          = 0.63113170585127\n",
      "yt : [INFO     ] 2022-07-13 19:23:05,366 Parameters: omega_lambda              = 0.715\n",
      "yt : [INFO     ] 2022-07-13 19:23:05,367 Parameters: omega_matter              = 0.285\n",
      "yt : [INFO     ] 2022-07-13 19:23:05,368 Parameters: omega_radiation           = 0.0\n",
      "yt : [INFO     ] 2022-07-13 19:23:05,369 Parameters: hubble_constant           = 0.695\n"
     ]
    },
    {
     "name": "stdout",
     "output_type": "stream",
     "text": [
      "get_refine_box: using this location:       col1         col2     col3    col4     col5     col6    col7   col8\n",
      "---------------- -------- ------- -------- -------- ------- -------- ----\n",
      "0.63113170585127 0.490731 0.47844 0.505003 0.492731 0.48044 0.507003    9\n"
     ]
    },
    {
     "name": "stderr",
     "output_type": "stream",
     "text": [
      "Parsing Hierarchy : 100%|█████████████████| 6053/6053 [00:00<00:00, 8481.66it/s]\n",
      "yt : [INFO     ] 2022-07-13 19:23:06,596 Gathering a field list (this may take a moment.)\n",
      "yt : [WARNING  ] 2022-07-13 19:23:11,283 The stars particle filter already exists. Overriding.\n",
      "yt : [WARNING  ] 2022-07-13 19:23:11,284 The DM particle filter already exists. Overriding.\n"
     ]
    },
    {
     "name": "stdout",
     "output_type": "stream",
     "text": [
      "Pulling halo center from catalog file\n",
      "Opening snapshot /Volumes/TempestTimeSteps/DD1316/DD1316\n"
     ]
    },
    {
     "name": "stderr",
     "output_type": "stream",
     "text": [
      "yt : [INFO     ] 2022-07-13 19:23:11,519 Parameters: current_time              = 361.81652781829\n",
      "yt : [INFO     ] 2022-07-13 19:23:11,523 Parameters: domain_dimensions         = [256 256 256]\n",
      "yt : [INFO     ] 2022-07-13 19:23:11,527 Parameters: domain_left_edge          = [0. 0. 0.]\n",
      "yt : [INFO     ] 2022-07-13 19:23:11,531 Parameters: domain_right_edge         = [1. 1. 1.]\n",
      "yt : [INFO     ] 2022-07-13 19:23:11,533 Parameters: cosmological_simulation   = 1\n",
      "yt : [INFO     ] 2022-07-13 19:23:11,533 Parameters: current_redshift          = 0.63026084734731\n",
      "yt : [INFO     ] 2022-07-13 19:23:11,536 Parameters: omega_lambda              = 0.715\n",
      "yt : [INFO     ] 2022-07-13 19:23:11,537 Parameters: omega_matter              = 0.285\n",
      "yt : [INFO     ] 2022-07-13 19:23:11,538 Parameters: omega_radiation           = 0.0\n",
      "yt : [INFO     ] 2022-07-13 19:23:11,539 Parameters: hubble_constant           = 0.695\n"
     ]
    },
    {
     "name": "stdout",
     "output_type": "stream",
     "text": [
      "get_refine_box: using this location:       col1         col2     col3    col4     col5     col6    col7   col8\n",
      "---------------- -------- ------- -------- -------- ------- -------- ----\n",
      "0.63026084734731 0.490729 0.47843 0.505007 0.492729 0.48043 0.507007    9\n"
     ]
    },
    {
     "name": "stderr",
     "output_type": "stream",
     "text": [
      "Parsing Hierarchy : 100%|█████████████████| 5907/5907 [00:00<00:00, 8435.16it/s]\n",
      "yt : [INFO     ] 2022-07-13 19:23:12,701 Gathering a field list (this may take a moment.)\n",
      "yt : [WARNING  ] 2022-07-13 19:23:22,253 The stars particle filter already exists. Overriding.\n",
      "yt : [WARNING  ] 2022-07-13 19:23:22,254 The DM particle filter already exists. Overriding.\n"
     ]
    },
    {
     "name": "stdout",
     "output_type": "stream",
     "text": [
      "Pulling halo center from catalog file\n",
      "Opening snapshot /Volumes/TempestTimeSteps/DD1318/DD1318\n"
     ]
    },
    {
     "name": "stderr",
     "output_type": "stream",
     "text": [
      "yt : [INFO     ] 2022-07-13 19:23:22,441 Parameters: current_time              = 362.31652781829\n",
      "yt : [INFO     ] 2022-07-13 19:23:22,446 Parameters: domain_dimensions         = [256 256 256]\n",
      "yt : [INFO     ] 2022-07-13 19:23:22,450 Parameters: domain_left_edge          = [0. 0. 0.]\n",
      "yt : [INFO     ] 2022-07-13 19:23:22,454 Parameters: domain_right_edge         = [1. 1. 1.]\n",
      "yt : [INFO     ] 2022-07-13 19:23:22,456 Parameters: cosmological_simulation   = 1\n",
      "yt : [INFO     ] 2022-07-13 19:23:22,457 Parameters: current_redshift          = 0.62852184720062\n",
      "yt : [INFO     ] 2022-07-13 19:23:22,458 Parameters: omega_lambda              = 0.715\n",
      "yt : [INFO     ] 2022-07-13 19:23:22,459 Parameters: omega_matter              = 0.285\n",
      "yt : [INFO     ] 2022-07-13 19:23:22,460 Parameters: omega_radiation           = 0.0\n",
      "yt : [INFO     ] 2022-07-13 19:23:22,461 Parameters: hubble_constant           = 0.695\n"
     ]
    },
    {
     "name": "stdout",
     "output_type": "stream",
     "text": [
      "get_refine_box: using this location:       col1         col2     col3     col4     col5     col6     col7   col8\n",
      "---------------- -------- -------- -------- -------- -------- -------- ----\n",
      "0.62852184720062 0.490725 0.478411 0.505015 0.492725 0.480411 0.507015    9\n"
     ]
    },
    {
     "name": "stderr",
     "output_type": "stream",
     "text": [
      "Parsing Hierarchy : 100%|█████████████████| 6061/6061 [00:00<00:00, 8570.62it/s]\n",
      "yt : [INFO     ] 2022-07-13 19:23:23,695 Gathering a field list (this may take a moment.)\n",
      "yt : [WARNING  ] 2022-07-13 19:23:28,409 The stars particle filter already exists. Overriding.\n",
      "yt : [WARNING  ] 2022-07-13 19:23:28,410 The DM particle filter already exists. Overriding.\n"
     ]
    },
    {
     "name": "stdout",
     "output_type": "stream",
     "text": [
      "Pulling halo center from catalog file\n",
      "Opening snapshot /Volumes/TempestTimeSteps/DD1319/DD1319\n"
     ]
    },
    {
     "name": "stderr",
     "output_type": "stream",
     "text": [
      "yt : [INFO     ] 2022-07-13 19:23:28,720 Parameters: current_time              = 362.56652781829\n",
      "yt : [INFO     ] 2022-07-13 19:23:28,724 Parameters: domain_dimensions         = [256 256 256]\n",
      "yt : [INFO     ] 2022-07-13 19:23:28,728 Parameters: domain_left_edge          = [0. 0. 0.]\n",
      "yt : [INFO     ] 2022-07-13 19:23:28,732 Parameters: domain_right_edge         = [1. 1. 1.]\n",
      "yt : [INFO     ] 2022-07-13 19:23:28,734 Parameters: cosmological_simulation   = 1\n",
      "yt : [INFO     ] 2022-07-13 19:23:28,734 Parameters: current_redshift          = 0.62765370224176\n",
      "yt : [INFO     ] 2022-07-13 19:23:28,735 Parameters: omega_lambda              = 0.715\n",
      "yt : [INFO     ] 2022-07-13 19:23:28,737 Parameters: omega_matter              = 0.285\n",
      "yt : [INFO     ] 2022-07-13 19:23:28,738 Parameters: omega_radiation           = 0.0\n",
      "yt : [INFO     ] 2022-07-13 19:23:28,739 Parameters: hubble_constant           = 0.695\n"
     ]
    },
    {
     "name": "stdout",
     "output_type": "stream",
     "text": [
      "get_refine_box: using this location:       col1         col2     col3     col4     col5     col6     col7   col8\n",
      "---------------- -------- -------- -------- -------- -------- -------- ----\n",
      "0.62765370224176 0.490723 0.478402 0.505019 0.492723 0.480402 0.507019    9\n"
     ]
    },
    {
     "name": "stderr",
     "output_type": "stream",
     "text": [
      "Parsing Hierarchy : 100%|█████████████████| 6108/6108 [00:00<00:00, 8211.46it/s]\n",
      "yt : [INFO     ] 2022-07-13 19:23:29,935 Gathering a field list (this may take a moment.)\n",
      "yt : [WARNING  ] 2022-07-13 19:23:33,020 The stars particle filter already exists. Overriding.\n",
      "yt : [WARNING  ] 2022-07-13 19:23:33,021 The DM particle filter already exists. Overriding.\n"
     ]
    },
    {
     "name": "stdout",
     "output_type": "stream",
     "text": [
      "Pulling halo center from catalog file\n",
      "Opening snapshot /Volumes/TempestTimeSteps/DD1320/DD1320\n"
     ]
    },
    {
     "name": "stderr",
     "output_type": "stream",
     "text": [
      "yt : [INFO     ] 2022-07-13 19:23:33,198 Parameters: current_time              = 362.81652781829\n",
      "yt : [INFO     ] 2022-07-13 19:23:33,201 Parameters: domain_dimensions         = [256 256 256]\n",
      "yt : [INFO     ] 2022-07-13 19:23:33,203 Parameters: domain_left_edge          = [0. 0. 0.]\n",
      "yt : [INFO     ] 2022-07-13 19:23:33,206 Parameters: domain_right_edge         = [1. 1. 1.]\n",
      "yt : [INFO     ] 2022-07-13 19:23:33,206 Parameters: cosmological_simulation   = 1\n",
      "yt : [INFO     ] 2022-07-13 19:23:33,207 Parameters: current_redshift          = 0.62678645848885\n",
      "yt : [INFO     ] 2022-07-13 19:23:33,207 Parameters: omega_lambda              = 0.715\n",
      "yt : [INFO     ] 2022-07-13 19:23:33,208 Parameters: omega_matter              = 0.285\n",
      "yt : [INFO     ] 2022-07-13 19:23:33,208 Parameters: omega_radiation           = 0.0\n",
      "yt : [INFO     ] 2022-07-13 19:23:33,209 Parameters: hubble_constant           = 0.695\n"
     ]
    },
    {
     "name": "stdout",
     "output_type": "stream",
     "text": [
      "get_refine_box: using this location:       col1         col2     col3     col4     col5     col6     col7   col8\n",
      "---------------- -------- -------- -------- -------- -------- -------- ----\n",
      "0.62678645848885 0.490721 0.478392 0.505022 0.492721 0.480392 0.507022    9\n"
     ]
    },
    {
     "name": "stderr",
     "output_type": "stream",
     "text": [
      "Parsing Hierarchy : 100%|████████████████| 6021/6021 [00:00<00:00, 17404.45it/s]\n",
      "yt : [INFO     ] 2022-07-13 19:23:33,810 Gathering a field list (this may take a moment.)\n",
      "yt : [WARNING  ] 2022-07-13 19:23:36,863 The stars particle filter already exists. Overriding.\n",
      "yt : [WARNING  ] 2022-07-13 19:23:36,864 The DM particle filter already exists. Overriding.\n"
     ]
    },
    {
     "name": "stdout",
     "output_type": "stream",
     "text": [
      "Pulling halo center from catalog file\n",
      "Opening snapshot /Volumes/TempestTimeSteps/DD1327/DD1327\n"
     ]
    },
    {
     "name": "stderr",
     "output_type": "stream",
     "text": [
      "yt : [INFO     ] 2022-07-13 19:23:37,022 Parameters: current_time              = 364.56652781829\n",
      "yt : [INFO     ] 2022-07-13 19:23:37,025 Parameters: domain_dimensions         = [256 256 256]\n",
      "yt : [INFO     ] 2022-07-13 19:23:37,028 Parameters: domain_left_edge          = [0. 0. 0.]\n",
      "yt : [INFO     ] 2022-07-13 19:23:37,032 Parameters: domain_right_edge         = [1. 1. 1.]\n",
      "yt : [INFO     ] 2022-07-13 19:23:37,033 Parameters: cosmological_simulation   = 1\n",
      "yt : [INFO     ] 2022-07-13 19:23:37,033 Parameters: current_redshift          = 0.62074084812024\n",
      "yt : [INFO     ] 2022-07-13 19:23:37,034 Parameters: omega_lambda              = 0.715\n",
      "yt : [INFO     ] 2022-07-13 19:23:37,035 Parameters: omega_matter              = 0.285\n",
      "yt : [INFO     ] 2022-07-13 19:23:37,036 Parameters: omega_radiation           = 0.0\n",
      "yt : [INFO     ] 2022-07-13 19:23:37,037 Parameters: hubble_constant           = 0.695\n"
     ]
    },
    {
     "name": "stdout",
     "output_type": "stream",
     "text": [
      "get_refine_box: using this location:       col1         col2     col3     col4     col5     col6     col7   col8\n",
      "---------------- -------- -------- -------- -------- -------- -------- ----\n",
      "0.62074084812024 0.490704 0.478329 0.505051 0.492704 0.480329 0.507051    9\n"
     ]
    },
    {
     "name": "stderr",
     "output_type": "stream",
     "text": [
      "Parsing Hierarchy : 100%|████████████████| 6122/6122 [00:00<00:00, 19122.58it/s]\n",
      "yt : [INFO     ] 2022-07-13 19:23:37,582 Gathering a field list (this may take a moment.)\n",
      "yt : [WARNING  ] 2022-07-13 19:23:40,323 The stars particle filter already exists. Overriding.\n",
      "yt : [WARNING  ] 2022-07-13 19:23:40,324 The DM particle filter already exists. Overriding.\n"
     ]
    },
    {
     "name": "stdout",
     "output_type": "stream",
     "text": [
      "Pulling halo center from catalog file\n",
      "Opening snapshot /Volumes/TempestTimeSteps/DD1347/DD1347\n"
     ]
    },
    {
     "name": "stderr",
     "output_type": "stream",
     "text": [
      "yt : [INFO     ] 2022-07-13 19:23:40,495 Parameters: current_time              = 369.56652781829\n",
      "yt : [INFO     ] 2022-07-13 19:23:40,498 Parameters: domain_dimensions         = [256 256 256]\n",
      "yt : [INFO     ] 2022-07-13 19:23:40,501 Parameters: domain_left_edge          = [0. 0. 0.]\n",
      "yt : [INFO     ] 2022-07-13 19:23:40,503 Parameters: domain_right_edge         = [1. 1. 1.]\n",
      "yt : [INFO     ] 2022-07-13 19:23:40,504 Parameters: cosmological_simulation   = 1\n",
      "yt : [INFO     ] 2022-07-13 19:23:40,504 Parameters: current_redshift          = 0.60370561098879\n",
      "yt : [INFO     ] 2022-07-13 19:23:40,505 Parameters: omega_lambda              = 0.715\n",
      "yt : [INFO     ] 2022-07-13 19:23:40,505 Parameters: omega_matter              = 0.285\n",
      "yt : [INFO     ] 2022-07-13 19:23:40,506 Parameters: omega_radiation           = 0.0\n",
      "yt : [INFO     ] 2022-07-13 19:23:40,506 Parameters: hubble_constant           = 0.695\n"
     ]
    },
    {
     "name": "stdout",
     "output_type": "stream",
     "text": [
      "get_refine_box: using this location:       col1         col2    col3     col4     col5    col6     col7   col8\n",
      "---------------- ------- -------- -------- ------- -------- -------- ----\n",
      "0.60370561098879 0.49066 0.478148 0.505129 0.49266 0.480148 0.507129    9\n"
     ]
    },
    {
     "name": "stderr",
     "output_type": "stream",
     "text": [
      "Parsing Hierarchy : 100%|████████████████| 6238/6238 [00:00<00:00, 19066.20it/s]\n",
      "yt : [INFO     ] 2022-07-13 19:23:41,081 Gathering a field list (this may take a moment.)\n",
      "yt : [WARNING  ] 2022-07-13 19:23:43,857 The stars particle filter already exists. Overriding.\n",
      "yt : [WARNING  ] 2022-07-13 19:23:43,858 The DM particle filter already exists. Overriding.\n"
     ]
    },
    {
     "name": "stdout",
     "output_type": "stream",
     "text": [
      "Pulling halo center from catalog file\n",
      "Opening snapshot /Volumes/TempestTimeSteps/DD1367/DD1367\n"
     ]
    },
    {
     "name": "stderr",
     "output_type": "stream",
     "text": [
      "yt : [INFO     ] 2022-07-13 19:23:44,043 Parameters: current_time              = 374.56652781829\n",
      "yt : [INFO     ] 2022-07-13 19:23:44,045 Parameters: domain_dimensions         = [256 256 256]\n",
      "yt : [INFO     ] 2022-07-13 19:23:44,047 Parameters: domain_left_edge          = [0. 0. 0.]\n",
      "yt : [INFO     ] 2022-07-13 19:23:44,050 Parameters: domain_right_edge         = [1. 1. 1.]\n",
      "yt : [INFO     ] 2022-07-13 19:23:44,051 Parameters: cosmological_simulation   = 1\n",
      "yt : [INFO     ] 2022-07-13 19:23:44,052 Parameters: current_redshift          = 0.58701307192989\n",
      "yt : [INFO     ] 2022-07-13 19:23:44,052 Parameters: omega_lambda              = 0.715\n",
      "yt : [INFO     ] 2022-07-13 19:23:44,053 Parameters: omega_matter              = 0.285\n",
      "yt : [INFO     ] 2022-07-13 19:23:44,054 Parameters: omega_radiation           = 0.0\n",
      "yt : [INFO     ] 2022-07-13 19:23:44,054 Parameters: hubble_constant           = 0.695\n"
     ]
    },
    {
     "name": "stdout",
     "output_type": "stream",
     "text": [
      "get_refine_box: using this location:       col1         col2     col3     col4     col5     col6     col7   col8\n",
      "---------------- -------- -------- -------- -------- -------- -------- ----\n",
      "0.58701307192989 0.490616 0.477969 0.505207 0.492616 0.479969 0.507207    9\n"
     ]
    },
    {
     "name": "stderr",
     "output_type": "stream",
     "text": [
      "Parsing Hierarchy : 100%|████████████████| 6198/6198 [00:00<00:00, 19222.41it/s]\n",
      "yt : [INFO     ] 2022-07-13 19:23:44,608 Gathering a field list (this may take a moment.)\n",
      "yt : [WARNING  ] 2022-07-13 19:23:47,620 The stars particle filter already exists. Overriding.\n",
      "yt : [WARNING  ] 2022-07-13 19:23:47,621 The DM particle filter already exists. Overriding.\n"
     ]
    },
    {
     "name": "stdout",
     "output_type": "stream",
     "text": [
      "Pulling halo center from catalog file\n",
      "Opening snapshot /Volumes/TempestTimeSteps/DD1387/DD1387\n"
     ]
    },
    {
     "name": "stderr",
     "output_type": "stream",
     "text": [
      "yt : [INFO     ] 2022-07-13 19:23:47,804 Parameters: current_time              = 379.56652781829\n",
      "yt : [INFO     ] 2022-07-13 19:23:47,807 Parameters: domain_dimensions         = [256 256 256]\n",
      "yt : [INFO     ] 2022-07-13 19:23:47,809 Parameters: domain_left_edge          = [0. 0. 0.]\n",
      "yt : [INFO     ] 2022-07-13 19:23:47,812 Parameters: domain_right_edge         = [1. 1. 1.]\n",
      "yt : [INFO     ] 2022-07-13 19:23:47,812 Parameters: cosmological_simulation   = 1\n",
      "yt : [INFO     ] 2022-07-13 19:23:47,813 Parameters: current_redshift          = 0.57065123346059\n",
      "yt : [INFO     ] 2022-07-13 19:23:47,814 Parameters: omega_lambda              = 0.715\n",
      "yt : [INFO     ] 2022-07-13 19:23:47,815 Parameters: omega_matter              = 0.285\n",
      "yt : [INFO     ] 2022-07-13 19:23:47,816 Parameters: omega_radiation           = 0.0\n",
      "yt : [INFO     ] 2022-07-13 19:23:47,817 Parameters: hubble_constant           = 0.695\n"
     ]
    },
    {
     "name": "stdout",
     "output_type": "stream",
     "text": [
      "get_refine_box: using this location:       col1         col2     col3     col4     col5     col6     col7   col8\n",
      "---------------- -------- -------- -------- -------- -------- -------- ----\n",
      "0.57065123346059 0.490572 0.477791 0.505288 0.492572 0.479791 0.507288    9\n"
     ]
    },
    {
     "name": "stderr",
     "output_type": "stream",
     "text": [
      "Parsing Hierarchy : 100%|████████████████| 6136/6136 [00:00<00:00, 18700.53it/s]\n",
      "yt : [INFO     ] 2022-07-13 19:23:48,386 Gathering a field list (this may take a moment.)\n",
      "yt : [WARNING  ] 2022-07-13 19:23:50,977 The stars particle filter already exists. Overriding.\n",
      "yt : [WARNING  ] 2022-07-13 19:23:50,977 The DM particle filter already exists. Overriding.\n",
      "yt : [INFO     ] 2022-07-13 19:23:51,076 Parameters: current_time              = 384.56652781829\n",
      "yt : [INFO     ] 2022-07-13 19:23:51,078 Parameters: domain_dimensions         = [256 256 256]\n",
      "yt : [INFO     ] 2022-07-13 19:23:51,080 Parameters: domain_left_edge          = [0. 0. 0.]\n",
      "yt : [INFO     ] 2022-07-13 19:23:51,083 Parameters: domain_right_edge         = [1. 1. 1.]\n",
      "yt : [INFO     ] 2022-07-13 19:23:51,083 Parameters: cosmological_simulation   = 1\n",
      "yt : [INFO     ] 2022-07-13 19:23:51,084 Parameters: current_redshift          = 0.55460867652421\n",
      "yt : [INFO     ] 2022-07-13 19:23:51,084 Parameters: omega_lambda              = 0.715\n",
      "yt : [INFO     ] 2022-07-13 19:23:51,085 Parameters: omega_matter              = 0.285\n",
      "yt : [INFO     ] 2022-07-13 19:23:51,086 Parameters: omega_radiation           = 0.0\n",
      "yt : [INFO     ] 2022-07-13 19:23:51,086 Parameters: hubble_constant           = 0.695\n"
     ]
    },
    {
     "name": "stdout",
     "output_type": "stream",
     "text": [
      "Pulling halo center from catalog file\n",
      "Opening snapshot /Volumes/TempestTimeSteps/DD1407/DD1407\n",
      "get_refine_box: using this location:       col1         col2     col3     col4     col5     col6     col7   col8\n",
      "---------------- -------- -------- -------- -------- -------- -------- ----\n",
      "0.55460867652421 0.490529 0.477618 0.505368 0.492529 0.479618 0.507368    9\n"
     ]
    },
    {
     "name": "stderr",
     "output_type": "stream",
     "text": [
      "Parsing Hierarchy : 100%|████████████████| 5851/5851 [00:00<00:00, 18008.56it/s]\n",
      "yt : [INFO     ] 2022-07-13 19:23:51,722 Gathering a field list (this may take a moment.)\n",
      "yt : [WARNING  ] 2022-07-13 19:23:54,419 The stars particle filter already exists. Overriding.\n",
      "yt : [WARNING  ] 2022-07-13 19:23:54,420 The DM particle filter already exists. Overriding.\n"
     ]
    },
    {
     "name": "stdout",
     "output_type": "stream",
     "text": [
      "Pulling halo center from catalog file\n",
      "Opening snapshot /Volumes/TempestTimeSteps/DD1427/DD1427\n"
     ]
    },
    {
     "name": "stderr",
     "output_type": "stream",
     "text": [
      "yt : [INFO     ] 2022-07-13 19:23:54,598 Parameters: current_time              = 389.56652781829\n",
      "yt : [INFO     ] 2022-07-13 19:23:54,601 Parameters: domain_dimensions         = [256 256 256]\n",
      "yt : [INFO     ] 2022-07-13 19:23:54,604 Parameters: domain_left_edge          = [0. 0. 0.]\n",
      "yt : [INFO     ] 2022-07-13 19:23:54,607 Parameters: domain_right_edge         = [1. 1. 1.]\n",
      "yt : [INFO     ] 2022-07-13 19:23:54,608 Parameters: cosmological_simulation   = 1\n",
      "yt : [INFO     ] 2022-07-13 19:23:54,609 Parameters: current_redshift          = 0.53887452569124\n",
      "yt : [INFO     ] 2022-07-13 19:23:54,609 Parameters: omega_lambda              = 0.715\n",
      "yt : [INFO     ] 2022-07-13 19:23:54,610 Parameters: omega_matter              = 0.285\n",
      "yt : [INFO     ] 2022-07-13 19:23:54,610 Parameters: omega_radiation           = 0.0\n",
      "yt : [INFO     ] 2022-07-13 19:23:54,611 Parameters: hubble_constant           = 0.695\n"
     ]
    },
    {
     "name": "stdout",
     "output_type": "stream",
     "text": [
      "get_refine_box: using this location:       col1         col2     col3     col4    col5     col6     col7  col8\n",
      "---------------- -------- -------- ------- -------- -------- ------- ----\n",
      "0.53887452569124 0.490487 0.477448 0.50545 0.492487 0.479448 0.50745    9\n"
     ]
    },
    {
     "name": "stderr",
     "output_type": "stream",
     "text": [
      "Parsing Hierarchy : 100%|████████████████| 5833/5833 [00:00<00:00, 19090.03it/s]\n",
      "yt : [INFO     ] 2022-07-13 19:23:55,144 Gathering a field list (this may take a moment.)\n",
      "yt : [WARNING  ] 2022-07-13 19:23:57,961 The stars particle filter already exists. Overriding.\n",
      "yt : [WARNING  ] 2022-07-13 19:23:57,961 The DM particle filter already exists. Overriding.\n"
     ]
    },
    {
     "name": "stdout",
     "output_type": "stream",
     "text": [
      "Pulling halo center from catalog file\n",
      "Opening snapshot /Volumes/TempestTimeSteps/DD1447/DD1447\n"
     ]
    },
    {
     "name": "stderr",
     "output_type": "stream",
     "text": [
      "yt : [INFO     ] 2022-07-13 19:23:58,141 Parameters: current_time              = 394.56652781829\n",
      "yt : [INFO     ] 2022-07-13 19:23:58,144 Parameters: domain_dimensions         = [256 256 256]\n",
      "yt : [INFO     ] 2022-07-13 19:23:58,150 Parameters: domain_left_edge          = [0. 0. 0.]\n",
      "yt : [INFO     ] 2022-07-13 19:23:58,153 Parameters: domain_right_edge         = [1. 1. 1.]\n",
      "yt : [INFO     ] 2022-07-13 19:23:58,155 Parameters: cosmological_simulation   = 1\n",
      "yt : [INFO     ] 2022-07-13 19:23:58,155 Parameters: current_redshift          = 0.52343841686509\n",
      "yt : [INFO     ] 2022-07-13 19:23:58,156 Parameters: omega_lambda              = 0.715\n",
      "yt : [INFO     ] 2022-07-13 19:23:58,156 Parameters: omega_matter              = 0.285\n",
      "yt : [INFO     ] 2022-07-13 19:23:58,157 Parameters: omega_radiation           = 0.0\n",
      "yt : [INFO     ] 2022-07-13 19:23:58,157 Parameters: hubble_constant           = 0.695\n"
     ]
    },
    {
     "name": "stdout",
     "output_type": "stream",
     "text": [
      "get_refine_box: using this location:       col1         col2     col3     col4     col5     col6     col7   col8\n",
      "---------------- -------- -------- -------- -------- -------- -------- ----\n",
      "0.52343841686509 0.490445 0.477276 0.505537 0.492445 0.479276 0.507537    9\n"
     ]
    },
    {
     "name": "stderr",
     "output_type": "stream",
     "text": [
      "Parsing Hierarchy : 100%|████████████████| 6011/6011 [00:00<00:00, 16778.66it/s]\n",
      "yt : [INFO     ] 2022-07-13 19:23:58,761 Gathering a field list (this may take a moment.)\n",
      "yt : [WARNING  ] 2022-07-13 19:24:01,544 The stars particle filter already exists. Overriding.\n",
      "yt : [WARNING  ] 2022-07-13 19:24:01,545 The DM particle filter already exists. Overriding.\n"
     ]
    },
    {
     "name": "stdout",
     "output_type": "stream",
     "text": [
      "Pulling halo center from catalog file\n",
      "Opening snapshot /Volumes/TempestTimeSteps/DD1467/DD1467\n"
     ]
    },
    {
     "name": "stderr",
     "output_type": "stream",
     "text": [
      "yt : [INFO     ] 2022-07-13 19:24:01,732 Parameters: current_time              = 399.56652781829\n",
      "yt : [INFO     ] 2022-07-13 19:24:01,736 Parameters: domain_dimensions         = [256 256 256]\n",
      "yt : [INFO     ] 2022-07-13 19:24:01,740 Parameters: domain_left_edge          = [0. 0. 0.]\n",
      "yt : [INFO     ] 2022-07-13 19:24:01,743 Parameters: domain_right_edge         = [1. 1. 1.]\n",
      "yt : [INFO     ] 2022-07-13 19:24:01,744 Parameters: cosmological_simulation   = 1\n",
      "yt : [INFO     ] 2022-07-13 19:24:01,744 Parameters: current_redshift          = 0.50829046728324\n",
      "yt : [INFO     ] 2022-07-13 19:24:01,745 Parameters: omega_lambda              = 0.715\n",
      "yt : [INFO     ] 2022-07-13 19:24:01,745 Parameters: omega_matter              = 0.285\n",
      "yt : [INFO     ] 2022-07-13 19:24:01,746 Parameters: omega_radiation           = 0.0\n",
      "yt : [INFO     ] 2022-07-13 19:24:01,746 Parameters: hubble_constant           = 0.695\n"
     ]
    },
    {
     "name": "stdout",
     "output_type": "stream",
     "text": [
      "get_refine_box: using this location:       col1         col2     col3     col4     col5     col6     col7   col8\n",
      "---------------- -------- -------- -------- -------- -------- -------- ----\n",
      "0.50829046728324 0.490403 0.477105 0.505623 0.492403 0.479105 0.507623    9\n"
     ]
    },
    {
     "name": "stderr",
     "output_type": "stream",
     "text": [
      "Parsing Hierarchy : 100%|████████████████| 6171/6171 [00:00<00:00, 17339.97it/s]\n",
      "yt : [INFO     ] 2022-07-13 19:24:02,349 Gathering a field list (this may take a moment.)\n",
      "yt : [WARNING  ] 2022-07-13 19:24:05,064 The stars particle filter already exists. Overriding.\n",
      "yt : [WARNING  ] 2022-07-13 19:24:05,065 The DM particle filter already exists. Overriding.\n"
     ]
    },
    {
     "name": "stdout",
     "output_type": "stream",
     "text": [
      "Pulling halo center from catalog file\n",
      "Opening snapshot /Volumes/TempestTimeSteps/DD1487/DD1487\n"
     ]
    },
    {
     "name": "stderr",
     "output_type": "stream",
     "text": [
      "yt : [INFO     ] 2022-07-13 19:24:05,252 Parameters: current_time              = 404.56652781829\n",
      "yt : [INFO     ] 2022-07-13 19:24:05,256 Parameters: domain_dimensions         = [256 256 256]\n",
      "yt : [INFO     ] 2022-07-13 19:24:05,259 Parameters: domain_left_edge          = [0. 0. 0.]\n",
      "yt : [INFO     ] 2022-07-13 19:24:05,262 Parameters: domain_right_edge         = [1. 1. 1.]\n",
      "yt : [INFO     ] 2022-07-13 19:24:05,263 Parameters: cosmological_simulation   = 1\n",
      "yt : [INFO     ] 2022-07-13 19:24:05,263 Parameters: current_redshift          = 0.49342124762432\n",
      "yt : [INFO     ] 2022-07-13 19:24:05,264 Parameters: omega_lambda              = 0.715\n",
      "yt : [INFO     ] 2022-07-13 19:24:05,265 Parameters: omega_matter              = 0.285\n",
      "yt : [INFO     ] 2022-07-13 19:24:05,266 Parameters: omega_radiation           = 0.0\n",
      "yt : [INFO     ] 2022-07-13 19:24:05,267 Parameters: hubble_constant           = 0.695\n"
     ]
    },
    {
     "name": "stdout",
     "output_type": "stream",
     "text": [
      "get_refine_box: using this location:       col1         col2     col3     col4     col5     col6     col7   col8\n",
      "---------------- -------- -------- -------- -------- -------- -------- ----\n",
      "0.49342124762432 0.490359 0.476933 0.505703 0.492359 0.478933 0.507703    9\n"
     ]
    },
    {
     "name": "stderr",
     "output_type": "stream",
     "text": [
      "Parsing Hierarchy : 100%|████████████████| 5910/5910 [00:00<00:00, 17471.14it/s]\n",
      "yt : [INFO     ] 2022-07-13 19:24:05,845 Gathering a field list (this may take a moment.)\n",
      "yt : [WARNING  ] 2022-07-13 19:24:08,754 The stars particle filter already exists. Overriding.\n",
      "yt : [WARNING  ] 2022-07-13 19:24:08,755 The DM particle filter already exists. Overriding.\n"
     ]
    },
    {
     "name": "stdout",
     "output_type": "stream",
     "text": [
      "Pulling halo center from catalog file\n",
      "Opening snapshot /Volumes/TempestTimeSteps/DD1507/DD1507\n"
     ]
    },
    {
     "name": "stderr",
     "output_type": "stream",
     "text": [
      "yt : [INFO     ] 2022-07-13 19:24:08,936 Parameters: current_time              = 409.56652781829\n",
      "yt : [INFO     ] 2022-07-13 19:24:08,938 Parameters: domain_dimensions         = [256 256 256]\n",
      "yt : [INFO     ] 2022-07-13 19:24:08,940 Parameters: domain_left_edge          = [0. 0. 0.]\n",
      "yt : [INFO     ] 2022-07-13 19:24:08,943 Parameters: domain_right_edge         = [1. 1. 1.]\n",
      "yt : [INFO     ] 2022-07-13 19:24:08,944 Parameters: cosmological_simulation   = 1\n",
      "yt : [INFO     ] 2022-07-13 19:24:08,945 Parameters: current_redshift          = 0.47882175604921\n",
      "yt : [INFO     ] 2022-07-13 19:24:08,945 Parameters: omega_lambda              = 0.715\n",
      "yt : [INFO     ] 2022-07-13 19:24:08,946 Parameters: omega_matter              = 0.285\n",
      "yt : [INFO     ] 2022-07-13 19:24:08,947 Parameters: omega_radiation           = 0.0\n",
      "yt : [INFO     ] 2022-07-13 19:24:08,947 Parameters: hubble_constant           = 0.695\n"
     ]
    },
    {
     "name": "stdout",
     "output_type": "stream",
     "text": [
      "get_refine_box: using this location:       col1         col2     col3     col4     col5     col6     col7   col8\n",
      "---------------- -------- -------- -------- -------- -------- -------- ----\n",
      "0.47882175604921 0.490311 0.476767 0.505778 0.492311 0.478767 0.507778    9\n"
     ]
    },
    {
     "name": "stderr",
     "output_type": "stream",
     "text": [
      "Parsing Hierarchy : 100%|████████████████| 5867/5867 [00:00<00:00, 17282.42it/s]\n",
      "yt : [INFO     ] 2022-07-13 19:24:09,522 Gathering a field list (this may take a moment.)\n",
      "yt : [WARNING  ] 2022-07-13 19:24:12,288 The stars particle filter already exists. Overriding.\n",
      "yt : [WARNING  ] 2022-07-13 19:24:12,289 The DM particle filter already exists. Overriding.\n"
     ]
    },
    {
     "name": "stdout",
     "output_type": "stream",
     "text": [
      "Pulling halo center from catalog file\n",
      "Opening snapshot /Volumes/TempestTimeSteps/DD1527/DD1527\n"
     ]
    },
    {
     "name": "stderr",
     "output_type": "stream",
     "text": [
      "yt : [INFO     ] 2022-07-13 19:24:12,463 Parameters: current_time              = 414.56652781829\n",
      "yt : [INFO     ] 2022-07-13 19:24:12,465 Parameters: domain_dimensions         = [256 256 256]\n",
      "yt : [INFO     ] 2022-07-13 19:24:12,467 Parameters: domain_left_edge          = [0. 0. 0.]\n",
      "yt : [INFO     ] 2022-07-13 19:24:12,470 Parameters: domain_right_edge         = [1. 1. 1.]\n",
      "yt : [INFO     ] 2022-07-13 19:24:12,471 Parameters: cosmological_simulation   = 1\n",
      "yt : [INFO     ] 2022-07-13 19:24:12,471 Parameters: current_redshift          = 0.46448339402042\n",
      "yt : [INFO     ] 2022-07-13 19:24:12,472 Parameters: omega_lambda              = 0.715\n",
      "yt : [INFO     ] 2022-07-13 19:24:12,472 Parameters: omega_matter              = 0.285\n",
      "yt : [INFO     ] 2022-07-13 19:24:12,472 Parameters: omega_radiation           = 0.0\n",
      "yt : [INFO     ] 2022-07-13 19:24:12,473 Parameters: hubble_constant           = 0.695\n"
     ]
    },
    {
     "name": "stdout",
     "output_type": "stream",
     "text": [
      "get_refine_box: using this location:       col1         col2     col3     col4     col5     col6     col7   col8\n",
      "---------------- -------- -------- -------- -------- -------- -------- ----\n",
      "0.46448339402042 0.490271 0.476607 0.505839 0.492271 0.478607 0.507839    9\n"
     ]
    },
    {
     "name": "stderr",
     "output_type": "stream",
     "text": [
      "Parsing Hierarchy : 100%|████████████████| 5969/5969 [00:00<00:00, 17569.12it/s]\n",
      "yt : [INFO     ] 2022-07-13 19:24:13,047 Gathering a field list (this may take a moment.)\n",
      "yt : [WARNING  ] 2022-07-13 19:24:15,914 The stars particle filter already exists. Overriding.\n",
      "yt : [WARNING  ] 2022-07-13 19:24:15,915 The DM particle filter already exists. Overriding.\n",
      "yt : [INFO     ] 2022-07-13 19:24:16,020 Parameters: current_time              = 419.56652781829\n",
      "yt : [INFO     ] 2022-07-13 19:24:16,022 Parameters: domain_dimensions         = [256 256 256]\n",
      "yt : [INFO     ] 2022-07-13 19:24:16,024 Parameters: domain_left_edge          = [0. 0. 0.]\n",
      "yt : [INFO     ] 2022-07-13 19:24:16,027 Parameters: domain_right_edge         = [1. 1. 1.]\n",
      "yt : [INFO     ] 2022-07-13 19:24:16,028 Parameters: cosmological_simulation   = 1\n",
      "yt : [INFO     ] 2022-07-13 19:24:16,028 Parameters: current_redshift          = 0.45039794375812\n",
      "yt : [INFO     ] 2022-07-13 19:24:16,028 Parameters: omega_lambda              = 0.715\n",
      "yt : [INFO     ] 2022-07-13 19:24:16,029 Parameters: omega_matter              = 0.285\n",
      "yt : [INFO     ] 2022-07-13 19:24:16,030 Parameters: omega_radiation           = 0.0\n",
      "yt : [INFO     ] 2022-07-13 19:24:16,030 Parameters: hubble_constant           = 0.695\n"
     ]
    },
    {
     "name": "stdout",
     "output_type": "stream",
     "text": [
      "Pulling halo center from catalog file\n",
      "Opening snapshot /Volumes/TempestTimeSteps/DD1547/DD1547\n",
      "get_refine_box: using this location:       col1         col2     col3     col4     col5     col6     col7   col8\n",
      "---------------- -------- -------- -------- -------- -------- -------- ----\n",
      "0.45039794375812 0.490235 0.476443 0.505904 0.492235 0.478443 0.507904    9\n"
     ]
    },
    {
     "name": "stderr",
     "output_type": "stream",
     "text": [
      "Parsing Hierarchy : 100%|████████████████| 5953/5953 [00:00<00:00, 18049.95it/s]\n",
      "yt : [INFO     ] 2022-07-13 19:24:16,584 Gathering a field list (this may take a moment.)\n",
      "yt : [WARNING  ] 2022-07-13 19:24:19,319 The stars particle filter already exists. Overriding.\n",
      "yt : [WARNING  ] 2022-07-13 19:24:19,320 The DM particle filter already exists. Overriding.\n"
     ]
    },
    {
     "name": "stdout",
     "output_type": "stream",
     "text": [
      "Pulling halo center from catalog file\n",
      "Opening snapshot /Volumes/TempestTimeSteps/DD1567/DD1567\n"
     ]
    },
    {
     "name": "stderr",
     "output_type": "stream",
     "text": [
      "yt : [INFO     ] 2022-07-13 19:24:19,529 Parameters: current_time              = 424.56652781829\n",
      "yt : [INFO     ] 2022-07-13 19:24:19,531 Parameters: domain_dimensions         = [256 256 256]\n",
      "yt : [INFO     ] 2022-07-13 19:24:19,534 Parameters: domain_left_edge          = [0. 0. 0.]\n",
      "yt : [INFO     ] 2022-07-13 19:24:19,536 Parameters: domain_right_edge         = [1. 1. 1.]\n",
      "yt : [INFO     ] 2022-07-13 19:24:19,537 Parameters: cosmological_simulation   = 1\n",
      "yt : [INFO     ] 2022-07-13 19:24:19,537 Parameters: current_redshift          = 0.43654854251444\n",
      "yt : [INFO     ] 2022-07-13 19:24:19,538 Parameters: omega_lambda              = 0.715\n",
      "yt : [INFO     ] 2022-07-13 19:24:19,539 Parameters: omega_matter              = 0.285\n",
      "yt : [INFO     ] 2022-07-13 19:24:19,540 Parameters: omega_radiation           = 0\n",
      "yt : [INFO     ] 2022-07-13 19:24:19,541 Parameters: hubble_constant           = 0.695\n"
     ]
    },
    {
     "name": "stdout",
     "output_type": "stream",
     "text": [
      "get_refine_box: using this location:       col1         col2     col3     col4     col5     col6     col7   col8\n",
      "---------------- -------- -------- -------- -------- -------- -------- ----\n",
      "0.43655754720396 0.490199 0.476281 0.505972 0.492199 0.478281 0.507972    9\n"
     ]
    },
    {
     "name": "stderr",
     "output_type": "stream",
     "text": [
      "Parsing Hierarchy : 100%|████████████████| 5989/5989 [00:00<00:00, 18857.11it/s]\n",
      "yt : [INFO     ] 2022-07-13 19:24:20,092 Gathering a field list (this may take a moment.)\n",
      "yt : [WARNING  ] 2022-07-13 19:24:22,879 The stars particle filter already exists. Overriding.\n",
      "yt : [WARNING  ] 2022-07-13 19:24:22,880 The DM particle filter already exists. Overriding.\n"
     ]
    },
    {
     "name": "stdout",
     "output_type": "stream",
     "text": [
      "Pulling halo center from catalog file\n",
      "Opening snapshot /Volumes/TempestTimeSteps/DD1587/DD1587\n"
     ]
    },
    {
     "name": "stderr",
     "output_type": "stream",
     "text": [
      "yt : [INFO     ] 2022-07-13 19:24:23,060 Parameters: current_time              = 429.56652781829\n",
      "yt : [INFO     ] 2022-07-13 19:24:23,063 Parameters: domain_dimensions         = [256 256 256]\n",
      "yt : [INFO     ] 2022-07-13 19:24:23,067 Parameters: domain_left_edge          = [0. 0. 0.]\n",
      "yt : [INFO     ] 2022-07-13 19:24:23,070 Parameters: domain_right_edge         = [1. 1. 1.]\n",
      "yt : [INFO     ] 2022-07-13 19:24:23,070 Parameters: cosmological_simulation   = 1\n",
      "yt : [INFO     ] 2022-07-13 19:24:23,071 Parameters: current_redshift          = 0.42294018464771\n",
      "yt : [INFO     ] 2022-07-13 19:24:23,072 Parameters: omega_lambda              = 0.715\n",
      "yt : [INFO     ] 2022-07-13 19:24:23,072 Parameters: omega_matter              = 0.285\n",
      "yt : [INFO     ] 2022-07-13 19:24:23,073 Parameters: omega_radiation           = 0\n",
      "yt : [INFO     ] 2022-07-13 19:24:23,073 Parameters: hubble_constant           = 0.695\n"
     ]
    },
    {
     "name": "stdout",
     "output_type": "stream",
     "text": [
      "get_refine_box: using this location:       col1         col2     col3     col4     col5     col6     col7   col8\n",
      "---------------- -------- -------- -------- -------- -------- -------- ----\n",
      "0.42295468637566 0.490164 0.476115 0.506041 0.492164 0.478115 0.508041    9\n"
     ]
    },
    {
     "name": "stderr",
     "output_type": "stream",
     "text": [
      "Parsing Hierarchy : 100%|████████████████| 5816/5816 [00:00<00:00, 17580.82it/s]\n",
      "yt : [INFO     ] 2022-07-13 19:24:23,636 Gathering a field list (this may take a moment.)\n",
      "yt : [WARNING  ] 2022-07-13 19:24:27,229 The stars particle filter already exists. Overriding.\n",
      "yt : [WARNING  ] 2022-07-13 19:24:27,230 The DM particle filter already exists. Overriding.\n"
     ]
    },
    {
     "name": "stdout",
     "output_type": "stream",
     "text": [
      "Pulling halo center from catalog file\n",
      "Opening snapshot /Volumes/TempestTimeSteps/DD1607/DD1607\n"
     ]
    },
    {
     "name": "stderr",
     "output_type": "stream",
     "text": [
      "yt : [INFO     ] 2022-07-13 19:24:27,412 Parameters: current_time              = 434.56652781829\n",
      "yt : [INFO     ] 2022-07-13 19:24:27,415 Parameters: domain_dimensions         = [256 256 256]\n",
      "yt : [INFO     ] 2022-07-13 19:24:27,418 Parameters: domain_left_edge          = [0. 0. 0.]\n",
      "yt : [INFO     ] 2022-07-13 19:24:27,422 Parameters: domain_right_edge         = [1. 1. 1.]\n",
      "yt : [INFO     ] 2022-07-13 19:24:27,423 Parameters: cosmological_simulation   = 1\n",
      "yt : [INFO     ] 2022-07-13 19:24:27,424 Parameters: current_redshift          = 0.40957366338403\n",
      "yt : [INFO     ] 2022-07-13 19:24:27,425 Parameters: omega_lambda              = 0.715\n",
      "yt : [INFO     ] 2022-07-13 19:24:27,425 Parameters: omega_matter              = 0.285\n",
      "yt : [INFO     ] 2022-07-13 19:24:27,426 Parameters: omega_radiation           = 0\n",
      "yt : [INFO     ] 2022-07-13 19:24:27,427 Parameters: hubble_constant           = 0.695\n"
     ]
    },
    {
     "name": "stdout",
     "output_type": "stream",
     "text": [
      "get_refine_box: using this location:       col1        col2     col3     col4     col5     col6     col7   col8\n",
      "--------------- -------- -------- -------- -------- -------- -------- ----\n",
      "0.4095821650052 0.490128 0.475951 0.506113 0.492128 0.477951 0.508113    9\n"
     ]
    },
    {
     "name": "stderr",
     "output_type": "stream",
     "text": [
      "Parsing Hierarchy : 100%|██████████████████| 5789/5789 [00:06<00:00, 924.16it/s]\n",
      "yt : [INFO     ] 2022-07-13 19:24:34,008 Gathering a field list (this may take a moment.)\n",
      "yt : [WARNING  ] 2022-07-13 19:24:36,882 The stars particle filter already exists. Overriding.\n",
      "yt : [WARNING  ] 2022-07-13 19:24:36,883 The DM particle filter already exists. Overriding.\n"
     ]
    },
    {
     "name": "stdout",
     "output_type": "stream",
     "text": [
      "Pulling halo center from catalog file\n",
      "Opening snapshot /Volumes/TempestTimeSteps/DD1627/DD1627\n"
     ]
    },
    {
     "name": "stderr",
     "output_type": "stream",
     "text": [
      "yt : [INFO     ] 2022-07-13 19:24:37,075 Parameters: current_time              = 439.56652781829\n",
      "yt : [INFO     ] 2022-07-13 19:24:37,077 Parameters: domain_dimensions         = [256 256 256]\n",
      "yt : [INFO     ] 2022-07-13 19:24:37,079 Parameters: domain_left_edge          = [0. 0. 0.]\n",
      "yt : [INFO     ] 2022-07-13 19:24:37,081 Parameters: domain_right_edge         = [1. 1. 1.]\n",
      "yt : [INFO     ] 2022-07-13 19:24:37,082 Parameters: cosmological_simulation   = 1\n",
      "yt : [INFO     ] 2022-07-13 19:24:37,082 Parameters: current_redshift          = 0.39642584964378\n",
      "yt : [INFO     ] 2022-07-13 19:24:37,083 Parameters: omega_lambda              = 0.715\n",
      "yt : [INFO     ] 2022-07-13 19:24:37,083 Parameters: omega_matter              = 0.285\n",
      "yt : [INFO     ] 2022-07-13 19:24:37,084 Parameters: omega_radiation           = 0\n",
      "yt : [INFO     ] 2022-07-13 19:24:37,085 Parameters: hubble_constant           = 0.695\n"
     ]
    },
    {
     "name": "stdout",
     "output_type": "stream",
     "text": [
      "get_refine_box: using this location:       col1         col2     col3     col4     col5     col6     col7   col8\n",
      "---------------- -------- -------- -------- -------- -------- -------- ----\n",
      "0.39643309136323 0.490092 0.475789 0.506186 0.492092 0.477789 0.508186    9\n"
     ]
    },
    {
     "name": "stderr",
     "output_type": "stream",
     "text": [
      "Parsing Hierarchy : 100%|████████████████| 5643/5643 [00:00<00:00, 18286.29it/s]\n",
      "yt : [INFO     ] 2022-07-13 19:24:37,639 Gathering a field list (this may take a moment.)\n",
      "yt : [WARNING  ] 2022-07-13 19:24:40,246 The stars particle filter already exists. Overriding.\n",
      "yt : [WARNING  ] 2022-07-13 19:24:40,247 The DM particle filter already exists. Overriding.\n"
     ]
    },
    {
     "name": "stdout",
     "output_type": "stream",
     "text": [
      "Pulling halo center from catalog file\n",
      "Opening snapshot /Volumes/TempestTimeSteps/DD1647/DD1647\n"
     ]
    },
    {
     "name": "stderr",
     "output_type": "stream",
     "text": [
      "yt : [INFO     ] 2022-07-13 19:24:40,423 Parameters: current_time              = 444.56652781829\n",
      "yt : [INFO     ] 2022-07-13 19:24:40,425 Parameters: domain_dimensions         = [256 256 256]\n",
      "yt : [INFO     ] 2022-07-13 19:24:40,428 Parameters: domain_left_edge          = [0. 0. 0.]\n",
      "yt : [INFO     ] 2022-07-13 19:24:40,430 Parameters: domain_right_edge         = [1. 1. 1.]\n",
      "yt : [INFO     ] 2022-07-13 19:24:40,430 Parameters: cosmological_simulation   = 1\n",
      "yt : [INFO     ] 2022-07-13 19:24:40,431 Parameters: current_redshift          = 0.38348625944323\n",
      "yt : [INFO     ] 2022-07-13 19:24:40,432 Parameters: omega_lambda              = 0.715\n",
      "yt : [INFO     ] 2022-07-13 19:24:40,433 Parameters: omega_matter              = 0.285\n",
      "yt : [INFO     ] 2022-07-13 19:24:40,434 Parameters: omega_radiation           = 0\n",
      "yt : [INFO     ] 2022-07-13 19:24:40,434 Parameters: hubble_constant           = 0.695\n"
     ]
    },
    {
     "name": "stdout",
     "output_type": "stream",
     "text": [
      "get_refine_box: using this location:       col1         col2     col3     col4    col5     col6     col7  col8\n",
      "---------------- -------- -------- ------- -------- -------- ------- ----\n",
      "0.38350086218055 0.490054 0.475624 0.50626 0.492054 0.477624 0.50826    9\n"
     ]
    },
    {
     "name": "stderr",
     "output_type": "stream",
     "text": [
      "Parsing Hierarchy : 100%|████████████████| 5260/5260 [00:00<00:00, 17902.06it/s]\n",
      "yt : [INFO     ] 2022-07-13 19:24:40,952 Gathering a field list (this may take a moment.)\n",
      "yt : [WARNING  ] 2022-07-13 19:24:43,637 The stars particle filter already exists. Overriding.\n",
      "yt : [WARNING  ] 2022-07-13 19:24:43,638 The DM particle filter already exists. Overriding.\n"
     ]
    },
    {
     "name": "stdout",
     "output_type": "stream",
     "text": [
      "Pulling halo center from catalog file\n",
      "Opening snapshot /Volumes/TempestTimeSteps/DD1667/DD1667\n"
     ]
    },
    {
     "name": "stderr",
     "output_type": "stream",
     "text": [
      "yt : [INFO     ] 2022-07-13 19:24:43,810 Parameters: current_time              = 449.56652781829\n",
      "yt : [INFO     ] 2022-07-13 19:24:43,814 Parameters: domain_dimensions         = [256 256 256]\n",
      "yt : [INFO     ] 2022-07-13 19:24:43,818 Parameters: domain_left_edge          = [0. 0. 0.]\n",
      "yt : [INFO     ] 2022-07-13 19:24:43,821 Parameters: domain_right_edge         = [1. 1. 1.]\n",
      "yt : [INFO     ] 2022-07-13 19:24:43,822 Parameters: cosmological_simulation   = 1\n",
      "yt : [INFO     ] 2022-07-13 19:24:43,822 Parameters: current_redshift          = 0.37076988451991\n",
      "yt : [INFO     ] 2022-07-13 19:24:43,823 Parameters: omega_lambda              = 0.715\n",
      "yt : [INFO     ] 2022-07-13 19:24:43,824 Parameters: omega_matter              = 0.285\n",
      "yt : [INFO     ] 2022-07-13 19:24:43,824 Parameters: omega_radiation           = 0\n",
      "yt : [INFO     ] 2022-07-13 19:24:43,825 Parameters: hubble_constant           = 0.695\n"
     ]
    },
    {
     "name": "stdout",
     "output_type": "stream",
     "text": [
      "get_refine_box: using this location:       col1         col2     col3     col4     col5     col6     col7   col8\n",
      "---------------- -------- -------- -------- -------- -------- -------- ----\n",
      "0.37077914758514 0.490008 0.475464 0.506331 0.492008 0.477464 0.508331    9\n"
     ]
    },
    {
     "name": "stderr",
     "output_type": "stream",
     "text": [
      "Parsing Hierarchy : 100%|████████████████| 5350/5350 [00:00<00:00, 17974.25it/s]\n",
      "yt : [INFO     ] 2022-07-13 19:24:44,337 Gathering a field list (this may take a moment.)\n",
      "yt : [WARNING  ] 2022-07-13 19:24:47,226 The stars particle filter already exists. Overriding.\n",
      "yt : [WARNING  ] 2022-07-13 19:24:47,226 The DM particle filter already exists. Overriding.\n",
      "yt : [INFO     ] 2022-07-13 19:24:47,323 Parameters: current_time              = 454.56652781829\n",
      "yt : [INFO     ] 2022-07-13 19:24:47,325 Parameters: domain_dimensions         = [256 256 256]\n",
      "yt : [INFO     ] 2022-07-13 19:24:47,328 Parameters: domain_left_edge          = [0. 0. 0.]\n",
      "yt : [INFO     ] 2022-07-13 19:24:47,330 Parameters: domain_right_edge         = [1. 1. 1.]\n",
      "yt : [INFO     ] 2022-07-13 19:24:47,331 Parameters: cosmological_simulation   = 1\n",
      "yt : [INFO     ] 2022-07-13 19:24:47,331 Parameters: current_redshift          = 0.35825474228483\n",
      "yt : [INFO     ] 2022-07-13 19:24:47,332 Parameters: omega_lambda              = 0.715\n",
      "yt : [INFO     ] 2022-07-13 19:24:47,333 Parameters: omega_matter              = 0.285\n",
      "yt : [INFO     ] 2022-07-13 19:24:47,333 Parameters: omega_radiation           = 0\n",
      "yt : [INFO     ] 2022-07-13 19:24:47,334 Parameters: hubble_constant           = 0.695\n"
     ]
    },
    {
     "name": "stdout",
     "output_type": "stream",
     "text": [
      "Pulling halo center from catalog file\n",
      "Opening snapshot /Volumes/TempestTimeSteps/DD1687/DD1687\n",
      "get_refine_box: using this location:       col1         col2    col3     col4     col5    col6     col7   col8\n",
      "---------------- ------- -------- -------- ------- -------- -------- ----\n",
      "0.35826187698009 0.48997 0.475304 0.506398 0.49197 0.477304 0.508398    9\n"
     ]
    },
    {
     "name": "stderr",
     "output_type": "stream",
     "text": [
      "Parsing Hierarchy : 100%|████████████████| 5327/5327 [00:00<00:00, 18514.45it/s]\n",
      "yt : [INFO     ] 2022-07-13 19:24:47,818 Gathering a field list (this may take a moment.)\n",
      "yt : [WARNING  ] 2022-07-13 19:24:50,472 The stars particle filter already exists. Overriding.\n",
      "yt : [WARNING  ] 2022-07-13 19:24:50,472 The DM particle filter already exists. Overriding.\n"
     ]
    },
    {
     "name": "stdout",
     "output_type": "stream",
     "text": [
      "Pulling halo center from catalog file\n",
      "Opening snapshot /Volumes/TempestTimeSteps/DD1707/DD1707\n"
     ]
    },
    {
     "name": "stderr",
     "output_type": "stream",
     "text": [
      "yt : [INFO     ] 2022-07-13 19:24:50,643 Parameters: current_time              = 459.56652781829\n",
      "yt : [INFO     ] 2022-07-13 19:24:50,646 Parameters: domain_dimensions         = [256 256 256]\n",
      "yt : [INFO     ] 2022-07-13 19:24:50,649 Parameters: domain_left_edge          = [0. 0. 0.]\n",
      "yt : [INFO     ] 2022-07-13 19:24:50,652 Parameters: domain_right_edge         = [1. 1. 1.]\n",
      "yt : [INFO     ] 2022-07-13 19:24:50,653 Parameters: cosmological_simulation   = 1\n",
      "yt : [INFO     ] 2022-07-13 19:24:50,654 Parameters: current_redshift          = 0.34592847874001\n",
      "yt : [INFO     ] 2022-07-13 19:24:50,654 Parameters: omega_lambda              = 0.715\n",
      "yt : [INFO     ] 2022-07-13 19:24:50,655 Parameters: omega_matter              = 0.285\n",
      "yt : [INFO     ] 2022-07-13 19:24:50,656 Parameters: omega_radiation           = 0\n",
      "yt : [INFO     ] 2022-07-13 19:24:50,656 Parameters: hubble_constant           = 0.695\n"
     ]
    },
    {
     "name": "stdout",
     "output_type": "stream",
     "text": [
      "get_refine_box: using this location:       col1        col2     col3     col4     col5     col6     col7   col8\n",
      "--------------- -------- -------- -------- -------- -------- -------- ----\n",
      "0.3459432257941 0.489933 0.475144 0.506463 0.491933 0.477144 0.508463    9\n"
     ]
    },
    {
     "name": "stderr",
     "output_type": "stream",
     "text": [
      "Parsing Hierarchy : 100%|████████████████| 5353/5353 [00:00<00:00, 18677.06it/s]\n",
      "yt : [INFO     ] 2022-07-13 19:24:51,166 Gathering a field list (this may take a moment.)\n",
      "yt : [WARNING  ] 2022-07-13 19:24:53,800 The stars particle filter already exists. Overriding.\n",
      "yt : [WARNING  ] 2022-07-13 19:24:53,801 The DM particle filter already exists. Overriding.\n"
     ]
    },
    {
     "name": "stdout",
     "output_type": "stream",
     "text": [
      "Pulling halo center from catalog file\n",
      "Opening snapshot /Volumes/TempestTimeSteps/DD1727/DD1727\n"
     ]
    },
    {
     "name": "stderr",
     "output_type": "stream",
     "text": [
      "yt : [INFO     ] 2022-07-13 19:24:53,989 Parameters: current_time              = 464.56652781829\n",
      "yt : [INFO     ] 2022-07-13 19:24:53,991 Parameters: domain_dimensions         = [256 256 256]\n",
      "yt : [INFO     ] 2022-07-13 19:24:53,994 Parameters: domain_left_edge          = [0. 0. 0.]\n",
      "yt : [INFO     ] 2022-07-13 19:24:53,997 Parameters: domain_right_edge         = [1. 1. 1.]\n",
      "yt : [INFO     ] 2022-07-13 19:24:53,998 Parameters: cosmological_simulation   = 1\n",
      "yt : [INFO     ] 2022-07-13 19:24:53,999 Parameters: current_redshift          = 0.33380915572466\n",
      "yt : [INFO     ] 2022-07-13 19:24:54,000 Parameters: omega_lambda              = 0.715\n",
      "yt : [INFO     ] 2022-07-13 19:24:54,001 Parameters: omega_matter              = 0.285\n",
      "yt : [INFO     ] 2022-07-13 19:24:54,001 Parameters: omega_radiation           = 0\n",
      "yt : [INFO     ] 2022-07-13 19:24:54,003 Parameters: hubble_constant           = 0.695\n"
     ]
    },
    {
     "name": "stdout",
     "output_type": "stream",
     "text": [
      "get_refine_box: using this location:       col1         col2     col3     col4     col5     col6     col7   col8\n",
      "---------------- -------- -------- -------- -------- -------- -------- ----\n",
      "0.33381760304183 0.489899 0.474982 0.506529 0.491899 0.476982 0.508529    9\n"
     ]
    },
    {
     "name": "stderr",
     "output_type": "stream",
     "text": [
      "Parsing Hierarchy : 100%|████████████████| 5384/5384 [00:00<00:00, 18419.25it/s]\n",
      "yt : [INFO     ] 2022-07-13 19:24:54,520 Gathering a field list (this may take a moment.)\n",
      "yt : [WARNING  ] 2022-07-13 19:24:57,214 The stars particle filter already exists. Overriding.\n",
      "yt : [WARNING  ] 2022-07-13 19:24:57,215 The DM particle filter already exists. Overriding.\n"
     ]
    },
    {
     "name": "stdout",
     "output_type": "stream",
     "text": [
      "Pulling halo center from catalog file\n",
      "Opening snapshot /Volumes/TempestTimeSteps/DD1747/DD1747\n"
     ]
    },
    {
     "name": "stderr",
     "output_type": "stream",
     "text": [
      "yt : [INFO     ] 2022-07-13 19:24:57,412 Parameters: current_time              = 469.56652781829\n",
      "yt : [INFO     ] 2022-07-13 19:24:57,415 Parameters: domain_dimensions         = [256 256 256]\n",
      "yt : [INFO     ] 2022-07-13 19:24:57,418 Parameters: domain_left_edge          = [0. 0. 0.]\n",
      "yt : [INFO     ] 2022-07-13 19:24:57,420 Parameters: domain_right_edge         = [1. 1. 1.]\n",
      "yt : [INFO     ] 2022-07-13 19:24:57,421 Parameters: cosmological_simulation   = 1\n",
      "yt : [INFO     ] 2022-07-13 19:24:57,421 Parameters: current_redshift          = 0.32187097991253\n",
      "yt : [INFO     ] 2022-07-13 19:24:57,422 Parameters: omega_lambda              = 0.715\n",
      "yt : [INFO     ] 2022-07-13 19:24:57,422 Parameters: omega_matter              = 0.285\n",
      "yt : [INFO     ] 2022-07-13 19:24:57,423 Parameters: omega_radiation           = 0\n",
      "yt : [INFO     ] 2022-07-13 19:24:57,423 Parameters: hubble_constant           = 0.695\n"
     ]
    },
    {
     "name": "stdout",
     "output_type": "stream",
     "text": [
      "get_refine_box: using this location:       col1         col2     col3     col4     col5     col6     col7   col8\n",
      "---------------- -------- -------- -------- -------- -------- -------- ----\n",
      "0.32187963963644 0.489863 0.474823 0.506592 0.491863 0.476823 0.508592    9\n"
     ]
    },
    {
     "name": "stderr",
     "output_type": "stream",
     "text": [
      "Parsing Hierarchy : 100%|████████████████| 5338/5338 [00:00<00:00, 18125.32it/s]\n",
      "yt : [INFO     ] 2022-07-13 19:24:57,946 Gathering a field list (this may take a moment.)\n",
      "yt : [WARNING  ] 2022-07-13 19:25:00,723 The stars particle filter already exists. Overriding.\n",
      "yt : [WARNING  ] 2022-07-13 19:25:00,724 The DM particle filter already exists. Overriding.\n"
     ]
    },
    {
     "name": "stdout",
     "output_type": "stream",
     "text": [
      "Pulling halo center from catalog file\n",
      "Opening snapshot /Volumes/TempestTimeSteps/DD1767/DD1767\n"
     ]
    },
    {
     "name": "stderr",
     "output_type": "stream",
     "text": [
      "yt : [INFO     ] 2022-07-13 19:25:00,899 Parameters: current_time              = 474.56652781829\n",
      "yt : [INFO     ] 2022-07-13 19:25:00,902 Parameters: domain_dimensions         = [256 256 256]\n",
      "yt : [INFO     ] 2022-07-13 19:25:00,905 Parameters: domain_left_edge          = [0. 0. 0.]\n",
      "yt : [INFO     ] 2022-07-13 19:25:00,908 Parameters: domain_right_edge         = [1. 1. 1.]\n",
      "yt : [INFO     ] 2022-07-13 19:25:00,909 Parameters: cosmological_simulation   = 1\n",
      "yt : [INFO     ] 2022-07-13 19:25:00,910 Parameters: current_redshift          = 0.31010937956297\n",
      "yt : [INFO     ] 2022-07-13 19:25:00,910 Parameters: omega_lambda              = 0.715\n",
      "yt : [INFO     ] 2022-07-13 19:25:00,911 Parameters: omega_matter              = 0.285\n",
      "yt : [INFO     ] 2022-07-13 19:25:00,911 Parameters: omega_radiation           = 0\n",
      "yt : [INFO     ] 2022-07-13 19:25:00,912 Parameters: hubble_constant           = 0.695\n"
     ]
    },
    {
     "name": "stdout",
     "output_type": "stream",
     "text": [
      "get_refine_box: using this location:       col1         col2     col3     col4     col5     col6     col7   col8\n",
      "---------------- -------- -------- -------- -------- -------- -------- ----\n",
      "0.31012417740147 0.489823 0.474669 0.506653 0.491823 0.476669 0.508653    9\n"
     ]
    },
    {
     "name": "stderr",
     "output_type": "stream",
     "text": [
      "Parsing Hierarchy : 100%|████████████████| 5392/5392 [00:00<00:00, 16563.40it/s]\n",
      "yt : [INFO     ] 2022-07-13 19:25:01,471 Gathering a field list (this may take a moment.)\n",
      "yt : [WARNING  ] 2022-07-13 19:25:04,353 The stars particle filter already exists. Overriding.\n",
      "yt : [WARNING  ] 2022-07-13 19:25:04,353 The DM particle filter already exists. Overriding.\n"
     ]
    },
    {
     "name": "stdout",
     "output_type": "stream",
     "text": [
      "Pulling halo center from catalog file\n",
      "Opening snapshot /Volumes/TempestTimeSteps/DD1787/DD1787\n"
     ]
    },
    {
     "name": "stderr",
     "output_type": "stream",
     "text": [
      "yt : [INFO     ] 2022-07-13 19:25:04,524 Parameters: current_time              = 479.56652781829\n",
      "yt : [INFO     ] 2022-07-13 19:25:04,527 Parameters: domain_dimensions         = [256 256 256]\n",
      "yt : [INFO     ] 2022-07-13 19:25:04,530 Parameters: domain_left_edge          = [0. 0. 0.]\n",
      "yt : [INFO     ] 2022-07-13 19:25:04,532 Parameters: domain_right_edge         = [1. 1. 1.]\n",
      "yt : [INFO     ] 2022-07-13 19:25:04,533 Parameters: cosmological_simulation   = 1\n",
      "yt : [INFO     ] 2022-07-13 19:25:04,533 Parameters: current_redshift          = 0.29854043336148\n",
      "yt : [INFO     ] 2022-07-13 19:25:04,534 Parameters: omega_lambda              = 0.715\n",
      "yt : [INFO     ] 2022-07-13 19:25:04,535 Parameters: omega_matter              = 0.285\n",
      "yt : [INFO     ] 2022-07-13 19:25:04,536 Parameters: omega_radiation           = 0\n",
      "yt : [INFO     ] 2022-07-13 19:25:04,536 Parameters: hubble_constant           = 0.695\n"
     ]
    },
    {
     "name": "stdout",
     "output_type": "stream",
     "text": [
      "get_refine_box: using this location:       col1         col2     col3     col4     col5     col6     col7   col8\n",
      "---------------- -------- -------- -------- -------- -------- -------- ----\n",
      "0.29854625873325 0.489788 0.474513 0.506712 0.491788 0.476513 0.508712    9\n"
     ]
    },
    {
     "name": "stderr",
     "output_type": "stream",
     "text": [
      "Parsing Hierarchy : 100%|████████████████| 5500/5500 [00:00<00:00, 18802.71it/s]\n",
      "yt : [INFO     ] 2022-07-13 19:25:05,047 Gathering a field list (this may take a moment.)\n",
      "yt : [WARNING  ] 2022-07-13 19:25:07,678 The stars particle filter already exists. Overriding.\n",
      "yt : [WARNING  ] 2022-07-13 19:25:07,678 The DM particle filter already exists. Overriding.\n"
     ]
    },
    {
     "name": "stdout",
     "output_type": "stream",
     "text": [
      "Pulling halo center from catalog file\n",
      "Opening snapshot /Volumes/TempestTimeSteps/DD1807/DD1807\n"
     ]
    },
    {
     "name": "stderr",
     "output_type": "stream",
     "text": [
      "yt : [INFO     ] 2022-07-13 19:25:07,853 Parameters: current_time              = 484.56652781829\n",
      "yt : [INFO     ] 2022-07-13 19:25:07,857 Parameters: domain_dimensions         = [256 256 256]\n",
      "yt : [INFO     ] 2022-07-13 19:25:07,860 Parameters: domain_left_edge          = [0. 0. 0.]\n",
      "yt : [INFO     ] 2022-07-13 19:25:07,862 Parameters: domain_right_edge         = [1. 1. 1.]\n",
      "yt : [INFO     ] 2022-07-13 19:25:07,863 Parameters: cosmological_simulation   = 1\n",
      "yt : [INFO     ] 2022-07-13 19:25:07,864 Parameters: current_redshift          = 0.28712989799233\n",
      "yt : [INFO     ] 2022-07-13 19:25:07,865 Parameters: omega_lambda              = 0.715\n",
      "yt : [INFO     ] 2022-07-13 19:25:07,865 Parameters: omega_matter              = 0.285\n",
      "yt : [INFO     ] 2022-07-13 19:25:07,867 Parameters: omega_radiation           = 0\n",
      "yt : [INFO     ] 2022-07-13 19:25:07,869 Parameters: hubble_constant           = 0.695\n"
     ]
    },
    {
     "name": "stdout",
     "output_type": "stream",
     "text": [
      "get_refine_box: using this location:       col1         col2     col3     col4     col5     col6     col7   col8\n",
      "---------------- -------- -------- -------- -------- -------- -------- ----\n",
      "0.28714111686912 0.489754 0.474358 0.506773 0.491754 0.476358 0.508773    9\n"
     ]
    },
    {
     "name": "stderr",
     "output_type": "stream",
     "text": [
      "Parsing Hierarchy : 100%|████████████████| 5571/5571 [00:00<00:00, 17175.57it/s]\n",
      "yt : [INFO     ] 2022-07-13 19:25:08,409 Gathering a field list (this may take a moment.)\n",
      "yt : [WARNING  ] 2022-07-13 19:25:11,210 The stars particle filter already exists. Overriding.\n",
      "yt : [WARNING  ] 2022-07-13 19:25:11,210 The DM particle filter already exists. Overriding.\n"
     ]
    },
    {
     "name": "stdout",
     "output_type": "stream",
     "text": [
      "Pulling halo center from catalog file\n",
      "Opening snapshot /Volumes/TempestTimeSteps/DD1827/DD1827\n"
     ]
    },
    {
     "name": "stderr",
     "output_type": "stream",
     "text": [
      "yt : [INFO     ] 2022-07-13 19:25:11,380 Parameters: current_time              = 489.56652781829\n",
      "yt : [INFO     ] 2022-07-13 19:25:11,382 Parameters: domain_dimensions         = [256 256 256]\n",
      "yt : [INFO     ] 2022-07-13 19:25:11,385 Parameters: domain_left_edge          = [0. 0. 0.]\n",
      "yt : [INFO     ] 2022-07-13 19:25:11,387 Parameters: domain_right_edge         = [1. 1. 1.]\n",
      "yt : [INFO     ] 2022-07-13 19:25:11,388 Parameters: cosmological_simulation   = 1\n",
      "yt : [INFO     ] 2022-07-13 19:25:11,389 Parameters: current_redshift          = 0.27589007391511\n",
      "yt : [INFO     ] 2022-07-13 19:25:11,390 Parameters: omega_lambda              = 0.715\n",
      "yt : [INFO     ] 2022-07-13 19:25:11,391 Parameters: omega_matter              = 0.285\n",
      "yt : [INFO     ] 2022-07-13 19:25:11,391 Parameters: omega_radiation           = 0\n",
      "yt : [INFO     ] 2022-07-13 19:25:11,392 Parameters: hubble_constant           = 0.695\n"
     ]
    },
    {
     "name": "stdout",
     "output_type": "stream",
     "text": [
      "get_refine_box: using this location:       col1         col2     col3     col4     col5     col6     col7   col8\n",
      "---------------- -------- -------- -------- -------- -------- -------- ----\n",
      "0.27590416672012 0.489722 0.474205 0.506831 0.491722 0.476205 0.508831    9\n"
     ]
    },
    {
     "name": "stderr",
     "output_type": "stream",
     "text": [
      "Parsing Hierarchy : 100%|████████████████| 5461/5461 [00:00<00:00, 17815.60it/s]\n",
      "yt : [INFO     ] 2022-07-13 19:25:11,927 Gathering a field list (this may take a moment.)\n",
      "yt : [WARNING  ] 2022-07-13 19:25:14,491 The stars particle filter already exists. Overriding.\n",
      "yt : [WARNING  ] 2022-07-13 19:25:14,492 The DM particle filter already exists. Overriding.\n"
     ]
    },
    {
     "name": "stdout",
     "output_type": "stream",
     "text": [
      "Pulling halo center from catalog file\n",
      "Opening snapshot /Volumes/TempestTimeSteps/DD1847/DD1847\n"
     ]
    },
    {
     "name": "stderr",
     "output_type": "stream",
     "text": [
      "yt : [INFO     ] 2022-07-13 19:25:14,705 Parameters: current_time              = 494.56652781829\n",
      "yt : [INFO     ] 2022-07-13 19:25:14,708 Parameters: domain_dimensions         = [256 256 256]\n",
      "yt : [INFO     ] 2022-07-13 19:25:14,711 Parameters: domain_left_edge          = [0. 0. 0.]\n",
      "yt : [INFO     ] 2022-07-13 19:25:14,714 Parameters: domain_right_edge         = [1. 1. 1.]\n",
      "yt : [INFO     ] 2022-07-13 19:25:14,715 Parameters: cosmological_simulation   = 1\n",
      "yt : [INFO     ] 2022-07-13 19:25:14,716 Parameters: current_redshift          = 0.26483030656369\n",
      "yt : [INFO     ] 2022-07-13 19:25:14,717 Parameters: omega_lambda              = 0.715\n",
      "yt : [INFO     ] 2022-07-13 19:25:14,718 Parameters: omega_matter              = 0.285\n",
      "yt : [INFO     ] 2022-07-13 19:25:14,719 Parameters: omega_radiation           = 0\n",
      "yt : [INFO     ] 2022-07-13 19:25:14,719 Parameters: hubble_constant           = 0.695\n"
     ]
    },
    {
     "name": "stdout",
     "output_type": "stream",
     "text": [
      "get_refine_box: using this location:       col1         col2     col3     col4     col5     col6     col7   col8\n",
      "---------------- -------- -------- -------- -------- -------- -------- ----\n",
      "0.26483099622996 0.489687 0.474055 0.506892 0.491687 0.476055 0.508892    9\n"
     ]
    },
    {
     "name": "stderr",
     "output_type": "stream",
     "text": [
      "Parsing Hierarchy : 100%|████████████████| 5127/5127 [00:00<00:00, 17473.26it/s]\n",
      "yt : [INFO     ] 2022-07-13 19:25:15,237 Gathering a field list (this may take a moment.)\n",
      "yt : [WARNING  ] 2022-07-13 19:25:18,247 The stars particle filter already exists. Overriding.\n",
      "yt : [WARNING  ] 2022-07-13 19:25:18,247 The DM particle filter already exists. Overriding.\n"
     ]
    },
    {
     "name": "stdout",
     "output_type": "stream",
     "text": [
      "Pulling halo center from catalog file\n",
      "Opening snapshot /Volumes/TempestTimeSteps/DD1867/DD1867\n"
     ]
    },
    {
     "name": "stderr",
     "output_type": "stream",
     "text": [
      "yt : [INFO     ] 2022-07-13 19:25:18,406 Parameters: current_time              = 499.56652781829\n",
      "yt : [INFO     ] 2022-07-13 19:25:18,409 Parameters: domain_dimensions         = [256 256 256]\n",
      "yt : [INFO     ] 2022-07-13 19:25:18,412 Parameters: domain_left_edge          = [0. 0. 0.]\n",
      "yt : [INFO     ] 2022-07-13 19:25:18,416 Parameters: domain_right_edge         = [1. 1. 1.]\n",
      "yt : [INFO     ] 2022-07-13 19:25:18,417 Parameters: cosmological_simulation   = 1\n",
      "yt : [INFO     ] 2022-07-13 19:25:18,417 Parameters: current_redshift          = 0.25390358705733\n",
      "yt : [INFO     ] 2022-07-13 19:25:18,418 Parameters: omega_lambda              = 0.715\n",
      "yt : [INFO     ] 2022-07-13 19:25:18,418 Parameters: omega_matter              = 0.285\n",
      "yt : [INFO     ] 2022-07-13 19:25:18,419 Parameters: omega_radiation           = 0\n",
      "yt : [INFO     ] 2022-07-13 19:25:18,420 Parameters: hubble_constant           = 0.695\n"
     ]
    },
    {
     "name": "stdout",
     "output_type": "stream",
     "text": [
      "get_refine_box: using this location:       col1         col2     col3     col4     col5     col6     col7   col8\n",
      "---------------- -------- -------- -------- -------- -------- -------- ----\n",
      "0.25391735822521 0.489653 0.473906 0.506947 0.491653 0.475906 0.508947    9\n"
     ]
    },
    {
     "name": "stderr",
     "output_type": "stream",
     "text": [
      "Parsing Hierarchy : 100%|████████████████| 5143/5143 [00:00<00:00, 17137.10it/s]\n",
      "yt : [INFO     ] 2022-07-13 19:25:18,943 Gathering a field list (this may take a moment.)\n",
      "yt : [WARNING  ] 2022-07-13 19:25:21,707 The stars particle filter already exists. Overriding.\n",
      "yt : [WARNING  ] 2022-07-13 19:25:21,707 The DM particle filter already exists. Overriding.\n"
     ]
    },
    {
     "name": "stdout",
     "output_type": "stream",
     "text": [
      "Pulling halo center from catalog file\n",
      "Opening snapshot /Volumes/TempestTimeSteps/DD1887/DD1887\n"
     ]
    },
    {
     "name": "stderr",
     "output_type": "stream",
     "text": [
      "yt : [INFO     ] 2022-07-13 19:25:21,893 Parameters: current_time              = 504.56652781829\n",
      "yt : [INFO     ] 2022-07-13 19:25:21,897 Parameters: domain_dimensions         = [256 256 256]\n",
      "yt : [INFO     ] 2022-07-13 19:25:21,901 Parameters: domain_left_edge          = [0. 0. 0.]\n",
      "yt : [INFO     ] 2022-07-13 19:25:21,904 Parameters: domain_right_edge         = [1. 1. 1.]\n",
      "yt : [INFO     ] 2022-07-13 19:25:21,905 Parameters: cosmological_simulation   = 1\n",
      "yt : [INFO     ] 2022-07-13 19:25:21,905 Parameters: current_redshift          = 0.24314759224344\n",
      "yt : [INFO     ] 2022-07-13 19:25:21,906 Parameters: omega_lambda              = 0.715\n",
      "yt : [INFO     ] 2022-07-13 19:25:21,907 Parameters: omega_matter              = 0.285\n",
      "yt : [INFO     ] 2022-07-13 19:25:21,908 Parameters: omega_radiation           = 0\n",
      "yt : [INFO     ] 2022-07-13 19:25:21,908 Parameters: hubble_constant           = 0.695\n"
     ]
    },
    {
     "name": "stdout",
     "output_type": "stream",
     "text": [
      "get_refine_box: using this location:       col1         col2     col3     col4     col5     col6     col7   col8\n",
      "---------------- -------- -------- -------- -------- -------- -------- ----\n",
      "0.24315916272406 0.489623 0.473759 0.507006 0.491623 0.475759 0.509006    9\n"
     ]
    },
    {
     "name": "stderr",
     "output_type": "stream",
     "text": [
      "Parsing Hierarchy : 100%|████████████████| 4839/4839 [00:00<00:00, 16672.82it/s]\n",
      "yt : [INFO     ] 2022-07-13 19:25:22,413 Gathering a field list (this may take a moment.)\n",
      "yt : [WARNING  ] 2022-07-13 19:25:25,182 The stars particle filter already exists. Overriding.\n",
      "yt : [WARNING  ] 2022-07-13 19:25:25,182 The DM particle filter already exists. Overriding.\n"
     ]
    },
    {
     "name": "stdout",
     "output_type": "stream",
     "text": [
      "Pulling halo center from catalog file\n",
      "Opening snapshot /Volumes/TempestTimeSteps/DD1907/DD1907\n"
     ]
    },
    {
     "name": "stderr",
     "output_type": "stream",
     "text": [
      "yt : [INFO     ] 2022-07-13 19:25:25,355 Parameters: current_time              = 509.56652781829\n",
      "yt : [INFO     ] 2022-07-13 19:25:25,359 Parameters: domain_dimensions         = [256 256 256]\n",
      "yt : [INFO     ] 2022-07-13 19:25:25,362 Parameters: domain_left_edge          = [0. 0. 0.]\n",
      "yt : [INFO     ] 2022-07-13 19:25:25,365 Parameters: domain_right_edge         = [1. 1. 1.]\n",
      "yt : [INFO     ] 2022-07-13 19:25:25,366 Parameters: cosmological_simulation   = 1\n",
      "yt : [INFO     ] 2022-07-13 19:25:25,367 Parameters: current_redshift          = 0.23254622398407\n",
      "yt : [INFO     ] 2022-07-13 19:25:25,368 Parameters: omega_lambda              = 0.715\n",
      "yt : [INFO     ] 2022-07-13 19:25:25,368 Parameters: omega_matter              = 0.285\n",
      "yt : [INFO     ] 2022-07-13 19:25:25,369 Parameters: omega_radiation           = 0\n",
      "yt : [INFO     ] 2022-07-13 19:25:25,370 Parameters: hubble_constant           = 0.695\n"
     ]
    },
    {
     "name": "stdout",
     "output_type": "stream",
     "text": [
      "get_refine_box: using this location:       col1        col2     col3     col4     col5     col6     col7   col8\n",
      "--------------- -------- -------- -------- -------- -------- -------- ----\n",
      "0.2325524696738 0.489592 0.473612 0.507067 0.491592 0.475612 0.509067    9\n"
     ]
    },
    {
     "name": "stderr",
     "output_type": "stream",
     "text": [
      "Parsing Hierarchy : 100%|████████████████| 4729/4729 [00:00<00:00, 16969.96it/s]\n",
      "yt : [INFO     ] 2022-07-13 19:25:25,848 Gathering a field list (this may take a moment.)\n",
      "yt : [WARNING  ] 2022-07-13 19:25:28,603 The stars particle filter already exists. Overriding.\n",
      "yt : [WARNING  ] 2022-07-13 19:25:28,603 The DM particle filter already exists. Overriding.\n"
     ]
    },
    {
     "name": "stdout",
     "output_type": "stream",
     "text": [
      "Pulling halo center from catalog file\n",
      "Opening snapshot /Volumes/TempestTimeSteps/DD1927/DD1927\n"
     ]
    },
    {
     "name": "stderr",
     "output_type": "stream",
     "text": [
      "yt : [INFO     ] 2022-07-13 19:25:28,787 Parameters: current_time              = 514.56652781829\n",
      "yt : [INFO     ] 2022-07-13 19:25:28,791 Parameters: domain_dimensions         = [256 256 256]\n",
      "yt : [INFO     ] 2022-07-13 19:25:28,794 Parameters: domain_left_edge          = [0. 0. 0.]\n",
      "yt : [INFO     ] 2022-07-13 19:25:28,797 Parameters: domain_right_edge         = [1. 1. 1.]\n",
      "yt : [INFO     ] 2022-07-13 19:25:28,798 Parameters: cosmological_simulation   = 1\n",
      "yt : [INFO     ] 2022-07-13 19:25:28,798 Parameters: current_redshift          = 0.2220785334236\n",
      "yt : [INFO     ] 2022-07-13 19:25:28,800 Parameters: omega_lambda              = 0.715\n",
      "yt : [INFO     ] 2022-07-13 19:25:28,801 Parameters: omega_matter              = 0.285\n",
      "yt : [INFO     ] 2022-07-13 19:25:28,802 Parameters: omega_radiation           = 0\n",
      "yt : [INFO     ] 2022-07-13 19:25:28,802 Parameters: hubble_constant           = 0.695\n"
     ]
    },
    {
     "name": "stdout",
     "output_type": "stream",
     "text": [
      "get_refine_box: using this location:      col1        col2     col3     col4     col5     col6     col7   col8\n",
      "-------------- -------- -------- -------- -------- -------- -------- ----\n",
      "0.222093482089 0.489563 0.473471 0.507126 0.491563 0.475471 0.509126    9\n"
     ]
    },
    {
     "name": "stderr",
     "output_type": "stream",
     "text": [
      "Parsing Hierarchy : 100%|████████████████| 5012/5012 [00:00<00:00, 17166.85it/s]\n",
      "yt : [INFO     ] 2022-07-13 19:25:29,300 Gathering a field list (this may take a moment.)\n",
      "yt : [WARNING  ] 2022-07-13 19:25:32,172 The stars particle filter already exists. Overriding.\n",
      "yt : [WARNING  ] 2022-07-13 19:25:32,172 The DM particle filter already exists. Overriding.\n"
     ]
    },
    {
     "name": "stdout",
     "output_type": "stream",
     "text": [
      "Pulling halo center from catalog file\n",
      "Opening snapshot /Volumes/TempestTimeSteps/DD1947/DD1947\n"
     ]
    },
    {
     "name": "stderr",
     "output_type": "stream",
     "text": [
      "yt : [INFO     ] 2022-07-13 19:25:32,342 Parameters: current_time              = 519.56652781829\n",
      "yt : [INFO     ] 2022-07-13 19:25:32,345 Parameters: domain_dimensions         = [256 256 256]\n",
      "yt : [INFO     ] 2022-07-13 19:25:32,350 Parameters: domain_left_edge          = [0. 0. 0.]\n",
      "yt : [INFO     ] 2022-07-13 19:25:32,353 Parameters: domain_right_edge         = [1. 1. 1.]\n",
      "yt : [INFO     ] 2022-07-13 19:25:32,354 Parameters: cosmological_simulation   = 1\n",
      "yt : [INFO     ] 2022-07-13 19:25:32,354 Parameters: current_redshift          = 0.21177265783797\n",
      "yt : [INFO     ] 2022-07-13 19:25:32,355 Parameters: omega_lambda              = 0.715\n",
      "yt : [INFO     ] 2022-07-13 19:25:32,355 Parameters: omega_matter              = 0.285\n",
      "yt : [INFO     ] 2022-07-13 19:25:32,356 Parameters: omega_radiation           = 0\n",
      "yt : [INFO     ] 2022-07-13 19:25:32,357 Parameters: hubble_constant           = 0.695\n"
     ]
    },
    {
     "name": "stdout",
     "output_type": "stream",
     "text": [
      "get_refine_box: using this location:       col1         col2     col3    col4     col5     col6    col7   col8\n",
      "---------------- -------- ------- -------- -------- ------- -------- ----\n",
      "0.21177853956479 0.489535 0.47333 0.507189 0.491535 0.47533 0.509189    9\n"
     ]
    },
    {
     "name": "stderr",
     "output_type": "stream",
     "text": [
      "Parsing Hierarchy : 100%|████████████████| 5317/5317 [00:00<00:00, 17049.31it/s]\n",
      "yt : [INFO     ] 2022-07-13 19:25:32,894 Gathering a field list (this may take a moment.)\n",
      "yt : [WARNING  ] 2022-07-13 19:25:35,558 The stars particle filter already exists. Overriding.\n",
      "yt : [WARNING  ] 2022-07-13 19:25:35,559 The DM particle filter already exists. Overriding.\n"
     ]
    },
    {
     "name": "stdout",
     "output_type": "stream",
     "text": [
      "Pulling halo center from catalog file\n",
      "Opening snapshot /Volumes/TempestTimeSteps/DD1967/DD1967\n"
     ]
    },
    {
     "name": "stderr",
     "output_type": "stream",
     "text": [
      "yt : [INFO     ] 2022-07-13 19:25:35,728 Parameters: current_time              = 524.56652781829\n",
      "yt : [INFO     ] 2022-07-13 19:25:35,731 Parameters: domain_dimensions         = [256 256 256]\n",
      "yt : [INFO     ] 2022-07-13 19:25:35,734 Parameters: domain_left_edge          = [0. 0. 0.]\n",
      "yt : [INFO     ] 2022-07-13 19:25:35,737 Parameters: domain_right_edge         = [1. 1. 1.]\n",
      "yt : [INFO     ] 2022-07-13 19:25:35,737 Parameters: cosmological_simulation   = 1\n",
      "yt : [INFO     ] 2022-07-13 19:25:35,738 Parameters: current_redshift          = 0.20159208404487\n",
      "yt : [INFO     ] 2022-07-13 19:25:35,739 Parameters: omega_lambda              = 0.715\n",
      "yt : [INFO     ] 2022-07-13 19:25:35,740 Parameters: omega_matter              = 0.285\n",
      "yt : [INFO     ] 2022-07-13 19:25:35,741 Parameters: omega_radiation           = 0\n",
      "yt : [INFO     ] 2022-07-13 19:25:35,742 Parameters: hubble_constant           = 0.695\n"
     ]
    },
    {
     "name": "stdout",
     "output_type": "stream",
     "text": [
      "get_refine_box: using this location:       col1         col2     col3     col4    col5     col6     col7  col8\n",
      "---------------- -------- -------- ------- -------- -------- ------- ----\n",
      "0.20160411214129 0.489504 0.473191 0.50725 0.491504 0.475191 0.50925    9\n"
     ]
    },
    {
     "name": "stderr",
     "output_type": "stream",
     "text": [
      "Parsing Hierarchy : 100%|████████████████| 5322/5322 [00:00<00:00, 17544.26it/s]\n",
      "yt : [INFO     ] 2022-07-13 19:25:36,260 Gathering a field list (this may take a moment.)\n",
      "yt : [WARNING  ] 2022-07-13 19:25:39,019 The stars particle filter already exists. Overriding.\n",
      "yt : [WARNING  ] 2022-07-13 19:25:39,019 The DM particle filter already exists. Overriding.\n"
     ]
    },
    {
     "name": "stdout",
     "output_type": "stream",
     "text": [
      "Pulling halo center from catalog file\n",
      "Opening snapshot /Volumes/TempestTimeSteps/DD1987/DD1987\n"
     ]
    },
    {
     "name": "stderr",
     "output_type": "stream",
     "text": [
      "yt : [INFO     ] 2022-07-13 19:25:39,194 Parameters: current_time              = 529.56652781829\n",
      "yt : [INFO     ] 2022-07-13 19:25:39,197 Parameters: domain_dimensions         = [256 256 256]\n",
      "yt : [INFO     ] 2022-07-13 19:25:39,199 Parameters: domain_left_edge          = [0. 0. 0.]\n",
      "yt : [INFO     ] 2022-07-13 19:25:39,202 Parameters: domain_right_edge         = [1. 1. 1.]\n",
      "yt : [INFO     ] 2022-07-13 19:25:39,202 Parameters: cosmological_simulation   = 1\n",
      "yt : [INFO     ] 2022-07-13 19:25:39,203 Parameters: current_redshift          = 0.191553635351\n",
      "yt : [INFO     ] 2022-07-13 19:25:39,203 Parameters: omega_lambda              = 0.715\n",
      "yt : [INFO     ] 2022-07-13 19:25:39,204 Parameters: omega_matter              = 0.285\n",
      "yt : [INFO     ] 2022-07-13 19:25:39,205 Parameters: omega_radiation           = 0\n",
      "yt : [INFO     ] 2022-07-13 19:25:39,206 Parameters: hubble_constant           = 0.695\n"
     ]
    },
    {
     "name": "stdout",
     "output_type": "stream",
     "text": [
      "get_refine_box: using this location:       col1         col2     col3     col4     col5     col6     col7   col8\n",
      "---------------- -------- -------- -------- -------- -------- -------- ----\n",
      "0.19156679449708 0.489476 0.473053 0.507311 0.491476 0.475053 0.509311    9\n"
     ]
    },
    {
     "name": "stderr",
     "output_type": "stream",
     "text": [
      "Parsing Hierarchy : 100%|████████████████| 5118/5118 [00:00<00:00, 17534.19it/s]\n",
      "yt : [INFO     ] 2022-07-13 19:25:39,718 Gathering a field list (this may take a moment.)\n",
      "yt : [WARNING  ] 2022-07-13 19:25:42,455 The stars particle filter already exists. Overriding.\n",
      "yt : [WARNING  ] 2022-07-13 19:25:42,456 The DM particle filter already exists. Overriding.\n"
     ]
    },
    {
     "name": "stdout",
     "output_type": "stream",
     "text": [
      "Pulling halo center from catalog file\n",
      "Opening snapshot /Volumes/TempestTimeSteps/DD2007/DD2007\n"
     ]
    },
    {
     "name": "stderr",
     "output_type": "stream",
     "text": [
      "yt : [INFO     ] 2022-07-13 19:25:42,643 Parameters: current_time              = 534.56652781829\n",
      "yt : [INFO     ] 2022-07-13 19:25:42,647 Parameters: domain_dimensions         = [256 256 256]\n",
      "yt : [INFO     ] 2022-07-13 19:25:42,649 Parameters: domain_left_edge          = [0. 0. 0.]\n",
      "yt : [INFO     ] 2022-07-13 19:25:42,653 Parameters: domain_right_edge         = [1. 1. 1.]\n",
      "yt : [INFO     ] 2022-07-13 19:25:42,653 Parameters: cosmological_simulation   = 1\n",
      "yt : [INFO     ] 2022-07-13 19:25:42,654 Parameters: current_redshift          = 0.18165941968054\n",
      "yt : [INFO     ] 2022-07-13 19:25:42,654 Parameters: omega_lambda              = 0.715\n",
      "yt : [INFO     ] 2022-07-13 19:25:42,655 Parameters: omega_matter              = 0.285\n",
      "yt : [INFO     ] 2022-07-13 19:25:42,656 Parameters: omega_radiation           = 0\n",
      "yt : [INFO     ] 2022-07-13 19:25:42,656 Parameters: hubble_constant           = 0.695\n"
     ]
    },
    {
     "name": "stdout",
     "output_type": "stream",
     "text": [
      "get_refine_box: using this location:       col1         col2     col3     col4     col5     col6     col7   col8\n",
      "---------------- -------- -------- -------- -------- -------- -------- ----\n",
      "0.18166330045117 0.489447 0.472918 0.507372 0.491447 0.474918 0.509372    9\n"
     ]
    },
    {
     "name": "stderr",
     "output_type": "stream",
     "text": [
      "Parsing Hierarchy : 100%|████████████████| 5188/5188 [00:00<00:00, 17733.24it/s]\n",
      "yt : [INFO     ] 2022-07-13 19:25:43,164 Gathering a field list (this may take a moment.)\n",
      "yt : [WARNING  ] 2022-07-13 19:25:46,015 The stars particle filter already exists. Overriding.\n",
      "yt : [WARNING  ] 2022-07-13 19:25:46,016 The DM particle filter already exists. Overriding.\n",
      "yt : [INFO     ] 2022-07-13 19:25:46,131 Parameters: current_time              = 539.56652781829\n",
      "yt : [INFO     ] 2022-07-13 19:25:46,133 Parameters: domain_dimensions         = [256 256 256]\n",
      "yt : [INFO     ] 2022-07-13 19:25:46,136 Parameters: domain_left_edge          = [0. 0. 0.]\n",
      "yt : [INFO     ] 2022-07-13 19:25:46,138 Parameters: domain_right_edge         = [1. 1. 1.]\n",
      "yt : [INFO     ] 2022-07-13 19:25:46,139 Parameters: cosmological_simulation   = 1\n",
      "yt : [INFO     ] 2022-07-13 19:25:46,139 Parameters: current_redshift          = 0.1718756018899\n",
      "yt : [INFO     ] 2022-07-13 19:25:46,140 Parameters: omega_lambda              = 0.715\n",
      "yt : [INFO     ] 2022-07-13 19:25:46,140 Parameters: omega_matter              = 0.285\n",
      "yt : [INFO     ] 2022-07-13 19:25:46,141 Parameters: omega_radiation           = 0\n",
      "yt : [INFO     ] 2022-07-13 19:25:46,141 Parameters: hubble_constant           = 0.695\n"
     ]
    },
    {
     "name": "stdout",
     "output_type": "stream",
     "text": [
      "Pulling halo center from catalog file\n",
      "Opening snapshot /Volumes/TempestTimeSteps/DD2027/DD2027\n",
      "get_refine_box: using this location:       col1        col2    col3     col4     col5    col6     col7   col8\n",
      "--------------- ------- -------- -------- ------- -------- -------- ----\n",
      "0.1718904577544 0.48942 0.472783 0.507435 0.49142 0.474783 0.509435    9\n"
     ]
    },
    {
     "name": "stderr",
     "output_type": "stream",
     "text": [
      "Parsing Hierarchy : 100%|████████████████| 5220/5220 [00:00<00:00, 16763.11it/s]\n",
      "yt : [INFO     ] 2022-07-13 19:25:46,681 Gathering a field list (this may take a moment.)\n",
      "yt : [WARNING  ] 2022-07-13 19:25:49,430 The stars particle filter already exists. Overriding.\n",
      "yt : [WARNING  ] 2022-07-13 19:25:49,430 The DM particle filter already exists. Overriding.\n"
     ]
    },
    {
     "name": "stdout",
     "output_type": "stream",
     "text": [
      "Pulling halo center from catalog file\n",
      "Opening snapshot /Volumes/TempestTimeSteps/DD2047/DD2047\n"
     ]
    },
    {
     "name": "stderr",
     "output_type": "stream",
     "text": [
      "yt : [INFO     ] 2022-07-13 19:25:49,607 Parameters: current_time              = 544.56652781829\n",
      "yt : [INFO     ] 2022-07-13 19:25:49,610 Parameters: domain_dimensions         = [256 256 256]\n",
      "yt : [INFO     ] 2022-07-13 19:25:49,616 Parameters: domain_left_edge          = [0. 0. 0.]\n",
      "yt : [INFO     ] 2022-07-13 19:25:49,619 Parameters: domain_right_edge         = [1. 1. 1.]\n",
      "yt : [INFO     ] 2022-07-13 19:25:49,620 Parameters: cosmological_simulation   = 1\n",
      "yt : [INFO     ] 2022-07-13 19:25:49,621 Parameters: current_redshift          = 0.1622385268912\n",
      "yt : [INFO     ] 2022-07-13 19:25:49,621 Parameters: omega_lambda              = 0.715\n",
      "yt : [INFO     ] 2022-07-13 19:25:49,622 Parameters: omega_matter              = 0.285\n",
      "yt : [INFO     ] 2022-07-13 19:25:49,623 Parameters: omega_radiation           = 0\n",
      "yt : [INFO     ] 2022-07-13 19:25:49,623 Parameters: hubble_constant           = 0.695\n"
     ]
    },
    {
     "name": "stdout",
     "output_type": "stream",
     "text": [
      "get_refine_box: using this location:       col1         col2    col3     col4     col5    col6     col7   col8\n",
      "---------------- ------- -------- -------- ------- -------- -------- ----\n",
      "0.16224520315245 0.48939 0.472649 0.507494 0.49139 0.474649 0.509494    9\n"
     ]
    },
    {
     "name": "stderr",
     "output_type": "stream",
     "text": [
      "Parsing Hierarchy : 100%|████████████████| 5096/5096 [00:00<00:00, 17514.57it/s]\n",
      "yt : [INFO     ] 2022-07-13 19:25:50,126 Gathering a field list (this may take a moment.)\n",
      "yt : [WARNING  ] 2022-07-13 19:25:52,894 The stars particle filter already exists. Overriding.\n",
      "yt : [WARNING  ] 2022-07-13 19:25:52,895 The DM particle filter already exists. Overriding.\n"
     ]
    },
    {
     "name": "stdout",
     "output_type": "stream",
     "text": [
      "Pulling halo center from catalog file\n",
      "Opening snapshot /Volumes/TempestTimeSteps/DD2067/DD2067\n"
     ]
    },
    {
     "name": "stderr",
     "output_type": "stream",
     "text": [
      "yt : [INFO     ] 2022-07-13 19:25:53,085 Parameters: current_time              = 549.56652781829\n",
      "yt : [INFO     ] 2022-07-13 19:25:53,088 Parameters: domain_dimensions         = [256 256 256]\n",
      "yt : [INFO     ] 2022-07-13 19:25:53,090 Parameters: domain_left_edge          = [0. 0. 0.]\n",
      "yt : [INFO     ] 2022-07-13 19:25:53,093 Parameters: domain_right_edge         = [1. 1. 1.]\n",
      "yt : [INFO     ] 2022-07-13 19:25:53,094 Parameters: cosmological_simulation   = 1\n",
      "yt : [INFO     ] 2022-07-13 19:25:53,095 Parameters: current_redshift          = 0.15271267325251\n",
      "yt : [INFO     ] 2022-07-13 19:25:53,096 Parameters: omega_lambda              = 0.715\n",
      "yt : [INFO     ] 2022-07-13 19:25:53,096 Parameters: omega_matter              = 0.285\n",
      "yt : [INFO     ] 2022-07-13 19:25:53,097 Parameters: omega_radiation           = 0\n",
      "yt : [INFO     ] 2022-07-13 19:25:53,098 Parameters: hubble_constant           = 0.695\n"
     ]
    },
    {
     "name": "stdout",
     "output_type": "stream",
     "text": [
      "get_refine_box: using this location:       col1         col2     col3     col4     col5     col6     col7   col8\n",
      "---------------- -------- -------- -------- -------- -------- -------- ----\n",
      "0.15272457770406 0.489359 0.472517 0.507557 0.491359 0.474517 0.509557    9\n"
     ]
    },
    {
     "name": "stderr",
     "output_type": "stream",
     "text": [
      "Parsing Hierarchy : 100%|████████████████| 5279/5279 [00:00<00:00, 18240.49it/s]\n",
      "yt : [INFO     ] 2022-07-13 19:25:53,606 Gathering a field list (this may take a moment.)\n",
      "yt : [WARNING  ] 2022-07-13 19:25:56,349 The stars particle filter already exists. Overriding.\n",
      "yt : [WARNING  ] 2022-07-13 19:25:56,349 The DM particle filter already exists. Overriding.\n"
     ]
    },
    {
     "name": "stdout",
     "output_type": "stream",
     "text": [
      "Pulling halo center from catalog file\n",
      "Opening snapshot /Volumes/TempestTimeSteps/DD2087/DD2087\n"
     ]
    },
    {
     "name": "stderr",
     "output_type": "stream",
     "text": [
      "yt : [INFO     ] 2022-07-13 19:25:56,531 Parameters: current_time              = 554.56652781829\n",
      "yt : [INFO     ] 2022-07-13 19:25:56,534 Parameters: domain_dimensions         = [256 256 256]\n",
      "yt : [INFO     ] 2022-07-13 19:25:56,536 Parameters: domain_left_edge          = [0. 0. 0.]\n",
      "yt : [INFO     ] 2022-07-13 19:25:56,539 Parameters: domain_right_edge         = [1. 1. 1.]\n",
      "yt : [INFO     ] 2022-07-13 19:25:56,540 Parameters: cosmological_simulation   = 1\n",
      "yt : [INFO     ] 2022-07-13 19:25:56,541 Parameters: current_redshift          = 0.1433128745218\n",
      "yt : [INFO     ] 2022-07-13 19:25:56,542 Parameters: omega_lambda              = 0.715\n",
      "yt : [INFO     ] 2022-07-13 19:25:56,542 Parameters: omega_matter              = 0.285\n",
      "yt : [INFO     ] 2022-07-13 19:25:56,543 Parameters: omega_radiation           = 0\n",
      "yt : [INFO     ] 2022-07-13 19:25:56,544 Parameters: hubble_constant           = 0.695\n"
     ]
    },
    {
     "name": "stdout",
     "output_type": "stream",
     "text": [
      "get_refine_box: using this location:       col1         col2     col3     col4     col5     col6     col7   col8\n",
      "---------------- -------- -------- -------- -------- -------- -------- ----\n",
      "0.14332572233908 0.489329 0.472386 0.507616 0.491329 0.474386 0.509616    9\n"
     ]
    },
    {
     "name": "stderr",
     "output_type": "stream",
     "text": [
      "Parsing Hierarchy : 100%|██████████████████| 5340/5340 [00:07<00:00, 675.91it/s]\n",
      "yt : [INFO     ] 2022-07-13 19:26:04,743 Gathering a field list (this may take a moment.)\n",
      "yt : [WARNING  ] 2022-07-13 19:26:07,400 The stars particle filter already exists. Overriding.\n",
      "yt : [WARNING  ] 2022-07-13 19:26:07,401 The DM particle filter already exists. Overriding.\n"
     ]
    },
    {
     "name": "stdout",
     "output_type": "stream",
     "text": [
      "Pulling halo center from catalog file\n",
      "Opening snapshot /Volumes/TempestTimeSteps/DD2107/DD2107\n"
     ]
    },
    {
     "name": "stderr",
     "output_type": "stream",
     "text": [
      "yt : [INFO     ] 2022-07-13 19:26:07,600 Parameters: current_time              = 559.56652781829\n",
      "yt : [INFO     ] 2022-07-13 19:26:07,603 Parameters: domain_dimensions         = [256 256 256]\n",
      "yt : [INFO     ] 2022-07-13 19:26:07,606 Parameters: domain_left_edge          = [0. 0. 0.]\n",
      "yt : [INFO     ] 2022-07-13 19:26:07,608 Parameters: domain_right_edge         = [1. 1. 1.]\n",
      "yt : [INFO     ] 2022-07-13 19:26:07,609 Parameters: cosmological_simulation   = 1\n",
      "yt : [INFO     ] 2022-07-13 19:26:07,609 Parameters: current_redshift          = 0.13404074085693\n",
      "yt : [INFO     ] 2022-07-13 19:26:07,610 Parameters: omega_lambda              = 0.715\n",
      "yt : [INFO     ] 2022-07-13 19:26:07,611 Parameters: omega_matter              = 0.285\n",
      "yt : [INFO     ] 2022-07-13 19:26:07,612 Parameters: omega_radiation           = 0\n",
      "yt : [INFO     ] 2022-07-13 19:26:07,613 Parameters: hubble_constant           = 0.695\n"
     ]
    },
    {
     "name": "stdout",
     "output_type": "stream",
     "text": [
      "get_refine_box: using this location:       col1        col2    col3     col4    col5    col6     col7   col8\n",
      "---------------- ------ -------- -------- ------ -------- -------- ----\n",
      "0.13404587364197 0.4893 0.472256 0.507677 0.4913 0.474256 0.509677    9\n"
     ]
    },
    {
     "name": "stderr",
     "output_type": "stream",
     "text": [
      "Parsing Hierarchy : 100%|████████████████| 5123/5123 [00:00<00:00, 17319.95it/s]\n",
      "yt : [INFO     ] 2022-07-13 19:26:08,142 Gathering a field list (this may take a moment.)\n",
      "yt : [WARNING  ] 2022-07-13 19:26:10,734 The stars particle filter already exists. Overriding.\n",
      "yt : [WARNING  ] 2022-07-13 19:26:10,735 The DM particle filter already exists. Overriding.\n"
     ]
    },
    {
     "name": "stdout",
     "output_type": "stream",
     "text": [
      "Pulling halo center from catalog file\n",
      "Opening snapshot /Volumes/TempestTimeSteps/DD2127/DD2127\n"
     ]
    },
    {
     "name": "stderr",
     "output_type": "stream",
     "text": [
      "yt : [INFO     ] 2022-07-13 19:26:10,935 Parameters: current_time              = 564.56652781829\n",
      "yt : [INFO     ] 2022-07-13 19:26:10,938 Parameters: domain_dimensions         = [256 256 256]\n",
      "yt : [INFO     ] 2022-07-13 19:26:10,941 Parameters: domain_left_edge          = [0. 0. 0.]\n",
      "yt : [INFO     ] 2022-07-13 19:26:10,944 Parameters: domain_right_edge         = [1. 1. 1.]\n",
      "yt : [INFO     ] 2022-07-13 19:26:10,945 Parameters: cosmological_simulation   = 1\n",
      "yt : [INFO     ] 2022-07-13 19:26:10,946 Parameters: current_redshift          = 0.12486754396875\n",
      "yt : [INFO     ] 2022-07-13 19:26:10,947 Parameters: omega_lambda              = 0.715\n",
      "yt : [INFO     ] 2022-07-13 19:26:10,948 Parameters: omega_matter              = 0.285\n",
      "yt : [INFO     ] 2022-07-13 19:26:10,949 Parameters: omega_radiation           = 0\n",
      "yt : [INFO     ] 2022-07-13 19:26:10,949 Parameters: hubble_constant           = 0.695\n"
     ]
    },
    {
     "name": "stdout",
     "output_type": "stream",
     "text": [
      "get_refine_box: using this location:       col1         col2    col3     col4     col5    col6     col7   col8\n",
      "---------------- ------- -------- -------- ------- -------- -------- ----\n",
      "0.12488235984756 0.48927 0.472126 0.507739 0.49127 0.474126 0.509739    9\n"
     ]
    },
    {
     "name": "stderr",
     "output_type": "stream",
     "text": [
      "Parsing Hierarchy : 100%|████████████████| 4705/4705 [00:00<00:00, 17996.48it/s]\n",
      "yt : [INFO     ] 2022-07-13 19:26:11,433 Gathering a field list (this may take a moment.)\n",
      "yt : [WARNING  ] 2022-07-13 19:26:14,004 The stars particle filter already exists. Overriding.\n",
      "yt : [WARNING  ] 2022-07-13 19:26:14,005 The DM particle filter already exists. Overriding.\n",
      "yt : [INFO     ] 2022-07-13 19:26:14,119 Parameters: current_time              = 569.56652781829\n",
      "yt : [INFO     ] 2022-07-13 19:26:14,121 Parameters: domain_dimensions         = [256 256 256]\n",
      "yt : [INFO     ] 2022-07-13 19:26:14,123 Parameters: domain_left_edge          = [0. 0. 0.]\n",
      "yt : [INFO     ] 2022-07-13 19:26:14,126 Parameters: domain_right_edge         = [1. 1. 1.]\n",
      "yt : [INFO     ] 2022-07-13 19:26:14,126 Parameters: cosmological_simulation   = 1\n",
      "yt : [INFO     ] 2022-07-13 19:26:14,127 Parameters: current_redshift          = 0.11582848603619\n",
      "yt : [INFO     ] 2022-07-13 19:26:14,127 Parameters: omega_lambda              = 0.715\n",
      "yt : [INFO     ] 2022-07-13 19:26:14,128 Parameters: omega_matter              = 0.285\n",
      "yt : [INFO     ] 2022-07-13 19:26:14,128 Parameters: omega_radiation           = 0\n",
      "yt : [INFO     ] 2022-07-13 19:26:14,129 Parameters: hubble_constant           = 0.695\n"
     ]
    },
    {
     "name": "stdout",
     "output_type": "stream",
     "text": [
      "Pulling halo center from catalog file\n",
      "Opening snapshot /Volumes/TempestTimeSteps/DD2147/DD2147\n",
      "get_refine_box: using this location:       col1         col2     col3     col4     col5     col6     col7   col8\n",
      "---------------- -------- -------- -------- -------- -------- -------- ----\n",
      "0.11583259703646 0.489241 0.471999 0.507798 0.491241 0.473999 0.509798    9\n"
     ]
    },
    {
     "name": "stderr",
     "output_type": "stream",
     "text": [
      "Parsing Hierarchy : 100%|████████████████| 4762/4762 [00:00<00:00, 17852.73it/s]\n",
      "yt : [INFO     ] 2022-07-13 19:26:14,589 Gathering a field list (this may take a moment.)\n",
      "yt : [WARNING  ] 2022-07-13 19:26:17,515 The stars particle filter already exists. Overriding.\n",
      "yt : [WARNING  ] 2022-07-13 19:26:17,515 The DM particle filter already exists. Overriding.\n"
     ]
    },
    {
     "name": "stdout",
     "output_type": "stream",
     "text": [
      "Pulling halo center from catalog file\n",
      "Opening snapshot /Volumes/TempestTimeSteps/DD2167/DD2167\n"
     ]
    },
    {
     "name": "stderr",
     "output_type": "stream",
     "text": [
      "yt : [INFO     ] 2022-07-13 19:26:17,677 Parameters: current_time              = 574.56652781829\n",
      "yt : [INFO     ] 2022-07-13 19:26:17,680 Parameters: domain_dimensions         = [256 256 256]\n",
      "yt : [INFO     ] 2022-07-13 19:26:17,683 Parameters: domain_left_edge          = [0. 0. 0.]\n",
      "yt : [INFO     ] 2022-07-13 19:26:17,686 Parameters: domain_right_edge         = [1. 1. 1.]\n",
      "yt : [INFO     ] 2022-07-13 19:26:17,686 Parameters: cosmological_simulation   = 1\n",
      "yt : [INFO     ] 2022-07-13 19:26:17,687 Parameters: current_redshift          = 0.10688078342035\n",
      "yt : [INFO     ] 2022-07-13 19:26:17,687 Parameters: omega_lambda              = 0.715\n",
      "yt : [INFO     ] 2022-07-13 19:26:17,688 Parameters: omega_matter              = 0.285\n",
      "yt : [INFO     ] 2022-07-13 19:26:17,689 Parameters: omega_radiation           = 0\n",
      "yt : [INFO     ] 2022-07-13 19:26:17,690 Parameters: hubble_constant           = 0.695\n"
     ]
    },
    {
     "name": "stdout",
     "output_type": "stream",
     "text": [
      "get_refine_box: using this location:       col1         col2     col3     col4     col5     col6     col7   col8\n",
      "---------------- -------- -------- -------- -------- -------- -------- ----\n",
      "0.10689408551869 0.489214 0.471873 0.507855 0.491214 0.473873 0.509855    9\n"
     ]
    },
    {
     "name": "stderr",
     "output_type": "stream",
     "text": [
      "Parsing Hierarchy : 100%|████████████████| 4619/4619 [00:00<00:00, 17655.71it/s]\n",
      "yt : [INFO     ] 2022-07-13 19:26:18,165 Gathering a field list (this may take a moment.)\n",
      "yt : [WARNING  ] 2022-07-13 19:26:20,855 The stars particle filter already exists. Overriding.\n",
      "yt : [WARNING  ] 2022-07-13 19:26:20,856 The DM particle filter already exists. Overriding.\n"
     ]
    },
    {
     "name": "stdout",
     "output_type": "stream",
     "text": [
      "Pulling halo center from catalog file\n",
      "Opening snapshot /Volumes/TempestTimeSteps/DD2187/DD2187\n"
     ]
    },
    {
     "name": "stderr",
     "output_type": "stream",
     "text": [
      "yt : [INFO     ] 2022-07-13 19:26:21,048 Parameters: current_time              = 579.56652781829\n",
      "yt : [INFO     ] 2022-07-13 19:26:21,050 Parameters: domain_dimensions         = [256 256 256]\n",
      "yt : [INFO     ] 2022-07-13 19:26:21,053 Parameters: domain_left_edge          = [0. 0. 0.]\n",
      "yt : [INFO     ] 2022-07-13 19:26:21,055 Parameters: domain_right_edge         = [1. 1. 1.]\n",
      "yt : [INFO     ] 2022-07-13 19:26:21,056 Parameters: cosmological_simulation   = 1\n",
      "yt : [INFO     ] 2022-07-13 19:26:21,056 Parameters: current_redshift          = 0.098053769197091\n",
      "yt : [INFO     ] 2022-07-13 19:26:21,057 Parameters: omega_lambda              = 0.715\n",
      "yt : [INFO     ] 2022-07-13 19:26:21,057 Parameters: omega_matter              = 0.285\n",
      "yt : [INFO     ] 2022-07-13 19:26:21,058 Parameters: omega_radiation           = 0\n",
      "yt : [INFO     ] 2022-07-13 19:26:21,059 Parameters: hubble_constant           = 0.695\n"
     ]
    },
    {
     "name": "stdout",
     "output_type": "stream",
     "text": [
      "get_refine_box: using this location:        col1         col2     col3     col4     col5     col6     col7   col8\n",
      "----------------- -------- -------- -------- -------- -------- -------- ----\n",
      "0.098064406394637 0.489188 0.471747 0.507912 0.491188 0.473747 0.509912    9\n"
     ]
    },
    {
     "name": "stderr",
     "output_type": "stream",
     "text": [
      "Parsing Hierarchy : 100%|████████████████| 4729/4729 [00:00<00:00, 18063.06it/s]\n",
      "yt : [INFO     ] 2022-07-13 19:26:21,519 Gathering a field list (this may take a moment.)\n",
      "yt : [WARNING  ] 2022-07-13 19:26:24,128 The stars particle filter already exists. Overriding.\n",
      "yt : [WARNING  ] 2022-07-13 19:26:24,128 The DM particle filter already exists. Overriding.\n"
     ]
    },
    {
     "name": "stdout",
     "output_type": "stream",
     "text": [
      "Pulling halo center from catalog file\n",
      "Opening snapshot /Volumes/TempestTimeSteps/DD2207/DD2207\n"
     ]
    },
    {
     "name": "stderr",
     "output_type": "stream",
     "text": [
      "yt : [INFO     ] 2022-07-13 19:26:24,316 Parameters: current_time              = 584.56652781829\n",
      "yt : [INFO     ] 2022-07-13 19:26:24,318 Parameters: domain_dimensions         = [256 256 256]\n",
      "yt : [INFO     ] 2022-07-13 19:26:24,322 Parameters: domain_left_edge          = [0. 0. 0.]\n",
      "yt : [INFO     ] 2022-07-13 19:26:24,324 Parameters: domain_right_edge         = [1. 1. 1.]\n",
      "yt : [INFO     ] 2022-07-13 19:26:24,325 Parameters: cosmological_simulation   = 1\n",
      "yt : [INFO     ] 2022-07-13 19:26:24,325 Parameters: current_redshift          = 0.089332273252055\n",
      "yt : [INFO     ] 2022-07-13 19:26:24,326 Parameters: omega_lambda              = 0.715\n",
      "yt : [INFO     ] 2022-07-13 19:26:24,326 Parameters: omega_matter              = 0.285\n",
      "yt : [INFO     ] 2022-07-13 19:26:24,327 Parameters: omega_radiation           = 0\n",
      "yt : [INFO     ] 2022-07-13 19:26:24,327 Parameters: hubble_constant           = 0.695\n"
     ]
    },
    {
     "name": "stdout",
     "output_type": "stream",
     "text": [
      "get_refine_box: using this location:        col1         col2     col3     col4     col5     col6     col7   col8\n",
      "----------------- -------- -------- -------- -------- -------- -------- ----\n",
      "0.089341218283104 0.489161 0.471621 0.507969 0.491161 0.473621 0.509969    9\n"
     ]
    },
    {
     "name": "stderr",
     "output_type": "stream",
     "text": [
      "Parsing Hierarchy : 100%|████████████████| 4394/4394 [00:00<00:00, 16600.05it/s]\n",
      "yt : [INFO     ] 2022-07-13 19:26:24,786 Gathering a field list (this may take a moment.)\n",
      "yt : [WARNING  ] 2022-07-13 19:26:27,431 The stars particle filter already exists. Overriding.\n",
      "yt : [WARNING  ] 2022-07-13 19:26:27,432 The DM particle filter already exists. Overriding.\n"
     ]
    },
    {
     "name": "stdout",
     "output_type": "stream",
     "text": [
      "Pulling halo center from catalog file\n",
      "Opening snapshot /Volumes/TempestTimeSteps/DD2227/DD2227\n"
     ]
    },
    {
     "name": "stderr",
     "output_type": "stream",
     "text": [
      "yt : [INFO     ] 2022-07-13 19:26:27,640 Parameters: current_time              = 589.56652781829\n",
      "yt : [INFO     ] 2022-07-13 19:26:27,644 Parameters: domain_dimensions         = [256 256 256]\n",
      "yt : [INFO     ] 2022-07-13 19:26:27,647 Parameters: domain_left_edge          = [0. 0. 0.]\n",
      "yt : [INFO     ] 2022-07-13 19:26:27,650 Parameters: domain_right_edge         = [1. 1. 1.]\n",
      "yt : [INFO     ] 2022-07-13 19:26:27,651 Parameters: cosmological_simulation   = 1\n",
      "yt : [INFO     ] 2022-07-13 19:26:27,651 Parameters: current_redshift          = 0.080708326235905\n",
      "yt : [INFO     ] 2022-07-13 19:26:27,652 Parameters: omega_lambda              = 0.715\n",
      "yt : [INFO     ] 2022-07-13 19:26:27,653 Parameters: omega_matter              = 0.285\n",
      "yt : [INFO     ] 2022-07-13 19:26:27,654 Parameters: omega_radiation           = 0\n",
      "yt : [INFO     ] 2022-07-13 19:26:27,655 Parameters: hubble_constant           = 0.695\n"
     ]
    },
    {
     "name": "stdout",
     "output_type": "stream",
     "text": [
      "get_refine_box: using this location:        col1         col2     col3     col4     col5     col6     col7   col8\n",
      "----------------- -------- -------- -------- -------- -------- -------- ----\n",
      "0.080722254207208 0.489136 0.471499 0.508025 0.491136 0.473499 0.510025    9\n"
     ]
    },
    {
     "name": "stderr",
     "output_type": "stream",
     "text": [
      "Parsing Hierarchy : 100%|████████████████| 4637/4637 [00:00<00:00, 16866.54it/s]\n",
      "yt : [INFO     ] 2022-07-13 19:26:28,130 Gathering a field list (this may take a moment.)\n",
      "yt : [WARNING  ] 2022-07-13 19:26:31,211 The stars particle filter already exists. Overriding.\n",
      "yt : [WARNING  ] 2022-07-13 19:26:31,211 The DM particle filter already exists. Overriding.\n"
     ]
    },
    {
     "name": "stdout",
     "output_type": "stream",
     "text": [
      "Pulling halo center from catalog file\n",
      "Opening snapshot /Volumes/TempestTimeSteps/DD2247/DD2247\n"
     ]
    },
    {
     "name": "stderr",
     "output_type": "stream",
     "text": [
      "yt : [INFO     ] 2022-07-13 19:26:31,409 Parameters: current_time              = 594.56652781829\n",
      "yt : [INFO     ] 2022-07-13 19:26:31,411 Parameters: domain_dimensions         = [256 256 256]\n",
      "yt : [INFO     ] 2022-07-13 19:26:31,414 Parameters: domain_left_edge          = [0. 0. 0.]\n",
      "yt : [INFO     ] 2022-07-13 19:26:31,416 Parameters: domain_right_edge         = [1. 1. 1.]\n",
      "yt : [INFO     ] 2022-07-13 19:26:31,417 Parameters: cosmological_simulation   = 1\n",
      "yt : [INFO     ] 2022-07-13 19:26:31,417 Parameters: current_redshift          = 0.072203010646745\n",
      "yt : [INFO     ] 2022-07-13 19:26:31,418 Parameters: omega_lambda              = 0.715\n",
      "yt : [INFO     ] 2022-07-13 19:26:31,418 Parameters: omega_matter              = 0.285\n",
      "yt : [INFO     ] 2022-07-13 19:26:31,419 Parameters: omega_radiation           = 0\n",
      "yt : [INFO     ] 2022-07-13 19:26:31,419 Parameters: hubble_constant           = 0.695\n"
     ]
    },
    {
     "name": "stdout",
     "output_type": "stream",
     "text": [
      "get_refine_box: using this location:        col1         col2     col3     col4     col5     col6     col7   col8\n",
      "----------------- -------- -------- -------- -------- -------- -------- ----\n",
      "0.072205318629089 0.489111 0.471377 0.508078 0.491111 0.473377 0.510078    9\n"
     ]
    },
    {
     "name": "stderr",
     "output_type": "stream",
     "text": [
      "Parsing Hierarchy : 100%|████████████████| 4661/4661 [00:00<00:00, 17354.76it/s]\n",
      "yt : [INFO     ] 2022-07-13 19:26:31,881 Gathering a field list (this may take a moment.)\n",
      "yt : [WARNING  ] 2022-07-13 19:26:34,565 The stars particle filter already exists. Overriding.\n",
      "yt : [WARNING  ] 2022-07-13 19:26:34,566 The DM particle filter already exists. Overriding.\n"
     ]
    },
    {
     "name": "stdout",
     "output_type": "stream",
     "text": [
      "Pulling halo center from catalog file\n",
      "Opening snapshot /Volumes/TempestTimeSteps/DD2267/DD2267\n"
     ]
    },
    {
     "name": "stderr",
     "output_type": "stream",
     "text": [
      "yt : [INFO     ] 2022-07-13 19:26:34,762 Parameters: current_time              = 599.56652781829\n",
      "yt : [INFO     ] 2022-07-13 19:26:34,765 Parameters: domain_dimensions         = [256 256 256]\n",
      "yt : [INFO     ] 2022-07-13 19:26:34,768 Parameters: domain_left_edge          = [0. 0. 0.]\n",
      "yt : [INFO     ] 2022-07-13 19:26:34,771 Parameters: domain_right_edge         = [1. 1. 1.]\n",
      "yt : [INFO     ] 2022-07-13 19:26:34,772 Parameters: cosmological_simulation   = 1\n",
      "yt : [INFO     ] 2022-07-13 19:26:34,773 Parameters: current_redshift          = 0.063773742616062\n",
      "yt : [INFO     ] 2022-07-13 19:26:34,774 Parameters: omega_lambda              = 0.715\n",
      "yt : [INFO     ] 2022-07-13 19:26:34,775 Parameters: omega_matter              = 0.285\n",
      "yt : [INFO     ] 2022-07-13 19:26:34,775 Parameters: omega_radiation           = 0\n",
      "yt : [INFO     ] 2022-07-13 19:26:34,776 Parameters: hubble_constant           = 0.695\n"
     ]
    },
    {
     "name": "stdout",
     "output_type": "stream",
     "text": [
      "get_refine_box: using this location:       col1         col2     col3     col4     col5     col6     col7   col8\n",
      "---------------- -------- -------- -------- -------- -------- -------- ----\n",
      "0.06378828462523 0.489085 0.471257 0.508131 0.491085 0.473257 0.510131    9\n"
     ]
    },
    {
     "name": "stderr",
     "output_type": "stream",
     "text": [
      "Parsing Hierarchy : 100%|████████████████| 4765/4765 [00:00<00:00, 18224.43it/s]\n",
      "yt : [INFO     ] 2022-07-13 19:26:35,230 Gathering a field list (this may take a moment.)\n",
      "yt : [WARNING  ] 2022-07-13 19:26:37,816 The stars particle filter already exists. Overriding.\n",
      "yt : [WARNING  ] 2022-07-13 19:26:37,817 The DM particle filter already exists. Overriding.\n"
     ]
    },
    {
     "name": "stdout",
     "output_type": "stream",
     "text": [
      "Pulling halo center from catalog file\n",
      "Opening snapshot /Volumes/TempestTimeSteps/DD2287/DD2287\n"
     ]
    },
    {
     "name": "stderr",
     "output_type": "stream",
     "text": [
      "yt : [INFO     ] 2022-07-13 19:26:37,994 Parameters: current_time              = 604.56652781829\n",
      "yt : [INFO     ] 2022-07-13 19:26:37,997 Parameters: domain_dimensions         = [256 256 256]\n",
      "yt : [INFO     ] 2022-07-13 19:26:37,999 Parameters: domain_left_edge          = [0. 0. 0.]\n",
      "yt : [INFO     ] 2022-07-13 19:26:38,002 Parameters: domain_right_edge         = [1. 1. 1.]\n",
      "yt : [INFO     ] 2022-07-13 19:26:38,002 Parameters: cosmological_simulation   = 1\n",
      "yt : [INFO     ] 2022-07-13 19:26:38,003 Parameters: current_redshift          = 0.055464005771674\n",
      "yt : [INFO     ] 2022-07-13 19:26:38,003 Parameters: omega_lambda              = 0.715\n",
      "yt : [INFO     ] 2022-07-13 19:26:38,004 Parameters: omega_matter              = 0.285\n",
      "yt : [INFO     ] 2022-07-13 19:26:38,005 Parameters: omega_radiation           = 0\n",
      "yt : [INFO     ] 2022-07-13 19:26:38,006 Parameters: hubble_constant           = 0.695\n"
     ]
    },
    {
     "name": "stdout",
     "output_type": "stream",
     "text": [
      "get_refine_box: using this location:        col1         col2     col3     col4     col5     col6     col7   col8\n",
      "----------------- -------- -------- -------- -------- -------- -------- ----\n",
      "0.055469091194623 0.489056 0.471136 0.508185 0.491056 0.473136 0.510185    9\n"
     ]
    },
    {
     "name": "stderr",
     "output_type": "stream",
     "text": [
      "Parsing Hierarchy : 100%|████████████████| 4752/4752 [00:00<00:00, 17697.99it/s]\n",
      "yt : [INFO     ] 2022-07-13 19:26:38,472 Gathering a field list (this may take a moment.)\n",
      "yt : [WARNING  ] 2022-07-13 19:26:41,256 The stars particle filter already exists. Overriding.\n",
      "yt : [WARNING  ] 2022-07-13 19:26:41,257 The DM particle filter already exists. Overriding.\n"
     ]
    },
    {
     "name": "stdout",
     "output_type": "stream",
     "text": [
      "Pulling halo center from catalog file\n",
      "Opening snapshot /Volumes/TempestTimeSteps/DD2307/DD2307\n"
     ]
    },
    {
     "name": "stderr",
     "output_type": "stream",
     "text": [
      "yt : [INFO     ] 2022-07-13 19:26:41,451 Parameters: current_time              = 609.56652781829\n",
      "yt : [INFO     ] 2022-07-13 19:26:41,455 Parameters: domain_dimensions         = [256 256 256]\n",
      "yt : [INFO     ] 2022-07-13 19:26:41,458 Parameters: domain_left_edge          = [0. 0. 0.]\n",
      "yt : [INFO     ] 2022-07-13 19:26:41,461 Parameters: domain_right_edge         = [1. 1. 1.]\n",
      "yt : [INFO     ] 2022-07-13 19:26:41,462 Parameters: cosmological_simulation   = 1\n",
      "yt : [INFO     ] 2022-07-13 19:26:41,462 Parameters: current_redshift          = 0.047232768552278\n",
      "yt : [INFO     ] 2022-07-13 19:26:41,463 Parameters: omega_lambda              = 0.715\n",
      "yt : [INFO     ] 2022-07-13 19:26:41,464 Parameters: omega_matter              = 0.285\n",
      "yt : [INFO     ] 2022-07-13 19:26:41,464 Parameters: omega_radiation           = 0\n",
      "yt : [INFO     ] 2022-07-13 19:26:41,465 Parameters: hubble_constant           = 0.695\n"
     ]
    },
    {
     "name": "stdout",
     "output_type": "stream",
     "text": [
      "get_refine_box: using this location:       col1         col2     col3     col4     col5     col6     col7   col8\n",
      "---------------- -------- -------- -------- -------- -------- -------- ----\n",
      "0.04724574069249 0.489029 0.471018 0.508236 0.491029 0.473018 0.510236    9\n"
     ]
    },
    {
     "name": "stderr",
     "output_type": "stream",
     "text": [
      "Parsing Hierarchy : 100%|████████████████| 4568/4568 [00:00<00:00, 17830.94it/s]\n",
      "yt : [INFO     ] 2022-07-13 19:26:41,921 Gathering a field list (this may take a moment.)\n",
      "yt : [WARNING  ] 2022-07-13 19:26:44,673 The stars particle filter already exists. Overriding.\n",
      "yt : [WARNING  ] 2022-07-13 19:26:44,674 The DM particle filter already exists. Overriding.\n"
     ]
    },
    {
     "name": "stdout",
     "output_type": "stream",
     "text": [
      "Pulling halo center from catalog file\n",
      "Opening snapshot /Volumes/TempestTimeSteps/DD2327/DD2327\n"
     ]
    },
    {
     "name": "stderr",
     "output_type": "stream",
     "text": [
      "yt : [INFO     ] 2022-07-13 19:26:44,873 Parameters: current_time              = 614.56652781829\n",
      "yt : [INFO     ] 2022-07-13 19:26:44,876 Parameters: domain_dimensions         = [256 256 256]\n",
      "yt : [INFO     ] 2022-07-13 19:26:44,879 Parameters: domain_left_edge          = [0. 0. 0.]\n",
      "yt : [INFO     ] 2022-07-13 19:26:44,883 Parameters: domain_right_edge         = [1. 1. 1.]\n",
      "yt : [INFO     ] 2022-07-13 19:26:44,884 Parameters: cosmological_simulation   = 1\n",
      "yt : [INFO     ] 2022-07-13 19:26:44,884 Parameters: current_redshift          = 0.0391061686678\n",
      "yt : [INFO     ] 2022-07-13 19:26:44,885 Parameters: omega_lambda              = 0.715\n",
      "yt : [INFO     ] 2022-07-13 19:26:44,886 Parameters: omega_matter              = 0.285\n",
      "yt : [INFO     ] 2022-07-13 19:26:44,887 Parameters: omega_radiation           = 0\n",
      "yt : [INFO     ] 2022-07-13 19:26:44,888 Parameters: hubble_constant           = 0.695\n"
     ]
    },
    {
     "name": "stdout",
     "output_type": "stream",
     "text": [
      "get_refine_box: using this location:        col1         col2     col3     col4    col5     col6     col7  col8\n",
      "----------------- -------- -------- ------- -------- -------- ------- ----\n",
      "0.039116296382769 0.489003 0.470898 0.50829 0.491003 0.472898 0.51029    9\n"
     ]
    },
    {
     "name": "stderr",
     "output_type": "stream",
     "text": [
      "Parsing Hierarchy : 100%|████████████████| 4486/4486 [00:00<00:00, 18001.68it/s]\n",
      "yt : [INFO     ] 2022-07-13 19:26:45,330 Gathering a field list (this may take a moment.)\n",
      "yt : [WARNING  ] 2022-07-13 19:26:48,069 The stars particle filter already exists. Overriding.\n",
      "yt : [WARNING  ] 2022-07-13 19:26:48,070 The DM particle filter already exists. Overriding.\n"
     ]
    },
    {
     "name": "stdout",
     "output_type": "stream",
     "text": [
      "Pulling halo center from catalog file\n",
      "Opening snapshot /Volumes/TempestTimeSteps/DD2347/DD2347\n"
     ]
    },
    {
     "name": "stderr",
     "output_type": "stream",
     "text": [
      "yt : [INFO     ] 2022-07-13 19:26:48,267 Parameters: current_time              = 619.56652781829\n",
      "yt : [INFO     ] 2022-07-13 19:26:48,270 Parameters: domain_dimensions         = [256 256 256]\n",
      "yt : [INFO     ] 2022-07-13 19:26:48,273 Parameters: domain_left_edge          = [0. 0. 0.]\n",
      "yt : [INFO     ] 2022-07-13 19:26:48,275 Parameters: domain_right_edge         = [1. 1. 1.]\n",
      "yt : [INFO     ] 2022-07-13 19:26:48,276 Parameters: cosmological_simulation   = 1\n",
      "yt : [INFO     ] 2022-07-13 19:26:48,277 Parameters: current_redshift          = 0.031069228461955\n",
      "yt : [INFO     ] 2022-07-13 19:26:48,277 Parameters: omega_lambda              = 0.715\n",
      "yt : [INFO     ] 2022-07-13 19:26:48,278 Parameters: omega_matter              = 0.285\n",
      "yt : [INFO     ] 2022-07-13 19:26:48,279 Parameters: omega_radiation           = 0\n",
      "yt : [INFO     ] 2022-07-13 19:26:48,279 Parameters: hubble_constant           = 0.695\n"
     ]
    },
    {
     "name": "stdout",
     "output_type": "stream",
     "text": [
      "get_refine_box: using this location:        col1         col2     col3     col4     col5     col6     col7   col8\n",
      "----------------- -------- -------- -------- -------- -------- -------- ----\n",
      "0.031078880102952 0.488974 0.470782 0.508341 0.490974 0.472782 0.510341    9\n"
     ]
    },
    {
     "name": "stderr",
     "output_type": "stream",
     "text": [
      "Parsing Hierarchy : 100%|████████████████| 4414/4414 [00:00<00:00, 18127.83it/s]\n",
      "yt : [INFO     ] 2022-07-13 19:26:48,709 Gathering a field list (this may take a moment.)\n",
      "yt : [WARNING  ] 2022-07-13 19:26:51,369 The stars particle filter already exists. Overriding.\n",
      "yt : [WARNING  ] 2022-07-13 19:26:51,370 The DM particle filter already exists. Overriding.\n"
     ]
    },
    {
     "name": "stdout",
     "output_type": "stream",
     "text": [
      "Pulling halo center from catalog file\n",
      "Opening snapshot /Volumes/TempestTimeSteps/DD2367/DD2367\n"
     ]
    },
    {
     "name": "stderr",
     "output_type": "stream",
     "text": [
      "yt : [INFO     ] 2022-07-13 19:26:51,546 Parameters: current_time              = 624.56652781829\n",
      "yt : [INFO     ] 2022-07-13 19:26:51,549 Parameters: domain_dimensions         = [256 256 256]\n",
      "yt : [INFO     ] 2022-07-13 19:26:51,553 Parameters: domain_left_edge          = [0. 0. 0.]\n",
      "yt : [INFO     ] 2022-07-13 19:26:51,556 Parameters: domain_right_edge         = [1. 1. 1.]\n",
      "yt : [INFO     ] 2022-07-13 19:26:51,557 Parameters: cosmological_simulation   = 1\n",
      "yt : [INFO     ] 2022-07-13 19:26:51,558 Parameters: current_redshift          = 0.023118635482115\n",
      "yt : [INFO     ] 2022-07-13 19:26:51,559 Parameters: omega_lambda              = 0.715\n",
      "yt : [INFO     ] 2022-07-13 19:26:51,559 Parameters: omega_matter              = 0.285\n",
      "yt : [INFO     ] 2022-07-13 19:26:51,560 Parameters: omega_radiation           = 0\n",
      "yt : [INFO     ] 2022-07-13 19:26:51,561 Parameters: hubble_constant           = 0.695\n"
     ]
    },
    {
     "name": "stdout",
     "output_type": "stream",
     "text": [
      "get_refine_box: using this location:        col1         col2     col3     col4     col5     col6     col7   col8\n",
      "----------------- -------- -------- -------- -------- -------- -------- ----\n",
      "0.023131670035277 0.488947 0.470663 0.508391 0.490947 0.472663 0.510391    9\n"
     ]
    },
    {
     "name": "stderr",
     "output_type": "stream",
     "text": [
      "Parsing Hierarchy : 100%|████████████████| 4336/4336 [00:00<00:00, 18848.40it/s]\n",
      "yt : [INFO     ] 2022-07-13 19:26:51,985 Gathering a field list (this may take a moment.)\n",
      "yt : [WARNING  ] 2022-07-13 19:26:54,648 The stars particle filter already exists. Overriding.\n",
      "yt : [WARNING  ] 2022-07-13 19:26:54,649 The DM particle filter already exists. Overriding.\n"
     ]
    },
    {
     "name": "stdout",
     "output_type": "stream",
     "text": [
      "Pulling halo center from catalog file\n",
      "Opening snapshot /Volumes/TempestTimeSteps/DD2387/DD2387\n"
     ]
    },
    {
     "name": "stderr",
     "output_type": "stream",
     "text": [
      "yt : [INFO     ] 2022-07-13 19:26:54,843 Parameters: current_time              = 629.56652781829\n",
      "yt : [INFO     ] 2022-07-13 19:26:54,846 Parameters: domain_dimensions         = [256 256 256]\n",
      "yt : [INFO     ] 2022-07-13 19:26:54,849 Parameters: domain_left_edge          = [0. 0. 0.]\n",
      "yt : [INFO     ] 2022-07-13 19:26:54,851 Parameters: domain_right_edge         = [1. 1. 1.]\n",
      "yt : [INFO     ] 2022-07-13 19:26:54,852 Parameters: cosmological_simulation   = 1\n",
      "yt : [INFO     ] 2022-07-13 19:26:54,852 Parameters: current_redshift          = 0.015267938588785\n",
      "yt : [INFO     ] 2022-07-13 19:26:54,853 Parameters: omega_lambda              = 0.715\n",
      "yt : [INFO     ] 2022-07-13 19:26:54,854 Parameters: omega_matter              = 0.285\n",
      "yt : [INFO     ] 2022-07-13 19:26:54,854 Parameters: omega_radiation           = 0\n",
      "yt : [INFO     ] 2022-07-13 19:26:54,856 Parameters: hubble_constant           = 0.695\n"
     ]
    },
    {
     "name": "stdout",
     "output_type": "stream",
     "text": [
      "get_refine_box: using this location:        col1         col2     col3     col4    col5     col6     col7  col8\n",
      "----------------- -------- -------- ------- -------- -------- ------- ----\n",
      "0.015272898578656 0.488921 0.470547 0.50844 0.490921 0.472547 0.51044    9\n"
     ]
    },
    {
     "name": "stderr",
     "output_type": "stream",
     "text": [
      "Parsing Hierarchy : 100%|████████████████| 4456/4456 [00:00<00:00, 17365.07it/s]\n",
      "yt : [INFO     ] 2022-07-13 19:26:55,310 Gathering a field list (this may take a moment.)\n",
      "yt : [WARNING  ] 2022-07-13 19:26:58,024 The stars particle filter already exists. Overriding.\n",
      "yt : [WARNING  ] 2022-07-13 19:26:58,025 The DM particle filter already exists. Overriding.\n"
     ]
    },
    {
     "name": "stdout",
     "output_type": "stream",
     "text": [
      "Pulling halo center from catalog file\n",
      "Opening snapshot /Volumes/TempestTimeSteps/DD2407/DD2407\n"
     ]
    },
    {
     "name": "stderr",
     "output_type": "stream",
     "text": [
      "yt : [INFO     ] 2022-07-13 19:26:58,243 Parameters: current_time              = 634.56652781829\n",
      "yt : [INFO     ] 2022-07-13 19:26:58,245 Parameters: domain_dimensions         = [256 256 256]\n",
      "yt : [INFO     ] 2022-07-13 19:26:58,248 Parameters: domain_left_edge          = [0. 0. 0.]\n",
      "yt : [INFO     ] 2022-07-13 19:26:58,250 Parameters: domain_right_edge         = [1. 1. 1.]\n",
      "yt : [INFO     ] 2022-07-13 19:26:58,251 Parameters: cosmological_simulation   = 1\n",
      "yt : [INFO     ] 2022-07-13 19:26:58,251 Parameters: current_redshift          = 0.0074866626587569\n",
      "yt : [INFO     ] 2022-07-13 19:26:58,252 Parameters: omega_lambda              = 0.715\n",
      "yt : [INFO     ] 2022-07-13 19:26:58,253 Parameters: omega_matter              = 0.285\n",
      "yt : [INFO     ] 2022-07-13 19:26:58,254 Parameters: omega_radiation           = 0\n",
      "yt : [INFO     ] 2022-07-13 19:26:58,254 Parameters: hubble_constant           = 0.695\n"
     ]
    },
    {
     "name": "stdout",
     "output_type": "stream",
     "text": [
      "get_refine_box: using this location:        col1          col2     col3     col4    col5     col6     col7  col8\n",
      "------------------ -------- -------- ------- -------- -------- ------- ----\n",
      "0.0075008503160188 0.488892 0.470431 0.50849 0.490892 0.472431 0.51049    9\n"
     ]
    },
    {
     "name": "stderr",
     "output_type": "stream",
     "text": [
      "Parsing Hierarchy : 100%|████████████████| 4394/4394 [00:00<00:00, 17896.63it/s]\n",
      "yt : [INFO     ] 2022-07-13 19:26:58,698 Gathering a field list (this may take a moment.)\n",
      "yt : [WARNING  ] 2022-07-13 19:27:01,520 The stars particle filter already exists. Overriding.\n",
      "yt : [WARNING  ] 2022-07-13 19:27:01,521 The DM particle filter already exists. Overriding.\n"
     ]
    },
    {
     "name": "stdout",
     "output_type": "stream",
     "text": [
      "Pulling halo center from catalog file\n",
      "Opening snapshot /Volumes/TempestTimeSteps/DD2427/DD2427\n"
     ]
    },
    {
     "name": "stderr",
     "output_type": "stream",
     "text": [
      "yt : [INFO     ] 2022-07-13 19:27:01,734 Parameters: current_time              = 639.44480357087\n",
      "yt : [INFO     ] 2022-07-13 19:27:01,737 Parameters: domain_dimensions         = [256 256 256]\n",
      "yt : [INFO     ] 2022-07-13 19:27:01,740 Parameters: domain_left_edge          = [0. 0. 0.]\n",
      "yt : [INFO     ] 2022-07-13 19:27:01,742 Parameters: domain_right_edge         = [1. 1. 1.]\n",
      "yt : [INFO     ] 2022-07-13 19:27:01,743 Parameters: cosmological_simulation   = 1\n",
      "yt : [INFO     ] 2022-07-13 19:27:01,744 Parameters: current_redshift          = 0\n",
      "yt : [INFO     ] 2022-07-13 19:27:01,744 Parameters: omega_lambda              = 0.715\n",
      "yt : [INFO     ] 2022-07-13 19:27:01,745 Parameters: omega_matter              = 0.285\n",
      "yt : [INFO     ] 2022-07-13 19:27:01,745 Parameters: omega_radiation           = 0\n",
      "yt : [INFO     ] 2022-07-13 19:27:01,746 Parameters: hubble_constant           = 0.695\n"
     ]
    },
    {
     "name": "stdout",
     "output_type": "stream",
     "text": [
      "get_refine_box: using this location:         col1          col2     col3     col4    col5     col6     col7  col8\n",
      "------------------- -------- -------- ------- -------- -------- ------- ----\n",
      "4.4408920985006e-16 0.488865 0.470316 0.50854 0.490865 0.472316 0.51054    9\n"
     ]
    },
    {
     "name": "stderr",
     "output_type": "stream",
     "text": [
      "Parsing Hierarchy : 100%|████████████████| 4262/4262 [00:00<00:00, 17416.96it/s]\n",
      "yt : [INFO     ] 2022-07-13 19:27:02,192 Gathering a field list (this may take a moment.)\n"
     ]
    },
    {
     "name": "stdout",
     "output_type": "stream",
     "text": [
      "Pulling halo center from catalog file\n",
      "SUCCESS!\n"
     ]
    }
   ],
   "source": [
    "\"\"\"\n",
    "Now, run through ALL the files with star data in the hard drive. This should take a while.\n",
    "\"\"\"\n",
    "\n",
    "halo = 'Tempest'\n",
    "hnum = '008508'\n",
    "\n",
    "halo_c_v_name = '/Users/bnguyen/FOGGIE/foggie/halo_infos/'+hnum+'/nref11c_nref9f/halo_c_v'\n",
    "trackname = '/Users/bnguyen/FOGGIE/foggie/halo_tracks/'+hnum+'/nref11n_selfshield_15/halo_track_200kpc_nref9'\n",
    "masses_dir = '/Users/bnguyen/FOGGIE/foggie/halo_infos/'+hnum+'/nref11c_nref9f/'\n",
    "\n",
    "def StarParts(pfilter, data):\n",
    "    return data[(\"all\", \"particle_type\")] == 2 # only grab star particles\n",
    "\n",
    "def DMParts(pfilter, data):\n",
    "    return data[(\"all\", \"particle_type\")] == 4 # only grab DM particles\n",
    "\n",
    "all_snaps = np.array([], dtype='object')\n",
    "all_time_idx = np.array([], dtype='object')\n",
    "\n",
    "for snap_name in tslist:\n",
    "    add_particle_filter(\"stars\", function=StarParts, filtered_type='all', requires=[\"particle_type\"])\n",
    "    add_particle_filter(\"DM\", function=DMParts, filtered_type='all', requires=[\"particle_type\"])\n",
    "    ds, region = fog.foggie_load(snap_name, trackname, find_halo_center=True, halo_c_v_name=halo_c_v_name, disk_relative=False, \\\n",
    "                                particle_type_for_angmom='young_stars', do_filter_particles=False, gravity=False,\\\n",
    "                                region='refine_box',masses_dir=masses_dir)\n",
    "    ds.add_particle_filter('stars')\n",
    "    ds.add_particle_filter('DM')\n",
    "    \n",
    "    snapend = snap_name[-6:]\n",
    "#    print(snapend)\n",
    "    time_idx = timestep_index(sim, snapend)\n",
    "    ads = ds.all_data()\n",
    "    all_snaps = np.append(all_snaps, ds)\n",
    "    all_time_idx = np.append(all_time_idx, time_idx)\n",
    "    \n",
    "print('SUCCESS!')"
   ]
  },
  {
   "cell_type": "code",
   "execution_count": 6,
   "id": "55ec788b",
   "metadata": {},
   "outputs": [
    {
     "name": "stdout",
     "output_type": "stream",
     "text": [
      "[<Halo 'Tempest.9f11c.all.DD/DD2427/DD2427/halo_21' | NDM=517 Nstar=0 Ngas=0>\n",
      " <Halo 'Tempest.9f11c.all.DD/DD2427/DD2427/halo_109' | NDM=84 Nstar=0 Ngas=0>\n",
      " <Halo 'Tempest.9f11c.all.DD/DD2427/DD2427/halo_51' | NDM=182 Nstar=0 Ngas=0>]\n"
     ]
    }
   ],
   "source": [
    "all_sats = sim[-1][1].calculate('Satellites()')\n",
    "\n",
    "sats = np.array([], dtype='object')\n",
    "starry_idx = np.array([21, 51, 109], dtype='object')\n",
    "\n",
    "for i in range(np.size(all_sats)):\n",
    "    if all_sats[i].halo_number in starry_idx:\n",
    "        sats = np.append(sats, all_sats[i]) # this ensures we're only checking for the verified starry halos\n",
    "        \n",
    "print(sats)"
   ]
  },
  {
   "cell_type": "code",
   "execution_count": 7,
   "id": "f0ab36b2",
   "metadata": {},
   "outputs": [
    {
     "name": "stdout",
     "output_type": "stream",
     "text": [
      "Success!\n"
     ]
    }
   ],
   "source": [
    "\"\"\"\n",
    "First, we find all the properties of the progenitors \n",
    "for the star-forming surviving satellites.\n",
    "\"\"\"\n",
    "\n",
    "all_sat_cen = []\n",
    "all_sat_rvir = []\n",
    "all_sat_t = []\n",
    "\n",
    "for sat_idx in starry_idx:\n",
    "    if isinstance(sim[-1][sat_idx], type(None)) is False:\n",
    "        mvir, cen, rvir, t = sim[-1][sat_idx].calculate_for_progenitors('Mvir', 'Center', 'Rvir', 't()')\n",
    "\n",
    "        all_sat_cen.append(cen) # this compiles an array of all the progenitors' centers\n",
    "        all_sat_rvir.append(rvir) # this compiles an array of all the progenitors' virial radii\n",
    "        all_sat_t.append(t)\n",
    "\n",
    "all_sat_cen = np.array(all_sat_cen, dtype='object')\n",
    "all_sat_rvir = np.array(all_sat_rvir, dtype='object')\n",
    "all_sat_t = np.array(all_sat_t, dtype='object')\n",
    "\n",
    "print('Success!')"
   ]
  },
  {
   "cell_type": "code",
   "execution_count": 8,
   "id": "b4ac9b8d",
   "metadata": {
    "scrolled": false
   },
   "outputs": [
    {
     "name": "stdout",
     "output_type": "stream",
     "text": [
      "There are 130 timesteps available in the star hard drive.\n"
     ]
    }
   ],
   "source": [
    "\"\"\"\n",
    "Now, we have to ensure that all the progenitors line up with the available \n",
    "timesteps in the star hard drive. To do that, we first have to convert \n",
    "all the time indices from the star hard drive to actual time in Gyr.\n",
    "\"\"\"\n",
    "\n",
    "available_timesteps = np.zeros(np.size(all_time_idx))\n",
    "i = 0\n",
    "while i < np.size(all_time_idx):\n",
    "    available_timesteps[i] = sim[all_time_idx[i]].time_gyr\n",
    "    i += 1\n",
    "    \n",
    "print('There are', np.size(available_timesteps), 'timesteps available in the star hard drive.')"
   ]
  },
  {
   "cell_type": "code",
   "execution_count": 9,
   "id": "9f5cb951",
   "metadata": {},
   "outputs": [],
   "source": [
    "all_centers = []\n",
    "all_rvirs = []\n",
    "all_available_snaps = []\n",
    "\n",
    "for halo in range(np.size(starry_idx)):\n",
    "    each_halo_available_centers = []\n",
    "    each_halo_available_rvirs = []\n",
    "    each_halo_available_snaps = []\n",
    "    \n",
    "    # Now, we compare the times in the snapshots to the available timesteps \n",
    "    # in order to see how many snapshots are available in the star hard drive.\n",
    "    for time in available_timesteps:\n",
    "        center = all_sat_cen[halo][all_sat_t[halo] == time]\n",
    "        rvir = all_sat_rvir[halo][all_sat_t[halo] == time]\n",
    "        \n",
    "        if np.size(center) != 0 and np.size(rvir) != 0:\n",
    "            center = YTArray(center[0] * 1000, 'kpc')\n",
    "            rvir = YTQuantity(rvir[0], 'kpc')\n",
    "            \n",
    "            each_halo_available_centers.append(center)\n",
    "            each_halo_available_rvirs.append(rvir)\n",
    "            each_halo_available_snaps.append(all_snaps[available_timesteps == time][0])\n",
    "            \n",
    "    each_halo_available_centers = np.array(each_halo_available_centers, dtype='object')\n",
    "    each_halo_available_rvirs = np.array(each_halo_available_rvirs, dtype='object')\n",
    "    each_halo_available_snaps = np.array(each_halo_available_snaps, dtype='object')\n",
    "        \n",
    "    all_centers.append(each_halo_available_centers)\n",
    "    all_rvirs.append(each_halo_available_rvirs)\n",
    "    all_available_snaps.append(each_halo_available_snaps)\n",
    "    \n",
    "all_centers = np.array(all_centers, dtype='object')\n",
    "all_rvirs = np.array(all_rvirs, dtype='object')\n",
    "all_available_snaps = np.array(all_available_snaps, dtype='object')"
   ]
  },
  {
   "cell_type": "code",
   "execution_count": 10,
   "id": "251cdf66",
   "metadata": {},
   "outputs": [
    {
     "name": "stdout",
     "output_type": "stream",
     "text": [
      " For halo 21 there are 125 snaps in the hard drive.\n",
      " For halo 51 there are 123 snaps in the hard drive.\n",
      " For halo 109 there are 9  snaps in the hard drive.\n"
     ]
    }
   ],
   "source": [
    "print(' For halo', starry_idx[0], 'there are', np.size(all_available_snaps[0]), 'snaps in the hard drive.\\n', \\\n",
    "      'For halo', starry_idx[1], 'there are', np.size(all_available_snaps[1]), 'snaps in the hard drive.\\n', \\\n",
    "      'For halo', starry_idx[2], 'there are', np.size(all_available_snaps[2]), ' snaps in the hard drive.')"
   ]
  },
  {
   "cell_type": "code",
   "execution_count": 13,
   "id": "e04fd852",
   "metadata": {
    "scrolled": true
   },
   "outputs": [
    {
     "name": "stdout",
     "output_type": "stream",
     "text": [
      "Success!\n"
     ]
    },
    {
     "name": "stderr",
     "output_type": "stream",
     "text": [
      "/Users/bnguyen/.local/lib/python3.9/site-packages/unyt/array.py:558: VisibleDeprecationWarning: Creating an ndarray from ragged nested sequences (which is a list-or-tuple of lists-or-tuples-or ndarrays with different lengths or shapes) is deprecated. If you meant to do this, you must specify 'dtype=object' when creating the ndarray.\n",
      "  obj = np.asarray(input_array, dtype=dtype).view(cls)\n"
     ]
    }
   ],
   "source": [
    "\"\"\"\n",
    "Now, we go through each of the satellites and get their respective mass profiles.\n",
    "\"\"\"\n",
    "\n",
    "bin_size = YTQuantity(0.25, 'kpc') # 250 pc is the resolution of the simulation\n",
    "\n",
    "loc_allstars = []\n",
    "mass_allstars = []\n",
    "all_radius_arrays = []\n",
    "\n",
    "starry_rvir = []\n",
    "starry_cen = []\n",
    "starry_spheres = []\n",
    "\n",
    "for halo in range(np.size(starry_idx)):\n",
    "    each_halo_star_loc = []\n",
    "    each_halo_star_mass = []\n",
    "    each_halo_radius_arrays = []\n",
    "    \n",
    "    each_halo_rvir = []\n",
    "    each_halo_cen = []\n",
    "    each_halo_spheres = []\n",
    "    \n",
    "    # this goes through the halo at each timestep to find its Rvir and center position\n",
    "    for idx in range(np.size(all_rvirs[halo])):\n",
    "        each_cen = YTArray(all_centers[halo][idx], 'kpc')\n",
    "        each_rvir = YTQuantity(all_rvirs[halo][idx], 'kpc')\n",
    "        ds = all_available_snaps[halo][idx]\n",
    "            \n",
    "        # this uses yt to create spheres which contain the stars of each respective halo\n",
    "        halo_sphere = ds.sphere(center=each_cen,radius=each_rvir)\n",
    "        stars_loc = halo_sphere['stars','particle_position'].in_units('kpc')\n",
    "        corrected_stars_loc = stars_loc - each_cen # this places the halo center as the origin of its stars' coords\n",
    "        stars_mass = halo_sphere['stars','particle_mass'].in_units('Msun')\n",
    "        \n",
    "        if np.size(corrected_stars_loc) != 0:\n",
    "            radius_array = np.arange(YTQuantity(0.01, 'kpc'), each_rvir, bin_size)\n",
    "#            print(corrected_stars_loc)\n",
    "\n",
    "            # next, we add all the relevant star location and mass of the halo\n",
    "            # to some numpy arrays. this is meant to break down the for loop\n",
    "            # and help the code run faster.\n",
    "            each_halo_star_loc.append(corrected_stars_loc)\n",
    "            each_halo_star_mass.append(stars_mass)\n",
    "            each_halo_radius_arrays.append(radius_array)\n",
    "            \n",
    "            # finally, add the rvir and mvir into lists for later analyses\n",
    "            each_halo_rvir.append(each_rvir)\n",
    "            each_halo_cen.append(each_cen)\n",
    "            each_halo_spheres.append(halo_sphere)\n",
    "\n",
    "    loc_allstars.append(each_halo_star_loc)\n",
    "    mass_allstars.append(each_halo_star_mass)\n",
    "    all_radius_arrays.append(each_halo_spheres)\n",
    "    \n",
    "    starry_rvir.append(each_halo_rvir)\n",
    "    starry_cen.append(each_halo_cen)\n",
    "    starry_spheres.append(each_halo_spheres)\n",
    "            \n",
    "# with everything done, we remove the irrelevant rvir and mvir (irrelevant as in \n",
    "# not containing stars) for convenience in the upcoming analyses.\n",
    "\n",
    "loc_allstars = np.array(loc_allstars, dtype='object')\n",
    "mass_allstars = np.array(mass_allstars, dtype='object')\n",
    "all_radius_arrays = np.array(all_radius_arrays, dtype='object')\n",
    "\n",
    "starry_rvir = np.array(starry_rvir, dtype='object')\n",
    "starry_cen = YTArray(starry_cen, 'kpc')\n",
    "starry_spheres = np.array(starry_spheres, dtype='object')\n",
    "\n",
    "print('Success!')"
   ]
  },
  {
   "cell_type": "code",
   "execution_count": 14,
   "id": "d52de371",
   "metadata": {
    "scrolled": false
   },
   "outputs": [
    {
     "ename": "AttributeError",
     "evalue": "'float' object has no attribute 'shape'",
     "output_type": "error",
     "traceback": [
      "\u001b[0;31m---------------------------------------------------------------------------\u001b[0m",
      "\u001b[0;31mAttributeError\u001b[0m                            Traceback (most recent call last)",
      "Input \u001b[0;32mIn [14]\u001b[0m, in \u001b[0;36m<cell line: 1>\u001b[0;34m()\u001b[0m\n\u001b[0;32m----> 1\u001b[0m \u001b[38;5;28;43mprint\u001b[39;49m\u001b[43m(\u001b[49m\u001b[43mstarry_cen\u001b[49m\u001b[43m)\u001b[49m\n",
      "File \u001b[0;32m~/.local/lib/python3.9/site-packages/unyt/array.py:589\u001b[0m, in \u001b[0;36munyt_array.__str__\u001b[0;34m(self)\u001b[0m\n\u001b[1;32m    588\u001b[0m \u001b[38;5;28;01mdef\u001b[39;00m \u001b[38;5;21m__str__\u001b[39m(\u001b[38;5;28mself\u001b[39m):\n\u001b[0;32m--> 589\u001b[0m     \u001b[38;5;28;01mreturn\u001b[39;00m \u001b[38;5;28;43mstr\u001b[39;49m\u001b[43m(\u001b[49m\u001b[38;5;28;43mself\u001b[39;49m\u001b[38;5;241;43m.\u001b[39;49m\u001b[43mview\u001b[49m\u001b[43m(\u001b[49m\u001b[43mnp\u001b[49m\u001b[38;5;241;43m.\u001b[39;49m\u001b[43mndarray\u001b[49m\u001b[43m)\u001b[49m\u001b[43m)\u001b[49m \u001b[38;5;241m+\u001b[39m \u001b[38;5;124m\"\u001b[39m\u001b[38;5;124m \u001b[39m\u001b[38;5;124m\"\u001b[39m \u001b[38;5;241m+\u001b[39m \u001b[38;5;28mstr\u001b[39m(\u001b[38;5;28mself\u001b[39m\u001b[38;5;241m.\u001b[39munits)\n",
      "File \u001b[0;32m~/miniconda3/lib/python3.9/site-packages/numpy/core/arrayprint.py:1592\u001b[0m, in \u001b[0;36m_array_str_implementation\u001b[0;34m(a, max_line_width, precision, suppress_small, array2string)\u001b[0m\n\u001b[1;32m   1586\u001b[0m \u001b[38;5;28;01mif\u001b[39;00m a\u001b[38;5;241m.\u001b[39mshape \u001b[38;5;241m==\u001b[39m ():\n\u001b[1;32m   1587\u001b[0m     \u001b[38;5;66;03m# obtain a scalar and call str on it, avoiding problems for subclasses\u001b[39;00m\n\u001b[1;32m   1588\u001b[0m     \u001b[38;5;66;03m# for which indexing with () returns a 0d instead of a scalar by using\u001b[39;00m\n\u001b[1;32m   1589\u001b[0m     \u001b[38;5;66;03m# ndarray's getindex. Also guard against recursive 0d object arrays.\u001b[39;00m\n\u001b[1;32m   1590\u001b[0m     \u001b[38;5;28;01mreturn\u001b[39;00m _guarded_repr_or_str(np\u001b[38;5;241m.\u001b[39mndarray\u001b[38;5;241m.\u001b[39m\u001b[38;5;21m__getitem__\u001b[39m(a, ()))\n\u001b[0;32m-> 1592\u001b[0m \u001b[38;5;28;01mreturn\u001b[39;00m \u001b[43marray2string\u001b[49m\u001b[43m(\u001b[49m\u001b[43ma\u001b[49m\u001b[43m,\u001b[49m\u001b[43m \u001b[49m\u001b[43mmax_line_width\u001b[49m\u001b[43m,\u001b[49m\u001b[43m \u001b[49m\u001b[43mprecision\u001b[49m\u001b[43m,\u001b[49m\u001b[43m \u001b[49m\u001b[43msuppress_small\u001b[49m\u001b[43m,\u001b[49m\u001b[43m \u001b[49m\u001b[38;5;124;43m'\u001b[39;49m\u001b[38;5;124;43m \u001b[39;49m\u001b[38;5;124;43m'\u001b[39;49m\u001b[43m,\u001b[49m\u001b[43m \u001b[49m\u001b[38;5;124;43m\"\u001b[39;49m\u001b[38;5;124;43m\"\u001b[39;49m\u001b[43m)\u001b[49m\n",
      "File \u001b[0;32m~/miniconda3/lib/python3.9/site-packages/numpy/core/arrayprint.py:736\u001b[0m, in \u001b[0;36marray2string\u001b[0;34m(a, max_line_width, precision, suppress_small, separator, prefix, style, formatter, threshold, edgeitems, sign, floatmode, suffix, legacy)\u001b[0m\n\u001b[1;32m    733\u001b[0m \u001b[38;5;28;01mif\u001b[39;00m a\u001b[38;5;241m.\u001b[39msize \u001b[38;5;241m==\u001b[39m \u001b[38;5;241m0\u001b[39m:\n\u001b[1;32m    734\u001b[0m     \u001b[38;5;28;01mreturn\u001b[39;00m \u001b[38;5;124m\"\u001b[39m\u001b[38;5;124m[]\u001b[39m\u001b[38;5;124m\"\u001b[39m\n\u001b[0;32m--> 736\u001b[0m \u001b[38;5;28;01mreturn\u001b[39;00m \u001b[43m_array2string\u001b[49m\u001b[43m(\u001b[49m\u001b[43ma\u001b[49m\u001b[43m,\u001b[49m\u001b[43m \u001b[49m\u001b[43moptions\u001b[49m\u001b[43m,\u001b[49m\u001b[43m \u001b[49m\u001b[43mseparator\u001b[49m\u001b[43m,\u001b[49m\u001b[43m \u001b[49m\u001b[43mprefix\u001b[49m\u001b[43m)\u001b[49m\n",
      "File \u001b[0;32m~/miniconda3/lib/python3.9/site-packages/numpy/core/arrayprint.py:513\u001b[0m, in \u001b[0;36m_recursive_guard.<locals>.decorating_function.<locals>.wrapper\u001b[0;34m(self, *args, **kwargs)\u001b[0m\n\u001b[1;32m    511\u001b[0m repr_running\u001b[38;5;241m.\u001b[39madd(key)\n\u001b[1;32m    512\u001b[0m \u001b[38;5;28;01mtry\u001b[39;00m:\n\u001b[0;32m--> 513\u001b[0m     \u001b[38;5;28;01mreturn\u001b[39;00m \u001b[43mf\u001b[49m\u001b[43m(\u001b[49m\u001b[38;5;28;43mself\u001b[39;49m\u001b[43m,\u001b[49m\u001b[43m \u001b[49m\u001b[38;5;241;43m*\u001b[39;49m\u001b[43margs\u001b[49m\u001b[43m,\u001b[49m\u001b[43m \u001b[49m\u001b[38;5;241;43m*\u001b[39;49m\u001b[38;5;241;43m*\u001b[39;49m\u001b[43mkwargs\u001b[49m\u001b[43m)\u001b[49m\n\u001b[1;32m    514\u001b[0m \u001b[38;5;28;01mfinally\u001b[39;00m:\n\u001b[1;32m    515\u001b[0m     repr_running\u001b[38;5;241m.\u001b[39mdiscard(key)\n",
      "File \u001b[0;32m~/miniconda3/lib/python3.9/site-packages/numpy/core/arrayprint.py:546\u001b[0m, in \u001b[0;36m_array2string\u001b[0;34m(a, options, separator, prefix)\u001b[0m\n\u001b[1;32m    543\u001b[0m \u001b[38;5;66;03m# skip over array(\u001b[39;00m\n\u001b[1;32m    544\u001b[0m next_line_prefix \u001b[38;5;241m+\u001b[39m\u001b[38;5;241m=\u001b[39m \u001b[38;5;124m\"\u001b[39m\u001b[38;5;124m \u001b[39m\u001b[38;5;124m\"\u001b[39m\u001b[38;5;241m*\u001b[39m\u001b[38;5;28mlen\u001b[39m(prefix)\n\u001b[0;32m--> 546\u001b[0m lst \u001b[38;5;241m=\u001b[39m \u001b[43m_formatArray\u001b[49m\u001b[43m(\u001b[49m\u001b[43ma\u001b[49m\u001b[43m,\u001b[49m\u001b[43m \u001b[49m\u001b[43mformat_function\u001b[49m\u001b[43m,\u001b[49m\u001b[43m \u001b[49m\u001b[43moptions\u001b[49m\u001b[43m[\u001b[49m\u001b[38;5;124;43m'\u001b[39;49m\u001b[38;5;124;43mlinewidth\u001b[39;49m\u001b[38;5;124;43m'\u001b[39;49m\u001b[43m]\u001b[49m\u001b[43m,\u001b[49m\n\u001b[1;32m    547\u001b[0m \u001b[43m                   \u001b[49m\u001b[43mnext_line_prefix\u001b[49m\u001b[43m,\u001b[49m\u001b[43m \u001b[49m\u001b[43mseparator\u001b[49m\u001b[43m,\u001b[49m\u001b[43m \u001b[49m\u001b[43moptions\u001b[49m\u001b[43m[\u001b[49m\u001b[38;5;124;43m'\u001b[39;49m\u001b[38;5;124;43medgeitems\u001b[39;49m\u001b[38;5;124;43m'\u001b[39;49m\u001b[43m]\u001b[49m\u001b[43m,\u001b[49m\n\u001b[1;32m    548\u001b[0m \u001b[43m                   \u001b[49m\u001b[43msummary_insert\u001b[49m\u001b[43m,\u001b[49m\u001b[43m \u001b[49m\u001b[43moptions\u001b[49m\u001b[43m[\u001b[49m\u001b[38;5;124;43m'\u001b[39;49m\u001b[38;5;124;43mlegacy\u001b[39;49m\u001b[38;5;124;43m'\u001b[39;49m\u001b[43m]\u001b[49m\u001b[43m)\u001b[49m\n\u001b[1;32m    549\u001b[0m \u001b[38;5;28;01mreturn\u001b[39;00m lst\n",
      "File \u001b[0;32m~/miniconda3/lib/python3.9/site-packages/numpy/core/arrayprint.py:889\u001b[0m, in \u001b[0;36m_formatArray\u001b[0;34m(a, format_function, line_width, next_line_prefix, separator, edge_items, summary_insert, legacy)\u001b[0m\n\u001b[1;32m    885\u001b[0m     \u001b[38;5;28;01mreturn\u001b[39;00m s\n\u001b[1;32m    887\u001b[0m \u001b[38;5;28;01mtry\u001b[39;00m:\n\u001b[1;32m    888\u001b[0m     \u001b[38;5;66;03m# invoke the recursive part with an initial index and prefix\u001b[39;00m\n\u001b[0;32m--> 889\u001b[0m     \u001b[38;5;28;01mreturn\u001b[39;00m \u001b[43mrecurser\u001b[49m\u001b[43m(\u001b[49m\u001b[43mindex\u001b[49m\u001b[38;5;241;43m=\u001b[39;49m\u001b[43m(\u001b[49m\u001b[43m)\u001b[49m\u001b[43m,\u001b[49m\n\u001b[1;32m    890\u001b[0m \u001b[43m                    \u001b[49m\u001b[43mhanging_indent\u001b[49m\u001b[38;5;241;43m=\u001b[39;49m\u001b[43mnext_line_prefix\u001b[49m\u001b[43m,\u001b[49m\n\u001b[1;32m    891\u001b[0m \u001b[43m                    \u001b[49m\u001b[43mcurr_width\u001b[49m\u001b[38;5;241;43m=\u001b[39;49m\u001b[43mline_width\u001b[49m\u001b[43m)\u001b[49m\n\u001b[1;32m    892\u001b[0m \u001b[38;5;28;01mfinally\u001b[39;00m:\n\u001b[1;32m    893\u001b[0m     \u001b[38;5;66;03m# recursive closures have a cyclic reference to themselves, which\u001b[39;00m\n\u001b[1;32m    894\u001b[0m     \u001b[38;5;66;03m# requires gc to collect (gh-10620). To avoid this problem, for\u001b[39;00m\n\u001b[1;32m    895\u001b[0m     \u001b[38;5;66;03m# performance and PyPy friendliness, we break the cycle:\u001b[39;00m\n\u001b[1;32m    896\u001b[0m     recurser \u001b[38;5;241m=\u001b[39m \u001b[38;5;28;01mNone\u001b[39;00m\n",
      "File \u001b[0;32m~/miniconda3/lib/python3.9/site-packages/numpy/core/arrayprint.py:845\u001b[0m, in \u001b[0;36m_formatArray.<locals>.recurser\u001b[0;34m(index, hanging_indent, curr_width)\u001b[0m\n\u001b[1;32m    842\u001b[0m         line \u001b[38;5;241m+\u001b[39m\u001b[38;5;241m=\u001b[39m separator\n\u001b[1;32m    844\u001b[0m \u001b[38;5;28;01mfor\u001b[39;00m i \u001b[38;5;129;01min\u001b[39;00m \u001b[38;5;28mrange\u001b[39m(trailing_items, \u001b[38;5;241m1\u001b[39m, \u001b[38;5;241m-\u001b[39m\u001b[38;5;241m1\u001b[39m):\n\u001b[0;32m--> 845\u001b[0m     word \u001b[38;5;241m=\u001b[39m \u001b[43mrecurser\u001b[49m\u001b[43m(\u001b[49m\u001b[43mindex\u001b[49m\u001b[43m \u001b[49m\u001b[38;5;241;43m+\u001b[39;49m\u001b[43m \u001b[49m\u001b[43m(\u001b[49m\u001b[38;5;241;43m-\u001b[39;49m\u001b[43mi\u001b[49m\u001b[43m,\u001b[49m\u001b[43m)\u001b[49m\u001b[43m,\u001b[49m\u001b[43m \u001b[49m\u001b[43mnext_hanging_indent\u001b[49m\u001b[43m,\u001b[49m\u001b[43m \u001b[49m\u001b[43mnext_width\u001b[49m\u001b[43m)\u001b[49m\n\u001b[1;32m    846\u001b[0m     s, line \u001b[38;5;241m=\u001b[39m _extendLine_pretty(\n\u001b[1;32m    847\u001b[0m         s, line, word, elem_width, hanging_indent, legacy)\n\u001b[1;32m    848\u001b[0m     line \u001b[38;5;241m+\u001b[39m\u001b[38;5;241m=\u001b[39m separator\n",
      "File \u001b[0;32m~/miniconda3/lib/python3.9/site-packages/numpy/core/arrayprint.py:799\u001b[0m, in \u001b[0;36m_formatArray.<locals>.recurser\u001b[0;34m(index, hanging_indent, curr_width)\u001b[0m\n\u001b[1;32m    796\u001b[0m axes_left \u001b[38;5;241m=\u001b[39m a\u001b[38;5;241m.\u001b[39mndim \u001b[38;5;241m-\u001b[39m axis\n\u001b[1;32m    798\u001b[0m \u001b[38;5;28;01mif\u001b[39;00m axes_left \u001b[38;5;241m==\u001b[39m \u001b[38;5;241m0\u001b[39m:\n\u001b[0;32m--> 799\u001b[0m     \u001b[38;5;28;01mreturn\u001b[39;00m \u001b[43mformat_function\u001b[49m\u001b[43m(\u001b[49m\u001b[43ma\u001b[49m\u001b[43m[\u001b[49m\u001b[43mindex\u001b[49m\u001b[43m]\u001b[49m\u001b[43m)\u001b[49m\n\u001b[1;32m    801\u001b[0m \u001b[38;5;66;03m# when recursing, add a space to align with the [ added, and reduce the\u001b[39;00m\n\u001b[1;32m    802\u001b[0m \u001b[38;5;66;03m# length of the line by 1\u001b[39;00m\n\u001b[1;32m    803\u001b[0m next_hanging_indent \u001b[38;5;241m=\u001b[39m hanging_indent \u001b[38;5;241m+\u001b[39m \u001b[38;5;124m'\u001b[39m\u001b[38;5;124m \u001b[39m\u001b[38;5;124m'\u001b[39m\n",
      "File \u001b[0;32m~/miniconda3/lib/python3.9/site-packages/numpy/core/arrayprint.py:395\u001b[0m, in \u001b[0;36m_object_format\u001b[0;34m(o)\u001b[0m\n\u001b[1;32m    393\u001b[0m \u001b[38;5;28;01melse\u001b[39;00m:\n\u001b[1;32m    394\u001b[0m     fmt \u001b[38;5;241m=\u001b[39m \u001b[38;5;124m'\u001b[39m\u001b[38;5;132;01m{!r}\u001b[39;00m\u001b[38;5;124m'\u001b[39m\n\u001b[0;32m--> 395\u001b[0m \u001b[38;5;28;01mreturn\u001b[39;00m \u001b[43mfmt\u001b[49m\u001b[38;5;241;43m.\u001b[39;49m\u001b[43mformat\u001b[49m\u001b[43m(\u001b[49m\u001b[43mo\u001b[49m\u001b[43m)\u001b[49m\n",
      "File \u001b[0;32m~/.local/lib/python3.9/site-packages/unyt/array.py:581\u001b[0m, in \u001b[0;36munyt_array.__repr__\u001b[0;34m(self)\u001b[0m\n\u001b[1;32m    580\u001b[0m \u001b[38;5;28;01mdef\u001b[39;00m \u001b[38;5;21m__repr__\u001b[39m(\u001b[38;5;28mself\u001b[39m):\n\u001b[0;32m--> 581\u001b[0m     rep \u001b[38;5;241m=\u001b[39m \u001b[38;5;28;43msuper\u001b[39;49m\u001b[43m(\u001b[49m\u001b[43munyt_array\u001b[49m\u001b[43m,\u001b[49m\u001b[43m \u001b[49m\u001b[38;5;28;43mself\u001b[39;49m\u001b[43m)\u001b[49m\u001b[38;5;241;43m.\u001b[39;49m\u001b[38;5;21;43m__repr__\u001b[39;49m\u001b[43m(\u001b[49m\u001b[43m)\u001b[49m\n\u001b[1;32m    582\u001b[0m     units_repr \u001b[38;5;241m=\u001b[39m \u001b[38;5;28mself\u001b[39m\u001b[38;5;241m.\u001b[39munits\u001b[38;5;241m.\u001b[39m\u001b[38;5;21m__repr__\u001b[39m()\n\u001b[1;32m    583\u001b[0m     \u001b[38;5;28;01mif\u001b[39;00m \u001b[38;5;124m\"\u001b[39m\u001b[38;5;124m=\u001b[39m\u001b[38;5;124m\"\u001b[39m \u001b[38;5;129;01min\u001b[39;00m rep:\n",
      "File \u001b[0;32m~/miniconda3/lib/python3.9/site-packages/numpy/core/arrayprint.py:1488\u001b[0m, in \u001b[0;36m_array_repr_implementation\u001b[0;34m(arr, max_line_width, precision, suppress_small, array2string)\u001b[0m\n\u001b[1;32m   1486\u001b[0m     lst \u001b[38;5;241m=\u001b[39m \u001b[38;5;28mrepr\u001b[39m(arr\u001b[38;5;241m.\u001b[39mitem())\n\u001b[1;32m   1487\u001b[0m \u001b[38;5;28;01melif\u001b[39;00m arr\u001b[38;5;241m.\u001b[39msize \u001b[38;5;241m>\u001b[39m \u001b[38;5;241m0\u001b[39m \u001b[38;5;129;01mor\u001b[39;00m arr\u001b[38;5;241m.\u001b[39mshape \u001b[38;5;241m==\u001b[39m (\u001b[38;5;241m0\u001b[39m,):\n\u001b[0;32m-> 1488\u001b[0m     lst \u001b[38;5;241m=\u001b[39m \u001b[43marray2string\u001b[49m\u001b[43m(\u001b[49m\u001b[43marr\u001b[49m\u001b[43m,\u001b[49m\u001b[43m \u001b[49m\u001b[43mmax_line_width\u001b[49m\u001b[43m,\u001b[49m\u001b[43m \u001b[49m\u001b[43mprecision\u001b[49m\u001b[43m,\u001b[49m\u001b[43m \u001b[49m\u001b[43msuppress_small\u001b[49m\u001b[43m,\u001b[49m\n\u001b[1;32m   1489\u001b[0m \u001b[43m                       \u001b[49m\u001b[38;5;124;43m'\u001b[39;49m\u001b[38;5;124;43m, \u001b[39;49m\u001b[38;5;124;43m'\u001b[39;49m\u001b[43m,\u001b[49m\u001b[43m \u001b[49m\u001b[43mprefix\u001b[49m\u001b[43m,\u001b[49m\u001b[43m \u001b[49m\u001b[43msuffix\u001b[49m\u001b[38;5;241;43m=\u001b[39;49m\u001b[43msuffix\u001b[49m\u001b[43m)\u001b[49m\n\u001b[1;32m   1490\u001b[0m \u001b[38;5;28;01melse\u001b[39;00m:  \u001b[38;5;66;03m# show zero-length shape unless it is (0,)\u001b[39;00m\n\u001b[1;32m   1491\u001b[0m     lst \u001b[38;5;241m=\u001b[39m \u001b[38;5;124m\"\u001b[39m\u001b[38;5;124m[], shape=\u001b[39m\u001b[38;5;132;01m%s\u001b[39;00m\u001b[38;5;124m\"\u001b[39m \u001b[38;5;241m%\u001b[39m (\u001b[38;5;28mrepr\u001b[39m(arr\u001b[38;5;241m.\u001b[39mshape),)\n",
      "File \u001b[0;32m~/miniconda3/lib/python3.9/site-packages/numpy/core/arrayprint.py:736\u001b[0m, in \u001b[0;36marray2string\u001b[0;34m(a, max_line_width, precision, suppress_small, separator, prefix, style, formatter, threshold, edgeitems, sign, floatmode, suffix, legacy)\u001b[0m\n\u001b[1;32m    733\u001b[0m \u001b[38;5;28;01mif\u001b[39;00m a\u001b[38;5;241m.\u001b[39msize \u001b[38;5;241m==\u001b[39m \u001b[38;5;241m0\u001b[39m:\n\u001b[1;32m    734\u001b[0m     \u001b[38;5;28;01mreturn\u001b[39;00m \u001b[38;5;124m\"\u001b[39m\u001b[38;5;124m[]\u001b[39m\u001b[38;5;124m\"\u001b[39m\n\u001b[0;32m--> 736\u001b[0m \u001b[38;5;28;01mreturn\u001b[39;00m \u001b[43m_array2string\u001b[49m\u001b[43m(\u001b[49m\u001b[43ma\u001b[49m\u001b[43m,\u001b[49m\u001b[43m \u001b[49m\u001b[43moptions\u001b[49m\u001b[43m,\u001b[49m\u001b[43m \u001b[49m\u001b[43mseparator\u001b[49m\u001b[43m,\u001b[49m\u001b[43m \u001b[49m\u001b[43mprefix\u001b[49m\u001b[43m)\u001b[49m\n",
      "File \u001b[0;32m~/miniconda3/lib/python3.9/site-packages/numpy/core/arrayprint.py:513\u001b[0m, in \u001b[0;36m_recursive_guard.<locals>.decorating_function.<locals>.wrapper\u001b[0;34m(self, *args, **kwargs)\u001b[0m\n\u001b[1;32m    511\u001b[0m repr_running\u001b[38;5;241m.\u001b[39madd(key)\n\u001b[1;32m    512\u001b[0m \u001b[38;5;28;01mtry\u001b[39;00m:\n\u001b[0;32m--> 513\u001b[0m     \u001b[38;5;28;01mreturn\u001b[39;00m \u001b[43mf\u001b[49m\u001b[43m(\u001b[49m\u001b[38;5;28;43mself\u001b[39;49m\u001b[43m,\u001b[49m\u001b[43m \u001b[49m\u001b[38;5;241;43m*\u001b[39;49m\u001b[43margs\u001b[49m\u001b[43m,\u001b[49m\u001b[43m \u001b[49m\u001b[38;5;241;43m*\u001b[39;49m\u001b[38;5;241;43m*\u001b[39;49m\u001b[43mkwargs\u001b[49m\u001b[43m)\u001b[49m\n\u001b[1;32m    514\u001b[0m \u001b[38;5;28;01mfinally\u001b[39;00m:\n\u001b[1;32m    515\u001b[0m     repr_running\u001b[38;5;241m.\u001b[39mdiscard(key)\n",
      "File \u001b[0;32m~/miniconda3/lib/python3.9/site-packages/numpy/core/arrayprint.py:546\u001b[0m, in \u001b[0;36m_array2string\u001b[0;34m(a, options, separator, prefix)\u001b[0m\n\u001b[1;32m    543\u001b[0m \u001b[38;5;66;03m# skip over array(\u001b[39;00m\n\u001b[1;32m    544\u001b[0m next_line_prefix \u001b[38;5;241m+\u001b[39m\u001b[38;5;241m=\u001b[39m \u001b[38;5;124m\"\u001b[39m\u001b[38;5;124m \u001b[39m\u001b[38;5;124m\"\u001b[39m\u001b[38;5;241m*\u001b[39m\u001b[38;5;28mlen\u001b[39m(prefix)\n\u001b[0;32m--> 546\u001b[0m lst \u001b[38;5;241m=\u001b[39m \u001b[43m_formatArray\u001b[49m\u001b[43m(\u001b[49m\u001b[43ma\u001b[49m\u001b[43m,\u001b[49m\u001b[43m \u001b[49m\u001b[43mformat_function\u001b[49m\u001b[43m,\u001b[49m\u001b[43m \u001b[49m\u001b[43moptions\u001b[49m\u001b[43m[\u001b[49m\u001b[38;5;124;43m'\u001b[39;49m\u001b[38;5;124;43mlinewidth\u001b[39;49m\u001b[38;5;124;43m'\u001b[39;49m\u001b[43m]\u001b[49m\u001b[43m,\u001b[49m\n\u001b[1;32m    547\u001b[0m \u001b[43m                   \u001b[49m\u001b[43mnext_line_prefix\u001b[49m\u001b[43m,\u001b[49m\u001b[43m \u001b[49m\u001b[43mseparator\u001b[49m\u001b[43m,\u001b[49m\u001b[43m \u001b[49m\u001b[43moptions\u001b[49m\u001b[43m[\u001b[49m\u001b[38;5;124;43m'\u001b[39;49m\u001b[38;5;124;43medgeitems\u001b[39;49m\u001b[38;5;124;43m'\u001b[39;49m\u001b[43m]\u001b[49m\u001b[43m,\u001b[49m\n\u001b[1;32m    548\u001b[0m \u001b[43m                   \u001b[49m\u001b[43msummary_insert\u001b[49m\u001b[43m,\u001b[49m\u001b[43m \u001b[49m\u001b[43moptions\u001b[49m\u001b[43m[\u001b[49m\u001b[38;5;124;43m'\u001b[39;49m\u001b[38;5;124;43mlegacy\u001b[39;49m\u001b[38;5;124;43m'\u001b[39;49m\u001b[43m]\u001b[49m\u001b[43m)\u001b[49m\n\u001b[1;32m    549\u001b[0m \u001b[38;5;28;01mreturn\u001b[39;00m lst\n",
      "File \u001b[0;32m~/miniconda3/lib/python3.9/site-packages/numpy/core/arrayprint.py:889\u001b[0m, in \u001b[0;36m_formatArray\u001b[0;34m(a, format_function, line_width, next_line_prefix, separator, edge_items, summary_insert, legacy)\u001b[0m\n\u001b[1;32m    885\u001b[0m     \u001b[38;5;28;01mreturn\u001b[39;00m s\n\u001b[1;32m    887\u001b[0m \u001b[38;5;28;01mtry\u001b[39;00m:\n\u001b[1;32m    888\u001b[0m     \u001b[38;5;66;03m# invoke the recursive part with an initial index and prefix\u001b[39;00m\n\u001b[0;32m--> 889\u001b[0m     \u001b[38;5;28;01mreturn\u001b[39;00m \u001b[43mrecurser\u001b[49m\u001b[43m(\u001b[49m\u001b[43mindex\u001b[49m\u001b[38;5;241;43m=\u001b[39;49m\u001b[43m(\u001b[49m\u001b[43m)\u001b[49m\u001b[43m,\u001b[49m\n\u001b[1;32m    890\u001b[0m \u001b[43m                    \u001b[49m\u001b[43mhanging_indent\u001b[49m\u001b[38;5;241;43m=\u001b[39;49m\u001b[43mnext_line_prefix\u001b[49m\u001b[43m,\u001b[49m\n\u001b[1;32m    891\u001b[0m \u001b[43m                    \u001b[49m\u001b[43mcurr_width\u001b[49m\u001b[38;5;241;43m=\u001b[39;49m\u001b[43mline_width\u001b[49m\u001b[43m)\u001b[49m\n\u001b[1;32m    892\u001b[0m \u001b[38;5;28;01mfinally\u001b[39;00m:\n\u001b[1;32m    893\u001b[0m     \u001b[38;5;66;03m# recursive closures have a cyclic reference to themselves, which\u001b[39;00m\n\u001b[1;32m    894\u001b[0m     \u001b[38;5;66;03m# requires gc to collect (gh-10620). To avoid this problem, for\u001b[39;00m\n\u001b[1;32m    895\u001b[0m     \u001b[38;5;66;03m# performance and PyPy friendliness, we break the cycle:\u001b[39;00m\n\u001b[1;32m    896\u001b[0m     recurser \u001b[38;5;241m=\u001b[39m \u001b[38;5;28;01mNone\u001b[39;00m\n",
      "File \u001b[0;32m~/miniconda3/lib/python3.9/site-packages/numpy/core/arrayprint.py:845\u001b[0m, in \u001b[0;36m_formatArray.<locals>.recurser\u001b[0;34m(index, hanging_indent, curr_width)\u001b[0m\n\u001b[1;32m    842\u001b[0m         line \u001b[38;5;241m+\u001b[39m\u001b[38;5;241m=\u001b[39m separator\n\u001b[1;32m    844\u001b[0m \u001b[38;5;28;01mfor\u001b[39;00m i \u001b[38;5;129;01min\u001b[39;00m \u001b[38;5;28mrange\u001b[39m(trailing_items, \u001b[38;5;241m1\u001b[39m, \u001b[38;5;241m-\u001b[39m\u001b[38;5;241m1\u001b[39m):\n\u001b[0;32m--> 845\u001b[0m     word \u001b[38;5;241m=\u001b[39m \u001b[43mrecurser\u001b[49m\u001b[43m(\u001b[49m\u001b[43mindex\u001b[49m\u001b[43m \u001b[49m\u001b[38;5;241;43m+\u001b[39;49m\u001b[43m \u001b[49m\u001b[43m(\u001b[49m\u001b[38;5;241;43m-\u001b[39;49m\u001b[43mi\u001b[49m\u001b[43m,\u001b[49m\u001b[43m)\u001b[49m\u001b[43m,\u001b[49m\u001b[43m \u001b[49m\u001b[43mnext_hanging_indent\u001b[49m\u001b[43m,\u001b[49m\u001b[43m \u001b[49m\u001b[43mnext_width\u001b[49m\u001b[43m)\u001b[49m\n\u001b[1;32m    846\u001b[0m     s, line \u001b[38;5;241m=\u001b[39m _extendLine_pretty(\n\u001b[1;32m    847\u001b[0m         s, line, word, elem_width, hanging_indent, legacy)\n\u001b[1;32m    848\u001b[0m     line \u001b[38;5;241m+\u001b[39m\u001b[38;5;241m=\u001b[39m separator\n",
      "File \u001b[0;32m~/miniconda3/lib/python3.9/site-packages/numpy/core/arrayprint.py:799\u001b[0m, in \u001b[0;36m_formatArray.<locals>.recurser\u001b[0;34m(index, hanging_indent, curr_width)\u001b[0m\n\u001b[1;32m    796\u001b[0m axes_left \u001b[38;5;241m=\u001b[39m a\u001b[38;5;241m.\u001b[39mndim \u001b[38;5;241m-\u001b[39m axis\n\u001b[1;32m    798\u001b[0m \u001b[38;5;28;01mif\u001b[39;00m axes_left \u001b[38;5;241m==\u001b[39m \u001b[38;5;241m0\u001b[39m:\n\u001b[0;32m--> 799\u001b[0m     \u001b[38;5;28;01mreturn\u001b[39;00m format_function(\u001b[43ma\u001b[49m\u001b[43m[\u001b[49m\u001b[43mindex\u001b[49m\u001b[43m]\u001b[49m)\n\u001b[1;32m    801\u001b[0m \u001b[38;5;66;03m# when recursing, add a space to align with the [ added, and reduce the\u001b[39;00m\n\u001b[1;32m    802\u001b[0m \u001b[38;5;66;03m# length of the line by 1\u001b[39;00m\n\u001b[1;32m    803\u001b[0m next_hanging_indent \u001b[38;5;241m=\u001b[39m hanging_indent \u001b[38;5;241m+\u001b[39m \u001b[38;5;124m'\u001b[39m\u001b[38;5;124m \u001b[39m\u001b[38;5;124m'\u001b[39m\n",
      "File \u001b[0;32m~/.local/lib/python3.9/site-packages/unyt/array.py:1627\u001b[0m, in \u001b[0;36munyt_array.__getitem__\u001b[0;34m(self, item)\u001b[0m\n\u001b[1;32m   1625\u001b[0m \u001b[38;5;28;01mdef\u001b[39;00m \u001b[38;5;21m__getitem__\u001b[39m(\u001b[38;5;28mself\u001b[39m, item):\n\u001b[1;32m   1626\u001b[0m     ret \u001b[38;5;241m=\u001b[39m \u001b[38;5;28msuper\u001b[39m(unyt_array, \u001b[38;5;28mself\u001b[39m)\u001b[38;5;241m.\u001b[39m\u001b[38;5;21m__getitem__\u001b[39m(item)\n\u001b[0;32m-> 1627\u001b[0m     \u001b[38;5;28;01mif\u001b[39;00m \u001b[43mret\u001b[49m\u001b[38;5;241;43m.\u001b[39;49m\u001b[43mshape\u001b[49m \u001b[38;5;241m==\u001b[39m ():\n\u001b[1;32m   1628\u001b[0m         \u001b[38;5;28;01mreturn\u001b[39;00m unyt_quantity(\n\u001b[1;32m   1629\u001b[0m             ret, \u001b[38;5;28mself\u001b[39m\u001b[38;5;241m.\u001b[39munits, bypass_validation\u001b[38;5;241m=\u001b[39m\u001b[38;5;28;01mTrue\u001b[39;00m, name\u001b[38;5;241m=\u001b[39m\u001b[38;5;28mself\u001b[39m\u001b[38;5;241m.\u001b[39mname\n\u001b[1;32m   1630\u001b[0m         )\n\u001b[1;32m   1631\u001b[0m     \u001b[38;5;28;01melse\u001b[39;00m:\n",
      "\u001b[0;31mAttributeError\u001b[0m: 'float' object has no attribute 'shape'"
     ]
    }
   ],
   "source": [
    "print(starry_cen)"
   ]
  },
  {
   "cell_type": "code",
   "execution_count": null,
   "id": "65dc2dea",
   "metadata": {},
   "outputs": [],
   "source": []
  }
 ],
 "metadata": {
  "kernelspec": {
   "display_name": "Python 3 (ipykernel)",
   "language": "python",
   "name": "python3"
  },
  "language_info": {
   "codemirror_mode": {
    "name": "ipython",
    "version": 3
   },
   "file_extension": ".py",
   "mimetype": "text/x-python",
   "name": "python",
   "nbconvert_exporter": "python",
   "pygments_lexer": "ipython3",
   "version": "3.9.13"
  }
 },
 "nbformat": 4,
 "nbformat_minor": 5
}
